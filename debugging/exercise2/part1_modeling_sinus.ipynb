{
 "cells": [
  {
   "cell_type": "code",
   "execution_count": null,
   "id": "650f1e15-9c88-447e-8e88-cad99eaa492a",
   "metadata": {},
   "outputs": [],
   "source": [
    "import sklearn\n",
    "print(sklearn.__file__)\n",
    "print(open(sklearn.__file__).readlines()[:2])\n",
    "assert \"yifrach was here\" in open(sklearn.__file__).read(100), \"\"\"This is not part of the exercise,\n",
    "so if this assertion fails, then please send Yifrach the print ASAP\"\"\""
   ]
  },
  {
   "cell_type": "markdown",
   "id": "ba38c848-954b-4e35-bfdc-74e08915ab8b",
   "metadata": {},
   "source": [
    "# Generating the data"
   ]
  },
  {
   "cell_type": "code",
   "execution_count": null,
   "id": "9847a2d3-6d53-4127-a972-67752bf28348",
   "metadata": {},
   "outputs": [],
   "source": [
    "import numpy as np\n",
    "import pandas as pd\n",
    "import joblib\n",
    "import matplotlib.pyplot as plt\n",
    "x = np.arange(0, 30, 0.000002)\n",
    "y = np.sin(x) + np.random.normal(size=x.shape[0], scale=0.4)\n",
    "\n",
    "data = pd.DataFrame({'x': x, 'y': y})\n",
    "\n",
    "data.plot.scatter('x', 'y', alpha=0.005)\n",
    "plt.plot(x, np.sin(x), color='red')"
   ]
  },
  {
   "cell_type": "markdown",
   "id": "576b4edc-1a4a-4aa3-9b19-294e88fa73bb",
   "metadata": {},
   "source": [
    "# Feature engineering"
   ]
  },
  {
   "cell_type": "code",
   "execution_count": null,
   "id": "ea5c0056-f793-442c-a9a0-c91f5985babb",
   "metadata": {},
   "outputs": [],
   "source": [
    "\n",
    "import math\n",
    "k = 6\n",
    "for i in range(1, k):\n",
    "    data[f'x{i}'] = (data['x'] % (math.pi * 2)) ** i\n",
    "features = [f'x{i}' for i in range(1, k)]\n"
   ]
  },
  {
   "cell_type": "markdown",
   "id": "f1240d73-e5a3-4ed7-8c43-285d9ae2a747",
   "metadata": {},
   "source": [
    "# Construct a linear model"
   ]
  },
  {
   "cell_type": "code",
   "execution_count": null,
   "id": "9388fe8c-0ede-49e9-8275-5efa16075c60",
   "metadata": {},
   "outputs": [],
   "source": [
    "from sklearn import linear_model\n",
    "reg = linear_model.LinearRegression()\n",
    "reg.fit(data[features], data[['y']])"
   ]
  },
  {
   "cell_type": "markdown",
   "id": "5922640e-dfc4-45f3-b3cf-9f398260a9ea",
   "metadata": {},
   "source": [
    "# Sanity check the model"
   ]
  },
  {
   "cell_type": "code",
   "execution_count": null,
   "id": "136d16fa-dae1-4f64-a6af-7ac3285bd00c",
   "metadata": {},
   "outputs": [],
   "source": [
    "import matplotlib.pyplot as plt"
   ]
  },
  {
   "cell_type": "code",
   "execution_count": null,
   "id": "46c2a7ad-3d79-4352-b860-68c4de5df33d",
   "metadata": {
    "tags": []
   },
   "outputs": [],
   "source": [
    "plt.plot(data['x'], reg.predict(data[features]))\n",
    "plt.plot(data['x'], np.sin(data['x']))"
   ]
  },
  {
   "cell_type": "code",
   "execution_count": null,
   "id": "9b11d65a-6111-4110-aa93-a337fc65b8ef",
   "metadata": {},
   "outputs": [],
   "source": [
    "from sklearn.model_selection import train_test_split\n",
    "from sklearn import linear_model"
   ]
  },
  {
   "cell_type": "markdown",
   "id": "5d9d36da-60fd-4b08-a192-03730a4f6a2f",
   "metadata": {},
   "source": [
    "# Assert that score improves as we increase the train set size from 20 to 80"
   ]
  },
  {
   "cell_type": "code",
   "execution_count": null,
   "id": "30c657f6-0802-48a8-9574-f43645e374ff",
   "metadata": {},
   "outputs": [],
   "source": [
    "data_sample = data.sample(n=100_000, random_state=123)"
   ]
  },
  {
   "cell_type": "code",
   "execution_count": null,
   "id": "ea7e85b0-66ec-42e7-bf6b-30a1c5c8079a",
   "metadata": {},
   "outputs": [],
   "source": [
    "def get_mean_score(train_size: int) -> float:\n",
    "    current_scores = []\n",
    "    for i in range(100):\n",
    "        X_train, X_test, y_train, y_test = train_test_split(data_sample, data_sample['y'], train_size=train_size,\n",
    "                                                            random_state=train_size * 100 + i)\n",
    "        reg = linear_model.LinearRegression()\n",
    "        reg.fit(X_train[features], y_train)\n",
    "        current_scores.append(reg.score(X_test[features], y_test))\n",
    "    return np.mean(current_scores)    "
   ]
  },
  {
   "cell_type": "code",
   "execution_count": null,
   "id": "51e1ff01-c7e5-42cd-a540-13340b34b1fa",
   "metadata": {},
   "outputs": [],
   "source": [
    "import joblib"
   ]
  },
  {
   "cell_type": "code",
   "execution_count": null,
   "id": "e653d73c-4c32-42c2-865a-37b87de4188b",
   "metadata": {},
   "outputs": [],
   "source": [
    "mean_scores = joblib.Parallel(n_jobs=4, backend='loky')(\n",
    "[joblib.delayed(get_mean_score)(train_size) for train_size in range(20, 80, 15)])"
   ]
  },
  {
   "cell_type": "code",
   "execution_count": null,
   "id": "5396c517-e69a-4084-8d6c-8337f8561a17",
   "metadata": {},
   "outputs": [],
   "source": [
    "# More training data should yield better scores (on average) on the test data\n",
    "assert pd.Series(mean_scores).round(3).is_monotonic_increasing"
   ]
  },
  {
   "cell_type": "markdown",
   "id": "458927c9-7baa-4dde-91eb-75c916d08c5e",
   "metadata": {},
   "source": [
    "# Try learning from the range [0, PI] to the range [PI, 2 * PI]"
   ]
  },
  {
   "cell_type": "code",
   "execution_count": null,
   "id": "2ddde6ab-c7a0-4aeb-9727-282cb16b2fc0",
   "metadata": {
    "tags": []
   },
   "outputs": [],
   "source": [
    "l = X_train, X_test, y_train, y_test = train_test_split(data, data['y'], train_size=0.8, random_state=123)\n",
    "# Let's if we can learn from the range [0, PI] to the range [PI, 2*PI]\n",
    "rows_to_drop_from_train = data.index[(data[\"x\"] % (2 * math.pi)).between(math.pi, 2 * math.pi)]\n",
    "X_train = X_train.drop(labels=rows_to_drop_from_train, errors='ignore')\n",
    "y_train = y_train.drop(labels=rows_to_drop_from_train, errors='ignore')\n",
    "X_test = X_test.loc[X_test.index.intersection(rows_to_drop_from_train)]\n",
    "y_test = y_test.loc[y_test.index.intersection(rows_to_drop_from_train)]"
   ]
  },
  {
   "cell_type": "code",
   "execution_count": null,
   "id": "2c9c83f1-df14-4af3-954a-e3791e303c12",
   "metadata": {},
   "outputs": [],
   "source": [
    "reg = linear_model.LinearRegression()\n",
    "reg.fit(X_train[features], y_train)"
   ]
  },
  {
   "cell_type": "code",
   "execution_count": null,
   "id": "3447a7bb-3d4a-4204-b96e-311a4d4db379",
   "metadata": {},
   "outputs": [],
   "source": [
    "# If in training we see only values in the range [0, PI], it can't be that the model generalizes well\n",
    "# to the range [PI, 2 * PI] - so we expect a really bad score on the test set\n",
    "assert reg.score(X_test[features], y_test) < 0"
   ]
  }
 ],
 "metadata": {
  "kernelspec": {
   "display_name": "Python 3 (ipykernel)",
   "language": "python",
   "name": "python3"
  },
  "language_info": {
   "codemirror_mode": {
    "name": "ipython",
    "version": 3
   },
   "file_extension": ".py",
   "mimetype": "text/x-python",
   "name": "python",
   "nbconvert_exporter": "python",
   "pygments_lexer": "ipython3",
   "version": "3.8.2"
  }
 },
 "nbformat": 4,
 "nbformat_minor": 5
}

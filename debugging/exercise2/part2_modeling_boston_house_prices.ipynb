{
 "cells": [
  {
   "cell_type": "code",
   "execution_count": null,
   "id": "76153a4e-7310-4b2f-93a0-83a1c06c0091",
   "metadata": {},
   "outputs": [],
   "source": [
    "import sklearn\n",
    "print(sklearn.__file__)\n",
    "print(open(sklearn.__file__).readlines()[:2])\n",
    "assert \"yifrach was here\" in open(sklearn.__file__).read(100), \"\"\"This is not part of the exercise,\n",
    "so if this assertion fails, then please send Yifrach the print ASAP\"\"\""
   ]
  },
  {
   "cell_type": "code",
   "execution_count": null,
   "id": "9a3b0c71-4268-4140-ac06-2a1a060517ea",
   "metadata": {
    "tags": []
   },
   "outputs": [],
   "source": [
    "import pandas as pd\n",
    "import sklearn.datasets\n",
    "import pathlib\n",
    "import numpy as np\n",
    "data_path = pathlib.Path(sklearn.datasets.__file__).parent /  'data/california_housing.csv'\n"
   ]
  },
  {
   "cell_type": "code",
   "execution_count": null,
   "id": "cedf5f9a-d9f6-4ea8-ae9b-086b0d64d367",
   "metadata": {},
   "outputs": [],
   "source": [
    "data = pd.read_csv(data_path)"
   ]
  },
  {
   "cell_type": "code",
   "execution_count": null,
   "id": "8824dcce-0a47-43b8-a67b-c0d380439a59",
   "metadata": {},
   "outputs": [],
   "source": [
    "TARGET = \"median_house_value\""
   ]
  },
  {
   "cell_type": "code",
   "execution_count": null,
   "id": "d476d86e-5e23-41c4-b4ae-a09770177afe",
   "metadata": {},
   "outputs": [],
   "source": [
    "from sklearn.model_selection import train_test_split\n"
   ]
  },
  {
   "cell_type": "code",
   "execution_count": null,
   "id": "0e8011d6-496e-4530-abd3-0362aee1a9e4",
   "metadata": {
    "tags": []
   },
   "outputs": [],
   "source": [
    "numeric_data = data.drop(columns=[\"ocean_proximity\"]).transform(\n",
    "    pd.to_numeric, errors='coerce', axis=0)\n",
    "# Rows without targets are useless for analysis\n",
    "numeric_data = numeric_data.dropna(subset=[TARGET])\n"
   ]
  },
  {
   "cell_type": "code",
   "execution_count": null,
   "id": "5981ee28-aa34-4261-8590-6183e414b9c8",
   "metadata": {},
   "outputs": [],
   "source": [
    "data_train, data_test, _, _ = train_test_split(numeric_data, numeric_data.index, train_size=0.6, random_state=123)\n",
    "data_train, data_test = data_train.copy(), data_test.copy()"
   ]
  },
  {
   "cell_type": "code",
   "execution_count": null,
   "id": "3104c01f-c279-4070-a275-2cfde37a5f32",
   "metadata": {},
   "outputs": [],
   "source": [
    "data_train[\"total_bedrooms\"] = data_train[\"total_bedrooms\"].fillna(data_train[\"total_bedrooms\"].mean())\n",
    "data_test[\"total_bedrooms\"] = data_test[\"total_bedrooms\"].fillna(data_train[\"total_bedrooms\"].mean())\n"
   ]
  },
  {
   "cell_type": "code",
   "execution_count": null,
   "id": "e5ad0b3b-f50e-48ba-987a-990206db7ae6",
   "metadata": {},
   "outputs": [],
   "source": [
    "from sklearn.neural_network import MLPRegressor"
   ]
  },
  {
   "cell_type": "code",
   "execution_count": null,
   "id": "83f16288-26a7-451f-bd0b-a9eb2b8c3727",
   "metadata": {},
   "outputs": [],
   "source": [
    "results = {}\n",
    "for layers_sizes in [(5,), (10,), (10, 10), (20, 10), (10, 20)]:\n",
    "    reg = MLPRegressor(hidden_layer_sizes=layers_sizes, max_iter=30)\n",
    "    reg.fit(data_train.drop(columns=[TARGET]), data_train[TARGET])\n",
    "    \n",
    "    for ocean_proximity, group in data[[\"ocean_proximity\"]].groupby(\"ocean_proximity\"):\n",
    "        relevant_test_data = data_test[data_test.index.isin(group.index)]\n",
    "        if not relevant_test_data.empty:\n",
    "            score = reg.score(relevant_test_data.drop(columns=[TARGET]), relevant_test_data[TARGET])\n",
    "            results.setdefault(ocean_proximity, {})[f\"layers={layers_sizes}\"] = score"
   ]
  },
  {
   "cell_type": "code",
   "execution_count": null,
   "id": "0acccc09-f062-4b22-a1e9-c8e9b0439909",
   "metadata": {},
   "outputs": [],
   "source": [
    "pd.DataFrame(results)[sorted(data[\"ocean_proximity\"].unique())]"
   ]
  },
  {
   "cell_type": "code",
   "execution_count": null,
   "id": "df492a3c-8d71-4969-a1d0-40bc4a2bf275",
   "metadata": {},
   "outputs": [],
   "source": [
    "from sklearn.cluster import k_means"
   ]
  },
  {
   "cell_type": "code",
   "execution_count": null,
   "id": "4d3bd0e6-298f-4263-a7b2-e4e8dd91eb48",
   "metadata": {},
   "outputs": [],
   "source": [
    "from sklearn.preprocessing import StandardScaler\n",
    "scaler= StandardScaler()\n",
    "scaler.fit(numeric_data.dropna())"
   ]
  },
  {
   "cell_type": "code",
   "execution_count": null,
   "id": "9b9f17ce-062a-401f-8bd7-fb40dbafcbfc",
   "metadata": {},
   "outputs": [],
   "source": [
    "clusters1 = k_means(scaler.transform(numeric_data.dropna()),\n",
    "                    n_clusters=5, random_state=123, max_iter=200)"
   ]
  },
  {
   "cell_type": "code",
   "execution_count": null,
   "id": "f08cee43-243e-4810-b014-3c8c4192fc52",
   "metadata": {},
   "outputs": [],
   "source": [
    "clusters2 = k_means(scaler.transform(numeric_data.dropna()), \n",
    "                    n_clusters=5, random_state=123, max_iter=200)"
   ]
  },
  {
   "cell_type": "code",
   "execution_count": null,
   "id": "5a2c5115-d887-4168-ae4b-702a2ab4e9dc",
   "metadata": {},
   "outputs": [],
   "source": [
    "# We used the same seed and same input - we expect the same result\n",
    "assert (clusters1[1] == clusters2[1]).all()"
   ]
  }
 ],
 "metadata": {
  "kernelspec": {
   "display_name": "Python 3 (ipykernel)",
   "language": "python",
   "name": "python3"
  },
  "language_info": {
   "codemirror_mode": {
    "name": "ipython",
    "version": 3
   },
   "file_extension": ".py",
   "mimetype": "text/x-python",
   "name": "python",
   "nbconvert_exporter": "python",
   "pygments_lexer": "ipython3",
   "version": "3.8.2"
  }
 },
 "nbformat": 4,
 "nbformat_minor": 5
}

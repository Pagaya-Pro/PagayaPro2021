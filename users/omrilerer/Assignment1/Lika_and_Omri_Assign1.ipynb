{
 "cells": [
  {
   "cell_type": "markdown",
   "metadata": {},
   "source": [
    "# Assignment objective"
   ]
  },
  {
   "cell_type": "markdown",
   "metadata": {},
   "source": [
    "We have data from Raleigh, NC, where we recently deployed a flyer program in order to increase public awareness of the possibility of taking a Pagaya loan. You objective is to assess the potency of the flyer program in terms of activation by analyzing production and TU data obtained from the town.\n"
   ]
  },
  {
   "cell_type": "markdown",
   "metadata": {},
   "source": [
    "# Basic imports "
   ]
  },
  {
   "cell_type": "code",
   "execution_count": 169,
   "metadata": {
    "tags": []
   },
   "outputs": [],
   "source": [
    "import pandas as pd\n",
    "import numpy as np\n",
    "import matplotlib.pyplot as plt\n",
    "import seaborn as sns\n",
    "import os"
   ]
  },
  {
   "cell_type": "markdown",
   "metadata": {},
   "source": [
    "# Data preparation"
   ]
  },
  {
   "cell_type": "markdown",
   "metadata": {},
   "source": [
    "## Data from TU "
   ]
  },
  {
   "cell_type": "markdown",
   "metadata": {},
   "source": [
    "To begin with, upload TUs credit information from the relevant quarter (which is 2018Q3). This data is available in our `s3` path under the name `tu_gen_data2018Q3.parquet`. To get to our `s3` path import `DATA_FILES_PATH` from `pagayapro.paths.data_paths`"
   ]
  },
  {
   "cell_type": "code",
   "execution_count": 170,
   "metadata": {
    "tags": []
   },
   "outputs": [],
   "source": [
    "from pagayapro.paths.data_paths import DATA_FILES_PATH"
   ]
  },
  {
   "cell_type": "markdown",
   "metadata": {},
   "source": [
    "read the parquet file from `s3`. Only read the columns [\"sequence_num\", \"credit_score\", \"listing_term\", \"int_rate\", \"loan_amnt\", \"monthly_pmt\", \"original_state\"]"
   ]
  },
  {
   "cell_type": "code",
   "execution_count": 171,
   "metadata": {
    "tags": []
   },
   "outputs": [],
   "source": [
    "tu_data= pd.read_parquet(\n",
    "    os.path.join(DATA_FILES_PATH,\"tu_gen_data_2018Q3.parquet\"),\n",
    "                columns = [\"sequence_num\", \"credit_score\", \n",
    "                           \"listing_term\", \"int_rate\" ,\n",
    "                           \"loan_amnt\", \"monthly_pmt\", \n",
    "                           \"original_state\"])"
   ]
  },
  {
   "cell_type": "code",
   "execution_count": 172,
   "metadata": {},
   "outputs": [],
   "source": [
    "tu_data['quan_credit'] = pd.qcut(tu_data['credit_score'], 10, labels=False)"
   ]
  },
  {
   "cell_type": "code",
   "execution_count": 173,
   "metadata": {},
   "outputs": [
    {
     "data": {
      "text/html": [
       "<div>\n",
       "<style scoped>\n",
       "    .dataframe tbody tr th:only-of-type {\n",
       "        vertical-align: middle;\n",
       "    }\n",
       "\n",
       "    .dataframe tbody tr th {\n",
       "        vertical-align: top;\n",
       "    }\n",
       "\n",
       "    .dataframe thead th {\n",
       "        text-align: right;\n",
       "    }\n",
       "</style>\n",
       "<table border=\"1\" class=\"dataframe\">\n",
       "  <thead>\n",
       "    <tr style=\"text-align: right;\">\n",
       "      <th></th>\n",
       "      <th>sequence_num</th>\n",
       "      <th>credit_score</th>\n",
       "      <th>listing_term</th>\n",
       "      <th>int_rate</th>\n",
       "      <th>loan_amnt</th>\n",
       "      <th>monthly_pmt</th>\n",
       "      <th>original_state</th>\n",
       "      <th>quan_credit</th>\n",
       "      <th>quan_loan_amnt</th>\n",
       "    </tr>\n",
       "    <tr>\n",
       "      <th>id</th>\n",
       "      <th></th>\n",
       "      <th></th>\n",
       "      <th></th>\n",
       "      <th></th>\n",
       "      <th></th>\n",
       "      <th></th>\n",
       "      <th></th>\n",
       "      <th></th>\n",
       "      <th></th>\n",
       "    </tr>\n",
       "  </thead>\n",
       "  <tbody>\n",
       "    <tr>\n",
       "      <th>adf5219e4cb985352184eb7fa597737e4a9777f7354f7a8a58270da147792561</th>\n",
       "      <td>d0820401b209782dae4284b3dd96b41e08c3e8566fbb33...</td>\n",
       "      <td>814</td>\n",
       "      <td>36.0</td>\n",
       "      <td>7.86</td>\n",
       "      <td>5500.0</td>\n",
       "      <td>172.0</td>\n",
       "      <td>MI</td>\n",
       "      <td>9</td>\n",
       "      <td>2</td>\n",
       "    </tr>\n",
       "    <tr>\n",
       "      <th>0a0f130443af4c6597bb074942970eaddeb125d398e2cca42175c56befc8a171</th>\n",
       "      <td>2f05cd66cb998e5e55f6f296344b271b2b89b996c7c037...</td>\n",
       "      <td>800</td>\n",
       "      <td>36.0</td>\n",
       "      <td>7.91</td>\n",
       "      <td>20000.0</td>\n",
       "      <td>626.0</td>\n",
       "      <td>NM</td>\n",
       "      <td>9</td>\n",
       "      <td>7</td>\n",
       "    </tr>\n",
       "    <tr>\n",
       "      <th>4ba9c6a38b650ee06b8b88a48621bd363cdf611e63400c6fc4bbffbd1bf20c47</th>\n",
       "      <td>20bdbfaf0006db032d8a4176add08fd4ef45abfb17c474...</td>\n",
       "      <td>653</td>\n",
       "      <td>36.0</td>\n",
       "      <td>30.51</td>\n",
       "      <td>3674.0</td>\n",
       "      <td>157.0</td>\n",
       "      <td>SD</td>\n",
       "      <td>2</td>\n",
       "      <td>1</td>\n",
       "    </tr>\n",
       "    <tr>\n",
       "      <th>dae3a344292e07d4b8935a453c37aef01303f21b2f37ccbd1c4408f158533acb</th>\n",
       "      <td>53084498c6bf053a4d1cf309e1b8ec234e503bb1a3dd4e...</td>\n",
       "      <td>623</td>\n",
       "      <td>60.0</td>\n",
       "      <td>23.46</td>\n",
       "      <td>14056.0</td>\n",
       "      <td>400.0</td>\n",
       "      <td>NC</td>\n",
       "      <td>1</td>\n",
       "      <td>8</td>\n",
       "    </tr>\n",
       "    <tr>\n",
       "      <th>8af2ae2462d012e4d85aa687a16a4f5fb64525928235da43c795f73dc0cadd04</th>\n",
       "      <td>f750c4ecac12ae1c156998ed3dff3f46d2d19f37250074...</td>\n",
       "      <td>627</td>\n",
       "      <td>60.0</td>\n",
       "      <td>25.55</td>\n",
       "      <td>8659.0</td>\n",
       "      <td>257.0</td>\n",
       "      <td>TN</td>\n",
       "      <td>1</td>\n",
       "      <td>6</td>\n",
       "    </tr>\n",
       "    <tr>\n",
       "      <th>...</th>\n",
       "      <td>...</td>\n",
       "      <td>...</td>\n",
       "      <td>...</td>\n",
       "      <td>...</td>\n",
       "      <td>...</td>\n",
       "      <td>...</td>\n",
       "      <td>...</td>\n",
       "      <td>...</td>\n",
       "      <td>...</td>\n",
       "    </tr>\n",
       "    <tr>\n",
       "      <th>1011850581661f8b9b43f009852877e85ebc30aa0a6c86d8603ecf8646d9f31d</th>\n",
       "      <td>1d572821ea818a0a3bb48a521335114caf2673fdd7522d...</td>\n",
       "      <td>751</td>\n",
       "      <td>36.0</td>\n",
       "      <td>10.91</td>\n",
       "      <td>20000.0</td>\n",
       "      <td>654.0</td>\n",
       "      <td>NC</td>\n",
       "      <td>8</td>\n",
       "      <td>7</td>\n",
       "    </tr>\n",
       "    <tr>\n",
       "      <th>bd0b26d176d0a9c2039723f02048a7989e85586374ab8d9a2b5b0529c2899f13</th>\n",
       "      <td>9dbf406d2d7eaf114ce61f742fb0954fd6e27e137b8203...</td>\n",
       "      <td>731</td>\n",
       "      <td>60.0</td>\n",
       "      <td>11.84</td>\n",
       "      <td>6000.0</td>\n",
       "      <td>133.0</td>\n",
       "      <td>NC</td>\n",
       "      <td>7</td>\n",
       "      <td>2</td>\n",
       "    </tr>\n",
       "    <tr>\n",
       "      <th>3503894d630dc781ebd68989e8ce8f53c7a7a842c56c2a0f51086ddc0d11ba32</th>\n",
       "      <td>8f3b75fab1a678c70823319a5fc580cc8e5309c30af5d8...</td>\n",
       "      <td>644</td>\n",
       "      <td>60.0</td>\n",
       "      <td>35.81</td>\n",
       "      <td>8358.0</td>\n",
       "      <td>301.0</td>\n",
       "      <td>NC</td>\n",
       "      <td>2</td>\n",
       "      <td>5</td>\n",
       "    </tr>\n",
       "    <tr>\n",
       "      <th>a1c93ebc516e6e3ed75d019327ed1a9bcbaa4cf553b6e413c6d32b92568092e6</th>\n",
       "      <td>19b4d8c632759f67f0788008b4b3c48f07951761dafa66...</td>\n",
       "      <td>637</td>\n",
       "      <td>36.0</td>\n",
       "      <td>10.39</td>\n",
       "      <td>11000.0</td>\n",
       "      <td>357.0</td>\n",
       "      <td>TX</td>\n",
       "      <td>1</td>\n",
       "      <td>7</td>\n",
       "    </tr>\n",
       "    <tr>\n",
       "      <th>3f8614e54615680691b87a25956125029d98bb441b052eee5310e483c17d9655</th>\n",
       "      <td>47eea1e4a0153ba95b4a568e88b9aba07fceee4ce64f27...</td>\n",
       "      <td>734</td>\n",
       "      <td>36.0</td>\n",
       "      <td>12.56</td>\n",
       "      <td>35000.0</td>\n",
       "      <td>1172.0</td>\n",
       "      <td>MI</td>\n",
       "      <td>7</td>\n",
       "      <td>9</td>\n",
       "    </tr>\n",
       "  </tbody>\n",
       "</table>\n",
       "<p>972723 rows × 9 columns</p>\n",
       "</div>"
      ],
      "text/plain": [
       "                                                                                         sequence_num  \\\n",
       "id                                                                                                      \n",
       "adf5219e4cb985352184eb7fa597737e4a9777f7354f7a8...  d0820401b209782dae4284b3dd96b41e08c3e8566fbb33...   \n",
       "0a0f130443af4c6597bb074942970eaddeb125d398e2cca...  2f05cd66cb998e5e55f6f296344b271b2b89b996c7c037...   \n",
       "4ba9c6a38b650ee06b8b88a48621bd363cdf611e63400c6...  20bdbfaf0006db032d8a4176add08fd4ef45abfb17c474...   \n",
       "dae3a344292e07d4b8935a453c37aef01303f21b2f37ccb...  53084498c6bf053a4d1cf309e1b8ec234e503bb1a3dd4e...   \n",
       "8af2ae2462d012e4d85aa687a16a4f5fb64525928235da4...  f750c4ecac12ae1c156998ed3dff3f46d2d19f37250074...   \n",
       "...                                                                                               ...   \n",
       "1011850581661f8b9b43f009852877e85ebc30aa0a6c86d...  1d572821ea818a0a3bb48a521335114caf2673fdd7522d...   \n",
       "bd0b26d176d0a9c2039723f02048a7989e85586374ab8d9...  9dbf406d2d7eaf114ce61f742fb0954fd6e27e137b8203...   \n",
       "3503894d630dc781ebd68989e8ce8f53c7a7a842c56c2a0...  8f3b75fab1a678c70823319a5fc580cc8e5309c30af5d8...   \n",
       "a1c93ebc516e6e3ed75d019327ed1a9bcbaa4cf553b6e41...  19b4d8c632759f67f0788008b4b3c48f07951761dafa66...   \n",
       "3f8614e54615680691b87a25956125029d98bb441b052ee...  47eea1e4a0153ba95b4a568e88b9aba07fceee4ce64f27...   \n",
       "\n",
       "                                                    credit_score  \\\n",
       "id                                                                 \n",
       "adf5219e4cb985352184eb7fa597737e4a9777f7354f7a8...           814   \n",
       "0a0f130443af4c6597bb074942970eaddeb125d398e2cca...           800   \n",
       "4ba9c6a38b650ee06b8b88a48621bd363cdf611e63400c6...           653   \n",
       "dae3a344292e07d4b8935a453c37aef01303f21b2f37ccb...           623   \n",
       "8af2ae2462d012e4d85aa687a16a4f5fb64525928235da4...           627   \n",
       "...                                                          ...   \n",
       "1011850581661f8b9b43f009852877e85ebc30aa0a6c86d...           751   \n",
       "bd0b26d176d0a9c2039723f02048a7989e85586374ab8d9...           731   \n",
       "3503894d630dc781ebd68989e8ce8f53c7a7a842c56c2a0...           644   \n",
       "a1c93ebc516e6e3ed75d019327ed1a9bcbaa4cf553b6e41...           637   \n",
       "3f8614e54615680691b87a25956125029d98bb441b052ee...           734   \n",
       "\n",
       "                                                    listing_term  int_rate  \\\n",
       "id                                                                           \n",
       "adf5219e4cb985352184eb7fa597737e4a9777f7354f7a8...          36.0      7.86   \n",
       "0a0f130443af4c6597bb074942970eaddeb125d398e2cca...          36.0      7.91   \n",
       "4ba9c6a38b650ee06b8b88a48621bd363cdf611e63400c6...          36.0     30.51   \n",
       "dae3a344292e07d4b8935a453c37aef01303f21b2f37ccb...          60.0     23.46   \n",
       "8af2ae2462d012e4d85aa687a16a4f5fb64525928235da4...          60.0     25.55   \n",
       "...                                                          ...       ...   \n",
       "1011850581661f8b9b43f009852877e85ebc30aa0a6c86d...          36.0     10.91   \n",
       "bd0b26d176d0a9c2039723f02048a7989e85586374ab8d9...          60.0     11.84   \n",
       "3503894d630dc781ebd68989e8ce8f53c7a7a842c56c2a0...          60.0     35.81   \n",
       "a1c93ebc516e6e3ed75d019327ed1a9bcbaa4cf553b6e41...          36.0     10.39   \n",
       "3f8614e54615680691b87a25956125029d98bb441b052ee...          36.0     12.56   \n",
       "\n",
       "                                                    loan_amnt  monthly_pmt  \\\n",
       "id                                                                           \n",
       "adf5219e4cb985352184eb7fa597737e4a9777f7354f7a8...     5500.0        172.0   \n",
       "0a0f130443af4c6597bb074942970eaddeb125d398e2cca...    20000.0        626.0   \n",
       "4ba9c6a38b650ee06b8b88a48621bd363cdf611e63400c6...     3674.0        157.0   \n",
       "dae3a344292e07d4b8935a453c37aef01303f21b2f37ccb...    14056.0        400.0   \n",
       "8af2ae2462d012e4d85aa687a16a4f5fb64525928235da4...     8659.0        257.0   \n",
       "...                                                       ...          ...   \n",
       "1011850581661f8b9b43f009852877e85ebc30aa0a6c86d...    20000.0        654.0   \n",
       "bd0b26d176d0a9c2039723f02048a7989e85586374ab8d9...     6000.0        133.0   \n",
       "3503894d630dc781ebd68989e8ce8f53c7a7a842c56c2a0...     8358.0        301.0   \n",
       "a1c93ebc516e6e3ed75d019327ed1a9bcbaa4cf553b6e41...    11000.0        357.0   \n",
       "3f8614e54615680691b87a25956125029d98bb441b052ee...    35000.0       1172.0   \n",
       "\n",
       "                                                   original_state  \\\n",
       "id                                                                  \n",
       "adf5219e4cb985352184eb7fa597737e4a9777f7354f7a8...             MI   \n",
       "0a0f130443af4c6597bb074942970eaddeb125d398e2cca...             NM   \n",
       "4ba9c6a38b650ee06b8b88a48621bd363cdf611e63400c6...             SD   \n",
       "dae3a344292e07d4b8935a453c37aef01303f21b2f37ccb...             NC   \n",
       "8af2ae2462d012e4d85aa687a16a4f5fb64525928235da4...             TN   \n",
       "...                                                           ...   \n",
       "1011850581661f8b9b43f009852877e85ebc30aa0a6c86d...             NC   \n",
       "bd0b26d176d0a9c2039723f02048a7989e85586374ab8d9...             NC   \n",
       "3503894d630dc781ebd68989e8ce8f53c7a7a842c56c2a0...             NC   \n",
       "a1c93ebc516e6e3ed75d019327ed1a9bcbaa4cf553b6e41...             TX   \n",
       "3f8614e54615680691b87a25956125029d98bb441b052ee...             MI   \n",
       "\n",
       "                                                    quan_credit  \\\n",
       "id                                                                \n",
       "adf5219e4cb985352184eb7fa597737e4a9777f7354f7a8...            9   \n",
       "0a0f130443af4c6597bb074942970eaddeb125d398e2cca...            9   \n",
       "4ba9c6a38b650ee06b8b88a48621bd363cdf611e63400c6...            2   \n",
       "dae3a344292e07d4b8935a453c37aef01303f21b2f37ccb...            1   \n",
       "8af2ae2462d012e4d85aa687a16a4f5fb64525928235da4...            1   \n",
       "...                                                         ...   \n",
       "1011850581661f8b9b43f009852877e85ebc30aa0a6c86d...            8   \n",
       "bd0b26d176d0a9c2039723f02048a7989e85586374ab8d9...            7   \n",
       "3503894d630dc781ebd68989e8ce8f53c7a7a842c56c2a0...            2   \n",
       "a1c93ebc516e6e3ed75d019327ed1a9bcbaa4cf553b6e41...            1   \n",
       "3f8614e54615680691b87a25956125029d98bb441b052ee...            7   \n",
       "\n",
       "                                                    quan_loan_amnt  \n",
       "id                                                                  \n",
       "adf5219e4cb985352184eb7fa597737e4a9777f7354f7a8...               2  \n",
       "0a0f130443af4c6597bb074942970eaddeb125d398e2cca...               7  \n",
       "4ba9c6a38b650ee06b8b88a48621bd363cdf611e63400c6...               1  \n",
       "dae3a344292e07d4b8935a453c37aef01303f21b2f37ccb...               8  \n",
       "8af2ae2462d012e4d85aa687a16a4f5fb64525928235da4...               6  \n",
       "...                                                            ...  \n",
       "1011850581661f8b9b43f009852877e85ebc30aa0a6c86d...               7  \n",
       "bd0b26d176d0a9c2039723f02048a7989e85586374ab8d9...               2  \n",
       "3503894d630dc781ebd68989e8ce8f53c7a7a842c56c2a0...               5  \n",
       "a1c93ebc516e6e3ed75d019327ed1a9bcbaa4cf553b6e41...               7  \n",
       "3f8614e54615680691b87a25956125029d98bb441b052ee...               9  \n",
       "\n",
       "[972723 rows x 9 columns]"
      ]
     },
     "execution_count": 173,
     "metadata": {},
     "output_type": "execute_result"
    }
   ],
   "source": [
    "tu_data['quan_loan_amnt'] = 11\n",
    "for i in range(10):\n",
    "    tu_data.loc[tu_data['quan_credit'] == i, 'quan_loan_amnt'] = (pd\n",
    "                                                                  .qcut(tu_data\n",
    "                                                                        .loc[tu_data.groupby('quan_credit')\n",
    "                                                                             .groups[i], \n",
    "                                                                             'loan_amnt'], \n",
    "                                                                        10, \n",
    "                                                                        labels=False)\n",
    "                                                                  .astype(int)\n",
    "                                                                 )\n",
    "tu_data"
   ]
  },
  {
   "cell_type": "markdown",
   "metadata": {},
   "source": [
    "Output the first 5 rows of tu_data"
   ]
  },
  {
   "cell_type": "code",
   "execution_count": 174,
   "metadata": {},
   "outputs": [
    {
     "data": {
      "text/html": [
       "<div>\n",
       "<style scoped>\n",
       "    .dataframe tbody tr th:only-of-type {\n",
       "        vertical-align: middle;\n",
       "    }\n",
       "\n",
       "    .dataframe tbody tr th {\n",
       "        vertical-align: top;\n",
       "    }\n",
       "\n",
       "    .dataframe thead th {\n",
       "        text-align: right;\n",
       "    }\n",
       "</style>\n",
       "<table border=\"1\" class=\"dataframe\">\n",
       "  <thead>\n",
       "    <tr style=\"text-align: right;\">\n",
       "      <th></th>\n",
       "      <th>sequence_num</th>\n",
       "      <th>credit_score</th>\n",
       "      <th>listing_term</th>\n",
       "      <th>int_rate</th>\n",
       "      <th>loan_amnt</th>\n",
       "      <th>monthly_pmt</th>\n",
       "      <th>original_state</th>\n",
       "      <th>quan_credit</th>\n",
       "      <th>quan_loan_amnt</th>\n",
       "    </tr>\n",
       "    <tr>\n",
       "      <th>id</th>\n",
       "      <th></th>\n",
       "      <th></th>\n",
       "      <th></th>\n",
       "      <th></th>\n",
       "      <th></th>\n",
       "      <th></th>\n",
       "      <th></th>\n",
       "      <th></th>\n",
       "      <th></th>\n",
       "    </tr>\n",
       "  </thead>\n",
       "  <tbody>\n",
       "    <tr>\n",
       "      <th>adf5219e4cb985352184eb7fa597737e4a9777f7354f7a8a58270da147792561</th>\n",
       "      <td>d0820401b209782dae4284b3dd96b41e08c3e8566fbb33...</td>\n",
       "      <td>814</td>\n",
       "      <td>36.0</td>\n",
       "      <td>7.86</td>\n",
       "      <td>5500.0</td>\n",
       "      <td>172.0</td>\n",
       "      <td>MI</td>\n",
       "      <td>9</td>\n",
       "      <td>2</td>\n",
       "    </tr>\n",
       "    <tr>\n",
       "      <th>0a0f130443af4c6597bb074942970eaddeb125d398e2cca42175c56befc8a171</th>\n",
       "      <td>2f05cd66cb998e5e55f6f296344b271b2b89b996c7c037...</td>\n",
       "      <td>800</td>\n",
       "      <td>36.0</td>\n",
       "      <td>7.91</td>\n",
       "      <td>20000.0</td>\n",
       "      <td>626.0</td>\n",
       "      <td>NM</td>\n",
       "      <td>9</td>\n",
       "      <td>7</td>\n",
       "    </tr>\n",
       "    <tr>\n",
       "      <th>4ba9c6a38b650ee06b8b88a48621bd363cdf611e63400c6fc4bbffbd1bf20c47</th>\n",
       "      <td>20bdbfaf0006db032d8a4176add08fd4ef45abfb17c474...</td>\n",
       "      <td>653</td>\n",
       "      <td>36.0</td>\n",
       "      <td>30.51</td>\n",
       "      <td>3674.0</td>\n",
       "      <td>157.0</td>\n",
       "      <td>SD</td>\n",
       "      <td>2</td>\n",
       "      <td>1</td>\n",
       "    </tr>\n",
       "    <tr>\n",
       "      <th>dae3a344292e07d4b8935a453c37aef01303f21b2f37ccbd1c4408f158533acb</th>\n",
       "      <td>53084498c6bf053a4d1cf309e1b8ec234e503bb1a3dd4e...</td>\n",
       "      <td>623</td>\n",
       "      <td>60.0</td>\n",
       "      <td>23.46</td>\n",
       "      <td>14056.0</td>\n",
       "      <td>400.0</td>\n",
       "      <td>NC</td>\n",
       "      <td>1</td>\n",
       "      <td>8</td>\n",
       "    </tr>\n",
       "    <tr>\n",
       "      <th>8af2ae2462d012e4d85aa687a16a4f5fb64525928235da43c795f73dc0cadd04</th>\n",
       "      <td>f750c4ecac12ae1c156998ed3dff3f46d2d19f37250074...</td>\n",
       "      <td>627</td>\n",
       "      <td>60.0</td>\n",
       "      <td>25.55</td>\n",
       "      <td>8659.0</td>\n",
       "      <td>257.0</td>\n",
       "      <td>TN</td>\n",
       "      <td>1</td>\n",
       "      <td>6</td>\n",
       "    </tr>\n",
       "  </tbody>\n",
       "</table>\n",
       "</div>"
      ],
      "text/plain": [
       "                                                                                         sequence_num  \\\n",
       "id                                                                                                      \n",
       "adf5219e4cb985352184eb7fa597737e4a9777f7354f7a8...  d0820401b209782dae4284b3dd96b41e08c3e8566fbb33...   \n",
       "0a0f130443af4c6597bb074942970eaddeb125d398e2cca...  2f05cd66cb998e5e55f6f296344b271b2b89b996c7c037...   \n",
       "4ba9c6a38b650ee06b8b88a48621bd363cdf611e63400c6...  20bdbfaf0006db032d8a4176add08fd4ef45abfb17c474...   \n",
       "dae3a344292e07d4b8935a453c37aef01303f21b2f37ccb...  53084498c6bf053a4d1cf309e1b8ec234e503bb1a3dd4e...   \n",
       "8af2ae2462d012e4d85aa687a16a4f5fb64525928235da4...  f750c4ecac12ae1c156998ed3dff3f46d2d19f37250074...   \n",
       "\n",
       "                                                    credit_score  \\\n",
       "id                                                                 \n",
       "adf5219e4cb985352184eb7fa597737e4a9777f7354f7a8...           814   \n",
       "0a0f130443af4c6597bb074942970eaddeb125d398e2cca...           800   \n",
       "4ba9c6a38b650ee06b8b88a48621bd363cdf611e63400c6...           653   \n",
       "dae3a344292e07d4b8935a453c37aef01303f21b2f37ccb...           623   \n",
       "8af2ae2462d012e4d85aa687a16a4f5fb64525928235da4...           627   \n",
       "\n",
       "                                                    listing_term  int_rate  \\\n",
       "id                                                                           \n",
       "adf5219e4cb985352184eb7fa597737e4a9777f7354f7a8...          36.0      7.86   \n",
       "0a0f130443af4c6597bb074942970eaddeb125d398e2cca...          36.0      7.91   \n",
       "4ba9c6a38b650ee06b8b88a48621bd363cdf611e63400c6...          36.0     30.51   \n",
       "dae3a344292e07d4b8935a453c37aef01303f21b2f37ccb...          60.0     23.46   \n",
       "8af2ae2462d012e4d85aa687a16a4f5fb64525928235da4...          60.0     25.55   \n",
       "\n",
       "                                                    loan_amnt  monthly_pmt  \\\n",
       "id                                                                           \n",
       "adf5219e4cb985352184eb7fa597737e4a9777f7354f7a8...     5500.0        172.0   \n",
       "0a0f130443af4c6597bb074942970eaddeb125d398e2cca...    20000.0        626.0   \n",
       "4ba9c6a38b650ee06b8b88a48621bd363cdf611e63400c6...     3674.0        157.0   \n",
       "dae3a344292e07d4b8935a453c37aef01303f21b2f37ccb...    14056.0        400.0   \n",
       "8af2ae2462d012e4d85aa687a16a4f5fb64525928235da4...     8659.0        257.0   \n",
       "\n",
       "                                                   original_state  \\\n",
       "id                                                                  \n",
       "adf5219e4cb985352184eb7fa597737e4a9777f7354f7a8...             MI   \n",
       "0a0f130443af4c6597bb074942970eaddeb125d398e2cca...             NM   \n",
       "4ba9c6a38b650ee06b8b88a48621bd363cdf611e63400c6...             SD   \n",
       "dae3a344292e07d4b8935a453c37aef01303f21b2f37ccb...             NC   \n",
       "8af2ae2462d012e4d85aa687a16a4f5fb64525928235da4...             TN   \n",
       "\n",
       "                                                    quan_credit  \\\n",
       "id                                                                \n",
       "adf5219e4cb985352184eb7fa597737e4a9777f7354f7a8...            9   \n",
       "0a0f130443af4c6597bb074942970eaddeb125d398e2cca...            9   \n",
       "4ba9c6a38b650ee06b8b88a48621bd363cdf611e63400c6...            2   \n",
       "dae3a344292e07d4b8935a453c37aef01303f21b2f37ccb...            1   \n",
       "8af2ae2462d012e4d85aa687a16a4f5fb64525928235da4...            1   \n",
       "\n",
       "                                                    quan_loan_amnt  \n",
       "id                                                                  \n",
       "adf5219e4cb985352184eb7fa597737e4a9777f7354f7a8...               2  \n",
       "0a0f130443af4c6597bb074942970eaddeb125d398e2cca...               7  \n",
       "4ba9c6a38b650ee06b8b88a48621bd363cdf611e63400c6...               1  \n",
       "dae3a344292e07d4b8935a453c37aef01303f21b2f37ccb...               8  \n",
       "8af2ae2462d012e4d85aa687a16a4f5fb64525928235da4...               6  "
      ]
     },
     "execution_count": 174,
     "metadata": {},
     "output_type": "execute_result"
    }
   ],
   "source": [
    "tu_data.head()"
   ]
  },
  {
   "cell_type": "markdown",
   "metadata": {},
   "source": [
    "## Activation data "
   ]
  },
  {
   "cell_type": "markdown",
   "metadata": {},
   "source": [
    "Your data regarding activation arrives as forms, detailing the loan amount, interest rate offered to the client and whether he or she accepted the offer. These are available on the assignment's `s3` path, which you can import from `pagayapro.path.data_paths` under the name `ASSIGNMENT1_DATA`, in the subdirectory `offers`. "
   ]
  },
  {
   "cell_type": "code",
   "execution_count": 175,
   "metadata": {
    "tags": []
   },
   "outputs": [],
   "source": [
    "from pagayapro.paths.data_paths import ASSIGNMENT1_DATA\n",
    "import glob"
   ]
  },
  {
   "cell_type": "markdown",
   "metadata": {},
   "source": [
    "Read all files in the subdirectory `offers` of `ASSIGNMENT1_DATA` whose name contains the substring `raleigh`."
   ]
  },
  {
   "cell_type": "code",
   "execution_count": 176,
   "metadata": {
    "tags": []
   },
   "outputs": [],
   "source": [
    "raleigh_forms= (\n",
    "    glob.glob(\n",
    "        os.path.join(ASSIGNMENT1_DATA,\"offers/*raleigh*\")\n",
    "    )\n",
    ")"
   ]
  },
  {
   "cell_type": "markdown",
   "metadata": {},
   "source": [
    "how many forms are there?\n"
   ]
  },
  {
   "cell_type": "code",
   "execution_count": 177,
   "metadata": {},
   "outputs": [
    {
     "data": {
      "text/plain": [
       "769"
      ]
     },
     "execution_count": 177,
     "metadata": {},
     "output_type": "execute_result"
    }
   ],
   "source": [
    "len(raleigh_forms)"
   ]
  },
  {
   "cell_type": "markdown",
   "metadata": {},
   "source": [
    "Read all the form files and create a table which contains only the last offer given to each borrower. Call this dataframe `raleigh_df`."
   ]
  },
  {
   "cell_type": "code",
   "execution_count": 178,
   "metadata": {},
   "outputs": [],
   "source": [
    "raleigh_df= pd.read_csv(raleigh_forms[0])\n",
    "\n",
    "for num in range(1,len(raleigh_forms)):\n",
    "    raleigh_df = pd.concat([raleigh_df, pd.read_csv(raleigh_forms[num])], ignore_index=True)\n",
    "\n",
    "raleigh_df = raleigh_df.sort_values('offer_date', ascending=False).drop_duplicates('id').reset_index(drop=True)"
   ]
  },
  {
   "cell_type": "markdown",
   "metadata": {
    "execution": {
     "iopub.execute_input": "2021-07-04T09:43:56.002881Z",
     "iopub.status.busy": "2021-07-04T09:43:56.002602Z",
     "iopub.status.idle": "2021-07-04T09:43:56.037934Z",
     "shell.execute_reply": "2021-07-04T09:43:56.036868Z",
     "shell.execute_reply.started": "2021-07-04T09:43:56.002855Z"
    }
   },
   "source": [
    "How many rows are there in your table? How many distict ids?"
   ]
  },
  {
   "cell_type": "code",
   "execution_count": 179,
   "metadata": {},
   "outputs": [
    {
     "data": {
      "text/plain": [
       "8792"
      ]
     },
     "execution_count": 179,
     "metadata": {},
     "output_type": "execute_result"
    }
   ],
   "source": [
    "len(raleigh_df)"
   ]
  },
  {
   "cell_type": "code",
   "execution_count": 180,
   "metadata": {},
   "outputs": [
    {
     "data": {
      "text/plain": [
       "8792"
      ]
     },
     "execution_count": 180,
     "metadata": {},
     "output_type": "execute_result"
    }
   ],
   "source": [
    "len(raleigh_df['id'].value_counts())"
   ]
  },
  {
   "cell_type": "markdown",
   "metadata": {},
   "source": [
    "How can you explain the duplicate ids? Sample 5 ids with multiple lines and display them."
   ]
  },
  {
   "cell_type": "markdown",
   "metadata": {},
   "source": [
    "#### There are none, but technically, duplicate ids might come up for borrowers which didn't accept the initial offer, but got a second loan offer (or more than 2)."
   ]
  },
  {
   "cell_type": "markdown",
   "metadata": {},
   "source": [
    "#### If there were duplicates, this is how we would have shown 5 of them:\n",
    "\n",
    "```python\n",
    "dupl_list = raleigh_df.groupby('id').size().sort_values(ascending=False).head()\n",
    "raleigh_df.loc[raleigh_df['id'].isin(dupl_list.index)].sort_values(by='id')\n",
    "```"
   ]
  },
  {
   "cell_type": "markdown",
   "metadata": {},
   "source": [
    "Drop all lines in the dataframe which contain irrelevant information."
   ]
  },
  {
   "cell_type": "markdown",
   "metadata": {},
   "source": [
    "#### Done"
   ]
  },
  {
   "cell_type": "markdown",
   "metadata": {},
   "source": [
    "What is the average interest rate offered to clients? What is the average among clients who accepted the offer?"
   ]
  },
  {
   "cell_type": "code",
   "execution_count": 181,
   "metadata": {},
   "outputs": [
    {
     "data": {
      "text/plain": [
       "15.524284576888082"
      ]
     },
     "execution_count": 181,
     "metadata": {},
     "output_type": "execute_result"
    }
   ],
   "source": [
    "raleigh_df['offered_interest_rate'].mean()"
   ]
  },
  {
   "cell_type": "code",
   "execution_count": 182,
   "metadata": {},
   "outputs": [
    {
     "data": {
      "text/plain": [
       "15.307480314960632"
      ]
     },
     "execution_count": 182,
     "metadata": {},
     "output_type": "execute_result"
    }
   ],
   "source": [
    "raleigh_df.loc[raleigh_df['offer_accepted'] == True]['offered_interest_rate'].mean()"
   ]
  },
  {
   "cell_type": "markdown",
   "metadata": {},
   "source": [
    "What is the percentage of activation in this dataframe?"
   ]
  },
  {
   "cell_type": "code",
   "execution_count": 183,
   "metadata": {},
   "outputs": [
    {
     "data": {
      "text/plain": [
       "0.08666969972702457"
      ]
     },
     "execution_count": 183,
     "metadata": {},
     "output_type": "execute_result"
    }
   ],
   "source": [
    "raleigh_df['offer_accepted'].value_counts(normalize=True)[1]"
   ]
  },
  {
   "cell_type": "markdown",
   "metadata": {},
   "source": [
    "Enrich your dataframe with additioanl TU features by merging it with the `tu_data` df. Note that the two dataframe share the `id` and `sequence_num` features."
   ]
  },
  {
   "cell_type": "code",
   "execution_count": 184,
   "metadata": {},
   "outputs": [
    {
     "data": {
      "text/html": [
       "<div>\n",
       "<style scoped>\n",
       "    .dataframe tbody tr th:only-of-type {\n",
       "        vertical-align: middle;\n",
       "    }\n",
       "\n",
       "    .dataframe tbody tr th {\n",
       "        vertical-align: top;\n",
       "    }\n",
       "\n",
       "    .dataframe thead th {\n",
       "        text-align: right;\n",
       "    }\n",
       "</style>\n",
       "<table border=\"1\" class=\"dataframe\">\n",
       "  <thead>\n",
       "    <tr style=\"text-align: right;\">\n",
       "      <th></th>\n",
       "      <th>id</th>\n",
       "      <th>sequence_num</th>\n",
       "      <th>requested_amount</th>\n",
       "      <th>offered_interest_rate</th>\n",
       "      <th>offer_accepted</th>\n",
       "      <th>offer_date</th>\n",
       "      <th>credit_score</th>\n",
       "      <th>listing_term</th>\n",
       "      <th>int_rate</th>\n",
       "      <th>loan_amnt</th>\n",
       "      <th>monthly_pmt</th>\n",
       "      <th>original_state</th>\n",
       "      <th>quan_credit</th>\n",
       "      <th>quan_loan_amnt</th>\n",
       "    </tr>\n",
       "  </thead>\n",
       "  <tbody>\n",
       "    <tr>\n",
       "      <th>0</th>\n",
       "      <td>be462838a489d80c3dfa088cda7d04d650f5afc9fac0fa...</td>\n",
       "      <td>da4c2882d9002a68ae96962a6a9f0d18fd2df86f7e71e0...</td>\n",
       "      <td>8000.0</td>\n",
       "      <td>10.22</td>\n",
       "      <td>False</td>\n",
       "      <td>2020-12-10</td>\n",
       "      <td>764</td>\n",
       "      <td>36.0</td>\n",
       "      <td>10.22</td>\n",
       "      <td>8000.0</td>\n",
       "      <td>259.0</td>\n",
       "      <td>NC</td>\n",
       "      <td>8</td>\n",
       "      <td>3</td>\n",
       "    </tr>\n",
       "    <tr>\n",
       "      <th>1</th>\n",
       "      <td>cefa90420bde7d95ce54ad83fbb17f8841a7390c505bea...</td>\n",
       "      <td>85a6a68c1fdd0081220bf891a51af4209bbfe285af161b...</td>\n",
       "      <td>4075.0</td>\n",
       "      <td>30.89</td>\n",
       "      <td>False</td>\n",
       "      <td>2020-12-10</td>\n",
       "      <td>555</td>\n",
       "      <td>36.0</td>\n",
       "      <td>30.89</td>\n",
       "      <td>4075.0</td>\n",
       "      <td>175.0</td>\n",
       "      <td>NC</td>\n",
       "      <td>0</td>\n",
       "      <td>3</td>\n",
       "    </tr>\n",
       "    <tr>\n",
       "      <th>2</th>\n",
       "      <td>69b282258fdc0b55336a5c88e94dd0c0a4fdac7a6a448b...</td>\n",
       "      <td>8b1ed3ba66907feb4c208578846eddf03fc09c8a605048...</td>\n",
       "      <td>15000.0</td>\n",
       "      <td>15.27</td>\n",
       "      <td>False</td>\n",
       "      <td>2020-12-10</td>\n",
       "      <td>638</td>\n",
       "      <td>60.0</td>\n",
       "      <td>15.27</td>\n",
       "      <td>15000.0</td>\n",
       "      <td>359.0</td>\n",
       "      <td>NC</td>\n",
       "      <td>2</td>\n",
       "      <td>7</td>\n",
       "    </tr>\n",
       "    <tr>\n",
       "      <th>3</th>\n",
       "      <td>1cd63a26af1b927957c7743ba557f1895a90ec3b891cfc...</td>\n",
       "      <td>28851f4c2e331d785f0f37ae78cf6a574dd8076375dbe0...</td>\n",
       "      <td>5000.0</td>\n",
       "      <td>11.55</td>\n",
       "      <td>True</td>\n",
       "      <td>2020-12-10</td>\n",
       "      <td>721</td>\n",
       "      <td>36.0</td>\n",
       "      <td>11.55</td>\n",
       "      <td>5000.0</td>\n",
       "      <td>165.0</td>\n",
       "      <td>NC</td>\n",
       "      <td>6</td>\n",
       "      <td>1</td>\n",
       "    </tr>\n",
       "    <tr>\n",
       "      <th>4</th>\n",
       "      <td>e96d59f7aa7e2d6ad5ebccba21085a772d1bb8a0321d2f...</td>\n",
       "      <td>466be4dfe5d6734fdc2fe9d95b91507e3269f86771c5e4...</td>\n",
       "      <td>20000.0</td>\n",
       "      <td>11.41</td>\n",
       "      <td>True</td>\n",
       "      <td>2020-12-10</td>\n",
       "      <td>751</td>\n",
       "      <td>60.0</td>\n",
       "      <td>11.41</td>\n",
       "      <td>20000.0</td>\n",
       "      <td>439.0</td>\n",
       "      <td>NC</td>\n",
       "      <td>8</td>\n",
       "      <td>7</td>\n",
       "    </tr>\n",
       "    <tr>\n",
       "      <th>...</th>\n",
       "      <td>...</td>\n",
       "      <td>...</td>\n",
       "      <td>...</td>\n",
       "      <td>...</td>\n",
       "      <td>...</td>\n",
       "      <td>...</td>\n",
       "      <td>...</td>\n",
       "      <td>...</td>\n",
       "      <td>...</td>\n",
       "      <td>...</td>\n",
       "      <td>...</td>\n",
       "      <td>...</td>\n",
       "      <td>...</td>\n",
       "      <td>...</td>\n",
       "    </tr>\n",
       "    <tr>\n",
       "      <th>8787</th>\n",
       "      <td>3a72ae7a82244f811b37c48f57469b708207004f011163...</td>\n",
       "      <td>06c005c5de6ba445d4c709b84611ac2b8542cd5d37221b...</td>\n",
       "      <td>3800.0</td>\n",
       "      <td>12.97</td>\n",
       "      <td>False</td>\n",
       "      <td>2018-01-01</td>\n",
       "      <td>661</td>\n",
       "      <td>36.0</td>\n",
       "      <td>12.97</td>\n",
       "      <td>3800.0</td>\n",
       "      <td>128.0</td>\n",
       "      <td>NC</td>\n",
       "      <td>3</td>\n",
       "      <td>1</td>\n",
       "    </tr>\n",
       "    <tr>\n",
       "      <th>8788</th>\n",
       "      <td>9b785f1c83a022947857aa109de2aeb3c2c54231b910ed...</td>\n",
       "      <td>4f94dbec44bd09b1c47b08f17a62a7b58b17fc108b077f...</td>\n",
       "      <td>7000.0</td>\n",
       "      <td>17.98</td>\n",
       "      <td>False</td>\n",
       "      <td>2018-01-01</td>\n",
       "      <td>662</td>\n",
       "      <td>36.0</td>\n",
       "      <td>17.98</td>\n",
       "      <td>7000.0</td>\n",
       "      <td>253.0</td>\n",
       "      <td>NC</td>\n",
       "      <td>3</td>\n",
       "      <td>3</td>\n",
       "    </tr>\n",
       "    <tr>\n",
       "      <th>8789</th>\n",
       "      <td>05ea7b0c00de4b3d61378c31572b5b4f10cbb73da1d3d3...</td>\n",
       "      <td>47b11693150bd44d0041819037cce51b49869d75be9e41...</td>\n",
       "      <td>6000.0</td>\n",
       "      <td>14.76</td>\n",
       "      <td>True</td>\n",
       "      <td>2018-01-01</td>\n",
       "      <td>683</td>\n",
       "      <td>60.0</td>\n",
       "      <td>14.76</td>\n",
       "      <td>6000.0</td>\n",
       "      <td>142.0</td>\n",
       "      <td>NC</td>\n",
       "      <td>4</td>\n",
       "      <td>2</td>\n",
       "    </tr>\n",
       "    <tr>\n",
       "      <th>8790</th>\n",
       "      <td>e3e32f85cd78bb5002ccdc037c1818029f716e7a47911e...</td>\n",
       "      <td>3dcd131256c103fccb61c75cd79ca97fa2b5e31c4ab03e...</td>\n",
       "      <td>6899.0</td>\n",
       "      <td>12.56</td>\n",
       "      <td>False</td>\n",
       "      <td>2018-01-01</td>\n",
       "      <td>735</td>\n",
       "      <td>36.0</td>\n",
       "      <td>12.56</td>\n",
       "      <td>6899.0</td>\n",
       "      <td>231.0</td>\n",
       "      <td>NC</td>\n",
       "      <td>7</td>\n",
       "      <td>2</td>\n",
       "    </tr>\n",
       "    <tr>\n",
       "      <th>8791</th>\n",
       "      <td>743200d3e4cc1f6f860e121294248d611350f257a7bc83...</td>\n",
       "      <td>ec10245656d9d89186fb4e5890082eea989d5967752ce7...</td>\n",
       "      <td>3000.0</td>\n",
       "      <td>17.69</td>\n",
       "      <td>False</td>\n",
       "      <td>2018-01-01</td>\n",
       "      <td>652</td>\n",
       "      <td>36.0</td>\n",
       "      <td>17.69</td>\n",
       "      <td>3000.0</td>\n",
       "      <td>108.0</td>\n",
       "      <td>NC</td>\n",
       "      <td>2</td>\n",
       "      <td>0</td>\n",
       "    </tr>\n",
       "  </tbody>\n",
       "</table>\n",
       "<p>8792 rows × 14 columns</p>\n",
       "</div>"
      ],
      "text/plain": [
       "                                                     id  \\\n",
       "0     be462838a489d80c3dfa088cda7d04d650f5afc9fac0fa...   \n",
       "1     cefa90420bde7d95ce54ad83fbb17f8841a7390c505bea...   \n",
       "2     69b282258fdc0b55336a5c88e94dd0c0a4fdac7a6a448b...   \n",
       "3     1cd63a26af1b927957c7743ba557f1895a90ec3b891cfc...   \n",
       "4     e96d59f7aa7e2d6ad5ebccba21085a772d1bb8a0321d2f...   \n",
       "...                                                 ...   \n",
       "8787  3a72ae7a82244f811b37c48f57469b708207004f011163...   \n",
       "8788  9b785f1c83a022947857aa109de2aeb3c2c54231b910ed...   \n",
       "8789  05ea7b0c00de4b3d61378c31572b5b4f10cbb73da1d3d3...   \n",
       "8790  e3e32f85cd78bb5002ccdc037c1818029f716e7a47911e...   \n",
       "8791  743200d3e4cc1f6f860e121294248d611350f257a7bc83...   \n",
       "\n",
       "                                           sequence_num  requested_amount  \\\n",
       "0     da4c2882d9002a68ae96962a6a9f0d18fd2df86f7e71e0...            8000.0   \n",
       "1     85a6a68c1fdd0081220bf891a51af4209bbfe285af161b...            4075.0   \n",
       "2     8b1ed3ba66907feb4c208578846eddf03fc09c8a605048...           15000.0   \n",
       "3     28851f4c2e331d785f0f37ae78cf6a574dd8076375dbe0...            5000.0   \n",
       "4     466be4dfe5d6734fdc2fe9d95b91507e3269f86771c5e4...           20000.0   \n",
       "...                                                 ...               ...   \n",
       "8787  06c005c5de6ba445d4c709b84611ac2b8542cd5d37221b...            3800.0   \n",
       "8788  4f94dbec44bd09b1c47b08f17a62a7b58b17fc108b077f...            7000.0   \n",
       "8789  47b11693150bd44d0041819037cce51b49869d75be9e41...            6000.0   \n",
       "8790  3dcd131256c103fccb61c75cd79ca97fa2b5e31c4ab03e...            6899.0   \n",
       "8791  ec10245656d9d89186fb4e5890082eea989d5967752ce7...            3000.0   \n",
       "\n",
       "      offered_interest_rate  offer_accepted  offer_date  credit_score  \\\n",
       "0                     10.22           False  2020-12-10           764   \n",
       "1                     30.89           False  2020-12-10           555   \n",
       "2                     15.27           False  2020-12-10           638   \n",
       "3                     11.55            True  2020-12-10           721   \n",
       "4                     11.41            True  2020-12-10           751   \n",
       "...                     ...             ...         ...           ...   \n",
       "8787                  12.97           False  2018-01-01           661   \n",
       "8788                  17.98           False  2018-01-01           662   \n",
       "8789                  14.76            True  2018-01-01           683   \n",
       "8790                  12.56           False  2018-01-01           735   \n",
       "8791                  17.69           False  2018-01-01           652   \n",
       "\n",
       "      listing_term  int_rate  loan_amnt  monthly_pmt original_state  \\\n",
       "0             36.0     10.22     8000.0        259.0             NC   \n",
       "1             36.0     30.89     4075.0        175.0             NC   \n",
       "2             60.0     15.27    15000.0        359.0             NC   \n",
       "3             36.0     11.55     5000.0        165.0             NC   \n",
       "4             60.0     11.41    20000.0        439.0             NC   \n",
       "...            ...       ...        ...          ...            ...   \n",
       "8787          36.0     12.97     3800.0        128.0             NC   \n",
       "8788          36.0     17.98     7000.0        253.0             NC   \n",
       "8789          60.0     14.76     6000.0        142.0             NC   \n",
       "8790          36.0     12.56     6899.0        231.0             NC   \n",
       "8791          36.0     17.69     3000.0        108.0             NC   \n",
       "\n",
       "      quan_credit  quan_loan_amnt  \n",
       "0               8               3  \n",
       "1               0               3  \n",
       "2               2               7  \n",
       "3               6               1  \n",
       "4               8               7  \n",
       "...           ...             ...  \n",
       "8787            3               1  \n",
       "8788            3               3  \n",
       "8789            4               2  \n",
       "8790            7               2  \n",
       "8791            2               0  \n",
       "\n",
       "[8792 rows x 14 columns]"
      ]
     },
     "execution_count": 184,
     "metadata": {},
     "output_type": "execute_result"
    }
   ],
   "source": [
    "raleigh_df = raleigh_df.merge(tu_data, left_on=['id', 'sequence_num'], right_on=['id', 'sequence_num'])\n",
    "raleigh_df"
   ]
  },
  {
   "cell_type": "markdown",
   "metadata": {},
   "source": [
    "What is the average credit score of the clients? What is the average among clients who accepted the offer?"
   ]
  },
  {
   "cell_type": "code",
   "execution_count": 185,
   "metadata": {},
   "outputs": [
    {
     "data": {
      "text/plain": [
       "689.821542311192"
      ]
     },
     "execution_count": 185,
     "metadata": {},
     "output_type": "execute_result"
    }
   ],
   "source": [
    "raleigh_df['credit_score'].mean()"
   ]
  },
  {
   "cell_type": "code",
   "execution_count": 186,
   "metadata": {},
   "outputs": [
    {
     "data": {
      "text/plain": [
       "702.5446194225722"
      ]
     },
     "execution_count": 186,
     "metadata": {},
     "output_type": "execute_result"
    }
   ],
   "source": [
    "raleigh_df.loc[raleigh_df['offer_accepted'] == True]['credit_score'].mean()"
   ]
  },
  {
   "cell_type": "markdown",
   "metadata": {},
   "source": [
    "# Validations"
   ]
  },
  {
   "cell_type": "markdown",
   "metadata": {},
   "source": [
    "Before we embark on a statistical test, let's do some validations to make sure that the Raleig sample is not somehow distinct from the general population. Our random sample from the general population is the TU data."
   ]
  },
  {
   "cell_type": "markdown",
   "metadata": {},
   "source": [
    "Create a histogram to describe the distribution of requested loan amounts in Raleigh and in the general population. Do the distributions look similar? (A good rule-of-thumb for the number of bins to use is the square-root of the number of unique value.)"
   ]
  },
  {
   "cell_type": "markdown",
   "metadata": {},
   "source": [
    "#### we checked that the loan_amnt column and the requested_amount one are identical.\n",
    "\n",
    "#### We chose to use the loan_vals for both plots, so we can compare the distributions (We also chose the same range of X values for the same reason)."
   ]
  },
  {
   "cell_type": "code",
   "execution_count": null,
   "metadata": {},
   "outputs": [],
   "source": []
  },
  {
   "cell_type": "code",
   "execution_count": 268,
   "metadata": {},
   "outputs": [
    {
     "data": {
      "image/png": "[encoded data removed]",
      "text/plain": [
       "<Figure size 432x288 with 1 Axes>"
      ]
     },
     "metadata": {
      "needs_background": "light"
     },
     "output_type": "display_data"
    }
   ],
   "source": [
    "loan_vals = len(raleigh_df['loan_amnt'].value_counts())\n",
    "loan_vals_tu = len(tu_data['loan_amnt'].value_counts())\n",
    "\n",
    "raleigh_df['loan_amnt'].hist(bins=int(loan_vals**0.5), alpha=0.5, density=True);\n",
    "tu_data['loan_amnt'].hist(bins=int(loan_vals**0.5), range=(0,200_000), alpha=0.5, density=True);"
   ]
  },
  {
   "cell_type": "markdown",
   "metadata": {},
   "source": [
    "Describe the loan amount distribution using `sns.distplot` in the Raleigh dataframe and in TU."
   ]
  },
  {
   "cell_type": "code",
   "execution_count": 188,
   "metadata": {},
   "outputs": [
    {
     "name": "stderr",
     "output_type": "stream",
     "text": [
      "/usr/local/lib/python3.8/dist-packages/seaborn/distributions.py:2619: FutureWarning: `distplot` is a deprecated function and will be removed in a future version. Please adapt your code to use either `displot` (a figure-level function with similar flexibility) or `histplot` (an axes-level function for histograms).\n",
      "  warnings.warn(msg, FutureWarning)\n",
      "/usr/local/lib/python3.8/dist-packages/matplotlib/cbook/__init__.py:1402: FutureWarning: Support for multi-dimensional indexing (e.g. `obj[:, None]`) is deprecated and will be removed in a future version.  Convert to a numpy array before indexing instead.\n",
      "  x[:, None]\n",
      "/usr/local/lib/python3.8/dist-packages/matplotlib/axes/_base.py:276: FutureWarning: Support for multi-dimensional indexing (e.g. `obj[:, None]`) is deprecated and will be removed in a future version.  Convert to a numpy array before indexing instead.\n",
      "  x = x[:, np.newaxis]\n",
      "/usr/local/lib/python3.8/dist-packages/matplotlib/axes/_base.py:278: FutureWarning: Support for multi-dimensional indexing (e.g. `obj[:, None]`) is deprecated and will be removed in a future version.  Convert to a numpy array before indexing instead.\n",
      "  y = y[:, np.newaxis]\n"
     ]
    },
    {
     "data": {
      "image/png": "[encoded data removed]",
      "text/plain": [
       "<Figure size 432x288 with 1 Axes>"
      ]
     },
     "metadata": {
      "needs_background": "light"
     },
     "output_type": "display_data"
    }
   ],
   "source": [
    "sns.distplot(raleigh_df['loan_amnt'], bins=int(loan_vals**0.5));"
   ]
  },
  {
   "cell_type": "code",
   "execution_count": 189,
   "metadata": {},
   "outputs": [
    {
     "name": "stderr",
     "output_type": "stream",
     "text": [
      "/usr/local/lib/python3.8/dist-packages/seaborn/distributions.py:2619: FutureWarning: `distplot` is a deprecated function and will be removed in a future version. Please adapt your code to use either `displot` (a figure-level function with similar flexibility) or `histplot` (an axes-level function for histograms).\n",
      "  warnings.warn(msg, FutureWarning)\n",
      "/usr/local/lib/python3.8/dist-packages/matplotlib/cbook/__init__.py:1402: FutureWarning: Support for multi-dimensional indexing (e.g. `obj[:, None]`) is deprecated and will be removed in a future version.  Convert to a numpy array before indexing instead.\n",
      "  x[:, None]\n",
      "/usr/local/lib/python3.8/dist-packages/matplotlib/axes/_base.py:276: FutureWarning: Support for multi-dimensional indexing (e.g. `obj[:, None]`) is deprecated and will be removed in a future version.  Convert to a numpy array before indexing instead.\n",
      "  x = x[:, np.newaxis]\n",
      "/usr/local/lib/python3.8/dist-packages/matplotlib/axes/_base.py:278: FutureWarning: Support for multi-dimensional indexing (e.g. `obj[:, None]`) is deprecated and will be removed in a future version.  Convert to a numpy array before indexing instead.\n",
      "  y = y[:, np.newaxis]\n"
     ]
    },
    {
     "data": {
      "text/plain": [
       "(-10000, 200000)"
      ]
     },
     "execution_count": 189,
     "metadata": {},
     "output_type": "execute_result"
    },
    {
     "data": {
      "image/png": "[encoded data removed]",
      "text/plain": [
       "<Figure size 432x288 with 1 Axes>"
      ]
     },
     "metadata": {
      "needs_background": "light"
     },
     "output_type": "display_data"
    }
   ],
   "source": [
    "ax = sns.distplot(tu_data['loan_amnt'], bins=int(loan_vals**0.5), hist_kws={'range':(0,200_000)})\n",
    "ax.set_xlim(-10000, 200000)"
   ]
  },
  {
   "cell_type": "markdown",
   "metadata": {},
   "source": [
    "We also want to verify that the offered interest rate in Raleigh seem similar to those in the general population. \n",
    "Create a histogram to describe the distribution of offered interest rates in Raleigh and interest rates in the general population. Do the distributions look similar?"
   ]
  },
  {
   "cell_type": "code",
   "execution_count": 190,
   "metadata": {},
   "outputs": [
    {
     "data": {
      "image/png": "[encoded data removed]",
      "text/plain": [
       "<Figure size 432x288 with 1 Axes>"
      ]
     },
     "metadata": {
      "needs_background": "light"
     },
     "output_type": "display_data"
    }
   ],
   "source": [
    "raleigh_df['int_rate'].hist(density=True, alpha=0.5, bins=int(40));\n",
    "tu_data['int_rate'].hist(density=True, alpha=0.5, bins=int(40));"
   ]
  },
  {
   "cell_type": "markdown",
   "metadata": {},
   "source": [
    "Describe the interest rate distribution using `sns.distplot` in the Raleigh dataframe and in TU."
   ]
  },
  {
   "cell_type": "code",
   "execution_count": 191,
   "metadata": {},
   "outputs": [
    {
     "name": "stderr",
     "output_type": "stream",
     "text": [
      "/usr/local/lib/python3.8/dist-packages/seaborn/distributions.py:2619: FutureWarning: `distplot` is a deprecated function and will be removed in a future version. Please adapt your code to use either `displot` (a figure-level function with similar flexibility) or `histplot` (an axes-level function for histograms).\n",
      "  warnings.warn(msg, FutureWarning)\n",
      "/usr/local/lib/python3.8/dist-packages/matplotlib/cbook/__init__.py:1402: FutureWarning: Support for multi-dimensional indexing (e.g. `obj[:, None]`) is deprecated and will be removed in a future version.  Convert to a numpy array before indexing instead.\n",
      "  x[:, None]\n",
      "/usr/local/lib/python3.8/dist-packages/matplotlib/axes/_base.py:276: FutureWarning: Support for multi-dimensional indexing (e.g. `obj[:, None]`) is deprecated and will be removed in a future version.  Convert to a numpy array before indexing instead.\n",
      "  x = x[:, np.newaxis]\n",
      "/usr/local/lib/python3.8/dist-packages/matplotlib/axes/_base.py:278: FutureWarning: Support for multi-dimensional indexing (e.g. `obj[:, None]`) is deprecated and will be removed in a future version.  Convert to a numpy array before indexing instead.\n",
      "  y = y[:, np.newaxis]\n"
     ]
    },
    {
     "data": {
      "image/png": "[encoded data removed]",
      "text/plain": [
       "<Figure size 432x288 with 1 Axes>"
      ]
     },
     "metadata": {
      "needs_background": "light"
     },
     "output_type": "display_data"
    }
   ],
   "source": [
    "sns.distplot(raleigh_df['int_rate']);"
   ]
  },
  {
   "cell_type": "code",
   "execution_count": 192,
   "metadata": {},
   "outputs": [
    {
     "name": "stderr",
     "output_type": "stream",
     "text": [
      "/usr/local/lib/python3.8/dist-packages/seaborn/distributions.py:2619: FutureWarning: `distplot` is a deprecated function and will be removed in a future version. Please adapt your code to use either `displot` (a figure-level function with similar flexibility) or `histplot` (an axes-level function for histograms).\n",
      "  warnings.warn(msg, FutureWarning)\n",
      "/usr/local/lib/python3.8/dist-packages/matplotlib/cbook/__init__.py:1402: FutureWarning: Support for multi-dimensional indexing (e.g. `obj[:, None]`) is deprecated and will be removed in a future version.  Convert to a numpy array before indexing instead.\n",
      "  x[:, None]\n",
      "/usr/local/lib/python3.8/dist-packages/matplotlib/axes/_base.py:276: FutureWarning: Support for multi-dimensional indexing (e.g. `obj[:, None]`) is deprecated and will be removed in a future version.  Convert to a numpy array before indexing instead.\n",
      "  x = x[:, np.newaxis]\n",
      "/usr/local/lib/python3.8/dist-packages/matplotlib/axes/_base.py:278: FutureWarning: Support for multi-dimensional indexing (e.g. `obj[:, None]`) is deprecated and will be removed in a future version.  Convert to a numpy array before indexing instead.\n",
      "  y = y[:, np.newaxis]\n"
     ]
    },
    {
     "data": {
      "image/png": "[encoded data removed]",
      "text/plain": [
       "<Figure size 432x288 with 1 Axes>"
      ]
     },
     "metadata": {
      "needs_background": "light"
     },
     "output_type": "display_data"
    }
   ],
   "source": [
    "sns.distplot(tu_data['int_rate']);"
   ]
  },
  {
   "cell_type": "markdown",
   "metadata": {},
   "source": [
    "Additionally, we want to make sure the credit scores are not visibly different in Raleigh from the general population, as this might mean that the data we obtained from the town might not be representative of the general popuation."
   ]
  },
  {
   "cell_type": "markdown",
   "metadata": {},
   "source": [
    "Create a histogram to describe the distribution of credit scores in the Raleigh sample and in the general population. Do the distributions look similar? How many bins did you use?"
   ]
  },
  {
   "cell_type": "code",
   "execution_count": 193,
   "metadata": {},
   "outputs": [
    {
     "data": {
      "image/png": "[encoded data removed]",
      "text/plain": [
       "<Figure size 432x288 with 1 Axes>"
      ]
     },
     "metadata": {
      "needs_background": "light"
     },
     "output_type": "display_data"
    }
   ],
   "source": [
    "raleigh_df['credit_score'].hist(range=(270,880), alpha=0.5, density=True, bins=int(600**0.5));\n",
    "tu_data['credit_score'].hist(range=(270,880), alpha=0.5, density=True, bins=int(600**0.5));"
   ]
  },
  {
   "cell_type": "markdown",
   "metadata": {},
   "source": [
    "Describe the credit score distribution using `sns.distplot`  in the Raleigh dataframe and in TU."
   ]
  },
  {
   "cell_type": "code",
   "execution_count": 194,
   "metadata": {},
   "outputs": [
    {
     "name": "stderr",
     "output_type": "stream",
     "text": [
      "/usr/local/lib/python3.8/dist-packages/seaborn/distributions.py:2619: FutureWarning: `distplot` is a deprecated function and will be removed in a future version. Please adapt your code to use either `displot` (a figure-level function with similar flexibility) or `histplot` (an axes-level function for histograms).\n",
      "  warnings.warn(msg, FutureWarning)\n",
      "/usr/local/lib/python3.8/dist-packages/matplotlib/cbook/__init__.py:1402: FutureWarning: Support for multi-dimensional indexing (e.g. `obj[:, None]`) is deprecated and will be removed in a future version.  Convert to a numpy array before indexing instead.\n",
      "  x[:, None]\n",
      "/usr/local/lib/python3.8/dist-packages/matplotlib/axes/_base.py:276: FutureWarning: Support for multi-dimensional indexing (e.g. `obj[:, None]`) is deprecated and will be removed in a future version.  Convert to a numpy array before indexing instead.\n",
      "  x = x[:, np.newaxis]\n",
      "/usr/local/lib/python3.8/dist-packages/matplotlib/axes/_base.py:278: FutureWarning: Support for multi-dimensional indexing (e.g. `obj[:, None]`) is deprecated and will be removed in a future version.  Convert to a numpy array before indexing instead.\n",
      "  y = y[:, np.newaxis]\n"
     ]
    },
    {
     "data": {
      "image/png": "[encoded data removed]",
      "text/plain": [
       "<Figure size 432x288 with 1 Axes>"
      ]
     },
     "metadata": {
      "needs_background": "light"
     },
     "output_type": "display_data"
    }
   ],
   "source": [
    "ax = sns.distplot(raleigh_df['credit_score'], hist_kws={'range':(270,880)})\n",
    "ax.set_xlim(270,880);"
   ]
  },
  {
   "cell_type": "code",
   "execution_count": 195,
   "metadata": {},
   "outputs": [
    {
     "name": "stderr",
     "output_type": "stream",
     "text": [
      "/usr/local/lib/python3.8/dist-packages/seaborn/distributions.py:2619: FutureWarning: `distplot` is a deprecated function and will be removed in a future version. Please adapt your code to use either `displot` (a figure-level function with similar flexibility) or `histplot` (an axes-level function for histograms).\n",
      "  warnings.warn(msg, FutureWarning)\n",
      "/usr/local/lib/python3.8/dist-packages/matplotlib/cbook/__init__.py:1402: FutureWarning: Support for multi-dimensional indexing (e.g. `obj[:, None]`) is deprecated and will be removed in a future version.  Convert to a numpy array before indexing instead.\n",
      "  x[:, None]\n",
      "/usr/local/lib/python3.8/dist-packages/matplotlib/axes/_base.py:276: FutureWarning: Support for multi-dimensional indexing (e.g. `obj[:, None]`) is deprecated and will be removed in a future version.  Convert to a numpy array before indexing instead.\n",
      "  x = x[:, np.newaxis]\n",
      "/usr/local/lib/python3.8/dist-packages/matplotlib/axes/_base.py:278: FutureWarning: Support for multi-dimensional indexing (e.g. `obj[:, None]`) is deprecated and will be removed in a future version.  Convert to a numpy array before indexing instead.\n",
      "  y = y[:, np.newaxis]\n"
     ]
    },
    {
     "data": {
      "image/png": "[encoded data removed]",
      "text/plain": [
       "<Figure size 432x288 with 1 Axes>"
      ]
     },
     "metadata": {
      "needs_background": "light"
     },
     "output_type": "display_data"
    }
   ],
   "source": [
    "ax = sns.distplot(tu_data['credit_score'], hist_kws={'range':(270,880)})\n",
    "ax.set_xlim(270,880);"
   ]
  },
  {
   "cell_type": "markdown",
   "metadata": {
    "execution": {
     "iopub.execute_input": "2021-07-04T09:43:56.046655Z",
     "iopub.status.busy": "2021-07-04T09:43:56.046389Z",
     "iopub.status.idle": "2021-07-04T09:43:56.393501Z",
     "shell.execute_reply": "2021-07-04T09:43:56.392695Z",
     "shell.execute_reply.started": "2021-07-04T09:43:56.046630Z"
    }
   },
   "source": [
    "Finally, check whether the loans in both datasets have similar distributions of term (i.e. the amount of months the borrower takes the loan for). What values of term exist in the data?"
   ]
  },
  {
   "cell_type": "markdown",
   "metadata": {},
   "source": [
    "#### Only 36 or 60 month loans"
   ]
  },
  {
   "cell_type": "code",
   "execution_count": 196,
   "metadata": {},
   "outputs": [
    {
     "data": {
      "image/png": "[encoded data removed]",
      "text/plain": [
       "<Figure size 432x288 with 1 Axes>"
      ]
     },
     "metadata": {
      "needs_background": "light"
     },
     "output_type": "display_data"
    }
   ],
   "source": [
    "raleigh_df['listing_term'].hist();"
   ]
  },
  {
   "cell_type": "code",
   "execution_count": 197,
   "metadata": {},
   "outputs": [
    {
     "data": {
      "image/png": "[encoded data removed]",
      "text/plain": [
       "<Figure size 432x288 with 1 Axes>"
      ]
     },
     "metadata": {
      "needs_background": "light"
     },
     "output_type": "display_data"
    }
   ],
   "source": [
    "tu_data['listing_term'].hist();"
   ]
  },
  {
   "cell_type": "markdown",
   "metadata": {},
   "source": [
    "# CLT in action"
   ]
  },
  {
   "cell_type": "markdown",
   "metadata": {},
   "source": [
    "One more thing before we start the test. Our goal is to check whether, for which we'll run some statistical test (you probably already know which) which checks if something belongs to a noraml distribution with some mean and some variance. But... is activation normally distributed in the Raliegh sample? "
   ]
  },
  {
   "cell_type": "markdown",
   "metadata": {
    "tags": []
   },
   "source": [
    "#+2 points if you answer without plotting\n",
    "\n",
    "#### The activation rate is either true or false (1 or 0). Therefore the activation rate in Raleigh is distributed binomially.\n",
    "#### However, due to CLT, when we look at averages of random samples, and take enough of these averages, Raleighs activation rate distribution, seems to fit a normal distribution very well."
   ]
  },
  {
   "cell_type": "markdown",
   "metadata": {},
   "source": [
    "The reason why we can assume normality is because we're checking averages of samples and we're relying on the Central Limit Theorem. We won't prove the theorem, but let's test it for a bit. "
   ]
  },
  {
   "cell_type": "markdown",
   "metadata": {},
   "source": [
    "Write a function which takes a pandas series S and a natural number n and creates a series of means of samples (with replacement) of n entries from S. Decide for yourself on the length of the output series. You can also use a different data structure if you find it more suitable as the output."
   ]
  },
  {
   "cell_type": "code",
   "execution_count": 198,
   "metadata": {},
   "outputs": [],
   "source": [
    "def random_sample_mean(s: np.ndarray, n: int):\n",
    "    return s[np.random.randint(low=0, high=len(s)-1, size=n)].mean()\n",
    "\n",
    "def bootstrap_samples(s: pd.Series, n: int):\n",
    "    ret_size = int(len(s)**0.5)\n",
    "    \n",
    "    temp = np.ndarray(shape=(ret_size, len(s)))\n",
    "    temp[np.arange(ret_size)] = s.values\n",
    "    \n",
    "    return pd.Series(np.apply_along_axis(random_sample_mean, axis=1, arr=temp, n=n))"
   ]
  },
  {
   "cell_type": "markdown",
   "metadata": {},
   "source": [
    "Optionally- also create a function which, given the same input as above, plots a histogram of the series of means, and also indicates the mean of this series."
   ]
  },
  {
   "cell_type": "code",
   "execution_count": 199,
   "metadata": {},
   "outputs": [
    {
     "data": {
      "text/plain": [
       "499603.27311476803"
      ]
     },
     "execution_count": 199,
     "metadata": {},
     "output_type": "execute_result"
    },
    {
     "data": {
      "image/png": "[encoded data removed]",
      "text/plain": [
       "<Figure size 432x288 with 1 Axes>"
      ]
     },
     "metadata": {
      "needs_background": "light"
     },
     "output_type": "display_data"
    }
   ],
   "source": [
    "def hist_boot(s, n):\n",
    "    tmp = bootstrap_samples(s, n)\n",
    "    plt.hist(tmp, bins=30, alpha=0.5)\n",
    "    return tmp.mean()\n",
    "\n",
    "hist_boot(pd.Series(np.random.randint(low=0, high=1000000-1, size=1000000)), 1000000)"
   ]
  },
  {
   "cell_type": "markdown",
   "metadata": {},
   "source": [
    "Generate plots of the series of means of activation in Raleigh and in TU for n = 1, 2, 5, 10, 100, 1000 and 1e6, and indicate their means. Does the distribution approach a normal distribution as $n\\to\\infty$ in your opinion?"
   ]
  },
  {
   "cell_type": "code",
   "execution_count": 200,
   "metadata": {},
   "outputs": [
    {
     "data": {
      "image/png": "[encoded data removed]",
      "text/plain": [
       "<Figure size 432x288 with 1 Axes>"
      ]
     },
     "metadata": {
      "needs_background": "light"
     },
     "output_type": "display_data"
    },
    {
     "data": {
      "image/png": "[encoded data removed]",
      "text/plain": [
       "<Figure size 432x288 with 1 Axes>"
      ]
     },
     "metadata": {
      "needs_background": "light"
     },
     "output_type": "display_data"
    },
    {
     "data": {
      "image/png": "[encoded data removed]",
      "text/plain": [
       "<Figure size 432x288 with 1 Axes>"
      ]
     },
     "metadata": {
      "needs_background": "light"
     },
     "output_type": "display_data"
    },
    {
     "data": {
      "image/png": "[encoded data removed]",
      "text/plain": [
       "<Figure size 432x288 with 1 Axes>"
      ]
     },
     "metadata": {
      "needs_background": "light"
     },
     "output_type": "display_data"
    },
    {
     "data": {
      "image/png": "[encoded data removed]",
      "text/plain": [
       "<Figure size 432x288 with 1 Axes>"
      ]
     },
     "metadata": {
      "needs_background": "light"
     },
     "output_type": "display_data"
    },
    {
     "data": {
      "image/png": "[encoded data removed]",
      "text/plain": [
       "<Figure size 432x288 with 1 Axes>"
      ]
     },
     "metadata": {
      "needs_background": "light"
     },
     "output_type": "display_data"
    },
    {
     "data": {
      "image/png": "[encoded data removed]",
      "text/plain": [
       "<Figure size 432x288 with 1 Axes>"
      ]
     },
     "metadata": {
      "needs_background": "light"
     },
     "output_type": "display_data"
    }
   ],
   "source": [
    "run_list = [1,2,5,10,100,1000,1000000]\n",
    "\n",
    "for num in run_list:\n",
    "    hist_boot(raleigh_df['offer_accepted'], num)\n",
    "    plt.show()"
   ]
  },
  {
   "cell_type": "markdown",
   "metadata": {},
   "source": [
    "Now that your fuction is ready, it's time to make it part of our infrastucture:\n",
    "* Inside the `pagayapro` repo, create a branch called `feature/{your_user_name}/clt_tester/`.\n",
    "* Create a file called `clt.py` inside `~/pagayapro/users/{user_name}/assignment1/` \n",
    "* Copy the two finctions you just created into the file.\n",
    "* Push your file to `main`, open a PR and ask your mentor to review it. Once approved, rebase and merge."
   ]
  },
  {
   "cell_type": "code",
   "execution_count": null,
   "metadata": {},
   "outputs": [],
   "source": []
  },
  {
   "cell_type": "markdown",
   "metadata": {},
   "source": [
    "# Statistical test "
   ]
  },
  {
   "cell_type": "markdown",
   "metadata": {},
   "source": [
    "As mentioned in the Notion doc, the activation in Raleigh before deployment was measured at 6.85%. In this section, you will run a test to check whether the activation in Raleigh is indeed different following the flyer program. "
   ]
  },
  {
   "cell_type": "code",
   "execution_count": 201,
   "metadata": {
    "tags": []
   },
   "outputs": [
    {
     "name": "stdout",
     "output_type": "stream",
     "text": [
      "Requirement already satisfied: statsmodels in /usr/local/lib/python3.8/dist-packages (0.13.0)\n",
      "Requirement already satisfied: patsy>=0.5.2 in /usr/local/lib/python3.8/dist-packages (from statsmodels) (0.5.2)\n",
      "Requirement already satisfied: numpy>=1.17 in /usr/local/lib/python3.8/dist-packages (from statsmodels) (1.18.1)\n",
      "Requirement already satisfied: pandas>=0.25 in /usr/local/lib/python3.8/dist-packages (from statsmodels) (1.2.4)\n",
      "Requirement already satisfied: scipy>=1.3 in /usr/local/lib/python3.8/dist-packages (from statsmodels) (1.7.1)\n",
      "Requirement already satisfied: python-dateutil>=2.7.3 in /usr/local/lib/python3.8/dist-packages (from pandas>=0.25->statsmodels) (2.8.1)\n",
      "Requirement already satisfied: pytz>=2017.3 in /usr/local/lib/python3.8/dist-packages (from pandas>=0.25->statsmodels) (2021.1)\n",
      "Requirement already satisfied: six in /usr/local/lib/python3.8/dist-packages (from patsy>=0.5.2->statsmodels) (1.16.0)\n",
      "\u001b[33mWARNING: Running pip as the 'root' user can result in broken permissions and conflicting behaviour with the system package manager. It is recommended to use a virtual environment instead: https://pip.pypa.io/warnings/venv\u001b[0m\n",
      "\u001b[33mWARNING: You are using pip version 21.1.3; however, version 21.2.4 is available.\n",
      "You should consider upgrading via the '/usr/bin/python3 -m pip install --upgrade pip' command.\u001b[0m\n"
     ]
    }
   ],
   "source": [
    "!pip3 install statsmodels\n",
    "from statsmodels.stats.proportion import proportions_ztest\n"
   ]
  },
  {
   "cell_type": "markdown",
   "metadata": {},
   "source": [
    "Run a statistical test to check whether the current activation rate in Raleigh is different from 6,85%:\n",
    "1. What are your hypotheses?\n",
    "2. Setting your confidence level at 95%, what is the probability of an error of type I in your test? What is the probability of a type II error? What is the power of your test?\n",
    "3. Is the sample mean significantly different from the past value of 6.85?\n",
    "4. Interpret your results. Can you declare the program as successful in increasing activation (what is the probability of wrongfully declaring it successful)?\n",
    "5. Are there any other possible explanations for the change in activation that you observed? Discuss the possible drawbacks of our current test.\n",
    "\n",
    "Use `proportions_ztestz` from `statsmodels.stats.proportion` in order to perform the test. Are your results significant?"
   ]
  },
  {
   "cell_type": "markdown",
   "metadata": {},
   "source": [
    "1. Our hypotheses are:\n",
    "H0 - The activation rate is still 6.85%.\n",
    "H1 - The activation rate is different than 6.85%.\n",
    "2. The probability of a type 1 error is 5% (same as alpha).\n",
    "3.The sample mean - 9.09% significantly different from the past value of 6.85. This translates to p_value=2.88e-13 which is much smaller than required alpha(=5%)\n",
    "4.We can declare that the activation rate increased. With that being said, there could confounding variables that can explain the increase - we need further testing. The probability of us being wrong in the difference significance, is again, the probability to make a type 1 error, which is 5%.\n",
    "5.There could be many alternative possible explanation for activation rate increase, that are not related to the flyer program. For instance, global issues in economy and trends, pandemic, also local events in Raleigh itself that we are not aware of. These issues might affect the way people make decisions, and specifically the decision to take or reject a loan, thus affecting loan activation rates. In this case, the program is not the main reason for the increase in activation rate."
   ]
  },
  {
   "cell_type": "code",
   "execution_count": 202,
   "metadata": {},
   "outputs": [
    {
     "data": {
      "text/plain": [
       "1.4005491742963572e-09"
      ]
     },
     "execution_count": 202,
     "metadata": {},
     "output_type": "execute_result"
    }
   ],
   "source": [
    "true_nums = len(raleigh_df.loc[raleigh_df['offer_accepted'] == True])\n",
    "all_len = len(raleigh_df)\n",
    "stat, pval = proportions_ztest(true_nums, all_len, 0.0685)\n",
    "pval"
   ]
  },
  {
   "cell_type": "markdown",
   "metadata": {},
   "source": [
    "Do you see any possible problems in your methodology? What other factors can explain the change in activation, if such a change exists?"
   ]
  },
  {
   "cell_type": "markdown",
   "metadata": {},
   "source": [
    "We've answered in the above explanation."
   ]
  },
  {
   "cell_type": "markdown",
   "metadata": {
    "tags": []
   },
   "source": [
    "# A/b test"
   ]
  },
  {
   "cell_type": "markdown",
   "metadata": {},
   "source": [
    "In order to isolate temporal and environmental effects on activation, we'll run an a/b test, comparing the activation rate in Raleigh to that of Lubbock, TX, another town in which Pagaya operates without a flyer program. "
   ]
  },
  {
   "cell_type": "markdown",
   "metadata": {},
   "source": [
    "The activation forms for Lubbock also appear in the `offers` subdirectory of the `ASSIGNMENT1_DATA` folder. Read all files from this folder whose name contains the substring 'lubbock', and create a dataframe of final offers called `lubbock_df`, drop unnecessary rows from it, and enrich it with TU features."
   ]
  },
  {
   "cell_type": "code",
   "execution_count": 203,
   "metadata": {},
   "outputs": [
    {
     "data": {
      "text/html": [
       "<div>\n",
       "<style scoped>\n",
       "    .dataframe tbody tr th:only-of-type {\n",
       "        vertical-align: middle;\n",
       "    }\n",
       "\n",
       "    .dataframe tbody tr th {\n",
       "        vertical-align: top;\n",
       "    }\n",
       "\n",
       "    .dataframe thead th {\n",
       "        text-align: right;\n",
       "    }\n",
       "</style>\n",
       "<table border=\"1\" class=\"dataframe\">\n",
       "  <thead>\n",
       "    <tr style=\"text-align: right;\">\n",
       "      <th></th>\n",
       "      <th>id</th>\n",
       "      <th>sequence_num</th>\n",
       "      <th>requested_amount</th>\n",
       "      <th>offered_interest_rate</th>\n",
       "      <th>offer_accepted</th>\n",
       "      <th>offer_date</th>\n",
       "      <th>file_num</th>\n",
       "      <th>credit_score</th>\n",
       "      <th>listing_term</th>\n",
       "      <th>int_rate</th>\n",
       "      <th>loan_amnt</th>\n",
       "      <th>monthly_pmt</th>\n",
       "      <th>original_state</th>\n",
       "      <th>quan_credit</th>\n",
       "      <th>quan_loan_amnt</th>\n",
       "    </tr>\n",
       "  </thead>\n",
       "  <tbody>\n",
       "    <tr>\n",
       "      <th>0</th>\n",
       "      <td>3742bc381ddc6989be5463830f879557a13471e1b8618e...</td>\n",
       "      <td>b1276d6387f519d03d3cce044daaeeb45b568e49acf0a2...</td>\n",
       "      <td>2000.0</td>\n",
       "      <td>14.66</td>\n",
       "      <td>False</td>\n",
       "      <td>2020-12-10</td>\n",
       "      <td>NaN</td>\n",
       "      <td>795</td>\n",
       "      <td>36.0</td>\n",
       "      <td>14.66</td>\n",
       "      <td>2000.0</td>\n",
       "      <td>69.0</td>\n",
       "      <td>TX</td>\n",
       "      <td>9</td>\n",
       "      <td>0</td>\n",
       "    </tr>\n",
       "    <tr>\n",
       "      <th>1</th>\n",
       "      <td>b463a3bb87d8567327a3c84ecaee275b6a74ee244771d9...</td>\n",
       "      <td>35a33e4015f86ec0f66f4af0e1260654be78621befbc7d...</td>\n",
       "      <td>13843.0</td>\n",
       "      <td>15.09</td>\n",
       "      <td>True</td>\n",
       "      <td>2020-12-10</td>\n",
       "      <td>NaN</td>\n",
       "      <td>688</td>\n",
       "      <td>60.0</td>\n",
       "      <td>15.09</td>\n",
       "      <td>13843.0</td>\n",
       "      <td>330.0</td>\n",
       "      <td>TX</td>\n",
       "      <td>4</td>\n",
       "      <td>6</td>\n",
       "    </tr>\n",
       "    <tr>\n",
       "      <th>2</th>\n",
       "      <td>f06539526b5a630e09be216a6bccf9c2e56e0637a005ae...</td>\n",
       "      <td>8c90e11b90d6e158b0fa77816dfc370a71a6637eff749d...</td>\n",
       "      <td>10000.0</td>\n",
       "      <td>16.34</td>\n",
       "      <td>False</td>\n",
       "      <td>2020-12-10</td>\n",
       "      <td>NaN</td>\n",
       "      <td>696</td>\n",
       "      <td>60.0</td>\n",
       "      <td>16.34</td>\n",
       "      <td>10000.0</td>\n",
       "      <td>245.0</td>\n",
       "      <td>TX</td>\n",
       "      <td>5</td>\n",
       "      <td>4</td>\n",
       "    </tr>\n",
       "    <tr>\n",
       "      <th>3</th>\n",
       "      <td>d1607acf30687e938755525e87dc1b4a9597821a4f4eec...</td>\n",
       "      <td>03beebcc3cac134f1788d898d8bb7e8496c3d16982049b...</td>\n",
       "      <td>15000.0</td>\n",
       "      <td>18.50</td>\n",
       "      <td>False</td>\n",
       "      <td>2020-12-10</td>\n",
       "      <td>NaN</td>\n",
       "      <td>631</td>\n",
       "      <td>60.0</td>\n",
       "      <td>18.50</td>\n",
       "      <td>15000.0</td>\n",
       "      <td>385.0</td>\n",
       "      <td>TX</td>\n",
       "      <td>1</td>\n",
       "      <td>8</td>\n",
       "    </tr>\n",
       "    <tr>\n",
       "      <th>4</th>\n",
       "      <td>a66e1960316b31bb57e6d473ae372115b0399961fcf062...</td>\n",
       "      <td>6e61c47f603d22a38ed0fa63c83cef294d825c3fee9b58...</td>\n",
       "      <td>15000.0</td>\n",
       "      <td>8.99</td>\n",
       "      <td>False</td>\n",
       "      <td>2020-12-10</td>\n",
       "      <td>NaN</td>\n",
       "      <td>764</td>\n",
       "      <td>36.0</td>\n",
       "      <td>8.99</td>\n",
       "      <td>15000.0</td>\n",
       "      <td>477.0</td>\n",
       "      <td>TX</td>\n",
       "      <td>8</td>\n",
       "      <td>5</td>\n",
       "    </tr>\n",
       "    <tr>\n",
       "      <th>...</th>\n",
       "      <td>...</td>\n",
       "      <td>...</td>\n",
       "      <td>...</td>\n",
       "      <td>...</td>\n",
       "      <td>...</td>\n",
       "      <td>...</td>\n",
       "      <td>...</td>\n",
       "      <td>...</td>\n",
       "      <td>...</td>\n",
       "      <td>...</td>\n",
       "      <td>...</td>\n",
       "      <td>...</td>\n",
       "      <td>...</td>\n",
       "      <td>...</td>\n",
       "      <td>...</td>\n",
       "    </tr>\n",
       "    <tr>\n",
       "      <th>11315</th>\n",
       "      <td>13b8b97c37fc10f4ffb6801f95cc56c2abe64c702ecc7b...</td>\n",
       "      <td>05ff0b4b1c0454f00132c4b29feb87c91fe98f85ebbcf3...</td>\n",
       "      <td>10000.0</td>\n",
       "      <td>11.71</td>\n",
       "      <td>False</td>\n",
       "      <td>2018-01-01</td>\n",
       "      <td>0.0</td>\n",
       "      <td>758</td>\n",
       "      <td>60.0</td>\n",
       "      <td>11.71</td>\n",
       "      <td>10000.0</td>\n",
       "      <td>221.0</td>\n",
       "      <td>TX</td>\n",
       "      <td>8</td>\n",
       "      <td>3</td>\n",
       "    </tr>\n",
       "    <tr>\n",
       "      <th>11316</th>\n",
       "      <td>ed81efb2125c12ae73c92b36dad9f050c33f3ba3d98b42...</td>\n",
       "      <td>3aad64fa40af5bce4d473f7a38a360de1a2b6dc2b0284d...</td>\n",
       "      <td>9149.0</td>\n",
       "      <td>10.13</td>\n",
       "      <td>False</td>\n",
       "      <td>2018-01-01</td>\n",
       "      <td>0.0</td>\n",
       "      <td>529</td>\n",
       "      <td>60.0</td>\n",
       "      <td>10.13</td>\n",
       "      <td>9149.0</td>\n",
       "      <td>195.0</td>\n",
       "      <td>TX</td>\n",
       "      <td>0</td>\n",
       "      <td>7</td>\n",
       "    </tr>\n",
       "    <tr>\n",
       "      <th>11317</th>\n",
       "      <td>c751b91bf7b5c2655d7ea397e5a03cbccb74513ff527e4...</td>\n",
       "      <td>f8b6f3cb44cfbb44ad3fa12e6758566a38ef13bbd822bd...</td>\n",
       "      <td>5000.0</td>\n",
       "      <td>18.09</td>\n",
       "      <td>True</td>\n",
       "      <td>2018-01-01</td>\n",
       "      <td>0.0</td>\n",
       "      <td>643</td>\n",
       "      <td>36.0</td>\n",
       "      <td>18.09</td>\n",
       "      <td>5000.0</td>\n",
       "      <td>181.0</td>\n",
       "      <td>TX</td>\n",
       "      <td>2</td>\n",
       "      <td>2</td>\n",
       "    </tr>\n",
       "    <tr>\n",
       "      <th>11318</th>\n",
       "      <td>38d1be6da80ad94e7a2d226dbe070696c985613dd00f26...</td>\n",
       "      <td>e9d0ce908c56985675d71e793c06b5b6536afd3ba03d86...</td>\n",
       "      <td>16000.0</td>\n",
       "      <td>10.00</td>\n",
       "      <td>False</td>\n",
       "      <td>2018-01-01</td>\n",
       "      <td>0.0</td>\n",
       "      <td>692</td>\n",
       "      <td>60.0</td>\n",
       "      <td>10.00</td>\n",
       "      <td>16000.0</td>\n",
       "      <td>340.0</td>\n",
       "      <td>TX</td>\n",
       "      <td>5</td>\n",
       "      <td>7</td>\n",
       "    </tr>\n",
       "    <tr>\n",
       "      <th>11319</th>\n",
       "      <td>64796e2ad491e63b299894ddeabb5493e38b7b69770875...</td>\n",
       "      <td>5faf5b8cabb6636e1932f47b51c41e1b12324087fc2e27...</td>\n",
       "      <td>3258.0</td>\n",
       "      <td>17.58</td>\n",
       "      <td>False</td>\n",
       "      <td>2018-01-01</td>\n",
       "      <td>0.0</td>\n",
       "      <td>583</td>\n",
       "      <td>60.0</td>\n",
       "      <td>17.58</td>\n",
       "      <td>3258.0</td>\n",
       "      <td>82.0</td>\n",
       "      <td>TX</td>\n",
       "      <td>0</td>\n",
       "      <td>2</td>\n",
       "    </tr>\n",
       "  </tbody>\n",
       "</table>\n",
       "<p>11320 rows × 15 columns</p>\n",
       "</div>"
      ],
      "text/plain": [
       "                                                      id  \\\n",
       "0      3742bc381ddc6989be5463830f879557a13471e1b8618e...   \n",
       "1      b463a3bb87d8567327a3c84ecaee275b6a74ee244771d9...   \n",
       "2      f06539526b5a630e09be216a6bccf9c2e56e0637a005ae...   \n",
       "3      d1607acf30687e938755525e87dc1b4a9597821a4f4eec...   \n",
       "4      a66e1960316b31bb57e6d473ae372115b0399961fcf062...   \n",
       "...                                                  ...   \n",
       "11315  13b8b97c37fc10f4ffb6801f95cc56c2abe64c702ecc7b...   \n",
       "11316  ed81efb2125c12ae73c92b36dad9f050c33f3ba3d98b42...   \n",
       "11317  c751b91bf7b5c2655d7ea397e5a03cbccb74513ff527e4...   \n",
       "11318  38d1be6da80ad94e7a2d226dbe070696c985613dd00f26...   \n",
       "11319  64796e2ad491e63b299894ddeabb5493e38b7b69770875...   \n",
       "\n",
       "                                            sequence_num  requested_amount  \\\n",
       "0      b1276d6387f519d03d3cce044daaeeb45b568e49acf0a2...            2000.0   \n",
       "1      35a33e4015f86ec0f66f4af0e1260654be78621befbc7d...           13843.0   \n",
       "2      8c90e11b90d6e158b0fa77816dfc370a71a6637eff749d...           10000.0   \n",
       "3      03beebcc3cac134f1788d898d8bb7e8496c3d16982049b...           15000.0   \n",
       "4      6e61c47f603d22a38ed0fa63c83cef294d825c3fee9b58...           15000.0   \n",
       "...                                                  ...               ...   \n",
       "11315  05ff0b4b1c0454f00132c4b29feb87c91fe98f85ebbcf3...           10000.0   \n",
       "11316  3aad64fa40af5bce4d473f7a38a360de1a2b6dc2b0284d...            9149.0   \n",
       "11317  f8b6f3cb44cfbb44ad3fa12e6758566a38ef13bbd822bd...            5000.0   \n",
       "11318  e9d0ce908c56985675d71e793c06b5b6536afd3ba03d86...           16000.0   \n",
       "11319  5faf5b8cabb6636e1932f47b51c41e1b12324087fc2e27...            3258.0   \n",
       "\n",
       "       offered_interest_rate  offer_accepted  offer_date  file_num  \\\n",
       "0                      14.66           False  2020-12-10       NaN   \n",
       "1                      15.09            True  2020-12-10       NaN   \n",
       "2                      16.34           False  2020-12-10       NaN   \n",
       "3                      18.50           False  2020-12-10       NaN   \n",
       "4                       8.99           False  2020-12-10       NaN   \n",
       "...                      ...             ...         ...       ...   \n",
       "11315                  11.71           False  2018-01-01       0.0   \n",
       "11316                  10.13           False  2018-01-01       0.0   \n",
       "11317                  18.09            True  2018-01-01       0.0   \n",
       "11318                  10.00           False  2018-01-01       0.0   \n",
       "11319                  17.58           False  2018-01-01       0.0   \n",
       "\n",
       "       credit_score  listing_term  int_rate  loan_amnt  monthly_pmt  \\\n",
       "0               795          36.0     14.66     2000.0         69.0   \n",
       "1               688          60.0     15.09    13843.0        330.0   \n",
       "2               696          60.0     16.34    10000.0        245.0   \n",
       "3               631          60.0     18.50    15000.0        385.0   \n",
       "4               764          36.0      8.99    15000.0        477.0   \n",
       "...             ...           ...       ...        ...          ...   \n",
       "11315           758          60.0     11.71    10000.0        221.0   \n",
       "11316           529          60.0     10.13     9149.0        195.0   \n",
       "11317           643          36.0     18.09     5000.0        181.0   \n",
       "11318           692          60.0     10.00    16000.0        340.0   \n",
       "11319           583          60.0     17.58     3258.0         82.0   \n",
       "\n",
       "      original_state  quan_credit  quan_loan_amnt  \n",
       "0                 TX            9               0  \n",
       "1                 TX            4               6  \n",
       "2                 TX            5               4  \n",
       "3                 TX            1               8  \n",
       "4                 TX            8               5  \n",
       "...              ...          ...             ...  \n",
       "11315             TX            8               3  \n",
       "11316             TX            0               7  \n",
       "11317             TX            2               2  \n",
       "11318             TX            5               7  \n",
       "11319             TX            0               2  \n",
       "\n",
       "[11320 rows x 15 columns]"
      ]
     },
     "execution_count": 203,
     "metadata": {},
     "output_type": "execute_result"
    }
   ],
   "source": [
    "lubbock_forms= (\n",
    "    glob.glob(\n",
    "        os.path.join(ASSIGNMENT1_DATA,\"offers/*lubbock*\")\n",
    "    )\n",
    ")\n",
    "lubbock_df= pd.read_csv(lubbock_forms[0])\n",
    "lubbock_df['file_num'] = 0\n",
    "for num in range(1,len(lubbock_forms)):\n",
    "    lubbock_df = pd.concat([lubbock_df, pd.read_csv(lubbock_forms[num])], ignore_index=True)\n",
    "lubbock_df = lubbock_df.sort_values('offer_date', ascending=False).drop_duplicates('id').reset_index(drop=True)\n",
    "lubbock_df = lubbock_df.merge(tu_data, left_on=['id', 'sequence_num'], right_on=['id', 'sequence_num'])\n",
    "lubbock_df"
   ]
  },
  {
   "cell_type": "markdown",
   "metadata": {},
   "source": [
    "What is the average interest rate in Lubbock? What is it among accepting borrowers?"
   ]
  },
  {
   "cell_type": "code",
   "execution_count": 204,
   "metadata": {},
   "outputs": [
    {
     "data": {
      "text/plain": [
       "15.505397526501767"
      ]
     },
     "execution_count": 204,
     "metadata": {},
     "output_type": "execute_result"
    }
   ],
   "source": [
    "lubbock_df['offered_interest_rate'].mean()"
   ]
  },
  {
   "cell_type": "code",
   "execution_count": 205,
   "metadata": {},
   "outputs": [
    {
     "data": {
      "text/plain": [
       "13.553895131086142"
      ]
     },
     "execution_count": 205,
     "metadata": {},
     "output_type": "execute_result"
    }
   ],
   "source": [
    "lubbock_df.loc[lubbock_df['offer_accepted'] == True]['offered_interest_rate'].mean()"
   ]
  },
  {
   "cell_type": "markdown",
   "metadata": {},
   "source": [
    "What is the average credit score in Lubbock? What is it among accepting borrowers?"
   ]
  },
  {
   "cell_type": "code",
   "execution_count": 206,
   "metadata": {},
   "outputs": [
    {
     "data": {
      "text/plain": [
       "690.0338339222615"
      ]
     },
     "execution_count": 206,
     "metadata": {},
     "output_type": "execute_result"
    }
   ],
   "source": [
    "lubbock_df['credit_score'].mean()"
   ]
  },
  {
   "cell_type": "code",
   "execution_count": 207,
   "metadata": {},
   "outputs": [
    {
     "data": {
      "text/plain": [
       "730.5337078651686"
      ]
     },
     "execution_count": 207,
     "metadata": {},
     "output_type": "execute_result"
    }
   ],
   "source": [
    "lubbock_df.loc[lubbock_df['offer_accepted'] == True]['credit_score'].mean()"
   ]
  },
  {
   "cell_type": "markdown",
   "metadata": {},
   "source": [
    "What is the rate of activation in Lubbock?"
   ]
  },
  {
   "cell_type": "code",
   "execution_count": 208,
   "metadata": {},
   "outputs": [
    {
     "data": {
      "text/plain": [
       "0.04717314487632509"
      ]
     },
     "execution_count": 208,
     "metadata": {},
     "output_type": "execute_result"
    }
   ],
   "source": [
    "lubbock_df['offer_accepted'].value_counts(normalize=True)[1]"
   ]
  },
  {
   "cell_type": "markdown",
   "metadata": {},
   "source": [
    "## Caution about a/b test "
   ]
  },
  {
   "cell_type": "markdown",
   "metadata": {},
   "source": [
    "Note that this is not a classical a/b test. Usually, in such a test, one creates two random subgroups from the general population and applies a manipulation to one of them in order to see if the manipulation had an effect. However, in this case, it is very complicated to isolate a random subgroup from any population and deploy the flyer program only on it.\n",
    "Thus, due to production limitation, we have to make do with what we got."
   ]
  },
  {
   "cell_type": "markdown",
   "metadata": {},
   "source": [
    "In order to justify the use of an a/b test for this situation, we should at least verify that the borrower population in Lubbock and Raleigh seem as though they were randomly selected from the general population. We have actually already checked it for Raleigh above. Add TU features to the loan amount, interest rate, credit score and term comparisons and see if there any major differences between the three populations (Lubbock, Raleigh and TU)."
   ]
  },
  {
   "cell_type": "code",
   "execution_count": 260,
   "metadata": {},
   "outputs": [
    {
     "data": {
      "text/plain": [
       "Text(0.5, 0, 'credit_score')"
      ]
     },
     "execution_count": 260,
     "metadata": {},
     "output_type": "execute_result"
    },
    {
     "data": {
      "image/png": "[encoded data removed]",
      "text/plain": [
       "<Figure size 1728x288 with 3 Axes>"
      ]
     },
     "metadata": {
      "needs_background": "light"
     },
     "output_type": "display_data"
    }
   ],
   "source": [
    "# sns.set(rc={“figsize”: (18, 6)});\n",
    "plt.figure(figsize=(24,4))\n",
    "\n",
    "plt.subplot(1,3,1)\n",
    "bins = 100\n",
    "plt.hist(raleigh_df['loan_amnt'], bins, alpha=0.5, label='raleigh', density=True, range=(0,60000))\n",
    "plt.hist(lubbock_df['loan_amnt'], bins, alpha=0.5, label='lubbock', density=True, range=(0,60000))\n",
    "plt.hist(tu_data['loan_amnt'], bins, alpha=0.5, label='tu', density=True, range=(0,60000))\n",
    "plt.legend(loc='upper right')\n",
    "\n",
    "plt.title('loan amnout', weight='bold', fontsize = 14)\n",
    "plt.xlabel('loan_amnt',weight='bold', fontsize = 14)\n",
    "plt.ylabel('number of occurrences',weight='bold', fontsize = 14)\n",
    "\n",
    "plt.subplot(1,3,2)\n",
    "plt.hist(raleigh_df['int_rate'], bins, alpha=0.5, label='raleigh', density=True)\n",
    "plt.hist(lubbock_df['int_rate'], bins, alpha=0.5, label='lubbock', density=True)\n",
    "plt.hist(tu_data['int_rate'], bins, alpha=0.5, label='tu', density=True)\n",
    "plt.title('interest rate', weight='bold', fontsize = 14)\n",
    "plt.legend(loc='upper right')\n",
    "plt.xlabel('interest rate',weight='bold', fontsize = 14)\n",
    "\n",
    "plt.subplot(1,3,3)\n",
    "plt.hist(raleigh_df['credit_score'], bins, alpha=0.5, label='raleigh', density=True, range=(270, 880))\n",
    "plt.hist(lubbock_df['credit_score'], bins, alpha=0.5, label='lubbock', density=True, range=(270, 880))\n",
    "plt.hist(tu_data['credit_score'], bins, alpha=0.5, label='tu', density=True, range=(270, 880))\n",
    "plt.title('Credit score', weight='bold', fontsize = 14)\n",
    "plt.legend(loc='upper right')\n",
    "plt.xlabel('credit_score', fontsize = 14,weight='bold')"
   ]
  },
  {
   "cell_type": "code",
   "execution_count": 212,
   "metadata": {},
   "outputs": [
    {
     "data": {
      "image/png": "[encoded data removed]",
      "text/plain": [
       "<Figure size 432x288 with 1 Axes>"
      ]
     },
     "metadata": {
      "needs_background": "light"
     },
     "output_type": "display_data"
    }
   ],
   "source": [
    "bins = 100\n",
    "plt.hist(raleigh_df['listing_term'], bins, alpha=0.5, label='raleigh', density=True)\n",
    "plt.hist(lubbock_df['listing_term'], bins, alpha=0.5, label='lubbock', density=True)\n",
    "plt.hist(tu_data['listing_term'], bins, alpha=0.5, label='tu', density=True)\n",
    "plt.legend(loc='upper right')\n",
    "plt.show()"
   ]
  },
  {
   "cell_type": "code",
   "execution_count": null,
   "metadata": {},
   "outputs": [],
   "source": []
  },
  {
   "cell_type": "markdown",
   "metadata": {},
   "source": [
    "## Performing the test"
   ]
  },
  {
   "cell_type": "markdown",
   "metadata": {
    "execution": {
     "iopub.status.busy": "2021-07-01T03:36:51.530342Z",
     "iopub.status.idle": "2021-07-01T03:36:51.530744Z"
    }
   },
   "source": [
    "Use the function you created in the file `clt.py` to plot the series of means of activation in Raleigh and Lubbock for samples of size n= 1, 10, 1000 and 1e6, and compare the means of the two histograms. To they seem to converge to the same value?"
   ]
  },
  {
   "cell_type": "code",
   "execution_count": 213,
   "metadata": {},
   "outputs": [
    {
     "data": {
      "image/png": "[encoded data removed]",
      "text/plain": [
       "<Figure size 432x288 with 1 Axes>"
      ]
     },
     "metadata": {
      "needs_background": "light"
     },
     "output_type": "display_data"
    },
    {
     "data": {
      "image/png": "[encoded data removed]",
      "text/plain": [
       "<Figure size 432x288 with 1 Axes>"
      ]
     },
     "metadata": {
      "needs_background": "light"
     },
     "output_type": "display_data"
    },
    {
     "data": {
      "image/png": "[encoded data removed]",
      "text/plain": [
       "<Figure size 432x288 with 1 Axes>"
      ]
     },
     "metadata": {
      "needs_background": "light"
     },
     "output_type": "display_data"
    },
    {
     "data": {
      "image/png": "[encoded data removed]",
      "text/plain": [
       "<Figure size 432x288 with 1 Axes>"
      ]
     },
     "metadata": {
      "needs_background": "light"
     },
     "output_type": "display_data"
    }
   ],
   "source": [
    "run_list = [1,10,1000,1000000]\n",
    "\n",
    "for num in run_list:\n",
    "    hist_boot(raleigh_df['offer_accepted'], num)\n",
    "    hist_boot(lubbock_df['offer_accepted'], num)\n",
    "    plt.show()"
   ]
  },
  {
   "cell_type": "markdown",
   "metadata": {},
   "source": [
    "Apply a statistical test to see whether the activation rate in Raleigh, NC is significantly larger than Lubbock, TX. Clearly state and validate your test's assumption. \n",
    "\n",
    "1. What are your hypotheses?\n",
    "2. Setting your confidence level at 95%, what is the probability of an error of type I in your test? What is the probability of a type II error?\n",
    "3. Are the two samples significantly different? \n",
    "4. Interpret your results. Can you declare the program as successful in increasing activation? What is the probability of wrongfully declaring it successful?"
   ]
  },
  {
   "cell_type": "markdown",
   "metadata": {},
   "source": [
    "1.H0 - The activation rate of both cities is the same. H1 - The rate is different between the two cities.\n",
    "\n",
    "2.The probability of a type 1 error is 5% (same as alpha).\n",
    "\n",
    "3.The two samples are significantly different, the test returned p_value=1.1e-29 which is much smaller than required alpha(=5%).\n",
    "\n",
    "4.The a/b test results, supports our notion that the flyer program was affective.\n",
    "\n",
    "    - In the initial test, we got a significant increase in activation rate\n",
    "    - In an a/b test, any global confounding variables that affected the increase, would have affected both cities. since there is no significant increase in activation rate in Bullock, we can assume there were no global confounding variables.\n",
    "    - This does not indicate, that there aren't confounding variables that affect Raleigh locally\n",
    "    - In addition, even though the cities have similar characteristics, we don't know what was the activation rate in Lubbock prior to the flyer program (that was deployed in Raleigh). It is possible that the activation rate of Lubbock was lower than 4.7% (activation rate in Lubbock after the flyer program was deployed in Raleigh) to begin with, which would undermine the efficiency of the flyer program"
   ]
  },
  {
   "cell_type": "code",
   "execution_count": 214,
   "metadata": {},
   "outputs": [
    {
     "name": "stdout",
     "output_type": "stream",
     "text": [
      "1.0951717760291721e-29\n"
     ]
    }
   ],
   "source": [
    "true_nums = len(raleigh_df.loc[raleigh_df['offer_accepted'] == True])\n",
    "all_len = len(raleigh_df)\n",
    "\n",
    "true_nums2 = len(lubbock_df.loc[lubbock_df['offer_accepted'] == True])\n",
    "all_len2 = len(lubbock_df)\n",
    "\n",
    "counts = [true_nums, true_nums2]\n",
    "nobs = [all_len, all_len2]\n",
    "\n",
    "stat, pval = proportions_ztest(counts, nobs)\n",
    "print(pval)"
   ]
  },
  {
   "cell_type": "markdown",
   "metadata": {},
   "source": [
    "Use the `proportions_ztestz` function from `statsmodels.stats.proportion` to perform a comparison between the activation probability in Lubbock and in Raleigh. "
   ]
  },
  {
   "cell_type": "code",
   "execution_count": null,
   "metadata": {},
   "outputs": [],
   "source": []
  },
  {
   "cell_type": "code",
   "execution_count": null,
   "metadata": {},
   "outputs": [],
   "source": []
  },
  {
   "cell_type": "markdown",
   "metadata": {
    "execution": {
     "iopub.status.busy": "2021-07-01T03:36:51.542043Z",
     "iopub.status.idle": "2021-07-01T03:36:51.542428Z"
    }
   },
   "source": [
    "Interprest your results; do you observe a significant change in activation in Raleigh? What is the probability of wrongfully declaring the program successful?"
   ]
  },
  {
   "cell_type": "code",
   "execution_count": null,
   "metadata": {},
   "outputs": [],
   "source": []
  },
  {
   "cell_type": "markdown",
   "metadata": {},
   "source": [
    "# Testing for activation in sub-populations"
   ]
  },
  {
   "cell_type": "markdown",
   "metadata": {},
   "source": [
    "Now that you applied the a/b test to the Lubbock and Raleigh datasets, it is now required that you make a similar comparison on different subsets of the data within various credit score and loan amount bins. To do so, let us first decide on how to segment our data.\n",
    "\n",
    "You are asked to divide your data into 10 bins according to loan amount, and then divide each of those bins into 10 bins according to loan amount. The most staightforward way of doing this is by using the `pd.qcut` function; first dividing the data into 10 quantiles of credit score and then dividing each of these quantiles into 10 according to loan amount."
   ]
  },
  {
   "cell_type": "markdown",
   "metadata": {},
   "source": [
    "Divide your datasets as above and add two columns to your data which indicate the (credit_score, loan_amnt) of the bin."
   ]
  },
  {
   "cell_type": "markdown",
   "metadata": {},
   "source": [
    "#### We did this at the top of the notebook."
   ]
  },
  {
   "cell_type": "markdown",
   "metadata": {},
   "source": [
    "Run an a/b test on each of the bins in your data and create a $10\\times 10$ table containing the $p$ value of each test."
   ]
  },
  {
   "cell_type": "code",
   "execution_count": 215,
   "metadata": {},
   "outputs": [
    {
     "data": {
      "text/html": [
       "<div>\n",
       "<style scoped>\n",
       "    .dataframe tbody tr th:only-of-type {\n",
       "        vertical-align: middle;\n",
       "    }\n",
       "\n",
       "    .dataframe tbody tr th {\n",
       "        vertical-align: top;\n",
       "    }\n",
       "\n",
       "    .dataframe thead th {\n",
       "        text-align: right;\n",
       "    }\n",
       "</style>\n",
       "<table border=\"1\" class=\"dataframe\">\n",
       "  <thead>\n",
       "    <tr style=\"text-align: right;\">\n",
       "      <th></th>\n",
       "      <th></th>\n",
       "      <th>sum</th>\n",
       "      <th>count</th>\n",
       "    </tr>\n",
       "    <tr>\n",
       "      <th>quan_credit</th>\n",
       "      <th>quan_loan_amnt</th>\n",
       "      <th></th>\n",
       "      <th></th>\n",
       "    </tr>\n",
       "  </thead>\n",
       "  <tbody>\n",
       "    <tr>\n",
       "      <th rowspan=\"5\" valign=\"top\">0</th>\n",
       "      <th>0</th>\n",
       "      <td>14</td>\n",
       "      <td>112</td>\n",
       "    </tr>\n",
       "    <tr>\n",
       "      <th>1</th>\n",
       "      <td>12</td>\n",
       "      <td>86</td>\n",
       "    </tr>\n",
       "    <tr>\n",
       "      <th>2</th>\n",
       "      <td>8</td>\n",
       "      <td>79</td>\n",
       "    </tr>\n",
       "    <tr>\n",
       "      <th>3</th>\n",
       "      <td>3</td>\n",
       "      <td>78</td>\n",
       "    </tr>\n",
       "    <tr>\n",
       "      <th>4</th>\n",
       "      <td>8</td>\n",
       "      <td>95</td>\n",
       "    </tr>\n",
       "    <tr>\n",
       "      <th>...</th>\n",
       "      <th>...</th>\n",
       "      <td>...</td>\n",
       "      <td>...</td>\n",
       "    </tr>\n",
       "    <tr>\n",
       "      <th rowspan=\"5\" valign=\"top\">9</th>\n",
       "      <th>5</th>\n",
       "      <td>21</td>\n",
       "      <td>115</td>\n",
       "    </tr>\n",
       "    <tr>\n",
       "      <th>6</th>\n",
       "      <td>8</td>\n",
       "      <td>35</td>\n",
       "    </tr>\n",
       "    <tr>\n",
       "      <th>7</th>\n",
       "      <td>9</td>\n",
       "      <td>83</td>\n",
       "    </tr>\n",
       "    <tr>\n",
       "      <th>8</th>\n",
       "      <td>20</td>\n",
       "      <td>109</td>\n",
       "    </tr>\n",
       "    <tr>\n",
       "      <th>9</th>\n",
       "      <td>16</td>\n",
       "      <td>69</td>\n",
       "    </tr>\n",
       "  </tbody>\n",
       "</table>\n",
       "<p>100 rows × 2 columns</p>\n",
       "</div>"
      ],
      "text/plain": [
       "                            sum  count\n",
       "quan_credit quan_loan_amnt            \n",
       "0           0                14    112\n",
       "            1                12     86\n",
       "            2                 8     79\n",
       "            3                 3     78\n",
       "            4                 8     95\n",
       "...                         ...    ...\n",
       "9           5                21    115\n",
       "            6                 8     35\n",
       "            7                 9     83\n",
       "            8                20    109\n",
       "            9                16     69\n",
       "\n",
       "[100 rows x 2 columns]"
      ]
     },
     "execution_count": 215,
     "metadata": {},
     "output_type": "execute_result"
    }
   ],
   "source": [
    "raleigh_df\n",
    "p_vals_table_r = (raleigh_df\n",
    "                .groupby(['quan_credit', 'quan_loan_amnt'])['offer_accepted']\n",
    "                .agg(['sum', 'count'])\n",
    "               )\n",
    "p_vals_table_r"
   ]
  },
  {
   "cell_type": "code",
   "execution_count": 216,
   "metadata": {},
   "outputs": [
    {
     "data": {
      "text/html": [
       "<div>\n",
       "<style scoped>\n",
       "    .dataframe tbody tr th:only-of-type {\n",
       "        vertical-align: middle;\n",
       "    }\n",
       "\n",
       "    .dataframe tbody tr th {\n",
       "        vertical-align: top;\n",
       "    }\n",
       "\n",
       "    .dataframe thead th {\n",
       "        text-align: right;\n",
       "    }\n",
       "</style>\n",
       "<table border=\"1\" class=\"dataframe\">\n",
       "  <thead>\n",
       "    <tr style=\"text-align: right;\">\n",
       "      <th></th>\n",
       "      <th></th>\n",
       "      <th>sum</th>\n",
       "      <th>count</th>\n",
       "    </tr>\n",
       "    <tr>\n",
       "      <th>quan_credit</th>\n",
       "      <th>quan_loan_amnt</th>\n",
       "      <th></th>\n",
       "      <th></th>\n",
       "    </tr>\n",
       "  </thead>\n",
       "  <tbody>\n",
       "    <tr>\n",
       "      <th rowspan=\"5\" valign=\"top\">0</th>\n",
       "      <th>0</th>\n",
       "      <td>2</td>\n",
       "      <td>141</td>\n",
       "    </tr>\n",
       "    <tr>\n",
       "      <th>1</th>\n",
       "      <td>2</td>\n",
       "      <td>104</td>\n",
       "    </tr>\n",
       "    <tr>\n",
       "      <th>2</th>\n",
       "      <td>1</td>\n",
       "      <td>114</td>\n",
       "    </tr>\n",
       "    <tr>\n",
       "      <th>3</th>\n",
       "      <td>1</td>\n",
       "      <td>108</td>\n",
       "    </tr>\n",
       "    <tr>\n",
       "      <th>4</th>\n",
       "      <td>4</td>\n",
       "      <td>106</td>\n",
       "    </tr>\n",
       "    <tr>\n",
       "      <th>...</th>\n",
       "      <th>...</th>\n",
       "      <td>...</td>\n",
       "      <td>...</td>\n",
       "    </tr>\n",
       "    <tr>\n",
       "      <th rowspan=\"5\" valign=\"top\">9</th>\n",
       "      <th>5</th>\n",
       "      <td>28</td>\n",
       "      <td>176</td>\n",
       "    </tr>\n",
       "    <tr>\n",
       "      <th>6</th>\n",
       "      <td>4</td>\n",
       "      <td>45</td>\n",
       "    </tr>\n",
       "    <tr>\n",
       "      <th>7</th>\n",
       "      <td>13</td>\n",
       "      <td>105</td>\n",
       "    </tr>\n",
       "    <tr>\n",
       "      <th>8</th>\n",
       "      <td>12</td>\n",
       "      <td>130</td>\n",
       "    </tr>\n",
       "    <tr>\n",
       "      <th>9</th>\n",
       "      <td>13</td>\n",
       "      <td>91</td>\n",
       "    </tr>\n",
       "  </tbody>\n",
       "</table>\n",
       "<p>100 rows × 2 columns</p>\n",
       "</div>"
      ],
      "text/plain": [
       "                            sum  count\n",
       "quan_credit quan_loan_amnt            \n",
       "0           0                 2    141\n",
       "            1                 2    104\n",
       "            2                 1    114\n",
       "            3                 1    108\n",
       "            4                 4    106\n",
       "...                         ...    ...\n",
       "9           5                28    176\n",
       "            6                 4     45\n",
       "            7                13    105\n",
       "            8                12    130\n",
       "            9                13     91\n",
       "\n",
       "[100 rows x 2 columns]"
      ]
     },
     "execution_count": 216,
     "metadata": {},
     "output_type": "execute_result"
    }
   ],
   "source": [
    "lubbock_df\n",
    "p_vals_table_l = (lubbock_df\n",
    "                .groupby(['quan_credit', 'quan_loan_amnt'])['offer_accepted']\n",
    "                .agg(['sum', 'count'])\n",
    "               )\n",
    "p_vals_table_l"
   ]
  },
  {
   "cell_type": "code",
   "execution_count": 217,
   "metadata": {},
   "outputs": [],
   "source": [
    "# p_vals_table_l.index = p_vals_table_l.index.to_flat_index()"
   ]
  },
  {
   "cell_type": "code",
   "execution_count": 218,
   "metadata": {},
   "outputs": [],
   "source": [
    "# p_vals_table_r.index = p_vals_table_r.index.to_flat_index()"
   ]
  },
  {
   "cell_type": "code",
   "execution_count": 219,
   "metadata": {},
   "outputs": [
    {
     "data": {
      "text/html": [
       "<div>\n",
       "<style scoped>\n",
       "    .dataframe tbody tr th:only-of-type {\n",
       "        vertical-align: middle;\n",
       "    }\n",
       "\n",
       "    .dataframe tbody tr th {\n",
       "        vertical-align: top;\n",
       "    }\n",
       "\n",
       "    .dataframe thead th {\n",
       "        text-align: right;\n",
       "    }\n",
       "</style>\n",
       "<table border=\"1\" class=\"dataframe\">\n",
       "  <thead>\n",
       "    <tr style=\"text-align: right;\">\n",
       "      <th></th>\n",
       "      <th></th>\n",
       "      <th>sum_x</th>\n",
       "      <th>count_x</th>\n",
       "      <th>sum_y</th>\n",
       "      <th>count_y</th>\n",
       "    </tr>\n",
       "    <tr>\n",
       "      <th>quan_credit</th>\n",
       "      <th>quan_loan_amnt</th>\n",
       "      <th></th>\n",
       "      <th></th>\n",
       "      <th></th>\n",
       "      <th></th>\n",
       "    </tr>\n",
       "  </thead>\n",
       "  <tbody>\n",
       "    <tr>\n",
       "      <th rowspan=\"5\" valign=\"top\">0</th>\n",
       "      <th>0</th>\n",
       "      <td>2</td>\n",
       "      <td>141</td>\n",
       "      <td>14</td>\n",
       "      <td>112</td>\n",
       "    </tr>\n",
       "    <tr>\n",
       "      <th>1</th>\n",
       "      <td>2</td>\n",
       "      <td>104</td>\n",
       "      <td>12</td>\n",
       "      <td>86</td>\n",
       "    </tr>\n",
       "    <tr>\n",
       "      <th>2</th>\n",
       "      <td>1</td>\n",
       "      <td>114</td>\n",
       "      <td>8</td>\n",
       "      <td>79</td>\n",
       "    </tr>\n",
       "    <tr>\n",
       "      <th>3</th>\n",
       "      <td>1</td>\n",
       "      <td>108</td>\n",
       "      <td>3</td>\n",
       "      <td>78</td>\n",
       "    </tr>\n",
       "    <tr>\n",
       "      <th>4</th>\n",
       "      <td>4</td>\n",
       "      <td>106</td>\n",
       "      <td>8</td>\n",
       "      <td>95</td>\n",
       "    </tr>\n",
       "    <tr>\n",
       "      <th>...</th>\n",
       "      <th>...</th>\n",
       "      <td>...</td>\n",
       "      <td>...</td>\n",
       "      <td>...</td>\n",
       "      <td>...</td>\n",
       "    </tr>\n",
       "    <tr>\n",
       "      <th rowspan=\"5\" valign=\"top\">9</th>\n",
       "      <th>5</th>\n",
       "      <td>28</td>\n",
       "      <td>176</td>\n",
       "      <td>21</td>\n",
       "      <td>115</td>\n",
       "    </tr>\n",
       "    <tr>\n",
       "      <th>6</th>\n",
       "      <td>4</td>\n",
       "      <td>45</td>\n",
       "      <td>8</td>\n",
       "      <td>35</td>\n",
       "    </tr>\n",
       "    <tr>\n",
       "      <th>7</th>\n",
       "      <td>13</td>\n",
       "      <td>105</td>\n",
       "      <td>9</td>\n",
       "      <td>83</td>\n",
       "    </tr>\n",
       "    <tr>\n",
       "      <th>8</th>\n",
       "      <td>12</td>\n",
       "      <td>130</td>\n",
       "      <td>20</td>\n",
       "      <td>109</td>\n",
       "    </tr>\n",
       "    <tr>\n",
       "      <th>9</th>\n",
       "      <td>13</td>\n",
       "      <td>91</td>\n",
       "      <td>16</td>\n",
       "      <td>69</td>\n",
       "    </tr>\n",
       "  </tbody>\n",
       "</table>\n",
       "<p>100 rows × 4 columns</p>\n",
       "</div>"
      ],
      "text/plain": [
       "                            sum_x  count_x  sum_y  count_y\n",
       "quan_credit quan_loan_amnt                                \n",
       "0           0                   2      141     14      112\n",
       "            1                   2      104     12       86\n",
       "            2                   1      114      8       79\n",
       "            3                   1      108      3       78\n",
       "            4                   4      106      8       95\n",
       "...                           ...      ...    ...      ...\n",
       "9           5                  28      176     21      115\n",
       "            6                   4       45      8       35\n",
       "            7                  13      105      9       83\n",
       "            8                  12      130     20      109\n",
       "            9                  13       91     16       69\n",
       "\n",
       "[100 rows x 4 columns]"
      ]
     },
     "execution_count": 219,
     "metadata": {},
     "output_type": "execute_result"
    }
   ],
   "source": [
    "p_vals_table = p_vals_table_l.copy()\n",
    "p_vals_table = p_vals_table.merge(p_vals_table_r, how='inner', left_index=True, right_index=True)\n",
    "p_vals_table"
   ]
  },
  {
   "cell_type": "code",
   "execution_count": 220,
   "metadata": {},
   "outputs": [
    {
     "name": "stderr",
     "output_type": "stream",
     "text": [
      "/usr/local/lib/python3.8/dist-packages/statsmodels/stats/weightstats.py:790: RuntimeWarning: invalid value encountered in double_scalars\n",
      "  zstat = value / std\n"
     ]
    },
    {
     "data": {
      "text/plain": [
       "quan_credit  quan_loan_amnt\n",
       "0            0                 0.000322\n",
       "             1                 0.001581\n",
       "             2                 0.002730\n",
       "             3                 0.175490\n",
       "             4                 0.165022\n",
       "                                 ...   \n",
       "9            5                 0.600185\n",
       "             6                 0.082611\n",
       "             7                 0.744670\n",
       "             8                 0.039240\n",
       "             9                 0.147689\n",
       "Length: 100, dtype: float64"
      ]
     },
     "execution_count": 220,
     "metadata": {},
     "output_type": "execute_result"
    }
   ],
   "source": [
    "p_vals_table = p_vals_table.apply(lambda x: (proportions_ztest([x['sum_x'], x['sum_y']], [x['count_x'], x['count_y']])[1]), axis=1)\n",
    "p_vals_table"
   ]
  },
  {
   "cell_type": "code",
   "execution_count": 221,
   "metadata": {},
   "outputs": [],
   "source": [
    "p_vals_table.index = pd.MultiIndex.from_tuples(p_vals_table.index, names=('quan_credit', 'quan_loan_amnt'))"
   ]
  },
  {
   "cell_type": "code",
   "execution_count": 222,
   "metadata": {},
   "outputs": [],
   "source": [
    "p_vals_table = pd.DataFrame(data=p_vals_table.values, index=p_vals_table.index, columns=['p_value'])"
   ]
  },
  {
   "cell_type": "code",
   "execution_count": 223,
   "metadata": {},
   "outputs": [
    {
     "data": {
      "text/html": [
       "<div>\n",
       "<style scoped>\n",
       "    .dataframe tbody tr th:only-of-type {\n",
       "        vertical-align: middle;\n",
       "    }\n",
       "\n",
       "    .dataframe tbody tr th {\n",
       "        vertical-align: top;\n",
       "    }\n",
       "\n",
       "    .dataframe thead th {\n",
       "        text-align: right;\n",
       "    }\n",
       "</style>\n",
       "<table border=\"1\" class=\"dataframe\">\n",
       "  <thead>\n",
       "    <tr style=\"text-align: right;\">\n",
       "      <th></th>\n",
       "      <th></th>\n",
       "      <th>p_value</th>\n",
       "    </tr>\n",
       "    <tr>\n",
       "      <th>quan_credit</th>\n",
       "      <th>quan_loan_amnt</th>\n",
       "      <th></th>\n",
       "    </tr>\n",
       "  </thead>\n",
       "  <tbody>\n",
       "    <tr>\n",
       "      <th rowspan=\"5\" valign=\"top\">0</th>\n",
       "      <th>0</th>\n",
       "      <td>0.000322</td>\n",
       "    </tr>\n",
       "    <tr>\n",
       "      <th>1</th>\n",
       "      <td>0.001581</td>\n",
       "    </tr>\n",
       "    <tr>\n",
       "      <th>2</th>\n",
       "      <td>0.002730</td>\n",
       "    </tr>\n",
       "    <tr>\n",
       "      <th>3</th>\n",
       "      <td>0.175490</td>\n",
       "    </tr>\n",
       "    <tr>\n",
       "      <th>4</th>\n",
       "      <td>0.165022</td>\n",
       "    </tr>\n",
       "    <tr>\n",
       "      <th>...</th>\n",
       "      <th>...</th>\n",
       "      <td>...</td>\n",
       "    </tr>\n",
       "    <tr>\n",
       "      <th rowspan=\"5\" valign=\"top\">9</th>\n",
       "      <th>5</th>\n",
       "      <td>0.600185</td>\n",
       "    </tr>\n",
       "    <tr>\n",
       "      <th>6</th>\n",
       "      <td>0.082611</td>\n",
       "    </tr>\n",
       "    <tr>\n",
       "      <th>7</th>\n",
       "      <td>0.744670</td>\n",
       "    </tr>\n",
       "    <tr>\n",
       "      <th>8</th>\n",
       "      <td>0.039240</td>\n",
       "    </tr>\n",
       "    <tr>\n",
       "      <th>9</th>\n",
       "      <td>0.147689</td>\n",
       "    </tr>\n",
       "  </tbody>\n",
       "</table>\n",
       "<p>100 rows × 1 columns</p>\n",
       "</div>"
      ],
      "text/plain": [
       "                             p_value\n",
       "quan_credit quan_loan_amnt          \n",
       "0           0               0.000322\n",
       "            1               0.001581\n",
       "            2               0.002730\n",
       "            3               0.175490\n",
       "            4               0.165022\n",
       "...                              ...\n",
       "9           5               0.600185\n",
       "            6               0.082611\n",
       "            7               0.744670\n",
       "            8               0.039240\n",
       "            9               0.147689\n",
       "\n",
       "[100 rows x 1 columns]"
      ]
     },
     "execution_count": 223,
     "metadata": {},
     "output_type": "execute_result"
    }
   ],
   "source": [
    "p_vals_table"
   ]
  },
  {
   "cell_type": "code",
   "execution_count": null,
   "metadata": {},
   "outputs": [],
   "source": []
  },
  {
   "cell_type": "markdown",
   "metadata": {},
   "source": [
    "Use the [seaborn.heatmap](https://seaborn.pydata.org/generated/seaborn.heatmap.html) function to represent your table as a heatmap. You can also use it on a suitable table of boolean values to get a more robus representation of which experiments turned out significant."
   ]
  },
  {
   "cell_type": "code",
   "execution_count": 224,
   "metadata": {},
   "outputs": [
    {
     "data": {
      "text/html": [
       "<div>\n",
       "<style scoped>\n",
       "    .dataframe tbody tr th:only-of-type {\n",
       "        vertical-align: middle;\n",
       "    }\n",
       "\n",
       "    .dataframe tbody tr th {\n",
       "        vertical-align: top;\n",
       "    }\n",
       "\n",
       "    .dataframe thead th {\n",
       "        text-align: right;\n",
       "    }\n",
       "</style>\n",
       "<table border=\"1\" class=\"dataframe\">\n",
       "  <thead>\n",
       "    <tr style=\"text-align: right;\">\n",
       "      <th></th>\n",
       "      <th></th>\n",
       "      <th>p_value</th>\n",
       "    </tr>\n",
       "    <tr>\n",
       "      <th>quan_credit</th>\n",
       "      <th>quan_loan_amnt</th>\n",
       "      <th></th>\n",
       "    </tr>\n",
       "  </thead>\n",
       "  <tbody>\n",
       "    <tr>\n",
       "      <th rowspan=\"5\" valign=\"top\">0</th>\n",
       "      <th>0</th>\n",
       "      <td>0.0</td>\n",
       "    </tr>\n",
       "    <tr>\n",
       "      <th>1</th>\n",
       "      <td>0.0</td>\n",
       "    </tr>\n",
       "    <tr>\n",
       "      <th>2</th>\n",
       "      <td>0.0</td>\n",
       "    </tr>\n",
       "    <tr>\n",
       "      <th>3</th>\n",
       "      <td>1.0</td>\n",
       "    </tr>\n",
       "    <tr>\n",
       "      <th>4</th>\n",
       "      <td>1.0</td>\n",
       "    </tr>\n",
       "    <tr>\n",
       "      <th>...</th>\n",
       "      <th>...</th>\n",
       "      <td>...</td>\n",
       "    </tr>\n",
       "    <tr>\n",
       "      <th rowspan=\"5\" valign=\"top\">9</th>\n",
       "      <th>5</th>\n",
       "      <td>1.0</td>\n",
       "    </tr>\n",
       "    <tr>\n",
       "      <th>6</th>\n",
       "      <td>1.0</td>\n",
       "    </tr>\n",
       "    <tr>\n",
       "      <th>7</th>\n",
       "      <td>1.0</td>\n",
       "    </tr>\n",
       "    <tr>\n",
       "      <th>8</th>\n",
       "      <td>0.0</td>\n",
       "    </tr>\n",
       "    <tr>\n",
       "      <th>9</th>\n",
       "      <td>1.0</td>\n",
       "    </tr>\n",
       "  </tbody>\n",
       "</table>\n",
       "<p>100 rows × 1 columns</p>\n",
       "</div>"
      ],
      "text/plain": [
       "                            p_value\n",
       "quan_credit quan_loan_amnt         \n",
       "0           0                   0.0\n",
       "            1                   0.0\n",
       "            2                   0.0\n",
       "            3                   1.0\n",
       "            4                   1.0\n",
       "...                             ...\n",
       "9           5                   1.0\n",
       "            6                   1.0\n",
       "            7                   1.0\n",
       "            8                   0.0\n",
       "            9                   1.0\n",
       "\n",
       "[100 rows x 1 columns]"
      ]
     },
     "execution_count": 224,
     "metadata": {},
     "output_type": "execute_result"
    }
   ],
   "source": [
    "boolean_vals = p_vals_table[['p_value']].copy()\n",
    "boolean_vals[boolean_vals < 0.05] = 0\n",
    "boolean_vals[boolean_vals >= 0.05] = 1\n",
    "boolean_vals"
   ]
  },
  {
   "cell_type": "code",
   "execution_count": 225,
   "metadata": {},
   "outputs": [
    {
     "data": {
      "image/png": "[encoded data removed]",
      "text/plain": [
       "<Figure size 432x288 with 2 Axes>"
      ]
     },
     "metadata": {
      "needs_background": "light"
     },
     "output_type": "display_data"
    }
   ],
   "source": [
    "sns.heatmap(boolean_vals.unstack());"
   ]
  },
  {
   "cell_type": "code",
   "execution_count": 226,
   "metadata": {},
   "outputs": [
    {
     "data": {
      "image/png": "[encoded data removed]",
      "text/plain": [
       "<Figure size 432x288 with 2 Axes>"
      ]
     },
     "metadata": {
      "needs_background": "light"
     },
     "output_type": "display_data"
    }
   ],
   "source": [
    "sns.heatmap(p_vals_table.unstack());"
   ]
  },
  {
   "cell_type": "markdown",
   "metadata": {},
   "source": [
    "What is the probability of falsely rejecting the null hypothesis in each cell? What is the probability of falsely rejecting the null hypothesis in at least one of the cells (i.e. what is the **family wise error rate**)?\n",
    "\n",
    "In other words, given that we made $m$ experiments, with confidence level $\\alpha$, what is the probabilty $\\mathbb{P}\\left(\\bigcup_i X_i \\le q_{\\alpha}\\right)$? \n",
    "\n",
    "_Note_: you may assume that sampling from different bins are independent."
   ]
  },
  {
   "cell_type": "markdown",
   "metadata": {},
   "source": [
    "#### The probability to wrongfully declaring the program successful for at least one of these subsets is alpha=0.05\n",
    "#### The probability of wrongfully rejecting the null for the entire population is\n",
    "#### $1-(1-a)^(100) = 0.994$"
   ]
  },
  {
   "cell_type": "markdown",
   "metadata": {},
   "source": [
    "## Bonferroni correction "
   ]
  },
  {
   "cell_type": "markdown",
   "metadata": {},
   "source": [
    "One way of assuring that your FWER remains below $\\alpha=0.05$ is to apply a <a href=\"https://en.wikipedia.org/wiki/Bonferroni_correction\">**Bonferroni correction**</a>. This means that we set the signficance level of each individual test to $\\alpha/m$, where $m=100$ is the number of tests (see, e.g., Wikipedia for an explanation). \n",
    "\n",
    "Use a Bonferroni correction on your segmented a/b test and output a $10\\times10$ table of boolean values, indicating which test gave a significant result under this correction."
   ]
  },
  {
   "cell_type": "code",
   "execution_count": 227,
   "metadata": {},
   "outputs": [
    {
     "data": {
      "text/html": [
       "<div>\n",
       "<style scoped>\n",
       "    .dataframe tbody tr th:only-of-type {\n",
       "        vertical-align: middle;\n",
       "    }\n",
       "\n",
       "    .dataframe tbody tr th {\n",
       "        vertical-align: top;\n",
       "    }\n",
       "\n",
       "    .dataframe thead th {\n",
       "        text-align: right;\n",
       "    }\n",
       "</style>\n",
       "<table border=\"1\" class=\"dataframe\">\n",
       "  <thead>\n",
       "    <tr style=\"text-align: right;\">\n",
       "      <th></th>\n",
       "      <th></th>\n",
       "      <th>p_value</th>\n",
       "    </tr>\n",
       "    <tr>\n",
       "      <th>quan_credit</th>\n",
       "      <th>quan_loan_amnt</th>\n",
       "      <th></th>\n",
       "    </tr>\n",
       "  </thead>\n",
       "  <tbody>\n",
       "    <tr>\n",
       "      <th rowspan=\"5\" valign=\"top\">0</th>\n",
       "      <th>0</th>\n",
       "      <td>0.0</td>\n",
       "    </tr>\n",
       "    <tr>\n",
       "      <th>1</th>\n",
       "      <td>1.0</td>\n",
       "    </tr>\n",
       "    <tr>\n",
       "      <th>2</th>\n",
       "      <td>1.0</td>\n",
       "    </tr>\n",
       "    <tr>\n",
       "      <th>3</th>\n",
       "      <td>1.0</td>\n",
       "    </tr>\n",
       "    <tr>\n",
       "      <th>4</th>\n",
       "      <td>1.0</td>\n",
       "    </tr>\n",
       "    <tr>\n",
       "      <th>...</th>\n",
       "      <th>...</th>\n",
       "      <td>...</td>\n",
       "    </tr>\n",
       "    <tr>\n",
       "      <th rowspan=\"5\" valign=\"top\">9</th>\n",
       "      <th>5</th>\n",
       "      <td>1.0</td>\n",
       "    </tr>\n",
       "    <tr>\n",
       "      <th>6</th>\n",
       "      <td>1.0</td>\n",
       "    </tr>\n",
       "    <tr>\n",
       "      <th>7</th>\n",
       "      <td>1.0</td>\n",
       "    </tr>\n",
       "    <tr>\n",
       "      <th>8</th>\n",
       "      <td>1.0</td>\n",
       "    </tr>\n",
       "    <tr>\n",
       "      <th>9</th>\n",
       "      <td>1.0</td>\n",
       "    </tr>\n",
       "  </tbody>\n",
       "</table>\n",
       "<p>100 rows × 1 columns</p>\n",
       "</div>"
      ],
      "text/plain": [
       "                            p_value\n",
       "quan_credit quan_loan_amnt         \n",
       "0           0                   0.0\n",
       "            1                   1.0\n",
       "            2                   1.0\n",
       "            3                   1.0\n",
       "            4                   1.0\n",
       "...                             ...\n",
       "9           5                   1.0\n",
       "            6                   1.0\n",
       "            7                   1.0\n",
       "            8                   1.0\n",
       "            9                   1.0\n",
       "\n",
       "[100 rows x 1 columns]"
      ]
     },
     "execution_count": 227,
     "metadata": {},
     "output_type": "execute_result"
    }
   ],
   "source": [
    "boolean_vals_bon = p_vals_table.copy()\n",
    "boolean_vals_bon[boolean_vals_bon < 0.05/100] = 0\n",
    "boolean_vals_bon[boolean_vals_bon >= 0.05/100] = 1\n",
    "boolean_vals_bon"
   ]
  },
  {
   "cell_type": "markdown",
   "metadata": {},
   "source": [
    "How many of your tests came out significant under this correction?"
   ]
  },
  {
   "cell_type": "code",
   "execution_count": 228,
   "metadata": {},
   "outputs": [
    {
     "data": {
      "text/plain": [
       "5"
      ]
     },
     "execution_count": 228,
     "metadata": {},
     "output_type": "execute_result"
    }
   ],
   "source": [
    "int(100-boolean_vals_bon.sum().values[0])"
   ]
  },
  {
   "cell_type": "markdown",
   "metadata": {},
   "source": [
    "Visualize your result using the [seaborn.heatmap]() function and compare to the previous heatmap."
   ]
  },
  {
   "cell_type": "code",
   "execution_count": 229,
   "metadata": {},
   "outputs": [
    {
     "data": {
      "image/png": "[encoded data removed]",
      "text/plain": [
       "<Figure size 432x288 with 2 Axes>"
      ]
     },
     "metadata": {
      "needs_background": "light"
     },
     "output_type": "display_data"
    }
   ],
   "source": [
    "sns.heatmap(boolean_vals_bon.unstack());"
   ]
  },
  {
   "cell_type": "markdown",
   "metadata": {},
   "source": [
    "## BH correction "
   ]
  },
  {
   "cell_type": "markdown",
   "metadata": {},
   "source": [
    "The Bonferroni correction is often criticized for being too restrictive, as you probably noticed in the last subsection. A more commonly used method for correcting $\\alpha$ values is the Benjamini-Hochberg method. You can <a href=\"https://www.youtube.com/watch?v=K8LQSvtjcEo\">check out the quest</a> for a nice explanation about it."
   ]
  },
  {
   "cell_type": "markdown",
   "metadata": {},
   "source": [
    "Start by arranging the $p$-values of your original test as a series and listing them in ascending order. You can use the `pd.DataFrame.stack` and `pd.Series.sort_values` methods."
   ]
  },
  {
   "cell_type": "code",
   "execution_count": 230,
   "metadata": {},
   "outputs": [
    {
     "data": {
      "text/html": [
       "<div>\n",
       "<style scoped>\n",
       "    .dataframe tbody tr th:only-of-type {\n",
       "        vertical-align: middle;\n",
       "    }\n",
       "\n",
       "    .dataframe tbody tr th {\n",
       "        vertical-align: top;\n",
       "    }\n",
       "\n",
       "    .dataframe thead th {\n",
       "        text-align: right;\n",
       "    }\n",
       "</style>\n",
       "<table border=\"1\" class=\"dataframe\">\n",
       "  <thead>\n",
       "    <tr style=\"text-align: right;\">\n",
       "      <th></th>\n",
       "      <th></th>\n",
       "      <th>p_value</th>\n",
       "    </tr>\n",
       "    <tr>\n",
       "      <th>quan_credit</th>\n",
       "      <th>quan_loan_amnt</th>\n",
       "      <th></th>\n",
       "    </tr>\n",
       "  </thead>\n",
       "  <tbody>\n",
       "    <tr>\n",
       "      <th rowspan=\"3\" valign=\"top\">0</th>\n",
       "      <th>8</th>\n",
       "      <td>0.000012</td>\n",
       "    </tr>\n",
       "    <tr>\n",
       "      <th>6</th>\n",
       "      <td>0.000135</td>\n",
       "    </tr>\n",
       "    <tr>\n",
       "      <th>0</th>\n",
       "      <td>0.000322</td>\n",
       "    </tr>\n",
       "    <tr>\n",
       "      <th>5</th>\n",
       "      <th>0</th>\n",
       "      <td>0.000445</td>\n",
       "    </tr>\n",
       "    <tr>\n",
       "      <th>0</th>\n",
       "      <th>5</th>\n",
       "      <td>0.001352</td>\n",
       "    </tr>\n",
       "    <tr>\n",
       "      <th>...</th>\n",
       "      <th>...</th>\n",
       "      <td>...</td>\n",
       "    </tr>\n",
       "    <tr>\n",
       "      <th>2</th>\n",
       "      <th>2</th>\n",
       "      <td>0.828162</td>\n",
       "    </tr>\n",
       "    <tr>\n",
       "      <th>9</th>\n",
       "      <th>0</th>\n",
       "      <td>0.905424</td>\n",
       "    </tr>\n",
       "    <tr>\n",
       "      <th>7</th>\n",
       "      <th>4</th>\n",
       "      <td>0.917858</td>\n",
       "    </tr>\n",
       "    <tr>\n",
       "      <th>8</th>\n",
       "      <th>9</th>\n",
       "      <td>0.990708</td>\n",
       "    </tr>\n",
       "    <tr>\n",
       "      <th>4</th>\n",
       "      <th>7</th>\n",
       "      <td>NaN</td>\n",
       "    </tr>\n",
       "  </tbody>\n",
       "</table>\n",
       "<p>100 rows × 1 columns</p>\n",
       "</div>"
      ],
      "text/plain": [
       "                             p_value\n",
       "quan_credit quan_loan_amnt          \n",
       "0           8               0.000012\n",
       "            6               0.000135\n",
       "            0               0.000322\n",
       "5           0               0.000445\n",
       "0           5               0.001352\n",
       "...                              ...\n",
       "2           2               0.828162\n",
       "9           0               0.905424\n",
       "7           4               0.917858\n",
       "8           9               0.990708\n",
       "4           7                    NaN\n",
       "\n",
       "[100 rows x 1 columns]"
      ]
     },
     "execution_count": 230,
     "metadata": {},
     "output_type": "execute_result"
    }
   ],
   "source": [
    "sorted_pvals = p_vals_table.sort_values(by='p_value', ascending=True)\n",
    "sorted_pvals"
   ]
  },
  {
   "cell_type": "markdown",
   "metadata": {},
   "source": [
    "Plot your sorted $p$-values"
   ]
  },
  {
   "cell_type": "code",
   "execution_count": 231,
   "metadata": {},
   "outputs": [
    {
     "data": {
      "image/png": "[encoded data removed]",
      "text/plain": [
       "<Figure size 432x288 with 1 Axes>"
      ]
     },
     "metadata": {
      "needs_background": "light"
     },
     "output_type": "display_data"
    }
   ],
   "source": [
    "sorted_pvals.index = sorted_pvals.index#.to_flat_index()\n",
    "sorted_pvals.plot();\n",
    "#pd.Series(sorted_pvals.values).plot()"
   ]
  },
  {
   "cell_type": "code",
   "execution_count": 232,
   "metadata": {},
   "outputs": [],
   "source": [
    "sorted_pvals.reset_index(inplace=True)"
   ]
  },
  {
   "cell_type": "code",
   "execution_count": 233,
   "metadata": {},
   "outputs": [
    {
     "data": {
      "text/html": [
       "<div>\n",
       "<style scoped>\n",
       "    .dataframe tbody tr th:only-of-type {\n",
       "        vertical-align: middle;\n",
       "    }\n",
       "\n",
       "    .dataframe tbody tr th {\n",
       "        vertical-align: top;\n",
       "    }\n",
       "\n",
       "    .dataframe thead th {\n",
       "        text-align: right;\n",
       "    }\n",
       "</style>\n",
       "<table border=\"1\" class=\"dataframe\">\n",
       "  <thead>\n",
       "    <tr style=\"text-align: right;\">\n",
       "      <th></th>\n",
       "      <th>quan_credit</th>\n",
       "      <th>quan_loan_amnt</th>\n",
       "      <th>p_value</th>\n",
       "    </tr>\n",
       "  </thead>\n",
       "  <tbody>\n",
       "    <tr>\n",
       "      <th>0</th>\n",
       "      <td>0</td>\n",
       "      <td>8</td>\n",
       "      <td>0.000012</td>\n",
       "    </tr>\n",
       "    <tr>\n",
       "      <th>1</th>\n",
       "      <td>0</td>\n",
       "      <td>6</td>\n",
       "      <td>0.000135</td>\n",
       "    </tr>\n",
       "    <tr>\n",
       "      <th>2</th>\n",
       "      <td>0</td>\n",
       "      <td>0</td>\n",
       "      <td>0.000322</td>\n",
       "    </tr>\n",
       "    <tr>\n",
       "      <th>3</th>\n",
       "      <td>5</td>\n",
       "      <td>0</td>\n",
       "      <td>0.000445</td>\n",
       "    </tr>\n",
       "    <tr>\n",
       "      <th>4</th>\n",
       "      <td>0</td>\n",
       "      <td>5</td>\n",
       "      <td>0.001352</td>\n",
       "    </tr>\n",
       "    <tr>\n",
       "      <th>...</th>\n",
       "      <td>...</td>\n",
       "      <td>...</td>\n",
       "      <td>...</td>\n",
       "    </tr>\n",
       "    <tr>\n",
       "      <th>95</th>\n",
       "      <td>2</td>\n",
       "      <td>2</td>\n",
       "      <td>0.828162</td>\n",
       "    </tr>\n",
       "    <tr>\n",
       "      <th>96</th>\n",
       "      <td>9</td>\n",
       "      <td>0</td>\n",
       "      <td>0.905424</td>\n",
       "    </tr>\n",
       "    <tr>\n",
       "      <th>97</th>\n",
       "      <td>7</td>\n",
       "      <td>4</td>\n",
       "      <td>0.917858</td>\n",
       "    </tr>\n",
       "    <tr>\n",
       "      <th>98</th>\n",
       "      <td>8</td>\n",
       "      <td>9</td>\n",
       "      <td>0.990708</td>\n",
       "    </tr>\n",
       "    <tr>\n",
       "      <th>99</th>\n",
       "      <td>4</td>\n",
       "      <td>7</td>\n",
       "      <td>NaN</td>\n",
       "    </tr>\n",
       "  </tbody>\n",
       "</table>\n",
       "<p>100 rows × 3 columns</p>\n",
       "</div>"
      ],
      "text/plain": [
       "    quan_credit  quan_loan_amnt   p_value\n",
       "0             0               8  0.000012\n",
       "1             0               6  0.000135\n",
       "2             0               0  0.000322\n",
       "3             5               0  0.000445\n",
       "4             0               5  0.001352\n",
       "..          ...             ...       ...\n",
       "95            2               2  0.828162\n",
       "96            9               0  0.905424\n",
       "97            7               4  0.917858\n",
       "98            8               9  0.990708\n",
       "99            4               7       NaN\n",
       "\n",
       "[100 rows x 3 columns]"
      ]
     },
     "execution_count": 233,
     "metadata": {},
     "output_type": "execute_result"
    }
   ],
   "source": [
    "sorted_pvals"
   ]
  },
  {
   "cell_type": "markdown",
   "metadata": {},
   "source": [
    "For each entry of the new series, compute the value compute the value $\\frac{i}{m}\\cdot\\alpha$, where $i$ is the ordinal place of the entry (i.e. 1,2,...len(series)), $m=100$ and $\\alpha=0.05$ as above. Add a plot of these values to your $p$-values plot."
   ]
  },
  {
   "cell_type": "code",
   "execution_count": 234,
   "metadata": {},
   "outputs": [],
   "source": [
    "new_vals = (np.arange(len(sorted_pvals))+1)*0.05/100\n",
    "new_vals = pd.Series(new_vals)"
   ]
  },
  {
   "cell_type": "code",
   "execution_count": 235,
   "metadata": {},
   "outputs": [
    {
     "data": {
      "image/png": "[encoded data removed]",
      "text/plain": [
       "<Figure size 432x288 with 1 Axes>"
      ]
     },
     "metadata": {
      "needs_background": "light"
     },
     "output_type": "display_data"
    }
   ],
   "source": [
    "pd.Series(sorted_pvals['p_value'].plot())\n",
    "pd.Series(new_vals).plot();"
   ]
  },
  {
   "cell_type": "markdown",
   "metadata": {},
   "source": [
    "Find the largest index $i$ for which the $p$-value in the $i$-th place in the series is smaller than $\\frac{i}{m}\\cdot\\alpha$. That is- the last index in the plot you just created where the $p$-values line lies below the _adjusted_-$\\alpha$ line."
   ]
  },
  {
   "cell_type": "code",
   "execution_count": 270,
   "metadata": {},
   "outputs": [
    {
     "data": {
      "text/plain": [
       "10"
      ]
     },
     "execution_count": 270,
     "metadata": {},
     "output_type": "execute_result"
    }
   ],
   "source": [
    "sorted_pvals['bool_smaller'] = sorted_pvals['p_value'] < new_vals\n",
    "sorted_pvals['bool_smaller'].sum()"
   ]
  },
  {
   "cell_type": "markdown",
   "metadata": {},
   "source": [
    "Reject the null hypothesis for all test before and including this index, and accept it for all others. Reformat your table into a $10\\times 10$ dataframe; for which bins did we get a significant result in the corrected test?"
   ]
  },
  {
   "cell_type": "code",
   "execution_count": 239,
   "metadata": {},
   "outputs": [
    {
     "data": {
      "text/html": [
       "<div>\n",
       "<style scoped>\n",
       "    .dataframe tbody tr th:only-of-type {\n",
       "        vertical-align: middle;\n",
       "    }\n",
       "\n",
       "    .dataframe tbody tr th {\n",
       "        vertical-align: top;\n",
       "    }\n",
       "\n",
       "    .dataframe thead th {\n",
       "        text-align: right;\n",
       "    }\n",
       "</style>\n",
       "<table border=\"1\" class=\"dataframe\">\n",
       "  <thead>\n",
       "    <tr style=\"text-align: right;\">\n",
       "      <th></th>\n",
       "      <th>quan_credit</th>\n",
       "      <th>quan_loan_amnt</th>\n",
       "      <th>p_value</th>\n",
       "      <th>bool_smaller</th>\n",
       "    </tr>\n",
       "  </thead>\n",
       "  <tbody>\n",
       "    <tr>\n",
       "      <th>0</th>\n",
       "      <td>0</td>\n",
       "      <td>8</td>\n",
       "      <td>0.000012</td>\n",
       "      <td>True</td>\n",
       "    </tr>\n",
       "    <tr>\n",
       "      <th>1</th>\n",
       "      <td>0</td>\n",
       "      <td>6</td>\n",
       "      <td>0.000135</td>\n",
       "      <td>True</td>\n",
       "    </tr>\n",
       "    <tr>\n",
       "      <th>2</th>\n",
       "      <td>0</td>\n",
       "      <td>0</td>\n",
       "      <td>0.000322</td>\n",
       "      <td>True</td>\n",
       "    </tr>\n",
       "    <tr>\n",
       "      <th>3</th>\n",
       "      <td>5</td>\n",
       "      <td>0</td>\n",
       "      <td>0.000445</td>\n",
       "      <td>True</td>\n",
       "    </tr>\n",
       "    <tr>\n",
       "      <th>4</th>\n",
       "      <td>0</td>\n",
       "      <td>5</td>\n",
       "      <td>0.001352</td>\n",
       "      <td>True</td>\n",
       "    </tr>\n",
       "    <tr>\n",
       "      <th>...</th>\n",
       "      <td>...</td>\n",
       "      <td>...</td>\n",
       "      <td>...</td>\n",
       "      <td>...</td>\n",
       "    </tr>\n",
       "    <tr>\n",
       "      <th>95</th>\n",
       "      <td>2</td>\n",
       "      <td>2</td>\n",
       "      <td>0.828162</td>\n",
       "      <td>False</td>\n",
       "    </tr>\n",
       "    <tr>\n",
       "      <th>96</th>\n",
       "      <td>9</td>\n",
       "      <td>0</td>\n",
       "      <td>0.905424</td>\n",
       "      <td>False</td>\n",
       "    </tr>\n",
       "    <tr>\n",
       "      <th>97</th>\n",
       "      <td>7</td>\n",
       "      <td>4</td>\n",
       "      <td>0.917858</td>\n",
       "      <td>False</td>\n",
       "    </tr>\n",
       "    <tr>\n",
       "      <th>98</th>\n",
       "      <td>8</td>\n",
       "      <td>9</td>\n",
       "      <td>0.990708</td>\n",
       "      <td>False</td>\n",
       "    </tr>\n",
       "    <tr>\n",
       "      <th>99</th>\n",
       "      <td>4</td>\n",
       "      <td>7</td>\n",
       "      <td>NaN</td>\n",
       "      <td>False</td>\n",
       "    </tr>\n",
       "  </tbody>\n",
       "</table>\n",
       "<p>100 rows × 4 columns</p>\n",
       "</div>"
      ],
      "text/plain": [
       "    quan_credit  quan_loan_amnt   p_value  bool_smaller\n",
       "0             0               8  0.000012          True\n",
       "1             0               6  0.000135          True\n",
       "2             0               0  0.000322          True\n",
       "3             5               0  0.000445          True\n",
       "4             0               5  0.001352          True\n",
       "..          ...             ...       ...           ...\n",
       "95            2               2  0.828162         False\n",
       "96            9               0  0.905424         False\n",
       "97            7               4  0.917858         False\n",
       "98            8               9  0.990708         False\n",
       "99            4               7       NaN         False\n",
       "\n",
       "[100 rows x 4 columns]"
      ]
     },
     "execution_count": 239,
     "metadata": {},
     "output_type": "execute_result"
    }
   ],
   "source": [
    "sorted_pvals"
   ]
  },
  {
   "cell_type": "code",
   "execution_count": 276,
   "metadata": {},
   "outputs": [],
   "source": [
    "bool_smaller = sorted_pvals.pivot_table(index=['quan_credit', 'quan_loan_amnt'], values='bool_smaller').unstack()\n",
    "bool_smaller = 1 - bool_smaller"
   ]
  },
  {
   "cell_type": "markdown",
   "metadata": {},
   "source": [
    "Visualize your result using the [seaborn.heatmap]() function and compare to the previous heatmap."
   ]
  },
  {
   "cell_type": "code",
   "execution_count": 277,
   "metadata": {},
   "outputs": [
    {
     "data": {
      "image/png": "[encoded data removed]",
      "text/plain": [
       "<Figure size 432x288 with 2 Axes>"
      ]
     },
     "metadata": {
      "needs_background": "light"
     },
     "output_type": "display_data"
    }
   ],
   "source": [
    "sns.heatmap(bool_smaller);"
   ]
  },
  {
   "cell_type": "markdown",
   "metadata": {},
   "source": [
    "### Validating your results"
   ]
  },
  {
   "cell_type": "markdown",
   "metadata": {},
   "source": [
    "You can validate your results (for both corrections) using the <a href= \"https://www.statsmodels.org/dev/generated/statsmodels.stats.multitest.multipletests.html\">`statsmodels.stats.multitest.multipletests`</a> package."
   ]
  },
  {
   "cell_type": "code",
   "execution_count": 242,
   "metadata": {},
   "outputs": [],
   "source": [
    "from statsmodels.stats.multitest import multipletests"
   ]
  },
  {
   "cell_type": "code",
   "execution_count": 243,
   "metadata": {},
   "outputs": [
    {
     "data": {
      "text/plain": [
       "array([3.21855828e-04, 1.58101405e-03, 2.73016445e-03, 1.75489715e-01,\n",
       "       1.65022071e-01, 1.35193554e-03, 1.34648972e-04, 1.24310847e-01,\n",
       "       1.23781831e-05, 7.10407871e-03, 4.05691976e-03, 7.51837388e-01,\n",
       "       6.28241008e-01, 2.63883688e-01, 3.65331190e-02, 2.52862965e-03,\n",
       "       3.00411025e-02, 4.61219364e-01, 4.17351694e-01, 3.46891744e-01,\n",
       "       2.11963569e-01, 1.59184605e-01, 8.28161641e-01, 3.16909743e-01,\n",
       "       4.99173094e-01, 1.58750724e-02, 5.16752392e-01, 7.27001087e-02,\n",
       "       8.93729099e-02, 4.48061704e-02, 3.56773776e-01, 1.78971455e-01,\n",
       "       9.42214396e-02, 2.82789841e-02, 7.62259200e-01, 1.91394734e-01,\n",
       "       8.12668004e-01, 4.82498071e-02, 7.40370275e-01, 6.92417465e-01,\n",
       "       6.12373469e-01, 6.01717296e-02, 3.78084417e-01, 8.03454698e-02,\n",
       "       4.64645986e-02, 2.52880989e-01, 4.45737865e-01,            nan,\n",
       "       6.71785823e-01, 3.57352937e-01, 4.44861338e-04, 8.63516431e-02,\n",
       "       4.27846435e-03, 1.05480326e-01, 5.02145803e-01, 3.89288039e-01,\n",
       "       3.73084046e-01, 3.14874753e-01, 1.59248892e-01, 1.88836572e-02,\n",
       "       2.16960497e-01, 6.61396548e-02, 3.38000436e-01, 4.48529881e-01,\n",
       "       3.62345369e-01, 4.86927056e-01, 7.18756976e-01, 3.35063153e-01,\n",
       "       5.18002357e-01, 5.07211850e-01, 5.05920016e-01, 7.72003596e-01,\n",
       "       3.11056524e-01, 7.31597839e-02, 9.17857947e-01, 6.33752788e-03,\n",
       "       2.95795311e-02, 5.82007193e-01, 1.78939231e-02, 4.38122389e-01,\n",
       "       6.09729612e-01, 3.13415736e-01, 2.20816490e-01, 7.43474109e-02,\n",
       "       6.67102330e-01, 2.72242323e-01, 2.15893014e-01, 1.91605257e-01,\n",
       "       2.50165272e-01, 9.90707607e-01, 9.05423698e-01, 1.38723470e-01,\n",
       "       3.78740105e-01, 2.85468675e-01, 6.72572812e-01, 6.00185227e-01,\n",
       "       8.26114831e-02, 7.44670136e-01, 3.92404193e-02, 1.47688532e-01])"
      ]
     },
     "execution_count": 243,
     "metadata": {},
     "output_type": "execute_result"
    }
   ],
   "source": [
    "p_vals_table['p_value'].values"
   ]
  },
  {
   "cell_type": "code",
   "execution_count": 269,
   "metadata": {},
   "outputs": [
    {
     "name": "stderr",
     "output_type": "stream",
     "text": [
      "/usr/local/lib/python3.8/dist-packages/statsmodels/stats/multitest.py:150: RuntimeWarning: invalid value encountered in less_equal\n",
      "  reject = pvals <= alphacBonf\n",
      "/usr/local/lib/python3.8/dist-packages/statsmodels/stats/multitest.py:257: RuntimeWarning: invalid value encountered in greater\n",
      "  pvals_corrected[pvals_corrected>1] = 1\n"
     ]
    },
    {
     "data": {
      "text/plain": [
       "(array([ True, False, False, False, False, False,  True, False,  True,\n",
       "        False, False, False, False, False, False, False, False, False,\n",
       "        False, False, False, False, False, False, False, False, False,\n",
       "        False, False, False, False, False, False, False, False, False,\n",
       "        False, False, False, False, False, False, False, False, False,\n",
       "        False, False, False, False, False,  True, False, False, False,\n",
       "        False, False, False, False, False, False, False, False, False,\n",
       "        False, False, False, False, False, False, False, False, False,\n",
       "        False, False, False, False, False, False, False, False, False,\n",
       "        False, False, False, False, False, False, False, False, False,\n",
       "        False, False, False, False, False, False, False, False, False,\n",
       "        False]),\n",
       " array([0.03218558, 0.15810141, 0.27301644, 1.        , 1.        ,\n",
       "        0.13519355, 0.0134649 , 1.        , 0.00123782, 0.71040787,\n",
       "        0.40569198, 1.        , 1.        , 1.        , 1.        ,\n",
       "        0.25286296, 1.        , 1.        , 1.        , 1.        ,\n",
       "        1.        , 1.        , 1.        , 1.        , 1.        ,\n",
       "        1.        , 1.        , 1.        , 1.        , 1.        ,\n",
       "        1.        , 1.        , 1.        , 1.        , 1.        ,\n",
       "        1.        , 1.        , 1.        , 1.        , 1.        ,\n",
       "        1.        , 1.        , 1.        , 1.        , 1.        ,\n",
       "        1.        , 1.        ,        nan, 1.        , 1.        ,\n",
       "        0.04448613, 1.        , 0.42784644, 1.        , 1.        ,\n",
       "        1.        , 1.        , 1.        , 1.        , 1.        ,\n",
       "        1.        , 1.        , 1.        , 1.        , 1.        ,\n",
       "        1.        , 1.        , 1.        , 1.        , 1.        ,\n",
       "        1.        , 1.        , 1.        , 1.        , 1.        ,\n",
       "        0.63375279, 1.        , 1.        , 1.        , 1.        ,\n",
       "        1.        , 1.        , 1.        , 1.        , 1.        ,\n",
       "        1.        , 1.        , 1.        , 1.        , 1.        ,\n",
       "        1.        , 1.        , 1.        , 1.        , 1.        ,\n",
       "        1.        , 1.        , 1.        , 1.        , 1.        ]),\n",
       " 0.0005128014162623096,\n",
       " 0.0005)"
      ]
     },
     "execution_count": 269,
     "metadata": {},
     "output_type": "execute_result"
    }
   ],
   "source": [
    "multipletests(p_vals_table['p_value'].values, alpha=0.05, method='bonferroni', returnsorted=False)"
   ]
  },
  {
   "cell_type": "code",
   "execution_count": 278,
   "metadata": {},
   "outputs": [
    {
     "name": "stderr",
     "output_type": "stream",
     "text": [
      "/usr/local/lib/python3.8/dist-packages/statsmodels/stats/multitest.py:339: RuntimeWarning: invalid value encountered in less_equal\n",
      "  reject = pvals_sorted <= ecdffactor*alpha\n"
     ]
    },
    {
     "data": {
      "text/plain": [
       "(array([ True,  True,  True, False, False,  True,  True, False,  True,\n",
       "        False,  True, False, False, False, False,  True, False, False,\n",
       "        False, False, False, False, False, False, False, False, False,\n",
       "        False, False, False, False, False, False, False, False, False,\n",
       "        False, False, False, False, False, False, False, False, False,\n",
       "        False, False, False, False, False,  True, False,  True, False,\n",
       "        False, False, False, False, False, False, False, False, False,\n",
       "        False, False, False, False, False, False, False, False, False,\n",
       "        False, False, False, False, False, False, False, False, False,\n",
       "        False, False, False, False, False, False, False, False, False,\n",
       "        False, False, False, False, False, False, False, False, False,\n",
       "        False]),\n",
       " array([nan, nan, nan, nan, nan, nan, nan, nan, nan, nan, nan, nan, nan,\n",
       "        nan, nan, nan, nan, nan, nan, nan, nan, nan, nan, nan, nan, nan,\n",
       "        nan, nan, nan, nan, nan, nan, nan, nan, nan, nan, nan, nan, nan,\n",
       "        nan, nan, nan, nan, nan, nan, nan, nan, nan, nan, nan, nan, nan,\n",
       "        nan, nan, nan, nan, nan, nan, nan, nan, nan, nan, nan, nan, nan,\n",
       "        nan, nan, nan, nan, nan, nan, nan, nan, nan, nan, nan, nan, nan,\n",
       "        nan, nan, nan, nan, nan, nan, nan, nan, nan, nan, nan, nan, nan,\n",
       "        nan, nan, nan, nan, nan, nan, nan, nan, nan]),\n",
       " 0.0005128014162623096,\n",
       " 0.0005)"
      ]
     },
     "execution_count": 278,
     "metadata": {},
     "output_type": "execute_result"
    }
   ],
   "source": [
    "multipletests(p_vals_table['p_value'].values, alpha=0.05, method='fdr_bh', returnsorted=False)"
   ]
  },
  {
   "cell_type": "code",
   "execution_count": null,
   "metadata": {},
   "outputs": [],
   "source": []
  },
  {
   "cell_type": "code",
   "execution_count": null,
   "metadata": {},
   "outputs": [],
   "source": []
  }
 ],
 "metadata": {
  "kernelspec": {
   "display_name": "Python 3",
   "language": "python",
   "name": "python3"
  },
  "language_info": {
   "codemirror_mode": {
    "name": "ipython",
    "version": 3
   },
   "file_extension": ".py",
   "mimetype": "text/x-python",
   "name": "python",
   "nbconvert_exporter": "python",
   "pygments_lexer": "ipython3",
   "version": "3.8.10"
  }
 },
 "nbformat": 4,
 "nbformat_minor": 4
}

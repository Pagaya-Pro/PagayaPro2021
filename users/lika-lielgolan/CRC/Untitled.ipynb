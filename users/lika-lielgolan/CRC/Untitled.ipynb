{
 "cells": [
  {
   "cell_type": "code",
   "execution_count": 1,
   "id": "ec067a00-a6ef-41f2-80c6-e1bf704e8232",
   "metadata": {},
   "outputs": [
    {
     "name": "stdout",
     "output_type": "stream",
     "text": [
      "download: s3://pagaya-pro-bucket/exercises/big_bugs_exercise_v1/code/preprocess.ipynb to ./preprocess.ipynb\n",
      "download: s3://pagaya-pro-bucket/exercises/big_bugs_exercise_v1/code/validate_data.ipynb to ./validate_data.ipynb\n",
      "download: s3://pagaya-pro-bucket/exercises/big_bugs_exercise_v1/code/run_all.ipynb to ./run_all.ipynb\n"
     ]
    }
   ],
   "source": [
    "!aws s3 cp s3://pagaya-pro-bucket/exercises/big_bugs_exercise_v1/code/preprocess.ipynb .\n",
    "!aws s3 cp s3://pagaya-pro-bucket/exercises/big_bugs_exercise_v1/code/validate_data.ipynb .\n",
    "!aws s3 cp s3://pagaya-pro-bucket/exercises/big_bugs_exercise_v1/code/run_all.ipynb ."
   ]
  },
  {
   "cell_type": "code",
   "execution_count": null,
   "id": "0c9c9102-652d-40bc-94e5-291eb296e3b1",
   "metadata": {},
   "outputs": [],
   "source": []
  }
 ],
 "metadata": {
  "kernelspec": {
   "display_name": "Python 3",
   "language": "python",
   "name": "python3"
  },
  "language_info": {
   "codemirror_mode": {
    "name": "ipython",
    "version": 3
   },
   "file_extension": ".py",
   "mimetype": "text/x-python",
   "name": "python",
   "nbconvert_exporter": "python",
   "pygments_lexer": "ipython3",
   "version": "3.8.10"
  }
 },
 "nbformat": 4,
 "nbformat_minor": 5
}

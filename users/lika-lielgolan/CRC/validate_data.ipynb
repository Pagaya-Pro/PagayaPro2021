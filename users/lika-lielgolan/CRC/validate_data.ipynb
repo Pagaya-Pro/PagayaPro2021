{
 "cells": [
  {
   "cell_type": "code",
   "execution_count": null,
   "metadata": {
    "tags": [
     "parameters"
    ]
   },
   "outputs": [],
   "source": [
    "user = 'someone'"
   ]
  },
  {
   "cell_type": "code",
   "execution_count": null,
   "metadata": {
    "tags": []
   },
   "outputs": [],
   "source": [
    "import pandas as pd\n",
    "\n"
   ]
  },
  {
   "cell_type": "code",
   "execution_count": null,
   "metadata": {
    "tags": []
   },
   "outputs": [],
   "source": [
    "features = pd.concat([\n",
    "    pd.read_parquet(f's3://pagaya-pro-bucket/exercises/big_bugs_exercise_v1/users/{user}/processed/features{i}.parquet') for i in range(11)])"
   ]
  },
  {
   "cell_type": "code",
   "execution_count": null,
   "metadata": {
    "tags": []
   },
   "outputs": [],
   "source": [
    "targets = pd.concat([\n",
    "    pd.read_parquet(f's3://pagaya-pro-bucket/exercises/big_bugs_exercise_v1/users/{user}/processed/targets{i}.parquet') for i in range(11)])"
   ]
  },
  {
   "cell_type": "code",
   "execution_count": null,
   "metadata": {
    "tags": []
   },
   "outputs": [],
   "source": [
    "median_cols = [x for x in features if 'larger_than_median' in x]"
   ]
  },
  {
   "cell_type": "code",
   "execution_count": null,
   "metadata": {
    "tags": []
   },
   "outputs": [],
   "source": [
    "# This assertion must NOT fail\n",
    "#    Since the 'larger_than_median' columns denote whether the value is smaller (0) or larger (1) than the median value,\n",
    "#    we expect ~50% to be 1. Therefore, we expect the mean to be ~0.5\n",
    "assert ((features[median_cols].mean() - 0.5).abs() < 0.1).all()"
   ]
  },
  {
   "cell_type": "code",
   "execution_count": null,
   "metadata": {
    "tags": []
   },
   "outputs": [],
   "source": [
    "# Documentation of this column, from LendingClub website:\n",
    "# id: A unique LC assigned ID for the loan listing.\n",
    "\n",
    "merged = pd.merge(features, targets, on=['id'])"
   ]
  },
  {
   "cell_type": "code",
   "execution_count": null,
   "metadata": {
    "tags": []
   },
   "outputs": [],
   "source": [
    "merged[[x for x in features.columns if x != 'id']].fillna(-1)"
   ]
  },
  {
   "cell_type": "code",
   "execution_count": null,
   "metadata": {},
   "outputs": [],
   "source": [
    "# This assertion must NOT fail\n",
    "#    We expect each line in the features to be appear once in the merged dataframe !\n",
    "assert merged.shape[0] == features.shape[0]"
   ]
  },
  {
   "cell_type": "code",
   "execution_count": null,
   "metadata": {
    "tags": []
   },
   "outputs": [],
   "source": [
    "# This assertion must NOT fail\n",
    "#    Since the 'larger_than_median' columns denote whether the value is smaller (0) or larger (1) than the median value,\n",
    "#    we expect ~50% to be 1. Therefore, we expect the mean to be ~0.5\n",
    "assert ((features[median_cols].mean() - 0.5).abs() < 0.05).all()"
   ]
  },
  {
   "cell_type": "code",
   "execution_count": null,
   "metadata": {},
   "outputs": [],
   "source": [
    "# This assertion must NOT fail\n",
    "# Dataset should be larger than 2M\n",
    "assert merged.shape[0] >= 2_000_000"
   ]
  }
 ],
 "metadata": {
  "kernelspec": {
   "display_name": "Python 3",
   "language": "python",
   "name": "python3"
  },
  "language_info": {
   "codemirror_mode": {
    "name": "ipython",
    "version": 3
   },
   "file_extension": ".py",
   "mimetype": "text/x-python",
   "name": "python",
   "nbconvert_exporter": "python",
   "pygments_lexer": "ipython3",
   "version": "3.8.10"
  }
 },
 "nbformat": 4,
 "nbformat_minor": 4
}

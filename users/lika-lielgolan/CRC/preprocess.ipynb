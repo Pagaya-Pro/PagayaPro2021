{
 "cells": [
  {
   "cell_type": "code",
   "execution_count": 1,
   "id": "e7e7f7b1-40eb-421b-a68f-7ba991dba3a7",
   "metadata": {
    "tags": [
     "parameters"
    ]
   },
   "outputs": [],
   "source": [
    "i = 5\n",
    "nrows = None\n",
    "user = None\n",
    "data_path = None"
   ]
  },
  {
   "cell_type": "code",
   "execution_count": null,
   "id": "bbe0168f-3800-4464-ae46-7d72cf3dd5e0",
   "metadata": {},
   "outputs": [],
   "source": [
    "assert user is not None"
   ]
  },
  {
   "cell_type": "code",
   "execution_count": null,
   "id": "90758670-9b9b-4a99-8f96-ecd4cbdb0eaf",
   "metadata": {
    "tags": []
   },
   "outputs": [],
   "source": [
    "import pandas as pd\n",
    "\n",
    "FNAME =  f'{data_path}/data{i}.csv.gz'"
   ]
  },
  {
   "cell_type": "code",
   "execution_count": null,
   "id": "6247ae54-e9b6-4662-a10f-64567ef6a8d4",
   "metadata": {
    "tags": []
   },
   "outputs": [],
   "source": [
    "data = pd.read_csv(FNAME,\n",
    "#                    nrows=nrows,\n",
    "                        parse_dates=['issue_d',\n",
    " 'last_pymnt_d',\n",
    " 'next_pymnt_d',\n",
    " 'last_credit_pull_d',\n",
    " 'hardship_start_date',\n",
    " 'hardship_end_date',\n",
    " 'payment_plan_start_date',\n",
    " 'debt_settlement_flag_date',\n",
    " 'settlement_date'],\n",
    "                        dtype={\n",
    " 'member_id': 'float64',\n",
    " 'loan_amnt': 'float64',\n",
    " 'funded_amnt': 'float64',\n",
    " 'funded_amnt_inv': 'float64',\n",
    " 'int_rate': 'float64',\n",
    " 'installment': 'float64',\n",
    " 'annual_inc': 'float64',\n",
    " 'dti': 'float64',\n",
    " 'delinq_2yrs': 'float64',\n",
    " 'fico_range_low': 'float64',\n",
    " 'fico_range_high': 'float64',\n",
    " 'inq_last_6mths': 'float64',\n",
    " 'id': 'int64',\n",
    " 'mths_since_last_delinq': 'float64',\n",
    " 'mths_since_last_record': 'float64',\n",
    " 'open_acc': 'float64',\n",
    " 'pub_rec': 'float64',\n",
    " 'revol_bal': 'float64',\n",
    " 'revol_util': 'float64',\n",
    " 'total_acc': 'float64',\n",
    " 'out_prncp': 'float64',\n",
    " 'out_prncp_inv': 'float64',\n",
    " 'total_pymnt': 'float64',\n",
    " 'total_pymnt_inv': 'float64',\n",
    " 'total_rec_prncp': 'float64',\n",
    " 'total_rec_int': 'float64',\n",
    " 'total_rec_late_fee': 'float64',\n",
    " 'recoveries': 'float64',\n",
    " 'collection_recovery_fee': 'float64',\n",
    " 'last_pymnt_amnt': 'float64',\n",
    " 'last_fico_range_high': 'float64',\n",
    " 'last_fico_range_low': 'float64',\n",
    " 'collections_12_mths_ex_med': 'float64',\n",
    " 'mths_since_last_major_derog': 'float64',\n",
    " 'policy_code': 'float64',\n",
    " 'annual_inc_joint': 'float64',\n",
    " 'dti_joint': 'float64',\n",
    " 'acc_now_delinq': 'float64',\n",
    " 'tot_coll_amt': 'float64',\n",
    " 'tot_cur_bal': 'float64',\n",
    " 'open_acc_6m': 'float64',\n",
    " 'open_act_il': 'float64',\n",
    " 'open_il_12m': 'float64',\n",
    " 'open_il_24m': 'float64',\n",
    " 'mths_since_rcnt_il': 'float64',\n",
    " 'total_bal_il': 'float64',\n",
    " 'il_util': 'float64',\n",
    " 'open_rv_12m': 'float64',\n",
    " 'open_rv_24m': 'float64',\n",
    " 'max_bal_bc': 'float64',\n",
    " 'all_util': 'float64',\n",
    " 'total_rev_hi_lim': 'float64',\n",
    " 'inq_fi': 'float64',\n",
    " 'total_cu_tl': 'float64',\n",
    " 'inq_last_12m': 'float64',\n",
    " 'acc_open_past_24mths': 'str',\n",
    " 'avg_cur_bal': 'float64',\n",
    " 'bc_open_to_buy': 'float64',\n",
    " 'bc_util': 'float64',\n",
    " 'chargeoff_within_12_mths': 'float64',\n",
    " 'delinq_amnt': 'float64',\n",
    " 'mo_sin_old_il_acct': 'float64',\n",
    " 'mo_sin_old_rev_tl_op': 'float64',\n",
    " 'mo_sin_rcnt_rev_tl_op': 'float64',\n",
    " 'mo_sin_rcnt_tl': 'float64',\n",
    " 'mort_acc': 'float64',\n",
    " 'mths_since_recent_bc': 'float64',\n",
    " 'mths_since_recent_bc_dlq': 'float64',\n",
    " 'mths_since_recent_inq': 'float64',\n",
    " 'mths_since_recent_revol_delinq': 'float64',\n",
    " 'num_accts_ever_120_pd': 'float64',\n",
    " 'num_actv_bc_tl': 'float64',\n",
    " 'num_actv_rev_tl': 'float64',\n",
    " 'num_bc_sats': 'float64',\n",
    " 'num_bc_tl': 'float64',\n",
    " 'num_il_tl': 'float64',\n",
    " 'num_op_rev_tl': 'float64',\n",
    " 'num_rev_accts': 'float64',\n",
    " 'num_rev_tl_bal_gt_0': 'float64',\n",
    " 'num_sats': 'float64',\n",
    " 'num_tl_120dpd_2m': 'float64',\n",
    " 'num_tl_30dpd': 'float64',\n",
    " 'num_tl_90g_dpd_24m': 'float64',\n",
    " 'num_tl_op_past_12m': 'float64',\n",
    " 'pct_tl_nvr_dlq': 'float64',\n",
    " 'percent_bc_gt_75': 'float64',\n",
    " 'pub_rec_bankruptcies': 'float64',\n",
    " 'tax_liens': 'float64',\n",
    " 'tot_hi_cred_lim': 'float64',\n",
    " 'total_bal_ex_mort': 'float64',\n",
    " 'total_bc_limit': 'float64',\n",
    " 'total_il_high_credit_limit': 'float64',\n",
    " 'revol_bal_joint': 'float64',\n",
    " 'sec_app_fico_range_low': 'float64',\n",
    " 'sec_app_fico_range_high': 'float64',\n",
    "#  'sec_app_earliest_cr_line': 'float64',\n",
    " 'sec_app_inq_last_6mths': 'float64',\n",
    " 'sec_app_mort_acc': 'float64',\n",
    " 'sec_app_open_acc': 'float64',\n",
    " 'sec_app_revol_util': 'float64',\n",
    " 'sec_app_open_act_il': 'float64',\n",
    " 'sec_app_num_rev_accts': 'float64',\n",
    " 'sec_app_chargeoff_within_12_mths': 'float64',\n",
    " 'sec_app_collections_12_mths_ex_med': 'float64',\n",
    " 'sec_app_mths_since_last_major_derog': 'float64',\n",
    " 'deferral_term': 'float64',\n",
    " 'hardship_amount': 'float64',\n",
    " 'hardship_length': 'float64',\n",
    " 'hardship_dpd': 'float64',\n",
    " 'orig_projected_additional_accrued_interest': 'float64',\n",
    " 'hardship_payoff_balance_amount': 'float64',\n",
    " 'hardship_last_payment_amount': 'float64',\n",
    " 'settlement_amount': 'float64',\n",
    " 'settlement_percentage': 'float64',\n",
    " 'settlement_term': 'float64'\n",
    "                        }\n",
    ")"
   ]
  },
  {
   "cell_type": "code",
   "execution_count": null,
   "id": "65bab042-dc3c-47ac-8b95-5cd39342cd44",
   "metadata": {},
   "outputs": [],
   "source": [
    "data.loc[data['acc_open_past_24mths'] == '\"0\"', 'acc_open_past_24mths'] = '0'"
   ]
  },
  {
   "cell_type": "code",
   "execution_count": null,
   "id": "219d16a6-ce88-44fd-b44a-16feef0b5331",
   "metadata": {
    "tags": []
   },
   "outputs": [],
   "source": [
    "data.loc[data['acc_open_past_24mths'].astype(str).str.match('\\d+\\.\\d+'), 'acc_open_past_24mths'] = pd.to_numeric(data['acc_open_past_24mths'], errors='coerce')"
   ]
  },
  {
   "cell_type": "code",
   "execution_count": null,
   "id": "8046a819-1210-42bd-84b0-0d7da2926871",
   "metadata": {},
   "outputs": [],
   "source": [
    "data['acc_open_past_24mths'] = data['acc_open_past_24mths'].astype('float64')"
   ]
  },
  {
   "cell_type": "code",
   "execution_count": null,
   "id": "e38df59c-486f-4ac9-a710-bb8ce8b0c194",
   "metadata": {
    "tags": []
   },
   "outputs": [],
   "source": [
    "data['debt_settlement_flag'] = data['debt_settlement_flag'].map({'Y': True, 'N': False})"
   ]
  },
  {
   "cell_type": "code",
   "execution_count": null,
   "id": "5328e97f-1fb1-4aaf-b3c9-4412ce68f336",
   "metadata": {
    "tags": []
   },
   "outputs": [],
   "source": [
    "# Sanity check dates parsing\n",
    "date_cols = data.filter(regex='_d(ate)?$').columns.tolist()\n",
    "for c in date_cols:\n",
    "    assert data[date_cols].dropna(subset=[c])[c].between('2006', '2020').all()"
   ]
  },
  {
   "cell_type": "code",
   "execution_count": null,
   "id": "fdd65cc3-c7ed-4706-b926-c792155c86c3",
   "metadata": {
    "tags": []
   },
   "outputs": [],
   "source": [
    "features_columns = [c for c in data.columns if '_id' not in c and 'pymnt' not in c and c not in date_cols\n",
    "                   and 'hardship' not in c and not c.startswith('settlement') \n",
    "                    and 'prncp' not in c\n",
    "                    and \n",
    "                   c not in ('desc', 'title', 'disbursement_method', 'zip_code', 'addr_state',\n",
    "                            'deferral_term', 'initial_list_status', 'Unnamed: 0',\n",
    "                             'grade', 'sub_grade', 'emp_title', 'emp_length',\n",
    "                             'home_ownership', 'verification_status', \n",
    "                             'loan_status',\n",
    "                             'url',\n",
    "                             'purpose',\n",
    "                             'earliest_cr_line',\n",
    "                             'application_type',\n",
    "                             'verification_status_joint',\n",
    "                             'debt_settlement_flag',\n",
    "                             'sec_app_earliest_cr_line'\n",
    "                            )]\n",
    "target_columns = ['id', 'loan_status', 'total_pymnt', 'issue_d']"
   ]
  },
  {
   "cell_type": "code",
   "execution_count": null,
   "id": "bbad04bf-d8d1-4d7b-aadb-1eed52354746",
   "metadata": {
    "tags": []
   },
   "outputs": [],
   "source": [
    "targets = data[target_columns].copy()"
   ]
  },
  {
   "cell_type": "code",
   "execution_count": null,
   "id": "5bbdd3d5-535b-4066-bd58-fd8bee30d584",
   "metadata": {
    "tags": []
   },
   "outputs": [],
   "source": [
    "features = data[features_columns].copy()"
   ]
  },
  {
   "cell_type": "code",
   "execution_count": null,
   "id": "c07a26f6-8273-43f8-acd0-8635866cb61f",
   "metadata": {
    "tags": []
   },
   "outputs": [],
   "source": [
    "for f in features.select_dtypes('float'):\n",
    "    if features[f].isna().any():\n",
    "        continue\n",
    "    if (features[f].astype('int') == features[f]).all():\n",
    "        features[f] = pd.to_numeric(features[f], downcast='unsigned')\n"
   ]
  },
  {
   "cell_type": "code",
   "execution_count": null,
   "id": "d644a73a-5cd6-4846-8e59-8fa1ade30dd9",
   "metadata": {
    "tags": []
   },
   "outputs": [],
   "source": [
    "for feature_name in ['installment', 'annual_inc', 'revol_bal', 'open_acc']:\n",
    "    median = features[feature_name].median()\n",
    "    features[f'{feature_name}_larger_than_median'] = ((features[feature_name] - median) >= 0).astype(int)"
   ]
  },
  {
   "cell_type": "code",
   "execution_count": null,
   "id": "4ff612f8-0922-4e9a-bc0e-87625706803b",
   "metadata": {
    "tags": []
   },
   "outputs": [],
   "source": [
    "features['annual_inc_larger_than_median'].value_counts(normalize=True)"
   ]
  },
  {
   "cell_type": "code",
   "execution_count": null,
   "id": "87a5b8eb-0597-46aa-a8b4-67450c042893",
   "metadata": {
    "tags": []
   },
   "outputs": [],
   "source": [
    "data['initial_list_status'].value_counts()"
   ]
  },
  {
   "cell_type": "code",
   "execution_count": null,
   "id": "1229974a-3dcd-4813-838e-e57d61fe3a7a",
   "metadata": {
    "tags": []
   },
   "outputs": [],
   "source": [
    "data[data['initial_list_status'] == 'f']['loan_status'].value_counts(normalize=True)"
   ]
  },
  {
   "cell_type": "code",
   "execution_count": null,
   "id": "dde067d0-c10d-4ef1-a5d2-6858b3e78c5a",
   "metadata": {
    "tags": []
   },
   "outputs": [],
   "source": [
    "features.shape"
   ]
  },
  {
   "cell_type": "code",
   "execution_count": null,
   "id": "dad50c2b-cf6c-483c-8d2a-69491ad57df0",
   "metadata": {
    "tags": []
   },
   "outputs": [],
   "source": [
    "features['term'] = features['term'].astype(str).str.strip().str[:2].astype(int)"
   ]
  },
  {
   "cell_type": "code",
   "execution_count": null,
   "id": "350ecef3-9555-4d4f-a77b-83ecb50629db",
   "metadata": {
    "tags": []
   },
   "outputs": [],
   "source": [
    "features.select_dtypes('object').columns.tolist()"
   ]
  },
  {
   "cell_type": "code",
   "execution_count": null,
   "id": "d3035566-b00b-4359-8f3a-28a089062e9e",
   "metadata": {
    "tags": []
   },
   "outputs": [],
   "source": [
    "targets['id'] = targets['id'].astype(int)\n",
    "features['id'] = features['id'].astype(int)"
   ]
  },
  {
   "cell_type": "code",
   "execution_count": null,
   "id": "510529e4-bf09-4c7a-a551-9acb460ae2f8",
   "metadata": {},
   "outputs": [],
   "source": [
    "assert ((features['id'].value_counts() == 1).sum() == len(features))"
   ]
  },
  {
   "cell_type": "code",
   "execution_count": null,
   "id": "270d84f3-5143-4628-bf78-d07a6727b860",
   "metadata": {},
   "outputs": [],
   "source": [
    "targets['id'].value_counts()"
   ]
  },
  {
   "cell_type": "code",
   "execution_count": null,
   "id": "8e8caa2a-6896-4597-9260-6f2907ab0c80",
   "metadata": {
    "tags": []
   },
   "outputs": [],
   "source": [
    "targets.dtypes"
   ]
  },
  {
   "cell_type": "code",
   "execution_count": null,
   "id": "0b604d3f-43f9-479f-bd49-fba8472e20d4",
   "metadata": {
    "tags": []
   },
   "outputs": [],
   "source": [
    "features.to_parquet(f's3://pagaya-pro-bucket/exercises/big_bugs_exercise_v1/users/{user}/processed/features{i}.parquet')"
   ]
  },
  {
   "cell_type": "code",
   "execution_count": null,
   "id": "7d8c60b3-a7f6-45e7-a10b-67db61652f20",
   "metadata": {
    "tags": []
   },
   "outputs": [],
   "source": [
    "targets.to_parquet(f's3://pagaya-pro-bucket/exercises/big_bugs_exercise_v1/users/{user}/processed/targets{i}.parquet')"
   ]
  },
  {
   "cell_type": "code",
   "execution_count": null,
   "id": "9e27cc21-e41e-4c2d-933c-5e08ad972e16",
   "metadata": {
    "tags": []
   },
   "outputs": [],
   "source": [
    "assert set(features['term']) == {36, 60}"
   ]
  },
  {
   "cell_type": "code",
   "execution_count": null,
   "id": "637da323-018f-465d-89a0-a93f412053f1",
   "metadata": {},
   "outputs": [],
   "source": []
  }
 ],
 "metadata": {
  "kernelspec": {
   "display_name": "Python 3",
   "language": "python",
   "name": "python3"
  },
  "language_info": {
   "codemirror_mode": {
    "name": "ipython",
    "version": 3
   },
   "file_extension": ".py",
   "mimetype": "text/x-python",
   "name": "python",
   "nbconvert_exporter": "python",
   "pygments_lexer": "ipython3",
   "version": "3.8.10"
  }
 },
 "nbformat": 4,
 "nbformat_minor": 5
}

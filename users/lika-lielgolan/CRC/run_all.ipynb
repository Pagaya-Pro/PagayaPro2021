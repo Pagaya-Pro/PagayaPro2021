{
 "cells": [
  {
   "cell_type": "code",
   "execution_count": 26,
   "metadata": {
    "tags": []
   },
   "outputs": [],
   "source": [
    "import socket\n",
    "import papermill\n",
    "import boto3\n",
    "import os\n",
    "import functools\n",
    "@functools.lru_cache()\n",
    "def aws_username() -> str:\n",
    "    \"\"\"\n",
    "    The login in AWS.\n",
    "\n",
    "    Can be used as a unique identifier.\n",
    "    Our convention is firstName.lastName\n",
    "    \"\"\"\n",
    "    client = boto3.client(\"sts\")\n",
    "    return client.get_caller_identity()[\"Arn\"].split(\"/\")[-1]\n",
    "\n",
    "USER = socket.gethostname() + '_' + aws_username()"
   ]
  },
  {
   "cell_type": "code",
   "execution_count": 27,
   "metadata": {
    "tags": []
   },
   "outputs": [],
   "source": [
    "local_data_path = os.environ.get('TEMP', '/tmp') + '/big_bugs_exercise'\n",
    "!mkdir -p {local_data_path}"
   ]
  },
  {
   "cell_type": "code",
   "execution_count": 28,
   "metadata": {
    "tags": []
   },
   "outputs": [
    {
     "name": "stdout",
     "output_type": "stream",
     "text": [
      "download: s3://pagaya-pro-bucket/exercises/big_bugs_exercise_v1/input_data/data2000000.csv.gz to ../../../../../../tmp/big_bugs_exercise/data2000000.csv.gz\n",
      "download: s3://pagaya-pro-bucket/exercises/big_bugs_exercise_v1/input_data/data0.csv.gz to ../../../../../../tmp/big_bugs_exercise/data0.csv.gz\n",
      "download: s3://pagaya-pro-bucket/exercises/big_bugs_exercise_v1/input_data/data1.csv.gz to ../../../../../../tmp/big_bugs_exercise/data1.csv.gz\n",
      "download: s3://pagaya-pro-bucket/exercises/big_bugs_exercise_v1/input_data/data10.csv.gz to ../../../../../../tmp/big_bugs_exercise/data10.csv.gz\n",
      "download: s3://pagaya-pro-bucket/exercises/big_bugs_exercise_v1/input_data/data2.csv.gz to ../../../../../../tmp/big_bugs_exercise/data2.csv.gz\n",
      "download: s3://pagaya-pro-bucket/exercises/big_bugs_exercise_v1/input_data/data11.csv.gz to ../../../../../../tmp/big_bugs_exercise/data11.csv.gz\n",
      "download: s3://pagaya-pro-bucket/exercises/big_bugs_exercise_v1/input_data/data3.csv.gz to ../../../../../../tmp/big_bugs_exercise/data3.csv.gz\n",
      "download: s3://pagaya-pro-bucket/exercises/big_bugs_exercise_v1/input_data/data4.csv.gz to ../../../../../../tmp/big_bugs_exercise/data4.csv.gz\n",
      "download: s3://pagaya-pro-bucket/exercises/big_bugs_exercise_v1/input_data/data5.csv.gz to ../../../../../../tmp/big_bugs_exercise/data5.csv.gz\n",
      "download: s3://pagaya-pro-bucket/exercises/big_bugs_exercise_v1/input_data/data6.csv.gz to ../../../../../../tmp/big_bugs_exercise/data6.csv.gz\n",
      "download: s3://pagaya-pro-bucket/exercises/big_bugs_exercise_v1/input_data/data7.csv.gz to ../../../../../../tmp/big_bugs_exercise/data7.csv.gz\n",
      "download: s3://pagaya-pro-bucket/exercises/big_bugs_exercise_v1/input_data/data8.csv.gz to ../../../../../../tmp/big_bugs_exercise/data8.csv.gz\n",
      "download: s3://pagaya-pro-bucket/exercises/big_bugs_exercise_v1/input_data/data9.csv.gz to ../../../../../../tmp/big_bugs_exercise/data9.csv.gz\n"
     ]
    }
   ],
   "source": [
    "!aws s3 cp --recursive --exclude \"*\" --include \"data*.csv.gz\" s3://pagaya-pro-bucket/exercises/big_bugs_exercise_v1/input_data/ {local_data_path}"
   ]
  },
  {
   "cell_type": "code",
   "execution_count": 35,
   "metadata": {},
   "outputs": [
    {
     "name": "stdout",
     "output_type": "stream",
     "text": [
      "delete: s3://pagaya-pro-bucket/exercises/big_bugs_exercise_v1/users/ip-10-100-109-202_i-0678491fa26692c28/processed/features0.parquet\n",
      "delete: s3://pagaya-pro-bucket/exercises/big_bugs_exercise_v1/users/ip-10-100-109-202_i-0678491fa26692c28/processed/features1.parquet\n",
      "delete: s3://pagaya-pro-bucket/exercises/big_bugs_exercise_v1/users/ip-10-100-109-202_i-0678491fa26692c28/processed/features4.parquet\n",
      "delete: s3://pagaya-pro-bucket/exercises/big_bugs_exercise_v1/users/ip-10-100-109-202_i-0678491fa26692c28/processed/features10.parquet\n",
      "delete: s3://pagaya-pro-bucket/exercises/big_bugs_exercise_v1/users/ip-10-100-109-202_i-0678491fa26692c28/processed/features7.parquet\n",
      "delete: s3://pagaya-pro-bucket/exercises/big_bugs_exercise_v1/users/ip-10-100-109-202_i-0678491fa26692c28/processed/features11.parquet\n",
      "delete: s3://pagaya-pro-bucket/exercises/big_bugs_exercise_v1/users/ip-10-100-109-202_i-0678491fa26692c28/processed/features6.parquet\n",
      "delete: s3://pagaya-pro-bucket/exercises/big_bugs_exercise_v1/users/ip-10-100-109-202_i-0678491fa26692c28/processed/features8.parquet\n",
      "delete: s3://pagaya-pro-bucket/exercises/big_bugs_exercise_v1/users/ip-10-100-109-202_i-0678491fa26692c28/processed/features2.parquet\n",
      "delete: s3://pagaya-pro-bucket/exercises/big_bugs_exercise_v1/users/ip-10-100-109-202_i-0678491fa26692c28/processed/features3.parquet\n",
      "delete: s3://pagaya-pro-bucket/exercises/big_bugs_exercise_v1/users/ip-10-100-109-202_i-0678491fa26692c28/processed/features5.parquet\n",
      "delete: s3://pagaya-pro-bucket/exercises/big_bugs_exercise_v1/users/ip-10-100-109-202_i-0678491fa26692c28/processed/features9.parquet\n",
      "delete: s3://pagaya-pro-bucket/exercises/big_bugs_exercise_v1/users/ip-10-100-109-202_i-0678491fa26692c28/processed/targets0.parquet\n",
      "delete: s3://pagaya-pro-bucket/exercises/big_bugs_exercise_v1/users/ip-10-100-109-202_i-0678491fa26692c28/processed/targets10.parquet\n",
      "delete: s3://pagaya-pro-bucket/exercises/big_bugs_exercise_v1/users/ip-10-100-109-202_i-0678491fa26692c28/processed/targets11.parquet\n",
      "delete: s3://pagaya-pro-bucket/exercises/big_bugs_exercise_v1/users/ip-10-100-109-202_i-0678491fa26692c28/processed/targets1.parquet\n",
      "delete: s3://pagaya-pro-bucket/exercises/big_bugs_exercise_v1/users/ip-10-100-109-202_i-0678491fa26692c28/processed/targets2.parquet\n",
      "delete: s3://pagaya-pro-bucket/exercises/big_bugs_exercise_v1/users/ip-10-100-109-202_i-0678491fa26692c28/processed/targets4.parquet\n",
      "delete: s3://pagaya-pro-bucket/exercises/big_bugs_exercise_v1/users/ip-10-100-109-202_i-0678491fa26692c28/processed/targets3.parquet\n",
      "delete: s3://pagaya-pro-bucket/exercises/big_bugs_exercise_v1/users/ip-10-100-109-202_i-0678491fa26692c28/processed/targets7.parquet\n",
      "delete: s3://pagaya-pro-bucket/exercises/big_bugs_exercise_v1/users/ip-10-100-109-202_i-0678491fa26692c28/processed/targets5.parquet\n",
      "delete: s3://pagaya-pro-bucket/exercises/big_bugs_exercise_v1/users/ip-10-100-109-202_i-0678491fa26692c28/processed/targets6.parquet\n",
      "delete: s3://pagaya-pro-bucket/exercises/big_bugs_exercise_v1/users/ip-10-100-109-202_i-0678491fa26692c28/processed/targets9.parquet\n",
      "delete: s3://pagaya-pro-bucket/exercises/big_bugs_exercise_v1/users/ip-10-100-109-202_i-0678491fa26692c28/processed/targets8.parquet\n"
     ]
    }
   ],
   "source": [
    "# It is recommended to run this cleanup cell between executions\n",
    "!aws s3 rm --recursive s3://pagaya-pro-bucket/exercises/big_bugs_exercise_v1/users/{USER}/"
   ]
  },
  {
   "cell_type": "code",
   "execution_count": 36,
   "metadata": {
    "tags": []
   },
   "outputs": [
    {
     "data": {
      "application/vnd.jupyter.widget-view+json": {
       "model_id": "aafe8295b8fe4e3c8dbd363d9343f764",
       "version_major": 2,
       "version_minor": 0
      },
      "text/plain": [
       "HBox(children=(HTML(value='Executing'), FloatProgress(value=0.0, max=29.0), HTML(value='')))"
      ]
     },
     "metadata": {},
     "output_type": "display_data"
    },
    {
     "data": {
      "application/vnd.jupyter.widget-view+json": {
       "model_id": "f59a01b7b54a4e648ead70e98b6a85a1",
       "version_major": 2,
       "version_minor": 0
      },
      "text/plain": [
       "HBox(children=(HTML(value='Executing'), FloatProgress(value=0.0, max=29.0), HTML(value='')))"
      ]
     },
     "metadata": {},
     "output_type": "display_data"
    },
    {
     "data": {
      "application/vnd.jupyter.widget-view+json": {
       "model_id": "2b029ab37b6046cabcfa73e216838aef",
       "version_major": 2,
       "version_minor": 0
      },
      "text/plain": [
       "HBox(children=(HTML(value='Executing'), FloatProgress(value=0.0, max=29.0), HTML(value='')))"
      ]
     },
     "metadata": {},
     "output_type": "display_data"
    },
    {
     "data": {
      "application/vnd.jupyter.widget-view+json": {
       "model_id": "b2ac92f0a17a4c0cb5d6dcd6468cab78",
       "version_major": 2,
       "version_minor": 0
      },
      "text/plain": [
       "HBox(children=(HTML(value='Executing'), FloatProgress(value=0.0, max=29.0), HTML(value='')))"
      ]
     },
     "metadata": {},
     "output_type": "display_data"
    },
    {
     "data": {
      "application/vnd.jupyter.widget-view+json": {
       "model_id": "7537c3d896564bff976f56519fa38d45",
       "version_major": 2,
       "version_minor": 0
      },
      "text/plain": [
       "HBox(children=(HTML(value='Executing'), FloatProgress(value=0.0, max=29.0), HTML(value='')))"
      ]
     },
     "metadata": {},
     "output_type": "display_data"
    },
    {
     "data": {
      "application/vnd.jupyter.widget-view+json": {
       "model_id": "d715cee212894c76a1989882b1fa5549",
       "version_major": 2,
       "version_minor": 0
      },
      "text/plain": [
       "HBox(children=(HTML(value='Executing'), FloatProgress(value=0.0, max=29.0), HTML(value='')))"
      ]
     },
     "metadata": {},
     "output_type": "display_data"
    },
    {
     "data": {
      "application/vnd.jupyter.widget-view+json": {
       "model_id": "19f5d3b570244b39b0780c0f8580d88f",
       "version_major": 2,
       "version_minor": 0
      },
      "text/plain": [
       "HBox(children=(HTML(value='Executing'), FloatProgress(value=0.0, max=29.0), HTML(value='')))"
      ]
     },
     "metadata": {},
     "output_type": "display_data"
    },
    {
     "data": {
      "application/vnd.jupyter.widget-view+json": {
       "model_id": "995d8ed74e8d4ed6920cd00f38f91979",
       "version_major": 2,
       "version_minor": 0
      },
      "text/plain": [
       "HBox(children=(HTML(value='Executing'), FloatProgress(value=0.0, max=29.0), HTML(value='')))"
      ]
     },
     "metadata": {},
     "output_type": "display_data"
    },
    {
     "data": {
      "application/vnd.jupyter.widget-view+json": {
       "model_id": "19cb4112ee65484e873d3b6a45c8bd28",
       "version_major": 2,
       "version_minor": 0
      },
      "text/plain": [
       "HBox(children=(HTML(value='Executing'), FloatProgress(value=0.0, max=29.0), HTML(value='')))"
      ]
     },
     "metadata": {},
     "output_type": "display_data"
    },
    {
     "data": {
      "application/vnd.jupyter.widget-view+json": {
       "model_id": "007bdd9c04fe470b9cd4125a8cbe2d26",
       "version_major": 2,
       "version_minor": 0
      },
      "text/plain": [
       "HBox(children=(HTML(value='Executing'), FloatProgress(value=0.0, max=29.0), HTML(value='')))"
      ]
     },
     "metadata": {},
     "output_type": "display_data"
    },
    {
     "data": {
      "application/vnd.jupyter.widget-view+json": {
       "model_id": "dd0dae5625c549cd8ac7c1b4bb442773",
       "version_major": 2,
       "version_minor": 0
      },
      "text/plain": [
       "HBox(children=(HTML(value='Executing'), FloatProgress(value=0.0, max=29.0), HTML(value='')))"
      ]
     },
     "metadata": {},
     "output_type": "display_data"
    },
    {
     "name": "stdout",
     "output_type": "stream",
     "text": [
      "\n",
      "\n",
      "\n",
      "\n",
      "\n",
      "\n",
      "\n",
      "\n",
      "\n",
      "\n",
      "\n"
     ]
    }
   ],
   "source": [
    "from joblib import *\n",
    "results = Parallel(n_jobs=12, backend='threading')(\n",
    "delayed(papermill.execute_notebook)('preprocess.ipynb', f'preprocess{i}.ipynb', parameters={'i': i, 'nrows': 200_000,\n",
    "                                                                                            'user': USER,\n",
    "                                                                                            'data_path': local_data_path})\n",
    "for i in range(11)\n",
    "    # TODO: the code crashes for i=5, but we don't want to lose this data !\n",
    "    if i != i+1)\n",
    "\n",
    "\n",
    "\n"
   ]
  },
  {
   "cell_type": "code",
   "execution_count": 37,
   "metadata": {
    "tags": []
   },
   "outputs": [
    {
     "data": {
      "application/vnd.jupyter.widget-view+json": {
       "model_id": "13b41f626f48437eb57448cb226673d3",
       "version_major": 2,
       "version_minor": 0
      },
      "text/plain": [
       "HBox(children=(HTML(value='Executing'), FloatProgress(value=0.0, max=12.0), HTML(value='')))"
      ]
     },
     "metadata": {},
     "output_type": "display_data"
    },
    {
     "name": "stdout",
     "output_type": "stream",
     "text": [
      "\n"
     ]
    },
    {
     "data": {
      "text/plain": [
       "{'cells': [{'cell_type': 'code',\n",
       "   'execution_count': 1,\n",
       "   'metadata': {'tags': ['parameters'],\n",
       "    'papermill': {'exception': False,\n",
       "     'start_time': '2021-10-26T10:13:04.855782',\n",
       "     'end_time': '2021-10-26T10:13:04.866528',\n",
       "     'duration': 0.010746,\n",
       "     'status': 'completed'},\n",
       "    'execution': {'iopub.status.busy': '2021-10-26T10:13:04.863855Z',\n",
       "     'iopub.execute_input': '2021-10-26T10:13:04.864411Z',\n",
       "     'shell.execute_reply': '2021-10-26T10:13:04.865759Z',\n",
       "     'iopub.status.idle': '2021-10-26T10:13:04.866364Z'}},\n",
       "   'outputs': [],\n",
       "   'source': \"user = 'someone'\"},\n",
       "  {'id': '329b33a9',\n",
       "   'cell_type': 'code',\n",
       "   'metadata': {'tags': ['injected-parameters'],\n",
       "    'papermill': {'exception': False,\n",
       "     'start_time': '2021-10-26T10:13:04.872449',\n",
       "     'end_time': '2021-10-26T10:13:04.882171',\n",
       "     'duration': 0.009722,\n",
       "     'status': 'completed'},\n",
       "    'execution': {'iopub.status.busy': '2021-10-26T10:13:04.879648Z',\n",
       "     'iopub.execute_input': '2021-10-26T10:13:04.880194Z',\n",
       "     'shell.execute_reply': '2021-10-26T10:13:04.881488Z',\n",
       "     'iopub.status.idle': '2021-10-26T10:13:04.882029Z'}},\n",
       "   'execution_count': 2,\n",
       "   'source': '# Parameters\\nuser = \"ip-10-100-109-202_i-0678491fa26692c28\"\\n',\n",
       "   'outputs': []},\n",
       "  {'cell_type': 'code',\n",
       "   'execution_count': 3,\n",
       "   'metadata': {'tags': [],\n",
       "    'papermill': {'exception': False,\n",
       "     'start_time': '2021-10-26T10:13:04.886302',\n",
       "     'end_time': '2021-10-26T10:13:05.158451',\n",
       "     'duration': 0.272149,\n",
       "     'status': 'completed'},\n",
       "    'execution': {'iopub.status.busy': '2021-10-26T10:13:04.892932Z',\n",
       "     'iopub.execute_input': '2021-10-26T10:13:04.893490Z',\n",
       "     'iopub.status.idle': '2021-10-26T10:13:05.157830Z',\n",
       "     'shell.execute_reply': '2021-10-26T10:13:05.158261Z'}},\n",
       "   'outputs': [],\n",
       "   'source': 'import pandas as pd\\n\\n'},\n",
       "  {'cell_type': 'code',\n",
       "   'execution_count': 4,\n",
       "   'metadata': {'tags': [],\n",
       "    'papermill': {'exception': False,\n",
       "     'start_time': '2021-10-26T10:13:05.164142',\n",
       "     'end_time': '2021-10-26T10:13:15.559915',\n",
       "     'duration': 10.395773,\n",
       "     'status': 'completed'},\n",
       "    'execution': {'iopub.status.busy': '2021-10-26T10:13:05.174128Z',\n",
       "     'iopub.execute_input': '2021-10-26T10:13:05.174701Z',\n",
       "     'iopub.status.idle': '2021-10-26T10:13:15.559283Z',\n",
       "     'shell.execute_reply': '2021-10-26T10:13:15.559735Z'}},\n",
       "   'outputs': [],\n",
       "   'source': \"features = pd.concat([\\n    pd.read_parquet(f's3://pagaya-pro-bucket/exercises/big_bugs_exercise_v1/users/{user}/processed/features{i}.parquet') for i in range(11)])\"},\n",
       "  {'cell_type': 'code',\n",
       "   'execution_count': 5,\n",
       "   'metadata': {'tags': [],\n",
       "    'papermill': {'exception': False,\n",
       "     'start_time': '2021-10-26T10:13:15.565505',\n",
       "     'end_time': '2021-10-26T10:13:18.350159',\n",
       "     'duration': 2.784654,\n",
       "     'status': 'completed'},\n",
       "    'execution': {'iopub.status.busy': '2021-10-26T10:13:15.575733Z',\n",
       "     'iopub.execute_input': '2021-10-26T10:13:15.576276Z',\n",
       "     'shell.execute_reply': '2021-10-26T10:13:18.349509Z',\n",
       "     'iopub.status.idle': '2021-10-26T10:13:18.350002Z'}},\n",
       "   'outputs': [],\n",
       "   'source': \"targets = pd.concat([\\n    pd.read_parquet(f's3://pagaya-pro-bucket/exercises/big_bugs_exercise_v1/users/{user}/processed/targets{i}.parquet') for i in range(11)])\"},\n",
       "  {'cell_type': 'code',\n",
       "   'execution_count': 6,\n",
       "   'metadata': {'tags': [],\n",
       "    'papermill': {'exception': False,\n",
       "     'start_time': '2021-10-26T10:13:18.355781',\n",
       "     'end_time': '2021-10-26T10:13:18.366015',\n",
       "     'duration': 0.010234,\n",
       "     'status': 'completed'},\n",
       "    'execution': {'iopub.status.busy': '2021-10-26T10:13:18.363494Z',\n",
       "     'iopub.execute_input': '2021-10-26T10:13:18.364035Z',\n",
       "     'shell.execute_reply': '2021-10-26T10:13:18.365340Z',\n",
       "     'iopub.status.idle': '2021-10-26T10:13:18.365880Z'}},\n",
       "   'outputs': [],\n",
       "   'source': \"median_cols = [x for x in features if 'larger_than_median' in x]\"},\n",
       "  {'cell_type': 'code',\n",
       "   'execution_count': 7,\n",
       "   'metadata': {'tags': [],\n",
       "    'papermill': {'exception': False,\n",
       "     'start_time': '2021-10-26T10:13:18.370508',\n",
       "     'end_time': '2021-10-26T10:13:19.075022',\n",
       "     'duration': 0.704514,\n",
       "     'status': 'completed'},\n",
       "    'execution': {'iopub.status.busy': '2021-10-26T10:13:18.378823Z',\n",
       "     'iopub.execute_input': '2021-10-26T10:13:18.379365Z',\n",
       "     'shell.execute_reply': '2021-10-26T10:13:19.074362Z',\n",
       "     'iopub.status.idle': '2021-10-26T10:13:19.074879Z'}},\n",
       "   'outputs': [],\n",
       "   'source': \"# This assertion must NOT fail\\n#    Since the 'larger_than_median' columns denote whether the value is smaller (0) or larger (1) than the median value,\\n#    we expect ~50% to be 1. Therefore, we expect the mean to be ~0.5\\nassert ((features[median_cols].mean() - 0.5).abs() < 0.1).all()\"},\n",
       "  {'cell_type': 'code',\n",
       "   'execution_count': 8,\n",
       "   'metadata': {'tags': [],\n",
       "    'papermill': {'exception': False,\n",
       "     'start_time': '2021-10-26T10:13:19.080597',\n",
       "     'end_time': '2021-10-26T10:13:23.486690',\n",
       "     'duration': 4.406093,\n",
       "     'status': 'completed'},\n",
       "    'execution': {'iopub.status.busy': '2021-10-26T10:13:19.088636Z',\n",
       "     'iopub.execute_input': '2021-10-26T10:13:19.089176Z',\n",
       "     'shell.execute_reply': '2021-10-26T10:13:23.486072Z',\n",
       "     'iopub.status.idle': '2021-10-26T10:13:23.486546Z'}},\n",
       "   'outputs': [],\n",
       "   'source': \"# Documentation of this column, from LendingClub website:\\n# id: A unique LC assigned ID for the loan listing.\\n\\nmerged = pd.merge(features, targets, on=['id'])\"},\n",
       "  {'cell_type': 'code',\n",
       "   'execution_count': 9,\n",
       "   'metadata': {'tags': [],\n",
       "    'papermill': {'exception': False,\n",
       "     'start_time': '2021-10-26T10:13:23.492362',\n",
       "     'end_time': '2021-10-26T10:13:25.449767',\n",
       "     'duration': 1.957405,\n",
       "     'status': 'completed'},\n",
       "    'execution': {'iopub.status.busy': '2021-10-26T10:13:23.502176Z',\n",
       "     'iopub.execute_input': '2021-10-26T10:13:23.502731Z',\n",
       "     'shell.execute_reply': '2021-10-26T10:13:25.449134Z',\n",
       "     'iopub.status.idle': '2021-10-26T10:13:25.449630Z'}},\n",
       "   'outputs': [{'output_type': 'execute_result',\n",
       "     'metadata': {},\n",
       "     'data': {'text/plain': '         loan_amnt  funded_amnt  funded_amnt_inv  term  int_rate  installment  \\\\\\n0             3600         3600           3600.0    36     13.99       123.03   \\n1            24700        24700          24700.0    36     11.99       820.28   \\n2            20000        20000          20000.0    60     10.78       432.66   \\n3            35000        35000          35000.0    60     14.85       829.90   \\n4            10400        10400          10400.0    60     22.45       289.91   \\n...            ...          ...              ...   ...       ...          ...   \\n2199995      10800        10800          10800.0    36     12.74       362.55   \\n2199996      32000        32000          32000.0    36     11.49      1055.09   \\n2199997      35000        35000          35000.0    60     11.44       768.69   \\n2199998       6000         6000           6000.0    36     11.44       197.69   \\n2199999       3625         3625           3625.0    36     11.39       119.35   \\n\\n         annual_inc    dti  delinq_2yrs  fico_range_low  ...  \\\\\\n0           55000.0   5.91          0.0             675  ...   \\n1           65000.0  16.06          1.0             715  ...   \\n2           63000.0  10.78          0.0             695  ...   \\n3          110000.0  17.06          0.0             785  ...   \\n4          104433.0  25.37          1.0             695  ...   \\n...             ...    ...          ...             ...  ...   \\n2199995    142250.0   8.63          0.0             660  ...   \\n2199996    285000.0  19.52          0.0             680  ...   \\n2199997    398000.0  14.18          1.0             690  ...   \\n2199998    115000.0   4.46          0.0             675  ...   \\n2199999     29000.0  17.72          0.0             665  ...   \\n\\n         sec_app_num_rev_accts  sec_app_chargeoff_within_12_mths  \\\\\\n0                         -1.0                              -1.0   \\n1                         -1.0                              -1.0   \\n2                         -1.0                              -1.0   \\n3                         -1.0                              -1.0   \\n4                         -1.0                              -1.0   \\n...                        ...                               ...   \\n2199995                   -1.0                              -1.0   \\n2199996                   -1.0                              -1.0   \\n2199997                   -1.0                              -1.0   \\n2199998                   -1.0                              -1.0   \\n2199999                   -1.0                              -1.0   \\n\\n         sec_app_collections_12_mths_ex_med  \\\\\\n0                                      -1.0   \\n1                                      -1.0   \\n2                                      -1.0   \\n3                                      -1.0   \\n4                                      -1.0   \\n...                                     ...   \\n2199995                                -1.0   \\n2199996                                -1.0   \\n2199997                                -1.0   \\n2199998                                -1.0   \\n2199999                                -1.0   \\n\\n         sec_app_mths_since_last_major_derog  \\\\\\n0                                       -1.0   \\n1                                       -1.0   \\n2                                       -1.0   \\n3                                       -1.0   \\n4                                       -1.0   \\n...                                      ...   \\n2199995                                 -1.0   \\n2199996                                 -1.0   \\n2199997                                 -1.0   \\n2199998                                 -1.0   \\n2199999                                 -1.0   \\n\\n         orig_projected_additional_accrued_interest  \\\\\\n0                                              -1.0   \\n1                                              -1.0   \\n2                                              -1.0   \\n3                                              -1.0   \\n4                                              -1.0   \\n...                                             ...   \\n2199995                                        -1.0   \\n2199996                                        -1.0   \\n2199997                                        -1.0   \\n2199998                                        -1.0   \\n2199999                                        -1.0   \\n\\n         installment_larger_than_median  annual_inc_larger_than_median  \\\\\\n0                                     0                              0   \\n1                                     1                              1   \\n2                                     1                              0   \\n3                                     1                              1   \\n4                                     0                              1   \\n...                                 ...                            ...   \\n2199995                               0                              1   \\n2199996                               1                              1   \\n2199997                               1                              1   \\n2199998                               0                              1   \\n2199999                               0                              0   \\n\\n         revol_bal_larger_than_median  open_acc_larger_than_median  \\\\\\n0                                   0                            0   \\n1                                   1                            1   \\n2                                   0                            0   \\n3                                   0                            1   \\n4                                   1                            1   \\n...                               ...                          ...   \\n2199995                             0                            0   \\n2199996                             1                            1   \\n2199997                             1                            1   \\n2199998                             1                            0   \\n2199999                             0                            0   \\n\\n         Unnamed: 0.1  \\n0                -1.0  \\n1                -1.0  \\n2                -1.0  \\n3                -1.0  \\n4                -1.0  \\n...               ...  \\n2199995          -1.0  \\n2199996          -1.0  \\n2199997          -1.0  \\n2199998          -1.0  \\n2199999          -1.0  \\n\\n[2200000 rows x 103 columns]',\n",
       "      'text/html': '<div>\\n<style scoped>\\n    .dataframe tbody tr th:only-of-type {\\n        vertical-align: middle;\\n    }\\n\\n    .dataframe tbody tr th {\\n        vertical-align: top;\\n    }\\n\\n    .dataframe thead th {\\n        text-align: right;\\n    }\\n</style>\\n<table border=\"1\" class=\"dataframe\">\\n  <thead>\\n    <tr style=\"text-align: right;\">\\n      <th></th>\\n      <th>loan_amnt</th>\\n      <th>funded_amnt</th>\\n      <th>funded_amnt_inv</th>\\n      <th>term</th>\\n      <th>int_rate</th>\\n      <th>installment</th>\\n      <th>annual_inc</th>\\n      <th>dti</th>\\n      <th>delinq_2yrs</th>\\n      <th>fico_range_low</th>\\n      <th>...</th>\\n      <th>sec_app_num_rev_accts</th>\\n      <th>sec_app_chargeoff_within_12_mths</th>\\n      <th>sec_app_collections_12_mths_ex_med</th>\\n      <th>sec_app_mths_since_last_major_derog</th>\\n      <th>orig_projected_additional_accrued_interest</th>\\n      <th>installment_larger_than_median</th>\\n      <th>annual_inc_larger_than_median</th>\\n      <th>revol_bal_larger_than_median</th>\\n      <th>open_acc_larger_than_median</th>\\n      <th>Unnamed: 0.1</th>\\n    </tr>\\n  </thead>\\n  <tbody>\\n    <tr>\\n      <th>0</th>\\n      <td>3600</td>\\n      <td>3600</td>\\n      <td>3600.0</td>\\n      <td>36</td>\\n      <td>13.99</td>\\n      <td>123.03</td>\\n      <td>55000.0</td>\\n      <td>5.91</td>\\n      <td>0.0</td>\\n      <td>675</td>\\n      <td>...</td>\\n      <td>-1.0</td>\\n      <td>-1.0</td>\\n      <td>-1.0</td>\\n      <td>-1.0</td>\\n      <td>-1.0</td>\\n      <td>0</td>\\n      <td>0</td>\\n      <td>0</td>\\n      <td>0</td>\\n      <td>-1.0</td>\\n    </tr>\\n    <tr>\\n      <th>1</th>\\n      <td>24700</td>\\n      <td>24700</td>\\n      <td>24700.0</td>\\n      <td>36</td>\\n      <td>11.99</td>\\n      <td>820.28</td>\\n      <td>65000.0</td>\\n      <td>16.06</td>\\n      <td>1.0</td>\\n      <td>715</td>\\n      <td>...</td>\\n      <td>-1.0</td>\\n      <td>-1.0</td>\\n      <td>-1.0</td>\\n      <td>-1.0</td>\\n      <td>-1.0</td>\\n      <td>1</td>\\n      <td>1</td>\\n      <td>1</td>\\n      <td>1</td>\\n      <td>-1.0</td>\\n    </tr>\\n    <tr>\\n      <th>2</th>\\n      <td>20000</td>\\n      <td>20000</td>\\n      <td>20000.0</td>\\n      <td>60</td>\\n      <td>10.78</td>\\n      <td>432.66</td>\\n      <td>63000.0</td>\\n      <td>10.78</td>\\n      <td>0.0</td>\\n      <td>695</td>\\n      <td>...</td>\\n      <td>-1.0</td>\\n      <td>-1.0</td>\\n      <td>-1.0</td>\\n      <td>-1.0</td>\\n      <td>-1.0</td>\\n      <td>1</td>\\n      <td>0</td>\\n      <td>0</td>\\n      <td>0</td>\\n      <td>-1.0</td>\\n    </tr>\\n    <tr>\\n      <th>3</th>\\n      <td>35000</td>\\n      <td>35000</td>\\n      <td>35000.0</td>\\n      <td>60</td>\\n      <td>14.85</td>\\n      <td>829.90</td>\\n      <td>110000.0</td>\\n      <td>17.06</td>\\n      <td>0.0</td>\\n      <td>785</td>\\n      <td>...</td>\\n      <td>-1.0</td>\\n      <td>-1.0</td>\\n      <td>-1.0</td>\\n      <td>-1.0</td>\\n      <td>-1.0</td>\\n      <td>1</td>\\n      <td>1</td>\\n      <td>0</td>\\n      <td>1</td>\\n      <td>-1.0</td>\\n    </tr>\\n    <tr>\\n      <th>4</th>\\n      <td>10400</td>\\n      <td>10400</td>\\n      <td>10400.0</td>\\n      <td>60</td>\\n      <td>22.45</td>\\n      <td>289.91</td>\\n      <td>104433.0</td>\\n      <td>25.37</td>\\n      <td>1.0</td>\\n      <td>695</td>\\n      <td>...</td>\\n      <td>-1.0</td>\\n      <td>-1.0</td>\\n      <td>-1.0</td>\\n      <td>-1.0</td>\\n      <td>-1.0</td>\\n      <td>0</td>\\n      <td>1</td>\\n      <td>1</td>\\n      <td>1</td>\\n      <td>-1.0</td>\\n    </tr>\\n    <tr>\\n      <th>...</th>\\n      <td>...</td>\\n      <td>...</td>\\n      <td>...</td>\\n      <td>...</td>\\n      <td>...</td>\\n      <td>...</td>\\n      <td>...</td>\\n      <td>...</td>\\n      <td>...</td>\\n      <td>...</td>\\n      <td>...</td>\\n      <td>...</td>\\n      <td>...</td>\\n      <td>...</td>\\n      <td>...</td>\\n      <td>...</td>\\n      <td>...</td>\\n      <td>...</td>\\n      <td>...</td>\\n      <td>...</td>\\n      <td>...</td>\\n    </tr>\\n    <tr>\\n      <th>2199995</th>\\n      <td>10800</td>\\n      <td>10800</td>\\n      <td>10800.0</td>\\n      <td>36</td>\\n      <td>12.74</td>\\n      <td>362.55</td>\\n      <td>142250.0</td>\\n      <td>8.63</td>\\n      <td>0.0</td>\\n      <td>660</td>\\n      <td>...</td>\\n      <td>-1.0</td>\\n      <td>-1.0</td>\\n      <td>-1.0</td>\\n      <td>-1.0</td>\\n      <td>-1.0</td>\\n      <td>0</td>\\n      <td>1</td>\\n      <td>0</td>\\n      <td>0</td>\\n      <td>-1.0</td>\\n    </tr>\\n    <tr>\\n      <th>2199996</th>\\n      <td>32000</td>\\n      <td>32000</td>\\n      <td>32000.0</td>\\n      <td>36</td>\\n      <td>11.49</td>\\n      <td>1055.09</td>\\n      <td>285000.0</td>\\n      <td>19.52</td>\\n      <td>0.0</td>\\n      <td>680</td>\\n      <td>...</td>\\n      <td>-1.0</td>\\n      <td>-1.0</td>\\n      <td>-1.0</td>\\n      <td>-1.0</td>\\n      <td>-1.0</td>\\n      <td>1</td>\\n      <td>1</td>\\n      <td>1</td>\\n      <td>1</td>\\n      <td>-1.0</td>\\n    </tr>\\n    <tr>\\n      <th>2199997</th>\\n      <td>35000</td>\\n      <td>35000</td>\\n      <td>35000.0</td>\\n      <td>60</td>\\n      <td>11.44</td>\\n      <td>768.69</td>\\n      <td>398000.0</td>\\n      <td>14.18</td>\\n      <td>1.0</td>\\n      <td>690</td>\\n      <td>...</td>\\n      <td>-1.0</td>\\n      <td>-1.0</td>\\n      <td>-1.0</td>\\n      <td>-1.0</td>\\n      <td>-1.0</td>\\n      <td>1</td>\\n      <td>1</td>\\n      <td>1</td>\\n      <td>1</td>\\n      <td>-1.0</td>\\n    </tr>\\n    <tr>\\n      <th>2199998</th>\\n      <td>6000</td>\\n      <td>6000</td>\\n      <td>6000.0</td>\\n      <td>36</td>\\n      <td>11.44</td>\\n      <td>197.69</td>\\n      <td>115000.0</td>\\n      <td>4.46</td>\\n      <td>0.0</td>\\n      <td>675</td>\\n      <td>...</td>\\n      <td>-1.0</td>\\n      <td>-1.0</td>\\n      <td>-1.0</td>\\n      <td>-1.0</td>\\n      <td>-1.0</td>\\n      <td>0</td>\\n      <td>1</td>\\n      <td>1</td>\\n      <td>0</td>\\n      <td>-1.0</td>\\n    </tr>\\n    <tr>\\n      <th>2199999</th>\\n      <td>3625</td>\\n      <td>3625</td>\\n      <td>3625.0</td>\\n      <td>36</td>\\n      <td>11.39</td>\\n      <td>119.35</td>\\n      <td>29000.0</td>\\n      <td>17.72</td>\\n      <td>0.0</td>\\n      <td>665</td>\\n      <td>...</td>\\n      <td>-1.0</td>\\n      <td>-1.0</td>\\n      <td>-1.0</td>\\n      <td>-1.0</td>\\n      <td>-1.0</td>\\n      <td>0</td>\\n      <td>0</td>\\n      <td>0</td>\\n      <td>0</td>\\n      <td>-1.0</td>\\n    </tr>\\n  </tbody>\\n</table>\\n<p>2200000 rows × 103 columns</p>\\n</div>'},\n",
       "     'execution_count': 9}],\n",
       "   'source': \"merged[[x for x in features.columns if x != 'id']].fillna(-1)\"},\n",
       "  {'cell_type': 'code',\n",
       "   'execution_count': 10,\n",
       "   'metadata': {'tags': [],\n",
       "    'papermill': {'exception': False,\n",
       "     'start_time': '2021-10-26T10:13:25.456021',\n",
       "     'end_time': '2021-10-26T10:13:25.466933',\n",
       "     'duration': 0.010912,\n",
       "     'status': 'completed'},\n",
       "    'execution': {'iopub.status.busy': '2021-10-26T10:13:25.464436Z',\n",
       "     'iopub.execute_input': '2021-10-26T10:13:25.464979Z',\n",
       "     'shell.execute_reply': '2021-10-26T10:13:25.466284Z',\n",
       "     'iopub.status.idle': '2021-10-26T10:13:25.466798Z'}},\n",
       "   'outputs': [],\n",
       "   'source': '# This assertion must NOT fail\\n#    We expect each line in the features to be appear once in the merged dataframe !\\nassert merged.shape[0] == features.shape[0]'},\n",
       "  {'cell_type': 'code',\n",
       "   'execution_count': 11,\n",
       "   'metadata': {'tags': [],\n",
       "    'papermill': {'exception': False,\n",
       "     'start_time': '2021-10-26T10:13:25.471716',\n",
       "     'end_time': '2021-10-26T10:13:25.502731',\n",
       "     'duration': 0.031015,\n",
       "     'status': 'completed'},\n",
       "    'execution': {'iopub.status.busy': '2021-10-26T10:13:25.490385Z',\n",
       "     'iopub.execute_input': '2021-10-26T10:13:25.490957Z',\n",
       "     'shell.execute_reply': '2021-10-26T10:13:25.502092Z',\n",
       "     'iopub.status.idle': '2021-10-26T10:13:25.502582Z'}},\n",
       "   'outputs': [],\n",
       "   'source': \"# This assertion must NOT fail\\n#    Since the 'larger_than_median' columns denote whether the value is smaller (0) or larger (1) than the median value,\\n#    we expect ~50% to be 1. Therefore, we expect the mean to be ~0.5\\nassert ((features[median_cols].mean() - 0.5).abs() < 0.05).all()\"},\n",
       "  {'cell_type': 'code',\n",
       "   'execution_count': 12,\n",
       "   'metadata': {'tags': [],\n",
       "    'papermill': {'exception': False,\n",
       "     'start_time': '2021-10-26T10:13:25.507891',\n",
       "     'end_time': '2021-10-26T10:13:25.518190',\n",
       "     'duration': 0.010299,\n",
       "     'status': 'completed'},\n",
       "    'execution': {'iopub.status.busy': '2021-10-26T10:13:25.515652Z',\n",
       "     'iopub.execute_input': '2021-10-26T10:13:25.516186Z',\n",
       "     'shell.execute_reply': '2021-10-26T10:13:25.517617Z',\n",
       "     'iopub.status.idle': '2021-10-26T10:13:25.518054Z'}},\n",
       "   'outputs': [],\n",
       "   'source': '# This assertion must NOT fail\\n# Dataset should be larger than 2M\\nassert merged.shape[0] >= 2_000_000'}],\n",
       " 'metadata': {'kernelspec': {'display_name': 'Python 3',\n",
       "   'language': 'python',\n",
       "   'name': 'python3'},\n",
       "  'language_info': {'name': 'python',\n",
       "   'version': '3.8.10',\n",
       "   'mimetype': 'text/x-python',\n",
       "   'codemirror_mode': {'name': 'ipython', 'version': 3},\n",
       "   'pygments_lexer': 'ipython3',\n",
       "   'nbconvert_exporter': 'python',\n",
       "   'file_extension': '.py'},\n",
       "  'papermill': {'parameters': {'user': 'ip-10-100-109-202_i-0678491fa26692c28'},\n",
       "   'environment_variables': {},\n",
       "   'version': '2.1.2',\n",
       "   'input_path': 'validate_data.ipynb',\n",
       "   'output_path': 'validate_data_output.ipynb',\n",
       "   'start_time': '2021-10-26T10:13:04.099723',\n",
       "   'end_time': '2021-10-26T10:13:25.932110',\n",
       "   'duration': 21.832387,\n",
       "   'exception': None}},\n",
       " 'nbformat': 4,\n",
       " 'nbformat_minor': 4}"
      ]
     },
     "execution_count": 37,
     "metadata": {},
     "output_type": "execute_result"
    }
   ],
   "source": [
    "papermill.execute_notebook('validate_data.ipynb', f'validate_data_output.ipynb',\n",
    "                           parameters={'user': USER})"
   ]
  },
  {
   "cell_type": "code",
   "execution_count": null,
   "metadata": {},
   "outputs": [],
   "source": []
  }
 ],
 "metadata": {
  "kernelspec": {
   "display_name": "Python 3",
   "language": "python",
   "name": "python3"
  },
  "language_info": {
   "codemirror_mode": {
    "name": "ipython",
    "version": 3
   },
   "file_extension": ".py",
   "mimetype": "text/x-python",
   "name": "python",
   "nbconvert_exporter": "python",
   "pygments_lexer": "ipython3",
   "version": "3.8.10"
  }
 },
 "nbformat": 4,
 "nbformat_minor": 4
}

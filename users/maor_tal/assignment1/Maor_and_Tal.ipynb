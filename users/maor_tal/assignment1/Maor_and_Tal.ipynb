{
 "cells": [
  {
   "cell_type": "markdown",
   "metadata": {},
   "source": [
    "# Assignment objective"
   ]
  },
  {
   "cell_type": "markdown",
   "metadata": {},
   "source": [
    "We have data from Raleigh, NC, where we recently deployed a flyer program in order to increase public awareness of the possibility of taking a Pagaya loan. You objective is to assess the potency of the flyer program in terms of activation by analyzing production and TU data obtained from the town.\n"
   ]
  },
  {
   "cell_type": "markdown",
   "metadata": {},
   "source": [
    "# Basic imports "
   ]
  },
  {
   "cell_type": "code",
   "execution_count": 1,
   "metadata": {
    "tags": []
   },
   "outputs": [],
   "source": [
    "import pandas as pd\n",
    "import numpy as np\n",
    "import matplotlib.pyplot as plt\n",
    "import seaborn as sns\n",
    "import os\n",
    "from scipy.stats import norm\n",
    "\n",
    "cs=[ '#FFFF00','#93CAED']"
   ]
  },
  {
   "cell_type": "markdown",
   "metadata": {},
   "source": [
    "# Data preparation"
   ]
  },
  {
   "cell_type": "markdown",
   "metadata": {},
   "source": [
    "## Data from TU "
   ]
  },
  {
   "cell_type": "markdown",
   "metadata": {},
   "source": [
    "To begin with, upload TUs credit information from the relevant quarter (which is 2018Q3). This data is available in our `s3` path under the name `tu_gen_data2018Q3.parquet`. To get to our `s3` path import `DATA_FILES_PATH` from `pagayapro.paths.data_paths`"
   ]
  },
  {
   "cell_type": "code",
   "execution_count": 2,
   "metadata": {
    "tags": []
   },
   "outputs": [],
   "source": [
    "from pagayapro.paths.data_paths import DATA_FILES_PATH"
   ]
  },
  {
   "cell_type": "markdown",
   "metadata": {},
   "source": [
    "read the parquet file from `s3`. Only read the columns [\"sequence_num\", \"credit_score\", \"listing_term\", \"int_rate\", \"loan_amnt\", \"monthly_pmt\", \"original_state\"]"
   ]
  },
  {
   "cell_type": "code",
   "execution_count": 3,
   "metadata": {
    "tags": []
   },
   "outputs": [],
   "source": [
    "tu_data= pd.read_parquet(\n",
    "    os.path.join(DATA_FILES_PATH,\"tu_gen_data_2018Q3.parquet\"),\n",
    "                columns = [\"sequence_num\", \"credit_score\", \n",
    "                           \"listing_term\", \"int_rate\" ,\n",
    "                           \"loan_amnt\", \"monthly_pmt\", \n",
    "                           \"original_state\"])"
   ]
  },
  {
   "cell_type": "markdown",
   "metadata": {},
   "source": [
    "Output the first 5 rows of tu_data"
   ]
  },
  {
   "cell_type": "code",
   "execution_count": 4,
   "metadata": {},
   "outputs": [
    {
     "data": {
      "text/html": [
       "<div>\n",
       "<style scoped>\n",
       "    .dataframe tbody tr th:only-of-type {\n",
       "        vertical-align: middle;\n",
       "    }\n",
       "\n",
       "    .dataframe tbody tr th {\n",
       "        vertical-align: top;\n",
       "    }\n",
       "\n",
       "    .dataframe thead th {\n",
       "        text-align: right;\n",
       "    }\n",
       "</style>\n",
       "<table border=\"1\" class=\"dataframe\">\n",
       "  <thead>\n",
       "    <tr style=\"text-align: right;\">\n",
       "      <th></th>\n",
       "      <th>sequence_num</th>\n",
       "      <th>credit_score</th>\n",
       "      <th>listing_term</th>\n",
       "      <th>int_rate</th>\n",
       "      <th>loan_amnt</th>\n",
       "      <th>monthly_pmt</th>\n",
       "      <th>original_state</th>\n",
       "    </tr>\n",
       "    <tr>\n",
       "      <th>id</th>\n",
       "      <th></th>\n",
       "      <th></th>\n",
       "      <th></th>\n",
       "      <th></th>\n",
       "      <th></th>\n",
       "      <th></th>\n",
       "      <th></th>\n",
       "    </tr>\n",
       "  </thead>\n",
       "  <tbody>\n",
       "    <tr>\n",
       "      <th>adf5219e4cb985352184eb7fa597737e4a9777f7354f7a8a58270da147792561</th>\n",
       "      <td>d0820401b209782dae4284b3dd96b41e08c3e8566fbb33...</td>\n",
       "      <td>814</td>\n",
       "      <td>36.0</td>\n",
       "      <td>7.86</td>\n",
       "      <td>5500.0</td>\n",
       "      <td>172.0</td>\n",
       "      <td>MI</td>\n",
       "    </tr>\n",
       "    <tr>\n",
       "      <th>0a0f130443af4c6597bb074942970eaddeb125d398e2cca42175c56befc8a171</th>\n",
       "      <td>2f05cd66cb998e5e55f6f296344b271b2b89b996c7c037...</td>\n",
       "      <td>800</td>\n",
       "      <td>36.0</td>\n",
       "      <td>7.91</td>\n",
       "      <td>20000.0</td>\n",
       "      <td>626.0</td>\n",
       "      <td>NM</td>\n",
       "    </tr>\n",
       "    <tr>\n",
       "      <th>4ba9c6a38b650ee06b8b88a48621bd363cdf611e63400c6fc4bbffbd1bf20c47</th>\n",
       "      <td>20bdbfaf0006db032d8a4176add08fd4ef45abfb17c474...</td>\n",
       "      <td>653</td>\n",
       "      <td>36.0</td>\n",
       "      <td>30.51</td>\n",
       "      <td>3674.0</td>\n",
       "      <td>157.0</td>\n",
       "      <td>SD</td>\n",
       "    </tr>\n",
       "    <tr>\n",
       "      <th>dae3a344292e07d4b8935a453c37aef01303f21b2f37ccbd1c4408f158533acb</th>\n",
       "      <td>53084498c6bf053a4d1cf309e1b8ec234e503bb1a3dd4e...</td>\n",
       "      <td>623</td>\n",
       "      <td>60.0</td>\n",
       "      <td>23.46</td>\n",
       "      <td>14056.0</td>\n",
       "      <td>400.0</td>\n",
       "      <td>NC</td>\n",
       "    </tr>\n",
       "    <tr>\n",
       "      <th>8af2ae2462d012e4d85aa687a16a4f5fb64525928235da43c795f73dc0cadd04</th>\n",
       "      <td>f750c4ecac12ae1c156998ed3dff3f46d2d19f37250074...</td>\n",
       "      <td>627</td>\n",
       "      <td>60.0</td>\n",
       "      <td>25.55</td>\n",
       "      <td>8659.0</td>\n",
       "      <td>257.0</td>\n",
       "      <td>TN</td>\n",
       "    </tr>\n",
       "  </tbody>\n",
       "</table>\n",
       "</div>"
      ],
      "text/plain": [
       "                                                                                         sequence_num  \\\n",
       "id                                                                                                      \n",
       "adf5219e4cb985352184eb7fa597737e4a9777f7354f7a8...  d0820401b209782dae4284b3dd96b41e08c3e8566fbb33...   \n",
       "0a0f130443af4c6597bb074942970eaddeb125d398e2cca...  2f05cd66cb998e5e55f6f296344b271b2b89b996c7c037...   \n",
       "4ba9c6a38b650ee06b8b88a48621bd363cdf611e63400c6...  20bdbfaf0006db032d8a4176add08fd4ef45abfb17c474...   \n",
       "dae3a344292e07d4b8935a453c37aef01303f21b2f37ccb...  53084498c6bf053a4d1cf309e1b8ec234e503bb1a3dd4e...   \n",
       "8af2ae2462d012e4d85aa687a16a4f5fb64525928235da4...  f750c4ecac12ae1c156998ed3dff3f46d2d19f37250074...   \n",
       "\n",
       "                                                    credit_score  \\\n",
       "id                                                                 \n",
       "adf5219e4cb985352184eb7fa597737e4a9777f7354f7a8...           814   \n",
       "0a0f130443af4c6597bb074942970eaddeb125d398e2cca...           800   \n",
       "4ba9c6a38b650ee06b8b88a48621bd363cdf611e63400c6...           653   \n",
       "dae3a344292e07d4b8935a453c37aef01303f21b2f37ccb...           623   \n",
       "8af2ae2462d012e4d85aa687a16a4f5fb64525928235da4...           627   \n",
       "\n",
       "                                                    listing_term  int_rate  \\\n",
       "id                                                                           \n",
       "adf5219e4cb985352184eb7fa597737e4a9777f7354f7a8...          36.0      7.86   \n",
       "0a0f130443af4c6597bb074942970eaddeb125d398e2cca...          36.0      7.91   \n",
       "4ba9c6a38b650ee06b8b88a48621bd363cdf611e63400c6...          36.0     30.51   \n",
       "dae3a344292e07d4b8935a453c37aef01303f21b2f37ccb...          60.0     23.46   \n",
       "8af2ae2462d012e4d85aa687a16a4f5fb64525928235da4...          60.0     25.55   \n",
       "\n",
       "                                                    loan_amnt  monthly_pmt  \\\n",
       "id                                                                           \n",
       "adf5219e4cb985352184eb7fa597737e4a9777f7354f7a8...     5500.0        172.0   \n",
       "0a0f130443af4c6597bb074942970eaddeb125d398e2cca...    20000.0        626.0   \n",
       "4ba9c6a38b650ee06b8b88a48621bd363cdf611e63400c6...     3674.0        157.0   \n",
       "dae3a344292e07d4b8935a453c37aef01303f21b2f37ccb...    14056.0        400.0   \n",
       "8af2ae2462d012e4d85aa687a16a4f5fb64525928235da4...     8659.0        257.0   \n",
       "\n",
       "                                                   original_state  \n",
       "id                                                                 \n",
       "adf5219e4cb985352184eb7fa597737e4a9777f7354f7a8...             MI  \n",
       "0a0f130443af4c6597bb074942970eaddeb125d398e2cca...             NM  \n",
       "4ba9c6a38b650ee06b8b88a48621bd363cdf611e63400c6...             SD  \n",
       "dae3a344292e07d4b8935a453c37aef01303f21b2f37ccb...             NC  \n",
       "8af2ae2462d012e4d85aa687a16a4f5fb64525928235da4...             TN  "
      ]
     },
     "execution_count": 4,
     "metadata": {},
     "output_type": "execute_result"
    }
   ],
   "source": [
    "tu_data.head(5)"
   ]
  },
  {
   "cell_type": "markdown",
   "metadata": {},
   "source": [
    "## Activation data "
   ]
  },
  {
   "cell_type": "markdown",
   "metadata": {},
   "source": [
    "Your data regarding activation arrives as forms, detailing the loan amount, interest rate offered to the client and whether he or she accepted the offer. These are available on the assignment's `s3` path, which you can import from `pagayapro.path.data_paths` under the name `ASSIGNMENT1_DATA`, in the subdirectory `offers`. "
   ]
  },
  {
   "cell_type": "code",
   "execution_count": 5,
   "metadata": {
    "tags": []
   },
   "outputs": [],
   "source": [
    "from pagayapro.paths.data_paths import ASSIGNMENT1_DATA\n",
    "import glob"
   ]
  },
  {
   "cell_type": "markdown",
   "metadata": {},
   "source": [
    "Read all files in the subdirectory `offers` of `ASSIGNMENT1_DATA` whose name contains the substring `raleigh`."
   ]
  },
  {
   "cell_type": "code",
   "execution_count": 6,
   "metadata": {
    "tags": []
   },
   "outputs": [],
   "source": [
    "raleigh_forms= (\n",
    "    glob.glob(\n",
    "        os.path.join(ASSIGNMENT1_DATA,\"offers/*raleigh*\")\n",
    "    )\n",
    ")"
   ]
  },
  {
   "cell_type": "markdown",
   "metadata": {},
   "source": [
    "how many forms are there?\n"
   ]
  },
  {
   "cell_type": "code",
   "execution_count": 7,
   "metadata": {},
   "outputs": [
    {
     "data": {
      "text/plain": [
       "769"
      ]
     },
     "execution_count": 7,
     "metadata": {},
     "output_type": "execute_result"
    }
   ],
   "source": [
    "len(raleigh_forms)"
   ]
  },
  {
   "cell_type": "markdown",
   "metadata": {},
   "source": [
    "Read all the form files and create a table which contains only the last offer given to each borrower. Call this dataframe `raleigh_df`."
   ]
  },
  {
   "cell_type": "code",
   "execution_count": 8,
   "metadata": {
    "tags": []
   },
   "outputs": [
    {
     "data": {
      "text/html": [
       "<div>\n",
       "<style scoped>\n",
       "    .dataframe tbody tr th:only-of-type {\n",
       "        vertical-align: middle;\n",
       "    }\n",
       "\n",
       "    .dataframe tbody tr th {\n",
       "        vertical-align: top;\n",
       "    }\n",
       "\n",
       "    .dataframe thead th {\n",
       "        text-align: right;\n",
       "    }\n",
       "</style>\n",
       "<table border=\"1\" class=\"dataframe\">\n",
       "  <thead>\n",
       "    <tr style=\"text-align: right;\">\n",
       "      <th></th>\n",
       "      <th>id</th>\n",
       "      <th>sequence_num</th>\n",
       "      <th>requested_amount</th>\n",
       "      <th>offered_interest_rate</th>\n",
       "      <th>offer_accepted</th>\n",
       "      <th>offer_date</th>\n",
       "    </tr>\n",
       "  </thead>\n",
       "  <tbody>\n",
       "    <tr>\n",
       "      <th>0</th>\n",
       "      <td>743200d3e4cc1f6f860e121294248d611350f257a7bc83...</td>\n",
       "      <td>ec10245656d9d89186fb4e5890082eea989d5967752ce7...</td>\n",
       "      <td>3000.0</td>\n",
       "      <td>17.69</td>\n",
       "      <td>False</td>\n",
       "      <td>2018-01-01</td>\n",
       "    </tr>\n",
       "    <tr>\n",
       "      <th>1</th>\n",
       "      <td>e3e32f85cd78bb5002ccdc037c1818029f716e7a47911e...</td>\n",
       "      <td>3dcd131256c103fccb61c75cd79ca97fa2b5e31c4ab03e...</td>\n",
       "      <td>6899.0</td>\n",
       "      <td>12.56</td>\n",
       "      <td>False</td>\n",
       "      <td>2018-01-01</td>\n",
       "    </tr>\n",
       "    <tr>\n",
       "      <th>2</th>\n",
       "      <td>3a72ae7a82244f811b37c48f57469b708207004f011163...</td>\n",
       "      <td>06c005c5de6ba445d4c709b84611ac2b8542cd5d37221b...</td>\n",
       "      <td>3800.0</td>\n",
       "      <td>12.97</td>\n",
       "      <td>False</td>\n",
       "      <td>2018-01-01</td>\n",
       "    </tr>\n",
       "    <tr>\n",
       "      <th>3</th>\n",
       "      <td>ce770273c28ddb4f8637ae423b582f0b1617e0fe7a4880...</td>\n",
       "      <td>c49b3fce67673a9f82ed4ccaa9f75e668db48e775514fc...</td>\n",
       "      <td>13000.0</td>\n",
       "      <td>5.06</td>\n",
       "      <td>False</td>\n",
       "      <td>2018-01-01</td>\n",
       "    </tr>\n",
       "    <tr>\n",
       "      <th>4</th>\n",
       "      <td>7eac15c5019d5101e6434ac34202cc974b044c808958c3...</td>\n",
       "      <td>107a5b2ba3853f80df245d8644af08b74d27af77f14292...</td>\n",
       "      <td>9250.0</td>\n",
       "      <td>10.34</td>\n",
       "      <td>False</td>\n",
       "      <td>2018-01-01</td>\n",
       "    </tr>\n",
       "  </tbody>\n",
       "</table>\n",
       "</div>"
      ],
      "text/plain": [
       "                                                  id  \\\n",
       "0  743200d3e4cc1f6f860e121294248d611350f257a7bc83...   \n",
       "1  e3e32f85cd78bb5002ccdc037c1818029f716e7a47911e...   \n",
       "2  3a72ae7a82244f811b37c48f57469b708207004f011163...   \n",
       "3  ce770273c28ddb4f8637ae423b582f0b1617e0fe7a4880...   \n",
       "4  7eac15c5019d5101e6434ac34202cc974b044c808958c3...   \n",
       "\n",
       "                                        sequence_num  requested_amount  \\\n",
       "0  ec10245656d9d89186fb4e5890082eea989d5967752ce7...            3000.0   \n",
       "1  3dcd131256c103fccb61c75cd79ca97fa2b5e31c4ab03e...            6899.0   \n",
       "2  06c005c5de6ba445d4c709b84611ac2b8542cd5d37221b...            3800.0   \n",
       "3  c49b3fce67673a9f82ed4ccaa9f75e668db48e775514fc...           13000.0   \n",
       "4  107a5b2ba3853f80df245d8644af08b74d27af77f14292...            9250.0   \n",
       "\n",
       "   offered_interest_rate  offer_accepted  offer_date  \n",
       "0                  17.69           False  2018-01-01  \n",
       "1                  12.56           False  2018-01-01  \n",
       "2                  12.97           False  2018-01-01  \n",
       "3                   5.06           False  2018-01-01  \n",
       "4                  10.34           False  2018-01-01  "
      ]
     },
     "execution_count": 8,
     "metadata": {},
     "output_type": "execute_result"
    }
   ],
   "source": [
    "li = []\n",
    "for filename in raleigh_forms:\n",
    "    df = pd.read_csv(filename, index_col=None, header=0)\n",
    "    li.append(df)\n",
    "\n",
    "raleigh_df = pd.concat(li, axis=0, ignore_index=True)\n",
    "raleigh_df.head()"
   ]
  },
  {
   "cell_type": "code",
   "execution_count": 9,
   "metadata": {
    "tags": []
   },
   "outputs": [
    {
     "data": {
      "text/html": [
       "<div>\n",
       "<style scoped>\n",
       "    .dataframe tbody tr th:only-of-type {\n",
       "        vertical-align: middle;\n",
       "    }\n",
       "\n",
       "    .dataframe tbody tr th {\n",
       "        vertical-align: top;\n",
       "    }\n",
       "\n",
       "    .dataframe thead th {\n",
       "        text-align: right;\n",
       "    }\n",
       "</style>\n",
       "<table border=\"1\" class=\"dataframe\">\n",
       "  <thead>\n",
       "    <tr style=\"text-align: right;\">\n",
       "      <th></th>\n",
       "      <th>sequence_num</th>\n",
       "      <th>requested_amount</th>\n",
       "      <th>offered_interest_rate</th>\n",
       "      <th>offer_accepted</th>\n",
       "      <th>offer_date</th>\n",
       "    </tr>\n",
       "    <tr>\n",
       "      <th>id</th>\n",
       "      <th></th>\n",
       "      <th></th>\n",
       "      <th></th>\n",
       "      <th></th>\n",
       "      <th></th>\n",
       "    </tr>\n",
       "  </thead>\n",
       "  <tbody>\n",
       "    <tr>\n",
       "      <th>0000944c6eb064d675539d8deaff65acd38cecfba22862b4ce639fac845d7981</th>\n",
       "      <td>65529635d01c24822ffe6bd680ea2a0c7d44f49aa88afb...</td>\n",
       "      <td>5000.0</td>\n",
       "      <td>12.30</td>\n",
       "      <td>False</td>\n",
       "      <td>2019-12-02</td>\n",
       "    </tr>\n",
       "    <tr>\n",
       "      <th>0003290aea2ca5f7da83d2f32d0c783998906346e998926fb5c96c6923d014b3</th>\n",
       "      <td>6ce06396232ee6df63e905b2d9e5401030570873c7c3ba...</td>\n",
       "      <td>3300.0</td>\n",
       "      <td>24.88</td>\n",
       "      <td>False</td>\n",
       "      <td>2019-01-29</td>\n",
       "    </tr>\n",
       "    <tr>\n",
       "      <th>0005ca5ea9f8399dddee878b7c9694d618a9a1b9d0915267a0b0b38eab5f7d05</th>\n",
       "      <td>d29ac15bafd56a1444b1b06265d4c67869350f0dd86b58...</td>\n",
       "      <td>3000.0</td>\n",
       "      <td>12.94</td>\n",
       "      <td>False</td>\n",
       "      <td>2020-01-10</td>\n",
       "    </tr>\n",
       "    <tr>\n",
       "      <th>00205f2f999895bde728aebcd83707fa204ec44e203b97bbd7dd3c902c3d2245</th>\n",
       "      <td>6061825c161146555925ce39fb27c935fb5899f39ce94b...</td>\n",
       "      <td>25000.0</td>\n",
       "      <td>13.08</td>\n",
       "      <td>False</td>\n",
       "      <td>2019-07-31</td>\n",
       "    </tr>\n",
       "    <tr>\n",
       "      <th>002e86fa45263cfe8429dcaa1b37e8abbf57b596e6f45bd852440787276945cf</th>\n",
       "      <td>f93f7353e36814e67c17ad06878c2c9f5f810286036b9a...</td>\n",
       "      <td>3816.0</td>\n",
       "      <td>33.77</td>\n",
       "      <td>False</td>\n",
       "      <td>2020-11-23</td>\n",
       "    </tr>\n",
       "    <tr>\n",
       "      <th>...</th>\n",
       "      <td>...</td>\n",
       "      <td>...</td>\n",
       "      <td>...</td>\n",
       "      <td>...</td>\n",
       "      <td>...</td>\n",
       "    </tr>\n",
       "    <tr>\n",
       "      <th>ffce79218a7a102afb66510e5f939eb81dbc5b3ffbc634fb057f34e8b5e82c7b</th>\n",
       "      <td>e11f71aaf03444b6a4f0029fa25dbcdda8e02f9c05b0ef...</td>\n",
       "      <td>5404.0</td>\n",
       "      <td>16.20</td>\n",
       "      <td>False</td>\n",
       "      <td>2019-08-29</td>\n",
       "    </tr>\n",
       "    <tr>\n",
       "      <th>ffd3212db59d400a6b3a7716a957815317f5aa45576e5d06d636c9554527f90a</th>\n",
       "      <td>f21721e0500148e8e0782a75f17191a106ed1619a56f6a...</td>\n",
       "      <td>20000.0</td>\n",
       "      <td>7.05</td>\n",
       "      <td>False</td>\n",
       "      <td>2018-04-20</td>\n",
       "    </tr>\n",
       "    <tr>\n",
       "      <th>ffd49ce4b7e5256c9a55a39fca8668ce3f736d1c328a16b93a95a683ee146495</th>\n",
       "      <td>ca7edd6b5f76af93700faad1bb44e5272019a34f6738b6...</td>\n",
       "      <td>7393.0</td>\n",
       "      <td>16.29</td>\n",
       "      <td>False</td>\n",
       "      <td>2018-08-10</td>\n",
       "    </tr>\n",
       "    <tr>\n",
       "      <th>ffd5f5ff40f2defd03a3cf575d63c111f814ed79ceef8c0e4953c5526e9d9425</th>\n",
       "      <td>c7fe23743398be0d5f108b9585f703540f29788416818a...</td>\n",
       "      <td>10000.0</td>\n",
       "      <td>19.83</td>\n",
       "      <td>False</td>\n",
       "      <td>2020-06-26</td>\n",
       "    </tr>\n",
       "    <tr>\n",
       "      <th>ffdb850be4060195961212e4512d50fbba9caba239f450a7dfe94e7333231904</th>\n",
       "      <td>40f1d087e672384fd79a41d452a270e1da5c1921c98ac6...</td>\n",
       "      <td>8813.0</td>\n",
       "      <td>11.31</td>\n",
       "      <td>True</td>\n",
       "      <td>2020-11-19</td>\n",
       "    </tr>\n",
       "  </tbody>\n",
       "</table>\n",
       "<p>8792 rows × 5 columns</p>\n",
       "</div>"
      ],
      "text/plain": [
       "                                                                                         sequence_num  \\\n",
       "id                                                                                                      \n",
       "0000944c6eb064d675539d8deaff65acd38cecfba22862b...  65529635d01c24822ffe6bd680ea2a0c7d44f49aa88afb...   \n",
       "0003290aea2ca5f7da83d2f32d0c783998906346e998926...  6ce06396232ee6df63e905b2d9e5401030570873c7c3ba...   \n",
       "0005ca5ea9f8399dddee878b7c9694d618a9a1b9d091526...  d29ac15bafd56a1444b1b06265d4c67869350f0dd86b58...   \n",
       "00205f2f999895bde728aebcd83707fa204ec44e203b97b...  6061825c161146555925ce39fb27c935fb5899f39ce94b...   \n",
       "002e86fa45263cfe8429dcaa1b37e8abbf57b596e6f45bd...  f93f7353e36814e67c17ad06878c2c9f5f810286036b9a...   \n",
       "...                                                                                               ...   \n",
       "ffce79218a7a102afb66510e5f939eb81dbc5b3ffbc634f...  e11f71aaf03444b6a4f0029fa25dbcdda8e02f9c05b0ef...   \n",
       "ffd3212db59d400a6b3a7716a957815317f5aa45576e5d0...  f21721e0500148e8e0782a75f17191a106ed1619a56f6a...   \n",
       "ffd49ce4b7e5256c9a55a39fca8668ce3f736d1c328a16b...  ca7edd6b5f76af93700faad1bb44e5272019a34f6738b6...   \n",
       "ffd5f5ff40f2defd03a3cf575d63c111f814ed79ceef8c0...  c7fe23743398be0d5f108b9585f703540f29788416818a...   \n",
       "ffdb850be4060195961212e4512d50fbba9caba239f450a...  40f1d087e672384fd79a41d452a270e1da5c1921c98ac6...   \n",
       "\n",
       "                                                    requested_amount  \\\n",
       "id                                                                     \n",
       "0000944c6eb064d675539d8deaff65acd38cecfba22862b...            5000.0   \n",
       "0003290aea2ca5f7da83d2f32d0c783998906346e998926...            3300.0   \n",
       "0005ca5ea9f8399dddee878b7c9694d618a9a1b9d091526...            3000.0   \n",
       "00205f2f999895bde728aebcd83707fa204ec44e203b97b...           25000.0   \n",
       "002e86fa45263cfe8429dcaa1b37e8abbf57b596e6f45bd...            3816.0   \n",
       "...                                                              ...   \n",
       "ffce79218a7a102afb66510e5f939eb81dbc5b3ffbc634f...            5404.0   \n",
       "ffd3212db59d400a6b3a7716a957815317f5aa45576e5d0...           20000.0   \n",
       "ffd49ce4b7e5256c9a55a39fca8668ce3f736d1c328a16b...            7393.0   \n",
       "ffd5f5ff40f2defd03a3cf575d63c111f814ed79ceef8c0...           10000.0   \n",
       "ffdb850be4060195961212e4512d50fbba9caba239f450a...            8813.0   \n",
       "\n",
       "                                                    offered_interest_rate  \\\n",
       "id                                                                          \n",
       "0000944c6eb064d675539d8deaff65acd38cecfba22862b...                  12.30   \n",
       "0003290aea2ca5f7da83d2f32d0c783998906346e998926...                  24.88   \n",
       "0005ca5ea9f8399dddee878b7c9694d618a9a1b9d091526...                  12.94   \n",
       "00205f2f999895bde728aebcd83707fa204ec44e203b97b...                  13.08   \n",
       "002e86fa45263cfe8429dcaa1b37e8abbf57b596e6f45bd...                  33.77   \n",
       "...                                                                   ...   \n",
       "ffce79218a7a102afb66510e5f939eb81dbc5b3ffbc634f...                  16.20   \n",
       "ffd3212db59d400a6b3a7716a957815317f5aa45576e5d0...                   7.05   \n",
       "ffd49ce4b7e5256c9a55a39fca8668ce3f736d1c328a16b...                  16.29   \n",
       "ffd5f5ff40f2defd03a3cf575d63c111f814ed79ceef8c0...                  19.83   \n",
       "ffdb850be4060195961212e4512d50fbba9caba239f450a...                  11.31   \n",
       "\n",
       "                                                    offer_accepted  offer_date  \n",
       "id                                                                              \n",
       "0000944c6eb064d675539d8deaff65acd38cecfba22862b...           False  2019-12-02  \n",
       "0003290aea2ca5f7da83d2f32d0c783998906346e998926...           False  2019-01-29  \n",
       "0005ca5ea9f8399dddee878b7c9694d618a9a1b9d091526...           False  2020-01-10  \n",
       "00205f2f999895bde728aebcd83707fa204ec44e203b97b...           False  2019-07-31  \n",
       "002e86fa45263cfe8429dcaa1b37e8abbf57b596e6f45bd...           False  2020-11-23  \n",
       "...                                                            ...         ...  \n",
       "ffce79218a7a102afb66510e5f939eb81dbc5b3ffbc634f...           False  2019-08-29  \n",
       "ffd3212db59d400a6b3a7716a957815317f5aa45576e5d0...           False  2018-04-20  \n",
       "ffd49ce4b7e5256c9a55a39fca8668ce3f736d1c328a16b...           False  2018-08-10  \n",
       "ffd5f5ff40f2defd03a3cf575d63c111f814ed79ceef8c0...           False  2020-06-26  \n",
       "ffdb850be4060195961212e4512d50fbba9caba239f450a...            True  2020-11-19  \n",
       "\n",
       "[8792 rows x 5 columns]"
      ]
     },
     "execution_count": 9,
     "metadata": {},
     "output_type": "execute_result"
    }
   ],
   "source": [
    "filter_raleigh_df = raleigh_df.sort_values(by='offer_date', ascending=False).groupby('id').first()\n",
    "filter_raleigh_df"
   ]
  },
  {
   "cell_type": "markdown",
   "metadata": {
    "execution": {
     "iopub.execute_input": "2021-07-04T09:43:56.002881Z",
     "iopub.status.busy": "2021-07-04T09:43:56.002602Z",
     "iopub.status.idle": "2021-07-04T09:43:56.037934Z",
     "shell.execute_reply": "2021-07-04T09:43:56.036868Z",
     "shell.execute_reply.started": "2021-07-04T09:43:56.002855Z"
    }
   },
   "source": [
    "How many rows are there in your table? How many distict ids?"
   ]
  },
  {
   "cell_type": "code",
   "execution_count": 10,
   "metadata": {},
   "outputs": [
    {
     "data": {
      "text/plain": [
       "13362"
      ]
     },
     "execution_count": 10,
     "metadata": {},
     "output_type": "execute_result"
    }
   ],
   "source": [
    "len(raleigh_df)"
   ]
  },
  {
   "cell_type": "code",
   "execution_count": 11,
   "metadata": {},
   "outputs": [
    {
     "data": {
      "text/plain": [
       "8792"
      ]
     },
     "execution_count": 11,
     "metadata": {},
     "output_type": "execute_result"
    }
   ],
   "source": [
    "len(filter_raleigh_df)"
   ]
  },
  {
   "cell_type": "markdown",
   "metadata": {},
   "source": [
    "How can you explain the duplicate ids? Sample 5 ids with multiple lines and display them."
   ]
  },
  {
   "cell_type": "markdown",
   "metadata": {},
   "source": [
    "A single customer (shown by their ID) has multiple entries because they have recieved multiple offers.\n",
    "They would only have accepted at most one."
   ]
  },
  {
   "cell_type": "code",
   "execution_count": 12,
   "metadata": {
    "tags": []
   },
   "outputs": [
    {
     "data": {
      "text/html": [
       "<div>\n",
       "<style scoped>\n",
       "    .dataframe tbody tr th:only-of-type {\n",
       "        vertical-align: middle;\n",
       "    }\n",
       "\n",
       "    .dataframe tbody tr th {\n",
       "        vertical-align: top;\n",
       "    }\n",
       "\n",
       "    .dataframe thead th {\n",
       "        text-align: right;\n",
       "    }\n",
       "</style>\n",
       "<table border=\"1\" class=\"dataframe\">\n",
       "  <thead>\n",
       "    <tr style=\"text-align: right;\">\n",
       "      <th></th>\n",
       "      <th>id</th>\n",
       "      <th>sequence_num</th>\n",
       "      <th>requested_amount</th>\n",
       "      <th>offered_interest_rate</th>\n",
       "      <th>offer_accepted</th>\n",
       "      <th>offer_date</th>\n",
       "    </tr>\n",
       "  </thead>\n",
       "  <tbody>\n",
       "    <tr>\n",
       "      <th>3152</th>\n",
       "      <td>1eb4ee40c274825b55da37d6c98258aa2ddc812c53bc45...</td>\n",
       "      <td>97d5ad51c52c64f544ddea597030e186ec64cc4c953e1a...</td>\n",
       "      <td>14018.0</td>\n",
       "      <td>12.728950</td>\n",
       "      <td>False</td>\n",
       "      <td>2018-07-06</td>\n",
       "    </tr>\n",
       "    <tr>\n",
       "      <th>11886</th>\n",
       "      <td>1eb4ee40c274825b55da37d6c98258aa2ddc812c53bc45...</td>\n",
       "      <td>97d5ad51c52c64f544ddea597030e186ec64cc4c953e1a...</td>\n",
       "      <td>14018.0</td>\n",
       "      <td>12.460527</td>\n",
       "      <td>False</td>\n",
       "      <td>2020-06-25</td>\n",
       "    </tr>\n",
       "    <tr>\n",
       "      <th>11961</th>\n",
       "      <td>1eb4ee40c274825b55da37d6c98258aa2ddc812c53bc45...</td>\n",
       "      <td>97d5ad51c52c64f544ddea597030e186ec64cc4c953e1a...</td>\n",
       "      <td>14018.0</td>\n",
       "      <td>12.160000</td>\n",
       "      <td>True</td>\n",
       "      <td>2020-07-03</td>\n",
       "    </tr>\n",
       "    <tr>\n",
       "      <th>4004</th>\n",
       "      <td>257a3aaed8a78155a06e3f20206e6898dc5bcaab1a073e...</td>\n",
       "      <td>2020b8b40282f07bf7b673f5eb13b3957c383f1e795267...</td>\n",
       "      <td>15000.0</td>\n",
       "      <td>11.201812</td>\n",
       "      <td>False</td>\n",
       "      <td>2018-08-28</td>\n",
       "    </tr>\n",
       "    <tr>\n",
       "      <th>4744</th>\n",
       "      <td>257a3aaed8a78155a06e3f20206e6898dc5bcaab1a073e...</td>\n",
       "      <td>2020b8b40282f07bf7b673f5eb13b3957c383f1e795267...</td>\n",
       "      <td>15000.0</td>\n",
       "      <td>7.013405</td>\n",
       "      <td>False</td>\n",
       "      <td>2018-10-16</td>\n",
       "    </tr>\n",
       "    <tr>\n",
       "      <th>11151</th>\n",
       "      <td>257a3aaed8a78155a06e3f20206e6898dc5bcaab1a073e...</td>\n",
       "      <td>2020b8b40282f07bf7b673f5eb13b3957c383f1e795267...</td>\n",
       "      <td>15000.0</td>\n",
       "      <td>6.970000</td>\n",
       "      <td>False</td>\n",
       "      <td>2020-04-13</td>\n",
       "    </tr>\n",
       "    <tr>\n",
       "      <th>2314</th>\n",
       "      <td>26a5688a75d0762700da2ca243aa9337a7802930010c9d...</td>\n",
       "      <td>7a0f8f94e572eabd35d9ddac77f618130a0bc8f209faef...</td>\n",
       "      <td>10000.0</td>\n",
       "      <td>9.548842</td>\n",
       "      <td>False</td>\n",
       "      <td>2018-05-16</td>\n",
       "    </tr>\n",
       "    <tr>\n",
       "      <th>2691</th>\n",
       "      <td>26a5688a75d0762700da2ca243aa9337a7802930010c9d...</td>\n",
       "      <td>7a0f8f94e572eabd35d9ddac77f618130a0bc8f209faef...</td>\n",
       "      <td>10000.0</td>\n",
       "      <td>5.459445</td>\n",
       "      <td>False</td>\n",
       "      <td>2018-06-07</td>\n",
       "    </tr>\n",
       "    <tr>\n",
       "      <th>12409</th>\n",
       "      <td>26a5688a75d0762700da2ca243aa9337a7802930010c9d...</td>\n",
       "      <td>7a0f8f94e572eabd35d9ddac77f618130a0bc8f209faef...</td>\n",
       "      <td>10000.0</td>\n",
       "      <td>5.280000</td>\n",
       "      <td>False</td>\n",
       "      <td>2020-08-24</td>\n",
       "    </tr>\n",
       "    <tr>\n",
       "      <th>5727</th>\n",
       "      <td>b90940ffe1573669694dd11192e42dd346059083ebbb48...</td>\n",
       "      <td>6c450aa5e1e2f9635864fd3cab813717c8131246ed1671...</td>\n",
       "      <td>5000.0</td>\n",
       "      <td>9.683903</td>\n",
       "      <td>False</td>\n",
       "      <td>2018-12-25</td>\n",
       "    </tr>\n",
       "    <tr>\n",
       "      <th>6698</th>\n",
       "      <td>b90940ffe1573669694dd11192e42dd346059083ebbb48...</td>\n",
       "      <td>6c450aa5e1e2f9635864fd3cab813717c8131246ed1671...</td>\n",
       "      <td>5000.0</td>\n",
       "      <td>9.075860</td>\n",
       "      <td>False</td>\n",
       "      <td>2019-03-08</td>\n",
       "    </tr>\n",
       "    <tr>\n",
       "      <th>9751</th>\n",
       "      <td>b90940ffe1573669694dd11192e42dd346059083ebbb48...</td>\n",
       "      <td>6c450aa5e1e2f9635864fd3cab813717c8131246ed1671...</td>\n",
       "      <td>5000.0</td>\n",
       "      <td>8.130000</td>\n",
       "      <td>False</td>\n",
       "      <td>2019-11-25</td>\n",
       "    </tr>\n",
       "    <tr>\n",
       "      <th>2000</th>\n",
       "      <td>d0554273c891368529d95bae6563c274636d899b7494a1...</td>\n",
       "      <td>6f141c0ce3b476c65059ddd23ee0a7b982707978dec2a9...</td>\n",
       "      <td>8400.0</td>\n",
       "      <td>22.821750</td>\n",
       "      <td>False</td>\n",
       "      <td>2018-04-26</td>\n",
       "    </tr>\n",
       "    <tr>\n",
       "      <th>5906</th>\n",
       "      <td>d0554273c891368529d95bae6563c274636d899b7494a1...</td>\n",
       "      <td>6f141c0ce3b476c65059ddd23ee0a7b982707978dec2a9...</td>\n",
       "      <td>8400.0</td>\n",
       "      <td>21.787816</td>\n",
       "      <td>False</td>\n",
       "      <td>2019-01-08</td>\n",
       "    </tr>\n",
       "    <tr>\n",
       "      <th>5987</th>\n",
       "      <td>d0554273c891368529d95bae6563c274636d899b7494a1...</td>\n",
       "      <td>6f141c0ce3b476c65059ddd23ee0a7b982707978dec2a9...</td>\n",
       "      <td>8400.0</td>\n",
       "      <td>21.150000</td>\n",
       "      <td>False</td>\n",
       "      <td>2019-01-15</td>\n",
       "    </tr>\n",
       "  </tbody>\n",
       "</table>\n",
       "</div>"
      ],
      "text/plain": [
       "                                                      id  \\\n",
       "3152   1eb4ee40c274825b55da37d6c98258aa2ddc812c53bc45...   \n",
       "11886  1eb4ee40c274825b55da37d6c98258aa2ddc812c53bc45...   \n",
       "11961  1eb4ee40c274825b55da37d6c98258aa2ddc812c53bc45...   \n",
       "4004   257a3aaed8a78155a06e3f20206e6898dc5bcaab1a073e...   \n",
       "4744   257a3aaed8a78155a06e3f20206e6898dc5bcaab1a073e...   \n",
       "11151  257a3aaed8a78155a06e3f20206e6898dc5bcaab1a073e...   \n",
       "2314   26a5688a75d0762700da2ca243aa9337a7802930010c9d...   \n",
       "2691   26a5688a75d0762700da2ca243aa9337a7802930010c9d...   \n",
       "12409  26a5688a75d0762700da2ca243aa9337a7802930010c9d...   \n",
       "5727   b90940ffe1573669694dd11192e42dd346059083ebbb48...   \n",
       "6698   b90940ffe1573669694dd11192e42dd346059083ebbb48...   \n",
       "9751   b90940ffe1573669694dd11192e42dd346059083ebbb48...   \n",
       "2000   d0554273c891368529d95bae6563c274636d899b7494a1...   \n",
       "5906   d0554273c891368529d95bae6563c274636d899b7494a1...   \n",
       "5987   d0554273c891368529d95bae6563c274636d899b7494a1...   \n",
       "\n",
       "                                            sequence_num  requested_amount  \\\n",
       "3152   97d5ad51c52c64f544ddea597030e186ec64cc4c953e1a...           14018.0   \n",
       "11886  97d5ad51c52c64f544ddea597030e186ec64cc4c953e1a...           14018.0   \n",
       "11961  97d5ad51c52c64f544ddea597030e186ec64cc4c953e1a...           14018.0   \n",
       "4004   2020b8b40282f07bf7b673f5eb13b3957c383f1e795267...           15000.0   \n",
       "4744   2020b8b40282f07bf7b673f5eb13b3957c383f1e795267...           15000.0   \n",
       "11151  2020b8b40282f07bf7b673f5eb13b3957c383f1e795267...           15000.0   \n",
       "2314   7a0f8f94e572eabd35d9ddac77f618130a0bc8f209faef...           10000.0   \n",
       "2691   7a0f8f94e572eabd35d9ddac77f618130a0bc8f209faef...           10000.0   \n",
       "12409  7a0f8f94e572eabd35d9ddac77f618130a0bc8f209faef...           10000.0   \n",
       "5727   6c450aa5e1e2f9635864fd3cab813717c8131246ed1671...            5000.0   \n",
       "6698   6c450aa5e1e2f9635864fd3cab813717c8131246ed1671...            5000.0   \n",
       "9751   6c450aa5e1e2f9635864fd3cab813717c8131246ed1671...            5000.0   \n",
       "2000   6f141c0ce3b476c65059ddd23ee0a7b982707978dec2a9...            8400.0   \n",
       "5906   6f141c0ce3b476c65059ddd23ee0a7b982707978dec2a9...            8400.0   \n",
       "5987   6f141c0ce3b476c65059ddd23ee0a7b982707978dec2a9...            8400.0   \n",
       "\n",
       "       offered_interest_rate  offer_accepted  offer_date  \n",
       "3152               12.728950           False  2018-07-06  \n",
       "11886              12.460527           False  2020-06-25  \n",
       "11961              12.160000            True  2020-07-03  \n",
       "4004               11.201812           False  2018-08-28  \n",
       "4744                7.013405           False  2018-10-16  \n",
       "11151               6.970000           False  2020-04-13  \n",
       "2314                9.548842           False  2018-05-16  \n",
       "2691                5.459445           False  2018-06-07  \n",
       "12409               5.280000           False  2020-08-24  \n",
       "5727                9.683903           False  2018-12-25  \n",
       "6698                9.075860           False  2019-03-08  \n",
       "9751                8.130000           False  2019-11-25  \n",
       "2000               22.821750           False  2018-04-26  \n",
       "5906               21.787816           False  2019-01-08  \n",
       "5987               21.150000           False  2019-01-15  "
      ]
     },
     "execution_count": 12,
     "metadata": {},
     "output_type": "execute_result"
    }
   ],
   "source": [
    "duplicate_ids = list(raleigh_df['id'].value_counts().head().index)\n",
    "\n",
    "raleigh_df[raleigh_df['id'].isin(duplicate_ids)].sort_values(by = 'id')"
   ]
  },
  {
   "cell_type": "markdown",
   "metadata": {},
   "source": [
    "Drop all lines in the dataframe which contain irrelevant information."
   ]
  },
  {
   "cell_type": "code",
   "execution_count": 13,
   "metadata": {},
   "outputs": [],
   "source": [
    "full_raleigh_df = raleigh_df\n",
    "raleigh_df = filter_raleigh_df"
   ]
  },
  {
   "cell_type": "markdown",
   "metadata": {},
   "source": [
    "What is the average interest rate offered to clients? What is the average among clients who accepted the offer?"
   ]
  },
  {
   "cell_type": "code",
   "execution_count": 14,
   "metadata": {},
   "outputs": [
    {
     "name": "stdout",
     "output_type": "stream",
     "text": [
      "average interest rate of loans offered:\n"
     ]
    },
    {
     "data": {
      "text/plain": [
       "15.524284576888082"
      ]
     },
     "execution_count": 14,
     "metadata": {},
     "output_type": "execute_result"
    }
   ],
   "source": [
    "print('average interest rate of loans offered:')\n",
    "raleigh_df['offered_interest_rate'].mean()"
   ]
  },
  {
   "cell_type": "code",
   "execution_count": 15,
   "metadata": {},
   "outputs": [
    {
     "name": "stdout",
     "output_type": "stream",
     "text": [
      "average interest rate of loans accepted:\n"
     ]
    },
    {
     "data": {
      "text/plain": [
       "15.307480314960628"
      ]
     },
     "execution_count": 15,
     "metadata": {},
     "output_type": "execute_result"
    }
   ],
   "source": [
    "print('average interest rate of loans accepted:')\n",
    "raleigh_df[raleigh_df['offer_accepted']==True]['offered_interest_rate'].mean()"
   ]
  },
  {
   "cell_type": "markdown",
   "metadata": {},
   "source": [
    "Lets verify by check it by the pivot table of mean and count"
   ]
  },
  {
   "cell_type": "code",
   "execution_count": 16,
   "metadata": {},
   "outputs": [],
   "source": [
    "raleigh_df_pt = raleigh_df.pivot_table(index='offer_accepted',values=['offered_interest_rate'],aggfunc=['mean','count'])"
   ]
  },
  {
   "cell_type": "code",
   "execution_count": 17,
   "metadata": {},
   "outputs": [
    {
     "data": {
      "text/html": [
       "<div>\n",
       "<style scoped>\n",
       "    .dataframe tbody tr th:only-of-type {\n",
       "        vertical-align: middle;\n",
       "    }\n",
       "\n",
       "    .dataframe tbody tr th {\n",
       "        vertical-align: top;\n",
       "    }\n",
       "\n",
       "    .dataframe thead tr th {\n",
       "        text-align: left;\n",
       "    }\n",
       "\n",
       "    .dataframe thead tr:last-of-type th {\n",
       "        text-align: right;\n",
       "    }\n",
       "</style>\n",
       "<table border=\"1\" class=\"dataframe\">\n",
       "  <thead>\n",
       "    <tr>\n",
       "      <th></th>\n",
       "      <th>mean</th>\n",
       "      <th>count</th>\n",
       "    </tr>\n",
       "    <tr>\n",
       "      <th></th>\n",
       "      <th>offered_interest_rate</th>\n",
       "      <th>offered_interest_rate</th>\n",
       "    </tr>\n",
       "    <tr>\n",
       "      <th>offer_accepted</th>\n",
       "      <th></th>\n",
       "      <th></th>\n",
       "    </tr>\n",
       "  </thead>\n",
       "  <tbody>\n",
       "    <tr>\n",
       "      <th>False</th>\n",
       "      <td>15.544858</td>\n",
       "      <td>8030</td>\n",
       "    </tr>\n",
       "    <tr>\n",
       "      <th>True</th>\n",
       "      <td>15.307480</td>\n",
       "      <td>762</td>\n",
       "    </tr>\n",
       "  </tbody>\n",
       "</table>\n",
       "</div>"
      ],
      "text/plain": [
       "                                mean                 count\n",
       "               offered_interest_rate offered_interest_rate\n",
       "offer_accepted                                            \n",
       "False                      15.544858                  8030\n",
       "True                       15.307480                   762"
      ]
     },
     "execution_count": 17,
     "metadata": {},
     "output_type": "execute_result"
    }
   ],
   "source": [
    "raleigh_df_pt"
   ]
  },
  {
   "cell_type": "code",
   "execution_count": 18,
   "metadata": {},
   "outputs": [
    {
     "data": {
      "text/plain": [
       "15.524284576888105"
      ]
     },
     "execution_count": 18,
     "metadata": {},
     "output_type": "execute_result"
    }
   ],
   "source": [
    "(raleigh_df_pt[( 'mean', 'offered_interest_rate')] * raleigh_df_pt[( 'count', 'offered_interest_rate')]).sum() / raleigh_df_pt[( 'count', 'offered_interest_rate')].sum()"
   ]
  },
  {
   "cell_type": "markdown",
   "metadata": {},
   "source": [
    "What is the percentage of activation in this dataframe?"
   ]
  },
  {
   "cell_type": "code",
   "execution_count": 19,
   "metadata": {},
   "outputs": [
    {
     "data": {
      "text/plain": [
       "8.666969972702457"
      ]
     },
     "execution_count": 19,
     "metadata": {},
     "output_type": "execute_result"
    }
   ],
   "source": [
    "raleigh_activation_rate = raleigh_df['offer_accepted'].sum()/raleigh_df['offer_accepted'].count()\n",
    "raleigh_activation_rate*100"
   ]
  },
  {
   "cell_type": "markdown",
   "metadata": {},
   "source": [
    "Enrich your dataframe with additioanl TU features by merging it with the `tu_data` df. Note that the two dataframe share the `id` and `sequence_num` features."
   ]
  },
  {
   "cell_type": "markdown",
   "metadata": {},
   "source": [
    "First lets verify the we have no duplicate ids in the tu data"
   ]
  },
  {
   "cell_type": "code",
   "execution_count": 20,
   "metadata": {},
   "outputs": [
    {
     "data": {
      "text/plain": [
       "b7d0ae58f32e99cdc3d3a8201b4dd62cb9b80be4b564750f2b5d49d81328f843    1\n",
       "8bc7859edc28ea19cd524f4ec8de7b32cb94d7c0e4097127ec1448b4805542ad    1\n",
       "0db36190cca3861813133eef7a62c7ce503f128b4810900365fd7a6ff8e2f840    1\n",
       "d118f4a0870d01b99b73dbd7b704253e2a0bac83b97f00ff3bf88acd93829b5c    1\n",
       "b0d2afa880a76293c0f0817ff34a543923529b98f058932698ea5bc3f328d511    1\n",
       "                                                                   ..\n",
       "ef3486c71aee0ddcd1f13999f3e4bb543d2d43535627ca01c48b368a7391e897    1\n",
       "47278e9e686a05a479604dd2f7303c205f2f8943e057198b2d2a39c397af33e7    1\n",
       "996dff48d9c1ace7529cf6af4815dcc7dc94590773c59dce799f3fdf00e4a159    1\n",
       "6f38d1d2e58dd2c61bff1c306a9be21d68eefad130bc1a773067857afbbc43b8    1\n",
       "2f35761662a81fefbe955ad18c63d342ee274356fbc0d645048caae844dcdb20    1\n",
       "Name: id, Length: 972723, dtype: int64"
      ]
     },
     "execution_count": 20,
     "metadata": {},
     "output_type": "execute_result"
    }
   ],
   "source": [
    "tu_data.index.value_counts()"
   ]
  },
  {
   "cell_type": "markdown",
   "metadata": {},
   "source": [
    "Now we can concatenate the data frames"
   ]
  },
  {
   "cell_type": "code",
   "execution_count": 21,
   "metadata": {},
   "outputs": [
    {
     "data": {
      "text/plain": [
       "8792"
      ]
     },
     "execution_count": 21,
     "metadata": {},
     "output_type": "execute_result"
    }
   ],
   "source": [
    "len(raleigh_df)"
   ]
  },
  {
   "cell_type": "code",
   "execution_count": 22,
   "metadata": {
    "tags": []
   },
   "outputs": [
    {
     "data": {
      "text/html": [
       "<div>\n",
       "<style scoped>\n",
       "    .dataframe tbody tr th:only-of-type {\n",
       "        vertical-align: middle;\n",
       "    }\n",
       "\n",
       "    .dataframe tbody tr th {\n",
       "        vertical-align: top;\n",
       "    }\n",
       "\n",
       "    .dataframe thead th {\n",
       "        text-align: right;\n",
       "    }\n",
       "</style>\n",
       "<table border=\"1\" class=\"dataframe\">\n",
       "  <thead>\n",
       "    <tr style=\"text-align: right;\">\n",
       "      <th></th>\n",
       "      <th>sequence_num_raleigh</th>\n",
       "      <th>requested_amount</th>\n",
       "      <th>offered_interest_rate</th>\n",
       "      <th>offer_accepted</th>\n",
       "      <th>offer_date</th>\n",
       "      <th>sequence_num_tu</th>\n",
       "      <th>credit_score</th>\n",
       "      <th>listing_term</th>\n",
       "      <th>int_rate</th>\n",
       "      <th>loan_amnt</th>\n",
       "      <th>monthly_pmt</th>\n",
       "      <th>original_state</th>\n",
       "    </tr>\n",
       "    <tr>\n",
       "      <th>id</th>\n",
       "      <th></th>\n",
       "      <th></th>\n",
       "      <th></th>\n",
       "      <th></th>\n",
       "      <th></th>\n",
       "      <th></th>\n",
       "      <th></th>\n",
       "      <th></th>\n",
       "      <th></th>\n",
       "      <th></th>\n",
       "      <th></th>\n",
       "      <th></th>\n",
       "    </tr>\n",
       "  </thead>\n",
       "  <tbody>\n",
       "    <tr>\n",
       "      <th>0000944c6eb064d675539d8deaff65acd38cecfba22862b4ce639fac845d7981</th>\n",
       "      <td>65529635d01c24822ffe6bd680ea2a0c7d44f49aa88afb...</td>\n",
       "      <td>5000.0</td>\n",
       "      <td>12.30</td>\n",
       "      <td>False</td>\n",
       "      <td>2019-12-02</td>\n",
       "      <td>65529635d01c24822ffe6bd680ea2a0c7d44f49aa88afb...</td>\n",
       "      <td>791</td>\n",
       "      <td>60.0</td>\n",
       "      <td>12.30</td>\n",
       "      <td>5000.0</td>\n",
       "      <td>112.0</td>\n",
       "      <td>NC</td>\n",
       "    </tr>\n",
       "    <tr>\n",
       "      <th>0003290aea2ca5f7da83d2f32d0c783998906346e998926fb5c96c6923d014b3</th>\n",
       "      <td>6ce06396232ee6df63e905b2d9e5401030570873c7c3ba...</td>\n",
       "      <td>3300.0</td>\n",
       "      <td>24.88</td>\n",
       "      <td>False</td>\n",
       "      <td>2019-01-29</td>\n",
       "      <td>6ce06396232ee6df63e905b2d9e5401030570873c7c3ba...</td>\n",
       "      <td>645</td>\n",
       "      <td>36.0</td>\n",
       "      <td>24.88</td>\n",
       "      <td>3300.0</td>\n",
       "      <td>131.0</td>\n",
       "      <td>NC</td>\n",
       "    </tr>\n",
       "    <tr>\n",
       "      <th>0005ca5ea9f8399dddee878b7c9694d618a9a1b9d0915267a0b0b38eab5f7d05</th>\n",
       "      <td>d29ac15bafd56a1444b1b06265d4c67869350f0dd86b58...</td>\n",
       "      <td>3000.0</td>\n",
       "      <td>12.94</td>\n",
       "      <td>False</td>\n",
       "      <td>2020-01-10</td>\n",
       "      <td>d29ac15bafd56a1444b1b06265d4c67869350f0dd86b58...</td>\n",
       "      <td>703</td>\n",
       "      <td>36.0</td>\n",
       "      <td>12.94</td>\n",
       "      <td>3000.0</td>\n",
       "      <td>101.0</td>\n",
       "      <td>NC</td>\n",
       "    </tr>\n",
       "    <tr>\n",
       "      <th>00205f2f999895bde728aebcd83707fa204ec44e203b97bbd7dd3c902c3d2245</th>\n",
       "      <td>6061825c161146555925ce39fb27c935fb5899f39ce94b...</td>\n",
       "      <td>25000.0</td>\n",
       "      <td>13.08</td>\n",
       "      <td>False</td>\n",
       "      <td>2019-07-31</td>\n",
       "      <td>6061825c161146555925ce39fb27c935fb5899f39ce94b...</td>\n",
       "      <td>692</td>\n",
       "      <td>60.0</td>\n",
       "      <td>13.08</td>\n",
       "      <td>25000.0</td>\n",
       "      <td>570.0</td>\n",
       "      <td>NC</td>\n",
       "    </tr>\n",
       "    <tr>\n",
       "      <th>002e86fa45263cfe8429dcaa1b37e8abbf57b596e6f45bd852440787276945cf</th>\n",
       "      <td>f93f7353e36814e67c17ad06878c2c9f5f810286036b9a...</td>\n",
       "      <td>3816.0</td>\n",
       "      <td>33.77</td>\n",
       "      <td>False</td>\n",
       "      <td>2020-11-23</td>\n",
       "      <td>f93f7353e36814e67c17ad06878c2c9f5f810286036b9a...</td>\n",
       "      <td>606</td>\n",
       "      <td>36.0</td>\n",
       "      <td>33.77</td>\n",
       "      <td>3816.0</td>\n",
       "      <td>170.0</td>\n",
       "      <td>NC</td>\n",
       "    </tr>\n",
       "    <tr>\n",
       "      <th>...</th>\n",
       "      <td>...</td>\n",
       "      <td>...</td>\n",
       "      <td>...</td>\n",
       "      <td>...</td>\n",
       "      <td>...</td>\n",
       "      <td>...</td>\n",
       "      <td>...</td>\n",
       "      <td>...</td>\n",
       "      <td>...</td>\n",
       "      <td>...</td>\n",
       "      <td>...</td>\n",
       "      <td>...</td>\n",
       "    </tr>\n",
       "    <tr>\n",
       "      <th>ffce79218a7a102afb66510e5f939eb81dbc5b3ffbc634fb057f34e8b5e82c7b</th>\n",
       "      <td>e11f71aaf03444b6a4f0029fa25dbcdda8e02f9c05b0ef...</td>\n",
       "      <td>5404.0</td>\n",
       "      <td>16.20</td>\n",
       "      <td>False</td>\n",
       "      <td>2019-08-29</td>\n",
       "      <td>e11f71aaf03444b6a4f0029fa25dbcdda8e02f9c05b0ef...</td>\n",
       "      <td>738</td>\n",
       "      <td>60.0</td>\n",
       "      <td>16.20</td>\n",
       "      <td>5404.0</td>\n",
       "      <td>132.0</td>\n",
       "      <td>NC</td>\n",
       "    </tr>\n",
       "    <tr>\n",
       "      <th>ffd3212db59d400a6b3a7716a957815317f5aa45576e5d06d636c9554527f90a</th>\n",
       "      <td>f21721e0500148e8e0782a75f17191a106ed1619a56f6a...</td>\n",
       "      <td>20000.0</td>\n",
       "      <td>7.05</td>\n",
       "      <td>False</td>\n",
       "      <td>2018-04-20</td>\n",
       "      <td>f21721e0500148e8e0782a75f17191a106ed1619a56f6a...</td>\n",
       "      <td>806</td>\n",
       "      <td>36.0</td>\n",
       "      <td>7.05</td>\n",
       "      <td>20000.0</td>\n",
       "      <td>618.0</td>\n",
       "      <td>NC</td>\n",
       "    </tr>\n",
       "    <tr>\n",
       "      <th>ffd49ce4b7e5256c9a55a39fca8668ce3f736d1c328a16b93a95a683ee146495</th>\n",
       "      <td>ca7edd6b5f76af93700faad1bb44e5272019a34f6738b6...</td>\n",
       "      <td>7393.0</td>\n",
       "      <td>16.29</td>\n",
       "      <td>False</td>\n",
       "      <td>2018-08-10</td>\n",
       "      <td>ca7edd6b5f76af93700faad1bb44e5272019a34f6738b6...</td>\n",
       "      <td>610</td>\n",
       "      <td>36.0</td>\n",
       "      <td>16.29</td>\n",
       "      <td>7393.0</td>\n",
       "      <td>261.0</td>\n",
       "      <td>NC</td>\n",
       "    </tr>\n",
       "    <tr>\n",
       "      <th>ffd5f5ff40f2defd03a3cf575d63c111f814ed79ceef8c0e4953c5526e9d9425</th>\n",
       "      <td>c7fe23743398be0d5f108b9585f703540f29788416818a...</td>\n",
       "      <td>10000.0</td>\n",
       "      <td>19.83</td>\n",
       "      <td>False</td>\n",
       "      <td>2020-06-26</td>\n",
       "      <td>c7fe23743398be0d5f108b9585f703540f29788416818a...</td>\n",
       "      <td>608</td>\n",
       "      <td>60.0</td>\n",
       "      <td>19.83</td>\n",
       "      <td>10000.0</td>\n",
       "      <td>264.0</td>\n",
       "      <td>NC</td>\n",
       "    </tr>\n",
       "    <tr>\n",
       "      <th>ffdb850be4060195961212e4512d50fbba9caba239f450a7dfe94e7333231904</th>\n",
       "      <td>40f1d087e672384fd79a41d452a270e1da5c1921c98ac6...</td>\n",
       "      <td>8813.0</td>\n",
       "      <td>11.31</td>\n",
       "      <td>True</td>\n",
       "      <td>2020-11-19</td>\n",
       "      <td>40f1d087e672384fd79a41d452a270e1da5c1921c98ac6...</td>\n",
       "      <td>770</td>\n",
       "      <td>60.0</td>\n",
       "      <td>11.31</td>\n",
       "      <td>8813.0</td>\n",
       "      <td>193.0</td>\n",
       "      <td>NC</td>\n",
       "    </tr>\n",
       "  </tbody>\n",
       "</table>\n",
       "<p>8792 rows × 12 columns</p>\n",
       "</div>"
      ],
      "text/plain": [
       "                                                                                 sequence_num_raleigh  \\\n",
       "id                                                                                                      \n",
       "0000944c6eb064d675539d8deaff65acd38cecfba22862b...  65529635d01c24822ffe6bd680ea2a0c7d44f49aa88afb...   \n",
       "0003290aea2ca5f7da83d2f32d0c783998906346e998926...  6ce06396232ee6df63e905b2d9e5401030570873c7c3ba...   \n",
       "0005ca5ea9f8399dddee878b7c9694d618a9a1b9d091526...  d29ac15bafd56a1444b1b06265d4c67869350f0dd86b58...   \n",
       "00205f2f999895bde728aebcd83707fa204ec44e203b97b...  6061825c161146555925ce39fb27c935fb5899f39ce94b...   \n",
       "002e86fa45263cfe8429dcaa1b37e8abbf57b596e6f45bd...  f93f7353e36814e67c17ad06878c2c9f5f810286036b9a...   \n",
       "...                                                                                               ...   \n",
       "ffce79218a7a102afb66510e5f939eb81dbc5b3ffbc634f...  e11f71aaf03444b6a4f0029fa25dbcdda8e02f9c05b0ef...   \n",
       "ffd3212db59d400a6b3a7716a957815317f5aa45576e5d0...  f21721e0500148e8e0782a75f17191a106ed1619a56f6a...   \n",
       "ffd49ce4b7e5256c9a55a39fca8668ce3f736d1c328a16b...  ca7edd6b5f76af93700faad1bb44e5272019a34f6738b6...   \n",
       "ffd5f5ff40f2defd03a3cf575d63c111f814ed79ceef8c0...  c7fe23743398be0d5f108b9585f703540f29788416818a...   \n",
       "ffdb850be4060195961212e4512d50fbba9caba239f450a...  40f1d087e672384fd79a41d452a270e1da5c1921c98ac6...   \n",
       "\n",
       "                                                    requested_amount  \\\n",
       "id                                                                     \n",
       "0000944c6eb064d675539d8deaff65acd38cecfba22862b...            5000.0   \n",
       "0003290aea2ca5f7da83d2f32d0c783998906346e998926...            3300.0   \n",
       "0005ca5ea9f8399dddee878b7c9694d618a9a1b9d091526...            3000.0   \n",
       "00205f2f999895bde728aebcd83707fa204ec44e203b97b...           25000.0   \n",
       "002e86fa45263cfe8429dcaa1b37e8abbf57b596e6f45bd...            3816.0   \n",
       "...                                                              ...   \n",
       "ffce79218a7a102afb66510e5f939eb81dbc5b3ffbc634f...            5404.0   \n",
       "ffd3212db59d400a6b3a7716a957815317f5aa45576e5d0...           20000.0   \n",
       "ffd49ce4b7e5256c9a55a39fca8668ce3f736d1c328a16b...            7393.0   \n",
       "ffd5f5ff40f2defd03a3cf575d63c111f814ed79ceef8c0...           10000.0   \n",
       "ffdb850be4060195961212e4512d50fbba9caba239f450a...            8813.0   \n",
       "\n",
       "                                                    offered_interest_rate  \\\n",
       "id                                                                          \n",
       "0000944c6eb064d675539d8deaff65acd38cecfba22862b...                  12.30   \n",
       "0003290aea2ca5f7da83d2f32d0c783998906346e998926...                  24.88   \n",
       "0005ca5ea9f8399dddee878b7c9694d618a9a1b9d091526...                  12.94   \n",
       "00205f2f999895bde728aebcd83707fa204ec44e203b97b...                  13.08   \n",
       "002e86fa45263cfe8429dcaa1b37e8abbf57b596e6f45bd...                  33.77   \n",
       "...                                                                   ...   \n",
       "ffce79218a7a102afb66510e5f939eb81dbc5b3ffbc634f...                  16.20   \n",
       "ffd3212db59d400a6b3a7716a957815317f5aa45576e5d0...                   7.05   \n",
       "ffd49ce4b7e5256c9a55a39fca8668ce3f736d1c328a16b...                  16.29   \n",
       "ffd5f5ff40f2defd03a3cf575d63c111f814ed79ceef8c0...                  19.83   \n",
       "ffdb850be4060195961212e4512d50fbba9caba239f450a...                  11.31   \n",
       "\n",
       "                                                    offer_accepted  \\\n",
       "id                                                                   \n",
       "0000944c6eb064d675539d8deaff65acd38cecfba22862b...           False   \n",
       "0003290aea2ca5f7da83d2f32d0c783998906346e998926...           False   \n",
       "0005ca5ea9f8399dddee878b7c9694d618a9a1b9d091526...           False   \n",
       "00205f2f999895bde728aebcd83707fa204ec44e203b97b...           False   \n",
       "002e86fa45263cfe8429dcaa1b37e8abbf57b596e6f45bd...           False   \n",
       "...                                                            ...   \n",
       "ffce79218a7a102afb66510e5f939eb81dbc5b3ffbc634f...           False   \n",
       "ffd3212db59d400a6b3a7716a957815317f5aa45576e5d0...           False   \n",
       "ffd49ce4b7e5256c9a55a39fca8668ce3f736d1c328a16b...           False   \n",
       "ffd5f5ff40f2defd03a3cf575d63c111f814ed79ceef8c0...           False   \n",
       "ffdb850be4060195961212e4512d50fbba9caba239f450a...            True   \n",
       "\n",
       "                                                    offer_date  \\\n",
       "id                                                               \n",
       "0000944c6eb064d675539d8deaff65acd38cecfba22862b...  2019-12-02   \n",
       "0003290aea2ca5f7da83d2f32d0c783998906346e998926...  2019-01-29   \n",
       "0005ca5ea9f8399dddee878b7c9694d618a9a1b9d091526...  2020-01-10   \n",
       "00205f2f999895bde728aebcd83707fa204ec44e203b97b...  2019-07-31   \n",
       "002e86fa45263cfe8429dcaa1b37e8abbf57b596e6f45bd...  2020-11-23   \n",
       "...                                                        ...   \n",
       "ffce79218a7a102afb66510e5f939eb81dbc5b3ffbc634f...  2019-08-29   \n",
       "ffd3212db59d400a6b3a7716a957815317f5aa45576e5d0...  2018-04-20   \n",
       "ffd49ce4b7e5256c9a55a39fca8668ce3f736d1c328a16b...  2018-08-10   \n",
       "ffd5f5ff40f2defd03a3cf575d63c111f814ed79ceef8c0...  2020-06-26   \n",
       "ffdb850be4060195961212e4512d50fbba9caba239f450a...  2020-11-19   \n",
       "\n",
       "                                                                                      sequence_num_tu  \\\n",
       "id                                                                                                      \n",
       "0000944c6eb064d675539d8deaff65acd38cecfba22862b...  65529635d01c24822ffe6bd680ea2a0c7d44f49aa88afb...   \n",
       "0003290aea2ca5f7da83d2f32d0c783998906346e998926...  6ce06396232ee6df63e905b2d9e5401030570873c7c3ba...   \n",
       "0005ca5ea9f8399dddee878b7c9694d618a9a1b9d091526...  d29ac15bafd56a1444b1b06265d4c67869350f0dd86b58...   \n",
       "00205f2f999895bde728aebcd83707fa204ec44e203b97b...  6061825c161146555925ce39fb27c935fb5899f39ce94b...   \n",
       "002e86fa45263cfe8429dcaa1b37e8abbf57b596e6f45bd...  f93f7353e36814e67c17ad06878c2c9f5f810286036b9a...   \n",
       "...                                                                                               ...   \n",
       "ffce79218a7a102afb66510e5f939eb81dbc5b3ffbc634f...  e11f71aaf03444b6a4f0029fa25dbcdda8e02f9c05b0ef...   \n",
       "ffd3212db59d400a6b3a7716a957815317f5aa45576e5d0...  f21721e0500148e8e0782a75f17191a106ed1619a56f6a...   \n",
       "ffd49ce4b7e5256c9a55a39fca8668ce3f736d1c328a16b...  ca7edd6b5f76af93700faad1bb44e5272019a34f6738b6...   \n",
       "ffd5f5ff40f2defd03a3cf575d63c111f814ed79ceef8c0...  c7fe23743398be0d5f108b9585f703540f29788416818a...   \n",
       "ffdb850be4060195961212e4512d50fbba9caba239f450a...  40f1d087e672384fd79a41d452a270e1da5c1921c98ac6...   \n",
       "\n",
       "                                                    credit_score  \\\n",
       "id                                                                 \n",
       "0000944c6eb064d675539d8deaff65acd38cecfba22862b...           791   \n",
       "0003290aea2ca5f7da83d2f32d0c783998906346e998926...           645   \n",
       "0005ca5ea9f8399dddee878b7c9694d618a9a1b9d091526...           703   \n",
       "00205f2f999895bde728aebcd83707fa204ec44e203b97b...           692   \n",
       "002e86fa45263cfe8429dcaa1b37e8abbf57b596e6f45bd...           606   \n",
       "...                                                          ...   \n",
       "ffce79218a7a102afb66510e5f939eb81dbc5b3ffbc634f...           738   \n",
       "ffd3212db59d400a6b3a7716a957815317f5aa45576e5d0...           806   \n",
       "ffd49ce4b7e5256c9a55a39fca8668ce3f736d1c328a16b...           610   \n",
       "ffd5f5ff40f2defd03a3cf575d63c111f814ed79ceef8c0...           608   \n",
       "ffdb850be4060195961212e4512d50fbba9caba239f450a...           770   \n",
       "\n",
       "                                                    listing_term  int_rate  \\\n",
       "id                                                                           \n",
       "0000944c6eb064d675539d8deaff65acd38cecfba22862b...          60.0     12.30   \n",
       "0003290aea2ca5f7da83d2f32d0c783998906346e998926...          36.0     24.88   \n",
       "0005ca5ea9f8399dddee878b7c9694d618a9a1b9d091526...          36.0     12.94   \n",
       "00205f2f999895bde728aebcd83707fa204ec44e203b97b...          60.0     13.08   \n",
       "002e86fa45263cfe8429dcaa1b37e8abbf57b596e6f45bd...          36.0     33.77   \n",
       "...                                                          ...       ...   \n",
       "ffce79218a7a102afb66510e5f939eb81dbc5b3ffbc634f...          60.0     16.20   \n",
       "ffd3212db59d400a6b3a7716a957815317f5aa45576e5d0...          36.0      7.05   \n",
       "ffd49ce4b7e5256c9a55a39fca8668ce3f736d1c328a16b...          36.0     16.29   \n",
       "ffd5f5ff40f2defd03a3cf575d63c111f814ed79ceef8c0...          60.0     19.83   \n",
       "ffdb850be4060195961212e4512d50fbba9caba239f450a...          60.0     11.31   \n",
       "\n",
       "                                                    loan_amnt  monthly_pmt  \\\n",
       "id                                                                           \n",
       "0000944c6eb064d675539d8deaff65acd38cecfba22862b...     5000.0        112.0   \n",
       "0003290aea2ca5f7da83d2f32d0c783998906346e998926...     3300.0        131.0   \n",
       "0005ca5ea9f8399dddee878b7c9694d618a9a1b9d091526...     3000.0        101.0   \n",
       "00205f2f999895bde728aebcd83707fa204ec44e203b97b...    25000.0        570.0   \n",
       "002e86fa45263cfe8429dcaa1b37e8abbf57b596e6f45bd...     3816.0        170.0   \n",
       "...                                                       ...          ...   \n",
       "ffce79218a7a102afb66510e5f939eb81dbc5b3ffbc634f...     5404.0        132.0   \n",
       "ffd3212db59d400a6b3a7716a957815317f5aa45576e5d0...    20000.0        618.0   \n",
       "ffd49ce4b7e5256c9a55a39fca8668ce3f736d1c328a16b...     7393.0        261.0   \n",
       "ffd5f5ff40f2defd03a3cf575d63c111f814ed79ceef8c0...    10000.0        264.0   \n",
       "ffdb850be4060195961212e4512d50fbba9caba239f450a...     8813.0        193.0   \n",
       "\n",
       "                                                   original_state  \n",
       "id                                                                 \n",
       "0000944c6eb064d675539d8deaff65acd38cecfba22862b...             NC  \n",
       "0003290aea2ca5f7da83d2f32d0c783998906346e998926...             NC  \n",
       "0005ca5ea9f8399dddee878b7c9694d618a9a1b9d091526...             NC  \n",
       "00205f2f999895bde728aebcd83707fa204ec44e203b97b...             NC  \n",
       "002e86fa45263cfe8429dcaa1b37e8abbf57b596e6f45bd...             NC  \n",
       "...                                                           ...  \n",
       "ffce79218a7a102afb66510e5f939eb81dbc5b3ffbc634f...             NC  \n",
       "ffd3212db59d400a6b3a7716a957815317f5aa45576e5d0...             NC  \n",
       "ffd49ce4b7e5256c9a55a39fca8668ce3f736d1c328a16b...             NC  \n",
       "ffd5f5ff40f2defd03a3cf575d63c111f814ed79ceef8c0...             NC  \n",
       "ffdb850be4060195961212e4512d50fbba9caba239f450a...             NC  \n",
       "\n",
       "[8792 rows x 12 columns]"
      ]
     },
     "execution_count": 22,
     "metadata": {},
     "output_type": "execute_result"
    }
   ],
   "source": [
    "concat_df = raleigh_df.join(tu_data, how='left', lsuffix='_raleigh', rsuffix='_tu')\n",
    "concat_df"
   ]
  },
  {
   "cell_type": "markdown",
   "metadata": {},
   "source": [
    "Let's verify that any repeated columns are really identical:"
   ]
  },
  {
   "cell_type": "code",
   "execution_count": 23,
   "metadata": {},
   "outputs": [
    {
     "data": {
      "text/plain": [
       "Index(['sequence_num_raleigh', 'requested_amount', 'offered_interest_rate',\n",
       "       'offer_accepted', 'offer_date', 'sequence_num_tu', 'credit_score',\n",
       "       'listing_term', 'int_rate', 'loan_amnt', 'monthly_pmt',\n",
       "       'original_state'],\n",
       "      dtype='object')"
      ]
     },
     "execution_count": 23,
     "metadata": {},
     "output_type": "execute_result"
    }
   ],
   "source": [
    "concat_df.columns"
   ]
  },
  {
   "cell_type": "code",
   "execution_count": 24,
   "metadata": {},
   "outputs": [
    {
     "data": {
      "text/plain": [
       "0"
      ]
     },
     "execution_count": 24,
     "metadata": {},
     "output_type": "execute_result"
    }
   ],
   "source": [
    "(concat_df['sequence_num_raleigh']!=concat_df['sequence_num_tu']).sum()"
   ]
  },
  {
   "cell_type": "code",
   "execution_count": 25,
   "metadata": {},
   "outputs": [
    {
     "data": {
      "text/plain": [
       "0"
      ]
     },
     "execution_count": 25,
     "metadata": {},
     "output_type": "execute_result"
    }
   ],
   "source": [
    "(concat_df['requested_amount']!=concat_df['loan_amnt']).sum()"
   ]
  },
  {
   "cell_type": "code",
   "execution_count": 26,
   "metadata": {},
   "outputs": [
    {
     "data": {
      "text/plain": [
       "812"
      ]
     },
     "execution_count": 26,
     "metadata": {},
     "output_type": "execute_result"
    }
   ],
   "source": [
    "(concat_df['offered_interest_rate']!=concat_df['int_rate']).sum() # & (concat_df['offer_accepted'] == T))"
   ]
  },
  {
   "cell_type": "markdown",
   "metadata": {},
   "source": [
    "Let's examine the unmatched interest rates. We can see that they still look identitcal."
   ]
  },
  {
   "cell_type": "code",
   "execution_count": 27,
   "metadata": {},
   "outputs": [
    {
     "data": {
      "text/html": [
       "<div>\n",
       "<style scoped>\n",
       "    .dataframe tbody tr th:only-of-type {\n",
       "        vertical-align: middle;\n",
       "    }\n",
       "\n",
       "    .dataframe tbody tr th {\n",
       "        vertical-align: top;\n",
       "    }\n",
       "\n",
       "    .dataframe thead th {\n",
       "        text-align: right;\n",
       "    }\n",
       "</style>\n",
       "<table border=\"1\" class=\"dataframe\">\n",
       "  <thead>\n",
       "    <tr style=\"text-align: right;\">\n",
       "      <th></th>\n",
       "      <th>offered_interest_rate</th>\n",
       "      <th>offer_accepted</th>\n",
       "      <th>int_rate</th>\n",
       "    </tr>\n",
       "    <tr>\n",
       "      <th>id</th>\n",
       "      <th></th>\n",
       "      <th></th>\n",
       "      <th></th>\n",
       "    </tr>\n",
       "  </thead>\n",
       "  <tbody>\n",
       "    <tr>\n",
       "      <th>005a2cc92c7aef2203e10f66bac6b9f76d50de34216b51bc83faea6c23c011a3</th>\n",
       "      <td>10.87</td>\n",
       "      <td>False</td>\n",
       "      <td>10.87</td>\n",
       "    </tr>\n",
       "    <tr>\n",
       "      <th>0080411740a817e8418a89873727b6e9bbad73a29b1c1c554c91c4ba6b28ae75</th>\n",
       "      <td>18.74</td>\n",
       "      <td>False</td>\n",
       "      <td>18.74</td>\n",
       "    </tr>\n",
       "    <tr>\n",
       "      <th>008fc5384b9d37dd7bf66ee98ec653abbb9a53c8e21b8eddddb5ee778d720fef</th>\n",
       "      <td>18.49</td>\n",
       "      <td>False</td>\n",
       "      <td>18.49</td>\n",
       "    </tr>\n",
       "    <tr>\n",
       "      <th>00976394957692e0a1c8ad65818e050e250bb2d265aec1dcb09614f34e012915</th>\n",
       "      <td>20.33</td>\n",
       "      <td>False</td>\n",
       "      <td>20.33</td>\n",
       "    </tr>\n",
       "    <tr>\n",
       "      <th>00a1298792cc15c1aaf7415201c10c9d530c1c3237a0beb6fdc07aabef741105</th>\n",
       "      <td>18.08</td>\n",
       "      <td>False</td>\n",
       "      <td>18.08</td>\n",
       "    </tr>\n",
       "    <tr>\n",
       "      <th>...</th>\n",
       "      <td>...</td>\n",
       "      <td>...</td>\n",
       "      <td>...</td>\n",
       "    </tr>\n",
       "    <tr>\n",
       "      <th>fef88a535978e54d11d2201145bb93db6a6ae7a45474d1ed98bcb064678e758d</th>\n",
       "      <td>9.20</td>\n",
       "      <td>False</td>\n",
       "      <td>9.20</td>\n",
       "    </tr>\n",
       "    <tr>\n",
       "      <th>ff1687f27fcbc65dc99c4ec32dc2c34b331c148487fa92f5039aeb43a9cc37be</th>\n",
       "      <td>10.70</td>\n",
       "      <td>False</td>\n",
       "      <td>10.70</td>\n",
       "    </tr>\n",
       "    <tr>\n",
       "      <th>ffc3113bcaeacd7ce2aa394d5a0aa655cc02373defd4a955ca911e2ec27ce0e4</th>\n",
       "      <td>14.45</td>\n",
       "      <td>False</td>\n",
       "      <td>14.45</td>\n",
       "    </tr>\n",
       "    <tr>\n",
       "      <th>ffc5e7b0bf988d42bd345b313a11dd1da9070832636a1ff16ff130ed2f30bd07</th>\n",
       "      <td>3.26</td>\n",
       "      <td>False</td>\n",
       "      <td>3.26</td>\n",
       "    </tr>\n",
       "    <tr>\n",
       "      <th>ffd5f5ff40f2defd03a3cf575d63c111f814ed79ceef8c0e4953c5526e9d9425</th>\n",
       "      <td>19.83</td>\n",
       "      <td>False</td>\n",
       "      <td>19.83</td>\n",
       "    </tr>\n",
       "  </tbody>\n",
       "</table>\n",
       "<p>812 rows × 3 columns</p>\n",
       "</div>"
      ],
      "text/plain": [
       "                                                    offered_interest_rate  \\\n",
       "id                                                                          \n",
       "005a2cc92c7aef2203e10f66bac6b9f76d50de34216b51b...                  10.87   \n",
       "0080411740a817e8418a89873727b6e9bbad73a29b1c1c5...                  18.74   \n",
       "008fc5384b9d37dd7bf66ee98ec653abbb9a53c8e21b8ed...                  18.49   \n",
       "00976394957692e0a1c8ad65818e050e250bb2d265aec1d...                  20.33   \n",
       "00a1298792cc15c1aaf7415201c10c9d530c1c3237a0beb...                  18.08   \n",
       "...                                                                   ...   \n",
       "fef88a535978e54d11d2201145bb93db6a6ae7a45474d1e...                   9.20   \n",
       "ff1687f27fcbc65dc99c4ec32dc2c34b331c148487fa92f...                  10.70   \n",
       "ffc3113bcaeacd7ce2aa394d5a0aa655cc02373defd4a95...                  14.45   \n",
       "ffc5e7b0bf988d42bd345b313a11dd1da9070832636a1ff...                   3.26   \n",
       "ffd5f5ff40f2defd03a3cf575d63c111f814ed79ceef8c0...                  19.83   \n",
       "\n",
       "                                                    offer_accepted  int_rate  \n",
       "id                                                                            \n",
       "005a2cc92c7aef2203e10f66bac6b9f76d50de34216b51b...           False     10.87  \n",
       "0080411740a817e8418a89873727b6e9bbad73a29b1c1c5...           False     18.74  \n",
       "008fc5384b9d37dd7bf66ee98ec653abbb9a53c8e21b8ed...           False     18.49  \n",
       "00976394957692e0a1c8ad65818e050e250bb2d265aec1d...           False     20.33  \n",
       "00a1298792cc15c1aaf7415201c10c9d530c1c3237a0beb...           False     18.08  \n",
       "...                                                            ...       ...  \n",
       "fef88a535978e54d11d2201145bb93db6a6ae7a45474d1e...           False      9.20  \n",
       "ff1687f27fcbc65dc99c4ec32dc2c34b331c148487fa92f...           False     10.70  \n",
       "ffc3113bcaeacd7ce2aa394d5a0aa655cc02373defd4a95...           False     14.45  \n",
       "ffc5e7b0bf988d42bd345b313a11dd1da9070832636a1ff...           False      3.26  \n",
       "ffd5f5ff40f2defd03a3cf575d63c111f814ed79ceef8c0...           False     19.83  \n",
       "\n",
       "[812 rows x 3 columns]"
      ]
     },
     "execution_count": 27,
     "metadata": {},
     "output_type": "execute_result"
    }
   ],
   "source": [
    "concat_df[(concat_df['offered_interest_rate']!=concat_df['int_rate'])][['offered_interest_rate','offer_accepted','int_rate']]"
   ]
  },
  {
   "cell_type": "code",
   "execution_count": 28,
   "metadata": {},
   "outputs": [
    {
     "data": {
      "text/plain": [
       "8792"
      ]
     },
     "execution_count": 28,
     "metadata": {},
     "output_type": "execute_result"
    }
   ],
   "source": [
    "np.isclose(concat_df['offered_interest_rate'],concat_df['int_rate']).sum()"
   ]
  },
  {
   "cell_type": "markdown",
   "metadata": {},
   "source": [
    "We found the following\n",
    "* sequence numbers: identical\n",
    "* loan amount: identical\n",
    "* interest rates: initially, there seemed to be differences, but using 'np.isclose' we see that they are in fact insignificant differences\n",
    "\n",
    "Therefore we will remove the three columns."
   ]
  },
  {
   "cell_type": "code",
   "execution_count": 29,
   "metadata": {
    "tags": []
   },
   "outputs": [],
   "source": [
    "concat_df.drop(['sequence_num_tu','int_rate','loan_amnt'],inplace = True,axis = 1)"
   ]
  },
  {
   "cell_type": "code",
   "execution_count": 30,
   "metadata": {},
   "outputs": [
    {
     "data": {
      "text/html": [
       "<div>\n",
       "<style scoped>\n",
       "    .dataframe tbody tr th:only-of-type {\n",
       "        vertical-align: middle;\n",
       "    }\n",
       "\n",
       "    .dataframe tbody tr th {\n",
       "        vertical-align: top;\n",
       "    }\n",
       "\n",
       "    .dataframe thead th {\n",
       "        text-align: right;\n",
       "    }\n",
       "</style>\n",
       "<table border=\"1\" class=\"dataframe\">\n",
       "  <thead>\n",
       "    <tr style=\"text-align: right;\">\n",
       "      <th></th>\n",
       "      <th>sequence_num_raleigh</th>\n",
       "      <th>requested_amount</th>\n",
       "      <th>offered_interest_rate</th>\n",
       "      <th>offer_accepted</th>\n",
       "      <th>offer_date</th>\n",
       "      <th>credit_score</th>\n",
       "      <th>listing_term</th>\n",
       "      <th>monthly_pmt</th>\n",
       "      <th>original_state</th>\n",
       "    </tr>\n",
       "    <tr>\n",
       "      <th>id</th>\n",
       "      <th></th>\n",
       "      <th></th>\n",
       "      <th></th>\n",
       "      <th></th>\n",
       "      <th></th>\n",
       "      <th></th>\n",
       "      <th></th>\n",
       "      <th></th>\n",
       "      <th></th>\n",
       "    </tr>\n",
       "  </thead>\n",
       "  <tbody>\n",
       "    <tr>\n",
       "      <th>0000944c6eb064d675539d8deaff65acd38cecfba22862b4ce639fac845d7981</th>\n",
       "      <td>65529635d01c24822ffe6bd680ea2a0c7d44f49aa88afb...</td>\n",
       "      <td>5000.0</td>\n",
       "      <td>12.30</td>\n",
       "      <td>False</td>\n",
       "      <td>2019-12-02</td>\n",
       "      <td>791</td>\n",
       "      <td>60.0</td>\n",
       "      <td>112.0</td>\n",
       "      <td>NC</td>\n",
       "    </tr>\n",
       "    <tr>\n",
       "      <th>0003290aea2ca5f7da83d2f32d0c783998906346e998926fb5c96c6923d014b3</th>\n",
       "      <td>6ce06396232ee6df63e905b2d9e5401030570873c7c3ba...</td>\n",
       "      <td>3300.0</td>\n",
       "      <td>24.88</td>\n",
       "      <td>False</td>\n",
       "      <td>2019-01-29</td>\n",
       "      <td>645</td>\n",
       "      <td>36.0</td>\n",
       "      <td>131.0</td>\n",
       "      <td>NC</td>\n",
       "    </tr>\n",
       "    <tr>\n",
       "      <th>0005ca5ea9f8399dddee878b7c9694d618a9a1b9d0915267a0b0b38eab5f7d05</th>\n",
       "      <td>d29ac15bafd56a1444b1b06265d4c67869350f0dd86b58...</td>\n",
       "      <td>3000.0</td>\n",
       "      <td>12.94</td>\n",
       "      <td>False</td>\n",
       "      <td>2020-01-10</td>\n",
       "      <td>703</td>\n",
       "      <td>36.0</td>\n",
       "      <td>101.0</td>\n",
       "      <td>NC</td>\n",
       "    </tr>\n",
       "    <tr>\n",
       "      <th>00205f2f999895bde728aebcd83707fa204ec44e203b97bbd7dd3c902c3d2245</th>\n",
       "      <td>6061825c161146555925ce39fb27c935fb5899f39ce94b...</td>\n",
       "      <td>25000.0</td>\n",
       "      <td>13.08</td>\n",
       "      <td>False</td>\n",
       "      <td>2019-07-31</td>\n",
       "      <td>692</td>\n",
       "      <td>60.0</td>\n",
       "      <td>570.0</td>\n",
       "      <td>NC</td>\n",
       "    </tr>\n",
       "    <tr>\n",
       "      <th>002e86fa45263cfe8429dcaa1b37e8abbf57b596e6f45bd852440787276945cf</th>\n",
       "      <td>f93f7353e36814e67c17ad06878c2c9f5f810286036b9a...</td>\n",
       "      <td>3816.0</td>\n",
       "      <td>33.77</td>\n",
       "      <td>False</td>\n",
       "      <td>2020-11-23</td>\n",
       "      <td>606</td>\n",
       "      <td>36.0</td>\n",
       "      <td>170.0</td>\n",
       "      <td>NC</td>\n",
       "    </tr>\n",
       "  </tbody>\n",
       "</table>\n",
       "</div>"
      ],
      "text/plain": [
       "                                                                                 sequence_num_raleigh  \\\n",
       "id                                                                                                      \n",
       "0000944c6eb064d675539d8deaff65acd38cecfba22862b...  65529635d01c24822ffe6bd680ea2a0c7d44f49aa88afb...   \n",
       "0003290aea2ca5f7da83d2f32d0c783998906346e998926...  6ce06396232ee6df63e905b2d9e5401030570873c7c3ba...   \n",
       "0005ca5ea9f8399dddee878b7c9694d618a9a1b9d091526...  d29ac15bafd56a1444b1b06265d4c67869350f0dd86b58...   \n",
       "00205f2f999895bde728aebcd83707fa204ec44e203b97b...  6061825c161146555925ce39fb27c935fb5899f39ce94b...   \n",
       "002e86fa45263cfe8429dcaa1b37e8abbf57b596e6f45bd...  f93f7353e36814e67c17ad06878c2c9f5f810286036b9a...   \n",
       "\n",
       "                                                    requested_amount  \\\n",
       "id                                                                     \n",
       "0000944c6eb064d675539d8deaff65acd38cecfba22862b...            5000.0   \n",
       "0003290aea2ca5f7da83d2f32d0c783998906346e998926...            3300.0   \n",
       "0005ca5ea9f8399dddee878b7c9694d618a9a1b9d091526...            3000.0   \n",
       "00205f2f999895bde728aebcd83707fa204ec44e203b97b...           25000.0   \n",
       "002e86fa45263cfe8429dcaa1b37e8abbf57b596e6f45bd...            3816.0   \n",
       "\n",
       "                                                    offered_interest_rate  \\\n",
       "id                                                                          \n",
       "0000944c6eb064d675539d8deaff65acd38cecfba22862b...                  12.30   \n",
       "0003290aea2ca5f7da83d2f32d0c783998906346e998926...                  24.88   \n",
       "0005ca5ea9f8399dddee878b7c9694d618a9a1b9d091526...                  12.94   \n",
       "00205f2f999895bde728aebcd83707fa204ec44e203b97b...                  13.08   \n",
       "002e86fa45263cfe8429dcaa1b37e8abbf57b596e6f45bd...                  33.77   \n",
       "\n",
       "                                                    offer_accepted  \\\n",
       "id                                                                   \n",
       "0000944c6eb064d675539d8deaff65acd38cecfba22862b...           False   \n",
       "0003290aea2ca5f7da83d2f32d0c783998906346e998926...           False   \n",
       "0005ca5ea9f8399dddee878b7c9694d618a9a1b9d091526...           False   \n",
       "00205f2f999895bde728aebcd83707fa204ec44e203b97b...           False   \n",
       "002e86fa45263cfe8429dcaa1b37e8abbf57b596e6f45bd...           False   \n",
       "\n",
       "                                                    offer_date  credit_score  \\\n",
       "id                                                                             \n",
       "0000944c6eb064d675539d8deaff65acd38cecfba22862b...  2019-12-02           791   \n",
       "0003290aea2ca5f7da83d2f32d0c783998906346e998926...  2019-01-29           645   \n",
       "0005ca5ea9f8399dddee878b7c9694d618a9a1b9d091526...  2020-01-10           703   \n",
       "00205f2f999895bde728aebcd83707fa204ec44e203b97b...  2019-07-31           692   \n",
       "002e86fa45263cfe8429dcaa1b37e8abbf57b596e6f45bd...  2020-11-23           606   \n",
       "\n",
       "                                                    listing_term  monthly_pmt  \\\n",
       "id                                                                              \n",
       "0000944c6eb064d675539d8deaff65acd38cecfba22862b...          60.0        112.0   \n",
       "0003290aea2ca5f7da83d2f32d0c783998906346e998926...          36.0        131.0   \n",
       "0005ca5ea9f8399dddee878b7c9694d618a9a1b9d091526...          36.0        101.0   \n",
       "00205f2f999895bde728aebcd83707fa204ec44e203b97b...          60.0        570.0   \n",
       "002e86fa45263cfe8429dcaa1b37e8abbf57b596e6f45bd...          36.0        170.0   \n",
       "\n",
       "                                                   original_state  \n",
       "id                                                                 \n",
       "0000944c6eb064d675539d8deaff65acd38cecfba22862b...             NC  \n",
       "0003290aea2ca5f7da83d2f32d0c783998906346e998926...             NC  \n",
       "0005ca5ea9f8399dddee878b7c9694d618a9a1b9d091526...             NC  \n",
       "00205f2f999895bde728aebcd83707fa204ec44e203b97b...             NC  \n",
       "002e86fa45263cfe8429dcaa1b37e8abbf57b596e6f45bd...             NC  "
      ]
     },
     "execution_count": 30,
     "metadata": {},
     "output_type": "execute_result"
    }
   ],
   "source": [
    "concat_df.head()"
   ]
  },
  {
   "cell_type": "markdown",
   "metadata": {},
   "source": [
    "What is the average credit score of the clients? What is the average among clients who accepted the offer?"
   ]
  },
  {
   "cell_type": "code",
   "execution_count": 31,
   "metadata": {},
   "outputs": [
    {
     "name": "stdout",
     "output_type": "stream",
     "text": [
      "average credit score of clients:\n"
     ]
    },
    {
     "data": {
      "text/plain": [
       "689.821542311192"
      ]
     },
     "execution_count": 31,
     "metadata": {},
     "output_type": "execute_result"
    }
   ],
   "source": [
    "print('average credit score of clients:')\n",
    "concat_df['credit_score'].mean()"
   ]
  },
  {
   "cell_type": "code",
   "execution_count": 32,
   "metadata": {},
   "outputs": [
    {
     "name": "stdout",
     "output_type": "stream",
     "text": [
      "average credit score of clients who accepted the offer:\n"
     ]
    },
    {
     "data": {
      "text/plain": [
       "702.5446194225722"
      ]
     },
     "execution_count": 32,
     "metadata": {},
     "output_type": "execute_result"
    }
   ],
   "source": [
    "print('average credit score of clients who accepted the offer:')\n",
    "concat_df[concat_df['offer_accepted']==True]['credit_score'].mean()"
   ]
  },
  {
   "cell_type": "markdown",
   "metadata": {},
   "source": [
    "# Validations"
   ]
  },
  {
   "cell_type": "markdown",
   "metadata": {},
   "source": [
    "Before we embark on a statistical test, let's do some validations to make sure that the Raleigh sample is not somehow distinct from the general population. Our random sample from the general population is the TU data."
   ]
  },
  {
   "cell_type": "markdown",
   "metadata": {},
   "source": [
    "Create a histogram to describe the distribution of requested loan amounts in Raleigh and in the general population. Do the distributions look similar? (A good rule-of-thumb for the number of bins to use is the square-root of the number of unique value.)"
   ]
  },
  {
   "cell_type": "code",
   "execution_count": 33,
   "metadata": {},
   "outputs": [
    {
     "name": "stdout",
     "output_type": "stream",
     "text": [
      "46\n",
      "165\n"
     ]
    }
   ],
   "source": [
    "bins_raleigh = int((raleigh_df['requested_amount'].unique().shape[0]) ** (1/2))\n",
    "bins_tu = int((tu_data['loan_amnt'].unique().shape[0]) ** (1/2))\n",
    "print(bins_raleigh)\n",
    "print(bins_tu)"
   ]
  },
  {
   "cell_type": "code",
   "execution_count": 34,
   "metadata": {},
   "outputs": [
    {
     "data": {
      "image/png": "[encoded data removed]",
      "text/plain": [
       "<Figure size 432x288 with 1 Axes>"
      ]
     },
     "metadata": {
      "needs_background": "light"
     },
     "output_type": "display_data"
    },
    {
     "data": {
      "image/png": "[encoded data removed]",
      "text/plain": [
       "<Figure size 432x288 with 1 Axes>"
      ]
     },
     "metadata": {
      "needs_background": "light"
     },
     "output_type": "display_data"
    }
   ],
   "source": [
    "raleigh_df['requested_amount'].hist(bins=bins_raleigh, range = (0,75000))\n",
    "plt.show()\n",
    "tu_data['loan_amnt'].hist(bins=bins_tu, range = (0,75000))\n",
    "plt.show()"
   ]
  },
  {
   "cell_type": "markdown",
   "metadata": {},
   "source": [
    "Using the square root of the number of unique values, the distributions look similar. However, when we choose 50 bins to tu_data, we see the similar distribution much more clearly."
   ]
  },
  {
   "cell_type": "code",
   "execution_count": 35,
   "metadata": {},
   "outputs": [
    {
     "data": {
      "image/png": "[encoded data removed]",
      "text/plain": [
       "<Figure size 432x288 with 1 Axes>"
      ]
     },
     "metadata": {
      "needs_background": "light"
     },
     "output_type": "display_data"
    },
    {
     "data": {
      "image/png": "[encoded data removed]",
      "text/plain": [
       "<Figure size 432x288 with 1 Axes>"
      ]
     },
     "metadata": {
      "needs_background": "light"
     },
     "output_type": "display_data"
    }
   ],
   "source": [
    "raleigh_df['requested_amount'].hist(bins=50, range = (0,75000))\n",
    "plt.show()\n",
    "tu_data['loan_amnt'].hist(bins=50, range = (0,75000))\n",
    "plt.show()"
   ]
  },
  {
   "cell_type": "markdown",
   "metadata": {},
   "source": [
    "Lets see the hist of the log values"
   ]
  },
  {
   "cell_type": "code",
   "execution_count": 36,
   "metadata": {},
   "outputs": [
    {
     "data": {
      "image/png": "[encoded data removed]",
      "text/plain": [
       "<Figure size 432x288 with 1 Axes>"
      ]
     },
     "metadata": {
      "needs_background": "light"
     },
     "output_type": "display_data"
    },
    {
     "data": {
      "image/png": "[encoded data removed]",
      "text/plain": [
       "<Figure size 432x288 with 1 Axes>"
      ]
     },
     "metadata": {
      "needs_background": "light"
     },
     "output_type": "display_data"
    }
   ],
   "source": [
    "np.log(raleigh_df['requested_amount']).hist(bins=bins_raleigh)\n",
    "plt.show()\n",
    "np.log(tu_data['loan_amnt']).hist(bins=bins_tu)\n",
    "plt.show()"
   ]
  },
  {
   "cell_type": "markdown",
   "metadata": {},
   "source": [
    "We can see that although the TU data has more outliers (before we restricted the range), that the two distributions do look similar and therefore it makes sense that our random sample is representative."
   ]
  },
  {
   "cell_type": "markdown",
   "metadata": {},
   "source": [
    "Describe the loan amount distribution using `sns.distplot` in the Raleigh dataframe and in TU."
   ]
  },
  {
   "cell_type": "code",
   "execution_count": 37,
   "metadata": {},
   "outputs": [],
   "source": [
    "import warnings\n",
    "warnings.filterwarnings(\"ignore\")"
   ]
  },
  {
   "cell_type": "code",
   "execution_count": 38,
   "metadata": {},
   "outputs": [
    {
     "data": {
      "image/png": "[encoded data removed]",
      "text/plain": [
       "<Figure size 432x288 with 1 Axes>"
      ]
     },
     "metadata": {
      "needs_background": "light"
     },
     "output_type": "display_data"
    }
   ],
   "source": [
    "sns.distplot((tu_data['loan_amnt']))\n",
    "ax = sns.distplot((raleigh_df['requested_amount']))\n",
    "ax.set_xlim(0,75000);"
   ]
  },
  {
   "cell_type": "code",
   "execution_count": 39,
   "metadata": {},
   "outputs": [
    {
     "data": {
      "image/png": "[encoded data removed]",
      "text/plain": [
       "<Figure size 432x288 with 1 Axes>"
      ]
     },
     "metadata": {
      "needs_background": "light"
     },
     "output_type": "display_data"
    }
   ],
   "source": [
    "sns.distplot(np.log(tu_data['loan_amnt']))\n",
    "sns.distplot(np.log(raleigh_df['requested_amount']));"
   ]
  },
  {
   "cell_type": "markdown",
   "metadata": {},
   "source": [
    "The distplot of the log values of loan amounts also shows a similar distribution."
   ]
  },
  {
   "cell_type": "markdown",
   "metadata": {},
   "source": [
    "We also want to verify that the offered interest rate in Raleigh seem similar to those in the general population. \n",
    "Create a histogram to describe the distribution of offered interest rates in Raleigh and interest rates in the general population. Do the distributions look similar?"
   ]
  },
  {
   "cell_type": "markdown",
   "metadata": {},
   "source": [
    "Describe the interest rate distribution using `sns.distplot` in the Raleigh dataframe and in TU."
   ]
  },
  {
   "cell_type": "code",
   "execution_count": 40,
   "metadata": {},
   "outputs": [
    {
     "data": {
      "image/png": "[encoded data removed]",
      "text/plain": [
       "<Figure size 432x288 with 1 Axes>"
      ]
     },
     "metadata": {
      "needs_background": "light"
     },
     "output_type": "display_data"
    }
   ],
   "source": [
    "sns.distplot(raleigh_df['offered_interest_rate'].to_numpy())\n",
    "sns.distplot(tu_data['int_rate'].to_numpy());"
   ]
  },
  {
   "cell_type": "markdown",
   "metadata": {},
   "source": [
    "The distplot of the log values of the interest rates also shows a similar distribution."
   ]
  },
  {
   "cell_type": "markdown",
   "metadata": {},
   "source": [
    "Additionally, we want to make sure the credit scores are not visibly different in Raleigh from the general population, as this might mean that the data we obtained from the town might not be representative of the general popuation."
   ]
  },
  {
   "cell_type": "markdown",
   "metadata": {},
   "source": [
    "Create a histogram to describe the distribution of credit scores in the Raleigh sample and in the general population. Do the distributions look similar? How many bins did you use?"
   ]
  },
  {
   "cell_type": "code",
   "execution_count": 41,
   "metadata": {},
   "outputs": [
    {
     "data": {
      "image/png": "[encoded data removed]",
      "text/plain": [
       "<Figure size 432x288 with 1 Axes>"
      ]
     },
     "metadata": {
      "needs_background": "light"
     },
     "output_type": "display_data"
    },
    {
     "data": {
      "image/png": "[encoded data removed]",
      "text/plain": [
       "<Figure size 432x288 with 1 Axes>"
      ]
     },
     "metadata": {
      "needs_background": "light"
     },
     "output_type": "display_data"
    }
   ],
   "source": [
    "concat_df['credit_score'].hist(bins=bins_raleigh)\n",
    "plt.show()\n",
    "tu_data['credit_score'].hist(bins=bins_tu)\n",
    "plt.show()"
   ]
  },
  {
   "cell_type": "markdown",
   "metadata": {},
   "source": [
    "Describe the credit score distribution using `sns.distplot`  in the Raleigh dataframe and in TU."
   ]
  },
  {
   "cell_type": "code",
   "execution_count": 42,
   "metadata": {},
   "outputs": [
    {
     "data": {
      "image/png": "[encoded data removed]",
      "text/plain": [
       "<Figure size 432x288 with 1 Axes>"
      ]
     },
     "metadata": {
      "needs_background": "light"
     },
     "output_type": "display_data"
    }
   ],
   "source": [
    "sns.distplot(concat_df['credit_score'].to_numpy())\n",
    "sns.distplot(tu_data['credit_score'].to_numpy());"
   ]
  },
  {
   "cell_type": "markdown",
   "metadata": {},
   "source": [
    "We can see clearly that the distribution of Raleigh credit scores is similar to the general population. We can draw conclusions from one to the other!"
   ]
  },
  {
   "cell_type": "markdown",
   "metadata": {
    "execution": {
     "iopub.execute_input": "2021-07-04T09:43:56.046655Z",
     "iopub.status.busy": "2021-07-04T09:43:56.046389Z",
     "iopub.status.idle": "2021-07-04T09:43:56.393501Z",
     "shell.execute_reply": "2021-07-04T09:43:56.392695Z",
     "shell.execute_reply.started": "2021-07-04T09:43:56.046630Z"
    }
   },
   "source": [
    "Finally, check whether the loans in both datasets have similar distributions of term (i.e. the amount of months the borrower takes the loan for). What values of term exist in the data?"
   ]
  },
  {
   "cell_type": "code",
   "execution_count": 43,
   "metadata": {},
   "outputs": [
    {
     "data": {
      "text/plain": [
       "36.0    4896\n",
       "60.0    3896\n",
       "Name: listing_term, dtype: int64"
      ]
     },
     "execution_count": 43,
     "metadata": {},
     "output_type": "execute_result"
    }
   ],
   "source": [
    "concat_df_value_counts = concat_df['listing_term'].value_counts()\n",
    "concat_df_value_counts"
   ]
  },
  {
   "cell_type": "markdown",
   "metadata": {},
   "source": [
    "Lets take a look on the percentages"
   ]
  },
  {
   "cell_type": "code",
   "execution_count": 44,
   "metadata": {},
   "outputs": [
    {
     "data": {
      "text/plain": [
       "36.0    0.55687\n",
       "60.0    0.44313\n",
       "Name: listing_term, dtype: float64"
      ]
     },
     "execution_count": 44,
     "metadata": {},
     "output_type": "execute_result"
    }
   ],
   "source": [
    "concat_df_value_counts / len(concat_df)"
   ]
  },
  {
   "cell_type": "code",
   "execution_count": 45,
   "metadata": {},
   "outputs": [
    {
     "data": {
      "text/plain": [
       "36.0    542102\n",
       "60.0    430621\n",
       "Name: listing_term, dtype: int64"
      ]
     },
     "execution_count": 45,
     "metadata": {},
     "output_type": "execute_result"
    }
   ],
   "source": [
    "tu_value_counts = tu_data['listing_term'].value_counts()\n",
    "tu_value_counts"
   ]
  },
  {
   "cell_type": "code",
   "execution_count": 46,
   "metadata": {},
   "outputs": [
    {
     "data": {
      "text/plain": [
       "36.0    0.557304\n",
       "60.0    0.442696\n",
       "Name: listing_term, dtype: float64"
      ]
     },
     "execution_count": 46,
     "metadata": {},
     "output_type": "execute_result"
    }
   ],
   "source": [
    "tu_value_counts / len(tu_data)"
   ]
  },
  {
   "cell_type": "code",
   "execution_count": 47,
   "metadata": {},
   "outputs": [
    {
     "data": {
      "image/png": "[encoded data removed]",
      "text/plain": [
       "<Figure size 1080x504 with 2 Axes>"
      ]
     },
     "metadata": {},
     "output_type": "display_data"
    }
   ],
   "source": [
    "ax, fig = plt.subplots(1,2,figsize=(15,7))\n",
    "plt.subplot(1, 2, 1)\n",
    "ratios = concat_df[['listing_term']].value_counts()/len(concat_df['listing_term'])\n",
    "plt.pie(ratios,labels = ['3 years','5 years'], autopct='%.2f', colors = cs)\n",
    "plt.title('Raleigh listing terms')\n",
    "plt.subplot(1, 2, 2)\n",
    "ratios = tu_data[['listing_term']].value_counts()/len(tu_data['listing_term'])\n",
    "plt.pie(ratios,labels = ['3 years','5 years'], autopct='%.2f', colors = cs)\n",
    "plt.title('TU listing terms');"
   ]
  },
  {
   "cell_type": "markdown",
   "metadata": {},
   "source": [
    "We can see that we have 2 values of listing_term:\n",
    "\n",
    "* 36 - this makes up 56% of both data sets\n",
    "* 60 - this makes up 44% of both data sets\n",
    "\n",
    "This make sense because the offers are 3 years or 5 years"
   ]
  },
  {
   "cell_type": "markdown",
   "metadata": {},
   "source": [
    "From these comparisons, we can clearly see that the Raleigh sample from the population is representative of the wider populatino."
   ]
  },
  {
   "cell_type": "markdown",
   "metadata": {},
   "source": [
    "# CLT in action"
   ]
  },
  {
   "cell_type": "markdown",
   "metadata": {},
   "source": [
    "One more thing before we start the test. Our goal is to check whether, for which we'll run some statistical test (you probably already know which) which checks if something belongs to a noraml distribution with some mean and some variance. But... is activation normally distributed in the Raliegh sample? "
   ]
  },
  {
   "cell_type": "markdown",
   "metadata": {
    "execution": {
     "iopub.execute_input": "2021-08-04T17:02:18.573264Z",
     "iopub.status.busy": "2021-08-04T17:02:18.572889Z",
     "iopub.status.idle": "2021-08-04T17:02:18.576747Z",
     "shell.execute_reply": "2021-08-04T17:02:18.575947Z",
     "shell.execute_reply.started": "2021-08-04T17:02:18.573237Z"
    }
   },
   "source": [
    "#+2 points if you answer without plotting\n",
    "\n",
    "Activation in the Raleigh sample is not distributed normally. If we were to draw a frequency chart, we would have two columns, at 0 and 1.\n",
    "Furthermore, it is a discrete distribution and not continuous.\n",
    "\n",
    "It is close to a bernoulli distribution - where we have success or failure. We say 'close' because we will assume a constant probability of success/failure.\n",
    "\n",
    "However, if we take many samples and their mean proportions of activation, the distribution of these sample proportions will be normal, due to the central limit theorem."
   ]
  },
  {
   "cell_type": "markdown",
   "metadata": {},
   "source": [
    "The reason why we can assume normality is because we're checking averages of samples and we're relying on the Central Limit Theorem. We won't prove the theorem, but let's test it for a bit. "
   ]
  },
  {
   "cell_type": "markdown",
   "metadata": {},
   "source": [
    "Write a function which takes a pandas series S and a natural number n and creates a series of means of samples (with replacement) of n entries from S. Decide for yourself on the length of the output series. You can also use a different data structure if you find it more suitable as the output."
   ]
  },
  {
   "cell_type": "code",
   "execution_count": 48,
   "metadata": {},
   "outputs": [],
   "source": [
    "def sample_means_generation(S,sample_size):\n",
    "    sample_means = []\n",
    "    for i in range(500):\n",
    "        sample_indices = np.random.randint(len(S),size=sample_size)\n",
    "        sample = S.iloc[sample_indices]\n",
    "        sample_mean = sample.mean()\n",
    "        sample_means.append(sample_mean)\n",
    "    return pd.Series(sample_means, name='sample_mean')"
   ]
  },
  {
   "cell_type": "code",
   "execution_count": 49,
   "metadata": {},
   "outputs": [
    {
     "data": {
      "text/plain": [
       "0    0.133333\n",
       "1    0.000000\n",
       "2    0.166667\n",
       "3    0.133333\n",
       "4    0.066667\n",
       "Name: sample_mean, dtype: float64"
      ]
     },
     "execution_count": 49,
     "metadata": {},
     "output_type": "execute_result"
    }
   ],
   "source": [
    "sample_means_generation(raleigh_df['offer_accepted'], 30).head()"
   ]
  },
  {
   "cell_type": "markdown",
   "metadata": {},
   "source": [
    "Optionally- also create a function which, given the same input as above, plots a histogram of the series of means, and also indicates the mean of this series."
   ]
  },
  {
   "cell_type": "code",
   "execution_count": 50,
   "metadata": {},
   "outputs": [],
   "source": [
    "def histogram_of_sample_means(S,sample_size):\n",
    "    sample_means = sample_means_generation(S,sample_size)\n",
    "    mean_of_sample_means = sample_means.mean()\n",
    "    sample_means.hist()\n",
    "    return mean_of_sample_means*100"
   ]
  },
  {
   "cell_type": "code",
   "execution_count": 51,
   "metadata": {},
   "outputs": [
    {
     "name": "stdout",
     "output_type": "stream",
     "text": [
      "8.625799999999998\n"
     ]
    },
    {
     "data": {
      "image/png": "[encoded data removed]",
      "text/plain": [
       "<Figure size 432x288 with 1 Axes>"
      ]
     },
     "metadata": {
      "needs_background": "light"
     },
     "output_type": "display_data"
    }
   ],
   "source": [
    "print(histogram_of_sample_means(raleigh_df['offer_accepted'], 1000))"
   ]
  },
  {
   "cell_type": "markdown",
   "metadata": {},
   "source": [
    "Generate plots of the series of means of activation in Raleigh and in TU for n = 1, 2, 5, 10, 100, 1000 and 1e6, and indicate their means. Does the distribution approach a normal distribution as $n\\to\\infty$ in your opinion?"
   ]
  },
  {
   "cell_type": "code",
   "execution_count": 52,
   "metadata": {},
   "outputs": [
    {
     "data": {
      "image/png": "[encoded data removed]",
      "text/plain": [
       "<Figure size 1080x1080 with 8 Axes>"
      ]
     },
     "metadata": {
      "needs_background": "light"
     },
     "output_type": "display_data"
    }
   ],
   "source": [
    "ax, fig = plt.subplots(4,2,figsize=(15,15))\n",
    "plt.suptitle(\"Rayleigh activation sample means\", fontsize=14)\n",
    "i=1\n",
    "for n in np.array([1, 2, 5, 10, 100, 1000,5000, 1*(10**6)]):\n",
    "    #plt.suptitle(\"loan_amnt distribution\")\n",
    "    plt.subplot(4,2,i)\n",
    "    i+=1\n",
    "    mean = histogram_of_sample_means(raleigh_df['offer_accepted'],n)\n",
    "    plt.xlabel(f\"Mean of the sample means: {mean}\")\n",
    "    plt.ylabel('frequency', fontsize=14)\n",
    "    plt.title(f'distribution of sample means for size: {n}')\n",
    "plt.tight_layout(rect=[0, 0.03, 1, 0.95])\n",
    "plt.show()"
   ]
  },
  {
   "cell_type": "markdown",
   "metadata": {},
   "source": [
    "We can see that the distribution of the sample mean variable approaches a normal distriution as n->infinity."
   ]
  },
  {
   "cell_type": "markdown",
   "metadata": {},
   "source": [
    "Now that your fuction is ready, it's time to make it part of our infrastucture:\n",
    "* Inside the `pagayapro` repo, create a branch called `feature/{your_user_name}/clt_tester/`.\n",
    "* Create a file called `clt.py` inside `~/pagayapro/users/{user_name}/assignment1/` \n",
    "* Copy the two finctions you just created into the file.\n",
    "* Push your file to `main`, open a PR and ask your mentor to review it. Once approved, rebase and merge."
   ]
  },
  {
   "cell_type": "markdown",
   "metadata": {},
   "source": [
    "# Statistical test "
   ]
  },
  {
   "cell_type": "markdown",
   "metadata": {},
   "source": [
    "As mentioned in the Notion doc, the activation in Raleigh before deployment was measured at 6.85%. In this section, you will run a test to check whether the activation in Raleigh is indeed different following the flyer program. "
   ]
  },
  {
   "cell_type": "code",
   "execution_count": 53,
   "metadata": {
    "tags": []
   },
   "outputs": [],
   "source": [
    "from statsmodels.stats.proportion import proportions_ztest\n",
    "from statsmodels.stats.power import zt_ind_solve_power\n",
    "from scipy.stats import norm"
   ]
  },
  {
   "cell_type": "markdown",
   "metadata": {},
   "source": [
    "Run a statistical test to check whether the current activation rate in Raleigh is different from 6.85%:\n",
    "1. What are your hypotheses?\n",
    "2. Setting your confidence level at 95%, what is the probability of an error of type I in your test? What is the probability of a type II error? What is the power of your test?\n",
    "3. Is the sample mean significantly different from the past value of 6.85?\n",
    "4. Interpret your results. Can you declare the program as successful in increasing activation (what is the probability of wrongfully declaring it successful)?\n",
    "5. Are there any other possible explanations for the change in activation that you observed? Discuss the possible drawbacks of our current test.\n",
    "\n",
    "Use `proportions_ztestz` from `statsmodels.stats.proportion` in order to perform the test. Are your results significant?"
   ]
  },
  {
   "cell_type": "markdown",
   "metadata": {},
   "source": [
    "**1. Hypotheses**\n",
    "\n",
    "$H_0$: the activvation rate in the population has not changed: $p = 6.85%$\n",
    "\n",
    "$H_1$: the activation rate in the population has changed: $p \\neq 6.85%$\n",
    "\n",
    "Where $p$ is the population proportion.\n",
    "\n",
    "While we have reason to believe that the population proportion has increased due to our intervention, it is possible that it fell due to poor company image resulting from the intervention. "
   ]
  },
  {
   "cell_type": "code",
   "execution_count": 54,
   "metadata": {},
   "outputs": [],
   "source": [
    "raleigh_true = concat_df['offer_accepted'].sum()\n",
    "raleigh_size = concat_df['offer_accepted'].count()"
   ]
  },
  {
   "cell_type": "markdown",
   "metadata": {},
   "source": [
    "The t-distribution approaches the z-distribution as n increases."
   ]
  },
  {
   "cell_type": "code",
   "execution_count": 55,
   "metadata": {},
   "outputs": [
    {
     "name": "stdout",
     "output_type": "stream",
     "text": [
      "(6.055416376341698, 1.4005491742963572e-09)\n"
     ]
    },
    {
     "data": {
      "text/plain": [
       "1.4005491742963572e-09"
      ]
     },
     "execution_count": 55,
     "metadata": {},
     "output_type": "execute_result"
    }
   ],
   "source": [
    "result = proportions_ztest(count = raleigh_true, nobs = raleigh_size, value=0.0685, alternative='two-sided', prop_var=False)\n",
    "print(result)\n",
    "p_value = result[1]\n",
    "p_value"
   ]
  },
  {
   "cell_type": "code",
   "execution_count": 56,
   "metadata": {},
   "outputs": [
    {
     "data": {
      "text/plain": [
       "8.666969972702457"
      ]
     },
     "execution_count": 56,
     "metadata": {},
     "output_type": "execute_result"
    }
   ],
   "source": [
    "raleigh_activation_rate*100"
   ]
  },
  {
   "cell_type": "markdown",
   "metadata": {},
   "source": [
    "**2. Type I and Type II errors**\n",
    "\n",
    "Type I error: (reject the null hypothesis when it is true)\n",
    "\n",
    "Probability of a type I error: 5%\n",
    "\n",
    "Type II error: (fail to reject the null hypothesis when it is false)\n",
    "\n",
    "Probability of a type II error: shown below\n",
    "\n"
   ]
  },
  {
   "cell_type": "code",
   "execution_count": 57,
   "metadata": {},
   "outputs": [
    {
     "name": "stdout",
     "output_type": "stream",
     "text": [
      "phat_std 0.003000569836619815\n",
      "z_value 1.959963984540054\n"
     ]
    }
   ],
   "source": [
    "phat_std = np.sqrt(raleigh_activation_rate*(1-raleigh_activation_rate)/raleigh_size)\n",
    "z_value = norm.ppf(0.975)\n",
    "print('phat_std',phat_std)\n",
    "print('z_value',z_value)"
   ]
  },
  {
   "cell_type": "code",
   "execution_count": 58,
   "metadata": {},
   "outputs": [
    {
     "name": "stdout",
     "output_type": "stream",
     "text": [
      "upper 0.07438100881287207\n",
      "lower 0.06261899118712794\n"
     ]
    }
   ],
   "source": [
    "phat_mean_h0 = 0.0685\n",
    "upper = z_value*phat_std+phat_mean_h0\n",
    "lower = -z_value*phat_std+phat_mean_h0\n",
    "print('upper',upper)\n",
    "print('lower',lower)"
   ]
  },
  {
   "cell_type": "code",
   "execution_count": 59,
   "metadata": {},
   "outputs": [
    {
     "data": {
      "text/plain": [
       "0.08666969972702457"
      ]
     },
     "execution_count": 59,
     "metadata": {},
     "output_type": "execute_result"
    }
   ],
   "source": [
    "phat_mean_h1 = raleigh_true/raleigh_size\n",
    "phat_mean_h1"
   ]
  },
  {
   "cell_type": "code",
   "execution_count": 60,
   "metadata": {},
   "outputs": [
    {
     "data": {
      "text/plain": [
       "2.1067240460960517e-05"
      ]
     },
     "execution_count": 60,
     "metadata": {},
     "output_type": "execute_result"
    }
   ],
   "source": [
    "norm(phat_mean_h1, phat_std).cdf(upper) - norm(phat_mean_h1, phat_std).cdf(lower)"
   ]
  },
  {
   "cell_type": "markdown",
   "metadata": {},
   "source": [
    "Thus, the probability of a type II error here is $\\beta = 2.1067240460960517\\cdot10^{-05}$.\n",
    "\n",
    "And the power of the test is $1-\\beta = 0.0.9999789$\n",
    "\n",
    "Note that here we have used 0.08667 as the assumed 'new' activation rate.\n"
   ]
  },
  {
   "cell_type": "markdown",
   "metadata": {},
   "source": [
    "**3. Is the sample mean significantly different from the past value of 6.85?** \n",
    "\n",
    "Our sample proportion of 8.67% has a statistically significant difference compared to our past value of 6.85%. The explanation is given in 4. below."
   ]
  },
  {
   "cell_type": "markdown",
   "metadata": {},
   "source": [
    "**4. Interpreting results**\n",
    "\n",
    "We see that the p value for this ztest is $1.4005\\cdot10^{-09}$, which is close to zero. It is smaller than our 5% level of significance.\n",
    "\n",
    "Therefore at the 5% level of significance, we reject the null hypothesis. This supports the proposal that the flyers did lead to an increase in activation rate.\n",
    "\n",
    "The probability of wrongfully declaring our program as succesful is the probability of a type I error, which is 5%.\n",
    "\n",
    "Therefore, we do not declare the program as succesful, however, our analysis strongly supports this conclusion. More research should be done."
   ]
  },
  {
   "cell_type": "markdown",
   "metadata": {},
   "source": [
    "Do you see any possible problems in your methodology? What other factors can explain the change in activation, if such a change exists?"
   ]
  },
  {
   "cell_type": "markdown",
   "metadata": {},
   "source": [
    "**5. Possible problems**\n",
    "\n",
    "Our result of 8.67% could have resulted from other factors. This is not a controlled blind experiment.\n",
    "\n",
    "a) Economic factors. Perhaps the greater economy worsened and therefore people decided to take on more loans. Perhaps the area of Raleigh is undergoing hardship.\n",
    "\n",
    "b) Timing factors. If we didn't compare parallel periods, then people might want to take out loans at different times of the year (e.g. Christmas / Summer / after tax)\n",
    "\n",
    "c) Social factors. e.g. COVID\n",
    "\n",
    "d) Market factors. If there is less competition in the market, people might be taking loans from us at an increased rate.\n",
    "\n",
    "e) Internal factors. Were the conditions of our offerings to clients the same as when we had an activation rate of 6.85%?\n",
    "\n",
    "Drawback for our test:\n",
    "\n",
    "a) We are only testing Raleigh, this is not a random sample rather a specific population that we have chosen.\n",
    "\n",
    "b) We only looked for a change in the Raleigh data and did not use a 'control group'. If we had compared to another location at the same time, this could have helped control for example for broader economic conditions."
   ]
  },
  {
   "cell_type": "markdown",
   "metadata": {
    "tags": []
   },
   "source": [
    "# A/b test"
   ]
  },
  {
   "cell_type": "markdown",
   "metadata": {},
   "source": [
    "In order to isolate temporal and environmental effects on activation, we'll run an a/b test, comparing the activation rate in Raleigh to that of Lubbock, TX, another town in which Pagaya operates without a flyer program. "
   ]
  },
  {
   "cell_type": "markdown",
   "metadata": {},
   "source": [
    "The activation forms for Lubbock also appear in the `offers` subdirectory of the `ASSIGNMENT1_DATA` folder. Read all files from this folder whose name contains the substring 'lubbock', and create a dataframe of final offers called `lubbock_df`, drop unnecessary rows from it, and enrich it with TU features."
   ]
  },
  {
   "cell_type": "code",
   "execution_count": 61,
   "metadata": {},
   "outputs": [
    {
     "data": {
      "text/plain": [
       "769"
      ]
     },
     "execution_count": 61,
     "metadata": {},
     "output_type": "execute_result"
    }
   ],
   "source": [
    "lubbock_forms = (\n",
    "    glob.glob(\n",
    "        os.path.join(ASSIGNMENT1_DATA,\"offers/*lubbock*\")\n",
    "    )\n",
    ")\n",
    "len(lubbock_forms)"
   ]
  },
  {
   "cell_type": "code",
   "execution_count": 62,
   "metadata": {},
   "outputs": [
    {
     "data": {
      "text/html": [
       "<div>\n",
       "<style scoped>\n",
       "    .dataframe tbody tr th:only-of-type {\n",
       "        vertical-align: middle;\n",
       "    }\n",
       "\n",
       "    .dataframe tbody tr th {\n",
       "        vertical-align: top;\n",
       "    }\n",
       "\n",
       "    .dataframe thead th {\n",
       "        text-align: right;\n",
       "    }\n",
       "</style>\n",
       "<table border=\"1\" class=\"dataframe\">\n",
       "  <thead>\n",
       "    <tr style=\"text-align: right;\">\n",
       "      <th></th>\n",
       "      <th>id</th>\n",
       "      <th>sequence_num</th>\n",
       "      <th>requested_amount</th>\n",
       "      <th>offered_interest_rate</th>\n",
       "      <th>offer_accepted</th>\n",
       "      <th>offer_date</th>\n",
       "    </tr>\n",
       "  </thead>\n",
       "  <tbody>\n",
       "    <tr>\n",
       "      <th>0</th>\n",
       "      <td>64796e2ad491e63b299894ddeabb5493e38b7b69770875...</td>\n",
       "      <td>5faf5b8cabb6636e1932f47b51c41e1b12324087fc2e27...</td>\n",
       "      <td>3258.0</td>\n",
       "      <td>17.58</td>\n",
       "      <td>False</td>\n",
       "      <td>2018-01-01</td>\n",
       "    </tr>\n",
       "    <tr>\n",
       "      <th>1</th>\n",
       "      <td>38d1be6da80ad94e7a2d226dbe070696c985613dd00f26...</td>\n",
       "      <td>e9d0ce908c56985675d71e793c06b5b6536afd3ba03d86...</td>\n",
       "      <td>16000.0</td>\n",
       "      <td>10.00</td>\n",
       "      <td>False</td>\n",
       "      <td>2018-01-01</td>\n",
       "    </tr>\n",
       "    <tr>\n",
       "      <th>2</th>\n",
       "      <td>c751b91bf7b5c2655d7ea397e5a03cbccb74513ff527e4...</td>\n",
       "      <td>f8b6f3cb44cfbb44ad3fa12e6758566a38ef13bbd822bd...</td>\n",
       "      <td>5000.0</td>\n",
       "      <td>18.09</td>\n",
       "      <td>True</td>\n",
       "      <td>2018-01-01</td>\n",
       "    </tr>\n",
       "    <tr>\n",
       "      <th>3</th>\n",
       "      <td>ed81efb2125c12ae73c92b36dad9f050c33f3ba3d98b42...</td>\n",
       "      <td>3aad64fa40af5bce4d473f7a38a360de1a2b6dc2b0284d...</td>\n",
       "      <td>9149.0</td>\n",
       "      <td>10.13</td>\n",
       "      <td>False</td>\n",
       "      <td>2018-01-01</td>\n",
       "    </tr>\n",
       "    <tr>\n",
       "      <th>4</th>\n",
       "      <td>fb9780f1d54cf106cc5d371a7e2436e586759fb25c9bb6...</td>\n",
       "      <td>a7bf579d73703d66fe7481fe9b2d3c0061171ed87a718b...</td>\n",
       "      <td>3500.0</td>\n",
       "      <td>9.42</td>\n",
       "      <td>False</td>\n",
       "      <td>2018-01-01</td>\n",
       "    </tr>\n",
       "  </tbody>\n",
       "</table>\n",
       "</div>"
      ],
      "text/plain": [
       "                                                  id  \\\n",
       "0  64796e2ad491e63b299894ddeabb5493e38b7b69770875...   \n",
       "1  38d1be6da80ad94e7a2d226dbe070696c985613dd00f26...   \n",
       "2  c751b91bf7b5c2655d7ea397e5a03cbccb74513ff527e4...   \n",
       "3  ed81efb2125c12ae73c92b36dad9f050c33f3ba3d98b42...   \n",
       "4  fb9780f1d54cf106cc5d371a7e2436e586759fb25c9bb6...   \n",
       "\n",
       "                                        sequence_num  requested_amount  \\\n",
       "0  5faf5b8cabb6636e1932f47b51c41e1b12324087fc2e27...            3258.0   \n",
       "1  e9d0ce908c56985675d71e793c06b5b6536afd3ba03d86...           16000.0   \n",
       "2  f8b6f3cb44cfbb44ad3fa12e6758566a38ef13bbd822bd...            5000.0   \n",
       "3  3aad64fa40af5bce4d473f7a38a360de1a2b6dc2b0284d...            9149.0   \n",
       "4  a7bf579d73703d66fe7481fe9b2d3c0061171ed87a718b...            3500.0   \n",
       "\n",
       "   offered_interest_rate  offer_accepted  offer_date  \n",
       "0                  17.58           False  2018-01-01  \n",
       "1                  10.00           False  2018-01-01  \n",
       "2                  18.09            True  2018-01-01  \n",
       "3                  10.13           False  2018-01-01  \n",
       "4                   9.42           False  2018-01-01  "
      ]
     },
     "execution_count": 62,
     "metadata": {},
     "output_type": "execute_result"
    }
   ],
   "source": [
    "li = []\n",
    "for filename in lubbock_forms:\n",
    "    df = pd.read_csv(filename, index_col=None, header=0)\n",
    "    li.append(df)\n",
    "\n",
    "lubbock_df = pd.concat(li, axis=0, ignore_index=True)\n",
    "lubbock_df.head()"
   ]
  },
  {
   "cell_type": "code",
   "execution_count": 63,
   "metadata": {},
   "outputs": [
    {
     "name": "stdout",
     "output_type": "stream",
     "text": [
      "<class 'pandas.core.frame.DataFrame'>\n",
      "RangeIndex: 17177 entries, 0 to 17176\n",
      "Data columns (total 6 columns):\n",
      " #   Column                 Non-Null Count  Dtype  \n",
      "---  ------                 --------------  -----  \n",
      " 0   id                     17177 non-null  object \n",
      " 1   sequence_num           17177 non-null  object \n",
      " 2   requested_amount       17177 non-null  float64\n",
      " 3   offered_interest_rate  17177 non-null  float64\n",
      " 4   offer_accepted         17177 non-null  bool   \n",
      " 5   offer_date             17177 non-null  object \n",
      "dtypes: bool(1), float64(2), object(3)\n",
      "memory usage: 687.9+ KB\n"
     ]
    }
   ],
   "source": [
    "lubbock_df.info()"
   ]
  },
  {
   "cell_type": "code",
   "execution_count": 64,
   "metadata": {},
   "outputs": [
    {
     "data": {
      "text/html": [
       "<div>\n",
       "<style scoped>\n",
       "    .dataframe tbody tr th:only-of-type {\n",
       "        vertical-align: middle;\n",
       "    }\n",
       "\n",
       "    .dataframe tbody tr th {\n",
       "        vertical-align: top;\n",
       "    }\n",
       "\n",
       "    .dataframe thead th {\n",
       "        text-align: right;\n",
       "    }\n",
       "</style>\n",
       "<table border=\"1\" class=\"dataframe\">\n",
       "  <thead>\n",
       "    <tr style=\"text-align: right;\">\n",
       "      <th></th>\n",
       "      <th>sequence_num</th>\n",
       "      <th>requested_amount</th>\n",
       "      <th>offered_interest_rate</th>\n",
       "      <th>offer_accepted</th>\n",
       "      <th>offer_date</th>\n",
       "    </tr>\n",
       "    <tr>\n",
       "      <th>id</th>\n",
       "      <th></th>\n",
       "      <th></th>\n",
       "      <th></th>\n",
       "      <th></th>\n",
       "      <th></th>\n",
       "    </tr>\n",
       "  </thead>\n",
       "  <tbody>\n",
       "    <tr>\n",
       "      <th>00081387dcef0fab60c7f9f94669cc6df140531c9e0a55c0e98b55dc5aef08d6</th>\n",
       "      <td>35357872fbcfec327a4c7665f08a98f0dc55eb19969f36...</td>\n",
       "      <td>4070.0</td>\n",
       "      <td>8.24</td>\n",
       "      <td>False</td>\n",
       "      <td>2020-07-10</td>\n",
       "    </tr>\n",
       "    <tr>\n",
       "      <th>00090fdbe1fc33bf53dda546318c248cb6fe4299ad39dd9db2abd4c32ed2e152</th>\n",
       "      <td>6c98c998cb4bd242edbd55164eeed3927372264f8395b8...</td>\n",
       "      <td>5550.0</td>\n",
       "      <td>16.68</td>\n",
       "      <td>False</td>\n",
       "      <td>2020-06-02</td>\n",
       "    </tr>\n",
       "    <tr>\n",
       "      <th>000aa5e29eadd0bd7e2c9649d0ed986af4848895b6a4fa7883c67dd56b5b75ac</th>\n",
       "      <td>921cda1c86bc82347ea8168a894918f8ae857cdbbdb9a5...</td>\n",
       "      <td>25000.0</td>\n",
       "      <td>7.18</td>\n",
       "      <td>False</td>\n",
       "      <td>2019-06-19</td>\n",
       "    </tr>\n",
       "    <tr>\n",
       "      <th>001046cb99ae36567910bdd6fd907622cdc8aefb1689d66339fcb59353be46e2</th>\n",
       "      <td>0637e25695fcabdcec43d21364397793a169bd8b6977ed...</td>\n",
       "      <td>20000.0</td>\n",
       "      <td>6.68</td>\n",
       "      <td>False</td>\n",
       "      <td>2018-02-20</td>\n",
       "    </tr>\n",
       "    <tr>\n",
       "      <th>00176f09e7f3c4c864098d84a1f07e632fcce67f4d8d1b7ae08aabd5961227f3</th>\n",
       "      <td>1448249d369054a06a82acb4003d3daee61574935da0a8...</td>\n",
       "      <td>10000.0</td>\n",
       "      <td>8.99</td>\n",
       "      <td>False</td>\n",
       "      <td>2019-09-27</td>\n",
       "    </tr>\n",
       "    <tr>\n",
       "      <th>...</th>\n",
       "      <td>...</td>\n",
       "      <td>...</td>\n",
       "      <td>...</td>\n",
       "      <td>...</td>\n",
       "      <td>...</td>\n",
       "    </tr>\n",
       "    <tr>\n",
       "      <th>ffd1f19c3e14b4ba2c064010847e0c323bdc392af84a945ee91b0e9f58c16d4d</th>\n",
       "      <td>365577da66c826c4c6730cae6e46000806891e8a42a69e...</td>\n",
       "      <td>3000.0</td>\n",
       "      <td>18.36</td>\n",
       "      <td>False</td>\n",
       "      <td>2019-04-17</td>\n",
       "    </tr>\n",
       "    <tr>\n",
       "      <th>ffe0a054b953d3e19b166077d839dbc2807317446cbb47f0b49f764ce5cb23b9</th>\n",
       "      <td>fed3407c137d244faf74510485b480a6c6fc852b689bef...</td>\n",
       "      <td>5000.0</td>\n",
       "      <td>29.90</td>\n",
       "      <td>False</td>\n",
       "      <td>2020-05-15</td>\n",
       "    </tr>\n",
       "    <tr>\n",
       "      <th>ffe1669cce5b7b2f1cb43f6f44a0ab1a4e2ab73856f6d552d29f551daf460547</th>\n",
       "      <td>d88f12e6b0ba3b34cc1512216eb1694ac8e5386d681cbc...</td>\n",
       "      <td>12000.0</td>\n",
       "      <td>12.83</td>\n",
       "      <td>False</td>\n",
       "      <td>2019-10-30</td>\n",
       "    </tr>\n",
       "    <tr>\n",
       "      <th>fff9e95bc7a7929e3067f4340e58c1dec092451b9934fdbcc5677c7ebadf0462</th>\n",
       "      <td>8b27bbca5a260c5fc94c09ad51e2a779ab78ca03f57a3e...</td>\n",
       "      <td>7786.0</td>\n",
       "      <td>35.33</td>\n",
       "      <td>False</td>\n",
       "      <td>2018-03-22</td>\n",
       "    </tr>\n",
       "    <tr>\n",
       "      <th>fffad2969fd07cce2e6feda2b91c16364d6884c417e05a4e10e279d14a520641</th>\n",
       "      <td>415507afe09d80d6b9aab8373b0c9bc6fac914a967fdbd...</td>\n",
       "      <td>4000.0</td>\n",
       "      <td>23.55</td>\n",
       "      <td>False</td>\n",
       "      <td>2020-11-26</td>\n",
       "    </tr>\n",
       "  </tbody>\n",
       "</table>\n",
       "<p>11320 rows × 5 columns</p>\n",
       "</div>"
      ],
      "text/plain": [
       "                                                                                         sequence_num  \\\n",
       "id                                                                                                      \n",
       "00081387dcef0fab60c7f9f94669cc6df140531c9e0a55c...  35357872fbcfec327a4c7665f08a98f0dc55eb19969f36...   \n",
       "00090fdbe1fc33bf53dda546318c248cb6fe4299ad39dd9...  6c98c998cb4bd242edbd55164eeed3927372264f8395b8...   \n",
       "000aa5e29eadd0bd7e2c9649d0ed986af4848895b6a4fa7...  921cda1c86bc82347ea8168a894918f8ae857cdbbdb9a5...   \n",
       "001046cb99ae36567910bdd6fd907622cdc8aefb1689d66...  0637e25695fcabdcec43d21364397793a169bd8b6977ed...   \n",
       "00176f09e7f3c4c864098d84a1f07e632fcce67f4d8d1b7...  1448249d369054a06a82acb4003d3daee61574935da0a8...   \n",
       "...                                                                                               ...   \n",
       "ffd1f19c3e14b4ba2c064010847e0c323bdc392af84a945...  365577da66c826c4c6730cae6e46000806891e8a42a69e...   \n",
       "ffe0a054b953d3e19b166077d839dbc2807317446cbb47f...  fed3407c137d244faf74510485b480a6c6fc852b689bef...   \n",
       "ffe1669cce5b7b2f1cb43f6f44a0ab1a4e2ab73856f6d55...  d88f12e6b0ba3b34cc1512216eb1694ac8e5386d681cbc...   \n",
       "fff9e95bc7a7929e3067f4340e58c1dec092451b9934fdb...  8b27bbca5a260c5fc94c09ad51e2a779ab78ca03f57a3e...   \n",
       "fffad2969fd07cce2e6feda2b91c16364d6884c417e05a4...  415507afe09d80d6b9aab8373b0c9bc6fac914a967fdbd...   \n",
       "\n",
       "                                                    requested_amount  \\\n",
       "id                                                                     \n",
       "00081387dcef0fab60c7f9f94669cc6df140531c9e0a55c...            4070.0   \n",
       "00090fdbe1fc33bf53dda546318c248cb6fe4299ad39dd9...            5550.0   \n",
       "000aa5e29eadd0bd7e2c9649d0ed986af4848895b6a4fa7...           25000.0   \n",
       "001046cb99ae36567910bdd6fd907622cdc8aefb1689d66...           20000.0   \n",
       "00176f09e7f3c4c864098d84a1f07e632fcce67f4d8d1b7...           10000.0   \n",
       "...                                                              ...   \n",
       "ffd1f19c3e14b4ba2c064010847e0c323bdc392af84a945...            3000.0   \n",
       "ffe0a054b953d3e19b166077d839dbc2807317446cbb47f...            5000.0   \n",
       "ffe1669cce5b7b2f1cb43f6f44a0ab1a4e2ab73856f6d55...           12000.0   \n",
       "fff9e95bc7a7929e3067f4340e58c1dec092451b9934fdb...            7786.0   \n",
       "fffad2969fd07cce2e6feda2b91c16364d6884c417e05a4...            4000.0   \n",
       "\n",
       "                                                    offered_interest_rate  \\\n",
       "id                                                                          \n",
       "00081387dcef0fab60c7f9f94669cc6df140531c9e0a55c...                   8.24   \n",
       "00090fdbe1fc33bf53dda546318c248cb6fe4299ad39dd9...                  16.68   \n",
       "000aa5e29eadd0bd7e2c9649d0ed986af4848895b6a4fa7...                   7.18   \n",
       "001046cb99ae36567910bdd6fd907622cdc8aefb1689d66...                   6.68   \n",
       "00176f09e7f3c4c864098d84a1f07e632fcce67f4d8d1b7...                   8.99   \n",
       "...                                                                   ...   \n",
       "ffd1f19c3e14b4ba2c064010847e0c323bdc392af84a945...                  18.36   \n",
       "ffe0a054b953d3e19b166077d839dbc2807317446cbb47f...                  29.90   \n",
       "ffe1669cce5b7b2f1cb43f6f44a0ab1a4e2ab73856f6d55...                  12.83   \n",
       "fff9e95bc7a7929e3067f4340e58c1dec092451b9934fdb...                  35.33   \n",
       "fffad2969fd07cce2e6feda2b91c16364d6884c417e05a4...                  23.55   \n",
       "\n",
       "                                                    offer_accepted  offer_date  \n",
       "id                                                                              \n",
       "00081387dcef0fab60c7f9f94669cc6df140531c9e0a55c...           False  2020-07-10  \n",
       "00090fdbe1fc33bf53dda546318c248cb6fe4299ad39dd9...           False  2020-06-02  \n",
       "000aa5e29eadd0bd7e2c9649d0ed986af4848895b6a4fa7...           False  2019-06-19  \n",
       "001046cb99ae36567910bdd6fd907622cdc8aefb1689d66...           False  2018-02-20  \n",
       "00176f09e7f3c4c864098d84a1f07e632fcce67f4d8d1b7...           False  2019-09-27  \n",
       "...                                                            ...         ...  \n",
       "ffd1f19c3e14b4ba2c064010847e0c323bdc392af84a945...           False  2019-04-17  \n",
       "ffe0a054b953d3e19b166077d839dbc2807317446cbb47f...           False  2020-05-15  \n",
       "ffe1669cce5b7b2f1cb43f6f44a0ab1a4e2ab73856f6d55...           False  2019-10-30  \n",
       "fff9e95bc7a7929e3067f4340e58c1dec092451b9934fdb...           False  2018-03-22  \n",
       "fffad2969fd07cce2e6feda2b91c16364d6884c417e05a4...           False  2020-11-26  \n",
       "\n",
       "[11320 rows x 5 columns]"
      ]
     },
     "execution_count": 64,
     "metadata": {},
     "output_type": "execute_result"
    }
   ],
   "source": [
    "filter_lubbock_df = lubbock_df.sort_values(by='offer_date', ascending=False).groupby('id').first()\n",
    "filter_lubbock_df"
   ]
  },
  {
   "cell_type": "code",
   "execution_count": 65,
   "metadata": {},
   "outputs": [
    {
     "data": {
      "text/plain": [
       "sequence_num             0\n",
       "requested_amount         0\n",
       "offered_interest_rate    0\n",
       "offer_accepted           0\n",
       "offer_date               0\n",
       "dtype: int64"
      ]
     },
     "execution_count": 65,
     "metadata": {},
     "output_type": "execute_result"
    }
   ],
   "source": [
    "filter_lubbock_df.isna().sum()"
   ]
  },
  {
   "cell_type": "code",
   "execution_count": 66,
   "metadata": {},
   "outputs": [],
   "source": [
    "full_lubbock_df = lubbock_df\n",
    "lubbock_df = filter_lubbock_df"
   ]
  },
  {
   "cell_type": "code",
   "execution_count": 67,
   "metadata": {},
   "outputs": [
    {
     "data": {
      "text/html": [
       "<div>\n",
       "<style scoped>\n",
       "    .dataframe tbody tr th:only-of-type {\n",
       "        vertical-align: middle;\n",
       "    }\n",
       "\n",
       "    .dataframe tbody tr th {\n",
       "        vertical-align: top;\n",
       "    }\n",
       "\n",
       "    .dataframe thead th {\n",
       "        text-align: right;\n",
       "    }\n",
       "</style>\n",
       "<table border=\"1\" class=\"dataframe\">\n",
       "  <thead>\n",
       "    <tr style=\"text-align: right;\">\n",
       "      <th></th>\n",
       "      <th>sequence_num_lubbock</th>\n",
       "      <th>requested_amount</th>\n",
       "      <th>offered_interest_rate</th>\n",
       "      <th>offer_accepted</th>\n",
       "      <th>offer_date</th>\n",
       "      <th>sequence_num_tu</th>\n",
       "      <th>credit_score</th>\n",
       "      <th>listing_term</th>\n",
       "      <th>int_rate</th>\n",
       "      <th>loan_amnt</th>\n",
       "      <th>monthly_pmt</th>\n",
       "      <th>original_state</th>\n",
       "    </tr>\n",
       "    <tr>\n",
       "      <th>id</th>\n",
       "      <th></th>\n",
       "      <th></th>\n",
       "      <th></th>\n",
       "      <th></th>\n",
       "      <th></th>\n",
       "      <th></th>\n",
       "      <th></th>\n",
       "      <th></th>\n",
       "      <th></th>\n",
       "      <th></th>\n",
       "      <th></th>\n",
       "      <th></th>\n",
       "    </tr>\n",
       "  </thead>\n",
       "  <tbody>\n",
       "    <tr>\n",
       "      <th>00081387dcef0fab60c7f9f94669cc6df140531c9e0a55c0e98b55dc5aef08d6</th>\n",
       "      <td>35357872fbcfec327a4c7665f08a98f0dc55eb19969f36...</td>\n",
       "      <td>4070.0</td>\n",
       "      <td>8.24</td>\n",
       "      <td>False</td>\n",
       "      <td>2020-07-10</td>\n",
       "      <td>35357872fbcfec327a4c7665f08a98f0dc55eb19969f36...</td>\n",
       "      <td>735</td>\n",
       "      <td>36.0</td>\n",
       "      <td>8.24</td>\n",
       "      <td>4070.0</td>\n",
       "      <td>128.0</td>\n",
       "      <td>TX</td>\n",
       "    </tr>\n",
       "    <tr>\n",
       "      <th>00090fdbe1fc33bf53dda546318c248cb6fe4299ad39dd9db2abd4c32ed2e152</th>\n",
       "      <td>6c98c998cb4bd242edbd55164eeed3927372264f8395b8...</td>\n",
       "      <td>5550.0</td>\n",
       "      <td>16.68</td>\n",
       "      <td>False</td>\n",
       "      <td>2020-06-02</td>\n",
       "      <td>6c98c998cb4bd242edbd55164eeed3927372264f8395b8...</td>\n",
       "      <td>636</td>\n",
       "      <td>36.0</td>\n",
       "      <td>16.68</td>\n",
       "      <td>5550.0</td>\n",
       "      <td>197.0</td>\n",
       "      <td>TX</td>\n",
       "    </tr>\n",
       "    <tr>\n",
       "      <th>000aa5e29eadd0bd7e2c9649d0ed986af4848895b6a4fa7883c67dd56b5b75ac</th>\n",
       "      <td>921cda1c86bc82347ea8168a894918f8ae857cdbbdb9a5...</td>\n",
       "      <td>25000.0</td>\n",
       "      <td>7.18</td>\n",
       "      <td>False</td>\n",
       "      <td>2019-06-19</td>\n",
       "      <td>921cda1c86bc82347ea8168a894918f8ae857cdbbdb9a5...</td>\n",
       "      <td>664</td>\n",
       "      <td>36.0</td>\n",
       "      <td>7.18</td>\n",
       "      <td>25000.0</td>\n",
       "      <td>774.0</td>\n",
       "      <td>TX</td>\n",
       "    </tr>\n",
       "    <tr>\n",
       "      <th>001046cb99ae36567910bdd6fd907622cdc8aefb1689d66339fcb59353be46e2</th>\n",
       "      <td>0637e25695fcabdcec43d21364397793a169bd8b6977ed...</td>\n",
       "      <td>20000.0</td>\n",
       "      <td>6.68</td>\n",
       "      <td>False</td>\n",
       "      <td>2018-02-20</td>\n",
       "      <td>0637e25695fcabdcec43d21364397793a169bd8b6977ed...</td>\n",
       "      <td>819</td>\n",
       "      <td>60.0</td>\n",
       "      <td>6.68</td>\n",
       "      <td>20000.0</td>\n",
       "      <td>393.0</td>\n",
       "      <td>TX</td>\n",
       "    </tr>\n",
       "    <tr>\n",
       "      <th>00176f09e7f3c4c864098d84a1f07e632fcce67f4d8d1b7ae08aabd5961227f3</th>\n",
       "      <td>1448249d369054a06a82acb4003d3daee61574935da0a8...</td>\n",
       "      <td>10000.0</td>\n",
       "      <td>8.99</td>\n",
       "      <td>False</td>\n",
       "      <td>2019-09-27</td>\n",
       "      <td>1448249d369054a06a82acb4003d3daee61574935da0a8...</td>\n",
       "      <td>780</td>\n",
       "      <td>36.0</td>\n",
       "      <td>8.99</td>\n",
       "      <td>10000.0</td>\n",
       "      <td>318.0</td>\n",
       "      <td>TX</td>\n",
       "    </tr>\n",
       "    <tr>\n",
       "      <th>...</th>\n",
       "      <td>...</td>\n",
       "      <td>...</td>\n",
       "      <td>...</td>\n",
       "      <td>...</td>\n",
       "      <td>...</td>\n",
       "      <td>...</td>\n",
       "      <td>...</td>\n",
       "      <td>...</td>\n",
       "      <td>...</td>\n",
       "      <td>...</td>\n",
       "      <td>...</td>\n",
       "      <td>...</td>\n",
       "    </tr>\n",
       "    <tr>\n",
       "      <th>ffd1f19c3e14b4ba2c064010847e0c323bdc392af84a945ee91b0e9f58c16d4d</th>\n",
       "      <td>365577da66c826c4c6730cae6e46000806891e8a42a69e...</td>\n",
       "      <td>3000.0</td>\n",
       "      <td>18.36</td>\n",
       "      <td>False</td>\n",
       "      <td>2019-04-17</td>\n",
       "      <td>365577da66c826c4c6730cae6e46000806891e8a42a69e...</td>\n",
       "      <td>684</td>\n",
       "      <td>36.0</td>\n",
       "      <td>18.36</td>\n",
       "      <td>3000.0</td>\n",
       "      <td>109.0</td>\n",
       "      <td>TX</td>\n",
       "    </tr>\n",
       "    <tr>\n",
       "      <th>ffe0a054b953d3e19b166077d839dbc2807317446cbb47f0b49f764ce5cb23b9</th>\n",
       "      <td>fed3407c137d244faf74510485b480a6c6fc852b689bef...</td>\n",
       "      <td>5000.0</td>\n",
       "      <td>29.90</td>\n",
       "      <td>False</td>\n",
       "      <td>2020-05-15</td>\n",
       "      <td>fed3407c137d244faf74510485b480a6c6fc852b689bef...</td>\n",
       "      <td>625</td>\n",
       "      <td>36.0</td>\n",
       "      <td>29.90</td>\n",
       "      <td>5000.0</td>\n",
       "      <td>212.0</td>\n",
       "      <td>TX</td>\n",
       "    </tr>\n",
       "    <tr>\n",
       "      <th>ffe1669cce5b7b2f1cb43f6f44a0ab1a4e2ab73856f6d552d29f551daf460547</th>\n",
       "      <td>d88f12e6b0ba3b34cc1512216eb1694ac8e5386d681cbc...</td>\n",
       "      <td>12000.0</td>\n",
       "      <td>12.83</td>\n",
       "      <td>False</td>\n",
       "      <td>2019-10-30</td>\n",
       "      <td>d88f12e6b0ba3b34cc1512216eb1694ac8e5386d681cbc...</td>\n",
       "      <td>671</td>\n",
       "      <td>60.0</td>\n",
       "      <td>12.83</td>\n",
       "      <td>12000.0</td>\n",
       "      <td>272.0</td>\n",
       "      <td>TX</td>\n",
       "    </tr>\n",
       "    <tr>\n",
       "      <th>fff9e95bc7a7929e3067f4340e58c1dec092451b9934fdbcc5677c7ebadf0462</th>\n",
       "      <td>8b27bbca5a260c5fc94c09ad51e2a779ab78ca03f57a3e...</td>\n",
       "      <td>7786.0</td>\n",
       "      <td>35.33</td>\n",
       "      <td>False</td>\n",
       "      <td>2018-03-22</td>\n",
       "      <td>8b27bbca5a260c5fc94c09ad51e2a779ab78ca03f57a3e...</td>\n",
       "      <td>583</td>\n",
       "      <td>60.0</td>\n",
       "      <td>35.33</td>\n",
       "      <td>7786.0</td>\n",
       "      <td>278.0</td>\n",
       "      <td>TX</td>\n",
       "    </tr>\n",
       "    <tr>\n",
       "      <th>fffad2969fd07cce2e6feda2b91c16364d6884c417e05a4e10e279d14a520641</th>\n",
       "      <td>415507afe09d80d6b9aab8373b0c9bc6fac914a967fdbd...</td>\n",
       "      <td>4000.0</td>\n",
       "      <td>23.55</td>\n",
       "      <td>False</td>\n",
       "      <td>2020-11-26</td>\n",
       "      <td>415507afe09d80d6b9aab8373b0c9bc6fac914a967fdbd...</td>\n",
       "      <td>623</td>\n",
       "      <td>36.0</td>\n",
       "      <td>23.55</td>\n",
       "      <td>4000.0</td>\n",
       "      <td>156.0</td>\n",
       "      <td>TX</td>\n",
       "    </tr>\n",
       "  </tbody>\n",
       "</table>\n",
       "<p>11320 rows × 12 columns</p>\n",
       "</div>"
      ],
      "text/plain": [
       "                                                                                 sequence_num_lubbock  \\\n",
       "id                                                                                                      \n",
       "00081387dcef0fab60c7f9f94669cc6df140531c9e0a55c...  35357872fbcfec327a4c7665f08a98f0dc55eb19969f36...   \n",
       "00090fdbe1fc33bf53dda546318c248cb6fe4299ad39dd9...  6c98c998cb4bd242edbd55164eeed3927372264f8395b8...   \n",
       "000aa5e29eadd0bd7e2c9649d0ed986af4848895b6a4fa7...  921cda1c86bc82347ea8168a894918f8ae857cdbbdb9a5...   \n",
       "001046cb99ae36567910bdd6fd907622cdc8aefb1689d66...  0637e25695fcabdcec43d21364397793a169bd8b6977ed...   \n",
       "00176f09e7f3c4c864098d84a1f07e632fcce67f4d8d1b7...  1448249d369054a06a82acb4003d3daee61574935da0a8...   \n",
       "...                                                                                               ...   \n",
       "ffd1f19c3e14b4ba2c064010847e0c323bdc392af84a945...  365577da66c826c4c6730cae6e46000806891e8a42a69e...   \n",
       "ffe0a054b953d3e19b166077d839dbc2807317446cbb47f...  fed3407c137d244faf74510485b480a6c6fc852b689bef...   \n",
       "ffe1669cce5b7b2f1cb43f6f44a0ab1a4e2ab73856f6d55...  d88f12e6b0ba3b34cc1512216eb1694ac8e5386d681cbc...   \n",
       "fff9e95bc7a7929e3067f4340e58c1dec092451b9934fdb...  8b27bbca5a260c5fc94c09ad51e2a779ab78ca03f57a3e...   \n",
       "fffad2969fd07cce2e6feda2b91c16364d6884c417e05a4...  415507afe09d80d6b9aab8373b0c9bc6fac914a967fdbd...   \n",
       "\n",
       "                                                    requested_amount  \\\n",
       "id                                                                     \n",
       "00081387dcef0fab60c7f9f94669cc6df140531c9e0a55c...            4070.0   \n",
       "00090fdbe1fc33bf53dda546318c248cb6fe4299ad39dd9...            5550.0   \n",
       "000aa5e29eadd0bd7e2c9649d0ed986af4848895b6a4fa7...           25000.0   \n",
       "001046cb99ae36567910bdd6fd907622cdc8aefb1689d66...           20000.0   \n",
       "00176f09e7f3c4c864098d84a1f07e632fcce67f4d8d1b7...           10000.0   \n",
       "...                                                              ...   \n",
       "ffd1f19c3e14b4ba2c064010847e0c323bdc392af84a945...            3000.0   \n",
       "ffe0a054b953d3e19b166077d839dbc2807317446cbb47f...            5000.0   \n",
       "ffe1669cce5b7b2f1cb43f6f44a0ab1a4e2ab73856f6d55...           12000.0   \n",
       "fff9e95bc7a7929e3067f4340e58c1dec092451b9934fdb...            7786.0   \n",
       "fffad2969fd07cce2e6feda2b91c16364d6884c417e05a4...            4000.0   \n",
       "\n",
       "                                                    offered_interest_rate  \\\n",
       "id                                                                          \n",
       "00081387dcef0fab60c7f9f94669cc6df140531c9e0a55c...                   8.24   \n",
       "00090fdbe1fc33bf53dda546318c248cb6fe4299ad39dd9...                  16.68   \n",
       "000aa5e29eadd0bd7e2c9649d0ed986af4848895b6a4fa7...                   7.18   \n",
       "001046cb99ae36567910bdd6fd907622cdc8aefb1689d66...                   6.68   \n",
       "00176f09e7f3c4c864098d84a1f07e632fcce67f4d8d1b7...                   8.99   \n",
       "...                                                                   ...   \n",
       "ffd1f19c3e14b4ba2c064010847e0c323bdc392af84a945...                  18.36   \n",
       "ffe0a054b953d3e19b166077d839dbc2807317446cbb47f...                  29.90   \n",
       "ffe1669cce5b7b2f1cb43f6f44a0ab1a4e2ab73856f6d55...                  12.83   \n",
       "fff9e95bc7a7929e3067f4340e58c1dec092451b9934fdb...                  35.33   \n",
       "fffad2969fd07cce2e6feda2b91c16364d6884c417e05a4...                  23.55   \n",
       "\n",
       "                                                    offer_accepted  \\\n",
       "id                                                                   \n",
       "00081387dcef0fab60c7f9f94669cc6df140531c9e0a55c...           False   \n",
       "00090fdbe1fc33bf53dda546318c248cb6fe4299ad39dd9...           False   \n",
       "000aa5e29eadd0bd7e2c9649d0ed986af4848895b6a4fa7...           False   \n",
       "001046cb99ae36567910bdd6fd907622cdc8aefb1689d66...           False   \n",
       "00176f09e7f3c4c864098d84a1f07e632fcce67f4d8d1b7...           False   \n",
       "...                                                            ...   \n",
       "ffd1f19c3e14b4ba2c064010847e0c323bdc392af84a945...           False   \n",
       "ffe0a054b953d3e19b166077d839dbc2807317446cbb47f...           False   \n",
       "ffe1669cce5b7b2f1cb43f6f44a0ab1a4e2ab73856f6d55...           False   \n",
       "fff9e95bc7a7929e3067f4340e58c1dec092451b9934fdb...           False   \n",
       "fffad2969fd07cce2e6feda2b91c16364d6884c417e05a4...           False   \n",
       "\n",
       "                                                    offer_date  \\\n",
       "id                                                               \n",
       "00081387dcef0fab60c7f9f94669cc6df140531c9e0a55c...  2020-07-10   \n",
       "00090fdbe1fc33bf53dda546318c248cb6fe4299ad39dd9...  2020-06-02   \n",
       "000aa5e29eadd0bd7e2c9649d0ed986af4848895b6a4fa7...  2019-06-19   \n",
       "001046cb99ae36567910bdd6fd907622cdc8aefb1689d66...  2018-02-20   \n",
       "00176f09e7f3c4c864098d84a1f07e632fcce67f4d8d1b7...  2019-09-27   \n",
       "...                                                        ...   \n",
       "ffd1f19c3e14b4ba2c064010847e0c323bdc392af84a945...  2019-04-17   \n",
       "ffe0a054b953d3e19b166077d839dbc2807317446cbb47f...  2020-05-15   \n",
       "ffe1669cce5b7b2f1cb43f6f44a0ab1a4e2ab73856f6d55...  2019-10-30   \n",
       "fff9e95bc7a7929e3067f4340e58c1dec092451b9934fdb...  2018-03-22   \n",
       "fffad2969fd07cce2e6feda2b91c16364d6884c417e05a4...  2020-11-26   \n",
       "\n",
       "                                                                                      sequence_num_tu  \\\n",
       "id                                                                                                      \n",
       "00081387dcef0fab60c7f9f94669cc6df140531c9e0a55c...  35357872fbcfec327a4c7665f08a98f0dc55eb19969f36...   \n",
       "00090fdbe1fc33bf53dda546318c248cb6fe4299ad39dd9...  6c98c998cb4bd242edbd55164eeed3927372264f8395b8...   \n",
       "000aa5e29eadd0bd7e2c9649d0ed986af4848895b6a4fa7...  921cda1c86bc82347ea8168a894918f8ae857cdbbdb9a5...   \n",
       "001046cb99ae36567910bdd6fd907622cdc8aefb1689d66...  0637e25695fcabdcec43d21364397793a169bd8b6977ed...   \n",
       "00176f09e7f3c4c864098d84a1f07e632fcce67f4d8d1b7...  1448249d369054a06a82acb4003d3daee61574935da0a8...   \n",
       "...                                                                                               ...   \n",
       "ffd1f19c3e14b4ba2c064010847e0c323bdc392af84a945...  365577da66c826c4c6730cae6e46000806891e8a42a69e...   \n",
       "ffe0a054b953d3e19b166077d839dbc2807317446cbb47f...  fed3407c137d244faf74510485b480a6c6fc852b689bef...   \n",
       "ffe1669cce5b7b2f1cb43f6f44a0ab1a4e2ab73856f6d55...  d88f12e6b0ba3b34cc1512216eb1694ac8e5386d681cbc...   \n",
       "fff9e95bc7a7929e3067f4340e58c1dec092451b9934fdb...  8b27bbca5a260c5fc94c09ad51e2a779ab78ca03f57a3e...   \n",
       "fffad2969fd07cce2e6feda2b91c16364d6884c417e05a4...  415507afe09d80d6b9aab8373b0c9bc6fac914a967fdbd...   \n",
       "\n",
       "                                                    credit_score  \\\n",
       "id                                                                 \n",
       "00081387dcef0fab60c7f9f94669cc6df140531c9e0a55c...           735   \n",
       "00090fdbe1fc33bf53dda546318c248cb6fe4299ad39dd9...           636   \n",
       "000aa5e29eadd0bd7e2c9649d0ed986af4848895b6a4fa7...           664   \n",
       "001046cb99ae36567910bdd6fd907622cdc8aefb1689d66...           819   \n",
       "00176f09e7f3c4c864098d84a1f07e632fcce67f4d8d1b7...           780   \n",
       "...                                                          ...   \n",
       "ffd1f19c3e14b4ba2c064010847e0c323bdc392af84a945...           684   \n",
       "ffe0a054b953d3e19b166077d839dbc2807317446cbb47f...           625   \n",
       "ffe1669cce5b7b2f1cb43f6f44a0ab1a4e2ab73856f6d55...           671   \n",
       "fff9e95bc7a7929e3067f4340e58c1dec092451b9934fdb...           583   \n",
       "fffad2969fd07cce2e6feda2b91c16364d6884c417e05a4...           623   \n",
       "\n",
       "                                                    listing_term  int_rate  \\\n",
       "id                                                                           \n",
       "00081387dcef0fab60c7f9f94669cc6df140531c9e0a55c...          36.0      8.24   \n",
       "00090fdbe1fc33bf53dda546318c248cb6fe4299ad39dd9...          36.0     16.68   \n",
       "000aa5e29eadd0bd7e2c9649d0ed986af4848895b6a4fa7...          36.0      7.18   \n",
       "001046cb99ae36567910bdd6fd907622cdc8aefb1689d66...          60.0      6.68   \n",
       "00176f09e7f3c4c864098d84a1f07e632fcce67f4d8d1b7...          36.0      8.99   \n",
       "...                                                          ...       ...   \n",
       "ffd1f19c3e14b4ba2c064010847e0c323bdc392af84a945...          36.0     18.36   \n",
       "ffe0a054b953d3e19b166077d839dbc2807317446cbb47f...          36.0     29.90   \n",
       "ffe1669cce5b7b2f1cb43f6f44a0ab1a4e2ab73856f6d55...          60.0     12.83   \n",
       "fff9e95bc7a7929e3067f4340e58c1dec092451b9934fdb...          60.0     35.33   \n",
       "fffad2969fd07cce2e6feda2b91c16364d6884c417e05a4...          36.0     23.55   \n",
       "\n",
       "                                                    loan_amnt  monthly_pmt  \\\n",
       "id                                                                           \n",
       "00081387dcef0fab60c7f9f94669cc6df140531c9e0a55c...     4070.0        128.0   \n",
       "00090fdbe1fc33bf53dda546318c248cb6fe4299ad39dd9...     5550.0        197.0   \n",
       "000aa5e29eadd0bd7e2c9649d0ed986af4848895b6a4fa7...    25000.0        774.0   \n",
       "001046cb99ae36567910bdd6fd907622cdc8aefb1689d66...    20000.0        393.0   \n",
       "00176f09e7f3c4c864098d84a1f07e632fcce67f4d8d1b7...    10000.0        318.0   \n",
       "...                                                       ...          ...   \n",
       "ffd1f19c3e14b4ba2c064010847e0c323bdc392af84a945...     3000.0        109.0   \n",
       "ffe0a054b953d3e19b166077d839dbc2807317446cbb47f...     5000.0        212.0   \n",
       "ffe1669cce5b7b2f1cb43f6f44a0ab1a4e2ab73856f6d55...    12000.0        272.0   \n",
       "fff9e95bc7a7929e3067f4340e58c1dec092451b9934fdb...     7786.0        278.0   \n",
       "fffad2969fd07cce2e6feda2b91c16364d6884c417e05a4...     4000.0        156.0   \n",
       "\n",
       "                                                   original_state  \n",
       "id                                                                 \n",
       "00081387dcef0fab60c7f9f94669cc6df140531c9e0a55c...             TX  \n",
       "00090fdbe1fc33bf53dda546318c248cb6fe4299ad39dd9...             TX  \n",
       "000aa5e29eadd0bd7e2c9649d0ed986af4848895b6a4fa7...             TX  \n",
       "001046cb99ae36567910bdd6fd907622cdc8aefb1689d66...             TX  \n",
       "00176f09e7f3c4c864098d84a1f07e632fcce67f4d8d1b7...             TX  \n",
       "...                                                           ...  \n",
       "ffd1f19c3e14b4ba2c064010847e0c323bdc392af84a945...             TX  \n",
       "ffe0a054b953d3e19b166077d839dbc2807317446cbb47f...             TX  \n",
       "ffe1669cce5b7b2f1cb43f6f44a0ab1a4e2ab73856f6d55...             TX  \n",
       "fff9e95bc7a7929e3067f4340e58c1dec092451b9934fdb...             TX  \n",
       "fffad2969fd07cce2e6feda2b91c16364d6884c417e05a4...             TX  \n",
       "\n",
       "[11320 rows x 12 columns]"
      ]
     },
     "execution_count": 67,
     "metadata": {},
     "output_type": "execute_result"
    }
   ],
   "source": [
    "concat_lubbock = lubbock_df.join(tu_data, how='left', lsuffix='_lubbock', rsuffix='_tu')\n",
    "concat_lubbock"
   ]
  },
  {
   "cell_type": "code",
   "execution_count": 68,
   "metadata": {},
   "outputs": [
    {
     "name": "stdout",
     "output_type": "stream",
     "text": [
      "0\n",
      "0\n",
      "True\n"
     ]
    }
   ],
   "source": [
    "print((concat_lubbock['sequence_num_lubbock']!=concat_lubbock['sequence_num_tu']).sum())\n",
    "print((concat_lubbock['requested_amount']!=concat_lubbock['loan_amnt']).sum())\n",
    "print(np.allclose(concat_lubbock['offered_interest_rate'],concat_lubbock['int_rate']))"
   ]
  },
  {
   "cell_type": "markdown",
   "metadata": {},
   "source": [
    "We have used the same checks as above to test identical nature of columns. We will now drop the unecessary columns."
   ]
  },
  {
   "cell_type": "code",
   "execution_count": 69,
   "metadata": {},
   "outputs": [],
   "source": [
    "concat_lubbock.drop(['sequence_num_tu','int_rate','loan_amnt'],inplace = True,axis = 1)"
   ]
  },
  {
   "cell_type": "code",
   "execution_count": 70,
   "metadata": {},
   "outputs": [
    {
     "name": "stdout",
     "output_type": "stream",
     "text": [
      "<class 'pandas.core.frame.DataFrame'>\n",
      "Index: 11320 entries, 00081387dcef0fab60c7f9f94669cc6df140531c9e0a55c0e98b55dc5aef08d6 to fffad2969fd07cce2e6feda2b91c16364d6884c417e05a4e10e279d14a520641\n",
      "Data columns (total 9 columns):\n",
      " #   Column                 Non-Null Count  Dtype  \n",
      "---  ------                 --------------  -----  \n",
      " 0   sequence_num_lubbock   11320 non-null  object \n",
      " 1   requested_amount       11320 non-null  float64\n",
      " 2   offered_interest_rate  11320 non-null  float64\n",
      " 3   offer_accepted         11320 non-null  bool   \n",
      " 4   offer_date             11320 non-null  object \n",
      " 5   credit_score           11320 non-null  int16  \n",
      " 6   listing_term           11320 non-null  float64\n",
      " 7   monthly_pmt            11320 non-null  float64\n",
      " 8   original_state         11320 non-null  object \n",
      "dtypes: bool(1), float64(4), int16(1), object(3)\n",
      "memory usage: 998.7+ KB\n"
     ]
    }
   ],
   "source": [
    "concat_lubbock.info()"
   ]
  },
  {
   "cell_type": "markdown",
   "metadata": {},
   "source": [
    "What is the average interest rate in Lubbock? What is it among accepting borrowers?"
   ]
  },
  {
   "cell_type": "code",
   "execution_count": 71,
   "metadata": {},
   "outputs": [
    {
     "name": "stdout",
     "output_type": "stream",
     "text": [
      "average interest rate of loans offered in Lubbock:\n",
      "15.505397526501767\n",
      "average interest rate of loans accepted in Lubbock:\n",
      "13.553895131086144\n"
     ]
    }
   ],
   "source": [
    "print('average interest rate of loans offered in Lubbock:')\n",
    "print(concat_lubbock['offered_interest_rate'].mean())\n",
    "\n",
    "print('average interest rate of loans accepted in Lubbock:')\n",
    "print(concat_lubbock[concat_lubbock['offer_accepted']==True]['offered_interest_rate'].mean())\n"
   ]
  },
  {
   "cell_type": "markdown",
   "metadata": {},
   "source": [
    "What is the average credit score in Lubbock? What is it among accepting borrowers?"
   ]
  },
  {
   "cell_type": "code",
   "execution_count": 72,
   "metadata": {},
   "outputs": [
    {
     "name": "stdout",
     "output_type": "stream",
     "text": [
      "average credit score of clients in Lubbock who accepted the offer:\n",
      "730.5337078651686\n",
      "average credit score of all clients in Lubbock:\n",
      "690.0338339222615\n"
     ]
    }
   ],
   "source": [
    "print('average credit score of clients in Lubbock who accepted the offer:')\n",
    "print(concat_lubbock[concat_lubbock['offer_accepted']==True]['credit_score'].mean())\n",
    "print('average credit score of all clients in Lubbock:')\n",
    "print(concat_lubbock['credit_score'].mean())"
   ]
  },
  {
   "cell_type": "markdown",
   "metadata": {},
   "source": [
    "What is the rate of activation in Lubbock?"
   ]
  },
  {
   "cell_type": "code",
   "execution_count": 73,
   "metadata": {},
   "outputs": [
    {
     "data": {
      "text/plain": [
       "4.717314487632509"
      ]
     },
     "execution_count": 73,
     "metadata": {},
     "output_type": "execute_result"
    }
   ],
   "source": [
    "lubbock_activation = concat_lubbock['offer_accepted'].sum()/concat_lubbock['offer_accepted'].count()\n",
    "lubbock_activation*100"
   ]
  },
  {
   "cell_type": "markdown",
   "metadata": {},
   "source": [
    "## Caution about a/b test "
   ]
  },
  {
   "cell_type": "markdown",
   "metadata": {},
   "source": [
    "Note that this is not a classical a/b test. Usually, in such a test, one creates two random subgroups from the general population and applies a manipulation to one of them in order to see if the manipulation had an effect. However, in this case, it is very complicated to isolate a random subgroup from any population and deploy the flyer program only on it.\n",
    "Thus, due to production limitation, we have to make do with what we got."
   ]
  },
  {
   "cell_type": "markdown",
   "metadata": {},
   "source": [
    "In order to justify the use of an a/b test for this situation, we should at least verify that the borrower population in Lubbock and Raleigh seem as though they were randomly selected from the general population. We have actually already checked it for Raleigh above. Add TU features to the loan amount, interest rate, credit score and term comparisons and see if there any major differences between the three populations (Lubbock, Raleigh and TU)."
   ]
  },
  {
   "cell_type": "markdown",
   "metadata": {},
   "source": [
    "Loan amount"
   ]
  },
  {
   "cell_type": "code",
   "execution_count": 74,
   "metadata": {},
   "outputs": [
    {
     "data": {
      "image/png": "[encoded data removed]",
      "text/plain": [
       "<Figure size 1512x360 with 3 Axes>"
      ]
     },
     "metadata": {
      "needs_background": "light"
     },
     "output_type": "display_data"
    }
   ],
   "source": [
    "ax, fig = plt.subplots(1,3,figsize=(21,5))\n",
    "plt.subplot(1, 3, 1)\n",
    "plt.title('tu_data')\n",
    "sns.distplot(np.log(tu_data['loan_amnt']), bins = 20)\n",
    "plt.subplot(1, 3, 2)\n",
    "plt.title('raleigh')\n",
    "sns.distplot(np.log(raleigh_df['requested_amount']), bins = 50)\n",
    "plt.subplot(1, 3, 3)\n",
    "plt.title('lubbock')\n",
    "sns.distplot(np.log(concat_lubbock['requested_amount']), bins = 50);"
   ]
  },
  {
   "cell_type": "markdown",
   "metadata": {},
   "source": [
    "Interest rate"
   ]
  },
  {
   "cell_type": "code",
   "execution_count": 75,
   "metadata": {},
   "outputs": [
    {
     "data": {
      "image/png": "[encoded data removed]",
      "text/plain": [
       "<Figure size 1512x360 with 3 Axes>"
      ]
     },
     "metadata": {
      "needs_background": "light"
     },
     "output_type": "display_data"
    }
   ],
   "source": [
    "ax, fig = plt.subplots(1,3,figsize=(21,5))\n",
    "plt.subplot(1, 3, 1)\n",
    "plt.title('tu_data')\n",
    "sns.distplot(np.log(tu_data['int_rate']))\n",
    "plt.subplot(1, 3, 2)\n",
    "plt.title('raleigh')\n",
    "sns.distplot(np.log(raleigh_df['offered_interest_rate']))\n",
    "plt.subplot(1, 3, 3)\n",
    "plt.title('lubbock')\n",
    "sns.distplot(np.log(concat_lubbock['offered_interest_rate']));"
   ]
  },
  {
   "cell_type": "markdown",
   "metadata": {},
   "source": [
    "Credit score"
   ]
  },
  {
   "cell_type": "code",
   "execution_count": 76,
   "metadata": {},
   "outputs": [
    {
     "data": {
      "image/png": "[encoded data removed]",
      "text/plain": [
       "<Figure size 1512x360 with 3 Axes>"
      ]
     },
     "metadata": {
      "needs_background": "light"
     },
     "output_type": "display_data"
    }
   ],
   "source": [
    "ax, fig = plt.subplots(1,3,figsize=(21,5))\n",
    "plt.subplot(1, 3, 1)\n",
    "plt.title('tu_data')\n",
    "ax = sns.distplot(np.log(tu_data['credit_score']), bins = 100,color=cs[1])\n",
    "ax.set_xlim(6,7)\n",
    "plt.subplot(1, 3, 2)\n",
    "plt.title('raleigh')\n",
    "ax = sns.distplot(np.log(concat_df['credit_score']), bins = 100,color=cs[1])\n",
    "ax.set_xlim(6,7)\n",
    "plt.subplot(1, 3, 3)\n",
    "plt.title('lubbock')\n",
    "ax = sns.distplot(np.log(concat_lubbock['credit_score']), bins = 100,color=cs[1])\n",
    "ax.set_xlim(6,7);"
   ]
  },
  {
   "cell_type": "markdown",
   "metadata": {},
   "source": [
    "Term comparisons"
   ]
  },
  {
   "cell_type": "code",
   "execution_count": 77,
   "metadata": {},
   "outputs": [
    {
     "data": {
      "image/png": "[encoded data removed]",
      "text/plain": [
       "<Figure size 1512x360 with 3 Axes>"
      ]
     },
     "metadata": {},
     "output_type": "display_data"
    }
   ],
   "source": [
    "ax, fig = plt.subplots(1,3,figsize=(21,5))\n",
    "plt.subplot(1, 3, 1)\n",
    "ratios = tu_data[['listing_term']].value_counts()/len(tu_data['listing_term'])\n",
    "plt.pie(ratios,labels = ['3 years','5 years'], autopct='%.2f',colors=cs)\n",
    "plt.title('TU listing terms')\n",
    "plt.subplot(1, 3, 2)\n",
    "ratios = concat_df[['listing_term']].value_counts()/len(concat_df['listing_term'])\n",
    "plt.pie(ratios,labels = ['3 years','5 years'], autopct='%.2f',colors=cs)\n",
    "plt.title('Raleigh listing terms')\n",
    "plt.subplot(1, 3, 3)\n",
    "ratios = concat_lubbock[['listing_term']].value_counts()/len(concat_lubbock['listing_term'])\n",
    "plt.pie(ratios,labels = ['3 years','5 years'], autopct='%.2f',colors=cs)\n",
    "plt.title('Lubbock listing terms');"
   ]
  },
  {
   "cell_type": "markdown",
   "metadata": {},
   "source": [
    "We can see that the distribution of each of these features is similar for each category.\n",
    "\n",
    "Thus, comparing them using A/B testing is reasonable."
   ]
  },
  {
   "cell_type": "markdown",
   "metadata": {},
   "source": [
    "## Performing the test"
   ]
  },
  {
   "cell_type": "markdown",
   "metadata": {
    "execution": {
     "iopub.status.busy": "2021-07-01T03:36:51.530342Z",
     "iopub.status.idle": "2021-07-01T03:36:51.530744Z"
    }
   },
   "source": [
    "Use the function you created in the file `clt.py` to plot the series of means of activation in Raleigh and Lubbock for samples of size n= 1, 10, 1000 and 1e6, and compare the means of the two histograms. To they seem to converge to the same value?"
   ]
  },
  {
   "cell_type": "code",
   "execution_count": 78,
   "metadata": {},
   "outputs": [
    {
     "data": {
      "image/png": "[encoded data removed]",
      "text/plain": [
       "<Figure size 1080x1080 with 8 Axes>"
      ]
     },
     "metadata": {
      "needs_background": "light"
     },
     "output_type": "display_data"
    }
   ],
   "source": [
    "ax, fig = plt.subplots(4,2,figsize=(15,15))\n",
    "plt.suptitle(\"Activation sample means across Rayleigh and Lubbock\", fontsize=14)\n",
    "i=1\n",
    "for n in np.array([1, 10, 1000, 1*(10**6)]):\n",
    "    plt.subplot(4,2,i)\n",
    "    i+=1\n",
    "    mean = histogram_of_sample_means(raleigh_df['offer_accepted'],n)\n",
    "    plt.xlabel(f\"Mean of the sample means: {mean}\")\n",
    "    plt.ylabel('frequency', fontsize=14)\n",
    "    plt.title(f'distribution of sample means for size {n} for Raleigh')\n",
    "    plt.subplot(4,2,i)\n",
    "    i+=1\n",
    "    mean = histogram_of_sample_means(concat_lubbock['offer_accepted'],n)\n",
    "    plt.xlabel(f\"Mean of the sample means: {mean}\")\n",
    "    plt.ylabel('frequency', fontsize=14)\n",
    "    plt.title(f'distribution of sample means for size {n} for Lubbock')\n",
    "plt.tight_layout(rect=[0, 0.03, 1, 0.95])\n",
    "plt.show()"
   ]
  },
  {
   "cell_type": "markdown",
   "metadata": {},
   "source": [
    "The means of the Raleigh histograms converge to 8.67, which is the mean of the entire Raleigh sample.\n",
    "\n",
    "The means of the Lubbock histograms converge to 4.71, which is the mean of the entire Lubbock sample."
   ]
  },
  {
   "cell_type": "markdown",
   "metadata": {},
   "source": [
    "Apply a statistical test to see whether the activation rate in Raleigh, NC is significantly larger than Lubbock, TX. Clearly state and validate your test's assumption. \n",
    "\n",
    "1. What are your hypotheses?\n",
    "2. Setting your confidence level at 95%, what is the probability of an error of type I in your test? What is the probability of a type II error?\n",
    "3. Are the two samples significantly different? \n",
    "4. Interpret your results. Can you declare the program as successful in increasing activation? What is the probability of wrongfully declaring it successful?"
   ]
  },
  {
   "cell_type": "markdown",
   "metadata": {},
   "source": [
    "**1. Hypotheses**\n",
    "\n",
    "$H_0: p_{raleigh} = p_{lubbock}$ (where p = activation rate of Raleigh)\n",
    "\n",
    "Activation rate in Raleigh = activation rate in Lubbock\n",
    "\n",
    "$H_1: p_{raleigh} > p_{lubbock}$ (where p = activation rate of Lubbock)\n",
    "\n",
    "Activation rate in Raleigh > activation rate in Lubbock"
   ]
  },
  {
   "cell_type": "markdown",
   "metadata": {},
   "source": [
    "Use the `proportions_ztestz` function from `statsmodels.stats.proportion` to perform a comparison between the activation probability in Lubbock and in Raleigh. "
   ]
  },
  {
   "cell_type": "code",
   "execution_count": 79,
   "metadata": {},
   "outputs": [
    {
     "name": "stdout",
     "output_type": "stream",
     "text": [
      "0.04717314487632509\n",
      "0.08666969972702457\n"
     ]
    }
   ],
   "source": [
    "lubbock_true = concat_lubbock['offer_accepted'].sum()\n",
    "lubbock_size = concat_lubbock['offer_accepted'].count()\n",
    "\n",
    "print(lubbock_true/lubbock_size)\n",
    "print(raleigh_true/raleigh_size)\n",
    "\n",
    "lubbock_activation_rate = lubbock_true/lubbock_size"
   ]
  },
  {
   "cell_type": "code",
   "execution_count": 80,
   "metadata": {},
   "outputs": [],
   "source": [
    "count = np.array([raleigh_true, lubbock_true])\n",
    "nobs = np.array([raleigh_size, lubbock_size])"
   ]
  },
  {
   "cell_type": "code",
   "execution_count": 81,
   "metadata": {},
   "outputs": [
    {
     "data": {
      "text/plain": [
       "(11.315864686822128, 5.475858880145861e-30)"
      ]
     },
     "execution_count": 81,
     "metadata": {},
     "output_type": "execute_result"
    }
   ],
   "source": [
    "ab_test = proportions_ztest(count = count, nobs = nobs, value=0, alternative='larger', prop_var=False)\n",
    "ab_test"
   ]
  },
  {
   "cell_type": "code",
   "execution_count": 82,
   "metadata": {},
   "outputs": [
    {
     "data": {
      "text/plain": [
       "5.475858880145861e-30"
      ]
     },
     "execution_count": 82,
     "metadata": {},
     "output_type": "execute_result"
    }
   ],
   "source": [
    "p_value_ab = ab_test[1]\n",
    "p_value_ab"
   ]
  },
  {
   "cell_type": "markdown",
   "metadata": {},
   "source": [
    "**2. Type I and Type II errors.**\n",
    "\n",
    "Type I error (reject the null hypothesis when it is true)\n",
    "\n",
    "The probability of a type I error is $\\alpha = 5$%."
   ]
  },
  {
   "cell_type": "markdown",
   "metadata": {},
   "source": [
    "Type II error: (fail to reject the null hypothesis when it is false)\n",
    "\n",
    "Probability of a type II error: shown below"
   ]
  },
  {
   "cell_type": "code",
   "execution_count": 83,
   "metadata": {},
   "outputs": [
    {
     "name": "stdout",
     "output_type": "stream",
     "text": [
      "phat_std_ab 0.0019926507923131473\n",
      "z_value_ab 1.6448536269514722\n"
     ]
    }
   ],
   "source": [
    "phat_std_ab = np.sqrt(lubbock_activation_rate*(1-lubbock_activation_rate)/lubbock_size)\n",
    "z_value_ab = norm.ppf(0.95)\n",
    "print('phat_std_ab',phat_std_ab)\n",
    "print('z_value_ab',z_value_ab)"
   ]
  },
  {
   "cell_type": "code",
   "execution_count": 84,
   "metadata": {},
   "outputs": [
    {
     "name": "stdout",
     "output_type": "stream",
     "text": [
      "upper 0.0504507637593091\n",
      "lower 0.04389552599334108\n"
     ]
    }
   ],
   "source": [
    "upper_ab = z_value_ab*phat_std_ab+lubbock_activation_rate\n",
    "lower_ab = -z_value_ab*phat_std_ab+lubbock_activation_rate\n",
    "print('upper',upper_ab)\n",
    "print('lower',lower_ab)"
   ]
  },
  {
   "cell_type": "code",
   "execution_count": 85,
   "metadata": {},
   "outputs": [
    {
     "data": {
      "text/plain": [
       "0.08666969972702457"
      ]
     },
     "execution_count": 85,
     "metadata": {},
     "output_type": "execute_result"
    }
   ],
   "source": [
    "raleigh_activation_rate"
   ]
  },
  {
   "cell_type": "code",
   "execution_count": 86,
   "metadata": {},
   "outputs": [
    {
     "data": {
      "text/plain": [
       "3.979080115625382e-74"
      ]
     },
     "execution_count": 86,
     "metadata": {},
     "output_type": "execute_result"
    }
   ],
   "source": [
    "norm(raleigh_activation_rate, phat_std_ab).cdf(upper_ab) - norm(raleigh_activation_rate, phat_std_ab).cdf(lower_ab)"
   ]
  },
  {
   "cell_type": "markdown",
   "metadata": {},
   "source": [
    "Thus, the probability of a type II error here is $𝛽 = 4 \\cdot 10^{-74}$.\n",
    "\n",
    "And the power of the test is $1−𝛽=1$\n",
    "\n",
    "Note that here we have used $0.0867$ as the assumed 'new' $𝐻_0$ ."
   ]
  },
  {
   "cell_type": "markdown",
   "metadata": {
    "execution": {
     "iopub.status.busy": "2021-07-01T03:36:51.542043Z",
     "iopub.status.idle": "2021-07-01T03:36:51.542428Z"
    }
   },
   "source": [
    "Interprest your results; do you observe a significant change in activation in Raleigh? What is the probability of wrongfully declaring the program successful?"
   ]
  },
  {
   "cell_type": "markdown",
   "metadata": {},
   "source": [
    "**3. Are the two samples significantly different?**\n",
    "\n",
    "The p value for the A/B test is $5.48\\cdot 10^{-30}$. At the 5% level of significance, this shows a statistically significant difference between then two samples!\n",
    "\n",
    "**4. Interpret your results. Can you declare the program as successful in increasing activation? What is the probability of wrongfully declaring it successful?**\n",
    "\n",
    "Therefore, we reject the hypothesis that the Raleigh and Lubbock activation rates are the same. This supports the idea that the flyers made a significant impact on the Raleigh activation rate.\n",
    "\n",
    "However, our probability of wrongfully declaring the program successful (the probability of a type I error) si 5%. Therefore we must be wary of declaring absolute success and we should investigate further."
   ]
  },
  {
   "cell_type": "markdown",
   "metadata": {},
   "source": [
    "# Testing for activation in sub-populations"
   ]
  },
  {
   "cell_type": "markdown",
   "metadata": {},
   "source": [
    "Now that you applied the a/b test to the Lubbock and Raleigh datasets, it is now required that you make a similar comparison on different subsets of the data within various credit score and loan amount bins. To do so, let us first decide on how to segment our data.\n",
    "\n",
    "You are asked to divide your data into 10 bins according to credit score, and then divide each of those bins into 10 bins according to loan amount. The most staightforward way of doing this is by using the `pd.qcut` function; first dividing the data into 10 quantiles of credit score and then dividing each of these quantiles into 10 according to loan amount."
   ]
  },
  {
   "cell_type": "markdown",
   "metadata": {},
   "source": [
    "Divide your datasets as above and add two columns to your data which indicate the (credit_score, loan_amnt) of the bin."
   ]
  },
  {
   "cell_type": "markdown",
   "metadata": {},
   "source": [
    "In order to split the data to bins we need use the concat of data frame raleigh_df and lubbock, otherwise we will get diffirent groups and we won't be able to compare the results"
   ]
  },
  {
   "cell_type": "code",
   "execution_count": 87,
   "metadata": {},
   "outputs": [],
   "source": [
    "requested_amount_bins_dict = {}"
   ]
  },
  {
   "cell_type": "code",
   "execution_count": 88,
   "metadata": {},
   "outputs": [
    {
     "data": {
      "text/html": [
       "<div>\n",
       "<style scoped>\n",
       "    .dataframe tbody tr th:only-of-type {\n",
       "        vertical-align: middle;\n",
       "    }\n",
       "\n",
       "    .dataframe tbody tr th {\n",
       "        vertical-align: top;\n",
       "    }\n",
       "\n",
       "    .dataframe thead th {\n",
       "        text-align: right;\n",
       "    }\n",
       "</style>\n",
       "<table border=\"1\" class=\"dataframe\">\n",
       "  <thead>\n",
       "    <tr style=\"text-align: right;\">\n",
       "      <th></th>\n",
       "      <th>sequence_num_raleigh</th>\n",
       "      <th>requested_amount</th>\n",
       "      <th>offered_interest_rate</th>\n",
       "      <th>offer_accepted</th>\n",
       "      <th>offer_date</th>\n",
       "      <th>credit_score</th>\n",
       "      <th>listing_term</th>\n",
       "      <th>monthly_pmt</th>\n",
       "      <th>original_state</th>\n",
       "      <th>sequence_num_lubbock</th>\n",
       "      <th>credit_score_grouped</th>\n",
       "    </tr>\n",
       "    <tr>\n",
       "      <th>id</th>\n",
       "      <th></th>\n",
       "      <th></th>\n",
       "      <th></th>\n",
       "      <th></th>\n",
       "      <th></th>\n",
       "      <th></th>\n",
       "      <th></th>\n",
       "      <th></th>\n",
       "      <th></th>\n",
       "      <th></th>\n",
       "      <th></th>\n",
       "    </tr>\n",
       "  </thead>\n",
       "  <tbody>\n",
       "    <tr>\n",
       "      <th>0000944c6eb064d675539d8deaff65acd38cecfba22862b4ce639fac845d7981</th>\n",
       "      <td>65529635d01c24822ffe6bd680ea2a0c7d44f49aa88afb...</td>\n",
       "      <td>5000.0</td>\n",
       "      <td>12.30</td>\n",
       "      <td>False</td>\n",
       "      <td>2019-12-02</td>\n",
       "      <td>791</td>\n",
       "      <td>60.0</td>\n",
       "      <td>112.0</td>\n",
       "      <td>NC</td>\n",
       "      <td>NaN</td>\n",
       "      <td>9</td>\n",
       "    </tr>\n",
       "    <tr>\n",
       "      <th>0003290aea2ca5f7da83d2f32d0c783998906346e998926fb5c96c6923d014b3</th>\n",
       "      <td>6ce06396232ee6df63e905b2d9e5401030570873c7c3ba...</td>\n",
       "      <td>3300.0</td>\n",
       "      <td>24.88</td>\n",
       "      <td>False</td>\n",
       "      <td>2019-01-29</td>\n",
       "      <td>645</td>\n",
       "      <td>36.0</td>\n",
       "      <td>131.0</td>\n",
       "      <td>NC</td>\n",
       "      <td>NaN</td>\n",
       "      <td>2</td>\n",
       "    </tr>\n",
       "    <tr>\n",
       "      <th>0005ca5ea9f8399dddee878b7c9694d618a9a1b9d0915267a0b0b38eab5f7d05</th>\n",
       "      <td>d29ac15bafd56a1444b1b06265d4c67869350f0dd86b58...</td>\n",
       "      <td>3000.0</td>\n",
       "      <td>12.94</td>\n",
       "      <td>False</td>\n",
       "      <td>2020-01-10</td>\n",
       "      <td>703</td>\n",
       "      <td>36.0</td>\n",
       "      <td>101.0</td>\n",
       "      <td>NC</td>\n",
       "      <td>NaN</td>\n",
       "      <td>5</td>\n",
       "    </tr>\n",
       "    <tr>\n",
       "      <th>00205f2f999895bde728aebcd83707fa204ec44e203b97bbd7dd3c902c3d2245</th>\n",
       "      <td>6061825c161146555925ce39fb27c935fb5899f39ce94b...</td>\n",
       "      <td>25000.0</td>\n",
       "      <td>13.08</td>\n",
       "      <td>False</td>\n",
       "      <td>2019-07-31</td>\n",
       "      <td>692</td>\n",
       "      <td>60.0</td>\n",
       "      <td>570.0</td>\n",
       "      <td>NC</td>\n",
       "      <td>NaN</td>\n",
       "      <td>5</td>\n",
       "    </tr>\n",
       "    <tr>\n",
       "      <th>002e86fa45263cfe8429dcaa1b37e8abbf57b596e6f45bd852440787276945cf</th>\n",
       "      <td>f93f7353e36814e67c17ad06878c2c9f5f810286036b9a...</td>\n",
       "      <td>3816.0</td>\n",
       "      <td>33.77</td>\n",
       "      <td>False</td>\n",
       "      <td>2020-11-23</td>\n",
       "      <td>606</td>\n",
       "      <td>36.0</td>\n",
       "      <td>170.0</td>\n",
       "      <td>NC</td>\n",
       "      <td>NaN</td>\n",
       "      <td>0</td>\n",
       "    </tr>\n",
       "  </tbody>\n",
       "</table>\n",
       "</div>"
      ],
      "text/plain": [
       "                                                                                 sequence_num_raleigh  \\\n",
       "id                                                                                                      \n",
       "0000944c6eb064d675539d8deaff65acd38cecfba22862b...  65529635d01c24822ffe6bd680ea2a0c7d44f49aa88afb...   \n",
       "0003290aea2ca5f7da83d2f32d0c783998906346e998926...  6ce06396232ee6df63e905b2d9e5401030570873c7c3ba...   \n",
       "0005ca5ea9f8399dddee878b7c9694d618a9a1b9d091526...  d29ac15bafd56a1444b1b06265d4c67869350f0dd86b58...   \n",
       "00205f2f999895bde728aebcd83707fa204ec44e203b97b...  6061825c161146555925ce39fb27c935fb5899f39ce94b...   \n",
       "002e86fa45263cfe8429dcaa1b37e8abbf57b596e6f45bd...  f93f7353e36814e67c17ad06878c2c9f5f810286036b9a...   \n",
       "\n",
       "                                                    requested_amount  \\\n",
       "id                                                                     \n",
       "0000944c6eb064d675539d8deaff65acd38cecfba22862b...            5000.0   \n",
       "0003290aea2ca5f7da83d2f32d0c783998906346e998926...            3300.0   \n",
       "0005ca5ea9f8399dddee878b7c9694d618a9a1b9d091526...            3000.0   \n",
       "00205f2f999895bde728aebcd83707fa204ec44e203b97b...           25000.0   \n",
       "002e86fa45263cfe8429dcaa1b37e8abbf57b596e6f45bd...            3816.0   \n",
       "\n",
       "                                                    offered_interest_rate  \\\n",
       "id                                                                          \n",
       "0000944c6eb064d675539d8deaff65acd38cecfba22862b...                  12.30   \n",
       "0003290aea2ca5f7da83d2f32d0c783998906346e998926...                  24.88   \n",
       "0005ca5ea9f8399dddee878b7c9694d618a9a1b9d091526...                  12.94   \n",
       "00205f2f999895bde728aebcd83707fa204ec44e203b97b...                  13.08   \n",
       "002e86fa45263cfe8429dcaa1b37e8abbf57b596e6f45bd...                  33.77   \n",
       "\n",
       "                                                    offer_accepted  \\\n",
       "id                                                                   \n",
       "0000944c6eb064d675539d8deaff65acd38cecfba22862b...           False   \n",
       "0003290aea2ca5f7da83d2f32d0c783998906346e998926...           False   \n",
       "0005ca5ea9f8399dddee878b7c9694d618a9a1b9d091526...           False   \n",
       "00205f2f999895bde728aebcd83707fa204ec44e203b97b...           False   \n",
       "002e86fa45263cfe8429dcaa1b37e8abbf57b596e6f45bd...           False   \n",
       "\n",
       "                                                    offer_date  credit_score  \\\n",
       "id                                                                             \n",
       "0000944c6eb064d675539d8deaff65acd38cecfba22862b...  2019-12-02           791   \n",
       "0003290aea2ca5f7da83d2f32d0c783998906346e998926...  2019-01-29           645   \n",
       "0005ca5ea9f8399dddee878b7c9694d618a9a1b9d091526...  2020-01-10           703   \n",
       "00205f2f999895bde728aebcd83707fa204ec44e203b97b...  2019-07-31           692   \n",
       "002e86fa45263cfe8429dcaa1b37e8abbf57b596e6f45bd...  2020-11-23           606   \n",
       "\n",
       "                                                    listing_term  monthly_pmt  \\\n",
       "id                                                                              \n",
       "0000944c6eb064d675539d8deaff65acd38cecfba22862b...          60.0        112.0   \n",
       "0003290aea2ca5f7da83d2f32d0c783998906346e998926...          36.0        131.0   \n",
       "0005ca5ea9f8399dddee878b7c9694d618a9a1b9d091526...          36.0        101.0   \n",
       "00205f2f999895bde728aebcd83707fa204ec44e203b97b...          60.0        570.0   \n",
       "002e86fa45263cfe8429dcaa1b37e8abbf57b596e6f45bd...          36.0        170.0   \n",
       "\n",
       "                                                   original_state  \\\n",
       "id                                                                  \n",
       "0000944c6eb064d675539d8deaff65acd38cecfba22862b...             NC   \n",
       "0003290aea2ca5f7da83d2f32d0c783998906346e998926...             NC   \n",
       "0005ca5ea9f8399dddee878b7c9694d618a9a1b9d091526...             NC   \n",
       "00205f2f999895bde728aebcd83707fa204ec44e203b97b...             NC   \n",
       "002e86fa45263cfe8429dcaa1b37e8abbf57b596e6f45bd...             NC   \n",
       "\n",
       "                                                   sequence_num_lubbock  \\\n",
       "id                                                                        \n",
       "0000944c6eb064d675539d8deaff65acd38cecfba22862b...                  NaN   \n",
       "0003290aea2ca5f7da83d2f32d0c783998906346e998926...                  NaN   \n",
       "0005ca5ea9f8399dddee878b7c9694d618a9a1b9d091526...                  NaN   \n",
       "00205f2f999895bde728aebcd83707fa204ec44e203b97b...                  NaN   \n",
       "002e86fa45263cfe8429dcaa1b37e8abbf57b596e6f45bd...                  NaN   \n",
       "\n",
       "                                                   credit_score_grouped  \n",
       "id                                                                       \n",
       "0000944c6eb064d675539d8deaff65acd38cecfba22862b...                    9  \n",
       "0003290aea2ca5f7da83d2f32d0c783998906346e998926...                    2  \n",
       "0005ca5ea9f8399dddee878b7c9694d618a9a1b9d091526...                    5  \n",
       "00205f2f999895bde728aebcd83707fa204ec44e203b97b...                    5  \n",
       "002e86fa45263cfe8429dcaa1b37e8abbf57b596e6f45bd...                    0  "
      ]
     },
     "execution_count": 88,
     "metadata": {},
     "output_type": "execute_result"
    }
   ],
   "source": [
    "concat_raleigh_lubbock = pd.concat([concat_df,concat_lubbock])\n",
    "concat_raleigh_lubbock[\"credit_score_grouped\"],credit_score_bins = pd.qcut(concat_raleigh_lubbock[\"credit_score\"],10,labels=np.arange(10),retbins=True)\n",
    "concat_raleigh_lubbock.head()"
   ]
  },
  {
   "cell_type": "code",
   "execution_count": 89,
   "metadata": {},
   "outputs": [
    {
     "data": {
      "text/plain": [
       "array([  1., 612., 637., 655., 672., 689., 705., 723., 749., 783., 849.])"
      ]
     },
     "execution_count": 89,
     "metadata": {},
     "output_type": "execute_result"
    }
   ],
   "source": [
    "credit_score_bins"
   ]
  },
  {
   "cell_type": "code",
   "execution_count": 90,
   "metadata": {},
   "outputs": [
    {
     "data": {
      "text/plain": [
       "0    2057\n",
       "4    2057\n",
       "1    2044\n",
       "7    2041\n",
       "2    2018\n",
       "6    2007\n",
       "8    2000\n",
       "3    1985\n",
       "9    1974\n",
       "5    1929\n",
       "Name: credit_score_grouped, dtype: int64"
      ]
     },
     "execution_count": 90,
     "metadata": {},
     "output_type": "execute_result"
    }
   ],
   "source": [
    "concat_raleigh_lubbock[\"credit_score_grouped\"].value_counts()"
   ]
  },
  {
   "cell_type": "code",
   "execution_count": 91,
   "metadata": {},
   "outputs": [
    {
     "data": {
      "text/plain": [
       "3    2400\n",
       "1    2187\n",
       "0    2094\n",
       "7    2051\n",
       "5    2012\n",
       "8    1931\n",
       "4    1910\n",
       "2    1864\n",
       "9    1834\n",
       "6    1829\n",
       "Name: loan_amount_per_credit_score_group, dtype: int64"
      ]
     },
     "execution_count": 91,
     "metadata": {},
     "output_type": "execute_result"
    }
   ],
   "source": [
    "def our_cut(x):\n",
    "    cut,bins = pd.qcut(x, 10,labels=np.arange(10),retbins=True)\n",
    "    requested_amount_bins_dict[len(requested_amount_bins_dict)]=bins\n",
    "    return cut\n",
    "\n",
    "concat_raleigh_lubbock[\"loan_amount_per_credit_score_group\"] = concat_raleigh_lubbock.groupby('credit_score_grouped')['requested_amount'].transform(lambda x: our_cut(x))\n",
    "concat_raleigh_lubbock[\"loan_amount_per_credit_score_group\"].value_counts()"
   ]
  },
  {
   "cell_type": "code",
   "execution_count": 92,
   "metadata": {},
   "outputs": [],
   "source": [
    "def  get_credit_score_and_requested_amount_groupes(row):\n",
    "    credit_id = int(row[\"credit_score_grouped\"])\n",
    "    loan_amount_id = int(row[\"loan_amount_per_credit_score_group\"])  \n",
    "    credit_score_group = (credit_score_bins[credit_id],credit_score_bins[credit_id+1])\n",
    "    loan_amount__group = (requested_amount_bins_dict[credit_id][loan_amount_id], requested_amount_bins_dict[credit_id][loan_amount_id + 1])\n",
    "    return credit_score_group,loan_amount__group"
   ]
  },
  {
   "cell_type": "code",
   "execution_count": 93,
   "metadata": {},
   "outputs": [],
   "source": [
    "def  get_credit_score(row):\n",
    "    credit_id = int(row[\"credit_score_grouped\"])\n",
    "    credit_score_group = (credit_score_bins[credit_id],credit_score_bins[credit_id+1])\n",
    "    return credit_score_group"
   ]
  },
  {
   "cell_type": "code",
   "execution_count": 94,
   "metadata": {},
   "outputs": [],
   "source": [
    "def  get_requested_amount_groupes(row):\n",
    "    credit_id = int(row[\"credit_score_grouped\"])\n",
    "    loan_amount_id = int(row[\"loan_amount_per_credit_score_group\"])  \n",
    "    loan_amount__group = (requested_amount_bins_dict[credit_id][loan_amount_id], requested_amount_bins_dict[credit_id][loan_amount_id + 1])\n",
    "    return loan_amount__group"
   ]
  },
  {
   "cell_type": "code",
   "execution_count": 95,
   "metadata": {},
   "outputs": [
    {
     "data": {
      "text/plain": [
       "credit_score_grouped  loan_amount_per_credit_score_group\n",
       "7                     3                                     359\n",
       "9                     3                                     324\n",
       "4                     1                                     312\n",
       "8                     3                                     306\n",
       "4                     4                                     301\n",
       "                                                           ... \n",
       "9                     6                                      97\n",
       "2                     6                                      91\n",
       "4                     5                                      72\n",
       "7                     4                                      62\n",
       "9                     4                                      58\n",
       "Length: 100, dtype: int64"
      ]
     },
     "execution_count": 95,
     "metadata": {},
     "output_type": "execute_result"
    }
   ],
   "source": [
    "concat_raleigh_lubbock[[\"credit_score_grouped\",\"loan_amount_per_credit_score_group\"]].value_counts()"
   ]
  },
  {
   "cell_type": "code",
   "execution_count": 96,
   "metadata": {},
   "outputs": [
    {
     "data": {
      "text/html": [
       "<div>\n",
       "<style scoped>\n",
       "    .dataframe tbody tr th:only-of-type {\n",
       "        vertical-align: middle;\n",
       "    }\n",
       "\n",
       "    .dataframe tbody tr th {\n",
       "        vertical-align: top;\n",
       "    }\n",
       "\n",
       "    .dataframe thead th {\n",
       "        text-align: right;\n",
       "    }\n",
       "</style>\n",
       "<table border=\"1\" class=\"dataframe\">\n",
       "  <thead>\n",
       "    <tr style=\"text-align: right;\">\n",
       "      <th></th>\n",
       "      <th>credit_score_grouped</th>\n",
       "      <th>loan_amount_per_credit_score_group</th>\n",
       "    </tr>\n",
       "    <tr>\n",
       "      <th>id</th>\n",
       "      <th></th>\n",
       "      <th></th>\n",
       "    </tr>\n",
       "  </thead>\n",
       "  <tbody>\n",
       "    <tr>\n",
       "      <th>0000944c6eb064d675539d8deaff65acd38cecfba22862b4ce639fac845d7981</th>\n",
       "      <td>9</td>\n",
       "      <td>1</td>\n",
       "    </tr>\n",
       "    <tr>\n",
       "      <th>0003290aea2ca5f7da83d2f32d0c783998906346e998926fb5c96c6923d014b3</th>\n",
       "      <td>2</td>\n",
       "      <td>1</td>\n",
       "    </tr>\n",
       "    <tr>\n",
       "      <th>0005ca5ea9f8399dddee878b7c9694d618a9a1b9d0915267a0b0b38eab5f7d05</th>\n",
       "      <td>5</td>\n",
       "      <td>0</td>\n",
       "    </tr>\n",
       "    <tr>\n",
       "      <th>00205f2f999895bde728aebcd83707fa204ec44e203b97bbd7dd3c902c3d2245</th>\n",
       "      <td>5</td>\n",
       "      <td>8</td>\n",
       "    </tr>\n",
       "    <tr>\n",
       "      <th>002e86fa45263cfe8429dcaa1b37e8abbf57b596e6f45bd852440787276945cf</th>\n",
       "      <td>0</td>\n",
       "      <td>3</td>\n",
       "    </tr>\n",
       "  </tbody>\n",
       "</table>\n",
       "</div>"
      ],
      "text/plain": [
       "                                                   credit_score_grouped  \\\n",
       "id                                                                        \n",
       "0000944c6eb064d675539d8deaff65acd38cecfba22862b...                    9   \n",
       "0003290aea2ca5f7da83d2f32d0c783998906346e998926...                    2   \n",
       "0005ca5ea9f8399dddee878b7c9694d618a9a1b9d091526...                    5   \n",
       "00205f2f999895bde728aebcd83707fa204ec44e203b97b...                    5   \n",
       "002e86fa45263cfe8429dcaa1b37e8abbf57b596e6f45bd...                    0   \n",
       "\n",
       "                                                   loan_amount_per_credit_score_group  \n",
       "id                                                                                     \n",
       "0000944c6eb064d675539d8deaff65acd38cecfba22862b...                                  1  \n",
       "0003290aea2ca5f7da83d2f32d0c783998906346e998926...                                  1  \n",
       "0005ca5ea9f8399dddee878b7c9694d618a9a1b9d091526...                                  0  \n",
       "00205f2f999895bde728aebcd83707fa204ec44e203b97b...                                  8  \n",
       "002e86fa45263cfe8429dcaa1b37e8abbf57b596e6f45bd...                                  3  "
      ]
     },
     "execution_count": 96,
     "metadata": {},
     "output_type": "execute_result"
    }
   ],
   "source": [
    "concat_raleigh_lubbock = concat_raleigh_lubbock[[\"credit_score_grouped\",\"loan_amount_per_credit_score_group\"]]\n",
    "concat_raleigh_lubbock.head()"
   ]
  },
  {
   "cell_type": "code",
   "execution_count": 97,
   "metadata": {},
   "outputs": [
    {
     "data": {
      "text/html": [
       "<div>\n",
       "<style scoped>\n",
       "    .dataframe tbody tr th:only-of-type {\n",
       "        vertical-align: middle;\n",
       "    }\n",
       "\n",
       "    .dataframe tbody tr th {\n",
       "        vertical-align: top;\n",
       "    }\n",
       "\n",
       "    .dataframe thead th {\n",
       "        text-align: right;\n",
       "    }\n",
       "</style>\n",
       "<table border=\"1\" class=\"dataframe\">\n",
       "  <thead>\n",
       "    <tr style=\"text-align: right;\">\n",
       "      <th></th>\n",
       "      <th>sequence_num_raleigh</th>\n",
       "      <th>requested_amount</th>\n",
       "      <th>offered_interest_rate</th>\n",
       "      <th>offer_accepted</th>\n",
       "      <th>offer_date</th>\n",
       "      <th>credit_score</th>\n",
       "      <th>listing_term</th>\n",
       "      <th>monthly_pmt</th>\n",
       "      <th>original_state</th>\n",
       "      <th>credit_score_grouped</th>\n",
       "      <th>loan_amount_per_credit_score_group</th>\n",
       "    </tr>\n",
       "    <tr>\n",
       "      <th>id</th>\n",
       "      <th></th>\n",
       "      <th></th>\n",
       "      <th></th>\n",
       "      <th></th>\n",
       "      <th></th>\n",
       "      <th></th>\n",
       "      <th></th>\n",
       "      <th></th>\n",
       "      <th></th>\n",
       "      <th></th>\n",
       "      <th></th>\n",
       "    </tr>\n",
       "  </thead>\n",
       "  <tbody>\n",
       "    <tr>\n",
       "      <th>0000944c6eb064d675539d8deaff65acd38cecfba22862b4ce639fac845d7981</th>\n",
       "      <td>65529635d01c24822ffe6bd680ea2a0c7d44f49aa88afb...</td>\n",
       "      <td>5000.0</td>\n",
       "      <td>12.30</td>\n",
       "      <td>False</td>\n",
       "      <td>2019-12-02</td>\n",
       "      <td>791</td>\n",
       "      <td>60.0</td>\n",
       "      <td>112.0</td>\n",
       "      <td>NC</td>\n",
       "      <td>9</td>\n",
       "      <td>1</td>\n",
       "    </tr>\n",
       "    <tr>\n",
       "      <th>0003290aea2ca5f7da83d2f32d0c783998906346e998926fb5c96c6923d014b3</th>\n",
       "      <td>6ce06396232ee6df63e905b2d9e5401030570873c7c3ba...</td>\n",
       "      <td>3300.0</td>\n",
       "      <td>24.88</td>\n",
       "      <td>False</td>\n",
       "      <td>2019-01-29</td>\n",
       "      <td>645</td>\n",
       "      <td>36.0</td>\n",
       "      <td>131.0</td>\n",
       "      <td>NC</td>\n",
       "      <td>2</td>\n",
       "      <td>1</td>\n",
       "    </tr>\n",
       "    <tr>\n",
       "      <th>0005ca5ea9f8399dddee878b7c9694d618a9a1b9d0915267a0b0b38eab5f7d05</th>\n",
       "      <td>d29ac15bafd56a1444b1b06265d4c67869350f0dd86b58...</td>\n",
       "      <td>3000.0</td>\n",
       "      <td>12.94</td>\n",
       "      <td>False</td>\n",
       "      <td>2020-01-10</td>\n",
       "      <td>703</td>\n",
       "      <td>36.0</td>\n",
       "      <td>101.0</td>\n",
       "      <td>NC</td>\n",
       "      <td>5</td>\n",
       "      <td>0</td>\n",
       "    </tr>\n",
       "    <tr>\n",
       "      <th>00205f2f999895bde728aebcd83707fa204ec44e203b97bbd7dd3c902c3d2245</th>\n",
       "      <td>6061825c161146555925ce39fb27c935fb5899f39ce94b...</td>\n",
       "      <td>25000.0</td>\n",
       "      <td>13.08</td>\n",
       "      <td>False</td>\n",
       "      <td>2019-07-31</td>\n",
       "      <td>692</td>\n",
       "      <td>60.0</td>\n",
       "      <td>570.0</td>\n",
       "      <td>NC</td>\n",
       "      <td>5</td>\n",
       "      <td>8</td>\n",
       "    </tr>\n",
       "    <tr>\n",
       "      <th>002e86fa45263cfe8429dcaa1b37e8abbf57b596e6f45bd852440787276945cf</th>\n",
       "      <td>f93f7353e36814e67c17ad06878c2c9f5f810286036b9a...</td>\n",
       "      <td>3816.0</td>\n",
       "      <td>33.77</td>\n",
       "      <td>False</td>\n",
       "      <td>2020-11-23</td>\n",
       "      <td>606</td>\n",
       "      <td>36.0</td>\n",
       "      <td>170.0</td>\n",
       "      <td>NC</td>\n",
       "      <td>0</td>\n",
       "      <td>3</td>\n",
       "    </tr>\n",
       "  </tbody>\n",
       "</table>\n",
       "</div>"
      ],
      "text/plain": [
       "                                                                                 sequence_num_raleigh  \\\n",
       "id                                                                                                      \n",
       "0000944c6eb064d675539d8deaff65acd38cecfba22862b...  65529635d01c24822ffe6bd680ea2a0c7d44f49aa88afb...   \n",
       "0003290aea2ca5f7da83d2f32d0c783998906346e998926...  6ce06396232ee6df63e905b2d9e5401030570873c7c3ba...   \n",
       "0005ca5ea9f8399dddee878b7c9694d618a9a1b9d091526...  d29ac15bafd56a1444b1b06265d4c67869350f0dd86b58...   \n",
       "00205f2f999895bde728aebcd83707fa204ec44e203b97b...  6061825c161146555925ce39fb27c935fb5899f39ce94b...   \n",
       "002e86fa45263cfe8429dcaa1b37e8abbf57b596e6f45bd...  f93f7353e36814e67c17ad06878c2c9f5f810286036b9a...   \n",
       "\n",
       "                                                    requested_amount  \\\n",
       "id                                                                     \n",
       "0000944c6eb064d675539d8deaff65acd38cecfba22862b...            5000.0   \n",
       "0003290aea2ca5f7da83d2f32d0c783998906346e998926...            3300.0   \n",
       "0005ca5ea9f8399dddee878b7c9694d618a9a1b9d091526...            3000.0   \n",
       "00205f2f999895bde728aebcd83707fa204ec44e203b97b...           25000.0   \n",
       "002e86fa45263cfe8429dcaa1b37e8abbf57b596e6f45bd...            3816.0   \n",
       "\n",
       "                                                    offered_interest_rate  \\\n",
       "id                                                                          \n",
       "0000944c6eb064d675539d8deaff65acd38cecfba22862b...                  12.30   \n",
       "0003290aea2ca5f7da83d2f32d0c783998906346e998926...                  24.88   \n",
       "0005ca5ea9f8399dddee878b7c9694d618a9a1b9d091526...                  12.94   \n",
       "00205f2f999895bde728aebcd83707fa204ec44e203b97b...                  13.08   \n",
       "002e86fa45263cfe8429dcaa1b37e8abbf57b596e6f45bd...                  33.77   \n",
       "\n",
       "                                                    offer_accepted  \\\n",
       "id                                                                   \n",
       "0000944c6eb064d675539d8deaff65acd38cecfba22862b...           False   \n",
       "0003290aea2ca5f7da83d2f32d0c783998906346e998926...           False   \n",
       "0005ca5ea9f8399dddee878b7c9694d618a9a1b9d091526...           False   \n",
       "00205f2f999895bde728aebcd83707fa204ec44e203b97b...           False   \n",
       "002e86fa45263cfe8429dcaa1b37e8abbf57b596e6f45bd...           False   \n",
       "\n",
       "                                                    offer_date  credit_score  \\\n",
       "id                                                                             \n",
       "0000944c6eb064d675539d8deaff65acd38cecfba22862b...  2019-12-02           791   \n",
       "0003290aea2ca5f7da83d2f32d0c783998906346e998926...  2019-01-29           645   \n",
       "0005ca5ea9f8399dddee878b7c9694d618a9a1b9d091526...  2020-01-10           703   \n",
       "00205f2f999895bde728aebcd83707fa204ec44e203b97b...  2019-07-31           692   \n",
       "002e86fa45263cfe8429dcaa1b37e8abbf57b596e6f45bd...  2020-11-23           606   \n",
       "\n",
       "                                                    listing_term  monthly_pmt  \\\n",
       "id                                                                              \n",
       "0000944c6eb064d675539d8deaff65acd38cecfba22862b...          60.0        112.0   \n",
       "0003290aea2ca5f7da83d2f32d0c783998906346e998926...          36.0        131.0   \n",
       "0005ca5ea9f8399dddee878b7c9694d618a9a1b9d091526...          36.0        101.0   \n",
       "00205f2f999895bde728aebcd83707fa204ec44e203b97b...          60.0        570.0   \n",
       "002e86fa45263cfe8429dcaa1b37e8abbf57b596e6f45bd...          36.0        170.0   \n",
       "\n",
       "                                                   original_state  \\\n",
       "id                                                                  \n",
       "0000944c6eb064d675539d8deaff65acd38cecfba22862b...             NC   \n",
       "0003290aea2ca5f7da83d2f32d0c783998906346e998926...             NC   \n",
       "0005ca5ea9f8399dddee878b7c9694d618a9a1b9d091526...             NC   \n",
       "00205f2f999895bde728aebcd83707fa204ec44e203b97b...             NC   \n",
       "002e86fa45263cfe8429dcaa1b37e8abbf57b596e6f45bd...             NC   \n",
       "\n",
       "                                                   credit_score_grouped  \\\n",
       "id                                                                        \n",
       "0000944c6eb064d675539d8deaff65acd38cecfba22862b...                    9   \n",
       "0003290aea2ca5f7da83d2f32d0c783998906346e998926...                    2   \n",
       "0005ca5ea9f8399dddee878b7c9694d618a9a1b9d091526...                    5   \n",
       "00205f2f999895bde728aebcd83707fa204ec44e203b97b...                    5   \n",
       "002e86fa45263cfe8429dcaa1b37e8abbf57b596e6f45bd...                    0   \n",
       "\n",
       "                                                   loan_amount_per_credit_score_group  \n",
       "id                                                                                     \n",
       "0000944c6eb064d675539d8deaff65acd38cecfba22862b...                                  1  \n",
       "0003290aea2ca5f7da83d2f32d0c783998906346e998926...                                  1  \n",
       "0005ca5ea9f8399dddee878b7c9694d618a9a1b9d091526...                                  0  \n",
       "00205f2f999895bde728aebcd83707fa204ec44e203b97b...                                  8  \n",
       "002e86fa45263cfe8429dcaa1b37e8abbf57b596e6f45bd...                                  3  "
      ]
     },
     "execution_count": 97,
     "metadata": {},
     "output_type": "execute_result"
    }
   ],
   "source": [
    "concat_df = concat_df.join(concat_raleigh_lubbock, how='left', lsuffix='')\n",
    "concat_lubbock = concat_lubbock.join(concat_raleigh_lubbock, how='left', lsuffix='')\n",
    "concat_df.head()"
   ]
  },
  {
   "cell_type": "code",
   "execution_count": 98,
   "metadata": {},
   "outputs": [
    {
     "data": {
      "text/html": [
       "<div>\n",
       "<style scoped>\n",
       "    .dataframe tbody tr th:only-of-type {\n",
       "        vertical-align: middle;\n",
       "    }\n",
       "\n",
       "    .dataframe tbody tr th {\n",
       "        vertical-align: top;\n",
       "    }\n",
       "\n",
       "    .dataframe thead th {\n",
       "        text-align: right;\n",
       "    }\n",
       "</style>\n",
       "<table border=\"1\" class=\"dataframe\">\n",
       "  <thead>\n",
       "    <tr style=\"text-align: right;\">\n",
       "      <th></th>\n",
       "      <th>sequence_num_lubbock</th>\n",
       "      <th>requested_amount</th>\n",
       "      <th>offered_interest_rate</th>\n",
       "      <th>offer_accepted</th>\n",
       "      <th>offer_date</th>\n",
       "      <th>credit_score</th>\n",
       "      <th>listing_term</th>\n",
       "      <th>monthly_pmt</th>\n",
       "      <th>original_state</th>\n",
       "      <th>credit_score_grouped</th>\n",
       "      <th>loan_amount_per_credit_score_group</th>\n",
       "    </tr>\n",
       "    <tr>\n",
       "      <th>id</th>\n",
       "      <th></th>\n",
       "      <th></th>\n",
       "      <th></th>\n",
       "      <th></th>\n",
       "      <th></th>\n",
       "      <th></th>\n",
       "      <th></th>\n",
       "      <th></th>\n",
       "      <th></th>\n",
       "      <th></th>\n",
       "      <th></th>\n",
       "    </tr>\n",
       "  </thead>\n",
       "  <tbody>\n",
       "    <tr>\n",
       "      <th>00081387dcef0fab60c7f9f94669cc6df140531c9e0a55c0e98b55dc5aef08d6</th>\n",
       "      <td>35357872fbcfec327a4c7665f08a98f0dc55eb19969f36...</td>\n",
       "      <td>4070.0</td>\n",
       "      <td>8.24</td>\n",
       "      <td>False</td>\n",
       "      <td>2020-07-10</td>\n",
       "      <td>735</td>\n",
       "      <td>36.0</td>\n",
       "      <td>128.0</td>\n",
       "      <td>TX</td>\n",
       "      <td>7</td>\n",
       "      <td>1</td>\n",
       "    </tr>\n",
       "    <tr>\n",
       "      <th>00090fdbe1fc33bf53dda546318c248cb6fe4299ad39dd9db2abd4c32ed2e152</th>\n",
       "      <td>6c98c998cb4bd242edbd55164eeed3927372264f8395b8...</td>\n",
       "      <td>5550.0</td>\n",
       "      <td>16.68</td>\n",
       "      <td>False</td>\n",
       "      <td>2020-06-02</td>\n",
       "      <td>636</td>\n",
       "      <td>36.0</td>\n",
       "      <td>197.0</td>\n",
       "      <td>TX</td>\n",
       "      <td>1</td>\n",
       "      <td>4</td>\n",
       "    </tr>\n",
       "    <tr>\n",
       "      <th>000aa5e29eadd0bd7e2c9649d0ed986af4848895b6a4fa7883c67dd56b5b75ac</th>\n",
       "      <td>921cda1c86bc82347ea8168a894918f8ae857cdbbdb9a5...</td>\n",
       "      <td>25000.0</td>\n",
       "      <td>7.18</td>\n",
       "      <td>False</td>\n",
       "      <td>2019-06-19</td>\n",
       "      <td>664</td>\n",
       "      <td>36.0</td>\n",
       "      <td>774.0</td>\n",
       "      <td>TX</td>\n",
       "      <td>3</td>\n",
       "      <td>8</td>\n",
       "    </tr>\n",
       "    <tr>\n",
       "      <th>001046cb99ae36567910bdd6fd907622cdc8aefb1689d66339fcb59353be46e2</th>\n",
       "      <td>0637e25695fcabdcec43d21364397793a169bd8b6977ed...</td>\n",
       "      <td>20000.0</td>\n",
       "      <td>6.68</td>\n",
       "      <td>False</td>\n",
       "      <td>2018-02-20</td>\n",
       "      <td>819</td>\n",
       "      <td>60.0</td>\n",
       "      <td>393.0</td>\n",
       "      <td>TX</td>\n",
       "      <td>9</td>\n",
       "      <td>7</td>\n",
       "    </tr>\n",
       "    <tr>\n",
       "      <th>00176f09e7f3c4c864098d84a1f07e632fcce67f4d8d1b7ae08aabd5961227f3</th>\n",
       "      <td>1448249d369054a06a82acb4003d3daee61574935da0a8...</td>\n",
       "      <td>10000.0</td>\n",
       "      <td>8.99</td>\n",
       "      <td>False</td>\n",
       "      <td>2019-09-27</td>\n",
       "      <td>780</td>\n",
       "      <td>36.0</td>\n",
       "      <td>318.0</td>\n",
       "      <td>TX</td>\n",
       "      <td>8</td>\n",
       "      <td>3</td>\n",
       "    </tr>\n",
       "  </tbody>\n",
       "</table>\n",
       "</div>"
      ],
      "text/plain": [
       "                                                                                 sequence_num_lubbock  \\\n",
       "id                                                                                                      \n",
       "00081387dcef0fab60c7f9f94669cc6df140531c9e0a55c...  35357872fbcfec327a4c7665f08a98f0dc55eb19969f36...   \n",
       "00090fdbe1fc33bf53dda546318c248cb6fe4299ad39dd9...  6c98c998cb4bd242edbd55164eeed3927372264f8395b8...   \n",
       "000aa5e29eadd0bd7e2c9649d0ed986af4848895b6a4fa7...  921cda1c86bc82347ea8168a894918f8ae857cdbbdb9a5...   \n",
       "001046cb99ae36567910bdd6fd907622cdc8aefb1689d66...  0637e25695fcabdcec43d21364397793a169bd8b6977ed...   \n",
       "00176f09e7f3c4c864098d84a1f07e632fcce67f4d8d1b7...  1448249d369054a06a82acb4003d3daee61574935da0a8...   \n",
       "\n",
       "                                                    requested_amount  \\\n",
       "id                                                                     \n",
       "00081387dcef0fab60c7f9f94669cc6df140531c9e0a55c...            4070.0   \n",
       "00090fdbe1fc33bf53dda546318c248cb6fe4299ad39dd9...            5550.0   \n",
       "000aa5e29eadd0bd7e2c9649d0ed986af4848895b6a4fa7...           25000.0   \n",
       "001046cb99ae36567910bdd6fd907622cdc8aefb1689d66...           20000.0   \n",
       "00176f09e7f3c4c864098d84a1f07e632fcce67f4d8d1b7...           10000.0   \n",
       "\n",
       "                                                    offered_interest_rate  \\\n",
       "id                                                                          \n",
       "00081387dcef0fab60c7f9f94669cc6df140531c9e0a55c...                   8.24   \n",
       "00090fdbe1fc33bf53dda546318c248cb6fe4299ad39dd9...                  16.68   \n",
       "000aa5e29eadd0bd7e2c9649d0ed986af4848895b6a4fa7...                   7.18   \n",
       "001046cb99ae36567910bdd6fd907622cdc8aefb1689d66...                   6.68   \n",
       "00176f09e7f3c4c864098d84a1f07e632fcce67f4d8d1b7...                   8.99   \n",
       "\n",
       "                                                    offer_accepted  \\\n",
       "id                                                                   \n",
       "00081387dcef0fab60c7f9f94669cc6df140531c9e0a55c...           False   \n",
       "00090fdbe1fc33bf53dda546318c248cb6fe4299ad39dd9...           False   \n",
       "000aa5e29eadd0bd7e2c9649d0ed986af4848895b6a4fa7...           False   \n",
       "001046cb99ae36567910bdd6fd907622cdc8aefb1689d66...           False   \n",
       "00176f09e7f3c4c864098d84a1f07e632fcce67f4d8d1b7...           False   \n",
       "\n",
       "                                                    offer_date  credit_score  \\\n",
       "id                                                                             \n",
       "00081387dcef0fab60c7f9f94669cc6df140531c9e0a55c...  2020-07-10           735   \n",
       "00090fdbe1fc33bf53dda546318c248cb6fe4299ad39dd9...  2020-06-02           636   \n",
       "000aa5e29eadd0bd7e2c9649d0ed986af4848895b6a4fa7...  2019-06-19           664   \n",
       "001046cb99ae36567910bdd6fd907622cdc8aefb1689d66...  2018-02-20           819   \n",
       "00176f09e7f3c4c864098d84a1f07e632fcce67f4d8d1b7...  2019-09-27           780   \n",
       "\n",
       "                                                    listing_term  monthly_pmt  \\\n",
       "id                                                                              \n",
       "00081387dcef0fab60c7f9f94669cc6df140531c9e0a55c...          36.0        128.0   \n",
       "00090fdbe1fc33bf53dda546318c248cb6fe4299ad39dd9...          36.0        197.0   \n",
       "000aa5e29eadd0bd7e2c9649d0ed986af4848895b6a4fa7...          36.0        774.0   \n",
       "001046cb99ae36567910bdd6fd907622cdc8aefb1689d66...          60.0        393.0   \n",
       "00176f09e7f3c4c864098d84a1f07e632fcce67f4d8d1b7...          36.0        318.0   \n",
       "\n",
       "                                                   original_state  \\\n",
       "id                                                                  \n",
       "00081387dcef0fab60c7f9f94669cc6df140531c9e0a55c...             TX   \n",
       "00090fdbe1fc33bf53dda546318c248cb6fe4299ad39dd9...             TX   \n",
       "000aa5e29eadd0bd7e2c9649d0ed986af4848895b6a4fa7...             TX   \n",
       "001046cb99ae36567910bdd6fd907622cdc8aefb1689d66...             TX   \n",
       "00176f09e7f3c4c864098d84a1f07e632fcce67f4d8d1b7...             TX   \n",
       "\n",
       "                                                   credit_score_grouped  \\\n",
       "id                                                                        \n",
       "00081387dcef0fab60c7f9f94669cc6df140531c9e0a55c...                    7   \n",
       "00090fdbe1fc33bf53dda546318c248cb6fe4299ad39dd9...                    1   \n",
       "000aa5e29eadd0bd7e2c9649d0ed986af4848895b6a4fa7...                    3   \n",
       "001046cb99ae36567910bdd6fd907622cdc8aefb1689d66...                    9   \n",
       "00176f09e7f3c4c864098d84a1f07e632fcce67f4d8d1b7...                    8   \n",
       "\n",
       "                                                   loan_amount_per_credit_score_group  \n",
       "id                                                                                     \n",
       "00081387dcef0fab60c7f9f94669cc6df140531c9e0a55c...                                  1  \n",
       "00090fdbe1fc33bf53dda546318c248cb6fe4299ad39dd9...                                  4  \n",
       "000aa5e29eadd0bd7e2c9649d0ed986af4848895b6a4fa7...                                  8  \n",
       "001046cb99ae36567910bdd6fd907622cdc8aefb1689d66...                                  7  \n",
       "00176f09e7f3c4c864098d84a1f07e632fcce67f4d8d1b7...                                  3  "
      ]
     },
     "execution_count": 98,
     "metadata": {},
     "output_type": "execute_result"
    }
   ],
   "source": [
    "concat_lubbock.head()"
   ]
  },
  {
   "cell_type": "code",
   "execution_count": 99,
   "metadata": {
    "tags": []
   },
   "outputs": [],
   "source": [
    "grouped_lubbock = concat_lubbock.groupby([\"credit_score_grouped\",\"loan_amount_per_credit_score_group\"])[\"offer_accepted\"].agg(['sum','count'])\n",
    "grouped_lubbock.columns = ['sum_lubbock','count_lubbock']\n",
    "grouped_raleigh = concat_df.groupby([\"credit_score_grouped\",\"loan_amount_per_credit_score_group\"])[\"offer_accepted\"].agg(['sum','count'])\n",
    "grouped_raleigh.columns = ['sum_raleigh','count_raleigh']\n",
    "grouped_result = grouped_lubbock.join(grouped_raleigh, how='left', lsuffix='_raleigh')"
   ]
  },
  {
   "cell_type": "markdown",
   "metadata": {},
   "source": [
    "Run an a/b test on each of the bins in your data and create a $10\\times 10$ table containing the $p$ value of each test."
   ]
  },
  {
   "cell_type": "code",
   "execution_count": 100,
   "metadata": {},
   "outputs": [],
   "source": [
    "def calc_p_value(row):\n",
    "    count = np.array([row[\"sum_raleigh\"],row[\"sum_lubbock\"]]) \n",
    "    nobs = np.array([row[\"count_raleigh\"],row[\"count_lubbock\"]]) \n",
    "    return proportions_ztest(count = count, nobs = nobs, value=0, alternative='larger', prop_var=False)[1]\n",
    "grouped_result[\"p_value\"] = grouped_result.apply(calc_p_value,axis=1)"
   ]
  },
  {
   "cell_type": "code",
   "execution_count": 101,
   "metadata": {
    "tags": []
   },
   "outputs": [],
   "source": [
    "grouped_result_for_map = grouped_result.drop([\"sum_raleigh\",\"sum_lubbock\",\"count_raleigh\",\"count_lubbock\"],axis=1).unstack(fill_value=0)"
   ]
  },
  {
   "cell_type": "code",
   "execution_count": 102,
   "metadata": {},
   "outputs": [
    {
     "data": {
      "text/html": [
       "<div>\n",
       "<style scoped>\n",
       "    .dataframe tbody tr th:only-of-type {\n",
       "        vertical-align: middle;\n",
       "    }\n",
       "\n",
       "    .dataframe tbody tr th {\n",
       "        vertical-align: top;\n",
       "    }\n",
       "\n",
       "    .dataframe thead th {\n",
       "        text-align: right;\n",
       "    }\n",
       "</style>\n",
       "<table border=\"1\" class=\"dataframe\">\n",
       "  <thead>\n",
       "    <tr style=\"text-align: right;\">\n",
       "      <th></th>\n",
       "      <th></th>\n",
       "      <th>sum_lubbock</th>\n",
       "      <th>count_lubbock</th>\n",
       "      <th>sum_raleigh</th>\n",
       "      <th>count_raleigh</th>\n",
       "      <th>p_value</th>\n",
       "    </tr>\n",
       "    <tr>\n",
       "      <th>credit_score_grouped</th>\n",
       "      <th>loan_amount_per_credit_score_group</th>\n",
       "      <th></th>\n",
       "      <th></th>\n",
       "      <th></th>\n",
       "      <th></th>\n",
       "      <th></th>\n",
       "    </tr>\n",
       "  </thead>\n",
       "  <tbody>\n",
       "    <tr>\n",
       "      <th rowspan=\"5\" valign=\"top\">0</th>\n",
       "      <th>0</th>\n",
       "      <td>1</td>\n",
       "      <td>115</td>\n",
       "      <td>9</td>\n",
       "      <td>91</td>\n",
       "      <td>0.001387</td>\n",
       "    </tr>\n",
       "    <tr>\n",
       "      <th>1</th>\n",
       "      <td>3</td>\n",
       "      <td>122</td>\n",
       "      <td>17</td>\n",
       "      <td>100</td>\n",
       "      <td>0.000083</td>\n",
       "    </tr>\n",
       "    <tr>\n",
       "      <th>2</th>\n",
       "      <td>1</td>\n",
       "      <td>110</td>\n",
       "      <td>8</td>\n",
       "      <td>79</td>\n",
       "      <td>0.001668</td>\n",
       "    </tr>\n",
       "    <tr>\n",
       "      <th>3</th>\n",
       "      <td>1</td>\n",
       "      <td>121</td>\n",
       "      <td>3</td>\n",
       "      <td>85</td>\n",
       "      <td>0.083162</td>\n",
       "    </tr>\n",
       "    <tr>\n",
       "      <th>4</th>\n",
       "      <td>4</td>\n",
       "      <td>109</td>\n",
       "      <td>9</td>\n",
       "      <td>103</td>\n",
       "      <td>0.062114</td>\n",
       "    </tr>\n",
       "    <tr>\n",
       "      <th>...</th>\n",
       "      <th>...</th>\n",
       "      <td>...</td>\n",
       "      <td>...</td>\n",
       "      <td>...</td>\n",
       "      <td>...</td>\n",
       "      <td>...</td>\n",
       "    </tr>\n",
       "    <tr>\n",
       "      <th rowspan=\"5\" valign=\"top\">9</th>\n",
       "      <th>5</th>\n",
       "      <td>29</td>\n",
       "      <td>183</td>\n",
       "      <td>22</td>\n",
       "      <td>117</td>\n",
       "      <td>0.253055</td>\n",
       "    </tr>\n",
       "    <tr>\n",
       "      <th>6</th>\n",
       "      <td>5</td>\n",
       "      <td>57</td>\n",
       "      <td>9</td>\n",
       "      <td>40</td>\n",
       "      <td>0.029118</td>\n",
       "    </tr>\n",
       "    <tr>\n",
       "      <th>7</th>\n",
       "      <td>14</td>\n",
       "      <td>105</td>\n",
       "      <td>10</td>\n",
       "      <td>88</td>\n",
       "      <td>0.660202</td>\n",
       "    </tr>\n",
       "    <tr>\n",
       "      <th>8</th>\n",
       "      <td>10</td>\n",
       "      <td>126</td>\n",
       "      <td>18</td>\n",
       "      <td>106</td>\n",
       "      <td>0.017577</td>\n",
       "    </tr>\n",
       "    <tr>\n",
       "      <th>9</th>\n",
       "      <td>13</td>\n",
       "      <td>93</td>\n",
       "      <td>16</td>\n",
       "      <td>69</td>\n",
       "      <td>0.065266</td>\n",
       "    </tr>\n",
       "  </tbody>\n",
       "</table>\n",
       "<p>100 rows × 5 columns</p>\n",
       "</div>"
      ],
      "text/plain": [
       "                                                         sum_lubbock  \\\n",
       "credit_score_grouped loan_amount_per_credit_score_group                \n",
       "0                    0                                             1   \n",
       "                     1                                             3   \n",
       "                     2                                             1   \n",
       "                     3                                             1   \n",
       "                     4                                             4   \n",
       "...                                                              ...   \n",
       "9                    5                                            29   \n",
       "                     6                                             5   \n",
       "                     7                                            14   \n",
       "                     8                                            10   \n",
       "                     9                                            13   \n",
       "\n",
       "                                                         count_lubbock  \\\n",
       "credit_score_grouped loan_amount_per_credit_score_group                  \n",
       "0                    0                                             115   \n",
       "                     1                                             122   \n",
       "                     2                                             110   \n",
       "                     3                                             121   \n",
       "                     4                                             109   \n",
       "...                                                                ...   \n",
       "9                    5                                             183   \n",
       "                     6                                              57   \n",
       "                     7                                             105   \n",
       "                     8                                             126   \n",
       "                     9                                              93   \n",
       "\n",
       "                                                         sum_raleigh  \\\n",
       "credit_score_grouped loan_amount_per_credit_score_group                \n",
       "0                    0                                             9   \n",
       "                     1                                            17   \n",
       "                     2                                             8   \n",
       "                     3                                             3   \n",
       "                     4                                             9   \n",
       "...                                                              ...   \n",
       "9                    5                                            22   \n",
       "                     6                                             9   \n",
       "                     7                                            10   \n",
       "                     8                                            18   \n",
       "                     9                                            16   \n",
       "\n",
       "                                                         count_raleigh  \\\n",
       "credit_score_grouped loan_amount_per_credit_score_group                  \n",
       "0                    0                                              91   \n",
       "                     1                                             100   \n",
       "                     2                                              79   \n",
       "                     3                                              85   \n",
       "                     4                                             103   \n",
       "...                                                                ...   \n",
       "9                    5                                             117   \n",
       "                     6                                              40   \n",
       "                     7                                              88   \n",
       "                     8                                             106   \n",
       "                     9                                              69   \n",
       "\n",
       "                                                          p_value  \n",
       "credit_score_grouped loan_amount_per_credit_score_group            \n",
       "0                    0                                   0.001387  \n",
       "                     1                                   0.000083  \n",
       "                     2                                   0.001668  \n",
       "                     3                                   0.083162  \n",
       "                     4                                   0.062114  \n",
       "...                                                           ...  \n",
       "9                    5                                   0.253055  \n",
       "                     6                                   0.029118  \n",
       "                     7                                   0.660202  \n",
       "                     8                                   0.017577  \n",
       "                     9                                   0.065266  \n",
       "\n",
       "[100 rows x 5 columns]"
      ]
     },
     "execution_count": 102,
     "metadata": {},
     "output_type": "execute_result"
    }
   ],
   "source": [
    "grouped_result"
   ]
  },
  {
   "cell_type": "code",
   "execution_count": 103,
   "metadata": {},
   "outputs": [
    {
     "data": {
      "text/html": [
       "<div>\n",
       "<style scoped>\n",
       "    .dataframe tbody tr th:only-of-type {\n",
       "        vertical-align: middle;\n",
       "    }\n",
       "\n",
       "    .dataframe tbody tr th {\n",
       "        vertical-align: top;\n",
       "    }\n",
       "\n",
       "    .dataframe thead tr th {\n",
       "        text-align: left;\n",
       "    }\n",
       "\n",
       "    .dataframe thead tr:last-of-type th {\n",
       "        text-align: right;\n",
       "    }\n",
       "</style>\n",
       "<table border=\"1\" class=\"dataframe\">\n",
       "  <thead>\n",
       "    <tr>\n",
       "      <th></th>\n",
       "      <th colspan=\"10\" halign=\"left\">p_value</th>\n",
       "    </tr>\n",
       "    <tr>\n",
       "      <th>loan_amount_per_credit_score_group</th>\n",
       "      <th>0</th>\n",
       "      <th>1</th>\n",
       "      <th>2</th>\n",
       "      <th>3</th>\n",
       "      <th>4</th>\n",
       "      <th>5</th>\n",
       "      <th>6</th>\n",
       "      <th>7</th>\n",
       "      <th>8</th>\n",
       "      <th>9</th>\n",
       "    </tr>\n",
       "    <tr>\n",
       "      <th>credit_score_grouped</th>\n",
       "      <th></th>\n",
       "      <th></th>\n",
       "      <th></th>\n",
       "      <th></th>\n",
       "      <th></th>\n",
       "      <th></th>\n",
       "      <th></th>\n",
       "      <th></th>\n",
       "      <th></th>\n",
       "      <th></th>\n",
       "    </tr>\n",
       "  </thead>\n",
       "  <tbody>\n",
       "    <tr>\n",
       "      <th>0</th>\n",
       "      <td>0.001387</td>\n",
       "      <td>0.000083</td>\n",
       "      <td>0.001668</td>\n",
       "      <td>0.083162</td>\n",
       "      <td>0.062114</td>\n",
       "      <td>0.000868</td>\n",
       "      <td>0.000074</td>\n",
       "      <td>0.062155</td>\n",
       "      <td>0.000003</td>\n",
       "      <td>0.006765</td>\n",
       "    </tr>\n",
       "    <tr>\n",
       "      <th>1</th>\n",
       "      <td>0.000894</td>\n",
       "      <td>0.249587</td>\n",
       "      <td>0.241041</td>\n",
       "      <td>0.344056</td>\n",
       "      <td>0.007952</td>\n",
       "      <td>0.011349</td>\n",
       "      <td>0.016454</td>\n",
       "      <td>0.230610</td>\n",
       "      <td>0.203381</td>\n",
       "      <td>0.190078</td>\n",
       "    </tr>\n",
       "    <tr>\n",
       "      <th>2</th>\n",
       "      <td>0.134296</td>\n",
       "      <td>0.093373</td>\n",
       "      <td>0.495051</td>\n",
       "      <td>0.099481</td>\n",
       "      <td>0.318508</td>\n",
       "      <td>0.007938</td>\n",
       "      <td>0.138716</td>\n",
       "      <td>0.049993</td>\n",
       "      <td>0.044686</td>\n",
       "      <td>0.022403</td>\n",
       "    </tr>\n",
       "    <tr>\n",
       "      <th>3</th>\n",
       "      <td>0.178387</td>\n",
       "      <td>0.038137</td>\n",
       "      <td>0.182196</td>\n",
       "      <td>0.006407</td>\n",
       "      <td>0.207943</td>\n",
       "      <td>0.130719</td>\n",
       "      <td>0.358192</td>\n",
       "      <td>0.074957</td>\n",
       "      <td>0.379395</td>\n",
       "      <td>0.495278</td>\n",
       "    </tr>\n",
       "    <tr>\n",
       "      <th>4</th>\n",
       "      <td>0.215514</td>\n",
       "      <td>0.053161</td>\n",
       "      <td>0.189042</td>\n",
       "      <td>0.040173</td>\n",
       "      <td>0.023232</td>\n",
       "      <td>0.893830</td>\n",
       "      <td>0.192816</td>\n",
       "      <td>NaN</td>\n",
       "      <td>0.289970</td>\n",
       "      <td>0.358625</td>\n",
       "    </tr>\n",
       "    <tr>\n",
       "      <th>5</th>\n",
       "      <td>0.000222</td>\n",
       "      <td>0.043176</td>\n",
       "      <td>0.002623</td>\n",
       "      <td>0.050018</td>\n",
       "      <td>0.748927</td>\n",
       "      <td>0.194644</td>\n",
       "      <td>0.186542</td>\n",
       "      <td>0.157437</td>\n",
       "      <td>0.079624</td>\n",
       "      <td>0.009442</td>\n",
       "    </tr>\n",
       "    <tr>\n",
       "      <th>6</th>\n",
       "      <td>0.108647</td>\n",
       "      <td>0.957770</td>\n",
       "      <td>0.308379</td>\n",
       "      <td>0.346092</td>\n",
       "      <td>0.389232</td>\n",
       "      <td>0.753335</td>\n",
       "      <td>0.266041</td>\n",
       "      <td>0.170263</td>\n",
       "      <td>0.160812</td>\n",
       "      <td>0.235747</td>\n",
       "    </tr>\n",
       "    <tr>\n",
       "      <th>7</th>\n",
       "      <td>0.268435</td>\n",
       "      <td>0.697357</td>\n",
       "      <td>0.013666</td>\n",
       "      <td>0.102015</td>\n",
       "      <td>0.407125</td>\n",
       "      <td>0.117820</td>\n",
       "      <td>0.004069</td>\n",
       "      <td>0.157307</td>\n",
       "      <td>0.001983</td>\n",
       "      <td>0.463425</td>\n",
       "    </tr>\n",
       "    <tr>\n",
       "      <th>8</th>\n",
       "      <td>0.291921</td>\n",
       "      <td>0.752341</td>\n",
       "      <td>0.133707</td>\n",
       "      <td>0.031665</td>\n",
       "      <td>0.344065</td>\n",
       "      <td>0.108880</td>\n",
       "      <td>0.936123</td>\n",
       "      <td>0.061570</td>\n",
       "      <td>0.207089</td>\n",
       "      <td>0.465809</td>\n",
       "    </tr>\n",
       "    <tr>\n",
       "      <th>9</th>\n",
       "      <td>0.446284</td>\n",
       "      <td>0.065872</td>\n",
       "      <td>0.738245</td>\n",
       "      <td>0.201314</td>\n",
       "      <td>0.663714</td>\n",
       "      <td>0.253055</td>\n",
       "      <td>0.029118</td>\n",
       "      <td>0.660202</td>\n",
       "      <td>0.017577</td>\n",
       "      <td>0.065266</td>\n",
       "    </tr>\n",
       "  </tbody>\n",
       "</table>\n",
       "</div>"
      ],
      "text/plain": [
       "                                     p_value                                \\\n",
       "loan_amount_per_credit_score_group         0         1         2         3   \n",
       "credit_score_grouped                                                         \n",
       "0                                   0.001387  0.000083  0.001668  0.083162   \n",
       "1                                   0.000894  0.249587  0.241041  0.344056   \n",
       "2                                   0.134296  0.093373  0.495051  0.099481   \n",
       "3                                   0.178387  0.038137  0.182196  0.006407   \n",
       "4                                   0.215514  0.053161  0.189042  0.040173   \n",
       "5                                   0.000222  0.043176  0.002623  0.050018   \n",
       "6                                   0.108647  0.957770  0.308379  0.346092   \n",
       "7                                   0.268435  0.697357  0.013666  0.102015   \n",
       "8                                   0.291921  0.752341  0.133707  0.031665   \n",
       "9                                   0.446284  0.065872  0.738245  0.201314   \n",
       "\n",
       "                                                                            \\\n",
       "loan_amount_per_credit_score_group         4         5         6         7   \n",
       "credit_score_grouped                                                         \n",
       "0                                   0.062114  0.000868  0.000074  0.062155   \n",
       "1                                   0.007952  0.011349  0.016454  0.230610   \n",
       "2                                   0.318508  0.007938  0.138716  0.049993   \n",
       "3                                   0.207943  0.130719  0.358192  0.074957   \n",
       "4                                   0.023232  0.893830  0.192816       NaN   \n",
       "5                                   0.748927  0.194644  0.186542  0.157437   \n",
       "6                                   0.389232  0.753335  0.266041  0.170263   \n",
       "7                                   0.407125  0.117820  0.004069  0.157307   \n",
       "8                                   0.344065  0.108880  0.936123  0.061570   \n",
       "9                                   0.663714  0.253055  0.029118  0.660202   \n",
       "\n",
       "                                                        \n",
       "loan_amount_per_credit_score_group         8         9  \n",
       "credit_score_grouped                                    \n",
       "0                                   0.000003  0.006765  \n",
       "1                                   0.203381  0.190078  \n",
       "2                                   0.044686  0.022403  \n",
       "3                                   0.379395  0.495278  \n",
       "4                                   0.289970  0.358625  \n",
       "5                                   0.079624  0.009442  \n",
       "6                                   0.160812  0.235747  \n",
       "7                                   0.001983  0.463425  \n",
       "8                                   0.207089  0.465809  \n",
       "9                                   0.017577  0.065266  "
      ]
     },
     "execution_count": 103,
     "metadata": {},
     "output_type": "execute_result"
    }
   ],
   "source": [
    "grouped_result_for_map"
   ]
  },
  {
   "cell_type": "markdown",
   "metadata": {},
   "source": [
    "Use the [seaborn.heatmap](https://seaborn.pydata.org/generated/seaborn.heatmap.html) function to represent your table as a heatmap. You can also use it on a suitable table of boolean values to get a more robus representation of which experiments turned out significant."
   ]
  },
  {
   "cell_type": "code",
   "execution_count": 104,
   "metadata": {},
   "outputs": [
    {
     "data": {
      "image/png": "[encoded data removed]",
      "text/plain": [
       "<Figure size 540x432 with 2 Axes>"
      ]
     },
     "metadata": {},
     "output_type": "display_data"
    }
   ],
   "source": [
    "np.random.seed(42)\n",
    "sns.set_theme()\n",
    "plt.subplots(figsize=(7.5, 6))\n",
    "ax = sns.heatmap(grouped_result_for_map, cmap=\"YlGnBu\")"
   ]
  },
  {
   "cell_type": "markdown",
   "metadata": {},
   "source": [
    "Understanding this heatmap:\n",
    "- Credit score (vertical axis): the lower credit scores are higher up the axis\n",
    "- Loan amount (horizontal axis): the higher loan loan amounts are further to the right on the axis\n",
    "- The lighter the square, the lower the p-value\n",
    "- The grey square is a NaN value. This bin had no borrowers accepting a loan"
   ]
  },
  {
   "cell_type": "markdown",
   "metadata": {},
   "source": [
    "What is the probability of falsely rejecting the null hypothesis in each cell? What is the probability of falsely rejecting the null hypothesis in at least one of the cells (i.e. what is the **family wise error rate**)?\n",
    "\n",
    "In other words, given that we made $m$ experiments, with confidence level $\\alpha$, what is the probabilty $\\mathbb{P}\\left(\\bigcup_i X_i \\le q_{\\alpha}\\right)$? \n",
    "\n",
    "_Note_: you may assume that sampling from different bins are independent."
   ]
  },
  {
   "cell_type": "markdown",
   "metadata": {},
   "source": [
    "**Family wise error rate**\n",
    "\n",
    "Let X be the number of times a null hypothesis is rejected.\n",
    "\n",
    "It is distributed binomially with probability $\\alpha = p = 0.05$.\n",
    "\n",
    "$Pr(X\\geq1) = 1 - Pr(X=0)$\n",
    "\n",
    "$= 1-0.95^{100}$\n",
    "\n",
    "$= 0.994$"
   ]
  },
  {
   "cell_type": "markdown",
   "metadata": {},
   "source": [
    "## Bonferroni correction "
   ]
  },
  {
   "cell_type": "markdown",
   "metadata": {},
   "source": [
    "One way of assuring that your FWER remains below $\\alpha=0.05$ is to apply a <a href=\"https://en.wikipedia.org/wiki/Bonferroni_correction\">**Bonferroni correction**</a>. This means that we set the signficance level of each individual test to $\\alpha/m$, where $m=100$ is the number of tests (see, e.g., Wikipedia for an explanation). \n",
    "\n",
    "Use a Bonferroni correction on your segmented a/b test and output a $10\\times10$ table of boolean values, indicating which test gave a significant result under this correction."
   ]
  },
  {
   "cell_type": "code",
   "execution_count": 105,
   "metadata": {},
   "outputs": [
    {
     "data": {
      "text/html": [
       "<div>\n",
       "<style scoped>\n",
       "    .dataframe tbody tr th:only-of-type {\n",
       "        vertical-align: middle;\n",
       "    }\n",
       "\n",
       "    .dataframe tbody tr th {\n",
       "        vertical-align: top;\n",
       "    }\n",
       "\n",
       "    .dataframe thead tr th {\n",
       "        text-align: left;\n",
       "    }\n",
       "\n",
       "    .dataframe thead tr:last-of-type th {\n",
       "        text-align: right;\n",
       "    }\n",
       "</style>\n",
       "<table border=\"1\" class=\"dataframe\">\n",
       "  <thead>\n",
       "    <tr>\n",
       "      <th></th>\n",
       "      <th colspan=\"10\" halign=\"left\">p_value</th>\n",
       "    </tr>\n",
       "    <tr>\n",
       "      <th>loan_amount_per_credit_score_group</th>\n",
       "      <th>0</th>\n",
       "      <th>1</th>\n",
       "      <th>2</th>\n",
       "      <th>3</th>\n",
       "      <th>4</th>\n",
       "      <th>5</th>\n",
       "      <th>6</th>\n",
       "      <th>7</th>\n",
       "      <th>8</th>\n",
       "      <th>9</th>\n",
       "    </tr>\n",
       "    <tr>\n",
       "      <th>credit_score_grouped</th>\n",
       "      <th></th>\n",
       "      <th></th>\n",
       "      <th></th>\n",
       "      <th></th>\n",
       "      <th></th>\n",
       "      <th></th>\n",
       "      <th></th>\n",
       "      <th></th>\n",
       "      <th></th>\n",
       "      <th></th>\n",
       "    </tr>\n",
       "  </thead>\n",
       "  <tbody>\n",
       "    <tr>\n",
       "      <th>0</th>\n",
       "      <td>0.001387</td>\n",
       "      <td>0.000083</td>\n",
       "      <td>0.001668</td>\n",
       "      <td>0.083162</td>\n",
       "      <td>0.062114</td>\n",
       "      <td>0.000868</td>\n",
       "      <td>0.000074</td>\n",
       "      <td>0.062155</td>\n",
       "      <td>0.000003</td>\n",
       "      <td>0.006765</td>\n",
       "    </tr>\n",
       "    <tr>\n",
       "      <th>1</th>\n",
       "      <td>0.000894</td>\n",
       "      <td>0.249587</td>\n",
       "      <td>0.241041</td>\n",
       "      <td>0.344056</td>\n",
       "      <td>0.007952</td>\n",
       "      <td>0.011349</td>\n",
       "      <td>0.016454</td>\n",
       "      <td>0.230610</td>\n",
       "      <td>0.203381</td>\n",
       "      <td>0.190078</td>\n",
       "    </tr>\n",
       "    <tr>\n",
       "      <th>2</th>\n",
       "      <td>0.134296</td>\n",
       "      <td>0.093373</td>\n",
       "      <td>0.495051</td>\n",
       "      <td>0.099481</td>\n",
       "      <td>0.318508</td>\n",
       "      <td>0.007938</td>\n",
       "      <td>0.138716</td>\n",
       "      <td>0.049993</td>\n",
       "      <td>0.044686</td>\n",
       "      <td>0.022403</td>\n",
       "    </tr>\n",
       "    <tr>\n",
       "      <th>3</th>\n",
       "      <td>0.178387</td>\n",
       "      <td>0.038137</td>\n",
       "      <td>0.182196</td>\n",
       "      <td>0.006407</td>\n",
       "      <td>0.207943</td>\n",
       "      <td>0.130719</td>\n",
       "      <td>0.358192</td>\n",
       "      <td>0.074957</td>\n",
       "      <td>0.379395</td>\n",
       "      <td>0.495278</td>\n",
       "    </tr>\n",
       "    <tr>\n",
       "      <th>4</th>\n",
       "      <td>0.215514</td>\n",
       "      <td>0.053161</td>\n",
       "      <td>0.189042</td>\n",
       "      <td>0.040173</td>\n",
       "      <td>0.023232</td>\n",
       "      <td>0.893830</td>\n",
       "      <td>0.192816</td>\n",
       "      <td>NaN</td>\n",
       "      <td>0.289970</td>\n",
       "      <td>0.358625</td>\n",
       "    </tr>\n",
       "    <tr>\n",
       "      <th>5</th>\n",
       "      <td>0.000222</td>\n",
       "      <td>0.043176</td>\n",
       "      <td>0.002623</td>\n",
       "      <td>0.050018</td>\n",
       "      <td>0.748927</td>\n",
       "      <td>0.194644</td>\n",
       "      <td>0.186542</td>\n",
       "      <td>0.157437</td>\n",
       "      <td>0.079624</td>\n",
       "      <td>0.009442</td>\n",
       "    </tr>\n",
       "    <tr>\n",
       "      <th>6</th>\n",
       "      <td>0.108647</td>\n",
       "      <td>0.957770</td>\n",
       "      <td>0.308379</td>\n",
       "      <td>0.346092</td>\n",
       "      <td>0.389232</td>\n",
       "      <td>0.753335</td>\n",
       "      <td>0.266041</td>\n",
       "      <td>0.170263</td>\n",
       "      <td>0.160812</td>\n",
       "      <td>0.235747</td>\n",
       "    </tr>\n",
       "    <tr>\n",
       "      <th>7</th>\n",
       "      <td>0.268435</td>\n",
       "      <td>0.697357</td>\n",
       "      <td>0.013666</td>\n",
       "      <td>0.102015</td>\n",
       "      <td>0.407125</td>\n",
       "      <td>0.117820</td>\n",
       "      <td>0.004069</td>\n",
       "      <td>0.157307</td>\n",
       "      <td>0.001983</td>\n",
       "      <td>0.463425</td>\n",
       "    </tr>\n",
       "    <tr>\n",
       "      <th>8</th>\n",
       "      <td>0.291921</td>\n",
       "      <td>0.752341</td>\n",
       "      <td>0.133707</td>\n",
       "      <td>0.031665</td>\n",
       "      <td>0.344065</td>\n",
       "      <td>0.108880</td>\n",
       "      <td>0.936123</td>\n",
       "      <td>0.061570</td>\n",
       "      <td>0.207089</td>\n",
       "      <td>0.465809</td>\n",
       "    </tr>\n",
       "    <tr>\n",
       "      <th>9</th>\n",
       "      <td>0.446284</td>\n",
       "      <td>0.065872</td>\n",
       "      <td>0.738245</td>\n",
       "      <td>0.201314</td>\n",
       "      <td>0.663714</td>\n",
       "      <td>0.253055</td>\n",
       "      <td>0.029118</td>\n",
       "      <td>0.660202</td>\n",
       "      <td>0.017577</td>\n",
       "      <td>0.065266</td>\n",
       "    </tr>\n",
       "  </tbody>\n",
       "</table>\n",
       "</div>"
      ],
      "text/plain": [
       "                                     p_value                                \\\n",
       "loan_amount_per_credit_score_group         0         1         2         3   \n",
       "credit_score_grouped                                                         \n",
       "0                                   0.001387  0.000083  0.001668  0.083162   \n",
       "1                                   0.000894  0.249587  0.241041  0.344056   \n",
       "2                                   0.134296  0.093373  0.495051  0.099481   \n",
       "3                                   0.178387  0.038137  0.182196  0.006407   \n",
       "4                                   0.215514  0.053161  0.189042  0.040173   \n",
       "5                                   0.000222  0.043176  0.002623  0.050018   \n",
       "6                                   0.108647  0.957770  0.308379  0.346092   \n",
       "7                                   0.268435  0.697357  0.013666  0.102015   \n",
       "8                                   0.291921  0.752341  0.133707  0.031665   \n",
       "9                                   0.446284  0.065872  0.738245  0.201314   \n",
       "\n",
       "                                                                            \\\n",
       "loan_amount_per_credit_score_group         4         5         6         7   \n",
       "credit_score_grouped                                                         \n",
       "0                                   0.062114  0.000868  0.000074  0.062155   \n",
       "1                                   0.007952  0.011349  0.016454  0.230610   \n",
       "2                                   0.318508  0.007938  0.138716  0.049993   \n",
       "3                                   0.207943  0.130719  0.358192  0.074957   \n",
       "4                                   0.023232  0.893830  0.192816       NaN   \n",
       "5                                   0.748927  0.194644  0.186542  0.157437   \n",
       "6                                   0.389232  0.753335  0.266041  0.170263   \n",
       "7                                   0.407125  0.117820  0.004069  0.157307   \n",
       "8                                   0.344065  0.108880  0.936123  0.061570   \n",
       "9                                   0.663714  0.253055  0.029118  0.660202   \n",
       "\n",
       "                                                        \n",
       "loan_amount_per_credit_score_group         8         9  \n",
       "credit_score_grouped                                    \n",
       "0                                   0.000003  0.006765  \n",
       "1                                   0.203381  0.190078  \n",
       "2                                   0.044686  0.022403  \n",
       "3                                   0.379395  0.495278  \n",
       "4                                   0.289970  0.358625  \n",
       "5                                   0.079624  0.009442  \n",
       "6                                   0.160812  0.235747  \n",
       "7                                   0.001983  0.463425  \n",
       "8                                   0.207089  0.465809  \n",
       "9                                   0.017577  0.065266  "
      ]
     },
     "execution_count": 105,
     "metadata": {},
     "output_type": "execute_result"
    }
   ],
   "source": [
    "grouped_result_for_map"
   ]
  },
  {
   "cell_type": "code",
   "execution_count": 106,
   "metadata": {},
   "outputs": [
    {
     "data": {
      "text/html": [
       "<div>\n",
       "<style scoped>\n",
       "    .dataframe tbody tr th:only-of-type {\n",
       "        vertical-align: middle;\n",
       "    }\n",
       "\n",
       "    .dataframe tbody tr th {\n",
       "        vertical-align: top;\n",
       "    }\n",
       "\n",
       "    .dataframe thead tr th {\n",
       "        text-align: left;\n",
       "    }\n",
       "\n",
       "    .dataframe thead tr:last-of-type th {\n",
       "        text-align: right;\n",
       "    }\n",
       "</style>\n",
       "<table border=\"1\" class=\"dataframe\">\n",
       "  <thead>\n",
       "    <tr>\n",
       "      <th></th>\n",
       "      <th colspan=\"10\" halign=\"left\">p_value</th>\n",
       "    </tr>\n",
       "    <tr>\n",
       "      <th>loan_amount_per_credit_score_group</th>\n",
       "      <th>0</th>\n",
       "      <th>1</th>\n",
       "      <th>2</th>\n",
       "      <th>3</th>\n",
       "      <th>4</th>\n",
       "      <th>5</th>\n",
       "      <th>6</th>\n",
       "      <th>7</th>\n",
       "      <th>8</th>\n",
       "      <th>9</th>\n",
       "    </tr>\n",
       "    <tr>\n",
       "      <th>credit_score_grouped</th>\n",
       "      <th></th>\n",
       "      <th></th>\n",
       "      <th></th>\n",
       "      <th></th>\n",
       "      <th></th>\n",
       "      <th></th>\n",
       "      <th></th>\n",
       "      <th></th>\n",
       "      <th></th>\n",
       "      <th></th>\n",
       "    </tr>\n",
       "  </thead>\n",
       "  <tbody>\n",
       "    <tr>\n",
       "      <th>0</th>\n",
       "      <td>Do not reject</td>\n",
       "      <td>0.000083</td>\n",
       "      <td>Do not reject</td>\n",
       "      <td>Do not reject</td>\n",
       "      <td>Do not reject</td>\n",
       "      <td>Do not reject</td>\n",
       "      <td>0.000074</td>\n",
       "      <td>Do not reject</td>\n",
       "      <td>0.000003</td>\n",
       "      <td>Do not reject</td>\n",
       "    </tr>\n",
       "    <tr>\n",
       "      <th>1</th>\n",
       "      <td>Do not reject</td>\n",
       "      <td>Do not reject</td>\n",
       "      <td>Do not reject</td>\n",
       "      <td>Do not reject</td>\n",
       "      <td>Do not reject</td>\n",
       "      <td>Do not reject</td>\n",
       "      <td>Do not reject</td>\n",
       "      <td>Do not reject</td>\n",
       "      <td>Do not reject</td>\n",
       "      <td>Do not reject</td>\n",
       "    </tr>\n",
       "    <tr>\n",
       "      <th>2</th>\n",
       "      <td>Do not reject</td>\n",
       "      <td>Do not reject</td>\n",
       "      <td>Do not reject</td>\n",
       "      <td>Do not reject</td>\n",
       "      <td>Do not reject</td>\n",
       "      <td>Do not reject</td>\n",
       "      <td>Do not reject</td>\n",
       "      <td>Do not reject</td>\n",
       "      <td>Do not reject</td>\n",
       "      <td>Do not reject</td>\n",
       "    </tr>\n",
       "    <tr>\n",
       "      <th>3</th>\n",
       "      <td>Do not reject</td>\n",
       "      <td>Do not reject</td>\n",
       "      <td>Do not reject</td>\n",
       "      <td>Do not reject</td>\n",
       "      <td>Do not reject</td>\n",
       "      <td>Do not reject</td>\n",
       "      <td>Do not reject</td>\n",
       "      <td>Do not reject</td>\n",
       "      <td>Do not reject</td>\n",
       "      <td>Do not reject</td>\n",
       "    </tr>\n",
       "    <tr>\n",
       "      <th>4</th>\n",
       "      <td>Do not reject</td>\n",
       "      <td>Do not reject</td>\n",
       "      <td>Do not reject</td>\n",
       "      <td>Do not reject</td>\n",
       "      <td>Do not reject</td>\n",
       "      <td>Do not reject</td>\n",
       "      <td>Do not reject</td>\n",
       "      <td>Do not reject</td>\n",
       "      <td>Do not reject</td>\n",
       "      <td>Do not reject</td>\n",
       "    </tr>\n",
       "    <tr>\n",
       "      <th>5</th>\n",
       "      <td>0.000222</td>\n",
       "      <td>Do not reject</td>\n",
       "      <td>Do not reject</td>\n",
       "      <td>Do not reject</td>\n",
       "      <td>Do not reject</td>\n",
       "      <td>Do not reject</td>\n",
       "      <td>Do not reject</td>\n",
       "      <td>Do not reject</td>\n",
       "      <td>Do not reject</td>\n",
       "      <td>Do not reject</td>\n",
       "    </tr>\n",
       "    <tr>\n",
       "      <th>6</th>\n",
       "      <td>Do not reject</td>\n",
       "      <td>Do not reject</td>\n",
       "      <td>Do not reject</td>\n",
       "      <td>Do not reject</td>\n",
       "      <td>Do not reject</td>\n",
       "      <td>Do not reject</td>\n",
       "      <td>Do not reject</td>\n",
       "      <td>Do not reject</td>\n",
       "      <td>Do not reject</td>\n",
       "      <td>Do not reject</td>\n",
       "    </tr>\n",
       "    <tr>\n",
       "      <th>7</th>\n",
       "      <td>Do not reject</td>\n",
       "      <td>Do not reject</td>\n",
       "      <td>Do not reject</td>\n",
       "      <td>Do not reject</td>\n",
       "      <td>Do not reject</td>\n",
       "      <td>Do not reject</td>\n",
       "      <td>Do not reject</td>\n",
       "      <td>Do not reject</td>\n",
       "      <td>Do not reject</td>\n",
       "      <td>Do not reject</td>\n",
       "    </tr>\n",
       "    <tr>\n",
       "      <th>8</th>\n",
       "      <td>Do not reject</td>\n",
       "      <td>Do not reject</td>\n",
       "      <td>Do not reject</td>\n",
       "      <td>Do not reject</td>\n",
       "      <td>Do not reject</td>\n",
       "      <td>Do not reject</td>\n",
       "      <td>Do not reject</td>\n",
       "      <td>Do not reject</td>\n",
       "      <td>Do not reject</td>\n",
       "      <td>Do not reject</td>\n",
       "    </tr>\n",
       "    <tr>\n",
       "      <th>9</th>\n",
       "      <td>Do not reject</td>\n",
       "      <td>Do not reject</td>\n",
       "      <td>Do not reject</td>\n",
       "      <td>Do not reject</td>\n",
       "      <td>Do not reject</td>\n",
       "      <td>Do not reject</td>\n",
       "      <td>Do not reject</td>\n",
       "      <td>Do not reject</td>\n",
       "      <td>Do not reject</td>\n",
       "      <td>Do not reject</td>\n",
       "    </tr>\n",
       "  </tbody>\n",
       "</table>\n",
       "</div>"
      ],
      "text/plain": [
       "                                          p_value                 \\\n",
       "loan_amount_per_credit_score_group              0              1   \n",
       "credit_score_grouped                                               \n",
       "0                                   Do not reject       0.000083   \n",
       "1                                   Do not reject  Do not reject   \n",
       "2                                   Do not reject  Do not reject   \n",
       "3                                   Do not reject  Do not reject   \n",
       "4                                   Do not reject  Do not reject   \n",
       "5                                        0.000222  Do not reject   \n",
       "6                                   Do not reject  Do not reject   \n",
       "7                                   Do not reject  Do not reject   \n",
       "8                                   Do not reject  Do not reject   \n",
       "9                                   Do not reject  Do not reject   \n",
       "\n",
       "                                                                  \\\n",
       "loan_amount_per_credit_score_group              2              3   \n",
       "credit_score_grouped                                               \n",
       "0                                   Do not reject  Do not reject   \n",
       "1                                   Do not reject  Do not reject   \n",
       "2                                   Do not reject  Do not reject   \n",
       "3                                   Do not reject  Do not reject   \n",
       "4                                   Do not reject  Do not reject   \n",
       "5                                   Do not reject  Do not reject   \n",
       "6                                   Do not reject  Do not reject   \n",
       "7                                   Do not reject  Do not reject   \n",
       "8                                   Do not reject  Do not reject   \n",
       "9                                   Do not reject  Do not reject   \n",
       "\n",
       "                                                                  \\\n",
       "loan_amount_per_credit_score_group              4              5   \n",
       "credit_score_grouped                                               \n",
       "0                                   Do not reject  Do not reject   \n",
       "1                                   Do not reject  Do not reject   \n",
       "2                                   Do not reject  Do not reject   \n",
       "3                                   Do not reject  Do not reject   \n",
       "4                                   Do not reject  Do not reject   \n",
       "5                                   Do not reject  Do not reject   \n",
       "6                                   Do not reject  Do not reject   \n",
       "7                                   Do not reject  Do not reject   \n",
       "8                                   Do not reject  Do not reject   \n",
       "9                                   Do not reject  Do not reject   \n",
       "\n",
       "                                                                  \\\n",
       "loan_amount_per_credit_score_group              6              7   \n",
       "credit_score_grouped                                               \n",
       "0                                        0.000074  Do not reject   \n",
       "1                                   Do not reject  Do not reject   \n",
       "2                                   Do not reject  Do not reject   \n",
       "3                                   Do not reject  Do not reject   \n",
       "4                                   Do not reject  Do not reject   \n",
       "5                                   Do not reject  Do not reject   \n",
       "6                                   Do not reject  Do not reject   \n",
       "7                                   Do not reject  Do not reject   \n",
       "8                                   Do not reject  Do not reject   \n",
       "9                                   Do not reject  Do not reject   \n",
       "\n",
       "                                                                  \n",
       "loan_amount_per_credit_score_group              8              9  \n",
       "credit_score_grouped                                              \n",
       "0                                        0.000003  Do not reject  \n",
       "1                                   Do not reject  Do not reject  \n",
       "2                                   Do not reject  Do not reject  \n",
       "3                                   Do not reject  Do not reject  \n",
       "4                                   Do not reject  Do not reject  \n",
       "5                                   Do not reject  Do not reject  \n",
       "6                                   Do not reject  Do not reject  \n",
       "7                                   Do not reject  Do not reject  \n",
       "8                                   Do not reject  Do not reject  \n",
       "9                                   Do not reject  Do not reject  "
      ]
     },
     "execution_count": 106,
     "metadata": {},
     "output_type": "execute_result"
    }
   ],
   "source": [
    "bonferroni_filter = grouped_result_for_map[grouped_result_for_map < 0.05/100]\n",
    "bonferroni_filter.fillna(\"Do not reject\")"
   ]
  },
  {
   "cell_type": "markdown",
   "metadata": {},
   "source": [
    "How many of your tests came out significant under this correction?"
   ]
  },
  {
   "cell_type": "code",
   "execution_count": 107,
   "metadata": {},
   "outputs": [
    {
     "data": {
      "text/plain": [
       "4"
      ]
     },
     "execution_count": 107,
     "metadata": {},
     "output_type": "execute_result"
    }
   ],
   "source": [
    "bonferroni_filter.count().sum()"
   ]
  },
  {
   "cell_type": "markdown",
   "metadata": {},
   "source": [
    "Visualize your result using the [seaborn.heatmap]() function and compare to the previous heatmap."
   ]
  },
  {
   "cell_type": "code",
   "execution_count": 108,
   "metadata": {},
   "outputs": [
    {
     "data": {
      "image/png": "[encoded data removed]",
      "text/plain": [
       "<Figure size 540x432 with 2 Axes>"
      ]
     },
     "metadata": {},
     "output_type": "display_data"
    }
   ],
   "source": [
    "sns.set_theme()\n",
    "plt.subplots(figsize=(7.5, 6))\n",
    "ax = sns.heatmap(bonferroni_filter, cmap=\"YlGnBu\")"
   ]
  },
  {
   "cell_type": "markdown",
   "metadata": {},
   "source": [
    "The details of which groups these squares belong to are shown below."
   ]
  },
  {
   "cell_type": "code",
   "execution_count": 109,
   "metadata": {
    "tags": []
   },
   "outputs": [
    {
     "data": {
      "text/html": [
       "<div>\n",
       "<style scoped>\n",
       "    .dataframe tbody tr th:only-of-type {\n",
       "        vertical-align: middle;\n",
       "    }\n",
       "\n",
       "    .dataframe tbody tr th {\n",
       "        vertical-align: top;\n",
       "    }\n",
       "\n",
       "    .dataframe thead th {\n",
       "        text-align: right;\n",
       "    }\n",
       "</style>\n",
       "<table border=\"1\" class=\"dataframe\">\n",
       "  <thead>\n",
       "    <tr style=\"text-align: right;\">\n",
       "      <th></th>\n",
       "      <th>credit_score_grouped</th>\n",
       "      <th>loan_amount_per_credit_score_group</th>\n",
       "      <th>p_value</th>\n",
       "    </tr>\n",
       "  </thead>\n",
       "  <tbody>\n",
       "    <tr>\n",
       "      <th>0</th>\n",
       "      <td>0</td>\n",
       "      <td>1</td>\n",
       "      <td>0.000083</td>\n",
       "    </tr>\n",
       "    <tr>\n",
       "      <th>1</th>\n",
       "      <td>0</td>\n",
       "      <td>6</td>\n",
       "      <td>0.000074</td>\n",
       "    </tr>\n",
       "    <tr>\n",
       "      <th>2</th>\n",
       "      <td>0</td>\n",
       "      <td>8</td>\n",
       "      <td>0.000003</td>\n",
       "    </tr>\n",
       "    <tr>\n",
       "      <th>3</th>\n",
       "      <td>5</td>\n",
       "      <td>0</td>\n",
       "      <td>0.000222</td>\n",
       "    </tr>\n",
       "  </tbody>\n",
       "</table>\n",
       "</div>"
      ],
      "text/plain": [
       "  credit_score_grouped loan_amount_per_credit_score_group   p_value\n",
       "0                    0                                  1  0.000083\n",
       "1                    0                                  6  0.000074\n",
       "2                    0                                  8  0.000003\n",
       "3                    5                                  0  0.000222"
      ]
     },
     "execution_count": 109,
     "metadata": {},
     "output_type": "execute_result"
    }
   ],
   "source": [
    "stack_df = bonferroni_filter.stack().reset_index()\n",
    "stack_df"
   ]
  },
  {
   "cell_type": "code",
   "execution_count": 110,
   "metadata": {
    "tags": []
   },
   "outputs": [
    {
     "data": {
      "text/html": [
       "<div>\n",
       "<style scoped>\n",
       "    .dataframe tbody tr th:only-of-type {\n",
       "        vertical-align: middle;\n",
       "    }\n",
       "\n",
       "    .dataframe tbody tr th {\n",
       "        vertical-align: top;\n",
       "    }\n",
       "\n",
       "    .dataframe thead th {\n",
       "        text-align: right;\n",
       "    }\n",
       "</style>\n",
       "<table border=\"1\" class=\"dataframe\">\n",
       "  <thead>\n",
       "    <tr style=\"text-align: right;\">\n",
       "      <th></th>\n",
       "      <th>credit_score_group</th>\n",
       "      <th>requested_amount_groupe</th>\n",
       "    </tr>\n",
       "  </thead>\n",
       "  <tbody>\n",
       "    <tr>\n",
       "      <th>0</th>\n",
       "      <td>(1.0, 612.0)</td>\n",
       "      <td>(2409.0000000000005, 3000.0)</td>\n",
       "    </tr>\n",
       "    <tr>\n",
       "      <th>1</th>\n",
       "      <td>(1.0, 612.0)</td>\n",
       "      <td>(6582.000000000002, 8000.0)</td>\n",
       "    </tr>\n",
       "    <tr>\n",
       "      <th>2</th>\n",
       "      <td>(1.0, 612.0)</td>\n",
       "      <td>(10000.0, 13238.800000000003)</td>\n",
       "    </tr>\n",
       "    <tr>\n",
       "      <th>3</th>\n",
       "      <td>(689.0, 705.0)</td>\n",
       "      <td>(1000.0, 3500.0)</td>\n",
       "    </tr>\n",
       "  </tbody>\n",
       "</table>\n",
       "</div>"
      ],
      "text/plain": [
       "  credit_score_group        requested_amount_groupe\n",
       "0       (1.0, 612.0)   (2409.0000000000005, 3000.0)\n",
       "1       (1.0, 612.0)    (6582.000000000002, 8000.0)\n",
       "2       (1.0, 612.0)  (10000.0, 13238.800000000003)\n",
       "3     (689.0, 705.0)               (1000.0, 3500.0)"
      ]
     },
     "execution_count": 110,
     "metadata": {},
     "output_type": "execute_result"
    }
   ],
   "source": [
    "stack_df[\"credit_score_group\"] = stack_df.apply(get_credit_score,axis=1)\n",
    "stack_df[\"requested_amount_groupe\"] = stack_df.apply(get_requested_amount_groupes,axis=1)\n",
    "stack_df[[\"credit_score_group\",\"requested_amount_groupe\"]]"
   ]
  },
  {
   "cell_type": "code",
   "execution_count": 111,
   "metadata": {},
   "outputs": [
    {
     "data": {
      "text/html": [
       "<div>\n",
       "<style scoped>\n",
       "    .dataframe tbody tr th:only-of-type {\n",
       "        vertical-align: middle;\n",
       "    }\n",
       "\n",
       "    .dataframe tbody tr th {\n",
       "        vertical-align: top;\n",
       "    }\n",
       "\n",
       "    .dataframe thead th {\n",
       "        text-align: right;\n",
       "    }\n",
       "</style>\n",
       "<table border=\"1\" class=\"dataframe\">\n",
       "  <thead>\n",
       "    <tr style=\"text-align: right;\">\n",
       "      <th></th>\n",
       "      <th>credit_score_grouped</th>\n",
       "      <th>loan_amount_per_credit_score_group</th>\n",
       "      <th>p_value</th>\n",
       "      <th>credit_score_group</th>\n",
       "      <th>requested_amount_groupe</th>\n",
       "    </tr>\n",
       "  </thead>\n",
       "  <tbody>\n",
       "    <tr>\n",
       "      <th>0</th>\n",
       "      <td>0</td>\n",
       "      <td>1</td>\n",
       "      <td>0.000083</td>\n",
       "      <td>(1.0, 612.0)</td>\n",
       "      <td>(2409.0000000000005, 3000.0)</td>\n",
       "    </tr>\n",
       "    <tr>\n",
       "      <th>1</th>\n",
       "      <td>0</td>\n",
       "      <td>6</td>\n",
       "      <td>0.000074</td>\n",
       "      <td>(1.0, 612.0)</td>\n",
       "      <td>(6582.000000000002, 8000.0)</td>\n",
       "    </tr>\n",
       "    <tr>\n",
       "      <th>2</th>\n",
       "      <td>0</td>\n",
       "      <td>8</td>\n",
       "      <td>0.000003</td>\n",
       "      <td>(1.0, 612.0)</td>\n",
       "      <td>(10000.0, 13238.800000000003)</td>\n",
       "    </tr>\n",
       "    <tr>\n",
       "      <th>3</th>\n",
       "      <td>5</td>\n",
       "      <td>0</td>\n",
       "      <td>0.000222</td>\n",
       "      <td>(689.0, 705.0)</td>\n",
       "      <td>(1000.0, 3500.0)</td>\n",
       "    </tr>\n",
       "  </tbody>\n",
       "</table>\n",
       "</div>"
      ],
      "text/plain": [
       "  credit_score_grouped loan_amount_per_credit_score_group   p_value  \\\n",
       "0                    0                                  1  0.000083   \n",
       "1                    0                                  6  0.000074   \n",
       "2                    0                                  8  0.000003   \n",
       "3                    5                                  0  0.000222   \n",
       "\n",
       "  credit_score_group        requested_amount_groupe  \n",
       "0       (1.0, 612.0)   (2409.0000000000005, 3000.0)  \n",
       "1       (1.0, 612.0)    (6582.000000000002, 8000.0)  \n",
       "2       (1.0, 612.0)  (10000.0, 13238.800000000003)  \n",
       "3     (689.0, 705.0)               (1000.0, 3500.0)  "
      ]
     },
     "execution_count": 111,
     "metadata": {},
     "output_type": "execute_result"
    }
   ],
   "source": [
    "stack_df"
   ]
  },
  {
   "cell_type": "markdown",
   "metadata": {},
   "source": [
    "## BH correction "
   ]
  },
  {
   "cell_type": "markdown",
   "metadata": {},
   "source": [
    "The Bonferroni correction is often criticized for being too restrictive, as you probably noticed in the last subsection. A more commonly used method for correcting $\\alpha$ values is the Benjamini-Hochberg method. You can <a href=\"https://www.youtube.com/watch?v=K8LQSvtjcEo\">check out the quest</a> for a nice explanation about it."
   ]
  },
  {
   "cell_type": "markdown",
   "metadata": {},
   "source": [
    "Start by arranging the $p$-values of your original test as a series and listing them in ascending order. You can use the `pd.DataFrame.stack` and `pd.Series.sort_values` methods."
   ]
  },
  {
   "cell_type": "code",
   "execution_count": 112,
   "metadata": {},
   "outputs": [],
   "source": [
    "one_hundred_p_values = grouped_result[\"p_value\"] #pd.Series(np.sort(p_grid.flatten()), name=\"one_hundred_p_values\")\n",
    "one_hundred_p_values = one_hundred_p_values.sort_values()"
   ]
  },
  {
   "cell_type": "code",
   "execution_count": 113,
   "metadata": {},
   "outputs": [],
   "source": [
    "one_hundred_p_values = one_hundred_p_values.reset_index()"
   ]
  },
  {
   "cell_type": "markdown",
   "metadata": {},
   "source": [
    "Plot your sorted $p$-values"
   ]
  },
  {
   "cell_type": "code",
   "execution_count": 114,
   "metadata": {},
   "outputs": [
    {
     "data": {
      "image/png": "[encoded data removed]",
      "text/plain": [
       "<Figure size 432x288 with 1 Axes>"
      ]
     },
     "metadata": {},
     "output_type": "display_data"
    }
   ],
   "source": [
    "one_hundred_p_values.plot(title = \"One hundred p values\")\n",
    "plt.show()"
   ]
  },
  {
   "cell_type": "markdown",
   "metadata": {},
   "source": [
    "For each entry of the new series, compute the value compute the value $\\frac{i}{m}\\cdot\\alpha$, where $i$ is the ordinal place of the entry (i.e. 1,2,...len(series)), $m=100$ and $\\alpha=0.05$ as above. Add a plot of these values to your $p$-values plot."
   ]
  },
  {
   "cell_type": "markdown",
   "metadata": {},
   "source": [
    "Find the largest index $i$ for which the $p$-value in the $i$-th place in the series is smaller than $\\frac{i}{m}\\cdot\\alpha$. That is- the last index in the plot you just created where the $p$-values line lies below the _adjusted_-$\\alpha$ line."
   ]
  },
  {
   "cell_type": "code",
   "execution_count": 115,
   "metadata": {},
   "outputs": [],
   "source": [
    "one_hundred_p_values = one_hundred_p_values.rename(columns={'one_hundred_p_values': 'p_value'})"
   ]
  },
  {
   "cell_type": "code",
   "execution_count": 116,
   "metadata": {},
   "outputs": [],
   "source": [
    "one_hundred_p_values['i/m*a']=(one_hundred_p_values['p_value'].index)/100*0.05"
   ]
  },
  {
   "cell_type": "code",
   "execution_count": 117,
   "metadata": {},
   "outputs": [
    {
     "data": {
      "text/html": [
       "<div>\n",
       "<style scoped>\n",
       "    .dataframe tbody tr th:only-of-type {\n",
       "        vertical-align: middle;\n",
       "    }\n",
       "\n",
       "    .dataframe tbody tr th {\n",
       "        vertical-align: top;\n",
       "    }\n",
       "\n",
       "    .dataframe thead th {\n",
       "        text-align: right;\n",
       "    }\n",
       "</style>\n",
       "<table border=\"1\" class=\"dataframe\">\n",
       "  <thead>\n",
       "    <tr style=\"text-align: right;\">\n",
       "      <th></th>\n",
       "      <th>credit_score_grouped</th>\n",
       "      <th>loan_amount_per_credit_score_group</th>\n",
       "      <th>p_value</th>\n",
       "      <th>i/m*a</th>\n",
       "      <th>p_value_smaller_than_i/m*a</th>\n",
       "    </tr>\n",
       "  </thead>\n",
       "  <tbody>\n",
       "    <tr>\n",
       "      <th>0</th>\n",
       "      <td>0</td>\n",
       "      <td>8</td>\n",
       "      <td>0.000003</td>\n",
       "      <td>0.0000</td>\n",
       "      <td>False</td>\n",
       "    </tr>\n",
       "    <tr>\n",
       "      <th>1</th>\n",
       "      <td>0</td>\n",
       "      <td>6</td>\n",
       "      <td>0.000074</td>\n",
       "      <td>0.0005</td>\n",
       "      <td>True</td>\n",
       "    </tr>\n",
       "    <tr>\n",
       "      <th>2</th>\n",
       "      <td>0</td>\n",
       "      <td>1</td>\n",
       "      <td>0.000083</td>\n",
       "      <td>0.0010</td>\n",
       "      <td>True</td>\n",
       "    </tr>\n",
       "    <tr>\n",
       "      <th>3</th>\n",
       "      <td>5</td>\n",
       "      <td>0</td>\n",
       "      <td>0.000222</td>\n",
       "      <td>0.0015</td>\n",
       "      <td>True</td>\n",
       "    </tr>\n",
       "    <tr>\n",
       "      <th>4</th>\n",
       "      <td>0</td>\n",
       "      <td>5</td>\n",
       "      <td>0.000868</td>\n",
       "      <td>0.0020</td>\n",
       "      <td>True</td>\n",
       "    </tr>\n",
       "    <tr>\n",
       "      <th>...</th>\n",
       "      <td>...</td>\n",
       "      <td>...</td>\n",
       "      <td>...</td>\n",
       "      <td>...</td>\n",
       "      <td>...</td>\n",
       "    </tr>\n",
       "    <tr>\n",
       "      <th>95</th>\n",
       "      <td>6</td>\n",
       "      <td>5</td>\n",
       "      <td>0.753335</td>\n",
       "      <td>0.0475</td>\n",
       "      <td>False</td>\n",
       "    </tr>\n",
       "    <tr>\n",
       "      <th>96</th>\n",
       "      <td>4</td>\n",
       "      <td>5</td>\n",
       "      <td>0.893830</td>\n",
       "      <td>0.0480</td>\n",
       "      <td>False</td>\n",
       "    </tr>\n",
       "    <tr>\n",
       "      <th>97</th>\n",
       "      <td>8</td>\n",
       "      <td>6</td>\n",
       "      <td>0.936123</td>\n",
       "      <td>0.0485</td>\n",
       "      <td>False</td>\n",
       "    </tr>\n",
       "    <tr>\n",
       "      <th>98</th>\n",
       "      <td>6</td>\n",
       "      <td>1</td>\n",
       "      <td>0.957770</td>\n",
       "      <td>0.0490</td>\n",
       "      <td>False</td>\n",
       "    </tr>\n",
       "    <tr>\n",
       "      <th>99</th>\n",
       "      <td>4</td>\n",
       "      <td>7</td>\n",
       "      <td>NaN</td>\n",
       "      <td>0.0495</td>\n",
       "      <td>False</td>\n",
       "    </tr>\n",
       "  </tbody>\n",
       "</table>\n",
       "<p>100 rows × 5 columns</p>\n",
       "</div>"
      ],
      "text/plain": [
       "   credit_score_grouped loan_amount_per_credit_score_group   p_value   i/m*a  \\\n",
       "0                     0                                  8  0.000003  0.0000   \n",
       "1                     0                                  6  0.000074  0.0005   \n",
       "2                     0                                  1  0.000083  0.0010   \n",
       "3                     5                                  0  0.000222  0.0015   \n",
       "4                     0                                  5  0.000868  0.0020   \n",
       "..                  ...                                ...       ...     ...   \n",
       "95                    6                                  5  0.753335  0.0475   \n",
       "96                    4                                  5  0.893830  0.0480   \n",
       "97                    8                                  6  0.936123  0.0485   \n",
       "98                    6                                  1  0.957770  0.0490   \n",
       "99                    4                                  7       NaN  0.0495   \n",
       "\n",
       "    p_value_smaller_than_i/m*a  \n",
       "0                        False  \n",
       "1                         True  \n",
       "2                         True  \n",
       "3                         True  \n",
       "4                         True  \n",
       "..                         ...  \n",
       "95                       False  \n",
       "96                       False  \n",
       "97                       False  \n",
       "98                       False  \n",
       "99                       False  \n",
       "\n",
       "[100 rows x 5 columns]"
      ]
     },
     "execution_count": 117,
     "metadata": {},
     "output_type": "execute_result"
    }
   ],
   "source": [
    "one_hundred_p_values[\"p_value_smaller_than_i/m*a\"]=one_hundred_p_values[\"p_value\"]<one_hundred_p_values[\"i/m*a\"]\n",
    "one_hundred_p_values"
   ]
  },
  {
   "cell_type": "code",
   "execution_count": 118,
   "metadata": {},
   "outputs": [
    {
     "data": {
      "image/png": "[encoded data removed]",
      "text/plain": [
       "<Figure size 432x288 with 1 Axes>"
      ]
     },
     "metadata": {},
     "output_type": "display_data"
    }
   ],
   "source": [
    "one_hundred_p_values.plot(title = \"One hundred p values\")\n",
    "plt.show()"
   ]
  },
  {
   "cell_type": "code",
   "execution_count": 119,
   "metadata": {},
   "outputs": [
    {
     "name": "stdout",
     "output_type": "stream",
     "text": [
      "10\n"
     ]
    }
   ],
   "source": [
    "reject_point = one_hundred_p_values['p_value_smaller_than_i/m*a'][one_hundred_p_values['p_value_smaller_than_i/m*a']==True].last_valid_index()\n",
    "print(reject_point)"
   ]
  },
  {
   "cell_type": "markdown",
   "metadata": {},
   "source": [
    "Reject the null hypothesis for all test before and including this index, and accept it for all others. Reformat your table into a $10\\times 10$ dataframe; for which bins did we get a significant result in the corrected test?"
   ]
  },
  {
   "cell_type": "code",
   "execution_count": 133,
   "metadata": {},
   "outputs": [
    {
     "name": "stdout",
     "output_type": "stream",
     "text": [
      "These are the values for which we should reject the null hypothesis\n"
     ]
    },
    {
     "data": {
      "text/plain": [
       "0     0.000003\n",
       "1     0.000074\n",
       "2     0.000083\n",
       "3     0.000222\n",
       "4     0.000868\n",
       "5     0.000894\n",
       "6     0.001387\n",
       "7     0.001668\n",
       "8     0.001983\n",
       "9     0.002623\n",
       "10    0.004069\n",
       "Name: p_value, dtype: float64"
      ]
     },
     "execution_count": 133,
     "metadata": {},
     "output_type": "execute_result"
    }
   ],
   "source": [
    "one_hundred_p_values['reject_H0'] = one_hundred_p_values.index<=reject_point\n",
    "print('These are the values for which we should reject the null hypothesis')\n",
    "BH = one_hundred_p_values[one_hundred_p_values['reject_H0']==True]\n",
    "BH['p_value']"
   ]
  },
  {
   "cell_type": "code",
   "execution_count": 134,
   "metadata": {},
   "outputs": [],
   "source": [
    "Bh_grouped_result_for_map = grouped_result_for_map[grouped_result_for_map.isin(BH[\"p_value\"].array)]"
   ]
  },
  {
   "cell_type": "markdown",
   "metadata": {
    "tags": []
   },
   "source": [
    "Visualize your result using the [seaborn.heatmap]() function and compare to the previous heatmap."
   ]
  },
  {
   "cell_type": "code",
   "execution_count": 135,
   "metadata": {},
   "outputs": [],
   "source": [
    "#bonferroni_filter.stack().reset_index().columns"
   ]
  },
  {
   "cell_type": "code",
   "execution_count": 136,
   "metadata": {},
   "outputs": [],
   "source": [
    "def  get_credit_score_and_requested_amount_groupes1(row):\n",
    "    credit_id = int(row[\"credit_score_grouped\"])\n",
    "    loan_amount_id = int(row[\"loan_amount_per_credit_score_group\"])  \n",
    "    credit_score_group = (credit_score_bins[credit_id],credit_score_bins[credit_id+1])\n",
    "    loan_amount__group = (requested_amount_bins_dict[credit_id][loan_amount_id], requested_amount_bins_dict[credit_id][loan_amount_id + 1])\n",
    "    return credit_score_group,loan_amount__group"
   ]
  },
  {
   "cell_type": "code",
   "execution_count": 137,
   "metadata": {},
   "outputs": [],
   "source": [
    "def  get_credit_score(row):\n",
    "    credit_id = int(row[\"credit_score_grouped\"])\n",
    "    credit_score_group = (credit_score_bins[credit_id],credit_score_bins[credit_id+1])\n",
    "    return credit_score_group"
   ]
  },
  {
   "cell_type": "code",
   "execution_count": 138,
   "metadata": {},
   "outputs": [],
   "source": [
    "def  get_requested_amount_groupes(row):\n",
    "    credit_id = int(row[\"credit_score_grouped\"])\n",
    "    loan_amount_id = int(row[\"loan_amount_per_credit_score_group\"])  \n",
    "    loan_amount__group = (requested_amount_bins_dict[credit_id][loan_amount_id], requested_amount_bins_dict[credit_id][loan_amount_id + 1])\n",
    "    return loan_amount__group"
   ]
  },
  {
   "cell_type": "code",
   "execution_count": 154,
   "metadata": {},
   "outputs": [
    {
     "data": {
      "text/html": [
       "<div>\n",
       "<style scoped>\n",
       "    .dataframe tbody tr th:only-of-type {\n",
       "        vertical-align: middle;\n",
       "    }\n",
       "\n",
       "    .dataframe tbody tr th {\n",
       "        vertical-align: top;\n",
       "    }\n",
       "\n",
       "    .dataframe thead th {\n",
       "        text-align: right;\n",
       "    }\n",
       "</style>\n",
       "<table border=\"1\" class=\"dataframe\">\n",
       "  <thead>\n",
       "    <tr style=\"text-align: right;\">\n",
       "      <th></th>\n",
       "      <th>credit_score_group</th>\n",
       "      <th>requested_amount_group</th>\n",
       "    </tr>\n",
       "  </thead>\n",
       "  <tbody>\n",
       "    <tr>\n",
       "      <th>0</th>\n",
       "      <td>(1.0, 612.0)</td>\n",
       "      <td>(10000.0, 13238.800000000003)</td>\n",
       "    </tr>\n",
       "    <tr>\n",
       "      <th>1</th>\n",
       "      <td>(1.0, 612.0)</td>\n",
       "      <td>(6582.000000000002, 8000.0)</td>\n",
       "    </tr>\n",
       "    <tr>\n",
       "      <th>2</th>\n",
       "      <td>(1.0, 612.0)</td>\n",
       "      <td>(2409.0000000000005, 3000.0)</td>\n",
       "    </tr>\n",
       "    <tr>\n",
       "      <th>3</th>\n",
       "      <td>(689.0, 705.0)</td>\n",
       "      <td>(1000.0, 3500.0)</td>\n",
       "    </tr>\n",
       "    <tr>\n",
       "      <th>4</th>\n",
       "      <td>(1.0, 612.0)</td>\n",
       "      <td>(5291.0, 6582.000000000002)</td>\n",
       "    </tr>\n",
       "    <tr>\n",
       "      <th>5</th>\n",
       "      <td>(612.0, 637.0)</td>\n",
       "      <td>(893.0, 2895.3)</td>\n",
       "    </tr>\n",
       "    <tr>\n",
       "      <th>6</th>\n",
       "      <td>(1.0, 612.0)</td>\n",
       "      <td>(500.0, 2409.0000000000005)</td>\n",
       "    </tr>\n",
       "    <tr>\n",
       "      <th>7</th>\n",
       "      <td>(1.0, 612.0)</td>\n",
       "      <td>(3000.0, 3591.2000000000007)</td>\n",
       "    </tr>\n",
       "    <tr>\n",
       "      <th>8</th>\n",
       "      <td>(723.0, 749.0)</td>\n",
       "      <td>(21800.0, 29588.0)</td>\n",
       "    </tr>\n",
       "    <tr>\n",
       "      <th>9</th>\n",
       "      <td>(689.0, 705.0)</td>\n",
       "      <td>(5000.0, 6025.4000000000015)</td>\n",
       "    </tr>\n",
       "    <tr>\n",
       "      <th>10</th>\n",
       "      <td>(723.0, 749.0)</td>\n",
       "      <td>(14500.0, 17000.0)</td>\n",
       "    </tr>\n",
       "  </tbody>\n",
       "</table>\n",
       "</div>"
      ],
      "text/plain": [
       "   credit_score_group         requested_amount_group\n",
       "0        (1.0, 612.0)  (10000.0, 13238.800000000003)\n",
       "1        (1.0, 612.0)    (6582.000000000002, 8000.0)\n",
       "2        (1.0, 612.0)   (2409.0000000000005, 3000.0)\n",
       "3      (689.0, 705.0)               (1000.0, 3500.0)\n",
       "4        (1.0, 612.0)    (5291.0, 6582.000000000002)\n",
       "5      (612.0, 637.0)                (893.0, 2895.3)\n",
       "6        (1.0, 612.0)    (500.0, 2409.0000000000005)\n",
       "7        (1.0, 612.0)   (3000.0, 3591.2000000000007)\n",
       "8      (723.0, 749.0)             (21800.0, 29588.0)\n",
       "9      (689.0, 705.0)   (5000.0, 6025.4000000000015)\n",
       "10     (723.0, 749.0)             (14500.0, 17000.0)"
      ]
     },
     "execution_count": 154,
     "metadata": {},
     "output_type": "execute_result"
    }
   ],
   "source": [
    "BH[\"credit_score_group\"] = BH.apply(get_credit_score,axis=1)\n",
    "BH[\"requested_amount_group\"] = BH.apply(get_requested_amount_groupes,axis=1)\n",
    "BH[[\"credit_score_group\",\"requested_amount_group\"]]"
   ]
  },
  {
   "cell_type": "code",
   "execution_count": 140,
   "metadata": {
    "tags": []
   },
   "outputs": [
    {
     "data": {
      "image/png": "[encoded data removed]",
      "text/plain": [
       "<Figure size 540x432 with 2 Axes>"
      ]
     },
     "metadata": {},
     "output_type": "display_data"
    }
   ],
   "source": [
    "sns.set_theme()\n",
    "plt.subplots(figsize=(7.5, 6))\n",
    "ax = sns.heatmap(Bh_grouped_result_for_map, cmap=\"YlGnBu\")"
   ]
  },
  {
   "cell_type": "markdown",
   "metadata": {},
   "source": [
    "The groups that these squares come from are shown in the table above."
   ]
  },
  {
   "cell_type": "markdown",
   "metadata": {},
   "source": [
    "### Validating your results"
   ]
  },
  {
   "cell_type": "markdown",
   "metadata": {},
   "source": [
    "You can validate your results (for both corrections) using the <a href= \"https://www.statsmodels.org/dev/generated/statsmodels.stats.multitest.multipletests.html\">`statsmodels.stats.multitest.multipletests`</a> package."
   ]
  },
  {
   "cell_type": "code",
   "execution_count": 128,
   "metadata": {},
   "outputs": [],
   "source": [
    "from statsmodels.stats.multitest import multipletests\n",
    "\n",
    "mt = multipletests(grouped_result.p_value.array, method='fdr_bh', alpha=0.05)\n",
    "#bonferroni"
   ]
  },
  {
   "cell_type": "code",
   "execution_count": 129,
   "metadata": {},
   "outputs": [
    {
     "data": {
      "text/plain": [
       "11"
      ]
     },
     "execution_count": 129,
     "metadata": {},
     "output_type": "execute_result"
    }
   ],
   "source": [
    "mt[0].sum()"
   ]
  },
  {
   "cell_type": "markdown",
   "metadata": {},
   "source": [
    "This validates our BH correction."
   ]
  },
  {
   "cell_type": "code",
   "execution_count": 130,
   "metadata": {},
   "outputs": [],
   "source": [
    "mt = multipletests(grouped_result.p_value.array, method='bonferroni', alpha=0.05)\n"
   ]
  },
  {
   "cell_type": "code",
   "execution_count": 131,
   "metadata": {},
   "outputs": [
    {
     "data": {
      "text/plain": [
       "4"
      ]
     },
     "execution_count": 131,
     "metadata": {},
     "output_type": "execute_result"
    }
   ],
   "source": [
    "mt[0].sum()"
   ]
  },
  {
   "cell_type": "markdown",
   "metadata": {},
   "source": [
    "This vvalidates our Bonferroni correction."
   ]
  },
  {
   "cell_type": "markdown",
   "metadata": {},
   "source": [
    "### Extra charts"
   ]
  },
  {
   "cell_type": "code",
   "execution_count": 151,
   "metadata": {},
   "outputs": [
    {
     "data": {
      "image/png": "[encoded data removed]",
      "text/plain": [
       "<Figure size 432x288 with 1 Axes>"
      ]
     },
     "metadata": {},
     "output_type": "display_data"
    }
   ],
   "source": [
    "ax = plt.subplot(111)\n",
    "ax.bar(\"Raleigh Old Activation rate\", 0.0685, width=0.5, color='g', align='center')\n",
    "ax.bar(\"Raleigh New Activation rate\", raleigh_activation_rate, width=0.5, color='b', align='center')\n",
    "plt.show()"
   ]
  },
  {
   "cell_type": "code",
   "execution_count": 152,
   "metadata": {},
   "outputs": [
    {
     "data": {
      "image/png": "[encoded data removed]",
      "text/plain": [
       "<Figure size 432x288 with 1 Axes>"
      ]
     },
     "metadata": {},
     "output_type": "display_data"
    }
   ],
   "source": [
    "ax = plt.subplot(111)\n",
    "ax.bar(\"Lubbock Activation rate\", lubbock_activation, width=0.5, color='g', align='center')\n",
    "ax.bar(\"Raleigh Activation rate\", raleigh_activation_rate, width=0.5, color='b', align='center')\n",
    "plt.show()"
   ]
  },
  {
   "cell_type": "code",
   "execution_count": null,
   "metadata": {},
   "outputs": [],
   "source": []
  }
 ],
 "metadata": {
  "kernelspec": {
   "display_name": "Python 3",
   "language": "python",
   "name": "python3"
  },
  "language_info": {
   "codemirror_mode": {
    "name": "ipython",
    "version": 3
   },
   "file_extension": ".py",
   "mimetype": "text/x-python",
   "name": "python",
   "nbconvert_exporter": "python",
   "pygments_lexer": "ipython3",
   "version": "3.8.10"
  }
 },
 "nbformat": 4,
 "nbformat_minor": 4
}

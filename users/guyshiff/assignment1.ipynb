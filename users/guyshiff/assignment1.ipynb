{
 "cells": [
  {
   "cell_type": "markdown",
   "metadata": {},
   "source": [
    "# Assignment objective"
   ]
  },
  {
   "cell_type": "markdown",
   "metadata": {},
   "source": [
    "We have data from Raleigh, NC, where we recently deployed a flyer program in order to increase public awareness of the possibility of taking a Pagaya loan. You objective is to assess the potency of the flyer program in terms of activation by analyzing production and TU data obtained from the town.\n"
   ]
  },
  {
   "cell_type": "markdown",
   "metadata": {},
   "source": [
    "# Basic imports "
   ]
  },
  {
   "cell_type": "code",
   "execution_count": 1,
   "metadata": {
    "tags": []
   },
   "outputs": [],
   "source": [
    "import pandas as pd\n",
    "import numpy as np\n",
    "import matplotlib.pyplot as plt\n",
    "import seaborn as sns\n",
    "import os\n",
    "import warnings\n",
    "warnings.filterwarnings('ignore')\n",
    "import random\n",
    "from scipy.sparse import csr_matrix\n",
    "from IPython.display import Latex\n",
    "from statsmodels.stats.multitest import multipletests"
   ]
  },
  {
   "cell_type": "markdown",
   "metadata": {},
   "source": [
    "# Data preparation"
   ]
  },
  {
   "cell_type": "markdown",
   "metadata": {},
   "source": [
    "## Data from TU "
   ]
  },
  {
   "cell_type": "markdown",
   "metadata": {},
   "source": [
    "To begin with, upload TUs credit information from the relevant quarter (which is 2018Q3). This data is available in our `s3` path under the name `tu_gen_data2018Q3.parquet`. To get to our `s3` path import `DATA_FILES_PATH` from `pagayapro.paths.data_paths`"
   ]
  },
  {
   "cell_type": "code",
   "execution_count": 2,
   "metadata": {
    "tags": []
   },
   "outputs": [],
   "source": [
    "from pagayapro.paths.data_paths import DATA_FILES_PATH"
   ]
  },
  {
   "cell_type": "markdown",
   "metadata": {},
   "source": [
    "read the parquet file from `s3`. Only read the columns [\"sequence_num\", \"credit_score\", \"listing_term\", \"int_rate\", \"loan_amnt\", \"monthly_pmt\", \"original_state\"]"
   ]
  },
  {
   "cell_type": "code",
   "execution_count": 3,
   "metadata": {
    "tags": []
   },
   "outputs": [],
   "source": [
    "tu_data= pd.read_parquet(\n",
    "    os.path.join(DATA_FILES_PATH,\"tu_gen_data_2018Q3.parquet\"),\n",
    "                columns = [\"sequence_num\", \"credit_score\", \n",
    "                           \"listing_term\", \"int_rate\" ,\n",
    "                           \"loan_amnt\", \"monthly_pmt\", \n",
    "                           \"original_state\"])"
   ]
  },
  {
   "cell_type": "markdown",
   "metadata": {},
   "source": [
    "Output the first 5 rows of tu_data"
   ]
  },
  {
   "cell_type": "code",
   "execution_count": 4,
   "metadata": {},
   "outputs": [
    {
     "data": {
      "text/html": [
       "<div>\n",
       "<style scoped>\n",
       "    .dataframe tbody tr th:only-of-type {\n",
       "        vertical-align: middle;\n",
       "    }\n",
       "\n",
       "    .dataframe tbody tr th {\n",
       "        vertical-align: top;\n",
       "    }\n",
       "\n",
       "    .dataframe thead th {\n",
       "        text-align: right;\n",
       "    }\n",
       "</style>\n",
       "<table border=\"1\" class=\"dataframe\">\n",
       "  <thead>\n",
       "    <tr style=\"text-align: right;\">\n",
       "      <th></th>\n",
       "      <th>sequence_num</th>\n",
       "      <th>credit_score</th>\n",
       "      <th>listing_term</th>\n",
       "      <th>int_rate</th>\n",
       "      <th>loan_amnt</th>\n",
       "      <th>monthly_pmt</th>\n",
       "      <th>original_state</th>\n",
       "    </tr>\n",
       "    <tr>\n",
       "      <th>id</th>\n",
       "      <th></th>\n",
       "      <th></th>\n",
       "      <th></th>\n",
       "      <th></th>\n",
       "      <th></th>\n",
       "      <th></th>\n",
       "      <th></th>\n",
       "    </tr>\n",
       "  </thead>\n",
       "  <tbody>\n",
       "    <tr>\n",
       "      <th>adf5219e4cb985352184eb7fa597737e4a9777f7354f7a8a58270da147792561</th>\n",
       "      <td>d0820401b209782dae4284b3dd96b41e08c3e8566fbb33...</td>\n",
       "      <td>814</td>\n",
       "      <td>36.0</td>\n",
       "      <td>7.86</td>\n",
       "      <td>5500.0</td>\n",
       "      <td>172.0</td>\n",
       "      <td>MI</td>\n",
       "    </tr>\n",
       "    <tr>\n",
       "      <th>0a0f130443af4c6597bb074942970eaddeb125d398e2cca42175c56befc8a171</th>\n",
       "      <td>2f05cd66cb998e5e55f6f296344b271b2b89b996c7c037...</td>\n",
       "      <td>800</td>\n",
       "      <td>36.0</td>\n",
       "      <td>7.91</td>\n",
       "      <td>20000.0</td>\n",
       "      <td>626.0</td>\n",
       "      <td>NM</td>\n",
       "    </tr>\n",
       "    <tr>\n",
       "      <th>4ba9c6a38b650ee06b8b88a48621bd363cdf611e63400c6fc4bbffbd1bf20c47</th>\n",
       "      <td>20bdbfaf0006db032d8a4176add08fd4ef45abfb17c474...</td>\n",
       "      <td>653</td>\n",
       "      <td>36.0</td>\n",
       "      <td>30.51</td>\n",
       "      <td>3674.0</td>\n",
       "      <td>157.0</td>\n",
       "      <td>SD</td>\n",
       "    </tr>\n",
       "    <tr>\n",
       "      <th>dae3a344292e07d4b8935a453c37aef01303f21b2f37ccbd1c4408f158533acb</th>\n",
       "      <td>53084498c6bf053a4d1cf309e1b8ec234e503bb1a3dd4e...</td>\n",
       "      <td>623</td>\n",
       "      <td>60.0</td>\n",
       "      <td>23.46</td>\n",
       "      <td>14056.0</td>\n",
       "      <td>400.0</td>\n",
       "      <td>NC</td>\n",
       "    </tr>\n",
       "    <tr>\n",
       "      <th>8af2ae2462d012e4d85aa687a16a4f5fb64525928235da43c795f73dc0cadd04</th>\n",
       "      <td>f750c4ecac12ae1c156998ed3dff3f46d2d19f37250074...</td>\n",
       "      <td>627</td>\n",
       "      <td>60.0</td>\n",
       "      <td>25.55</td>\n",
       "      <td>8659.0</td>\n",
       "      <td>257.0</td>\n",
       "      <td>TN</td>\n",
       "    </tr>\n",
       "  </tbody>\n",
       "</table>\n",
       "</div>"
      ],
      "text/plain": [
       "                                                                                         sequence_num  \\\n",
       "id                                                                                                      \n",
       "adf5219e4cb985352184eb7fa597737e4a9777f7354f7a8...  d0820401b209782dae4284b3dd96b41e08c3e8566fbb33...   \n",
       "0a0f130443af4c6597bb074942970eaddeb125d398e2cca...  2f05cd66cb998e5e55f6f296344b271b2b89b996c7c037...   \n",
       "4ba9c6a38b650ee06b8b88a48621bd363cdf611e63400c6...  20bdbfaf0006db032d8a4176add08fd4ef45abfb17c474...   \n",
       "dae3a344292e07d4b8935a453c37aef01303f21b2f37ccb...  53084498c6bf053a4d1cf309e1b8ec234e503bb1a3dd4e...   \n",
       "8af2ae2462d012e4d85aa687a16a4f5fb64525928235da4...  f750c4ecac12ae1c156998ed3dff3f46d2d19f37250074...   \n",
       "\n",
       "                                                    credit_score  \\\n",
       "id                                                                 \n",
       "adf5219e4cb985352184eb7fa597737e4a9777f7354f7a8...           814   \n",
       "0a0f130443af4c6597bb074942970eaddeb125d398e2cca...           800   \n",
       "4ba9c6a38b650ee06b8b88a48621bd363cdf611e63400c6...           653   \n",
       "dae3a344292e07d4b8935a453c37aef01303f21b2f37ccb...           623   \n",
       "8af2ae2462d012e4d85aa687a16a4f5fb64525928235da4...           627   \n",
       "\n",
       "                                                    listing_term  int_rate  \\\n",
       "id                                                                           \n",
       "adf5219e4cb985352184eb7fa597737e4a9777f7354f7a8...          36.0      7.86   \n",
       "0a0f130443af4c6597bb074942970eaddeb125d398e2cca...          36.0      7.91   \n",
       "4ba9c6a38b650ee06b8b88a48621bd363cdf611e63400c6...          36.0     30.51   \n",
       "dae3a344292e07d4b8935a453c37aef01303f21b2f37ccb...          60.0     23.46   \n",
       "8af2ae2462d012e4d85aa687a16a4f5fb64525928235da4...          60.0     25.55   \n",
       "\n",
       "                                                    loan_amnt  monthly_pmt  \\\n",
       "id                                                                           \n",
       "adf5219e4cb985352184eb7fa597737e4a9777f7354f7a8...     5500.0        172.0   \n",
       "0a0f130443af4c6597bb074942970eaddeb125d398e2cca...    20000.0        626.0   \n",
       "4ba9c6a38b650ee06b8b88a48621bd363cdf611e63400c6...     3674.0        157.0   \n",
       "dae3a344292e07d4b8935a453c37aef01303f21b2f37ccb...    14056.0        400.0   \n",
       "8af2ae2462d012e4d85aa687a16a4f5fb64525928235da4...     8659.0        257.0   \n",
       "\n",
       "                                                   original_state  \n",
       "id                                                                 \n",
       "adf5219e4cb985352184eb7fa597737e4a9777f7354f7a8...             MI  \n",
       "0a0f130443af4c6597bb074942970eaddeb125d398e2cca...             NM  \n",
       "4ba9c6a38b650ee06b8b88a48621bd363cdf611e63400c6...             SD  \n",
       "dae3a344292e07d4b8935a453c37aef01303f21b2f37ccb...             NC  \n",
       "8af2ae2462d012e4d85aa687a16a4f5fb64525928235da4...             TN  "
      ]
     },
     "execution_count": 4,
     "metadata": {},
     "output_type": "execute_result"
    }
   ],
   "source": [
    "tu_data.head()"
   ]
  },
  {
   "cell_type": "markdown",
   "metadata": {},
   "source": [
    "## Activation data "
   ]
  },
  {
   "cell_type": "markdown",
   "metadata": {},
   "source": [
    "Your data regarding activation arrives as forms, detailing the loan amount, interest rate offered to the client and whether he or she accepted the offer. These are available on the assignment's `s3` path, which you can import from `pagayapro.path.data_paths` under the name `ASSIGNMENT1_DATA`, in the subdirectory `offers`. "
   ]
  },
  {
   "cell_type": "code",
   "execution_count": 5,
   "metadata": {
    "tags": []
   },
   "outputs": [],
   "source": [
    "from pagayapro.paths.data_paths import ASSIGNMENT1_DATA\n",
    "import glob"
   ]
  },
  {
   "cell_type": "markdown",
   "metadata": {},
   "source": [
    "Read all files in the subdirectory `offers` of `ASSIGNMENT1_DATA` whose name contains the substring `raleigh`."
   ]
  },
  {
   "cell_type": "code",
   "execution_count": 6,
   "metadata": {
    "tags": []
   },
   "outputs": [],
   "source": [
    "raleigh_forms= (\n",
    "    glob.glob(\n",
    "        os.path.join(ASSIGNMENT1_DATA,\"offers/*raleigh*\")\n",
    "    )\n",
    ")"
   ]
  },
  {
   "cell_type": "markdown",
   "metadata": {},
   "source": [
    "how many forms are there?\n"
   ]
  },
  {
   "cell_type": "code",
   "execution_count": 7,
   "metadata": {},
   "outputs": [
    {
     "data": {
      "text/plain": [
       "769"
      ]
     },
     "execution_count": 7,
     "metadata": {},
     "output_type": "execute_result"
    }
   ],
   "source": [
    "len(raleigh_forms)"
   ]
  },
  {
   "cell_type": "markdown",
   "metadata": {},
   "source": [
    "Read all the form files and create a table which contains only the last offer given to each borrower. Call this dataframe `raleigh_df`."
   ]
  },
  {
   "cell_type": "code",
   "execution_count": 8,
   "metadata": {},
   "outputs": [
    {
     "name": "stdout",
     "output_type": "stream",
     "text": [
      "13362\n",
      "8792\n"
     ]
    },
    {
     "data": {
      "text/html": [
       "<div>\n",
       "<style scoped>\n",
       "    .dataframe tbody tr th:only-of-type {\n",
       "        vertical-align: middle;\n",
       "    }\n",
       "\n",
       "    .dataframe tbody tr th {\n",
       "        vertical-align: top;\n",
       "    }\n",
       "\n",
       "    .dataframe thead th {\n",
       "        text-align: right;\n",
       "    }\n",
       "</style>\n",
       "<table border=\"1\" class=\"dataframe\">\n",
       "  <thead>\n",
       "    <tr style=\"text-align: right;\">\n",
       "      <th></th>\n",
       "      <th>id</th>\n",
       "      <th>sequence_num</th>\n",
       "      <th>requested_amount</th>\n",
       "      <th>offered_interest_rate</th>\n",
       "      <th>offer_accepted</th>\n",
       "      <th>offer_date</th>\n",
       "    </tr>\n",
       "  </thead>\n",
       "  <tbody>\n",
       "    <tr>\n",
       "      <th>0</th>\n",
       "      <td>743200d3e4cc1f6f860e121294248d611350f257a7bc83...</td>\n",
       "      <td>ec10245656d9d89186fb4e5890082eea989d5967752ce7...</td>\n",
       "      <td>3000.0</td>\n",
       "      <td>17.69</td>\n",
       "      <td>False</td>\n",
       "      <td>2018-01-01</td>\n",
       "    </tr>\n",
       "    <tr>\n",
       "      <th>1</th>\n",
       "      <td>e3e32f85cd78bb5002ccdc037c1818029f716e7a47911e...</td>\n",
       "      <td>3dcd131256c103fccb61c75cd79ca97fa2b5e31c4ab03e...</td>\n",
       "      <td>6899.0</td>\n",
       "      <td>12.56</td>\n",
       "      <td>False</td>\n",
       "      <td>2018-01-01</td>\n",
       "    </tr>\n",
       "    <tr>\n",
       "      <th>2</th>\n",
       "      <td>3a72ae7a82244f811b37c48f57469b708207004f011163...</td>\n",
       "      <td>06c005c5de6ba445d4c709b84611ac2b8542cd5d37221b...</td>\n",
       "      <td>3800.0</td>\n",
       "      <td>12.97</td>\n",
       "      <td>False</td>\n",
       "      <td>2018-01-01</td>\n",
       "    </tr>\n",
       "    <tr>\n",
       "      <th>3</th>\n",
       "      <td>ce770273c28ddb4f8637ae423b582f0b1617e0fe7a4880...</td>\n",
       "      <td>c49b3fce67673a9f82ed4ccaa9f75e668db48e775514fc...</td>\n",
       "      <td>13000.0</td>\n",
       "      <td>5.06</td>\n",
       "      <td>False</td>\n",
       "      <td>2018-01-01</td>\n",
       "    </tr>\n",
       "    <tr>\n",
       "      <th>4</th>\n",
       "      <td>7eac15c5019d5101e6434ac34202cc974b044c808958c3...</td>\n",
       "      <td>107a5b2ba3853f80df245d8644af08b74d27af77f14292...</td>\n",
       "      <td>9250.0</td>\n",
       "      <td>10.34</td>\n",
       "      <td>False</td>\n",
       "      <td>2018-01-01</td>\n",
       "    </tr>\n",
       "  </tbody>\n",
       "</table>\n",
       "</div>"
      ],
      "text/plain": [
       "                                                  id  \\\n",
       "0  743200d3e4cc1f6f860e121294248d611350f257a7bc83...   \n",
       "1  e3e32f85cd78bb5002ccdc037c1818029f716e7a47911e...   \n",
       "2  3a72ae7a82244f811b37c48f57469b708207004f011163...   \n",
       "3  ce770273c28ddb4f8637ae423b582f0b1617e0fe7a4880...   \n",
       "4  7eac15c5019d5101e6434ac34202cc974b044c808958c3...   \n",
       "\n",
       "                                        sequence_num  requested_amount  \\\n",
       "0  ec10245656d9d89186fb4e5890082eea989d5967752ce7...            3000.0   \n",
       "1  3dcd131256c103fccb61c75cd79ca97fa2b5e31c4ab03e...            6899.0   \n",
       "2  06c005c5de6ba445d4c709b84611ac2b8542cd5d37221b...            3800.0   \n",
       "3  c49b3fce67673a9f82ed4ccaa9f75e668db48e775514fc...           13000.0   \n",
       "4  107a5b2ba3853f80df245d8644af08b74d27af77f14292...            9250.0   \n",
       "\n",
       "   offered_interest_rate  offer_accepted  offer_date  \n",
       "0                  17.69           False  2018-01-01  \n",
       "1                  12.56           False  2018-01-01  \n",
       "2                  12.97           False  2018-01-01  \n",
       "3                   5.06           False  2018-01-01  \n",
       "4                  10.34           False  2018-01-01  "
      ]
     },
     "execution_count": 8,
     "metadata": {},
     "output_type": "execute_result"
    }
   ],
   "source": [
    "#TODO - Check if id is the only measure for duplicate offer \n",
    "df_list = []\n",
    "# Read all files into dataframe list\n",
    "df_list = [pd.read_csv(file_path,index_col=None,header=0) for file_path in raleigh_forms]\n",
    "# Concat the data frames and sort by date\n",
    "raleigh_df = pd.concat(df_list, axis=0, ignore_index=True)\n",
    "raleigh_df.sort_values(by='offer_date')\n",
    "print(len(raleigh_df))\n",
    "raleigh_df_with_duplicates = raleigh_df.copy()\n",
    "# keep the last in duplicates by id - last date an offer was given.\n",
    "raleigh_df.drop_duplicates(subset='id', keep='last', inplace=True, ignore_index=False)\n",
    "print(len(raleigh_df))\n",
    "raleigh_df.reset_index()\n",
    "raleigh_df.head()"
   ]
  },
  {
   "cell_type": "markdown",
   "metadata": {
    "execution": {
     "iopub.execute_input": "2021-07-04T09:43:56.002881Z",
     "iopub.status.busy": "2021-07-04T09:43:56.002602Z",
     "iopub.status.idle": "2021-07-04T09:43:56.037934Z",
     "shell.execute_reply": "2021-07-04T09:43:56.036868Z",
     "shell.execute_reply.started": "2021-07-04T09:43:56.002855Z"
    }
   },
   "source": [
    "How many rows are there in your table? How many distict ids?"
   ]
  },
  {
   "cell_type": "code",
   "execution_count": 9,
   "metadata": {},
   "outputs": [
    {
     "data": {
      "text/plain": [
       "8792"
      ]
     },
     "execution_count": 9,
     "metadata": {},
     "output_type": "execute_result"
    }
   ],
   "source": [
    "raleigh_df.shape[0]"
   ]
  },
  {
   "cell_type": "code",
   "execution_count": 10,
   "metadata": {},
   "outputs": [
    {
     "data": {
      "text/plain": [
       "8792"
      ]
     },
     "execution_count": 10,
     "metadata": {},
     "output_type": "execute_result"
    }
   ],
   "source": [
    "raleigh_df.id.nunique()"
   ]
  },
  {
   "cell_type": "markdown",
   "metadata": {},
   "source": [
    "How can you explain the duplicate ids? Sample 5 ids with multiple lines and display them."
   ]
  },
  {
   "cell_type": "markdown",
   "metadata": {},
   "source": [
    "There are no duplicates (we got rid of them when we took \"only the last offer given to each borrower\")"
   ]
  },
  {
   "cell_type": "markdown",
   "metadata": {},
   "source": [
    "Drop all lines in the dataframe which contain irrelevant information."
   ]
  },
  {
   "cell_type": "code",
   "execution_count": 11,
   "metadata": {},
   "outputs": [
    {
     "name": "stdout",
     "output_type": "stream",
     "text": [
      "Check outliers with the mentors\n"
     ]
    },
    {
     "data": {
      "text/html": [
       "<div>\n",
       "<style scoped>\n",
       "    .dataframe tbody tr th:only-of-type {\n",
       "        vertical-align: middle;\n",
       "    }\n",
       "\n",
       "    .dataframe tbody tr th {\n",
       "        vertical-align: top;\n",
       "    }\n",
       "\n",
       "    .dataframe thead th {\n",
       "        text-align: right;\n",
       "    }\n",
       "</style>\n",
       "<table border=\"1\" class=\"dataframe\">\n",
       "  <thead>\n",
       "    <tr style=\"text-align: right;\">\n",
       "      <th></th>\n",
       "      <th>id</th>\n",
       "      <th>sequence_num</th>\n",
       "      <th>requested_amount</th>\n",
       "      <th>offered_interest_rate</th>\n",
       "      <th>offer_accepted</th>\n",
       "      <th>offer_date</th>\n",
       "    </tr>\n",
       "  </thead>\n",
       "  <tbody>\n",
       "    <tr>\n",
       "      <th>6463</th>\n",
       "      <td>89a2c6f6371a771d034a6255f209942fd3490c35ffa153...</td>\n",
       "      <td>a0a9d662d4f4c527de8ba6beee3844fcae5bd9a66d1c6f...</td>\n",
       "      <td>4000.0</td>\n",
       "      <td>39.99</td>\n",
       "      <td>False</td>\n",
       "      <td>2019-02-20</td>\n",
       "    </tr>\n",
       "    <tr>\n",
       "      <th>9587</th>\n",
       "      <td>b16a106eed80e19072dba0ceb9d23c8a0f642222cc8dfa...</td>\n",
       "      <td>ee446231b8201db6abc795d3aa037e8934743a37c8ec4c...</td>\n",
       "      <td>3000.0</td>\n",
       "      <td>39.81</td>\n",
       "      <td>False</td>\n",
       "      <td>2019-11-11</td>\n",
       "    </tr>\n",
       "    <tr>\n",
       "      <th>792</th>\n",
       "      <td>7d9216d8402d78c177ef88e81d8b2a685911b40aaf5343...</td>\n",
       "      <td>687308b3e3ccb511d34c47bdfd675dd6d332072b93ce46...</td>\n",
       "      <td>5100.0</td>\n",
       "      <td>38.32</td>\n",
       "      <td>False</td>\n",
       "      <td>2018-02-13</td>\n",
       "    </tr>\n",
       "    <tr>\n",
       "      <th>3667</th>\n",
       "      <td>b98dd3e134089b682f59384b6517ea0378f07fe5c16848...</td>\n",
       "      <td>0465d48e4185390ea5d167955432cc7848a2e3e0901875...</td>\n",
       "      <td>3944.0</td>\n",
       "      <td>38.14</td>\n",
       "      <td>False</td>\n",
       "      <td>2018-08-08</td>\n",
       "    </tr>\n",
       "    <tr>\n",
       "      <th>10834</th>\n",
       "      <td>8a7780afe69c8512b5be4319e9840a80d6d3ba31af2fbb...</td>\n",
       "      <td>b26e2b3a976556e8d9908e4ed07f1ba4a42f710feef763...</td>\n",
       "      <td>2000.0</td>\n",
       "      <td>38.08</td>\n",
       "      <td>False</td>\n",
       "      <td>2020-03-11</td>\n",
       "    </tr>\n",
       "    <tr>\n",
       "      <th>...</th>\n",
       "      <td>...</td>\n",
       "      <td>...</td>\n",
       "      <td>...</td>\n",
       "      <td>...</td>\n",
       "      <td>...</td>\n",
       "      <td>...</td>\n",
       "    </tr>\n",
       "    <tr>\n",
       "      <th>2143</th>\n",
       "      <td>d5bfdf89416f7efe41725335d55dbcc053bc1b0613d62f...</td>\n",
       "      <td>457296683933c6f0c8d6520f15387c59a414d3166431bf...</td>\n",
       "      <td>4000.0</td>\n",
       "      <td>20.01</td>\n",
       "      <td>False</td>\n",
       "      <td>2018-05-07</td>\n",
       "    </tr>\n",
       "    <tr>\n",
       "      <th>7046</th>\n",
       "      <td>553ec6c4547d5d5790881e6f6d539e790855671358a5ec...</td>\n",
       "      <td>8af47dc6d694608a7b4797e26789acc2000395ef0ea12c...</td>\n",
       "      <td>10000.0</td>\n",
       "      <td>20.01</td>\n",
       "      <td>False</td>\n",
       "      <td>2019-04-04</td>\n",
       "    </tr>\n",
       "    <tr>\n",
       "      <th>13191</th>\n",
       "      <td>fa24b59bbac798f9d0fe743a0ed6191e2cf42435700ba9...</td>\n",
       "      <td>88cb91ad96f49e523e8fb25993529fa1276503fffeedf0...</td>\n",
       "      <td>12000.0</td>\n",
       "      <td>20.01</td>\n",
       "      <td>False</td>\n",
       "      <td>2020-11-23</td>\n",
       "    </tr>\n",
       "    <tr>\n",
       "      <th>3434</th>\n",
       "      <td>979a61e347e6c688c55056ecdf7575e85654b265695d7b...</td>\n",
       "      <td>65a5e0cf3523290c7012d9a3f5afe94a6a59cf0ab0deca...</td>\n",
       "      <td>12000.0</td>\n",
       "      <td>20.01</td>\n",
       "      <td>False</td>\n",
       "      <td>2018-07-25</td>\n",
       "    </tr>\n",
       "    <tr>\n",
       "      <th>2211</th>\n",
       "      <td>7fb6e22f562a8ac8862ed3bb92bba52974f1e7f6d7f006...</td>\n",
       "      <td>6c73574ad57c0c8abba9b0cbbe07449a6bf471a9919b35...</td>\n",
       "      <td>30000.0</td>\n",
       "      <td>20.01</td>\n",
       "      <td>False</td>\n",
       "      <td>2018-05-10</td>\n",
       "    </tr>\n",
       "  </tbody>\n",
       "</table>\n",
       "<p>2065 rows × 6 columns</p>\n",
       "</div>"
      ],
      "text/plain": [
       "                                                      id  \\\n",
       "6463   89a2c6f6371a771d034a6255f209942fd3490c35ffa153...   \n",
       "9587   b16a106eed80e19072dba0ceb9d23c8a0f642222cc8dfa...   \n",
       "792    7d9216d8402d78c177ef88e81d8b2a685911b40aaf5343...   \n",
       "3667   b98dd3e134089b682f59384b6517ea0378f07fe5c16848...   \n",
       "10834  8a7780afe69c8512b5be4319e9840a80d6d3ba31af2fbb...   \n",
       "...                                                  ...   \n",
       "2143   d5bfdf89416f7efe41725335d55dbcc053bc1b0613d62f...   \n",
       "7046   553ec6c4547d5d5790881e6f6d539e790855671358a5ec...   \n",
       "13191  fa24b59bbac798f9d0fe743a0ed6191e2cf42435700ba9...   \n",
       "3434   979a61e347e6c688c55056ecdf7575e85654b265695d7b...   \n",
       "2211   7fb6e22f562a8ac8862ed3bb92bba52974f1e7f6d7f006...   \n",
       "\n",
       "                                            sequence_num  requested_amount  \\\n",
       "6463   a0a9d662d4f4c527de8ba6beee3844fcae5bd9a66d1c6f...            4000.0   \n",
       "9587   ee446231b8201db6abc795d3aa037e8934743a37c8ec4c...            3000.0   \n",
       "792    687308b3e3ccb511d34c47bdfd675dd6d332072b93ce46...            5100.0   \n",
       "3667   0465d48e4185390ea5d167955432cc7848a2e3e0901875...            3944.0   \n",
       "10834  b26e2b3a976556e8d9908e4ed07f1ba4a42f710feef763...            2000.0   \n",
       "...                                                  ...               ...   \n",
       "2143   457296683933c6f0c8d6520f15387c59a414d3166431bf...            4000.0   \n",
       "7046   8af47dc6d694608a7b4797e26789acc2000395ef0ea12c...           10000.0   \n",
       "13191  88cb91ad96f49e523e8fb25993529fa1276503fffeedf0...           12000.0   \n",
       "3434   65a5e0cf3523290c7012d9a3f5afe94a6a59cf0ab0deca...           12000.0   \n",
       "2211   6c73574ad57c0c8abba9b0cbbe07449a6bf471a9919b35...           30000.0   \n",
       "\n",
       "       offered_interest_rate  offer_accepted  offer_date  \n",
       "6463                   39.99           False  2019-02-20  \n",
       "9587                   39.81           False  2019-11-11  \n",
       "792                    38.32           False  2018-02-13  \n",
       "3667                   38.14           False  2018-08-08  \n",
       "10834                  38.08           False  2020-03-11  \n",
       "...                      ...             ...         ...  \n",
       "2143                   20.01           False  2018-05-07  \n",
       "7046                   20.01           False  2019-04-04  \n",
       "13191                  20.01           False  2020-11-23  \n",
       "3434                   20.01           False  2018-07-25  \n",
       "2211                   20.01           False  2018-05-10  \n",
       "\n",
       "[2065 rows x 6 columns]"
      ]
     },
     "execution_count": 11,
     "metadata": {},
     "output_type": "execute_result"
    }
   ],
   "source": [
    "\n",
    "raleigh_df.query('offered_interest_rate > 20' ).sort_values(by=\"offered_interest_rate\", ascending=False)\n",
    "\n",
    "\n",
    "\n"
   ]
  },
  {
   "cell_type": "code",
   "execution_count": 12,
   "metadata": {},
   "outputs": [
    {
     "data": {
      "text/plain": [
       "<matplotlib.axes._subplots.AxesSubplot at 0x7f29ad12b6d0>"
      ]
     },
     "execution_count": 12,
     "metadata": {},
     "output_type": "execute_result"
    },
    {
     "data": {
      "image/png": "[encoded data removed]",
      "text/plain": [
       "<Figure size 432x288 with 1 Axes>"
      ]
     },
     "metadata": {
      "needs_background": "light"
     },
     "output_type": "display_data"
    }
   ],
   "source": [
    "raleigh_df['offered_interest_rate'].hist()"
   ]
  },
  {
   "cell_type": "code",
   "execution_count": 13,
   "metadata": {},
   "outputs": [
    {
     "data": {
      "text/plain": [
       "<matplotlib.axes._subplots.AxesSubplot at 0x7f29ad0326a0>"
      ]
     },
     "execution_count": 13,
     "metadata": {},
     "output_type": "execute_result"
    },
    {
     "data": {
      "image/png": "[encoded data removed]",
      "text/plain": [
       "<Figure size 432x288 with 1 Axes>"
      ]
     },
     "metadata": {
      "needs_background": "light"
     },
     "output_type": "display_data"
    }
   ],
   "source": [
    "raleigh_df.offered_interest_rate.plot(kind='box')"
   ]
  },
  {
   "cell_type": "markdown",
   "metadata": {},
   "source": [
    "we seen some extreme values in \"interest rate\" (40% and under 5%) we are not sure if those are outliers so we decided to keep them"
   ]
  },
  {
   "cell_type": "markdown",
   "metadata": {},
   "source": [
    "What is the average interest rate offered to clients? What is the average among clients who accepted the offer?"
   ]
  },
  {
   "cell_type": "code",
   "execution_count": 14,
   "metadata": {},
   "outputs": [
    {
     "name": "stdout",
     "output_type": "stream",
     "text": [
      "The average interest rate offered to clients is: 15.524284576888082\n",
      "The average interest rate offered to clients who accepted the offer is: 15.307480314960628\n"
     ]
    }
   ],
   "source": [
    "\n",
    "print(\"The average interest rate offered to clients is:\", raleigh_df.offered_interest_rate.mean())\n",
    "print(\"The average interest rate offered to clients who accepted the offer is:\", raleigh_df.query('offer_accepted == True').offered_interest_rate.mean())\n",
    "\n"
   ]
  },
  {
   "cell_type": "markdown",
   "metadata": {},
   "source": [
    "What is the percentage of activation in this dataframe?"
   ]
  },
  {
   "cell_type": "code",
   "execution_count": 15,
   "metadata": {},
   "outputs": [
    {
     "data": {
      "text/plain": [
       "0.08666969972702457"
      ]
     },
     "execution_count": 15,
     "metadata": {},
     "output_type": "execute_result"
    }
   ],
   "source": [
    "raleigh_df.offer_accepted.mean()"
   ]
  },
  {
   "cell_type": "markdown",
   "metadata": {},
   "source": [
    "Enrich your dataframe with additioanl TU features by merging it with the `tu_data` df. Note that the two dataframe share the `id` and `sequence_num` features."
   ]
  },
  {
   "cell_type": "code",
   "execution_count": 16,
   "metadata": {},
   "outputs": [
    {
     "name": "stdout",
     "output_type": "stream",
     "text": [
      "8792\n"
     ]
    },
    {
     "data": {
      "text/html": [
       "<div>\n",
       "<style scoped>\n",
       "    .dataframe tbody tr th:only-of-type {\n",
       "        vertical-align: middle;\n",
       "    }\n",
       "\n",
       "    .dataframe tbody tr th {\n",
       "        vertical-align: top;\n",
       "    }\n",
       "\n",
       "    .dataframe thead th {\n",
       "        text-align: right;\n",
       "    }\n",
       "</style>\n",
       "<table border=\"1\" class=\"dataframe\">\n",
       "  <thead>\n",
       "    <tr style=\"text-align: right;\">\n",
       "      <th></th>\n",
       "      <th>id</th>\n",
       "      <th>sequence_num</th>\n",
       "      <th>requested_amount</th>\n",
       "      <th>offered_interest_rate</th>\n",
       "      <th>offer_accepted</th>\n",
       "      <th>offer_date</th>\n",
       "      <th>credit_score</th>\n",
       "      <th>listing_term</th>\n",
       "      <th>int_rate</th>\n",
       "      <th>loan_amnt</th>\n",
       "      <th>monthly_pmt</th>\n",
       "      <th>original_state</th>\n",
       "    </tr>\n",
       "  </thead>\n",
       "  <tbody>\n",
       "    <tr>\n",
       "      <th>0</th>\n",
       "      <td>743200d3e4cc1f6f860e121294248d611350f257a7bc83...</td>\n",
       "      <td>ec10245656d9d89186fb4e5890082eea989d5967752ce7...</td>\n",
       "      <td>3000.0</td>\n",
       "      <td>17.69</td>\n",
       "      <td>False</td>\n",
       "      <td>2018-01-01</td>\n",
       "      <td>652</td>\n",
       "      <td>36.0</td>\n",
       "      <td>17.69</td>\n",
       "      <td>3000.0</td>\n",
       "      <td>108.0</td>\n",
       "      <td>NC</td>\n",
       "    </tr>\n",
       "    <tr>\n",
       "      <th>1</th>\n",
       "      <td>e3e32f85cd78bb5002ccdc037c1818029f716e7a47911e...</td>\n",
       "      <td>3dcd131256c103fccb61c75cd79ca97fa2b5e31c4ab03e...</td>\n",
       "      <td>6899.0</td>\n",
       "      <td>12.56</td>\n",
       "      <td>False</td>\n",
       "      <td>2018-01-01</td>\n",
       "      <td>735</td>\n",
       "      <td>36.0</td>\n",
       "      <td>12.56</td>\n",
       "      <td>6899.0</td>\n",
       "      <td>231.0</td>\n",
       "      <td>NC</td>\n",
       "    </tr>\n",
       "    <tr>\n",
       "      <th>2</th>\n",
       "      <td>3a72ae7a82244f811b37c48f57469b708207004f011163...</td>\n",
       "      <td>06c005c5de6ba445d4c709b84611ac2b8542cd5d37221b...</td>\n",
       "      <td>3800.0</td>\n",
       "      <td>12.97</td>\n",
       "      <td>False</td>\n",
       "      <td>2018-01-01</td>\n",
       "      <td>661</td>\n",
       "      <td>36.0</td>\n",
       "      <td>12.97</td>\n",
       "      <td>3800.0</td>\n",
       "      <td>128.0</td>\n",
       "      <td>NC</td>\n",
       "    </tr>\n",
       "    <tr>\n",
       "      <th>3</th>\n",
       "      <td>ce770273c28ddb4f8637ae423b582f0b1617e0fe7a4880...</td>\n",
       "      <td>c49b3fce67673a9f82ed4ccaa9f75e668db48e775514fc...</td>\n",
       "      <td>13000.0</td>\n",
       "      <td>5.06</td>\n",
       "      <td>False</td>\n",
       "      <td>2018-01-01</td>\n",
       "      <td>823</td>\n",
       "      <td>36.0</td>\n",
       "      <td>5.06</td>\n",
       "      <td>13000.0</td>\n",
       "      <td>390.0</td>\n",
       "      <td>NC</td>\n",
       "    </tr>\n",
       "    <tr>\n",
       "      <th>4</th>\n",
       "      <td>7eac15c5019d5101e6434ac34202cc974b044c808958c3...</td>\n",
       "      <td>107a5b2ba3853f80df245d8644af08b74d27af77f14292...</td>\n",
       "      <td>9250.0</td>\n",
       "      <td>10.34</td>\n",
       "      <td>False</td>\n",
       "      <td>2018-01-01</td>\n",
       "      <td>728</td>\n",
       "      <td>36.0</td>\n",
       "      <td>10.34</td>\n",
       "      <td>9250.0</td>\n",
       "      <td>300.0</td>\n",
       "      <td>NC</td>\n",
       "    </tr>\n",
       "  </tbody>\n",
       "</table>\n",
       "</div>"
      ],
      "text/plain": [
       "                                                  id  \\\n",
       "0  743200d3e4cc1f6f860e121294248d611350f257a7bc83...   \n",
       "1  e3e32f85cd78bb5002ccdc037c1818029f716e7a47911e...   \n",
       "2  3a72ae7a82244f811b37c48f57469b708207004f011163...   \n",
       "3  ce770273c28ddb4f8637ae423b582f0b1617e0fe7a4880...   \n",
       "4  7eac15c5019d5101e6434ac34202cc974b044c808958c3...   \n",
       "\n",
       "                                        sequence_num  requested_amount  \\\n",
       "0  ec10245656d9d89186fb4e5890082eea989d5967752ce7...            3000.0   \n",
       "1  3dcd131256c103fccb61c75cd79ca97fa2b5e31c4ab03e...            6899.0   \n",
       "2  06c005c5de6ba445d4c709b84611ac2b8542cd5d37221b...            3800.0   \n",
       "3  c49b3fce67673a9f82ed4ccaa9f75e668db48e775514fc...           13000.0   \n",
       "4  107a5b2ba3853f80df245d8644af08b74d27af77f14292...            9250.0   \n",
       "\n",
       "   offered_interest_rate  offer_accepted  offer_date  credit_score  \\\n",
       "0                  17.69           False  2018-01-01           652   \n",
       "1                  12.56           False  2018-01-01           735   \n",
       "2                  12.97           False  2018-01-01           661   \n",
       "3                   5.06           False  2018-01-01           823   \n",
       "4                  10.34           False  2018-01-01           728   \n",
       "\n",
       "   listing_term  int_rate  loan_amnt  monthly_pmt original_state  \n",
       "0          36.0     17.69     3000.0        108.0             NC  \n",
       "1          36.0     12.56     6899.0        231.0             NC  \n",
       "2          36.0     12.97     3800.0        128.0             NC  \n",
       "3          36.0      5.06    13000.0        390.0             NC  \n",
       "4          36.0     10.34     9250.0        300.0             NC  "
      ]
     },
     "execution_count": 16,
     "metadata": {},
     "output_type": "execute_result"
    }
   ],
   "source": [
    "raleigh_df_merged_tu_data = pd.merge(raleigh_df,tu_data, on=['id','sequence_num'])\n",
    "print(raleigh_df_merged_tu_data.shape[0])\n",
    "raleigh_df_merged_tu_data.head()"
   ]
  },
  {
   "cell_type": "markdown",
   "metadata": {},
   "source": [
    "What is the average credit score of the clients? What is the average among clients who accepted the offer?"
   ]
  },
  {
   "cell_type": "code",
   "execution_count": 17,
   "metadata": {},
   "outputs": [
    {
     "name": "stdout",
     "output_type": "stream",
     "text": [
      "The average credit score of the clients is: 689.821542311192\n",
      "The average credit score of the clients who accepted the offer is: 702.5446194225722\n"
     ]
    }
   ],
   "source": [
    "print(\"The average credit score of the clients is:\", raleigh_df_merged_tu_data.credit_score.mean())\n",
    "print(\"The average credit score of the clients who accepted the offer is:\", raleigh_df_merged_tu_data.query('offer_accepted == True').credit_score.mean())\n"
   ]
  },
  {
   "cell_type": "markdown",
   "metadata": {},
   "source": [
    "# Validations"
   ]
  },
  {
   "cell_type": "markdown",
   "metadata": {},
   "source": [
    "Before we embark on a statistical test, let's do some validations to make sure that the Raleig sample is not somehow distinct from the general population. Our random sample from the general population is the TU data."
   ]
  },
  {
   "cell_type": "markdown",
   "metadata": {},
   "source": [
    "Create a histogram to describe the distribution of requested loan amounts in Raleigh and in the general population. Do the distributions look similar? (A good rule-of-thumb for the number of bins to use is the square-root of the number of unique value.)"
   ]
  },
  {
   "cell_type": "code",
   "execution_count": 18,
   "metadata": {},
   "outputs": [
    {
     "data": {
      "image/png": "[encoded data removed]",
      "text/plain": [
       "<Figure size 432x288 with 1 Axes>"
      ]
     },
     "metadata": {
      "needs_background": "light"
     },
     "output_type": "display_data"
    }
   ],
   "source": [
    "raleigh_df_merged_tu_data.requested_amount.hist(color ='r',bins=int(np.sqrt(raleigh_df_merged_tu_data.requested_amount.nunique())));\n"
   ]
  },
  {
   "cell_type": "code",
   "execution_count": 19,
   "metadata": {},
   "outputs": [
    {
     "data": {
      "image/png": "[encoded data removed]",
      "text/plain": [
       "<Figure size 432x288 with 1 Axes>"
      ]
     },
     "metadata": {
      "needs_background": "light"
     },
     "output_type": "display_data"
    }
   ],
   "source": [
    "tu_data.loan_amnt.hist(bins=int(np.sqrt(tu_data.loan_amnt.nunique())));"
   ]
  },
  {
   "cell_type": "markdown",
   "metadata": {},
   "source": [
    "Describe the loan amount distribution using `sns.distplot` in the Raleigh dataframe and in TU."
   ]
  },
  {
   "cell_type": "code",
   "execution_count": 20,
   "metadata": {},
   "outputs": [
    {
     "data": {
      "image/png": "[encoded data removed]",
      "text/plain": [
       "<Figure size 432x288 with 1 Axes>"
      ]
     },
     "metadata": {
      "needs_background": "light"
     },
     "output_type": "display_data"
    }
   ],
   "source": [
    "sns.distplot(raleigh_df_merged_tu_data.loan_amnt, color=\"r\",bins=int(np.sqrt(raleigh_df_merged_tu_data.loan_amnt.nunique())));\n"
   ]
  },
  {
   "cell_type": "code",
   "execution_count": 21,
   "metadata": {},
   "outputs": [
    {
     "data": {
      "text/plain": [
       "count      8792.000000\n",
       "mean      11752.396724\n",
       "std        9534.989444\n",
       "min         500.000000\n",
       "25%        5000.000000\n",
       "50%        9600.000000\n",
       "75%       15000.000000\n",
       "max      200200.000000\n",
       "Name: loan_amnt, dtype: float64"
      ]
     },
     "execution_count": 21,
     "metadata": {},
     "output_type": "execute_result"
    }
   ],
   "source": [
    "raleigh_df_merged_tu_data.loan_amnt.describe()"
   ]
  },
  {
   "cell_type": "code",
   "execution_count": 22,
   "metadata": {},
   "outputs": [
    {
     "name": "stdout",
     "output_type": "stream",
     "text": [
      "Same plot without outliers:\n"
     ]
    },
    {
     "data": {
      "image/png": "[encoded data removed]",
      "text/plain": [
       "<Figure size 432x288 with 1 Axes>"
      ]
     },
     "metadata": {
      "needs_background": "light"
     },
     "output_type": "display_data"
    }
   ],
   "source": [
    "print(\"Same plot without outliers:\")\n",
    "sns.distplot(raleigh_df_merged_tu_data.query('loan_amnt < 50000').loan_amnt, color=\"r\",bins=int(np.sqrt(raleigh_df_merged_tu_data.loan_amnt.nunique())));"
   ]
  },
  {
   "cell_type": "code",
   "execution_count": 23,
   "metadata": {},
   "outputs": [
    {
     "data": {
      "text/plain": [
       "<matplotlib.axes._subplots.AxesSubplot at 0x7f29acfb18e0>"
      ]
     },
     "execution_count": 23,
     "metadata": {},
     "output_type": "execute_result"
    },
    {
     "data": {
      "image/png": "[encoded data removed]",
      "text/plain": [
       "<Figure size 432x288 with 1 Axes>"
      ]
     },
     "metadata": {
      "needs_background": "light"
     },
     "output_type": "display_data"
    }
   ],
   "source": [
    "sns.distplot(tu_data.loan_amnt, color=\"b\",bins=int(np.sqrt(tu_data.loan_amnt.nunique())))"
   ]
  },
  {
   "cell_type": "code",
   "execution_count": 24,
   "metadata": {},
   "outputs": [
    {
     "data": {
      "text/plain": [
       "count      8792.000000\n",
       "mean      11752.396724\n",
       "std        9534.989444\n",
       "min         500.000000\n",
       "25%        5000.000000\n",
       "50%        9600.000000\n",
       "75%       15000.000000\n",
       "max      200200.000000\n",
       "Name: loan_amnt, dtype: float64"
      ]
     },
     "execution_count": 24,
     "metadata": {},
     "output_type": "execute_result"
    }
   ],
   "source": [
    "raleigh_df_merged_tu_data.loan_amnt.describe()"
   ]
  },
  {
   "cell_type": "code",
   "execution_count": 25,
   "metadata": {},
   "outputs": [
    {
     "name": "stdout",
     "output_type": "stream",
     "text": [
      "Same plot without outliers:\n"
     ]
    },
    {
     "data": {
      "image/png": "[encoded data removed]",
      "text/plain": [
       "<Figure size 432x288 with 1 Axes>"
      ]
     },
     "metadata": {
      "needs_background": "light"
     },
     "output_type": "display_data"
    }
   ],
   "source": [
    "print(\"Same plot without outliers:\")\n",
    "sns.distplot(tu_data.query('loan_amnt <50000').loan_amnt, color=\"b\",bins=int(np.sqrt(tu_data.loan_amnt.nunique())));\n",
    "sns.distplot(raleigh_df_merged_tu_data.query('loan_amnt < 50000').loan_amnt, color=\"r\",bins=int(np.sqrt(raleigh_df_merged_tu_data.loan_amnt.nunique())));"
   ]
  },
  {
   "cell_type": "markdown",
   "metadata": {},
   "source": [
    "We also want to verify that the offered interest rate in Raleigh seem similar to those in the general population. \n",
    "Create a histogram to describe the distribution of offered interest rates in Raleigh and interest rates in the general population. Do the distributions look similar?"
   ]
  },
  {
   "cell_type": "code",
   "execution_count": 26,
   "metadata": {},
   "outputs": [
    {
     "data": {
      "image/png": "[encoded data removed]",
      "text/plain": [
       "<Figure size 432x288 with 1 Axes>"
      ]
     },
     "metadata": {
      "needs_background": "light"
     },
     "output_type": "display_data"
    },
    {
     "data": {
      "image/png": "[encoded data removed]",
      "text/plain": [
       "<Figure size 432x288 with 1 Axes>"
      ]
     },
     "metadata": {
      "needs_background": "light"
     },
     "output_type": "display_data"
    }
   ],
   "source": [
    "raleigh_df_merged_tu_data.int_rate.hist(bins=int(np.sqrt(raleigh_df_merged_tu_data.int_rate.nunique())), color=\"r\")\n",
    "plt.figure();\n",
    "tu_data.int_rate.hist(bins=int(np.sqrt(tu_data.int_rate.nunique())));"
   ]
  },
  {
   "cell_type": "markdown",
   "metadata": {},
   "source": [
    "Describe the interest rate distribution using `sns.distplot` in the Raleigh dataframe and in TU."
   ]
  },
  {
   "cell_type": "code",
   "execution_count": 27,
   "metadata": {},
   "outputs": [
    {
     "data": {
      "image/png": "[encoded data removed]",
      "text/plain": [
       "<Figure size 432x288 with 1 Axes>"
      ]
     },
     "metadata": {
      "needs_background": "light"
     },
     "output_type": "display_data"
    }
   ],
   "source": [
    "sns.distplot(raleigh_df_merged_tu_data.int_rate, color=\"r\",bins=int(np.sqrt(raleigh_df_merged_tu_data.int_rate.nunique())));\n",
    "sns.distplot(tu_data.int_rate, color=\"b\",bins=int(np.sqrt(tu_data.int_rate.nunique())));"
   ]
  },
  {
   "cell_type": "markdown",
   "metadata": {},
   "source": [
    "Additionally, we want to make sure the credit scores are not visibly different in Raleigh from the general population, as this might mean that the data we obtained from the town might not be representative of the general popuation."
   ]
  },
  {
   "cell_type": "markdown",
   "metadata": {},
   "source": [
    "Create a histogram to describe the distribution of credit scores in the Raleigh sample and in the general population. Do the distributions look similar? How many bins did you use?"
   ]
  },
  {
   "cell_type": "code",
   "execution_count": 28,
   "metadata": {},
   "outputs": [
    {
     "data": {
      "text/plain": [
       "<matplotlib.axes._subplots.AxesSubplot at 0x7f29ace3eee0>"
      ]
     },
     "execution_count": 28,
     "metadata": {},
     "output_type": "execute_result"
    },
    {
     "data": {
      "image/png": "[encoded data removed]",
      "text/plain": [
       "<Figure size 432x288 with 1 Axes>"
      ]
     },
     "metadata": {
      "needs_background": "light"
     },
     "output_type": "display_data"
    }
   ],
   "source": [
    "raleigh_df_merged_tu_data.credit_score.hist(bins=int(np.sqrt(raleigh_df_merged_tu_data.credit_score.nunique())), color=\"r\")"
   ]
  },
  {
   "cell_type": "code",
   "execution_count": 29,
   "metadata": {},
   "outputs": [
    {
     "name": "stdout",
     "output_type": "stream",
     "text": [
      "Same plot as above without outliers:\n"
     ]
    },
    {
     "data": {
      "text/plain": [
       "<matplotlib.axes._subplots.AxesSubplot at 0x7f29acfdcbe0>"
      ]
     },
     "execution_count": 29,
     "metadata": {},
     "output_type": "execute_result"
    },
    {
     "data": {
      "image/png": "[encoded data removed]",
      "text/plain": [
       "<Figure size 432x288 with 1 Axes>"
      ]
     },
     "metadata": {
      "needs_background": "light"
     },
     "output_type": "display_data"
    }
   ],
   "source": [
    "print(\"Same plot as above without outliers:\")\n",
    "raleigh_df_merged_tu_data.query('credit_score > 100').credit_score.hist(bins=int(np.sqrt(raleigh_df_merged_tu_data.credit_score.nunique())), color=\"r\")"
   ]
  },
  {
   "cell_type": "code",
   "execution_count": 30,
   "metadata": {},
   "outputs": [
    {
     "data": {
      "image/png": "[encoded data removed]",
      "text/plain": [
       "<Figure size 432x288 with 1 Axes>"
      ]
     },
     "metadata": {
      "needs_background": "light"
     },
     "output_type": "display_data"
    }
   ],
   "source": [
    "tu_data.credit_score.hist(bins=int(np.sqrt(tu_data.credit_score.nunique())));"
   ]
  },
  {
   "cell_type": "code",
   "execution_count": 31,
   "metadata": {},
   "outputs": [
    {
     "name": "stdout",
     "output_type": "stream",
     "text": [
      "Same plot as above without outliers:\n"
     ]
    },
    {
     "data": {
      "text/plain": [
       "<matplotlib.axes._subplots.AxesSubplot at 0x7f29acdd8430>"
      ]
     },
     "execution_count": 31,
     "metadata": {},
     "output_type": "execute_result"
    },
    {
     "data": {
      "image/png": "[encoded data removed]",
      "text/plain": [
       "<Figure size 432x288 with 1 Axes>"
      ]
     },
     "metadata": {
      "needs_background": "light"
     },
     "output_type": "display_data"
    }
   ],
   "source": [
    "print(\"Same plot as above without outliers:\")\n",
    "tu_data.query('credit_score > 100').credit_score.hist(bins=int(np.sqrt(tu_data.credit_score.nunique())), color=\"b\")"
   ]
  },
  {
   "cell_type": "markdown",
   "metadata": {},
   "source": [
    "Describe the credit score distribution using `sns.distplot`  in the Raleigh dataframe and in TU."
   ]
  },
  {
   "cell_type": "code",
   "execution_count": 32,
   "metadata": {},
   "outputs": [
    {
     "data": {
      "image/png": "[encoded data removed]",
      "text/plain": [
       "<Figure size 432x288 with 1 Axes>"
      ]
     },
     "metadata": {
      "needs_background": "light"
     },
     "output_type": "display_data"
    }
   ],
   "source": [
    "sns.distplot(raleigh_df_merged_tu_data.query('credit_score > 100').credit_score, color=\"r\",bins=int(np.sqrt(raleigh_df_merged_tu_data.credit_score.nunique())));\n",
    "sns.distplot(tu_data.query('credit_score > 100').credit_score, color=\"b\",bins=int(np.sqrt(tu_data.credit_score.nunique())));"
   ]
  },
  {
   "cell_type": "markdown",
   "metadata": {
    "execution": {
     "iopub.execute_input": "2021-07-04T09:43:56.046655Z",
     "iopub.status.busy": "2021-07-04T09:43:56.046389Z",
     "iopub.status.idle": "2021-07-04T09:43:56.393501Z",
     "shell.execute_reply": "2021-07-04T09:43:56.392695Z",
     "shell.execute_reply.started": "2021-07-04T09:43:56.046630Z"
    }
   },
   "source": [
    "Finally, check whether the loans in both datasets have similar distributions of term (i.e. the amount of months the borrower takes the loan for). What values of term exist in the data?"
   ]
  },
  {
   "cell_type": "code",
   "execution_count": 33,
   "metadata": {},
   "outputs": [
    {
     "name": "stdout",
     "output_type": "stream",
     "text": [
      "36.0    4896\n",
      "60.0    3896\n",
      "Name: listing_term, dtype: int64\n",
      "The ratio of people with term of 60 to the people with term 36 in raleigh is: 0.795751633986928\n",
      "36.0    542102\n",
      "60.0    430621\n",
      "Name: listing_term, dtype: int64\n",
      "The ratio of people with term of 60 to the people with term 36 in all population is: 0.7943541990252757\n"
     ]
    }
   ],
   "source": [
    "raleigh_term_value_counts = raleigh_df_merged_tu_data.listing_term.value_counts()\n",
    "tu_data_term_value_counts = tu_data.listing_term.value_counts()\n",
    "print(raleigh_term_value_counts)\n",
    "print(\"The ratio of people with term of 60 to the people with term 36 in raleigh is:\", raleigh_term_value_counts.values.tolist()[1]/raleigh_term_value_counts.values.tolist()[0])\n",
    "print(tu_data_term_value_counts)\n",
    "print(\"The ratio of people with term of 60 to the people with term 36 in all population is:\", tu_data_term_value_counts.values.tolist()[1]/tu_data_term_value_counts.values.tolist()[0])"
   ]
  },
  {
   "cell_type": "markdown",
   "metadata": {},
   "source": [
    "# CLT in action"
   ]
  },
  {
   "cell_type": "markdown",
   "metadata": {},
   "source": [
    "One more thing before we start the test. Our goal is to check whether, for which we'll run some statistical test (you probably already know which) which checks if something belongs to a noraml distribution with some mean and some variance. But... is activation normally distributed in the Raliegh sample? "
   ]
  },
  {
   "cell_type": "markdown",
   "metadata": {},
   "source": [
    "The values in the columns are true false so the distribution is Bernoulli distribution"
   ]
  },
  {
   "cell_type": "markdown",
   "metadata": {},
   "source": [
    "The reason why we can assume normality is because we're checking averages of samples and we're relying on the Central Limit Theorem. We won't prove the theorem, but let's test it for a bit. "
   ]
  },
  {
   "cell_type": "markdown",
   "metadata": {},
   "source": [
    "Write a function which takes a pandas series S and a natural number n and creates a series of means of samples (with replacement) of n entries from S. Decide for yourself on the length of the output series. You can also use a different data structure if you find it more suitable as the output."
   ]
  },
  {
   "cell_type": "code",
   "execution_count": 35,
   "metadata": {},
   "outputs": [],
   "source": [
    "def sample(S, n):\n",
    "    length = 1000\n",
    "    S = S.to_numpy()\n",
    "    indices = np.random.randint(S.size, size=(length, n))\n",
    "    return S[indices].mean(axis=1)"
   ]
  },
  {
   "cell_type": "markdown",
   "metadata": {},
   "source": [
    "Optionally- also create a function which, given the same input as above, plots a histogram of the series of means, and also indicates the mean of this series."
   ]
  },
  {
   "cell_type": "code",
   "execution_count": 36,
   "metadata": {},
   "outputs": [],
   "source": [
    "def histogram_samples(S, n, is_alpha=1, plot=True, mean=False, color_plt = 'b'):\n",
    "    samples = sample(S, n)\n",
    "    bins_num = max(int(np.sqrt(np.unique(samples).size)), 10)\n",
    "    plt.hist(samples, bins=bins_num, alpha=is_alpha, color=color_plt);\n",
    "    if plot:\n",
    "        plt.figure()\n",
    "    if mean:\n",
    "        return samples.mean()\n",
    "        "
   ]
  },
  {
   "cell_type": "markdown",
   "metadata": {},
   "source": [
    "Generate plots of the series of means of activation in Raleigh and in TU for n = 1, 2, 5, 10, 100, 1000 and 1e6, and indicate their means. Does the distribution approach a normal distribution as $n\\to\\infty$ in your opinion?"
   ]
  },
  {
   "cell_type": "code",
   "execution_count": 37,
   "metadata": {},
   "outputs": [
    {
     "data": {
      "image/png": "[encoded data removed]",
      "text/plain": [
       "<Figure size 432x288 with 1 Axes>"
      ]
     },
     "metadata": {
      "needs_background": "light"
     },
     "output_type": "display_data"
    },
    {
     "data": {
      "image/png": "[encoded data removed]",
      "text/plain": [
       "<Figure size 432x288 with 1 Axes>"
      ]
     },
     "metadata": {
      "needs_background": "light"
     },
     "output_type": "display_data"
    },
    {
     "data": {
      "image/png": "[encoded data removed]",
      "text/plain": [
       "<Figure size 432x288 with 1 Axes>"
      ]
     },
     "metadata": {
      "needs_background": "light"
     },
     "output_type": "display_data"
    },
    {
     "data": {
      "image/png": "[encoded data removed]",
      "text/plain": [
       "<Figure size 432x288 with 1 Axes>"
      ]
     },
     "metadata": {
      "needs_background": "light"
     },
     "output_type": "display_data"
    },
    {
     "data": {
      "image/png": "[encoded data removed]",
      "text/plain": [
       "<Figure size 432x288 with 1 Axes>"
      ]
     },
     "metadata": {
      "needs_background": "light"
     },
     "output_type": "display_data"
    },
    {
     "data": {
      "image/png": "[encoded data removed]",
      "text/plain": [
       "<Figure size 432x288 with 1 Axes>"
      ]
     },
     "metadata": {
      "needs_background": "light"
     },
     "output_type": "display_data"
    },
    {
     "data": {
      "image/png": "[encoded data removed]",
      "text/plain": [
       "<Figure size 432x288 with 1 Axes>"
      ]
     },
     "metadata": {
      "needs_background": "light"
     },
     "output_type": "display_data"
    },
    {
     "data": {
      "text/plain": [
       "<Figure size 432x288 with 0 Axes>"
      ]
     },
     "metadata": {},
     "output_type": "display_data"
    }
   ],
   "source": [
    "for n in [1, 2, 5, 10, 100, 1000, 1000000]:\n",
    "    histogram_samples(raleigh_df_merged_tu_data.offer_accepted, n);"
   ]
  },
  {
   "cell_type": "markdown",
   "metadata": {},
   "source": [
    "Now that your fuction is ready, it's time to make it part of our infrastucture:\n",
    "* Inside the `pagayapro` repo, create a branch called `feature/{your_user_name}/clt_tester/`.\n",
    "* Create a file called `clt.py` inside `~/pagayapro/users/{user_name}/assignment1/` \n",
    "* Copy the two finctions you just created into the file.\n",
    "* Push your file to `main`, open a PR and ask your mentor to review it. Once approved, rebase and merge."
   ]
  },
  {
   "cell_type": "markdown",
   "metadata": {},
   "source": [
    "# Statistical test "
   ]
  },
  {
   "cell_type": "markdown",
   "metadata": {},
   "source": [
    "As mentioned in the Notion doc, the activation in Raleigh before deployment was measured at 6.85%. In this section, you will run a test to check whether the activation in Raleigh is indeed different following the flyer program. "
   ]
  },
  {
   "cell_type": "code",
   "execution_count": 38,
   "metadata": {
    "tags": []
   },
   "outputs": [],
   "source": [
    "from statsmodels.stats.proportion import proportions_ztest"
   ]
  },
  {
   "cell_type": "markdown",
   "metadata": {},
   "source": [
    "Run a statistical test to check whether the current activation rate in Raleigh is different from 6,85%:\n",
    "1. What are your hypotheses?\n",
    "2. Setting your confidence level at 95%, what is the probability of an error of type I in your test? What is the probability of a type II error? What is the power of your test?\n",
    "3. Is the sample mean significantly different from the past value of 6.85?\n",
    "4. Interpret your results. Can you declare the program as successful in increasing activation (what is the probability of wrongfully declaring it successful)?\n",
    "5. Are there any other possible explanations for the change in activation that you observed? Discuss the possible drawbacks of our current test.\n",
    "\n",
    "Use `proportions_ztestz` from `statsmodels.stats.proportion` in order to perform the test. Are your results significant?"
   ]
  },
  {
   "cell_type": "markdown",
   "metadata": {},
   "source": [
    "\n",
    "\n",
    "## Answers:\n",
    "\n",
    "    1. H_0 - Activation rate in raleigh is 0.0685\n",
    "       H_1 - Activation rate in raleigh is not 0.00685.\n",
    "        \n",
    "    2. $ 1- CI = \\alpha => \\alpha = 0.05 $\n",
    "    3. We get that the mean value of raleigh_df.offer_accepted is 0.0908, which is significantly greater than 0.0685 according to the z_test.\n"
   ]
  },
  {
   "cell_type": "code",
   "execution_count": 39,
   "metadata": {},
   "outputs": [],
   "source": [
    "from statsmodels.stats.proportion import proportions_ztest"
   ]
  },
  {
   "cell_type": "code",
   "execution_count": 40,
   "metadata": {},
   "outputs": [
    {
     "name": "stdout",
     "output_type": "stream",
     "text": [
      "6.055416376341698 1.4005491742963572e-09\n"
     ]
    }
   ],
   "source": [
    "mean_activation_rate_in_raleigh = raleigh_df.offer_accepted.mean()\n",
    "# Try success of $H_0$\n",
    "sample_success = raleigh_df.offer_accepted.sum()\n",
    "sample_size = raleigh_df.offer_accepted.count()\n",
    "# for $H_0$ = 0.0685\n",
    "null_h = 0.0685\n",
    "\n",
    "stat, p_value = proportions_ztest(count=sample_success, nobs=sample_size, value=null_h, alternative='two-sided')\n",
    "print(stat, p_value)"
   ]
  },
  {
   "cell_type": "markdown",
   "metadata": {},
   "source": [
    "\n",
    "Do you see any possible problems in your methodology? What other factors can explain the change in activation, if such a change exists?"
   ]
  },
  {
   "cell_type": "markdown",
   "metadata": {},
   "source": [
    "Yes, it's possible that something else happened at the same time we started using fliers that can explain the increase in the activation. (a natural disaster in the arya, decline in the stock market, a factory closing etc.)"
   ]
  },
  {
   "cell_type": "markdown",
   "metadata": {
    "tags": []
   },
   "source": [
    "# A/b test"
   ]
  },
  {
   "cell_type": "markdown",
   "metadata": {},
   "source": [
    "In order to isolate temporal and environmental effects on activation, we'll run an a/b test, comparing the activation rate in Raleigh to that of Lubbock, TX, another town in which Pagaya operates without a flyer program. "
   ]
  },
  {
   "cell_type": "markdown",
   "metadata": {},
   "source": [
    "The activation forms for Lubbock also appear in the `offers` subdirectory of the `ASSIGNMENT1_DATA` folder. Read all files from this folder whose name contains the substring 'lubbock', and create a dataframe of final offers called `lubbock_df`, drop unnecessary rows from it, and enrich it with TU features."
   ]
  },
  {
   "cell_type": "code",
   "execution_count": 41,
   "metadata": {},
   "outputs": [],
   "source": [
    "lubbock_forms= (\n",
    "    glob.glob(\n",
    "        os.path.join(ASSIGNMENT1_DATA,\"offers/*lubbock*\")\n",
    "    )\n",
    ")"
   ]
  },
  {
   "cell_type": "code",
   "execution_count": 42,
   "metadata": {},
   "outputs": [
    {
     "name": "stdout",
     "output_type": "stream",
     "text": [
      "17177\n",
      "11320\n"
     ]
    },
    {
     "data": {
      "text/html": [
       "<div>\n",
       "<style scoped>\n",
       "    .dataframe tbody tr th:only-of-type {\n",
       "        vertical-align: middle;\n",
       "    }\n",
       "\n",
       "    .dataframe tbody tr th {\n",
       "        vertical-align: top;\n",
       "    }\n",
       "\n",
       "    .dataframe thead th {\n",
       "        text-align: right;\n",
       "    }\n",
       "</style>\n",
       "<table border=\"1\" class=\"dataframe\">\n",
       "  <thead>\n",
       "    <tr style=\"text-align: right;\">\n",
       "      <th></th>\n",
       "      <th>id</th>\n",
       "      <th>sequence_num</th>\n",
       "      <th>requested_amount</th>\n",
       "      <th>offered_interest_rate</th>\n",
       "      <th>offer_accepted</th>\n",
       "      <th>offer_date</th>\n",
       "    </tr>\n",
       "  </thead>\n",
       "  <tbody>\n",
       "    <tr>\n",
       "      <th>0</th>\n",
       "      <td>64796e2ad491e63b299894ddeabb5493e38b7b69770875...</td>\n",
       "      <td>5faf5b8cabb6636e1932f47b51c41e1b12324087fc2e27...</td>\n",
       "      <td>3258.0</td>\n",
       "      <td>17.58</td>\n",
       "      <td>False</td>\n",
       "      <td>2018-01-01</td>\n",
       "    </tr>\n",
       "    <tr>\n",
       "      <th>1</th>\n",
       "      <td>38d1be6da80ad94e7a2d226dbe070696c985613dd00f26...</td>\n",
       "      <td>e9d0ce908c56985675d71e793c06b5b6536afd3ba03d86...</td>\n",
       "      <td>16000.0</td>\n",
       "      <td>10.00</td>\n",
       "      <td>False</td>\n",
       "      <td>2018-01-01</td>\n",
       "    </tr>\n",
       "    <tr>\n",
       "      <th>2</th>\n",
       "      <td>c751b91bf7b5c2655d7ea397e5a03cbccb74513ff527e4...</td>\n",
       "      <td>f8b6f3cb44cfbb44ad3fa12e6758566a38ef13bbd822bd...</td>\n",
       "      <td>5000.0</td>\n",
       "      <td>18.09</td>\n",
       "      <td>True</td>\n",
       "      <td>2018-01-01</td>\n",
       "    </tr>\n",
       "    <tr>\n",
       "      <th>3</th>\n",
       "      <td>ed81efb2125c12ae73c92b36dad9f050c33f3ba3d98b42...</td>\n",
       "      <td>3aad64fa40af5bce4d473f7a38a360de1a2b6dc2b0284d...</td>\n",
       "      <td>9149.0</td>\n",
       "      <td>10.13</td>\n",
       "      <td>False</td>\n",
       "      <td>2018-01-01</td>\n",
       "    </tr>\n",
       "    <tr>\n",
       "      <th>4</th>\n",
       "      <td>fb9780f1d54cf106cc5d371a7e2436e586759fb25c9bb6...</td>\n",
       "      <td>a7bf579d73703d66fe7481fe9b2d3c0061171ed87a718b...</td>\n",
       "      <td>3500.0</td>\n",
       "      <td>9.42</td>\n",
       "      <td>False</td>\n",
       "      <td>2018-01-01</td>\n",
       "    </tr>\n",
       "  </tbody>\n",
       "</table>\n",
       "</div>"
      ],
      "text/plain": [
       "                                                  id  \\\n",
       "0  64796e2ad491e63b299894ddeabb5493e38b7b69770875...   \n",
       "1  38d1be6da80ad94e7a2d226dbe070696c985613dd00f26...   \n",
       "2  c751b91bf7b5c2655d7ea397e5a03cbccb74513ff527e4...   \n",
       "3  ed81efb2125c12ae73c92b36dad9f050c33f3ba3d98b42...   \n",
       "4  fb9780f1d54cf106cc5d371a7e2436e586759fb25c9bb6...   \n",
       "\n",
       "                                        sequence_num  requested_amount  \\\n",
       "0  5faf5b8cabb6636e1932f47b51c41e1b12324087fc2e27...            3258.0   \n",
       "1  e9d0ce908c56985675d71e793c06b5b6536afd3ba03d86...           16000.0   \n",
       "2  f8b6f3cb44cfbb44ad3fa12e6758566a38ef13bbd822bd...            5000.0   \n",
       "3  3aad64fa40af5bce4d473f7a38a360de1a2b6dc2b0284d...            9149.0   \n",
       "4  a7bf579d73703d66fe7481fe9b2d3c0061171ed87a718b...            3500.0   \n",
       "\n",
       "   offered_interest_rate  offer_accepted  offer_date  \n",
       "0                  17.58           False  2018-01-01  \n",
       "1                  10.00           False  2018-01-01  \n",
       "2                  18.09            True  2018-01-01  \n",
       "3                  10.13           False  2018-01-01  \n",
       "4                   9.42           False  2018-01-01  "
      ]
     },
     "execution_count": 42,
     "metadata": {},
     "output_type": "execute_result"
    }
   ],
   "source": [
    "#TODO - Check if id is the only measure for duplicate offer \n",
    "df_list = []\n",
    "# Read all files into dataframe list\n",
    "df_list = [pd.read_csv(file_path,index_col=None,header=0) for file_path in lubbock_forms]\n",
    "# Concat the data frames and sort by date\n",
    "lubbock_df = pd.concat(df_list, axis=0, ignore_index=True)\n",
    "lubbock_df.sort_values(by='offer_date')\n",
    "print(len(lubbock_df))\n",
    "lubbock_df_with_duplicates = lubbock_df.copy()\n",
    "# keep the last in duplicates by id - last date an offer was given.\n",
    "lubbock_df.drop_duplicates(subset='id', keep='last', inplace=True, ignore_index=False)\n",
    "print(len(lubbock_df))\n",
    "lubbock_df.reset_index()\n",
    "lubbock_df.head()"
   ]
  },
  {
   "cell_type": "code",
   "execution_count": 43,
   "metadata": {},
   "outputs": [],
   "source": [
    "lubbock_df_short = lubbock_df.copy()\n",
    "lubbock_df = pd.merge(lubbock_df,tu_data, on=['id','sequence_num'])"
   ]
  },
  {
   "cell_type": "code",
   "execution_count": 44,
   "metadata": {},
   "outputs": [
    {
     "data": {
      "text/html": [
       "<div>\n",
       "<style scoped>\n",
       "    .dataframe tbody tr th:only-of-type {\n",
       "        vertical-align: middle;\n",
       "    }\n",
       "\n",
       "    .dataframe tbody tr th {\n",
       "        vertical-align: top;\n",
       "    }\n",
       "\n",
       "    .dataframe thead th {\n",
       "        text-align: right;\n",
       "    }\n",
       "</style>\n",
       "<table border=\"1\" class=\"dataframe\">\n",
       "  <thead>\n",
       "    <tr style=\"text-align: right;\">\n",
       "      <th></th>\n",
       "      <th>id</th>\n",
       "      <th>sequence_num</th>\n",
       "      <th>requested_amount</th>\n",
       "      <th>offered_interest_rate</th>\n",
       "      <th>offer_accepted</th>\n",
       "      <th>offer_date</th>\n",
       "      <th>credit_score</th>\n",
       "      <th>listing_term</th>\n",
       "      <th>int_rate</th>\n",
       "      <th>loan_amnt</th>\n",
       "      <th>monthly_pmt</th>\n",
       "      <th>original_state</th>\n",
       "    </tr>\n",
       "  </thead>\n",
       "  <tbody>\n",
       "    <tr>\n",
       "      <th>0</th>\n",
       "      <td>64796e2ad491e63b299894ddeabb5493e38b7b69770875...</td>\n",
       "      <td>5faf5b8cabb6636e1932f47b51c41e1b12324087fc2e27...</td>\n",
       "      <td>3258.0</td>\n",
       "      <td>17.58</td>\n",
       "      <td>False</td>\n",
       "      <td>2018-01-01</td>\n",
       "      <td>583</td>\n",
       "      <td>60.0</td>\n",
       "      <td>17.58</td>\n",
       "      <td>3258.0</td>\n",
       "      <td>82.0</td>\n",
       "      <td>TX</td>\n",
       "    </tr>\n",
       "    <tr>\n",
       "      <th>1</th>\n",
       "      <td>38d1be6da80ad94e7a2d226dbe070696c985613dd00f26...</td>\n",
       "      <td>e9d0ce908c56985675d71e793c06b5b6536afd3ba03d86...</td>\n",
       "      <td>16000.0</td>\n",
       "      <td>10.00</td>\n",
       "      <td>False</td>\n",
       "      <td>2018-01-01</td>\n",
       "      <td>692</td>\n",
       "      <td>60.0</td>\n",
       "      <td>10.00</td>\n",
       "      <td>16000.0</td>\n",
       "      <td>340.0</td>\n",
       "      <td>TX</td>\n",
       "    </tr>\n",
       "    <tr>\n",
       "      <th>2</th>\n",
       "      <td>c751b91bf7b5c2655d7ea397e5a03cbccb74513ff527e4...</td>\n",
       "      <td>f8b6f3cb44cfbb44ad3fa12e6758566a38ef13bbd822bd...</td>\n",
       "      <td>5000.0</td>\n",
       "      <td>18.09</td>\n",
       "      <td>True</td>\n",
       "      <td>2018-01-01</td>\n",
       "      <td>643</td>\n",
       "      <td>36.0</td>\n",
       "      <td>18.09</td>\n",
       "      <td>5000.0</td>\n",
       "      <td>181.0</td>\n",
       "      <td>TX</td>\n",
       "    </tr>\n",
       "    <tr>\n",
       "      <th>3</th>\n",
       "      <td>ed81efb2125c12ae73c92b36dad9f050c33f3ba3d98b42...</td>\n",
       "      <td>3aad64fa40af5bce4d473f7a38a360de1a2b6dc2b0284d...</td>\n",
       "      <td>9149.0</td>\n",
       "      <td>10.13</td>\n",
       "      <td>False</td>\n",
       "      <td>2018-01-01</td>\n",
       "      <td>529</td>\n",
       "      <td>60.0</td>\n",
       "      <td>10.13</td>\n",
       "      <td>9149.0</td>\n",
       "      <td>195.0</td>\n",
       "      <td>TX</td>\n",
       "    </tr>\n",
       "    <tr>\n",
       "      <th>4</th>\n",
       "      <td>fb9780f1d54cf106cc5d371a7e2436e586759fb25c9bb6...</td>\n",
       "      <td>a7bf579d73703d66fe7481fe9b2d3c0061171ed87a718b...</td>\n",
       "      <td>3500.0</td>\n",
       "      <td>9.42</td>\n",
       "      <td>False</td>\n",
       "      <td>2018-01-01</td>\n",
       "      <td>698</td>\n",
       "      <td>36.0</td>\n",
       "      <td>9.42</td>\n",
       "      <td>3500.0</td>\n",
       "      <td>112.0</td>\n",
       "      <td>TX</td>\n",
       "    </tr>\n",
       "  </tbody>\n",
       "</table>\n",
       "</div>"
      ],
      "text/plain": [
       "                                                  id  \\\n",
       "0  64796e2ad491e63b299894ddeabb5493e38b7b69770875...   \n",
       "1  38d1be6da80ad94e7a2d226dbe070696c985613dd00f26...   \n",
       "2  c751b91bf7b5c2655d7ea397e5a03cbccb74513ff527e4...   \n",
       "3  ed81efb2125c12ae73c92b36dad9f050c33f3ba3d98b42...   \n",
       "4  fb9780f1d54cf106cc5d371a7e2436e586759fb25c9bb6...   \n",
       "\n",
       "                                        sequence_num  requested_amount  \\\n",
       "0  5faf5b8cabb6636e1932f47b51c41e1b12324087fc2e27...            3258.0   \n",
       "1  e9d0ce908c56985675d71e793c06b5b6536afd3ba03d86...           16000.0   \n",
       "2  f8b6f3cb44cfbb44ad3fa12e6758566a38ef13bbd822bd...            5000.0   \n",
       "3  3aad64fa40af5bce4d473f7a38a360de1a2b6dc2b0284d...            9149.0   \n",
       "4  a7bf579d73703d66fe7481fe9b2d3c0061171ed87a718b...            3500.0   \n",
       "\n",
       "   offered_interest_rate  offer_accepted  offer_date  credit_score  \\\n",
       "0                  17.58           False  2018-01-01           583   \n",
       "1                  10.00           False  2018-01-01           692   \n",
       "2                  18.09            True  2018-01-01           643   \n",
       "3                  10.13           False  2018-01-01           529   \n",
       "4                   9.42           False  2018-01-01           698   \n",
       "\n",
       "   listing_term  int_rate  loan_amnt  monthly_pmt original_state  \n",
       "0          60.0     17.58     3258.0         82.0             TX  \n",
       "1          60.0     10.00    16000.0        340.0             TX  \n",
       "2          36.0     18.09     5000.0        181.0             TX  \n",
       "3          60.0     10.13     9149.0        195.0             TX  \n",
       "4          36.0      9.42     3500.0        112.0             TX  "
      ]
     },
     "execution_count": 44,
     "metadata": {},
     "output_type": "execute_result"
    }
   ],
   "source": [
    "lubbock_df.head()"
   ]
  },
  {
   "cell_type": "markdown",
   "metadata": {},
   "source": [
    "What is the average interest rate in Lubbock? What is it among accepting borrowers?"
   ]
  },
  {
   "cell_type": "code",
   "execution_count": 45,
   "metadata": {},
   "outputs": [
    {
     "name": "stdout",
     "output_type": "stream",
     "text": [
      "The average interest rate in Lubbock is: 15.505397526501767\n",
      "The average interest rate among accepting borrowers in Lubbock is: 13.553895131086144\n"
     ]
    }
   ],
   "source": [
    "print(\"The average interest rate in Lubbock is:\",lubbock_df.offered_interest_rate.mean())\n",
    "print(\"The average interest rate among accepting borrowers in Lubbock is:\",lubbock_df.query('offer_accepted == True').offered_interest_rate.mean())"
   ]
  },
  {
   "cell_type": "markdown",
   "metadata": {},
   "source": [
    "What is the average credit score in Lubbock? What is it among accepting borrowers?"
   ]
  },
  {
   "cell_type": "code",
   "execution_count": 46,
   "metadata": {},
   "outputs": [
    {
     "name": "stdout",
     "output_type": "stream",
     "text": [
      "The average credit score in Lubbock is: 690.0338339222615\n",
      "The average credit score among accepting borrowers in Lubbock is: 730.5337078651686\n"
     ]
    }
   ],
   "source": [
    "print(\"The average credit score in Lubbock is:\",lubbock_df.credit_score.mean())\n",
    "print(\"The average credit score among accepting borrowers in Lubbock is:\",lubbock_df.query('offer_accepted == True').credit_score.mean())"
   ]
  },
  {
   "cell_type": "markdown",
   "metadata": {},
   "source": [
    "What is the rate of activation in Lubbock?"
   ]
  },
  {
   "cell_type": "code",
   "execution_count": 47,
   "metadata": {},
   "outputs": [
    {
     "name": "stdout",
     "output_type": "stream",
     "text": [
      "The rate of activation in Lubbock is: 0.04717314487632509\n"
     ]
    }
   ],
   "source": [
    "print(\"The rate of activation in Lubbock is:\",lubbock_df.offer_accepted.mean())"
   ]
  },
  {
   "cell_type": "markdown",
   "metadata": {},
   "source": [
    "## Caution about a/b test "
   ]
  },
  {
   "cell_type": "markdown",
   "metadata": {},
   "source": [
    "Note that this is not a classical a/b test. Usually, in such a test, one creates two random subgroups from the general population and applies a manipulation to one of them in order to see if the manipulation had an effect. However, in this case, it is very complicated to isolate a random subgroup from any population and deploy the flyer program only on it.\n",
    "Thus, due to production limitation, we have to make do with what we got."
   ]
  },
  {
   "cell_type": "markdown",
   "metadata": {},
   "source": [
    "In order to justify the use of an a/b test for this situation, we should at least verify that the borrower population in Lubbock and Raleigh seem as though they were randomly selected from the general population. We have actually already checked it for Raleigh above. Add TU features to the loan amount, interest rate, credit score and term comparisons and see if there any major differences between the three populations (Lubbock, Raleigh and TU)."
   ]
  },
  {
   "cell_type": "code",
   "execution_count": 48,
   "metadata": {},
   "outputs": [
    {
     "data": {
      "image/png": "[encoded data removed]",
      "text/plain": [
       "<Figure size 432x288 with 1 Axes>"
      ]
     },
     "metadata": {
      "needs_background": "light"
     },
     "output_type": "display_data"
    },
    {
     "data": {
      "image/png": "[encoded data removed]",
      "text/plain": [
       "<Figure size 432x288 with 1 Axes>"
      ]
     },
     "metadata": {
      "needs_background": "light"
     },
     "output_type": "display_data"
    }
   ],
   "source": [
    "sns.distplot(lubbock_df.loan_amnt, color=\"b\",bins=int(np.sqrt(tu_data.loan_amnt.nunique())));\n",
    "sns.distplot(raleigh_df_merged_tu_data.loan_amnt, color=\"r\",bins=int(np.sqrt(raleigh_df_merged_tu_data.loan_amnt.nunique()))).set_title('loan amount in lubbock and raleigh');\n",
    "plt.figure()\n",
    "sns.distplot(lubbock_df.query('loan_amnt <50000').loan_amnt, color=\"b\",bins=int(np.sqrt(tu_data.loan_amnt.nunique())));\n",
    "sns.distplot(raleigh_df_merged_tu_data.query('loan_amnt < 50000').loan_amnt, color=\"r\",bins=int(np.sqrt(raleigh_df_merged_tu_data.loan_amnt.nunique()))).set_title('loan amount in lubbock and raleigh without outliers');"
   ]
  },
  {
   "cell_type": "code",
   "execution_count": 49,
   "metadata": {},
   "outputs": [
    {
     "data": {
      "image/png": "[encoded data removed]",
      "text/plain": [
       "<Figure size 432x288 with 1 Axes>"
      ]
     },
     "metadata": {
      "needs_background": "light"
     },
     "output_type": "display_data"
    }
   ],
   "source": [
    "sns.distplot(lubbock_df.int_rate, color=\"b\",bins=int(np.sqrt(tu_data.int_rate.nunique())));\n",
    "sns.distplot(raleigh_df_merged_tu_data.int_rate, color=\"r\",bins=int(np.sqrt(raleigh_df_merged_tu_data.int_rate.nunique()))).set_title('interest rate in lubbock and raleigh');"
   ]
  },
  {
   "cell_type": "code",
   "execution_count": 50,
   "metadata": {},
   "outputs": [
    {
     "data": {
      "image/png": "[encoded data removed]",
      "text/plain": [
       "<Figure size 432x288 with 1 Axes>"
      ]
     },
     "metadata": {
      "needs_background": "light"
     },
     "output_type": "display_data"
    },
    {
     "data": {
      "image/png": "[encoded data removed]",
      "text/plain": [
       "<Figure size 432x288 with 1 Axes>"
      ]
     },
     "metadata": {
      "needs_background": "light"
     },
     "output_type": "display_data"
    }
   ],
   "source": [
    "sns.distplot(lubbock_df.credit_score, color=\"b\",bins=int(np.sqrt(tu_data.credit_score.nunique())));\n",
    "sns.distplot(raleigh_df_merged_tu_data.credit_score, color=\"r\",bins=int(np.sqrt(raleigh_df_merged_tu_data.credit_score.nunique()))).set_title('credit score in lubbock and raleigh');\n",
    "plt.figure()\n",
    "sns.distplot(lubbock_df.query('credit_score > 100').credit_score, color=\"b\",bins=int(np.sqrt(tu_data.credit_score.nunique())));\n",
    "sns.distplot(raleigh_df_merged_tu_data.query('credit_score > 100').credit_score, color=\"r\",bins=int(np.sqrt(raleigh_df_merged_tu_data.credit_score.nunique())))\\\n",
    ".set_title('credit score in lubbock and raleigh without outliers');"
   ]
  },
  {
   "cell_type": "code",
   "execution_count": 51,
   "metadata": {},
   "outputs": [
    {
     "name": "stdout",
     "output_type": "stream",
     "text": [
      "36.0    4896\n",
      "60.0    3896\n",
      "Name: listing_term, dtype: int64\n",
      "The ratio of people with term of 60 to the people with term 36 in raleigh is: 0.795751633986928\n",
      "36.0    6266\n",
      "60.0    5054\n",
      "Name: listing_term, dtype: int64\n",
      "The ratio of people with term of 60 to the people with term 36 in lubbock is: 0.8065751675710182\n"
     ]
    }
   ],
   "source": [
    "raleigh_term_value_counts = raleigh_df_merged_tu_data.listing_term.value_counts()\n",
    "lubbock_term_value_counts = lubbock_df.listing_term.value_counts()\n",
    "print(raleigh_term_value_counts)\n",
    "print(\"The ratio of people with term of 60 to the people with term 36 in raleigh is:\", raleigh_term_value_counts.values.tolist()[1]/raleigh_term_value_counts.values.tolist()[0])\n",
    "print(lubbock_term_value_counts)\n",
    "print(\"The ratio of people with term of 60 to the people with term 36 in lubbock is:\", lubbock_term_value_counts.values.tolist()[1]/lubbock_term_value_counts.values.tolist()[0])"
   ]
  },
  {
   "cell_type": "code",
   "execution_count": null,
   "metadata": {},
   "outputs": [],
   "source": []
  },
  {
   "cell_type": "markdown",
   "metadata": {},
   "source": [
    "## Performing the test"
   ]
  },
  {
   "cell_type": "markdown",
   "metadata": {
    "execution": {
     "iopub.status.busy": "2021-07-01T03:36:51.530342Z",
     "iopub.status.idle": "2021-07-01T03:36:51.530744Z"
    }
   },
   "source": [
    "Use the function you created in the file `clt.py` to plot the series of means of activation in Raleigh and Lubbock for samples of size n= 1, 10, 1000 and 1e6, and compare the means of the two histograms. To they seem to converge to the same value?"
   ]
  },
  {
   "cell_type": "code",
   "execution_count": 52,
   "metadata": {},
   "outputs": [
    {
     "name": "stdout",
     "output_type": "stream",
     "text": [
      "raleigh mean: 0.092 lubbock mean 0.041 n=1\n",
      "raleigh mean: 0.08580000000000002 lubbock mean 0.0469 n=10\n",
      "raleigh mean: 0.08693799999999999 lubbock mean 0.04763800000000001 n=1000\n",
      "raleigh mean: 0.086671405 lubbock mean 0.047182093 n=1000000\n"
     ]
    },
    {
     "data": {
      "image/png": "[encoded data removed]",
      "text/plain": [
       "<Figure size 432x288 with 1 Axes>"
      ]
     },
     "metadata": {
      "needs_background": "light"
     },
     "output_type": "display_data"
    },
    {
     "data": {
      "image/png": "[encoded data removed]",
      "text/plain": [
       "<Figure size 432x288 with 1 Axes>"
      ]
     },
     "metadata": {
      "needs_background": "light"
     },
     "output_type": "display_data"
    },
    {
     "data": {
      "image/png": "[encoded data removed]",
      "text/plain": [
       "<Figure size 432x288 with 1 Axes>"
      ]
     },
     "metadata": {
      "needs_background": "light"
     },
     "output_type": "display_data"
    },
    {
     "data": {
      "image/png": "[encoded data removed]",
      "text/plain": [
       "<Figure size 432x288 with 1 Axes>"
      ]
     },
     "metadata": {
      "needs_background": "light"
     },
     "output_type": "display_data"
    },
    {
     "data": {
      "text/plain": [
       "<Figure size 432x288 with 0 Axes>"
      ]
     },
     "metadata": {},
     "output_type": "display_data"
    }
   ],
   "source": [
    "for n in [1, 10, 1000, 1000000]:\n",
    "    raleigh_mean = histogram_samples(raleigh_df_merged_tu_data.offer_accepted, n, is_alpha=0.3, plot=False, mean=True);\n",
    "    lubbock_mean = histogram_samples(lubbock_df.offer_accepted, n, is_alpha=0.3, plot=True, mean=True, color_plt='red');\n",
    "    print('raleigh mean:', raleigh_mean, 'lubbock mean', lubbock_mean, 'n={}'.format(n))"
   ]
  },
  {
   "cell_type": "markdown",
   "metadata": {},
   "source": [
    "Apply a statistical test to see whether the activation rate in Raleigh, NC is significantly larger than Lubbock, TX. Clearly state and validate your test's assumption. \n",
    "\n",
    "1. What are your hypotheses?\n",
    "2. Setting your confidence level at 95%, what is the probability of an error of type I in your test? What is the probability of a type II error?\n",
    "3. Are the two samples significantly different? \n",
    "4. Interpret your results. Can you declare the program as successful in increasing activation? What is the probability of wrongfully declaring it successful?"
   ]
  },
  {
   "cell_type": "markdown",
   "metadata": {},
   "source": [
    "1. H0 - Raleigh activation rate is not significantly larger than Lubbock\n",
    "   H1 -  Raleigh activation rate is significantly larger than Lubbock\n",
    "2. alpha = 0.05.\n",
    "   In order to calculate beta we'll perform a ztest "
   ]
  },
  {
   "cell_type": "markdown",
   "metadata": {},
   "source": [
    "Use the `proportions_ztestz` function from `statsmodels.stats.proportion` to perform a comparison between the activation probability in Lubbock and in Raleigh. "
   ]
  },
  {
   "cell_type": "code",
   "execution_count": 53,
   "metadata": {},
   "outputs": [
    {
     "name": "stdout",
     "output_type": "stream",
     "text": [
      "3.\n",
      "5.475858880145861e-30\n"
     ]
    }
   ],
   "source": [
    "\n",
    "print(\"3.\")\n",
    "sample_success_raleigh = raleigh_df.offer_accepted.sum()\n",
    "sample_success_lubbock = lubbock_df.offer_accepted.sum()\n",
    "stat, p_value = proportions_ztest(count=[sample_success_lubbock,sample_success_raleigh], nobs=[lubbock_df.shape[0],raleigh_df.shape[0]], alternative='smaller')\n",
    "print(p_value)"
   ]
  },
  {
   "cell_type": "markdown",
   "metadata": {},
   "source": [
    "Since we get that our Pvalue is less than 5% we can decline H0 and say that Raleigh activation rate is significantly larger than Lubbock."
   ]
  },
  {
   "cell_type": "markdown",
   "metadata": {
    "execution": {
     "iopub.status.busy": "2021-07-01T03:36:51.542043Z",
     "iopub.status.idle": "2021-07-01T03:36:51.542428Z"
    }
   },
   "source": [
    "Interprest your results; do you observe a significant change in activation in Raleigh? What is the probability of wrongfully declaring the program successful?"
   ]
  },
  {
   "cell_type": "markdown",
   "metadata": {},
   "source": [
    "As we assumed, the probabilty of wrongfully declaring the program successful is 5%."
   ]
  },
  {
   "cell_type": "markdown",
   "metadata": {},
   "source": [
    "# Testing for activation in sub-populations"
   ]
  },
  {
   "cell_type": "markdown",
   "metadata": {},
   "source": [
    "Now that you applied the a/b test to the Lubbock and Raleigh datasets, it is now required that you make a similar comparison on different subsets of the data within various credit score and loan amount bins. To do so, let us first decide on how to segment our data.\n",
    "\n",
    "You are asked to divide your data into 10 bins according to loan amount, and then divide each of those bins into 10 bins according to loan amount. The most staightforward way of doing this is by using the `pd.qcut` function; first dividing the data into 10 quantiles of credit score and then dividing each of these quantiles into 10 according to loan amount."
   ]
  },
  {
   "cell_type": "markdown",
   "metadata": {},
   "source": [
    "Divide your datasets as above and add two columns to your data which indicate the (credit_score, loan_amnt) of the bin."
   ]
  },
  {
   "cell_type": "code",
   "execution_count": 54,
   "metadata": {},
   "outputs": [
    {
     "data": {
      "text/html": [
       "<div>\n",
       "<style scoped>\n",
       "    .dataframe tbody tr th:only-of-type {\n",
       "        vertical-align: middle;\n",
       "    }\n",
       "\n",
       "    .dataframe tbody tr th {\n",
       "        vertical-align: top;\n",
       "    }\n",
       "\n",
       "    .dataframe thead th {\n",
       "        text-align: right;\n",
       "    }\n",
       "</style>\n",
       "<table border=\"1\" class=\"dataframe\">\n",
       "  <thead>\n",
       "    <tr style=\"text-align: right;\">\n",
       "      <th></th>\n",
       "      <th>sequence_num</th>\n",
       "      <th>credit_score</th>\n",
       "      <th>listing_term</th>\n",
       "      <th>int_rate</th>\n",
       "      <th>loan_amnt</th>\n",
       "      <th>monthly_pmt</th>\n",
       "      <th>original_state</th>\n",
       "    </tr>\n",
       "    <tr>\n",
       "      <th>id</th>\n",
       "      <th></th>\n",
       "      <th></th>\n",
       "      <th></th>\n",
       "      <th></th>\n",
       "      <th></th>\n",
       "      <th></th>\n",
       "      <th></th>\n",
       "    </tr>\n",
       "  </thead>\n",
       "  <tbody>\n",
       "    <tr>\n",
       "      <th>adf5219e4cb985352184eb7fa597737e4a9777f7354f7a8a58270da147792561</th>\n",
       "      <td>d0820401b209782dae4284b3dd96b41e08c3e8566fbb33...</td>\n",
       "      <td>814</td>\n",
       "      <td>36.0</td>\n",
       "      <td>7.86</td>\n",
       "      <td>5500.0</td>\n",
       "      <td>172.0</td>\n",
       "      <td>MI</td>\n",
       "    </tr>\n",
       "    <tr>\n",
       "      <th>0a0f130443af4c6597bb074942970eaddeb125d398e2cca42175c56befc8a171</th>\n",
       "      <td>2f05cd66cb998e5e55f6f296344b271b2b89b996c7c037...</td>\n",
       "      <td>800</td>\n",
       "      <td>36.0</td>\n",
       "      <td>7.91</td>\n",
       "      <td>20000.0</td>\n",
       "      <td>626.0</td>\n",
       "      <td>NM</td>\n",
       "    </tr>\n",
       "    <tr>\n",
       "      <th>4ba9c6a38b650ee06b8b88a48621bd363cdf611e63400c6fc4bbffbd1bf20c47</th>\n",
       "      <td>20bdbfaf0006db032d8a4176add08fd4ef45abfb17c474...</td>\n",
       "      <td>653</td>\n",
       "      <td>36.0</td>\n",
       "      <td>30.51</td>\n",
       "      <td>3674.0</td>\n",
       "      <td>157.0</td>\n",
       "      <td>SD</td>\n",
       "    </tr>\n",
       "    <tr>\n",
       "      <th>dae3a344292e07d4b8935a453c37aef01303f21b2f37ccbd1c4408f158533acb</th>\n",
       "      <td>53084498c6bf053a4d1cf309e1b8ec234e503bb1a3dd4e...</td>\n",
       "      <td>623</td>\n",
       "      <td>60.0</td>\n",
       "      <td>23.46</td>\n",
       "      <td>14056.0</td>\n",
       "      <td>400.0</td>\n",
       "      <td>NC</td>\n",
       "    </tr>\n",
       "    <tr>\n",
       "      <th>8af2ae2462d012e4d85aa687a16a4f5fb64525928235da43c795f73dc0cadd04</th>\n",
       "      <td>f750c4ecac12ae1c156998ed3dff3f46d2d19f37250074...</td>\n",
       "      <td>627</td>\n",
       "      <td>60.0</td>\n",
       "      <td>25.55</td>\n",
       "      <td>8659.0</td>\n",
       "      <td>257.0</td>\n",
       "      <td>TN</td>\n",
       "    </tr>\n",
       "  </tbody>\n",
       "</table>\n",
       "</div>"
      ],
      "text/plain": [
       "                                                                                         sequence_num  \\\n",
       "id                                                                                                      \n",
       "adf5219e4cb985352184eb7fa597737e4a9777f7354f7a8...  d0820401b209782dae4284b3dd96b41e08c3e8566fbb33...   \n",
       "0a0f130443af4c6597bb074942970eaddeb125d398e2cca...  2f05cd66cb998e5e55f6f296344b271b2b89b996c7c037...   \n",
       "4ba9c6a38b650ee06b8b88a48621bd363cdf611e63400c6...  20bdbfaf0006db032d8a4176add08fd4ef45abfb17c474...   \n",
       "dae3a344292e07d4b8935a453c37aef01303f21b2f37ccb...  53084498c6bf053a4d1cf309e1b8ec234e503bb1a3dd4e...   \n",
       "8af2ae2462d012e4d85aa687a16a4f5fb64525928235da4...  f750c4ecac12ae1c156998ed3dff3f46d2d19f37250074...   \n",
       "\n",
       "                                                    credit_score  \\\n",
       "id                                                                 \n",
       "adf5219e4cb985352184eb7fa597737e4a9777f7354f7a8...           814   \n",
       "0a0f130443af4c6597bb074942970eaddeb125d398e2cca...           800   \n",
       "4ba9c6a38b650ee06b8b88a48621bd363cdf611e63400c6...           653   \n",
       "dae3a344292e07d4b8935a453c37aef01303f21b2f37ccb...           623   \n",
       "8af2ae2462d012e4d85aa687a16a4f5fb64525928235da4...           627   \n",
       "\n",
       "                                                    listing_term  int_rate  \\\n",
       "id                                                                           \n",
       "adf5219e4cb985352184eb7fa597737e4a9777f7354f7a8...          36.0      7.86   \n",
       "0a0f130443af4c6597bb074942970eaddeb125d398e2cca...          36.0      7.91   \n",
       "4ba9c6a38b650ee06b8b88a48621bd363cdf611e63400c6...          36.0     30.51   \n",
       "dae3a344292e07d4b8935a453c37aef01303f21b2f37ccb...          60.0     23.46   \n",
       "8af2ae2462d012e4d85aa687a16a4f5fb64525928235da4...          60.0     25.55   \n",
       "\n",
       "                                                    loan_amnt  monthly_pmt  \\\n",
       "id                                                                           \n",
       "adf5219e4cb985352184eb7fa597737e4a9777f7354f7a8...     5500.0        172.0   \n",
       "0a0f130443af4c6597bb074942970eaddeb125d398e2cca...    20000.0        626.0   \n",
       "4ba9c6a38b650ee06b8b88a48621bd363cdf611e63400c6...     3674.0        157.0   \n",
       "dae3a344292e07d4b8935a453c37aef01303f21b2f37ccb...    14056.0        400.0   \n",
       "8af2ae2462d012e4d85aa687a16a4f5fb64525928235da4...     8659.0        257.0   \n",
       "\n",
       "                                                   original_state  \n",
       "id                                                                 \n",
       "adf5219e4cb985352184eb7fa597737e4a9777f7354f7a8...             MI  \n",
       "0a0f130443af4c6597bb074942970eaddeb125d398e2cca...             NM  \n",
       "4ba9c6a38b650ee06b8b88a48621bd363cdf611e63400c6...             SD  \n",
       "dae3a344292e07d4b8935a453c37aef01303f21b2f37ccb...             NC  \n",
       "8af2ae2462d012e4d85aa687a16a4f5fb64525928235da4...             TN  "
      ]
     },
     "execution_count": 54,
     "metadata": {},
     "output_type": "execute_result"
    }
   ],
   "source": [
    "tu_data.drop_duplicates(inplace=True)\n",
    "tu_data.head()\n",
    "\n",
    "    "
   ]
  },
  {
   "cell_type": "code",
   "execution_count": 55,
   "metadata": {},
   "outputs": [
    {
     "name": "stdout",
     "output_type": "stream",
     "text": [
      "[  1. 612. 637. 655. 672. 689. 705. 724. 750. 784. 850.]\n",
      "[array([1.00000e+02, 2.50000e+03, 3.03000e+03, 3.66000e+03, 4.52500e+03,\n",
      "       5.23200e+03, 6.50000e+03, 8.00000e+03, 1.00000e+04, 1.29814e+04,\n",
      "       2.00200e+05]), array([4.50000e+01, 2.70000e+03, 3.46600e+03, 4.48000e+03, 5.09900e+03,\n",
      "       6.52750e+03, 8.00500e+03, 1.00000e+04, 1.20000e+04, 1.60000e+04,\n",
      "       1.68589e+05]), array([2.75000e+02, 3.00000e+03, 4.00000e+03, 5.00000e+03, 6.30000e+03,\n",
      "       8.00000e+03, 1.00000e+04, 1.19040e+04, 1.50000e+04, 2.00000e+04,\n",
      "       3.44562e+05]), array([   168. ,   3000. ,   4500. ,   5500. ,   7349.2,   9600. ,\n",
      "        10000. ,  13075. ,  16040.6,  23903.6, 129306. ]), array([   275.,   3200.,   5000.,   6000.,   8000.,  10000.,  11000.,\n",
      "        15000.,  18500.,  25000., 120665.]), array([1.50000e+02, 3.50000e+03, 5.00000e+03, 6.00100e+03, 8.00000e+03,\n",
      "       1.00000e+04, 1.20000e+04, 1.50000e+04, 2.00000e+04, 2.50000e+04,\n",
      "       1.88693e+05]), array([4.5000e+01, 3.5000e+03, 5.0000e+03, 6.5000e+03, 8.7996e+03,\n",
      "       1.0000e+04, 1.2500e+04, 1.5000e+04, 2.0000e+04, 2.5900e+04,\n",
      "       2.4880e+05]), array([1.50000e+02, 4.00000e+03, 5.10000e+03, 7.47500e+03, 1.00000e+04,\n",
      "       1.10000e+04, 1.50000e+04, 1.71536e+04, 2.20000e+04, 3.00000e+04,\n",
      "       2.03418e+05]), array([4.00000e+02, 4.02460e+03, 5.50000e+03, 7.65000e+03, 1.00000e+04,\n",
      "       1.20000e+04, 1.50000e+04, 1.80000e+04, 2.25184e+04, 3.00000e+04,\n",
      "       8.50000e+05]), array([1.7400e+02, 4.0000e+03, 5.1650e+03, 7.2266e+03, 1.0000e+04,\n",
      "       1.1000e+04, 1.5000e+04, 1.7500e+04, 2.2077e+04, 3.0000e+04,\n",
      "       4.0650e+05])]\n"
     ]
    }
   ],
   "source": [
    "tu_data['credit_score_bin'], bins1 = pd.qcut(tu_data['credit_score'], 10, labels=False, retbins=True)\n",
    "print(bins1)\n",
    "tu_data.head()\n",
    "\n",
    "tu_data['loan_amount_bin'] = 0\n",
    "bins2 = []\n",
    "for i in range(10):\n",
    "    tu_data.loc[tu_data['credit_score_bin'] == i,['loan_amount_bin']] , b2 = pd.qcut(tu_data.loc[tu_data['credit_score_bin'] == i, 'loan_amnt'], 10, labels=False, retbins=True)\n",
    "    bins2.append(b2)\n",
    "tu_data.head(20)\n",
    "print(bins2)"
   ]
  },
  {
   "cell_type": "code",
   "execution_count": 56,
   "metadata": {},
   "outputs": [],
   "source": [
    "raleigh_df_merged_tu_data['city'] = 'raleigh'\n",
    "lubbock_df['city'] = 'lubbock'\n",
    "lubbock_df = pd.merge(lubbock_df_short,tu_data, on=['id','sequence_num'])\n",
    "raleigh_df = pd.merge(raleigh_df,tu_data, on=['id','sequence_num'])"
   ]
  },
  {
   "cell_type": "markdown",
   "metadata": {},
   "source": [
    "Run an a/b test on each of the bins in your data and create a $10\\times 10$ table containing the $p$ value of each test."
   ]
  },
  {
   "cell_type": "code",
   "execution_count": 57,
   "metadata": {},
   "outputs": [],
   "source": [
    "def calculate_pvalue(df1,df2):\n",
    "    sample_success_df1 = df1.offer_accepted.sum()\n",
    "    sample_success_df2 = df2.offer_accepted.sum()\n",
    "    sample_size_df1 = df1.offer_accepted.count()\n",
    "    sample_size_df2 = df2.offer_accepted.count()\n",
    "    stat, p_value = proportions_ztest(count=[sample_success_df1,sample_success_df2], nobs=[sample_size_df1,sample_size_df2], alternative='larger')\n",
    "    return p_value"
   ]
  },
  {
   "cell_type": "code",
   "execution_count": 58,
   "metadata": {},
   "outputs": [],
   "source": [
    "p_value_mat = []\n",
    "p_value_list = []\n",
    "\n",
    "for i in range(10):\n",
    "    for j in range(10):\n",
    "        df1 = raleigh_df.query('(credit_score_bin == @i) and (loan_amount_bin == @j)')\n",
    "        df2 = lubbock_df.query('(credit_score_bin == @i) and (loan_amount_bin == @j)')\n",
    "        p_value_list.append(calculate_pvalue(df1,df2))\n",
    "    p_value_mat.append(p_value_list)\n",
    "    p_value_list = []                                       "
   ]
  },
  {
   "cell_type": "markdown",
   "metadata": {},
   "source": [
    "Use the [seaborn.heatmap](https://seaborn.pydata.org/generated/seaborn.heatmap.html) function to represent your table as a heatmap. You can also use it on a suitable table of boolean values to get a more robus representation of which experiments turned out significant."
   ]
  },
  {
   "cell_type": "code",
   "execution_count": 59,
   "metadata": {},
   "outputs": [
    {
     "data": {
      "text/plain": [
       "<matplotlib.axes._subplots.AxesSubplot at 0x7f2992de4820>"
      ]
     },
     "execution_count": 59,
     "metadata": {},
     "output_type": "execute_result"
    },
    {
     "data": {
      "image/png": "[encoded data removed]",
      "text/plain": [
       "<Figure size 432x288 with 2 Axes>"
      ]
     },
     "metadata": {
      "needs_background": "light"
     },
     "output_type": "display_data"
    }
   ],
   "source": [
    "sns.heatmap(p_value_mat,annot=True, linewidths=.5);"
   ]
  },
  {
   "cell_type": "markdown",
   "metadata": {},
   "source": [
    "What is the probability of falsely rejecting the null hypothesis in each cell? What is the probability of falsely rejecting the null hypothesis in at least one of the cells (i.e. what is the **family wise error rate**)?\n",
    "\n",
    "In other words, given that we made $m$ experiments, with confidence level $\\alpha$, what is the probabilty $\\mathbb{P}\\left(\\bigcup_i X_i \\le q_{\\alpha}\\right)$? \n",
    "\n",
    "_Note_: you may assume that sampling from different bins are independent."
   ]
  },
  {
   "cell_type": "markdown",
   "metadata": {},
   "source": [
    "The probability of falsely rejecting the null hypothesis in each cell is 0.05 by the assumption."
   ]
  },
  {
   "cell_type": "code",
   "execution_count": 60,
   "metadata": {},
   "outputs": [
    {
     "name": "stdout",
     "output_type": "stream",
     "text": [
      "the probability of falsely rejecting the null hypothesis in at least one of the cell is: 0.994079470779666\n"
     ]
    }
   ],
   "source": [
    "p_all_is_right = 0.95 **(100) \n",
    "p_at_least_1_mistake = 1 - p_all_is_right\n",
    "print(\"the probability of falsely rejecting the null hypothesis in at least one of the cell is:\", p_at_least_1_mistake)"
   ]
  },
  {
   "cell_type": "markdown",
   "metadata": {},
   "source": [
    "## Bonferroni correction "
   ]
  },
  {
   "cell_type": "markdown",
   "metadata": {},
   "source": [
    "One way of assuring that your FWER remains below $\\alpha=0.05$ is to apply a <a href=\"https://en.wikipedia.org/wiki/Bonferroni_correction\">**Bonferroni correction**</a>. This means that we set the signficance level of each individual test to $\\alpha/m$, where $m=100$ is the number of tests (see, e.g., Wikipedia for an explanation). \n",
    "\n",
    "Use a Bonferroni correction on your segmented a/b test and output a $10\\times10$ table of boolean values, indicating which test gave a significant result under this correction."
   ]
  },
  {
   "cell_type": "code",
   "execution_count": 61,
   "metadata": {},
   "outputs": [
    {
     "data": {
      "text/plain": [
       "array([[False, False, False, False, False, False, False, False, False,\n",
       "        False],\n",
       "       [False, False, False, False, False, False, False, False, False,\n",
       "        False],\n",
       "       [False, False, False, False, False, False, False, False, False,\n",
       "        False],\n",
       "       [False, False, False, False, False, False, False, False, False,\n",
       "        False],\n",
       "       [False, False, False, False, False, False, False, False, False,\n",
       "        False],\n",
       "       [False, False, False, False, False, False, False, False, False,\n",
       "        False],\n",
       "       [False, False, False, False, False, False, False, False, False,\n",
       "        False],\n",
       "       [False, False, False, False, False, False, False, False, False,\n",
       "        False],\n",
       "       [False, False, False, False, False, False, False, False, False,\n",
       "        False],\n",
       "       [False, False, False, False, False, False, False, False, False,\n",
       "        False]])"
      ]
     },
     "execution_count": 61,
     "metadata": {},
     "output_type": "execute_result"
    }
   ],
   "source": [
    "np.array(p_value_mat) < 0"
   ]
  },
  {
   "cell_type": "markdown",
   "metadata": {},
   "source": [
    "How many of your tests came out significant under this correction?"
   ]
  },
  {
   "cell_type": "markdown",
   "metadata": {},
   "source": [
    "non of them"
   ]
  },
  {
   "cell_type": "markdown",
   "metadata": {},
   "source": [
    "Visualize your result using the [seaborn.heatmap]() function and compare to the previous heatmap."
   ]
  },
  {
   "cell_type": "code",
   "execution_count": 62,
   "metadata": {},
   "outputs": [
    {
     "data": {
      "text/plain": [
       "<matplotlib.axes._subplots.AxesSubplot at 0x7f2992c43a00>"
      ]
     },
     "execution_count": 62,
     "metadata": {},
     "output_type": "execute_result"
    },
    {
     "data": {
      "image/png": "[encoded data removed]",
      "text/plain": [
       "<Figure size 432x288 with 2 Axes>"
      ]
     },
     "metadata": {
      "needs_background": "light"
     },
     "output_type": "display_data"
    }
   ],
   "source": [
    "sns.heatmap(np.array(p_value_mat) < 0.0005)"
   ]
  },
  {
   "cell_type": "markdown",
   "metadata": {},
   "source": [
    "## BH correction "
   ]
  },
  {
   "cell_type": "markdown",
   "metadata": {},
   "source": [
    "The Bonferroni correction is often criticized for being too restrictive, as you probably noticed in the last subsection. A more commonly used method for correcting $\\alpha$ values is the Benjamini-Hochberg method. You can <a href=\"https://www.youtube.com/watch?v=K8LQSvtjcEo\">check out the quest</a> for a nice explanation about it."
   ]
  },
  {
   "cell_type": "markdown",
   "metadata": {},
   "source": [
    "Start by arranging the $p$-values of your original test as a series and listing them in ascending order. You can use the `pd.DataFrame.stack` and `pd.Series.sort_values` methods."
   ]
  },
  {
   "cell_type": "code",
   "execution_count": 63,
   "metadata": {},
   "outputs": [
    {
     "data": {
      "text/plain": [
       "0      8\n",
       "1      6\n",
       "2      0\n",
       "3     50\n",
       "4      5\n",
       "      ..\n",
       "95    81\n",
       "96    45\n",
       "97    86\n",
       "98    61\n",
       "99    47\n",
       "Name: index, Length: 100, dtype: int64"
      ]
     },
     "execution_count": 63,
     "metadata": {},
     "output_type": "execute_result"
    }
   ],
   "source": [
    "p_values = pd.DataFrame(np.array(p_value_mat).flatten(), index=np.arange(100), columns=['p_values']).sort_values('p_values').reset_index()\n",
    "p_values_sorted = pd.Series(np.array(p_value_mat).reshape(100,)).sort_values().values\n",
    "p_values_sorted \n",
    "p_values['index']"
   ]
  },
  {
   "cell_type": "markdown",
   "metadata": {},
   "source": [
    "Plot your sorted $p$-values"
   ]
  },
  {
   "cell_type": "code",
   "execution_count": 64,
   "metadata": {},
   "outputs": [
    {
     "data": {
      "image/png": "[encoded data removed]",
      "text/plain": [
       "<Figure size 432x288 with 1 Axes>"
      ]
     },
     "metadata": {
      "needs_background": "light"
     },
     "output_type": "display_data"
    }
   ],
   "source": [
    "plt.plot(p_values_sorted)\n",
    "plt.show()"
   ]
  },
  {
   "cell_type": "markdown",
   "metadata": {},
   "source": [
    "For each entry of the new series, compute the value compute the value $\\frac{i}{m}\\cdot\\alpha$, where $i$ is the ordinal place of the entry (i.e. 1,2,...len(series)), $m=100$ and $\\alpha=0.05$ as above. Add a plot of these values to your $p$-values plot."
   ]
  },
  {
   "cell_type": "code",
   "execution_count": 65,
   "metadata": {},
   "outputs": [
    {
     "data": {
      "image/png": "[encoded data removed]",
      "text/plain": [
       "<Figure size 432x288 with 1 Axes>"
      ]
     },
     "metadata": {
      "needs_background": "light"
     },
     "output_type": "display_data"
    }
   ],
   "source": [
    "s = np.array([0.05*i/100 for i in range(1, 101)])\n",
    "plt.plot(p_values_sorted)\n",
    "plt.plot(s)\n",
    "plt.show()"
   ]
  },
  {
   "cell_type": "markdown",
   "metadata": {},
   "source": [
    "Find the largest index $i$ for which the $p$-value in the $i$-th place in the series is smaller than $\\frac{i}{m}\\cdot\\alpha$. That is- the last index in the plot you just created where the $p$-values line lies below the _adjusted_-$\\alpha$ line."
   ]
  },
  {
   "cell_type": "code",
   "execution_count": 66,
   "metadata": {},
   "outputs": [
    {
     "data": {
      "text/html": [
       "<div>\n",
       "<style scoped>\n",
       "    .dataframe tbody tr th:only-of-type {\n",
       "        vertical-align: middle;\n",
       "    }\n",
       "\n",
       "    .dataframe tbody tr th {\n",
       "        vertical-align: top;\n",
       "    }\n",
       "\n",
       "    .dataframe thead th {\n",
       "        text-align: right;\n",
       "    }\n",
       "</style>\n",
       "<table border=\"1\" class=\"dataframe\">\n",
       "  <thead>\n",
       "    <tr style=\"text-align: right;\">\n",
       "      <th></th>\n",
       "      <th>index</th>\n",
       "      <th>p_values</th>\n",
       "      <th>alpha</th>\n",
       "      <th>reject_H0_hypothesis</th>\n",
       "    </tr>\n",
       "  </thead>\n",
       "  <tbody>\n",
       "    <tr>\n",
       "      <th>11</th>\n",
       "      <td>9</td>\n",
       "      <td>0.003552</td>\n",
       "      <td>0.006</td>\n",
       "      <td>True</td>\n",
       "    </tr>\n",
       "  </tbody>\n",
       "</table>\n",
       "</div>"
      ],
      "text/plain": [
       "    index  p_values  alpha  reject_H0_hypothesis\n",
       "11      9  0.003552  0.006                  True"
      ]
     },
     "execution_count": 66,
     "metadata": {},
     "output_type": "execute_result"
    }
   ],
   "source": [
    "p_values['alpha'] = s\n",
    "p_values['reject_H0_hypothesis'] = (p_values_sorted < s)\n",
    "p_values[p_values.reject_H0_hypothesis].tail(1)"
   ]
  },
  {
   "cell_type": "markdown",
   "metadata": {},
   "source": [
    "Reject the null hypothesis for all test before and including this index, and accept it for all others. Reformat your table into a $10\\times 10$ dataframe; for which bins did we get a significant result in the corrected test?"
   ]
  },
  {
   "cell_type": "code",
   "execution_count": 77,
   "metadata": {},
   "outputs": [
    {
     "data": {
      "text/html": [
       "<div>\n",
       "<style scoped>\n",
       "    .dataframe tbody tr th:only-of-type {\n",
       "        vertical-align: middle;\n",
       "    }\n",
       "\n",
       "    .dataframe tbody tr th {\n",
       "        vertical-align: top;\n",
       "    }\n",
       "\n",
       "    .dataframe thead th {\n",
       "        text-align: right;\n",
       "    }\n",
       "</style>\n",
       "<table border=\"1\" class=\"dataframe\">\n",
       "  <thead>\n",
       "    <tr style=\"text-align: right;\">\n",
       "      <th>loan_amount_bin</th>\n",
       "      <th>0</th>\n",
       "      <th>1</th>\n",
       "      <th>2</th>\n",
       "      <th>3</th>\n",
       "      <th>4</th>\n",
       "      <th>5</th>\n",
       "      <th>6</th>\n",
       "      <th>7</th>\n",
       "      <th>8</th>\n",
       "      <th>9</th>\n",
       "    </tr>\n",
       "    <tr>\n",
       "      <th>credit_score_bin</th>\n",
       "      <th></th>\n",
       "      <th></th>\n",
       "      <th></th>\n",
       "      <th></th>\n",
       "      <th></th>\n",
       "      <th></th>\n",
       "      <th></th>\n",
       "      <th></th>\n",
       "      <th></th>\n",
       "      <th></th>\n",
       "    </tr>\n",
       "  </thead>\n",
       "  <tbody>\n",
       "    <tr>\n",
       "      <th>0</th>\n",
       "      <td>True</td>\n",
       "      <td>True</td>\n",
       "      <td>True</td>\n",
       "      <td>False</td>\n",
       "      <td>False</td>\n",
       "      <td>True</td>\n",
       "      <td>True</td>\n",
       "      <td>False</td>\n",
       "      <td>True</td>\n",
       "      <td>True</td>\n",
       "    </tr>\n",
       "    <tr>\n",
       "      <th>1</th>\n",
       "      <td>True</td>\n",
       "      <td>False</td>\n",
       "      <td>False</td>\n",
       "      <td>False</td>\n",
       "      <td>False</td>\n",
       "      <td>True</td>\n",
       "      <td>False</td>\n",
       "      <td>False</td>\n",
       "      <td>False</td>\n",
       "      <td>False</td>\n",
       "    </tr>\n",
       "    <tr>\n",
       "      <th>2</th>\n",
       "      <td>False</td>\n",
       "      <td>False</td>\n",
       "      <td>False</td>\n",
       "      <td>False</td>\n",
       "      <td>False</td>\n",
       "      <td>False</td>\n",
       "      <td>False</td>\n",
       "      <td>False</td>\n",
       "      <td>False</td>\n",
       "      <td>False</td>\n",
       "    </tr>\n",
       "    <tr>\n",
       "      <th>3</th>\n",
       "      <td>False</td>\n",
       "      <td>False</td>\n",
       "      <td>False</td>\n",
       "      <td>False</td>\n",
       "      <td>False</td>\n",
       "      <td>False</td>\n",
       "      <td>False</td>\n",
       "      <td>False</td>\n",
       "      <td>False</td>\n",
       "      <td>False</td>\n",
       "    </tr>\n",
       "    <tr>\n",
       "      <th>4</th>\n",
       "      <td>False</td>\n",
       "      <td>False</td>\n",
       "      <td>False</td>\n",
       "      <td>False</td>\n",
       "      <td>False</td>\n",
       "      <td>False</td>\n",
       "      <td>False</td>\n",
       "      <td>False</td>\n",
       "      <td>False</td>\n",
       "      <td>False</td>\n",
       "    </tr>\n",
       "    <tr>\n",
       "      <th>5</th>\n",
       "      <td>True</td>\n",
       "      <td>False</td>\n",
       "      <td>True</td>\n",
       "      <td>False</td>\n",
       "      <td>False</td>\n",
       "      <td>False</td>\n",
       "      <td>False</td>\n",
       "      <td>False</td>\n",
       "      <td>False</td>\n",
       "      <td>False</td>\n",
       "    </tr>\n",
       "    <tr>\n",
       "      <th>6</th>\n",
       "      <td>False</td>\n",
       "      <td>False</td>\n",
       "      <td>False</td>\n",
       "      <td>False</td>\n",
       "      <td>False</td>\n",
       "      <td>False</td>\n",
       "      <td>False</td>\n",
       "      <td>False</td>\n",
       "      <td>False</td>\n",
       "      <td>False</td>\n",
       "    </tr>\n",
       "    <tr>\n",
       "      <th>7</th>\n",
       "      <td>False</td>\n",
       "      <td>False</td>\n",
       "      <td>False</td>\n",
       "      <td>False</td>\n",
       "      <td>False</td>\n",
       "      <td>True</td>\n",
       "      <td>False</td>\n",
       "      <td>False</td>\n",
       "      <td>False</td>\n",
       "      <td>False</td>\n",
       "    </tr>\n",
       "    <tr>\n",
       "      <th>8</th>\n",
       "      <td>False</td>\n",
       "      <td>False</td>\n",
       "      <td>False</td>\n",
       "      <td>False</td>\n",
       "      <td>False</td>\n",
       "      <td>False</td>\n",
       "      <td>False</td>\n",
       "      <td>False</td>\n",
       "      <td>False</td>\n",
       "      <td>False</td>\n",
       "    </tr>\n",
       "    <tr>\n",
       "      <th>9</th>\n",
       "      <td>False</td>\n",
       "      <td>False</td>\n",
       "      <td>False</td>\n",
       "      <td>False</td>\n",
       "      <td>False</td>\n",
       "      <td>False</td>\n",
       "      <td>False</td>\n",
       "      <td>False</td>\n",
       "      <td>False</td>\n",
       "      <td>False</td>\n",
       "    </tr>\n",
       "  </tbody>\n",
       "</table>\n",
       "</div>"
      ],
      "text/plain": [
       "loan_amount_bin       0      1      2      3      4      5      6      7  \\\n",
       "credit_score_bin                                                           \n",
       "0                  True   True   True  False  False   True   True  False   \n",
       "1                  True  False  False  False  False   True  False  False   \n",
       "2                 False  False  False  False  False  False  False  False   \n",
       "3                 False  False  False  False  False  False  False  False   \n",
       "4                 False  False  False  False  False  False  False  False   \n",
       "5                  True  False   True  False  False  False  False  False   \n",
       "6                 False  False  False  False  False  False  False  False   \n",
       "7                 False  False  False  False  False   True  False  False   \n",
       "8                 False  False  False  False  False  False  False  False   \n",
       "9                 False  False  False  False  False  False  False  False   \n",
       "\n",
       "loan_amount_bin       8      9  \n",
       "credit_score_bin                \n",
       "0                  True   True  \n",
       "1                 False  False  \n",
       "2                 False  False  \n",
       "3                 False  False  \n",
       "4                 False  False  \n",
       "5                 False  False  \n",
       "6                 False  False  \n",
       "7                 False  False  \n",
       "8                 False  False  \n",
       "9                 False  False  "
      ]
     },
     "execution_count": 77,
     "metadata": {},
     "output_type": "execute_result"
    }
   ],
   "source": [
    "p_values['credit_score_bin'] = p_values['index']//10\n",
    "p_values['loan_amount_bin'] = p_values['index']%10\n",
    "pd.pivot_table(p_values[['reject_H0_hypothesis', 'credit_score_bin', 'loan_amount_bin']],\n",
    "               values='reject_H0_hypothesis', index=['credit_score_bin'],\n",
    "                    columns=['loan_amount_bin'])"
   ]
  },
  {
   "cell_type": "markdown",
   "metadata": {},
   "source": [
    "Visualize your result using the [seaborn.heatmap]() function and compare to the previous heatmap."
   ]
  },
  {
   "cell_type": "code",
   "execution_count": 68,
   "metadata": {},
   "outputs": [
    {
     "data": {
      "text/plain": [
       "<matplotlib.axes._subplots.AxesSubplot at 0x7f29ac9b5b80>"
      ]
     },
     "execution_count": 68,
     "metadata": {},
     "output_type": "execute_result"
    },
    {
     "data": {
      "image/png": "[encoded data removed]",
      "text/plain": [
       "<Figure size 432x288 with 2 Axes>"
      ]
     },
     "metadata": {
      "needs_background": "light"
     },
     "output_type": "display_data"
    }
   ],
   "source": [
    "sns.heatmap((p_values.set_index('index').sort_index()).reject_H0_hypothesis.values.reshape(10,10))"
   ]
  },
  {
   "cell_type": "markdown",
   "metadata": {},
   "source": [
    "### Validating your results"
   ]
  },
  {
   "cell_type": "markdown",
   "metadata": {},
   "source": [
    "You can validate your results (for both corrections) using the <a href= \"https://www.statsmodels.org/dev/generated/statsmodels.stats.multitest.multipletests.html\">`statsmodels.stats.multitest.multipletests`</a> package."
   ]
  },
  {
   "cell_type": "code",
   "execution_count": 70,
   "metadata": {},
   "outputs": [
    {
     "name": "stdout",
     "output_type": "stream",
     "text": [
      "is my results equivalent to \"multipletests\"s? True\n"
     ]
    },
    {
     "data": {
      "image/png": "[encoded data removed]",
      "text/plain": [
       "<Figure size 432x288 with 2 Axes>"
      ]
     },
     "metadata": {
      "needs_background": "light"
     },
     "output_type": "display_data"
    }
   ],
   "source": [
    "\n",
    "to_rject, _, _, _ = multipletests(np.array(p_value_mat).flatten(), 0.05, 'bonferroni')\n",
    "sns.heatmap(to_rject.reshape(10,10))\n",
    "print('is my results equivalent to \"multipletests\"s?', np.all((np.array(p_value_mat) < 0.0005) == to_rject.reshape(10,10)))"
   ]
  },
  {
   "cell_type": "code",
   "execution_count": 71,
   "metadata": {},
   "outputs": [
    {
     "name": "stdout",
     "output_type": "stream",
     "text": [
      "is my results equivalent to \"multipletests\"s? True\n"
     ]
    },
    {
     "data": {
      "image/png": "[encoded data removed]",
      "text/plain": [
       "<Figure size 432x288 with 2 Axes>"
      ]
     },
     "metadata": {
      "needs_background": "light"
     },
     "output_type": "display_data"
    }
   ],
   "source": [
    "to_rject, _, _, _ = multipletests(np.array(p_value_mat).flatten(), 0.05, 'fdr_bh')\n",
    "sns.heatmap(to_rject.reshape(10,10))\n",
    "print('is my results equivalent to \"multipletests\"s?', np.all((p_values.set_index('index').sort_index()).reject_H0_hypothesis.values == to_rject))"
   ]
  },
  {
   "cell_type": "code",
   "execution_count": null,
   "metadata": {},
   "outputs": [],
   "source": []
  },
  {
   "cell_type": "code",
   "execution_count": null,
   "metadata": {},
   "outputs": [],
   "source": []
  }
 ],
 "metadata": {
  "kernelspec": {
   "display_name": "Python 3",
   "language": "python",
   "name": "python3"
  },
  "language_info": {
   "codemirror_mode": {
    "name": "ipython",
    "version": 3
   },
   "file_extension": ".py",
   "mimetype": "text/x-python",
   "name": "python",
   "nbconvert_exporter": "python",
   "pygments_lexer": "ipython3",
   "version": "3.8.10"
  }
 },
 "nbformat": 4,
 "nbformat_minor": 4
}

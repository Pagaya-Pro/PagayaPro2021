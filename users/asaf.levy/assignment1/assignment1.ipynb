{
 "cells": [
  {
   "cell_type": "markdown",
   "metadata": {},
   "source": [
    "# Assignment objective"
   ]
  },
  {
   "cell_type": "markdown",
   "metadata": {},
   "source": [
    "We have data from Raleigh, NC, where we recently deployed a flyer program in order to increase public awareness of the possibility of taking a Pagaya loan. You objective is to assess the potency of the flyer program in terms of activation by analyzing production and TU data obtained from the town.\n"
   ]
  },
  {
   "cell_type": "markdown",
   "metadata": {},
   "source": [
    "# Basic imports "
   ]
  },
  {
   "cell_type": "code",
   "execution_count": 2,
   "metadata": {
    "tags": []
   },
   "outputs": [],
   "source": [
    "import pandas as pd\n",
    "import numpy as np\n",
    "import matplotlib.pyplot as plt\n",
    "import seaborn as sns\n",
    "import os\n",
    "\n",
    "installed=0"
   ]
  },
  {
   "cell_type": "markdown",
   "metadata": {},
   "source": [
    "# Data preparation"
   ]
  },
  {
   "cell_type": "markdown",
   "metadata": {},
   "source": [
    "## Data from TU "
   ]
  },
  {
   "cell_type": "markdown",
   "metadata": {},
   "source": [
    "To begin with, upload TUs credit information from the relevant quarter (which is 2018Q3). This data is available in our `s3` path under the name `tu_gen_data2018Q3.parquet`. To get to our `s3` path import `DATA_FILES_PATH` from `pagayapro.paths.data_paths`"
   ]
  },
  {
   "cell_type": "code",
   "execution_count": 3,
   "metadata": {
    "tags": []
   },
   "outputs": [],
   "source": [
    "from pagayapro.paths.data_paths import DATA_FILES_PATH"
   ]
  },
  {
   "cell_type": "markdown",
   "metadata": {},
   "source": [
    "read the parquet file from `s3`. Only read the columns [\"sequence_num\", \"credit_score\", \"listing_term\", \"int_rate\", \"loan_amnt\", \"monthly_pmt\", \"original_state\"]"
   ]
  },
  {
   "cell_type": "code",
   "execution_count": 4,
   "metadata": {
    "tags": []
   },
   "outputs": [],
   "source": [
    "tu_data= pd.read_parquet(\n",
    "    os.path.join(DATA_FILES_PATH,\"tu_gen_data_2018Q3.parquet\"),\n",
    "                columns = [\"sequence_num\", \"credit_score\", \n",
    "                           \"listing_term\", \"int_rate\" ,\n",
    "                           \"loan_amnt\", \"monthly_pmt\", \n",
    "                           \"original_state\"])"
   ]
  },
  {
   "cell_type": "markdown",
   "metadata": {},
   "source": [
    "Output the first 5 rows of tu_data"
   ]
  },
  {
   "cell_type": "code",
   "execution_count": 5,
   "metadata": {},
   "outputs": [
    {
     "data": {
      "text/html": [
       "<div>\n",
       "<style scoped>\n",
       "    .dataframe tbody tr th:only-of-type {\n",
       "        vertical-align: middle;\n",
       "    }\n",
       "\n",
       "    .dataframe tbody tr th {\n",
       "        vertical-align: top;\n",
       "    }\n",
       "\n",
       "    .dataframe thead th {\n",
       "        text-align: right;\n",
       "    }\n",
       "</style>\n",
       "<table border=\"1\" class=\"dataframe\">\n",
       "  <thead>\n",
       "    <tr style=\"text-align: right;\">\n",
       "      <th></th>\n",
       "      <th>sequence_num</th>\n",
       "      <th>credit_score</th>\n",
       "      <th>listing_term</th>\n",
       "      <th>int_rate</th>\n",
       "      <th>loan_amnt</th>\n",
       "      <th>monthly_pmt</th>\n",
       "      <th>original_state</th>\n",
       "    </tr>\n",
       "    <tr>\n",
       "      <th>id</th>\n",
       "      <th></th>\n",
       "      <th></th>\n",
       "      <th></th>\n",
       "      <th></th>\n",
       "      <th></th>\n",
       "      <th></th>\n",
       "      <th></th>\n",
       "    </tr>\n",
       "  </thead>\n",
       "  <tbody>\n",
       "    <tr>\n",
       "      <th>adf5219e4cb985352184eb7fa597737e4a9777f7354f7a8a58270da147792561</th>\n",
       "      <td>d0820401b209782dae4284b3dd96b41e08c3e8566fbb33...</td>\n",
       "      <td>814</td>\n",
       "      <td>36.0</td>\n",
       "      <td>7.86</td>\n",
       "      <td>5500.0</td>\n",
       "      <td>172.0</td>\n",
       "      <td>MI</td>\n",
       "    </tr>\n",
       "    <tr>\n",
       "      <th>0a0f130443af4c6597bb074942970eaddeb125d398e2cca42175c56befc8a171</th>\n",
       "      <td>2f05cd66cb998e5e55f6f296344b271b2b89b996c7c037...</td>\n",
       "      <td>800</td>\n",
       "      <td>36.0</td>\n",
       "      <td>7.91</td>\n",
       "      <td>20000.0</td>\n",
       "      <td>626.0</td>\n",
       "      <td>NM</td>\n",
       "    </tr>\n",
       "    <tr>\n",
       "      <th>4ba9c6a38b650ee06b8b88a48621bd363cdf611e63400c6fc4bbffbd1bf20c47</th>\n",
       "      <td>20bdbfaf0006db032d8a4176add08fd4ef45abfb17c474...</td>\n",
       "      <td>653</td>\n",
       "      <td>36.0</td>\n",
       "      <td>30.51</td>\n",
       "      <td>3674.0</td>\n",
       "      <td>157.0</td>\n",
       "      <td>SD</td>\n",
       "    </tr>\n",
       "    <tr>\n",
       "      <th>dae3a344292e07d4b8935a453c37aef01303f21b2f37ccbd1c4408f158533acb</th>\n",
       "      <td>53084498c6bf053a4d1cf309e1b8ec234e503bb1a3dd4e...</td>\n",
       "      <td>623</td>\n",
       "      <td>60.0</td>\n",
       "      <td>23.46</td>\n",
       "      <td>14056.0</td>\n",
       "      <td>400.0</td>\n",
       "      <td>NC</td>\n",
       "    </tr>\n",
       "    <tr>\n",
       "      <th>8af2ae2462d012e4d85aa687a16a4f5fb64525928235da43c795f73dc0cadd04</th>\n",
       "      <td>f750c4ecac12ae1c156998ed3dff3f46d2d19f37250074...</td>\n",
       "      <td>627</td>\n",
       "      <td>60.0</td>\n",
       "      <td>25.55</td>\n",
       "      <td>8659.0</td>\n",
       "      <td>257.0</td>\n",
       "      <td>TN</td>\n",
       "    </tr>\n",
       "  </tbody>\n",
       "</table>\n",
       "</div>"
      ],
      "text/plain": [
       "                                                                                         sequence_num  \\\n",
       "id                                                                                                      \n",
       "adf5219e4cb985352184eb7fa597737e4a9777f7354f7a8...  d0820401b209782dae4284b3dd96b41e08c3e8566fbb33...   \n",
       "0a0f130443af4c6597bb074942970eaddeb125d398e2cca...  2f05cd66cb998e5e55f6f296344b271b2b89b996c7c037...   \n",
       "4ba9c6a38b650ee06b8b88a48621bd363cdf611e63400c6...  20bdbfaf0006db032d8a4176add08fd4ef45abfb17c474...   \n",
       "dae3a344292e07d4b8935a453c37aef01303f21b2f37ccb...  53084498c6bf053a4d1cf309e1b8ec234e503bb1a3dd4e...   \n",
       "8af2ae2462d012e4d85aa687a16a4f5fb64525928235da4...  f750c4ecac12ae1c156998ed3dff3f46d2d19f37250074...   \n",
       "\n",
       "                                                    credit_score  \\\n",
       "id                                                                 \n",
       "adf5219e4cb985352184eb7fa597737e4a9777f7354f7a8...           814   \n",
       "0a0f130443af4c6597bb074942970eaddeb125d398e2cca...           800   \n",
       "4ba9c6a38b650ee06b8b88a48621bd363cdf611e63400c6...           653   \n",
       "dae3a344292e07d4b8935a453c37aef01303f21b2f37ccb...           623   \n",
       "8af2ae2462d012e4d85aa687a16a4f5fb64525928235da4...           627   \n",
       "\n",
       "                                                    listing_term  int_rate  \\\n",
       "id                                                                           \n",
       "adf5219e4cb985352184eb7fa597737e4a9777f7354f7a8...          36.0      7.86   \n",
       "0a0f130443af4c6597bb074942970eaddeb125d398e2cca...          36.0      7.91   \n",
       "4ba9c6a38b650ee06b8b88a48621bd363cdf611e63400c6...          36.0     30.51   \n",
       "dae3a344292e07d4b8935a453c37aef01303f21b2f37ccb...          60.0     23.46   \n",
       "8af2ae2462d012e4d85aa687a16a4f5fb64525928235da4...          60.0     25.55   \n",
       "\n",
       "                                                    loan_amnt  monthly_pmt  \\\n",
       "id                                                                           \n",
       "adf5219e4cb985352184eb7fa597737e4a9777f7354f7a8...     5500.0        172.0   \n",
       "0a0f130443af4c6597bb074942970eaddeb125d398e2cca...    20000.0        626.0   \n",
       "4ba9c6a38b650ee06b8b88a48621bd363cdf611e63400c6...     3674.0        157.0   \n",
       "dae3a344292e07d4b8935a453c37aef01303f21b2f37ccb...    14056.0        400.0   \n",
       "8af2ae2462d012e4d85aa687a16a4f5fb64525928235da4...     8659.0        257.0   \n",
       "\n",
       "                                                   original_state  \n",
       "id                                                                 \n",
       "adf5219e4cb985352184eb7fa597737e4a9777f7354f7a8...             MI  \n",
       "0a0f130443af4c6597bb074942970eaddeb125d398e2cca...             NM  \n",
       "4ba9c6a38b650ee06b8b88a48621bd363cdf611e63400c6...             SD  \n",
       "dae3a344292e07d4b8935a453c37aef01303f21b2f37ccb...             NC  \n",
       "8af2ae2462d012e4d85aa687a16a4f5fb64525928235da4...             TN  "
      ]
     },
     "execution_count": 5,
     "metadata": {},
     "output_type": "execute_result"
    }
   ],
   "source": [
    "tu_data.head()"
   ]
  },
  {
   "cell_type": "markdown",
   "metadata": {},
   "source": [
    "## Activation data "
   ]
  },
  {
   "cell_type": "markdown",
   "metadata": {},
   "source": [
    "Your data regarding activation arrives as forms, detailing the loan amount, interest rate offered to the client and whether he or she accepted the offer. These are available on the assignment's `s3` path, which you can import from `pagayapro.path.data_paths` under the name `ASSIGNMENT1_DATA`, in the subdirectory `offers`. "
   ]
  },
  {
   "cell_type": "code",
   "execution_count": 6,
   "metadata": {
    "tags": []
   },
   "outputs": [],
   "source": [
    "from pagayapro.paths.data_paths import ASSIGNMENT1_DATA\n",
    "import glob"
   ]
  },
  {
   "cell_type": "markdown",
   "metadata": {},
   "source": [
    "Read all files in the subdirectory `offers` of `ASSIGNMENT1_DATA` whose name contains the substring `raleigh`."
   ]
  },
  {
   "cell_type": "code",
   "execution_count": 7,
   "metadata": {
    "tags": []
   },
   "outputs": [],
   "source": [
    "raleigh_forms= (\n",
    "    glob.glob(\n",
    "        os.path.join(ASSIGNMENT1_DATA,\"offers/*raleigh*\")\n",
    "    )\n",
    ")"
   ]
  },
  {
   "cell_type": "markdown",
   "metadata": {},
   "source": [
    "how many forms are there?\n"
   ]
  },
  {
   "cell_type": "code",
   "execution_count": 8,
   "metadata": {},
   "outputs": [
    {
     "data": {
      "text/plain": [
       "769"
      ]
     },
     "execution_count": 8,
     "metadata": {},
     "output_type": "execute_result"
    }
   ],
   "source": [
    "len(raleigh_forms)"
   ]
  },
  {
   "cell_type": "markdown",
   "metadata": {},
   "source": [
    "Read all the form files and create a table which contains only the last offer given to each borrower. Call this dataframe `raleigh_df`."
   ]
  },
  {
   "cell_type": "code",
   "execution_count": 9,
   "metadata": {},
   "outputs": [],
   "source": [
    "raleigh_df = pd.concat([pd.read_csv(path) for path in raleigh_forms], axis=0).groupby(\"id\").last().reset_index()\n",
    "#write your code here"
   ]
  },
  {
   "cell_type": "code",
   "execution_count": 10,
   "metadata": {},
   "outputs": [
    {
     "data": {
      "text/html": [
       "<div>\n",
       "<style scoped>\n",
       "    .dataframe tbody tr th:only-of-type {\n",
       "        vertical-align: middle;\n",
       "    }\n",
       "\n",
       "    .dataframe tbody tr th {\n",
       "        vertical-align: top;\n",
       "    }\n",
       "\n",
       "    .dataframe thead th {\n",
       "        text-align: right;\n",
       "    }\n",
       "</style>\n",
       "<table border=\"1\" class=\"dataframe\">\n",
       "  <thead>\n",
       "    <tr style=\"text-align: right;\">\n",
       "      <th></th>\n",
       "      <th>id</th>\n",
       "      <th>sequence_num</th>\n",
       "      <th>requested_amount</th>\n",
       "      <th>offered_interest_rate</th>\n",
       "      <th>offer_accepted</th>\n",
       "      <th>offer_date</th>\n",
       "    </tr>\n",
       "  </thead>\n",
       "  <tbody>\n",
       "    <tr>\n",
       "      <th>0</th>\n",
       "      <td>0000944c6eb064d675539d8deaff65acd38cecfba22862...</td>\n",
       "      <td>65529635d01c24822ffe6bd680ea2a0c7d44f49aa88afb...</td>\n",
       "      <td>5000.0</td>\n",
       "      <td>12.30</td>\n",
       "      <td>False</td>\n",
       "      <td>2019-12-02</td>\n",
       "    </tr>\n",
       "    <tr>\n",
       "      <th>1</th>\n",
       "      <td>0003290aea2ca5f7da83d2f32d0c783998906346e99892...</td>\n",
       "      <td>6ce06396232ee6df63e905b2d9e5401030570873c7c3ba...</td>\n",
       "      <td>3300.0</td>\n",
       "      <td>24.88</td>\n",
       "      <td>False</td>\n",
       "      <td>2019-01-29</td>\n",
       "    </tr>\n",
       "    <tr>\n",
       "      <th>2</th>\n",
       "      <td>0005ca5ea9f8399dddee878b7c9694d618a9a1b9d09152...</td>\n",
       "      <td>d29ac15bafd56a1444b1b06265d4c67869350f0dd86b58...</td>\n",
       "      <td>3000.0</td>\n",
       "      <td>12.94</td>\n",
       "      <td>False</td>\n",
       "      <td>2020-01-10</td>\n",
       "    </tr>\n",
       "    <tr>\n",
       "      <th>3</th>\n",
       "      <td>00205f2f999895bde728aebcd83707fa204ec44e203b97...</td>\n",
       "      <td>6061825c161146555925ce39fb27c935fb5899f39ce94b...</td>\n",
       "      <td>25000.0</td>\n",
       "      <td>13.08</td>\n",
       "      <td>False</td>\n",
       "      <td>2019-07-31</td>\n",
       "    </tr>\n",
       "    <tr>\n",
       "      <th>4</th>\n",
       "      <td>002e86fa45263cfe8429dcaa1b37e8abbf57b596e6f45b...</td>\n",
       "      <td>f93f7353e36814e67c17ad06878c2c9f5f810286036b9a...</td>\n",
       "      <td>3816.0</td>\n",
       "      <td>33.77</td>\n",
       "      <td>False</td>\n",
       "      <td>2020-11-23</td>\n",
       "    </tr>\n",
       "  </tbody>\n",
       "</table>\n",
       "</div>"
      ],
      "text/plain": [
       "                                                  id  \\\n",
       "0  0000944c6eb064d675539d8deaff65acd38cecfba22862...   \n",
       "1  0003290aea2ca5f7da83d2f32d0c783998906346e99892...   \n",
       "2  0005ca5ea9f8399dddee878b7c9694d618a9a1b9d09152...   \n",
       "3  00205f2f999895bde728aebcd83707fa204ec44e203b97...   \n",
       "4  002e86fa45263cfe8429dcaa1b37e8abbf57b596e6f45b...   \n",
       "\n",
       "                                        sequence_num  requested_amount  \\\n",
       "0  65529635d01c24822ffe6bd680ea2a0c7d44f49aa88afb...            5000.0   \n",
       "1  6ce06396232ee6df63e905b2d9e5401030570873c7c3ba...            3300.0   \n",
       "2  d29ac15bafd56a1444b1b06265d4c67869350f0dd86b58...            3000.0   \n",
       "3  6061825c161146555925ce39fb27c935fb5899f39ce94b...           25000.0   \n",
       "4  f93f7353e36814e67c17ad06878c2c9f5f810286036b9a...            3816.0   \n",
       "\n",
       "   offered_interest_rate  offer_accepted  offer_date  \n",
       "0                  12.30           False  2019-12-02  \n",
       "1                  24.88           False  2019-01-29  \n",
       "2                  12.94           False  2020-01-10  \n",
       "3                  13.08           False  2019-07-31  \n",
       "4                  33.77           False  2020-11-23  "
      ]
     },
     "execution_count": 10,
     "metadata": {},
     "output_type": "execute_result"
    }
   ],
   "source": [
    "raleigh_df.head()\n"
   ]
  },
  {
   "cell_type": "markdown",
   "metadata": {
    "execution": {
     "iopub.execute_input": "2021-07-04T09:43:56.002881Z",
     "iopub.status.busy": "2021-07-04T09:43:56.002602Z",
     "iopub.status.idle": "2021-07-04T09:43:56.037934Z",
     "shell.execute_reply": "2021-07-04T09:43:56.036868Z",
     "shell.execute_reply.started": "2021-07-04T09:43:56.002855Z"
    }
   },
   "source": [
    "How many rows are there in your table? How many distict ids?"
   ]
  },
  {
   "cell_type": "code",
   "execution_count": 11,
   "metadata": {},
   "outputs": [
    {
     "data": {
      "text/plain": [
       "8792"
      ]
     },
     "execution_count": 11,
     "metadata": {},
     "output_type": "execute_result"
    }
   ],
   "source": [
    "len(raleigh_df)"
   ]
  },
  {
   "cell_type": "code",
   "execution_count": 12,
   "metadata": {},
   "outputs": [
    {
     "data": {
      "text/plain": [
       "8792"
      ]
     },
     "execution_count": 12,
     "metadata": {},
     "output_type": "execute_result"
    }
   ],
   "source": [
    "len(raleigh_df['id'].unique())"
   ]
  },
  {
   "cell_type": "markdown",
   "metadata": {},
   "source": [
    "How can you explain the duplicate ids? Sample 5 ids with multiple lines and display them."
   ]
  },
  {
   "cell_type": "markdown",
   "metadata": {},
   "source": [
    "<font color = \"navy\">\n",
    "When a potential customer is negotiating an offer, he will receive multiple offers with the same ID.<br>\n",
    "The ID is unique per loan, not per offer / person.  <br>\n",
    "However, as we already deleted duplicates, this DF contains no duplicate IDs"
   ]
  },
  {
   "cell_type": "code",
   "execution_count": null,
   "metadata": {},
   "outputs": [],
   "source": []
  },
  {
   "cell_type": "markdown",
   "metadata": {},
   "source": [
    "Drop all lines in the dataframe which contain irrelevant information."
   ]
  },
  {
   "cell_type": "markdown",
   "metadata": {},
   "source": [
    "<font color = \"navy\">\n",
    "This DF contains no duplicate lines (dropped above)"
   ]
  },
  {
   "cell_type": "code",
   "execution_count": null,
   "metadata": {},
   "outputs": [],
   "source": []
  },
  {
   "cell_type": "markdown",
   "metadata": {},
   "source": [
    "What is the average interest rate offered to clients? What is the average among clients who accepted the offer?"
   ]
  },
  {
   "cell_type": "code",
   "execution_count": 13,
   "metadata": {},
   "outputs": [
    {
     "data": {
      "text/plain": [
       "15.524284576888082"
      ]
     },
     "execution_count": 13,
     "metadata": {},
     "output_type": "execute_result"
    }
   ],
   "source": [
    "raleigh_df['offered_interest_rate'].mean()"
   ]
  },
  {
   "cell_type": "code",
   "execution_count": 14,
   "metadata": {},
   "outputs": [
    {
     "data": {
      "text/plain": [
       "15.307480314960628"
      ]
     },
     "execution_count": 14,
     "metadata": {},
     "output_type": "execute_result"
    }
   ],
   "source": [
    "raleigh_df[raleigh_df['offer_accepted']]['offered_interest_rate'].mean()"
   ]
  },
  {
   "cell_type": "markdown",
   "metadata": {},
   "source": [
    "What is the percentage of activation in this dataframe?"
   ]
  },
  {
   "cell_type": "code",
   "execution_count": 15,
   "metadata": {},
   "outputs": [
    {
     "data": {
      "text/plain": [
       "0.08666969972702457"
      ]
     },
     "execution_count": 15,
     "metadata": {},
     "output_type": "execute_result"
    }
   ],
   "source": [
    "raleigh_df['offer_accepted'].sum() / len(raleigh_df)"
   ]
  },
  {
   "cell_type": "code",
   "execution_count": 17,
   "metadata": {},
   "outputs": [
    {
     "name": "stdout",
     "output_type": "stream",
     "text": [
      "Raleigh's measured activation rate after deployed the flyer program: 8.667%\n"
     ]
    }
   ],
   "source": [
    "print(\"Raleigh's measured activation rate after deployed the flyer program: {:.3%}\".format(raleigh_df['offer_accepted'].mean()))"
   ]
  },
  {
   "cell_type": "code",
   "execution_count": 19,
   "metadata": {},
   "outputs": [
    {
     "data": {
      "text/plain": [
       "26.525109090546792"
      ]
     },
     "execution_count": 19,
     "metadata": {},
     "output_type": "execute_result"
    }
   ],
   "source": [
    "raleigh_df['offer_accepted'].mean() / 0.0685 * 100 - 100"
   ]
  },
  {
   "cell_type": "markdown",
   "metadata": {},
   "source": [
    "Enrich your dataframe with additioanl TU features by merging it with the `tu_data` df. Note that the two dataframe share the `id` and `sequence_num` features."
   ]
  },
  {
   "cell_type": "code",
   "execution_count": 49,
   "metadata": {},
   "outputs": [
    {
     "data": {
      "text/html": [
       "<div>\n",
       "<style scoped>\n",
       "    .dataframe tbody tr th:only-of-type {\n",
       "        vertical-align: middle;\n",
       "    }\n",
       "\n",
       "    .dataframe tbody tr th {\n",
       "        vertical-align: top;\n",
       "    }\n",
       "\n",
       "    .dataframe thead th {\n",
       "        text-align: right;\n",
       "    }\n",
       "</style>\n",
       "<table border=\"1\" class=\"dataframe\">\n",
       "  <thead>\n",
       "    <tr style=\"text-align: right;\">\n",
       "      <th></th>\n",
       "      <th>id</th>\n",
       "      <th>sequence_num</th>\n",
       "      <th>requested_amount</th>\n",
       "      <th>offered_interest_rate</th>\n",
       "      <th>offer_accepted</th>\n",
       "      <th>offer_date</th>\n",
       "    </tr>\n",
       "  </thead>\n",
       "  <tbody>\n",
       "    <tr>\n",
       "      <th>0</th>\n",
       "      <td>0000944c6eb064d675539d8deaff65acd38cecfba22862...</td>\n",
       "      <td>65529635d01c24822ffe6bd680ea2a0c7d44f49aa88afb...</td>\n",
       "      <td>5000.0</td>\n",
       "      <td>12.30</td>\n",
       "      <td>False</td>\n",
       "      <td>2019-12-02</td>\n",
       "    </tr>\n",
       "    <tr>\n",
       "      <th>1</th>\n",
       "      <td>0003290aea2ca5f7da83d2f32d0c783998906346e99892...</td>\n",
       "      <td>6ce06396232ee6df63e905b2d9e5401030570873c7c3ba...</td>\n",
       "      <td>3300.0</td>\n",
       "      <td>24.88</td>\n",
       "      <td>False</td>\n",
       "      <td>2019-01-29</td>\n",
       "    </tr>\n",
       "    <tr>\n",
       "      <th>2</th>\n",
       "      <td>0005ca5ea9f8399dddee878b7c9694d618a9a1b9d09152...</td>\n",
       "      <td>d29ac15bafd56a1444b1b06265d4c67869350f0dd86b58...</td>\n",
       "      <td>3000.0</td>\n",
       "      <td>12.94</td>\n",
       "      <td>False</td>\n",
       "      <td>2020-01-10</td>\n",
       "    </tr>\n",
       "    <tr>\n",
       "      <th>3</th>\n",
       "      <td>00205f2f999895bde728aebcd83707fa204ec44e203b97...</td>\n",
       "      <td>6061825c161146555925ce39fb27c935fb5899f39ce94b...</td>\n",
       "      <td>25000.0</td>\n",
       "      <td>13.08</td>\n",
       "      <td>False</td>\n",
       "      <td>2019-07-31</td>\n",
       "    </tr>\n",
       "    <tr>\n",
       "      <th>4</th>\n",
       "      <td>002e86fa45263cfe8429dcaa1b37e8abbf57b596e6f45b...</td>\n",
       "      <td>f93f7353e36814e67c17ad06878c2c9f5f810286036b9a...</td>\n",
       "      <td>3816.0</td>\n",
       "      <td>33.77</td>\n",
       "      <td>False</td>\n",
       "      <td>2020-11-23</td>\n",
       "    </tr>\n",
       "  </tbody>\n",
       "</table>\n",
       "</div>"
      ],
      "text/plain": [
       "                                                  id  \\\n",
       "0  0000944c6eb064d675539d8deaff65acd38cecfba22862...   \n",
       "1  0003290aea2ca5f7da83d2f32d0c783998906346e99892...   \n",
       "2  0005ca5ea9f8399dddee878b7c9694d618a9a1b9d09152...   \n",
       "3  00205f2f999895bde728aebcd83707fa204ec44e203b97...   \n",
       "4  002e86fa45263cfe8429dcaa1b37e8abbf57b596e6f45b...   \n",
       "\n",
       "                                        sequence_num  requested_amount  \\\n",
       "0  65529635d01c24822ffe6bd680ea2a0c7d44f49aa88afb...            5000.0   \n",
       "1  6ce06396232ee6df63e905b2d9e5401030570873c7c3ba...            3300.0   \n",
       "2  d29ac15bafd56a1444b1b06265d4c67869350f0dd86b58...            3000.0   \n",
       "3  6061825c161146555925ce39fb27c935fb5899f39ce94b...           25000.0   \n",
       "4  f93f7353e36814e67c17ad06878c2c9f5f810286036b9a...            3816.0   \n",
       "\n",
       "   offered_interest_rate  offer_accepted  offer_date  \n",
       "0                  12.30           False  2019-12-02  \n",
       "1                  24.88           False  2019-01-29  \n",
       "2                  12.94           False  2020-01-10  \n",
       "3                  13.08           False  2019-07-31  \n",
       "4                  33.77           False  2020-11-23  "
      ]
     },
     "execution_count": 49,
     "metadata": {},
     "output_type": "execute_result"
    }
   ],
   "source": [
    "raleigh_df.head()"
   ]
  },
  {
   "cell_type": "code",
   "execution_count": 23,
   "metadata": {},
   "outputs": [],
   "source": [
    "merge_raleigh_df = tu_data.merge(raleigh_df, how=\"right\", on=[\"id\", \"sequence_num\"])"
   ]
  },
  {
   "cell_type": "code",
   "execution_count": 24,
   "metadata": {},
   "outputs": [
    {
     "data": {
      "text/html": [
       "<div>\n",
       "<style scoped>\n",
       "    .dataframe tbody tr th:only-of-type {\n",
       "        vertical-align: middle;\n",
       "    }\n",
       "\n",
       "    .dataframe tbody tr th {\n",
       "        vertical-align: top;\n",
       "    }\n",
       "\n",
       "    .dataframe thead th {\n",
       "        text-align: right;\n",
       "    }\n",
       "</style>\n",
       "<table border=\"1\" class=\"dataframe\">\n",
       "  <thead>\n",
       "    <tr style=\"text-align: right;\">\n",
       "      <th></th>\n",
       "      <th>id</th>\n",
       "      <th>sequence_num</th>\n",
       "      <th>credit_score</th>\n",
       "      <th>listing_term</th>\n",
       "      <th>int_rate</th>\n",
       "      <th>loan_amnt</th>\n",
       "      <th>monthly_pmt</th>\n",
       "      <th>original_state</th>\n",
       "      <th>requested_amount</th>\n",
       "      <th>offered_interest_rate</th>\n",
       "      <th>offer_accepted</th>\n",
       "      <th>offer_date</th>\n",
       "    </tr>\n",
       "  </thead>\n",
       "  <tbody>\n",
       "    <tr>\n",
       "      <th>0</th>\n",
       "      <td>0000944c6eb064d675539d8deaff65acd38cecfba22862...</td>\n",
       "      <td>65529635d01c24822ffe6bd680ea2a0c7d44f49aa88afb...</td>\n",
       "      <td>791</td>\n",
       "      <td>60.0</td>\n",
       "      <td>12.30</td>\n",
       "      <td>5000.0</td>\n",
       "      <td>112.0</td>\n",
       "      <td>NC</td>\n",
       "      <td>5000.0</td>\n",
       "      <td>12.30</td>\n",
       "      <td>False</td>\n",
       "      <td>2019-12-02</td>\n",
       "    </tr>\n",
       "    <tr>\n",
       "      <th>1</th>\n",
       "      <td>0003290aea2ca5f7da83d2f32d0c783998906346e99892...</td>\n",
       "      <td>6ce06396232ee6df63e905b2d9e5401030570873c7c3ba...</td>\n",
       "      <td>645</td>\n",
       "      <td>36.0</td>\n",
       "      <td>24.88</td>\n",
       "      <td>3300.0</td>\n",
       "      <td>131.0</td>\n",
       "      <td>NC</td>\n",
       "      <td>3300.0</td>\n",
       "      <td>24.88</td>\n",
       "      <td>False</td>\n",
       "      <td>2019-01-29</td>\n",
       "    </tr>\n",
       "    <tr>\n",
       "      <th>2</th>\n",
       "      <td>0005ca5ea9f8399dddee878b7c9694d618a9a1b9d09152...</td>\n",
       "      <td>d29ac15bafd56a1444b1b06265d4c67869350f0dd86b58...</td>\n",
       "      <td>703</td>\n",
       "      <td>36.0</td>\n",
       "      <td>12.94</td>\n",
       "      <td>3000.0</td>\n",
       "      <td>101.0</td>\n",
       "      <td>NC</td>\n",
       "      <td>3000.0</td>\n",
       "      <td>12.94</td>\n",
       "      <td>False</td>\n",
       "      <td>2020-01-10</td>\n",
       "    </tr>\n",
       "    <tr>\n",
       "      <th>3</th>\n",
       "      <td>00205f2f999895bde728aebcd83707fa204ec44e203b97...</td>\n",
       "      <td>6061825c161146555925ce39fb27c935fb5899f39ce94b...</td>\n",
       "      <td>692</td>\n",
       "      <td>60.0</td>\n",
       "      <td>13.08</td>\n",
       "      <td>25000.0</td>\n",
       "      <td>570.0</td>\n",
       "      <td>NC</td>\n",
       "      <td>25000.0</td>\n",
       "      <td>13.08</td>\n",
       "      <td>False</td>\n",
       "      <td>2019-07-31</td>\n",
       "    </tr>\n",
       "    <tr>\n",
       "      <th>4</th>\n",
       "      <td>002e86fa45263cfe8429dcaa1b37e8abbf57b596e6f45b...</td>\n",
       "      <td>f93f7353e36814e67c17ad06878c2c9f5f810286036b9a...</td>\n",
       "      <td>606</td>\n",
       "      <td>36.0</td>\n",
       "      <td>33.77</td>\n",
       "      <td>3816.0</td>\n",
       "      <td>170.0</td>\n",
       "      <td>NC</td>\n",
       "      <td>3816.0</td>\n",
       "      <td>33.77</td>\n",
       "      <td>False</td>\n",
       "      <td>2020-11-23</td>\n",
       "    </tr>\n",
       "  </tbody>\n",
       "</table>\n",
       "</div>"
      ],
      "text/plain": [
       "                                                  id  \\\n",
       "0  0000944c6eb064d675539d8deaff65acd38cecfba22862...   \n",
       "1  0003290aea2ca5f7da83d2f32d0c783998906346e99892...   \n",
       "2  0005ca5ea9f8399dddee878b7c9694d618a9a1b9d09152...   \n",
       "3  00205f2f999895bde728aebcd83707fa204ec44e203b97...   \n",
       "4  002e86fa45263cfe8429dcaa1b37e8abbf57b596e6f45b...   \n",
       "\n",
       "                                        sequence_num  credit_score  \\\n",
       "0  65529635d01c24822ffe6bd680ea2a0c7d44f49aa88afb...           791   \n",
       "1  6ce06396232ee6df63e905b2d9e5401030570873c7c3ba...           645   \n",
       "2  d29ac15bafd56a1444b1b06265d4c67869350f0dd86b58...           703   \n",
       "3  6061825c161146555925ce39fb27c935fb5899f39ce94b...           692   \n",
       "4  f93f7353e36814e67c17ad06878c2c9f5f810286036b9a...           606   \n",
       "\n",
       "   listing_term  int_rate  loan_amnt  monthly_pmt original_state  \\\n",
       "0          60.0     12.30     5000.0        112.0             NC   \n",
       "1          36.0     24.88     3300.0        131.0             NC   \n",
       "2          36.0     12.94     3000.0        101.0             NC   \n",
       "3          60.0     13.08    25000.0        570.0             NC   \n",
       "4          36.0     33.77     3816.0        170.0             NC   \n",
       "\n",
       "   requested_amount  offered_interest_rate  offer_accepted  offer_date  \n",
       "0            5000.0                  12.30           False  2019-12-02  \n",
       "1            3300.0                  24.88           False  2019-01-29  \n",
       "2            3000.0                  12.94           False  2020-01-10  \n",
       "3           25000.0                  13.08           False  2019-07-31  \n",
       "4            3816.0                  33.77           False  2020-11-23  "
      ]
     },
     "execution_count": 24,
     "metadata": {},
     "output_type": "execute_result"
    }
   ],
   "source": [
    "merge_raleigh_df.head()"
   ]
  },
  {
   "cell_type": "markdown",
   "metadata": {},
   "source": [
    "What is the average credit score of the clients? What is the average among clients who accepted the offer?"
   ]
  },
  {
   "cell_type": "code",
   "execution_count": 25,
   "metadata": {},
   "outputs": [
    {
     "data": {
      "text/plain": [
       "689.821542311192"
      ]
     },
     "execution_count": 25,
     "metadata": {},
     "output_type": "execute_result"
    }
   ],
   "source": [
    "merge_raleigh_df.credit_score.mean()"
   ]
  },
  {
   "cell_type": "code",
   "execution_count": 26,
   "metadata": {},
   "outputs": [
    {
     "data": {
      "text/plain": [
       "702.5446194225722"
      ]
     },
     "execution_count": 26,
     "metadata": {},
     "output_type": "execute_result"
    }
   ],
   "source": [
    "merge_raleigh_df[merge_raleigh_df[\"offer_accepted\"]].credit_score.mean()"
   ]
  },
  {
   "cell_type": "markdown",
   "metadata": {},
   "source": [
    "# Validations"
   ]
  },
  {
   "cell_type": "markdown",
   "metadata": {},
   "source": [
    "Before we embark on a statistical test, let's do some validations to make sure that the Raleig sample is not somehow distinct from the general population. Our random sample from the general population is the TU data."
   ]
  },
  {
   "cell_type": "markdown",
   "metadata": {},
   "source": [
    "Create a histogram to describe the distribution of requested loan amounts in Raleigh and in the general population. Do the distributions look similar? (A good rule-of-thumb for the number of bins to use is the square-root of the number of unique value.)"
   ]
  },
  {
   "cell_type": "code",
   "execution_count": 54,
   "metadata": {
    "tags": []
   },
   "outputs": [
    {
     "data": {
      "image/png": "[encoded data removed]",
      "text/plain": [
       "<Figure size 432x288 with 1 Axes>"
      ]
     },
     "metadata": {
      "needs_background": "light"
     },
     "output_type": "display_data"
    },
    {
     "data": {
      "image/png": "[encoded data removed]",
      "text/plain": [
       "<Figure size 432x288 with 1 Axes>"
      ]
     },
     "metadata": {
      "needs_background": "light"
     },
     "output_type": "display_data"
    }
   ],
   "source": [
    "tu_data[\"loan_amnt\"].hist(bins=100,  label='General Data', alpha=0.5,range=(0, 100000))\n",
    "plt.legend()\n",
    "plt.show()\n",
    "merge_raleigh_df[\"loan_amnt\"].hist(bins=100, label='Raleigh Data', range=(0, 100000))\n",
    "#tu_data[\"loan_amnt\"].hist(bins=100, label='General Data')\n",
    "plt.legend()\n",
    "plt.show()\n",
    "\n"
   ]
  },
  {
   "cell_type": "markdown",
   "metadata": {},
   "source": [
    "Describe the loan amount distribution using `sns.distplot` in the Raleigh dataframe and in TU."
   ]
  },
  {
   "cell_type": "code",
   "execution_count": 55,
   "metadata": {},
   "outputs": [
    {
     "name": "stderr",
     "output_type": "stream",
     "text": [
      "/usr/local/lib/python3.8/dist-packages/seaborn/distributions.py:2619: FutureWarning: `distplot` is a deprecated function and will be removed in a future version. Please adapt your code to use either `displot` (a figure-level function with similar flexibility) or `histplot` (an axes-level function for histograms).\n",
      "  warnings.warn(msg, FutureWarning)\n",
      "/usr/local/lib/python3.8/dist-packages/matplotlib/cbook/__init__.py:1402: FutureWarning: Support for multi-dimensional indexing (e.g. `obj[:, None]`) is deprecated and will be removed in a future version.  Convert to a numpy array before indexing instead.\n",
      "  x[:, None]\n",
      "/usr/local/lib/python3.8/dist-packages/matplotlib/axes/_base.py:276: FutureWarning: Support for multi-dimensional indexing (e.g. `obj[:, None]`) is deprecated and will be removed in a future version.  Convert to a numpy array before indexing instead.\n",
      "  x = x[:, np.newaxis]\n",
      "/usr/local/lib/python3.8/dist-packages/matplotlib/axes/_base.py:278: FutureWarning: Support for multi-dimensional indexing (e.g. `obj[:, None]`) is deprecated and will be removed in a future version.  Convert to a numpy array before indexing instead.\n",
      "  y = y[:, np.newaxis]\n"
     ]
    },
    {
     "data": {
      "image/png": "[encoded data removed]",
      "text/plain": [
       "<Figure size 432x288 with 1 Axes>"
      ]
     },
     "metadata": {
      "needs_background": "light"
     },
     "output_type": "display_data"
    },
    {
     "name": "stderr",
     "output_type": "stream",
     "text": [
      "/usr/local/lib/python3.8/dist-packages/seaborn/distributions.py:2619: FutureWarning: `distplot` is a deprecated function and will be removed in a future version. Please adapt your code to use either `displot` (a figure-level function with similar flexibility) or `histplot` (an axes-level function for histograms).\n",
      "  warnings.warn(msg, FutureWarning)\n",
      "/usr/local/lib/python3.8/dist-packages/matplotlib/cbook/__init__.py:1402: FutureWarning: Support for multi-dimensional indexing (e.g. `obj[:, None]`) is deprecated and will be removed in a future version.  Convert to a numpy array before indexing instead.\n",
      "  x[:, None]\n",
      "/usr/local/lib/python3.8/dist-packages/matplotlib/axes/_base.py:276: FutureWarning: Support for multi-dimensional indexing (e.g. `obj[:, None]`) is deprecated and will be removed in a future version.  Convert to a numpy array before indexing instead.\n",
      "  x = x[:, np.newaxis]\n",
      "/usr/local/lib/python3.8/dist-packages/matplotlib/axes/_base.py:278: FutureWarning: Support for multi-dimensional indexing (e.g. `obj[:, None]`) is deprecated and will be removed in a future version.  Convert to a numpy array before indexing instead.\n",
      "  y = y[:, np.newaxis]\n"
     ]
    },
    {
     "data": {
      "image/png": "[encoded data removed]",
      "text/plain": [
       "<Figure size 432x288 with 1 Axes>"
      ]
     },
     "metadata": {
      "needs_background": "light"
     },
     "output_type": "display_data"
    }
   ],
   "source": [
    "sns.distplot(tu_data[\"loan_amnt\"], label='General Data')\n",
    "plt.legend()\n",
    "plt.show()\n",
    "sns.distplot(merge_raleigh_df[\"loan_amnt\"], label='Raleigh Data')\n",
    "#tu_data[\"loan_amnt\"].hist(bins=100, label='General Data')\n",
    "plt.legend()\n",
    "plt.show()"
   ]
  },
  {
   "cell_type": "markdown",
   "metadata": {},
   "source": [
    "We also want to verify that the offered interest rate in Raleigh seem similar to those in the general population. \n",
    "Create a histogram to describe the distribution of offered interest rates in Raleigh and interest rates in the general population. Do the distributions look similar?"
   ]
  },
  {
   "cell_type": "markdown",
   "metadata": {
    "tags": []
   },
   "source": [
    "<font color = \"navy\">\n",
    "    Yes. As we can see from the histograms, the distributions look similar."
   ]
  },
  {
   "cell_type": "code",
   "execution_count": 63,
   "metadata": {},
   "outputs": [
    {
     "data": {
      "image/png": "[encoded data removed]",
      "text/plain": [
       "<Figure size 432x288 with 1 Axes>"
      ]
     },
     "metadata": {
      "needs_background": "light"
     },
     "output_type": "display_data"
    },
    {
     "data": {
      "image/png": "[encoded data removed]",
      "text/plain": [
       "<Figure size 432x288 with 1 Axes>"
      ]
     },
     "metadata": {
      "needs_background": "light"
     },
     "output_type": "display_data"
    }
   ],
   "source": [
    "tu_data[\"int_rate\"].hist(bins=100,  label='General Data', alpha=0.5)\n",
    "plt.legend()\n",
    "plt.show()\n",
    "merge_raleigh_df[\"offered_interest_rate\"].hist(bins=100, label='Raleigh Data')\n",
    "#tu_data[\"loan_amnt\"].hist(bins=100, label='General Data')\n",
    "plt.legend()\n",
    "plt.show()\n"
   ]
  },
  {
   "cell_type": "markdown",
   "metadata": {},
   "source": [
    "Describe the interest rate distribution using `sns.distplot` in the Raleigh dataframe and in TU."
   ]
  },
  {
   "cell_type": "code",
   "execution_count": 64,
   "metadata": {},
   "outputs": [
    {
     "name": "stderr",
     "output_type": "stream",
     "text": [
      "/usr/local/lib/python3.8/dist-packages/seaborn/distributions.py:2619: FutureWarning: `distplot` is a deprecated function and will be removed in a future version. Please adapt your code to use either `displot` (a figure-level function with similar flexibility) or `histplot` (an axes-level function for histograms).\n",
      "  warnings.warn(msg, FutureWarning)\n",
      "/usr/local/lib/python3.8/dist-packages/matplotlib/cbook/__init__.py:1402: FutureWarning: Support for multi-dimensional indexing (e.g. `obj[:, None]`) is deprecated and will be removed in a future version.  Convert to a numpy array before indexing instead.\n",
      "  x[:, None]\n",
      "/usr/local/lib/python3.8/dist-packages/matplotlib/axes/_base.py:276: FutureWarning: Support for multi-dimensional indexing (e.g. `obj[:, None]`) is deprecated and will be removed in a future version.  Convert to a numpy array before indexing instead.\n",
      "  x = x[:, np.newaxis]\n",
      "/usr/local/lib/python3.8/dist-packages/matplotlib/axes/_base.py:278: FutureWarning: Support for multi-dimensional indexing (e.g. `obj[:, None]`) is deprecated and will be removed in a future version.  Convert to a numpy array before indexing instead.\n",
      "  y = y[:, np.newaxis]\n"
     ]
    },
    {
     "data": {
      "image/png": "[encoded data removed]",
      "text/plain": [
       "<Figure size 432x288 with 1 Axes>"
      ]
     },
     "metadata": {
      "needs_background": "light"
     },
     "output_type": "display_data"
    },
    {
     "name": "stderr",
     "output_type": "stream",
     "text": [
      "/usr/local/lib/python3.8/dist-packages/seaborn/distributions.py:2619: FutureWarning: `distplot` is a deprecated function and will be removed in a future version. Please adapt your code to use either `displot` (a figure-level function with similar flexibility) or `histplot` (an axes-level function for histograms).\n",
      "  warnings.warn(msg, FutureWarning)\n",
      "/usr/local/lib/python3.8/dist-packages/matplotlib/cbook/__init__.py:1402: FutureWarning: Support for multi-dimensional indexing (e.g. `obj[:, None]`) is deprecated and will be removed in a future version.  Convert to a numpy array before indexing instead.\n",
      "  x[:, None]\n",
      "/usr/local/lib/python3.8/dist-packages/matplotlib/axes/_base.py:276: FutureWarning: Support for multi-dimensional indexing (e.g. `obj[:, None]`) is deprecated and will be removed in a future version.  Convert to a numpy array before indexing instead.\n",
      "  x = x[:, np.newaxis]\n",
      "/usr/local/lib/python3.8/dist-packages/matplotlib/axes/_base.py:278: FutureWarning: Support for multi-dimensional indexing (e.g. `obj[:, None]`) is deprecated and will be removed in a future version.  Convert to a numpy array before indexing instead.\n",
      "  y = y[:, np.newaxis]\n"
     ]
    },
    {
     "data": {
      "image/png": "[encoded data removed]",
      "text/plain": [
       "<Figure size 432x288 with 1 Axes>"
      ]
     },
     "metadata": {
      "needs_background": "light"
     },
     "output_type": "display_data"
    }
   ],
   "source": [
    "sns.distplot(tu_data[\"int_rate\"], label='General Data')\n",
    "plt.legend()\n",
    "plt.show()\n",
    "sns.distplot(merge_raleigh_df[\"offered_interest_rate\"], label='Raleigh Data')\n",
    "#tu_data[\"loan_amnt\"].hist(bins=100, label='General Data')\n",
    "plt.legend()\n",
    "plt.show()"
   ]
  },
  {
   "cell_type": "markdown",
   "metadata": {},
   "source": [
    "Additionally, we want to make sure the credit scores are not visibly different in Raleigh from the general population, as this might mean that the data we obtained from the town might not be representative of the general popuation."
   ]
  },
  {
   "cell_type": "markdown",
   "metadata": {},
   "source": [
    "Create a histogram to describe the distribution of credit scores in the Raleigh sample and in the general population. Do the distributions look similar? How many bins did you use?\n",
    "\n"
   ]
  },
  {
   "cell_type": "markdown",
   "metadata": {},
   "source": [
    "<font color = \"navy\">\n",
    "\n",
    "Yes, the distributions look similar. We used 100 bins. "
   ]
  },
  {
   "cell_type": "code",
   "execution_count": 70,
   "metadata": {},
   "outputs": [
    {
     "data": {
      "image/png": "[encoded data removed]",
      "text/plain": [
       "<Figure size 432x288 with 1 Axes>"
      ]
     },
     "metadata": {
      "needs_background": "light"
     },
     "output_type": "display_data"
    },
    {
     "data": {
      "image/png": "[encoded data removed]",
      "text/plain": [
       "<Figure size 432x288 with 1 Axes>"
      ]
     },
     "metadata": {
      "needs_background": "light"
     },
     "output_type": "display_data"
    }
   ],
   "source": [
    "tu_data[\"credit_score\"].hist(bins=100,  label='General Data', alpha=0.5)\n",
    "plt.legend()\n",
    "plt.show()\n",
    "merge_raleigh_df[\"credit_score\"].hist(bins=100, label='Raleigh Data')\n",
    "#tu_data[\"loan_amnt\"].hist(bins=100, label='General Data')\n",
    "plt.legend()\n",
    "plt.show()"
   ]
  },
  {
   "cell_type": "markdown",
   "metadata": {},
   "source": [
    "Describe the credit score distribution using `sns.distplot`  in the Raleigh dataframe and in TU."
   ]
  },
  {
   "cell_type": "code",
   "execution_count": 69,
   "metadata": {},
   "outputs": [
    {
     "name": "stderr",
     "output_type": "stream",
     "text": [
      "/usr/local/lib/python3.8/dist-packages/seaborn/distributions.py:2619: FutureWarning: `distplot` is a deprecated function and will be removed in a future version. Please adapt your code to use either `displot` (a figure-level function with similar flexibility) or `histplot` (an axes-level function for histograms).\n",
      "  warnings.warn(msg, FutureWarning)\n",
      "/usr/local/lib/python3.8/dist-packages/matplotlib/cbook/__init__.py:1402: FutureWarning: Support for multi-dimensional indexing (e.g. `obj[:, None]`) is deprecated and will be removed in a future version.  Convert to a numpy array before indexing instead.\n",
      "  x[:, None]\n",
      "/usr/local/lib/python3.8/dist-packages/matplotlib/axes/_base.py:276: FutureWarning: Support for multi-dimensional indexing (e.g. `obj[:, None]`) is deprecated and will be removed in a future version.  Convert to a numpy array before indexing instead.\n",
      "  x = x[:, np.newaxis]\n",
      "/usr/local/lib/python3.8/dist-packages/matplotlib/axes/_base.py:278: FutureWarning: Support for multi-dimensional indexing (e.g. `obj[:, None]`) is deprecated and will be removed in a future version.  Convert to a numpy array before indexing instead.\n",
      "  y = y[:, np.newaxis]\n"
     ]
    },
    {
     "data": {
      "image/png": "[encoded data removed]",
      "text/plain": [
       "<Figure size 432x288 with 1 Axes>"
      ]
     },
     "metadata": {
      "needs_background": "light"
     },
     "output_type": "display_data"
    },
    {
     "name": "stderr",
     "output_type": "stream",
     "text": [
      "/usr/local/lib/python3.8/dist-packages/seaborn/distributions.py:2619: FutureWarning: `distplot` is a deprecated function and will be removed in a future version. Please adapt your code to use either `displot` (a figure-level function with similar flexibility) or `histplot` (an axes-level function for histograms).\n",
      "  warnings.warn(msg, FutureWarning)\n",
      "/usr/local/lib/python3.8/dist-packages/matplotlib/cbook/__init__.py:1402: FutureWarning: Support for multi-dimensional indexing (e.g. `obj[:, None]`) is deprecated and will be removed in a future version.  Convert to a numpy array before indexing instead.\n",
      "  x[:, None]\n",
      "/usr/local/lib/python3.8/dist-packages/matplotlib/axes/_base.py:276: FutureWarning: Support for multi-dimensional indexing (e.g. `obj[:, None]`) is deprecated and will be removed in a future version.  Convert to a numpy array before indexing instead.\n",
      "  x = x[:, np.newaxis]\n",
      "/usr/local/lib/python3.8/dist-packages/matplotlib/axes/_base.py:278: FutureWarning: Support for multi-dimensional indexing (e.g. `obj[:, None]`) is deprecated and will be removed in a future version.  Convert to a numpy array before indexing instead.\n",
      "  y = y[:, np.newaxis]\n"
     ]
    },
    {
     "data": {
      "image/png": "[encoded data removed]",
      "text/plain": [
       "<Figure size 432x288 with 1 Axes>"
      ]
     },
     "metadata": {
      "needs_background": "light"
     },
     "output_type": "display_data"
    }
   ],
   "source": [
    "sns.distplot(tu_data[\"credit_score\"], label='General Data')\n",
    "plt.legend()\n",
    "plt.show()\n",
    "sns.distplot(merge_raleigh_df[\"credit_score\"], label='Raleigh Data')\n",
    "#tu_data[\"loan_amnt\"].hist(bins=100, label='General Data')\n",
    "plt.legend()\n",
    "plt.show()"
   ]
  },
  {
   "cell_type": "markdown",
   "metadata": {
    "execution": {
     "iopub.execute_input": "2021-07-04T09:43:56.046655Z",
     "iopub.status.busy": "2021-07-04T09:43:56.046389Z",
     "iopub.status.idle": "2021-07-04T09:43:56.393501Z",
     "shell.execute_reply": "2021-07-04T09:43:56.392695Z",
     "shell.execute_reply.started": "2021-07-04T09:43:56.046630Z"
    }
   },
   "source": [
    "Finally, check whether the loans in both datasets have similar distributions of term (i.e. the amount of months the borrower takes the loan for). What values of term exist in the data?"
   ]
  },
  {
   "cell_type": "code",
   "execution_count": 72,
   "metadata": {},
   "outputs": [
    {
     "data": {
      "text/plain": [
       "36.0    542102\n",
       "60.0    430621\n",
       "Name: listing_term, dtype: int64"
      ]
     },
     "execution_count": 72,
     "metadata": {},
     "output_type": "execute_result"
    }
   ],
   "source": [
    "tu_data[\"listing_term\"].value_counts()"
   ]
  },
  {
   "cell_type": "markdown",
   "metadata": {},
   "source": [
    "<font color = \"navy\">\n",
    "The term values are either 36 or 60 months"
   ]
  },
  {
   "cell_type": "code",
   "execution_count": 73,
   "metadata": {},
   "outputs": [
    {
     "data": {
      "image/png": "[encoded data removed]",
      "text/plain": [
       "<Figure size 432x288 with 1 Axes>"
      ]
     },
     "metadata": {
      "needs_background": "light"
     },
     "output_type": "display_data"
    },
    {
     "data": {
      "image/png": "[encoded data removed]",
      "text/plain": [
       "<Figure size 432x288 with 1 Axes>"
      ]
     },
     "metadata": {
      "needs_background": "light"
     },
     "output_type": "display_data"
    }
   ],
   "source": [
    "tu_data[\"listing_term\"].hist(bins=100,  label='General Data', alpha=0.5)\n",
    "plt.legend()\n",
    "plt.show()\n",
    "merge_raleigh_df[\"listing_term\"].hist(bins=100, label='Raleigh Data')\n",
    "#tu_data[\"loan_amnt\"].hist(bins=100, label='General Data')\n",
    "plt.legend()\n",
    "plt.show()"
   ]
  },
  {
   "cell_type": "code",
   "execution_count": 74,
   "metadata": {},
   "outputs": [
    {
     "name": "stderr",
     "output_type": "stream",
     "text": [
      "/usr/local/lib/python3.8/dist-packages/seaborn/distributions.py:2619: FutureWarning: `distplot` is a deprecated function and will be removed in a future version. Please adapt your code to use either `displot` (a figure-level function with similar flexibility) or `histplot` (an axes-level function for histograms).\n",
      "  warnings.warn(msg, FutureWarning)\n",
      "/usr/local/lib/python3.8/dist-packages/matplotlib/cbook/__init__.py:1402: FutureWarning: Support for multi-dimensional indexing (e.g. `obj[:, None]`) is deprecated and will be removed in a future version.  Convert to a numpy array before indexing instead.\n",
      "  x[:, None]\n",
      "/usr/local/lib/python3.8/dist-packages/matplotlib/axes/_base.py:276: FutureWarning: Support for multi-dimensional indexing (e.g. `obj[:, None]`) is deprecated and will be removed in a future version.  Convert to a numpy array before indexing instead.\n",
      "  x = x[:, np.newaxis]\n",
      "/usr/local/lib/python3.8/dist-packages/matplotlib/axes/_base.py:278: FutureWarning: Support for multi-dimensional indexing (e.g. `obj[:, None]`) is deprecated and will be removed in a future version.  Convert to a numpy array before indexing instead.\n",
      "  y = y[:, np.newaxis]\n"
     ]
    },
    {
     "data": {
      "image/png": "[encoded data removed]",
      "text/plain": [
       "<Figure size 432x288 with 1 Axes>"
      ]
     },
     "metadata": {
      "needs_background": "light"
     },
     "output_type": "display_data"
    },
    {
     "name": "stderr",
     "output_type": "stream",
     "text": [
      "/usr/local/lib/python3.8/dist-packages/seaborn/distributions.py:2619: FutureWarning: `distplot` is a deprecated function and will be removed in a future version. Please adapt your code to use either `displot` (a figure-level function with similar flexibility) or `histplot` (an axes-level function for histograms).\n",
      "  warnings.warn(msg, FutureWarning)\n",
      "/usr/local/lib/python3.8/dist-packages/matplotlib/cbook/__init__.py:1402: FutureWarning: Support for multi-dimensional indexing (e.g. `obj[:, None]`) is deprecated and will be removed in a future version.  Convert to a numpy array before indexing instead.\n",
      "  x[:, None]\n",
      "/usr/local/lib/python3.8/dist-packages/matplotlib/axes/_base.py:276: FutureWarning: Support for multi-dimensional indexing (e.g. `obj[:, None]`) is deprecated and will be removed in a future version.  Convert to a numpy array before indexing instead.\n",
      "  x = x[:, np.newaxis]\n",
      "/usr/local/lib/python3.8/dist-packages/matplotlib/axes/_base.py:278: FutureWarning: Support for multi-dimensional indexing (e.g. `obj[:, None]`) is deprecated and will be removed in a future version.  Convert to a numpy array before indexing instead.\n",
      "  y = y[:, np.newaxis]\n"
     ]
    },
    {
     "data": {
      "image/png": "[encoded data removed]",
      "text/plain": [
       "<Figure size 432x288 with 1 Axes>"
      ]
     },
     "metadata": {
      "needs_background": "light"
     },
     "output_type": "display_data"
    }
   ],
   "source": [
    "sns.distplot(tu_data[\"listing_term\"], label='General Data')\n",
    "plt.legend()\n",
    "plt.show()\n",
    "sns.distplot(merge_raleigh_df[\"listing_term\"], label='Raleigh Data')\n",
    "#tu_data[\"loan_amnt\"].hist(bins=100, label='General Data')\n",
    "plt.legend()\n",
    "plt.show()"
   ]
  },
  {
   "cell_type": "markdown",
   "metadata": {},
   "source": [
    "# CLT in action"
   ]
  },
  {
   "cell_type": "markdown",
   "metadata": {},
   "source": [
    "One more thing before we start the test. Our goal is to check whether, for which we'll run some statistical test (you probably already know which) which checks if something belongs to a noraml distribution with some mean and some variance. But... is activation normally distributed in the Raliegh sample? "
   ]
  },
  {
   "cell_type": "code",
   "execution_count": 75,
   "metadata": {},
   "outputs": [],
   "source": [
    "#+2 points if you answer without plotting\n"
   ]
  },
  {
   "cell_type": "markdown",
   "metadata": {},
   "source": [
    "<font color = \"navy\">\n",
    "The activation is Bernoulli distributed, as it is a discrete parameter, taking the values 0 or 1."
   ]
  },
  {
   "cell_type": "markdown",
   "metadata": {},
   "source": [
    "The reason why we can assume normality is because we're checking averages of samples and we're relying on the Central Limit Theorem. We won't prove the theorem, but let's test it for a bit. "
   ]
  },
  {
   "cell_type": "markdown",
   "metadata": {},
   "source": [
    "Write a function which takes a pandas series S and a natural number n and creates a series of means of samples (with replacement) of n entries from S. Decide for yourself on the length of the output series. You can also use a different data structure if you find it more suitable as the output."
   ]
  },
  {
   "cell_type": "code",
   "execution_count": 27,
   "metadata": {},
   "outputs": [],
   "source": [
    "def random_sample_mean(S, n):\n",
    "    n_means = 1000\n",
    "    res = []\n",
    "    for idx in range(n_means):\n",
    "        res.append(S.sample(n, replace=True).mean())\n",
    "    return pd.Series(res)"
   ]
  },
  {
   "cell_type": "code",
   "execution_count": 79,
   "metadata": {},
   "outputs": [
    {
     "name": "stdout",
     "output_type": "stream",
     "text": [
      "0.086778\n"
     ]
    }
   ],
   "source": [
    "rand_means_data = random_sample_mean(merge_raleigh_df[\"offer_accepted\"], 1000)\n",
    "print(rand_means_data.mean())"
   ]
  },
  {
   "cell_type": "markdown",
   "metadata": {},
   "source": [
    "Optionally- also create a function which, given the same input as above, plots a histogram of the series of means, and also indicates the mean of this series."
   ]
  },
  {
   "cell_type": "code",
   "execution_count": 28,
   "metadata": {},
   "outputs": [],
   "source": [
    "def random_sample_mean2(S, n):\n",
    "    n_means = 10000\n",
    "    #res = []\n",
    "    #for idx in range(n_means):\n",
    "        #res.append(S.sample(n, replace=True).mean())\n",
    "    res = (np.random.choice(S, size=(n_means, n), replace=True).mean(axis=1))\n",
    "    #res = pd.Series(res)\n",
    "    plt.hist(res, bins=100, alpha=0.5)\n",
    "    plt.title(\"Distribution of sample means, \"+str(n_means)+\" means, \"+str(n)+\" samples per mean\", size=16)\n",
    "    print(\"The mean of means is: \",res.mean())\n",
    "    \n",
    "    return res"
   ]
  },
  {
   "cell_type": "markdown",
   "metadata": {},
   "source": [
    "Generate plots of the series of means of activation in Raleigh and in TU for n = 1, 2, 5, 10, 100, 1000 and 1e6, and indicate their means. Does the distribution approach a normal distribution as $n\\to\\infty$ in your opinion?"
   ]
  },
  {
   "cell_type": "code",
   "execution_count": 81,
   "metadata": {
    "tags": []
   },
   "outputs": [
    {
     "name": "stdout",
     "output_type": "stream",
     "text": [
      "The mean of means is:  0.0898\n"
     ]
    },
    {
     "data": {
      "image/png": "[encoded data removed]",
      "text/plain": [
       "<Figure size 432x288 with 1 Axes>"
      ]
     },
     "metadata": {
      "needs_background": "light"
     },
     "output_type": "display_data"
    },
    {
     "name": "stdout",
     "output_type": "stream",
     "text": [
      "The mean of means is:  0.0882\n"
     ]
    },
    {
     "data": {
      "image/png": "[encoded data removed]",
      "text/plain": [
       "<Figure size 432x288 with 1 Axes>"
      ]
     },
     "metadata": {
      "needs_background": "light"
     },
     "output_type": "display_data"
    },
    {
     "name": "stdout",
     "output_type": "stream",
     "text": [
      "The mean of means is:  0.08674000000000001\n"
     ]
    },
    {
     "data": {
      "image/png": "[encoded data removed]",
      "text/plain": [
       "<Figure size 432x288 with 1 Axes>"
      ]
     },
     "metadata": {
      "needs_background": "light"
     },
     "output_type": "display_data"
    },
    {
     "name": "stdout",
     "output_type": "stream",
     "text": [
      "The mean of means is:  0.08495\n"
     ]
    },
    {
     "data": {
      "image/png": "[encoded data removed]",
      "text/plain": [
       "<Figure size 432x288 with 1 Axes>"
      ]
     },
     "metadata": {
      "needs_background": "light"
     },
     "output_type": "display_data"
    },
    {
     "name": "stdout",
     "output_type": "stream",
     "text": [
      "The mean of means is:  0.086262\n"
     ]
    },
    {
     "data": {
      "image/png": "[encoded data removed]",
      "text/plain": [
       "<Figure size 432x288 with 1 Axes>"
      ]
     },
     "metadata": {
      "needs_background": "light"
     },
     "output_type": "display_data"
    },
    {
     "name": "stdout",
     "output_type": "stream",
     "text": [
      "The mean of means is:  0.0866021\n"
     ]
    },
    {
     "data": {
      "image/png": "[encoded data removed]",
      "text/plain": [
       "<Figure size 432x288 with 1 Axes>"
      ]
     },
     "metadata": {
      "needs_background": "light"
     },
     "output_type": "display_data"
    },
    {
     "name": "stdout",
     "output_type": "stream",
     "text": [
      "The mean of means is:  0.0866717638\n"
     ]
    },
    {
     "data": {
      "image/png": "[encoded data removed]",
      "text/plain": [
       "<Figure size 432x288 with 1 Axes>"
      ]
     },
     "metadata": {
      "needs_background": "light"
     },
     "output_type": "display_data"
    }
   ],
   "source": [
    "n_list = [1, 2, 5, 10, 100, 1000, 1000000]\n",
    "for n in n_list:\n",
    "    rand_means_data = random_sample_mean2(merge_raleigh_df[\"offer_accepted\"], n)\n",
    "    plt.show()"
   ]
  },
  {
   "cell_type": "markdown",
   "metadata": {},
   "source": [
    "<font color = \"navy\">\n",
    "No, we can see that in order for the distribution to seem normally-similar, we need both parameters n, n_means (number of samples per mean, and number of means, respectively) to approach infinity (or just be large enough)."
   ]
  },
  {
   "cell_type": "markdown",
   "metadata": {},
   "source": [
    "Now that your fuction is ready, it's time to make it part of our infrastucture:\n",
    "* Inside the `pagayapro` repo, create a branch called `feature/{your_user_name}/clt_tester/`.\n",
    "* Create a file called `clt.py` inside `~/pagayapro/users/{user_name}/assignment1/` \n",
    "* Copy the two finctions you just created into the file.\n",
    "* Push your file to `main`, open a PR and ask your mentor to review it. Once approved, rebase and merge."
   ]
  },
  {
   "cell_type": "code",
   "execution_count": null,
   "metadata": {},
   "outputs": [],
   "source": []
  },
  {
   "cell_type": "markdown",
   "metadata": {},
   "source": [
    "# Statistical test "
   ]
  },
  {
   "cell_type": "markdown",
   "metadata": {},
   "source": [
    "As mentioned in the Notion doc, the activation in Raleigh before deployment was measured at 6.85%. In this section, you will run a test to check whether the activation in Raleigh is indeed different following the flyer program. "
   ]
  },
  {
   "cell_type": "code",
   "execution_count": 29,
   "metadata": {
    "tags": []
   },
   "outputs": [],
   "source": [
    "if not installed:\n",
    "    !pip install statsmodels\n",
    "    installed = 1\n",
    "from statsmodels.stats.proportion import proportions_ztest"
   ]
  },
  {
   "cell_type": "markdown",
   "metadata": {},
   "source": [
    "Run a statistical test to check whether the current activation rate in Raleigh is different from 6,85%:\n",
    "1. What are your hypotheses?\n",
    "2. Setting your confidence level at 95%, what is the probability of an error of type I in your test? What is the probability of a type II error? What is the power of your test?\n",
    "3. Is the sample mean significantly different from the past value of 6.85?\n",
    "4. Interpret your results. Can you declare the program as successful in increasing activation (what is the probability of wrongfully declaring it successful)?\n",
    "5. Are there any other possible explanations for the change in activation that you observed? Discuss the possible drawbacks of our current test.\n",
    "\n",
    "Use `proportions_ztest` from `statsmodels.stats.proportion` in order to perform the test. Are your results significant?"
   ]
  },
  {
   "cell_type": "code",
   "execution_count": 33,
   "metadata": {},
   "outputs": [
    {
     "name": "stdout",
     "output_type": "stream",
     "text": [
      "We reject the null hypothesis\n",
      "We decalare the flyer program as successful!\n",
      "Our one-sided p value is:  7.002745871481786e-10\n"
     ]
    }
   ],
   "source": [
    "alpha = 0.05\n",
    "z_test, p_value = proportions_ztest(\n",
    "    sum(merge_raleigh_df[\"offer_accepted\"]),\n",
    "    len(merge_raleigh_df),\n",
    "    value=0.0685,\n",
    "    alternative='two-sided',\n",
    "    prop_var=False)\n",
    "\n",
    "\n",
    "if p_value < alpha:\n",
    "    print(\"We reject the null hypothesis\")\n",
    "else:\n",
    "    print(\"We cannot reject the null hypothsis\")\n",
    "    \n",
    "z_test, p_value_one_sided = proportions_ztest(\n",
    "    sum(merge_raleigh_df[\"offer_accepted\"]),\n",
    "    len(merge_raleigh_df),\n",
    "    value=0.0685,\n",
    "    alternative='larger',\n",
    "    prop_var=False)\n",
    "\n",
    "if (p_value_one_sided < alpha/2) and (merge_raleigh_df[\"offer_accepted\"].mean() > 0.0685):\n",
    "    print(\"We decalare the flyer program as successful!\")\n",
    "else:\n",
    "    print(\"We cannot declare the flyer program as successful :(\")\n",
    "    \n",
    "print(\"Our one-sided p value is: \",p_value_one_sided)"
   ]
  },
  {
   "cell_type": "markdown",
   "metadata": {},
   "source": [
    "<font color = \"navy\">\n",
    "<ol>\n",
    "    <li>\n",
    "        H0 = Current activation rate in Raleigh is 6.85% <br>\n",
    "        H1 = Current activation rate in Raleigh is not 6.85%\n",
    "    </li>\n",
    "    <li>\n",
    "        The probability of a type I error is $\\alpha$ = 1 - CL = 1 - 0.95 = 0.05 <br>\n",
    "    </li>\n",
    "    <li>\n",
    "        Yes, the sample mean is 0.0867, which is 26.6% larger than 0.0685. <br>\n",
    "        Such an improvement in activation could result in a 26.6% increase in Pagaya's revenue!\n",
    "    </li>\n",
    "    <li>\n",
    "        Yes, we would declare the program as successful, increasing the activation significantly <br>\n",
    "        The probability of wrongfully declaring the program as successful is 2.5% ($\\alpha$/2, as this is a one-sided type I error)\n",
    "    </li>\n",
    "    <li>\n",
    "        As the data could not be collected in such way that the only influencing factor changed is the flyer program, there is a possibility that a different factor was increasing the activation and we would mistakenly conclude the program as successful.<br>\n",
    "        The data was collected during different time spans, hence a possible change in the activation could be caused due to a change in ambient factors such as macro-economics factors, regional factors (e.g. a recent hurricane damaged property and more people would need loans for repairs), and more.\n",
    "    </li>"
   ]
  },
  {
   "cell_type": "code",
   "execution_count": null,
   "metadata": {},
   "outputs": [],
   "source": []
  },
  {
   "cell_type": "markdown",
   "metadata": {},
   "source": [
    "Do you see any possible problems in your methodology? What other factors can explain the change in activation, if such a change exists?"
   ]
  },
  {
   "cell_type": "markdown",
   "metadata": {},
   "source": [
    "<font color = \"navy\">\n",
    "From 5. above:\n",
    "    <br>\n",
    "        As the data could not be collected in such way that the only influencing factor changed is the flyer program, there is a possibility that a different factor was increasing the activation and we would mistakenly conclude the program as successful.<br>\n",
    "        The data was collected during different time spans, hence a possible change in the activation could be caused due to a change in ambient factors such as macro-economics factors, regional factors (e.g. a recent hurricane damaged property and more people would need loans for repairs), and more."
   ]
  },
  {
   "cell_type": "code",
   "execution_count": null,
   "metadata": {},
   "outputs": [],
   "source": []
  },
  {
   "cell_type": "markdown",
   "metadata": {
    "tags": []
   },
   "source": [
    "# A/b test"
   ]
  },
  {
   "cell_type": "markdown",
   "metadata": {},
   "source": [
    "In order to isolate temporal and environmental effects on activation, we'll run an a/b test, comparing the activation rate in Raleigh to that of Lubbock, TX, another town in which Pagaya operates without a flyer program. "
   ]
  },
  {
   "cell_type": "markdown",
   "metadata": {},
   "source": [
    "The activation forms for Lubbock also appear in the `offers` subdirectory of the `ASSIGNMENT1_DATA` folder. Read all files from this folder whose name contains the substring 'lubbock', and create a dataframe of final offers called `lubbock_df`, drop unnecessary rows from it, and enrich it with TU features."
   ]
  },
  {
   "cell_type": "code",
   "execution_count": 34,
   "metadata": {
    "tags": []
   },
   "outputs": [],
   "source": [
    "lubbock_forms= (\n",
    "    glob.glob(\n",
    "        os.path.join(ASSIGNMENT1_DATA,\"offers/*lubbock*\")\n",
    "    )\n",
    ")"
   ]
  },
  {
   "cell_type": "code",
   "execution_count": null,
   "metadata": {},
   "outputs": [],
   "source": []
  },
  {
   "cell_type": "code",
   "execution_count": 35,
   "metadata": {},
   "outputs": [],
   "source": [
    "lubbock_df = pd.concat([pd.read_csv(path) for path in lubbock_forms], axis=0).groupby(\"id\").last().reset_index()"
   ]
  },
  {
   "cell_type": "code",
   "execution_count": 36,
   "metadata": {},
   "outputs": [],
   "source": [
    "merge_lubbock_df = tu_data.merge(lubbock_df, how=\"right\", on=[\"id\", \"sequence_num\"])"
   ]
  },
  {
   "cell_type": "code",
   "execution_count": 37,
   "metadata": {},
   "outputs": [
    {
     "data": {
      "text/html": [
       "<div>\n",
       "<style scoped>\n",
       "    .dataframe tbody tr th:only-of-type {\n",
       "        vertical-align: middle;\n",
       "    }\n",
       "\n",
       "    .dataframe tbody tr th {\n",
       "        vertical-align: top;\n",
       "    }\n",
       "\n",
       "    .dataframe thead th {\n",
       "        text-align: right;\n",
       "    }\n",
       "</style>\n",
       "<table border=\"1\" class=\"dataframe\">\n",
       "  <thead>\n",
       "    <tr style=\"text-align: right;\">\n",
       "      <th></th>\n",
       "      <th>id</th>\n",
       "      <th>sequence_num</th>\n",
       "      <th>credit_score</th>\n",
       "      <th>listing_term</th>\n",
       "      <th>int_rate</th>\n",
       "      <th>loan_amnt</th>\n",
       "      <th>monthly_pmt</th>\n",
       "      <th>original_state</th>\n",
       "      <th>requested_amount</th>\n",
       "      <th>offered_interest_rate</th>\n",
       "      <th>offer_accepted</th>\n",
       "      <th>offer_date</th>\n",
       "    </tr>\n",
       "  </thead>\n",
       "  <tbody>\n",
       "    <tr>\n",
       "      <th>0</th>\n",
       "      <td>00081387dcef0fab60c7f9f94669cc6df140531c9e0a55...</td>\n",
       "      <td>35357872fbcfec327a4c7665f08a98f0dc55eb19969f36...</td>\n",
       "      <td>735</td>\n",
       "      <td>36.0</td>\n",
       "      <td>8.24</td>\n",
       "      <td>4070.0</td>\n",
       "      <td>128.0</td>\n",
       "      <td>TX</td>\n",
       "      <td>4070.0</td>\n",
       "      <td>8.24</td>\n",
       "      <td>False</td>\n",
       "      <td>2020-07-10</td>\n",
       "    </tr>\n",
       "    <tr>\n",
       "      <th>1</th>\n",
       "      <td>00090fdbe1fc33bf53dda546318c248cb6fe4299ad39dd...</td>\n",
       "      <td>6c98c998cb4bd242edbd55164eeed3927372264f8395b8...</td>\n",
       "      <td>636</td>\n",
       "      <td>36.0</td>\n",
       "      <td>16.68</td>\n",
       "      <td>5550.0</td>\n",
       "      <td>197.0</td>\n",
       "      <td>TX</td>\n",
       "      <td>5550.0</td>\n",
       "      <td>16.68</td>\n",
       "      <td>False</td>\n",
       "      <td>2020-06-02</td>\n",
       "    </tr>\n",
       "    <tr>\n",
       "      <th>2</th>\n",
       "      <td>000aa5e29eadd0bd7e2c9649d0ed986af4848895b6a4fa...</td>\n",
       "      <td>921cda1c86bc82347ea8168a894918f8ae857cdbbdb9a5...</td>\n",
       "      <td>664</td>\n",
       "      <td>36.0</td>\n",
       "      <td>7.18</td>\n",
       "      <td>25000.0</td>\n",
       "      <td>774.0</td>\n",
       "      <td>TX</td>\n",
       "      <td>25000.0</td>\n",
       "      <td>7.18</td>\n",
       "      <td>False</td>\n",
       "      <td>2019-06-19</td>\n",
       "    </tr>\n",
       "    <tr>\n",
       "      <th>3</th>\n",
       "      <td>001046cb99ae36567910bdd6fd907622cdc8aefb1689d6...</td>\n",
       "      <td>0637e25695fcabdcec43d21364397793a169bd8b6977ed...</td>\n",
       "      <td>819</td>\n",
       "      <td>60.0</td>\n",
       "      <td>6.68</td>\n",
       "      <td>20000.0</td>\n",
       "      <td>393.0</td>\n",
       "      <td>TX</td>\n",
       "      <td>20000.0</td>\n",
       "      <td>6.68</td>\n",
       "      <td>False</td>\n",
       "      <td>2018-02-20</td>\n",
       "    </tr>\n",
       "    <tr>\n",
       "      <th>4</th>\n",
       "      <td>00176f09e7f3c4c864098d84a1f07e632fcce67f4d8d1b...</td>\n",
       "      <td>1448249d369054a06a82acb4003d3daee61574935da0a8...</td>\n",
       "      <td>780</td>\n",
       "      <td>36.0</td>\n",
       "      <td>8.99</td>\n",
       "      <td>10000.0</td>\n",
       "      <td>318.0</td>\n",
       "      <td>TX</td>\n",
       "      <td>10000.0</td>\n",
       "      <td>8.99</td>\n",
       "      <td>False</td>\n",
       "      <td>2019-09-27</td>\n",
       "    </tr>\n",
       "  </tbody>\n",
       "</table>\n",
       "</div>"
      ],
      "text/plain": [
       "                                                  id  \\\n",
       "0  00081387dcef0fab60c7f9f94669cc6df140531c9e0a55...   \n",
       "1  00090fdbe1fc33bf53dda546318c248cb6fe4299ad39dd...   \n",
       "2  000aa5e29eadd0bd7e2c9649d0ed986af4848895b6a4fa...   \n",
       "3  001046cb99ae36567910bdd6fd907622cdc8aefb1689d6...   \n",
       "4  00176f09e7f3c4c864098d84a1f07e632fcce67f4d8d1b...   \n",
       "\n",
       "                                        sequence_num  credit_score  \\\n",
       "0  35357872fbcfec327a4c7665f08a98f0dc55eb19969f36...           735   \n",
       "1  6c98c998cb4bd242edbd55164eeed3927372264f8395b8...           636   \n",
       "2  921cda1c86bc82347ea8168a894918f8ae857cdbbdb9a5...           664   \n",
       "3  0637e25695fcabdcec43d21364397793a169bd8b6977ed...           819   \n",
       "4  1448249d369054a06a82acb4003d3daee61574935da0a8...           780   \n",
       "\n",
       "   listing_term  int_rate  loan_amnt  monthly_pmt original_state  \\\n",
       "0          36.0      8.24     4070.0        128.0             TX   \n",
       "1          36.0     16.68     5550.0        197.0             TX   \n",
       "2          36.0      7.18    25000.0        774.0             TX   \n",
       "3          60.0      6.68    20000.0        393.0             TX   \n",
       "4          36.0      8.99    10000.0        318.0             TX   \n",
       "\n",
       "   requested_amount  offered_interest_rate  offer_accepted  offer_date  \n",
       "0            4070.0                   8.24           False  2020-07-10  \n",
       "1            5550.0                  16.68           False  2020-06-02  \n",
       "2           25000.0                   7.18           False  2019-06-19  \n",
       "3           20000.0                   6.68           False  2018-02-20  \n",
       "4           10000.0                   8.99           False  2019-09-27  "
      ]
     },
     "execution_count": 37,
     "metadata": {},
     "output_type": "execute_result"
    }
   ],
   "source": [
    "merge_lubbock_df.head()"
   ]
  },
  {
   "cell_type": "code",
   "execution_count": 38,
   "metadata": {},
   "outputs": [
    {
     "data": {
      "text/html": [
       "<div>\n",
       "<style scoped>\n",
       "    .dataframe tbody tr th:only-of-type {\n",
       "        vertical-align: middle;\n",
       "    }\n",
       "\n",
       "    .dataframe tbody tr th {\n",
       "        vertical-align: top;\n",
       "    }\n",
       "\n",
       "    .dataframe thead th {\n",
       "        text-align: right;\n",
       "    }\n",
       "</style>\n",
       "<table border=\"1\" class=\"dataframe\">\n",
       "  <thead>\n",
       "    <tr style=\"text-align: right;\">\n",
       "      <th></th>\n",
       "      <th>id</th>\n",
       "      <th>sequence_num</th>\n",
       "      <th>credit_score</th>\n",
       "      <th>listing_term</th>\n",
       "      <th>int_rate</th>\n",
       "      <th>loan_amnt</th>\n",
       "      <th>monthly_pmt</th>\n",
       "      <th>original_state</th>\n",
       "      <th>requested_amount</th>\n",
       "      <th>offered_interest_rate</th>\n",
       "      <th>offer_accepted</th>\n",
       "      <th>offer_date</th>\n",
       "    </tr>\n",
       "  </thead>\n",
       "  <tbody>\n",
       "    <tr>\n",
       "      <th>0</th>\n",
       "      <td>0000944c6eb064d675539d8deaff65acd38cecfba22862...</td>\n",
       "      <td>65529635d01c24822ffe6bd680ea2a0c7d44f49aa88afb...</td>\n",
       "      <td>791</td>\n",
       "      <td>60.0</td>\n",
       "      <td>12.30</td>\n",
       "      <td>5000.0</td>\n",
       "      <td>112.0</td>\n",
       "      <td>NC</td>\n",
       "      <td>5000.0</td>\n",
       "      <td>12.30</td>\n",
       "      <td>False</td>\n",
       "      <td>2019-12-02</td>\n",
       "    </tr>\n",
       "    <tr>\n",
       "      <th>1</th>\n",
       "      <td>0003290aea2ca5f7da83d2f32d0c783998906346e99892...</td>\n",
       "      <td>6ce06396232ee6df63e905b2d9e5401030570873c7c3ba...</td>\n",
       "      <td>645</td>\n",
       "      <td>36.0</td>\n",
       "      <td>24.88</td>\n",
       "      <td>3300.0</td>\n",
       "      <td>131.0</td>\n",
       "      <td>NC</td>\n",
       "      <td>3300.0</td>\n",
       "      <td>24.88</td>\n",
       "      <td>False</td>\n",
       "      <td>2019-01-29</td>\n",
       "    </tr>\n",
       "    <tr>\n",
       "      <th>2</th>\n",
       "      <td>0005ca5ea9f8399dddee878b7c9694d618a9a1b9d09152...</td>\n",
       "      <td>d29ac15bafd56a1444b1b06265d4c67869350f0dd86b58...</td>\n",
       "      <td>703</td>\n",
       "      <td>36.0</td>\n",
       "      <td>12.94</td>\n",
       "      <td>3000.0</td>\n",
       "      <td>101.0</td>\n",
       "      <td>NC</td>\n",
       "      <td>3000.0</td>\n",
       "      <td>12.94</td>\n",
       "      <td>False</td>\n",
       "      <td>2020-01-10</td>\n",
       "    </tr>\n",
       "    <tr>\n",
       "      <th>3</th>\n",
       "      <td>00205f2f999895bde728aebcd83707fa204ec44e203b97...</td>\n",
       "      <td>6061825c161146555925ce39fb27c935fb5899f39ce94b...</td>\n",
       "      <td>692</td>\n",
       "      <td>60.0</td>\n",
       "      <td>13.08</td>\n",
       "      <td>25000.0</td>\n",
       "      <td>570.0</td>\n",
       "      <td>NC</td>\n",
       "      <td>25000.0</td>\n",
       "      <td>13.08</td>\n",
       "      <td>False</td>\n",
       "      <td>2019-07-31</td>\n",
       "    </tr>\n",
       "    <tr>\n",
       "      <th>4</th>\n",
       "      <td>002e86fa45263cfe8429dcaa1b37e8abbf57b596e6f45b...</td>\n",
       "      <td>f93f7353e36814e67c17ad06878c2c9f5f810286036b9a...</td>\n",
       "      <td>606</td>\n",
       "      <td>36.0</td>\n",
       "      <td>33.77</td>\n",
       "      <td>3816.0</td>\n",
       "      <td>170.0</td>\n",
       "      <td>NC</td>\n",
       "      <td>3816.0</td>\n",
       "      <td>33.77</td>\n",
       "      <td>False</td>\n",
       "      <td>2020-11-23</td>\n",
       "    </tr>\n",
       "  </tbody>\n",
       "</table>\n",
       "</div>"
      ],
      "text/plain": [
       "                                                  id  \\\n",
       "0  0000944c6eb064d675539d8deaff65acd38cecfba22862...   \n",
       "1  0003290aea2ca5f7da83d2f32d0c783998906346e99892...   \n",
       "2  0005ca5ea9f8399dddee878b7c9694d618a9a1b9d09152...   \n",
       "3  00205f2f999895bde728aebcd83707fa204ec44e203b97...   \n",
       "4  002e86fa45263cfe8429dcaa1b37e8abbf57b596e6f45b...   \n",
       "\n",
       "                                        sequence_num  credit_score  \\\n",
       "0  65529635d01c24822ffe6bd680ea2a0c7d44f49aa88afb...           791   \n",
       "1  6ce06396232ee6df63e905b2d9e5401030570873c7c3ba...           645   \n",
       "2  d29ac15bafd56a1444b1b06265d4c67869350f0dd86b58...           703   \n",
       "3  6061825c161146555925ce39fb27c935fb5899f39ce94b...           692   \n",
       "4  f93f7353e36814e67c17ad06878c2c9f5f810286036b9a...           606   \n",
       "\n",
       "   listing_term  int_rate  loan_amnt  monthly_pmt original_state  \\\n",
       "0          60.0     12.30     5000.0        112.0             NC   \n",
       "1          36.0     24.88     3300.0        131.0             NC   \n",
       "2          36.0     12.94     3000.0        101.0             NC   \n",
       "3          60.0     13.08    25000.0        570.0             NC   \n",
       "4          36.0     33.77     3816.0        170.0             NC   \n",
       "\n",
       "   requested_amount  offered_interest_rate  offer_accepted  offer_date  \n",
       "0            5000.0                  12.30           False  2019-12-02  \n",
       "1            3300.0                  24.88           False  2019-01-29  \n",
       "2            3000.0                  12.94           False  2020-01-10  \n",
       "3           25000.0                  13.08           False  2019-07-31  \n",
       "4            3816.0                  33.77           False  2020-11-23  "
      ]
     },
     "execution_count": 38,
     "metadata": {},
     "output_type": "execute_result"
    }
   ],
   "source": [
    "merge_raleigh_df.head()"
   ]
  },
  {
   "cell_type": "markdown",
   "metadata": {},
   "source": [
    "What is the average interest rate in Lubbock? What is it among accepting borrowers?"
   ]
  },
  {
   "cell_type": "code",
   "execution_count": 39,
   "metadata": {},
   "outputs": [
    {
     "data": {
      "text/plain": [
       "15.505397526501767"
      ]
     },
     "execution_count": 39,
     "metadata": {},
     "output_type": "execute_result"
    }
   ],
   "source": [
    "merge_lubbock_df[\"int_rate\"].mean()"
   ]
  },
  {
   "cell_type": "code",
   "execution_count": 40,
   "metadata": {},
   "outputs": [
    {
     "data": {
      "text/plain": [
       "13.553895131086144"
      ]
     },
     "execution_count": 40,
     "metadata": {},
     "output_type": "execute_result"
    }
   ],
   "source": [
    "merge_lubbock_df[merge_lubbock_df[\"offer_accepted\"]][\"int_rate\"].mean()"
   ]
  },
  {
   "cell_type": "markdown",
   "metadata": {},
   "source": [
    "What is the average credit score in Lubbock? What is it among accepting borrowers?"
   ]
  },
  {
   "cell_type": "code",
   "execution_count": 41,
   "metadata": {},
   "outputs": [
    {
     "data": {
      "text/plain": [
       "690.0338339222615"
      ]
     },
     "execution_count": 41,
     "metadata": {},
     "output_type": "execute_result"
    }
   ],
   "source": [
    "merge_lubbock_df[\"credit_score\"].mean()"
   ]
  },
  {
   "cell_type": "code",
   "execution_count": 42,
   "metadata": {},
   "outputs": [
    {
     "data": {
      "text/plain": [
       "730.5337078651686"
      ]
     },
     "execution_count": 42,
     "metadata": {},
     "output_type": "execute_result"
    }
   ],
   "source": [
    "merge_lubbock_df[merge_lubbock_df[\"offer_accepted\"]][\"credit_score\"].mean()"
   ]
  },
  {
   "cell_type": "markdown",
   "metadata": {},
   "source": [
    "What is the rate of activation in Lubbock?"
   ]
  },
  {
   "cell_type": "code",
   "execution_count": 43,
   "metadata": {},
   "outputs": [
    {
     "data": {
      "text/plain": [
       "0.04717314487632509"
      ]
     },
     "execution_count": 43,
     "metadata": {},
     "output_type": "execute_result"
    }
   ],
   "source": [
    "merge_lubbock_df[\"offer_accepted\"].mean()"
   ]
  },
  {
   "cell_type": "markdown",
   "metadata": {},
   "source": [
    "## Caution about a/b test "
   ]
  },
  {
   "cell_type": "markdown",
   "metadata": {},
   "source": [
    "Note that this is not a classical a/b test. Usually, in such a test, one creates two random subgroups from the general population and applies a manipulation to one of them in order to see if the manipulation had an effect. However, in this case, it is very complicated to isolate a random subgroup from any population and deploy the flyer program only on it.\n",
    "Thus, due to production limitation, we have to make do with what we got."
   ]
  },
  {
   "cell_type": "markdown",
   "metadata": {},
   "source": [
    "In order to justify the use of an a/b test for this situation, we should at least verify that the borrower population in Lubbock and Raleigh seem as though they were randomly selected from the general population. We have actually already checked it for Raleigh above. Add TU features to the loan amount, interest rate, credit score and term comparisons and see if there any major differences between the three populations (Lubbock, Raleigh and TU)."
   ]
  },
  {
   "cell_type": "code",
   "execution_count": 44,
   "metadata": {
    "tags": []
   },
   "outputs": [
    {
     "data": {
      "image/png": "[encoded data removed]",
      "text/plain": [
       "<Figure size 1080x648 with 1 Axes>"
      ]
     },
     "metadata": {
      "needs_background": "light"
     },
     "output_type": "display_data"
    }
   ],
   "source": [
    "fig = tu_data[\"loan_amnt\"].hist(bins=100,  label='General Data', alpha=1,range=(0, 100000), density=True, figsize=(15, 9), color='b')\n",
    "merge_raleigh_df[\"loan_amnt\"].hist(bins=100, label='Raleigh Data', alpha=0.7, range=(0, 100000), density=True, color='r')\n",
    "merge_lubbock_df[\"loan_amnt\"].hist(bins=100, label='Lubbock Data',alpha=0.5, range=(0, 100000), density=True, color='g')\n",
    "plt.legend()\n",
    "plt.show()"
   ]
  },
  {
   "cell_type": "code",
   "execution_count": 73,
   "metadata": {},
   "outputs": [
    {
     "name": "stderr",
     "output_type": "stream",
     "text": [
      "/usr/local/lib/python3.8/dist-packages/seaborn/distributions.py:2619: FutureWarning: `distplot` is a deprecated function and will be removed in a future version. Please adapt your code to use either `displot` (a figure-level function with similar flexibility) or `histplot` (an axes-level function for histograms).\n",
      "  warnings.warn(msg, FutureWarning)\n",
      "/usr/local/lib/python3.8/dist-packages/matplotlib/cbook/__init__.py:1402: FutureWarning: Support for multi-dimensional indexing (e.g. `obj[:, None]`) is deprecated and will be removed in a future version.  Convert to a numpy array before indexing instead.\n",
      "  x[:, None]\n",
      "/usr/local/lib/python3.8/dist-packages/matplotlib/axes/_base.py:276: FutureWarning: Support for multi-dimensional indexing (e.g. `obj[:, None]`) is deprecated and will be removed in a future version.  Convert to a numpy array before indexing instead.\n",
      "  x = x[:, np.newaxis]\n",
      "/usr/local/lib/python3.8/dist-packages/matplotlib/axes/_base.py:278: FutureWarning: Support for multi-dimensional indexing (e.g. `obj[:, None]`) is deprecated and will be removed in a future version.  Convert to a numpy array before indexing instead.\n",
      "  y = y[:, np.newaxis]\n",
      "/usr/local/lib/python3.8/dist-packages/seaborn/distributions.py:2619: FutureWarning: `distplot` is a deprecated function and will be removed in a future version. Please adapt your code to use either `displot` (a figure-level function with similar flexibility) or `histplot` (an axes-level function for histograms).\n",
      "  warnings.warn(msg, FutureWarning)\n",
      "/usr/local/lib/python3.8/dist-packages/matplotlib/cbook/__init__.py:1402: FutureWarning: Support for multi-dimensional indexing (e.g. `obj[:, None]`) is deprecated and will be removed in a future version.  Convert to a numpy array before indexing instead.\n",
      "  x[:, None]\n",
      "/usr/local/lib/python3.8/dist-packages/matplotlib/axes/_base.py:276: FutureWarning: Support for multi-dimensional indexing (e.g. `obj[:, None]`) is deprecated and will be removed in a future version.  Convert to a numpy array before indexing instead.\n",
      "  x = x[:, np.newaxis]\n",
      "/usr/local/lib/python3.8/dist-packages/matplotlib/axes/_base.py:278: FutureWarning: Support for multi-dimensional indexing (e.g. `obj[:, None]`) is deprecated and will be removed in a future version.  Convert to a numpy array before indexing instead.\n",
      "  y = y[:, np.newaxis]\n",
      "/usr/local/lib/python3.8/dist-packages/seaborn/distributions.py:2619: FutureWarning: `distplot` is a deprecated function and will be removed in a future version. Please adapt your code to use either `displot` (a figure-level function with similar flexibility) or `histplot` (an axes-level function for histograms).\n",
      "  warnings.warn(msg, FutureWarning)\n",
      "/usr/local/lib/python3.8/dist-packages/matplotlib/cbook/__init__.py:1402: FutureWarning: Support for multi-dimensional indexing (e.g. `obj[:, None]`) is deprecated and will be removed in a future version.  Convert to a numpy array before indexing instead.\n",
      "  x[:, None]\n",
      "/usr/local/lib/python3.8/dist-packages/matplotlib/axes/_base.py:276: FutureWarning: Support for multi-dimensional indexing (e.g. `obj[:, None]`) is deprecated and will be removed in a future version.  Convert to a numpy array before indexing instead.\n",
      "  x = x[:, np.newaxis]\n",
      "/usr/local/lib/python3.8/dist-packages/matplotlib/axes/_base.py:278: FutureWarning: Support for multi-dimensional indexing (e.g. `obj[:, None]`) is deprecated and will be removed in a future version.  Convert to a numpy array before indexing instead.\n",
      "  y = y[:, np.newaxis]\n"
     ]
    },
    {
     "data": {
      "text/plain": [
       "Text(0.5, 1.0, 'Loan amount distribution comparison')"
      ]
     },
     "execution_count": 73,
     "metadata": {},
     "output_type": "execute_result"
    },
    {
     "data": {
      "image/png": "[encoded data removed]",
      "text/plain": [
       "<Figure size 1080x648 with 1 Axes>"
      ]
     },
     "metadata": {
      "needs_background": "light"
     },
     "output_type": "display_data"
    }
   ],
   "source": [
    "fig = plt.figure(figsize=(15, 9))\n",
    "sns.distplot(tu_data[\"loan_amnt\"], bins=500, label='General Data')\n",
    "sns.distplot(merge_raleigh_df[\"loan_amnt\"], bins=100, label='Raleigh Data')\n",
    "sns.distplot(merge_lubbock_df[\"loan_amnt\"], bins=60, label='Lubbock Data')\n",
    "plt.xlim(0, 100000);\n",
    "plt.legend()\n",
    "plt.title(\"Loan amount distribution comparison\", size=20);"
   ]
  },
  {
   "cell_type": "code",
   "execution_count": 74,
   "metadata": {},
   "outputs": [
    {
     "name": "stderr",
     "output_type": "stream",
     "text": [
      "/usr/local/lib/python3.8/dist-packages/seaborn/distributions.py:2619: FutureWarning: `distplot` is a deprecated function and will be removed in a future version. Please adapt your code to use either `displot` (a figure-level function with similar flexibility) or `histplot` (an axes-level function for histograms).\n",
      "  warnings.warn(msg, FutureWarning)\n",
      "/usr/local/lib/python3.8/dist-packages/matplotlib/cbook/__init__.py:1402: FutureWarning: Support for multi-dimensional indexing (e.g. `obj[:, None]`) is deprecated and will be removed in a future version.  Convert to a numpy array before indexing instead.\n",
      "  x[:, None]\n",
      "/usr/local/lib/python3.8/dist-packages/matplotlib/axes/_base.py:276: FutureWarning: Support for multi-dimensional indexing (e.g. `obj[:, None]`) is deprecated and will be removed in a future version.  Convert to a numpy array before indexing instead.\n",
      "  x = x[:, np.newaxis]\n",
      "/usr/local/lib/python3.8/dist-packages/matplotlib/axes/_base.py:278: FutureWarning: Support for multi-dimensional indexing (e.g. `obj[:, None]`) is deprecated and will be removed in a future version.  Convert to a numpy array before indexing instead.\n",
      "  y = y[:, np.newaxis]\n",
      "/usr/local/lib/python3.8/dist-packages/seaborn/distributions.py:2619: FutureWarning: `distplot` is a deprecated function and will be removed in a future version. Please adapt your code to use either `displot` (a figure-level function with similar flexibility) or `histplot` (an axes-level function for histograms).\n",
      "  warnings.warn(msg, FutureWarning)\n",
      "/usr/local/lib/python3.8/dist-packages/matplotlib/cbook/__init__.py:1402: FutureWarning: Support for multi-dimensional indexing (e.g. `obj[:, None]`) is deprecated and will be removed in a future version.  Convert to a numpy array before indexing instead.\n",
      "  x[:, None]\n",
      "/usr/local/lib/python3.8/dist-packages/matplotlib/axes/_base.py:276: FutureWarning: Support for multi-dimensional indexing (e.g. `obj[:, None]`) is deprecated and will be removed in a future version.  Convert to a numpy array before indexing instead.\n",
      "  x = x[:, np.newaxis]\n",
      "/usr/local/lib/python3.8/dist-packages/matplotlib/axes/_base.py:278: FutureWarning: Support for multi-dimensional indexing (e.g. `obj[:, None]`) is deprecated and will be removed in a future version.  Convert to a numpy array before indexing instead.\n",
      "  y = y[:, np.newaxis]\n",
      "/usr/local/lib/python3.8/dist-packages/seaborn/distributions.py:2619: FutureWarning: `distplot` is a deprecated function and will be removed in a future version. Please adapt your code to use either `displot` (a figure-level function with similar flexibility) or `histplot` (an axes-level function for histograms).\n",
      "  warnings.warn(msg, FutureWarning)\n",
      "/usr/local/lib/python3.8/dist-packages/matplotlib/cbook/__init__.py:1402: FutureWarning: Support for multi-dimensional indexing (e.g. `obj[:, None]`) is deprecated and will be removed in a future version.  Convert to a numpy array before indexing instead.\n",
      "  x[:, None]\n",
      "/usr/local/lib/python3.8/dist-packages/matplotlib/axes/_base.py:276: FutureWarning: Support for multi-dimensional indexing (e.g. `obj[:, None]`) is deprecated and will be removed in a future version.  Convert to a numpy array before indexing instead.\n",
      "  x = x[:, np.newaxis]\n",
      "/usr/local/lib/python3.8/dist-packages/matplotlib/axes/_base.py:278: FutureWarning: Support for multi-dimensional indexing (e.g. `obj[:, None]`) is deprecated and will be removed in a future version.  Convert to a numpy array before indexing instead.\n",
      "  y = y[:, np.newaxis]\n"
     ]
    },
    {
     "data": {
      "image/png": "[encoded data removed]",
      "text/plain": [
       "<Figure size 1080x648 with 1 Axes>"
      ]
     },
     "metadata": {
      "needs_background": "light"
     },
     "output_type": "display_data"
    }
   ],
   "source": [
    "fig = plt.figure(figsize=(15, 9))\n",
    "sns.distplot(tu_data[\"int_rate\"], bins=100, label='General Data')\n",
    "sns.distplot(merge_raleigh_df[\"int_rate\"], bins=100, label='Raleigh Data')\n",
    "sns.distplot(merge_lubbock_df[\"int_rate\"], bins=100, label='Lubbock Data')\n",
    "#plt.xlim(0, 100000);\n",
    "plt.legend()\n",
    "plt.title(\"Interest rate distribution comparison\", size=20);"
   ]
  },
  {
   "cell_type": "code",
   "execution_count": 75,
   "metadata": {},
   "outputs": [
    {
     "name": "stderr",
     "output_type": "stream",
     "text": [
      "/usr/local/lib/python3.8/dist-packages/seaborn/distributions.py:2619: FutureWarning: `distplot` is a deprecated function and will be removed in a future version. Please adapt your code to use either `displot` (a figure-level function with similar flexibility) or `histplot` (an axes-level function for histograms).\n",
      "  warnings.warn(msg, FutureWarning)\n",
      "/usr/local/lib/python3.8/dist-packages/matplotlib/cbook/__init__.py:1402: FutureWarning: Support for multi-dimensional indexing (e.g. `obj[:, None]`) is deprecated and will be removed in a future version.  Convert to a numpy array before indexing instead.\n",
      "  x[:, None]\n",
      "/usr/local/lib/python3.8/dist-packages/matplotlib/axes/_base.py:276: FutureWarning: Support for multi-dimensional indexing (e.g. `obj[:, None]`) is deprecated and will be removed in a future version.  Convert to a numpy array before indexing instead.\n",
      "  x = x[:, np.newaxis]\n",
      "/usr/local/lib/python3.8/dist-packages/matplotlib/axes/_base.py:278: FutureWarning: Support for multi-dimensional indexing (e.g. `obj[:, None]`) is deprecated and will be removed in a future version.  Convert to a numpy array before indexing instead.\n",
      "  y = y[:, np.newaxis]\n",
      "/usr/local/lib/python3.8/dist-packages/seaborn/distributions.py:2619: FutureWarning: `distplot` is a deprecated function and will be removed in a future version. Please adapt your code to use either `displot` (a figure-level function with similar flexibility) or `histplot` (an axes-level function for histograms).\n",
      "  warnings.warn(msg, FutureWarning)\n",
      "/usr/local/lib/python3.8/dist-packages/matplotlib/cbook/__init__.py:1402: FutureWarning: Support for multi-dimensional indexing (e.g. `obj[:, None]`) is deprecated and will be removed in a future version.  Convert to a numpy array before indexing instead.\n",
      "  x[:, None]\n",
      "/usr/local/lib/python3.8/dist-packages/matplotlib/axes/_base.py:276: FutureWarning: Support for multi-dimensional indexing (e.g. `obj[:, None]`) is deprecated and will be removed in a future version.  Convert to a numpy array before indexing instead.\n",
      "  x = x[:, np.newaxis]\n",
      "/usr/local/lib/python3.8/dist-packages/matplotlib/axes/_base.py:278: FutureWarning: Support for multi-dimensional indexing (e.g. `obj[:, None]`) is deprecated and will be removed in a future version.  Convert to a numpy array before indexing instead.\n",
      "  y = y[:, np.newaxis]\n",
      "/usr/local/lib/python3.8/dist-packages/seaborn/distributions.py:2619: FutureWarning: `distplot` is a deprecated function and will be removed in a future version. Please adapt your code to use either `displot` (a figure-level function with similar flexibility) or `histplot` (an axes-level function for histograms).\n",
      "  warnings.warn(msg, FutureWarning)\n",
      "/usr/local/lib/python3.8/dist-packages/matplotlib/cbook/__init__.py:1402: FutureWarning: Support for multi-dimensional indexing (e.g. `obj[:, None]`) is deprecated and will be removed in a future version.  Convert to a numpy array before indexing instead.\n",
      "  x[:, None]\n",
      "/usr/local/lib/python3.8/dist-packages/matplotlib/axes/_base.py:276: FutureWarning: Support for multi-dimensional indexing (e.g. `obj[:, None]`) is deprecated and will be removed in a future version.  Convert to a numpy array before indexing instead.\n",
      "  x = x[:, np.newaxis]\n",
      "/usr/local/lib/python3.8/dist-packages/matplotlib/axes/_base.py:278: FutureWarning: Support for multi-dimensional indexing (e.g. `obj[:, None]`) is deprecated and will be removed in a future version.  Convert to a numpy array before indexing instead.\n",
      "  y = y[:, np.newaxis]\n"
     ]
    },
    {
     "data": {
      "image/png": "[encoded data removed]",
      "text/plain": [
       "<Figure size 1080x648 with 1 Axes>"
      ]
     },
     "metadata": {
      "needs_background": "light"
     },
     "output_type": "display_data"
    }
   ],
   "source": [
    "fig = plt.figure(figsize=(15, 9))\n",
    "sns.distplot(tu_data[\"credit_score\"], bins=100, label='General Data')\n",
    "sns.distplot(merge_raleigh_df[\"credit_score\"], bins=100, label='Raleigh Data')\n",
    "sns.distplot(merge_lubbock_df[\"credit_score\"], bins=100, label='Lubbock Data')\n",
    "plt.xlim(300, 850);\n",
    "plt.legend();\n",
    "plt.title(\"Credit score distribution comparison\", size=20);"
   ]
  },
  {
   "cell_type": "code",
   "execution_count": 76,
   "metadata": {},
   "outputs": [
    {
     "name": "stderr",
     "output_type": "stream",
     "text": [
      "/usr/local/lib/python3.8/dist-packages/seaborn/distributions.py:2619: FutureWarning: `distplot` is a deprecated function and will be removed in a future version. Please adapt your code to use either `displot` (a figure-level function with similar flexibility) or `histplot` (an axes-level function for histograms).\n",
      "  warnings.warn(msg, FutureWarning)\n",
      "/usr/local/lib/python3.8/dist-packages/matplotlib/cbook/__init__.py:1402: FutureWarning: Support for multi-dimensional indexing (e.g. `obj[:, None]`) is deprecated and will be removed in a future version.  Convert to a numpy array before indexing instead.\n",
      "  x[:, None]\n",
      "/usr/local/lib/python3.8/dist-packages/matplotlib/axes/_base.py:276: FutureWarning: Support for multi-dimensional indexing (e.g. `obj[:, None]`) is deprecated and will be removed in a future version.  Convert to a numpy array before indexing instead.\n",
      "  x = x[:, np.newaxis]\n",
      "/usr/local/lib/python3.8/dist-packages/matplotlib/axes/_base.py:278: FutureWarning: Support for multi-dimensional indexing (e.g. `obj[:, None]`) is deprecated and will be removed in a future version.  Convert to a numpy array before indexing instead.\n",
      "  y = y[:, np.newaxis]\n",
      "/usr/local/lib/python3.8/dist-packages/seaborn/distributions.py:2619: FutureWarning: `distplot` is a deprecated function and will be removed in a future version. Please adapt your code to use either `displot` (a figure-level function with similar flexibility) or `histplot` (an axes-level function for histograms).\n",
      "  warnings.warn(msg, FutureWarning)\n",
      "/usr/local/lib/python3.8/dist-packages/matplotlib/cbook/__init__.py:1402: FutureWarning: Support for multi-dimensional indexing (e.g. `obj[:, None]`) is deprecated and will be removed in a future version.  Convert to a numpy array before indexing instead.\n",
      "  x[:, None]\n",
      "/usr/local/lib/python3.8/dist-packages/matplotlib/axes/_base.py:276: FutureWarning: Support for multi-dimensional indexing (e.g. `obj[:, None]`) is deprecated and will be removed in a future version.  Convert to a numpy array before indexing instead.\n",
      "  x = x[:, np.newaxis]\n",
      "/usr/local/lib/python3.8/dist-packages/matplotlib/axes/_base.py:278: FutureWarning: Support for multi-dimensional indexing (e.g. `obj[:, None]`) is deprecated and will be removed in a future version.  Convert to a numpy array before indexing instead.\n",
      "  y = y[:, np.newaxis]\n",
      "/usr/local/lib/python3.8/dist-packages/seaborn/distributions.py:2619: FutureWarning: `distplot` is a deprecated function and will be removed in a future version. Please adapt your code to use either `displot` (a figure-level function with similar flexibility) or `histplot` (an axes-level function for histograms).\n",
      "  warnings.warn(msg, FutureWarning)\n",
      "/usr/local/lib/python3.8/dist-packages/matplotlib/cbook/__init__.py:1402: FutureWarning: Support for multi-dimensional indexing (e.g. `obj[:, None]`) is deprecated and will be removed in a future version.  Convert to a numpy array before indexing instead.\n",
      "  x[:, None]\n",
      "/usr/local/lib/python3.8/dist-packages/matplotlib/axes/_base.py:276: FutureWarning: Support for multi-dimensional indexing (e.g. `obj[:, None]`) is deprecated and will be removed in a future version.  Convert to a numpy array before indexing instead.\n",
      "  x = x[:, np.newaxis]\n",
      "/usr/local/lib/python3.8/dist-packages/matplotlib/axes/_base.py:278: FutureWarning: Support for multi-dimensional indexing (e.g. `obj[:, None]`) is deprecated and will be removed in a future version.  Convert to a numpy array before indexing instead.\n",
      "  y = y[:, np.newaxis]\n"
     ]
    },
    {
     "data": {
      "image/png": "[encoded data removed]",
      "text/plain": [
       "<Figure size 1080x648 with 1 Axes>"
      ]
     },
     "metadata": {
      "needs_background": "light"
     },
     "output_type": "display_data"
    }
   ],
   "source": [
    "fig = plt.figure(figsize=(15, 9))\n",
    "bins = [0, 35, 37, 59, 61, 100]\n",
    "sns.distplot(tu_data[\"listing_term\"], label='General Data', bins=bins)\n",
    "sns.distplot(merge_raleigh_df[\"listing_term\"], label='Raleigh Data', bins=bins)\n",
    "sns.distplot(merge_lubbock_df[\"listing_term\"], label='Lubbock Data', bins=bins)\n",
    "plt.legend();\n",
    "plt.title(\"Listing term distribution comparison\", size=20);"
   ]
  },
  {
   "cell_type": "markdown",
   "metadata": {},
   "source": [
    "<font color = \"navy\">\n",
    "The 3 populations seem to have very similar distributions of the 4 factors (loan amount, interest rate, credit score and listing term)<br>\n",
    "We can conclude that the A/B test is indeed justified"
   ]
  },
  {
   "cell_type": "markdown",
   "metadata": {},
   "source": [
    "## Performing the test"
   ]
  },
  {
   "cell_type": "markdown",
   "metadata": {
    "execution": {
     "iopub.status.busy": "2021-07-01T03:36:51.530342Z",
     "iopub.status.idle": "2021-07-01T03:36:51.530744Z"
    }
   },
   "source": [
    "Use the function you created in the file `clt.py` to plot the series of means of activation in Raleigh and Lubbock for samples of size n= 1, 10, 1000 and 1e6, and compare the means of the two histograms. Do they seem to converge to the same value?"
   ]
  },
  {
   "cell_type": "code",
   "execution_count": 49,
   "metadata": {
    "tags": []
   },
   "outputs": [
    {
     "name": "stdout",
     "output_type": "stream",
     "text": [
      "The mean of means is:  0.0886\n",
      "The mean of means is:  0.0446\n"
     ]
    },
    {
     "data": {
      "image/png": "[encoded data removed]",
      "text/plain": [
       "<Figure size 432x288 with 1 Axes>"
      ]
     },
     "metadata": {
      "needs_background": "light"
     },
     "output_type": "display_data"
    },
    {
     "name": "stdout",
     "output_type": "stream",
     "text": [
      "The mean of means is:  0.08717000000000001\n",
      "The mean of means is:  0.04592\n"
     ]
    },
    {
     "data": {
      "image/png": "[encoded data removed]",
      "text/plain": [
       "<Figure size 432x288 with 1 Axes>"
      ]
     },
     "metadata": {
      "needs_background": "light"
     },
     "output_type": "display_data"
    },
    {
     "name": "stdout",
     "output_type": "stream",
     "text": [
      "The mean of means is:  0.08675149999999998\n",
      "The mean of means is:  0.04714270000000001\n"
     ]
    },
    {
     "data": {
      "image/png": "[encoded data removed]",
      "text/plain": [
       "<Figure size 432x288 with 1 Axes>"
      ]
     },
     "metadata": {
      "needs_background": "light"
     },
     "output_type": "display_data"
    },
    {
     "name": "stdout",
     "output_type": "stream",
     "text": [
      "The mean of means is:  0.0866667522\n",
      "The mean of means is:  0.047173799200000005\n"
     ]
    },
    {
     "data": {
      "image/png": "[encoded data removed]",
      "text/plain": [
       "<Figure size 432x288 with 1 Axes>"
      ]
     },
     "metadata": {
      "needs_background": "light"
     },
     "output_type": "display_data"
    }
   ],
   "source": [
    "n_list = [1, 10, 1000, 1000000]\n",
    "for n in n_list:\n",
    "    rand_means_ral = random_sample_mean2(merge_raleigh_df[\"offer_accepted\"], n)\n",
    "    rand_means_lub = random_sample_mean2(merge_lubbock_df[\"offer_accepted\"], n)\n",
    "    plt.legend([\"Raleigh\", \"Lubbock\"])\n",
    "    plt.show()"
   ]
  },
  {
   "cell_type": "markdown",
   "metadata": {},
   "source": [
    "Apply a statistical test to see whether the activation rate in Raleigh, NC is significantly larger than Lubbock, TX. Clearly state and validate your test's assumption. \n",
    "\n",
    "1. What are your hypotheses?\n",
    "2. Setting your confidence level at 95%, what is the probability of an error of type I in your test? What is the probability of a type II error?\n",
    "3. Are the two samples significantly different? \n",
    "4. Interpret your results. Can you declare the program as successful in increasing activation? What is the probability of wrongfully declaring it successful?"
   ]
  },
  {
   "cell_type": "markdown",
   "metadata": {},
   "source": [
    "<font color = \"navy\">\n",
    "<ol>\n",
    "    <li>\n",
    "        H0 = Activation rate in Raleigh is equal or smaller than activation rate in Lubbock<br>\n",
    "        H1 = Activation rate in Raleigh is larger than activation rate in Lubbock\n",
    "    </li>\n",
    "    <li>\n",
    "        The probability of a type I error is $\\alpha/2 = (1 - CL)/2 = (1 - 0.95)/2 = 0.025$ <br>\n",
    "    </li>\n",
    "    <li>\n",
    "        Yes, the two samples are significantly different. As we can see in the cell below containing the statistical test, the p value is smaller than 0.5$\\alpha$, hence we can conclude with the required confidence interval that they are statistically different.\n",
    "    </li>\n",
    "    <li>\n",
    "        As we found statistical significance, and that the activation rate in Raleigh is larger than activation rate in Lubbock, we can declare the program as successful.<br>\n",
    "        The probability of wrongfully declaring the program as successful is $\\alpha/2 = 0.025$\n",
    "        \n",
    "    </li>"
   ]
  },
  {
   "cell_type": "code",
   "execution_count": null,
   "metadata": {},
   "outputs": [],
   "source": []
  },
  {
   "cell_type": "markdown",
   "metadata": {},
   "source": [
    "Use the `proportions_ztestz` function from `statsmodels.stats.proportion` to perform a comparison between the activation probability in Lubbock and in Raleigh. "
   ]
  },
  {
   "cell_type": "code",
   "execution_count": 50,
   "metadata": {},
   "outputs": [
    {
     "name": "stdout",
     "output_type": "stream",
     "text": [
      "The p-value is: 5.475858880145861e-30\n",
      "We conclude flyer program as successful!\n"
     ]
    }
   ],
   "source": [
    "counts = np.array([np.sum(merge_raleigh_df[\"offer_accepted\"]), np.sum(merge_lubbock_df[\"offer_accepted\"])])\n",
    "nobs = np.array([len(merge_raleigh_df), len(merge_lubbock_df)])\n",
    "alpha = 0.05\n",
    "\n",
    "z_test, p_value_one_sided = proportions_ztest(\n",
    "    counts,\n",
    "    nobs,\n",
    "    alternative='larger',\n",
    "    prop_var=False)\n",
    "\n",
    "print(\"The p-value is:\", p_value_one_sided)\n",
    "if (p_value_one_sided < alpha/2) and (merge_raleigh_df[\"offer_accepted\"].mean() > merge_lubbock_df[\"offer_accepted\"].mean()):\n",
    "    print(\"We conclude flyer program as successful!\")\n",
    "else:\n",
    "    print(\"We cannot declare the flyer program as successful\")"
   ]
  },
  {
   "cell_type": "code",
   "execution_count": null,
   "metadata": {},
   "outputs": [],
   "source": []
  },
  {
   "cell_type": "markdown",
   "metadata": {
    "execution": {
     "iopub.status.busy": "2021-07-01T03:36:51.542043Z",
     "iopub.status.idle": "2021-07-01T03:36:51.542428Z"
    }
   },
   "source": [
    "Interprest your results; do you observe a significant change in activation in Raleigh? What is the probability of wrongfully declaring the program successful?"
   ]
  },
  {
   "cell_type": "markdown",
   "metadata": {},
   "source": [
    "<font color = \"navy\">\n",
    "From 4. above:<br>\n",
    "As we found statistical significance, and that the activation rate in Raleigh is larger than activation rate in Lubbock, we can declare the program as successful.<br>\n",
    "The probability of wrongfully declaring the program as successful is $\\alpha/2 = 0.025$"
   ]
  },
  {
   "cell_type": "code",
   "execution_count": null,
   "metadata": {},
   "outputs": [],
   "source": []
  },
  {
   "cell_type": "markdown",
   "metadata": {},
   "source": [
    "# Testing for activation in sub-populations"
   ]
  },
  {
   "cell_type": "markdown",
   "metadata": {},
   "source": [
    "Now that you applied the a/b test to the Lubbock and Raleigh datasets, it is now required that you make a similar comparison on different subsets of the data within various credit score and loan amount bins. To do so, let us first decide on how to segment our data.\n",
    "\n",
    "You are asked to divide your data into 10 bins according to loan amount, and then divide each of those bins into 10 bins according to loan amount. The most staightforward way of doing this is by using the `pd.qcut` function; first dividing the data into 10 quantiles of credit score and then dividing each of these quantiles into 10 according to loan amount."
   ]
  },
  {
   "cell_type": "markdown",
   "metadata": {},
   "source": [
    "Divide your datasets as above and add two columns to your data which indicate the (credit_score, loan_amnt) of the bin."
   ]
  },
  {
   "cell_type": "code",
   "execution_count": 77,
   "metadata": {},
   "outputs": [
    {
     "name": "stdout",
     "output_type": "stream",
     "text": [
      "['sequence_num' 'credit_score' 'listing_term' 'int_rate' 'loan_amnt'\n",
      " 'monthly_pmt' 'original_state' 'credit_score_bin' 'loan_amnt_bin']\n",
      "['id' 'sequence_num' 'credit_score' 'listing_term' 'int_rate' 'loan_amnt'\n",
      " 'monthly_pmt' 'original_state' 'requested_amount' 'offered_interest_rate'\n",
      " 'offer_accepted' 'offer_date']\n"
     ]
    }
   ],
   "source": [
    "cols = tu_data.columns.values\n",
    "print(cols)\n",
    "print(merge_raleigh_df.columns.values)\n",
    "tu_data[\"credit_score_bin\"] = pd.qcut(tu_data[\"credit_score\"], 10, labels=range(10))\n",
    "tu_data[\"loan_amnt_bin\"] = 0\n",
    "\n",
    "for credit_bin in range(10):\n",
    "    tu_data.loc[tu_data[\"credit_score_bin\"]==credit_bin, ['loan_amnt_bin']] = pd.qcut(tu_data[tu_data[\"credit_score_bin\"]==credit_bin][\"loan_amnt\"], 10, labels=range(10))"
   ]
  },
  {
   "cell_type": "code",
   "execution_count": 78,
   "metadata": {},
   "outputs": [
    {
     "data": {
      "text/html": [
       "<div>\n",
       "<style scoped>\n",
       "    .dataframe tbody tr th:only-of-type {\n",
       "        vertical-align: middle;\n",
       "    }\n",
       "\n",
       "    .dataframe tbody tr th {\n",
       "        vertical-align: top;\n",
       "    }\n",
       "\n",
       "    .dataframe thead th {\n",
       "        text-align: right;\n",
       "    }\n",
       "</style>\n",
       "<table border=\"1\" class=\"dataframe\">\n",
       "  <thead>\n",
       "    <tr style=\"text-align: right;\">\n",
       "      <th></th>\n",
       "      <th>id</th>\n",
       "      <th>sequence_num</th>\n",
       "      <th>credit_score</th>\n",
       "      <th>listing_term</th>\n",
       "      <th>int_rate</th>\n",
       "      <th>loan_amnt</th>\n",
       "      <th>monthly_pmt</th>\n",
       "      <th>original_state</th>\n",
       "      <th>requested_amount</th>\n",
       "      <th>offered_interest_rate</th>\n",
       "      <th>offer_accepted</th>\n",
       "      <th>offer_date</th>\n",
       "      <th>credit_score_bin</th>\n",
       "      <th>loan_amnt_bin</th>\n",
       "    </tr>\n",
       "  </thead>\n",
       "  <tbody>\n",
       "    <tr>\n",
       "      <th>0</th>\n",
       "      <td>0000944c6eb064d675539d8deaff65acd38cecfba22862...</td>\n",
       "      <td>65529635d01c24822ffe6bd680ea2a0c7d44f49aa88afb...</td>\n",
       "      <td>791</td>\n",
       "      <td>60.0</td>\n",
       "      <td>12.30</td>\n",
       "      <td>5000.0</td>\n",
       "      <td>112.0</td>\n",
       "      <td>NC</td>\n",
       "      <td>5000.0</td>\n",
       "      <td>12.30</td>\n",
       "      <td>False</td>\n",
       "      <td>2019-12-02</td>\n",
       "      <td>9</td>\n",
       "      <td>1</td>\n",
       "    </tr>\n",
       "    <tr>\n",
       "      <th>1</th>\n",
       "      <td>0003290aea2ca5f7da83d2f32d0c783998906346e99892...</td>\n",
       "      <td>6ce06396232ee6df63e905b2d9e5401030570873c7c3ba...</td>\n",
       "      <td>645</td>\n",
       "      <td>36.0</td>\n",
       "      <td>24.88</td>\n",
       "      <td>3300.0</td>\n",
       "      <td>131.0</td>\n",
       "      <td>NC</td>\n",
       "      <td>3300.0</td>\n",
       "      <td>24.88</td>\n",
       "      <td>False</td>\n",
       "      <td>2019-01-29</td>\n",
       "      <td>2</td>\n",
       "      <td>1</td>\n",
       "    </tr>\n",
       "    <tr>\n",
       "      <th>2</th>\n",
       "      <td>0005ca5ea9f8399dddee878b7c9694d618a9a1b9d09152...</td>\n",
       "      <td>d29ac15bafd56a1444b1b06265d4c67869350f0dd86b58...</td>\n",
       "      <td>703</td>\n",
       "      <td>36.0</td>\n",
       "      <td>12.94</td>\n",
       "      <td>3000.0</td>\n",
       "      <td>101.0</td>\n",
       "      <td>NC</td>\n",
       "      <td>3000.0</td>\n",
       "      <td>12.94</td>\n",
       "      <td>False</td>\n",
       "      <td>2020-01-10</td>\n",
       "      <td>5</td>\n",
       "      <td>0</td>\n",
       "    </tr>\n",
       "    <tr>\n",
       "      <th>3</th>\n",
       "      <td>00205f2f999895bde728aebcd83707fa204ec44e203b97...</td>\n",
       "      <td>6061825c161146555925ce39fb27c935fb5899f39ce94b...</td>\n",
       "      <td>692</td>\n",
       "      <td>60.0</td>\n",
       "      <td>13.08</td>\n",
       "      <td>25000.0</td>\n",
       "      <td>570.0</td>\n",
       "      <td>NC</td>\n",
       "      <td>25000.0</td>\n",
       "      <td>13.08</td>\n",
       "      <td>False</td>\n",
       "      <td>2019-07-31</td>\n",
       "      <td>5</td>\n",
       "      <td>8</td>\n",
       "    </tr>\n",
       "    <tr>\n",
       "      <th>4</th>\n",
       "      <td>002e86fa45263cfe8429dcaa1b37e8abbf57b596e6f45b...</td>\n",
       "      <td>f93f7353e36814e67c17ad06878c2c9f5f810286036b9a...</td>\n",
       "      <td>606</td>\n",
       "      <td>36.0</td>\n",
       "      <td>33.77</td>\n",
       "      <td>3816.0</td>\n",
       "      <td>170.0</td>\n",
       "      <td>NC</td>\n",
       "      <td>3816.0</td>\n",
       "      <td>33.77</td>\n",
       "      <td>False</td>\n",
       "      <td>2020-11-23</td>\n",
       "      <td>0</td>\n",
       "      <td>3</td>\n",
       "    </tr>\n",
       "  </tbody>\n",
       "</table>\n",
       "</div>"
      ],
      "text/plain": [
       "                                                  id  \\\n",
       "0  0000944c6eb064d675539d8deaff65acd38cecfba22862...   \n",
       "1  0003290aea2ca5f7da83d2f32d0c783998906346e99892...   \n",
       "2  0005ca5ea9f8399dddee878b7c9694d618a9a1b9d09152...   \n",
       "3  00205f2f999895bde728aebcd83707fa204ec44e203b97...   \n",
       "4  002e86fa45263cfe8429dcaa1b37e8abbf57b596e6f45b...   \n",
       "\n",
       "                                        sequence_num  credit_score  \\\n",
       "0  65529635d01c24822ffe6bd680ea2a0c7d44f49aa88afb...           791   \n",
       "1  6ce06396232ee6df63e905b2d9e5401030570873c7c3ba...           645   \n",
       "2  d29ac15bafd56a1444b1b06265d4c67869350f0dd86b58...           703   \n",
       "3  6061825c161146555925ce39fb27c935fb5899f39ce94b...           692   \n",
       "4  f93f7353e36814e67c17ad06878c2c9f5f810286036b9a...           606   \n",
       "\n",
       "   listing_term  int_rate  loan_amnt  monthly_pmt original_state  \\\n",
       "0          60.0     12.30     5000.0        112.0             NC   \n",
       "1          36.0     24.88     3300.0        131.0             NC   \n",
       "2          36.0     12.94     3000.0        101.0             NC   \n",
       "3          60.0     13.08    25000.0        570.0             NC   \n",
       "4          36.0     33.77     3816.0        170.0             NC   \n",
       "\n",
       "   requested_amount  offered_interest_rate  offer_accepted  offer_date  \\\n",
       "0            5000.0                  12.30           False  2019-12-02   \n",
       "1            3300.0                  24.88           False  2019-01-29   \n",
       "2            3000.0                  12.94           False  2020-01-10   \n",
       "3           25000.0                  13.08           False  2019-07-31   \n",
       "4            3816.0                  33.77           False  2020-11-23   \n",
       "\n",
       "  credit_score_bin  loan_amnt_bin  \n",
       "0                9              1  \n",
       "1                2              1  \n",
       "2                5              0  \n",
       "3                5              8  \n",
       "4                0              3  "
      ]
     },
     "execution_count": 78,
     "metadata": {},
     "output_type": "execute_result"
    }
   ],
   "source": [
    "merge2_raleigh_df = merge_raleigh_df.merge(tu_data, how=\"left\", on=['sequence_num', 'credit_score', 'listing_term', 'int_rate', 'loan_amnt',\n",
    " 'monthly_pmt', 'original_state'])\n",
    "merge2_raleigh_df.head()"
   ]
  },
  {
   "cell_type": "code",
   "execution_count": 79,
   "metadata": {},
   "outputs": [
    {
     "data": {
      "text/html": [
       "<div>\n",
       "<style scoped>\n",
       "    .dataframe tbody tr th:only-of-type {\n",
       "        vertical-align: middle;\n",
       "    }\n",
       "\n",
       "    .dataframe tbody tr th {\n",
       "        vertical-align: top;\n",
       "    }\n",
       "\n",
       "    .dataframe thead th {\n",
       "        text-align: right;\n",
       "    }\n",
       "</style>\n",
       "<table border=\"1\" class=\"dataframe\">\n",
       "  <thead>\n",
       "    <tr style=\"text-align: right;\">\n",
       "      <th></th>\n",
       "      <th>id</th>\n",
       "      <th>sequence_num</th>\n",
       "      <th>credit_score</th>\n",
       "      <th>listing_term</th>\n",
       "      <th>int_rate</th>\n",
       "      <th>loan_amnt</th>\n",
       "      <th>monthly_pmt</th>\n",
       "      <th>original_state</th>\n",
       "      <th>requested_amount</th>\n",
       "      <th>offered_interest_rate</th>\n",
       "      <th>offer_accepted</th>\n",
       "      <th>offer_date</th>\n",
       "      <th>credit_score_bin</th>\n",
       "      <th>loan_amnt_bin</th>\n",
       "    </tr>\n",
       "  </thead>\n",
       "  <tbody>\n",
       "    <tr>\n",
       "      <th>0</th>\n",
       "      <td>00081387dcef0fab60c7f9f94669cc6df140531c9e0a55...</td>\n",
       "      <td>35357872fbcfec327a4c7665f08a98f0dc55eb19969f36...</td>\n",
       "      <td>735</td>\n",
       "      <td>36.0</td>\n",
       "      <td>8.24</td>\n",
       "      <td>4070.0</td>\n",
       "      <td>128.0</td>\n",
       "      <td>TX</td>\n",
       "      <td>4070.0</td>\n",
       "      <td>8.24</td>\n",
       "      <td>False</td>\n",
       "      <td>2020-07-10</td>\n",
       "      <td>7</td>\n",
       "      <td>1</td>\n",
       "    </tr>\n",
       "    <tr>\n",
       "      <th>1</th>\n",
       "      <td>00090fdbe1fc33bf53dda546318c248cb6fe4299ad39dd...</td>\n",
       "      <td>6c98c998cb4bd242edbd55164eeed3927372264f8395b8...</td>\n",
       "      <td>636</td>\n",
       "      <td>36.0</td>\n",
       "      <td>16.68</td>\n",
       "      <td>5550.0</td>\n",
       "      <td>197.0</td>\n",
       "      <td>TX</td>\n",
       "      <td>5550.0</td>\n",
       "      <td>16.68</td>\n",
       "      <td>False</td>\n",
       "      <td>2020-06-02</td>\n",
       "      <td>1</td>\n",
       "      <td>4</td>\n",
       "    </tr>\n",
       "    <tr>\n",
       "      <th>2</th>\n",
       "      <td>000aa5e29eadd0bd7e2c9649d0ed986af4848895b6a4fa...</td>\n",
       "      <td>921cda1c86bc82347ea8168a894918f8ae857cdbbdb9a5...</td>\n",
       "      <td>664</td>\n",
       "      <td>36.0</td>\n",
       "      <td>7.18</td>\n",
       "      <td>25000.0</td>\n",
       "      <td>774.0</td>\n",
       "      <td>TX</td>\n",
       "      <td>25000.0</td>\n",
       "      <td>7.18</td>\n",
       "      <td>False</td>\n",
       "      <td>2019-06-19</td>\n",
       "      <td>3</td>\n",
       "      <td>9</td>\n",
       "    </tr>\n",
       "    <tr>\n",
       "      <th>3</th>\n",
       "      <td>001046cb99ae36567910bdd6fd907622cdc8aefb1689d6...</td>\n",
       "      <td>0637e25695fcabdcec43d21364397793a169bd8b6977ed...</td>\n",
       "      <td>819</td>\n",
       "      <td>60.0</td>\n",
       "      <td>6.68</td>\n",
       "      <td>20000.0</td>\n",
       "      <td>393.0</td>\n",
       "      <td>TX</td>\n",
       "      <td>20000.0</td>\n",
       "      <td>6.68</td>\n",
       "      <td>False</td>\n",
       "      <td>2018-02-20</td>\n",
       "      <td>9</td>\n",
       "      <td>7</td>\n",
       "    </tr>\n",
       "    <tr>\n",
       "      <th>4</th>\n",
       "      <td>00176f09e7f3c4c864098d84a1f07e632fcce67f4d8d1b...</td>\n",
       "      <td>1448249d369054a06a82acb4003d3daee61574935da0a8...</td>\n",
       "      <td>780</td>\n",
       "      <td>36.0</td>\n",
       "      <td>8.99</td>\n",
       "      <td>10000.0</td>\n",
       "      <td>318.0</td>\n",
       "      <td>TX</td>\n",
       "      <td>10000.0</td>\n",
       "      <td>8.99</td>\n",
       "      <td>False</td>\n",
       "      <td>2019-09-27</td>\n",
       "      <td>8</td>\n",
       "      <td>3</td>\n",
       "    </tr>\n",
       "  </tbody>\n",
       "</table>\n",
       "</div>"
      ],
      "text/plain": [
       "                                                  id  \\\n",
       "0  00081387dcef0fab60c7f9f94669cc6df140531c9e0a55...   \n",
       "1  00090fdbe1fc33bf53dda546318c248cb6fe4299ad39dd...   \n",
       "2  000aa5e29eadd0bd7e2c9649d0ed986af4848895b6a4fa...   \n",
       "3  001046cb99ae36567910bdd6fd907622cdc8aefb1689d6...   \n",
       "4  00176f09e7f3c4c864098d84a1f07e632fcce67f4d8d1b...   \n",
       "\n",
       "                                        sequence_num  credit_score  \\\n",
       "0  35357872fbcfec327a4c7665f08a98f0dc55eb19969f36...           735   \n",
       "1  6c98c998cb4bd242edbd55164eeed3927372264f8395b8...           636   \n",
       "2  921cda1c86bc82347ea8168a894918f8ae857cdbbdb9a5...           664   \n",
       "3  0637e25695fcabdcec43d21364397793a169bd8b6977ed...           819   \n",
       "4  1448249d369054a06a82acb4003d3daee61574935da0a8...           780   \n",
       "\n",
       "   listing_term  int_rate  loan_amnt  monthly_pmt original_state  \\\n",
       "0          36.0      8.24     4070.0        128.0             TX   \n",
       "1          36.0     16.68     5550.0        197.0             TX   \n",
       "2          36.0      7.18    25000.0        774.0             TX   \n",
       "3          60.0      6.68    20000.0        393.0             TX   \n",
       "4          36.0      8.99    10000.0        318.0             TX   \n",
       "\n",
       "   requested_amount  offered_interest_rate  offer_accepted  offer_date  \\\n",
       "0            4070.0                   8.24           False  2020-07-10   \n",
       "1            5550.0                  16.68           False  2020-06-02   \n",
       "2           25000.0                   7.18           False  2019-06-19   \n",
       "3           20000.0                   6.68           False  2018-02-20   \n",
       "4           10000.0                   8.99           False  2019-09-27   \n",
       "\n",
       "  credit_score_bin  loan_amnt_bin  \n",
       "0                7              1  \n",
       "1                1              4  \n",
       "2                3              9  \n",
       "3                9              7  \n",
       "4                8              3  "
      ]
     },
     "execution_count": 79,
     "metadata": {},
     "output_type": "execute_result"
    }
   ],
   "source": [
    "merge2_lubbock_df = merge_lubbock_df.merge(tu_data, how=\"left\", on=['sequence_num', 'credit_score', 'listing_term', 'int_rate', 'loan_amnt',\n",
    " 'monthly_pmt', 'original_state'])\n",
    "merge2_lubbock_df.head()\n"
   ]
  },
  {
   "cell_type": "code",
   "execution_count": null,
   "metadata": {},
   "outputs": [],
   "source": []
  },
  {
   "cell_type": "markdown",
   "metadata": {},
   "source": [
    "Run an a/b test on each of the bins in your data and create a $10\\times 10$ table containing the $p$ value of each test."
   ]
  },
  {
   "cell_type": "code",
   "execution_count": 80,
   "metadata": {},
   "outputs": [
    {
     "name": "stderr",
     "output_type": "stream",
     "text": [
      "/usr/local/lib/python3.8/dist-packages/statsmodels/stats/weightstats.py:790: RuntimeWarning: invalid value encountered in double_scalars\n",
      "  zstat = value / std\n"
     ]
    }
   ],
   "source": [
    "p_value_matrix = np.zeros((10, 10))\n",
    "mean_mat = np.zeros((10, 10))\n",
    "\n",
    "raleigh_groups = merge2_raleigh_df.groupby(['credit_score_bin', 'loan_amnt_bin'])['offer_accepted'].agg(['count','sum', 'mean'])\n",
    "lubbock_groups = merge2_lubbock_df.groupby(['credit_score_bin', 'loan_amnt_bin'])['offer_accepted'].agg(['count', 'sum', 'mean'])\n",
    "\n",
    "for i in range(10):\n",
    "    for j in range(10):\n",
    "        mean_mat[i, j] = raleigh_groups.loc[(i, j), \"mean\"] - lubbock_groups.loc[(i, j), \"mean\"]\n",
    "        counts = [raleigh_groups.loc[(i, j), \"sum\"], lubbock_groups.loc[(i, j), \"sum\"]]\n",
    "        nobs = [raleigh_groups.loc[(i, j), \"count\"], lubbock_groups.loc[(i, j), \"count\"]]\n",
    "\n",
    "        _, p_value_matrix[i, j] =  proportions_ztest(\n",
    "            counts,\n",
    "            nobs,\n",
    "            alternative='larger',\n",
    "            prop_var=False)\n",
    "\n",
    "\n"
   ]
  },
  {
   "cell_type": "markdown",
   "metadata": {},
   "source": [
    "Use the [seaborn.heatmap](https://seaborn.pydata.org/generated/seaborn.heatmap.html) function to represent your table as a heatmap. You can also use it on a suitable table of boolean values to get a more robus representation of which experiments turned out significant."
   ]
  },
  {
   "cell_type": "code",
   "execution_count": 88,
   "metadata": {},
   "outputs": [
    {
     "name": "stderr",
     "output_type": "stream",
     "text": [
      "<ipython-input-88-4ae0f1d40dee>:1: RuntimeWarning: invalid value encountered in less\n",
      "  sns.heatmap(p_value_matrix < 0.05);\n"
     ]
    },
    {
     "data": {
      "text/plain": [
       "Text(0.5, 1, 'Statistical test per sub-population')"
      ]
     },
     "execution_count": 88,
     "metadata": {},
     "output_type": "execute_result"
    },
    {
     "data": {
      "image/png": "[encoded data removed]",
      "text/plain": [
       "<Figure size 432x288 with 2 Axes>"
      ]
     },
     "metadata": {
      "needs_background": "light"
     },
     "output_type": "display_data"
    }
   ],
   "source": [
    "sns.heatmap(p_value_matrix < 0.05);\n",
    "plt.xlabel(\"Loan amount bins\\n(--> increasing)\")\n",
    "plt.ylabel(\"Credit score bins\\n(--> decreasing)\")\n",
    "plt.title(\"Statistical test per sub-population\", size=20)"
   ]
  },
  {
   "cell_type": "code",
   "execution_count": 56,
   "metadata": {},
   "outputs": [
    {
     "name": "stderr",
     "output_type": "stream",
     "text": [
      "<ipython-input-56-5fb11a2a1451>:1: RuntimeWarning: invalid value encountered in less\n",
      "  sns.heatmap((p_value_matrix < 0.025) & (mean_mat > 0))\n"
     ]
    },
    {
     "data": {
      "text/plain": [
       "<matplotlib.axes._subplots.AxesSubplot at 0x7fd6f2ca1850>"
      ]
     },
     "execution_count": 56,
     "metadata": {},
     "output_type": "execute_result"
    },
    {
     "data": {
      "image/png": "[encoded data removed]",
      "text/plain": [
       "<Figure size 432x288 with 2 Axes>"
      ]
     },
     "metadata": {
      "needs_background": "light"
     },
     "output_type": "display_data"
    }
   ],
   "source": [
    "sns.heatmap((p_value_matrix < 0.025) & (mean_mat > 0))"
   ]
  },
  {
   "cell_type": "markdown",
   "metadata": {},
   "source": [
    "What is the probability of falsely rejecting the null hypothesis in each cell? What is the probability of falsely rejecting the null hypothesis in at least one of the cells (i.e. what is the **family wise error rate**)?\n",
    "\n",
    "In other words, given that we made $m$ experiments, with confidence level $\\alpha$, what is the probabilty $\\mathbb{P}\\left(\\bigcup_i X_i \\le q_{\\alpha}\\right)$? \n",
    "\n",
    "_Note_: you may assume that sampling from different bins are independent."
   ]
  },
  {
   "cell_type": "code",
   "execution_count": 57,
   "metadata": {},
   "outputs": [
    {
     "name": "stdout",
     "output_type": "stream",
     "text": [
      "0.025 0.9204827101381686\n"
     ]
    }
   ],
   "source": [
    "m = 100\n",
    "p = alpha / 2\n",
    "\n",
    "p_union = 1 - ((1 - p)**m)\n",
    "\n",
    "print(p, p_union)"
   ]
  },
  {
   "cell_type": "markdown",
   "metadata": {},
   "source": [
    "<font color = \"navy\">\n",
    "The probability of falsely rejecting the null hypothesis in each cell is:<br>\n",
    "$\\alpha/2 = 0.025$ <br>\n",
    "The probability of falsely rejecting the null hypothesis in at least one of the cells is:<br>\n",
    "1 - (1 - $\\alpha/2)^{100} = 0.92$"
   ]
  },
  {
   "cell_type": "markdown",
   "metadata": {},
   "source": [
    "## Bonferroni correction "
   ]
  },
  {
   "cell_type": "markdown",
   "metadata": {},
   "source": [
    "One way of assuring that your FWER remains below $\\alpha=0.05$ is to apply a <a href=\"https://en.wikipedia.org/wiki/Bonferroni_correction\">**Bonferroni correction**</a>. This means that we set the signficance level of each individual test to $\\alpha/m$, where $m=100$ is the number of tests (see, e.g., Wikipedia for an explanation). \n",
    "\n",
    "Use a Bonferroni correction on your segmented a/b test and output a $10\\times10$ table of boolean values, indicating which test gave a significant result under this correction."
   ]
  },
  {
   "cell_type": "code",
   "execution_count": 58,
   "metadata": {},
   "outputs": [],
   "source": [
    "#p_value_matrix < (alpha/m)"
   ]
  },
  {
   "cell_type": "markdown",
   "metadata": {},
   "source": [
    "How many of your tests came out significant under this correction?"
   ]
  },
  {
   "cell_type": "code",
   "execution_count": 59,
   "metadata": {},
   "outputs": [
    {
     "name": "stderr",
     "output_type": "stream",
     "text": [
      "<ipython-input-59-28b332dabdbe>:1: RuntimeWarning: invalid value encountered in less\n",
      "  np.sum(p_value_matrix < (alpha/m))\n"
     ]
    },
    {
     "data": {
      "text/plain": [
       "4"
      ]
     },
     "execution_count": 59,
     "metadata": {},
     "output_type": "execute_result"
    }
   ],
   "source": [
    "np.sum(p_value_matrix < (alpha/m))"
   ]
  },
  {
   "cell_type": "markdown",
   "metadata": {},
   "source": [
    "<font color = \"navy\">\n",
    "Four of the tests came out significant under Bonferroni correction"
   ]
  },
  {
   "cell_type": "markdown",
   "metadata": {},
   "source": [
    "Visualize your result using the [seaborn.heatmap]() function and compare to the previous heatmap."
   ]
  },
  {
   "cell_type": "code",
   "execution_count": 114,
   "metadata": {},
   "outputs": [
    {
     "name": "stderr",
     "output_type": "stream",
     "text": [
      "<ipython-input-114-e2d0a235cbd1>:1: RuntimeWarning: invalid value encountered in less\n",
      "  sns.heatmap(p_value_matrix < (alpha/m))\n"
     ]
    },
    {
     "data": {
      "text/plain": [
       "Text(0.5, 1, 'Bonferroni statistical test per sub-population')"
      ]
     },
     "execution_count": 114,
     "metadata": {},
     "output_type": "execute_result"
    },
    {
     "data": {
      "image/png": "[encoded data removed]",
      "text/plain": [
       "<Figure size 432x288 with 2 Axes>"
      ]
     },
     "metadata": {
      "needs_background": "light"
     },
     "output_type": "display_data"
    }
   ],
   "source": [
    "sns.heatmap(p_value_matrix < (alpha/m));\n",
    "plt.xlabel(\"Loan amount bins\\n(--> increasing)\")\n",
    "plt.ylabel(\"Credit score bins\\n(--> decreasing)\")\n",
    "plt.title(\"Bonferroni statistical test per sub-population\", size=20)"
   ]
  },
  {
   "cell_type": "code",
   "execution_count": 61,
   "metadata": {},
   "outputs": [
    {
     "name": "stderr",
     "output_type": "stream",
     "text": [
      "<ipython-input-61-e1a47acee63e>:1: RuntimeWarning: invalid value encountered in less\n",
      "  sns.heatmap((p_value_matrix < (alpha/(2*m))) & (mean_mat > 0))\n"
     ]
    },
    {
     "data": {
      "text/plain": [
       "<matplotlib.axes._subplots.AxesSubplot at 0x7fd6f51db490>"
      ]
     },
     "execution_count": 61,
     "metadata": {},
     "output_type": "execute_result"
    },
    {
     "data": {
      "image/png": "[encoded data removed]",
      "text/plain": [
       "<Figure size 432x288 with 2 Axes>"
      ]
     },
     "metadata": {
      "needs_background": "light"
     },
     "output_type": "display_data"
    }
   ],
   "source": [
    "sns.heatmap((p_value_matrix < (alpha/(2*m))) & (mean_mat > 0))"
   ]
  },
  {
   "cell_type": "code",
   "execution_count": null,
   "metadata": {},
   "outputs": [],
   "source": []
  },
  {
   "cell_type": "markdown",
   "metadata": {},
   "source": [
    "## BH correction "
   ]
  },
  {
   "cell_type": "markdown",
   "metadata": {},
   "source": [
    "The Bonferroni correction is often criticized for being too restrictive, as you probably noticed in the last subsection. A more commonly used method for correcting $\\alpha$ values is the Benjamini-Hochberg method. You can <a href=\"https://www.youtube.com/watch?v=K8LQSvtjcEo\">check out the quest</a> for a nice explanation about it."
   ]
  },
  {
   "cell_type": "markdown",
   "metadata": {},
   "source": [
    "Start by arranging the $p$-values of your original test as a series and listing them in ascending order. You can use the `pd.DataFrame.stack` and `pd.Series.sort_values` methods."
   ]
  },
  {
   "cell_type": "code",
   "execution_count": 89,
   "metadata": {},
   "outputs": [
    {
     "data": {
      "text/html": [
       "<div>\n",
       "<style scoped>\n",
       "    .dataframe tbody tr th:only-of-type {\n",
       "        vertical-align: middle;\n",
       "    }\n",
       "\n",
       "    .dataframe tbody tr th {\n",
       "        vertical-align: top;\n",
       "    }\n",
       "\n",
       "    .dataframe thead th {\n",
       "        text-align: right;\n",
       "    }\n",
       "</style>\n",
       "<table border=\"1\" class=\"dataframe\">\n",
       "  <thead>\n",
       "    <tr style=\"text-align: right;\">\n",
       "      <th></th>\n",
       "      <th>org_index</th>\n",
       "      <th>p_value</th>\n",
       "    </tr>\n",
       "  </thead>\n",
       "  <tbody>\n",
       "    <tr>\n",
       "      <th>1</th>\n",
       "      <td>8</td>\n",
       "      <td>0.000006</td>\n",
       "    </tr>\n",
       "    <tr>\n",
       "      <th>2</th>\n",
       "      <td>6</td>\n",
       "      <td>0.000067</td>\n",
       "    </tr>\n",
       "    <tr>\n",
       "      <th>3</th>\n",
       "      <td>0</td>\n",
       "      <td>0.000161</td>\n",
       "    </tr>\n",
       "    <tr>\n",
       "      <th>4</th>\n",
       "      <td>50</td>\n",
       "      <td>0.000222</td>\n",
       "    </tr>\n",
       "    <tr>\n",
       "      <th>5</th>\n",
       "      <td>5</td>\n",
       "      <td>0.000676</td>\n",
       "    </tr>\n",
       "    <tr>\n",
       "      <th>...</th>\n",
       "      <td>...</td>\n",
       "      <td>...</td>\n",
       "    </tr>\n",
       "    <tr>\n",
       "      <th>96</th>\n",
       "      <td>81</td>\n",
       "      <td>0.843292</td>\n",
       "    </tr>\n",
       "    <tr>\n",
       "      <th>97</th>\n",
       "      <td>45</td>\n",
       "      <td>0.873560</td>\n",
       "    </tr>\n",
       "    <tr>\n",
       "      <th>98</th>\n",
       "      <td>86</td>\n",
       "      <td>0.892053</td>\n",
       "    </tr>\n",
       "    <tr>\n",
       "      <th>99</th>\n",
       "      <td>61</td>\n",
       "      <td>0.966930</td>\n",
       "    </tr>\n",
       "    <tr>\n",
       "      <th>100</th>\n",
       "      <td>47</td>\n",
       "      <td>NaN</td>\n",
       "    </tr>\n",
       "  </tbody>\n",
       "</table>\n",
       "<p>100 rows × 2 columns</p>\n",
       "</div>"
      ],
      "text/plain": [
       "     org_index   p_value\n",
       "1            8  0.000006\n",
       "2            6  0.000067\n",
       "3            0  0.000161\n",
       "4           50  0.000222\n",
       "5            5  0.000676\n",
       "..         ...       ...\n",
       "96          81  0.843292\n",
       "97          45  0.873560\n",
       "98          86  0.892053\n",
       "99          61  0.966930\n",
       "100         47       NaN\n",
       "\n",
       "[100 rows x 2 columns]"
      ]
     },
     "execution_count": 89,
     "metadata": {},
     "output_type": "execute_result"
    }
   ],
   "source": [
    "p_value_ser = pd.Series(p_value_matrix.reshape(100)).sort_values()\n",
    "p_value_ser = p_value_ser.reset_index()\n",
    "p_value_ser.index = np.array(range(1, 101))\n",
    "p_value_ser.columns = ['org_index', 'p_value']\n",
    "p_value_ser"
   ]
  },
  {
   "cell_type": "markdown",
   "metadata": {},
   "source": [
    "Plot your sorted $p$-values"
   ]
  },
  {
   "cell_type": "code",
   "execution_count": 90,
   "metadata": {},
   "outputs": [
    {
     "data": {
      "text/plain": [
       "[<matplotlib.lines.Line2D at 0x7fd6eb4f3ac0>]"
      ]
     },
     "execution_count": 90,
     "metadata": {},
     "output_type": "execute_result"
    },
    {
     "data": {
      "image/png": "[encoded data removed]",
      "text/plain": [
       "<Figure size 432x288 with 1 Axes>"
      ]
     },
     "metadata": {
      "needs_background": "light"
     },
     "output_type": "display_data"
    }
   ],
   "source": [
    "plt.plot(p_value_ser['p_value'].values)"
   ]
  },
  {
   "cell_type": "markdown",
   "metadata": {},
   "source": [
    "For each entry of the new series, compute the value compute the value $\\frac{i}{m}\\cdot\\alpha$, where $i$ is the ordinal place of the entry (i.e. 1,2,...len(series)), $m=100$ and $\\alpha=0.05$ as above. Add a plot of these values to your $p$-values plot."
   ]
  },
  {
   "cell_type": "code",
   "execution_count": 91,
   "metadata": {},
   "outputs": [
    {
     "data": {
      "text/plain": [
       "[<matplotlib.lines.Line2D at 0x7fd6eb4d2280>]"
      ]
     },
     "execution_count": 91,
     "metadata": {},
     "output_type": "execute_result"
    },
    {
     "data": {
      "image/png": "[encoded data removed]",
      "text/plain": [
       "<Figure size 432x288 with 1 Axes>"
      ]
     },
     "metadata": {
      "needs_background": "light"
     },
     "output_type": "display_data"
    }
   ],
   "source": [
    "p_value_ser['bh_value'] = alpha * p_value_ser.index / m\n",
    "plt.plot(p_value_ser['p_value'].values)\n",
    "plt.plot(p_value_ser['bh_value'].values)\n"
   ]
  },
  {
   "cell_type": "markdown",
   "metadata": {},
   "source": [
    "Find the largest index $i$ for which the $p$-value in the $i$-th place in the series is smaller than $\\frac{i}{m}\\cdot\\alpha$. That is- the last index in the plot you just created where the $p$-values line lies below the _adjusted_-$\\alpha$ line."
   ]
  },
  {
   "cell_type": "code",
   "execution_count": 100,
   "metadata": {},
   "outputs": [
    {
     "name": "stdout",
     "output_type": "stream",
     "text": [
      "12\n"
     ]
    },
    {
     "data": {
      "text/html": [
       "<div>\n",
       "<style scoped>\n",
       "    .dataframe tbody tr th:only-of-type {\n",
       "        vertical-align: middle;\n",
       "    }\n",
       "\n",
       "    .dataframe tbody tr th {\n",
       "        vertical-align: top;\n",
       "    }\n",
       "\n",
       "    .dataframe thead th {\n",
       "        text-align: right;\n",
       "    }\n",
       "</style>\n",
       "<table border=\"1\" class=\"dataframe\">\n",
       "  <thead>\n",
       "    <tr style=\"text-align: right;\">\n",
       "      <th></th>\n",
       "      <th>org_index</th>\n",
       "      <th>p_value</th>\n",
       "      <th>bh_value</th>\n",
       "    </tr>\n",
       "  </thead>\n",
       "  <tbody>\n",
       "    <tr>\n",
       "      <th>1</th>\n",
       "      <td>8</td>\n",
       "      <td>0.000006</td>\n",
       "      <td>0.0005</td>\n",
       "    </tr>\n",
       "    <tr>\n",
       "      <th>2</th>\n",
       "      <td>6</td>\n",
       "      <td>0.000067</td>\n",
       "      <td>0.0010</td>\n",
       "    </tr>\n",
       "    <tr>\n",
       "      <th>3</th>\n",
       "      <td>0</td>\n",
       "      <td>0.000161</td>\n",
       "      <td>0.0015</td>\n",
       "    </tr>\n",
       "    <tr>\n",
       "      <th>4</th>\n",
       "      <td>50</td>\n",
       "      <td>0.000222</td>\n",
       "      <td>0.0020</td>\n",
       "    </tr>\n",
       "    <tr>\n",
       "      <th>5</th>\n",
       "      <td>5</td>\n",
       "      <td>0.000676</td>\n",
       "      <td>0.0025</td>\n",
       "    </tr>\n",
       "    <tr>\n",
       "      <th>6</th>\n",
       "      <td>1</td>\n",
       "      <td>0.000791</td>\n",
       "      <td>0.0030</td>\n",
       "    </tr>\n",
       "    <tr>\n",
       "      <th>7</th>\n",
       "      <td>15</td>\n",
       "      <td>0.001264</td>\n",
       "      <td>0.0035</td>\n",
       "    </tr>\n",
       "    <tr>\n",
       "      <th>8</th>\n",
       "      <td>2</td>\n",
       "      <td>0.001365</td>\n",
       "      <td>0.0040</td>\n",
       "    </tr>\n",
       "    <tr>\n",
       "      <th>9</th>\n",
       "      <td>10</td>\n",
       "      <td>0.002028</td>\n",
       "      <td>0.0045</td>\n",
       "    </tr>\n",
       "    <tr>\n",
       "      <th>10</th>\n",
       "      <td>52</td>\n",
       "      <td>0.002139</td>\n",
       "      <td>0.0050</td>\n",
       "    </tr>\n",
       "    <tr>\n",
       "      <th>11</th>\n",
       "      <td>75</td>\n",
       "      <td>0.003169</td>\n",
       "      <td>0.0055</td>\n",
       "    </tr>\n",
       "    <tr>\n",
       "      <th>12</th>\n",
       "      <td>9</td>\n",
       "      <td>0.003552</td>\n",
       "      <td>0.0060</td>\n",
       "    </tr>\n",
       "  </tbody>\n",
       "</table>\n",
       "</div>"
      ],
      "text/plain": [
       "    org_index   p_value  bh_value\n",
       "1           8  0.000006    0.0005\n",
       "2           6  0.000067    0.0010\n",
       "3           0  0.000161    0.0015\n",
       "4          50  0.000222    0.0020\n",
       "5           5  0.000676    0.0025\n",
       "6           1  0.000791    0.0030\n",
       "7          15  0.001264    0.0035\n",
       "8           2  0.001365    0.0040\n",
       "9          10  0.002028    0.0045\n",
       "10         52  0.002139    0.0050\n",
       "11         75  0.003169    0.0055\n",
       "12          9  0.003552    0.0060"
      ]
     },
     "execution_count": 100,
     "metadata": {},
     "output_type": "execute_result"
    }
   ],
   "source": [
    "max_ind = p_value_ser[p_value_ser.p_value < p_value_ser.bh_value].index.max()\n",
    "print(max_ind)\n",
    "p_value_ser.head(12)"
   ]
  },
  {
   "cell_type": "markdown",
   "metadata": {},
   "source": [
    "Reject the null hypothesis for all test before and including this index, and accept it for all others. Reformat your table into a $10\\times 10$ dataframe; for which bins did we get a significant result in the corrected test?"
   ]
  },
  {
   "cell_type": "code",
   "execution_count": 107,
   "metadata": {},
   "outputs": [
    {
     "data": {
      "text/plain": [
       "array([1., 1., 1., 0., 0., 1., 1., 0., 1., 1., 1., 0., 0., 0., 0., 1., 0.,\n",
       "       0., 0., 0., 0., 0., 0., 0., 0., 0., 0., 0., 0., 0., 0., 0., 0., 0.,\n",
       "       0., 0., 0., 0., 0., 0., 0., 0., 0., 0., 0., 0., 0., 0., 0., 0., 1.,\n",
       "       0., 1., 0., 0., 0., 0., 0., 0., 0., 0., 0., 0., 0., 0., 0., 0., 0.,\n",
       "       0., 0., 0., 0., 0., 0., 0., 1., 0., 0., 0., 0., 0., 0., 0., 0., 0.,\n",
       "       0., 0., 0., 0., 0., 0., 0., 0., 0., 0., 0., 0., 0., 0., 0.])"
      ]
     },
     "execution_count": 107,
     "metadata": {},
     "output_type": "execute_result"
    }
   ],
   "source": [
    "res = np.zeros((100))\n",
    "res[p_value_ser[p_value_ser.index <= max_ind][\"org_index\"]] = 1\n",
    "res"
   ]
  },
  {
   "cell_type": "code",
   "execution_count": 112,
   "metadata": {},
   "outputs": [],
   "source": [
    "res = res.reshape((10, 10))"
   ]
  },
  {
   "cell_type": "markdown",
   "metadata": {},
   "source": [
    "Visualize your result using the [seaborn.heatmap]() function and compare to the previous heatmap."
   ]
  },
  {
   "cell_type": "code",
   "execution_count": 115,
   "metadata": {},
   "outputs": [
    {
     "data": {
      "text/plain": [
       "Text(0.5, 1, 'BH statistical test per sub-population')"
      ]
     },
     "execution_count": 115,
     "metadata": {},
     "output_type": "execute_result"
    },
    {
     "data": {
      "image/png": "[encoded data removed]",
      "text/plain": [
       "<Figure size 432x288 with 2 Axes>"
      ]
     },
     "metadata": {
      "needs_background": "light"
     },
     "output_type": "display_data"
    }
   ],
   "source": [
    "sns.heatmap(res);\n",
    "plt.xlabel(\"Loan amount bins\\n(--> increasing)\")\n",
    "plt.ylabel(\"Credit score bins\\n(--> decreasing)\")\n",
    "plt.title(\"BH statistical test per sub-population\", size=20)"
   ]
  },
  {
   "cell_type": "markdown",
   "metadata": {},
   "source": [
    "### Validating your results"
   ]
  },
  {
   "cell_type": "markdown",
   "metadata": {},
   "source": [
    "You can validate your results (for both corrections) using the <a href= \"https://www.statsmodels.org/dev/generated/statsmodels.stats.multitest.multipletests.html\">`statsmodels.stats.multitest.multipletests`</a> package."
   ]
  },
  {
   "cell_type": "code",
   "execution_count": 69,
   "metadata": {},
   "outputs": [],
   "source": [
    "from statsmodels.stats.multitest import multipletests"
   ]
  },
  {
   "cell_type": "code",
   "execution_count": 70,
   "metadata": {},
   "outputs": [
    {
     "name": "stderr",
     "output_type": "stream",
     "text": [
      "/usr/local/lib/python3.8/dist-packages/statsmodels/stats/multitest.py:150: RuntimeWarning: invalid value encountered in less_equal\n",
      "  reject = pvals <= alphacBonf\n",
      "/usr/local/lib/python3.8/dist-packages/statsmodels/stats/multitest.py:257: RuntimeWarning: invalid value encountered in greater\n",
      "  pvals_corrected[pvals_corrected>1] = 1\n"
     ]
    },
    {
     "data": {
      "text/plain": [
       "<matplotlib.axes._subplots.AxesSubplot at 0x7fd6f2d619a0>"
      ]
     },
     "execution_count": 70,
     "metadata": {},
     "output_type": "execute_result"
    },
    {
     "data": {
      "image/png": "[encoded data removed]",
      "text/plain": [
       "<Figure size 432x288 with 2 Axes>"
      ]
     },
     "metadata": {
      "needs_background": "light"
     },
     "output_type": "display_data"
    }
   ],
   "source": [
    "test_result = multipletests(p_value_matrix.reshape((100)), alpha, 'bonferroni', is_sorted=False)\n",
    "sns.heatmap(test_result[0].reshape((10, 10)))"
   ]
  },
  {
   "cell_type": "code",
   "execution_count": 71,
   "metadata": {},
   "outputs": [
    {
     "name": "stderr",
     "output_type": "stream",
     "text": [
      "/usr/local/lib/python3.8/dist-packages/statsmodels/stats/multitest.py:339: RuntimeWarning: invalid value encountered in less_equal\n",
      "  reject = pvals_sorted <= ecdffactor*alpha\n"
     ]
    },
    {
     "data": {
      "text/plain": [
       "<matplotlib.axes._subplots.AxesSubplot at 0x7fd6f5104c10>"
      ]
     },
     "execution_count": 71,
     "metadata": {},
     "output_type": "execute_result"
    },
    {
     "data": {
      "image/png": "[encoded data removed]",
      "text/plain": [
       "<Figure size 432x288 with 2 Axes>"
      ]
     },
     "metadata": {
      "needs_background": "light"
     },
     "output_type": "display_data"
    }
   ],
   "source": [
    "test_result = multipletests(p_value_matrix.reshape((100)), alpha, 'fdr_bh', is_sorted=False)\n",
    "sns.heatmap(test_result[0].reshape((10, 10)))"
   ]
  },
  {
   "cell_type": "code",
   "execution_count": null,
   "metadata": {},
   "outputs": [],
   "source": []
  },
  {
   "cell_type": "code",
   "execution_count": null,
   "metadata": {},
   "outputs": [],
   "source": []
  },
  {
   "cell_type": "code",
   "execution_count": null,
   "metadata": {},
   "outputs": [],
   "source": []
  },
  {
   "cell_type": "code",
   "execution_count": null,
   "metadata": {},
   "outputs": [],
   "source": []
  }
 ],
 "metadata": {
  "kernelspec": {
   "display_name": "Python 3",
   "language": "python",
   "name": "python3"
  },
  "language_info": {
   "codemirror_mode": {
    "name": "ipython",
    "version": 3
   },
   "file_extension": ".py",
   "mimetype": "text/x-python",
   "name": "python",
   "nbconvert_exporter": "python",
   "pygments_lexer": "ipython3",
   "version": "3.8.10"
  }
 },
 "nbformat": 4,
 "nbformat_minor": 4
}

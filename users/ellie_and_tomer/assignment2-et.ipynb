{
 "cells": [
  {
   "cell_type": "markdown",
   "metadata": {
    "tags": []
   },
   "source": [
    "# Assignment objective"
   ]
  },
  {
   "cell_type": "markdown",
   "metadata": {},
   "source": [
    "In this assignment you will apply several tactics in order to detect potential risks in a population of borrowers. This tactics would be used in order to determine whether the deployment of the flyer program in Raleigh, NC, may have had the adverse effect of increasing activation disproportionally more for riskier borrowers."
   ]
  },
  {
   "cell_type": "markdown",
   "metadata": {
    "tags": []
   },
   "source": [
    "# General remark "
   ]
  },
  {
   "cell_type": "markdown",
   "metadata": {},
   "source": [
    "Throughout the assignment, you are encouraged to use certain packages for various objectives. These are only recommendations, feel free to use a different package if you feel more comfortable with it or write your own code. Everything goes, as long as the output is correct!"
   ]
  },
  {
   "cell_type": "markdown",
   "metadata": {
    "tags": []
   },
   "source": [
    "# Basic imports\n"
   ]
  },
  {
   "cell_type": "code",
   "execution_count": 1,
   "metadata": {
    "tags": []
   },
   "outputs": [],
   "source": [
    "import pandas as pd\n",
    "import numpy as np\n",
    "import matplotlib.pyplot as plt\n",
    "import seaborn as sns\n",
    "import os"
   ]
  },
  {
   "cell_type": "markdown",
   "metadata": {
    "tags": []
   },
   "source": [
    "# Data preparation"
   ]
  },
  {
   "cell_type": "markdown",
   "metadata": {},
   "source": [
    "Start by reading the processed activation tables from Raleigh and Lubbock. These are available on the assignment's `s3` path, which can be imported from `pagayapro.data_paths.data_paths.ASSIGNMENT2_DATA`. "
   ]
  },
  {
   "cell_type": "code",
   "execution_count": 2,
   "metadata": {
    "tags": []
   },
   "outputs": [],
   "source": [
    "from pagayapro.paths.data_paths import ASSIGNMENT2_DATA"
   ]
  },
  {
   "cell_type": "code",
   "execution_count": 3,
   "metadata": {
    "tags": []
   },
   "outputs": [],
   "source": [
    "raleigh_table = pd.read_csv(os.path.join(ASSIGNMENT2_DATA,\"raleigh_final_activation_table.csv\"))"
   ]
  },
  {
   "cell_type": "code",
   "execution_count": 4,
   "metadata": {
    "tags": []
   },
   "outputs": [],
   "source": [
    "lubbock_table = pd.read_csv(os.path.join(ASSIGNMENT2_DATA,\"lubbock_final_activation_table.csv\"))"
   ]
  },
  {
   "cell_type": "markdown",
   "metadata": {},
   "source": [
    "Disply the first 5 rows of each table. How many rows are there in each table?"
   ]
  },
  {
   "cell_type": "code",
   "execution_count": 7,
   "metadata": {},
   "outputs": [
    {
     "data": {
      "text/html": [
       "<div>\n",
       "<style scoped>\n",
       "    .dataframe tbody tr th:only-of-type {\n",
       "        vertical-align: middle;\n",
       "    }\n",
       "\n",
       "    .dataframe tbody tr th {\n",
       "        vertical-align: top;\n",
       "    }\n",
       "\n",
       "    .dataframe thead th {\n",
       "        text-align: right;\n",
       "    }\n",
       "</style>\n",
       "<table border=\"1\" class=\"dataframe\">\n",
       "  <thead>\n",
       "    <tr style=\"text-align: right;\">\n",
       "      <th></th>\n",
       "      <th>id</th>\n",
       "      <th>sequence_num</th>\n",
       "      <th>requested_amount</th>\n",
       "      <th>offered_interest_rate</th>\n",
       "      <th>offer_accepted</th>\n",
       "      <th>offer_date</th>\n",
       "    </tr>\n",
       "  </thead>\n",
       "  <tbody>\n",
       "    <tr>\n",
       "      <th>0</th>\n",
       "      <td>94fe9530622e8302e12906e7a65f58d1e164bc0d05f514...</td>\n",
       "      <td>90e4b7a2dc13cb20f06723807c7a4bba4da57875ff2e51...</td>\n",
       "      <td>2500.0</td>\n",
       "      <td>11.97</td>\n",
       "      <td>False</td>\n",
       "      <td>2020-10-23</td>\n",
       "    </tr>\n",
       "    <tr>\n",
       "      <th>1</th>\n",
       "      <td>423a4e06ace6d70156cb1d3f6f8c2e327788cf00df43f5...</td>\n",
       "      <td>31ec3034b1c29c120fad2776bec57c21d42a4b1b0e6cf5...</td>\n",
       "      <td>3500.0</td>\n",
       "      <td>24.37</td>\n",
       "      <td>False</td>\n",
       "      <td>2019-07-12</td>\n",
       "    </tr>\n",
       "    <tr>\n",
       "      <th>2</th>\n",
       "      <td>ae1e5ef03b7ea096d65d46ffc334273a3234fc0e414a4c...</td>\n",
       "      <td>9707b1364bcd918a919db139c3d7402c85aee1eb3dfb9d...</td>\n",
       "      <td>3026.0</td>\n",
       "      <td>30.32</td>\n",
       "      <td>False</td>\n",
       "      <td>2018-08-24</td>\n",
       "    </tr>\n",
       "    <tr>\n",
       "      <th>3</th>\n",
       "      <td>3fc1e327a430b8895508e697c901f5da85eee7f5db19f3...</td>\n",
       "      <td>509c8db99695731191f5c2fc20b4e664d7aa108530ba65...</td>\n",
       "      <td>3000.0</td>\n",
       "      <td>12.94</td>\n",
       "      <td>True</td>\n",
       "      <td>2019-09-16</td>\n",
       "    </tr>\n",
       "    <tr>\n",
       "      <th>4</th>\n",
       "      <td>96a39f00dc2322233b9e080114030898ada13a904ccc29...</td>\n",
       "      <td>2ba1b1a11ec63ca7d0f8cc0cd5527d591dfea6716f54b2...</td>\n",
       "      <td>5000.0</td>\n",
       "      <td>16.89</td>\n",
       "      <td>False</td>\n",
       "      <td>2019-11-12</td>\n",
       "    </tr>\n",
       "    <tr>\n",
       "      <th>...</th>\n",
       "      <td>...</td>\n",
       "      <td>...</td>\n",
       "      <td>...</td>\n",
       "      <td>...</td>\n",
       "      <td>...</td>\n",
       "      <td>...</td>\n",
       "    </tr>\n",
       "    <tr>\n",
       "      <th>8787</th>\n",
       "      <td>b36316639cf74143631f7b902473b2be49c3d39d756225...</td>\n",
       "      <td>d565c00a82307107dcefc910f9d1ec3422e46deaae7ff4...</td>\n",
       "      <td>5359.0</td>\n",
       "      <td>28.97</td>\n",
       "      <td>False</td>\n",
       "      <td>2018-06-28</td>\n",
       "    </tr>\n",
       "    <tr>\n",
       "      <th>8788</th>\n",
       "      <td>7445ece571260380e4c2b0ec37fef385276ac419657788...</td>\n",
       "      <td>a2275aae2ff36af117d6fa30e94342635cc06e92e05451...</td>\n",
       "      <td>7000.0</td>\n",
       "      <td>29.95</td>\n",
       "      <td>False</td>\n",
       "      <td>2018-11-19</td>\n",
       "    </tr>\n",
       "    <tr>\n",
       "      <th>8789</th>\n",
       "      <td>70c958e196d96d7b4671077d82f0ec74da251fb13e461b...</td>\n",
       "      <td>f401604e814d3ac07b35ee88b05dde11c9a0bf12554dc1...</td>\n",
       "      <td>10000.0</td>\n",
       "      <td>15.96</td>\n",
       "      <td>False</td>\n",
       "      <td>2018-10-22</td>\n",
       "    </tr>\n",
       "    <tr>\n",
       "      <th>8790</th>\n",
       "      <td>5aa0e11b30f1f00b7001cd0c36e5617fbda02f578b8b32...</td>\n",
       "      <td>c02c842e2b47b773a4188edaf228eff05a2ed9500dc89b...</td>\n",
       "      <td>40000.0</td>\n",
       "      <td>7.83</td>\n",
       "      <td>False</td>\n",
       "      <td>2020-09-30</td>\n",
       "    </tr>\n",
       "    <tr>\n",
       "      <th>8791</th>\n",
       "      <td>d931c690a92894c4249dace9f046195c7ae106cbadf3bd...</td>\n",
       "      <td>4cff3b2357d594d0c755224848830b7e66668459024084...</td>\n",
       "      <td>30000.0</td>\n",
       "      <td>6.10</td>\n",
       "      <td>False</td>\n",
       "      <td>2019-05-24</td>\n",
       "    </tr>\n",
       "  </tbody>\n",
       "</table>\n",
       "<p>8792 rows × 6 columns</p>\n",
       "</div>"
      ],
      "text/plain": [
       "                                                     id  \\\n",
       "0     94fe9530622e8302e12906e7a65f58d1e164bc0d05f514...   \n",
       "1     423a4e06ace6d70156cb1d3f6f8c2e327788cf00df43f5...   \n",
       "2     ae1e5ef03b7ea096d65d46ffc334273a3234fc0e414a4c...   \n",
       "3     3fc1e327a430b8895508e697c901f5da85eee7f5db19f3...   \n",
       "4     96a39f00dc2322233b9e080114030898ada13a904ccc29...   \n",
       "...                                                 ...   \n",
       "8787  b36316639cf74143631f7b902473b2be49c3d39d756225...   \n",
       "8788  7445ece571260380e4c2b0ec37fef385276ac419657788...   \n",
       "8789  70c958e196d96d7b4671077d82f0ec74da251fb13e461b...   \n",
       "8790  5aa0e11b30f1f00b7001cd0c36e5617fbda02f578b8b32...   \n",
       "8791  d931c690a92894c4249dace9f046195c7ae106cbadf3bd...   \n",
       "\n",
       "                                           sequence_num  requested_amount  \\\n",
       "0     90e4b7a2dc13cb20f06723807c7a4bba4da57875ff2e51...            2500.0   \n",
       "1     31ec3034b1c29c120fad2776bec57c21d42a4b1b0e6cf5...            3500.0   \n",
       "2     9707b1364bcd918a919db139c3d7402c85aee1eb3dfb9d...            3026.0   \n",
       "3     509c8db99695731191f5c2fc20b4e664d7aa108530ba65...            3000.0   \n",
       "4     2ba1b1a11ec63ca7d0f8cc0cd5527d591dfea6716f54b2...            5000.0   \n",
       "...                                                 ...               ...   \n",
       "8787  d565c00a82307107dcefc910f9d1ec3422e46deaae7ff4...            5359.0   \n",
       "8788  a2275aae2ff36af117d6fa30e94342635cc06e92e05451...            7000.0   \n",
       "8789  f401604e814d3ac07b35ee88b05dde11c9a0bf12554dc1...           10000.0   \n",
       "8790  c02c842e2b47b773a4188edaf228eff05a2ed9500dc89b...           40000.0   \n",
       "8791  4cff3b2357d594d0c755224848830b7e66668459024084...           30000.0   \n",
       "\n",
       "      offered_interest_rate  offer_accepted  offer_date  \n",
       "0                     11.97           False  2020-10-23  \n",
       "1                     24.37           False  2019-07-12  \n",
       "2                     30.32           False  2018-08-24  \n",
       "3                     12.94            True  2019-09-16  \n",
       "4                     16.89           False  2019-11-12  \n",
       "...                     ...             ...         ...  \n",
       "8787                  28.97           False  2018-06-28  \n",
       "8788                  29.95           False  2018-11-19  \n",
       "8789                  15.96           False  2018-10-22  \n",
       "8790                   7.83           False  2020-09-30  \n",
       "8791                   6.10           False  2019-05-24  \n",
       "\n",
       "[8792 rows x 6 columns]"
      ]
     },
     "execution_count": 7,
     "metadata": {},
     "output_type": "execute_result"
    }
   ],
   "source": [
    "raleigh_table"
   ]
  },
  {
   "cell_type": "code",
   "execution_count": 8,
   "metadata": {},
   "outputs": [
    {
     "data": {
      "text/html": [
       "<div>\n",
       "<style scoped>\n",
       "    .dataframe tbody tr th:only-of-type {\n",
       "        vertical-align: middle;\n",
       "    }\n",
       "\n",
       "    .dataframe tbody tr th {\n",
       "        vertical-align: top;\n",
       "    }\n",
       "\n",
       "    .dataframe thead th {\n",
       "        text-align: right;\n",
       "    }\n",
       "</style>\n",
       "<table border=\"1\" class=\"dataframe\">\n",
       "  <thead>\n",
       "    <tr style=\"text-align: right;\">\n",
       "      <th></th>\n",
       "      <th>id</th>\n",
       "      <th>sequence_num</th>\n",
       "      <th>requested_amount</th>\n",
       "      <th>offered_interest_rate</th>\n",
       "      <th>offer_accepted</th>\n",
       "      <th>offer_date</th>\n",
       "    </tr>\n",
       "  </thead>\n",
       "  <tbody>\n",
       "    <tr>\n",
       "      <th>0</th>\n",
       "      <td>55ede7a145fc312ed7206bfde6b1597f995a9e7cdf42e6...</td>\n",
       "      <td>3464754c8bef531e7e90f0d83cd4df04ea2d7e24ba75cd...</td>\n",
       "      <td>5300.0</td>\n",
       "      <td>32.05</td>\n",
       "      <td>False</td>\n",
       "      <td>2020-04-24</td>\n",
       "    </tr>\n",
       "    <tr>\n",
       "      <th>1</th>\n",
       "      <td>c3a63cef599c03c7af1258fb58bf2164ae2b57699ece7e...</td>\n",
       "      <td>ed16849cf72e00d9f0593604ce7dc5c754435d1c696f2b...</td>\n",
       "      <td>14000.0</td>\n",
       "      <td>15.26</td>\n",
       "      <td>False</td>\n",
       "      <td>2019-04-29</td>\n",
       "    </tr>\n",
       "    <tr>\n",
       "      <th>2</th>\n",
       "      <td>1f91c6b7b97c43ad691241faf61fb6634ed298eb7de8f9...</td>\n",
       "      <td>e8ff4579419d35c833ac8d5dc726ba44a04a054a82e203...</td>\n",
       "      <td>10500.0</td>\n",
       "      <td>5.49</td>\n",
       "      <td>False</td>\n",
       "      <td>2020-04-29</td>\n",
       "    </tr>\n",
       "    <tr>\n",
       "      <th>3</th>\n",
       "      <td>7d4cae1e2bba10256b5f115cd797cf1d255d4aacab9d17...</td>\n",
       "      <td>8efa42707a799ef939ec9b7f2f6220e6e5f9aefdb306af...</td>\n",
       "      <td>19500.0</td>\n",
       "      <td>11.10</td>\n",
       "      <td>True</td>\n",
       "      <td>2020-08-04</td>\n",
       "    </tr>\n",
       "    <tr>\n",
       "      <th>4</th>\n",
       "      <td>f5aa5c275def34cc3e6b533d41a8b706558babe30f35e2...</td>\n",
       "      <td>90cd5ac4b02cc83a48b924795e2fdf87e60ebbdf63065c...</td>\n",
       "      <td>30000.0</td>\n",
       "      <td>11.61</td>\n",
       "      <td>True</td>\n",
       "      <td>2018-05-04</td>\n",
       "    </tr>\n",
       "    <tr>\n",
       "      <th>...</th>\n",
       "      <td>...</td>\n",
       "      <td>...</td>\n",
       "      <td>...</td>\n",
       "      <td>...</td>\n",
       "      <td>...</td>\n",
       "      <td>...</td>\n",
       "    </tr>\n",
       "    <tr>\n",
       "      <th>11315</th>\n",
       "      <td>ed51c75abf3bb52f4b767eec33c29f4d13ac67e2bcbc74...</td>\n",
       "      <td>8c4f911169f329c8aa617e7a6f3e52f74b95d2c79d7dff...</td>\n",
       "      <td>10000.0</td>\n",
       "      <td>5.72</td>\n",
       "      <td>False</td>\n",
       "      <td>2018-02-21</td>\n",
       "    </tr>\n",
       "    <tr>\n",
       "      <th>11316</th>\n",
       "      <td>40defd025b77e8e32716eeca1d0c28a773156104a460cf...</td>\n",
       "      <td>3fc3303fa2a98aca0deb60ca8167368cb39a31f8ecfc8a...</td>\n",
       "      <td>6000.0</td>\n",
       "      <td>30.69</td>\n",
       "      <td>False</td>\n",
       "      <td>2018-10-12</td>\n",
       "    </tr>\n",
       "    <tr>\n",
       "      <th>11317</th>\n",
       "      <td>d1cb1f5ad81a1dce6132060e1cdb070b71d67eb22fac15...</td>\n",
       "      <td>4ce19de790773a4abafeda01d642e737a2fb472173eb5e...</td>\n",
       "      <td>35123.0</td>\n",
       "      <td>6.79</td>\n",
       "      <td>False</td>\n",
       "      <td>2018-05-21</td>\n",
       "    </tr>\n",
       "    <tr>\n",
       "      <th>11318</th>\n",
       "      <td>1d2ed99debe3048dc9eefe2590f0b68faf38e2a1d7e18c...</td>\n",
       "      <td>e3a30e7a0816e283a7e519257f2de38be4dab156374804...</td>\n",
       "      <td>12000.0</td>\n",
       "      <td>16.80</td>\n",
       "      <td>False</td>\n",
       "      <td>2018-08-10</td>\n",
       "    </tr>\n",
       "    <tr>\n",
       "      <th>11319</th>\n",
       "      <td>b9dd35866b66abf427fbb788fc3f654b787e459e7305de...</td>\n",
       "      <td>8e5c58827138f56c89ce1e0d48c4065a6751658ea2a646...</td>\n",
       "      <td>4500.0</td>\n",
       "      <td>8.95</td>\n",
       "      <td>False</td>\n",
       "      <td>2020-05-07</td>\n",
       "    </tr>\n",
       "  </tbody>\n",
       "</table>\n",
       "<p>11320 rows × 6 columns</p>\n",
       "</div>"
      ],
      "text/plain": [
       "                                                      id  \\\n",
       "0      55ede7a145fc312ed7206bfde6b1597f995a9e7cdf42e6...   \n",
       "1      c3a63cef599c03c7af1258fb58bf2164ae2b57699ece7e...   \n",
       "2      1f91c6b7b97c43ad691241faf61fb6634ed298eb7de8f9...   \n",
       "3      7d4cae1e2bba10256b5f115cd797cf1d255d4aacab9d17...   \n",
       "4      f5aa5c275def34cc3e6b533d41a8b706558babe30f35e2...   \n",
       "...                                                  ...   \n",
       "11315  ed51c75abf3bb52f4b767eec33c29f4d13ac67e2bcbc74...   \n",
       "11316  40defd025b77e8e32716eeca1d0c28a773156104a460cf...   \n",
       "11317  d1cb1f5ad81a1dce6132060e1cdb070b71d67eb22fac15...   \n",
       "11318  1d2ed99debe3048dc9eefe2590f0b68faf38e2a1d7e18c...   \n",
       "11319  b9dd35866b66abf427fbb788fc3f654b787e459e7305de...   \n",
       "\n",
       "                                            sequence_num  requested_amount  \\\n",
       "0      3464754c8bef531e7e90f0d83cd4df04ea2d7e24ba75cd...            5300.0   \n",
       "1      ed16849cf72e00d9f0593604ce7dc5c754435d1c696f2b...           14000.0   \n",
       "2      e8ff4579419d35c833ac8d5dc726ba44a04a054a82e203...           10500.0   \n",
       "3      8efa42707a799ef939ec9b7f2f6220e6e5f9aefdb306af...           19500.0   \n",
       "4      90cd5ac4b02cc83a48b924795e2fdf87e60ebbdf63065c...           30000.0   \n",
       "...                                                  ...               ...   \n",
       "11315  8c4f911169f329c8aa617e7a6f3e52f74b95d2c79d7dff...           10000.0   \n",
       "11316  3fc3303fa2a98aca0deb60ca8167368cb39a31f8ecfc8a...            6000.0   \n",
       "11317  4ce19de790773a4abafeda01d642e737a2fb472173eb5e...           35123.0   \n",
       "11318  e3a30e7a0816e283a7e519257f2de38be4dab156374804...           12000.0   \n",
       "11319  8e5c58827138f56c89ce1e0d48c4065a6751658ea2a646...            4500.0   \n",
       "\n",
       "       offered_interest_rate  offer_accepted  offer_date  \n",
       "0                      32.05           False  2020-04-24  \n",
       "1                      15.26           False  2019-04-29  \n",
       "2                       5.49           False  2020-04-29  \n",
       "3                      11.10            True  2020-08-04  \n",
       "4                      11.61            True  2018-05-04  \n",
       "...                      ...             ...         ...  \n",
       "11315                   5.72           False  2018-02-21  \n",
       "11316                  30.69           False  2018-10-12  \n",
       "11317                   6.79           False  2018-05-21  \n",
       "11318                  16.80           False  2018-08-10  \n",
       "11319                   8.95           False  2020-05-07  \n",
       "\n",
       "[11320 rows x 6 columns]"
      ]
     },
     "execution_count": 8,
     "metadata": {},
     "output_type": "execute_result"
    }
   ],
   "source": [
    "lubbock_table"
   ]
  },
  {
   "cell_type": "code",
   "execution_count": null,
   "metadata": {},
   "outputs": [],
   "source": []
  },
  {
   "cell_type": "markdown",
   "metadata": {},
   "source": [
    "In order to analyze borrowers in Raleigh and Lubbock, we would like to enriched these tables with features from TU. These features are available (as in the previous assignment) in the file `tu_gen_data_2018Q3.parquet` in the path in `pagayapro.paths.data_paths.DATA_FILES_PATH`."
   ]
  },
  {
   "cell_type": "code",
   "execution_count": 9,
   "metadata": {
    "tags": []
   },
   "outputs": [],
   "source": [
    "from pagayapro.paths.data_paths import DATA_FILES_PATH\n",
    "tu_2018Q3= pd.read_parquet(os.path.join(DATA_FILES_PATH,\"tu_gen_data_2018Q3.parquet\"))"
   ]
  },
  {
   "cell_type": "markdown",
   "metadata": {},
   "source": [
    "Merge the activation tables from Raleigh and Lubbock with TU's features"
   ]
  },
  {
   "cell_type": "code",
   "execution_count": 10,
   "metadata": {},
   "outputs": [
    {
     "data": {
      "text/html": [
       "<div>\n",
       "<style scoped>\n",
       "    .dataframe tbody tr th:only-of-type {\n",
       "        vertical-align: middle;\n",
       "    }\n",
       "\n",
       "    .dataframe tbody tr th {\n",
       "        vertical-align: top;\n",
       "    }\n",
       "\n",
       "    .dataframe thead th {\n",
       "        text-align: right;\n",
       "    }\n",
       "</style>\n",
       "<table border=\"1\" class=\"dataframe\">\n",
       "  <thead>\n",
       "    <tr style=\"text-align: right;\">\n",
       "      <th></th>\n",
       "      <th>revs101</th>\n",
       "      <th>revs102</th>\n",
       "      <th>revs103</th>\n",
       "      <th>revs104</th>\n",
       "      <th>revs105</th>\n",
       "      <th>revs106</th>\n",
       "      <th>revs107</th>\n",
       "      <th>revs108</th>\n",
       "      <th>revs109</th>\n",
       "      <th>revs110</th>\n",
       "      <th>...</th>\n",
       "      <th>is_purpose_4</th>\n",
       "      <th>is_purpose_10</th>\n",
       "      <th>is_purpose_11</th>\n",
       "      <th>is_purpose_12</th>\n",
       "      <th>zip</th>\n",
       "      <th>monthly_debt</th>\n",
       "      <th>pre_loan_dti</th>\n",
       "      <th>zero_int_pti</th>\n",
       "      <th>zero_int_post_loan_dti</th>\n",
       "      <th>pti</th>\n",
       "    </tr>\n",
       "    <tr>\n",
       "      <th>id</th>\n",
       "      <th></th>\n",
       "      <th></th>\n",
       "      <th></th>\n",
       "      <th></th>\n",
       "      <th></th>\n",
       "      <th></th>\n",
       "      <th></th>\n",
       "      <th></th>\n",
       "      <th></th>\n",
       "      <th></th>\n",
       "      <th></th>\n",
       "      <th></th>\n",
       "      <th></th>\n",
       "      <th></th>\n",
       "      <th></th>\n",
       "      <th></th>\n",
       "      <th></th>\n",
       "      <th></th>\n",
       "      <th></th>\n",
       "      <th></th>\n",
       "      <th></th>\n",
       "    </tr>\n",
       "  </thead>\n",
       "  <tbody>\n",
       "    <tr>\n",
       "      <th>adf5219e4cb985352184eb7fa597737e4a9777f7354f7a8a58270da147792561</th>\n",
       "      <td>834</td>\n",
       "      <td>891</td>\n",
       "      <td>2493</td>\n",
       "      <td>155</td>\n",
       "      <td>368</td>\n",
       "      <td>911</td>\n",
       "      <td>1105</td>\n",
       "      <td>1703</td>\n",
       "      <td>136</td>\n",
       "      <td>1346</td>\n",
       "      <td>...</td>\n",
       "      <td>False</td>\n",
       "      <td>False</td>\n",
       "      <td>False</td>\n",
       "      <td>False</td>\n",
       "      <td>32503</td>\n",
       "      <td>1016.0</td>\n",
       "      <td>NaN</td>\n",
       "      <td>NaN</td>\n",
       "      <td>NaN</td>\n",
       "      <td>NaN</td>\n",
       "    </tr>\n",
       "    <tr>\n",
       "      <th>0a0f130443af4c6597bb074942970eaddeb125d398e2cca42175c56befc8a171</th>\n",
       "      <td>2164</td>\n",
       "      <td>166</td>\n",
       "      <td>5037</td>\n",
       "      <td>5682</td>\n",
       "      <td>2368</td>\n",
       "      <td>64</td>\n",
       "      <td>3155</td>\n",
       "      <td>1045</td>\n",
       "      <td>3677</td>\n",
       "      <td>2447</td>\n",
       "      <td>...</td>\n",
       "      <td>False</td>\n",
       "      <td>False</td>\n",
       "      <td>False</td>\n",
       "      <td>False</td>\n",
       "      <td>10706</td>\n",
       "      <td>1154.0</td>\n",
       "      <td>NaN</td>\n",
       "      <td>NaN</td>\n",
       "      <td>NaN</td>\n",
       "      <td>NaN</td>\n",
       "    </tr>\n",
       "    <tr>\n",
       "      <th>4ba9c6a38b650ee06b8b88a48621bd363cdf611e63400c6fc4bbffbd1bf20c47</th>\n",
       "      <td>69</td>\n",
       "      <td>198</td>\n",
       "      <td>14</td>\n",
       "      <td>19</td>\n",
       "      <td>333</td>\n",
       "      <td>343</td>\n",
       "      <td>8</td>\n",
       "      <td>88</td>\n",
       "      <td>34</td>\n",
       "      <td>8</td>\n",
       "      <td>...</td>\n",
       "      <td>False</td>\n",
       "      <td>False</td>\n",
       "      <td>False</td>\n",
       "      <td>False</td>\n",
       "      <td>70128</td>\n",
       "      <td>379.0</td>\n",
       "      <td>NaN</td>\n",
       "      <td>NaN</td>\n",
       "      <td>NaN</td>\n",
       "      <td>NaN</td>\n",
       "    </tr>\n",
       "    <tr>\n",
       "      <th>dae3a344292e07d4b8935a453c37aef01303f21b2f37ccbd1c4408f158533acb</th>\n",
       "      <td>0</td>\n",
       "      <td>0</td>\n",
       "      <td>48</td>\n",
       "      <td>2</td>\n",
       "      <td>0</td>\n",
       "      <td>23</td>\n",
       "      <td>1</td>\n",
       "      <td>16</td>\n",
       "      <td>106</td>\n",
       "      <td>0</td>\n",
       "      <td>...</td>\n",
       "      <td>False</td>\n",
       "      <td>False</td>\n",
       "      <td>False</td>\n",
       "      <td>False</td>\n",
       "      <td>98032</td>\n",
       "      <td>961.0</td>\n",
       "      <td>NaN</td>\n",
       "      <td>NaN</td>\n",
       "      <td>NaN</td>\n",
       "      <td>NaN</td>\n",
       "    </tr>\n",
       "    <tr>\n",
       "      <th>8af2ae2462d012e4d85aa687a16a4f5fb64525928235da43c795f73dc0cadd04</th>\n",
       "      <td>436</td>\n",
       "      <td>608</td>\n",
       "      <td>154</td>\n",
       "      <td>190</td>\n",
       "      <td>365</td>\n",
       "      <td>656</td>\n",
       "      <td>282</td>\n",
       "      <td>380</td>\n",
       "      <td>570</td>\n",
       "      <td>448</td>\n",
       "      <td>...</td>\n",
       "      <td>False</td>\n",
       "      <td>False</td>\n",
       "      <td>False</td>\n",
       "      <td>False</td>\n",
       "      <td>17013</td>\n",
       "      <td>2029.0</td>\n",
       "      <td>NaN</td>\n",
       "      <td>NaN</td>\n",
       "      <td>NaN</td>\n",
       "      <td>NaN</td>\n",
       "    </tr>\n",
       "    <tr>\n",
       "      <th>...</th>\n",
       "      <td>...</td>\n",
       "      <td>...</td>\n",
       "      <td>...</td>\n",
       "      <td>...</td>\n",
       "      <td>...</td>\n",
       "      <td>...</td>\n",
       "      <td>...</td>\n",
       "      <td>...</td>\n",
       "      <td>...</td>\n",
       "      <td>...</td>\n",
       "      <td>...</td>\n",
       "      <td>...</td>\n",
       "      <td>...</td>\n",
       "      <td>...</td>\n",
       "      <td>...</td>\n",
       "      <td>...</td>\n",
       "      <td>...</td>\n",
       "      <td>...</td>\n",
       "      <td>...</td>\n",
       "      <td>...</td>\n",
       "      <td>...</td>\n",
       "    </tr>\n",
       "    <tr>\n",
       "      <th>1011850581661f8b9b43f009852877e85ebc30aa0a6c86d8603ecf8646d9f31d</th>\n",
       "      <td>2000</td>\n",
       "      <td>25</td>\n",
       "      <td>1254</td>\n",
       "      <td>0</td>\n",
       "      <td>0</td>\n",
       "      <td>1403</td>\n",
       "      <td>1208</td>\n",
       "      <td>1045</td>\n",
       "      <td>275</td>\n",
       "      <td>958</td>\n",
       "      <td>...</td>\n",
       "      <td>False</td>\n",
       "      <td>False</td>\n",
       "      <td>False</td>\n",
       "      <td>False</td>\n",
       "      <td>08059</td>\n",
       "      <td>1366.0</td>\n",
       "      <td>NaN</td>\n",
       "      <td>NaN</td>\n",
       "      <td>NaN</td>\n",
       "      <td>NaN</td>\n",
       "    </tr>\n",
       "    <tr>\n",
       "      <th>bd0b26d176d0a9c2039723f02048a7989e85586374ab8d9a2b5b0529c2899f13</th>\n",
       "      <td>620</td>\n",
       "      <td>976</td>\n",
       "      <td>402</td>\n",
       "      <td>290</td>\n",
       "      <td>410</td>\n",
       "      <td>498</td>\n",
       "      <td>258</td>\n",
       "      <td>500</td>\n",
       "      <td>243</td>\n",
       "      <td>57</td>\n",
       "      <td>...</td>\n",
       "      <td>False</td>\n",
       "      <td>False</td>\n",
       "      <td>False</td>\n",
       "      <td>False</td>\n",
       "      <td>40475</td>\n",
       "      <td>923.0</td>\n",
       "      <td>NaN</td>\n",
       "      <td>NaN</td>\n",
       "      <td>NaN</td>\n",
       "      <td>NaN</td>\n",
       "    </tr>\n",
       "    <tr>\n",
       "      <th>3503894d630dc781ebd68989e8ce8f53c7a7a842c56c2a0f51086ddc0d11ba32</th>\n",
       "      <td>278</td>\n",
       "      <td>277</td>\n",
       "      <td>273</td>\n",
       "      <td>673</td>\n",
       "      <td>217</td>\n",
       "      <td>559</td>\n",
       "      <td>1368</td>\n",
       "      <td>1262</td>\n",
       "      <td>347</td>\n",
       "      <td>60</td>\n",
       "      <td>...</td>\n",
       "      <td>False</td>\n",
       "      <td>False</td>\n",
       "      <td>False</td>\n",
       "      <td>False</td>\n",
       "      <td>03811</td>\n",
       "      <td>965.0</td>\n",
       "      <td>NaN</td>\n",
       "      <td>NaN</td>\n",
       "      <td>NaN</td>\n",
       "      <td>NaN</td>\n",
       "    </tr>\n",
       "    <tr>\n",
       "      <th>a1c93ebc516e6e3ed75d019327ed1a9bcbaa4cf553b6e413c6d32b92568092e6</th>\n",
       "      <td>143</td>\n",
       "      <td>169</td>\n",
       "      <td>203</td>\n",
       "      <td>424</td>\n",
       "      <td>523</td>\n",
       "      <td>1355</td>\n",
       "      <td>891</td>\n",
       "      <td>1272</td>\n",
       "      <td>1747</td>\n",
       "      <td>1848</td>\n",
       "      <td>...</td>\n",
       "      <td>False</td>\n",
       "      <td>False</td>\n",
       "      <td>False</td>\n",
       "      <td>False</td>\n",
       "      <td>63119</td>\n",
       "      <td>913.0</td>\n",
       "      <td>NaN</td>\n",
       "      <td>NaN</td>\n",
       "      <td>NaN</td>\n",
       "      <td>NaN</td>\n",
       "    </tr>\n",
       "    <tr>\n",
       "      <th>3f8614e54615680691b87a25956125029d98bb441b052eee5310e483c17d9655</th>\n",
       "      <td>981</td>\n",
       "      <td>525</td>\n",
       "      <td>578</td>\n",
       "      <td>891</td>\n",
       "      <td>754</td>\n",
       "      <td>1065</td>\n",
       "      <td>1445</td>\n",
       "      <td>1375</td>\n",
       "      <td>604</td>\n",
       "      <td>715</td>\n",
       "      <td>...</td>\n",
       "      <td>False</td>\n",
       "      <td>False</td>\n",
       "      <td>False</td>\n",
       "      <td>False</td>\n",
       "      <td>75040</td>\n",
       "      <td>1711.0</td>\n",
       "      <td>NaN</td>\n",
       "      <td>NaN</td>\n",
       "      <td>NaN</td>\n",
       "      <td>NaN</td>\n",
       "    </tr>\n",
       "  </tbody>\n",
       "</table>\n",
       "<p>972723 rows × 2502 columns</p>\n",
       "</div>"
      ],
      "text/plain": [
       "                                                    revs101  revs102  revs103  \\\n",
       "id                                                                              \n",
       "adf5219e4cb985352184eb7fa597737e4a9777f7354f7a8...      834      891     2493   \n",
       "0a0f130443af4c6597bb074942970eaddeb125d398e2cca...     2164      166     5037   \n",
       "4ba9c6a38b650ee06b8b88a48621bd363cdf611e63400c6...       69      198       14   \n",
       "dae3a344292e07d4b8935a453c37aef01303f21b2f37ccb...        0        0       48   \n",
       "8af2ae2462d012e4d85aa687a16a4f5fb64525928235da4...      436      608      154   \n",
       "...                                                     ...      ...      ...   \n",
       "1011850581661f8b9b43f009852877e85ebc30aa0a6c86d...     2000       25     1254   \n",
       "bd0b26d176d0a9c2039723f02048a7989e85586374ab8d9...      620      976      402   \n",
       "3503894d630dc781ebd68989e8ce8f53c7a7a842c56c2a0...      278      277      273   \n",
       "a1c93ebc516e6e3ed75d019327ed1a9bcbaa4cf553b6e41...      143      169      203   \n",
       "3f8614e54615680691b87a25956125029d98bb441b052ee...      981      525      578   \n",
       "\n",
       "                                                    revs104  revs105  revs106  \\\n",
       "id                                                                              \n",
       "adf5219e4cb985352184eb7fa597737e4a9777f7354f7a8...      155      368      911   \n",
       "0a0f130443af4c6597bb074942970eaddeb125d398e2cca...     5682     2368       64   \n",
       "4ba9c6a38b650ee06b8b88a48621bd363cdf611e63400c6...       19      333      343   \n",
       "dae3a344292e07d4b8935a453c37aef01303f21b2f37ccb...        2        0       23   \n",
       "8af2ae2462d012e4d85aa687a16a4f5fb64525928235da4...      190      365      656   \n",
       "...                                                     ...      ...      ...   \n",
       "1011850581661f8b9b43f009852877e85ebc30aa0a6c86d...        0        0     1403   \n",
       "bd0b26d176d0a9c2039723f02048a7989e85586374ab8d9...      290      410      498   \n",
       "3503894d630dc781ebd68989e8ce8f53c7a7a842c56c2a0...      673      217      559   \n",
       "a1c93ebc516e6e3ed75d019327ed1a9bcbaa4cf553b6e41...      424      523     1355   \n",
       "3f8614e54615680691b87a25956125029d98bb441b052ee...      891      754     1065   \n",
       "\n",
       "                                                    revs107  revs108  revs109  \\\n",
       "id                                                                              \n",
       "adf5219e4cb985352184eb7fa597737e4a9777f7354f7a8...     1105     1703      136   \n",
       "0a0f130443af4c6597bb074942970eaddeb125d398e2cca...     3155     1045     3677   \n",
       "4ba9c6a38b650ee06b8b88a48621bd363cdf611e63400c6...        8       88       34   \n",
       "dae3a344292e07d4b8935a453c37aef01303f21b2f37ccb...        1       16      106   \n",
       "8af2ae2462d012e4d85aa687a16a4f5fb64525928235da4...      282      380      570   \n",
       "...                                                     ...      ...      ...   \n",
       "1011850581661f8b9b43f009852877e85ebc30aa0a6c86d...     1208     1045      275   \n",
       "bd0b26d176d0a9c2039723f02048a7989e85586374ab8d9...      258      500      243   \n",
       "3503894d630dc781ebd68989e8ce8f53c7a7a842c56c2a0...     1368     1262      347   \n",
       "a1c93ebc516e6e3ed75d019327ed1a9bcbaa4cf553b6e41...      891     1272     1747   \n",
       "3f8614e54615680691b87a25956125029d98bb441b052ee...     1445     1375      604   \n",
       "\n",
       "                                                    revs110  ...  \\\n",
       "id                                                           ...   \n",
       "adf5219e4cb985352184eb7fa597737e4a9777f7354f7a8...     1346  ...   \n",
       "0a0f130443af4c6597bb074942970eaddeb125d398e2cca...     2447  ...   \n",
       "4ba9c6a38b650ee06b8b88a48621bd363cdf611e63400c6...        8  ...   \n",
       "dae3a344292e07d4b8935a453c37aef01303f21b2f37ccb...        0  ...   \n",
       "8af2ae2462d012e4d85aa687a16a4f5fb64525928235da4...      448  ...   \n",
       "...                                                     ...  ...   \n",
       "1011850581661f8b9b43f009852877e85ebc30aa0a6c86d...      958  ...   \n",
       "bd0b26d176d0a9c2039723f02048a7989e85586374ab8d9...       57  ...   \n",
       "3503894d630dc781ebd68989e8ce8f53c7a7a842c56c2a0...       60  ...   \n",
       "a1c93ebc516e6e3ed75d019327ed1a9bcbaa4cf553b6e41...     1848  ...   \n",
       "3f8614e54615680691b87a25956125029d98bb441b052ee...      715  ...   \n",
       "\n",
       "                                                    is_purpose_4  \\\n",
       "id                                                                 \n",
       "adf5219e4cb985352184eb7fa597737e4a9777f7354f7a8...         False   \n",
       "0a0f130443af4c6597bb074942970eaddeb125d398e2cca...         False   \n",
       "4ba9c6a38b650ee06b8b88a48621bd363cdf611e63400c6...         False   \n",
       "dae3a344292e07d4b8935a453c37aef01303f21b2f37ccb...         False   \n",
       "8af2ae2462d012e4d85aa687a16a4f5fb64525928235da4...         False   \n",
       "...                                                          ...   \n",
       "1011850581661f8b9b43f009852877e85ebc30aa0a6c86d...         False   \n",
       "bd0b26d176d0a9c2039723f02048a7989e85586374ab8d9...         False   \n",
       "3503894d630dc781ebd68989e8ce8f53c7a7a842c56c2a0...         False   \n",
       "a1c93ebc516e6e3ed75d019327ed1a9bcbaa4cf553b6e41...         False   \n",
       "3f8614e54615680691b87a25956125029d98bb441b052ee...         False   \n",
       "\n",
       "                                                    is_purpose_10  \\\n",
       "id                                                                  \n",
       "adf5219e4cb985352184eb7fa597737e4a9777f7354f7a8...          False   \n",
       "0a0f130443af4c6597bb074942970eaddeb125d398e2cca...          False   \n",
       "4ba9c6a38b650ee06b8b88a48621bd363cdf611e63400c6...          False   \n",
       "dae3a344292e07d4b8935a453c37aef01303f21b2f37ccb...          False   \n",
       "8af2ae2462d012e4d85aa687a16a4f5fb64525928235da4...          False   \n",
       "...                                                           ...   \n",
       "1011850581661f8b9b43f009852877e85ebc30aa0a6c86d...          False   \n",
       "bd0b26d176d0a9c2039723f02048a7989e85586374ab8d9...          False   \n",
       "3503894d630dc781ebd68989e8ce8f53c7a7a842c56c2a0...          False   \n",
       "a1c93ebc516e6e3ed75d019327ed1a9bcbaa4cf553b6e41...          False   \n",
       "3f8614e54615680691b87a25956125029d98bb441b052ee...          False   \n",
       "\n",
       "                                                    is_purpose_11  \\\n",
       "id                                                                  \n",
       "adf5219e4cb985352184eb7fa597737e4a9777f7354f7a8...          False   \n",
       "0a0f130443af4c6597bb074942970eaddeb125d398e2cca...          False   \n",
       "4ba9c6a38b650ee06b8b88a48621bd363cdf611e63400c6...          False   \n",
       "dae3a344292e07d4b8935a453c37aef01303f21b2f37ccb...          False   \n",
       "8af2ae2462d012e4d85aa687a16a4f5fb64525928235da4...          False   \n",
       "...                                                           ...   \n",
       "1011850581661f8b9b43f009852877e85ebc30aa0a6c86d...          False   \n",
       "bd0b26d176d0a9c2039723f02048a7989e85586374ab8d9...          False   \n",
       "3503894d630dc781ebd68989e8ce8f53c7a7a842c56c2a0...          False   \n",
       "a1c93ebc516e6e3ed75d019327ed1a9bcbaa4cf553b6e41...          False   \n",
       "3f8614e54615680691b87a25956125029d98bb441b052ee...          False   \n",
       "\n",
       "                                                    is_purpose_12    zip  \\\n",
       "id                                                                         \n",
       "adf5219e4cb985352184eb7fa597737e4a9777f7354f7a8...          False  32503   \n",
       "0a0f130443af4c6597bb074942970eaddeb125d398e2cca...          False  10706   \n",
       "4ba9c6a38b650ee06b8b88a48621bd363cdf611e63400c6...          False  70128   \n",
       "dae3a344292e07d4b8935a453c37aef01303f21b2f37ccb...          False  98032   \n",
       "8af2ae2462d012e4d85aa687a16a4f5fb64525928235da4...          False  17013   \n",
       "...                                                           ...    ...   \n",
       "1011850581661f8b9b43f009852877e85ebc30aa0a6c86d...          False  08059   \n",
       "bd0b26d176d0a9c2039723f02048a7989e85586374ab8d9...          False  40475   \n",
       "3503894d630dc781ebd68989e8ce8f53c7a7a842c56c2a0...          False  03811   \n",
       "a1c93ebc516e6e3ed75d019327ed1a9bcbaa4cf553b6e41...          False  63119   \n",
       "3f8614e54615680691b87a25956125029d98bb441b052ee...          False  75040   \n",
       "\n",
       "                                                    monthly_debt  \\\n",
       "id                                                                 \n",
       "adf5219e4cb985352184eb7fa597737e4a9777f7354f7a8...        1016.0   \n",
       "0a0f130443af4c6597bb074942970eaddeb125d398e2cca...        1154.0   \n",
       "4ba9c6a38b650ee06b8b88a48621bd363cdf611e63400c6...         379.0   \n",
       "dae3a344292e07d4b8935a453c37aef01303f21b2f37ccb...         961.0   \n",
       "8af2ae2462d012e4d85aa687a16a4f5fb64525928235da4...        2029.0   \n",
       "...                                                          ...   \n",
       "1011850581661f8b9b43f009852877e85ebc30aa0a6c86d...        1366.0   \n",
       "bd0b26d176d0a9c2039723f02048a7989e85586374ab8d9...         923.0   \n",
       "3503894d630dc781ebd68989e8ce8f53c7a7a842c56c2a0...         965.0   \n",
       "a1c93ebc516e6e3ed75d019327ed1a9bcbaa4cf553b6e41...         913.0   \n",
       "3f8614e54615680691b87a25956125029d98bb441b052ee...        1711.0   \n",
       "\n",
       "                                                    pre_loan_dti  \\\n",
       "id                                                                 \n",
       "adf5219e4cb985352184eb7fa597737e4a9777f7354f7a8...           NaN   \n",
       "0a0f130443af4c6597bb074942970eaddeb125d398e2cca...           NaN   \n",
       "4ba9c6a38b650ee06b8b88a48621bd363cdf611e63400c6...           NaN   \n",
       "dae3a344292e07d4b8935a453c37aef01303f21b2f37ccb...           NaN   \n",
       "8af2ae2462d012e4d85aa687a16a4f5fb64525928235da4...           NaN   \n",
       "...                                                          ...   \n",
       "1011850581661f8b9b43f009852877e85ebc30aa0a6c86d...           NaN   \n",
       "bd0b26d176d0a9c2039723f02048a7989e85586374ab8d9...           NaN   \n",
       "3503894d630dc781ebd68989e8ce8f53c7a7a842c56c2a0...           NaN   \n",
       "a1c93ebc516e6e3ed75d019327ed1a9bcbaa4cf553b6e41...           NaN   \n",
       "3f8614e54615680691b87a25956125029d98bb441b052ee...           NaN   \n",
       "\n",
       "                                                    zero_int_pti  \\\n",
       "id                                                                 \n",
       "adf5219e4cb985352184eb7fa597737e4a9777f7354f7a8...           NaN   \n",
       "0a0f130443af4c6597bb074942970eaddeb125d398e2cca...           NaN   \n",
       "4ba9c6a38b650ee06b8b88a48621bd363cdf611e63400c6...           NaN   \n",
       "dae3a344292e07d4b8935a453c37aef01303f21b2f37ccb...           NaN   \n",
       "8af2ae2462d012e4d85aa687a16a4f5fb64525928235da4...           NaN   \n",
       "...                                                          ...   \n",
       "1011850581661f8b9b43f009852877e85ebc30aa0a6c86d...           NaN   \n",
       "bd0b26d176d0a9c2039723f02048a7989e85586374ab8d9...           NaN   \n",
       "3503894d630dc781ebd68989e8ce8f53c7a7a842c56c2a0...           NaN   \n",
       "a1c93ebc516e6e3ed75d019327ed1a9bcbaa4cf553b6e41...           NaN   \n",
       "3f8614e54615680691b87a25956125029d98bb441b052ee...           NaN   \n",
       "\n",
       "                                                    zero_int_post_loan_dti  \\\n",
       "id                                                                           \n",
       "adf5219e4cb985352184eb7fa597737e4a9777f7354f7a8...                     NaN   \n",
       "0a0f130443af4c6597bb074942970eaddeb125d398e2cca...                     NaN   \n",
       "4ba9c6a38b650ee06b8b88a48621bd363cdf611e63400c6...                     NaN   \n",
       "dae3a344292e07d4b8935a453c37aef01303f21b2f37ccb...                     NaN   \n",
       "8af2ae2462d012e4d85aa687a16a4f5fb64525928235da4...                     NaN   \n",
       "...                                                                    ...   \n",
       "1011850581661f8b9b43f009852877e85ebc30aa0a6c86d...                     NaN   \n",
       "bd0b26d176d0a9c2039723f02048a7989e85586374ab8d9...                     NaN   \n",
       "3503894d630dc781ebd68989e8ce8f53c7a7a842c56c2a0...                     NaN   \n",
       "a1c93ebc516e6e3ed75d019327ed1a9bcbaa4cf553b6e41...                     NaN   \n",
       "3f8614e54615680691b87a25956125029d98bb441b052ee...                     NaN   \n",
       "\n",
       "                                                    pti  \n",
       "id                                                       \n",
       "adf5219e4cb985352184eb7fa597737e4a9777f7354f7a8...  NaN  \n",
       "0a0f130443af4c6597bb074942970eaddeb125d398e2cca...  NaN  \n",
       "4ba9c6a38b650ee06b8b88a48621bd363cdf611e63400c6...  NaN  \n",
       "dae3a344292e07d4b8935a453c37aef01303f21b2f37ccb...  NaN  \n",
       "8af2ae2462d012e4d85aa687a16a4f5fb64525928235da4...  NaN  \n",
       "...                                                 ...  \n",
       "1011850581661f8b9b43f009852877e85ebc30aa0a6c86d...  NaN  \n",
       "bd0b26d176d0a9c2039723f02048a7989e85586374ab8d9...  NaN  \n",
       "3503894d630dc781ebd68989e8ce8f53c7a7a842c56c2a0...  NaN  \n",
       "a1c93ebc516e6e3ed75d019327ed1a9bcbaa4cf553b6e41...  NaN  \n",
       "3f8614e54615680691b87a25956125029d98bb441b052ee...  NaN  \n",
       "\n",
       "[972723 rows x 2502 columns]"
      ]
     },
     "execution_count": 10,
     "metadata": {},
     "output_type": "execute_result"
    }
   ],
   "source": [
    "tu_2018Q3"
   ]
  },
  {
   "cell_type": "code",
   "execution_count": 13,
   "metadata": {},
   "outputs": [
    {
     "data": {
      "text/html": [
       "<div>\n",
       "<style scoped>\n",
       "    .dataframe tbody tr th:only-of-type {\n",
       "        vertical-align: middle;\n",
       "    }\n",
       "\n",
       "    .dataframe tbody tr th {\n",
       "        vertical-align: top;\n",
       "    }\n",
       "\n",
       "    .dataframe thead th {\n",
       "        text-align: right;\n",
       "    }\n",
       "</style>\n",
       "<table border=\"1\" class=\"dataframe\">\n",
       "  <thead>\n",
       "    <tr style=\"text-align: right;\">\n",
       "      <th></th>\n",
       "      <th>id</th>\n",
       "      <th>sequence_num_x</th>\n",
       "      <th>requested_amount</th>\n",
       "      <th>offered_interest_rate</th>\n",
       "      <th>offer_accepted</th>\n",
       "      <th>offer_date</th>\n",
       "      <th>revs101</th>\n",
       "      <th>revs102</th>\n",
       "      <th>revs103</th>\n",
       "      <th>revs104</th>\n",
       "      <th>...</th>\n",
       "      <th>is_purpose_4</th>\n",
       "      <th>is_purpose_10</th>\n",
       "      <th>is_purpose_11</th>\n",
       "      <th>is_purpose_12</th>\n",
       "      <th>zip</th>\n",
       "      <th>monthly_debt</th>\n",
       "      <th>pre_loan_dti</th>\n",
       "      <th>zero_int_pti</th>\n",
       "      <th>zero_int_post_loan_dti</th>\n",
       "      <th>pti</th>\n",
       "    </tr>\n",
       "  </thead>\n",
       "  <tbody>\n",
       "    <tr>\n",
       "      <th>0</th>\n",
       "      <td>94fe9530622e8302e12906e7a65f58d1e164bc0d05f514...</td>\n",
       "      <td>90e4b7a2dc13cb20f06723807c7a4bba4da57875ff2e51...</td>\n",
       "      <td>2500.0</td>\n",
       "      <td>11.97</td>\n",
       "      <td>False</td>\n",
       "      <td>2020-10-23</td>\n",
       "      <td>0</td>\n",
       "      <td>0</td>\n",
       "      <td>33</td>\n",
       "      <td>2</td>\n",
       "      <td>...</td>\n",
       "      <td>False</td>\n",
       "      <td>False</td>\n",
       "      <td>False</td>\n",
       "      <td>False</td>\n",
       "      <td>56449</td>\n",
       "      <td>207.0</td>\n",
       "      <td>NaN</td>\n",
       "      <td>NaN</td>\n",
       "      <td>NaN</td>\n",
       "      <td>NaN</td>\n",
       "    </tr>\n",
       "    <tr>\n",
       "      <th>1</th>\n",
       "      <td>423a4e06ace6d70156cb1d3f6f8c2e327788cf00df43f5...</td>\n",
       "      <td>31ec3034b1c29c120fad2776bec57c21d42a4b1b0e6cf5...</td>\n",
       "      <td>3500.0</td>\n",
       "      <td>24.37</td>\n",
       "      <td>False</td>\n",
       "      <td>2019-07-12</td>\n",
       "      <td>684</td>\n",
       "      <td>420</td>\n",
       "      <td>1408</td>\n",
       "      <td>1043</td>\n",
       "      <td>...</td>\n",
       "      <td>False</td>\n",
       "      <td>False</td>\n",
       "      <td>False</td>\n",
       "      <td>False</td>\n",
       "      <td>54301</td>\n",
       "      <td>961.0</td>\n",
       "      <td>NaN</td>\n",
       "      <td>NaN</td>\n",
       "      <td>NaN</td>\n",
       "      <td>NaN</td>\n",
       "    </tr>\n",
       "    <tr>\n",
       "      <th>2</th>\n",
       "      <td>ae1e5ef03b7ea096d65d46ffc334273a3234fc0e414a4c...</td>\n",
       "      <td>9707b1364bcd918a919db139c3d7402c85aee1eb3dfb9d...</td>\n",
       "      <td>3026.0</td>\n",
       "      <td>30.32</td>\n",
       "      <td>False</td>\n",
       "      <td>2018-08-24</td>\n",
       "      <td>112</td>\n",
       "      <td>232</td>\n",
       "      <td>148</td>\n",
       "      <td>93</td>\n",
       "      <td>...</td>\n",
       "      <td>False</td>\n",
       "      <td>False</td>\n",
       "      <td>False</td>\n",
       "      <td>False</td>\n",
       "      <td>96761</td>\n",
       "      <td>731.0</td>\n",
       "      <td>NaN</td>\n",
       "      <td>NaN</td>\n",
       "      <td>NaN</td>\n",
       "      <td>NaN</td>\n",
       "    </tr>\n",
       "    <tr>\n",
       "      <th>3</th>\n",
       "      <td>3fc1e327a430b8895508e697c901f5da85eee7f5db19f3...</td>\n",
       "      <td>509c8db99695731191f5c2fc20b4e664d7aa108530ba65...</td>\n",
       "      <td>3000.0</td>\n",
       "      <td>12.94</td>\n",
       "      <td>True</td>\n",
       "      <td>2019-09-16</td>\n",
       "      <td>384</td>\n",
       "      <td>267</td>\n",
       "      <td>321</td>\n",
       "      <td>185</td>\n",
       "      <td>...</td>\n",
       "      <td>False</td>\n",
       "      <td>False</td>\n",
       "      <td>False</td>\n",
       "      <td>False</td>\n",
       "      <td>92395</td>\n",
       "      <td>1410.0</td>\n",
       "      <td>NaN</td>\n",
       "      <td>NaN</td>\n",
       "      <td>NaN</td>\n",
       "      <td>NaN</td>\n",
       "    </tr>\n",
       "    <tr>\n",
       "      <th>4</th>\n",
       "      <td>96a39f00dc2322233b9e080114030898ada13a904ccc29...</td>\n",
       "      <td>2ba1b1a11ec63ca7d0f8cc0cd5527d591dfea6716f54b2...</td>\n",
       "      <td>5000.0</td>\n",
       "      <td>16.89</td>\n",
       "      <td>False</td>\n",
       "      <td>2019-11-12</td>\n",
       "      <td>198</td>\n",
       "      <td>149</td>\n",
       "      <td>381</td>\n",
       "      <td>264</td>\n",
       "      <td>...</td>\n",
       "      <td>False</td>\n",
       "      <td>False</td>\n",
       "      <td>False</td>\n",
       "      <td>False</td>\n",
       "      <td>24141</td>\n",
       "      <td>142.0</td>\n",
       "      <td>NaN</td>\n",
       "      <td>NaN</td>\n",
       "      <td>NaN</td>\n",
       "      <td>NaN</td>\n",
       "    </tr>\n",
       "    <tr>\n",
       "      <th>...</th>\n",
       "      <td>...</td>\n",
       "      <td>...</td>\n",
       "      <td>...</td>\n",
       "      <td>...</td>\n",
       "      <td>...</td>\n",
       "      <td>...</td>\n",
       "      <td>...</td>\n",
       "      <td>...</td>\n",
       "      <td>...</td>\n",
       "      <td>...</td>\n",
       "      <td>...</td>\n",
       "      <td>...</td>\n",
       "      <td>...</td>\n",
       "      <td>...</td>\n",
       "      <td>...</td>\n",
       "      <td>...</td>\n",
       "      <td>...</td>\n",
       "      <td>...</td>\n",
       "      <td>...</td>\n",
       "      <td>...</td>\n",
       "      <td>...</td>\n",
       "    </tr>\n",
       "    <tr>\n",
       "      <th>8787</th>\n",
       "      <td>b36316639cf74143631f7b902473b2be49c3d39d756225...</td>\n",
       "      <td>d565c00a82307107dcefc910f9d1ec3422e46deaae7ff4...</td>\n",
       "      <td>5359.0</td>\n",
       "      <td>28.97</td>\n",
       "      <td>False</td>\n",
       "      <td>2018-06-28</td>\n",
       "      <td>53</td>\n",
       "      <td>181</td>\n",
       "      <td>221</td>\n",
       "      <td>32</td>\n",
       "      <td>...</td>\n",
       "      <td>False</td>\n",
       "      <td>False</td>\n",
       "      <td>False</td>\n",
       "      <td>False</td>\n",
       "      <td>28083</td>\n",
       "      <td>223.0</td>\n",
       "      <td>NaN</td>\n",
       "      <td>NaN</td>\n",
       "      <td>NaN</td>\n",
       "      <td>NaN</td>\n",
       "    </tr>\n",
       "    <tr>\n",
       "      <th>8788</th>\n",
       "      <td>7445ece571260380e4c2b0ec37fef385276ac419657788...</td>\n",
       "      <td>a2275aae2ff36af117d6fa30e94342635cc06e92e05451...</td>\n",
       "      <td>7000.0</td>\n",
       "      <td>29.95</td>\n",
       "      <td>False</td>\n",
       "      <td>2018-11-19</td>\n",
       "      <td>702</td>\n",
       "      <td>106</td>\n",
       "      <td>164</td>\n",
       "      <td>154</td>\n",
       "      <td>...</td>\n",
       "      <td>False</td>\n",
       "      <td>False</td>\n",
       "      <td>False</td>\n",
       "      <td>False</td>\n",
       "      <td>30135</td>\n",
       "      <td>768.0</td>\n",
       "      <td>0.102400</td>\n",
       "      <td>0.025926</td>\n",
       "      <td>0.128326</td>\n",
       "      <td>0.003300</td>\n",
       "    </tr>\n",
       "    <tr>\n",
       "      <th>8789</th>\n",
       "      <td>70c958e196d96d7b4671077d82f0ec74da251fb13e461b...</td>\n",
       "      <td>f401604e814d3ac07b35ee88b05dde11c9a0bf12554dc1...</td>\n",
       "      <td>10000.0</td>\n",
       "      <td>15.96</td>\n",
       "      <td>False</td>\n",
       "      <td>2018-10-22</td>\n",
       "      <td>3848</td>\n",
       "      <td>815</td>\n",
       "      <td>2150</td>\n",
       "      <td>2302</td>\n",
       "      <td>...</td>\n",
       "      <td>False</td>\n",
       "      <td>False</td>\n",
       "      <td>False</td>\n",
       "      <td>False</td>\n",
       "      <td>91750</td>\n",
       "      <td>688.0</td>\n",
       "      <td>NaN</td>\n",
       "      <td>NaN</td>\n",
       "      <td>NaN</td>\n",
       "      <td>NaN</td>\n",
       "    </tr>\n",
       "    <tr>\n",
       "      <th>8790</th>\n",
       "      <td>5aa0e11b30f1f00b7001cd0c36e5617fbda02f578b8b32...</td>\n",
       "      <td>c02c842e2b47b773a4188edaf228eff05a2ed9500dc89b...</td>\n",
       "      <td>40000.0</td>\n",
       "      <td>7.83</td>\n",
       "      <td>False</td>\n",
       "      <td>2020-09-30</td>\n",
       "      <td>2813</td>\n",
       "      <td>6078</td>\n",
       "      <td>1666</td>\n",
       "      <td>2278</td>\n",
       "      <td>...</td>\n",
       "      <td>False</td>\n",
       "      <td>False</td>\n",
       "      <td>False</td>\n",
       "      <td>False</td>\n",
       "      <td>20625</td>\n",
       "      <td>2849.0</td>\n",
       "      <td>0.181851</td>\n",
       "      <td>0.042553</td>\n",
       "      <td>0.224404</td>\n",
       "      <td>0.004298</td>\n",
       "    </tr>\n",
       "    <tr>\n",
       "      <th>8791</th>\n",
       "      <td>d931c690a92894c4249dace9f046195c7ae106cbadf3bd...</td>\n",
       "      <td>4cff3b2357d594d0c755224848830b7e66668459024084...</td>\n",
       "      <td>30000.0</td>\n",
       "      <td>6.10</td>\n",
       "      <td>False</td>\n",
       "      <td>2019-05-24</td>\n",
       "      <td>1326</td>\n",
       "      <td>1763</td>\n",
       "      <td>6646</td>\n",
       "      <td>997</td>\n",
       "      <td>...</td>\n",
       "      <td>False</td>\n",
       "      <td>False</td>\n",
       "      <td>False</td>\n",
       "      <td>False</td>\n",
       "      <td>73069</td>\n",
       "      <td>1257.0</td>\n",
       "      <td>0.143657</td>\n",
       "      <td>0.095238</td>\n",
       "      <td>0.238895</td>\n",
       "      <td>0.008705</td>\n",
       "    </tr>\n",
       "  </tbody>\n",
       "</table>\n",
       "<p>8792 rows × 2508 columns</p>\n",
       "</div>"
      ],
      "text/plain": [
       "                                                     id  \\\n",
       "0     94fe9530622e8302e12906e7a65f58d1e164bc0d05f514...   \n",
       "1     423a4e06ace6d70156cb1d3f6f8c2e327788cf00df43f5...   \n",
       "2     ae1e5ef03b7ea096d65d46ffc334273a3234fc0e414a4c...   \n",
       "3     3fc1e327a430b8895508e697c901f5da85eee7f5db19f3...   \n",
       "4     96a39f00dc2322233b9e080114030898ada13a904ccc29...   \n",
       "...                                                 ...   \n",
       "8787  b36316639cf74143631f7b902473b2be49c3d39d756225...   \n",
       "8788  7445ece571260380e4c2b0ec37fef385276ac419657788...   \n",
       "8789  70c958e196d96d7b4671077d82f0ec74da251fb13e461b...   \n",
       "8790  5aa0e11b30f1f00b7001cd0c36e5617fbda02f578b8b32...   \n",
       "8791  d931c690a92894c4249dace9f046195c7ae106cbadf3bd...   \n",
       "\n",
       "                                         sequence_num_x  requested_amount  \\\n",
       "0     90e4b7a2dc13cb20f06723807c7a4bba4da57875ff2e51...            2500.0   \n",
       "1     31ec3034b1c29c120fad2776bec57c21d42a4b1b0e6cf5...            3500.0   \n",
       "2     9707b1364bcd918a919db139c3d7402c85aee1eb3dfb9d...            3026.0   \n",
       "3     509c8db99695731191f5c2fc20b4e664d7aa108530ba65...            3000.0   \n",
       "4     2ba1b1a11ec63ca7d0f8cc0cd5527d591dfea6716f54b2...            5000.0   \n",
       "...                                                 ...               ...   \n",
       "8787  d565c00a82307107dcefc910f9d1ec3422e46deaae7ff4...            5359.0   \n",
       "8788  a2275aae2ff36af117d6fa30e94342635cc06e92e05451...            7000.0   \n",
       "8789  f401604e814d3ac07b35ee88b05dde11c9a0bf12554dc1...           10000.0   \n",
       "8790  c02c842e2b47b773a4188edaf228eff05a2ed9500dc89b...           40000.0   \n",
       "8791  4cff3b2357d594d0c755224848830b7e66668459024084...           30000.0   \n",
       "\n",
       "      offered_interest_rate  offer_accepted  offer_date  revs101  revs102  \\\n",
       "0                     11.97           False  2020-10-23        0        0   \n",
       "1                     24.37           False  2019-07-12      684      420   \n",
       "2                     30.32           False  2018-08-24      112      232   \n",
       "3                     12.94            True  2019-09-16      384      267   \n",
       "4                     16.89           False  2019-11-12      198      149   \n",
       "...                     ...             ...         ...      ...      ...   \n",
       "8787                  28.97           False  2018-06-28       53      181   \n",
       "8788                  29.95           False  2018-11-19      702      106   \n",
       "8789                  15.96           False  2018-10-22     3848      815   \n",
       "8790                   7.83           False  2020-09-30     2813     6078   \n",
       "8791                   6.10           False  2019-05-24     1326     1763   \n",
       "\n",
       "      revs103  revs104  ...  is_purpose_4  is_purpose_10  is_purpose_11  \\\n",
       "0          33        2  ...         False          False          False   \n",
       "1        1408     1043  ...         False          False          False   \n",
       "2         148       93  ...         False          False          False   \n",
       "3         321      185  ...         False          False          False   \n",
       "4         381      264  ...         False          False          False   \n",
       "...       ...      ...  ...           ...            ...            ...   \n",
       "8787      221       32  ...         False          False          False   \n",
       "8788      164      154  ...         False          False          False   \n",
       "8789     2150     2302  ...         False          False          False   \n",
       "8790     1666     2278  ...         False          False          False   \n",
       "8791     6646      997  ...         False          False          False   \n",
       "\n",
       "      is_purpose_12    zip  monthly_debt  pre_loan_dti  zero_int_pti  \\\n",
       "0             False  56449         207.0           NaN           NaN   \n",
       "1             False  54301         961.0           NaN           NaN   \n",
       "2             False  96761         731.0           NaN           NaN   \n",
       "3             False  92395        1410.0           NaN           NaN   \n",
       "4             False  24141         142.0           NaN           NaN   \n",
       "...             ...    ...           ...           ...           ...   \n",
       "8787          False  28083         223.0           NaN           NaN   \n",
       "8788          False  30135         768.0      0.102400      0.025926   \n",
       "8789          False  91750         688.0           NaN           NaN   \n",
       "8790          False  20625        2849.0      0.181851      0.042553   \n",
       "8791          False  73069        1257.0      0.143657      0.095238   \n",
       "\n",
       "      zero_int_post_loan_dti       pti  \n",
       "0                        NaN       NaN  \n",
       "1                        NaN       NaN  \n",
       "2                        NaN       NaN  \n",
       "3                        NaN       NaN  \n",
       "4                        NaN       NaN  \n",
       "...                      ...       ...  \n",
       "8787                     NaN       NaN  \n",
       "8788                0.128326  0.003300  \n",
       "8789                     NaN       NaN  \n",
       "8790                0.224404  0.004298  \n",
       "8791                0.238895  0.008705  \n",
       "\n",
       "[8792 rows x 2508 columns]"
      ]
     },
     "execution_count": 13,
     "metadata": {},
     "output_type": "execute_result"
    }
   ],
   "source": [
    "raleigh_table_plus = raleigh_table.merge(tu_2018Q3, how='left', on='id')\n",
    "raleigh_table_plus"
   ]
  },
  {
   "cell_type": "code",
   "execution_count": 14,
   "metadata": {},
   "outputs": [
    {
     "data": {
      "text/html": [
       "<div>\n",
       "<style scoped>\n",
       "    .dataframe tbody tr th:only-of-type {\n",
       "        vertical-align: middle;\n",
       "    }\n",
       "\n",
       "    .dataframe tbody tr th {\n",
       "        vertical-align: top;\n",
       "    }\n",
       "\n",
       "    .dataframe thead th {\n",
       "        text-align: right;\n",
       "    }\n",
       "</style>\n",
       "<table border=\"1\" class=\"dataframe\">\n",
       "  <thead>\n",
       "    <tr style=\"text-align: right;\">\n",
       "      <th></th>\n",
       "      <th>id</th>\n",
       "      <th>sequence_num_x</th>\n",
       "      <th>requested_amount</th>\n",
       "      <th>offered_interest_rate</th>\n",
       "      <th>offer_accepted</th>\n",
       "      <th>offer_date</th>\n",
       "      <th>revs101</th>\n",
       "      <th>revs102</th>\n",
       "      <th>revs103</th>\n",
       "      <th>revs104</th>\n",
       "      <th>...</th>\n",
       "      <th>is_purpose_4</th>\n",
       "      <th>is_purpose_10</th>\n",
       "      <th>is_purpose_11</th>\n",
       "      <th>is_purpose_12</th>\n",
       "      <th>zip</th>\n",
       "      <th>monthly_debt</th>\n",
       "      <th>pre_loan_dti</th>\n",
       "      <th>zero_int_pti</th>\n",
       "      <th>zero_int_post_loan_dti</th>\n",
       "      <th>pti</th>\n",
       "    </tr>\n",
       "  </thead>\n",
       "  <tbody>\n",
       "    <tr>\n",
       "      <th>0</th>\n",
       "      <td>55ede7a145fc312ed7206bfde6b1597f995a9e7cdf42e6...</td>\n",
       "      <td>3464754c8bef531e7e90f0d83cd4df04ea2d7e24ba75cd...</td>\n",
       "      <td>5300.0</td>\n",
       "      <td>32.05</td>\n",
       "      <td>False</td>\n",
       "      <td>2020-04-24</td>\n",
       "      <td>36</td>\n",
       "      <td>0</td>\n",
       "      <td>0</td>\n",
       "      <td>56</td>\n",
       "      <td>...</td>\n",
       "      <td>False</td>\n",
       "      <td>False</td>\n",
       "      <td>False</td>\n",
       "      <td>False</td>\n",
       "      <td>23224</td>\n",
       "      <td>158.0</td>\n",
       "      <td>NaN</td>\n",
       "      <td>NaN</td>\n",
       "      <td>NaN</td>\n",
       "      <td>NaN</td>\n",
       "    </tr>\n",
       "    <tr>\n",
       "      <th>1</th>\n",
       "      <td>c3a63cef599c03c7af1258fb58bf2164ae2b57699ece7e...</td>\n",
       "      <td>ed16849cf72e00d9f0593604ce7dc5c754435d1c696f2b...</td>\n",
       "      <td>14000.0</td>\n",
       "      <td>15.26</td>\n",
       "      <td>False</td>\n",
       "      <td>2019-04-29</td>\n",
       "      <td>491</td>\n",
       "      <td>1243</td>\n",
       "      <td>971</td>\n",
       "      <td>369</td>\n",
       "      <td>...</td>\n",
       "      <td>False</td>\n",
       "      <td>False</td>\n",
       "      <td>False</td>\n",
       "      <td>False</td>\n",
       "      <td>76001</td>\n",
       "      <td>2054.0</td>\n",
       "      <td>NaN</td>\n",
       "      <td>NaN</td>\n",
       "      <td>NaN</td>\n",
       "      <td>NaN</td>\n",
       "    </tr>\n",
       "    <tr>\n",
       "      <th>2</th>\n",
       "      <td>1f91c6b7b97c43ad691241faf61fb6634ed298eb7de8f9...</td>\n",
       "      <td>e8ff4579419d35c833ac8d5dc726ba44a04a054a82e203...</td>\n",
       "      <td>10500.0</td>\n",
       "      <td>5.49</td>\n",
       "      <td>False</td>\n",
       "      <td>2020-04-29</td>\n",
       "      <td>448</td>\n",
       "      <td>396</td>\n",
       "      <td>66</td>\n",
       "      <td>8983</td>\n",
       "      <td>...</td>\n",
       "      <td>False</td>\n",
       "      <td>False</td>\n",
       "      <td>False</td>\n",
       "      <td>False</td>\n",
       "      <td>12189</td>\n",
       "      <td>1077.0</td>\n",
       "      <td>NaN</td>\n",
       "      <td>NaN</td>\n",
       "      <td>NaN</td>\n",
       "      <td>NaN</td>\n",
       "    </tr>\n",
       "    <tr>\n",
       "      <th>3</th>\n",
       "      <td>7d4cae1e2bba10256b5f115cd797cf1d255d4aacab9d17...</td>\n",
       "      <td>8efa42707a799ef939ec9b7f2f6220e6e5f9aefdb306af...</td>\n",
       "      <td>19500.0</td>\n",
       "      <td>11.10</td>\n",
       "      <td>True</td>\n",
       "      <td>2020-08-04</td>\n",
       "      <td>0</td>\n",
       "      <td>844</td>\n",
       "      <td>371</td>\n",
       "      <td>0</td>\n",
       "      <td>...</td>\n",
       "      <td>False</td>\n",
       "      <td>False</td>\n",
       "      <td>False</td>\n",
       "      <td>False</td>\n",
       "      <td>30014</td>\n",
       "      <td>817.0</td>\n",
       "      <td>NaN</td>\n",
       "      <td>NaN</td>\n",
       "      <td>NaN</td>\n",
       "      <td>NaN</td>\n",
       "    </tr>\n",
       "    <tr>\n",
       "      <th>4</th>\n",
       "      <td>f5aa5c275def34cc3e6b533d41a8b706558babe30f35e2...</td>\n",
       "      <td>90cd5ac4b02cc83a48b924795e2fdf87e60ebbdf63065c...</td>\n",
       "      <td>30000.0</td>\n",
       "      <td>11.61</td>\n",
       "      <td>True</td>\n",
       "      <td>2018-05-04</td>\n",
       "      <td>467</td>\n",
       "      <td>216</td>\n",
       "      <td>267</td>\n",
       "      <td>2366</td>\n",
       "      <td>...</td>\n",
       "      <td>False</td>\n",
       "      <td>False</td>\n",
       "      <td>False</td>\n",
       "      <td>False</td>\n",
       "      <td>07003</td>\n",
       "      <td>1486.0</td>\n",
       "      <td>NaN</td>\n",
       "      <td>NaN</td>\n",
       "      <td>NaN</td>\n",
       "      <td>NaN</td>\n",
       "    </tr>\n",
       "    <tr>\n",
       "      <th>...</th>\n",
       "      <td>...</td>\n",
       "      <td>...</td>\n",
       "      <td>...</td>\n",
       "      <td>...</td>\n",
       "      <td>...</td>\n",
       "      <td>...</td>\n",
       "      <td>...</td>\n",
       "      <td>...</td>\n",
       "      <td>...</td>\n",
       "      <td>...</td>\n",
       "      <td>...</td>\n",
       "      <td>...</td>\n",
       "      <td>...</td>\n",
       "      <td>...</td>\n",
       "      <td>...</td>\n",
       "      <td>...</td>\n",
       "      <td>...</td>\n",
       "      <td>...</td>\n",
       "      <td>...</td>\n",
       "      <td>...</td>\n",
       "      <td>...</td>\n",
       "    </tr>\n",
       "    <tr>\n",
       "      <th>11315</th>\n",
       "      <td>ed51c75abf3bb52f4b767eec33c29f4d13ac67e2bcbc74...</td>\n",
       "      <td>8c4f911169f329c8aa617e7a6f3e52f74b95d2c79d7dff...</td>\n",
       "      <td>10000.0</td>\n",
       "      <td>5.72</td>\n",
       "      <td>False</td>\n",
       "      <td>2018-02-21</td>\n",
       "      <td>1662</td>\n",
       "      <td>2142</td>\n",
       "      <td>1784</td>\n",
       "      <td>934</td>\n",
       "      <td>...</td>\n",
       "      <td>False</td>\n",
       "      <td>False</td>\n",
       "      <td>False</td>\n",
       "      <td>False</td>\n",
       "      <td>35180</td>\n",
       "      <td>1660.0</td>\n",
       "      <td>NaN</td>\n",
       "      <td>NaN</td>\n",
       "      <td>NaN</td>\n",
       "      <td>NaN</td>\n",
       "    </tr>\n",
       "    <tr>\n",
       "      <th>11316</th>\n",
       "      <td>40defd025b77e8e32716eeca1d0c28a773156104a460cf...</td>\n",
       "      <td>3fc3303fa2a98aca0deb60ca8167368cb39a31f8ecfc8a...</td>\n",
       "      <td>6000.0</td>\n",
       "      <td>30.69</td>\n",
       "      <td>False</td>\n",
       "      <td>2018-10-12</td>\n",
       "      <td>353</td>\n",
       "      <td>665</td>\n",
       "      <td>334</td>\n",
       "      <td>247</td>\n",
       "      <td>...</td>\n",
       "      <td>False</td>\n",
       "      <td>False</td>\n",
       "      <td>False</td>\n",
       "      <td>False</td>\n",
       "      <td>85028</td>\n",
       "      <td>583.0</td>\n",
       "      <td>NaN</td>\n",
       "      <td>NaN</td>\n",
       "      <td>NaN</td>\n",
       "      <td>NaN</td>\n",
       "    </tr>\n",
       "    <tr>\n",
       "      <th>11317</th>\n",
       "      <td>d1cb1f5ad81a1dce6132060e1cdb070b71d67eb22fac15...</td>\n",
       "      <td>4ce19de790773a4abafeda01d642e737a2fb472173eb5e...</td>\n",
       "      <td>35123.0</td>\n",
       "      <td>6.79</td>\n",
       "      <td>False</td>\n",
       "      <td>2018-05-21</td>\n",
       "      <td>4638</td>\n",
       "      <td>8366</td>\n",
       "      <td>2001</td>\n",
       "      <td>1169</td>\n",
       "      <td>...</td>\n",
       "      <td>False</td>\n",
       "      <td>False</td>\n",
       "      <td>False</td>\n",
       "      <td>False</td>\n",
       "      <td>32539</td>\n",
       "      <td>1492.0</td>\n",
       "      <td>NaN</td>\n",
       "      <td>NaN</td>\n",
       "      <td>NaN</td>\n",
       "      <td>NaN</td>\n",
       "    </tr>\n",
       "    <tr>\n",
       "      <th>11318</th>\n",
       "      <td>1d2ed99debe3048dc9eefe2590f0b68faf38e2a1d7e18c...</td>\n",
       "      <td>e3a30e7a0816e283a7e519257f2de38be4dab156374804...</td>\n",
       "      <td>12000.0</td>\n",
       "      <td>16.80</td>\n",
       "      <td>False</td>\n",
       "      <td>2018-08-10</td>\n",
       "      <td>296</td>\n",
       "      <td>292</td>\n",
       "      <td>206</td>\n",
       "      <td>289</td>\n",
       "      <td>...</td>\n",
       "      <td>False</td>\n",
       "      <td>False</td>\n",
       "      <td>False</td>\n",
       "      <td>False</td>\n",
       "      <td>08045</td>\n",
       "      <td>609.0</td>\n",
       "      <td>NaN</td>\n",
       "      <td>NaN</td>\n",
       "      <td>NaN</td>\n",
       "      <td>NaN</td>\n",
       "    </tr>\n",
       "    <tr>\n",
       "      <th>11319</th>\n",
       "      <td>b9dd35866b66abf427fbb788fc3f654b787e459e7305de...</td>\n",
       "      <td>8e5c58827138f56c89ce1e0d48c4065a6751658ea2a646...</td>\n",
       "      <td>4500.0</td>\n",
       "      <td>8.95</td>\n",
       "      <td>False</td>\n",
       "      <td>2020-05-07</td>\n",
       "      <td>5</td>\n",
       "      <td>5</td>\n",
       "      <td>47</td>\n",
       "      <td>34</td>\n",
       "      <td>...</td>\n",
       "      <td>False</td>\n",
       "      <td>False</td>\n",
       "      <td>False</td>\n",
       "      <td>False</td>\n",
       "      <td>10454</td>\n",
       "      <td>147.0</td>\n",
       "      <td>NaN</td>\n",
       "      <td>NaN</td>\n",
       "      <td>NaN</td>\n",
       "      <td>NaN</td>\n",
       "    </tr>\n",
       "  </tbody>\n",
       "</table>\n",
       "<p>11320 rows × 2508 columns</p>\n",
       "</div>"
      ],
      "text/plain": [
       "                                                      id  \\\n",
       "0      55ede7a145fc312ed7206bfde6b1597f995a9e7cdf42e6...   \n",
       "1      c3a63cef599c03c7af1258fb58bf2164ae2b57699ece7e...   \n",
       "2      1f91c6b7b97c43ad691241faf61fb6634ed298eb7de8f9...   \n",
       "3      7d4cae1e2bba10256b5f115cd797cf1d255d4aacab9d17...   \n",
       "4      f5aa5c275def34cc3e6b533d41a8b706558babe30f35e2...   \n",
       "...                                                  ...   \n",
       "11315  ed51c75abf3bb52f4b767eec33c29f4d13ac67e2bcbc74...   \n",
       "11316  40defd025b77e8e32716eeca1d0c28a773156104a460cf...   \n",
       "11317  d1cb1f5ad81a1dce6132060e1cdb070b71d67eb22fac15...   \n",
       "11318  1d2ed99debe3048dc9eefe2590f0b68faf38e2a1d7e18c...   \n",
       "11319  b9dd35866b66abf427fbb788fc3f654b787e459e7305de...   \n",
       "\n",
       "                                          sequence_num_x  requested_amount  \\\n",
       "0      3464754c8bef531e7e90f0d83cd4df04ea2d7e24ba75cd...            5300.0   \n",
       "1      ed16849cf72e00d9f0593604ce7dc5c754435d1c696f2b...           14000.0   \n",
       "2      e8ff4579419d35c833ac8d5dc726ba44a04a054a82e203...           10500.0   \n",
       "3      8efa42707a799ef939ec9b7f2f6220e6e5f9aefdb306af...           19500.0   \n",
       "4      90cd5ac4b02cc83a48b924795e2fdf87e60ebbdf63065c...           30000.0   \n",
       "...                                                  ...               ...   \n",
       "11315  8c4f911169f329c8aa617e7a6f3e52f74b95d2c79d7dff...           10000.0   \n",
       "11316  3fc3303fa2a98aca0deb60ca8167368cb39a31f8ecfc8a...            6000.0   \n",
       "11317  4ce19de790773a4abafeda01d642e737a2fb472173eb5e...           35123.0   \n",
       "11318  e3a30e7a0816e283a7e519257f2de38be4dab156374804...           12000.0   \n",
       "11319  8e5c58827138f56c89ce1e0d48c4065a6751658ea2a646...            4500.0   \n",
       "\n",
       "       offered_interest_rate  offer_accepted  offer_date  revs101  revs102  \\\n",
       "0                      32.05           False  2020-04-24       36        0   \n",
       "1                      15.26           False  2019-04-29      491     1243   \n",
       "2                       5.49           False  2020-04-29      448      396   \n",
       "3                      11.10            True  2020-08-04        0      844   \n",
       "4                      11.61            True  2018-05-04      467      216   \n",
       "...                      ...             ...         ...      ...      ...   \n",
       "11315                   5.72           False  2018-02-21     1662     2142   \n",
       "11316                  30.69           False  2018-10-12      353      665   \n",
       "11317                   6.79           False  2018-05-21     4638     8366   \n",
       "11318                  16.80           False  2018-08-10      296      292   \n",
       "11319                   8.95           False  2020-05-07        5        5   \n",
       "\n",
       "       revs103  revs104  ...  is_purpose_4  is_purpose_10  is_purpose_11  \\\n",
       "0            0       56  ...         False          False          False   \n",
       "1          971      369  ...         False          False          False   \n",
       "2           66     8983  ...         False          False          False   \n",
       "3          371        0  ...         False          False          False   \n",
       "4          267     2366  ...         False          False          False   \n",
       "...        ...      ...  ...           ...            ...            ...   \n",
       "11315     1784      934  ...         False          False          False   \n",
       "11316      334      247  ...         False          False          False   \n",
       "11317     2001     1169  ...         False          False          False   \n",
       "11318      206      289  ...         False          False          False   \n",
       "11319       47       34  ...         False          False          False   \n",
       "\n",
       "       is_purpose_12    zip  monthly_debt  pre_loan_dti  zero_int_pti  \\\n",
       "0              False  23224         158.0           NaN           NaN   \n",
       "1              False  76001        2054.0           NaN           NaN   \n",
       "2              False  12189        1077.0           NaN           NaN   \n",
       "3              False  30014         817.0           NaN           NaN   \n",
       "4              False  07003        1486.0           NaN           NaN   \n",
       "...              ...    ...           ...           ...           ...   \n",
       "11315          False  35180        1660.0           NaN           NaN   \n",
       "11316          False  85028         583.0           NaN           NaN   \n",
       "11317          False  32539        1492.0           NaN           NaN   \n",
       "11318          False  08045         609.0           NaN           NaN   \n",
       "11319          False  10454         147.0           NaN           NaN   \n",
       "\n",
       "       zero_int_post_loan_dti  pti  \n",
       "0                         NaN  NaN  \n",
       "1                         NaN  NaN  \n",
       "2                         NaN  NaN  \n",
       "3                         NaN  NaN  \n",
       "4                         NaN  NaN  \n",
       "...                       ...  ...  \n",
       "11315                     NaN  NaN  \n",
       "11316                     NaN  NaN  \n",
       "11317                     NaN  NaN  \n",
       "11318                     NaN  NaN  \n",
       "11319                     NaN  NaN  \n",
       "\n",
       "[11320 rows x 2508 columns]"
      ]
     },
     "execution_count": 14,
     "metadata": {},
     "output_type": "execute_result"
    }
   ],
   "source": [
    "lubbock_table_plus = lubbock_table.merge(tu_2018Q3, how='left', on='id')\n",
    "lubbock_table_plus"
   ]
  },
  {
   "cell_type": "markdown",
   "metadata": {},
   "source": [
    "Make sure that the merge operation did not change the number of rows in either of the tables"
   ]
  },
  {
   "cell_type": "markdown",
   "metadata": {
    "tags": []
   },
   "source": [
    "# EDA "
   ]
  },
  {
   "cell_type": "markdown",
   "metadata": {},
   "source": [
    "To begin with, let's make sure that the general borrower population in Raleigh and Lubbock are similar. To do so, consider the features `credit_score`, `int_rate` and pick one-two more continuous features that seem important to you (look for ones whose name is meaningful). Compare the distributions of these features in Raleigh and in Lubbock by creating overlapping histograms. Make sure that your histograms are in `density=True` mode and that they are distributed over the same bins; otherwise, comparing them might be difficult."
   ]
  },
  {
   "cell_type": "code",
   "execution_count": null,
   "metadata": {},
   "outputs": [],
   "source": []
  },
  {
   "cell_type": "code",
   "execution_count": null,
   "metadata": {},
   "outputs": [],
   "source": []
  },
  {
   "cell_type": "code",
   "execution_count": null,
   "metadata": {},
   "outputs": [],
   "source": []
  },
  {
   "cell_type": "code",
   "execution_count": null,
   "metadata": {},
   "outputs": [],
   "source": []
  },
  {
   "cell_type": "code",
   "execution_count": null,
   "metadata": {},
   "outputs": [],
   "source": []
  },
  {
   "cell_type": "code",
   "execution_count": null,
   "metadata": {},
   "outputs": [],
   "source": []
  },
  {
   "cell_type": "markdown",
   "metadata": {},
   "source": [
    "As you probably noticed, some borrowers have credit score values of 0. This can't be true, because credit score ranges from 350 to 850. Fix this by replacing these values with np.nan. Recreate the histograms after doing so, to make sure that they distributions still look the same."
   ]
  },
  {
   "cell_type": "code",
   "execution_count": null,
   "metadata": {},
   "outputs": [],
   "source": []
  },
  {
   "cell_type": "code",
   "execution_count": null,
   "metadata": {},
   "outputs": [],
   "source": []
  },
  {
   "cell_type": "code",
   "execution_count": null,
   "metadata": {},
   "outputs": [],
   "source": []
  },
  {
   "cell_type": "markdown",
   "metadata": {},
   "source": [
    "Another method for comparing the distributions of two columns is by using a [q-q-plot](https://en.wikipedia.org/wiki/Q%E2%80%93Q_plot). Repeat the comparisons of the above 5 features by creating the corresponding q-q-plots. You can either use the `seaborn_qqplot` package or [statsmodels](https://www.statsmodels.org/dev/generated/statsmodels.graphics.gofplots.qqplot_2samples.html)'s implemetation, or write your own function that creates this plot. "
   ]
  },
  {
   "cell_type": "code",
   "execution_count": null,
   "metadata": {},
   "outputs": [],
   "source": []
  },
  {
   "cell_type": "code",
   "execution_count": null,
   "metadata": {},
   "outputs": [],
   "source": []
  },
  {
   "cell_type": "code",
   "execution_count": null,
   "metadata": {},
   "outputs": [],
   "source": []
  },
  {
   "cell_type": "code",
   "execution_count": null,
   "metadata": {},
   "outputs": [],
   "source": []
  },
  {
   "cell_type": "code",
   "execution_count": null,
   "metadata": {},
   "outputs": [],
   "source": []
  },
  {
   "cell_type": "markdown",
   "metadata": {},
   "source": [
    "<span style=\"color:teal\">It seems that, other than some outliers (very high or very low numbers) the distributions are similar.</span>"
   ]
  },
  {
   "cell_type": "markdown",
   "metadata": {},
   "source": [
    "This method is also commonly used for visually comparing an observed distribution with a theoretical one (e.g. checking whether the values of a given column are normally distributed). One implementation is the [statsmodels.graphics.gofplots.qqplot](https://www.statsmodels.org/stable/generated/statsmodels.graphics.gofplots.qqplot.html) package which allows you to compare a given array with various distributions. \n",
    "\n",
    "Use this package to compare the distribution of credit score and interest rate in both town with a normal distribution."
   ]
  },
  {
   "cell_type": "code",
   "execution_count": null,
   "metadata": {},
   "outputs": [],
   "source": []
  },
  {
   "cell_type": "code",
   "execution_count": null,
   "metadata": {},
   "outputs": [],
   "source": []
  },
  {
   "cell_type": "code",
   "execution_count": null,
   "metadata": {},
   "outputs": [],
   "source": []
  },
  {
   "cell_type": "markdown",
   "metadata": {},
   "source": [
    "<span style=\"color:teal\"> Both distributions seem to have a bad fit with a normal distribution, but credit score seems less bad</span>"
   ]
  },
  {
   "cell_type": "markdown",
   "metadata": {
    "tags": []
   },
   "source": [
    "## Comparing activated populations "
   ]
  },
  {
   "cell_type": "markdown",
   "metadata": {},
   "source": [
    "Redo the above comparisons only for borrowes in Raleigh and Lubbock which accepted their loan offers"
   ]
  },
  {
   "cell_type": "code",
   "execution_count": null,
   "metadata": {},
   "outputs": [],
   "source": []
  },
  {
   "cell_type": "code",
   "execution_count": null,
   "metadata": {},
   "outputs": [],
   "source": []
  },
  {
   "cell_type": "code",
   "execution_count": null,
   "metadata": {},
   "outputs": [],
   "source": []
  },
  {
   "cell_type": "code",
   "execution_count": null,
   "metadata": {},
   "outputs": [],
   "source": []
  },
  {
   "cell_type": "code",
   "execution_count": null,
   "metadata": {},
   "outputs": [],
   "source": []
  },
  {
   "cell_type": "markdown",
   "metadata": {},
   "source": [
    "So it seems that there are some differences between the two populations. Let's visualizes this using a KDE (kernel density estimation) smoothening. This is implemented (with Gaussian kernel), for example, in the [`seaborn.distplot`](https://seaborn.pydata.org/generated/seaborn.histplot.html) package, using the `kde=True` flag. Use this package to compare the distributions of `credit_score` and `int_rate` in the activated populations in Raleigh and Luboock. What do you observe?"
   ]
  },
  {
   "cell_type": "code",
   "execution_count": null,
   "metadata": {},
   "outputs": [],
   "source": []
  },
  {
   "cell_type": "code",
   "execution_count": null,
   "metadata": {},
   "outputs": [],
   "source": []
  },
  {
   "cell_type": "markdown",
   "metadata": {
    "tags": []
   },
   "source": [
    "## Checking goodness of fit of the two distributions "
   ]
  },
  {
   "cell_type": "markdown",
   "metadata": {},
   "source": [
    "The question of whether the two activated populations are drawn from the same borrower population can also be tested using the Kolmogorov-Smirnov test. Setting your confidence level at 5%, and using the [scipy.stats.ks_2samp](https://docs.scipy.org/doc/scipy/reference/generated/scipy.stats.ks_2samp.html) package, formulate and perform a two-sample Kolmogorov-Smirnov test to check if the activated populations in Raleigh and Lubbock differ in terms of credit score."
   ]
  },
  {
   "cell_type": "code",
   "execution_count": null,
   "metadata": {},
   "outputs": [],
   "source": []
  },
  {
   "cell_type": "code",
   "execution_count": null,
   "metadata": {},
   "outputs": [],
   "source": []
  },
  {
   "cell_type": "markdown",
   "metadata": {},
   "source": [
    "<span style=\"color:teal\">The null hypothesis of a two-sided KS test is that the two samples are drawn from the same distribution. Since our p-value is very small, we are able to say that the distribution of credit scores in raleigh and lubbock are different. </span>"
   ]
  },
  {
   "cell_type": "markdown",
   "metadata": {
    "tags": []
   },
   "source": [
    "## Soft clustering for detecting risk sub-populations"
   ]
  },
  {
   "cell_type": "markdown",
   "metadata": {},
   "source": [
    "As you may have noted, for both credit score and interest rate, the distribution of values in Raleigh and Lubbock goes from being unimodal, for the general population, to bimodal, for the activated population. This is a commonly observed phenomenon and there are many speculations about why this happens. One possibility, is that the distribution of values in the activated population is in fact a mixture of two distinct borrower populations (e.g. risky and non-risky)."
   ]
  },
  {
   "cell_type": "markdown",
   "metadata": {},
   "source": [
    "In this section we will use a Gaussian [mixture-model](https://en.wikipedia.org/wiki/Mixture_model) (GMM), which is a soft clustering model, in order to try to detect the existence of two borrower populations in among activated loans."
   ]
  },
  {
   "cell_type": "markdown",
   "metadata": {},
   "source": [
    "_Remark_: While credit score and offered interest rate are generally fair indicators of the risk of a loan, using them as markers for the risk of a loan is very simplistic and should not be done beyond exploratory analyses."
   ]
  },
  {
   "cell_type": "markdown",
   "metadata": {},
   "source": [
    "In fit to apply a mixture model to our data, we will use the [`sklearn.mixture.GaussianMixture`](https://scikit-learn.org/stable/modules/generated/sklearn.mixture.GaussianMixture.html) package. Import this package."
   ]
  },
  {
   "cell_type": "code",
   "execution_count": 40,
   "metadata": {
    "execution": {
     "iopub.execute_input": "2021-10-11T05:39:55.392163Z",
     "iopub.status.busy": "2021-10-11T05:39:55.391967Z",
     "iopub.status.idle": "2021-10-11T05:39:55.585950Z",
     "shell.execute_reply": "2021-10-11T05:39:55.584819Z",
     "shell.execute_reply.started": "2021-10-11T05:39:55.392140Z"
    },
    "tags": []
   },
   "outputs": [],
   "source": [
    "from sklearn.mixture import GaussianMixture"
   ]
  },
  {
   "cell_type": "markdown",
   "metadata": {},
   "source": [
    "Do the following:\n",
    "* Initiate an instance of `GaussianMixture`\n",
    "* Create the training dataset, which comprises of two columns of all credit scores and interest rates of **activated loans** in Lubbock **and** Raleigh, each row corresponding to a single loan\n",
    "* fit your `GaussianMixture` instance to this data to detect a 2-component mixture\n",
    "\n",
    "Refer to the packages [documentation](https://scikit-learn.org/stable/modules/generated/sklearn.mixture.GaussianMixture.html) if you run into any trouble."
   ]
  },
  {
   "cell_type": "code",
   "execution_count": null,
   "metadata": {},
   "outputs": [],
   "source": []
  },
  {
   "cell_type": "code",
   "execution_count": null,
   "metadata": {},
   "outputs": [],
   "source": []
  },
  {
   "cell_type": "code",
   "execution_count": null,
   "metadata": {},
   "outputs": [],
   "source": []
  },
  {
   "cell_type": "code",
   "execution_count": null,
   "metadata": {},
   "outputs": [],
   "source": []
  },
  {
   "cell_type": "markdown",
   "metadata": {},
   "source": [
    "Look at the center points of the two distributions you detected (using the packages `means_` attribute). Do the means of the distribution corroborate the hypothesis that the population correspond to different risk groups? (recall- higher risk borrowers tend to have lower credit scores and be offered higher interest rates)."
   ]
  },
  {
   "cell_type": "code",
   "execution_count": null,
   "metadata": {},
   "outputs": [],
   "source": []
  },
  {
   "cell_type": "markdown",
   "metadata": {},
   "source": [
    "<span style=\"color:teal\">The second cluster has heigher mean credit score and is offered (generally) lower interest rates. We can assume for the moment that it corresponds to a lower risk groups. </span>"
   ]
  },
  {
   "cell_type": "markdown",
   "metadata": {},
   "source": [
    "Use your `GaussianMixture` instance to classify the activated population in Raleigh into two joint credit score-interest rate distributions. Create a scatter plot describing the credit score and interest rate of **all** loan offers in Raleigh, in which non-activated loans are colored  in one color, and the point representing activated loans are colored according to the distribution they are drawn from.\n",
    "\n",
    "_Remark_: Since this plot would have a very large number of points, it might be a good idea to play with the values of `alpha` and `s`, so that the different groups would be more apparent."
   ]
  },
  {
   "cell_type": "code",
   "execution_count": null,
   "metadata": {},
   "outputs": [],
   "source": []
  },
  {
   "cell_type": "markdown",
   "metadata": {},
   "source": [
    "Create the same scatterplot for the Lubbock table. Can you detect any differences between the two plots visually?"
   ]
  },
  {
   "cell_type": "code",
   "execution_count": null,
   "metadata": {},
   "outputs": [],
   "source": []
  },
  {
   "cell_type": "markdown",
   "metadata": {},
   "source": [
    "\\* **Bonus** Create a function that adds some of the level sets of the underlying Gaussian distiburions to the scatterplots above. Recreate the scatter plots with level sets at 1,2,3 and 4 standard deviations from the mean."
   ]
  },
  {
   "cell_type": "code",
   "execution_count": null,
   "metadata": {},
   "outputs": [],
   "source": []
  },
  {
   "cell_type": "code",
   "execution_count": null,
   "metadata": {},
   "outputs": [],
   "source": []
  },
  {
   "cell_type": "code",
   "execution_count": null,
   "metadata": {},
   "outputs": [],
   "source": []
  },
  {
   "cell_type": "markdown",
   "metadata": {
    "tags": []
   },
   "source": [
    "# Infrernce from a regression model"
   ]
  },
  {
   "cell_type": "markdown",
   "metadata": {},
   "source": [
    "So far, our analysis of risk groups has been exploratory and did not include any computation of return or actual assesment of the risk of a group. Also, our partition of the data into two risk groups was partially based on credit scores, which are imperfect predictors of the risk of a loan. "
   ]
  },
  {
   "cell_type": "markdown",
   "metadata": {},
   "source": [
    "In this section, we will attempt a more analytic approach to classifying risk populations. Before starting our analysis, we should decide on a criterion for a sub-population to be riskier than another. Throughout this section, we will use the sub-population's portfolio's yield as this criterion; that is- we'll consider one sub-population as riskier than another if the former's portfolio has a significantly lower yield than the latter."
   ]
  },
  {
   "cell_type": "markdown",
   "metadata": {
    "tags": []
   },
   "source": [
    "## Comparing high-risk and low-risk subgroups"
   ]
  },
  {
   "cell_type": "markdown",
   "metadata": {},
   "source": [
    "To begin with, we need to decide on our classification of high-risk and low-risk subgroups. In the previous section we relied on the borrowers' credit scores and offered interest rates for clasifying these subgroups; however, these metrics have some obvious problems. For example, many borrowers have no credit scores, and could not be classified using it. Also, interest rate not a direct assessment of the risk level of the client, but rather a reflection of the risk assessed by the issuing company."
   ]
  },
  {
   "cell_type": "markdown",
   "metadata": {},
   "source": [
    "Instead, we'll attempt to use an internally developed charge-off (CO) classifier, called the `PPCC21 model`. This model is a machine learning model, which attempts to predict whether a given loan is likely to default (or, synonymously- charge off). Since a charge-off event has a very negative effect on the yield of a portfolio, we will consider the predicted CO population as the high-risk group and non-CO population as the low-risk population. However, this statement is not clear-cut and needs to be tested."
   ]
  },
  {
   "cell_type": "markdown",
   "metadata": {},
   "source": [
    "### Analyzing historic payments data"
   ]
  },
  {
   "cell_type": "markdown",
   "metadata": {},
   "source": [
    "In this section, we will test our hypothesis that CO populations are significantly riskier (and therefore produce significantly lower yields) than no-CO population. In order to do so, we will need complete payments data from historic loans. Let's start by uploading our data. \n",
    "\n",
    "In the following path, you will find payment records on ~470,000 loans from 2017Q2."
   ]
  },
  {
   "cell_type": "code",
   "execution_count": 66,
   "metadata": {
    "execution": {
     "iopub.execute_input": "2021-10-11T05:44:15.055179Z",
     "iopub.status.busy": "2021-10-11T05:44:15.054606Z",
     "iopub.status.idle": "2021-10-11T05:44:19.908607Z",
     "shell.execute_reply": "2021-10-11T05:44:19.907585Z",
     "shell.execute_reply.started": "2021-10-11T05:44:15.055151Z"
    },
    "tags": []
   },
   "outputs": [],
   "source": [
    "payments2017Q2=pd.read_parquet(os.path.join(ASSIGNMENT2_DATA,\"TU_agg_payments.parquet\")) "
   ]
  },
  {
   "cell_type": "markdown",
   "metadata": {},
   "source": [
    "The payments table contains aggregated payments; that is- the column `agg_paid{i}` contains the amount paid by the client up to the i-th month on book (MOB). Add new columns to the table (one for each mob), containing the amount paid by the client _at_ mob i."
   ]
  },
  {
   "cell_type": "code",
   "execution_count": null,
   "metadata": {},
   "outputs": [],
   "source": []
  },
  {
   "cell_type": "code",
   "execution_count": null,
   "metadata": {},
   "outputs": [],
   "source": []
  },
  {
   "cell_type": "code",
   "execution_count": null,
   "metadata": {},
   "outputs": [],
   "source": []
  },
  {
   "cell_type": "markdown",
   "metadata": {},
   "source": [
    "Compute the [internal revenue rate (IRR)](https://www.investopedia.com/terms/i/irr.asp) of each loan. Use the [`numpy_financial.irr`](https://numpy.org/numpy-financial/latest/irr.html) function."
   ]
  },
  {
   "cell_type": "code",
   "execution_count": 70,
   "metadata": {
    "execution": {
     "iopub.execute_input": "2021-10-11T05:44:20.384733Z",
     "iopub.status.busy": "2021-10-11T05:44:20.384525Z",
     "iopub.status.idle": "2021-10-11T05:44:20.394300Z",
     "shell.execute_reply": "2021-10-11T05:44:20.393472Z",
     "shell.execute_reply.started": "2021-10-11T05:44:20.384709Z"
    },
    "tags": []
   },
   "outputs": [],
   "source": [
    "import numpy_financial as npf"
   ]
  },
  {
   "cell_type": "code",
   "execution_count": null,
   "metadata": {},
   "outputs": [],
   "source": []
  },
  {
   "cell_type": "code",
   "execution_count": null,
   "metadata": {},
   "outputs": [],
   "source": []
  },
  {
   "cell_type": "markdown",
   "metadata": {},
   "source": [
    "Are there any nan values in your irr column? Investigate these and decide how to handle them."
   ]
  },
  {
   "cell_type": "code",
   "execution_count": null,
   "metadata": {},
   "outputs": [],
   "source": []
  },
  {
   "cell_type": "markdown",
   "metadata": {},
   "source": [
    "<span style=\"color:teal\">Oh no! There are nans in the irr column! If we look at these lines, we'll see that these happens when no payments were made _at all_! We'll fill these nans with -1, since these mean that the loan is a loss of a 100%.\n",
    "</span>"
   ]
  },
  {
   "cell_type": "code",
   "execution_count": null,
   "metadata": {},
   "outputs": [],
   "source": []
  },
  {
   "cell_type": "code",
   "execution_count": null,
   "metadata": {},
   "outputs": [],
   "source": []
  },
  {
   "cell_type": "markdown",
   "metadata": {},
   "source": [
    "### Running a model"
   ]
  },
  {
   "cell_type": "markdown",
   "metadata": {},
   "source": [
    "Import the PPCC21 model:"
   ]
  },
  {
   "cell_type": "code",
   "execution_count": null,
   "metadata": {},
   "outputs": [],
   "source": [
    "from pagayapro.models.PPCC21Model import PPCC21Model"
   ]
  },
  {
   "cell_type": "markdown",
   "metadata": {},
   "source": [
    "The model comes trained out-of-the-box (on a set of ~160,000 loans from 2016), and has two attributes:\n",
    "* `predict` - which returns T/F predictions on whether or not a loan is predicted to charge-off (True $\n",
    "\\iff$ loan will CO); and\n",
    "* `predict_proba` - which return the predicted probability of each loan to CO and to not CO.\n",
    "\n",
    "(it also has a `fit` attribute which we will not use). \n",
    "\n",
    "Both `predict` and `predict_proba` are able to predict on any dataframe with suitable features, regardless of their order or other columns in the df."
   ]
  },
  {
   "cell_type": "markdown",
   "metadata": {},
   "source": [
    "Create an instance of your model"
   ]
  },
  {
   "cell_type": "code",
   "execution_count": null,
   "metadata": {},
   "outputs": [],
   "source": []
  },
  {
   "cell_type": "markdown",
   "metadata": {},
   "source": [
    "In order to predict whether a loan will CO or not, you will also need to add TU feature for you loans. To do so, read the 2017Q2 feature file (path below) and merge it with the payments table, to create an enriched payments table. _Note_: the merge operation may take a while. Feel free to try to improve it."
   ]
  },
  {
   "cell_type": "code",
   "execution_count": 78,
   "metadata": {
    "execution": {
     "iopub.execute_input": "2021-10-11T05:46:13.077291Z",
     "iopub.status.busy": "2021-10-11T05:46:13.077086Z",
     "iopub.status.idle": "2021-10-11T05:46:31.326294Z",
     "shell.execute_reply": "2021-10-11T05:46:31.325109Z",
     "shell.execute_reply.started": "2021-10-11T05:46:13.077266Z"
    },
    "tags": []
   },
   "outputs": [],
   "source": [
    "features2017Q2= pd.read_parquet(os.path.join(ASSIGNMENT2_DATA,\"TU2017Q2_features.parquet\"))"
   ]
  },
  {
   "cell_type": "code",
   "execution_count": null,
   "metadata": {},
   "outputs": [],
   "source": []
  },
  {
   "cell_type": "code",
   "execution_count": null,
   "metadata": {},
   "outputs": [],
   "source": []
  },
  {
   "cell_type": "markdown",
   "metadata": {},
   "source": [
    "Use the model to get a prediction for each row of your `enriched_features` dataframe."
   ]
  },
  {
   "cell_type": "code",
   "execution_count": null,
   "metadata": {},
   "outputs": [],
   "source": []
  },
  {
   "cell_type": "markdown",
   "metadata": {},
   "source": [
    "### Some model validations"
   ]
  },
  {
   "cell_type": "markdown",
   "metadata": {},
   "source": [
    "Let us validate the model's accuracy. What percentage of loans in the `enriched_payments` data are charged-off? (note: a loan is COed iff it has a reported CO-mob)."
   ]
  },
  {
   "cell_type": "code",
   "execution_count": null,
   "metadata": {},
   "outputs": [],
   "source": []
  },
  {
   "cell_type": "markdown",
   "metadata": {},
   "source": [
    "What percentage of loans are predicted to be COed by the model?"
   ]
  },
  {
   "cell_type": "code",
   "execution_count": null,
   "metadata": {},
   "outputs": [],
   "source": []
  },
  {
   "cell_type": "markdown",
   "metadata": {
    "execution": {
     "iopub.execute_input": "2021-10-09T01:59:09.085327Z",
     "iopub.status.busy": "2021-10-09T01:59:09.084950Z",
     "iopub.status.idle": "2021-10-09T01:59:09.096505Z",
     "shell.execute_reply": "2021-10-09T01:59:09.095109Z",
     "shell.execute_reply.started": "2021-10-09T01:59:09.085296Z"
    }
   },
   "source": [
    "Use the `sklearn.metrics.accuracy_score` to get the models accuracy score."
   ]
  },
  {
   "cell_type": "code",
   "execution_count": null,
   "metadata": {},
   "outputs": [],
   "source": []
  },
  {
   "cell_type": "markdown",
   "metadata": {},
   "source": [
    "As you see, there is room for improvement in the model's ability to predict CO. However, there is reason to believe that it might be useful for more general risk prediction, which we will try to verify here. In what follows, we call the group the model predicted as CO by predicted-CO, and the second group by predicted-non-CO. Our criterion for the risk of a group would be a significant difference in average IRR for this group."
   ]
  },
  {
   "cell_type": "markdown",
   "metadata": {},
   "source": [
    "### Visualizing IRR"
   ]
  },
  {
   "cell_type": "markdown",
   "metadata": {},
   "source": [
    "Create a scatter plot depicting the IRR of a given loan vs its interest rate, and color each group (predicted-CO and predicted-non-CO) with a different color. What phenomena can you detect from the scatterplot? \n",
    "\n",
    "_Note_. The IRR is given in monthly terms, while interest rate is usually given in annual term. The standard formula for passing from a mothly rate to an anuual term is\n",
    "$$\\text{annual rate}=\\left(1+\\text{monthly rate}\\right)^{12}-1.$$\n",
    "A very common approximation is to simply multiply the monthly rate by 12."
   ]
  },
  {
   "cell_type": "code",
   "execution_count": null,
   "metadata": {},
   "outputs": [],
   "source": []
  },
  {
   "cell_type": "code",
   "execution_count": null,
   "metadata": {},
   "outputs": [],
   "source": []
  },
  {
   "cell_type": "markdown",
   "metadata": {},
   "source": [
    "<span style=\"color:teal\">Predicted CO points seem to cluster towards higher interest rates. As the irr decreases, the proportion of CO seems to incread, where the bottom line (yield = -1) is nearly all orange.\n",
    "\n",
    "Line formation is also interesting- why?\n",
    "</span>"
   ]
  },
  {
   "cell_type": "code",
   "execution_count": null,
   "metadata": {},
   "outputs": [],
   "source": []
  },
  {
   "cell_type": "markdown",
   "metadata": {},
   "source": [
    "What is the average IRR for the predicted-CO goup? what is the average IRR for the predicted-non-CO group?"
   ]
  },
  {
   "cell_type": "code",
   "execution_count": null,
   "metadata": {},
   "outputs": [],
   "source": []
  },
  {
   "cell_type": "markdown",
   "metadata": {},
   "source": [
    "_Remark_. The average IRR is usually not the best estimator for the IRR of a portfolio, as it can be very different from the total IRR. However, considering averages allows us to apply statistical tool, which gives way for analyses; specifically, using linear regression."
   ]
  },
  {
   "cell_type": "markdown",
   "metadata": {},
   "source": [
    "_Another remark_. A beter approximation for the IRR of a portfolio can be achieved using a weighted average instead of an ordinary average (e.g. weigheted by the loan's amount). Feel free to try to adapt the current method for weighted averages."
   ]
  },
  {
   "cell_type": "markdown",
   "metadata": {},
   "source": [
    "## Statistical test for comparing averages"
   ]
  },
  {
   "cell_type": "markdown",
   "metadata": {},
   "source": [
    "As explained in the notion page, the averages of two population of a sample can be compared using infrernce from a linear regression model. Indeed, the averages of the two subsets are different if and only if the slope of the regression line $y\\sim mx+n$, where $x=1$ on one subset and $0$ otherwise, is non-zero."
   ]
  },
  {
   "cell_type": "markdown",
   "metadata": {},
   "source": [
    "Use the [statsmodels.api.OLS](https://www.statsmodels.org/stable/examples/notebooks/generated/ols.html) package in order to create a regression model, with IRR as the dependent variable and a binary variable describing membership to either of the CO-groups as the independent variable. "
   ]
  },
  {
   "cell_type": "code",
   "execution_count": null,
   "metadata": {},
   "outputs": [],
   "source": []
  },
  {
   "cell_type": "code",
   "execution_count": null,
   "metadata": {},
   "outputs": [],
   "source": []
  },
  {
   "cell_type": "code",
   "execution_count": null,
   "metadata": {},
   "outputs": [],
   "source": []
  },
  {
   "cell_type": "code",
   "execution_count": null,
   "metadata": {},
   "outputs": [],
   "source": []
  },
  {
   "cell_type": "code",
   "execution_count": null,
   "metadata": {},
   "outputs": [],
   "source": []
  },
  {
   "cell_type": "markdown",
   "metadata": {},
   "source": [
    "Create a sctterplot of the dependent vs the independent variable of the model, and add the regression line to the plot. In addition, it is recommended that yoy add lines indicating the confidence region of your regression line (you can use the [seaborn.regplot](https://seaborn.pydata.org/generated/seaborn.regplot.html) package or some of the additional functionality of `statsmodels.api.OLS` package)."
   ]
  },
  {
   "cell_type": "code",
   "execution_count": null,
   "metadata": {},
   "outputs": [],
   "source": []
  },
  {
   "cell_type": "code",
   "execution_count": null,
   "metadata": {},
   "outputs": [],
   "source": []
  },
  {
   "cell_type": "markdown",
   "metadata": {},
   "source": [
    "Is the slope of the regression line significantly different from zero? What can you conclude from this result regarding the difference in risk levels between the two groups?"
   ]
  },
  {
   "cell_type": "code",
   "execution_count": null,
   "metadata": {},
   "outputs": [],
   "source": []
  },
  {
   "cell_type": "code",
   "execution_count": null,
   "metadata": {},
   "outputs": [],
   "source": []
  },
  {
   "cell_type": "code",
   "execution_count": null,
   "metadata": {},
   "outputs": [],
   "source": []
  },
  {
   "cell_type": "markdown",
   "metadata": {},
   "source": [
    "<span style=\"color:teal\">\n",
    "The two means are different to a very high degree of significance. However, the confidence interval is very wide, indicating a large margin of error, and the actual difference between the means is very small (under 0.3%), so it is unclear whether there is a good enough separation between the groups.\n",
    "</span>"
   ]
  },
  {
   "cell_type": "markdown",
   "metadata": {},
   "source": [
    "### Controlling for interest rate"
   ]
  },
  {
   "cell_type": "markdown",
   "metadata": {},
   "source": [
    "To check whether the difference in risk between the two groups is explained by the different interest rate, fit a new regression model, now with both model score and interest rate as covariates, and check whether the risk level is different between the two groups when controlling for interest rate."
   ]
  },
  {
   "cell_type": "code",
   "execution_count": null,
   "metadata": {},
   "outputs": [],
   "source": []
  },
  {
   "cell_type": "code",
   "execution_count": null,
   "metadata": {},
   "outputs": [],
   "source": []
  },
  {
   "cell_type": "code",
   "execution_count": null,
   "metadata": {},
   "outputs": [],
   "source": []
  },
  {
   "cell_type": "code",
   "execution_count": null,
   "metadata": {},
   "outputs": [],
   "source": []
  },
  {
   "cell_type": "markdown",
   "metadata": {},
   "source": [
    "Create two overlaying scatterplots of IRR vs interest rate, according to the different groups, and add the regression line associated to each group the the corresponding scatterplot. Can you detect a visible difference between the two groups?"
   ]
  },
  {
   "cell_type": "code",
   "execution_count": null,
   "metadata": {},
   "outputs": [],
   "source": []
  },
  {
   "cell_type": "markdown",
   "metadata": {},
   "source": [
    "<span style=\"color:teal\">\n",
    "    Some difference, but very slight\n",
    "    </span>"
   ]
  },
  {
   "cell_type": "markdown",
   "metadata": {},
   "source": [
    "Check the model's results summary to see if the coefficient related to model-score group is significantly different from zero."
   ]
  },
  {
   "cell_type": "code",
   "execution_count": null,
   "metadata": {},
   "outputs": [],
   "source": []
  },
  {
   "cell_type": "code",
   "execution_count": null,
   "metadata": {},
   "outputs": [],
   "source": []
  },
  {
   "cell_type": "markdown",
   "metadata": {},
   "source": [
    "What is your conclusion? Is the risk level between the two groups different when interest rate is controlled for?\n",
    "\n",
    "Can you rely on the PPCC21 model score as an indicator for risk level?"
   ]
  },
  {
   "cell_type": "markdown",
   "metadata": {},
   "source": [
    "<span style=\"color:teal\">\n",
    "        The model significantly separates between the two risk groups, but the separation seems to be ineffective\n",
    "</span>"
   ]
  },
  {
   "cell_type": "markdown",
   "metadata": {},
   "source": [
    "## Comparing proportions of the different groups in Raleigh and Lubbock"
   ]
  },
  {
   "cell_type": "markdown",
   "metadata": {},
   "source": [
    "In order to compare the risk levels of the activated populations in Raleigh and Lubbock, start by adding a model prediction to each activated loan of the two tables. You have already added the necessary TU feature to the tables in a previous section, so all that's left is to run the model on each of them get the necessary predictions, and add these as a column to the table."
   ]
  },
  {
   "cell_type": "code",
   "execution_count": null,
   "metadata": {},
   "outputs": [],
   "source": []
  },
  {
   "cell_type": "code",
   "execution_count": null,
   "metadata": {},
   "outputs": [],
   "source": []
  },
  {
   "cell_type": "markdown",
   "metadata": {},
   "source": [
    "Run a proprotions test in order to check if the proportion of risky borrowers is significantly larger in Raleigh than in Lubbock."
   ]
  },
  {
   "cell_type": "code",
   "execution_count": null,
   "metadata": {},
   "outputs": [],
   "source": []
  },
  {
   "cell_type": "code",
   "execution_count": null,
   "metadata": {},
   "outputs": [],
   "source": []
  },
  {
   "cell_type": "code",
   "execution_count": null,
   "metadata": {},
   "outputs": [],
   "source": []
  },
  {
   "cell_type": "code",
   "execution_count": null,
   "metadata": {},
   "outputs": [],
   "source": []
  },
  {
   "cell_type": "markdown",
   "metadata": {},
   "source": [
    "What do you conclude regarding the risk level of the activated population in each town?"
   ]
  },
  {
   "cell_type": "markdown",
   "metadata": {},
   "source": [
    "<span style=\"color:teal\"> \n",
    "    We cannot reject the null hypothesis that the proportion of risky borrowers in Raleigh is smaller or equal to the one in Lubbock.\n",
    "    </span>"
   ]
  },
  {
   "cell_type": "markdown",
   "metadata": {
    "tags": []
   },
   "source": [
    "# Analysis using current payments"
   ]
  },
  {
   "cell_type": "markdown",
   "metadata": {},
   "source": [
    "One more strategy for analyzing the risk level of a current portfolio is to analyze the number of late payments in a given period. Generally speaking, since loans with late or partial payments are indicative of the borrower's ability to repay the loan, we consider portfolios with higher proportions of such payments as being riskier.\n",
    "\n",
    "We'll call a loan late at mob i if its payment at this month is less then 95% of the amount that was supposed to be paid on that month."
   ]
  },
  {
   "cell_type": "markdown",
   "metadata": {},
   "source": [
    "We have payments reports for the first six months of each loan issued before 2020 in Raleigh and Lubbock. These are available in the following directories:"
   ]
  },
  {
   "cell_type": "code",
   "execution_count": 142,
   "metadata": {
    "execution": {
     "iopub.execute_input": "2021-10-11T06:07:52.917458Z",
     "iopub.status.busy": "2021-10-11T06:07:52.916274Z",
     "iopub.status.idle": "2021-10-11T06:07:53.620192Z",
     "shell.execute_reply": "2021-10-11T06:07:53.619124Z",
     "shell.execute_reply.started": "2021-10-11T06:07:52.917417Z"
    },
    "tags": []
   },
   "outputs": [],
   "source": [
    "raleigh_current_pmts= pd.read_parquet(os.path.join(ASSIGNMENT2_DATA, \"payment_report_RL.parquet\"))\n",
    "lubbock_current_pmts= pd.read_parquet(os.path.join(ASSIGNMENT2_DATA, \"payment_report_LB.parquet\"))"
   ]
  },
  {
   "cell_type": "markdown",
   "metadata": {},
   "source": [
    "The payments file come in the form of tradelines; that is- each row describe a single payment made towards a give loan,\n",
    "\n",
    "Create new tables in which every loan id appears in a unique line, along with its features (`int_rate`, `loan_amnt`, `monthly_pmt` etc), and there is a column `pmt_{i}` for each `i`=1,..,6 which contains the payment made at mob `i`. Use the [pandas.DataFrame.pivot](https://pandas.pydata.org/docs/reference/api/pandas.DataFrame.pivot.html) method in order to perform the last part."
   ]
  },
  {
   "cell_type": "code",
   "execution_count": null,
   "metadata": {},
   "outputs": [],
   "source": []
  },
  {
   "cell_type": "code",
   "execution_count": null,
   "metadata": {},
   "outputs": [],
   "source": []
  },
  {
   "cell_type": "code",
   "execution_count": null,
   "metadata": {},
   "outputs": [],
   "source": []
  },
  {
   "cell_type": "code",
   "execution_count": null,
   "metadata": {},
   "outputs": [],
   "source": []
  },
  {
   "cell_type": "code",
   "execution_count": null,
   "metadata": {},
   "outputs": [],
   "source": []
  },
  {
   "cell_type": "markdown",
   "metadata": {},
   "source": [
    "Add a column to the dataframes above, containing the number of late months of the corresponding loan (that is- the number of months in which the amount paid is less then 95% of the monthly payment."
   ]
  },
  {
   "cell_type": "code",
   "execution_count": null,
   "metadata": {},
   "outputs": [],
   "source": []
  },
  {
   "cell_type": "markdown",
   "metadata": {},
   "source": [
    "For each number n=0,..,6 compute the percentage of loans each of the above table that are late by n months. Plot these distributions (e.g. using the [seaborn.countplot](https://seaborn.pydata.org/generated/seaborn.countplot.html) function). Can you detect a visible difference between the two tables?"
   ]
  },
  {
   "cell_type": "code",
   "execution_count": null,
   "metadata": {},
   "outputs": [],
   "source": []
  },
  {
   "cell_type": "code",
   "execution_count": null,
   "metadata": {},
   "outputs": [],
   "source": []
  },
  {
   "cell_type": "code",
   "execution_count": null,
   "metadata": {},
   "outputs": [],
   "source": []
  },
  {
   "cell_type": "code",
   "execution_count": null,
   "metadata": {},
   "outputs": [],
   "source": []
  },
  {
   "cell_type": "code",
   "execution_count": null,
   "metadata": {},
   "outputs": [],
   "source": []
  },
  {
   "cell_type": "code",
   "execution_count": null,
   "metadata": {},
   "outputs": [],
   "source": []
  },
  {
   "cell_type": "markdown",
   "metadata": {},
   "source": [
    "So we've seen by now that there is a detectable difference between the frequencies of late payments in the two towns, but how do the two of them compare with the general population?\n",
    "\n",
    "In order to get a benchmark for the number of late payments at each mob in the general population, we'll also draw payment reports from the general population. To this end, you will find payments reports for the period 2017-04--2020-12, taken from the Upgrade platform, in the following path:"
   ]
  },
  {
   "cell_type": "code",
   "execution_count": null,
   "metadata": {
    "execution": {
     "iopub.status.busy": "2021-10-11T05:39:55.932586Z",
     "iopub.status.idle": "2021-10-11T05:39:55.932879Z",
     "shell.execute_reply": "2021-10-11T05:39:55.932741Z",
     "shell.execute_reply.started": "2021-10-11T05:39:55.932726Z"
    },
    "tags": []
   },
   "outputs": [],
   "source": [
    "upgrade_payments = pd.read_parquet(os.path.join(ASSIGNMENT2_DATA, \"upgrade2020_payments.parquet\"))"
   ]
  },
  {
   "cell_type": "markdown",
   "metadata": {},
   "source": [
    "Note that these files are also formatted as tradelines, with the amount paid at each month recorded in the column `paid`, and should be reformatted so that all payments of a given loan appear in a single line using the `pandas.DataFrame.pivot` method. Do this now- create a new table in which every loan appears in a single line, with a column for each mob containing the amount paid at that mob.\n",
    "Additionally, add the following features of the loan: `loan_amnt`,`original_interest_rate`, `term_in_months` and `last_reported_mob`."
   ]
  },
  {
   "cell_type": "code",
   "execution_count": null,
   "metadata": {},
   "outputs": [],
   "source": []
  },
  {
   "cell_type": "code",
   "execution_count": null,
   "metadata": {},
   "outputs": [],
   "source": []
  },
  {
   "cell_type": "markdown",
   "metadata": {},
   "source": [
    "As you may have noted, the monthly payment of each loan is missing from the table above. Please compute it using the [numpy_financial.pmt](https://numpy.org/numpy-financial/dev/pmt.html) function."
   ]
  },
  {
   "cell_type": "code",
   "execution_count": null,
   "metadata": {},
   "outputs": [],
   "source": []
  },
  {
   "cell_type": "markdown",
   "metadata": {},
   "source": [
    "Now, repeat the analysis you done above in order to compute the percentages of late loans by month in the general population and compare them to your results from Raleigh and Luboock. Which of the two seem closer to the population banchmark?"
   ]
  },
  {
   "cell_type": "code",
   "execution_count": null,
   "metadata": {},
   "outputs": [],
   "source": []
  },
  {
   "cell_type": "code",
   "execution_count": null,
   "metadata": {},
   "outputs": [],
   "source": []
  },
  {
   "cell_type": "markdown",
   "metadata": {},
   "source": [
    "Perform a statistical test which will validate this observation. That is- compare the proportion of loans late by n months in each of the towns with that of the general population and test which of these are significantly different from the general population. Note that you are comparing 6 subsets of the same sample, so this may require some manipulation of your alpha values."
   ]
  },
  {
   "cell_type": "code",
   "execution_count": null,
   "metadata": {},
   "outputs": [],
   "source": []
  },
  {
   "cell_type": "code",
   "execution_count": null,
   "metadata": {},
   "outputs": [],
   "source": []
  },
  {
   "cell_type": "code",
   "execution_count": null,
   "metadata": {},
   "outputs": [],
   "source": []
  },
  {
   "cell_type": "code",
   "execution_count": null,
   "metadata": {},
   "outputs": [],
   "source": []
  }
 ],
 "metadata": {
  "kernelspec": {
   "display_name": "Python 3",
   "language": "python",
   "name": "python3"
  },
  "language_info": {
   "codemirror_mode": {
    "name": "ipython",
    "version": 3
   },
   "file_extension": ".py",
   "mimetype": "text/x-python",
   "name": "python",
   "nbconvert_exporter": "python",
   "pygments_lexer": "ipython3",
   "version": "3.8.10"
  }
 },
 "nbformat": 4,
 "nbformat_minor": 4
}

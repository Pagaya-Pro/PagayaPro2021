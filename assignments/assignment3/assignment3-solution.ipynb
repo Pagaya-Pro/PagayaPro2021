{
 "cells": [
  {
   "cell_type": "markdown",
   "metadata": {},
   "source": [
    "# House Pricing - A Statistical Analysis & Machine Learning"
   ]
  },
  {
   "cell_type": "markdown",
   "metadata": {},
   "source": [
    "We will work on this step by step.\n",
    "Topics:\n",
    "1. Data Preparation\n",
    "2. Data Analysis\n",
    "3. Statistical Tests\n",
    "4. Implement a linear regression model\n",
    "5. Exploring model results\n",
    "6. Some visualzations"
   ]
  },
  {
   "cell_type": "markdown",
   "metadata": {
    "_cell_guid": "ceecb894-96f2-4208-b7a1-2383b8e9ac9d",
    "_uuid": "dbb42ffc-c5e0-45bf-9d32-fb17433756ff",
    "heading_collapsed": "true",
    "tags": []
   },
   "source": [
    "# Importing necessary libraries and functions"
   ]
  },
  {
   "cell_type": "code",
   "execution_count": 1,
   "metadata": {
    "_cell_guid": "65d8108d-0e85-46f7-89f1-03c5b17759b1",
    "_kg_hide-input": true,
    "_uuid": "14ac2156-60b9-4e98-9423-9b428f7dbc3c",
    "execution": {
     "iopub.execute_input": "2021-10-18T08:59:26.573952Z",
     "iopub.status.busy": "2021-10-18T08:59:26.573703Z",
     "iopub.status.idle": "2021-10-18T08:59:26.579295Z",
     "shell.execute_reply": "2021-10-18T08:59:26.578276Z",
     "shell.execute_reply.started": "2021-10-18T08:59:26.573887Z"
    },
    "tags": []
   },
   "outputs": [],
   "source": [
    "import numpy as np\n",
    "import pandas as pd\n",
    "import matplotlib.pyplot as plt\n",
    "import seaborn as sns\n",
    "import os"
   ]
  },
  {
   "cell_type": "code",
   "execution_count": 2,
   "metadata": {
    "execution": {
     "iopub.execute_input": "2021-10-18T08:59:26.581437Z",
     "iopub.status.busy": "2021-10-18T08:59:26.580916Z",
     "iopub.status.idle": "2021-10-18T08:59:26.588156Z",
     "shell.execute_reply": "2021-10-18T08:59:26.587100Z",
     "shell.execute_reply.started": "2021-10-18T08:59:26.581406Z"
    },
    "tags": []
   },
   "outputs": [],
   "source": [
    "%matplotlib inline\n",
    "import matplotlib.pyplot as plt"
   ]
  },
  {
   "cell_type": "code",
   "execution_count": 3,
   "metadata": {
    "execution": {
     "iopub.execute_input": "2021-10-18T08:59:26.589741Z",
     "iopub.status.busy": "2021-10-18T08:59:26.589497Z",
     "iopub.status.idle": "2021-10-18T08:59:26.595933Z",
     "shell.execute_reply": "2021-10-18T08:59:26.594986Z",
     "shell.execute_reply.started": "2021-10-18T08:59:26.589703Z"
    },
    "tags": []
   },
   "outputs": [],
   "source": [
    "plt.style.use('seaborn')\n",
    "sns.set(palette='bright')\n",
    "pd.set_option('display.max_columns', None)\n",
    "pd.options.display.float_format = '{:,.4f}'.format"
   ]
  },
  {
   "cell_type": "code",
   "execution_count": 4,
   "metadata": {
    "execution": {
     "iopub.execute_input": "2021-10-18T08:59:26.597332Z",
     "iopub.status.busy": "2021-10-18T08:59:26.597117Z",
     "iopub.status.idle": "2021-10-18T08:59:26.615797Z",
     "shell.execute_reply": "2021-10-18T08:59:26.614550Z",
     "shell.execute_reply.started": "2021-10-18T08:59:26.597306Z"
    },
    "tags": []
   },
   "outputs": [],
   "source": [
    "from pagayapro.paths.data_paths import ASSIGNMENT3_DATA"
   ]
  },
  {
   "cell_type": "markdown",
   "metadata": {
    "_cell_guid": "f4ed3d7b-d178-490f-873b-6529477ca5b1",
    "_uuid": "6aa76191-8742-4be2-a02f-6a64ae3dab29",
    "heading_collapsed": "true",
    "tags": []
   },
   "source": [
    "# Load the datasets"
   ]
  },
  {
   "cell_type": "markdown",
   "metadata": {},
   "source": [
    "load the data."
   ]
  },
  {
   "cell_type": "code",
   "execution_count": 5,
   "metadata": {
    "_cell_guid": "fffa6add-e9e7-4e9a-9323-7d25e676f3ce",
    "_kg_hide-input": true,
    "_kg_hide-output": false,
    "_uuid": "8bce0dd4-7e12-4545-b790-5d319a239412",
    "execution": {
     "iopub.execute_input": "2021-10-18T08:59:26.617363Z",
     "iopub.status.busy": "2021-10-18T08:59:26.617129Z",
     "iopub.status.idle": "2021-10-18T08:59:27.045240Z",
     "shell.execute_reply": "2021-10-18T08:59:27.044101Z",
     "shell.execute_reply.started": "2021-10-18T08:59:26.617334Z"
    },
    "tags": []
   },
   "outputs": [
    {
     "data": {
      "text/html": [
       "<div>\n",
       "<style scoped>\n",
       "    .dataframe tbody tr th:only-of-type {\n",
       "        vertical-align: middle;\n",
       "    }\n",
       "\n",
       "    .dataframe tbody tr th {\n",
       "        vertical-align: top;\n",
       "    }\n",
       "\n",
       "    .dataframe thead th {\n",
       "        text-align: right;\n",
       "    }\n",
       "</style>\n",
       "<table border=\"1\" class=\"dataframe\">\n",
       "  <thead>\n",
       "    <tr style=\"text-align: right;\">\n",
       "      <th></th>\n",
       "      <th>Unnamed: 0</th>\n",
       "      <th>Id</th>\n",
       "      <th>MSSubClass</th>\n",
       "      <th>MSZoning</th>\n",
       "      <th>LotFrontage</th>\n",
       "      <th>LotArea</th>\n",
       "      <th>Street</th>\n",
       "      <th>Alley</th>\n",
       "      <th>LotShape</th>\n",
       "      <th>LandContour</th>\n",
       "      <th>Utilities</th>\n",
       "      <th>LotConfig</th>\n",
       "      <th>LandSlope</th>\n",
       "      <th>Neighborhood</th>\n",
       "      <th>Condition1</th>\n",
       "      <th>Condition2</th>\n",
       "      <th>BldgType</th>\n",
       "      <th>HouseStyle</th>\n",
       "      <th>OverallQual</th>\n",
       "      <th>OverallCond</th>\n",
       "      <th>YearBuilt</th>\n",
       "      <th>YearRemodAdd</th>\n",
       "      <th>RoofStyle</th>\n",
       "      <th>RoofMatl</th>\n",
       "      <th>Exterior1st</th>\n",
       "      <th>Exterior2nd</th>\n",
       "      <th>MasVnrType</th>\n",
       "      <th>MasVnrArea</th>\n",
       "      <th>ExterQual</th>\n",
       "      <th>ExterCond</th>\n",
       "      <th>Foundation</th>\n",
       "      <th>BsmtQual</th>\n",
       "      <th>BsmtCond</th>\n",
       "      <th>BsmtExposure</th>\n",
       "      <th>BsmtFinType1</th>\n",
       "      <th>BsmtFinSF1</th>\n",
       "      <th>BsmtFinType2</th>\n",
       "      <th>BsmtFinSF2</th>\n",
       "      <th>BsmtUnfSF</th>\n",
       "      <th>TotalBsmtSF</th>\n",
       "      <th>Heating</th>\n",
       "      <th>HeatingQC</th>\n",
       "      <th>CentralAir</th>\n",
       "      <th>Electrical</th>\n",
       "      <th>1stFlrSF</th>\n",
       "      <th>2ndFlrSF</th>\n",
       "      <th>LowQualFinSF</th>\n",
       "      <th>GrLivArea</th>\n",
       "      <th>BsmtFullBath</th>\n",
       "      <th>BsmtHalfBath</th>\n",
       "      <th>FullBath</th>\n",
       "      <th>HalfBath</th>\n",
       "      <th>BedroomAbvGr</th>\n",
       "      <th>KitchenAbvGr</th>\n",
       "      <th>KitchenQual</th>\n",
       "      <th>TotRmsAbvGrd</th>\n",
       "      <th>Functional</th>\n",
       "      <th>Fireplaces</th>\n",
       "      <th>FireplaceQu</th>\n",
       "      <th>GarageType</th>\n",
       "      <th>GarageYrBlt</th>\n",
       "      <th>GarageFinish</th>\n",
       "      <th>GarageCars</th>\n",
       "      <th>GarageArea</th>\n",
       "      <th>GarageQual</th>\n",
       "      <th>GarageCond</th>\n",
       "      <th>PavedDrive</th>\n",
       "      <th>WoodDeckSF</th>\n",
       "      <th>OpenPorchSF</th>\n",
       "      <th>EnclosedPorch</th>\n",
       "      <th>3SsnPorch</th>\n",
       "      <th>ScreenPorch</th>\n",
       "      <th>PoolArea</th>\n",
       "      <th>PoolQC</th>\n",
       "      <th>Fence</th>\n",
       "      <th>MiscFeature</th>\n",
       "      <th>MiscVal</th>\n",
       "      <th>MoSold</th>\n",
       "      <th>YrSold</th>\n",
       "      <th>SaleType</th>\n",
       "      <th>SaleCondition</th>\n",
       "      <th>SalePrice</th>\n",
       "    </tr>\n",
       "  </thead>\n",
       "  <tbody>\n",
       "    <tr>\n",
       "      <th>0</th>\n",
       "      <td>0</td>\n",
       "      <td>1</td>\n",
       "      <td>60</td>\n",
       "      <td>RL</td>\n",
       "      <td>65.0000</td>\n",
       "      <td>8450</td>\n",
       "      <td>Pave</td>\n",
       "      <td>NaN</td>\n",
       "      <td>Reg</td>\n",
       "      <td>Lvl</td>\n",
       "      <td>AllPub</td>\n",
       "      <td>Inside</td>\n",
       "      <td>Gtl</td>\n",
       "      <td>CollgCr</td>\n",
       "      <td>Norm</td>\n",
       "      <td>Norm</td>\n",
       "      <td>1Fam</td>\n",
       "      <td>2Story</td>\n",
       "      <td>7</td>\n",
       "      <td>5</td>\n",
       "      <td>2003</td>\n",
       "      <td>2003</td>\n",
       "      <td>Gable</td>\n",
       "      <td>CompShg</td>\n",
       "      <td>VinylSd</td>\n",
       "      <td>VinylSd</td>\n",
       "      <td>BrkFace</td>\n",
       "      <td>196.0000</td>\n",
       "      <td>Gd</td>\n",
       "      <td>TA</td>\n",
       "      <td>PConc</td>\n",
       "      <td>Gd</td>\n",
       "      <td>TA</td>\n",
       "      <td>No</td>\n",
       "      <td>GLQ</td>\n",
       "      <td>706</td>\n",
       "      <td>Unf</td>\n",
       "      <td>0</td>\n",
       "      <td>150</td>\n",
       "      <td>856</td>\n",
       "      <td>GasA</td>\n",
       "      <td>Ex</td>\n",
       "      <td>Y</td>\n",
       "      <td>SBrkr</td>\n",
       "      <td>856</td>\n",
       "      <td>854</td>\n",
       "      <td>0</td>\n",
       "      <td>1710</td>\n",
       "      <td>1</td>\n",
       "      <td>0</td>\n",
       "      <td>2</td>\n",
       "      <td>1</td>\n",
       "      <td>3</td>\n",
       "      <td>1</td>\n",
       "      <td>Gd</td>\n",
       "      <td>8</td>\n",
       "      <td>Typ</td>\n",
       "      <td>0</td>\n",
       "      <td>NaN</td>\n",
       "      <td>Attchd</td>\n",
       "      <td>2,003.0000</td>\n",
       "      <td>RFn</td>\n",
       "      <td>2</td>\n",
       "      <td>548</td>\n",
       "      <td>TA</td>\n",
       "      <td>TA</td>\n",
       "      <td>Y</td>\n",
       "      <td>0</td>\n",
       "      <td>61</td>\n",
       "      <td>0</td>\n",
       "      <td>0</td>\n",
       "      <td>0</td>\n",
       "      <td>0</td>\n",
       "      <td>NaN</td>\n",
       "      <td>NaN</td>\n",
       "      <td>NaN</td>\n",
       "      <td>0</td>\n",
       "      <td>2</td>\n",
       "      <td>2008</td>\n",
       "      <td>WD</td>\n",
       "      <td>Normal</td>\n",
       "      <td>208500</td>\n",
       "    </tr>\n",
       "    <tr>\n",
       "      <th>1</th>\n",
       "      <td>1</td>\n",
       "      <td>2</td>\n",
       "      <td>20</td>\n",
       "      <td>RL</td>\n",
       "      <td>80.0000</td>\n",
       "      <td>9600</td>\n",
       "      <td>Pave</td>\n",
       "      <td>NaN</td>\n",
       "      <td>Reg</td>\n",
       "      <td>Lvl</td>\n",
       "      <td>AllPub</td>\n",
       "      <td>FR2</td>\n",
       "      <td>Gtl</td>\n",
       "      <td>Veenker</td>\n",
       "      <td>Feedr</td>\n",
       "      <td>Norm</td>\n",
       "      <td>1Fam</td>\n",
       "      <td>1Story</td>\n",
       "      <td>6</td>\n",
       "      <td>8</td>\n",
       "      <td>1976</td>\n",
       "      <td>1976</td>\n",
       "      <td>Gable</td>\n",
       "      <td>CompShg</td>\n",
       "      <td>MetalSd</td>\n",
       "      <td>MetalSd</td>\n",
       "      <td>None</td>\n",
       "      <td>0.0000</td>\n",
       "      <td>TA</td>\n",
       "      <td>TA</td>\n",
       "      <td>CBlock</td>\n",
       "      <td>Gd</td>\n",
       "      <td>TA</td>\n",
       "      <td>Gd</td>\n",
       "      <td>ALQ</td>\n",
       "      <td>978</td>\n",
       "      <td>Unf</td>\n",
       "      <td>0</td>\n",
       "      <td>284</td>\n",
       "      <td>1262</td>\n",
       "      <td>GasA</td>\n",
       "      <td>Ex</td>\n",
       "      <td>Y</td>\n",
       "      <td>SBrkr</td>\n",
       "      <td>1262</td>\n",
       "      <td>0</td>\n",
       "      <td>0</td>\n",
       "      <td>1262</td>\n",
       "      <td>0</td>\n",
       "      <td>1</td>\n",
       "      <td>2</td>\n",
       "      <td>0</td>\n",
       "      <td>3</td>\n",
       "      <td>1</td>\n",
       "      <td>TA</td>\n",
       "      <td>6</td>\n",
       "      <td>Typ</td>\n",
       "      <td>1</td>\n",
       "      <td>TA</td>\n",
       "      <td>Attchd</td>\n",
       "      <td>1,976.0000</td>\n",
       "      <td>RFn</td>\n",
       "      <td>2</td>\n",
       "      <td>460</td>\n",
       "      <td>TA</td>\n",
       "      <td>TA</td>\n",
       "      <td>Y</td>\n",
       "      <td>298</td>\n",
       "      <td>0</td>\n",
       "      <td>0</td>\n",
       "      <td>0</td>\n",
       "      <td>0</td>\n",
       "      <td>0</td>\n",
       "      <td>NaN</td>\n",
       "      <td>NaN</td>\n",
       "      <td>NaN</td>\n",
       "      <td>0</td>\n",
       "      <td>5</td>\n",
       "      <td>2007</td>\n",
       "      <td>WD</td>\n",
       "      <td>Normal</td>\n",
       "      <td>181500</td>\n",
       "    </tr>\n",
       "    <tr>\n",
       "      <th>2</th>\n",
       "      <td>2</td>\n",
       "      <td>3</td>\n",
       "      <td>60</td>\n",
       "      <td>RL</td>\n",
       "      <td>68.0000</td>\n",
       "      <td>11250</td>\n",
       "      <td>Pave</td>\n",
       "      <td>NaN</td>\n",
       "      <td>IR1</td>\n",
       "      <td>Lvl</td>\n",
       "      <td>AllPub</td>\n",
       "      <td>Inside</td>\n",
       "      <td>Gtl</td>\n",
       "      <td>CollgCr</td>\n",
       "      <td>Norm</td>\n",
       "      <td>Norm</td>\n",
       "      <td>1Fam</td>\n",
       "      <td>2Story</td>\n",
       "      <td>7</td>\n",
       "      <td>5</td>\n",
       "      <td>2001</td>\n",
       "      <td>2002</td>\n",
       "      <td>Gable</td>\n",
       "      <td>CompShg</td>\n",
       "      <td>VinylSd</td>\n",
       "      <td>VinylSd</td>\n",
       "      <td>BrkFace</td>\n",
       "      <td>162.0000</td>\n",
       "      <td>Gd</td>\n",
       "      <td>TA</td>\n",
       "      <td>PConc</td>\n",
       "      <td>Gd</td>\n",
       "      <td>TA</td>\n",
       "      <td>Mn</td>\n",
       "      <td>GLQ</td>\n",
       "      <td>486</td>\n",
       "      <td>Unf</td>\n",
       "      <td>0</td>\n",
       "      <td>434</td>\n",
       "      <td>920</td>\n",
       "      <td>GasA</td>\n",
       "      <td>Ex</td>\n",
       "      <td>Y</td>\n",
       "      <td>SBrkr</td>\n",
       "      <td>920</td>\n",
       "      <td>866</td>\n",
       "      <td>0</td>\n",
       "      <td>1786</td>\n",
       "      <td>1</td>\n",
       "      <td>0</td>\n",
       "      <td>2</td>\n",
       "      <td>1</td>\n",
       "      <td>3</td>\n",
       "      <td>1</td>\n",
       "      <td>Gd</td>\n",
       "      <td>6</td>\n",
       "      <td>Typ</td>\n",
       "      <td>1</td>\n",
       "      <td>TA</td>\n",
       "      <td>Attchd</td>\n",
       "      <td>2,001.0000</td>\n",
       "      <td>RFn</td>\n",
       "      <td>2</td>\n",
       "      <td>608</td>\n",
       "      <td>TA</td>\n",
       "      <td>TA</td>\n",
       "      <td>Y</td>\n",
       "      <td>0</td>\n",
       "      <td>42</td>\n",
       "      <td>0</td>\n",
       "      <td>0</td>\n",
       "      <td>0</td>\n",
       "      <td>0</td>\n",
       "      <td>NaN</td>\n",
       "      <td>NaN</td>\n",
       "      <td>NaN</td>\n",
       "      <td>0</td>\n",
       "      <td>9</td>\n",
       "      <td>2008</td>\n",
       "      <td>WD</td>\n",
       "      <td>Normal</td>\n",
       "      <td>223500</td>\n",
       "    </tr>\n",
       "    <tr>\n",
       "      <th>3</th>\n",
       "      <td>3</td>\n",
       "      <td>4</td>\n",
       "      <td>70</td>\n",
       "      <td>RL</td>\n",
       "      <td>60.0000</td>\n",
       "      <td>9550</td>\n",
       "      <td>Pave</td>\n",
       "      <td>NaN</td>\n",
       "      <td>IR1</td>\n",
       "      <td>Lvl</td>\n",
       "      <td>AllPub</td>\n",
       "      <td>Corner</td>\n",
       "      <td>Gtl</td>\n",
       "      <td>Crawfor</td>\n",
       "      <td>Norm</td>\n",
       "      <td>Norm</td>\n",
       "      <td>1Fam</td>\n",
       "      <td>2Story</td>\n",
       "      <td>7</td>\n",
       "      <td>5</td>\n",
       "      <td>1915</td>\n",
       "      <td>1970</td>\n",
       "      <td>Gable</td>\n",
       "      <td>CompShg</td>\n",
       "      <td>Wd Sdng</td>\n",
       "      <td>Wd Shng</td>\n",
       "      <td>None</td>\n",
       "      <td>0.0000</td>\n",
       "      <td>TA</td>\n",
       "      <td>TA</td>\n",
       "      <td>BrkTil</td>\n",
       "      <td>TA</td>\n",
       "      <td>Gd</td>\n",
       "      <td>No</td>\n",
       "      <td>ALQ</td>\n",
       "      <td>216</td>\n",
       "      <td>Unf</td>\n",
       "      <td>0</td>\n",
       "      <td>540</td>\n",
       "      <td>756</td>\n",
       "      <td>GasA</td>\n",
       "      <td>Gd</td>\n",
       "      <td>Y</td>\n",
       "      <td>SBrkr</td>\n",
       "      <td>961</td>\n",
       "      <td>756</td>\n",
       "      <td>0</td>\n",
       "      <td>1717</td>\n",
       "      <td>1</td>\n",
       "      <td>0</td>\n",
       "      <td>1</td>\n",
       "      <td>0</td>\n",
       "      <td>3</td>\n",
       "      <td>1</td>\n",
       "      <td>Gd</td>\n",
       "      <td>7</td>\n",
       "      <td>Typ</td>\n",
       "      <td>1</td>\n",
       "      <td>Gd</td>\n",
       "      <td>Detchd</td>\n",
       "      <td>1,998.0000</td>\n",
       "      <td>Unf</td>\n",
       "      <td>3</td>\n",
       "      <td>642</td>\n",
       "      <td>TA</td>\n",
       "      <td>TA</td>\n",
       "      <td>Y</td>\n",
       "      <td>0</td>\n",
       "      <td>35</td>\n",
       "      <td>272</td>\n",
       "      <td>0</td>\n",
       "      <td>0</td>\n",
       "      <td>0</td>\n",
       "      <td>NaN</td>\n",
       "      <td>NaN</td>\n",
       "      <td>NaN</td>\n",
       "      <td>0</td>\n",
       "      <td>2</td>\n",
       "      <td>2006</td>\n",
       "      <td>WD</td>\n",
       "      <td>Abnorml</td>\n",
       "      <td>140000</td>\n",
       "    </tr>\n",
       "    <tr>\n",
       "      <th>4</th>\n",
       "      <td>4</td>\n",
       "      <td>5</td>\n",
       "      <td>60</td>\n",
       "      <td>RL</td>\n",
       "      <td>84.0000</td>\n",
       "      <td>14260</td>\n",
       "      <td>Pave</td>\n",
       "      <td>NaN</td>\n",
       "      <td>IR1</td>\n",
       "      <td>Lvl</td>\n",
       "      <td>AllPub</td>\n",
       "      <td>FR2</td>\n",
       "      <td>Gtl</td>\n",
       "      <td>NoRidge</td>\n",
       "      <td>Norm</td>\n",
       "      <td>Norm</td>\n",
       "      <td>1Fam</td>\n",
       "      <td>2Story</td>\n",
       "      <td>8</td>\n",
       "      <td>5</td>\n",
       "      <td>2000</td>\n",
       "      <td>2000</td>\n",
       "      <td>Gable</td>\n",
       "      <td>CompShg</td>\n",
       "      <td>VinylSd</td>\n",
       "      <td>VinylSd</td>\n",
       "      <td>BrkFace</td>\n",
       "      <td>350.0000</td>\n",
       "      <td>Gd</td>\n",
       "      <td>TA</td>\n",
       "      <td>PConc</td>\n",
       "      <td>Gd</td>\n",
       "      <td>TA</td>\n",
       "      <td>Av</td>\n",
       "      <td>GLQ</td>\n",
       "      <td>655</td>\n",
       "      <td>Unf</td>\n",
       "      <td>0</td>\n",
       "      <td>490</td>\n",
       "      <td>1145</td>\n",
       "      <td>GasA</td>\n",
       "      <td>Ex</td>\n",
       "      <td>Y</td>\n",
       "      <td>SBrkr</td>\n",
       "      <td>1145</td>\n",
       "      <td>1053</td>\n",
       "      <td>0</td>\n",
       "      <td>2198</td>\n",
       "      <td>1</td>\n",
       "      <td>0</td>\n",
       "      <td>2</td>\n",
       "      <td>1</td>\n",
       "      <td>4</td>\n",
       "      <td>1</td>\n",
       "      <td>Gd</td>\n",
       "      <td>9</td>\n",
       "      <td>Typ</td>\n",
       "      <td>1</td>\n",
       "      <td>TA</td>\n",
       "      <td>Attchd</td>\n",
       "      <td>2,000.0000</td>\n",
       "      <td>RFn</td>\n",
       "      <td>3</td>\n",
       "      <td>836</td>\n",
       "      <td>TA</td>\n",
       "      <td>TA</td>\n",
       "      <td>Y</td>\n",
       "      <td>192</td>\n",
       "      <td>84</td>\n",
       "      <td>0</td>\n",
       "      <td>0</td>\n",
       "      <td>0</td>\n",
       "      <td>0</td>\n",
       "      <td>NaN</td>\n",
       "      <td>NaN</td>\n",
       "      <td>NaN</td>\n",
       "      <td>0</td>\n",
       "      <td>12</td>\n",
       "      <td>2008</td>\n",
       "      <td>WD</td>\n",
       "      <td>Normal</td>\n",
       "      <td>250000</td>\n",
       "    </tr>\n",
       "  </tbody>\n",
       "</table>\n",
       "</div>"
      ],
      "text/plain": [
       "   Unnamed: 0  Id  MSSubClass MSZoning  LotFrontage  LotArea Street Alley  \\\n",
       "0           0   1          60       RL      65.0000     8450   Pave   NaN   \n",
       "1           1   2          20       RL      80.0000     9600   Pave   NaN   \n",
       "2           2   3          60       RL      68.0000    11250   Pave   NaN   \n",
       "3           3   4          70       RL      60.0000     9550   Pave   NaN   \n",
       "4           4   5          60       RL      84.0000    14260   Pave   NaN   \n",
       "\n",
       "  LotShape LandContour Utilities LotConfig LandSlope Neighborhood Condition1  \\\n",
       "0      Reg         Lvl    AllPub    Inside       Gtl      CollgCr       Norm   \n",
       "1      Reg         Lvl    AllPub       FR2       Gtl      Veenker      Feedr   \n",
       "2      IR1         Lvl    AllPub    Inside       Gtl      CollgCr       Norm   \n",
       "3      IR1         Lvl    AllPub    Corner       Gtl      Crawfor       Norm   \n",
       "4      IR1         Lvl    AllPub       FR2       Gtl      NoRidge       Norm   \n",
       "\n",
       "  Condition2 BldgType HouseStyle  OverallQual  OverallCond  YearBuilt  \\\n",
       "0       Norm     1Fam     2Story            7            5       2003   \n",
       "1       Norm     1Fam     1Story            6            8       1976   \n",
       "2       Norm     1Fam     2Story            7            5       2001   \n",
       "3       Norm     1Fam     2Story            7            5       1915   \n",
       "4       Norm     1Fam     2Story            8            5       2000   \n",
       "\n",
       "   YearRemodAdd RoofStyle RoofMatl Exterior1st Exterior2nd MasVnrType  \\\n",
       "0          2003     Gable  CompShg     VinylSd     VinylSd    BrkFace   \n",
       "1          1976     Gable  CompShg     MetalSd     MetalSd       None   \n",
       "2          2002     Gable  CompShg     VinylSd     VinylSd    BrkFace   \n",
       "3          1970     Gable  CompShg     Wd Sdng     Wd Shng       None   \n",
       "4          2000     Gable  CompShg     VinylSd     VinylSd    BrkFace   \n",
       "\n",
       "   MasVnrArea ExterQual ExterCond Foundation BsmtQual BsmtCond BsmtExposure  \\\n",
       "0    196.0000        Gd        TA      PConc       Gd       TA           No   \n",
       "1      0.0000        TA        TA     CBlock       Gd       TA           Gd   \n",
       "2    162.0000        Gd        TA      PConc       Gd       TA           Mn   \n",
       "3      0.0000        TA        TA     BrkTil       TA       Gd           No   \n",
       "4    350.0000        Gd        TA      PConc       Gd       TA           Av   \n",
       "\n",
       "  BsmtFinType1  BsmtFinSF1 BsmtFinType2  BsmtFinSF2  BsmtUnfSF  TotalBsmtSF  \\\n",
       "0          GLQ         706          Unf           0        150          856   \n",
       "1          ALQ         978          Unf           0        284         1262   \n",
       "2          GLQ         486          Unf           0        434          920   \n",
       "3          ALQ         216          Unf           0        540          756   \n",
       "4          GLQ         655          Unf           0        490         1145   \n",
       "\n",
       "  Heating HeatingQC CentralAir Electrical  1stFlrSF  2ndFlrSF  LowQualFinSF  \\\n",
       "0    GasA        Ex          Y      SBrkr       856       854             0   \n",
       "1    GasA        Ex          Y      SBrkr      1262         0             0   \n",
       "2    GasA        Ex          Y      SBrkr       920       866             0   \n",
       "3    GasA        Gd          Y      SBrkr       961       756             0   \n",
       "4    GasA        Ex          Y      SBrkr      1145      1053             0   \n",
       "\n",
       "   GrLivArea  BsmtFullBath  BsmtHalfBath  FullBath  HalfBath  BedroomAbvGr  \\\n",
       "0       1710             1             0         2         1             3   \n",
       "1       1262             0             1         2         0             3   \n",
       "2       1786             1             0         2         1             3   \n",
       "3       1717             1             0         1         0             3   \n",
       "4       2198             1             0         2         1             4   \n",
       "\n",
       "   KitchenAbvGr KitchenQual  TotRmsAbvGrd Functional  Fireplaces FireplaceQu  \\\n",
       "0             1          Gd             8        Typ           0         NaN   \n",
       "1             1          TA             6        Typ           1          TA   \n",
       "2             1          Gd             6        Typ           1          TA   \n",
       "3             1          Gd             7        Typ           1          Gd   \n",
       "4             1          Gd             9        Typ           1          TA   \n",
       "\n",
       "  GarageType  GarageYrBlt GarageFinish  GarageCars  GarageArea GarageQual  \\\n",
       "0     Attchd   2,003.0000          RFn           2         548         TA   \n",
       "1     Attchd   1,976.0000          RFn           2         460         TA   \n",
       "2     Attchd   2,001.0000          RFn           2         608         TA   \n",
       "3     Detchd   1,998.0000          Unf           3         642         TA   \n",
       "4     Attchd   2,000.0000          RFn           3         836         TA   \n",
       "\n",
       "  GarageCond PavedDrive  WoodDeckSF  OpenPorchSF  EnclosedPorch  3SsnPorch  \\\n",
       "0         TA          Y           0           61              0          0   \n",
       "1         TA          Y         298            0              0          0   \n",
       "2         TA          Y           0           42              0          0   \n",
       "3         TA          Y           0           35            272          0   \n",
       "4         TA          Y         192           84              0          0   \n",
       "\n",
       "   ScreenPorch  PoolArea PoolQC Fence MiscFeature  MiscVal  MoSold  YrSold  \\\n",
       "0            0         0    NaN   NaN         NaN        0       2    2008   \n",
       "1            0         0    NaN   NaN         NaN        0       5    2007   \n",
       "2            0         0    NaN   NaN         NaN        0       9    2008   \n",
       "3            0         0    NaN   NaN         NaN        0       2    2006   \n",
       "4            0         0    NaN   NaN         NaN        0      12    2008   \n",
       "\n",
       "  SaleType SaleCondition  SalePrice  \n",
       "0       WD        Normal     208500  \n",
       "1       WD        Normal     181500  \n",
       "2       WD        Normal     223500  \n",
       "3       WD       Abnorml     140000  \n",
       "4       WD        Normal     250000  "
      ]
     },
     "execution_count": 5,
     "metadata": {},
     "output_type": "execute_result"
    }
   ],
   "source": [
    "data = pd.read_csv(os.path.join(ASSIGNMENT3_DATA, \"house_features.csv\"))\n",
    "data.head()"
   ]
  },
  {
   "cell_type": "code",
   "execution_count": 6,
   "metadata": {
    "execution": {
     "iopub.execute_input": "2021-10-18T08:59:27.046830Z",
     "iopub.status.busy": "2021-10-18T08:59:27.046603Z",
     "iopub.status.idle": "2021-10-18T08:59:27.052574Z",
     "shell.execute_reply": "2021-10-18T08:59:27.051624Z",
     "shell.execute_reply.started": "2021-10-18T08:59:27.046803Z"
    },
    "tags": []
   },
   "outputs": [
    {
     "data": {
      "text/plain": [
       "(1460, 82)"
      ]
     },
     "execution_count": 6,
     "metadata": {},
     "output_type": "execute_result"
    }
   ],
   "source": [
    "data.shape"
   ]
  },
  {
   "cell_type": "markdown",
   "metadata": {
    "execution": {
     "iopub.execute_input": "2021-06-30T11:03:31.229025Z",
     "iopub.status.busy": "2021-06-30T11:03:31.228650Z",
     "iopub.status.idle": "2021-06-30T11:03:31.232924Z",
     "shell.execute_reply": "2021-06-30T11:03:31.231956Z",
     "shell.execute_reply.started": "2021-06-30T11:03:31.228998Z"
    },
    "heading_collapsed": "true",
    "tags": []
   },
   "source": [
    "## Split to train and test"
   ]
  },
  {
   "cell_type": "markdown",
   "metadata": {},
   "source": [
    "We will split the data to train and test.\n",
    "<br>We can't perform statistical analysis which includes the test data, since that would lead to **overfitting** on the test set (we will elaborate on that later on). Therfore we will first split the data."
   ]
  },
  {
   "cell_type": "code",
   "execution_count": 7,
   "metadata": {
    "execution": {
     "iopub.execute_input": "2021-10-18T08:59:27.056010Z",
     "iopub.status.busy": "2021-10-18T08:59:27.055795Z",
     "iopub.status.idle": "2021-10-18T08:59:27.064908Z",
     "shell.execute_reply": "2021-10-18T08:59:27.063806Z",
     "shell.execute_reply.started": "2021-10-18T08:59:27.055985Z"
    },
    "tags": []
   },
   "outputs": [],
   "source": [
    "train = data.sample(frac=0.8,random_state=1) # random_state is the random_seed\n",
    "test = data.drop(train.index)"
   ]
  },
  {
   "cell_type": "markdown",
   "metadata": {
    "_cell_guid": "ed598341-4a28-4971-bb3a-cc8bdffa06f0",
    "_uuid": "6eb72da0-da8a-45d3-be95-7accd87a5a89",
    "heading_collapsed": "true",
    "tags": []
   },
   "source": [
    "# Explore the data"
   ]
  },
  {
   "cell_type": "markdown",
   "metadata": {
    "execution": {
     "iopub.execute_input": "2021-06-17T14:01:50.939643Z",
     "iopub.status.busy": "2021-06-17T14:01:50.939280Z",
     "iopub.status.idle": "2021-06-17T14:01:50.943788Z",
     "shell.execute_reply": "2021-06-17T14:01:50.942689Z",
     "shell.execute_reply.started": "2021-06-17T14:01:50.939616Z"
    },
    "heading_collapsed": "true",
    "tags": []
   },
   "source": [
    "## Number of rows and columns"
   ]
  },
  {
   "cell_type": "markdown",
   "metadata": {},
   "source": [
    "Find how many rows and columns we have in train and test"
   ]
  },
  {
   "cell_type": "code",
   "execution_count": 8,
   "metadata": {
    "_cell_guid": "6b9a990b-648b-4e81-a312-cc29ae7ff11a",
    "_kg_hide-input": true,
    "_uuid": "9df6eafa-024c-4b9b-b065-4cea0185017a",
    "execution": {
     "iopub.execute_input": "2021-10-18T08:59:27.067251Z",
     "iopub.status.busy": "2021-10-18T08:59:27.067027Z",
     "iopub.status.idle": "2021-10-18T08:59:27.073359Z",
     "shell.execute_reply": "2021-10-18T08:59:27.072166Z",
     "shell.execute_reply.started": "2021-10-18T08:59:27.067226Z"
    },
    "scrolled": true,
    "tags": []
   },
   "outputs": [
    {
     "name": "stdout",
     "output_type": "stream",
     "text": [
      "Train has 1168 rows and 82 columns\n",
      "Test has 292 rows and 82 columns\n"
     ]
    }
   ],
   "source": [
    "print (f\"Train has {train.shape[0]} rows and {train.shape[1]} columns\")\n",
    "print (f\"Test has {test.shape[0]} rows and {test.shape[1]} columns\")"
   ]
  },
  {
   "cell_type": "markdown",
   "metadata": {
    "execution": {
     "iopub.execute_input": "2021-06-17T13:45:43.404502Z",
     "iopub.status.busy": "2021-06-17T13:45:43.403081Z",
     "iopub.status.idle": "2021-06-17T13:45:43.443341Z",
     "shell.execute_reply": "2021-06-17T13:45:43.438752Z",
     "shell.execute_reply.started": "2021-06-17T13:45:43.404432Z"
    },
    "heading_collapsed": "true",
    "tags": []
   },
   "source": [
    "## Present a statistical description of the numerical features"
   ]
  },
  {
   "cell_type": "markdown",
   "metadata": {},
   "source": [
    "Write down the mean, std, quantiles, etc of each of these features (can be done in one line of code)"
   ]
  },
  {
   "cell_type": "code",
   "execution_count": 9,
   "metadata": {
    "_cell_guid": "cbc23ba7-29e1-4f93-bb70-7a0eeb051f3b",
    "_kg_hide-input": true,
    "_kg_hide-output": true,
    "_uuid": "9214537f-91da-4c0a-9f47-dd53650587de",
    "execution": {
     "iopub.execute_input": "2021-10-18T08:59:27.074857Z",
     "iopub.status.busy": "2021-10-18T08:59:27.074629Z",
     "iopub.status.idle": "2021-10-18T08:59:27.177564Z",
     "shell.execute_reply": "2021-10-18T08:59:27.176446Z",
     "shell.execute_reply.started": "2021-10-18T08:59:27.074832Z"
    },
    "tags": []
   },
   "outputs": [
    {
     "data": {
      "text/html": [
       "<div>\n",
       "<style scoped>\n",
       "    .dataframe tbody tr th:only-of-type {\n",
       "        vertical-align: middle;\n",
       "    }\n",
       "\n",
       "    .dataframe tbody tr th {\n",
       "        vertical-align: top;\n",
       "    }\n",
       "\n",
       "    .dataframe thead th {\n",
       "        text-align: right;\n",
       "    }\n",
       "</style>\n",
       "<table border=\"1\" class=\"dataframe\">\n",
       "  <thead>\n",
       "    <tr style=\"text-align: right;\">\n",
       "      <th></th>\n",
       "      <th>count</th>\n",
       "      <th>mean</th>\n",
       "      <th>std</th>\n",
       "      <th>min</th>\n",
       "      <th>25%</th>\n",
       "      <th>50%</th>\n",
       "      <th>75%</th>\n",
       "      <th>max</th>\n",
       "    </tr>\n",
       "  </thead>\n",
       "  <tbody>\n",
       "    <tr>\n",
       "      <th>Unnamed: 0</th>\n",
       "      <td>1,168.0000</td>\n",
       "      <td>719.3219</td>\n",
       "      <td>420.3979</td>\n",
       "      <td>0.0000</td>\n",
       "      <td>351.7500</td>\n",
       "      <td>724.5000</td>\n",
       "      <td>1,082.2500</td>\n",
       "      <td>1,457.0000</td>\n",
       "    </tr>\n",
       "    <tr>\n",
       "      <th>Id</th>\n",
       "      <td>1,168.0000</td>\n",
       "      <td>720.3219</td>\n",
       "      <td>420.3979</td>\n",
       "      <td>1.0000</td>\n",
       "      <td>352.7500</td>\n",
       "      <td>725.5000</td>\n",
       "      <td>1,083.2500</td>\n",
       "      <td>1,458.0000</td>\n",
       "    </tr>\n",
       "    <tr>\n",
       "      <th>MSSubClass</th>\n",
       "      <td>1,168.0000</td>\n",
       "      <td>57.3459</td>\n",
       "      <td>42.8332</td>\n",
       "      <td>20.0000</td>\n",
       "      <td>20.0000</td>\n",
       "      <td>50.0000</td>\n",
       "      <td>70.0000</td>\n",
       "      <td>190.0000</td>\n",
       "    </tr>\n",
       "    <tr>\n",
       "      <th>LotFrontage</th>\n",
       "      <td>963.0000</td>\n",
       "      <td>70.1059</td>\n",
       "      <td>24.6127</td>\n",
       "      <td>21.0000</td>\n",
       "      <td>60.0000</td>\n",
       "      <td>69.0000</td>\n",
       "      <td>80.0000</td>\n",
       "      <td>313.0000</td>\n",
       "    </tr>\n",
       "    <tr>\n",
       "      <th>LotArea</th>\n",
       "      <td>1,168.0000</td>\n",
       "      <td>10,355.9110</td>\n",
       "      <td>8,390.0070</td>\n",
       "      <td>1,300.0000</td>\n",
       "      <td>7,500.0000</td>\n",
       "      <td>9,452.5000</td>\n",
       "      <td>11,601.5000</td>\n",
       "      <td>164,660.0000</td>\n",
       "    </tr>\n",
       "    <tr>\n",
       "      <th>OverallQual</th>\n",
       "      <td>1,168.0000</td>\n",
       "      <td>6.0873</td>\n",
       "      <td>1.3981</td>\n",
       "      <td>1.0000</td>\n",
       "      <td>5.0000</td>\n",
       "      <td>6.0000</td>\n",
       "      <td>7.0000</td>\n",
       "      <td>10.0000</td>\n",
       "    </tr>\n",
       "    <tr>\n",
       "      <th>OverallCond</th>\n",
       "      <td>1,168.0000</td>\n",
       "      <td>5.5736</td>\n",
       "      <td>1.1192</td>\n",
       "      <td>1.0000</td>\n",
       "      <td>5.0000</td>\n",
       "      <td>5.0000</td>\n",
       "      <td>6.0000</td>\n",
       "      <td>9.0000</td>\n",
       "    </tr>\n",
       "    <tr>\n",
       "      <th>YearBuilt</th>\n",
       "      <td>1,168.0000</td>\n",
       "      <td>1,971.4854</td>\n",
       "      <td>30.2503</td>\n",
       "      <td>1,872.0000</td>\n",
       "      <td>1,954.0000</td>\n",
       "      <td>1,973.0000</td>\n",
       "      <td>2,001.0000</td>\n",
       "      <td>2,010.0000</td>\n",
       "    </tr>\n",
       "    <tr>\n",
       "      <th>YearRemodAdd</th>\n",
       "      <td>1,168.0000</td>\n",
       "      <td>1,984.6704</td>\n",
       "      <td>20.7046</td>\n",
       "      <td>1,950.0000</td>\n",
       "      <td>1,966.0000</td>\n",
       "      <td>1,993.0000</td>\n",
       "      <td>2,004.0000</td>\n",
       "      <td>2,010.0000</td>\n",
       "    </tr>\n",
       "    <tr>\n",
       "      <th>MasVnrArea</th>\n",
       "      <td>1,162.0000</td>\n",
       "      <td>104.9509</td>\n",
       "      <td>186.8202</td>\n",
       "      <td>0.0000</td>\n",
       "      <td>0.0000</td>\n",
       "      <td>0.0000</td>\n",
       "      <td>163.7500</td>\n",
       "      <td>1,600.0000</td>\n",
       "    </tr>\n",
       "    <tr>\n",
       "      <th>BsmtFinSF1</th>\n",
       "      <td>1,168.0000</td>\n",
       "      <td>446.7115</td>\n",
       "      <td>464.6336</td>\n",
       "      <td>0.0000</td>\n",
       "      <td>0.0000</td>\n",
       "      <td>386.5000</td>\n",
       "      <td>709.0000</td>\n",
       "      <td>5,644.0000</td>\n",
       "    </tr>\n",
       "    <tr>\n",
       "      <th>BsmtFinSF2</th>\n",
       "      <td>1,168.0000</td>\n",
       "      <td>45.3622</td>\n",
       "      <td>157.1603</td>\n",
       "      <td>0.0000</td>\n",
       "      <td>0.0000</td>\n",
       "      <td>0.0000</td>\n",
       "      <td>0.0000</td>\n",
       "      <td>1,474.0000</td>\n",
       "    </tr>\n",
       "    <tr>\n",
       "      <th>BsmtUnfSF</th>\n",
       "      <td>1,168.0000</td>\n",
       "      <td>562.4349</td>\n",
       "      <td>444.6071</td>\n",
       "      <td>0.0000</td>\n",
       "      <td>216.0000</td>\n",
       "      <td>468.0000</td>\n",
       "      <td>801.5000</td>\n",
       "      <td>2,336.0000</td>\n",
       "    </tr>\n",
       "    <tr>\n",
       "      <th>TotalBsmtSF</th>\n",
       "      <td>1,168.0000</td>\n",
       "      <td>1,054.5086</td>\n",
       "      <td>447.6257</td>\n",
       "      <td>0.0000</td>\n",
       "      <td>788.0000</td>\n",
       "      <td>990.0000</td>\n",
       "      <td>1,294.0000</td>\n",
       "      <td>6,110.0000</td>\n",
       "    </tr>\n",
       "    <tr>\n",
       "      <th>1stFlrSF</th>\n",
       "      <td>1,168.0000</td>\n",
       "      <td>1,162.1353</td>\n",
       "      <td>390.8679</td>\n",
       "      <td>334.0000</td>\n",
       "      <td>882.0000</td>\n",
       "      <td>1,086.0000</td>\n",
       "      <td>1,382.2500</td>\n",
       "      <td>4,692.0000</td>\n",
       "    </tr>\n",
       "    <tr>\n",
       "      <th>2ndFlrSF</th>\n",
       "      <td>1,168.0000</td>\n",
       "      <td>347.8836</td>\n",
       "      <td>437.7416</td>\n",
       "      <td>0.0000</td>\n",
       "      <td>0.0000</td>\n",
       "      <td>0.0000</td>\n",
       "      <td>728.0000</td>\n",
       "      <td>2,065.0000</td>\n",
       "    </tr>\n",
       "    <tr>\n",
       "      <th>LowQualFinSF</th>\n",
       "      <td>1,168.0000</td>\n",
       "      <td>5.6995</td>\n",
       "      <td>47.5181</td>\n",
       "      <td>0.0000</td>\n",
       "      <td>0.0000</td>\n",
       "      <td>0.0000</td>\n",
       "      <td>0.0000</td>\n",
       "      <td>572.0000</td>\n",
       "    </tr>\n",
       "    <tr>\n",
       "      <th>GrLivArea</th>\n",
       "      <td>1,168.0000</td>\n",
       "      <td>1,515.7183</td>\n",
       "      <td>530.5305</td>\n",
       "      <td>334.0000</td>\n",
       "      <td>1,133.5000</td>\n",
       "      <td>1,458.5000</td>\n",
       "      <td>1,768.0000</td>\n",
       "      <td>5,642.0000</td>\n",
       "    </tr>\n",
       "    <tr>\n",
       "      <th>BsmtFullBath</th>\n",
       "      <td>1,168.0000</td>\n",
       "      <td>0.4212</td>\n",
       "      <td>0.5210</td>\n",
       "      <td>0.0000</td>\n",
       "      <td>0.0000</td>\n",
       "      <td>0.0000</td>\n",
       "      <td>1.0000</td>\n",
       "      <td>3.0000</td>\n",
       "    </tr>\n",
       "    <tr>\n",
       "      <th>BsmtHalfBath</th>\n",
       "      <td>1,168.0000</td>\n",
       "      <td>0.0625</td>\n",
       "      <td>0.2457</td>\n",
       "      <td>0.0000</td>\n",
       "      <td>0.0000</td>\n",
       "      <td>0.0000</td>\n",
       "      <td>0.0000</td>\n",
       "      <td>2.0000</td>\n",
       "    </tr>\n",
       "    <tr>\n",
       "      <th>FullBath</th>\n",
       "      <td>1,168.0000</td>\n",
       "      <td>1.5702</td>\n",
       "      <td>0.5571</td>\n",
       "      <td>0.0000</td>\n",
       "      <td>1.0000</td>\n",
       "      <td>2.0000</td>\n",
       "      <td>2.0000</td>\n",
       "      <td>3.0000</td>\n",
       "    </tr>\n",
       "    <tr>\n",
       "      <th>HalfBath</th>\n",
       "      <td>1,168.0000</td>\n",
       "      <td>0.3776</td>\n",
       "      <td>0.5040</td>\n",
       "      <td>0.0000</td>\n",
       "      <td>0.0000</td>\n",
       "      <td>0.0000</td>\n",
       "      <td>1.0000</td>\n",
       "      <td>2.0000</td>\n",
       "    </tr>\n",
       "    <tr>\n",
       "      <th>BedroomAbvGr</th>\n",
       "      <td>1,168.0000</td>\n",
       "      <td>2.8553</td>\n",
       "      <td>0.8262</td>\n",
       "      <td>0.0000</td>\n",
       "      <td>2.0000</td>\n",
       "      <td>3.0000</td>\n",
       "      <td>3.0000</td>\n",
       "      <td>8.0000</td>\n",
       "    </tr>\n",
       "    <tr>\n",
       "      <th>KitchenAbvGr</th>\n",
       "      <td>1,168.0000</td>\n",
       "      <td>1.0514</td>\n",
       "      <td>0.2285</td>\n",
       "      <td>1.0000</td>\n",
       "      <td>1.0000</td>\n",
       "      <td>1.0000</td>\n",
       "      <td>1.0000</td>\n",
       "      <td>3.0000</td>\n",
       "    </tr>\n",
       "    <tr>\n",
       "      <th>TotRmsAbvGrd</th>\n",
       "      <td>1,168.0000</td>\n",
       "      <td>6.5068</td>\n",
       "      <td>1.6240</td>\n",
       "      <td>2.0000</td>\n",
       "      <td>5.0000</td>\n",
       "      <td>6.0000</td>\n",
       "      <td>7.0000</td>\n",
       "      <td>14.0000</td>\n",
       "    </tr>\n",
       "    <tr>\n",
       "      <th>Fireplaces</th>\n",
       "      <td>1,168.0000</td>\n",
       "      <td>0.6122</td>\n",
       "      <td>0.6449</td>\n",
       "      <td>0.0000</td>\n",
       "      <td>0.0000</td>\n",
       "      <td>1.0000</td>\n",
       "      <td>1.0000</td>\n",
       "      <td>3.0000</td>\n",
       "    </tr>\n",
       "    <tr>\n",
       "      <th>GarageYrBlt</th>\n",
       "      <td>1,102.0000</td>\n",
       "      <td>1,978.5181</td>\n",
       "      <td>24.7374</td>\n",
       "      <td>1,900.0000</td>\n",
       "      <td>1,961.0000</td>\n",
       "      <td>1,980.0000</td>\n",
       "      <td>2,002.0000</td>\n",
       "      <td>2,010.0000</td>\n",
       "    </tr>\n",
       "    <tr>\n",
       "      <th>GarageCars</th>\n",
       "      <td>1,168.0000</td>\n",
       "      <td>1.7688</td>\n",
       "      <td>0.7461</td>\n",
       "      <td>0.0000</td>\n",
       "      <td>1.0000</td>\n",
       "      <td>2.0000</td>\n",
       "      <td>2.0000</td>\n",
       "      <td>4.0000</td>\n",
       "    </tr>\n",
       "    <tr>\n",
       "      <th>GarageArea</th>\n",
       "      <td>1,168.0000</td>\n",
       "      <td>473.0317</td>\n",
       "      <td>212.9000</td>\n",
       "      <td>0.0000</td>\n",
       "      <td>336.0000</td>\n",
       "      <td>476.5000</td>\n",
       "      <td>576.0000</td>\n",
       "      <td>1,418.0000</td>\n",
       "    </tr>\n",
       "    <tr>\n",
       "      <th>WoodDeckSF</th>\n",
       "      <td>1,168.0000</td>\n",
       "      <td>93.2988</td>\n",
       "      <td>124.0268</td>\n",
       "      <td>0.0000</td>\n",
       "      <td>0.0000</td>\n",
       "      <td>0.0000</td>\n",
       "      <td>168.0000</td>\n",
       "      <td>857.0000</td>\n",
       "    </tr>\n",
       "    <tr>\n",
       "      <th>OpenPorchSF</th>\n",
       "      <td>1,168.0000</td>\n",
       "      <td>45.5300</td>\n",
       "      <td>64.0452</td>\n",
       "      <td>0.0000</td>\n",
       "      <td>0.0000</td>\n",
       "      <td>24.0000</td>\n",
       "      <td>66.0000</td>\n",
       "      <td>523.0000</td>\n",
       "    </tr>\n",
       "    <tr>\n",
       "      <th>EnclosedPorch</th>\n",
       "      <td>1,168.0000</td>\n",
       "      <td>22.4632</td>\n",
       "      <td>62.3954</td>\n",
       "      <td>0.0000</td>\n",
       "      <td>0.0000</td>\n",
       "      <td>0.0000</td>\n",
       "      <td>0.0000</td>\n",
       "      <td>552.0000</td>\n",
       "    </tr>\n",
       "    <tr>\n",
       "      <th>3SsnPorch</th>\n",
       "      <td>1,168.0000</td>\n",
       "      <td>3.0334</td>\n",
       "      <td>27.3477</td>\n",
       "      <td>0.0000</td>\n",
       "      <td>0.0000</td>\n",
       "      <td>0.0000</td>\n",
       "      <td>0.0000</td>\n",
       "      <td>508.0000</td>\n",
       "    </tr>\n",
       "    <tr>\n",
       "      <th>ScreenPorch</th>\n",
       "      <td>1,168.0000</td>\n",
       "      <td>15.5728</td>\n",
       "      <td>56.6167</td>\n",
       "      <td>0.0000</td>\n",
       "      <td>0.0000</td>\n",
       "      <td>0.0000</td>\n",
       "      <td>0.0000</td>\n",
       "      <td>440.0000</td>\n",
       "    </tr>\n",
       "    <tr>\n",
       "      <th>PoolArea</th>\n",
       "      <td>1,168.0000</td>\n",
       "      <td>3.4486</td>\n",
       "      <td>44.8969</td>\n",
       "      <td>0.0000</td>\n",
       "      <td>0.0000</td>\n",
       "      <td>0.0000</td>\n",
       "      <td>0.0000</td>\n",
       "      <td>738.0000</td>\n",
       "    </tr>\n",
       "    <tr>\n",
       "      <th>MiscVal</th>\n",
       "      <td>1,168.0000</td>\n",
       "      <td>49.6010</td>\n",
       "      <td>549.5847</td>\n",
       "      <td>0.0000</td>\n",
       "      <td>0.0000</td>\n",
       "      <td>0.0000</td>\n",
       "      <td>0.0000</td>\n",
       "      <td>15,500.0000</td>\n",
       "    </tr>\n",
       "    <tr>\n",
       "      <th>MoSold</th>\n",
       "      <td>1,168.0000</td>\n",
       "      <td>6.3613</td>\n",
       "      <td>2.7013</td>\n",
       "      <td>1.0000</td>\n",
       "      <td>5.0000</td>\n",
       "      <td>6.0000</td>\n",
       "      <td>8.0000</td>\n",
       "      <td>12.0000</td>\n",
       "    </tr>\n",
       "    <tr>\n",
       "      <th>YrSold</th>\n",
       "      <td>1,168.0000</td>\n",
       "      <td>2,007.8031</td>\n",
       "      <td>1.3301</td>\n",
       "      <td>2,006.0000</td>\n",
       "      <td>2,007.0000</td>\n",
       "      <td>2,008.0000</td>\n",
       "      <td>2,009.0000</td>\n",
       "      <td>2,010.0000</td>\n",
       "    </tr>\n",
       "    <tr>\n",
       "      <th>SalePrice</th>\n",
       "      <td>1,168.0000</td>\n",
       "      <td>181,132.9255</td>\n",
       "      <td>80,521.2100</td>\n",
       "      <td>34,900.0000</td>\n",
       "      <td>129,900.0000</td>\n",
       "      <td>163,000.0000</td>\n",
       "      <td>214,000.0000</td>\n",
       "      <td>755,000.0000</td>\n",
       "    </tr>\n",
       "  </tbody>\n",
       "</table>\n",
       "</div>"
      ],
      "text/plain": [
       "                   count         mean         std         min          25%  \\\n",
       "Unnamed: 0    1,168.0000     719.3219    420.3979      0.0000     351.7500   \n",
       "Id            1,168.0000     720.3219    420.3979      1.0000     352.7500   \n",
       "MSSubClass    1,168.0000      57.3459     42.8332     20.0000      20.0000   \n",
       "LotFrontage     963.0000      70.1059     24.6127     21.0000      60.0000   \n",
       "LotArea       1,168.0000  10,355.9110  8,390.0070  1,300.0000   7,500.0000   \n",
       "OverallQual   1,168.0000       6.0873      1.3981      1.0000       5.0000   \n",
       "OverallCond   1,168.0000       5.5736      1.1192      1.0000       5.0000   \n",
       "YearBuilt     1,168.0000   1,971.4854     30.2503  1,872.0000   1,954.0000   \n",
       "YearRemodAdd  1,168.0000   1,984.6704     20.7046  1,950.0000   1,966.0000   \n",
       "MasVnrArea    1,162.0000     104.9509    186.8202      0.0000       0.0000   \n",
       "BsmtFinSF1    1,168.0000     446.7115    464.6336      0.0000       0.0000   \n",
       "BsmtFinSF2    1,168.0000      45.3622    157.1603      0.0000       0.0000   \n",
       "BsmtUnfSF     1,168.0000     562.4349    444.6071      0.0000     216.0000   \n",
       "TotalBsmtSF   1,168.0000   1,054.5086    447.6257      0.0000     788.0000   \n",
       "1stFlrSF      1,168.0000   1,162.1353    390.8679    334.0000     882.0000   \n",
       "2ndFlrSF      1,168.0000     347.8836    437.7416      0.0000       0.0000   \n",
       "LowQualFinSF  1,168.0000       5.6995     47.5181      0.0000       0.0000   \n",
       "GrLivArea     1,168.0000   1,515.7183    530.5305    334.0000   1,133.5000   \n",
       "BsmtFullBath  1,168.0000       0.4212      0.5210      0.0000       0.0000   \n",
       "BsmtHalfBath  1,168.0000       0.0625      0.2457      0.0000       0.0000   \n",
       "FullBath      1,168.0000       1.5702      0.5571      0.0000       1.0000   \n",
       "HalfBath      1,168.0000       0.3776      0.5040      0.0000       0.0000   \n",
       "BedroomAbvGr  1,168.0000       2.8553      0.8262      0.0000       2.0000   \n",
       "KitchenAbvGr  1,168.0000       1.0514      0.2285      1.0000       1.0000   \n",
       "TotRmsAbvGrd  1,168.0000       6.5068      1.6240      2.0000       5.0000   \n",
       "Fireplaces    1,168.0000       0.6122      0.6449      0.0000       0.0000   \n",
       "GarageYrBlt   1,102.0000   1,978.5181     24.7374  1,900.0000   1,961.0000   \n",
       "GarageCars    1,168.0000       1.7688      0.7461      0.0000       1.0000   \n",
       "GarageArea    1,168.0000     473.0317    212.9000      0.0000     336.0000   \n",
       "WoodDeckSF    1,168.0000      93.2988    124.0268      0.0000       0.0000   \n",
       "OpenPorchSF   1,168.0000      45.5300     64.0452      0.0000       0.0000   \n",
       "EnclosedPorch 1,168.0000      22.4632     62.3954      0.0000       0.0000   \n",
       "3SsnPorch     1,168.0000       3.0334     27.3477      0.0000       0.0000   \n",
       "ScreenPorch   1,168.0000      15.5728     56.6167      0.0000       0.0000   \n",
       "PoolArea      1,168.0000       3.4486     44.8969      0.0000       0.0000   \n",
       "MiscVal       1,168.0000      49.6010    549.5847      0.0000       0.0000   \n",
       "MoSold        1,168.0000       6.3613      2.7013      1.0000       5.0000   \n",
       "YrSold        1,168.0000   2,007.8031      1.3301  2,006.0000   2,007.0000   \n",
       "SalePrice     1,168.0000 181,132.9255 80,521.2100 34,900.0000 129,900.0000   \n",
       "\n",
       "                       50%          75%          max  \n",
       "Unnamed: 0        724.5000   1,082.2500   1,457.0000  \n",
       "Id                725.5000   1,083.2500   1,458.0000  \n",
       "MSSubClass         50.0000      70.0000     190.0000  \n",
       "LotFrontage        69.0000      80.0000     313.0000  \n",
       "LotArea         9,452.5000  11,601.5000 164,660.0000  \n",
       "OverallQual         6.0000       7.0000      10.0000  \n",
       "OverallCond         5.0000       6.0000       9.0000  \n",
       "YearBuilt       1,973.0000   2,001.0000   2,010.0000  \n",
       "YearRemodAdd    1,993.0000   2,004.0000   2,010.0000  \n",
       "MasVnrArea          0.0000     163.7500   1,600.0000  \n",
       "BsmtFinSF1        386.5000     709.0000   5,644.0000  \n",
       "BsmtFinSF2          0.0000       0.0000   1,474.0000  \n",
       "BsmtUnfSF         468.0000     801.5000   2,336.0000  \n",
       "TotalBsmtSF       990.0000   1,294.0000   6,110.0000  \n",
       "1stFlrSF        1,086.0000   1,382.2500   4,692.0000  \n",
       "2ndFlrSF            0.0000     728.0000   2,065.0000  \n",
       "LowQualFinSF        0.0000       0.0000     572.0000  \n",
       "GrLivArea       1,458.5000   1,768.0000   5,642.0000  \n",
       "BsmtFullBath        0.0000       1.0000       3.0000  \n",
       "BsmtHalfBath        0.0000       0.0000       2.0000  \n",
       "FullBath            2.0000       2.0000       3.0000  \n",
       "HalfBath            0.0000       1.0000       2.0000  \n",
       "BedroomAbvGr        3.0000       3.0000       8.0000  \n",
       "KitchenAbvGr        1.0000       1.0000       3.0000  \n",
       "TotRmsAbvGrd        6.0000       7.0000      14.0000  \n",
       "Fireplaces          1.0000       1.0000       3.0000  \n",
       "GarageYrBlt     1,980.0000   2,002.0000   2,010.0000  \n",
       "GarageCars          2.0000       2.0000       4.0000  \n",
       "GarageArea        476.5000     576.0000   1,418.0000  \n",
       "WoodDeckSF          0.0000     168.0000     857.0000  \n",
       "OpenPorchSF        24.0000      66.0000     523.0000  \n",
       "EnclosedPorch       0.0000       0.0000     552.0000  \n",
       "3SsnPorch           0.0000       0.0000     508.0000  \n",
       "ScreenPorch         0.0000       0.0000     440.0000  \n",
       "PoolArea            0.0000       0.0000     738.0000  \n",
       "MiscVal             0.0000       0.0000  15,500.0000  \n",
       "MoSold              6.0000       8.0000      12.0000  \n",
       "YrSold          2,008.0000   2,009.0000   2,010.0000  \n",
       "SalePrice     163,000.0000 214,000.0000 755,000.0000  "
      ]
     },
     "execution_count": 9,
     "metadata": {},
     "output_type": "execute_result"
    }
   ],
   "source": [
    "train.describe().T"
   ]
  },
  {
   "cell_type": "markdown",
   "metadata": {
    "heading_collapsed": "true",
    "tags": []
   },
   "source": [
    "## General questions on the data:"
   ]
  },
  {
   "cell_type": "markdown",
   "metadata": {
    "execution": {
     "iopub.execute_input": "2021-06-17T12:14:11.821784Z",
     "iopub.status.busy": "2021-06-17T12:14:11.820986Z",
     "iopub.status.idle": "2021-06-17T12:14:11.833755Z",
     "shell.execute_reply": "2021-06-17T12:14:11.826836Z",
     "shell.execute_reply.started": "2021-06-17T12:14:11.821738Z"
    }
   },
   "source": [
    "How many features are numerical? "
   ]
  },
  {
   "cell_type": "code",
   "execution_count": 10,
   "metadata": {
    "execution": {
     "iopub.execute_input": "2021-10-18T08:59:27.179177Z",
     "iopub.status.busy": "2021-10-18T08:59:27.178922Z",
     "iopub.status.idle": "2021-10-18T08:59:27.187679Z",
     "shell.execute_reply": "2021-10-18T08:59:27.186630Z",
     "shell.execute_reply.started": "2021-10-18T08:59:27.179150Z"
    },
    "tags": []
   },
   "outputs": [
    {
     "data": {
      "text/plain": [
       "39"
      ]
     },
     "execution_count": 10,
     "metadata": {},
     "output_type": "execute_result"
    }
   ],
   "source": [
    "train.select_dtypes('number').shape[1]"
   ]
  },
  {
   "cell_type": "markdown",
   "metadata": {},
   "source": [
    "What is the median of the LotFrontage feature?\n"
   ]
  },
  {
   "cell_type": "code",
   "execution_count": 11,
   "metadata": {
    "execution": {
     "iopub.execute_input": "2021-10-18T08:59:27.189119Z",
     "iopub.status.busy": "2021-10-18T08:59:27.188901Z",
     "iopub.status.idle": "2021-10-18T08:59:27.196115Z",
     "shell.execute_reply": "2021-10-18T08:59:27.195152Z",
     "shell.execute_reply.started": "2021-10-18T08:59:27.189093Z"
    },
    "tags": []
   },
   "outputs": [
    {
     "data": {
      "text/plain": [
       "69.0"
      ]
     },
     "execution_count": 11,
     "metadata": {},
     "output_type": "execute_result"
    }
   ],
   "source": [
    "train['LotFrontage'].median()"
   ]
  },
  {
   "cell_type": "markdown",
   "metadata": {},
   "source": [
    "What is the feature with the largest standard deviation?"
   ]
  },
  {
   "cell_type": "code",
   "execution_count": 12,
   "metadata": {
    "execution": {
     "iopub.execute_input": "2021-10-18T08:59:27.197416Z",
     "iopub.status.busy": "2021-10-18T08:59:27.197211Z",
     "iopub.status.idle": "2021-10-18T08:59:27.219279Z",
     "shell.execute_reply": "2021-10-18T08:59:27.218248Z",
     "shell.execute_reply.started": "2021-10-18T08:59:27.197391Z"
    },
    "tags": []
   },
   "outputs": [
    {
     "data": {
      "text/plain": [
       "SalePrice       80,521.2100\n",
       "LotArea          8,390.0070\n",
       "MiscVal            549.5847\n",
       "GrLivArea          530.5305\n",
       "BsmtFinSF1         464.6336\n",
       "TotalBsmtSF        447.6257\n",
       "BsmtUnfSF          444.6071\n",
       "2ndFlrSF           437.7416\n",
       "Id                 420.3979\n",
       "Unnamed: 0         420.3979\n",
       "1stFlrSF           390.8679\n",
       "GarageArea         212.9000\n",
       "MasVnrArea         186.8202\n",
       "BsmtFinSF2         157.1603\n",
       "WoodDeckSF         124.0268\n",
       "OpenPorchSF         64.0452\n",
       "EnclosedPorch       62.3954\n",
       "ScreenPorch         56.6167\n",
       "LowQualFinSF        47.5181\n",
       "PoolArea            44.8969\n",
       "MSSubClass          42.8332\n",
       "YearBuilt           30.2503\n",
       "3SsnPorch           27.3477\n",
       "GarageYrBlt         24.7374\n",
       "LotFrontage         24.6127\n",
       "YearRemodAdd        20.7046\n",
       "MoSold               2.7013\n",
       "TotRmsAbvGrd         1.6240\n",
       "OverallQual          1.3981\n",
       "YrSold               1.3301\n",
       "OverallCond          1.1192\n",
       "BedroomAbvGr         0.8262\n",
       "GarageCars           0.7461\n",
       "Fireplaces           0.6449\n",
       "FullBath             0.5571\n",
       "BsmtFullBath         0.5210\n",
       "HalfBath             0.5040\n",
       "BsmtHalfBath         0.2457\n",
       "KitchenAbvGr         0.2285\n",
       "dtype: float64"
      ]
     },
     "execution_count": 12,
     "metadata": {},
     "output_type": "execute_result"
    }
   ],
   "source": [
    "train.std().sort_values(ascending = False)\n",
    "# SalePrice is a label so the FEATURE with largest std is LotArea"
   ]
  },
  {
   "cell_type": "markdown",
   "metadata": {},
   "source": [
    "What is data the type of each feature?"
   ]
  },
  {
   "cell_type": "code",
   "execution_count": 13,
   "metadata": {
    "_cell_guid": "98dd44da-454a-405e-aa49-9ae81e7da40b",
    "_kg_hide-input": true,
    "_kg_hide-output": true,
    "_uuid": "cec8da66-8480-4b5f-80ef-bce32f5f7130",
    "execution": {
     "iopub.execute_input": "2021-10-18T08:59:27.220723Z",
     "iopub.status.busy": "2021-10-18T08:59:27.220508Z",
     "iopub.status.idle": "2021-10-18T08:59:27.228754Z",
     "shell.execute_reply": "2021-10-18T08:59:27.227756Z",
     "shell.execute_reply.started": "2021-10-18T08:59:27.220697Z"
    },
    "tags": []
   },
   "outputs": [
    {
     "data": {
      "text/plain": [
       "Unnamed: 0         int64\n",
       "Id                 int64\n",
       "MSSubClass         int64\n",
       "MSZoning          object\n",
       "LotFrontage      float64\n",
       "                  ...   \n",
       "MoSold             int64\n",
       "YrSold             int64\n",
       "SaleType          object\n",
       "SaleCondition     object\n",
       "SalePrice          int64\n",
       "Length: 82, dtype: object"
      ]
     },
     "execution_count": 13,
     "metadata": {},
     "output_type": "execute_result"
    }
   ],
   "source": [
    "train.dtypes"
   ]
  },
  {
   "cell_type": "markdown",
   "metadata": {
    "_cell_guid": "9eef0002-26bb-41f9-bc18-07832d848410",
    "_uuid": "e908bc68-dec3-46b8-a021-7c03d5a08a7b"
   },
   "source": [
    "As you can see there are multiple types of features.   \n",
    "Most of the features are object type (includes string values in the variable)."
   ]
  },
  {
   "cell_type": "markdown",
   "metadata": {
    "heading_collapsed": "true",
    "tags": []
   },
   "source": [
    "## Correlations"
   ]
  },
  {
   "cell_type": "markdown",
   "metadata": {},
   "source": [
    "Linear regression assumes a linear correlation between every feature and the target variable.\n",
    "First, we want to calculate the Pearson Correlation: "
   ]
  },
  {
   "cell_type": "markdown",
   "metadata": {},
   "source": [
    "Find the correlation of all the features with the target variable (i.e. SalePrice) in the training set."
   ]
  },
  {
   "cell_type": "code",
   "execution_count": 14,
   "metadata": {
    "execution": {
     "iopub.execute_input": "2021-10-18T08:59:27.230736Z",
     "iopub.status.busy": "2021-10-18T08:59:27.230516Z",
     "iopub.status.idle": "2021-10-18T08:59:27.244221Z",
     "shell.execute_reply": "2021-10-18T08:59:27.243174Z",
     "shell.execute_reply.started": "2021-10-18T08:59:27.230710Z"
    }
   },
   "outputs": [
    {
     "data": {
      "text/plain": [
       "Unnamed: 0      -0.0173\n",
       "Id              -0.0173\n",
       "MSSubClass      -0.0828\n",
       "LotFrontage      0.3357\n",
       "LotArea          0.2647\n",
       "OverallQual      0.7873\n",
       "OverallCond     -0.0735\n",
       "YearBuilt        0.5210\n",
       "YearRemodAdd     0.5151\n",
       "MasVnrArea       0.4888\n",
       "BsmtFinSF1       0.3838\n",
       "BsmtFinSF2      -0.0211\n",
       "BsmtUnfSF        0.2086\n",
       "TotalBsmtSF      0.5981\n",
       "1stFlrSF         0.5940\n",
       "2ndFlrSF         0.3262\n",
       "LowQualFinSF    -0.0161\n",
       "GrLivArea        0.7053\n",
       "BsmtFullBath     0.2331\n",
       "BsmtHalfBath    -0.0076\n",
       "FullBath         0.5468\n",
       "HalfBath         0.2802\n",
       "BedroomAbvGr     0.1583\n",
       "KitchenAbvGr    -0.1448\n",
       "TotRmsAbvGrd     0.5364\n",
       "Fireplaces       0.4612\n",
       "GarageYrBlt      0.4895\n",
       "GarageCars       0.6410\n",
       "GarageArea       0.6294\n",
       "WoodDeckSF       0.3221\n",
       "OpenPorchSF      0.3104\n",
       "EnclosedPorch   -0.1047\n",
       "3SsnPorch        0.0543\n",
       "ScreenPorch      0.0950\n",
       "PoolArea         0.1018\n",
       "MiscVal         -0.0269\n",
       "MoSold           0.0414\n",
       "YrSold          -0.0319\n",
       "SalePrice        1.0000\n",
       "Name: SalePrice, dtype: float64"
      ]
     },
     "execution_count": 14,
     "metadata": {},
     "output_type": "execute_result"
    }
   ],
   "source": [
    "train.corr()[\"SalePrice\"]"
   ]
  },
  {
   "cell_type": "markdown",
   "metadata": {},
   "source": [
    "Sort the features according to the absolute value of their correlation with SalePrice"
   ]
  },
  {
   "cell_type": "code",
   "execution_count": 15,
   "metadata": {
    "_cell_guid": "b1aeb267-3868-470d-87bc-1d3d02832dd9",
    "_kg_hide-input": true,
    "_uuid": "02155550-8856-4aad-9f40-a757774a7ab2",
    "execution": {
     "iopub.execute_input": "2021-10-18T08:59:27.245646Z",
     "iopub.status.busy": "2021-10-18T08:59:27.245432Z",
     "iopub.status.idle": "2021-10-18T08:59:27.259798Z",
     "shell.execute_reply": "2021-10-18T08:59:27.258753Z",
     "shell.execute_reply.started": "2021-10-18T08:59:27.245620Z"
    },
    "tags": []
   },
   "outputs": [
    {
     "data": {
      "text/plain": [
       "OverallQual     0.7873\n",
       "GrLivArea       0.7053\n",
       "GarageCars      0.6410\n",
       "GarageArea      0.6294\n",
       "TotalBsmtSF     0.5981\n",
       "1stFlrSF        0.5940\n",
       "FullBath        0.5468\n",
       "TotRmsAbvGrd    0.5364\n",
       "YearBuilt       0.5210\n",
       "YearRemodAdd    0.5151\n",
       "GarageYrBlt     0.4895\n",
       "MasVnrArea      0.4888\n",
       "Fireplaces      0.4612\n",
       "BsmtFinSF1      0.3838\n",
       "LotFrontage     0.3357\n",
       "2ndFlrSF        0.3262\n",
       "WoodDeckSF      0.3221\n",
       "OpenPorchSF     0.3104\n",
       "HalfBath        0.2802\n",
       "LotArea         0.2647\n",
       "BsmtFullBath    0.2331\n",
       "BsmtUnfSF       0.2086\n",
       "BedroomAbvGr    0.1583\n",
       "KitchenAbvGr    0.1448\n",
       "EnclosedPorch   0.1047\n",
       "PoolArea        0.1018\n",
       "ScreenPorch     0.0950\n",
       "MSSubClass      0.0828\n",
       "OverallCond     0.0735\n",
       "3SsnPorch       0.0543\n",
       "MoSold          0.0414\n",
       "YrSold          0.0319\n",
       "MiscVal         0.0269\n",
       "BsmtFinSF2      0.0211\n",
       "Unnamed: 0      0.0173\n",
       "Id              0.0173\n",
       "LowQualFinSF    0.0161\n",
       "BsmtHalfBath    0.0076\n",
       "Name: SalePrice, dtype: float64"
      ]
     },
     "execution_count": 15,
     "metadata": {},
     "output_type": "execute_result"
    }
   ],
   "source": [
    "train.corr().abs()[\"SalePrice\"].sort_values(ascending = False)[1:]"
   ]
  },
  {
   "cell_type": "markdown",
   "metadata": {
    "_cell_guid": "b06bd2d5-6523-42b4-8db6-cac4df7e8ef2",
    "_uuid": "a5ead127-432f-4c17-8d90-8e1bad62f249"
   },
   "source": [
    "So we see that **'OverallQual'** is the most correlated feature. Let's put it in a scatter plot with the target variable and see how it looks."
   ]
  },
  {
   "cell_type": "markdown",
   "metadata": {
    "_cell_guid": "dad900e1-1b35-4e37-9c4b-aa605db90430",
    "_uuid": "6303094e-aa22-4cb2-a34e-7c08e1043bad"
   },
   "source": [
    "**SalePrice vs OverallQual**\n",
    "\n",
    "Create a scatterplot od SalePrice against OverallQual"
   ]
  },
  {
   "cell_type": "code",
   "execution_count": 16,
   "metadata": {
    "_kg_hide-input": true,
    "execution": {
     "iopub.execute_input": "2021-10-18T08:59:27.261244Z",
     "iopub.status.busy": "2021-10-18T08:59:27.261027Z",
     "iopub.status.idle": "2021-10-18T08:59:27.265708Z",
     "shell.execute_reply": "2021-10-18T08:59:27.264770Z",
     "shell.execute_reply.started": "2021-10-18T08:59:27.261218Z"
    },
    "tags": []
   },
   "outputs": [],
   "source": [
    "def create_scatterplot(y, x):\n",
    "    plt.subplots(figsize = (12,8))\n",
    "    sns.scatterplot(y = y, x = x);"
   ]
  },
  {
   "cell_type": "markdown",
   "metadata": {},
   "source": [
    "**Optional** use the function above to create your scatter plots"
   ]
  },
  {
   "cell_type": "code",
   "execution_count": 17,
   "metadata": {
    "_kg_hide-input": true,
    "execution": {
     "iopub.execute_input": "2021-10-18T08:59:27.267104Z",
     "iopub.status.busy": "2021-10-18T08:59:27.266869Z",
     "iopub.status.idle": "2021-10-18T08:59:27.553722Z",
     "shell.execute_reply": "2021-10-18T08:59:27.552317Z",
     "shell.execute_reply.started": "2021-10-18T08:59:27.267078Z"
    },
    "tags": []
   },
   "outputs": [
    {
     "data": {
      "image/png": "[encoded data removed]",
      "text/plain": [
       "<Figure size 864x576 with 1 Axes>"
      ]
     },
     "metadata": {
      "needs_background": "light"
     },
     "output_type": "display_data"
    }
   ],
   "source": [
    "%matplotlib inline\n",
    "create_scatterplot(train['SalePrice'], train['OverallQual'])"
   ]
  },
  {
   "cell_type": "markdown",
   "metadata": {
    "_cell_guid": "2e5dae19-f6e8-4bef-b080-a1427fc7b1b9",
    "_uuid": "96a8e53a-5c18-4f38-a7f5-e2e0f3f31ebc"
   },
   "source": [
    "Generally, a scatter plot is not the best way to visualize categorical variables. However; **OverallQual** is an **ordinal** variable, which means that its categories have a specific order (for example 8 is better than 7), so a scatter plot does make sense in this case. In the graph above we can see that there is an apparent relationship between the two features. The price of the houses increases with the overall quality. Let's examine a few more features to determine the outliers. Let's focus on the numerical variables this time."
   ]
  },
  {
   "cell_type": "markdown",
   "metadata": {
    "_cell_guid": "5ba8e501-0e12-4cfe-b40f-8830232b5ff3",
    "_uuid": "be004cfe-4ca7-44b6-a960-45c32ff9e4d5"
   },
   "source": [
    "**SalePrice vs GrLivArea**"
   ]
  },
  {
   "cell_type": "code",
   "execution_count": 18,
   "metadata": {
    "execution": {
     "iopub.execute_input": "2021-10-18T08:59:27.555404Z",
     "iopub.status.busy": "2021-10-18T08:59:27.555179Z",
     "iopub.status.idle": "2021-10-18T08:59:27.827892Z",
     "shell.execute_reply": "2021-10-18T08:59:27.826717Z",
     "shell.execute_reply.started": "2021-10-18T08:59:27.555376Z"
    },
    "tags": []
   },
   "outputs": [
    {
     "data": {
      "image/png": "[encoded data removed]",
      "text/plain": [
       "<Figure size 864x576 with 1 Axes>"
      ]
     },
     "metadata": {
      "needs_background": "light"
     },
     "output_type": "display_data"
    }
   ],
   "source": [
    "create_scatterplot(train['SalePrice'], train['GrLivArea'])"
   ]
  },
  {
   "cell_type": "markdown",
   "metadata": {
    "_cell_guid": "2136bd32-dfc0-4003-bc43-d96a8bb86278",
    "_uuid": "1cc96334-adcd-4f8b-85f5-96c6e6089413"
   },
   "source": [
    "As you can see, there are two outliers in the plot above. We will get rid off them later. Let's look at another scatter plot with a different feature."
   ]
  },
  {
   "cell_type": "markdown",
   "metadata": {
    "_cell_guid": "0a28ed58-55f9-42a7-9d0f-d2d5198240dd",
    "_uuid": "b30a1bbb-6a8a-429b-872b-9f110025d33d"
   },
   "source": [
    "**SalePrice vs TotalBsmtSF**"
   ]
  },
  {
   "cell_type": "code",
   "execution_count": 19,
   "metadata": {
    "_cell_guid": "ab918ad4-77b1-49fb-9211-9e4406e67fa3",
    "_kg_hide-input": true,
    "_uuid": "6ff7678f-ac40-456f-b074-8baafd41c21a",
    "execution": {
     "iopub.execute_input": "2021-10-18T08:59:27.829572Z",
     "iopub.status.busy": "2021-10-18T08:59:27.829344Z",
     "iopub.status.idle": "2021-10-18T08:59:28.111880Z",
     "shell.execute_reply": "2021-10-18T08:59:28.110711Z",
     "shell.execute_reply.started": "2021-10-18T08:59:27.829544Z"
    },
    "tags": []
   },
   "outputs": [
    {
     "data": {
      "image/png": "[encoded data removed]",
      "text/plain": [
       "<Figure size 864x576 with 1 Axes>"
      ]
     },
     "metadata": {
      "needs_background": "light"
     },
     "output_type": "display_data"
    }
   ],
   "source": [
    "create_scatterplot(train['SalePrice'], train['TotalBsmtSF'])"
   ]
  },
  {
   "cell_type": "markdown",
   "metadata": {
    "_cell_guid": "9c0e0694-d33e-4502-b73a-d35d50f7df80",
    "_uuid": "2ca678ef-1c15-4e83-89da-9c1c2b24c2a3"
   },
   "source": [
    "**SalePrice vs 1stFlrSF**"
   ]
  },
  {
   "cell_type": "code",
   "execution_count": 20,
   "metadata": {
    "_cell_guid": "27a1ab1e-9741-4e24-b333-8d6354fcf142",
    "_kg_hide-input": true,
    "_uuid": "d754a68a-1397-4df5-91e7-2ae3e5d41a89",
    "execution": {
     "iopub.execute_input": "2021-10-18T08:59:28.113745Z",
     "iopub.status.busy": "2021-10-18T08:59:28.113516Z",
     "iopub.status.idle": "2021-10-18T08:59:28.369351Z",
     "shell.execute_reply": "2021-10-18T08:59:28.368237Z",
     "shell.execute_reply.started": "2021-10-18T08:59:28.113717Z"
    },
    "tags": []
   },
   "outputs": [
    {
     "data": {
      "image/png": "[encoded data removed]",
      "text/plain": [
       "<Figure size 864x576 with 1 Axes>"
      ]
     },
     "metadata": {
      "needs_background": "light"
     },
     "output_type": "display_data"
    }
   ],
   "source": [
    "create_scatterplot(train['SalePrice'], train['1stFlrSF']);"
   ]
  },
  {
   "cell_type": "markdown",
   "metadata": {
    "heading_collapsed": "true",
    "tags": []
   },
   "source": [
    "## What have we discovered so far?"
   ]
  },
  {
   "cell_type": "markdown",
   "metadata": {
    "_cell_guid": "6cc563ea-81cc-4b23-b1a2-1922af7d4cd2",
    "_uuid": "23f417ba-d0e5-40bb-94c9-db9f12e4fbab"
   },
   "source": [
    "* Our target variable shows an unequal level of variance across most features. This is called **Heteroscedasticity (will be elaborated later)** and is a red flag for the multiple linear regression model.\n",
    "* There are some outliers in the scatter plots.\n",
    "\n",
    "<br>Let's deal with these outliers by removing them from the data"
   ]
  },
  {
   "cell_type": "code",
   "execution_count": 21,
   "metadata": {
    "_cell_guid": "4f4c4f41-83bc-42df-86a4-eaa0e01d5f20",
    "_kg_hide-input": true,
    "_uuid": "664e9a98-b288-486b-9ca8-e58820a4440c",
    "execution": {
     "iopub.execute_input": "2021-10-18T08:59:28.371046Z",
     "iopub.status.busy": "2021-10-18T08:59:28.370786Z",
     "iopub.status.idle": "2021-10-18T08:59:28.379332Z",
     "shell.execute_reply": "2021-10-18T08:59:28.378054Z",
     "shell.execute_reply.started": "2021-10-18T08:59:28.371017Z"
    },
    "tags": []
   },
   "outputs": [],
   "source": [
    "## Deleting the two values with outliers. \n",
    "train = train[train['GrLivArea'] < 4500]\n",
    "train.reset_index(drop = True, inplace = True)"
   ]
  },
  {
   "cell_type": "markdown",
   "metadata": {
    "_cell_guid": "6c054c3e-12fd-4775-a1ae-934e7e7efd33",
    "_uuid": "2588dd58-d4f0-420a-a7c9-b2e644001904",
    "tags": []
   },
   "source": [
    "# Assumptions of Regression\n",
    "\n",
    "* **Linearity** \n",
    "* **Homoscedasticity (Constant Error Variance vs Heteroscedasticity).**\n",
    "* **The target variable is normally distributed when the features values are fixed.**\n",
    "* **Multivariate Normality (Normality of Errors).**\n",
    "* **No or little Multicollinearity.** \n",
    "\n",
    "Since we fit a linear model, we assume that the relationship between the features and the target is **linear**, and the errors, or residuals, are pure random fluctuations around the true line.    \n",
    "We expect that the variability in the dependent variable doesn't increase as the value of the features increases, which is the assumptions of equal variance, also known as **Homoscedasticity**.  \n",
    "We also assume that the observations are independent of one another (**No Multicollinearity**), and that there is no correlation between sequential observations.\n",
    "\n",
    "These assumptions are prone to happen simultaneously. In other words, if we see that one of these assumptions holds in the dataset, it's more likely that other assumptions mentioned above will hold as well.  \n",
    "Therefore, we can find and fix various assumptions with a few unique techniques.\n",
    "\n",
    "So, **How do we check regression assumptions? We fit a regression line and look for the variability of the response data along the regression line.** "
   ]
  },
  {
   "cell_type": "markdown",
   "metadata": {
    "heading_collapsed": "true",
    "tags": []
   },
   "source": [
    "## Linearity"
   ]
  },
  {
   "cell_type": "markdown",
   "metadata": {},
   "source": [
    "Linear regression requires the relationship between each independent variable and the dependent variable to be linear.  \n",
    "The linearity assumption can be tested with scatter plots.  \n",
    "The following example depicts a case where little linearity is present. "
   ]
  },
  {
   "cell_type": "markdown",
   "metadata": {
    "execution": {
     "iopub.execute_input": "2021-06-17T14:16:32.271290Z",
     "iopub.status.busy": "2021-06-17T14:16:32.270925Z",
     "iopub.status.idle": "2021-06-17T14:16:32.287128Z",
     "shell.execute_reply": "2021-06-17T14:16:32.286037Z",
     "shell.execute_reply.started": "2021-06-17T14:16:32.271264Z"
    }
   },
   "source": [
    "Scatter plotting for SalePrice and GrLivArea"
   ]
  },
  {
   "cell_type": "code",
   "execution_count": 22,
   "metadata": {
    "execution": {
     "iopub.execute_input": "2021-10-18T08:59:28.380880Z",
     "iopub.status.busy": "2021-10-18T08:59:28.380663Z",
     "iopub.status.idle": "2021-10-18T08:59:28.901828Z",
     "shell.execute_reply": "2021-10-18T08:59:28.900657Z",
     "shell.execute_reply.started": "2021-10-18T08:59:28.380854Z"
    },
    "tags": []
   },
   "outputs": [
    {
     "data": {
      "image/png": "[encoded data removed]",
      "text/plain": [
       "<Figure size 864x576 with 1 Axes>"
      ]
     },
     "metadata": {
      "needs_background": "light"
     },
     "output_type": "display_data"
    }
   ],
   "source": [
    "fig, ax1 = plt.subplots(figsize = (12,8), ncols=1,sharey=False)\n",
    "sns.scatterplot(x = train['GrLivArea'], y = train['SalePrice'],  ax=ax1)\n",
    "sns.regplot(x=train['GrLivArea'], y=train['SalePrice'], ax=ax1); # plot a regression line. "
   ]
  },
  {
   "cell_type": "markdown",
   "metadata": {
    "_cell_guid": "b8506cb7-41ec-494e-8af5-87ce9b55745c",
    "_uuid": "9fac9095-b1a8-4ce1-951e-ef2201ca0f68"
   },
   "source": [
    "Sometimes we may be trying to fit a linear regression model when the data might not be so linear, or the function may need another degree of freedom to fit the data.  \n",
    "In that case, we may need to change our model depending on the data to get the best possible fit.  "
   ]
  },
  {
   "cell_type": "markdown",
   "metadata": {
    "execution": {
     "iopub.execute_input": "2021-06-17T14:19:51.443210Z",
     "iopub.status.busy": "2021-06-17T14:19:51.442813Z",
     "iopub.status.idle": "2021-06-17T14:19:51.446861Z",
     "shell.execute_reply": "2021-06-17T14:19:51.446034Z",
     "shell.execute_reply.started": "2021-06-17T14:19:51.443180Z"
    },
    "heading_collapsed": "true",
    "tags": []
   },
   "source": [
    "## Homoscedasticity"
   ]
  },
  {
   "cell_type": "markdown",
   "metadata": {
    "execution": {
     "iopub.execute_input": "2021-06-17T14:27:30.863822Z",
     "iopub.status.busy": "2021-06-17T14:27:30.863349Z",
     "iopub.status.idle": "2021-06-17T14:27:30.888380Z",
     "shell.execute_reply": "2021-06-17T14:27:30.886281Z",
     "shell.execute_reply.started": "2021-06-17T14:27:30.863789Z"
    }
   },
   "source": [
    "**Homoscedasticity (Constant Variance):** \n",
    "Homoscedasticity describes a situation in which the error/variance/noise in the relationship between the independent variables and the dependent variable is the same across all values of the independent variable.  \n",
    "In other words, there is a constant variance present in the response variable as the predictor variable increases.  \n",
    "If the \"noise\" is not the same across the values of an independent variable, we call that **Heteroscedasticity**.  \n",
    "As you can guess, it is the opposite of **Homoscedasticity.**\n",
    "\n",
    "\n",
    "<p><img src=\"https://www.dummies.com/wp-content/uploads/415147.image1.jpg\" style=\"float:center\"></img></p>\n",
    "\n",
    "This plot above is an excellent example of Homoscedasticity.  \n",
    "\n",
    "As you can see, the residual variance is the same as the value of the predictor variable increases.  \n",
    "One way to fix this Heteroscedasticity is by using a transformation method like log-transformation. We will do that later.\n",
    "\n",
    "In the **GrLivArea**-**SalePrice** scatter plot we see that, as the value of **GrLivArea** \n",
    "increases, the variance also increases (i.e. we have heteroscedasticity)."
   ]
  },
  {
   "cell_type": "markdown",
   "metadata": {
    "heading_collapsed": "true",
    "tags": []
   },
   "source": [
    "### Let's look at the target - SalePrice"
   ]
  },
  {
   "cell_type": "markdown",
   "metadata": {
    "execution": {
     "iopub.execute_input": "2021-06-17T13:51:56.378839Z",
     "iopub.status.busy": "2021-06-17T13:51:56.378375Z",
     "iopub.status.idle": "2021-06-17T13:51:56.391444Z",
     "shell.execute_reply": "2021-06-17T13:51:56.390261Z",
     "shell.execute_reply.started": "2021-06-17T13:51:56.378799Z"
    }
   },
   "source": [
    "Plot a histogram of the label"
   ]
  },
  {
   "cell_type": "code",
   "execution_count": 23,
   "metadata": {
    "execution": {
     "iopub.execute_input": "2021-10-18T08:59:28.903749Z",
     "iopub.status.busy": "2021-10-18T08:59:28.903519Z",
     "iopub.status.idle": "2021-10-18T08:59:28.908041Z",
     "shell.execute_reply": "2021-10-18T08:59:28.907073Z",
     "shell.execute_reply.started": "2021-10-18T08:59:28.903721Z"
    },
    "tags": []
   },
   "outputs": [],
   "source": [
    "import seaborn as sns\n",
    "import matplotlib.pyplot as plt"
   ]
  },
  {
   "cell_type": "code",
   "execution_count": 24,
   "metadata": {
    "execution": {
     "iopub.execute_input": "2021-10-18T08:59:28.909329Z",
     "iopub.status.busy": "2021-10-18T08:59:28.909123Z",
     "iopub.status.idle": "2021-10-18T08:59:29.229234Z",
     "shell.execute_reply": "2021-10-18T08:59:29.228114Z",
     "shell.execute_reply.started": "2021-10-18T08:59:28.909303Z"
    },
    "tags": []
   },
   "outputs": [
    {
     "name": "stderr",
     "output_type": "stream",
     "text": [
      "/root/wd/venv/lib/python3.8/site-packages/seaborn/distributions.py:2557: FutureWarning: `distplot` is a deprecated function and will be removed in a future version. Please adapt your code to use either `displot` (a figure-level function with similar flexibility) or `histplot` (an axes-level function for histograms).\n",
      "  warnings.warn(msg, FutureWarning)\n"
     ]
    },
    {
     "data": {
      "image/png": "[encoded data removed]",
      "text/plain": [
       "<Figure size 432x288 with 1 Axes>"
      ]
     },
     "metadata": {
      "needs_background": "light"
     },
     "output_type": "display_data"
    }
   ],
   "source": [
    "sns.distplot(train.loc[:,'SalePrice'], norm_hist=True)\n",
    "plt.title('Histogram');"
   ]
  },
  {
   "cell_type": "markdown",
   "metadata": {
    "execution": {
     "iopub.execute_input": "2021-06-17T13:53:14.932605Z",
     "iopub.status.busy": "2021-06-17T13:53:14.932225Z",
     "iopub.status.idle": "2021-06-17T13:53:14.943737Z",
     "shell.execute_reply": "2021-06-17T13:53:14.942497Z",
     "shell.execute_reply.started": "2021-06-17T13:53:14.932578Z"
    }
   },
   "source": [
    "It seems that the distribution is not symmetric and might have some outliers. Another way of visualizing this is by using a boxpot. "
   ]
  },
  {
   "cell_type": "code",
   "execution_count": 25,
   "metadata": {
    "execution": {
     "iopub.execute_input": "2021-10-18T08:59:29.235909Z",
     "iopub.status.busy": "2021-10-18T08:59:29.235662Z",
     "iopub.status.idle": "2021-10-18T08:59:29.439916Z",
     "shell.execute_reply": "2021-10-18T08:59:29.438740Z",
     "shell.execute_reply.started": "2021-10-18T08:59:29.235880Z"
    },
    "tags": []
   },
   "outputs": [
    {
     "name": "stderr",
     "output_type": "stream",
     "text": [
      "/root/wd/venv/lib/python3.8/site-packages/seaborn/_decorators.py:36: FutureWarning: Pass the following variable as a keyword arg: x. From version 0.12, the only valid positional argument will be `data`, and passing other arguments without an explicit keyword will result in an error or misinterpretation.\n",
      "  warnings.warn(\n",
      "/root/wd/venv/lib/python3.8/site-packages/seaborn/_core.py:1319: UserWarning: Vertical orientation ignored with only `x` specified.\n",
      "  warnings.warn(single_var_warning.format(\"Vertical\", \"x\"))\n"
     ]
    },
    {
     "data": {
      "image/png": "[encoded data removed]",
      "text/plain": [
       "<Figure size 432x288 with 1 Axes>"
      ]
     },
     "metadata": {
      "needs_background": "light"
     },
     "output_type": "display_data"
    }
   ],
   "source": [
    "sns.boxplot(train.loc[:,'SalePrice'], orient='v');\n",
    "plt.title('Box Plot');"
   ]
  },
  {
   "cell_type": "markdown",
   "metadata": {
    "_cell_guid": "67c66715-2ba3-4245-9759-1047606e4f12",
    "_uuid": "f1be8cbe-c8cc-4096-a38b-a81c939653f4"
   },
   "source": [
    "These **two** charts above can tell us a lot about our target variable:\n",
    "* Our target variable, **SalePrice** does not seem to be normally distributed.\n",
    "* The target variable is right-skewed. \n",
    "* There are multiple outliers in the variable."
   ]
  },
  {
   "cell_type": "markdown",
   "metadata": {
    "heading_collapsed": "true",
    "tags": []
   },
   "source": [
    "### Skewness"
   ]
  },
  {
   "cell_type": "markdown",
   "metadata": {},
   "source": [
    "Skewness is an important attribute of a normal distribtution"
   ]
  },
  {
   "cell_type": "markdown",
   "metadata": {
    "_cell_guid": "71602011-62bf-436f-b4a5-fe1ef34e2d97",
    "_uuid": "2f508e99-97b3-4522-9569-ab32b8d6c810"
   },
   "source": [
    "<b>Skewness</b> \n",
    "According to Wikipedia, \n",
    "\n",
    "* \"In probability theory and statistics, skewness is a measure of the asymmetry of the probability distribution of a real-valued random variable about its mean. The skewness value can be positive, zero, negative, or undefined.\n",
    "\n",
    "* For a unimodal distribution, negative skew commonly indicates that the tail is on the left side of the distribution, and positive skew indicates that the tail is on the right. In cases where one tail is long but the other tail is fat, skewness does not obey a simple rule. For example, a zero value means that the tails on both sides of the mean balance out overall; this is the case for a symmetric distribution, but can also be true for an asymmetric distribution where one tail is long and thin, and the other is short but fat.\"\n",
    "\n",
    "The following image illustrates the concept of skewness:  \n",
    "![image](https://cdn-images-1.medium.com/max/1600/1*nj-Ch3AUFmkd0JUSOW_bTQ.jpeg)"
   ]
  },
  {
   "cell_type": "markdown",
   "metadata": {},
   "source": [
    "Find out the skewness of our label"
   ]
  },
  {
   "cell_type": "code",
   "execution_count": 26,
   "metadata": {
    "_cell_guid": "dbf1c7a3-c1cf-4a59-b7be-08c65fa50fad",
    "_kg_hide-input": true,
    "_uuid": "6198f8cd-82de-49c5-a7c8-35b0bf5df409",
    "execution": {
     "iopub.execute_input": "2021-10-18T08:59:29.443355Z",
     "iopub.status.busy": "2021-10-18T08:59:29.443119Z",
     "iopub.status.idle": "2021-10-18T08:59:29.449358Z",
     "shell.execute_reply": "2021-10-18T08:59:29.448331Z",
     "shell.execute_reply.started": "2021-10-18T08:59:29.443327Z"
    },
    "tags": []
   },
   "outputs": [
    {
     "name": "stdout",
     "output_type": "stream",
     "text": [
      "Skewness: 1.9419472091599583\n"
     ]
    }
   ],
   "source": [
    "# skewness\n",
    "print(\"Skewness: \" + str(train['SalePrice'].skew()))"
   ]
  },
  {
   "cell_type": "markdown",
   "metadata": {
    "execution": {
     "iopub.execute_input": "2021-06-17T12:53:30.984220Z",
     "iopub.status.busy": "2021-06-17T12:53:30.983828Z",
     "iopub.status.idle": "2021-06-17T12:53:30.992341Z",
     "shell.execute_reply": "2021-06-17T12:53:30.991186Z",
     "shell.execute_reply.started": "2021-06-17T12:53:30.984191Z"
    }
   },
   "source": [
    "So, now we can see that there is quite a bit of Skewness in the target variable.  \n",
    "This might indicate that some transformation is needed on our target variable. \n",
    "Right Skewness can usually be fixed by using log transformation."
   ]
  },
  {
   "cell_type": "markdown",
   "metadata": {
    "execution": {
     "iopub.execute_input": "2021-06-20T13:34:54.383434Z",
     "iopub.status.busy": "2021-06-20T13:34:54.383059Z",
     "iopub.status.idle": "2021-06-20T13:34:54.392285Z",
     "shell.execute_reply": "2021-06-20T13:34:54.391241Z",
     "shell.execute_reply.started": "2021-06-20T13:34:54.383406Z"
    },
    "heading_collapsed": "true",
    "tags": []
   },
   "source": [
    "### Fixing skewness"
   ]
  },
  {
   "cell_type": "markdown",
   "metadata": {},
   "source": [
    "Now, let's draw the same graphs from above but this time we'll first transform the target variable using a log function "
   ]
  },
  {
   "cell_type": "code",
   "execution_count": 27,
   "metadata": {
    "_cell_guid": "8af2e89b-d316-45ae-8053-68bf53b15f87",
    "_kg_hide-input": true,
    "_uuid": "ef5a8648-6d0e-40de-9bd3-d71d9d9cba4a",
    "execution": {
     "iopub.execute_input": "2021-10-18T08:59:29.451088Z",
     "iopub.status.busy": "2021-10-18T08:59:29.450835Z",
     "iopub.status.idle": "2021-10-18T08:59:29.970757Z",
     "shell.execute_reply": "2021-10-18T08:59:29.969633Z",
     "shell.execute_reply.started": "2021-10-18T08:59:29.451062Z"
    },
    "tags": []
   },
   "outputs": [
    {
     "name": "stderr",
     "output_type": "stream",
     "text": [
      "/root/wd/venv/lib/python3.8/site-packages/seaborn/distributions.py:2557: FutureWarning: `distplot` is a deprecated function and will be removed in a future version. Please adapt your code to use either `displot` (a figure-level function with similar flexibility) or `histplot` (an axes-level function for histograms).\n",
      "  warnings.warn(msg, FutureWarning)\n"
     ]
    },
    {
     "data": {
      "image/png": "[encoded data removed]",
      "text/plain": [
       "<Figure size 432x288 with 1 Axes>"
      ]
     },
     "metadata": {
      "needs_background": "light"
     },
     "output_type": "display_data"
    }
   ],
   "source": [
    "# transform the target variable using numpy.log1p, \n",
    "train[\"logSalePrice\"] = np.log(train[\"SalePrice\"])\n",
    "\n",
    "# plot the newly transformed target\n",
    "sns.distplot(train['logSalePrice'], norm_hist=True)\n",
    "plt.title('logSalePrice density');"
   ]
  },
  {
   "cell_type": "code",
   "execution_count": 28,
   "metadata": {
    "execution": {
     "iopub.execute_input": "2021-10-18T08:59:29.972472Z",
     "iopub.status.busy": "2021-10-18T08:59:29.972241Z",
     "iopub.status.idle": "2021-10-18T08:59:30.171402Z",
     "shell.execute_reply": "2021-10-18T08:59:30.170236Z",
     "shell.execute_reply.started": "2021-10-18T08:59:29.972443Z"
    },
    "tags": []
   },
   "outputs": [
    {
     "name": "stderr",
     "output_type": "stream",
     "text": [
      "/root/wd/venv/lib/python3.8/site-packages/seaborn/_decorators.py:36: FutureWarning: Pass the following variable as a keyword arg: x. From version 0.12, the only valid positional argument will be `data`, and passing other arguments without an explicit keyword will result in an error or misinterpretation.\n",
      "  warnings.warn(\n",
      "/root/wd/venv/lib/python3.8/site-packages/seaborn/_core.py:1319: UserWarning: Vertical orientation ignored with only `x` specified.\n",
      "  warnings.warn(single_var_warning.format(\"Vertical\", \"x\"))\n"
     ]
    },
    {
     "data": {
      "image/png": "[encoded data removed]",
      "text/plain": [
       "<Figure size 432x288 with 1 Axes>"
      ]
     },
     "metadata": {
      "needs_background": "light"
     },
     "output_type": "display_data"
    }
   ],
   "source": [
    "sns.boxplot(train['logSalePrice'], orient='v');\n",
    "plt.title('Box Plot');"
   ]
  },
  {
   "cell_type": "code",
   "execution_count": 29,
   "metadata": {
    "execution": {
     "iopub.execute_input": "2021-10-18T08:59:30.173099Z",
     "iopub.status.busy": "2021-10-18T08:59:30.172869Z",
     "iopub.status.idle": "2021-10-18T08:59:30.684933Z",
     "shell.execute_reply": "2021-10-18T08:59:30.683793Z",
     "shell.execute_reply.started": "2021-10-18T08:59:30.173071Z"
    },
    "tags": []
   },
   "outputs": [
    {
     "data": {
      "image/png": "[encoded data removed]",
      "text/plain": [
       "<Figure size 864x576 with 1 Axes>"
      ]
     },
     "metadata": {
      "needs_background": "light"
     },
     "output_type": "display_data"
    }
   ],
   "source": [
    "fig, ax1 = plt.subplots(figsize = (12,8), ncols=1,sharey=False)\n",
    "sns.scatterplot(x = train['GrLivArea'], y = train['logSalePrice'],  ax=ax1)\n",
    "sns.regplot(x=train['GrLivArea'], y=train['logSalePrice'], ax=ax1); # plot a regression line. "
   ]
  },
  {
   "cell_type": "markdown",
   "metadata": {},
   "source": [
    "As you can see, the log transformation fixes the heteroscedasticity of the target variable."
   ]
  },
  {
   "cell_type": "markdown",
   "metadata": {
    "execution": {
     "iopub.execute_input": "2021-06-20T13:34:54.383434Z",
     "iopub.status.busy": "2021-06-20T13:34:54.383059Z",
     "iopub.status.idle": "2021-06-20T13:34:54.392285Z",
     "shell.execute_reply": "2021-06-20T13:34:54.391241Z",
     "shell.execute_reply.started": "2021-06-20T13:34:54.383406Z"
    },
    "heading_collapsed": "true",
    "tags": []
   },
   "source": [
    "## The target variable is normally distributed when the features values are fixed"
   ]
  },
  {
   "cell_type": "markdown",
   "metadata": {},
   "source": [
    "In plain words, we want to make sure that for each x value, y is a random variable following a normal distribution and its mean lies on the regression line."
   ]
  },
  {
   "cell_type": "markdown",
   "metadata": {},
   "source": [
    "Let's choose one of the values of 'OverallQual' feature:  \n",
    "Do the following for SalePrice and logSalePrice:\n",
    "1. Plot histogram of the target for OverallQual == 8\n",
    "2. Check the skewness"
   ]
  },
  {
   "cell_type": "markdown",
   "metadata": {
    "execution": {
     "iopub.execute_input": "2021-06-30T12:26:26.422749Z",
     "iopub.status.busy": "2021-06-30T12:26:26.422378Z",
     "iopub.status.idle": "2021-06-30T12:26:26.440529Z",
     "shell.execute_reply": "2021-06-30T12:26:26.439206Z",
     "shell.execute_reply.started": "2021-06-30T12:26:26.422722Z"
    }
   },
   "source": [
    "SalePrice"
   ]
  },
  {
   "cell_type": "code",
   "execution_count": 30,
   "metadata": {
    "execution": {
     "iopub.execute_input": "2021-10-18T08:59:30.686627Z",
     "iopub.status.busy": "2021-10-18T08:59:30.686401Z",
     "iopub.status.idle": "2021-10-18T08:59:30.970116Z",
     "shell.execute_reply": "2021-10-18T08:59:30.969018Z",
     "shell.execute_reply.started": "2021-10-18T08:59:30.686598Z"
    },
    "tags": []
   },
   "outputs": [
    {
     "name": "stderr",
     "output_type": "stream",
     "text": [
      "/root/wd/venv/lib/python3.8/site-packages/seaborn/distributions.py:2557: FutureWarning: `distplot` is a deprecated function and will be removed in a future version. Please adapt your code to use either `displot` (a figure-level function with similar flexibility) or `histplot` (an axes-level function for histograms).\n",
      "  warnings.warn(msg, FutureWarning)\n"
     ]
    },
    {
     "data": {
      "image/png": "[encoded data removed]",
      "text/plain": [
       "<Figure size 432x288 with 1 Axes>"
      ]
     },
     "metadata": {
      "needs_background": "light"
     },
     "output_type": "display_data"
    }
   ],
   "source": [
    "sns.distplot(train.loc[train['OverallQual'] == 8,'SalePrice'], norm_hist=True)\n",
    "plt.title('SalePrice density');"
   ]
  },
  {
   "cell_type": "code",
   "execution_count": 31,
   "metadata": {
    "execution": {
     "iopub.execute_input": "2021-10-18T08:59:30.971818Z",
     "iopub.status.busy": "2021-10-18T08:59:30.971590Z",
     "iopub.status.idle": "2021-10-18T08:59:30.980053Z",
     "shell.execute_reply": "2021-10-18T08:59:30.979066Z",
     "shell.execute_reply.started": "2021-10-18T08:59:30.971791Z"
    },
    "tags": []
   },
   "outputs": [
    {
     "data": {
      "text/plain": [
       "0.745782416459045"
      ]
     },
     "execution_count": 31,
     "metadata": {},
     "output_type": "execute_result"
    }
   ],
   "source": [
    "train.loc[train['OverallQual'] == 8,'SalePrice'].skew()"
   ]
  },
  {
   "cell_type": "markdown",
   "metadata": {
    "execution": {
     "iopub.execute_input": "2021-06-30T12:26:15.647208Z",
     "iopub.status.busy": "2021-06-30T12:26:15.646837Z",
     "iopub.status.idle": "2021-06-30T12:26:15.674588Z",
     "shell.execute_reply": "2021-06-30T12:26:15.673556Z",
     "shell.execute_reply.started": "2021-06-30T12:26:15.647181Z"
    }
   },
   "source": [
    "logSalePrice"
   ]
  },
  {
   "cell_type": "code",
   "execution_count": 32,
   "metadata": {
    "execution": {
     "iopub.execute_input": "2021-10-18T08:59:30.981475Z",
     "iopub.status.busy": "2021-10-18T08:59:30.981258Z",
     "iopub.status.idle": "2021-10-18T08:59:31.297044Z",
     "shell.execute_reply": "2021-10-18T08:59:31.295917Z",
     "shell.execute_reply.started": "2021-10-18T08:59:30.981449Z"
    },
    "tags": []
   },
   "outputs": [
    {
     "name": "stderr",
     "output_type": "stream",
     "text": [
      "/root/wd/venv/lib/python3.8/site-packages/seaborn/distributions.py:2557: FutureWarning: `distplot` is a deprecated function and will be removed in a future version. Please adapt your code to use either `displot` (a figure-level function with similar flexibility) or `histplot` (an axes-level function for histograms).\n",
      "  warnings.warn(msg, FutureWarning)\n"
     ]
    },
    {
     "data": {
      "image/png": "[encoded data removed]",
      "text/plain": [
       "<Figure size 432x288 with 1 Axes>"
      ]
     },
     "metadata": {
      "needs_background": "light"
     },
     "output_type": "display_data"
    }
   ],
   "source": [
    "sns.distplot(train.loc[train['OverallQual'] == 8,'logSalePrice'], norm_hist=True)\n",
    "plt.title('logSalePrice density');"
   ]
  },
  {
   "cell_type": "code",
   "execution_count": 33,
   "metadata": {
    "execution": {
     "iopub.execute_input": "2021-10-18T08:59:31.298716Z",
     "iopub.status.busy": "2021-10-18T08:59:31.298488Z",
     "iopub.status.idle": "2021-10-18T08:59:31.307268Z",
     "shell.execute_reply": "2021-10-18T08:59:31.306215Z",
     "shell.execute_reply.started": "2021-10-18T08:59:31.298688Z"
    },
    "tags": []
   },
   "outputs": [
    {
     "data": {
      "text/plain": [
       "-0.1295465919510365"
      ]
     },
     "execution_count": 33,
     "metadata": {},
     "output_type": "execute_result"
    }
   ],
   "source": [
    "train.loc[train['OverallQual'] == 8,'logSalePrice'].skew()"
   ]
  },
  {
   "cell_type": "markdown",
   "metadata": {
    "execution": {
     "iopub.execute_input": "2021-06-30T12:28:18.230057Z",
     "iopub.status.busy": "2021-06-30T12:28:18.229586Z",
     "iopub.status.idle": "2021-06-30T12:28:18.241713Z",
     "shell.execute_reply": "2021-06-30T12:28:18.240583Z",
     "shell.execute_reply.started": "2021-06-30T12:28:18.230024Z"
    }
   },
   "source": [
    "So, as we can see the log transforamtion makes the target variable follow our assumption more closely."
   ]
  },
  {
   "cell_type": "markdown",
   "metadata": {
    "heading_collapsed": "true",
    "tags": []
   },
   "source": [
    "## No or Little multicollinearity"
   ]
  },
  {
   "cell_type": "markdown",
   "metadata": {
    "_cell_guid": "7b8eb81b-7d4a-4461-84ba-a84dacbf060b",
    "_uuid": "0b5fc8ff-4aa3-44b3-95e2-b8b6f7ed3e47"
   },
   "source": [
    "Multicollinearity is when there is a strong correlation between independent variables. Linear regression or multilinear regression requires independent variables to have few or no similar features. Multicollinearity can lead to a variety of problems, including:\n",
    "* The effect of predictor variables estimated by our regression will depend on what other variables are included in our model. \n",
    "* Predictors can have wildly different results depending on the observations in our sample, and small changes in samples can result in very different estimated effects. \n",
    "* We can no longer interpret a coefficient on a variable as the effect on the target of a one-unit increase in that variable holding the other variables constant. The reason behind that is, when predictors are strongly correlated, there is not a scenario in which one variable can change without a conditional change in another variable.\n",
    "\n",
    "A clustermap is an excellent way to identify whether there is multicollinearity or not. One way to solve multicollinearity is to use regularization methods like Ridge or Lasso."
   ]
  },
  {
   "cell_type": "code",
   "execution_count": 34,
   "metadata": {
    "execution": {
     "iopub.execute_input": "2021-10-18T08:59:31.309019Z",
     "iopub.status.busy": "2021-10-18T08:59:31.308806Z",
     "iopub.status.idle": "2021-10-18T08:59:32.699711Z",
     "shell.execute_reply": "2021-10-18T08:59:32.698519Z",
     "shell.execute_reply.started": "2021-10-18T08:59:31.308993Z"
    },
    "tags": []
   },
   "outputs": [
    {
     "data": {
      "text/plain": [
       "<Figure size 2160x2160 with 0 Axes>"
      ]
     },
     "metadata": {},
     "output_type": "display_data"
    },
    {
     "data": {
      "image/png": "[encoded data removed]",
      "text/plain": [
       "<Figure size 720x720 with 4 Axes>"
      ]
     },
     "metadata": {
      "needs_background": "light"
     },
     "output_type": "display_data"
    }
   ],
   "source": [
    "plt.figure(figsize=(30, 30))\n",
    "sns.clustermap(train.drop(columns = ['SalePrice', 'logSalePrice']).corr(), xticklabels=True, yticklabels=True)\n",
    "plt.title(\"ClusterMap of all the Features\", fontsize = 30)\n",
    "plt.show();"
   ]
  },
  {
   "cell_type": "markdown",
   "metadata": {
    "_cell_guid": "5d747552-2932-484a-99f7-41089287aef8",
    "_uuid": "f6dd55c1-7366-4828-9be5-c68ea99cf070"
   },
   "source": [
    "The clustermap arranges correlated features side-by-side. This way it is easier to identify correlated clusters of features (bright squares).  \n",
    "As we can see, the multicollinearity still exists between various features (bright squares of 2 features or more). However, we will keep them for now for the sake of learning and let the models do the clean up later on. Let's go through some of the correlations. \n",
    "\n",
    "* **GarageYrBlt** and **YearBuilt**. \n",
    "* **TotRmsAbvGrd** and **GrLivArea**. \n",
    "* **GarageCars** and **GarageArea**. \n",
    "* **1stFlrSF** and **TotalBsmtSF**  \n",
    "If we were using only multiple linear regression, it would have been better to delete one feature of each of these feature-pairs from the dataset to fit better multiple linear regression models.  \n",
    "However since scikit learn modules makes it easy to implement them and get the best possible outcome, we will be using many algorithms.\n",
    "Therefore, we will keep all the features for now. "
   ]
  },
  {
   "cell_type": "markdown",
   "metadata": {
    "execution": {
     "iopub.execute_input": "2021-06-20T13:52:28.855242Z",
     "iopub.status.busy": "2021-06-20T13:52:28.854855Z",
     "iopub.status.idle": "2021-06-20T13:52:28.862653Z",
     "shell.execute_reply": "2021-06-20T13:52:28.861416Z",
     "shell.execute_reply.started": "2021-06-20T13:52:28.855213Z"
    },
    "tags": []
   },
   "source": [
    "# Preparing data for training"
   ]
  },
  {
   "cell_type": "markdown",
   "metadata": {},
   "source": [
    "Drop the **Id** column from both the train and test datasets"
   ]
  },
  {
   "cell_type": "code",
   "execution_count": 35,
   "metadata": {
    "_cell_guid": "6549f4c5-9d55-4b8f-93e9-33c3cb8add41",
    "_kg_hide-input": true,
    "_uuid": "f3c6da13-9a5d-40b6-b2a9-b66e5e729bc2",
    "execution": {
     "iopub.execute_input": "2021-10-18T08:59:32.701454Z",
     "iopub.status.busy": "2021-10-18T08:59:32.701215Z",
     "iopub.status.idle": "2021-10-18T08:59:32.710254Z",
     "shell.execute_reply": "2021-10-18T08:59:32.709063Z",
     "shell.execute_reply.started": "2021-10-18T08:59:32.701426Z"
    },
    "tags": []
   },
   "outputs": [],
   "source": [
    "# Dropping the \"Id\" from train and test set. \n",
    "\n",
    "X_train = train.drop(columns=['Id'],axis=1)\n",
    "X_test = test.drop(columns=['Id'],axis=1)"
   ]
  },
  {
   "cell_type": "markdown",
   "metadata": {},
   "source": [
    "Save the targets into separate series called **y_train** and **y_test**"
   ]
  },
  {
   "cell_type": "code",
   "execution_count": 36,
   "metadata": {
    "_cell_guid": "6549f4c5-9d55-4b8f-93e9-33c3cb8add41",
    "_kg_hide-input": true,
    "_uuid": "f3c6da13-9a5d-40b6-b2a9-b66e5e729bc2",
    "execution": {
     "iopub.execute_input": "2021-10-18T08:59:32.711889Z",
     "iopub.status.busy": "2021-10-18T08:59:32.711664Z",
     "iopub.status.idle": "2021-10-18T08:59:32.717813Z",
     "shell.execute_reply": "2021-10-18T08:59:32.716840Z",
     "shell.execute_reply.started": "2021-10-18T08:59:32.711863Z"
    },
    "tags": []
   },
   "outputs": [],
   "source": [
    "# Saving the target values in \"y\". \n",
    "y_train = train['logSalePrice'].reset_index(drop=True)\n",
    "y_test = np.log(test['SalePrice']).reset_index(drop=True)"
   ]
  },
  {
   "cell_type": "markdown",
   "metadata": {
    "heading_collapsed": "true",
    "tags": []
   },
   "source": [
    "## Combining train and test datasets together\n",
    "In this section we'll fill in missing values, and do some feature engineering and selection. Since these are operations we can apply to both the training and test set, will concatenate them so that we can do all the work at once.\n",
    "\n",
    "We just need to add a column which indicates which rows came from which dataset."
   ]
  },
  {
   "cell_type": "code",
   "execution_count": 37,
   "metadata": {
    "execution": {
     "iopub.execute_input": "2021-10-18T08:59:32.719162Z",
     "iopub.status.busy": "2021-10-18T08:59:32.718926Z",
     "iopub.status.idle": "2021-10-18T08:59:32.725674Z",
     "shell.execute_reply": "2021-10-18T08:59:32.724716Z",
     "shell.execute_reply.started": "2021-10-18T08:59:32.719137Z"
    },
    "tags": []
   },
   "outputs": [],
   "source": [
    "X_train['set'] = 'Train'\n",
    "X_test['set'] = 'Test'"
   ]
  },
  {
   "cell_type": "code",
   "execution_count": 38,
   "metadata": {
    "execution": {
     "iopub.execute_input": "2021-10-18T08:59:32.727026Z",
     "iopub.status.busy": "2021-10-18T08:59:32.726787Z",
     "iopub.status.idle": "2021-10-18T08:59:32.748488Z",
     "shell.execute_reply": "2021-10-18T08:59:32.747346Z",
     "shell.execute_reply.started": "2021-10-18T08:59:32.727001Z"
    },
    "tags": []
   },
   "outputs": [],
   "source": [
    "all_data = pd.concat([X_train, X_test]).reset_index(drop=True)"
   ]
  },
  {
   "cell_type": "markdown",
   "metadata": {},
   "source": [
    "Drop the target variable from all_data"
   ]
  },
  {
   "cell_type": "code",
   "execution_count": 39,
   "metadata": {
    "execution": {
     "iopub.execute_input": "2021-10-18T08:59:32.750061Z",
     "iopub.status.busy": "2021-10-18T08:59:32.749841Z",
     "iopub.status.idle": "2021-10-18T08:59:32.759792Z",
     "shell.execute_reply": "2021-10-18T08:59:32.758661Z",
     "shell.execute_reply.started": "2021-10-18T08:59:32.750034Z"
    },
    "tags": []
   },
   "outputs": [],
   "source": [
    "all_data = all_data.drop(['SalePrice', 'logSalePrice'], axis = 1)"
   ]
  },
  {
   "cell_type": "markdown",
   "metadata": {
    "execution": {
     "iopub.execute_input": "2021-06-17T14:43:23.440544Z",
     "iopub.status.busy": "2021-06-17T14:43:23.440150Z",
     "iopub.status.idle": "2021-06-17T14:43:23.444247Z",
     "shell.execute_reply": "2021-06-17T14:43:23.443432Z",
     "shell.execute_reply.started": "2021-06-17T14:43:23.440515Z"
    },
    "heading_collapsed": "true",
    "tags": []
   },
   "source": [
    "## Missing values"
   ]
  },
  {
   "cell_type": "markdown",
   "metadata": {},
   "source": [
    "Write a function that, given a dataframe df, creates a table with the number and percentage of missing values in each column, sorted in desceding order."
   ]
  },
  {
   "cell_type": "code",
   "execution_count": 40,
   "metadata": {
    "execution": {
     "iopub.execute_input": "2021-10-18T08:59:32.761354Z",
     "iopub.status.busy": "2021-10-18T08:59:32.761131Z",
     "iopub.status.idle": "2021-10-18T08:59:32.909573Z",
     "shell.execute_reply": "2021-10-18T08:59:32.908495Z",
     "shell.execute_reply.started": "2021-10-18T08:59:32.761328Z"
    },
    "tags": []
   },
   "outputs": [
    {
     "data": {
      "text/plain": [
       "RL         1149\n",
       "RM          218\n",
       "FV           65\n",
       "RH           16\n",
       "C (all)      10\n",
       "Name: MSZoning, dtype: int64"
      ]
     },
     "metadata": {},
     "output_type": "display_data"
    },
    {
     "data": {
      "text/plain": [
       "Pave    1452\n",
       "Grvl       6\n",
       "Name: Street, dtype: int64"
      ]
     },
     "metadata": {},
     "output_type": "display_data"
    },
    {
     "data": {
      "text/plain": [
       "NaN     1367\n",
       "Grvl      50\n",
       "Pave      41\n",
       "Name: Alley, dtype: int64"
      ]
     },
     "metadata": {},
     "output_type": "display_data"
    },
    {
     "data": {
      "text/plain": [
       "Reg    925\n",
       "IR1    483\n",
       "IR2     41\n",
       "IR3      9\n",
       "Name: LotShape, dtype: int64"
      ]
     },
     "metadata": {},
     "output_type": "display_data"
    },
    {
     "data": {
      "text/plain": [
       "Lvl    1311\n",
       "Bnk      61\n",
       "HLS      50\n",
       "Low      36\n",
       "Name: LandContour, dtype: int64"
      ]
     },
     "metadata": {},
     "output_type": "display_data"
    },
    {
     "data": {
      "text/plain": [
       "AllPub    1457\n",
       "NoSeWa       1\n",
       "Name: Utilities, dtype: int64"
      ]
     },
     "metadata": {},
     "output_type": "display_data"
    },
    {
     "data": {
      "text/plain": [
       "Inside     1051\n",
       "Corner      262\n",
       "CulDSac      94\n",
       "FR2          47\n",
       "FR3           4\n",
       "Name: LotConfig, dtype: int64"
      ]
     },
     "metadata": {},
     "output_type": "display_data"
    },
    {
     "data": {
      "text/plain": [
       "Gtl    1380\n",
       "Mod      65\n",
       "Sev      13\n",
       "Name: LandSlope, dtype: int64"
      ]
     },
     "metadata": {},
     "output_type": "display_data"
    },
    {
     "data": {
      "text/plain": [
       "NAmes      225\n",
       "CollgCr    150\n",
       "OldTown    113\n",
       "Edwards     98\n",
       "Somerst     86\n",
       "Gilbert     79\n",
       "NridgHt     77\n",
       "Sawyer      74\n",
       "NWAmes      73\n",
       "SawyerW     59\n",
       "BrkSide     58\n",
       "Crawfor     51\n",
       "Mitchel     49\n",
       "NoRidge     41\n",
       "Timber      38\n",
       "IDOTRR      37\n",
       "ClearCr     28\n",
       "StoneBr     25\n",
       "SWISU       25\n",
       "Blmngtn     17\n",
       "MeadowV     17\n",
       "BrDale      16\n",
       "Veenker     11\n",
       "NPkVill      9\n",
       "Blueste      2\n",
       "Name: Neighborhood, dtype: int64"
      ]
     },
     "metadata": {},
     "output_type": "display_data"
    },
    {
     "data": {
      "text/plain": [
       "Norm      1260\n",
       "Feedr       80\n",
       "Artery      48\n",
       "RRAn        26\n",
       "PosN        18\n",
       "RRAe        11\n",
       "PosA         8\n",
       "RRNn         5\n",
       "RRNe         2\n",
       "Name: Condition1, dtype: int64"
      ]
     },
     "metadata": {},
     "output_type": "display_data"
    },
    {
     "data": {
      "text/plain": [
       "Norm      1444\n",
       "Feedr        6\n",
       "RRNn         2\n",
       "Artery       2\n",
       "PosA         1\n",
       "RRAe         1\n",
       "RRAn         1\n",
       "PosN         1\n",
       "Name: Condition2, dtype: int64"
      ]
     },
     "metadata": {},
     "output_type": "display_data"
    },
    {
     "data": {
      "text/plain": [
       "1Fam      1218\n",
       "TwnhsE     114\n",
       "Duplex      52\n",
       "Twnhs       43\n",
       "2fmCon      31\n",
       "Name: BldgType, dtype: int64"
      ]
     },
     "metadata": {},
     "output_type": "display_data"
    },
    {
     "data": {
      "text/plain": [
       "1Story    726\n",
       "2Story    443\n",
       "1.5Fin    154\n",
       "SLvl       65\n",
       "SFoyer     37\n",
       "1.5Unf     14\n",
       "2.5Unf     11\n",
       "2.5Fin      8\n",
       "Name: HouseStyle, dtype: int64"
      ]
     },
     "metadata": {},
     "output_type": "display_data"
    },
    {
     "data": {
      "text/plain": [
       "Gable      1141\n",
       "Hip         284\n",
       "Flat         13\n",
       "Gambrel      11\n",
       "Mansard       7\n",
       "Shed          2\n",
       "Name: RoofStyle, dtype: int64"
      ]
     },
     "metadata": {},
     "output_type": "display_data"
    },
    {
     "data": {
      "text/plain": [
       "CompShg    1433\n",
       "Tar&Grv      11\n",
       "WdShngl       6\n",
       "WdShake       5\n",
       "Metal         1\n",
       "Roll          1\n",
       "Membran       1\n",
       "Name: RoofMatl, dtype: int64"
      ]
     },
     "metadata": {},
     "output_type": "display_data"
    },
    {
     "data": {
      "text/plain": [
       "VinylSd    515\n",
       "HdBoard    222\n",
       "MetalSd    220\n",
       "Wd Sdng    206\n",
       "Plywood    108\n",
       "CemntBd     60\n",
       "BrkFace     50\n",
       "WdShing     26\n",
       "Stucco      24\n",
       "AsbShng     20\n",
       "BrkComm      2\n",
       "Stone        2\n",
       "ImStucc      1\n",
       "CBlock       1\n",
       "AsphShn      1\n",
       "Name: Exterior1st, dtype: int64"
      ]
     },
     "metadata": {},
     "output_type": "display_data"
    },
    {
     "data": {
      "text/plain": [
       "VinylSd    504\n",
       "MetalSd    214\n",
       "HdBoard    207\n",
       "Wd Sdng    197\n",
       "Plywood    142\n",
       "CmentBd     59\n",
       "Wd Shng     38\n",
       "BrkFace     25\n",
       "Stucco      25\n",
       "AsbShng     20\n",
       "ImStucc     10\n",
       "Brk Cmn      7\n",
       "Stone        5\n",
       "AsphShn      3\n",
       "CBlock       1\n",
       "Other        1\n",
       "Name: Exterior2nd, dtype: int64"
      ]
     },
     "metadata": {},
     "output_type": "display_data"
    },
    {
     "data": {
      "text/plain": [
       "None       864\n",
       "BrkFace    445\n",
       "Stone      126\n",
       "BrkCmn      15\n",
       "NaN          8\n",
       "Name: MasVnrType, dtype: int64"
      ]
     },
     "metadata": {},
     "output_type": "display_data"
    },
    {
     "data": {
      "text/plain": [
       "TA    906\n",
       "Gd    488\n",
       "Ex     50\n",
       "Fa     14\n",
       "Name: ExterQual, dtype: int64"
      ]
     },
     "metadata": {},
     "output_type": "display_data"
    },
    {
     "data": {
      "text/plain": [
       "TA    1280\n",
       "Gd     146\n",
       "Fa      28\n",
       "Ex       3\n",
       "Po       1\n",
       "Name: ExterCond, dtype: int64"
      ]
     },
     "metadata": {},
     "output_type": "display_data"
    },
    {
     "data": {
      "text/plain": [
       "PConc     645\n",
       "CBlock    634\n",
       "BrkTil    146\n",
       "Slab       24\n",
       "Stone       6\n",
       "Wood        3\n",
       "Name: Foundation, dtype: int64"
      ]
     },
     "metadata": {},
     "output_type": "display_data"
    },
    {
     "data": {
      "text/plain": [
       "TA     649\n",
       "Gd     618\n",
       "Ex     119\n",
       "NaN     37\n",
       "Fa      35\n",
       "Name: BsmtQual, dtype: int64"
      ]
     },
     "metadata": {},
     "output_type": "display_data"
    },
    {
     "data": {
      "text/plain": [
       "TA     1309\n",
       "Gd       65\n",
       "Fa       45\n",
       "NaN      37\n",
       "Po        2\n",
       "Name: BsmtCond, dtype: int64"
      ]
     },
     "metadata": {},
     "output_type": "display_data"
    },
    {
     "data": {
      "text/plain": [
       "No     953\n",
       "Av     221\n",
       "Gd     132\n",
       "Mn     114\n",
       "NaN     38\n",
       "Name: BsmtExposure, dtype: int64"
      ]
     },
     "metadata": {},
     "output_type": "display_data"
    },
    {
     "data": {
      "text/plain": [
       "Unf    430\n",
       "GLQ    416\n",
       "ALQ    220\n",
       "BLQ    148\n",
       "Rec    133\n",
       "LwQ     74\n",
       "NaN     37\n",
       "Name: BsmtFinType1, dtype: int64"
      ]
     },
     "metadata": {},
     "output_type": "display_data"
    },
    {
     "data": {
      "text/plain": [
       "Unf    1254\n",
       "Rec      54\n",
       "LwQ      46\n",
       "NaN      38\n",
       "BLQ      33\n",
       "ALQ      19\n",
       "GLQ      14\n",
       "Name: BsmtFinType2, dtype: int64"
      ]
     },
     "metadata": {},
     "output_type": "display_data"
    },
    {
     "data": {
      "text/plain": [
       "GasA     1426\n",
       "GasW       18\n",
       "Grav        7\n",
       "Wall        4\n",
       "OthW        2\n",
       "Floor       1\n",
       "Name: Heating, dtype: int64"
      ]
     },
     "metadata": {},
     "output_type": "display_data"
    },
    {
     "data": {
      "text/plain": [
       "Ex    739\n",
       "TA    428\n",
       "Gd    241\n",
       "Fa     49\n",
       "Po      1\n",
       "Name: HeatingQC, dtype: int64"
      ]
     },
     "metadata": {},
     "output_type": "display_data"
    },
    {
     "data": {
      "text/plain": [
       "Y    1363\n",
       "N      95\n",
       "Name: CentralAir, dtype: int64"
      ]
     },
     "metadata": {},
     "output_type": "display_data"
    },
    {
     "data": {
      "text/plain": [
       "SBrkr    1332\n",
       "FuseA      94\n",
       "FuseF      27\n",
       "FuseP       3\n",
       "NaN         1\n",
       "Mix         1\n",
       "Name: Electrical, dtype: int64"
      ]
     },
     "metadata": {},
     "output_type": "display_data"
    },
    {
     "data": {
      "text/plain": [
       "TA    735\n",
       "Gd    586\n",
       "Ex     98\n",
       "Fa     39\n",
       "Name: KitchenQual, dtype: int64"
      ]
     },
     "metadata": {},
     "output_type": "display_data"
    },
    {
     "data": {
      "text/plain": [
       "Typ     1358\n",
       "Min2      34\n",
       "Min1      31\n",
       "Mod       15\n",
       "Maj1      14\n",
       "Maj2       5\n",
       "Sev        1\n",
       "Name: Functional, dtype: int64"
      ]
     },
     "metadata": {},
     "output_type": "display_data"
    },
    {
     "data": {
      "text/plain": [
       "NaN    690\n",
       "Gd     378\n",
       "TA     313\n",
       "Fa      33\n",
       "Ex      24\n",
       "Po      20\n",
       "Name: FireplaceQu, dtype: int64"
      ]
     },
     "metadata": {},
     "output_type": "display_data"
    },
    {
     "data": {
      "text/plain": [
       "Attchd     869\n",
       "Detchd     387\n",
       "BuiltIn     87\n",
       "NaN         81\n",
       "Basment     19\n",
       "CarPort      9\n",
       "2Types       6\n",
       "Name: GarageType, dtype: int64"
      ]
     },
     "metadata": {},
     "output_type": "display_data"
    },
    {
     "data": {
      "text/plain": [
       "Unf    605\n",
       "RFn    422\n",
       "Fin    350\n",
       "NaN     81\n",
       "Name: GarageFinish, dtype: int64"
      ]
     },
     "metadata": {},
     "output_type": "display_data"
    },
    {
     "data": {
      "text/plain": [
       "TA     1309\n",
       "NaN      81\n",
       "Fa       48\n",
       "Gd       14\n",
       "Ex        3\n",
       "Po        3\n",
       "Name: GarageQual, dtype: int64"
      ]
     },
     "metadata": {},
     "output_type": "display_data"
    },
    {
     "data": {
      "text/plain": [
       "TA     1324\n",
       "NaN      81\n",
       "Fa       35\n",
       "Gd        9\n",
       "Po        7\n",
       "Ex        2\n",
       "Name: GarageCond, dtype: int64"
      ]
     },
     "metadata": {},
     "output_type": "display_data"
    },
    {
     "data": {
      "text/plain": [
       "Y    1338\n",
       "N      90\n",
       "P      30\n",
       "Name: PavedDrive, dtype: int64"
      ]
     },
     "metadata": {},
     "output_type": "display_data"
    },
    {
     "data": {
      "text/plain": [
       "NaN    1452\n",
       "Gd        2\n",
       "Ex        2\n",
       "Fa        2\n",
       "Name: PoolQC, dtype: int64"
      ]
     },
     "metadata": {},
     "output_type": "display_data"
    },
    {
     "data": {
      "text/plain": [
       "NaN      1177\n",
       "MnPrv     157\n",
       "GdPrv      59\n",
       "GdWo       54\n",
       "MnWw       11\n",
       "Name: Fence, dtype: int64"
      ]
     },
     "metadata": {},
     "output_type": "display_data"
    },
    {
     "data": {
      "text/plain": [
       "NaN     1404\n",
       "Shed      49\n",
       "Gar2       2\n",
       "Othr       2\n",
       "TenC       1\n",
       "Name: MiscFeature, dtype: int64"
      ]
     },
     "metadata": {},
     "output_type": "display_data"
    },
    {
     "data": {
      "text/plain": [
       "WD       1267\n",
       "New       120\n",
       "COD        43\n",
       "ConLD       9\n",
       "ConLI       5\n",
       "ConLw       5\n",
       "CWD         4\n",
       "Oth         3\n",
       "Con         2\n",
       "Name: SaleType, dtype: int64"
      ]
     },
     "metadata": {},
     "output_type": "display_data"
    },
    {
     "data": {
      "text/plain": [
       "Normal     1198\n",
       "Partial     123\n",
       "Abnorml     101\n",
       "Family       20\n",
       "Alloca       12\n",
       "AdjLand       4\n",
       "Name: SaleCondition, dtype: int64"
      ]
     },
     "metadata": {},
     "output_type": "display_data"
    },
    {
     "data": {
      "text/plain": [
       "Train    1166\n",
       "Test      292\n",
       "Name: set, dtype: int64"
      ]
     },
     "metadata": {},
     "output_type": "display_data"
    }
   ],
   "source": [
    "# first verify that missing data are encoded as nans\n",
    "for col in all_data.select_dtypes(exclude=\"number\").columns:\n",
    "    display(all_data[col].value_counts(dropna=False))"
   ]
  },
  {
   "cell_type": "markdown",
   "metadata": {},
   "source": [
    "<span style=\"color:teal\">\n",
    "    It seems that all values apart from NaN describe a legitimate value. For numeric columns, encoding NaN as anything other than NaN is less common, although it does happen from time to time (and it's VERY annoying)\n",
    "</span>"
   ]
  },
  {
   "cell_type": "code",
   "execution_count": 41,
   "metadata": {
    "_cell_guid": "6ad3c174-65b0-4094-a239-566e109c02f9",
    "_kg_hide-input": true,
    "_uuid": "4f0f52cc-764e-420e-9737-b5cf6a2964b9",
    "execution": {
     "iopub.execute_input": "2021-10-18T08:59:32.911276Z",
     "iopub.status.busy": "2021-10-18T08:59:32.911045Z",
     "iopub.status.idle": "2021-10-18T08:59:32.917840Z",
     "shell.execute_reply": "2021-10-18T08:59:32.916876Z",
     "shell.execute_reply.started": "2021-10-18T08:59:32.911247Z"
    },
    "tags": []
   },
   "outputs": [],
   "source": [
    "def missing_percentage(df):\n",
    "    total = df.isnull().sum().sort_values(ascending = False)[df.isnull().sum().sort_values(ascending = False) != 0]\n",
    "    percent = round(df.isnull().sum().sort_values(ascending = False)/len(df)*100,2)[round(df.isnull().sum().sort_values(ascending = False)/len(df)*100,2) != 0]\n",
    "    return pd.concat([total, percent], axis=1, keys=['Total','Percent'])"
   ]
  },
  {
   "cell_type": "code",
   "execution_count": 42,
   "metadata": {
    "execution": {
     "iopub.execute_input": "2021-10-18T08:59:32.919223Z",
     "iopub.status.busy": "2021-10-18T08:59:32.919015Z",
     "iopub.status.idle": "2021-10-18T08:59:32.948935Z",
     "shell.execute_reply": "2021-10-18T08:59:32.947886Z",
     "shell.execute_reply.started": "2021-10-18T08:59:32.919197Z"
    },
    "tags": []
   },
   "outputs": [
    {
     "data": {
      "text/html": [
       "<div>\n",
       "<style scoped>\n",
       "    .dataframe tbody tr th:only-of-type {\n",
       "        vertical-align: middle;\n",
       "    }\n",
       "\n",
       "    .dataframe tbody tr th {\n",
       "        vertical-align: top;\n",
       "    }\n",
       "\n",
       "    .dataframe thead th {\n",
       "        text-align: right;\n",
       "    }\n",
       "</style>\n",
       "<table border=\"1\" class=\"dataframe\">\n",
       "  <thead>\n",
       "    <tr style=\"text-align: right;\">\n",
       "      <th></th>\n",
       "      <th>Total</th>\n",
       "      <th>Percent</th>\n",
       "    </tr>\n",
       "  </thead>\n",
       "  <tbody>\n",
       "    <tr>\n",
       "      <th>PoolQC</th>\n",
       "      <td>1160</td>\n",
       "      <td>99.4900</td>\n",
       "    </tr>\n",
       "    <tr>\n",
       "      <th>MiscFeature</th>\n",
       "      <td>1119</td>\n",
       "      <td>95.9700</td>\n",
       "    </tr>\n",
       "    <tr>\n",
       "      <th>Alley</th>\n",
       "      <td>1094</td>\n",
       "      <td>93.8300</td>\n",
       "    </tr>\n",
       "    <tr>\n",
       "      <th>Fence</th>\n",
       "      <td>948</td>\n",
       "      <td>81.3000</td>\n",
       "    </tr>\n",
       "    <tr>\n",
       "      <th>FireplaceQu</th>\n",
       "      <td>554</td>\n",
       "      <td>47.5100</td>\n",
       "    </tr>\n",
       "    <tr>\n",
       "      <th>LotFrontage</th>\n",
       "      <td>205</td>\n",
       "      <td>17.5800</td>\n",
       "    </tr>\n",
       "    <tr>\n",
       "      <th>GarageCond</th>\n",
       "      <td>66</td>\n",
       "      <td>5.6600</td>\n",
       "    </tr>\n",
       "    <tr>\n",
       "      <th>GarageQual</th>\n",
       "      <td>66</td>\n",
       "      <td>5.6600</td>\n",
       "    </tr>\n",
       "    <tr>\n",
       "      <th>GarageType</th>\n",
       "      <td>66</td>\n",
       "      <td>5.6600</td>\n",
       "    </tr>\n",
       "    <tr>\n",
       "      <th>GarageFinish</th>\n",
       "      <td>66</td>\n",
       "      <td>5.6600</td>\n",
       "    </tr>\n",
       "    <tr>\n",
       "      <th>GarageYrBlt</th>\n",
       "      <td>66</td>\n",
       "      <td>5.6600</td>\n",
       "    </tr>\n",
       "    <tr>\n",
       "      <th>BsmtFinType2</th>\n",
       "      <td>32</td>\n",
       "      <td>2.7400</td>\n",
       "    </tr>\n",
       "    <tr>\n",
       "      <th>BsmtExposure</th>\n",
       "      <td>32</td>\n",
       "      <td>2.7400</td>\n",
       "    </tr>\n",
       "    <tr>\n",
       "      <th>BsmtQual</th>\n",
       "      <td>31</td>\n",
       "      <td>2.6600</td>\n",
       "    </tr>\n",
       "    <tr>\n",
       "      <th>BsmtFinType1</th>\n",
       "      <td>31</td>\n",
       "      <td>2.6600</td>\n",
       "    </tr>\n",
       "    <tr>\n",
       "      <th>BsmtCond</th>\n",
       "      <td>31</td>\n",
       "      <td>2.6600</td>\n",
       "    </tr>\n",
       "    <tr>\n",
       "      <th>MasVnrType</th>\n",
       "      <td>6</td>\n",
       "      <td>0.5100</td>\n",
       "    </tr>\n",
       "    <tr>\n",
       "      <th>MasVnrArea</th>\n",
       "      <td>6</td>\n",
       "      <td>0.5100</td>\n",
       "    </tr>\n",
       "    <tr>\n",
       "      <th>Electrical</th>\n",
       "      <td>1</td>\n",
       "      <td>0.0900</td>\n",
       "    </tr>\n",
       "  </tbody>\n",
       "</table>\n",
       "</div>"
      ],
      "text/plain": [
       "              Total  Percent\n",
       "PoolQC         1160  99.4900\n",
       "MiscFeature    1119  95.9700\n",
       "Alley          1094  93.8300\n",
       "Fence           948  81.3000\n",
       "FireplaceQu     554  47.5100\n",
       "LotFrontage     205  17.5800\n",
       "GarageCond       66   5.6600\n",
       "GarageQual       66   5.6600\n",
       "GarageType       66   5.6600\n",
       "GarageFinish     66   5.6600\n",
       "GarageYrBlt      66   5.6600\n",
       "BsmtFinType2     32   2.7400\n",
       "BsmtExposure     32   2.7400\n",
       "BsmtQual         31   2.6600\n",
       "BsmtFinType1     31   2.6600\n",
       "BsmtCond         31   2.6600\n",
       "MasVnrType        6   0.5100\n",
       "MasVnrArea        6   0.5100\n",
       "Electrical        1   0.0900"
      ]
     },
     "execution_count": 42,
     "metadata": {},
     "output_type": "execute_result"
    }
   ],
   "source": [
    "missing_percentage(train)"
   ]
  },
  {
   "cell_type": "markdown",
   "metadata": {
    "_cell_guid": "b4c40d68-6fe3-48a3-83a9-d3c8c2ff9409",
    "_uuid": "bed4ad35-8ef0-4048-8212-d7630b73c841"
   },
   "source": [
    "**Imputing Missing Values**"
   ]
  },
  {
   "cell_type": "markdown",
   "metadata": {},
   "source": [
    "Some missing values are intentionally left blank, for example: In the Alley feature \n",
    "there are blank values meaning that there are no alley's in that specific house. "
   ]
  },
  {
   "cell_type": "code",
   "execution_count": 43,
   "metadata": {
    "execution": {
     "iopub.execute_input": "2021-10-18T08:59:32.950482Z",
     "iopub.status.busy": "2021-10-18T08:59:32.950258Z",
     "iopub.status.idle": "2021-10-18T08:59:32.955044Z",
     "shell.execute_reply": "2021-10-18T08:59:32.954080Z",
     "shell.execute_reply.started": "2021-10-18T08:59:32.950455Z"
    },
    "tags": []
   },
   "outputs": [],
   "source": [
    "missing_val_col_true_none = [\"Alley\", \"PoolQC\", \"MiscFeature\", \"Fence\",\n",
    "                             \"FireplaceQu\", \"GarageType\", \"GarageFinish\", \n",
    "                             \"GarageQual\", \"GarageCond\", 'BsmtQual', \n",
    "                             'BsmtCond','BsmtExposure', 'BsmtFinType1', \n",
    "                             'BsmtFinType2', 'MasVnrType']"
   ]
  },
  {
   "cell_type": "code",
   "execution_count": 44,
   "metadata": {
    "_cell_guid": "496b6ff7-801e-4191-9ea9-d325f53e5e38",
    "_kg_hide-input": true,
    "_uuid": "06234ae2-b23d-4c11-9de3-5a0d89f63780",
    "execution": {
     "iopub.execute_input": "2021-10-18T08:59:32.956373Z",
     "iopub.status.busy": "2021-10-18T08:59:32.956167Z",
     "iopub.status.idle": "2021-10-18T08:59:32.969349Z",
     "shell.execute_reply": "2021-10-18T08:59:32.968157Z",
     "shell.execute_reply.started": "2021-10-18T08:59:32.956347Z"
    },
    "tags": []
   },
   "outputs": [
    {
     "name": "stderr",
     "output_type": "stream",
     "text": [
      "/root/wd/venv/lib/python3.8/site-packages/pandas/core/frame.py:4462: SettingWithCopyWarning: \n",
      "A value is trying to be set on a copy of a slice from a DataFrame\n",
      "\n",
      "See the caveats in the documentation: https://pandas.pydata.org/pandas-docs/stable/user_guide/indexing.html#returning-a-view-versus-a-copy\n",
      "  return super().fillna(\n"
     ]
    }
   ],
   "source": [
    "all_data[missing_val_col_true_none].fillna(np.nan, inplace = True)"
   ]
  },
  {
   "cell_type": "markdown",
   "metadata": {},
   "source": [
    "In the following features the null values are there for a purpose, so we replace them with \"0\"\n"
   ]
  },
  {
   "cell_type": "code",
   "execution_count": 45,
   "metadata": {
    "execution": {
     "iopub.execute_input": "2021-10-18T08:59:32.970883Z",
     "iopub.status.busy": "2021-10-18T08:59:32.970661Z",
     "iopub.status.idle": "2021-10-18T08:59:32.974876Z",
     "shell.execute_reply": "2021-10-18T08:59:32.974045Z",
     "shell.execute_reply.started": "2021-10-18T08:59:32.970854Z"
    },
    "tags": []
   },
   "outputs": [],
   "source": [
    "missing_val_col_zero = ['BsmtFinSF1', 'BsmtFinSF2', 'BsmtUnfSF',\n",
    "                        'TotalBsmtSF', 'BsmtFullBath',  'BsmtHalfBath', \n",
    "                        'GarageArea', 'GarageCars', 'MasVnrArea']"
   ]
  },
  {
   "cell_type": "code",
   "execution_count": 46,
   "metadata": {
    "_cell_guid": "9223ac79-96ea-4c6b-a821-31e2ee3e6928",
    "_kg_hide-input": true,
    "_uuid": "70e98943-19bf-4965-8818-6fcce53c370c",
    "execution": {
     "iopub.execute_input": "2021-10-18T08:59:32.976468Z",
     "iopub.status.busy": "2021-10-18T08:59:32.976241Z",
     "iopub.status.idle": "2021-10-18T08:59:32.985236Z",
     "shell.execute_reply": "2021-10-18T08:59:32.984193Z",
     "shell.execute_reply.started": "2021-10-18T08:59:32.976443Z"
    },
    "tags": []
   },
   "outputs": [],
   "source": [
    "all_data[missing_val_col_zero] = all_data[missing_val_col_zero].fillna(0)"
   ]
  },
  {
   "cell_type": "markdown",
   "metadata": {},
   "source": [
    "Some missing values are actually missing. It is sometimes reasonable to fill them with the mean value of the feature (across all entries). This way, the mean the of feature is preserved.\n",
    "We will use this method on the LotFrontage feature, however, instead of simply filling the missing values with the mean of the feature across the entire dataset, we will calculate the mean for every neighborhood independently."
   ]
  },
  {
   "cell_type": "markdown",
   "metadata": {
    "execution": {
     "iopub.execute_input": "2021-07-20T10:04:45.226978Z",
     "iopub.status.busy": "2021-07-20T10:04:45.226701Z",
     "iopub.status.idle": "2021-07-20T10:04:45.235033Z",
     "shell.execute_reply": "2021-07-20T10:04:45.234213Z",
     "shell.execute_reply.started": "2021-07-20T10:04:45.226952Z"
    },
    "tags": []
   },
   "source": [
    "Create a series, with neighborhood names as indices, containing the mean LotFrontage value **in X_train** of each neighborhood"
   ]
  },
  {
   "cell_type": "code",
   "execution_count": 47,
   "metadata": {
    "execution": {
     "iopub.execute_input": "2021-10-18T08:59:32.986640Z",
     "iopub.status.busy": "2021-10-18T08:59:32.986426Z",
     "iopub.status.idle": "2021-10-18T08:59:32.996805Z",
     "shell.execute_reply": "2021-10-18T08:59:32.995792Z",
     "shell.execute_reply.started": "2021-10-18T08:59:32.986612Z"
    },
    "tags": []
   },
   "outputs": [
    {
     "data": {
      "text/plain": [
       "Neighborhood\n",
       "Blmngtn   48.0000\n",
       "Blueste   24.0000\n",
       "BrDale    21.6923\n",
       "BrkSide   58.6923\n",
       "ClearCr   84.3000\n",
       "CollgCr   71.5149\n",
       "Crawfor   72.5455\n",
       "Edwards   66.0556\n",
       "Gilbert   81.2195\n",
       "IDOTRR    61.8148\n",
       "MeadowV   27.5833\n",
       "Mitchel   69.7879\n",
       "NAmes     76.0764\n",
       "NPkVill   33.6667\n",
       "NWAmes    80.9688\n",
       "NoRidge   91.1200\n",
       "NridgHt   80.4167\n",
       "OldTown   63.0805\n",
       "SWISU     57.1765\n",
       "Sawyer    75.7561\n",
       "SawyerW   71.6444\n",
       "Somerst   65.2687\n",
       "StoneBr   62.8667\n",
       "Timber    79.8333\n",
       "Veenker   49.6000\n",
       "Name: LotFrontage, dtype: float64"
      ]
     },
     "execution_count": 47,
     "metadata": {},
     "output_type": "execute_result"
    }
   ],
   "source": [
    "Neighborhood_means = X_train.groupby('Neighborhood')['LotFrontage'].mean()\n",
    "Neighborhood_means"
   ]
  },
  {
   "cell_type": "markdown",
   "metadata": {},
   "source": [
    "Replace all missing values in all_data['LotFrontage'] by the mean LotFrontage in their neighborhood, according to X_train"
   ]
  },
  {
   "cell_type": "code",
   "execution_count": 48,
   "metadata": {
    "execution": {
     "iopub.execute_input": "2021-10-18T08:59:32.998234Z",
     "iopub.status.busy": "2021-10-18T08:59:32.998020Z",
     "iopub.status.idle": "2021-10-18T08:59:33.007134Z",
     "shell.execute_reply": "2021-10-18T08:59:33.005864Z",
     "shell.execute_reply.started": "2021-10-18T08:59:32.998208Z"
    },
    "tags": []
   },
   "outputs": [],
   "source": [
    "all_data['LotFrontage'].fillna(Neighborhood_means[all_data['Neighborhood']].reset_index()['LotFrontage'], inplace = True)"
   ]
  },
  {
   "cell_type": "markdown",
   "metadata": {},
   "source": [
    "Question: Why did we only use the X_train to calculate the mean?"
   ]
  },
  {
   "cell_type": "markdown",
   "metadata": {},
   "source": [
    "Answer: <span style=\"color:teal\">In order to avoid data leakage from the test set.</span>"
   ]
  },
  {
   "cell_type": "markdown",
   "metadata": {},
   "source": [
    "Another example of such a feature is GarageYrBlt. Repeat the process above for this feature, and take the neighborhood median for it."
   ]
  },
  {
   "cell_type": "code",
   "execution_count": 49,
   "metadata": {
    "execution": {
     "iopub.execute_input": "2021-10-18T08:59:33.008605Z",
     "iopub.status.busy": "2021-10-18T08:59:33.008389Z",
     "iopub.status.idle": "2021-10-18T08:59:33.018060Z",
     "shell.execute_reply": "2021-10-18T08:59:33.017064Z",
     "shell.execute_reply.started": "2021-10-18T08:59:33.008578Z"
    },
    "tags": []
   },
   "outputs": [
    {
     "data": {
      "text/plain": [
       "Neighborhood\n",
       "Blmngtn   2,005.5000\n",
       "Blueste   1,980.0000\n",
       "BrDale    1,972.0000\n",
       "BrkSide   1,939.5000\n",
       "ClearCr   1,966.0000\n",
       "CollgCr   2,002.0000\n",
       "Crawfor   1,947.5000\n",
       "Edwards   1,957.0000\n",
       "Gilbert   2,000.0000\n",
       "IDOTRR    1,952.0000\n",
       "MeadowV   1,973.0000\n",
       "Mitchel   1,980.0000\n",
       "NAmes     1,962.0000\n",
       "NPkVill   1,976.5000\n",
       "NWAmes    1,976.0000\n",
       "NoRidge   1,995.0000\n",
       "NridgHt   2,006.0000\n",
       "OldTown   1,949.5000\n",
       "SWISU     1,934.0000\n",
       "Sawyer    1,967.0000\n",
       "SawyerW   1,990.0000\n",
       "Somerst   2,006.0000\n",
       "StoneBr   2,001.0000\n",
       "Timber    2,002.0000\n",
       "Veenker   1,982.5000\n",
       "Name: GarageYrBlt, dtype: float64"
      ]
     },
     "execution_count": 49,
     "metadata": {},
     "output_type": "execute_result"
    }
   ],
   "source": [
    "Neighborhood_means_GYB = X_train.groupby('Neighborhood')['GarageYrBlt'].median()\n",
    "Neighborhood_means_GYB"
   ]
  },
  {
   "cell_type": "markdown",
   "metadata": {},
   "source": [
    "Replace all missing values in all_data['GarageYrBlt'] by the mean LotFrontage in their neighborhood, according to X_train"
   ]
  },
  {
   "cell_type": "code",
   "execution_count": 50,
   "metadata": {
    "execution": {
     "iopub.execute_input": "2021-10-18T08:59:33.019516Z",
     "iopub.status.busy": "2021-10-18T08:59:33.019304Z",
     "iopub.status.idle": "2021-10-18T08:59:33.027551Z",
     "shell.execute_reply": "2021-10-18T08:59:33.026497Z",
     "shell.execute_reply.started": "2021-10-18T08:59:33.019490Z"
    },
    "tags": []
   },
   "outputs": [],
   "source": [
    "all_data['GarageYrBlt'].fillna(Neighborhood_means_GYB[all_data['Neighborhood']].reset_index()[\"GarageYrBlt\"], inplace = True)"
   ]
  },
  {
   "cell_type": "markdown",
   "metadata": {},
   "source": [
    "### **Missing values in categorical features**"
   ]
  },
  {
   "cell_type": "markdown",
   "metadata": {},
   "source": [
    "Some categorical features in the data are encoded as integers, even though they should be strings:"
   ]
  },
  {
   "cell_type": "code",
   "execution_count": 51,
   "metadata": {
    "execution": {
     "iopub.execute_input": "2021-10-18T08:59:33.028976Z",
     "iopub.status.busy": "2021-10-18T08:59:33.028764Z",
     "iopub.status.idle": "2021-10-18T08:59:33.037962Z",
     "shell.execute_reply": "2021-10-18T08:59:33.036959Z",
     "shell.execute_reply.started": "2021-10-18T08:59:33.028950Z"
    },
    "tags": []
   },
   "outputs": [
    {
     "data": {
      "text/plain": [
       "MSSubClass    int64\n",
       "YrSold        int64\n",
       "MoSold        int64\n",
       "dtype: object"
      ]
     },
     "execution_count": 51,
     "metadata": {},
     "output_type": "execute_result"
    }
   ],
   "source": [
    "all_data[['MSSubClass', 'YrSold', 'MoSold']].dtypes"
   ]
  },
  {
   "cell_type": "code",
   "execution_count": 52,
   "metadata": {
    "execution": {
     "iopub.execute_input": "2021-10-18T08:59:33.039722Z",
     "iopub.status.busy": "2021-10-18T08:59:33.039496Z",
     "iopub.status.idle": "2021-10-18T08:59:33.053453Z",
     "shell.execute_reply": "2021-10-18T08:59:33.052143Z",
     "shell.execute_reply.started": "2021-10-18T08:59:33.039696Z"
    },
    "tags": []
   },
   "outputs": [],
   "source": [
    "all_data['MSSubClass'] = all_data['MSSubClass'].astype(str)\n",
    "all_data['YrSold'] = all_data['YrSold'].astype(str)\n",
    "all_data['MoSold'] = all_data['MoSold'].astype(str) "
   ]
  },
  {
   "cell_type": "code",
   "execution_count": 53,
   "metadata": {
    "execution": {
     "iopub.execute_input": "2021-10-18T08:59:33.054928Z",
     "iopub.status.busy": "2021-10-18T08:59:33.054709Z",
     "iopub.status.idle": "2021-10-18T08:59:33.065742Z",
     "shell.execute_reply": "2021-10-18T08:59:33.064419Z",
     "shell.execute_reply.started": "2021-10-18T08:59:33.054901Z"
    },
    "tags": []
   },
   "outputs": [
    {
     "data": {
      "text/plain": [
       "MSSubClass    object\n",
       "YrSold        object\n",
       "MoSold        object\n",
       "dtype: object"
      ]
     },
     "execution_count": 53,
     "metadata": {},
     "output_type": "execute_result"
    }
   ],
   "source": [
    "all_data[['MSSubClass', 'YrSold', 'MoSold']].dtypes"
   ]
  },
  {
   "cell_type": "markdown",
   "metadata": {},
   "source": [
    "Since in categorical features there is no concept of \"mean\", we will fill the missing values with the most common category. Replace missing values in the following features by their most common value (i.e. their <a href= \"https://en.wikipedia.org/wiki/Mode_(statistics)#:~:text=The%20mode%20is%20the%20value,most%20likely%20to%20be%20sampled.\">mode</a>)"
   ]
  },
  {
   "cell_type": "code",
   "execution_count": 54,
   "metadata": {
    "execution": {
     "iopub.execute_input": "2021-10-18T08:59:33.067322Z",
     "iopub.status.busy": "2021-10-18T08:59:33.067102Z",
     "iopub.status.idle": "2021-10-18T08:59:33.073882Z",
     "shell.execute_reply": "2021-10-18T08:59:33.072498Z",
     "shell.execute_reply.started": "2021-10-18T08:59:33.067294Z"
    },
    "tags": []
   },
   "outputs": [
    {
     "data": {
      "text/plain": [
       "['SaleType',\n",
       " 'Functional',\n",
       " 'MSZoning',\n",
       " 'Utilities',\n",
       " 'Exterior1st',\n",
       " 'Exterior2nd',\n",
       " 'KitchenQual',\n",
       " 'SaleType',\n",
       " 'Electrical']"
      ]
     },
     "execution_count": 54,
     "metadata": {},
     "output_type": "execute_result"
    }
   ],
   "source": [
    "['SaleType','Functional','MSZoning','Utilities',\n",
    " 'Exterior1st','Exterior2nd','KitchenQual',\n",
    " 'SaleType','Electrical']"
   ]
  },
  {
   "cell_type": "code",
   "execution_count": 55,
   "metadata": {
    "execution": {
     "iopub.execute_input": "2021-10-18T08:59:33.075234Z",
     "iopub.status.busy": "2021-10-18T08:59:33.075029Z",
     "iopub.status.idle": "2021-10-18T08:59:33.089838Z",
     "shell.execute_reply": "2021-10-18T08:59:33.088759Z",
     "shell.execute_reply.started": "2021-10-18T08:59:33.075209Z"
    },
    "tags": []
   },
   "outputs": [],
   "source": [
    "all_data.fillna(\n",
    "    {\n",
    "        'SaleType': X_train['SaleType'].mode()[0],\n",
    "        'Functional': X_train['Functional'].mode()[0],\n",
    "        'MSZoning': X_train['MSZoning'].mode()[0],\n",
    "        'Utilities': X_train['Utilities'].mode()[0],\n",
    "        'Exterior1st': X_train['Exterior1st'].mode()[0],\n",
    "        'Exterior2nd': X_train['Exterior2nd'].mode()[0],\n",
    "        'KitchenQual': X_train['KitchenQual'].mode()[0], \n",
    "        'SaleType': X_train['SaleType'].mode()[0],\n",
    "        'Electrical': X_train['Electrical'].mode()[0],\n",
    "    }, inplace = True   \n",
    ")"
   ]
  },
  {
   "cell_type": "markdown",
   "metadata": {},
   "source": [
    "We will check how many missing values are left undealt with. Notice that we are checking missing values only on features which we didn't fill with NaN on purpose."
   ]
  },
  {
   "cell_type": "code",
   "execution_count": 56,
   "metadata": {
    "execution": {
     "iopub.execute_input": "2021-10-18T08:59:33.091369Z",
     "iopub.status.busy": "2021-10-18T08:59:33.091146Z",
     "iopub.status.idle": "2021-10-18T08:59:33.119868Z",
     "shell.execute_reply": "2021-10-18T08:59:33.118717Z",
     "shell.execute_reply.started": "2021-10-18T08:59:33.091342Z"
    },
    "tags": []
   },
   "outputs": [
    {
     "data": {
      "text/html": [
       "<div>\n",
       "<style scoped>\n",
       "    .dataframe tbody tr th:only-of-type {\n",
       "        vertical-align: middle;\n",
       "    }\n",
       "\n",
       "    .dataframe tbody tr th {\n",
       "        vertical-align: top;\n",
       "    }\n",
       "\n",
       "    .dataframe thead th {\n",
       "        text-align: right;\n",
       "    }\n",
       "</style>\n",
       "<table border=\"1\" class=\"dataframe\">\n",
       "  <thead>\n",
       "    <tr style=\"text-align: right;\">\n",
       "      <th></th>\n",
       "      <th>Total</th>\n",
       "      <th>Percent</th>\n",
       "    </tr>\n",
       "  </thead>\n",
       "  <tbody>\n",
       "  </tbody>\n",
       "</table>\n",
       "</div>"
      ],
      "text/plain": [
       "Empty DataFrame\n",
       "Columns: [Total, Percent]\n",
       "Index: []"
      ]
     },
     "execution_count": 56,
     "metadata": {},
     "output_type": "execute_result"
    }
   ],
   "source": [
    "missing_percentage(all_data.drop(columns = missing_val_col_true_none))"
   ]
  },
  {
   "cell_type": "markdown",
   "metadata": {},
   "source": [
    "So, there are no missing value left. "
   ]
  },
  {
   "cell_type": "markdown",
   "metadata": {
    "heading_collapsed": "true",
    "tags": []
   },
   "source": [
    "## Creating New Features"
   ]
  },
  {
   "cell_type": "markdown",
   "metadata": {},
   "source": [
    "Create new features called ['haspool','has2ndfloor','hasgarage','hasbsmt','hasfireplace'] which attain the value 1 if the house has the corresponding amenity (pool, 2nd floor etc) and 0 otherwise."
   ]
  },
  {
   "cell_type": "code",
   "execution_count": 57,
   "metadata": {
    "execution": {
     "iopub.execute_input": "2021-10-18T08:59:33.121445Z",
     "iopub.status.busy": "2021-10-18T08:59:33.121223Z",
     "iopub.status.idle": "2021-10-18T08:59:33.136589Z",
     "shell.execute_reply": "2021-10-18T08:59:33.135625Z",
     "shell.execute_reply.started": "2021-10-18T08:59:33.121418Z"
    },
    "tags": []
   },
   "outputs": [],
   "source": [
    "all_data['haspool'] = all_data['PoolArea'].apply(lambda x: 1 if x > 0 else 0)\n",
    "all_data['has2ndfloor'] = all_data['2ndFlrSF'].apply(lambda x: 1 if x > 0 else 0)\n",
    "all_data['hasgarage'] = all_data['GarageArea'].apply(lambda x: 1 if x > 0 else 0)\n",
    "all_data['hasbsmt'] = all_data['TotalBsmtSF'].apply(lambda x: 1 if x > 0 else 0)\n",
    "all_data['hasfireplace'] = all_data['Fireplaces'].apply(lambda x: 1 if x > 0 else 0)"
   ]
  },
  {
   "cell_type": "code",
   "execution_count": 58,
   "metadata": {
    "execution": {
     "iopub.execute_input": "2021-10-18T08:59:33.138025Z",
     "iopub.status.busy": "2021-10-18T08:59:33.137805Z",
     "iopub.status.idle": "2021-10-18T08:59:33.144290Z",
     "shell.execute_reply": "2021-10-18T08:59:33.143258Z",
     "shell.execute_reply.started": "2021-10-18T08:59:33.137999Z"
    },
    "tags": []
   },
   "outputs": [
    {
     "data": {
      "text/plain": [
       "(1458, 86)"
      ]
     },
     "execution_count": 58,
     "metadata": {},
     "output_type": "execute_result"
    }
   ],
   "source": [
    "all_data.shape"
   ]
  },
  {
   "cell_type": "markdown",
   "metadata": {
    "heading_collapsed": "true",
    "tags": []
   },
   "source": [
    "## Deleting features"
   ]
  },
  {
   "cell_type": "markdown",
   "metadata": {},
   "source": [
    "Removing the features used to create the new features so avoid feature dependancy"
   ]
  },
  {
   "cell_type": "code",
   "execution_count": 59,
   "metadata": {
    "execution": {
     "iopub.execute_input": "2021-10-18T08:59:33.145642Z",
     "iopub.status.busy": "2021-10-18T08:59:33.145436Z",
     "iopub.status.idle": "2021-10-18T08:59:33.153715Z",
     "shell.execute_reply": "2021-10-18T08:59:33.152394Z",
     "shell.execute_reply.started": "2021-10-18T08:59:33.145618Z"
    },
    "tags": []
   },
   "outputs": [],
   "source": [
    "all_data.drop(columns = ['PoolArea', '2ndFlrSF', 'GarageArea', 'TotalBsmtSF', 'Fireplaces'], inplace = True)"
   ]
  },
  {
   "cell_type": "markdown",
   "metadata": {
    "execution": {
     "iopub.execute_input": "2021-06-17T14:42:20.284437Z",
     "iopub.status.busy": "2021-06-17T14:42:20.284001Z",
     "iopub.status.idle": "2021-06-17T14:42:20.300074Z",
     "shell.execute_reply": "2021-06-17T14:42:20.298912Z",
     "shell.execute_reply.started": "2021-06-17T14:42:20.284407Z"
    }
   },
   "source": [
    "Use value_counts() to check which features have low variability. Remove the 3 features with the lowest variability (take care not to remove the columns `set`, though)"
   ]
  },
  {
   "cell_type": "code",
   "execution_count": 60,
   "metadata": {
    "execution": {
     "iopub.execute_input": "2021-10-18T08:59:33.155292Z",
     "iopub.status.busy": "2021-10-18T08:59:33.155074Z",
     "iopub.status.idle": "2021-10-18T08:59:33.195286Z",
     "shell.execute_reply": "2021-10-18T08:59:33.194155Z",
     "shell.execute_reply.started": "2021-10-18T08:59:33.155265Z"
    },
    "tags": []
   },
   "outputs": [
    {
     "data": {
      "text/plain": [
       "CentralAir       2\n",
       "hasgarage        2\n",
       "has2ndfloor      2\n",
       "haspool          2\n",
       "set              2\n",
       "hasbsmt          2\n",
       "Utilities        2\n",
       "hasfireplace     2\n",
       "Alley            2\n",
       "Street           2\n",
       "LandSlope        3\n",
       "PoolQC           3\n",
       "PavedDrive       3\n",
       "GarageFinish     3\n",
       "BsmtHalfBath     3\n",
       "HalfBath         3\n",
       "LandContour      4\n",
       "BsmtExposure     4\n",
       "BsmtCond         4\n",
       "BsmtQual         4\n",
       "LotShape         4\n",
       "BsmtFullBath     4\n",
       "ExterQual        4\n",
       "MasVnrType       4\n",
       "KitchenQual      4\n",
       "KitchenAbvGr     4\n",
       "Fence            4\n",
       "MiscFeature      4\n",
       "FullBath         4\n",
       "FireplaceQu      5\n",
       "GarageCars       5\n",
       "GarageQual       5\n",
       "GarageCond       5\n",
       "YrSold           5\n",
       "Electrical       5\n",
       "HeatingQC        5\n",
       "MSZoning         5\n",
       "LotConfig        5\n",
       "ExterCond        5\n",
       "BldgType         5\n",
       "RoofStyle        6\n",
       "Heating          6\n",
       "BsmtFinType2     6\n",
       "GarageType       6\n",
       "BsmtFinType1     6\n",
       "Foundation       6\n",
       "SaleCondition    6\n",
       "Functional       7\n",
       "RoofMatl         7\n",
       "Condition2       8\n",
       "dtype: int64"
      ]
     },
     "execution_count": 60,
     "metadata": {},
     "output_type": "execute_result"
    }
   ],
   "source": [
    "all_data.nunique().sort_values().iloc[:50]"
   ]
  },
  {
   "cell_type": "code",
   "execution_count": 61,
   "metadata": {
    "execution": {
     "iopub.execute_input": "2021-10-18T08:59:33.196846Z",
     "iopub.status.busy": "2021-10-18T08:59:33.196626Z",
     "iopub.status.idle": "2021-10-18T08:59:33.204090Z",
     "shell.execute_reply": "2021-10-18T08:59:33.202563Z",
     "shell.execute_reply.started": "2021-10-18T08:59:33.196819Z"
    },
    "tags": []
   },
   "outputs": [],
   "source": [
    "all_data = all_data.drop(['Utilities', 'Street', 'PoolQC'], axis=1)"
   ]
  },
  {
   "cell_type": "markdown",
   "metadata": {},
   "source": [
    "Question: why have we decided to delete these features?"
   ]
  },
  {
   "cell_type": "markdown",
   "metadata": {},
   "source": [
    "Answer: <span style=\"color:teal\">value_counts shows extremely low variablity of values. Therefore these features will probably not contribute to our model.</span>"
   ]
  },
  {
   "cell_type": "markdown",
   "metadata": {
    "_cell_guid": "986e1dd1-d8a9-45a2-bd30-38247b0d8cf3",
    "_uuid": "1986bfdc-783f-4c72-b4d6-1edfcb11d540",
    "heading_collapsed": "true",
    "tags": []
   },
   "source": [
    "## Creating Dummy Variables. \n"
   ]
  },
  {
   "cell_type": "markdown",
   "metadata": {
    "execution": {
     "iopub.execute_input": "2021-07-20T10:01:17.746448Z",
     "iopub.status.busy": "2021-07-20T10:01:17.746055Z",
     "iopub.status.idle": "2021-07-20T10:01:17.756264Z",
     "shell.execute_reply": "2021-07-20T10:01:17.754965Z",
     "shell.execute_reply.started": "2021-07-20T10:01:17.746418Z"
    }
   },
   "source": [
    "A dummy variable is a way to convert categorical variable into numerical variable used in regression to represent subgroups of the feature.  \n",
    "For example: \n",
    "if we have a feature with 'yes' / 'no' categories, we would use a 0,1 dummy variable where a 1 is given for 'yes' and 0 for 'no'.  \n",
    "\n",
    "Dummy variables are useful because they enable us to use a single regression equation to represent multiple groups.  \n",
    "This means that we don’t need to write out separate models for each subgroup."
   ]
  },
  {
   "cell_type": "markdown",
   "metadata": {},
   "source": [
    "Find all categorical features and use pd.get_dummies to replace them with dummy variable. Make sure to remove the original features from your dataframe."
   ]
  },
  {
   "cell_type": "code",
   "execution_count": 62,
   "metadata": {
    "execution": {
     "iopub.execute_input": "2021-10-18T08:59:33.205600Z",
     "iopub.status.busy": "2021-10-18T08:59:33.205380Z",
     "iopub.status.idle": "2021-10-18T08:59:33.219398Z",
     "shell.execute_reply": "2021-10-18T08:59:33.218328Z",
     "shell.execute_reply.started": "2021-10-18T08:59:33.205574Z"
    },
    "tags": []
   },
   "outputs": [
    {
     "data": {
      "text/plain": [
       "Unnamed: 0     0.0000\n",
       "TotRmsAbvGrd   0.0000\n",
       "KitchenQual    0.0000\n",
       "KitchenAbvGr   0.0000\n",
       "BedroomAbvGr   0.0000\n",
       "                ...  \n",
       "GarageType     0.0556\n",
       "FireplaceQu    0.4733\n",
       "Fence          0.8073\n",
       "Alley          0.9376\n",
       "MiscFeature    0.9630\n",
       "Length: 78, dtype: float64"
      ]
     },
     "execution_count": 62,
     "metadata": {},
     "output_type": "execute_result"
    }
   ],
   "source": [
    "all_data.isna().mean().sort_values()"
   ]
  },
  {
   "cell_type": "code",
   "execution_count": 63,
   "metadata": {
    "execution": {
     "iopub.execute_input": "2021-10-18T08:59:33.220867Z",
     "iopub.status.busy": "2021-10-18T08:59:33.220652Z",
     "iopub.status.idle": "2021-10-18T08:59:33.229039Z",
     "shell.execute_reply": "2021-10-18T08:59:33.227970Z",
     "shell.execute_reply.started": "2021-10-18T08:59:33.220842Z"
    },
    "tags": []
   },
   "outputs": [],
   "source": [
    "categorical_columns = all_data.select_dtypes(exclude=\"number\").columns.difference([\"set\"]).tolist()"
   ]
  },
  {
   "cell_type": "code",
   "execution_count": 64,
   "metadata": {
    "_cell_guid": "91f15d8f-2cb5-4c14-969b-f63305325b91",
    "_kg_hide-input": true,
    "_uuid": "178c82cc-928b-4e2b-ba13-e6a3f79afc89",
    "execution": {
     "iopub.execute_input": "2021-10-18T08:59:33.230502Z",
     "iopub.status.busy": "2021-10-18T08:59:33.230288Z",
     "iopub.status.idle": "2021-10-18T08:59:33.285142Z",
     "shell.execute_reply": "2021-10-18T08:59:33.284053Z",
     "shell.execute_reply.started": "2021-10-18T08:59:33.230476Z"
    },
    "tags": []
   },
   "outputs": [
    {
     "data": {
      "text/plain": [
       "(1458, 311)"
      ]
     },
     "execution_count": 64,
     "metadata": {},
     "output_type": "execute_result"
    }
   ],
   "source": [
    "final_features = (\n",
    "    all_data.drop(columns= categorical_columns)\n",
    "    .join(\n",
    "        pd.get_dummies(all_data[categorical_columns])\n",
    "    ).reset_index(drop=True)\n",
    ")\n",
    "final_features.shape"
   ]
  },
  {
   "cell_type": "markdown",
   "metadata": {
    "heading_collapsed": "true",
    "tags": []
   },
   "source": [
    "## Spltting back to train and test\n",
    "Split the all_data dataframe back to X_train and X_test"
   ]
  },
  {
   "cell_type": "code",
   "execution_count": 65,
   "metadata": {
    "execution": {
     "iopub.execute_input": "2021-10-18T08:59:33.286756Z",
     "iopub.status.busy": "2021-10-18T08:59:33.286529Z",
     "iopub.status.idle": "2021-10-18T08:59:33.356045Z",
     "shell.execute_reply": "2021-10-18T08:59:33.354779Z",
     "shell.execute_reply.started": "2021-10-18T08:59:33.286728Z"
    },
    "tags": []
   },
   "outputs": [],
   "source": [
    "X_train = final_features.query(\"set=='Train'\").drop(columns=[\"set\"])\n",
    "X_test = final_features.query(\"set=='Test'\").drop(columns=[\"set\"])"
   ]
  },
  {
   "cell_type": "markdown",
   "metadata": {
    "heading_collapsed": "true",
    "tags": []
   },
   "source": [
    "# Learning "
   ]
  },
  {
   "cell_type": "markdown",
   "metadata": {},
   "source": [
    "Before we start training models and comparing them, we need some notion of \"quality\" of a model, that will allow us to compare various models and choose the best one.\n",
    "\n",
    "A most common such notion is the **Mean Squared Error (MSE)** which you have encountered in class. For a given label vector $y$ and predicted labels $\\hat{y}$, we have $MSE(y, \\hat{y})=\\frac{1}{n}\\sum_{i=1}^{n}{(y_i - \\hat{y_i}) ^ 2}$.\n",
    "First, let us consider a constant model - that is, a model that predicts the same value for all samples, regardless of their features."
   ]
  },
  {
   "cell_type": "markdown",
   "metadata": {},
   "source": [
    "**Question**: What is the constant model with the least MSE? Prove your answer. What is its MSE on our train and test set?"
   ]
  },
  {
   "cell_type": "markdown",
   "metadata": {},
   "source": [
    "**Answer**: <span style=\"color:teal\">\n",
    "    The mean.\n",
    "    </span>"
   ]
  },
  {
   "cell_type": "markdown",
   "metadata": {},
   "source": [
    "Compute the MSE of your model against the constant model you found. Use sklearn.metrics.mean_squared_error. What is the model's score for the test set? What is its score for the training set?"
   ]
  },
  {
   "cell_type": "code",
   "execution_count": 66,
   "metadata": {
    "execution": {
     "iopub.execute_input": "2021-10-18T08:59:33.357681Z",
     "iopub.status.busy": "2021-10-18T08:59:33.357455Z",
     "iopub.status.idle": "2021-10-18T08:59:33.840616Z",
     "shell.execute_reply": "2021-10-18T08:59:33.839539Z",
     "shell.execute_reply.started": "2021-10-18T08:59:33.357652Z"
    },
    "tags": []
   },
   "outputs": [
    {
     "data": {
      "text/plain": [
       "0.38673782861747225"
      ]
     },
     "execution_count": 66,
     "metadata": {},
     "output_type": "execute_result"
    }
   ],
   "source": [
    "from sklearn.metrics import mean_squared_error\n",
    "mean_squared_error(y_test, np.repeat(y_train.mean(), len(y_test)), squared=False)"
   ]
  },
  {
   "cell_type": "markdown",
   "metadata": {
    "tags": []
   },
   "source": [
    "## Now let's train a model using a single feature, GrLivArea, how much better is it?"
   ]
  },
  {
   "cell_type": "code",
   "execution_count": 67,
   "metadata": {
    "execution": {
     "iopub.execute_input": "2021-10-18T08:59:33.842230Z",
     "iopub.status.busy": "2021-10-18T08:59:33.842008Z",
     "iopub.status.idle": "2021-10-18T08:59:33.873695Z",
     "shell.execute_reply": "2021-10-18T08:59:33.872271Z",
     "shell.execute_reply.started": "2021-10-18T08:59:33.842202Z"
    },
    "tags": []
   },
   "outputs": [],
   "source": [
    "from sklearn.linear_model import LinearRegression"
   ]
  },
  {
   "cell_type": "code",
   "execution_count": 68,
   "metadata": {
    "execution": {
     "iopub.execute_input": "2021-10-18T08:59:33.875284Z",
     "iopub.status.busy": "2021-10-18T08:59:33.875063Z",
     "iopub.status.idle": "2021-10-18T08:59:33.887648Z",
     "shell.execute_reply": "2021-10-18T08:59:33.886678Z",
     "shell.execute_reply.started": "2021-10-18T08:59:33.875256Z"
    },
    "tags": []
   },
   "outputs": [
    {
     "data": {
      "text/plain": [
       "(0.5215072596139361, 0.5450658104789683)"
      ]
     },
     "execution_count": 68,
     "metadata": {},
     "output_type": "execute_result"
    }
   ],
   "source": [
    "lm = LinearRegression()\n",
    "lm.fit(X_train['GrLivArea'].values.reshape(-1, 1), y_train)\n",
    "lm.score(X_train['GrLivArea'].values.reshape(-1, 1), y_train), lm.score(X_test['GrLivArea'].values.reshape(-1, 1), y_test)"
   ]
  },
  {
   "cell_type": "code",
   "execution_count": 69,
   "metadata": {
    "execution": {
     "iopub.execute_input": "2021-10-18T08:59:33.889236Z",
     "iopub.status.busy": "2021-10-18T08:59:33.888997Z",
     "iopub.status.idle": "2021-10-18T08:59:33.898174Z",
     "shell.execute_reply": "2021-10-18T08:59:33.897240Z",
     "shell.execute_reply.started": "2021-10-18T08:59:33.889209Z"
    },
    "tags": []
   },
   "outputs": [
    {
     "data": {
      "text/plain": [
       "(0.2785810561912872, 0.26084909362586606)"
      ]
     },
     "execution_count": 69,
     "metadata": {},
     "output_type": "execute_result"
    }
   ],
   "source": [
    "mean_squared_error(lm.predict(X_train['GrLivArea'].values.reshape(-1, 1)), y_train, squared=False), mean_squared_error(lm.predict(X_test['GrLivArea'].values.reshape(-1, 1)), y_test, squared=False)"
   ]
  },
  {
   "cell_type": "markdown",
   "metadata": {
    "tags": []
   },
   "source": [
    "## OK, now lets try using **all** features"
   ]
  },
  {
   "cell_type": "code",
   "execution_count": 70,
   "metadata": {
    "execution": {
     "iopub.execute_input": "2021-10-18T08:59:33.899618Z",
     "iopub.status.busy": "2021-10-18T08:59:33.899409Z",
     "iopub.status.idle": "2021-10-18T08:59:33.912334Z",
     "shell.execute_reply": "2021-10-18T08:59:33.911320Z",
     "shell.execute_reply.started": "2021-10-18T08:59:33.899592Z"
    },
    "tags": []
   },
   "outputs": [
    {
     "data": {
      "text/plain": [
       "Unnamed: 0            0.0000\n",
       "MSSubClass_160        0.0000\n",
       "MSSubClass_120        0.0000\n",
       "LotShape_Reg          0.0000\n",
       "LotShape_IR3          0.0000\n",
       "                       ...  \n",
       "Exterior1st_BrkComm   0.0000\n",
       "Exterior1st_AsphShn   0.0000\n",
       "Exterior1st_AsbShng   0.0000\n",
       "Exterior1st_ImStucc   0.0000\n",
       "YrSold_2010           0.0000\n",
       "Length: 310, dtype: float64"
      ]
     },
     "execution_count": 70,
     "metadata": {},
     "output_type": "execute_result"
    }
   ],
   "source": [
    "X_train.isna().mean().sort_values()"
   ]
  },
  {
   "cell_type": "code",
   "execution_count": 71,
   "metadata": {
    "execution": {
     "iopub.execute_input": "2021-10-18T08:59:33.914171Z",
     "iopub.status.busy": "2021-10-18T08:59:33.913951Z",
     "iopub.status.idle": "2021-10-18T08:59:34.231122Z",
     "shell.execute_reply": "2021-10-18T08:59:34.229941Z",
     "shell.execute_reply.started": "2021-10-18T08:59:33.914145Z"
    },
    "tags": []
   },
   "outputs": [
    {
     "data": {
      "text/plain": [
       "LinearRegression()"
      ]
     },
     "execution_count": 71,
     "metadata": {},
     "output_type": "execute_result"
    }
   ],
   "source": [
    "lm.fit(X_train, y_train)"
   ]
  },
  {
   "cell_type": "code",
   "execution_count": 72,
   "metadata": {
    "execution": {
     "iopub.execute_input": "2021-10-18T08:59:34.232868Z",
     "iopub.status.busy": "2021-10-18T08:59:34.232609Z",
     "iopub.status.idle": "2021-10-18T08:59:34.268360Z",
     "shell.execute_reply": "2021-10-18T08:59:34.267221Z",
     "shell.execute_reply.started": "2021-10-18T08:59:34.232840Z"
    },
    "tags": []
   },
   "outputs": [
    {
     "data": {
      "text/plain": [
       "0.09014267413000313"
      ]
     },
     "execution_count": 72,
     "metadata": {},
     "output_type": "execute_result"
    }
   ],
   "source": [
    "mean_squared_error(lm.predict(X_train), y_train, squared=False)"
   ]
  },
  {
   "cell_type": "code",
   "execution_count": 73,
   "metadata": {
    "execution": {
     "iopub.execute_input": "2021-10-18T08:59:34.270027Z",
     "iopub.status.busy": "2021-10-18T08:59:34.269797Z",
     "iopub.status.idle": "2021-10-18T08:59:34.285455Z",
     "shell.execute_reply": "2021-10-18T08:59:34.284003Z",
     "shell.execute_reply.started": "2021-10-18T08:59:34.269998Z"
    },
    "tags": []
   },
   "outputs": [
    {
     "data": {
      "text/plain": [
       "0.10718872902166984"
      ]
     },
     "execution_count": 73,
     "metadata": {},
     "output_type": "execute_result"
    }
   ],
   "source": [
    "mean_squared_error(lm.predict(X_test), y_test, squared=False)"
   ]
  },
  {
   "cell_type": "markdown",
   "metadata": {
    "execution": {
     "iopub.execute_input": "2021-11-10T10:41:06.249121Z",
     "iopub.status.busy": "2021-11-10T10:41:06.248820Z",
     "iopub.status.idle": "2021-11-10T10:41:06.256126Z",
     "shell.execute_reply": "2021-11-10T10:41:06.255203Z",
     "shell.execute_reply.started": "2021-11-10T10:41:06.249092Z"
    }
   },
   "source": [
    "Cool! So adding more features and making our model more complex improves our model. Will more complex models always perform better than simpler models? "
   ]
  },
  {
   "cell_type": "markdown",
   "metadata": {
    "execution": {
     "iopub.execute_input": "2021-06-27T15:12:00.135257Z",
     "iopub.status.busy": "2021-06-27T15:12:00.134835Z",
     "iopub.status.idle": "2021-06-27T15:12:00.139807Z",
     "shell.execute_reply": "2021-06-27T15:12:00.138570Z",
     "shell.execute_reply.started": "2021-06-27T15:12:00.135227Z"
    },
    "tags": []
   },
   "source": [
    "## Let's try adding degree-2 polynomial features\n",
    "that is, the square of every feature and the product of every pair of features"
   ]
  },
  {
   "cell_type": "markdown",
   "metadata": {},
   "source": [
    "Use <a href=https://scikit-learn.org/stable/modules/generated/sklearn.preprocessing.PolynomialFeatures.html>sklearn.preprocessing.PolynomialFeatures</a> to create a dataframe of all degree 2 combinations of features in your data, and apply a linear regression to the transformed dataset.\n",
    "\n",
    "_Note:_ use <a href= \"https://scikit-learn.org/stable/modules/generated/sklearn.pipeline.Pipeline.html\">sklearn.pipeline.Pipeline</a> to create a model that squares all features and predicts in one go. This will also be useful for future steps."
   ]
  },
  {
   "cell_type": "code",
   "execution_count": 74,
   "metadata": {
    "execution": {
     "iopub.execute_input": "2021-10-18T08:59:34.287421Z",
     "iopub.status.busy": "2021-10-18T08:59:34.287195Z",
     "iopub.status.idle": "2021-10-18T08:59:34.294265Z",
     "shell.execute_reply": "2021-10-18T08:59:34.293079Z",
     "shell.execute_reply.started": "2021-10-18T08:59:34.287393Z"
    },
    "tags": []
   },
   "outputs": [],
   "source": [
    "from sklearn.preprocessing import PolynomialFeatures, StandardScaler\n",
    "from sklearn.pipeline import Pipeline\n",
    "pf = PolynomialFeatures(2)\n",
    "pp = Pipeline([('poly', pf), ('lm', lm)])"
   ]
  },
  {
   "cell_type": "code",
   "execution_count": 75,
   "metadata": {
    "execution": {
     "iopub.execute_input": "2021-10-18T08:59:34.295829Z",
     "iopub.status.busy": "2021-10-18T08:59:34.295595Z",
     "iopub.status.idle": "2021-10-18T08:59:53.208704Z",
     "shell.execute_reply": "2021-10-18T08:59:53.207410Z",
     "shell.execute_reply.started": "2021-10-18T08:59:34.295803Z"
    },
    "tags": []
   },
   "outputs": [
    {
     "data": {
      "text/plain": [
       "Pipeline(steps=[('poly', PolynomialFeatures()), ('lm', LinearRegression())])"
      ]
     },
     "execution_count": 75,
     "metadata": {},
     "output_type": "execute_result"
    }
   ],
   "source": [
    "pp.fit(X_train, y_train)"
   ]
  },
  {
   "cell_type": "markdown",
   "metadata": {},
   "source": [
    "What is your new model's MSE on the training and test sets?"
   ]
  },
  {
   "cell_type": "code",
   "execution_count": 76,
   "metadata": {
    "execution": {
     "iopub.execute_input": "2021-10-18T08:59:53.210437Z",
     "iopub.status.busy": "2021-10-18T08:59:53.210211Z",
     "iopub.status.idle": "2021-10-18T08:59:53.635726Z",
     "shell.execute_reply": "2021-10-18T08:59:53.634635Z",
     "shell.execute_reply.started": "2021-10-18T08:59:53.210410Z"
    },
    "tags": []
   },
   "outputs": [
    {
     "data": {
      "text/plain": [
       "(3.160936249506339e-11, 0.6231691743277598)"
      ]
     },
     "execution_count": 76,
     "metadata": {},
     "output_type": "execute_result"
    }
   ],
   "source": [
    "mean_squared_error(pp.predict(X_train), y_train, squared=False), mean_squared_error(pp.predict(X_test), y_test, squared=False)"
   ]
  },
  {
   "cell_type": "markdown",
   "metadata": {},
   "source": [
    "Oh dear! The train MSE is now almost 0, but the test score is even worse than that of the constant model. This is since the model is now over complicated and rather than learning the underlying structure of the data, it is memorizing the training data. This is called overfitting. One common way to combat this is by adding a regularization term, which penalizes models for overcomplicating and motivates them to choose simpler solution. \n",
    "\n",
    "Let's try adding an L1 regularization term (this is called the LASSO model), which adds the sum of absolute values of the weights to the loss. Use <a href= \"https://scikit-learn.org/stable/modules/generated/sklearn.linear_model.Lasso.html\">sklearn.linear_model.Lasso</a> with an alpha value of 0.009 and see if the model improves."
   ]
  },
  {
   "cell_type": "code",
   "execution_count": 77,
   "metadata": {
    "execution": {
     "iopub.execute_input": "2021-10-18T08:59:53.637259Z",
     "iopub.status.busy": "2021-10-18T08:59:53.637035Z",
     "iopub.status.idle": "2021-10-18T09:00:13.729512Z",
     "shell.execute_reply": "2021-10-18T09:00:13.728331Z",
     "shell.execute_reply.started": "2021-10-18T08:59:53.637230Z"
    },
    "tags": []
   },
   "outputs": [
    {
     "name": "stderr",
     "output_type": "stream",
     "text": [
      "/root/wd/venv/lib/python3.8/site-packages/sklearn/linear_model/_coordinate_descent.py:530: ConvergenceWarning: Objective did not converge. You might want to increase the number of iterations. Duality gap: 0.6537497407002506, tolerance: 0.01891151661022882\n",
      "  model = cd_fast.enet_coordinate_descent(\n"
     ]
    },
    {
     "data": {
      "text/plain": [
       "(0.01457158310570703, 0.26493882918577044)"
      ]
     },
     "execution_count": 77,
     "metadata": {},
     "output_type": "execute_result"
    }
   ],
   "source": [
    "ss = StandardScaler()\n",
    "from sklearn.linear_model import Lasso\n",
    "lasso = Lasso(0.009)\n",
    "p3 = Pipeline([('poly', pf), ('lasso', lasso)])\n",
    "p3.fit(X_train, y_train)\n",
    "mean_squared_error(p3.predict(X_train), y_train, squared=False), mean_squared_error(p3.predict(X_test), y_test, squared=False)"
   ]
  },
  {
   "cell_type": "markdown",
   "metadata": {},
   "source": [
    "This is a little better but still not as good as it should be. Let's try normalizing the data and see if that helps."
   ]
  },
  {
   "cell_type": "code",
   "execution_count": 78,
   "metadata": {
    "execution": {
     "iopub.execute_input": "2021-10-18T09:00:13.731308Z",
     "iopub.status.busy": "2021-10-18T09:00:13.731078Z",
     "iopub.status.idle": "2021-10-18T09:00:23.784139Z",
     "shell.execute_reply": "2021-10-18T09:00:23.782959Z",
     "shell.execute_reply.started": "2021-10-18T09:00:13.731280Z"
    },
    "tags": []
   },
   "outputs": [
    {
     "data": {
      "text/plain": [
       "(0.08261434396572145, 0.10521294278330244)"
      ]
     },
     "execution_count": 78,
     "metadata": {},
     "output_type": "execute_result"
    }
   ],
   "source": [
    "p3 = Pipeline([('ss', ss), ('poly', pf), ('lasso', lasso)])\n",
    "p3.fit(X_train, y_train)\n",
    "mean_squared_error(p3.predict(X_train), y_train, squared=False), mean_squared_error(p3.predict(X_test), y_test, squared=False)"
   ]
  },
  {
   "cell_type": "markdown",
   "metadata": {},
   "source": [
    "Good, we fixed the overfitting and even made a slight improvement.\n",
    "Why is normalization important when adding regularization? What would happen if we normalize in unregularized linear regression?"
   ]
  },
  {
   "cell_type": "markdown",
   "metadata": {
    "tags": []
   },
   "source": [
    "# A note about regularization"
   ]
  },
  {
   "cell_type": "markdown",
   "metadata": {},
   "source": [
    "In the unregularized setting, normalizing doesn't affect the solution. Consider $X, y$ and $A, b$ which minimizes $||AX+b - y||$. Now suppose we normalize $X$ to get $D(X-\\bar{X})$ where $D$ is a diagonal matrix that scales $X$ - we now try to minimize $||AD(X-\\bar{X})+b - y||$, but rewriting $A'=AD, b'=b - AD \\bar{X}$ we see that we can move the normalization into the solution that minimizes with resepect to the unnormalized $X$. However, when adding regularization, we \"punish\" each feature based on the magnitude of its coefficient, so scaling a feature by $c$ and its coefficient by $\\frac{1}{c}$  are no longer equivalent since we change the punishment for that coefficient. This means that we disproportionately punish features of smaller scale and the solution may become dominated by features of larger scale which require smaller coefficients to produce the same impact on the prediction"
   ]
  }
 ],
 "metadata": {
  "kernelspec": {
   "display_name": "Python 3",
   "language": "python",
   "name": "python3"
  },
  "language_info": {
   "codemirror_mode": {
    "name": "ipython",
    "version": 3
   },
   "file_extension": ".py",
   "mimetype": "text/x-python",
   "name": "python",
   "nbconvert_exporter": "python",
   "pygments_lexer": "ipython3",
   "version": "3.8.12"
  },
  "toc-autonumbering": true
 },
 "nbformat": 4,
 "nbformat_minor": 4
}

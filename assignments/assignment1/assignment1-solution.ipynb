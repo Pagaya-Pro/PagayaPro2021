{
 "cells": [
  {
   "cell_type": "markdown",
   "metadata": {
    "execution": {
     "iopub.execute_input": "2021-10-31T02:30:30.698910Z",
     "iopub.status.busy": "2021-10-31T02:30:30.698661Z",
     "iopub.status.idle": "2021-10-31T02:30:30.703520Z",
     "shell.execute_reply": "2021-10-31T02:30:30.702621Z",
     "shell.execute_reply.started": "2021-10-31T02:30:30.698841Z"
    },
    "tags": []
   },
   "source": [
    "# Assignment objective"
   ]
  },
  {
   "cell_type": "markdown",
   "metadata": {},
   "source": [
    "We have data from Raleigh, NC, where we recently deployed a flyer program in order to increase public awareness of the possibility of taking a Pagaya loan. You objective is to assess the potency of the flyer program in terms of activation by analyzing production and TU data obtained from the town.\n"
   ]
  },
  {
   "cell_type": "markdown",
   "metadata": {},
   "source": [
    "# Basic imports "
   ]
  },
  {
   "cell_type": "code",
   "execution_count": 66,
   "metadata": {
    "execution": {
     "iopub.execute_input": "2021-10-31T03:01:18.571532Z",
     "iopub.status.busy": "2021-10-31T03:01:18.571107Z",
     "iopub.status.idle": "2021-10-31T03:01:18.576720Z",
     "shell.execute_reply": "2021-10-31T03:01:18.575564Z",
     "shell.execute_reply.started": "2021-10-31T03:01:18.571497Z"
    },
    "tags": []
   },
   "outputs": [],
   "source": [
    "import pandas as pd\n",
    "import numpy as np\n",
    "import matplotlib.pyplot as plt\n",
    "import seaborn as sns\n",
    "import os"
   ]
  },
  {
   "cell_type": "markdown",
   "metadata": {},
   "source": [
    "# Data preparation"
   ]
  },
  {
   "cell_type": "markdown",
   "metadata": {},
   "source": [
    "## Data from TU "
   ]
  },
  {
   "cell_type": "markdown",
   "metadata": {},
   "source": [
    "To begin with, upload TUs credit information from the relevant quarter (which is 2018Q3). This data is available in our `s3` path under the name `tu_gen_data2018Q3.parquet`. To get to our `s3` path import `DATA_FILES_PATH` from `pagayapro.paths.data_paths`"
   ]
  },
  {
   "cell_type": "code",
   "execution_count": 67,
   "metadata": {
    "execution": {
     "iopub.execute_input": "2021-10-31T03:01:18.578392Z",
     "iopub.status.busy": "2021-10-31T03:01:18.578179Z",
     "iopub.status.idle": "2021-10-31T03:01:18.583010Z",
     "shell.execute_reply": "2021-10-31T03:01:18.581903Z",
     "shell.execute_reply.started": "2021-10-31T03:01:18.578367Z"
    },
    "tags": []
   },
   "outputs": [],
   "source": [
    "from pagayapro.paths.data_paths import DATA_FILES_PATH"
   ]
  },
  {
   "cell_type": "markdown",
   "metadata": {},
   "source": [
    "read the parquet file from `s3`. Only read the columns [\"sequence_num\", \"credit_score\", \"listing_term\", \"int_rate\", \"loan_amnt\", \"monthly_pmt\", \"original_state\"]"
   ]
  },
  {
   "cell_type": "code",
   "execution_count": 68,
   "metadata": {
    "execution": {
     "iopub.execute_input": "2021-10-31T03:01:18.585462Z",
     "iopub.status.busy": "2021-10-31T03:01:18.585234Z",
     "iopub.status.idle": "2021-10-31T03:01:24.249054Z",
     "shell.execute_reply": "2021-10-31T03:01:24.247692Z",
     "shell.execute_reply.started": "2021-10-31T03:01:18.585437Z"
    },
    "tags": []
   },
   "outputs": [],
   "source": [
    "tu_data= pd.read_parquet(\n",
    "    os.path.join(DATA_FILES_PATH,\"tu_gen_data_2018Q3.parquet\"),\n",
    "                columns = [\"sequence_num\", \"credit_score\", \n",
    "                           \"listing_term\", \"int_rate\" ,\n",
    "                           \"loan_amnt\", \"monthly_pmt\", \n",
    "                           \"original_state\"])"
   ]
  },
  {
   "cell_type": "code",
   "execution_count": 69,
   "metadata": {
    "execution": {
     "iopub.execute_input": "2021-10-31T03:01:24.251090Z",
     "iopub.status.busy": "2021-10-31T03:01:24.250859Z",
     "iopub.status.idle": "2021-10-31T03:01:24.288385Z",
     "shell.execute_reply": "2021-10-31T03:01:24.287224Z",
     "shell.execute_reply.started": "2021-10-31T03:01:24.251060Z"
    },
    "tags": []
   },
   "outputs": [
    {
     "data": {
      "text/plain": [
       "446"
      ]
     },
     "execution_count": 69,
     "metadata": {},
     "output_type": "execute_result"
    }
   ],
   "source": [
    "tu_data.credit_score.nunique()"
   ]
  },
  {
   "cell_type": "markdown",
   "metadata": {},
   "source": [
    "Output the first 5 rows of tu_data"
   ]
  },
  {
   "cell_type": "code",
   "execution_count": 70,
   "metadata": {
    "execution": {
     "iopub.execute_input": "2021-10-31T03:01:24.290039Z",
     "iopub.status.busy": "2021-10-31T03:01:24.289813Z",
     "iopub.status.idle": "2021-10-31T03:01:24.307410Z",
     "shell.execute_reply": "2021-10-31T03:01:24.306121Z",
     "shell.execute_reply.started": "2021-10-31T03:01:24.290009Z"
    },
    "tags": []
   },
   "outputs": [
    {
     "data": {
      "text/html": [
       "<div>\n",
       "<style scoped>\n",
       "    .dataframe tbody tr th:only-of-type {\n",
       "        vertical-align: middle;\n",
       "    }\n",
       "\n",
       "    .dataframe tbody tr th {\n",
       "        vertical-align: top;\n",
       "    }\n",
       "\n",
       "    .dataframe thead th {\n",
       "        text-align: right;\n",
       "    }\n",
       "</style>\n",
       "<table border=\"1\" class=\"dataframe\">\n",
       "  <thead>\n",
       "    <tr style=\"text-align: right;\">\n",
       "      <th></th>\n",
       "      <th>sequence_num</th>\n",
       "      <th>credit_score</th>\n",
       "      <th>listing_term</th>\n",
       "      <th>int_rate</th>\n",
       "      <th>loan_amnt</th>\n",
       "      <th>monthly_pmt</th>\n",
       "      <th>original_state</th>\n",
       "    </tr>\n",
       "    <tr>\n",
       "      <th>id</th>\n",
       "      <th></th>\n",
       "      <th></th>\n",
       "      <th></th>\n",
       "      <th></th>\n",
       "      <th></th>\n",
       "      <th></th>\n",
       "      <th></th>\n",
       "    </tr>\n",
       "  </thead>\n",
       "  <tbody>\n",
       "    <tr>\n",
       "      <th>adf5219e4cb985352184eb7fa597737e4a9777f7354f7a8a58270da147792561</th>\n",
       "      <td>d0820401b209782dae4284b3dd96b41e08c3e8566fbb33...</td>\n",
       "      <td>814</td>\n",
       "      <td>36.0</td>\n",
       "      <td>7.86</td>\n",
       "      <td>5500.0</td>\n",
       "      <td>172.0</td>\n",
       "      <td>MI</td>\n",
       "    </tr>\n",
       "    <tr>\n",
       "      <th>0a0f130443af4c6597bb074942970eaddeb125d398e2cca42175c56befc8a171</th>\n",
       "      <td>2f05cd66cb998e5e55f6f296344b271b2b89b996c7c037...</td>\n",
       "      <td>800</td>\n",
       "      <td>36.0</td>\n",
       "      <td>7.91</td>\n",
       "      <td>20000.0</td>\n",
       "      <td>626.0</td>\n",
       "      <td>NM</td>\n",
       "    </tr>\n",
       "    <tr>\n",
       "      <th>4ba9c6a38b650ee06b8b88a48621bd363cdf611e63400c6fc4bbffbd1bf20c47</th>\n",
       "      <td>20bdbfaf0006db032d8a4176add08fd4ef45abfb17c474...</td>\n",
       "      <td>653</td>\n",
       "      <td>36.0</td>\n",
       "      <td>30.51</td>\n",
       "      <td>3674.0</td>\n",
       "      <td>157.0</td>\n",
       "      <td>SD</td>\n",
       "    </tr>\n",
       "    <tr>\n",
       "      <th>dae3a344292e07d4b8935a453c37aef01303f21b2f37ccbd1c4408f158533acb</th>\n",
       "      <td>53084498c6bf053a4d1cf309e1b8ec234e503bb1a3dd4e...</td>\n",
       "      <td>623</td>\n",
       "      <td>60.0</td>\n",
       "      <td>23.46</td>\n",
       "      <td>14056.0</td>\n",
       "      <td>400.0</td>\n",
       "      <td>NC</td>\n",
       "    </tr>\n",
       "    <tr>\n",
       "      <th>8af2ae2462d012e4d85aa687a16a4f5fb64525928235da43c795f73dc0cadd04</th>\n",
       "      <td>f750c4ecac12ae1c156998ed3dff3f46d2d19f37250074...</td>\n",
       "      <td>627</td>\n",
       "      <td>60.0</td>\n",
       "      <td>25.55</td>\n",
       "      <td>8659.0</td>\n",
       "      <td>257.0</td>\n",
       "      <td>TN</td>\n",
       "    </tr>\n",
       "  </tbody>\n",
       "</table>\n",
       "</div>"
      ],
      "text/plain": [
       "                                                                                         sequence_num  \\\n",
       "id                                                                                                      \n",
       "adf5219e4cb985352184eb7fa597737e4a9777f7354f7a8...  d0820401b209782dae4284b3dd96b41e08c3e8566fbb33...   \n",
       "0a0f130443af4c6597bb074942970eaddeb125d398e2cca...  2f05cd66cb998e5e55f6f296344b271b2b89b996c7c037...   \n",
       "4ba9c6a38b650ee06b8b88a48621bd363cdf611e63400c6...  20bdbfaf0006db032d8a4176add08fd4ef45abfb17c474...   \n",
       "dae3a344292e07d4b8935a453c37aef01303f21b2f37ccb...  53084498c6bf053a4d1cf309e1b8ec234e503bb1a3dd4e...   \n",
       "8af2ae2462d012e4d85aa687a16a4f5fb64525928235da4...  f750c4ecac12ae1c156998ed3dff3f46d2d19f37250074...   \n",
       "\n",
       "                                                    credit_score  \\\n",
       "id                                                                 \n",
       "adf5219e4cb985352184eb7fa597737e4a9777f7354f7a8...           814   \n",
       "0a0f130443af4c6597bb074942970eaddeb125d398e2cca...           800   \n",
       "4ba9c6a38b650ee06b8b88a48621bd363cdf611e63400c6...           653   \n",
       "dae3a344292e07d4b8935a453c37aef01303f21b2f37ccb...           623   \n",
       "8af2ae2462d012e4d85aa687a16a4f5fb64525928235da4...           627   \n",
       "\n",
       "                                                    listing_term  int_rate  \\\n",
       "id                                                                           \n",
       "adf5219e4cb985352184eb7fa597737e4a9777f7354f7a8...          36.0      7.86   \n",
       "0a0f130443af4c6597bb074942970eaddeb125d398e2cca...          36.0      7.91   \n",
       "4ba9c6a38b650ee06b8b88a48621bd363cdf611e63400c6...          36.0     30.51   \n",
       "dae3a344292e07d4b8935a453c37aef01303f21b2f37ccb...          60.0     23.46   \n",
       "8af2ae2462d012e4d85aa687a16a4f5fb64525928235da4...          60.0     25.55   \n",
       "\n",
       "                                                    loan_amnt  monthly_pmt  \\\n",
       "id                                                                           \n",
       "adf5219e4cb985352184eb7fa597737e4a9777f7354f7a8...     5500.0        172.0   \n",
       "0a0f130443af4c6597bb074942970eaddeb125d398e2cca...    20000.0        626.0   \n",
       "4ba9c6a38b650ee06b8b88a48621bd363cdf611e63400c6...     3674.0        157.0   \n",
       "dae3a344292e07d4b8935a453c37aef01303f21b2f37ccb...    14056.0        400.0   \n",
       "8af2ae2462d012e4d85aa687a16a4f5fb64525928235da4...     8659.0        257.0   \n",
       "\n",
       "                                                   original_state  \n",
       "id                                                                 \n",
       "adf5219e4cb985352184eb7fa597737e4a9777f7354f7a8...             MI  \n",
       "0a0f130443af4c6597bb074942970eaddeb125d398e2cca...             NM  \n",
       "4ba9c6a38b650ee06b8b88a48621bd363cdf611e63400c6...             SD  \n",
       "dae3a344292e07d4b8935a453c37aef01303f21b2f37ccb...             NC  \n",
       "8af2ae2462d012e4d85aa687a16a4f5fb64525928235da4...             TN  "
      ]
     },
     "execution_count": 70,
     "metadata": {},
     "output_type": "execute_result"
    }
   ],
   "source": [
    "tu_data.head(5)"
   ]
  },
  {
   "cell_type": "markdown",
   "metadata": {},
   "source": [
    "## Activation data "
   ]
  },
  {
   "cell_type": "markdown",
   "metadata": {},
   "source": [
    "Your data regarding activation arrives as forms, detailing the loan amount, interest rate offered to the client and whether he or she accepted the offer. These are available on the assignment's `s3` path, which you can import from `pagayapro.path.data_paths` under the name `ASSIGNMENT1_DATA`, in the subdirectory `offers`. Since we are reading multiple files from `s3` we will also import the `s3fs` package which allows us to do just that (similar to `glob`, only for `s3`)."
   ]
  },
  {
   "cell_type": "code",
   "execution_count": 71,
   "metadata": {
    "execution": {
     "iopub.execute_input": "2021-10-31T03:01:24.308981Z",
     "iopub.status.busy": "2021-10-31T03:01:24.308759Z",
     "iopub.status.idle": "2021-10-31T03:01:24.313046Z",
     "shell.execute_reply": "2021-10-31T03:01:24.312032Z",
     "shell.execute_reply.started": "2021-10-31T03:01:24.308954Z"
    },
    "tags": []
   },
   "outputs": [],
   "source": [
    "from pagayapro.paths.data_paths import ASSIGNMENT1_DATA\n",
    "import s3fs"
   ]
  },
  {
   "cell_type": "markdown",
   "metadata": {},
   "source": [
    "Read all files in the subdirectory `offers` of `ASSIGNMENT1_DATA` whose name contains the substring `raleigh`."
   ]
  },
  {
   "cell_type": "code",
   "execution_count": 72,
   "metadata": {
    "execution": {
     "iopub.execute_input": "2021-10-31T03:01:24.315985Z",
     "iopub.status.busy": "2021-10-31T03:01:24.315763Z",
     "iopub.status.idle": "2021-10-31T03:01:24.324282Z",
     "shell.execute_reply": "2021-10-31T03:01:24.323227Z",
     "shell.execute_reply.started": "2021-10-31T03:01:24.315960Z"
    },
    "tags": []
   },
   "outputs": [],
   "source": [
    "raleigh_forms= (\n",
    "    s3fs\n",
    "    .S3FileSystem().glob(\n",
    "        os.path.join(ASSIGNMENT1_DATA,\"offers/*raleigh*\")\n",
    "    )\n",
    ")"
   ]
  },
  {
   "cell_type": "markdown",
   "metadata": {},
   "source": [
    "how many forms are there?\n"
   ]
  },
  {
   "cell_type": "code",
   "execution_count": 73,
   "metadata": {
    "execution": {
     "iopub.execute_input": "2021-10-31T03:01:24.326417Z",
     "iopub.status.busy": "2021-10-31T03:01:24.326198Z",
     "iopub.status.idle": "2021-10-31T03:01:24.332853Z",
     "shell.execute_reply": "2021-10-31T03:01:24.331611Z",
     "shell.execute_reply.started": "2021-10-31T03:01:24.326389Z"
    },
    "tags": []
   },
   "outputs": [
    {
     "data": {
      "text/plain": [
       "769"
      ]
     },
     "execution_count": 73,
     "metadata": {},
     "output_type": "execute_result"
    }
   ],
   "source": [
    "len(raleigh_forms)"
   ]
  },
  {
   "cell_type": "markdown",
   "metadata": {},
   "source": [
    "Read all the form files and create a table which contains only the last offer given to each borrower. Call this dataframe `raleigh_df`."
   ]
  },
  {
   "cell_type": "code",
   "execution_count": 74,
   "metadata": {
    "execution": {
     "iopub.execute_input": "2021-10-31T03:01:24.334234Z",
     "iopub.status.busy": "2021-10-31T03:01:24.334022Z",
     "iopub.status.idle": "2021-10-31T03:02:08.143225Z",
     "shell.execute_reply": "2021-10-31T03:02:08.142066Z",
     "shell.execute_reply.started": "2021-10-31T03:01:24.334210Z"
    },
    "tags": []
   },
   "outputs": [],
   "source": [
    "raleigh_df = (\n",
    "    pd.concat(map(lambda f: pd.read_csv(\"s3://\"+ f), raleigh_forms))\n",
    "    .sort_values(by = \"offer_date\", ascending=True)\n",
    "    .drop_duplicates(subset= [\"id\"], keep= \"last\")\n",
    ")"
   ]
  },
  {
   "cell_type": "code",
   "execution_count": 75,
   "metadata": {
    "execution": {
     "iopub.execute_input": "2021-10-31T03:02:08.144866Z",
     "iopub.status.busy": "2021-10-31T03:02:08.144636Z",
     "iopub.status.idle": "2021-10-31T03:02:08.167442Z",
     "shell.execute_reply": "2021-10-31T03:02:08.166081Z",
     "shell.execute_reply.started": "2021-10-31T03:02:08.144836Z"
    },
    "tags": []
   },
   "outputs": [
    {
     "data": {
      "text/html": [
       "<div>\n",
       "<style scoped>\n",
       "    .dataframe tbody tr th:only-of-type {\n",
       "        vertical-align: middle;\n",
       "    }\n",
       "\n",
       "    .dataframe tbody tr th {\n",
       "        vertical-align: top;\n",
       "    }\n",
       "\n",
       "    .dataframe thead th {\n",
       "        text-align: right;\n",
       "    }\n",
       "</style>\n",
       "<table border=\"1\" class=\"dataframe\">\n",
       "  <thead>\n",
       "    <tr style=\"text-align: right;\">\n",
       "      <th></th>\n",
       "      <th>id</th>\n",
       "      <th>sequence_num</th>\n",
       "      <th>requested_amount</th>\n",
       "      <th>offered_interest_rate</th>\n",
       "      <th>offer_accepted</th>\n",
       "      <th>offer_date</th>\n",
       "    </tr>\n",
       "  </thead>\n",
       "  <tbody>\n",
       "    <tr>\n",
       "      <th>0</th>\n",
       "      <td>743200d3e4cc1f6f860e121294248d611350f257a7bc83...</td>\n",
       "      <td>ec10245656d9d89186fb4e5890082eea989d5967752ce7...</td>\n",
       "      <td>3000.0</td>\n",
       "      <td>17.69</td>\n",
       "      <td>False</td>\n",
       "      <td>2018-01-01</td>\n",
       "    </tr>\n",
       "    <tr>\n",
       "      <th>18</th>\n",
       "      <td>9b785f1c83a022947857aa109de2aeb3c2c54231b910ed...</td>\n",
       "      <td>4f94dbec44bd09b1c47b08f17a62a7b58b17fc108b077f...</td>\n",
       "      <td>7000.0</td>\n",
       "      <td>17.98</td>\n",
       "      <td>False</td>\n",
       "      <td>2018-01-01</td>\n",
       "    </tr>\n",
       "    <tr>\n",
       "      <th>16</th>\n",
       "      <td>0f0b253809bb99eb4cd76ba8089f5746f2345ae3c59535...</td>\n",
       "      <td>b27933d6634f47eef5d66650874bc0df2e1fda04a9827f...</td>\n",
       "      <td>3505.0</td>\n",
       "      <td>29.58</td>\n",
       "      <td>True</td>\n",
       "      <td>2018-01-01</td>\n",
       "    </tr>\n",
       "    <tr>\n",
       "      <th>1</th>\n",
       "      <td>e3e32f85cd78bb5002ccdc037c1818029f716e7a47911e...</td>\n",
       "      <td>3dcd131256c103fccb61c75cd79ca97fa2b5e31c4ab03e...</td>\n",
       "      <td>6899.0</td>\n",
       "      <td>12.56</td>\n",
       "      <td>False</td>\n",
       "      <td>2018-01-01</td>\n",
       "    </tr>\n",
       "    <tr>\n",
       "      <th>2</th>\n",
       "      <td>3a72ae7a82244f811b37c48f57469b708207004f011163...</td>\n",
       "      <td>06c005c5de6ba445d4c709b84611ac2b8542cd5d37221b...</td>\n",
       "      <td>3800.0</td>\n",
       "      <td>12.97</td>\n",
       "      <td>False</td>\n",
       "      <td>2018-01-01</td>\n",
       "    </tr>\n",
       "    <tr>\n",
       "      <th>...</th>\n",
       "      <td>...</td>\n",
       "      <td>...</td>\n",
       "      <td>...</td>\n",
       "      <td>...</td>\n",
       "      <td>...</td>\n",
       "      <td>...</td>\n",
       "    </tr>\n",
       "    <tr>\n",
       "      <th>2</th>\n",
       "      <td>a2b763a8d324fd4bdd37ac7ad5bee9d62f936c52dd3c95...</td>\n",
       "      <td>77b3642dd8bc768d19a6b80466e5f7113e7372e1b1aa03...</td>\n",
       "      <td>17725.0</td>\n",
       "      <td>16.10</td>\n",
       "      <td>False</td>\n",
       "      <td>2020-12-10</td>\n",
       "    </tr>\n",
       "    <tr>\n",
       "      <th>0</th>\n",
       "      <td>69b282258fdc0b55336a5c88e94dd0c0a4fdac7a6a448b...</td>\n",
       "      <td>8b1ed3ba66907feb4c208578846eddf03fc09c8a605048...</td>\n",
       "      <td>15000.0</td>\n",
       "      <td>15.27</td>\n",
       "      <td>False</td>\n",
       "      <td>2020-12-10</td>\n",
       "    </tr>\n",
       "    <tr>\n",
       "      <th>9</th>\n",
       "      <td>46835ae976bb2c0790a1c283a74465be1b5a7cbd184198...</td>\n",
       "      <td>96be5e312cac0e00f7a0dc65d066f5da1de236336bd7c8...</td>\n",
       "      <td>10000.0</td>\n",
       "      <td>15.27</td>\n",
       "      <td>False</td>\n",
       "      <td>2020-12-10</td>\n",
       "    </tr>\n",
       "    <tr>\n",
       "      <th>4</th>\n",
       "      <td>3aeb261118f66f05bd53de007f302a55da2554452f52f2...</td>\n",
       "      <td>b566fa6f6fba6c9afce55518c839f5126b7937b5abc7ff...</td>\n",
       "      <td>6174.0</td>\n",
       "      <td>6.91</td>\n",
       "      <td>False</td>\n",
       "      <td>2020-12-10</td>\n",
       "    </tr>\n",
       "    <tr>\n",
       "      <th>10</th>\n",
       "      <td>be462838a489d80c3dfa088cda7d04d650f5afc9fac0fa...</td>\n",
       "      <td>da4c2882d9002a68ae96962a6a9f0d18fd2df86f7e71e0...</td>\n",
       "      <td>8000.0</td>\n",
       "      <td>10.22</td>\n",
       "      <td>False</td>\n",
       "      <td>2020-12-10</td>\n",
       "    </tr>\n",
       "  </tbody>\n",
       "</table>\n",
       "<p>8792 rows × 6 columns</p>\n",
       "</div>"
      ],
      "text/plain": [
       "                                                   id  \\\n",
       "0   743200d3e4cc1f6f860e121294248d611350f257a7bc83...   \n",
       "18  9b785f1c83a022947857aa109de2aeb3c2c54231b910ed...   \n",
       "16  0f0b253809bb99eb4cd76ba8089f5746f2345ae3c59535...   \n",
       "1   e3e32f85cd78bb5002ccdc037c1818029f716e7a47911e...   \n",
       "2   3a72ae7a82244f811b37c48f57469b708207004f011163...   \n",
       "..                                                ...   \n",
       "2   a2b763a8d324fd4bdd37ac7ad5bee9d62f936c52dd3c95...   \n",
       "0   69b282258fdc0b55336a5c88e94dd0c0a4fdac7a6a448b...   \n",
       "9   46835ae976bb2c0790a1c283a74465be1b5a7cbd184198...   \n",
       "4   3aeb261118f66f05bd53de007f302a55da2554452f52f2...   \n",
       "10  be462838a489d80c3dfa088cda7d04d650f5afc9fac0fa...   \n",
       "\n",
       "                                         sequence_num  requested_amount  \\\n",
       "0   ec10245656d9d89186fb4e5890082eea989d5967752ce7...            3000.0   \n",
       "18  4f94dbec44bd09b1c47b08f17a62a7b58b17fc108b077f...            7000.0   \n",
       "16  b27933d6634f47eef5d66650874bc0df2e1fda04a9827f...            3505.0   \n",
       "1   3dcd131256c103fccb61c75cd79ca97fa2b5e31c4ab03e...            6899.0   \n",
       "2   06c005c5de6ba445d4c709b84611ac2b8542cd5d37221b...            3800.0   \n",
       "..                                                ...               ...   \n",
       "2   77b3642dd8bc768d19a6b80466e5f7113e7372e1b1aa03...           17725.0   \n",
       "0   8b1ed3ba66907feb4c208578846eddf03fc09c8a605048...           15000.0   \n",
       "9   96be5e312cac0e00f7a0dc65d066f5da1de236336bd7c8...           10000.0   \n",
       "4   b566fa6f6fba6c9afce55518c839f5126b7937b5abc7ff...            6174.0   \n",
       "10  da4c2882d9002a68ae96962a6a9f0d18fd2df86f7e71e0...            8000.0   \n",
       "\n",
       "    offered_interest_rate  offer_accepted  offer_date  \n",
       "0                   17.69           False  2018-01-01  \n",
       "18                  17.98           False  2018-01-01  \n",
       "16                  29.58            True  2018-01-01  \n",
       "1                   12.56           False  2018-01-01  \n",
       "2                   12.97           False  2018-01-01  \n",
       "..                    ...             ...         ...  \n",
       "2                   16.10           False  2020-12-10  \n",
       "0                   15.27           False  2020-12-10  \n",
       "9                   15.27           False  2020-12-10  \n",
       "4                    6.91           False  2020-12-10  \n",
       "10                  10.22           False  2020-12-10  \n",
       "\n",
       "[8792 rows x 6 columns]"
      ]
     },
     "execution_count": 75,
     "metadata": {},
     "output_type": "execute_result"
    }
   ],
   "source": [
    "raleigh_df"
   ]
  },
  {
   "cell_type": "markdown",
   "metadata": {
    "execution": {
     "iopub.execute_input": "2021-07-04T09:43:56.002881Z",
     "iopub.status.busy": "2021-07-04T09:43:56.002602Z",
     "iopub.status.idle": "2021-07-04T09:43:56.037934Z",
     "shell.execute_reply": "2021-07-04T09:43:56.036868Z",
     "shell.execute_reply.started": "2021-07-04T09:43:56.002855Z"
    }
   },
   "source": [
    "How many rows are there in your table? How many distict ids?"
   ]
  },
  {
   "cell_type": "code",
   "execution_count": 76,
   "metadata": {
    "execution": {
     "iopub.execute_input": "2021-10-31T03:02:08.168981Z",
     "iopub.status.busy": "2021-10-31T03:02:08.168757Z",
     "iopub.status.idle": "2021-10-31T03:02:08.175027Z",
     "shell.execute_reply": "2021-10-31T03:02:08.173829Z",
     "shell.execute_reply.started": "2021-10-31T03:02:08.168954Z"
    },
    "tags": []
   },
   "outputs": [
    {
     "data": {
      "text/plain": [
       "8792"
      ]
     },
     "execution_count": 76,
     "metadata": {},
     "output_type": "execute_result"
    }
   ],
   "source": [
    "raleigh_df.shape[0]"
   ]
  },
  {
   "cell_type": "code",
   "execution_count": 77,
   "metadata": {
    "execution": {
     "iopub.execute_input": "2021-10-31T03:02:08.176395Z",
     "iopub.status.busy": "2021-10-31T03:02:08.176184Z",
     "iopub.status.idle": "2021-10-31T03:02:08.182007Z",
     "shell.execute_reply": "2021-10-31T03:02:08.181064Z",
     "shell.execute_reply.started": "2021-10-31T03:02:08.176369Z"
    },
    "tags": []
   },
   "outputs": [
    {
     "data": {
      "text/plain": [
       "8792"
      ]
     },
     "execution_count": 77,
     "metadata": {},
     "output_type": "execute_result"
    }
   ],
   "source": [
    "raleigh_df.id.shape[0]"
   ]
  },
  {
   "cell_type": "markdown",
   "metadata": {},
   "source": [
    "**If you did not get the same number above** : How can you explain the duplicate ids? Sample 5 ids with multiple lines and display them."
   ]
  },
  {
   "cell_type": "markdown",
   "metadata": {},
   "source": [
    "<span style=\"color:teal\">If you got duplicate ids it's probably because you mistakenly included old offers from the client, which were rejected. These need to be dropped, because the only offer that makes a difference is the last one.</span>"
   ]
  },
  {
   "cell_type": "markdown",
   "metadata": {},
   "source": [
    "Drop all lines in the dataframe which contain irrelevant information."
   ]
  },
  {
   "cell_type": "code",
   "execution_count": 78,
   "metadata": {
    "execution": {
     "iopub.execute_input": "2021-10-31T03:02:08.183715Z",
     "iopub.status.busy": "2021-10-31T03:02:08.183495Z",
     "iopub.status.idle": "2021-10-31T03:02:08.200018Z",
     "shell.execute_reply": "2021-10-31T03:02:08.198740Z",
     "shell.execute_reply.started": "2021-10-31T03:02:08.183690Z"
    },
    "tags": []
   },
   "outputs": [],
   "source": [
    "raleigh_df= (\n",
    "    raleigh_df\n",
    "    .sort_values(by=\"offer_date\", ascending= True)\n",
    "    .drop_duplicates(subset = [\"id\"], keep=\"last\")\n",
    ")"
   ]
  },
  {
   "cell_type": "markdown",
   "metadata": {},
   "source": [
    "What is the average interest rate offered to clients? What is the average among clients who accepted the offer?"
   ]
  },
  {
   "cell_type": "code",
   "execution_count": 79,
   "metadata": {
    "execution": {
     "iopub.execute_input": "2021-10-31T03:02:08.201687Z",
     "iopub.status.busy": "2021-10-31T03:02:08.201459Z",
     "iopub.status.idle": "2021-10-31T03:02:08.212656Z",
     "shell.execute_reply": "2021-10-31T03:02:08.211628Z",
     "shell.execute_reply.started": "2021-10-31T03:02:08.201658Z"
    },
    "tags": []
   },
   "outputs": [
    {
     "data": {
      "text/plain": [
       "(15.524284576888144, 15.307480314960618)"
      ]
     },
     "execution_count": 79,
     "metadata": {},
     "output_type": "execute_result"
    }
   ],
   "source": [
    "raleigh_df.offered_interest_rate.mean(), raleigh_df.query(\"offer_accepted\").offered_interest_rate.mean()"
   ]
  },
  {
   "cell_type": "markdown",
   "metadata": {},
   "source": [
    "What is the percentage of activation in this dataframe?"
   ]
  },
  {
   "cell_type": "code",
   "execution_count": 80,
   "metadata": {
    "execution": {
     "iopub.execute_input": "2021-10-31T03:02:08.214147Z",
     "iopub.status.busy": "2021-10-31T03:02:08.213924Z",
     "iopub.status.idle": "2021-10-31T03:02:08.220382Z",
     "shell.execute_reply": "2021-10-31T03:02:08.219420Z",
     "shell.execute_reply.started": "2021-10-31T03:02:08.214121Z"
    },
    "tags": []
   },
   "outputs": [
    {
     "data": {
      "text/plain": [
       "0.08666969972702457"
      ]
     },
     "execution_count": 80,
     "metadata": {},
     "output_type": "execute_result"
    }
   ],
   "source": [
    "raleigh_df.offer_accepted.mean()"
   ]
  },
  {
   "cell_type": "markdown",
   "metadata": {},
   "source": [
    "Enrich your dataframe with additioanl TU features by merging it with the `tu_data` df. Note that the two dataframe share the `id` and `sequence_num` features."
   ]
  },
  {
   "cell_type": "code",
   "execution_count": 81,
   "metadata": {
    "execution": {
     "iopub.execute_input": "2021-10-31T03:02:08.222013Z",
     "iopub.status.busy": "2021-10-31T03:02:08.221795Z",
     "iopub.status.idle": "2021-10-31T03:02:10.008656Z",
     "shell.execute_reply": "2021-10-31T03:02:10.007454Z",
     "shell.execute_reply.started": "2021-10-31T03:02:08.221987Z"
    },
    "tags": []
   },
   "outputs": [],
   "source": [
    "raleigh_df = (\n",
    "    raleigh_df\n",
    "    .merge(\n",
    "        tu_data, on=[\"id\", \"sequence_num\"], \n",
    "        how=\"left\"\n",
    "    )\n",
    ")"
   ]
  },
  {
   "cell_type": "markdown",
   "metadata": {},
   "source": [
    "What is the average credit score of the clients? What is the average among clients who accepted the offer?"
   ]
  },
  {
   "cell_type": "code",
   "execution_count": 82,
   "metadata": {
    "execution": {
     "iopub.execute_input": "2021-10-31T03:02:10.010517Z",
     "iopub.status.busy": "2021-10-31T03:02:10.010282Z",
     "iopub.status.idle": "2021-10-31T03:02:10.024195Z",
     "shell.execute_reply": "2021-10-31T03:02:10.023013Z",
     "shell.execute_reply.started": "2021-10-31T03:02:10.010487Z"
    },
    "tags": []
   },
   "outputs": [
    {
     "data": {
      "text/plain": [
       "(689.821542311192, 702.5446194225722)"
      ]
     },
     "execution_count": 82,
     "metadata": {},
     "output_type": "execute_result"
    }
   ],
   "source": [
    "raleigh_df.credit_score.mean(), raleigh_df.query(\"offer_accepted\").credit_score.mean()"
   ]
  },
  {
   "cell_type": "markdown",
   "metadata": {},
   "source": [
    "# Validations"
   ]
  },
  {
   "cell_type": "markdown",
   "metadata": {},
   "source": [
    "Before we embark on a statistical test, let's do some validations to make sure that the Raleigh sample is not somehow distinct from the general population. Our random sample from the general population is the TU data."
   ]
  },
  {
   "cell_type": "markdown",
   "metadata": {},
   "source": [
    "Create a histogram to describe the distribution of requested loan amounts in Raleigh and in the general population. Do the distributions look similar? (A good rule-of-thumb for the number of bins to use is the square-root of the number of unique value.)"
   ]
  },
  {
   "cell_type": "code",
   "execution_count": 83,
   "metadata": {
    "execution": {
     "iopub.execute_input": "2021-10-31T03:02:10.029241Z",
     "iopub.status.busy": "2021-10-31T03:02:10.028990Z",
     "iopub.status.idle": "2021-10-31T03:02:10.478138Z",
     "shell.execute_reply": "2021-10-31T03:02:10.477022Z",
     "shell.execute_reply.started": "2021-10-31T03:02:10.029212Z"
    },
    "tags": []
   },
   "outputs": [
    {
     "data": {
      "image/png": "[encoded data removed]",
      "text/plain": [
       "<Figure size 432x288 with 1 Axes>"
      ]
     },
     "metadata": {},
     "output_type": "display_data"
    }
   ],
   "source": [
    "plt.hist(raleigh_df.requested_amount, bins= np.linspace(0,200_000,50), density=True);\n",
    "plt.hist(tu_data.loan_amnt, bins= np.linspace(0,200_000,50), density=True, alpha = 0.5);"
   ]
  },
  {
   "cell_type": "markdown",
   "metadata": {},
   "source": [
    "Describe the loan amount distribution using `seaborn.distplot` in the Raleigh dataframe and in TU."
   ]
  },
  {
   "cell_type": "code",
   "execution_count": 84,
   "metadata": {
    "execution": {
     "iopub.execute_input": "2021-10-31T03:02:10.481049Z",
     "iopub.status.busy": "2021-10-31T03:02:10.480816Z",
     "iopub.status.idle": "2021-10-31T03:02:17.376919Z",
     "shell.execute_reply": "2021-10-31T03:02:17.375945Z",
     "shell.execute_reply.started": "2021-10-31T03:02:10.481019Z"
    },
    "tags": []
   },
   "outputs": [
    {
     "name": "stderr",
     "output_type": "stream",
     "text": [
      "/root/wd/venv/lib/python3.8/site-packages/seaborn/distributions.py:2557: FutureWarning: `distplot` is a deprecated function and will be removed in a future version. Please adapt your code to use either `displot` (a figure-level function with similar flexibility) or `histplot` (an axes-level function for histograms).\n",
      "  warnings.warn(msg, FutureWarning)\n",
      "/root/wd/venv/lib/python3.8/site-packages/seaborn/distributions.py:2557: FutureWarning: `distplot` is a deprecated function and will be removed in a future version. Please adapt your code to use either `displot` (a figure-level function with similar flexibility) or `histplot` (an axes-level function for histograms).\n",
      "  warnings.warn(msg, FutureWarning)\n"
     ]
    },
    {
     "data": {
      "image/png": "[encoded data removed]",
      "text/plain": [
       "<Figure size 432x288 with 1 Axes>"
      ]
     },
     "metadata": {},
     "output_type": "display_data"
    }
   ],
   "source": [
    "sns.distplot(raleigh_df.requested_amount);\n",
    "sns.distplot(tu_data.loan_amnt);"
   ]
  },
  {
   "cell_type": "markdown",
   "metadata": {},
   "source": [
    "We also want to verify that the offered interest rate in Raleigh seem similar to those in the general population. \n",
    "Create a histogram to describe the distribution of offered interest rates in Raleigh and interest rates in the general population. Do the distributions look similar?"
   ]
  },
  {
   "cell_type": "code",
   "execution_count": 85,
   "metadata": {
    "execution": {
     "iopub.execute_input": "2021-10-31T03:02:17.378382Z",
     "iopub.status.busy": "2021-10-31T03:02:17.378170Z",
     "iopub.status.idle": "2021-10-31T03:02:17.997993Z",
     "shell.execute_reply": "2021-10-31T03:02:17.997047Z",
     "shell.execute_reply.started": "2021-10-31T03:02:17.378355Z"
    },
    "tags": []
   },
   "outputs": [
    {
     "data": {
      "image/png": "[encoded data removed]",
      "text/plain": [
       "<Figure size 432x288 with 1 Axes>"
      ]
     },
     "metadata": {},
     "output_type": "display_data"
    }
   ],
   "source": [
    "plt.hist(raleigh_df.offered_interest_rate, bins= np.linspace(0,50,50), density=True);\n",
    "plt.hist(tu_data.int_rate, bins= np.linspace(0,50,50), density=True, alpha = 0.5);"
   ]
  },
  {
   "cell_type": "markdown",
   "metadata": {},
   "source": [
    "Describe the interest rate distribution using `sns.distplot` in the Raleigh dataframe and in TU."
   ]
  },
  {
   "cell_type": "code",
   "execution_count": 86,
   "metadata": {
    "execution": {
     "iopub.execute_input": "2021-10-31T03:02:17.999519Z",
     "iopub.status.busy": "2021-10-31T03:02:17.999300Z",
     "iopub.status.idle": "2021-10-31T03:02:23.894953Z",
     "shell.execute_reply": "2021-10-31T03:02:23.894111Z",
     "shell.execute_reply.started": "2021-10-31T03:02:17.999493Z"
    },
    "tags": []
   },
   "outputs": [
    {
     "name": "stderr",
     "output_type": "stream",
     "text": [
      "/root/wd/venv/lib/python3.8/site-packages/seaborn/distributions.py:2557: FutureWarning: `distplot` is a deprecated function and will be removed in a future version. Please adapt your code to use either `displot` (a figure-level function with similar flexibility) or `histplot` (an axes-level function for histograms).\n",
      "  warnings.warn(msg, FutureWarning)\n",
      "/root/wd/venv/lib/python3.8/site-packages/seaborn/distributions.py:2557: FutureWarning: `distplot` is a deprecated function and will be removed in a future version. Please adapt your code to use either `displot` (a figure-level function with similar flexibility) or `histplot` (an axes-level function for histograms).\n",
      "  warnings.warn(msg, FutureWarning)\n"
     ]
    },
    {
     "data": {
      "image/png": "[encoded data removed]",
      "text/plain": [
       "<Figure size 432x288 with 1 Axes>"
      ]
     },
     "metadata": {},
     "output_type": "display_data"
    }
   ],
   "source": [
    "sns.distplot(raleigh_df.offered_interest_rate);\n",
    "sns.distplot(tu_data.int_rate);"
   ]
  },
  {
   "cell_type": "markdown",
   "metadata": {},
   "source": [
    "Additionally, we want to make sure the credit scores are not visibly different in Raleigh from the general population, as this might mean that the data we obtained from the town might not be representative of the general popuation."
   ]
  },
  {
   "cell_type": "markdown",
   "metadata": {},
   "source": [
    "Create a histogram to describe the distribution of credit scores in the Raleigh sample and in the general population. Do the distributions look similar? How many bins did you use?"
   ]
  },
  {
   "cell_type": "code",
   "execution_count": 87,
   "metadata": {
    "execution": {
     "iopub.execute_input": "2021-10-31T03:02:23.896316Z",
     "iopub.status.busy": "2021-10-31T03:02:23.896106Z",
     "iopub.status.idle": "2021-10-31T03:02:24.316361Z",
     "shell.execute_reply": "2021-10-31T03:02:24.315384Z",
     "shell.execute_reply.started": "2021-10-31T03:02:23.896290Z"
    },
    "tags": []
   },
   "outputs": [
    {
     "data": {
      "image/png": "[encoded data removed]",
      "text/plain": [
       "<Figure size 432x288 with 1 Axes>"
      ]
     },
     "metadata": {},
     "output_type": "display_data"
    }
   ],
   "source": [
    "plt.hist(raleigh_df.credit_score, bins= np.linspace(300,800,50), density=True);\n",
    "plt.hist(tu_data.credit_score, bins= np.linspace(300,800,50), density=True, alpha = 0.5);"
   ]
  },
  {
   "cell_type": "markdown",
   "metadata": {},
   "source": [
    "Describe the credit score distribution using `sns.distplot`  in the Raleigh dataframe and in TU."
   ]
  },
  {
   "cell_type": "code",
   "execution_count": 88,
   "metadata": {
    "execution": {
     "iopub.execute_input": "2021-10-31T03:02:24.317766Z",
     "iopub.status.busy": "2021-10-31T03:02:24.317556Z",
     "iopub.status.idle": "2021-10-31T03:02:30.790436Z",
     "shell.execute_reply": "2021-10-31T03:02:30.789471Z",
     "shell.execute_reply.started": "2021-10-31T03:02:24.317739Z"
    },
    "tags": []
   },
   "outputs": [
    {
     "name": "stderr",
     "output_type": "stream",
     "text": [
      "/root/wd/venv/lib/python3.8/site-packages/seaborn/distributions.py:2557: FutureWarning: `distplot` is a deprecated function and will be removed in a future version. Please adapt your code to use either `displot` (a figure-level function with similar flexibility) or `histplot` (an axes-level function for histograms).\n",
      "  warnings.warn(msg, FutureWarning)\n",
      "/root/wd/venv/lib/python3.8/site-packages/seaborn/distributions.py:2557: FutureWarning: `distplot` is a deprecated function and will be removed in a future version. Please adapt your code to use either `displot` (a figure-level function with similar flexibility) or `histplot` (an axes-level function for histograms).\n",
      "  warnings.warn(msg, FutureWarning)\n"
     ]
    },
    {
     "data": {
      "image/png": "[encoded data removed]",
      "text/plain": [
       "<Figure size 432x288 with 1 Axes>"
      ]
     },
     "metadata": {},
     "output_type": "display_data"
    }
   ],
   "source": [
    "sns.distplot(raleigh_df.credit_score);\n",
    "sns.distplot(tu_data.credit_score);"
   ]
  },
  {
   "cell_type": "markdown",
   "metadata": {
    "execution": {
     "iopub.execute_input": "2021-07-04T09:43:56.046655Z",
     "iopub.status.busy": "2021-07-04T09:43:56.046389Z",
     "iopub.status.idle": "2021-07-04T09:43:56.393501Z",
     "shell.execute_reply": "2021-07-04T09:43:56.392695Z",
     "shell.execute_reply.started": "2021-07-04T09:43:56.046630Z"
    }
   },
   "source": [
    "Finally, check whether the loans in both datasets have similar distributions of term (i.e. the amount of months the borrower takes the loan for). What values of term exist in the data?"
   ]
  },
  {
   "cell_type": "code",
   "execution_count": 89,
   "metadata": {
    "execution": {
     "iopub.execute_input": "2021-10-31T03:02:30.791882Z",
     "iopub.status.busy": "2021-10-31T03:02:30.791670Z",
     "iopub.status.idle": "2021-10-31T03:02:30.799843Z",
     "shell.execute_reply": "2021-10-31T03:02:30.799024Z",
     "shell.execute_reply.started": "2021-10-31T03:02:30.791855Z"
    },
    "tags": []
   },
   "outputs": [
    {
     "data": {
      "text/plain": [
       "36.0    0.55687\n",
       "60.0    0.44313\n",
       "Name: listing_term, dtype: float64"
      ]
     },
     "execution_count": 89,
     "metadata": {},
     "output_type": "execute_result"
    }
   ],
   "source": [
    "raleigh_df.listing_term.value_counts(normalize=True)"
   ]
  },
  {
   "cell_type": "code",
   "execution_count": 90,
   "metadata": {
    "execution": {
     "iopub.execute_input": "2021-10-31T03:02:30.801048Z",
     "iopub.status.busy": "2021-10-31T03:02:30.800845Z",
     "iopub.status.idle": "2021-10-31T03:02:30.822658Z",
     "shell.execute_reply": "2021-10-31T03:02:30.821726Z",
     "shell.execute_reply.started": "2021-10-31T03:02:30.801024Z"
    },
    "tags": []
   },
   "outputs": [
    {
     "data": {
      "text/plain": [
       "36.0    0.557304\n",
       "60.0    0.442696\n",
       "Name: listing_term, dtype: float64"
      ]
     },
     "execution_count": 90,
     "metadata": {},
     "output_type": "execute_result"
    }
   ],
   "source": [
    "tu_data.listing_term.value_counts(normalize=True)"
   ]
  },
  {
   "cell_type": "markdown",
   "metadata": {},
   "source": [
    "# CLT in action"
   ]
  },
  {
   "cell_type": "markdown",
   "metadata": {},
   "source": [
    "One more thing before we start the test. Our goal is to check whether, for which we'll run some statistical test (you probably already know which) which checks if something belongs to a noraml distribution with some mean and some variance. But... is activation normally distributed in the Raliegh sample? "
   ]
  },
  {
   "cell_type": "markdown",
   "metadata": {
    "execution": {
     "iopub.execute_input": "2021-10-03T03:27:04.206638Z",
     "iopub.status.busy": "2021-10-03T03:27:04.206391Z",
     "iopub.status.idle": "2021-10-03T03:27:04.210489Z",
     "shell.execute_reply": "2021-10-03T03:27:04.209528Z",
     "shell.execute_reply.started": "2021-10-03T03:27:04.206609Z"
    }
   },
   "source": [
    "<span style=\"color:teal\">\n",
    "No, it has only two values... Normal distribution is continuous</span>"
   ]
  },
  {
   "cell_type": "markdown",
   "metadata": {},
   "source": [
    "The reason why we can assume normality is because we're checking averages of samples and we're relying on the Central Limit Theorem. We won't prove the theorem, but let's test it for a bit. "
   ]
  },
  {
   "cell_type": "markdown",
   "metadata": {},
   "source": [
    "Write a function which takes a pandas series S and a natural number n and creates a series of means of samples (with replacement) of n entries from S. Decide for yourself on the length of the output series. You can also use a different data structure if you find it more suitable as the output."
   ]
  },
  {
   "cell_type": "code",
   "execution_count": 91,
   "metadata": {
    "execution": {
     "iopub.execute_input": "2021-10-31T03:02:30.824094Z",
     "iopub.status.busy": "2021-10-31T03:02:30.823885Z",
     "iopub.status.idle": "2021-10-31T03:02:30.828354Z",
     "shell.execute_reply": "2021-10-31T03:02:30.827470Z",
     "shell.execute_reply.started": "2021-10-31T03:02:30.824068Z"
    },
    "tags": []
   },
   "outputs": [],
   "source": [
    "def average_sampler(s: pd.Series, n:int):\n",
    "    return (\n",
    "        np.random.choice(\n",
    "            s.values, \n",
    "            size= (len(s),n),\n",
    "            replace= True\n",
    "        )\n",
    "        .mean(axis= 1)\n",
    "    )"
   ]
  },
  {
   "cell_type": "markdown",
   "metadata": {},
   "source": [
    "Optionally, also create a function which, given the same input as above, plots a histogram of the series of means, and also indicates the mean of this series."
   ]
  },
  {
   "cell_type": "code",
   "execution_count": 92,
   "metadata": {
    "execution": {
     "iopub.execute_input": "2021-10-31T03:02:30.829594Z",
     "iopub.status.busy": "2021-10-31T03:02:30.829394Z",
     "iopub.status.idle": "2021-10-31T03:02:30.834676Z",
     "shell.execute_reply": "2021-10-31T03:02:30.833865Z",
     "shell.execute_reply.started": "2021-10-31T03:02:30.829569Z"
    },
    "tags": []
   },
   "outputs": [],
   "source": [
    "def plot_sample_averages(s: pd.Series, n:int):\n",
    "    avg_arr = average_sampler(s, n)\n",
    "    plt.hist(avg_arr, density=True, bins= np.linspace(0, 1, 2 * np.ceil(np.sqrt(len(np.unique(avg_arr))))));\n",
    "    plt.axvline(avg_arr.mean());#, [0, np.unique(avg_arr, return_counts=True)[1].max()])"
   ]
  },
  {
   "cell_type": "markdown",
   "metadata": {},
   "source": [
    "Generate plots of the series of means of activation in Raleigh and for n = 1, 2, 5, 10, 100, 1000 and 1e6, and indicate their means. Does the distribution approach a normal distribution as $n\\to\\infty$ in your opinion?"
   ]
  },
  {
   "cell_type": "code",
   "execution_count": 93,
   "metadata": {
    "execution": {
     "iopub.execute_input": "2021-10-31T03:02:30.836009Z",
     "iopub.status.busy": "2021-10-31T03:02:30.835804Z",
     "iopub.status.idle": "2021-10-31T03:06:42.334615Z",
     "shell.execute_reply": "2021-10-31T03:06:42.333694Z",
     "shell.execute_reply.started": "2021-10-31T03:02:30.835985Z"
    },
    "tags": []
   },
   "outputs": [
    {
     "data": {
      "image/png": "[encoded data removed]",
      "text/plain": [
       "<Figure size 1080x1080 with 9 Axes>"
      ]
     },
     "metadata": {},
     "output_type": "display_data"
    }
   ],
   "source": [
    "fig, axs = plt.subplots(3, 3, figsize=(15,15))\n",
    "for i, n in enumerate([1, 2, 5, 10, 100, 1000, 10_000, 100_000, 1_000_000]):\n",
    "    avg_arr = average_sampler(raleigh_df.offer_accepted, n)\n",
    "    axs[i // 3, i % 3].hist(avg_arr,  \n",
    "                            bins=round(np.ceil(np.sqrt(len(np.unique(avg_arr))))),\n",
    "                            density=True)\n",
    "    axs[i//3, i%3].axvline(avg_arr.mean(), color=\"r\");\n",
    "    axs[i//3, i%3].title.set_text(f\"sample of {n}, mean = {avg_arr.mean():.5f}\");\n",
    "    "
   ]
  },
  {
   "cell_type": "markdown",
   "metadata": {},
   "source": [
    "Now that your fuction is ready, it's time to make it part of our infrastucture:\n",
    "* Inside the `pagayapro` repo, create a branch called `feature/{your_user_name}/clt_tester/`.\n",
    "* Create a file called `clt.py` inside `~/pagayapro/users/{user_name}/assignment1/` \n",
    "* Copy the two finctions you just created into the file.\n",
    "* Push your file to `main`, open a PR and ask your mentor to review it. Once approved, rebase and merge."
   ]
  },
  {
   "cell_type": "code",
   "execution_count": 94,
   "metadata": {
    "execution": {
     "iopub.execute_input": "2021-10-31T03:06:42.336058Z",
     "iopub.status.busy": "2021-10-31T03:06:42.335846Z",
     "iopub.status.idle": "2021-10-31T03:06:42.339525Z",
     "shell.execute_reply": "2021-10-31T03:06:42.338646Z",
     "shell.execute_reply.started": "2021-10-31T03:06:42.336032Z"
    },
    "tags": []
   },
   "outputs": [],
   "source": [
    "# done"
   ]
  },
  {
   "cell_type": "markdown",
   "metadata": {},
   "source": [
    "# Statistical test "
   ]
  },
  {
   "cell_type": "markdown",
   "metadata": {},
   "source": [
    "As mentioned in the Notion doc, the activation in Raleigh before deployment was measured at 6.85%. In this section, you will run a test to check whether the activation in Raleigh is indeed different following the flyer program. "
   ]
  },
  {
   "cell_type": "code",
   "execution_count": 95,
   "metadata": {
    "execution": {
     "iopub.execute_input": "2021-10-31T03:06:42.340761Z",
     "iopub.status.busy": "2021-10-31T03:06:42.340558Z",
     "iopub.status.idle": "2021-10-31T03:06:42.353739Z",
     "shell.execute_reply": "2021-10-31T03:06:42.352789Z",
     "shell.execute_reply.started": "2021-10-31T03:06:42.340737Z"
    },
    "tags": []
   },
   "outputs": [],
   "source": [
    "from statsmodels.stats.proportion import proportions_ztest\n"
   ]
  },
  {
   "cell_type": "markdown",
   "metadata": {},
   "source": [
    "Run a statistical test to check whether the current activation rate in Raleigh is different from 6.85%:\n",
    "1. What are your hypotheses?\n",
    "2. Setting your confidence level at 95%, what is the probability of an error of type I in your test? What is the probability of a type II error? What is the power of your test?\n",
    "3. Is the sample mean significantly different from the past value of 6.85?\n",
    "4. Interpret your results. Can you declare the program as successful in increasing activation (what is the probability of wrongfully declaring it successful)?\n",
    "5. Are there any other possible explanations for the change in activation that you observed? Discuss the possible drawbacks of our current test.\n",
    "\n",
    "Use `proportions_ztestz` from `statsmodels.stats.proportion` in order to perform the test. Are your results significant?"
   ]
  },
  {
   "cell_type": "markdown",
   "metadata": {},
   "source": [
    "<span style=\"color:teal\">\n",
    "$H_0$: Activation in Raleigh is 6.85%;\n",
    "\n",
    "\n",
    "$H_1$: Activation is Raleigh is different from 6.85%.\n",
    "    \n",
    "    \n",
    "The probability of a type I error is the probability of our sample average to be outside of the confidence interval when the mean is that of $H_0$. This is, by definition, $0.05$. Let's compute the corresponding critical values (we'll need them for the type II error computation). Since this is a two-sided test, there are two $z$ values to compute here, we'll only do the right one, and the left is left as an exercise:\n",
    "</span> \n"
   ]
  },
  {
   "cell_type": "markdown",
   "metadata": {},
   "source": [
    "<span style=\"color:teal\">\n",
    "The population mean under $H_0$ is $\\mu=p_0= 0.0685$, and the estimated variance is $\\hat{s}=\\sqrt{p_0(1-p_0)/n}=0.00264$\n",
    "$$0.025 = P\\left(X > z\\mid \\mu = p_0,\\sigma=\\hat{s}\\right) = P\\left(\\frac{X-p_0}{\\hat{s}} >\\frac{z-p_0}{\\hat{s}}\\mid \\mu=0,\\sigma=1\\right)$$\n",
    "and by looking at a Z-table we see that $\\frac{z-p_0}{\\hat{s}}=1.96\\Rightarrow z = 0.0737$.\n",
    "    \n",
    "Similarly, the left critical value satisfies $\\frac{z- p_0}{\\hat{s}}=-1.96 \\Rightarrow z = 0.0633$.\n",
    "    \n",
    "This can also be computed more easily using the `scipy.stats.norm` package:\n",
    "</span>"
   ]
  },
  {
   "cell_type": "code",
   "execution_count": 96,
   "metadata": {
    "execution": {
     "iopub.execute_input": "2021-10-31T03:06:42.355065Z",
     "iopub.status.busy": "2021-10-31T03:06:42.354855Z",
     "iopub.status.idle": "2021-10-31T03:06:42.361542Z",
     "shell.execute_reply": "2021-10-31T03:06:42.360636Z",
     "shell.execute_reply.started": "2021-10-31T03:06:42.355039Z"
    },
    "tags": []
   },
   "outputs": [
    {
     "name": "stdout",
     "output_type": "stream",
     "text": [
      "The left critical value is 0.0633\n",
      "The right critical value is 0.0737\n",
      "\n"
     ]
    }
   ],
   "source": [
    "import scipy.stats as sst\n",
    "z_left = sst.norm.ppf(0.025, loc = 0.0685, scale= 0.00264)\n",
    "z_right = sst.norm.ppf(0.975, loc = 0.0685, scale= 0.00264)\n",
    "print(f\"The left critical value is {z_left:.4f}\\n\"\n",
    "      f\"The right critical value is {z_right:.4f}\\n\")"
   ]
  },
  {
   "cell_type": "markdown",
   "metadata": {},
   "source": [
    "<span style=\"color:teal\">\n",
    "In order to compute the probability of a type II error, we need to have an value for the mean of the population under $H_1$. This can be either $0.1$, as suggested in class, or the observed mean (which is an estimator for the true mean) of $0.086$. Under this hypothesis, we take $\\mu$ to be one of these values (we'll take $0.086$, the computation for $0.1$ is identical) and $\\hat{s}=0.00264$ as above. \n",
    "    \n",
    "The probability of a type II error is the area under the normal curve (according to $H_1$) which lies between the two critical values computed before. This value is computed in the next cell:\n",
    "</span>"
   ]
  },
  {
   "cell_type": "code",
   "execution_count": 97,
   "metadata": {
    "execution": {
     "iopub.execute_input": "2021-10-31T03:06:42.362811Z",
     "iopub.status.busy": "2021-10-31T03:06:42.362611Z",
     "iopub.status.idle": "2021-10-31T03:06:42.368223Z",
     "shell.execute_reply": "2021-10-31T03:06:42.367310Z",
     "shell.execute_reply.started": "2021-10-31T03:06:42.362787Z"
    },
    "tags": []
   },
   "outputs": [
    {
     "name": "stdout",
     "output_type": "stream",
     "text": [
      "The probability of a type II error is 1.5146445154141272e-06\n"
     ]
    }
   ],
   "source": [
    "import scipy.stats\n",
    "H1mean = 0.086\n",
    "print(f\"The probability of a type II error is \"\n",
    "      f\"{scipy.stats.norm.cdf(z_right, H1mean, 0.00264) -scipy.stats.norm.cdf(z_left, H1mean, 0.00264)}\")"
   ]
  },
  {
   "cell_type": "code",
   "execution_count": 98,
   "metadata": {
    "execution": {
     "iopub.execute_input": "2021-10-31T03:06:42.369839Z",
     "iopub.status.busy": "2021-10-31T03:06:42.369638Z",
     "iopub.status.idle": "2021-10-31T03:06:42.684298Z",
     "shell.execute_reply": "2021-10-31T03:06:42.683379Z",
     "shell.execute_reply.started": "2021-10-31T03:06:42.369814Z"
    },
    "tags": []
   },
   "outputs": [
    {
     "data": {
      "text/plain": [
       "<matplotlib.legend.Legend at 0x7f3eb28ec160>"
      ]
     },
     "execution_count": 98,
     "metadata": {},
     "output_type": "execute_result"
    },
    {
     "data": {
      "image/png": "[encoded data removed]",
      "text/plain": [
       "<Figure size 1440x1440 with 1 Axes>"
      ]
     },
     "metadata": {},
     "output_type": "display_data"
    }
   ],
   "source": [
    "plt.figure(figsize=(20,20))\n",
    "edge_l, edge_r = 0.058, 0.1\n",
    "x= np.linspace(edge_l, edge_r, 500)\n",
    "plt.plot(x, scipy.stats.norm.pdf(x, 0.0685, 0.00264), label=\"H0\")\n",
    "plt.plot(x, scipy.stats.norm.pdf(x, H1mean, 0.00264), label=\"H1\")\n",
    "plt.axvline(z_right, c=\"r\", label=\"z_right\")\n",
    "plt.axvline(z_left, c=\"r\", label=\"z_left\")\n",
    "\n",
    "\n",
    "x_type1_1 = np.linspace(edge_l, z_left, 300)\n",
    "x_type1_2 = np.linspace(z_right, edge_r, 300)\n",
    "plt.fill_between(x_type1_1, scipy.stats.norm.pdf(x_type1_1, 0.0685, 0.00264), color=\"blue\", step=\"pre\", alpha=0.4)\n",
    "plt.fill_between(x_type1_2, scipy.stats.norm.pdf(x_type1_2, 0.0685, 0.00264), color=\"blue\", step=\"pre\", alpha=0.4)\n",
    "\n",
    "x_type2 = np.linspace(z_left, z_right, 300)\n",
    "plt.fill_between(x_type2, scipy.stats.norm.pdf(x_type2, H1mean, 0.00264), color=\"orange\", step=\"pre\", alpha=0.4)\n",
    "\n",
    "plt.legend()"
   ]
  },
  {
   "cell_type": "code",
   "execution_count": 99,
   "metadata": {
    "execution": {
     "iopub.execute_input": "2021-10-31T03:06:42.685698Z",
     "iopub.status.busy": "2021-10-31T03:06:42.685488Z",
     "iopub.status.idle": "2021-10-31T03:06:42.690087Z",
     "shell.execute_reply": "2021-10-31T03:06:42.689266Z",
     "shell.execute_reply.started": "2021-10-31T03:06:42.685672Z"
    },
    "tags": []
   },
   "outputs": [],
   "source": [
    "from statsmodels.stats.proportion import proportions_ztest\n",
    "count = raleigh_df.offer_accepted.sum()\n",
    "nobs = raleigh_df.shape[0]\n",
    "value = 0.0685"
   ]
  },
  {
   "cell_type": "code",
   "execution_count": 100,
   "metadata": {
    "execution": {
     "iopub.execute_input": "2021-10-31T03:06:42.691597Z",
     "iopub.status.busy": "2021-10-31T03:06:42.691233Z",
     "iopub.status.idle": "2021-10-31T03:06:42.696895Z",
     "shell.execute_reply": "2021-10-31T03:06:42.696065Z",
     "shell.execute_reply.started": "2021-10-31T03:06:42.691570Z"
    },
    "tags": []
   },
   "outputs": [
    {
     "data": {
      "text/plain": [
       "(6.055416376341698, 1.4005491742963572e-09)"
      ]
     },
     "execution_count": 100,
     "metadata": {},
     "output_type": "execute_result"
    }
   ],
   "source": [
    "proportions_ztest(count, nobs, value)"
   ]
  },
  {
   "cell_type": "markdown",
   "metadata": {},
   "source": [
    "<span style=\"color:teal\">Note that the result is significant, and suggests a *increase* in activation due to the flyer program</span>"
   ]
  },
  {
   "cell_type": "markdown",
   "metadata": {},
   "source": [
    "Do you see any possible problems in your methodology? What other factors can explain the change in activation, if such a change exists?"
   ]
  },
  {
   "cell_type": "markdown",
   "metadata": {},
   "source": [
    "<span style=\"color:teal\">Old estimation for activation may not be relevant now, because it is from the past</span>"
   ]
  },
  {
   "cell_type": "markdown",
   "metadata": {
    "tags": []
   },
   "source": [
    "# A/b test"
   ]
  },
  {
   "cell_type": "markdown",
   "metadata": {},
   "source": [
    "In order to isolate temporal and environmental effects on activation, we'll run an a/b test, comparing the activation rate in Raleigh to that of Lubbock, TX, another town in which Pagaya operates without a flyer program. "
   ]
  },
  {
   "cell_type": "markdown",
   "metadata": {},
   "source": [
    "The activation forms for Lubbock also appear in the `offers` subdirectory of the `ASSIGNMENT1_DATA` folder. Read all files from this folder whose name contains the substring 'lubbock', and create a dataframe of final offers called `lubbock_df`, drop unnecessary rows from it, and enrich it with TU features."
   ]
  },
  {
   "cell_type": "code",
   "execution_count": 101,
   "metadata": {
    "execution": {
     "iopub.execute_input": "2021-10-31T03:06:42.698312Z",
     "iopub.status.busy": "2021-10-31T03:06:42.698110Z",
     "iopub.status.idle": "2021-10-31T03:06:42.705688Z",
     "shell.execute_reply": "2021-10-31T03:06:42.704972Z",
     "shell.execute_reply.started": "2021-10-31T03:06:42.698289Z"
    },
    "tags": []
   },
   "outputs": [],
   "source": [
    "lubbock_forms= (\n",
    "    s3fs\n",
    "    .S3FileSystem().glob(\n",
    "        os.path.join(ASSIGNMENT1_DATA,\"offers/*lubbock*\")\n",
    "    )\n",
    ")"
   ]
  },
  {
   "cell_type": "code",
   "execution_count": 102,
   "metadata": {
    "execution": {
     "iopub.execute_input": "2021-10-31T03:06:42.706851Z",
     "iopub.status.busy": "2021-10-31T03:06:42.706651Z",
     "iopub.status.idle": "2021-10-31T03:07:35.241451Z",
     "shell.execute_reply": "2021-10-31T03:07:35.240485Z",
     "shell.execute_reply.started": "2021-10-31T03:06:42.706826Z"
    },
    "tags": []
   },
   "outputs": [],
   "source": [
    "lubbock_df = (\n",
    "    pd.concat(map(lambda f: pd.read_csv(\"s3://\"+ f), lubbock_forms))\n",
    "    .sort_values(by = \"offer_date\", ascending=True)\n",
    "    .drop_duplicates(subset = \"id\", keep= \"last\")\n",
    "    .merge(tu_data,\n",
    "          on=[\"id\", \"sequence_num\"],\n",
    "          how=\"left\")\n",
    ")"
   ]
  },
  {
   "cell_type": "markdown",
   "metadata": {},
   "source": [
    "What is the average interest rate in Lubbock? What is it among accepting borrowers?"
   ]
  },
  {
   "cell_type": "code",
   "execution_count": 103,
   "metadata": {
    "execution": {
     "iopub.execute_input": "2021-10-31T03:07:35.242814Z",
     "iopub.status.busy": "2021-10-31T03:07:35.242599Z",
     "iopub.status.idle": "2021-10-31T03:07:35.256144Z",
     "shell.execute_reply": "2021-10-31T03:07:35.255326Z",
     "shell.execute_reply.started": "2021-10-31T03:07:35.242785Z"
    },
    "tags": []
   },
   "outputs": [
    {
     "data": {
      "text/plain": [
       "(15.505397526501778, 13.553895131086156)"
      ]
     },
     "execution_count": 103,
     "metadata": {},
     "output_type": "execute_result"
    }
   ],
   "source": [
    "lubbock_df.int_rate.mean(), lubbock_df.query(\"offer_accepted\").int_rate.mean()"
   ]
  },
  {
   "cell_type": "markdown",
   "metadata": {},
   "source": [
    "What is the average credit score in Lubbock? What is it among accepting borrowers?"
   ]
  },
  {
   "cell_type": "code",
   "execution_count": 104,
   "metadata": {
    "execution": {
     "iopub.execute_input": "2021-10-31T03:07:35.257440Z",
     "iopub.status.busy": "2021-10-31T03:07:35.257229Z",
     "iopub.status.idle": "2021-10-31T03:07:35.267822Z",
     "shell.execute_reply": "2021-10-31T03:07:35.266983Z",
     "shell.execute_reply.started": "2021-10-31T03:07:35.257414Z"
    },
    "tags": []
   },
   "outputs": [
    {
     "data": {
      "text/plain": [
       "(690.0338339222615, 730.5337078651686)"
      ]
     },
     "execution_count": 104,
     "metadata": {},
     "output_type": "execute_result"
    }
   ],
   "source": [
    "lubbock_df.credit_score.mean(), lubbock_df.query(\"offer_accepted\").credit_score.mean()"
   ]
  },
  {
   "cell_type": "markdown",
   "metadata": {},
   "source": [
    "What is the rate of activation in Lubbock?"
   ]
  },
  {
   "cell_type": "code",
   "execution_count": 105,
   "metadata": {
    "execution": {
     "iopub.execute_input": "2021-10-31T03:07:35.269205Z",
     "iopub.status.busy": "2021-10-31T03:07:35.268877Z",
     "iopub.status.idle": "2021-10-31T03:07:35.274387Z",
     "shell.execute_reply": "2021-10-31T03:07:35.273657Z",
     "shell.execute_reply.started": "2021-10-31T03:07:35.269178Z"
    },
    "tags": []
   },
   "outputs": [
    {
     "data": {
      "text/plain": [
       "0.04717314487632509"
      ]
     },
     "execution_count": 105,
     "metadata": {},
     "output_type": "execute_result"
    }
   ],
   "source": [
    "lubbock_df.offer_accepted.mean()"
   ]
  },
  {
   "cell_type": "markdown",
   "metadata": {},
   "source": [
    "## Caution about a/b test "
   ]
  },
  {
   "cell_type": "markdown",
   "metadata": {},
   "source": [
    "Note that this is not a classical a/b test. Usually, in such a test, one creates two random subgroups from the general population and applies a manipulation to one of them in order to see if the manipulation had an effect. However, in this case, it is very complicated to isolate a random subgroup from any population and deploy the flyer program only on it.\n",
    "Thus, due to production limitation, we have to make do with what we got."
   ]
  },
  {
   "cell_type": "markdown",
   "metadata": {},
   "source": [
    "In order to justify the use of an a/b test for this situation, we should at least verify that the borrower population in Lubbock and Raleigh seem as though they were randomly selected from the general population. We have actually already checked it for Raleigh above. Add TU features to the loan amount, interest rate, credit score and term comparisons and see if there any major differences between the three populations (Lubbock, Raleigh and TU)."
   ]
  },
  {
   "cell_type": "code",
   "execution_count": 106,
   "metadata": {
    "execution": {
     "iopub.execute_input": "2021-10-31T03:07:35.275637Z",
     "iopub.status.busy": "2021-10-31T03:07:35.275433Z",
     "iopub.status.idle": "2021-10-31T03:07:35.983697Z",
     "shell.execute_reply": "2021-10-31T03:07:35.982803Z",
     "shell.execute_reply.started": "2021-10-31T03:07:35.275612Z"
    },
    "tags": []
   },
   "outputs": [
    {
     "data": {
      "image/png": "[encoded data removed]",
      "text/plain": [
       "<Figure size 432x288 with 1 Axes>"
      ]
     },
     "metadata": {},
     "output_type": "display_data"
    }
   ],
   "source": [
    "plt.hist(raleigh_df.requested_amount, bins= np.linspace(0,200_000,50), density=True, label=\"raleigh\");\n",
    "plt.hist(lubbock_df.requested_amount, bins= np.linspace(0,200_000,50), density=True, alpha = 0.5, label= \"lubbock\");\n",
    "plt.hist(tu_data.loan_amnt, bins= np.linspace(0,200_000,50), density=True, alpha = 0.3, label=\"tu\");\n",
    "plt.legend();"
   ]
  },
  {
   "cell_type": "code",
   "execution_count": 107,
   "metadata": {
    "execution": {
     "iopub.execute_input": "2021-10-31T03:07:35.985021Z",
     "iopub.status.busy": "2021-10-31T03:07:35.984805Z",
     "iopub.status.idle": "2021-10-31T03:07:42.976031Z",
     "shell.execute_reply": "2021-10-31T03:07:42.975193Z",
     "shell.execute_reply.started": "2021-10-31T03:07:35.984992Z"
    },
    "tags": []
   },
   "outputs": [
    {
     "name": "stderr",
     "output_type": "stream",
     "text": [
      "/root/wd/venv/lib/python3.8/site-packages/seaborn/distributions.py:2557: FutureWarning: `distplot` is a deprecated function and will be removed in a future version. Please adapt your code to use either `displot` (a figure-level function with similar flexibility) or `histplot` (an axes-level function for histograms).\n",
      "  warnings.warn(msg, FutureWarning)\n",
      "/root/wd/venv/lib/python3.8/site-packages/seaborn/distributions.py:2557: FutureWarning: `distplot` is a deprecated function and will be removed in a future version. Please adapt your code to use either `displot` (a figure-level function with similar flexibility) or `histplot` (an axes-level function for histograms).\n",
      "  warnings.warn(msg, FutureWarning)\n",
      "/root/wd/venv/lib/python3.8/site-packages/seaborn/distributions.py:2557: FutureWarning: `distplot` is a deprecated function and will be removed in a future version. Please adapt your code to use either `displot` (a figure-level function with similar flexibility) or `histplot` (an axes-level function for histograms).\n",
      "  warnings.warn(msg, FutureWarning)\n"
     ]
    },
    {
     "data": {
      "image/png": "[encoded data removed]",
      "text/plain": [
       "<Figure size 432x288 with 1 Axes>"
      ]
     },
     "metadata": {},
     "output_type": "display_data"
    }
   ],
   "source": [
    "sns.distplot(raleigh_df.requested_amount);\n",
    "sns.distplot(lubbock_df.requested_amount);\n",
    "sns.distplot(tu_data.loan_amnt);"
   ]
  },
  {
   "cell_type": "code",
   "execution_count": 108,
   "metadata": {
    "execution": {
     "iopub.execute_input": "2021-10-31T03:07:42.977410Z",
     "iopub.status.busy": "2021-10-31T03:07:42.977194Z",
     "iopub.status.idle": "2021-10-31T03:07:43.692623Z",
     "shell.execute_reply": "2021-10-31T03:07:43.691819Z",
     "shell.execute_reply.started": "2021-10-31T03:07:42.977382Z"
    },
    "tags": []
   },
   "outputs": [
    {
     "data": {
      "image/png": "[encoded data removed]",
      "text/plain": [
       "<Figure size 432x288 with 1 Axes>"
      ]
     },
     "metadata": {},
     "output_type": "display_data"
    }
   ],
   "source": [
    "plt.hist(raleigh_df.offered_interest_rate, bins= np.linspace(0,50,50), density=True, label=\"raleigh\");\n",
    "plt.hist(lubbock_df.offered_interest_rate, bins= np.linspace(0,50,50), density=True, alpha=0.5, label=\"lubbock\");\n",
    "plt.hist(tu_data.int_rate, bins= np.linspace(0,50,50), density=True, alpha = 0.3, label=\"tu\");\n",
    "plt.legend();"
   ]
  },
  {
   "cell_type": "code",
   "execution_count": 109,
   "metadata": {
    "execution": {
     "iopub.execute_input": "2021-10-31T03:07:43.693934Z",
     "iopub.status.busy": "2021-10-31T03:07:43.693719Z",
     "iopub.status.idle": "2021-10-31T03:07:49.816409Z",
     "shell.execute_reply": "2021-10-31T03:07:49.815587Z",
     "shell.execute_reply.started": "2021-10-31T03:07:43.693907Z"
    },
    "tags": []
   },
   "outputs": [
    {
     "name": "stderr",
     "output_type": "stream",
     "text": [
      "/root/wd/venv/lib/python3.8/site-packages/seaborn/distributions.py:2557: FutureWarning: `distplot` is a deprecated function and will be removed in a future version. Please adapt your code to use either `displot` (a figure-level function with similar flexibility) or `histplot` (an axes-level function for histograms).\n",
      "  warnings.warn(msg, FutureWarning)\n",
      "/root/wd/venv/lib/python3.8/site-packages/seaborn/distributions.py:2557: FutureWarning: `distplot` is a deprecated function and will be removed in a future version. Please adapt your code to use either `displot` (a figure-level function with similar flexibility) or `histplot` (an axes-level function for histograms).\n",
      "  warnings.warn(msg, FutureWarning)\n",
      "/root/wd/venv/lib/python3.8/site-packages/seaborn/distributions.py:2557: FutureWarning: `distplot` is a deprecated function and will be removed in a future version. Please adapt your code to use either `displot` (a figure-level function with similar flexibility) or `histplot` (an axes-level function for histograms).\n",
      "  warnings.warn(msg, FutureWarning)\n"
     ]
    },
    {
     "data": {
      "image/png": "[encoded data removed]",
      "text/plain": [
       "<Figure size 432x288 with 1 Axes>"
      ]
     },
     "metadata": {},
     "output_type": "display_data"
    }
   ],
   "source": [
    "sns.distplot(raleigh_df.offered_interest_rate);\n",
    "sns.distplot(lubbock_df.offered_interest_rate);\n",
    "sns.distplot(tu_data.int_rate);"
   ]
  },
  {
   "cell_type": "code",
   "execution_count": 110,
   "metadata": {
    "execution": {
     "iopub.execute_input": "2021-10-31T03:07:49.817800Z",
     "iopub.status.busy": "2021-10-31T03:07:49.817584Z",
     "iopub.status.idle": "2021-10-31T03:07:50.357989Z",
     "shell.execute_reply": "2021-10-31T03:07:50.357127Z",
     "shell.execute_reply.started": "2021-10-31T03:07:49.817773Z"
    },
    "tags": []
   },
   "outputs": [
    {
     "data": {
      "image/png": "[encoded data removed]",
      "text/plain": [
       "<Figure size 432x288 with 1 Axes>"
      ]
     },
     "metadata": {},
     "output_type": "display_data"
    }
   ],
   "source": [
    "plt.hist(raleigh_df.credit_score, bins= np.linspace(300,800,50), density=True, label=\"raleigh\");\n",
    "plt.hist(lubbock_df.credit_score, bins= np.linspace(300,800,50), density=True, alpha = 0.5, label= \"lubbock\");\n",
    "plt.hist(tu_data.credit_score, bins= np.linspace(300,800,50), density=True, alpha = 0.3, label=\"tu\");"
   ]
  },
  {
   "cell_type": "code",
   "execution_count": 111,
   "metadata": {
    "execution": {
     "iopub.execute_input": "2021-10-31T03:07:50.359379Z",
     "iopub.status.busy": "2021-10-31T03:07:50.359147Z",
     "iopub.status.idle": "2021-10-31T03:07:57.389633Z",
     "shell.execute_reply": "2021-10-31T03:07:57.388335Z",
     "shell.execute_reply.started": "2021-10-31T03:07:50.359349Z"
    },
    "tags": []
   },
   "outputs": [
    {
     "name": "stderr",
     "output_type": "stream",
     "text": [
      "/root/wd/venv/lib/python3.8/site-packages/seaborn/distributions.py:2557: FutureWarning: `distplot` is a deprecated function and will be removed in a future version. Please adapt your code to use either `displot` (a figure-level function with similar flexibility) or `histplot` (an axes-level function for histograms).\n",
      "  warnings.warn(msg, FutureWarning)\n",
      "/root/wd/venv/lib/python3.8/site-packages/seaborn/distributions.py:2557: FutureWarning: `distplot` is a deprecated function and will be removed in a future version. Please adapt your code to use either `displot` (a figure-level function with similar flexibility) or `histplot` (an axes-level function for histograms).\n",
      "  warnings.warn(msg, FutureWarning)\n",
      "/root/wd/venv/lib/python3.8/site-packages/seaborn/distributions.py:2557: FutureWarning: `distplot` is a deprecated function and will be removed in a future version. Please adapt your code to use either `displot` (a figure-level function with similar flexibility) or `histplot` (an axes-level function for histograms).\n",
      "  warnings.warn(msg, FutureWarning)\n"
     ]
    },
    {
     "data": {
      "image/png": "[encoded data removed]",
      "text/plain": [
       "<Figure size 432x288 with 1 Axes>"
      ]
     },
     "metadata": {},
     "output_type": "display_data"
    }
   ],
   "source": [
    "sns.distplot(raleigh_df.credit_score);\n",
    "sns.distplot(lubbock_df.credit_score);\n",
    "sns.distplot(tu_data.credit_score);"
   ]
  },
  {
   "cell_type": "code",
   "execution_count": 112,
   "metadata": {
    "execution": {
     "iopub.execute_input": "2021-10-31T03:07:57.391014Z",
     "iopub.status.busy": "2021-10-31T03:07:57.390798Z",
     "iopub.status.idle": "2021-10-31T03:07:57.399274Z",
     "shell.execute_reply": "2021-10-31T03:07:57.398314Z",
     "shell.execute_reply.started": "2021-10-31T03:07:57.390987Z"
    },
    "tags": []
   },
   "outputs": [
    {
     "data": {
      "text/plain": [
       "36.0    0.553534\n",
       "60.0    0.446466\n",
       "Name: listing_term, dtype: float64"
      ]
     },
     "execution_count": 112,
     "metadata": {},
     "output_type": "execute_result"
    }
   ],
   "source": [
    "lubbock_df.listing_term.value_counts(normalize=True)"
   ]
  },
  {
   "cell_type": "code",
   "execution_count": 113,
   "metadata": {
    "execution": {
     "iopub.execute_input": "2021-10-31T03:07:57.400542Z",
     "iopub.status.busy": "2021-10-31T03:07:57.400332Z",
     "iopub.status.idle": "2021-10-31T03:07:57.420975Z",
     "shell.execute_reply": "2021-10-31T03:07:57.420195Z",
     "shell.execute_reply.started": "2021-10-31T03:07:57.400514Z"
    },
    "tags": []
   },
   "outputs": [
    {
     "data": {
      "text/plain": [
       "36.0    0.557304\n",
       "60.0    0.442696\n",
       "Name: listing_term, dtype: float64"
      ]
     },
     "execution_count": 113,
     "metadata": {},
     "output_type": "execute_result"
    }
   ],
   "source": [
    "tu_data.listing_term.value_counts(normalize=True)"
   ]
  },
  {
   "cell_type": "markdown",
   "metadata": {},
   "source": [
    "## Performing the test"
   ]
  },
  {
   "cell_type": "markdown",
   "metadata": {
    "execution": {
     "iopub.status.busy": "2021-07-01T03:36:51.530342Z",
     "iopub.status.idle": "2021-07-01T03:36:51.530744Z"
    }
   },
   "source": [
    "Use the function you created in the file `clt.py` to plot the series of means of activation in Raleigh and Lubbock for samples of size n= 1, 10, 1000 and 1e6, and compare the means of the two histograms. To they seem to converge to the same value?"
   ]
  },
  {
   "cell_type": "code",
   "execution_count": 114,
   "metadata": {
    "execution": {
     "iopub.execute_input": "2021-10-31T03:07:57.422267Z",
     "iopub.status.busy": "2021-10-31T03:07:57.422056Z",
     "iopub.status.idle": "2021-10-31T03:15:58.365871Z",
     "shell.execute_reply": "2021-10-31T03:15:58.365021Z",
     "shell.execute_reply.started": "2021-10-31T03:07:57.422239Z"
    },
    "tags": []
   },
   "outputs": [
    {
     "data": {
      "image/png": "[encoded data removed]",
      "text/plain": [
       "<Figure size 1080x1080 with 9 Axes>"
      ]
     },
     "metadata": {},
     "output_type": "display_data"
    }
   ],
   "source": [
    "fig, axs = plt.subplots(3, 3, figsize=(15,15))\n",
    "for i, n in enumerate([1, 2, 5, 10, 100, 1000, 10_000, 100_000, 1_000_000]):\n",
    "    avg_arr_rl = average_sampler(raleigh_df.offer_accepted, n)\n",
    "    avg_arr_lb = average_sampler(lubbock_df.offer_accepted, n)\n",
    "    axs[i // 3, i % 3].hist(avg_arr_rl,  \n",
    "                            bins=round(np.ceil(np.sqrt(len(np.unique(avg_arr_rl))))),\n",
    "                            density=True)\n",
    "    axs[i // 3, i % 3].hist(avg_arr_lb,  \n",
    "                            bins=round(np.ceil(np.sqrt(len(np.unique(avg_arr_lb))))),\n",
    "                            density=True,\n",
    "                            alpha=0.5)\n",
    "    axs[i//3, i%3].axvline(avg_arr_rl.mean(), color=\"r\");\n",
    "    axs[i//3, i%3].axvline(avg_arr_lb.mean(), color=\"g\");\n",
    "    axs[i//3, i%3].title.set_text(f\"sample of {n},\\nraleigh_mean = {avg_arr_rl.mean():.5f},\\nlubbock_mean = {avg_arr_lb.mean():.5f}\");\n",
    "    "
   ]
  },
  {
   "cell_type": "markdown",
   "metadata": {},
   "source": [
    "Apply a statistical test to see whether the activation rate in Raleigh, NC is significantly larger than Lubbock, TX. Clearly state and validate your test's assumption. \n",
    "\n",
    "1. What are your hypotheses?\n",
    "2. Setting your confidence level at 95%, what is the probability of an error of type I in your test? What is the probability of a type II error?\n",
    "3. Are the two samples significantly different? \n",
    "4. Interpret your results. Can you declare the program as successful in increasing activation? What is the probability of wrongfully declaring it successful?"
   ]
  },
  {
   "cell_type": "code",
   "execution_count": 115,
   "metadata": {
    "execution": {
     "iopub.execute_input": "2021-10-31T03:15:58.367242Z",
     "iopub.status.busy": "2021-10-31T03:15:58.366993Z",
     "iopub.status.idle": "2021-10-31T03:15:58.371059Z",
     "shell.execute_reply": "2021-10-31T03:15:58.370313Z",
     "shell.execute_reply.started": "2021-10-31T03:15:58.367214Z"
    },
    "tags": []
   },
   "outputs": [],
   "source": [
    "from statsmodels.stats.proportion import proportions_ztest"
   ]
  },
  {
   "cell_type": "markdown",
   "metadata": {},
   "source": [
    "Use the `proportions_ztest` function from `statsmodels.stats.proportion` to perform a comparison between the activation probability in Lubbock and in Raleigh. "
   ]
  },
  {
   "cell_type": "code",
   "execution_count": 116,
   "metadata": {
    "execution": {
     "iopub.execute_input": "2021-10-31T03:15:58.375980Z",
     "iopub.status.busy": "2021-10-31T03:15:58.375654Z",
     "iopub.status.idle": "2021-10-31T03:15:58.380326Z",
     "shell.execute_reply": "2021-10-31T03:15:58.379591Z",
     "shell.execute_reply.started": "2021-10-31T03:15:58.375952Z"
    },
    "tags": []
   },
   "outputs": [],
   "source": [
    "count = [lubbock_df.offer_accepted.sum(), raleigh_df.offer_accepted.sum()]\n",
    "nobs = [lubbock_df.shape[0], raleigh_df.shape[0]]"
   ]
  },
  {
   "cell_type": "code",
   "execution_count": 131,
   "metadata": {
    "execution": {
     "iopub.execute_input": "2021-10-31T03:50:10.691354Z",
     "iopub.status.busy": "2021-10-31T03:50:10.690993Z",
     "iopub.status.idle": "2021-10-31T03:50:10.697376Z",
     "shell.execute_reply": "2021-10-31T03:50:10.696618Z",
     "shell.execute_reply.started": "2021-10-31T03:50:10.691324Z"
    },
    "tags": []
   },
   "outputs": [
    {
     "data": {
      "text/plain": [
       "0.0034903700197736662"
      ]
     },
     "execution_count": 131,
     "metadata": {},
     "output_type": "execute_result"
    }
   ],
   "source": [
    "p_hat = sum(count)/ sum(nobs)\n",
    "np.sqrt(p_hat * (1- p_hat) * (1/ np.array(nobs)).sum())"
   ]
  },
  {
   "cell_type": "code",
   "execution_count": 117,
   "metadata": {
    "execution": {
     "iopub.execute_input": "2021-10-31T03:15:58.381625Z",
     "iopub.status.busy": "2021-10-31T03:15:58.381418Z",
     "iopub.status.idle": "2021-10-31T03:15:58.387498Z",
     "shell.execute_reply": "2021-10-31T03:15:58.386670Z",
     "shell.execute_reply.started": "2021-10-31T03:15:58.381598Z"
    },
    "tags": []
   },
   "outputs": [
    {
     "data": {
      "text/plain": [
       "(-11.315864686822128, 1.0951717760291721e-29)"
      ]
     },
     "execution_count": 117,
     "metadata": {},
     "output_type": "execute_result"
    }
   ],
   "source": [
    "proportions_ztest(count, nobs)"
   ]
  },
  {
   "cell_type": "markdown",
   "metadata": {},
   "source": [
    "<span style=\"color:teal\">\n",
    "In a comparison proportion test, our hypotheses are:\n",
    "\n",
    "$H_0$: $p_1-p_2 =0$,\n",
    "\n",
    "$H_1$: $p_1-p_2 \\ne 0$,\n",
    "    \n",
    "where $p_1$ and $p_2$ denote the proportion in the first and second population, respectively. \n",
    "In our case, we can compute $p_1,p_2$ to get $p_1= 0.0866$ and $p_2=0.0474$. The variance estimator in this setting is $$\\hat{s}=\\sqrt{\\hat{p}(1-\\hat{p})}\\left(\\frac{1}{n_1}+\\frac{1}{n_2}\\right)\\text{ where }\\hat{p}=\\frac{\\#\\text{successes in both populations}}{\\#\\text{observations in both populations}}=0.0644$$\n",
    "So $\\hat{s} = 0.0035$.\n",
    "    \n",
    "Using this information and using the method from the ordinary proportion test above, we can easily compute the probabilty of a type II error after we fix the hypothesized difference between populations under $H_1$. Here, we'll take $p_1-p_2= 0.0392$.\n",
    "</span>"
   ]
  },
  {
   "cell_type": "code",
   "execution_count": 133,
   "metadata": {
    "execution": {
     "iopub.execute_input": "2021-10-31T03:51:01.270132Z",
     "iopub.status.busy": "2021-10-31T03:51:01.269873Z",
     "iopub.status.idle": "2021-10-31T03:51:01.275734Z",
     "shell.execute_reply": "2021-10-31T03:51:01.274924Z",
     "shell.execute_reply.started": "2021-10-31T03:51:01.270104Z"
    },
    "tags": []
   },
   "outputs": [],
   "source": [
    "z_left = sst.norm.ppf(0.025, loc = 0, scale= 0.0035)\n",
    "z_right = sst.norm.ppf(0.975, loc = 0, scale= 0.0035)\n",
    "H1mean = 0.0392"
   ]
  },
  {
   "cell_type": "code",
   "execution_count": 134,
   "metadata": {
    "execution": {
     "iopub.execute_input": "2021-10-31T03:51:02.039885Z",
     "iopub.status.busy": "2021-10-31T03:51:02.039661Z",
     "iopub.status.idle": "2021-10-31T03:51:02.044774Z",
     "shell.execute_reply": "2021-10-31T03:51:02.044044Z",
     "shell.execute_reply.started": "2021-10-31T03:51:02.039858Z"
    },
    "tags": []
   },
   "outputs": [
    {
     "name": "stdout",
     "output_type": "stream",
     "text": [
      "The probability of a type II error is 1.2320714061927557e-20\n"
     ]
    }
   ],
   "source": [
    "print(f\"The probability of a type II error is \"\n",
    "      f\"{scipy.stats.norm.cdf(z_right, H1mean, 0.0035) -scipy.stats.norm.cdf(z_left, H1mean, 0.0035)}\")"
   ]
  },
  {
   "cell_type": "code",
   "execution_count": 138,
   "metadata": {
    "execution": {
     "iopub.execute_input": "2021-10-31T03:51:48.741216Z",
     "iopub.status.busy": "2021-10-31T03:51:48.740898Z",
     "iopub.status.idle": "2021-10-31T03:51:49.060976Z",
     "shell.execute_reply": "2021-10-31T03:51:49.060172Z",
     "shell.execute_reply.started": "2021-10-31T03:51:48.741187Z"
    },
    "tags": []
   },
   "outputs": [
    {
     "data": {
      "text/plain": [
       "<matplotlib.legend.Legend at 0x7f3eb1ef3460>"
      ]
     },
     "execution_count": 138,
     "metadata": {},
     "output_type": "execute_result"
    },
    {
     "data": {
      "image/png": "[encoded data removed]",
      "text/plain": [
       "<Figure size 1440x1440 with 1 Axes>"
      ]
     },
     "metadata": {},
     "output_type": "display_data"
    }
   ],
   "source": [
    "plt.figure(figsize=(20,20))\n",
    "edge_l, edge_r = -0.02, 0.06\n",
    "\n",
    "x= np.linspace(edge_l, edge_r, 500)\n",
    "plt.plot(x, scipy.stats.norm.pdf(x, 0, 0.0035), label=\"H0\")\n",
    "plt.plot(x, scipy.stats.norm.pdf(x, H1mean, 0.0035), label=\"H1\")\n",
    "plt.axvline(z_right, c=\"r\", label=\"z_right\")\n",
    "plt.axvline(z_left, c=\"r\", label=\"z_left\")\n",
    "\n",
    "\n",
    "x_type1_1 = np.linspace(edge_l, z_left, 300)\n",
    "x_type1_2 = np.linspace(z_right, edge_r, 300)\n",
    "plt.fill_between(x_type1_1, scipy.stats.norm.pdf(x_type1_1, 0, 0.0035), color=\"blue\", step=\"pre\", alpha=0.4)\n",
    "plt.fill_between(x_type1_2, scipy.stats.norm.pdf(x_type1_2, 0, 0.0035), color=\"blue\", step=\"pre\", alpha=0.4)\n",
    "\n",
    "x_type2 = np.linspace(z_left, z_right, 300)\n",
    "plt.fill_between(x_type2, scipy.stats.norm.pdf(x_type2, H1mean, 0.0035), color=\"orange\", step=\"pre\", alpha=0.4)\n",
    "\n",
    "plt.legend()"
   ]
  },
  {
   "cell_type": "markdown",
   "metadata": {
    "execution": {
     "iopub.status.busy": "2021-07-01T03:36:51.542043Z",
     "iopub.status.idle": "2021-07-01T03:36:51.542428Z"
    }
   },
   "source": [
    "Interprest your results; do you observe a significant change in activation in Raleigh? What is the probability of wrongfully declaring the program successful?"
   ]
  },
  {
   "cell_type": "markdown",
   "metadata": {},
   "source": [
    "<span style=\"color:teal\">Yes, a higher activation rate in Raleigh compared to Lubbock</span>"
   ]
  },
  {
   "cell_type": "markdown",
   "metadata": {},
   "source": [
    "# Testing for activation in sub-populations"
   ]
  },
  {
   "cell_type": "markdown",
   "metadata": {},
   "source": [
    "Now that you applied the a/b test to the Lubbock and Raleigh datasets, it is now required that you make a similar comparison on different subsets of the data within various credit score and loan amount bins. To do so, let us first decide on how to segment our data.\n",
    "\n",
    "You are asked to divide your data into 10 bins according to loan amount, and then divide each of those bins into 10 bins according to loan amount. The most staightforward way of doing this is by using the `pd.qcut` function; first dividing the data into 10 quantiles of credit score and then dividing each of these quantiles into 10 according to loan amount."
   ]
  },
  {
   "cell_type": "markdown",
   "metadata": {},
   "source": [
    "Divide your datasets as above and add two columns to your data which indicate the (credit_score, loan_amnt) of the bin."
   ]
  },
  {
   "cell_type": "code",
   "execution_count": null,
   "metadata": {
    "tags": []
   },
   "outputs": [],
   "source": [
    "bins = (\n",
    "    tu_data[[\"credit_score\", \"loan_amnt\"]]\n",
    "    .assign(credit_score_bin = lambda df: pd.qcut(df.credit_score, 10))\n",
    "    .groupby(\"credit_score_bin\")\n",
    "    .apply(lambda df: sorted(pd.qcut(df.loan_amnt, 10).unique()))\n",
    "    .sort_index()\n",
    "    .explode()\n",
    "    .to_frame(name= \"loan_amnt_bin\")\n",
    "    .reset_index()\n",
    ")"
   ]
  },
  {
   "cell_type": "code",
   "execution_count": null,
   "metadata": {
    "tags": []
   },
   "outputs": [],
   "source": [
    "bins"
   ]
  },
  {
   "cell_type": "code",
   "execution_count": null,
   "metadata": {
    "tags": []
   },
   "outputs": [],
   "source": [
    "tu_data[\"credit_score_bin\"]= pd.qcut(tu_data.credit_score, q=10)"
   ]
  },
  {
   "cell_type": "code",
   "execution_count": null,
   "metadata": {
    "tags": []
   },
   "outputs": [],
   "source": [
    "tu_data.credit_score_bin.value_counts()"
   ]
  },
  {
   "cell_type": "code",
   "execution_count": null,
   "metadata": {},
   "outputs": [],
   "source": []
  },
  {
   "cell_type": "code",
   "execution_count": null,
   "metadata": {
    "tags": []
   },
   "outputs": [],
   "source": [
    "bins"
   ]
  },
  {
   "cell_type": "code",
   "execution_count": null,
   "metadata": {
    "tags": []
   },
   "outputs": [],
   "source": [
    "for _, (cs_bin, la_bin) in bins.iterrows():\n",
    "    raleigh_df.loc[raleigh_df.credit_score.between(cs_bin.left, cs_bin.right), \"credit_score_bin\"] = cs_bin\n",
    "    raleigh_df.loc[raleigh_df.credit_score.between(cs_bin.left, cs_bin.right) &\n",
    "                   raleigh_df.loan_amnt.between(la_bin.left, la_bin.right)\n",
    "                   , \"loan_amnt_bin\"] = la_bin\n",
    "    lubbock_df.loc[lubbock_df.credit_score.between(cs_bin.left, cs_bin.right), \"credit_score_bin\"] = cs_bin\n",
    "    lubbock_df.loc[lubbock_df.credit_score.between(cs_bin.left, cs_bin.right) &\n",
    "                   lubbock_df.loan_amnt.between(la_bin.left, la_bin.right)\n",
    "                   , \"loan_amnt_bin\"] = la_bin"
   ]
  },
  {
   "cell_type": "markdown",
   "metadata": {},
   "source": [
    "Run an a/b test on each of the bins in your data and create a $10\\times 10$ table containing the $p$ value of each test. Also create a table of booleans indicating which of the tests gave a significant result."
   ]
  },
  {
   "cell_type": "code",
   "execution_count": null,
   "metadata": {
    "tags": []
   },
   "outputs": [],
   "source": [
    "res_table = np.empty(shape=(10,10), dtype=\"float64\")\n",
    "for i, (cs_bin, la_bin) in bins.iterrows():\n",
    "    raleigh_in_bin = raleigh_df[(raleigh_df[\"credit_score_bin\"] == cs_bin) & (raleigh_df[\"loan_amnt_bin\"]  == la_bin)]\n",
    "    lubbock_in_bin = lubbock_df[(lubbock_df[\"credit_score_bin\"] == cs_bin) & (lubbock_df[\"loan_amnt_bin\"]  == la_bin)]\n",
    "    count = [lubbock_in_bin.offer_accepted.sum(), raleigh_in_bin.offer_accepted.sum()]\n",
    "    nobs = [lubbock_in_bin.shape[0], raleigh_in_bin.shape[0]]\n",
    "    res_table[i //10 , i % 10] = proportions_ztest(count, nobs)[1]"
   ]
  },
  {
   "cell_type": "code",
   "execution_count": null,
   "metadata": {
    "tags": []
   },
   "outputs": [],
   "source": [
    "pd.DataFrame(res_table)"
   ]
  },
  {
   "cell_type": "code",
   "execution_count": null,
   "metadata": {
    "tags": []
   },
   "outputs": [],
   "source": [
    "sns.heatmap(res_table < 0.05)"
   ]
  },
  {
   "cell_type": "markdown",
   "metadata": {},
   "source": [
    "What is the probability of falsely rejecting the null hypothesis in each cell? What is the probability of falsely rejecting the null hypothesis in at least one of the cells (i.e. what is the **family wise error rate**)?\n",
    "\n",
    "In other words, given that we made $m$ experiments, with confidence level $\\alpha$, what is the probabilty $\\mathbb{P}\\left(\\bigcup_i X_i \\le q_{\\alpha}\\right)$? \n",
    "\n",
    "_Note_: you may assume that sampling from different bins are independent."
   ]
  },
  {
   "cell_type": "code",
   "execution_count": null,
   "metadata": {
    "tags": []
   },
   "outputs": [],
   "source": [
    "1 - 0.95 ** 100"
   ]
  },
  {
   "cell_type": "markdown",
   "metadata": {},
   "source": [
    "<span style=\"color:teal\">\n",
    "    Assuming independence of sampling, we have the following:\n",
    "    $$\n",
    "    \\mathbb{P}\\left(\\bigcup_{i=1}^m X_i\\le q_\\alpha\\right) = \n",
    "    1 - \\mathbb{P}\\left(\\bigcap_i X_i > q_\\alpha\\right) = \n",
    "    1 - \\prod_i \\mathbb{P}(X_i > q_\\alpha) = 1 - (1-\\alpha)^m\n",
    "    $$\n",
    "Specifically, since we conducted 100 experiments at a confidence level of 95%, the FWER of our entire experiment is\n",
    "    $$ 1 - 0.95^{100} = 0.994079$$\n",
    "That is, the probability of falsely rejecting the null hypothesis at *some* point of the experiment is over 99%!!!\n",
    "<span>"
   ]
  },
  {
   "cell_type": "markdown",
   "metadata": {},
   "source": [
    "## Bonferroni correction "
   ]
  },
  {
   "cell_type": "markdown",
   "metadata": {},
   "source": [
    "One way of assuring that your FWER remains below $\\alpha=0.05$ is to apply a <a href=\"https://en.wikipedia.org/wiki/Bonferroni_correction\">**Bonferroni correction**</a>. This means that we set the signficance level of each individual test to $\\alpha/m$, where $m=100$ is the number of tests (see, e.g., Wikipedia for an explanation). \n",
    "\n",
    "Use a Bonferroni correction on your segmented a/b test and output a $10\\times10$ table of boolean values, indicating which test gave a significant result under this correction."
   ]
  },
  {
   "cell_type": "code",
   "execution_count": null,
   "metadata": {
    "tags": []
   },
   "outputs": [],
   "source": [
    "sns.heatmap(res_table< 0.05/100)"
   ]
  },
  {
   "cell_type": "markdown",
   "metadata": {},
   "source": [
    "How many of your tests came out significant under this correction?"
   ]
  },
  {
   "cell_type": "markdown",
   "metadata": {},
   "source": [
    "<span style= \"color:teal\"> Only one of our expreiments came out significany under the Bonnefroni correction</span>"
   ]
  },
  {
   "cell_type": "markdown",
   "metadata": {},
   "source": [
    "## BH correction "
   ]
  },
  {
   "cell_type": "markdown",
   "metadata": {},
   "source": [
    "The Bonferroni correction is often criticized for being too restrictive, as you probably noticed in the last subsection. A more commonly used method for correcting $\\alpha$ values is the Benjamini-Hochberg method. You can <a href=\"https://www.youtube.com/watch?v=K8LQSvtjcEo\">check out the quest</a> for a nice explanation about it."
   ]
  },
  {
   "cell_type": "markdown",
   "metadata": {},
   "source": [
    "Start by arranging the $p$-values of your original test as a series and listing them in ascending order. You can use the `pd.DataFrame.stack` and `pd.Series.sort_values` methods."
   ]
  },
  {
   "cell_type": "code",
   "execution_count": null,
   "metadata": {
    "tags": []
   },
   "outputs": [],
   "source": [
    "bh_arg_sort = np.argsort(res_table.reshape(-1))"
   ]
  },
  {
   "cell_type": "code",
   "execution_count": null,
   "metadata": {
    "tags": []
   },
   "outputs": [],
   "source": [
    "bh_sorted_probs = res_table.reshape(-1)[bh_arg_sort]"
   ]
  },
  {
   "cell_type": "markdown",
   "metadata": {},
   "source": [
    "Plot your sorted $p$-values"
   ]
  },
  {
   "cell_type": "code",
   "execution_count": null,
   "metadata": {
    "tags": []
   },
   "outputs": [],
   "source": [
    "plt.plot(bh_sorted_probs)"
   ]
  },
  {
   "cell_type": "markdown",
   "metadata": {},
   "source": [
    "For each entry of the new series, compute the value compute the value $\\frac{i}{m}\\cdot\\alpha$, where $i$ is the ordinal place of the entry (i.e. 1,2,...len(series)), $m=100$ and $\\alpha=0.05$ as above. Add a plot of these values to your $p$-values plot."
   ]
  },
  {
   "cell_type": "code",
   "execution_count": null,
   "metadata": {
    "tags": []
   },
   "outputs": [],
   "source": [
    "plt.plot(bh_sorted_probs)\n",
    "plt.plot(np.arange(1, len(bh_sorted_probs)+1) * 0.05/100)"
   ]
  },
  {
   "cell_type": "markdown",
   "metadata": {},
   "source": [
    "Find the largest index $i$ for which the $p$-value in the $i$-th place in the series is smaller than $\\frac{i}{m}\\cdot\\alpha$. That is- the last index in the plot you just created where the $p$-values line lies below the _adjusted_-$\\alpha$ line."
   ]
  },
  {
   "cell_type": "code",
   "execution_count": null,
   "metadata": {
    "tags": []
   },
   "outputs": [],
   "source": [
    "bh_sorted_probs  <= np.arange(1, len(bh_sorted_probs)+1) * 0.05/100"
   ]
  },
  {
   "cell_type": "code",
   "execution_count": null,
   "metadata": {
    "tags": []
   },
   "outputs": [],
   "source": [
    "bh_alphas = (np.arange(1, len(bh_sorted_probs)+1) * 0.05/100)[np.argsort(bh_arg_sort)].reshape(10,10)\n"
   ]
  },
  {
   "cell_type": "code",
   "execution_count": null,
   "metadata": {
    "tags": []
   },
   "outputs": [],
   "source": [
    "sns.heatmap(res_table < bh_alphas)"
   ]
  },
  {
   "cell_type": "markdown",
   "metadata": {},
   "source": [
    "Reject the null hypothesis for all test before and including this index, and accept it for all others. Reformat your table into a $10\\times 10$ dataframe; for which bins did we get a significant result in the corrected test?"
   ]
  },
  {
   "cell_type": "code",
   "execution_count": null,
   "metadata": {},
   "outputs": [],
   "source": []
  },
  {
   "cell_type": "markdown",
   "metadata": {},
   "source": [
    "### Validating your results"
   ]
  },
  {
   "cell_type": "markdown",
   "metadata": {},
   "source": [
    "You can validate your results (for both corrections) using the <a href= \"https://www.statsmodels.org/dev/generated/statsmodels.stats.multitest.multipletests.html\">`statsmodels.stats.multitest.multipletests`</a> package."
   ]
  },
  {
   "cell_type": "code",
   "execution_count": null,
   "metadata": {
    "tags": []
   },
   "outputs": [],
   "source": [
    "from statsmodels.stats.multitest import multipletests"
   ]
  },
  {
   "cell_type": "code",
   "execution_count": null,
   "metadata": {
    "tags": []
   },
   "outputs": [],
   "source": [
    "sns.heatmap(multipletests(res_table.reshape(-1), alpha = 0.05, method= \"bonferroni\")[0].reshape(10,10))"
   ]
  },
  {
   "cell_type": "code",
   "execution_count": null,
   "metadata": {
    "tags": []
   },
   "outputs": [],
   "source": [
    "sns.heatmap(multipletests(res_table.reshape(-1), alpha = 0.05, method= \"fdr_bh\")[0].reshape(10, 10))"
   ]
  },
  {
   "cell_type": "code",
   "execution_count": null,
   "metadata": {
    "tags": []
   },
   "outputs": [],
   "source": [
    "sns.heatmap(res_table<0.05)"
   ]
  },
  {
   "cell_type": "code",
   "execution_count": null,
   "metadata": {},
   "outputs": [],
   "source": [
    "\n",
    "raleigh_df.offer_accepted.mean(), lubbock_df.offer_accepted.mean()"
   ]
  },
  {
   "cell_type": "code",
   "execution_count": null,
   "metadata": {},
   "outputs": [],
   "source": []
  },
  {
   "cell_type": "code",
   "execution_count": null,
   "metadata": {},
   "outputs": [],
   "source": []
  }
 ],
 "metadata": {
  "kernelspec": {
   "display_name": "Python 3",
   "language": "python",
   "name": "python3"
  },
  "language_info": {
   "codemirror_mode": {
    "name": "ipython",
    "version": 3
   },
   "file_extension": ".py",
   "mimetype": "text/x-python",
   "name": "python",
   "nbconvert_exporter": "python",
   "pygments_lexer": "ipython3",
   "version": "3.8.12"
  }
 },
 "nbformat": 4,
 "nbformat_minor": 4
}

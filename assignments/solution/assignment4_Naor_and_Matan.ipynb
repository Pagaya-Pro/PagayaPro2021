{
 "cells": [
  {
   "cell_type": "markdown",
   "metadata": {},
   "source": [
    "In the US, all financial transaction consumers make are tracked and aggregated into features that describe their financial history. These features can then be used in order to predict how likely a person is to pay back their debts. Many US-based platforms offer unsecured loans, meaning that if a consumer stops paying while there is still outstanding debt (this is called a **charge off** or **defaulting** on the loan) the platform has no legal means for getting their money back, but the consumers' credit score is damaged. Charge-offs are the main risk lenders face, as they greatly decrease the loan's (or more generally, the loan portfolio's) total yield.\n",
    "\n",
    "In this exercise we will use these credit features in order to predict which loans are likely to CO."
   ]
  },
  {
   "cell_type": "markdown",
   "metadata": {},
   "source": [
    "# Loading the data"
   ]
  },
  {
   "cell_type": "markdown",
   "metadata": {},
   "source": [
    "First we will start by loading the data we will work with during this exercise.  \n",
    "The data contains information about each loan.  "
   ]
  },
  {
   "cell_type": "code",
   "execution_count": 1,
   "metadata": {
    "tags": []
   },
   "outputs": [],
   "source": [
    "import pandas as pd\n",
    "import numpy as np\n",
    "import seaborn as sns\n",
    "import matplotlib.pyplot as plt\n",
    "import warnings\n",
    "warnings.filterwarnings('ignore')"
   ]
  },
  {
   "cell_type": "markdown",
   "metadata": {},
   "source": [
    "Load the dataset and take a look at it"
   ]
  },
  {
   "cell_type": "code",
   "execution_count": 2,
   "metadata": {
    "tags": []
   },
   "outputs": [],
   "source": [
    "from pagayapro.paths.data_paths import ASSIGNMENT4_DATA\n",
    "import os"
   ]
  },
  {
   "cell_type": "code",
   "execution_count": 3,
   "metadata": {
    "tags": []
   },
   "outputs": [],
   "source": [
    "data = pd.read_parquet(os.path.join(ASSIGNMENT4_DATA,\"prosper_data.parquet\"))\n"
   ]
  },
  {
   "cell_type": "code",
   "execution_count": 4,
   "metadata": {},
   "outputs": [
    {
     "data": {
      "text/html": [
       "<div>\n",
       "<style scoped>\n",
       "    .dataframe tbody tr th:only-of-type {\n",
       "        vertical-align: middle;\n",
       "    }\n",
       "\n",
       "    .dataframe tbody tr th {\n",
       "        vertical-align: top;\n",
       "    }\n",
       "\n",
       "    .dataframe thead th {\n",
       "        text-align: right;\n",
       "    }\n",
       "</style>\n",
       "<table border=\"1\" class=\"dataframe\">\n",
       "  <thead>\n",
       "    <tr style=\"text-align: right;\">\n",
       "      <th></th>\n",
       "    </tr>\n",
       "    <tr>\n",
       "      <th>id</th>\n",
       "    </tr>\n",
       "  </thead>\n",
       "  <tbody>\n",
       "    <tr>\n",
       "      <th>733477</th>\n",
       "    </tr>\n",
       "    <tr>\n",
       "      <th>768878</th>\n",
       "    </tr>\n",
       "    <tr>\n",
       "      <th>742473</th>\n",
       "    </tr>\n",
       "    <tr>\n",
       "      <th>738121</th>\n",
       "    </tr>\n",
       "    <tr>\n",
       "      <th>733109</th>\n",
       "    </tr>\n",
       "    <tr>\n",
       "      <th>...</th>\n",
       "    </tr>\n",
       "    <tr>\n",
       "      <th>738916</th>\n",
       "    </tr>\n",
       "    <tr>\n",
       "      <th>754430</th>\n",
       "    </tr>\n",
       "    <tr>\n",
       "      <th>755852</th>\n",
       "    </tr>\n",
       "    <tr>\n",
       "      <th>763440</th>\n",
       "    </tr>\n",
       "    <tr>\n",
       "      <th>739533</th>\n",
       "    </tr>\n",
       "  </tbody>\n",
       "</table>\n",
       "<p>40249 rows × 0 columns</p>\n",
       "</div>"
      ],
      "text/plain": [
       "Empty DataFrame\n",
       "Columns: []\n",
       "Index: [733477, 768878, 742473, 738121, 733109, 754976, 728307, 740388, 725442, 778078, 742211, 725365, 768529, 722977, 724492, 747586, 739126, 764237, 746595, 734548, 739677, 749706, 758034, 734932, 764115, 731091, 760748, 739528, 753960, 738652, 762104, 778532, 741551, 739579, 740727, 730349, 733315, 731563, 719307, 751697, 736992, 758795, 747555, 737479, 744707, 751366, 726159, 750936, 729907, 732305, 736225, 766548, 770313, 762607, 757556, 735265, 725890, 740581, 768405, 731744, 763308, 728894, 729487, 718576, 744546, 775655, 737902, 719305, 722076, 736525, 748152, 767549, 749616, 784800, 771004, 729584, 734305, 741240, 755939, 771719, 733389, 768756, 744536, 755738, 757322, 756755, 741700, 728822, 757243, 737350, 733656, 746146, 771715, 736181, 730588, 727349, 725565, 726038, 724105, 742320, ...]\n",
       "\n",
       "[40249 rows x 0 columns]"
      ]
     },
     "execution_count": 4,
     "metadata": {},
     "output_type": "execute_result"
    }
   ],
   "source": [
    "data.filter(regex='.*term.*')"
   ]
  },
  {
   "cell_type": "code",
   "execution_count": 5,
   "metadata": {
    "tags": []
   },
   "outputs": [
    {
     "data": {
      "text/html": [
       "<div>\n",
       "<style scoped>\n",
       "    .dataframe tbody tr th:only-of-type {\n",
       "        vertical-align: middle;\n",
       "    }\n",
       "\n",
       "    .dataframe tbody tr th {\n",
       "        vertical-align: top;\n",
       "    }\n",
       "\n",
       "    .dataframe thead th {\n",
       "        text-align: right;\n",
       "    }\n",
       "</style>\n",
       "<table border=\"1\" class=\"dataframe\">\n",
       "  <thead>\n",
       "    <tr style=\"text-align: right;\">\n",
       "      <th></th>\n",
       "      <th>all804</th>\n",
       "      <th>rep501</th>\n",
       "      <th>hr24s</th>\n",
       "      <th>rt24s</th>\n",
       "      <th>iln703</th>\n",
       "      <th>hr06s</th>\n",
       "      <th>g099a</th>\n",
       "      <th>iln720</th>\n",
       "      <th>percent_funded</th>\n",
       "      <th>hr09s</th>\n",
       "      <th>...</th>\n",
       "      <th>re102s</th>\n",
       "      <th>bac302</th>\n",
       "      <th>credit_score</th>\n",
       "      <th>int_rate</th>\n",
       "      <th>monthly_pmt</th>\n",
       "      <th>occupation</th>\n",
       "      <th>borrower_city</th>\n",
       "      <th>co_mob</th>\n",
       "      <th>co_amount</th>\n",
       "      <th>issue_date</th>\n",
       "    </tr>\n",
       "    <tr>\n",
       "      <th>id</th>\n",
       "      <th></th>\n",
       "      <th></th>\n",
       "      <th></th>\n",
       "      <th></th>\n",
       "      <th></th>\n",
       "      <th></th>\n",
       "      <th></th>\n",
       "      <th></th>\n",
       "      <th></th>\n",
       "      <th></th>\n",
       "      <th></th>\n",
       "      <th></th>\n",
       "      <th></th>\n",
       "      <th></th>\n",
       "      <th></th>\n",
       "      <th></th>\n",
       "      <th></th>\n",
       "      <th></th>\n",
       "      <th></th>\n",
       "      <th></th>\n",
       "      <th></th>\n",
       "    </tr>\n",
       "  </thead>\n",
       "  <tbody>\n",
       "    <tr>\n",
       "      <th>733477</th>\n",
       "      <td>4.0</td>\n",
       "      <td>0.0</td>\n",
       "      <td>-1.0</td>\n",
       "      <td>1.0</td>\n",
       "      <td>52.0</td>\n",
       "      <td>-1.0</td>\n",
       "      <td>-1.0</td>\n",
       "      <td>9999.0</td>\n",
       "      <td>1.0</td>\n",
       "      <td>-1.0</td>\n",
       "      <td>...</td>\n",
       "      <td>5183.0</td>\n",
       "      <td>5681.0</td>\n",
       "      <td>720.0</td>\n",
       "      <td>13.15</td>\n",
       "      <td>607.79</td>\n",
       "      <td>Other</td>\n",
       "      <td>Hialeah</td>\n",
       "      <td>NaN</td>\n",
       "      <td>0.000000</td>\n",
       "      <td>2017-01-31</td>\n",
       "    </tr>\n",
       "    <tr>\n",
       "      <th>768878</th>\n",
       "      <td>0.0</td>\n",
       "      <td>0.0</td>\n",
       "      <td>-1.0</td>\n",
       "      <td>1.0</td>\n",
       "      <td>101.0</td>\n",
       "      <td>-1.0</td>\n",
       "      <td>-1.0</td>\n",
       "      <td>9999.0</td>\n",
       "      <td>1.0</td>\n",
       "      <td>-1.0</td>\n",
       "      <td>...</td>\n",
       "      <td>6450.0</td>\n",
       "      <td>6450.0</td>\n",
       "      <td>720.0</td>\n",
       "      <td>13.75</td>\n",
       "      <td>510.84</td>\n",
       "      <td>Professional</td>\n",
       "      <td>MARIETTA</td>\n",
       "      <td>NaN</td>\n",
       "      <td>0.000000</td>\n",
       "      <td>2017-03-31</td>\n",
       "    </tr>\n",
       "    <tr>\n",
       "      <th>742473</th>\n",
       "      <td>0.0</td>\n",
       "      <td>1.0</td>\n",
       "      <td>-3.0</td>\n",
       "      <td>-6.0</td>\n",
       "      <td>72.0</td>\n",
       "      <td>0.0</td>\n",
       "      <td>-1.0</td>\n",
       "      <td>54.0</td>\n",
       "      <td>1.0</td>\n",
       "      <td>0.0</td>\n",
       "      <td>...</td>\n",
       "      <td>1778.0</td>\n",
       "      <td>2029.0</td>\n",
       "      <td>660.0</td>\n",
       "      <td>14.25</td>\n",
       "      <td>205.80</td>\n",
       "      <td>None</td>\n",
       "      <td>SAGLE</td>\n",
       "      <td>14.0</td>\n",
       "      <td>4115.149902</td>\n",
       "      <td>2017-02-28</td>\n",
       "    </tr>\n",
       "    <tr>\n",
       "      <th>738121</th>\n",
       "      <td>3.0</td>\n",
       "      <td>0.0</td>\n",
       "      <td>-1.0</td>\n",
       "      <td>-1.0</td>\n",
       "      <td>38.0</td>\n",
       "      <td>-1.0</td>\n",
       "      <td>-1.0</td>\n",
       "      <td>9999.0</td>\n",
       "      <td>1.0</td>\n",
       "      <td>-1.0</td>\n",
       "      <td>...</td>\n",
       "      <td>7680.0</td>\n",
       "      <td>7066.0</td>\n",
       "      <td>720.0</td>\n",
       "      <td>11.30</td>\n",
       "      <td>493.21</td>\n",
       "      <td>Waiter/Waitress</td>\n",
       "      <td>QUINCY</td>\n",
       "      <td>NaN</td>\n",
       "      <td>0.000000</td>\n",
       "      <td>2017-02-28</td>\n",
       "    </tr>\n",
       "    <tr>\n",
       "      <th>733109</th>\n",
       "      <td>3.0</td>\n",
       "      <td>0.0</td>\n",
       "      <td>-1.0</td>\n",
       "      <td>-1.0</td>\n",
       "      <td>87.0</td>\n",
       "      <td>-1.0</td>\n",
       "      <td>-1.0</td>\n",
       "      <td>9999.0</td>\n",
       "      <td>1.0</td>\n",
       "      <td>-1.0</td>\n",
       "      <td>...</td>\n",
       "      <td>6133.0</td>\n",
       "      <td>6133.0</td>\n",
       "      <td>700.0</td>\n",
       "      <td>18.15</td>\n",
       "      <td>119.55</td>\n",
       "      <td>Tradesman - Carpenter</td>\n",
       "      <td>JUNEAU</td>\n",
       "      <td>NaN</td>\n",
       "      <td>0.000000</td>\n",
       "      <td>2017-01-31</td>\n",
       "    </tr>\n",
       "  </tbody>\n",
       "</table>\n",
       "<p>5 rows × 54 columns</p>\n",
       "</div>"
      ],
      "text/plain": [
       "        all804  rep501  hr24s  rt24s  iln703  hr06s  g099a  iln720  \\\n",
       "id                                                                   \n",
       "733477     4.0     0.0   -1.0    1.0    52.0   -1.0   -1.0  9999.0   \n",
       "768878     0.0     0.0   -1.0    1.0   101.0   -1.0   -1.0  9999.0   \n",
       "742473     0.0     1.0   -3.0   -6.0    72.0    0.0   -1.0    54.0   \n",
       "738121     3.0     0.0   -1.0   -1.0    38.0   -1.0   -1.0  9999.0   \n",
       "733109     3.0     0.0   -1.0   -1.0    87.0   -1.0   -1.0  9999.0   \n",
       "\n",
       "        percent_funded  hr09s  ...  re102s  bac302  credit_score  int_rate  \\\n",
       "id                             ...                                           \n",
       "733477             1.0   -1.0  ...  5183.0  5681.0         720.0     13.15   \n",
       "768878             1.0   -1.0  ...  6450.0  6450.0         720.0     13.75   \n",
       "742473             1.0    0.0  ...  1778.0  2029.0         660.0     14.25   \n",
       "738121             1.0   -1.0  ...  7680.0  7066.0         720.0     11.30   \n",
       "733109             1.0   -1.0  ...  6133.0  6133.0         700.0     18.15   \n",
       "\n",
       "        monthly_pmt             occupation  borrower_city  co_mob  \\\n",
       "id                                                                  \n",
       "733477       607.79                  Other        Hialeah     NaN   \n",
       "768878       510.84           Professional       MARIETTA     NaN   \n",
       "742473       205.80                   None          SAGLE    14.0   \n",
       "738121       493.21        Waiter/Waitress         QUINCY     NaN   \n",
       "733109       119.55  Tradesman - Carpenter         JUNEAU     NaN   \n",
       "\n",
       "          co_amount  issue_date  \n",
       "id                               \n",
       "733477     0.000000  2017-01-31  \n",
       "768878     0.000000  2017-03-31  \n",
       "742473  4115.149902  2017-02-28  \n",
       "738121     0.000000  2017-02-28  \n",
       "733109     0.000000  2017-01-31  \n",
       "\n",
       "[5 rows x 54 columns]"
      ]
     },
     "execution_count": 5,
     "metadata": {},
     "output_type": "execute_result"
    }
   ],
   "source": [
    "data.head()"
   ]
  },
  {
   "cell_type": "code",
   "execution_count": 6,
   "metadata": {
    "tags": []
   },
   "outputs": [
    {
     "data": {
      "text/plain": [
       "(40249, 54)"
      ]
     },
     "execution_count": 6,
     "metadata": {},
     "output_type": "execute_result"
    }
   ],
   "source": [
    "data.shape"
   ]
  },
  {
   "cell_type": "code",
   "execution_count": 7,
   "metadata": {},
   "outputs": [
    {
     "data": {
      "text/plain": [
       "array([nan, 14., 23.,  9., 21., 12.,  8.,  4., 20.,  2.,  7., 25.,  5.,\n",
       "       13., 10., 18., 27., 16., 24., 29., 35., 17., 26., 22., 32., 33.,\n",
       "       34., 11., 15., 31.,  6., 19., 28., 30.,  3.,  1., 39., 37., 40.,\n",
       "       36., 41., 43., 38., 46., 42.])"
      ]
     },
     "execution_count": 7,
     "metadata": {},
     "output_type": "execute_result"
    }
   ],
   "source": [
    "data['co_mob'].unique()"
   ]
  },
  {
   "cell_type": "markdown",
   "metadata": {},
   "source": [
    "# Exploratory Data Analysis"
   ]
  },
  {
   "cell_type": "markdown",
   "metadata": {},
   "source": [
    "So as you did in the previous exercise, the purpose of the next section is getting to know the data and analyzing it.  \n",
    "You need to understand the data and what is missing in order to find which data preparation steps are required."
   ]
  },
  {
   "cell_type": "markdown",
   "metadata": {},
   "source": [
    "In this exercise, we are training a classification model to predict whether or not a loan will repay in full. For this we have 2 columns, co_mob, and co_amount.\n",
    "**co_mob, stands for: \"Charge Off Month On Book\".**  \n",
    "A loan is considered a \"charge-off\" (AKA \"default\") if the person stopped paying but still has outstanding debt.  \n",
    "The \"month on book\" (mob) is the number of months since the originataion of the loan.  \n",
    "CO_mob (the charge-off month), is the first month after which there are no more payments (e.g., if someone pays in the first month, misses a payment in the second month, then pays months 3-5 and stops paying completely, his co_mob would be 6, not 2).\n",
    "co_amount is the amount of outstanding debt lost due to the charge-off."
   ]
  },
  {
   "cell_type": "markdown",
   "metadata": {},
   "source": [
    "The main purpose of this exercise is to build a charge-off classification model, predicting which loans will not fully repay their debt.\n",
    "So, the first thing to do is get to know our 'co_mob' feature.  \n",
    "Let's plot its distribution in a histogram."
   ]
  },
  {
   "cell_type": "code",
   "execution_count": 8,
   "metadata": {},
   "outputs": [],
   "source": [
    "def plot_single_density_histogram(data,colors='firebrick',x_lable='x',y_lable='y',titles=[],generla_title='', remove_outliers= False):\n",
    "    \n",
    "    bins = int(2 * np.sqrt(len(data.unique())))\n",
    "    plt.figure(figsize=(10,6))\n",
    "\n",
    "    plt.hist(data, bins=bins,\n",
    "             density=True,\n",
    "             alpha=0.5, color=colors, edgecolor='k', label='noisy')\n",
    "\n",
    "\n",
    "    median = data.median()\n",
    "    mean = data.mean()\n",
    "\n",
    "    plt.axvline(median,  linestyle='dashed', linewidth=3, alpha=0.5, color=colors)\n",
    "    plt.axvline(mean, linewidth=3, color=colors)\n",
    "    plt.xlabel(x_lable)\n",
    "    plt.ylabel(y_lable)\n",
    "    plt.grid(True)\n",
    "\n",
    "    plt.title(generla_title)\n",
    "    plt.legend()\n",
    "    \n",
    "    \n",
    "    patches  = []\n",
    "\n",
    "    plt.legend(handles=patches)"
   ]
  },
  {
   "cell_type": "code",
   "execution_count": 9,
   "metadata": {},
   "outputs": [],
   "source": [
    "df_list = [data]\n",
    "color_list = ['skyblue','firebrick']\n",
    "df_title_list = ['co mob']"
   ]
  },
  {
   "cell_type": "markdown",
   "metadata": {},
   "source": [
    "* We can see that most of the people that charge off do it in the reletievly early phase of the loan:\n",
    "    - that makes sense because it is less logical to loose the credit score after most of the loan was already paid"
   ]
  },
  {
   "cell_type": "code",
   "execution_count": 10,
   "metadata": {
    "tags": []
   },
   "outputs": [
    {
     "data": {
      "image/png": "[encoded data removed]",
      "text/plain": [
       "<Figure size 720x432 with 1 Axes>"
      ]
     },
     "metadata": {
      "needs_background": "light"
     },
     "output_type": "display_data"
    }
   ],
   "source": [
    "plot_single_density_histogram(data.co_mob,'firebrick', 'charge off month','frequency',\\\n",
    "                       [title + \" - credit_score\" for title in df_title_list], generla_title=\"CO mob values\")"
   ]
  },
  {
   "cell_type": "markdown",
   "metadata": {},
   "source": [
    "Note, the histogram of CO_MOB is not the probabilty of CO in that mob. If a loan was not charged-off (it was paid in full or pre-paid), its co_mob would be NaN and it would not appear in this graph. Therefore, this graph describes $ P(\\text{co_mob} | \\text{the loan is a charge-off}) $."
   ]
  },
  {
   "cell_type": "markdown",
   "metadata": {},
   "source": [
    "As pointed out above, a loan that did not CO will have a nan co_mob. Let's use that to make our target and drop it from the data"
   ]
  },
  {
   "cell_type": "code",
   "execution_count": 11,
   "metadata": {
    "tags": []
   },
   "outputs": [
    {
     "data": {
      "text/plain": [
       "(40249, 53)"
      ]
     },
     "execution_count": 11,
     "metadata": {},
     "output_type": "execute_result"
    }
   ],
   "source": [
    "y = 1 - data.co_mob.isna()\n",
    "data.drop(columns=['co_mob'],inplace=True)\n",
    "data.shape"
   ]
  },
  {
   "cell_type": "markdown",
   "metadata": {},
   "source": [
    "## Features types"
   ]
  },
  {
   "cell_type": "markdown",
   "metadata": {
    "execution": {
     "iopub.execute_input": "2021-06-24T11:49:50.435131Z",
     "iopub.status.busy": "2021-06-24T11:49:50.434785Z",
     "iopub.status.idle": "2021-06-24T11:49:50.446282Z",
     "shell.execute_reply": "2021-06-24T11:49:50.445270Z",
     "shell.execute_reply.started": "2021-06-24T11:49:50.435104Z"
    }
   },
   "source": [
    "Present the data types of each feature"
   ]
  },
  {
   "cell_type": "markdown",
   "metadata": {},
   "source": [
    "- most of the data consists of numbers, occupation, borrower_city and issue_data are of type object."
   ]
  },
  {
   "cell_type": "code",
   "execution_count": 12,
   "metadata": {
    "tags": []
   },
   "outputs": [
    {
     "name": "stdout",
     "output_type": "stream",
     "text": [
      "<class 'pandas.core.frame.DataFrame'>\n",
      "Index: 40249 entries, 733477 to 739533\n",
      "Data columns (total 53 columns):\n",
      " #   Column                  Non-Null Count  Dtype         \n",
      "---  ------                  --------------  -----         \n",
      " 0   all804                  40249 non-null  float64       \n",
      " 1   rep501                  40249 non-null  float64       \n",
      " 2   hr24s                   40249 non-null  float64       \n",
      " 3   rt24s                   40249 non-null  float64       \n",
      " 4   iln703                  40249 non-null  float64       \n",
      " 5   hr06s                   40249 non-null  float64       \n",
      " 6   g099a                   40249 non-null  float64       \n",
      " 7   iln720                  40249 non-null  float64       \n",
      " 8   percent_funded          40249 non-null  float64       \n",
      " 9   hr09s                   40249 non-null  float64       \n",
      " 10  loan_amnt               40249 non-null  float64       \n",
      " 11  rev401                  40249 non-null  float64       \n",
      " 12  debt_to_income          40249 non-null  float64       \n",
      " 13  g099s                   40249 non-null  float64       \n",
      " 14  all803                  40249 non-null  float64       \n",
      " 15  st27s                   40249 non-null  float64       \n",
      " 16  g960s                   40249 non-null  float64       \n",
      " 17  g230s                   40249 non-null  float64       \n",
      " 18  all807                  40249 non-null  float64       \n",
      " 19  mt47s                   40249 non-null  float64       \n",
      " 20  g094s                   40249 non-null  float64       \n",
      " 21  all801                  40249 non-null  float64       \n",
      " 22  g104s                   40249 non-null  float64       \n",
      " 23  s004s                   40249 non-null  float64       \n",
      " 24  funding_threshold       40249 non-null  float64       \n",
      " 25  hi57s                   40249 non-null  float64       \n",
      " 26  rep001                  40249 non-null  float64       \n",
      " 27  all301                  40249 non-null  float64       \n",
      " 28  rev302                  40249 non-null  float64       \n",
      " 29  hr12s                   40249 non-null  float64       \n",
      " 30  bc102s                  40249 non-null  float64       \n",
      " 31  iln740                  40249 non-null  float64       \n",
      " 32  all780                  40249 non-null  float64       \n",
      " 33  rep901                  40249 non-null  float64       \n",
      " 34  in36s                   40249 non-null  float64       \n",
      " 35  mt36s                   40249 non-null  float64       \n",
      " 36  iln724                  40249 non-null  float64       \n",
      " 37  aut720                  40249 non-null  float64       \n",
      " 38  rev703                  40249 non-null  float64       \n",
      " 39  inquiries_last6_months  40249 non-null  float64       \n",
      " 40  ale724                  40249 non-null  float64       \n",
      " 41  rep071                  40249 non-null  float64       \n",
      " 42  ale720                  40249 non-null  float64       \n",
      " 43  total_inquiries         40249 non-null  float64       \n",
      " 44  re102s                  40249 non-null  float64       \n",
      " 45  bac302                  40249 non-null  float64       \n",
      " 46  credit_score            40249 non-null  float64       \n",
      " 47  int_rate                40249 non-null  float64       \n",
      " 48  monthly_pmt             40249 non-null  float64       \n",
      " 49  occupation              37591 non-null  object        \n",
      " 50  borrower_city           40249 non-null  object        \n",
      " 51  co_amount               40249 non-null  float64       \n",
      " 52  issue_date              40249 non-null  datetime64[ns]\n",
      "dtypes: datetime64[ns](1), float64(50), object(2)\n",
      "memory usage: 16.6+ MB\n"
     ]
    }
   ],
   "source": [
    "data.info()"
   ]
  },
  {
   "cell_type": "markdown",
   "metadata": {},
   "source": [
    "Let's take a look at the non-numeric features (you can use pd.DataFrame.select_dtypes); what are they?"
   ]
  },
  {
   "cell_type": "code",
   "execution_count": 13,
   "metadata": {
    "tags": []
   },
   "outputs": [
    {
     "data": {
      "text/html": [
       "<div>\n",
       "<style scoped>\n",
       "    .dataframe tbody tr th:only-of-type {\n",
       "        vertical-align: middle;\n",
       "    }\n",
       "\n",
       "    .dataframe tbody tr th {\n",
       "        vertical-align: top;\n",
       "    }\n",
       "\n",
       "    .dataframe thead th {\n",
       "        text-align: right;\n",
       "    }\n",
       "</style>\n",
       "<table border=\"1\" class=\"dataframe\">\n",
       "  <thead>\n",
       "    <tr style=\"text-align: right;\">\n",
       "      <th></th>\n",
       "      <th>occupation</th>\n",
       "      <th>borrower_city</th>\n",
       "      <th>issue_date</th>\n",
       "    </tr>\n",
       "    <tr>\n",
       "      <th>id</th>\n",
       "      <th></th>\n",
       "      <th></th>\n",
       "      <th></th>\n",
       "    </tr>\n",
       "  </thead>\n",
       "  <tbody>\n",
       "    <tr>\n",
       "      <th>733477</th>\n",
       "      <td>Other</td>\n",
       "      <td>Hialeah</td>\n",
       "      <td>2017-01-31</td>\n",
       "    </tr>\n",
       "    <tr>\n",
       "      <th>768878</th>\n",
       "      <td>Professional</td>\n",
       "      <td>MARIETTA</td>\n",
       "      <td>2017-03-31</td>\n",
       "    </tr>\n",
       "    <tr>\n",
       "      <th>742473</th>\n",
       "      <td>None</td>\n",
       "      <td>SAGLE</td>\n",
       "      <td>2017-02-28</td>\n",
       "    </tr>\n",
       "    <tr>\n",
       "      <th>738121</th>\n",
       "      <td>Waiter/Waitress</td>\n",
       "      <td>QUINCY</td>\n",
       "      <td>2017-02-28</td>\n",
       "    </tr>\n",
       "    <tr>\n",
       "      <th>733109</th>\n",
       "      <td>Tradesman - Carpenter</td>\n",
       "      <td>JUNEAU</td>\n",
       "      <td>2017-01-31</td>\n",
       "    </tr>\n",
       "    <tr>\n",
       "      <th>...</th>\n",
       "      <td>...</td>\n",
       "      <td>...</td>\n",
       "      <td>...</td>\n",
       "    </tr>\n",
       "    <tr>\n",
       "      <th>738916</th>\n",
       "      <td>Nurse's Aide</td>\n",
       "      <td>Victorville</td>\n",
       "      <td>2017-02-28</td>\n",
       "    </tr>\n",
       "    <tr>\n",
       "      <th>754430</th>\n",
       "      <td>Skilled Labor</td>\n",
       "      <td>Mora</td>\n",
       "      <td>2017-03-31</td>\n",
       "    </tr>\n",
       "    <tr>\n",
       "      <th>755852</th>\n",
       "      <td>Food Service</td>\n",
       "      <td>HARVEY</td>\n",
       "      <td>2017-03-31</td>\n",
       "    </tr>\n",
       "    <tr>\n",
       "      <th>763440</th>\n",
       "      <td>Principal</td>\n",
       "      <td>CYPRESS</td>\n",
       "      <td>2017-03-31</td>\n",
       "    </tr>\n",
       "    <tr>\n",
       "      <th>739533</th>\n",
       "      <td>Other</td>\n",
       "      <td>NORTH VERNON</td>\n",
       "      <td>2017-02-28</td>\n",
       "    </tr>\n",
       "  </tbody>\n",
       "</table>\n",
       "<p>40249 rows × 3 columns</p>\n",
       "</div>"
      ],
      "text/plain": [
       "                   occupation borrower_city issue_date\n",
       "id                                                    \n",
       "733477                  Other       Hialeah 2017-01-31\n",
       "768878           Professional      MARIETTA 2017-03-31\n",
       "742473                   None         SAGLE 2017-02-28\n",
       "738121        Waiter/Waitress        QUINCY 2017-02-28\n",
       "733109  Tradesman - Carpenter        JUNEAU 2017-01-31\n",
       "...                       ...           ...        ...\n",
       "738916           Nurse's Aide   Victorville 2017-02-28\n",
       "754430          Skilled Labor          Mora 2017-03-31\n",
       "755852           Food Service        HARVEY 2017-03-31\n",
       "763440              Principal       CYPRESS 2017-03-31\n",
       "739533                  Other  NORTH VERNON 2017-02-28\n",
       "\n",
       "[40249 rows x 3 columns]"
      ]
     },
     "execution_count": 13,
     "metadata": {},
     "output_type": "execute_result"
    }
   ],
   "source": [
    "data.select_dtypes(exclude=np.number)"
   ]
  },
  {
   "cell_type": "markdown",
   "metadata": {},
   "source": [
    "So, we have 3 non-numeric features: borrower_city, issue_date and occupation. Let's handle them."
   ]
  },
  {
   "cell_type": "markdown",
   "metadata": {},
   "source": [
    "### Borrower city"
   ]
  },
  {
   "cell_type": "markdown",
   "metadata": {},
   "source": [
    "How many loans come from each city? "
   ]
  },
  {
   "cell_type": "code",
   "execution_count": 14,
   "metadata": {
    "tags": []
   },
   "outputs": [
    {
     "name": "stdout",
     "output_type": "stream",
     "text": [
      "CHICAGO         284\n",
      "HOUSTON         250\n",
      "Las Vegas       222\n",
      "LAS VEGAS       213\n",
      "LOS ANGELES     210\n",
      "               ... \n",
      "SUTTER CREEK      1\n",
      "SHINGLE SPGS      1\n",
      "GALLATIN          1\n",
      "CLIFTON PARK      1\n",
      "Loris             1\n",
      "Name: borrower_city, Length: 9560, dtype: int64\n"
     ]
    },
    {
     "data": {
      "image/png": "[encoded data removed]",
      "text/plain": [
       "<Figure size 432x288 with 1 Axes>"
      ]
     },
     "metadata": {
      "needs_background": "light"
     },
     "output_type": "display_data"
    }
   ],
   "source": [
    "data['borrower_city'].value_counts().plot(kind='hist',xlabel=\"number of loans per city\",ylabel='number of cities with number of loans',bins=20,title='Distribution for number of loans per city');\n",
    "print(data['borrower_city'].value_counts())"
   ]
  },
  {
   "cell_type": "markdown",
   "metadata": {},
   "source": [
    "This is a categorical feature with almost all distinct values (~10,000 values in 40,000 rows), so it is unlikely that it can be useful in predictions. Also, it's not nice to discriminate based on ones geography, let's drop it!"
   ]
  },
  {
   "cell_type": "code",
   "execution_count": 15,
   "metadata": {},
   "outputs": [],
   "source": [
    "data.drop(columns=['borrower_city'],inplace=True)"
   ]
  },
  {
   "cell_type": "markdown",
   "metadata": {},
   "source": [
    "### Issue date"
   ]
  },
  {
   "cell_type": "markdown",
   "metadata": {},
   "source": [
    "Issue date is ordinal, so we can label encode it (you can use sklearn.preprocessing.LabelEncoder or OrdinalEncoder)"
   ]
  },
  {
   "cell_type": "code",
   "execution_count": 16,
   "metadata": {
    "tags": []
   },
   "outputs": [
    {
     "data": {
      "text/plain": [
       "id\n",
       "733477    1\n",
       "768878    3\n",
       "742473    2\n",
       "738121    2\n",
       "733109    1\n",
       "         ..\n",
       "738916    2\n",
       "754430    3\n",
       "755852    3\n",
       "763440    3\n",
       "739533    2\n",
       "Name: issue_date, Length: 40249, dtype: int64"
      ]
     },
     "execution_count": 16,
     "metadata": {},
     "output_type": "execute_result"
    }
   ],
   "source": [
    "from sklearn.preprocessing import LabelEncoder\n",
    "enc = LabelEncoder()\n",
    "data['issue_date'] = enc.fit_transform(data.issue_date)\n",
    "data.issue_date"
   ]
  },
  {
   "cell_type": "markdown",
   "metadata": {},
   "source": [
    "### Occupation"
   ]
  },
  {
   "cell_type": "markdown",
   "metadata": {},
   "source": [
    "Occupation is not ordinal, but we can target encode it. That is, for each category, replace it with the numeric value of the mean of the target over all elements that belong to that category. However, we first need to split into train and test in order to compute the encoder only on the train set."
   ]
  },
  {
   "cell_type": "markdown",
   "metadata": {
    "execution": {
     "iopub.execute_input": "2021-06-30T11:03:31.229025Z",
     "iopub.status.busy": "2021-06-30T11:03:31.228650Z",
     "iopub.status.idle": "2021-06-30T11:03:31.232924Z",
     "shell.execute_reply": "2021-06-30T11:03:31.231956Z",
     "shell.execute_reply.started": "2021-06-30T11:03:31.228998Z"
    },
    "tags": []
   },
   "source": [
    "## Split to train and test"
   ]
  },
  {
   "cell_type": "markdown",
   "metadata": {
    "tags": []
   },
   "source": [
    "As you already know, we need to split our data to train and test.\n",
    "So.. let's make a 70/30 split!\n",
    "\n",
    "Set you training and test sets to be X_train, y_train, X_test and y_test."
   ]
  },
  {
   "cell_type": "code",
   "execution_count": 17,
   "metadata": {
    "tags": []
   },
   "outputs": [],
   "source": [
    "from sklearn.model_selection import train_test_split\n",
    "\n",
    "X_train, X_test, y_train, y_test = train_test_split(data, y, test_size=0.3, random_state=42)"
   ]
  },
  {
   "cell_type": "markdown",
   "metadata": {},
   "source": [
    "Find the number of rows and columns in your training and test sets:"
   ]
  },
  {
   "cell_type": "code",
   "execution_count": 18,
   "metadata": {
    "tags": []
   },
   "outputs": [
    {
     "data": {
      "text/plain": [
       "(28174, 52)"
      ]
     },
     "execution_count": 18,
     "metadata": {},
     "output_type": "execute_result"
    }
   ],
   "source": [
    "X_train.shape"
   ]
  },
  {
   "cell_type": "code",
   "execution_count": 19,
   "metadata": {},
   "outputs": [
    {
     "data": {
      "text/plain": [
       "(12075, 52)"
      ]
     },
     "execution_count": 19,
     "metadata": {},
     "output_type": "execute_result"
    }
   ],
   "source": [
    "X_test.shape"
   ]
  },
  {
   "cell_type": "markdown",
   "metadata": {},
   "source": [
    "### Back to the occupation column"
   ]
  },
  {
   "cell_type": "markdown",
   "metadata": {
    "execution": {
     "iopub.execute_input": "2021-08-15T12:44:38.331175Z",
     "iopub.status.busy": "2021-08-15T12:44:38.330710Z",
     "iopub.status.idle": "2021-08-15T12:44:38.340620Z",
     "shell.execute_reply": "2021-08-15T12:44:38.339110Z",
     "shell.execute_reply.started": "2021-08-15T12:44:38.331142Z"
    }
   },
   "source": [
    "Now that we have a train set we can target encode the occupation feature. Compute the encoding on the train set."
   ]
  },
  {
   "cell_type": "code",
   "execution_count": 20,
   "metadata": {
    "tags": []
   },
   "outputs": [
    {
     "data": {
      "text/plain": [
       "{'Military Enlisted': 0.22085889570552147,\n",
       " 'Professional': 0.17054545454545456,\n",
       " None: 0.24371993586317478,\n",
       " 'Clerical': 0.21007371007371006,\n",
       " 'Engineer - Mechanical': 0.14826498422712933,\n",
       " 'Sales - Retail': 0.22119205298013245,\n",
       " 'Teacher': 0.14733178654292342,\n",
       " 'Laborer': 0.26956521739130435,\n",
       " 'Construction': 0.2029816513761468,\n",
       " 'Retail Management': 0.21470588235294116,\n",
       " 'Other': 0.21363482956463045,\n",
       " 'Attorney': 0.1164021164021164,\n",
       " 'Administrative Assistant': 0.19072164948453607,\n",
       " 'Psychologist': 0.06818181818181818,\n",
       " 'Student - College Graduate Student': 0.05555555555555555,\n",
       " 'Engineer - Electrical': 0.1822429906542056,\n",
       " 'Executive': 0.16619452313503305,\n",
       " 'Skilled Labor': 0.23567567567567568,\n",
       " 'Nurse (LPN)': 0.20224719101123595,\n",
       " 'Student - Community College': 0.25,\n",
       " 'Clergy': 0.26,\n",
       " 'Accountant/CPA': 0.14751552795031056,\n",
       " 'Food Service': 0.2674897119341564,\n",
       " 'Computer Programmer': 0.1043115438108484,\n",
       " 'Nurse (RN)': 0.14891041162227603,\n",
       " \"Nurse's Aide\": 0.25,\n",
       " 'Car Dealer': 0.2524271844660194,\n",
       " 'Sales - Commission': 0.21173469387755103,\n",
       " 'Analyst': 0.1582537517053206,\n",
       " 'Waiter/Waitress': 0.21621621621621623,\n",
       " 'Truck Driver': 0.26545842217484006,\n",
       " 'Postal Service': 0.23741007194244604,\n",
       " 'Tradesman - Mechanic': 0.22184300341296928,\n",
       " 'Landscaping': 0.21052631578947367,\n",
       " 'Social Worker': 0.22346368715083798,\n",
       " 'Tradesman - Carpenter': 0.2037037037037037,\n",
       " 'Fireman': 0.11594202898550725,\n",
       " 'Professor': 0.14035087719298245,\n",
       " 'Bus Driver': 0.2867132867132867,\n",
       " 'Architect': 0.125,\n",
       " 'Medical Technician': 0.22340425531914893,\n",
       " 'Police Officer/Correction Officer': 0.15733333333333333,\n",
       " 'Doctor': 0.12121212121212122,\n",
       " 'Principal': 0.14130434782608695,\n",
       " 'Engineer - Chemical': 0.15555555555555556,\n",
       " 'Food Service Management': 0.24008810572687225,\n",
       " 'Dentist': 0.16129032258064516,\n",
       " 'Pilot - Private/Commercial': 0.09523809523809523,\n",
       " 'Pharmacist': 0.1780821917808219,\n",
       " 'Civil Service': 0.16901408450704225,\n",
       " 'Military Officer': 0.12,\n",
       " 'Scientist': 0.14473684210526316,\n",
       " 'Realtor': 0.2556053811659193,\n",
       " 'Investor': 0.23943661971830985,\n",
       " 'Religious': 0.17647058823529413,\n",
       " 'Tradesman - Electrician': 0.26153846153846155,\n",
       " 'Profession that is not part of this list': 0.5294117647058824,\n",
       " 'Nurse - Registered Nurse (RN)': 1.0,\n",
       " \"Teacher's Aide\": 0.2222222222222222,\n",
       " 'Student - College Sophomore': 0.6666666666666666,\n",
       " 'Biologist': 0.047619047619047616,\n",
       " 'Student - College Freshman': 0.5,\n",
       " 'Student - Technical School': 0.6666666666666666,\n",
       " 'Tradesman - Plumber': 0.13636363636363635,\n",
       " 'Homemaker': 0.11538461538461539,\n",
       " 'Chemist': 0.045454545454545456,\n",
       " 'Flight Attendant': 0.10714285714285714,\n",
       " 'Student - College Senior': 0.0,\n",
       " 'Judge': 0.125,\n",
       " 'Student - College Junior': 0.4,\n",
       " 'Secretary/Administrative Assistant': 0.5}"
      ]
     },
     "execution_count": 20,
     "metadata": {},
     "output_type": "execute_result"
    }
   ],
   "source": [
    "# TODO - re think treating None as an occupation\n",
    "taget_mean_by_occupation_dict = {}\n",
    "\n",
    "for occupation in X_train['occupation'].unique():\n",
    "    taget_mean_by_occupation_dict[occupation] = y_train[data['occupation'] == occupation].mean()\n",
    "    \n",
    "taget_mean_by_occupation_dict[None] =   y_train[data['occupation'].isna()].mean()\n",
    "taget_mean_by_occupation_dict"
   ]
  },
  {
   "cell_type": "code",
   "execution_count": 21,
   "metadata": {},
   "outputs": [],
   "source": [
    "def target_encode_occupation(occupation):\n",
    "    return taget_mean_by_occupation_dict[occupation]"
   ]
  },
  {
   "cell_type": "markdown",
   "metadata": {},
   "source": [
    "Use the encoder to transform occupation in both the train and test sets."
   ]
  },
  {
   "cell_type": "code",
   "execution_count": 22,
   "metadata": {
    "tags": []
   },
   "outputs": [],
   "source": [
    "X_train['occupation'] = X_train['occupation'].apply(target_encode_occupation)\n",
    "X_test['occupation'] = X_test['occupation'].apply(target_encode_occupation)"
   ]
  },
  {
   "cell_type": "code",
   "execution_count": 23,
   "metadata": {},
   "outputs": [
    {
     "data": {
      "text/plain": [
       "array([0.        , 0.04545455, 0.04761905, 0.05555556, 0.06818182,\n",
       "       0.0952381 , 0.10431154, 0.10714286, 0.11538462, 0.11594203,\n",
       "       0.11640212, 0.12      , 0.12121212, 0.125     , 0.13636364,\n",
       "       0.14035088, 0.14130435, 0.14473684, 0.14733179, 0.14751553,\n",
       "       0.14826498, 0.14891041, 0.15555556, 0.15733333, 0.15825375,\n",
       "       0.16129032, 0.16619452, 0.16901408, 0.17054545, 0.17647059,\n",
       "       0.17808219, 0.18224299, 0.19072165, 0.20224719, 0.20298165,\n",
       "       0.2037037 , 0.21007371, 0.21052632, 0.21173469, 0.21363483,\n",
       "       0.21470588, 0.21621622, 0.2208589 , 0.22119205, 0.221843  ,\n",
       "       0.22222222, 0.22340426, 0.22346369, 0.23567568, 0.23741007,\n",
       "       0.23943662, 0.24008811, 0.24371994, 0.25      , 0.25242718,\n",
       "       0.25560538, 0.26      , 0.26153846, 0.26545842, 0.26748971,\n",
       "       0.26956522, 0.28671329, 0.4       , 0.5       , 0.52941176,\n",
       "       0.66666667, 1.        ])"
      ]
     },
     "execution_count": 23,
     "metadata": {},
     "output_type": "execute_result"
    }
   ],
   "source": [
    "X_train['occupation'].sort_values().unique()"
   ]
  },
  {
   "cell_type": "code",
   "execution_count": 24,
   "metadata": {},
   "outputs": [
    {
     "data": {
      "text/plain": [
       "array([0.        , 0.04545455, 0.04761905, 0.05555556, 0.06818182,\n",
       "       0.0952381 , 0.10431154, 0.10714286, 0.11538462, 0.11594203,\n",
       "       0.11640212, 0.12      , 0.12121212, 0.125     , 0.13636364,\n",
       "       0.14035088, 0.14130435, 0.14473684, 0.14733179, 0.14751553,\n",
       "       0.14826498, 0.14891041, 0.15555556, 0.15733333, 0.15825375,\n",
       "       0.16129032, 0.16619452, 0.16901408, 0.17054545, 0.17647059,\n",
       "       0.17808219, 0.18224299, 0.19072165, 0.20224719, 0.20298165,\n",
       "       0.2037037 , 0.21007371, 0.21052632, 0.21173469, 0.21363483,\n",
       "       0.21470588, 0.21621622, 0.2208589 , 0.22119205, 0.221843  ,\n",
       "       0.22222222, 0.22340426, 0.22346369, 0.23567568, 0.23741007,\n",
       "       0.23943662, 0.24008811, 0.24371994, 0.25      , 0.25242718,\n",
       "       0.25560538, 0.26      , 0.26153846, 0.26545842, 0.26748971,\n",
       "       0.26956522, 0.28671329, 0.4       , 0.5       , 0.52941176,\n",
       "       0.66666667, 1.        ])"
      ]
     },
     "execution_count": 24,
     "metadata": {},
     "output_type": "execute_result"
    }
   ],
   "source": [
    "X_test['occupation'].sort_values().unique()"
   ]
  },
  {
   "cell_type": "markdown",
   "metadata": {},
   "source": [
    "# Logistic Regression - Assumptions"
   ]
  },
  {
   "cell_type": "markdown",
   "metadata": {},
   "source": [
    "As with the linear regression model, the logistic regression model also has assumptions that need to be met:\n",
    "1. The target variable is binary.\n",
    "2. There is no multicollinearity among the features.\n",
    "3. A linear relationship between the features and the logit of the target.  \n",
    " $target \\sim Bernouli(p(X))$ where $logit(p_{\\beta}(X)) = X\\beta$ or, equivalently, $p_{\\beta}(X) = logit^{-1}(X\\beta)=\\frac{\\exp(X\\beta)}{1+\\exp(X\\beta)}.$"
   ]
  },
  {
   "cell_type": "markdown",
   "metadata": {},
   "source": [
    "## Exploring the target variable"
   ]
  },
  {
   "cell_type": "markdown",
   "metadata": {},
   "source": [
    "Let's check how many charge offs we have:"
   ]
  },
  {
   "cell_type": "code",
   "execution_count": 25,
   "metadata": {
    "tags": []
   },
   "outputs": [
    {
     "data": {
      "text/plain": [
       "0    22508\n",
       "1     5666\n",
       "Name: co_mob, dtype: int64"
      ]
     },
     "execution_count": 25,
     "metadata": {},
     "output_type": "execute_result"
    }
   ],
   "source": [
    "y_train.value_counts()"
   ]
  },
  {
   "cell_type": "markdown",
   "metadata": {
    "execution": {
     "iopub.execute_input": "2021-07-05T11:43:36.933705Z",
     "iopub.status.busy": "2021-07-05T11:43:36.933123Z",
     "iopub.status.idle": "2021-07-05T11:43:36.947258Z",
     "shell.execute_reply": "2021-07-05T11:43:36.945375Z",
     "shell.execute_reply.started": "2021-07-05T11:43:36.933666Z"
    }
   },
   "source": [
    "Remember: True refers to charge-off, and False refers to no charge-off."
   ]
  },
  {
   "cell_type": "markdown",
   "metadata": {
    "execution": {
     "iopub.execute_input": "2021-07-05T11:44:50.526428Z",
     "iopub.status.busy": "2021-07-05T11:44:50.525886Z",
     "iopub.status.idle": "2021-07-05T11:44:50.534616Z",
     "shell.execute_reply": "2021-07-05T11:44:50.533205Z",
     "shell.execute_reply.started": "2021-07-05T11:44:50.526386Z"
    }
   },
   "source": [
    "What is the percentage of loans with CO?"
   ]
  },
  {
   "cell_type": "code",
   "execution_count": 26,
   "metadata": {
    "tags": []
   },
   "outputs": [
    {
     "data": {
      "text/plain": [
       "0.20110740398949387"
      ]
     },
     "execution_count": 26,
     "metadata": {},
     "output_type": "execute_result"
    }
   ],
   "source": [
    "y_train.mean()"
   ]
  },
  {
   "cell_type": "code",
   "execution_count": 27,
   "metadata": {},
   "outputs": [
    {
     "data": {
      "text/plain": [
       "0.20314699792960664"
      ]
     },
     "execution_count": 27,
     "metadata": {},
     "output_type": "execute_result"
    }
   ],
   "source": [
    "y_test.mean()"
   ]
  },
  {
   "cell_type": "markdown",
   "metadata": {},
   "source": [
    "Compute the (absolute) correlations between each feature and the target"
   ]
  },
  {
   "cell_type": "code",
   "execution_count": 28,
   "metadata": {
    "tags": []
   },
   "outputs": [
    {
     "data": {
      "text/plain": [
       "hi57s                     0.001745\n",
       "percent_funded            0.002263\n",
       "loan_amnt                 0.011670\n",
       "g099a                     0.011695\n",
       "hr12s                     0.012658\n",
       "st27s                     0.013400\n",
       "hr24s                     0.015608\n",
       "rep501                    0.016829\n",
       "funding_threshold         0.019227\n",
       "rt24s                     0.021112\n",
       "all780                    0.022452\n",
       "issue_date                0.028775\n",
       "ale724                    0.029720\n",
       "g230s                     0.031156\n",
       "iln724                    0.032842\n",
       "g099s                     0.032847\n",
       "g094s                     0.033156\n",
       "ale720                    0.034030\n",
       "aut720                    0.034748\n",
       "in36s                     0.042018\n",
       "hr09s                     0.045606\n",
       "iln740                    0.045852\n",
       "hr06s                     0.045914\n",
       "iln720                    0.050751\n",
       "monthly_pmt               0.054308\n",
       "iln703                    0.055294\n",
       "g104s                     0.055845\n",
       "all301                    0.080178\n",
       "mt36s                     0.081168\n",
       "mt47s                     0.082639\n",
       "rep901                    0.088128\n",
       "rep001                    0.089576\n",
       "rev401                    0.089596\n",
       "rep071                    0.089980\n",
       "g960s                     0.100978\n",
       "rev302                    0.102316\n",
       "bac302                    0.103991\n",
       "re102s                    0.105300\n",
       "all803                    0.110225\n",
       "inquiries_last6_months    0.110619\n",
       "all807                    0.111793\n",
       "s004s                     0.112342\n",
       "rev703                    0.114473\n",
       "total_inquiries           0.115970\n",
       "debt_to_income            0.119084\n",
       "all801                    0.120963\n",
       "bc102s                    0.121096\n",
       "credit_score              0.154228\n",
       "int_rate                  0.239702\n",
       "co_amount                 0.757287\n",
       "target                    1.000000\n",
       "Name: target, dtype: float64"
      ]
     },
     "execution_count": 28,
     "metadata": {},
     "output_type": "execute_result"
    }
   ],
   "source": [
    "temp_data = data.copy()\n",
    "temp_data['target'] = y\n",
    "temp_data[temp_data.columns[1:]].corr()['target'][:].abs().sort_values()"
   ]
  },
  {
   "cell_type": "markdown",
   "metadata": {},
   "source": [
    "Okay, so co_amount is, unsurprisingly, very correlated with the label. For the moment, though, let's leave it inside the trainig set and see how it effects our results."
   ]
  },
  {
   "cell_type": "markdown",
   "metadata": {
    "execution": {
     "iopub.execute_input": "2021-06-23T12:56:39.177180Z",
     "iopub.status.busy": "2021-06-23T12:56:39.176764Z",
     "iopub.status.idle": "2021-06-23T12:56:39.182172Z",
     "shell.execute_reply": "2021-06-23T12:56:39.181187Z",
     "shell.execute_reply.started": "2021-06-23T12:56:39.177151Z"
    }
   },
   "source": [
    "Plot the distributions of the next two most correlated features, conditioned on the target varible (i.e. one plot for each class in that target; you can use `hue=target` when using the seaborn suite). "
   ]
  },
  {
   "cell_type": "markdown",
   "metadata": {},
   "source": [
    "* We can see that there are over all highr credit score and lower interest rates in the no co  population"
   ]
  },
  {
   "cell_type": "code",
   "execution_count": 29,
   "metadata": {},
   "outputs": [],
   "source": [
    "import matplotlib.patches as mpatches\n",
    "\n",
    "def plot_density_histogram(data_list,colors=['firebrick','skyblue'],x_lable='x',y_lable='y',titles=[],func_flag='hist',generla_title='', remove_outliers= False):\n",
    "    \n",
    "    bins = int(np.sqrt(len(data_list[0].unique())))\n",
    "\n",
    "    plt.figure(figsize=(10,6))\n",
    "    print(bins)\n",
    "    for i, data in enumerate(data_list):\n",
    "    \n",
    "\n",
    "        if func_flag == 'hist':\n",
    "            plt.hist(data, bins=bins,\n",
    "                     density=True,\n",
    "                     alpha=0.5, color=colors[i], edgecolor='k', label='noisy')\n",
    "        else:\n",
    "            sns.distplot(data,color=colors[i],kde=True,bins=bins)\n",
    "            \n",
    "        median = data.median()\n",
    "        mean = data.mean()\n",
    "        \n",
    "        plt.axvline(median,  linestyle='dashed', linewidth=3, alpha=0.5, color=colors[i])\n",
    "        plt.axvline(mean, linewidth=3, color=colors[i])\n",
    "        plt.xlabel(x_lable)\n",
    "        plt.ylabel(y_lable)\n",
    "        if remove_outliers:\n",
    "            lower_lim,upper_lim, precentage_of_out_liars = remove_out_liars(data)\n",
    "            titles[i] =  titles[i] + \"  (Precent of outliars removed is: {}%)\".format(str(np.round(100*precentage_of_out_liars,2)))\n",
    "            plt.xlim(lower_lim,upper_lim)\n",
    "        plt.grid(True)\n",
    "\n",
    "        plt.title(generla_title)\n",
    "    plt.legend()\n",
    "    \n",
    "    \n",
    "    patches  = []\n",
    "    for i,text in enumerate(titles):\n",
    "        patches.append(mpatches.Patch(color=colors[i], label=titles[i]))\n",
    "    plt.legend(handles=patches)"
   ]
  },
  {
   "cell_type": "code",
   "execution_count": 30,
   "metadata": {},
   "outputs": [
    {
     "data": {
      "text/plain": [
       "array([660., 760., 700., 680., 740., 640., 720., 780., 620., 600., 800.,\n",
       "       820.])"
      ]
     },
     "execution_count": 30,
     "metadata": {},
     "output_type": "execute_result"
    }
   ],
   "source": [
    "co_data = temp_data.query('target == 1')\n",
    "no_co_data = temp_data.query('target == 0')\n",
    "data_list = [co_data,no_co_data]\n",
    "color_list = ['skyblue','firebrick']\n",
    "df_title_list = ['co population','no co population']\n",
    "co_data.credit_score.unique()"
   ]
  },
  {
   "cell_type": "code",
   "execution_count": 31,
   "metadata": {},
   "outputs": [
    {
     "name": "stdout",
     "output_type": "stream",
     "text": [
      "3\n"
     ]
    },
    {
     "name": "stderr",
     "output_type": "stream",
     "text": [
      "No handles with labels found to put in legend.\n"
     ]
    },
    {
     "data": {
      "image/png": "[encoded data removed]",
      "text/plain": [
       "<Figure size 720x432 with 1 Axes>"
      ]
     },
     "metadata": {
      "needs_background": "light"
     },
     "output_type": "display_data"
    }
   ],
   "source": [
    "plot_density_histogram([data.credit_score for data in  data_list],color_list, 'credit_score','frequency',\\\n",
    "                       [title + \" - credit_score only activated\" for title in df_title_list],generla_title = \"Credit score raleigh VS lubbock - activated population\",func_flag='kde')"
   ]
  },
  {
   "cell_type": "code",
   "execution_count": 32,
   "metadata": {},
   "outputs": [
    {
     "name": "stdout",
     "output_type": "stream",
     "text": [
      "8\n"
     ]
    },
    {
     "name": "stderr",
     "output_type": "stream",
     "text": [
      "No handles with labels found to put in legend.\n"
     ]
    },
    {
     "data": {
      "image/png": "[encoded data removed]",
      "text/plain": [
       "<Figure size 720x432 with 1 Axes>"
      ]
     },
     "metadata": {
      "needs_background": "light"
     },
     "output_type": "display_data"
    }
   ],
   "source": [
    "plot_density_histogram([data.int_rate for data in  data_list],color_list, 'interest rate','frequency',\\\n",
    "                       [title + \" - interest rate only activated\" for title in df_title_list],generla_title = \"Interest rate raleigh VS lubbock - activated population\",func_flag='kde')"
   ]
  },
  {
   "cell_type": "markdown",
   "metadata": {
    "tags": []
   },
   "source": [
    "## Multicollinearity"
   ]
  },
  {
   "cell_type": "markdown",
   "metadata": {},
   "source": [
    "You are already familiar with the concept of multicollinearty from assignment 3.  \n",
    "\n",
    "Reminder:\n",
    "* Multicollinearity occurs when two or more explanatory variables are highly correlated to each other,\\\n",
    "  such that they do not provide unique or independent information in the regression model.  \n",
    "  If the degree of correlation is high enough between variables, it can cause problems when fitting and interpreting the model. \n",
    "\n",
    "Multicollinearity can significantly impair the performance of logistic regression, so let's test for it and remove it\n",
    "\n",
    "(You can use seaborn.clustermap to vizualize the correlation matrix)"
   ]
  },
  {
   "cell_type": "code",
   "execution_count": 33,
   "metadata": {
    "tags": []
   },
   "outputs": [
    {
     "data": {
      "text/plain": [
       "<Figure size 2160x2160 with 0 Axes>"
      ]
     },
     "metadata": {},
     "output_type": "display_data"
    },
    {
     "data": {
      "image/png": "[encoded data removed]",
      "text/plain": [
       "<Figure size 720x720 with 4 Axes>"
      ]
     },
     "metadata": {
      "needs_background": "light"
     },
     "output_type": "display_data"
    }
   ],
   "source": [
    "plt.figure(figsize=(30, 30))\n",
    "sns.clustermap(X_train.corr(), xticklabels=True, yticklabels=True)\n",
    "plt.title(\"ClusterMap of all the Features\", fontsize = 20)\n",
    "plt.show();"
   ]
  },
  {
   "cell_type": "markdown",
   "metadata": {},
   "source": [
    "In the heatmap we can see several features that are highly correlated to others. There are more involved ways for choosing which features to keep, but in this case we will simply drop those features which are more correlated to other features as well. Select a set of features that are strongly correlated to other features and drop them."
   ]
  },
  {
   "cell_type": "code",
   "execution_count": 34,
   "metadata": {},
   "outputs": [
    {
     "name": "stdout",
     "output_type": "stream",
     "text": [
      "{('rev302', 'bac302'), ('loan_amnt', 'monthly_pmt'), ('hr06s', 'hr09s'), ('rev302', 're102s'), ('iln724', 'ale724'), ('ale724', 'ale720'), ('all807', 'total_inquiries'), ('hr24s', 'hr12s'), ('s004s', 'rev703'), ('aut720', 'ale724'), ('all804', 'inquiries_last6_months'), ('all801', 'total_inquiries'), ('aut720', 'ale720'), ('all804', 'all807'), ('all804', 'all801'), ('all803', 'inquiries_last6_months'), ('all804', 'all803'), ('re102s', 'bac302'), ('rep001', 'rep071'), ('g099s', 'g094s'), ('all804', 'total_inquiries'), ('all807', 'all801'), ('rep901', 'mt36s')}\n"
     ]
    }
   ],
   "source": [
    "# Remove one of each pair with a correlation of more then correlation_threshold\n",
    "# TODO - optimize the threshold for co relation:\n",
    "correlation_threshold = 0.8\n",
    "max_index = 0\n",
    "corr_matrix = X_train.corr().abs()\n",
    "\n",
    "#the matrix is symmetric so we need to extract upper triangle matrix without diagonal (k = 1)\n",
    "\n",
    "correlation_sorted = (corr_matrix.where(np.triu(np.ones(corr_matrix.shape), k=1).astype(np.bool))\n",
    "                  .stack()\n",
    "                  .sort_values(ascending=False))\n",
    "for i in range(len(correlation_sorted)):\n",
    "    if(correlation_sorted[i] < correlation_threshold):\n",
    "        max_index = i\n",
    "        break\n",
    "        \n",
    "correlated_features = set([tupple for tupple in correlation_sorted.index[0:i]])\n",
    "print(correlated_features)"
   ]
  },
  {
   "cell_type": "code",
   "execution_count": 35,
   "metadata": {},
   "outputs": [],
   "source": [
    "# Choose some of the corelated features and remoce them:\n",
    "correlated_features_list = ['all804','aut720','g099s','rev302','monthly_pmt','hr06s','rep001','all801','all803', # Correlation > 0.9\n",
    "                            'ale724','re102s','all807','s004s','hr24s','rep901'] # Correlation > 0.8"
   ]
  },
  {
   "cell_type": "code",
   "execution_count": 36,
   "metadata": {},
   "outputs": [],
   "source": [
    "X_train.drop(columns=correlated_features_list,inplace=True)\n",
    "X_test.drop(columns=correlated_features_list,inplace=True)"
   ]
  },
  {
   "cell_type": "markdown",
   "metadata": {
    "execution": {
     "iopub.execute_input": "2021-07-05T12:23:51.139848Z",
     "iopub.status.busy": "2021-07-05T12:23:51.139407Z",
     "iopub.status.idle": "2021-07-05T12:23:51.152678Z",
     "shell.execute_reply": "2021-07-05T12:23:51.151066Z",
     "shell.execute_reply.started": "2021-07-05T12:23:51.139819Z"
    }
   },
   "source": [
    "Make sure the correlation map looks closer to diagonal now."
   ]
  },
  {
   "cell_type": "code",
   "execution_count": 37,
   "metadata": {
    "tags": []
   },
   "outputs": [
    {
     "data": {
      "text/plain": [
       "<Figure size 2160x2160 with 0 Axes>"
      ]
     },
     "metadata": {},
     "output_type": "display_data"
    },
    {
     "data": {
      "image/png": "[encoded data removed]",
      "text/plain": [
       "<Figure size 720x720 with 4 Axes>"
      ]
     },
     "metadata": {
      "needs_background": "light"
     },
     "output_type": "display_data"
    }
   ],
   "source": [
    "plt.figure(figsize=(30, 30))\n",
    "sns.clustermap(X_train.corr(), xticklabels=True, yticklabels=True)\n",
    "plt.title(\"ClusterMap of all the Features\", fontsize = 30)\n",
    "plt.show();"
   ]
  },
  {
   "cell_type": "markdown",
   "metadata": {},
   "source": [
    "# Cleaning the data"
   ]
  },
  {
   "cell_type": "markdown",
   "metadata": {},
   "source": [
    "Until now we got to know our data and checked if they meet the required assumptions.  \n",
    "Now, let's start cleaning the data."
   ]
  },
  {
   "cell_type": "markdown",
   "metadata": {},
   "source": [
    "Find out the percentage of missing values (i.e. NaNs) in your dataset, and print them in ascending order. "
   ]
  },
  {
   "cell_type": "code",
   "execution_count": 38,
   "metadata": {},
   "outputs": [
    {
     "data": {
      "text/plain": [
       "rep501                    0\n",
       "rt24s                     0\n",
       "iln703                    0\n",
       "g099a                     0\n",
       "iln720                    0\n",
       "percent_funded            0\n",
       "hr09s                     0\n",
       "loan_amnt                 0\n",
       "rev401                    0\n",
       "debt_to_income            0\n",
       "st27s                     0\n",
       "g960s                     0\n",
       "g230s                     0\n",
       "mt47s                     0\n",
       "g094s                     0\n",
       "g104s                     0\n",
       "funding_threshold         0\n",
       "hi57s                     0\n",
       "all301                    0\n",
       "hr12s                     0\n",
       "bc102s                    0\n",
       "iln740                    0\n",
       "all780                    0\n",
       "in36s                     0\n",
       "mt36s                     0\n",
       "iln724                    0\n",
       "rev703                    0\n",
       "inquiries_last6_months    0\n",
       "rep071                    0\n",
       "ale720                    0\n",
       "total_inquiries           0\n",
       "bac302                    0\n",
       "credit_score              0\n",
       "int_rate                  0\n",
       "occupation                0\n",
       "co_amount                 0\n",
       "issue_date                0\n",
       "dtype: int64"
      ]
     },
     "execution_count": 38,
     "metadata": {},
     "output_type": "execute_result"
    }
   ],
   "source": [
    "X_train.isna().sum()"
   ]
  },
  {
   "cell_type": "code",
   "execution_count": 39,
   "metadata": {},
   "outputs": [],
   "source": [
    "# No listing term column\n",
    "for column in X_train.columns:\n",
    "    if (len(X_train[(X_train[column] == 36) | (X_train[column] == 60)]) > 0.02 * len(X_train)):\n",
    "        print(column)\n",
    "     "
   ]
  },
  {
   "cell_type": "markdown",
   "metadata": {},
   "source": [
    "How many missing values are the in the dataset? What's the percentage of rows without any missing features?"
   ]
  },
  {
   "cell_type": "markdown",
   "metadata": {},
   "source": [
    "### There are no missing values in the data"
   ]
  },
  {
   "cell_type": "markdown",
   "metadata": {},
   "source": [
    "If everything went smoothly, there should be no missing values here, so.. nothing left to do :)"
   ]
  },
  {
   "cell_type": "markdown",
   "metadata": {},
   "source": [
    "## Outliers"
   ]
  },
  {
   "cell_type": "markdown",
   "metadata": {},
   "source": [
    "If there are outliers, you can choose one of the following ways:\n",
    "1. Use methods (such as XGBoost) which handle outliers inherently.\n",
    "2. Remove them.\n",
    "3. Replace them with a value like the mean/median.\n",
    "4. Simply keep them in order to learn from them (but make a note about this when reporting the regression results)."
   ]
  },
  {
   "cell_type": "markdown",
   "metadata": {},
   "source": [
    "Let's focus on two features we understand and find outliers in them:\n",
    "1) loan_amnt - the amount of the loan in USD.\n",
    "2) listing_term - the number months the loan was taken for.\n",
    "\n",
    "In order to find outliers we will plot a box plot for each feature."
   ]
  },
  {
   "cell_type": "code",
   "execution_count": 40,
   "metadata": {
    "tags": []
   },
   "outputs": [
    {
     "data": {
      "text/plain": [
       "<matplotlib.axes._subplots.AxesSubplot at 0x7f774d03fac0>"
      ]
     },
     "execution_count": 40,
     "metadata": {},
     "output_type": "execute_result"
    },
    {
     "data": {
      "image/png": "[encoded data removed]",
      "text/plain": [
       "<Figure size 432x288 with 1 Axes>"
      ]
     },
     "metadata": {
      "needs_background": "light"
     },
     "output_type": "display_data"
    }
   ],
   "source": [
    "X_train['loan_amnt'].plot(kind='box')"
   ]
  },
  {
   "cell_type": "code",
   "execution_count": 41,
   "metadata": {},
   "outputs": [],
   "source": [
    "# X_train['listing_term'].plot(kind='box')"
   ]
  },
  {
   "cell_type": "markdown",
   "metadata": {},
   "source": [
    "There seem to be many outliers with large loan amounts. However, we do expect loan amount to have some very large values, and it is unlikely to expect it to be symmetric (why?).\n",
    "\n",
    "We can, however, assume that the loan amount behaves log-normal (which means its Log behaves normally), therefore it might be more insightful to plot the Log of the feature. Plot a boxplot of the logarithm of SaleAmt."
   ]
  },
  {
   "cell_type": "code",
   "execution_count": 42,
   "metadata": {
    "tags": []
   },
   "outputs": [
    {
     "data": {
      "image/png": "[encoded data removed]",
      "text/plain": [
       "<Figure size 432x288 with 1 Axes>"
      ]
     },
     "metadata": {
      "needs_background": "light"
     },
     "output_type": "display_data"
    }
   ],
   "source": [
    "data['log_loan_amnt'] = np.log(data['loan_amnt'])\n",
    "data['log_loan_amnt'].plot(kind='box')\n",
    "\n",
    "X_train['log_loan_amnt'] = np.log(X_train['loan_amnt'])\n",
    "X_test['log_loan_amnt'] = np.log(X_test['loan_amnt'])"
   ]
  },
  {
   "cell_type": "markdown",
   "metadata": {
    "execution": {
     "iopub.execute_input": "2021-07-20T08:11:13.489580Z",
     "iopub.status.busy": "2021-07-20T08:11:13.489159Z",
     "iopub.status.idle": "2021-07-20T08:11:13.497982Z",
     "shell.execute_reply": "2021-07-20T08:11:13.496776Z",
     "shell.execute_reply.started": "2021-07-20T08:11:13.489496Z"
    }
   },
   "source": [
    "This looks much better! "
   ]
  },
  {
   "cell_type": "markdown",
   "metadata": {
    "execution": {
     "iopub.execute_input": "2021-07-20T08:13:25.136558Z",
     "iopub.status.busy": "2021-07-20T08:13:25.136144Z",
     "iopub.status.idle": "2021-07-20T08:13:25.144703Z",
     "shell.execute_reply": "2021-07-20T08:13:25.143343Z",
     "shell.execute_reply.started": "2021-07-20T08:13:25.136529Z"
    }
   },
   "source": [
    "Let's explore how many outliers we have in this feature. \n",
    "In general outlier is not a well-defined notion. One possible defition in our case would be loans whose loan amount is noticably higher or smaller than expected. For example in the case of a normal distribution, values more then $3*std$ from the mean are often considered outliers. A useful rule of thumb for finding outliers in many cases is by computing the interquantile range (IQR, i.e. the difference between the third and first quartile) and finding all loans whose log(loan amount) is more then some constant times the IQR from a given percentile."
   ]
  },
  {
   "cell_type": "markdown",
   "metadata": {},
   "source": [
    "Compute the IQR of the log of loan amount."
   ]
  },
  {
   "cell_type": "code",
   "execution_count": 43,
   "metadata": {
    "tags": []
   },
   "outputs": [
    {
     "data": {
      "text/plain": [
       "0.9162907318741542"
      ]
     },
     "execution_count": 43,
     "metadata": {},
     "output_type": "execute_result"
    }
   ],
   "source": [
    "from scipy.stats import iqr\n",
    "\n",
    "log_amount_iqr = iqr(X_train['log_loan_amnt'])\n",
    "log_amount_iqr"
   ]
  },
  {
   "cell_type": "markdown",
   "metadata": {},
   "source": [
    "Compute the number of loans in X_train whose log(loan_amount) is more than $1.5*IQR$ below the 25th percentile of the feature."
   ]
  },
  {
   "cell_type": "code",
   "execution_count": 44,
   "metadata": {},
   "outputs": [
    {
     "data": {
      "text/plain": [
       "8.699514748210193"
      ]
     },
     "execution_count": 44,
     "metadata": {},
     "output_type": "execute_result"
    }
   ],
   "source": [
    "X_train['log_loan_amnt'].quantile(q=0.25)"
   ]
  },
  {
   "cell_type": "code",
   "execution_count": 45,
   "metadata": {},
   "outputs": [
    {
     "data": {
      "text/plain": [
       "0"
      ]
     },
     "execution_count": 45,
     "metadata": {},
     "output_type": "execute_result"
    }
   ],
   "source": [
    "(X_train['log_loan_amnt'] < (X_train['log_loan_amnt'].quantile(q=0.25) - 1.5*log_amount_iqr)).sum()\n"
   ]
  },
  {
   "cell_type": "markdown",
   "metadata": {},
   "source": [
    "Compute the number of loans in X_train whose log(loan_amount) is more than $1.5*IQR$ above the 75th percentile of the feature."
   ]
  },
  {
   "cell_type": "code",
   "execution_count": 46,
   "metadata": {
    "tags": []
   },
   "outputs": [
    {
     "data": {
      "text/plain": [
       "0"
      ]
     },
     "execution_count": 46,
     "metadata": {},
     "output_type": "execute_result"
    }
   ],
   "source": [
    "(X_train['log_loan_amnt'] > (X_train['log_loan_amnt'].quantile(q=0.75) + 1.5*log_amount_iqr)).sum()"
   ]
  },
  {
   "cell_type": "markdown",
   "metadata": {},
   "source": [
    "Cool, it seems that there are no outliers according to this specific definition."
   ]
  },
  {
   "cell_type": "markdown",
   "metadata": {},
   "source": [
    "Replace the loan_amnt feature by its log:"
   ]
  },
  {
   "cell_type": "code",
   "execution_count": 47,
   "metadata": {},
   "outputs": [],
   "source": [
    "X_train.drop(columns=['loan_amnt'],inplace=True)\n",
    "X_test.drop(columns=['loan_amnt'],inplace=True)"
   ]
  },
  {
   "cell_type": "markdown",
   "metadata": {
    "execution": {
     "iopub.execute_input": "2021-06-23T09:12:26.830375Z",
     "iopub.status.busy": "2021-06-23T09:12:26.829979Z",
     "iopub.status.idle": "2021-06-23T09:12:26.833860Z",
     "shell.execute_reply": "2021-06-23T09:12:26.833068Z",
     "shell.execute_reply.started": "2021-06-23T09:12:26.830345Z"
    }
   },
   "source": [
    "# Preprocessing"
   ]
  },
  {
   "cell_type": "markdown",
   "metadata": {},
   "source": [
    "We did most of the data preparation while working.  \n",
    "The last thing we need to do is to handle categorical features (usually by creating dummy variables or label encoding).  \n",
    "However, we already know there are no categorical features in our training set so our data is ready! "
   ]
  },
  {
   "cell_type": "markdown",
   "metadata": {},
   "source": [
    "# Model train"
   ]
  },
  {
   "cell_type": "markdown",
   "metadata": {},
   "source": [
    "So, now that our data is ready, we can create and train our model. As we discussed in Section 3, we will use a logistic regression model for this purpose.\n",
    "Use the `sklearn.linear_model.LogisticRegression` package to create your model. As we've seen in Assignment 1, regression models' performance improve if the data is standardized before fitting. In order to add a standartization step to your model you can use `sklearn.preprocessing.StandardScaler` and use `sklearn.pipeline.PipeLine` in order to run the two processes in sequence."
   ]
  },
  {
   "cell_type": "code",
   "execution_count": 48,
   "metadata": {
    "tags": []
   },
   "outputs": [],
   "source": [
    "from sklearn.preprocessing import StandardScaler\n",
    "from sklearn.pipeline import Pipeline\n",
    "from sklearn.linear_model import LogisticRegression\n",
    "from sklearn.metrics import accuracy_score"
   ]
  },
  {
   "cell_type": "code",
   "execution_count": 49,
   "metadata": {},
   "outputs": [],
   "source": [
    "model = Pipeline([('scaler', StandardScaler()), ('lor', LogisticRegression())])"
   ]
  },
  {
   "cell_type": "markdown",
   "metadata": {},
   "source": [
    "Fit your model to the training data"
   ]
  },
  {
   "cell_type": "code",
   "execution_count": 50,
   "metadata": {
    "tags": []
   },
   "outputs": [
    {
     "data": {
      "text/plain": [
       "Pipeline(steps=[('scaler', StandardScaler()), ('lor', LogisticRegression())])"
      ]
     },
     "execution_count": 50,
     "metadata": {},
     "output_type": "execute_result"
    }
   ],
   "source": [
    "model.fit(X_train,y_train)"
   ]
  },
  {
   "cell_type": "markdown",
   "metadata": {},
   "source": [
    "Let's check our model's performance. Our measure of accuracy would be the percentage of items in the test set for which the prediction is identical to the true value (i.e. the percantage of loans for which model predicted True for a CO loan or False for a non-CO loan).\n",
    "\n",
    "You can either compute this value directly, or use `sklearn.metrics.accuracy_score`."
   ]
  },
  {
   "cell_type": "code",
   "execution_count": 51,
   "metadata": {
    "tags": []
   },
   "outputs": [
    {
     "data": {
      "text/plain": [
       "0.9925465838509316"
      ]
     },
     "execution_count": 51,
     "metadata": {},
     "output_type": "execute_result"
    }
   ],
   "source": [
    "model.score(X_test, y_test)"
   ]
  },
  {
   "cell_type": "markdown",
   "metadata": {},
   "source": [
    "If all went according to plan, this should be way too good to be true, and make us suspicious. \n",
    "Let's have a closer at the trained model. Use `sklearn.linear_model.LogisticRegression`'s coef_ attribute in order to see the regression coefficient corresponding to each feature. By default - the coefficients appear in the same order as the corresponding columns appear in X_train.\n",
    "\n",
    "Find a nice way to represent the coefficients and their respective column names and print it. How do the coefficients look?"
   ]
  },
  {
   "cell_type": "code",
   "execution_count": 52,
   "metadata": {},
   "outputs": [
    {
     "data": {
      "text/plain": [
       "array([[ 8.63095539e-02,  1.10884322e-01, -3.30837518e-02,\n",
       "        -9.66674654e-02, -1.32501648e-01,  7.96675606e-02,\n",
       "        -4.05452392e-02,  8.04544500e-02, -4.26744098e-02,\n",
       "         1.76945191e-02, -3.77010376e-02,  3.22542744e-02,\n",
       "         5.12410687e-02,  2.48471095e-02,  7.58003572e-02,\n",
       "         1.10381672e-01,  4.66572016e-03, -7.59691237e-02,\n",
       "         2.59501309e-02,  8.26182128e-03,  8.59806221e-02,\n",
       "        -2.10314981e-02, -2.50015659e-02,  8.25198881e-02,\n",
       "         1.03662029e-01, -8.19744171e-03,  2.03391604e-02,\n",
       "        -1.64080858e-01,  1.78326379e-02,  6.37722593e-02,\n",
       "        -7.73390712e-02,  6.20915734e-02,  1.59254952e-01,\n",
       "         1.59776070e-01,  2.19784181e+01,  6.32991106e-02,\n",
       "        -3.49262260e-01]])"
      ]
     },
     "execution_count": 52,
     "metadata": {},
     "output_type": "execute_result"
    }
   ],
   "source": [
    "model['lor'].coef_"
   ]
  },
  {
   "cell_type": "markdown",
   "metadata": {},
   "source": [
    "Oh no! co_amount is not supposed to be a feature, it represents the performance of the loan and leaks information about the target (which we obviously won't have in real life before the loan is financed)! This is not surprising- we already saw that it is highly correlated with the target variable.\n",
    "\n",
    "Let's fix it. Drop the co_amount column from the training and test sets."
   ]
  },
  {
   "cell_type": "code",
   "execution_count": 53,
   "metadata": {
    "tags": []
   },
   "outputs": [],
   "source": [
    "X_train.drop(columns='co_amount',inplace=True)\n",
    "X_test.drop(columns='co_amount',inplace=True)"
   ]
  },
  {
   "cell_type": "markdown",
   "metadata": {},
   "source": [
    "Good, now let's retrain and see what we get. Fit the model to the new training set (without co_amount) and assess its performance, as above."
   ]
  },
  {
   "cell_type": "code",
   "execution_count": 58,
   "metadata": {
    "tags": []
   },
   "outputs": [
    {
     "data": {
      "text/plain": [
       "0.7977639751552795"
      ]
     },
     "execution_count": 58,
     "metadata": {},
     "output_type": "execute_result"
    }
   ],
   "source": [
    "model.score(X_test, y_test)"
   ]
  },
  {
   "cell_type": "markdown",
   "metadata": {},
   "source": [
    "80% accuracy sure seems like a good start. HOWEVER, we saw that there are ~20% charge offs, so a model that predicts all False would essentially perform the same.\n",
    "Let's look at a confusion matrix of our predictions vs. the true labels, to see if this is the case. Create a confusion matrix using `sklearn.metrics.plot_confusion_matrix`."
   ]
  },
  {
   "cell_type": "code",
   "execution_count": 55,
   "metadata": {
    "tags": []
   },
   "outputs": [
    {
     "data": {
      "image/png": "[encoded data removed]",
      "text/plain": [
       "<Figure size 432x288 with 2 Axes>"
      ]
     },
     "metadata": {
      "needs_background": "light"
     },
     "output_type": "display_data"
    }
   ],
   "source": [
    "from sklearn.metrics import confusion_matrix\n",
    "from sklearn.metrics import plot_confusion_matrix\n",
    "\n",
    "\n",
    "matrix = confusion_matrix(y_test,y_predict)\n",
    "plot_confusion_matrix(model,X_test,y_test,cmap='PuBuGn')\n",
    "plt.title(\"Confustion matrix for out logistic regression model\",fontsize=20);\n",
    "plt.show();\n"
   ]
  },
  {
   "cell_type": "markdown",
   "metadata": {},
   "source": [
    "Yes, so it seems that our model predicts pretty much all as non-CO. In fact, let's compare to **really** \n",
    "predicting non-CO for all loans:"
   ]
  },
  {
   "cell_type": "code",
   "execution_count": 56,
   "metadata": {
    "tags": []
   },
   "outputs": [
    {
     "data": {
      "text/plain": [
       "0.7968530020703933"
      ]
     },
     "execution_count": 56,
     "metadata": {},
     "output_type": "execute_result"
    }
   ],
   "source": [
    "accuracy_score(y_test, [False] * len(y_test))"
   ]
  },
  {
   "cell_type": "markdown",
   "metadata": {},
   "source": [
    "Looks like even the accuracy of always predicting False is almost as good as our model. This is not great.."
   ]
  },
  {
   "cell_type": "markdown",
   "metadata": {},
   "source": [
    "Moreover, **and this is very important**, in our case not all errors are equally important. A loan with 5% interest rate will yield ~16% of the original loan amount after 3 years ($(1+0.05)^3 -1 = 15.8$), if it repays in full. However, a loan that COs could cost us up to 100%! Therefore, it is **much more important** for us to correctly identify CO's than non-CO's."
   ]
  },
  {
   "cell_type": "markdown",
   "metadata": {},
   "source": [
    "Let's see how the accuracy looks if we weighted the COs as 5x (and it is plausible to give it even higher weights). Use `skelearn.metrics.accuracy_score`'s sample_weight parameter to add a weight of 5 to each True prediction of the model."
   ]
  },
  {
   "cell_type": "code",
   "execution_count": 59,
   "metadata": {
    "tags": []
   },
   "outputs": [
    {
     "data": {
      "text/plain": [
       "0.43962169324256406"
      ]
     },
     "execution_count": 59,
     "metadata": {},
     "output_type": "execute_result"
    }
   ],
   "source": [
    "sample_weights = [1 if i == 0 else 5 for i in y_test]\n",
    "accuracy_score(y_test, [False] * len(y_test),sample_weight=sample_weights)"
   ]
  },
  {
   "cell_type": "code",
   "execution_count": 62,
   "metadata": {},
   "outputs": [
    {
     "data": {
      "text/plain": [
       "0.45876547722392286"
      ]
     },
     "execution_count": 62,
     "metadata": {},
     "output_type": "execute_result"
    }
   ],
   "source": [
    "y_predict = model.predict(X_test)\n",
    "sample_weights = [1 if i == 0 else 5 for i in y_test]\n",
    "accuracy_score(y_test, y_predict,sample_weight=sample_weights)"
   ]
  },
  {
   "cell_type": "markdown",
   "metadata": {},
   "source": [
    "## Using a weighted model"
   ]
  },
  {
   "cell_type": "markdown",
   "metadata": {},
   "source": [
    "Of course, the lower accuracy score in the last section is not the model's fault, because we didn't train it to predict with sample weights. But we can retrain the model and give COs higher weights then non-CO loans - let's see what that looks like"
   ]
  },
  {
   "cell_type": "markdown",
   "metadata": {},
   "source": [
    "Create a linear regerssion model as above with a weight of 5 to each CO loan and 1 for non-CO loans. You can use `sklearn.linear_model.LogisticRegression`'s class_weights parameter for this."
   ]
  },
  {
   "cell_type": "code",
   "execution_count": 75,
   "metadata": {
    "tags": []
   },
   "outputs": [],
   "source": [
    "model_weighted = Pipeline([('scaler', StandardScaler()), ('lor', LogisticRegression(class_weight={0:1,1:5}))])\n",
    "model_weighted.fit(X_train,y_train)\n",
    "y_predict = model_weighted.predict(X_test)\n"
   ]
  },
  {
   "cell_type": "markdown",
   "metadata": {},
   "source": [
    "What is the model's accuracy score?"
   ]
  },
  {
   "cell_type": "code",
   "execution_count": 76,
   "metadata": {},
   "outputs": [
    {
     "name": "stdout",
     "output_type": "stream",
     "text": [
      "0.5872463768115942\n"
     ]
    }
   ],
   "source": [
    "print(accuracy_score(y_predict,y_test))"
   ]
  },
  {
   "cell_type": "code",
   "execution_count": 77,
   "metadata": {},
   "outputs": [
    {
     "name": "stdout",
     "output_type": "stream",
     "text": [
      "0.6650066249371773\n"
     ]
    }
   ],
   "source": [
    "print(accuracy_score(y_predict,y_test,sample_weight=sample_weights))"
   ]
  },
  {
   "cell_type": "markdown",
   "metadata": {},
   "source": [
    "Let's see the precentage of false positive and true negatives using a confusion matrix."
   ]
  },
  {
   "cell_type": "code",
   "execution_count": 78,
   "metadata": {
    "tags": []
   },
   "outputs": [
    {
     "data": {
      "image/png": "[encoded data removed]",
      "text/plain": [
       "<Figure size 432x288 with 2 Axes>"
      ]
     },
     "metadata": {
      "needs_background": "light"
     },
     "output_type": "display_data"
    }
   ],
   "source": [
    "matrix = confusion_matrix(y_test,y_predict)\n",
    "plot_confusion_matrix(model_weighted,X_test,y_test,cmap='PuBuGn')\n",
    "plt.title(\"Confustion matrix for out logistic regression model\",fontsize=20);\n",
    "plt.show();"
   ]
  },
  {
   "cell_type": "markdown",
   "metadata": {},
   "source": [
    "Looks like our model now predicts many more loans as CO than before. Now that we see that changing the weights improve desirable properties of the model, how do we know how to find the *optimal* weights? In fact, in our case we might be able to bypass this problem.\n",
    "\n",
    "Our logistic regression model predicts the probability of each loan charging off and, by default, flags the loan as CO if it has more than 50% probability of charging off (and non-CO otherwise). Instead of trying various weights and seeing which loans have a probability > 0.5 under these weights, we can decide to label a loan as CO even for a predicted 25%. Or 10%. Or any other threshold. We can then plot the Reciever-Operator Curve (ROC) which tells us the TPR (True Positive Rate) vs. FPR (False Positive Rate) induced by each choice of threshold."
   ]
  },
  {
   "cell_type": "markdown",
   "metadata": {},
   "source": [
    "First, in order to see that, indeed, changing the weights is equivalent to changing the threshold instead, let's plot the predicted probabilities for the unwighted model compared with the weighted model and look at the correlation of predictions for both models. \n",
    "To obtain the predicted probabilities (instead of the T/F prediction) use the models' predict_proba attribute."
   ]
  },
  {
   "cell_type": "code",
   "execution_count": 79,
   "metadata": {},
   "outputs": [
    {
     "data": {
      "text/plain": [
       "array([0.70693525, 0.29306475])"
      ]
     },
     "execution_count": 79,
     "metadata": {},
     "output_type": "execute_result"
    }
   ],
   "source": [
    "len(np.arange(len(X_train)))\n",
    "len(model.predict_proba(X_train))\n",
    "model.predict_proba(X_train)[0]"
   ]
  },
  {
   "cell_type": "markdown",
   "metadata": {},
   "source": [
    "Create a scatter plot of the predicted probabilities of the unweighted model vs those of the weighted model."
   ]
  },
  {
   "cell_type": "code",
   "execution_count": 80,
   "metadata": {
    "tags": []
   },
   "outputs": [
    {
     "data": {
      "text/plain": [
       "<matplotlib.collections.PathCollection at 0x7f773852cf70>"
      ]
     },
     "execution_count": 80,
     "metadata": {},
     "output_type": "execute_result"
    },
    {
     "data": {
      "image/png": "[encoded data removed]",
      "text/plain": [
       "<Figure size 432x288 with 1 Axes>"
      ]
     },
     "metadata": {
      "needs_background": "light"
     },
     "output_type": "display_data"
    }
   ],
   "source": [
    "model_probs = model.predict_proba(X_train)\n",
    "\n",
    "plt.scatter(model_probs[:,0],model_probs[:,1])"
   ]
  },
  {
   "cell_type": "code",
   "execution_count": 81,
   "metadata": {},
   "outputs": [
    {
     "data": {
      "text/plain": [
       "<matplotlib.collections.PathCollection at 0x7f7739db71f0>"
      ]
     },
     "execution_count": 81,
     "metadata": {},
     "output_type": "execute_result"
    },
    {
     "data": {
      "image/png": "[encoded data removed]",
      "text/plain": [
       "<Figure size 432x288 with 1 Axes>"
      ]
     },
     "metadata": {
      "needs_background": "light"
     },
     "output_type": "display_data"
    }
   ],
   "source": [
    "wieghted_model_probs = model_weighted.predict_proba(X_train)\n",
    "plt.scatter(wieghted_model_probs[:,0],wieghted_model_probs[:,1])"
   ]
  },
  {
   "cell_type": "code",
   "execution_count": null,
   "metadata": {},
   "outputs": [],
   "source": [
    "wieghted_model_probs.sort()"
   ]
  },
  {
   "cell_type": "code",
   "execution_count": null,
   "metadata": {},
   "outputs": [],
   "source": [
    "model_probs.sort()"
   ]
  },
  {
   "cell_type": "markdown",
   "metadata": {},
   "source": [
    "Compute the Spearman rank correlation between the predicted probabilities of the two models. A Spearman correlation is a good choice for this type of comparison, because it evaluates the degree to which the models agree about ranking the loans with respect to their probability of CO."
   ]
  },
  {
   "cell_type": "code",
   "execution_count": 84,
   "metadata": {
    "tags": []
   },
   "outputs": [
    {
     "data": {
      "text/plain": [
       "array([[ 1.        , -1.        ,  0.99926474, -0.99926474],\n",
       "       [-1.        ,  1.        , -0.99926474,  0.99926474],\n",
       "       [ 0.99926474, -0.99926474,  1.        , -1.        ],\n",
       "       [-0.99926474,  0.99926474, -1.        ,  1.        ]])"
      ]
     },
     "execution_count": 84,
     "metadata": {},
     "output_type": "execute_result"
    }
   ],
   "source": [
    "from scipy.stats import spearmanr\n",
    "\n",
    "spearmanr(wieghted_model_probs,model_probs).correlation"
   ]
  },
  {
   "cell_type": "markdown",
   "metadata": {},
   "source": [
    "Cool, so we indeed get very good correlation. "
   ]
  },
  {
   "cell_type": "markdown",
   "metadata": {},
   "source": [
    "Now let's look at the ROC of this model. Use `sklearn.metrics.plot_roc_curve` to create a ROC of the first (unweighted) model."
   ]
  },
  {
   "cell_type": "code",
   "execution_count": 85,
   "metadata": {
    "tags": []
   },
   "outputs": [
    {
     "data": {
      "text/plain": [
       "<sklearn.metrics._plot.roc_curve.RocCurveDisplay at 0x7f77384c0fd0>"
      ]
     },
     "execution_count": 85,
     "metadata": {},
     "output_type": "execute_result"
    },
    {
     "data": {
      "image/png": "[encoded data removed]",
      "text/plain": [
       "<Figure size 432x288 with 1 Axes>"
      ]
     },
     "metadata": {
      "needs_background": "light"
     },
     "output_type": "display_data"
    }
   ],
   "source": [
    "from sklearn.metrics import plot_roc_curve\n",
    "\n",
    "plot_roc_curve(model,X_test,y_test)"
   ]
  },
  {
   "cell_type": "markdown",
   "metadata": {},
   "source": [
    "Now we know what our options are for trading-off FPR and TPR. The question remains - how do we know which tradeoffs are reasonable?\n",
    "In our case there are other metrics we can use in order to test our model's performance. Our main goal for training this model is to maximize returns, so it makes sense to evaluate the performance of the model by measuring the performance of our portfolio. We will use [IRR](https://www.investopedia.com/terms/i/irr.asp) to measure the portfolio's yield."
   ]
  },
  {
   "cell_type": "markdown",
   "metadata": {},
   "source": [
    "# Computing IRR of different portfolios"
   ]
  },
  {
   "cell_type": "markdown",
   "metadata": {},
   "source": [
    "In order to compute the IRR of our portfolio we need to get the cashflow (i.e. the payments made for each loan) for our portfolion. We have provided you with a dataframe of precalculated cashflows indexed according to your data."
   ]
  },
  {
   "cell_type": "code",
   "execution_count": 86,
   "metadata": {},
   "outputs": [],
   "source": [
    "cashflows = pd.read_parquet(os.path.join(ASSIGNMENT4_DATA,\"prosper_cashflows.parquet\"))"
   ]
  },
  {
   "cell_type": "markdown",
   "metadata": {},
   "source": [
    "The following function receives a dataframe of cashflows and a list of indices and returns the IRR of the portfolio given by these indices."
   ]
  },
  {
   "cell_type": "code",
   "execution_count": 87,
   "metadata": {
    "tags": []
   },
   "outputs": [],
   "source": [
    "import numpy_financial as npf\n",
    "def get_portfolio_irr(cashflows, indices):\n",
    "    \"\"\"\n",
    "    cashflows- a dataframe of cashflows \n",
    "    indices- pd.Series of T/F or a list of indices\n",
    "    \n",
    "    output: the yearly irr of the dataframe cashflows.loc[indices]\n",
    "    \"\"\"\n",
    "    return (((npf.irr(cashflows.loc[indices].sum()) + 1) ** 12) - 1) * 100"
   ]
  },
  {
   "cell_type": "code",
   "execution_count": 88,
   "metadata": {},
   "outputs": [
    {
     "data": {
      "text/html": [
       "<div>\n",
       "<style scoped>\n",
       "    .dataframe tbody tr th:only-of-type {\n",
       "        vertical-align: middle;\n",
       "    }\n",
       "\n",
       "    .dataframe tbody tr th {\n",
       "        vertical-align: top;\n",
       "    }\n",
       "\n",
       "    .dataframe thead th {\n",
       "        text-align: right;\n",
       "    }\n",
       "</style>\n",
       "<table border=\"1\" class=\"dataframe\">\n",
       "  <thead>\n",
       "    <tr style=\"text-align: right;\">\n",
       "      <th></th>\n",
       "      <th>loan_amnt</th>\n",
       "      <th>actual_pmt1</th>\n",
       "      <th>actual_pmt2</th>\n",
       "      <th>actual_pmt3</th>\n",
       "      <th>actual_pmt4</th>\n",
       "      <th>actual_pmt5</th>\n",
       "      <th>actual_pmt6</th>\n",
       "      <th>actual_pmt7</th>\n",
       "      <th>actual_pmt8</th>\n",
       "      <th>actual_pmt9</th>\n",
       "      <th>...</th>\n",
       "      <th>actual_pmt65</th>\n",
       "      <th>actual_pmt66</th>\n",
       "      <th>actual_pmt67</th>\n",
       "      <th>actual_pmt68</th>\n",
       "      <th>actual_pmt69</th>\n",
       "      <th>actual_pmt70</th>\n",
       "      <th>actual_pmt71</th>\n",
       "      <th>actual_pmt72</th>\n",
       "      <th>actual_pmt73</th>\n",
       "      <th>actual_pmt74</th>\n",
       "    </tr>\n",
       "    <tr>\n",
       "      <th>id</th>\n",
       "      <th></th>\n",
       "      <th></th>\n",
       "      <th></th>\n",
       "      <th></th>\n",
       "      <th></th>\n",
       "      <th></th>\n",
       "      <th></th>\n",
       "      <th></th>\n",
       "      <th></th>\n",
       "      <th></th>\n",
       "      <th></th>\n",
       "      <th></th>\n",
       "      <th></th>\n",
       "      <th></th>\n",
       "      <th></th>\n",
       "      <th></th>\n",
       "      <th></th>\n",
       "      <th></th>\n",
       "      <th></th>\n",
       "      <th></th>\n",
       "      <th></th>\n",
       "    </tr>\n",
       "  </thead>\n",
       "  <tbody>\n",
       "    <tr>\n",
       "      <th>733477</th>\n",
       "      <td>-18000.0</td>\n",
       "      <td>0.000000</td>\n",
       "      <td>607.790466</td>\n",
       "      <td>607.789307</td>\n",
       "      <td>1215.580322</td>\n",
       "      <td>0.000000</td>\n",
       "      <td>607.789551</td>\n",
       "      <td>1215.580322</td>\n",
       "      <td>0.000000</td>\n",
       "      <td>1215.579712</td>\n",
       "      <td>...</td>\n",
       "      <td>0.0</td>\n",
       "      <td>0.0</td>\n",
       "      <td>0.0</td>\n",
       "      <td>0.0</td>\n",
       "      <td>0.0</td>\n",
       "      <td>0.0</td>\n",
       "      <td>0.0</td>\n",
       "      <td>0.0</td>\n",
       "      <td>0.0</td>\n",
       "      <td>0.0</td>\n",
       "    </tr>\n",
       "    <tr>\n",
       "      <th>768878</th>\n",
       "      <td>-15000.0</td>\n",
       "      <td>0.000000</td>\n",
       "      <td>1021.680298</td>\n",
       "      <td>0.000000</td>\n",
       "      <td>1021.679565</td>\n",
       "      <td>510.840027</td>\n",
       "      <td>0.000000</td>\n",
       "      <td>1021.680176</td>\n",
       "      <td>510.840332</td>\n",
       "      <td>0.000000</td>\n",
       "      <td>...</td>\n",
       "      <td>0.0</td>\n",
       "      <td>0.0</td>\n",
       "      <td>0.0</td>\n",
       "      <td>0.0</td>\n",
       "      <td>0.0</td>\n",
       "      <td>0.0</td>\n",
       "      <td>0.0</td>\n",
       "      <td>0.0</td>\n",
       "      <td>0.0</td>\n",
       "      <td>0.0</td>\n",
       "    </tr>\n",
       "    <tr>\n",
       "      <th>742473</th>\n",
       "      <td>-6000.0</td>\n",
       "      <td>205.799957</td>\n",
       "      <td>205.799881</td>\n",
       "      <td>205.800003</td>\n",
       "      <td>205.799957</td>\n",
       "      <td>205.800232</td>\n",
       "      <td>205.799835</td>\n",
       "      <td>205.800049</td>\n",
       "      <td>205.800232</td>\n",
       "      <td>205.800049</td>\n",
       "      <td>...</td>\n",
       "      <td>0.0</td>\n",
       "      <td>0.0</td>\n",
       "      <td>0.0</td>\n",
       "      <td>0.0</td>\n",
       "      <td>0.0</td>\n",
       "      <td>0.0</td>\n",
       "      <td>0.0</td>\n",
       "      <td>0.0</td>\n",
       "      <td>0.0</td>\n",
       "      <td>0.0</td>\n",
       "    </tr>\n",
       "    <tr>\n",
       "      <th>738121</th>\n",
       "      <td>-15000.0</td>\n",
       "      <td>493.209686</td>\n",
       "      <td>493.210236</td>\n",
       "      <td>493.210052</td>\n",
       "      <td>493.209808</td>\n",
       "      <td>493.210510</td>\n",
       "      <td>493.209534</td>\n",
       "      <td>493.210327</td>\n",
       "      <td>493.210266</td>\n",
       "      <td>493.209961</td>\n",
       "      <td>...</td>\n",
       "      <td>0.0</td>\n",
       "      <td>0.0</td>\n",
       "      <td>0.0</td>\n",
       "      <td>0.0</td>\n",
       "      <td>0.0</td>\n",
       "      <td>0.0</td>\n",
       "      <td>0.0</td>\n",
       "      <td>0.0</td>\n",
       "      <td>0.0</td>\n",
       "      <td>0.0</td>\n",
       "    </tr>\n",
       "    <tr>\n",
       "      <th>733109</th>\n",
       "      <td>-3300.0</td>\n",
       "      <td>119.549927</td>\n",
       "      <td>119.550064</td>\n",
       "      <td>119.549896</td>\n",
       "      <td>119.550003</td>\n",
       "      <td>119.550125</td>\n",
       "      <td>119.549942</td>\n",
       "      <td>119.550171</td>\n",
       "      <td>119.549805</td>\n",
       "      <td>119.550110</td>\n",
       "      <td>...</td>\n",
       "      <td>0.0</td>\n",
       "      <td>0.0</td>\n",
       "      <td>0.0</td>\n",
       "      <td>0.0</td>\n",
       "      <td>0.0</td>\n",
       "      <td>0.0</td>\n",
       "      <td>0.0</td>\n",
       "      <td>0.0</td>\n",
       "      <td>0.0</td>\n",
       "      <td>0.0</td>\n",
       "    </tr>\n",
       "  </tbody>\n",
       "</table>\n",
       "<p>5 rows × 75 columns</p>\n",
       "</div>"
      ],
      "text/plain": [
       "        loan_amnt  actual_pmt1  actual_pmt2  actual_pmt3  actual_pmt4  \\\n",
       "id                                                                      \n",
       "733477   -18000.0     0.000000   607.790466   607.789307  1215.580322   \n",
       "768878   -15000.0     0.000000  1021.680298     0.000000  1021.679565   \n",
       "742473    -6000.0   205.799957   205.799881   205.800003   205.799957   \n",
       "738121   -15000.0   493.209686   493.210236   493.210052   493.209808   \n",
       "733109    -3300.0   119.549927   119.550064   119.549896   119.550003   \n",
       "\n",
       "        actual_pmt5  actual_pmt6  actual_pmt7  actual_pmt8  actual_pmt9  ...  \\\n",
       "id                                                                       ...   \n",
       "733477     0.000000   607.789551  1215.580322     0.000000  1215.579712  ...   \n",
       "768878   510.840027     0.000000  1021.680176   510.840332     0.000000  ...   \n",
       "742473   205.800232   205.799835   205.800049   205.800232   205.800049  ...   \n",
       "738121   493.210510   493.209534   493.210327   493.210266   493.209961  ...   \n",
       "733109   119.550125   119.549942   119.550171   119.549805   119.550110  ...   \n",
       "\n",
       "        actual_pmt65  actual_pmt66  actual_pmt67  actual_pmt68  actual_pmt69  \\\n",
       "id                                                                             \n",
       "733477           0.0           0.0           0.0           0.0           0.0   \n",
       "768878           0.0           0.0           0.0           0.0           0.0   \n",
       "742473           0.0           0.0           0.0           0.0           0.0   \n",
       "738121           0.0           0.0           0.0           0.0           0.0   \n",
       "733109           0.0           0.0           0.0           0.0           0.0   \n",
       "\n",
       "        actual_pmt70  actual_pmt71  actual_pmt72  actual_pmt73  actual_pmt74  \n",
       "id                                                                            \n",
       "733477           0.0           0.0           0.0           0.0           0.0  \n",
       "768878           0.0           0.0           0.0           0.0           0.0  \n",
       "742473           0.0           0.0           0.0           0.0           0.0  \n",
       "738121           0.0           0.0           0.0           0.0           0.0  \n",
       "733109           0.0           0.0           0.0           0.0           0.0  \n",
       "\n",
       "[5 rows x 75 columns]"
      ]
     },
     "execution_count": 88,
     "metadata": {},
     "output_type": "execute_result"
    }
   ],
   "source": [
    "cashflows.head()"
   ]
  },
  {
   "cell_type": "markdown",
   "metadata": {},
   "source": [
    "Compute the IRR of the test set:"
   ]
  },
  {
   "cell_type": "code",
   "execution_count": null,
   "metadata": {
    "tags": []
   },
   "outputs": [],
   "source": [
    "merged_train = X_train.merge(cashflows,how='left',on='id')\n",
    "merged_test = X_test.merge(cashflows,how='left',on='id')"
   ]
  },
  {
   "cell_type": "code",
   "execution_count": null,
   "metadata": {},
   "outputs": [],
   "source": [
    "assert merged_train['actual_pmt1'].isna().sum() == 0\n",
    "assert merged_test['actual_pmt1'].isna().sum() == 0"
   ]
  },
  {
   "cell_type": "code",
   "execution_count": 98,
   "metadata": {},
   "outputs": [
    {
     "data": {
      "text/plain": [
       "3.8079640520308544"
      ]
     },
     "execution_count": 98,
     "metadata": {},
     "output_type": "execute_result"
    }
   ],
   "source": [
    "get_portfolio_irr(cashflows,X_test.index)"
   ]
  },
  {
   "cell_type": "markdown",
   "metadata": {},
   "source": [
    "Now compute the IRR of all the loans in the test set which were predicted as non-CO:"
   ]
  },
  {
   "cell_type": "code",
   "execution_count": 103,
   "metadata": {
    "tags": []
   },
   "outputs": [
    {
     "data": {
      "text/plain": [
       "4.094035619522041"
      ]
     },
     "execution_count": 103,
     "metadata": {},
     "output_type": "execute_result"
    }
   ],
   "source": [
    "y_predicted = model.predict(X_test)\n",
    "indexes = X_test[y_predicted == 0].index\n",
    "get_portfolio_irr(cashflows,indexes)"
   ]
  },
  {
   "cell_type": "markdown",
   "metadata": {},
   "source": [
    "This is a small improvement, let's see what the x5 weights model looks like:"
   ]
  },
  {
   "cell_type": "code",
   "execution_count": 104,
   "metadata": {
    "tags": []
   },
   "outputs": [
    {
     "data": {
      "text/plain": [
       "6.149491231058168"
      ]
     },
     "execution_count": 104,
     "metadata": {},
     "output_type": "execute_result"
    }
   ],
   "source": [
    "y_predicted = model_weighted.predict(X_test)\n",
    "indexes = X_test[y_predicted == 0].index\n",
    "get_portfolio_irr(cashflows,indexes)"
   ]
  },
  {
   "cell_type": "markdown",
   "metadata": {},
   "source": [
    "This is a HUGE improvement! However, we haven't considered how much we had to reduce our volume to reach this return. Let's see what the effect is- compute the percentage of loans for the x5 weights model which managed are flagged as non-CO"
   ]
  },
  {
   "cell_type": "code",
   "execution_count": 105,
   "metadata": {
    "tags": []
   },
   "outputs": [
    {
     "name": "stdout",
     "output_type": "stream",
     "text": [
      "number of loans predicted as non charge off are 0.4813250517598344\n"
     ]
    }
   ],
   "source": [
    "print(\"number of loans predicted as non charge off are\",1-y_predicted.mean())"
   ]
  },
  {
   "cell_type": "markdown",
   "metadata": {},
   "source": [
    "So this cost us giving up more than 50% of the portfolio. \n",
    "\n",
    "If we have a given amount of money we want to invest we might be willing to settle for a slightly lower return in order to increase the amount of money yielding this return. We can make a plot similar to the ROC, but trading off the IRR on the y-axis and the deployed volume on the x-axis. This will allow us to evaluate these metrics, and interpret them from a buisness standpoint."
   ]
  },
  {
   "cell_type": "markdown",
   "metadata": {},
   "source": [
    "Let's have a closer look at this trade-off. Use the model's predict_proba attribute to find the set of loans which pass a threshold of 5%, 10%, 15%, ... 95%. For each such set, compute its volume (i.e. sum over loan_amnt) and its IRR. Create a curve which shows the volume vs IRR of each choice of threshold."
   ]
  },
  {
   "cell_type": "code",
   "execution_count": 190,
   "metadata": {
    "tags": []
   },
   "outputs": [
    {
     "data": {
      "text/plain": [
       "Index(['752187', '736016', '738631', '769253', '737576', '765556', '725087',\n",
       "       '726924', '747870', '745990', '737844', '719686', '723597', '745769',\n",
       "       '771764', '748672', '747232', '725398', '735468', '722423', '728613',\n",
       "       '747186', '748184', '743636', '718933', '741898', '726612', '737488',\n",
       "       '752811', '763947', '723545', '774945', '721372', '741727', '736159',\n",
       "       '721933'],\n",
       "      dtype='object', name='id')"
      ]
     },
     "execution_count": 190,
     "metadata": {},
     "output_type": "execute_result"
    }
   ],
   "source": [
    "X_test[model_weighted.predict_proba(X_test)[:,0] >= 0.90].index"
   ]
  },
  {
   "cell_type": "code",
   "execution_count": 178,
   "metadata": {},
   "outputs": [
    {
     "data": {
      "text/plain": [
       "(12075, 36)"
      ]
     },
     "execution_count": 178,
     "metadata": {},
     "output_type": "execute_result"
    }
   ],
   "source": [
    "X_test.shape"
   ]
  },
  {
   "cell_type": "code",
   "execution_count": 198,
   "metadata": {
    "tags": []
   },
   "outputs": [
    {
     "name": "stdout",
     "output_type": "stream",
     "text": [
      "[3.8129974124708754, 3.8355022302363873, 3.9842648370273404, 4.334120636978489, 4.676701200404709, 5.099339612681475, 5.319195188444348, 5.730961489237485, 5.968922819480915, 6.149491231058168, 6.1183698908681805, 6.130908065413232, 6.163997237617824, 6.531786221347913, 6.271035167444694, 6.27300147772345, 6.512232303231191, 6.7856790830268965, nan, nan]\n"
     ]
    },
    {
     "data": {
      "text/plain": [
       "[<matplotlib.lines.Line2D at 0x7f7732640ac0>]"
      ]
     },
     "execution_count": 198,
     "metadata": {},
     "output_type": "execute_result"
    },
    {
     "data": {
      "image/png": "[encoded data removed]",
      "text/plain": [
       "<Figure size 432x288 with 1 Axes>"
      ]
     },
     "metadata": {
      "needs_background": "light"
     },
     "output_type": "display_data"
    }
   ],
   "source": [
    "\n",
    "irr_list = []\n",
    "loan_amnt_list =[]\n",
    "\n",
    "for i in np.linspace(0.05,1.0,20):\n",
    "    indices = X_test[model_weighted.predict_proba(X_test)[:,0] >= i].index\n",
    "    IRR = get_portfolio_irr(cashflows,indices)\n",
    "    loan_amnt = (np.exp(X_test.loc[indices,'log_loan_amnt'])).sum()\n",
    "    irr_list.append(IRR)\n",
    "    loan_amnt_list.append(loan_amnt)\n",
    "print(irr_list)    \n",
    "plt.plot(loan_amnt_list,irr_list)"
   ]
  },
  {
   "cell_type": "code",
   "execution_count": 199,
   "metadata": {},
   "outputs": [
    {
     "name": "stdout",
     "output_type": "stream",
     "text": [
      "[0.05 0.1  0.15 0.2  0.25 0.3  0.35 0.4  0.45 0.5  0.55 0.6  0.65 0.7\n",
      " 0.75 0.8  0.85 0.9  0.95 1.  ]\n",
      "[5342835.975897058, 5366775.809879842, 5523153.125027193, 5803567.658967869, 5879538.881309267, 5898028.82985072, 5575974.868042541, 5294704.883223018, 4747098.166234113, 4048403.1714302474, 3242383.0122174327, 2461638.1865048115, 1735675.2931608304, 1216058.435016834, 676156.9961623102, 333617.4766998697, 126376.18470953542, 20981.11615434667, nan, nan]\n"
     ]
    },
    {
     "data": {
      "image/png": "[encoded data removed]",
      "text/plain": [
       "<Figure size 432x288 with 1 Axes>"
      ]
     },
     "metadata": {
      "needs_background": "light"
     },
     "output_type": "display_data"
    }
   ],
   "source": [
    "# Plot yearly gain as a function of threshold\n",
    "X_values = np.linspace(0.05,1.0,20)\n",
    "y_values = [a*b*0.01 for (a,b) in zip(loan_amnt_list,irr_list)]\n",
    "plt.plot(X_values,y_values)\n",
    "print(X_values)\n",
    "print(y_values)"
   ]
  },
  {
   "cell_type": "markdown",
   "metadata": {},
   "source": [
    "Now this graph shows us the tradeoff between the return and the deployed volume. Given this graph we are left with the buisness question of where along this tradeoff we wish to be, which will determine the threshold we should choose."
   ]
  },
  {
   "cell_type": "markdown",
   "metadata": {},
   "source": [
    "# Now share your model "
   ]
  },
  {
   "cell_type": "markdown",
   "metadata": {},
   "source": [
    "Now that your model is ready, it's time to create a package which streamlines it's usage.\n",
    "Do the following:\n",
    "* Inside the `pagayapro` repo, create a branch called `feature/{your_names}/co_classifier/`\n",
    "* Inside `~/pagayapro/assignment3/`, create a folder called `models/{your_names}/` and in it a python package which contains a class for the model (you may choose the class's name). The class should have the attributes `fit`, `predict` and `predict_proba`.\n",
    "* The attribute `fit` should accept two variable, X and y, preprocess them according to the steps you've undertaken in this notebook and fit a logistic regression model to the preprocessed data.\n",
    "* The attribute `predict` should accept a test set X_test, preprocess it accrodingly, and return an array of boolean prediction for each row of X_test- True for CO and False for non-CO. The attribute `predict_proba` return the predicted probability of each row.\n",
    "* Once you package is ready, push it to the repo. Ask your mentor for a review. Once the review is complete, rebase and merge your package to the repo."
   ]
  },
  {
   "cell_type": "markdown",
   "metadata": {},
   "source": [
    "# One last remark"
   ]
  },
  {
   "cell_type": "markdown",
   "metadata": {},
   "source": [
    "An important thing we ignored in this exercise is that increased risk is not necessarily a bad thing, as a higher interest rate could compensate for it, with a premium. A portfolio that has 10% CO might be better than one that has 5% CO, if the average interest rate of the former is 20% and 10% for the latter. In the next assignment, we will attempt to use this observation to further improve our ability to choose a good portfolio."
   ]
  }
 ],
 "metadata": {
  "kernelspec": {
   "display_name": "Python 3",
   "language": "python",
   "name": "python3"
  },
  "language_info": {
   "codemirror_mode": {
    "name": "ipython",
    "version": 3
   },
   "file_extension": ".py",
   "mimetype": "text/x-python",
   "name": "python",
   "nbconvert_exporter": "python",
   "pygments_lexer": "ipython3",
   "version": "3.8.10"
  },
  "toc-autonumbering": true
 },
 "nbformat": 4,
 "nbformat_minor": 4
}
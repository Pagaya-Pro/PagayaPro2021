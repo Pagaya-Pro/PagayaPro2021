{
 "cells": [
  {
   "cell_type": "markdown",
   "metadata": {},
   "source": [
    "# Assignment objective"
   ]
  },
  {
   "cell_type": "markdown",
   "metadata": {},
   "source": [
    "We have data from Raleigh, NC, where we recently deployed a flyer program in order to increase public awareness of the possibility of taking a Pagaya loan. You objective is to assess the potency of the flyer program in terms of activation by analyzing production and TU data obtained from the town.\n"
   ]
  },
  {
   "cell_type": "markdown",
   "metadata": {},
   "source": [
    "# Basic imports "
   ]
  },
  {
   "cell_type": "code",
   "execution_count": 2,
   "metadata": {
    "tags": []
   },
   "outputs": [],
   "source": [
    "import pandas as pd\n",
    "import numpy as np\n",
    "import matplotlib.pyplot as plt\n",
    "import seaborn as sns\n",
    "import os\n",
    "import warnings\n",
    "warnings.filterwarnings('ignore')\n",
    "from statsmodels.stats.proportion import proportions_ztest\n",
    "from pagayapro.paths.data_paths import ASSIGNMENT1_DATA\n",
    "import glob\n",
    "from __future__ import print_function\n",
    "from ipywidgets import interact, interactive, fixed, interact_manual\n",
    "import ipywidgets as widgets"
   ]
  },
  {
   "cell_type": "markdown",
   "metadata": {},
   "source": [
    "# Data preparation"
   ]
  },
  {
   "cell_type": "markdown",
   "metadata": {},
   "source": [
    "## Data from TU "
   ]
  },
  {
   "cell_type": "markdown",
   "metadata": {},
   "source": [
    "To begin with, upload TUs credit information from the relevant quarter (which is 2018Q3). This data is available in our `s3` path under the name `tu_gen_data2018Q3.parquet`. To get to our `s3` path import `DATA_FILES_PATH` from `pagayapro.paths.data_paths`"
   ]
  },
  {
   "cell_type": "code",
   "execution_count": 3,
   "metadata": {
    "tags": []
   },
   "outputs": [],
   "source": [
    "from pagayapro.paths.data_paths import DATA_FILES_PATH"
   ]
  },
  {
   "cell_type": "markdown",
   "metadata": {},
   "source": [
    "read the parquet file from `s3`. Only read the columns [\"sequence_num\", \"credit_score\", \"listing_term\", \"int_rate\", \"loan_amnt\", \"monthly_pmt\", \"original_state\"]"
   ]
  },
  {
   "cell_type": "code",
   "execution_count": 4,
   "metadata": {
    "tags": []
   },
   "outputs": [],
   "source": [
    "tu_data= pd.read_parquet(\n",
    "    os.path.join(DATA_FILES_PATH,\"tu_gen_data_2018Q3.parquet\"),\n",
    "                columns = [\"sequence_num\", \"credit_score\", \n",
    "                           \"listing_term\", \"int_rate\" ,\n",
    "                           \"loan_amnt\", \"monthly_pmt\", \n",
    "                           \"original_state\"])"
   ]
  },
  {
   "cell_type": "markdown",
   "metadata": {},
   "source": [
    "Output the first 5 rows of tu_data"
   ]
  },
  {
   "cell_type": "code",
   "execution_count": 5,
   "metadata": {},
   "outputs": [
    {
     "data": {
      "text/html": [
       "<div>\n",
       "<style scoped>\n",
       "    .dataframe tbody tr th:only-of-type {\n",
       "        vertical-align: middle;\n",
       "    }\n",
       "\n",
       "    .dataframe tbody tr th {\n",
       "        vertical-align: top;\n",
       "    }\n",
       "\n",
       "    .dataframe thead th {\n",
       "        text-align: right;\n",
       "    }\n",
       "</style>\n",
       "<table border=\"1\" class=\"dataframe\">\n",
       "  <thead>\n",
       "    <tr style=\"text-align: right;\">\n",
       "      <th></th>\n",
       "      <th>sequence_num</th>\n",
       "      <th>credit_score</th>\n",
       "      <th>listing_term</th>\n",
       "      <th>int_rate</th>\n",
       "      <th>loan_amnt</th>\n",
       "      <th>monthly_pmt</th>\n",
       "      <th>original_state</th>\n",
       "    </tr>\n",
       "    <tr>\n",
       "      <th>id</th>\n",
       "      <th></th>\n",
       "      <th></th>\n",
       "      <th></th>\n",
       "      <th></th>\n",
       "      <th></th>\n",
       "      <th></th>\n",
       "      <th></th>\n",
       "    </tr>\n",
       "  </thead>\n",
       "  <tbody>\n",
       "    <tr>\n",
       "      <th>adf5219e4cb985352184eb7fa597737e4a9777f7354f7a8a58270da147792561</th>\n",
       "      <td>d0820401b209782dae4284b3dd96b41e08c3e8566fbb33...</td>\n",
       "      <td>814</td>\n",
       "      <td>36.0</td>\n",
       "      <td>7.86</td>\n",
       "      <td>5500.0</td>\n",
       "      <td>172.0</td>\n",
       "      <td>MI</td>\n",
       "    </tr>\n",
       "    <tr>\n",
       "      <th>0a0f130443af4c6597bb074942970eaddeb125d398e2cca42175c56befc8a171</th>\n",
       "      <td>2f05cd66cb998e5e55f6f296344b271b2b89b996c7c037...</td>\n",
       "      <td>800</td>\n",
       "      <td>36.0</td>\n",
       "      <td>7.91</td>\n",
       "      <td>20000.0</td>\n",
       "      <td>626.0</td>\n",
       "      <td>NM</td>\n",
       "    </tr>\n",
       "    <tr>\n",
       "      <th>4ba9c6a38b650ee06b8b88a48621bd363cdf611e63400c6fc4bbffbd1bf20c47</th>\n",
       "      <td>20bdbfaf0006db032d8a4176add08fd4ef45abfb17c474...</td>\n",
       "      <td>653</td>\n",
       "      <td>36.0</td>\n",
       "      <td>30.51</td>\n",
       "      <td>3674.0</td>\n",
       "      <td>157.0</td>\n",
       "      <td>SD</td>\n",
       "    </tr>\n",
       "    <tr>\n",
       "      <th>dae3a344292e07d4b8935a453c37aef01303f21b2f37ccbd1c4408f158533acb</th>\n",
       "      <td>53084498c6bf053a4d1cf309e1b8ec234e503bb1a3dd4e...</td>\n",
       "      <td>623</td>\n",
       "      <td>60.0</td>\n",
       "      <td>23.46</td>\n",
       "      <td>14056.0</td>\n",
       "      <td>400.0</td>\n",
       "      <td>NC</td>\n",
       "    </tr>\n",
       "    <tr>\n",
       "      <th>8af2ae2462d012e4d85aa687a16a4f5fb64525928235da43c795f73dc0cadd04</th>\n",
       "      <td>f750c4ecac12ae1c156998ed3dff3f46d2d19f37250074...</td>\n",
       "      <td>627</td>\n",
       "      <td>60.0</td>\n",
       "      <td>25.55</td>\n",
       "      <td>8659.0</td>\n",
       "      <td>257.0</td>\n",
       "      <td>TN</td>\n",
       "    </tr>\n",
       "  </tbody>\n",
       "</table>\n",
       "</div>"
      ],
      "text/plain": [
       "                                                                                         sequence_num  \\\n",
       "id                                                                                                      \n",
       "adf5219e4cb985352184eb7fa597737e4a9777f7354f7a8...  d0820401b209782dae4284b3dd96b41e08c3e8566fbb33...   \n",
       "0a0f130443af4c6597bb074942970eaddeb125d398e2cca...  2f05cd66cb998e5e55f6f296344b271b2b89b996c7c037...   \n",
       "4ba9c6a38b650ee06b8b88a48621bd363cdf611e63400c6...  20bdbfaf0006db032d8a4176add08fd4ef45abfb17c474...   \n",
       "dae3a344292e07d4b8935a453c37aef01303f21b2f37ccb...  53084498c6bf053a4d1cf309e1b8ec234e503bb1a3dd4e...   \n",
       "8af2ae2462d012e4d85aa687a16a4f5fb64525928235da4...  f750c4ecac12ae1c156998ed3dff3f46d2d19f37250074...   \n",
       "\n",
       "                                                    credit_score  \\\n",
       "id                                                                 \n",
       "adf5219e4cb985352184eb7fa597737e4a9777f7354f7a8...           814   \n",
       "0a0f130443af4c6597bb074942970eaddeb125d398e2cca...           800   \n",
       "4ba9c6a38b650ee06b8b88a48621bd363cdf611e63400c6...           653   \n",
       "dae3a344292e07d4b8935a453c37aef01303f21b2f37ccb...           623   \n",
       "8af2ae2462d012e4d85aa687a16a4f5fb64525928235da4...           627   \n",
       "\n",
       "                                                    listing_term  int_rate  \\\n",
       "id                                                                           \n",
       "adf5219e4cb985352184eb7fa597737e4a9777f7354f7a8...          36.0      7.86   \n",
       "0a0f130443af4c6597bb074942970eaddeb125d398e2cca...          36.0      7.91   \n",
       "4ba9c6a38b650ee06b8b88a48621bd363cdf611e63400c6...          36.0     30.51   \n",
       "dae3a344292e07d4b8935a453c37aef01303f21b2f37ccb...          60.0     23.46   \n",
       "8af2ae2462d012e4d85aa687a16a4f5fb64525928235da4...          60.0     25.55   \n",
       "\n",
       "                                                    loan_amnt  monthly_pmt  \\\n",
       "id                                                                           \n",
       "adf5219e4cb985352184eb7fa597737e4a9777f7354f7a8...     5500.0        172.0   \n",
       "0a0f130443af4c6597bb074942970eaddeb125d398e2cca...    20000.0        626.0   \n",
       "4ba9c6a38b650ee06b8b88a48621bd363cdf611e63400c6...     3674.0        157.0   \n",
       "dae3a344292e07d4b8935a453c37aef01303f21b2f37ccb...    14056.0        400.0   \n",
       "8af2ae2462d012e4d85aa687a16a4f5fb64525928235da4...     8659.0        257.0   \n",
       "\n",
       "                                                   original_state  \n",
       "id                                                                 \n",
       "adf5219e4cb985352184eb7fa597737e4a9777f7354f7a8...             MI  \n",
       "0a0f130443af4c6597bb074942970eaddeb125d398e2cca...             NM  \n",
       "4ba9c6a38b650ee06b8b88a48621bd363cdf611e63400c6...             SD  \n",
       "dae3a344292e07d4b8935a453c37aef01303f21b2f37ccb...             NC  \n",
       "8af2ae2462d012e4d85aa687a16a4f5fb64525928235da4...             TN  "
      ]
     },
     "execution_count": 5,
     "metadata": {},
     "output_type": "execute_result"
    }
   ],
   "source": [
    "tu_data.head()"
   ]
  },
  {
   "cell_type": "markdown",
   "metadata": {},
   "source": [
    "## Activation data "
   ]
  },
  {
   "cell_type": "markdown",
   "metadata": {},
   "source": [
    "Your data regarding activation arrives as forms, detailing the loan amount, interest rate offered to the client and whether he or she accepted the offer. These are available on the assignment's `s3` path, which you can import from `pagayapro.path.data_paths` under the name `ASSIGNMENT1_DATA`, in the subdirectory `offers`. Since we are reading multiple files from `s3` we will also import the `s3fs` package which allows us to do just that (similar to `glob`, only for `s3`)."
   ]
  },
  {
   "cell_type": "markdown",
   "metadata": {},
   "source": [
    "Read all files in the subdirectory `offers` of `ASSIGNMENT1_DATA` whose name contains the substring `raleigh`."
   ]
  },
  {
   "cell_type": "code",
   "execution_count": 6,
   "metadata": {
    "tags": []
   },
   "outputs": [],
   "source": [
    "raleigh_forms= (\n",
    "    glob.glob(\n",
    "        os.path.join(ASSIGNMENT1_DATA,\"offers/*raleigh*\")\n",
    "    )\n",
    ")"
   ]
  },
  {
   "cell_type": "markdown",
   "metadata": {},
   "source": [
    "how many forms are there?\n"
   ]
  },
  {
   "cell_type": "code",
   "execution_count": 11,
   "metadata": {},
   "outputs": [
    {
     "data": {
      "text/plain": [
       "769"
      ]
     },
     "execution_count": 11,
     "metadata": {},
     "output_type": "execute_result"
    }
   ],
   "source": [
    "# number of forms:\n",
    "len(raleigh_forms)"
   ]
  },
  {
   "cell_type": "markdown",
   "metadata": {},
   "source": [
    "Read all the form files and create a table which contains only the last offer given to each borrower. Call this dataframe `raleigh_df`."
   ]
  },
  {
   "cell_type": "code",
   "execution_count": 8,
   "metadata": {},
   "outputs": [],
   "source": [
    "raleigh_df= pd.concat(map(pd.read_csv,raleigh_forms))\n",
    "raleigh_df_no_dup=raleigh_df.sort_values(by='offer_date').groupby('id').last()"
   ]
  },
  {
   "cell_type": "markdown",
   "metadata": {
    "execution": {
     "iopub.execute_input": "2021-07-04T09:43:56.002881Z",
     "iopub.status.busy": "2021-07-04T09:43:56.002602Z",
     "iopub.status.idle": "2021-07-04T09:43:56.037934Z",
     "shell.execute_reply": "2021-07-04T09:43:56.036868Z",
     "shell.execute_reply.started": "2021-07-04T09:43:56.002855Z"
    }
   },
   "source": [
    "How many rows are there in your table? How many distict ids?"
   ]
  },
  {
   "cell_type": "code",
   "execution_count": 10,
   "metadata": {},
   "outputs": [
    {
     "data": {
      "text/plain": [
       "8792"
      ]
     },
     "execution_count": 10,
     "metadata": {},
     "output_type": "execute_result"
    }
   ],
   "source": [
    "# numbers of rows:\n",
    "len(raleigh_df_no_dup)"
   ]
  },
  {
   "cell_type": "code",
   "execution_count": 15,
   "metadata": {},
   "outputs": [
    {
     "data": {
      "text/plain": [
       "8792"
      ]
     },
     "execution_count": 15,
     "metadata": {},
     "output_type": "execute_result"
    }
   ],
   "source": [
    "# number of distinct id:\n",
    "len(raleigh_df_no_dup.index.unique())"
   ]
  },
  {
   "cell_type": "markdown",
   "metadata": {},
   "source": [
    "How can you explain the duplicate ids? Sample 5 ids with multiple lines and display them."
   ]
  },
  {
   "cell_type": "markdown",
   "metadata": {},
   "source": [
    "*Answer:* Because we groupby the data, we don't have duplicate ids."
   ]
  },
  {
   "cell_type": "markdown",
   "metadata": {},
   "source": [
    "Drop all lines in the dataframe which contain irrelevant information."
   ]
  },
  {
   "cell_type": "code",
   "execution_count": 16,
   "metadata": {},
   "outputs": [
    {
     "data": {
      "text/html": [
       "<div>\n",
       "<style scoped>\n",
       "    .dataframe tbody tr th:only-of-type {\n",
       "        vertical-align: middle;\n",
       "    }\n",
       "\n",
       "    .dataframe tbody tr th {\n",
       "        vertical-align: top;\n",
       "    }\n",
       "\n",
       "    .dataframe thead th {\n",
       "        text-align: right;\n",
       "    }\n",
       "</style>\n",
       "<table border=\"1\" class=\"dataframe\">\n",
       "  <thead>\n",
       "    <tr style=\"text-align: right;\">\n",
       "      <th></th>\n",
       "      <th>requested_amount</th>\n",
       "      <th>offered_interest_rate</th>\n",
       "    </tr>\n",
       "  </thead>\n",
       "  <tbody>\n",
       "    <tr>\n",
       "      <th>count</th>\n",
       "      <td>8792.000000</td>\n",
       "      <td>8792.000000</td>\n",
       "    </tr>\n",
       "    <tr>\n",
       "      <th>mean</th>\n",
       "      <td>11752.396724</td>\n",
       "      <td>15.524285</td>\n",
       "    </tr>\n",
       "    <tr>\n",
       "      <th>std</th>\n",
       "      <td>9534.989444</td>\n",
       "      <td>7.641190</td>\n",
       "    </tr>\n",
       "    <tr>\n",
       "      <th>min</th>\n",
       "      <td>500.000000</td>\n",
       "      <td>1.100000</td>\n",
       "    </tr>\n",
       "    <tr>\n",
       "      <th>25%</th>\n",
       "      <td>5000.000000</td>\n",
       "      <td>9.850000</td>\n",
       "    </tr>\n",
       "    <tr>\n",
       "      <th>50%</th>\n",
       "      <td>9600.000000</td>\n",
       "      <td>13.470000</td>\n",
       "    </tr>\n",
       "    <tr>\n",
       "      <th>75%</th>\n",
       "      <td>15000.000000</td>\n",
       "      <td>19.470000</td>\n",
       "    </tr>\n",
       "    <tr>\n",
       "      <th>max</th>\n",
       "      <td>200200.000000</td>\n",
       "      <td>39.990000</td>\n",
       "    </tr>\n",
       "  </tbody>\n",
       "</table>\n",
       "</div>"
      ],
      "text/plain": [
       "       requested_amount  offered_interest_rate\n",
       "count       8792.000000            8792.000000\n",
       "mean       11752.396724              15.524285\n",
       "std         9534.989444               7.641190\n",
       "min          500.000000               1.100000\n",
       "25%         5000.000000               9.850000\n",
       "50%         9600.000000              13.470000\n",
       "75%        15000.000000              19.470000\n",
       "max       200200.000000              39.990000"
      ]
     },
     "execution_count": 16,
     "metadata": {},
     "output_type": "execute_result"
    }
   ],
   "source": [
    "raleigh_df_no_dup.describe()"
   ]
  },
  {
   "cell_type": "markdown",
   "metadata": {},
   "source": [
    "We didn't find irrelevant information. As you can see teh range of requested_amount and offered_interest_rate looks acceptable. "
   ]
  },
  {
   "cell_type": "markdown",
   "metadata": {},
   "source": [
    "What is the average interest rate offered to clients? What is the average among clients who accepted the offer?"
   ]
  },
  {
   "cell_type": "code",
   "execution_count": 17,
   "metadata": {
    "tags": []
   },
   "outputs": [
    {
     "data": {
      "text/plain": [
       "15.524284576888082"
      ]
     },
     "execution_count": 17,
     "metadata": {},
     "output_type": "execute_result"
    }
   ],
   "source": [
    "# average interest rate offered to clients:\n",
    "raleigh_df_no_dup['offered_interest_rate'].mean()"
   ]
  },
  {
   "cell_type": "code",
   "execution_count": 18,
   "metadata": {},
   "outputs": [
    {
     "data": {
      "text/plain": [
       "15.307480314960628"
      ]
     },
     "execution_count": 18,
     "metadata": {},
     "output_type": "execute_result"
    }
   ],
   "source": [
    "# average intrest rate among clients who accepted the offer\n",
    "raleigh_df_no_dup[raleigh_df_no_dup['offer_accepted']==True]['offered_interest_rate'].mean()"
   ]
  },
  {
   "cell_type": "markdown",
   "metadata": {},
   "source": [
    "What is the percentage of activation in this dataframe?"
   ]
  },
  {
   "cell_type": "code",
   "execution_count": 19,
   "metadata": {},
   "outputs": [
    {
     "data": {
      "text/plain": [
       "0.08666969972702457"
      ]
     },
     "execution_count": 19,
     "metadata": {},
     "output_type": "execute_result"
    }
   ],
   "source": [
    "# percentage of activation\n",
    "raleigh_df_no_dup['offer_accepted'].sum()/len(raleigh_df_no_dup)"
   ]
  },
  {
   "cell_type": "markdown",
   "metadata": {},
   "source": [
    "Enrich your dataframe with additioanl TU features by merging it with the `tu_data` df. Note that the two dataframe share the `id` and `sequence_num` features."
   ]
  },
  {
   "cell_type": "code",
   "execution_count": 21,
   "metadata": {},
   "outputs": [],
   "source": [
    "enriched_raleigh = raleigh_df_no_dup.merge(tu_data,on=['id','sequence_num'])"
   ]
  },
  {
   "cell_type": "code",
   "execution_count": 22,
   "metadata": {},
   "outputs": [
    {
     "data": {
      "text/html": [
       "<div>\n",
       "<style scoped>\n",
       "    .dataframe tbody tr th:only-of-type {\n",
       "        vertical-align: middle;\n",
       "    }\n",
       "\n",
       "    .dataframe tbody tr th {\n",
       "        vertical-align: top;\n",
       "    }\n",
       "\n",
       "    .dataframe thead th {\n",
       "        text-align: right;\n",
       "    }\n",
       "</style>\n",
       "<table border=\"1\" class=\"dataframe\">\n",
       "  <thead>\n",
       "    <tr style=\"text-align: right;\">\n",
       "      <th></th>\n",
       "      <th>requested_amount</th>\n",
       "      <th>offered_interest_rate</th>\n",
       "      <th>credit_score</th>\n",
       "      <th>listing_term</th>\n",
       "      <th>int_rate</th>\n",
       "      <th>loan_amnt</th>\n",
       "      <th>monthly_pmt</th>\n",
       "    </tr>\n",
       "  </thead>\n",
       "  <tbody>\n",
       "    <tr>\n",
       "      <th>count</th>\n",
       "      <td>8792.000000</td>\n",
       "      <td>8792.000000</td>\n",
       "      <td>8792.000000</td>\n",
       "      <td>8792.000000</td>\n",
       "      <td>8792.000000</td>\n",
       "      <td>8792.000000</td>\n",
       "      <td>8792.000000</td>\n",
       "    </tr>\n",
       "    <tr>\n",
       "      <th>mean</th>\n",
       "      <td>11752.396724</td>\n",
       "      <td>15.524285</td>\n",
       "      <td>689.821542</td>\n",
       "      <td>46.635123</td>\n",
       "      <td>15.524285</td>\n",
       "      <td>11752.396724</td>\n",
       "      <td>329.570632</td>\n",
       "    </tr>\n",
       "    <tr>\n",
       "      <th>std</th>\n",
       "      <td>9534.989444</td>\n",
       "      <td>7.641190</td>\n",
       "      <td>71.800569</td>\n",
       "      <td>11.922805</td>\n",
       "      <td>7.641190</td>\n",
       "      <td>9534.989444</td>\n",
       "      <td>245.744085</td>\n",
       "    </tr>\n",
       "    <tr>\n",
       "      <th>min</th>\n",
       "      <td>500.000000</td>\n",
       "      <td>1.100000</td>\n",
       "      <td>1.000000</td>\n",
       "      <td>36.000000</td>\n",
       "      <td>1.100000</td>\n",
       "      <td>500.000000</td>\n",
       "      <td>18.000000</td>\n",
       "    </tr>\n",
       "    <tr>\n",
       "      <th>25%</th>\n",
       "      <td>5000.000000</td>\n",
       "      <td>9.850000</td>\n",
       "      <td>645.000000</td>\n",
       "      <td>36.000000</td>\n",
       "      <td>9.850000</td>\n",
       "      <td>5000.000000</td>\n",
       "      <td>159.000000</td>\n",
       "    </tr>\n",
       "    <tr>\n",
       "      <th>50%</th>\n",
       "      <td>9600.000000</td>\n",
       "      <td>13.470000</td>\n",
       "      <td>688.000000</td>\n",
       "      <td>36.000000</td>\n",
       "      <td>13.470000</td>\n",
       "      <td>9600.000000</td>\n",
       "      <td>256.000000</td>\n",
       "    </tr>\n",
       "    <tr>\n",
       "      <th>75%</th>\n",
       "      <td>15000.000000</td>\n",
       "      <td>19.470000</td>\n",
       "      <td>735.000000</td>\n",
       "      <td>60.000000</td>\n",
       "      <td>19.470000</td>\n",
       "      <td>15000.000000</td>\n",
       "      <td>428.000000</td>\n",
       "    </tr>\n",
       "    <tr>\n",
       "      <th>max</th>\n",
       "      <td>200200.000000</td>\n",
       "      <td>39.990000</td>\n",
       "      <td>845.000000</td>\n",
       "      <td>60.000000</td>\n",
       "      <td>39.990000</td>\n",
       "      <td>200200.000000</td>\n",
       "      <td>3894.000000</td>\n",
       "    </tr>\n",
       "  </tbody>\n",
       "</table>\n",
       "</div>"
      ],
      "text/plain": [
       "       requested_amount  offered_interest_rate  credit_score  listing_term  \\\n",
       "count       8792.000000            8792.000000   8792.000000   8792.000000   \n",
       "mean       11752.396724              15.524285    689.821542     46.635123   \n",
       "std         9534.989444               7.641190     71.800569     11.922805   \n",
       "min          500.000000               1.100000      1.000000     36.000000   \n",
       "25%         5000.000000               9.850000    645.000000     36.000000   \n",
       "50%         9600.000000              13.470000    688.000000     36.000000   \n",
       "75%        15000.000000              19.470000    735.000000     60.000000   \n",
       "max       200200.000000              39.990000    845.000000     60.000000   \n",
       "\n",
       "          int_rate      loan_amnt  monthly_pmt  \n",
       "count  8792.000000    8792.000000  8792.000000  \n",
       "mean     15.524285   11752.396724   329.570632  \n",
       "std       7.641190    9534.989444   245.744085  \n",
       "min       1.100000     500.000000    18.000000  \n",
       "25%       9.850000    5000.000000   159.000000  \n",
       "50%      13.470000    9600.000000   256.000000  \n",
       "75%      19.470000   15000.000000   428.000000  \n",
       "max      39.990000  200200.000000  3894.000000  "
      ]
     },
     "execution_count": 22,
     "metadata": {},
     "output_type": "execute_result"
    }
   ],
   "source": [
    "enriched_raleigh.describe()"
   ]
  },
  {
   "cell_type": "markdown",
   "metadata": {},
   "source": [
    "What is the average credit score of the clients? What is the average among clients who accepted the offer?"
   ]
  },
  {
   "cell_type": "code",
   "execution_count": 23,
   "metadata": {},
   "outputs": [
    {
     "data": {
      "text/plain": [
       "689.821542311192"
      ]
     },
     "execution_count": 23,
     "metadata": {},
     "output_type": "execute_result"
    }
   ],
   "source": [
    "# average credit score of the clients\n",
    "enriched_raleigh['credit_score'].mean()"
   ]
  },
  {
   "cell_type": "code",
   "execution_count": 24,
   "metadata": {},
   "outputs": [
    {
     "data": {
      "text/plain": [
       "702.5446194225722"
      ]
     },
     "execution_count": 24,
     "metadata": {},
     "output_type": "execute_result"
    }
   ],
   "source": [
    "# average credit score among clients who accepted the offe\n",
    "enriched_raleigh[enriched_raleigh['offer_accepted']]['credit_score'].mean()"
   ]
  },
  {
   "cell_type": "markdown",
   "metadata": {},
   "source": [
    "# Validations"
   ]
  },
  {
   "cell_type": "markdown",
   "metadata": {},
   "source": [
    "Before we embark on a statistical test, let's do some validations to make sure that the Raleig sample is not somehow distinct from the general population. Our random sample from the general population is the TU data."
   ]
  },
  {
   "cell_type": "markdown",
   "metadata": {},
   "source": [
    "Create a histogram to describe the distribution of requested loan amounts in Raleigh and in the general population. Do the distributions look similar? (A good rule-of-thumb for the number of bins to use is the square-root of the number of unique value.)"
   ]
  },
  {
   "cell_type": "code",
   "execution_count": 26,
   "metadata": {},
   "outputs": [
    {
     "data": {
      "text/plain": [
       "Text(0, 0.5, 'Density')"
      ]
     },
     "execution_count": 26,
     "metadata": {},
     "output_type": "execute_result"
    },
    {
     "data": {
      "image/png": "[encoded data removed]",
      "text/plain": [
       "<Figure size 576x432 with 1 Axes>"
      ]
     },
     "metadata": {
      "needs_background": "light"
     },
     "output_type": "display_data"
    }
   ],
   "source": [
    "bins=round(len(enriched_raleigh['loan_amnt'].unique())**0.5)\n",
    "bins1=round(len(tu_data['loan_amnt'].unique())**0.5)\n",
    "\n",
    "plt.figure(figsize=(8,6))\n",
    "plt.hist(enriched_raleigh['loan_amnt'], bins=bins, alpha=0.5, label=\"Raleigh\",density=True,range=(0,100000))\n",
    "plt.hist(tu_data['loan_amnt'], bins=bins1, alpha=0.5, label=\"tu_data\",density=True,range=(0,100000))\n",
    "plt.legend()\n",
    "plt.xlabel(\"loan amount\", size=14)\n",
    "plt.ylabel(\"Density\", size=14)"
   ]
  },
  {
   "cell_type": "markdown",
   "metadata": {},
   "source": [
    "Describe the loan amount distribution using `sns.distplot` in the Raleigh dataframe and in TU."
   ]
  },
  {
   "cell_type": "code",
   "execution_count": 47,
   "metadata": {},
   "outputs": [
    {
     "data": {
      "image/png": "[encoded data removed]",
      "text/plain": [
       "<Figure size 432x288 with 1 Axes>"
      ]
     },
     "metadata": {
      "needs_background": "light"
     },
     "output_type": "display_data"
    }
   ],
   "source": [
    "sns.distplot(enriched_raleigh['loan_amnt'],label='Raleigh')\n",
    "sns.distplot(tu_data['loan_amnt'],label='tu data')\n",
    "plt.legend()\n",
    "plt.show()"
   ]
  },
  {
   "cell_type": "code",
   "execution_count": null,
   "metadata": {},
   "outputs": [],
   "source": []
  },
  {
   "cell_type": "markdown",
   "metadata": {},
   "source": [
    "We also want to verify that the offered interest rate in Raleigh seem similar to those in the general population. \n",
    "Create a histogram to describe the distribution of offered interest rates in Raleigh and interest rates in the general population. Do the distributions look similar?"
   ]
  },
  {
   "cell_type": "code",
   "execution_count": 45,
   "metadata": {},
   "outputs": [
    {
     "data": {
      "text/plain": [
       "Text(0, 0.5, 'Density')"
      ]
     },
     "execution_count": 45,
     "metadata": {},
     "output_type": "execute_result"
    },
    {
     "data": {
      "image/png": "[encoded data removed]",
      "text/plain": [
       "<Figure size 576x432 with 1 Axes>"
      ]
     },
     "metadata": {
      "needs_background": "light"
     },
     "output_type": "display_data"
    }
   ],
   "source": [
    "bins=round(len(enriched_raleigh['int_rate'].unique())**0.5)\n",
    "bins1=round(len(tu_data['int_rate'].unique())**0.5)\n",
    "plt.figure(figsize=(8,6))\n",
    "plt.hist(enriched_raleigh['int_rate'], bins=bins, alpha=0.5, label=\"Raleigh\",density=True)\n",
    "plt.hist(tu_data['int_rate'], bins=bins1, alpha=0.5, label=\"tu_data\",density=True)\n",
    "plt.legend()\n",
    "plt.xlabel(\"intrest rate\", size=14)\n",
    "plt.ylabel(\"Density\", size=14)"
   ]
  },
  {
   "cell_type": "markdown",
   "metadata": {},
   "source": [
    "Describe the interest rate distribution using `sns.distplot` in the Raleigh dataframe and in TU."
   ]
  },
  {
   "cell_type": "code",
   "execution_count": 46,
   "metadata": {},
   "outputs": [
    {
     "data": {
      "image/png": "[encoded data removed]",
      "text/plain": [
       "<Figure size 432x288 with 1 Axes>"
      ]
     },
     "metadata": {
      "needs_background": "light"
     },
     "output_type": "display_data"
    }
   ],
   "source": [
    "sns.distplot(enriched_raleigh['int_rate'],label='Raleigh')\n",
    "sns.distplot(tu_data['int_rate'],label='tu data')\n",
    "plt.legend()\n",
    "plt.show()"
   ]
  },
  {
   "cell_type": "markdown",
   "metadata": {},
   "source": [
    "Additionally, we want to make sure the credit scores are not visibly different in Raleigh from the general population, as this might mean that the data we obtained from the town might not be representative of the general popuation."
   ]
  },
  {
   "cell_type": "markdown",
   "metadata": {},
   "source": [
    "Create a histogram to describe the distribution of credit scores in the Raleigh sample and in the general population. Do the distributions look similar? How many bins did you use?"
   ]
  },
  {
   "cell_type": "code",
   "execution_count": 48,
   "metadata": {},
   "outputs": [
    {
     "data": {
      "text/plain": [
       "Text(0, 0.5, 'Density')"
      ]
     },
     "execution_count": 48,
     "metadata": {},
     "output_type": "execute_result"
    },
    {
     "data": {
      "image/png": "[encoded data removed]",
      "text/plain": [
       "<Figure size 576x432 with 1 Axes>"
      ]
     },
     "metadata": {
      "needs_background": "light"
     },
     "output_type": "display_data"
    }
   ],
   "source": [
    "bins=round(len(enriched_raleigh['credit_score'].unique())**0.5)\n",
    "bins1=round(len(tu_data['credit_score'].unique())**0.5)\n",
    "\n",
    "plt.figure(figsize=(8,6))\n",
    "plt.hist(enriched_raleigh['credit_score'], bins=bins, alpha=0.5, label=\"Raleigh\",density=True)\n",
    "plt.hist(tu_data['credit_score'], bins=bins1, alpha=0.5, label=\"tu_data\",density=True)\n",
    "plt.legend()\n",
    "plt.xlabel(\"credit_score\", size=14)\n",
    "plt.ylabel(\"Density\", size=14)"
   ]
  },
  {
   "cell_type": "markdown",
   "metadata": {},
   "source": [
    "Describe the credit score distribution using `sns.distplot`  in the Raleigh dataframe and in TU."
   ]
  },
  {
   "cell_type": "code",
   "execution_count": 49,
   "metadata": {},
   "outputs": [
    {
     "data": {
      "image/png": "[encoded data removed]",
      "text/plain": [
       "<Figure size 432x288 with 1 Axes>"
      ]
     },
     "metadata": {
      "needs_background": "light"
     },
     "output_type": "display_data"
    }
   ],
   "source": [
    "sns.distplot(enriched_raleigh['credit_score'],label='Raleigh')\n",
    "sns.distplot(tu_data['credit_score'],label='tu data')\n",
    "plt.legend()\n",
    "plt.show()"
   ]
  },
  {
   "cell_type": "markdown",
   "metadata": {
    "execution": {
     "iopub.execute_input": "2021-07-04T09:43:56.046655Z",
     "iopub.status.busy": "2021-07-04T09:43:56.046389Z",
     "iopub.status.idle": "2021-07-04T09:43:56.393501Z",
     "shell.execute_reply": "2021-07-04T09:43:56.392695Z",
     "shell.execute_reply.started": "2021-07-04T09:43:56.046630Z"
    }
   },
   "source": [
    "Finally, check whether the loans in both datasets have similar distributions of term (i.e. the amount of months the borrower takes the loan for). What values of term exist in the data?"
   ]
  },
  {
   "cell_type": "code",
   "execution_count": 52,
   "metadata": {},
   "outputs": [
    {
     "data": {
      "text/plain": [
       "36.0    542102\n",
       "60.0    430621\n",
       "Name: listing_term, dtype: int64"
      ]
     },
     "execution_count": 52,
     "metadata": {},
     "output_type": "execute_result"
    }
   ],
   "source": [
    "tu_data['listing_term'].value_counts()"
   ]
  },
  {
   "cell_type": "code",
   "execution_count": 53,
   "metadata": {},
   "outputs": [
    {
     "data": {
      "text/plain": [
       "36.0    4896\n",
       "60.0    3896\n",
       "Name: listing_term, dtype: int64"
      ]
     },
     "execution_count": 53,
     "metadata": {},
     "output_type": "execute_result"
    }
   ],
   "source": [
    "enriched_raleigh['listing_term'].value_counts()"
   ]
  },
  {
   "cell_type": "markdown",
   "metadata": {},
   "source": [
    "# CLT in action"
   ]
  },
  {
   "cell_type": "markdown",
   "metadata": {},
   "source": [
    "One more thing before we start the test. Our goal is to check whether, for which we'll run some statistical test (you probably already know which) which checks if something belongs to a noraml distribution with some mean and some variance. But... is activation normally distributed in the Raliegh sample? "
   ]
  },
  {
   "cell_type": "markdown",
   "metadata": {
    "tags": []
   },
   "source": [
    "#+2 points if you answer without plotting\n",
    "\n",
    "*Answer:* No, activation follows a Bernolli distribution. "
   ]
  },
  {
   "cell_type": "markdown",
   "metadata": {},
   "source": [
    "The reason why we can assume normality is because we're checking averages of samples and we're relying on the Central Limit Theorem. We won't prove the theorem, but let's test it for a bit. "
   ]
  },
  {
   "cell_type": "markdown",
   "metadata": {},
   "source": [
    "Write a function which takes a pandas series S and a natural number n and creates a series of means of samples (with replacement) of n entries from S. Decide for yourself on the length of the output series. You can also use a different data structure if you find it more suitable as the output."
   ]
  },
  {
   "cell_type": "code",
   "execution_count": 124,
   "metadata": {},
   "outputs": [],
   "source": [
    "def clt(S, n, m=1000):\n",
    "    indices = np.random.randint(len(S),size=(n,m))\n",
    "    return pd.Series(S.values[indices].mean(axis=0))"
   ]
  },
  {
   "cell_type": "code",
   "execution_count": 120,
   "metadata": {},
   "outputs": [
    {
     "data": {
      "text/plain": [
       "<matplotlib.axes._subplots.AxesSubplot at 0x7f1b39728ac0>"
      ]
     },
     "execution_count": 120,
     "metadata": {},
     "output_type": "execute_result"
    },
    {
     "data": {
      "image/png": "[encoded data removed]",
      "text/plain": [
       "<Figure size 432x288 with 1 Axes>"
      ]
     },
     "metadata": {
      "needs_background": "light"
     },
     "output_type": "display_data"
    }
   ],
   "source": [
    "# example for clt:\n",
    "\n",
    "S=pd.Series(np.random.randint(1000,size=10000))\n",
    "clt(S, 1000000).hist(bins=50)"
   ]
  },
  {
   "cell_type": "markdown",
   "metadata": {},
   "source": [
    "Optionally- also create a function which, given the same input as above, plots a histogram of the series of means, and also indicates the mean of this series."
   ]
  },
  {
   "cell_type": "code",
   "execution_count": 125,
   "metadata": {},
   "outputs": [],
   "source": [
    "def clt_with_plot(S, n,m=1000):\n",
    "    res = clt(S,n,m)\n",
    "    avg = res.mean()\n",
    "    sns.distplot(res).set(title='The mean is {}'.format(avg))\n",
    "    return res.mean()"
   ]
  },
  {
   "cell_type": "code",
   "execution_count": 122,
   "metadata": {},
   "outputs": [
    {
     "data": {
      "text/plain": [
       "503.18321086"
      ]
     },
     "execution_count": 122,
     "metadata": {},
     "output_type": "execute_result"
    },
    {
     "data": {
      "image/png": "[encoded data removed]",
      "text/plain": [
       "<Figure size 432x288 with 1 Axes>"
      ]
     },
     "metadata": {
      "needs_background": "light"
     },
     "output_type": "display_data"
    }
   ],
   "source": [
    "# example for clt_with_plot:\n",
    "\n",
    "S=pd.Series(np.random.randint(1000,size=10000))\n",
    "clt_with_plot(S, 100000)"
   ]
  },
  {
   "cell_type": "markdown",
   "metadata": {},
   "source": [
    "Generate plots of the series of means of activation in Raleigh and in TU for n = 1, 2, 5, 10, 100, 1000 and 1e6, and indicate their means. Does the distribution approach a normal distribution as $n\\to\\infty$ in your opinion?"
   ]
  },
  {
   "cell_type": "code",
   "execution_count": 59,
   "metadata": {},
   "outputs": [
    {
     "data": {
      "application/vnd.jupyter.widget-view+json": {
       "model_id": "61c885a25cb741a3b002bbbc522cc67c",
       "version_major": 2,
       "version_minor": 0
      },
      "text/plain": [
       "interactive(children=(Dropdown(description='n', options=(1, 2, 5, 10, 100, 1000, 1000000), value=1), Output())…"
      ]
     },
     "metadata": {},
     "output_type": "display_data"
    }
   ],
   "source": [
    "n_val = [1,2,5,10,100,1000,1000000]\n",
    "\n",
    "S = raleigh_df_no_dup['offer_accepted']\n",
    "\n",
    "interact(clt_with_plot,S=fixed(S) ,n=n_val);"
   ]
  },
  {
   "cell_type": "markdown",
   "metadata": {},
   "source": [
    "Now that your fuction is ready, it's time to make it part of our infrastucture:\n",
    "* Inside the `pagayapro` repo, create a branch called `feature/{your_user_name}/clt_tester/`.\n",
    "* Create a file called `clt.py` inside `~/pagayapro/users/{user_name}/assignment1/` \n",
    "* Copy the two finctions you just created into the file.\n",
    "* Push your file to `main`, open a PR and ask your mentor to review it. Once approved, rebase and merge."
   ]
  },
  {
   "cell_type": "code",
   "execution_count": 61,
   "metadata": {},
   "outputs": [],
   "source": [
    "from clt import clt_with_plot"
   ]
  },
  {
   "cell_type": "markdown",
   "metadata": {},
   "source": [
    "# Statistical test "
   ]
  },
  {
   "cell_type": "markdown",
   "metadata": {},
   "source": [
    "As mentioned in the Notion doc, the activation in Raleigh before deployment was measured at 6.85%. In this section, you will run a test to check whether the activation in Raleigh is indeed different following the flyer program. "
   ]
  },
  {
   "cell_type": "markdown",
   "metadata": {},
   "source": [
    "Run a statistical test to check whether the current activation rate in Raleigh is different from 6,85%:\n",
    "1. What are your hypotheses?\n",
    "2. Setting your confidence level at 95%, what is the probability of an error of type I in your test? What is the probability of a type II error? What is the power of your test?\n",
    "3. Is the sample mean significantly different from the past value of 6.85?\n",
    "4. Interpret your results. Can you declare the program as successful in increasing activation (what is the probability of wrongfully declaring it successful)?\n",
    "5. Are there any other possible explanations for the change in activation that you observed? Discuss the possible drawbacks of our current test.\n",
    "\n",
    "Use `proportions_ztestz` from `statsmodels.stats.proportion` in order to perform the test. Are your results significant?"
   ]
  },
  {
   "cell_type": "markdown",
   "metadata": {},
   "source": [
    "2. Setting your confidence level at 95%:\n",
    " \n",
    "     - what is the probability of an error of type I in your test? \n",
    " \n",
    "     The probability of type I error in our tet is 5%\n",
    " \n",
    "     - What is the probability of a type II error? What is the power of your test?\n",
    "    \n",
    "    "
   ]
  },
  {
   "cell_type": "markdown",
   "metadata": {},
   "source": [
    "3. Is the sample mean significantly different from the past value of 6.85?"
   ]
  },
  {
   "cell_type": "code",
   "execution_count": 65,
   "metadata": {},
   "outputs": [],
   "source": [
    "stat, pval = proportions_ztest(raleigh_df_no_dup['offer_accepted'].sum(),len(raleigh_df_no_dup['offer_accepted']),value=0.0685)"
   ]
  },
  {
   "cell_type": "code",
   "execution_count": 66,
   "metadata": {},
   "outputs": [
    {
     "data": {
      "text/plain": [
       "1.4005491742963572e-09"
      ]
     },
     "execution_count": 66,
     "metadata": {},
     "output_type": "execute_result"
    }
   ],
   "source": [
    "pval"
   ]
  },
  {
   "cell_type": "markdown",
   "metadata": {},
   "source": [
    "We get p-value almost equal to zero, therefore we reject $H_0$, according to which the mean is the same - i.e. the sample mean *is* significantly different from the past value."
   ]
  },
  {
   "cell_type": "markdown",
   "metadata": {},
   "source": [
    "4. Interpret your results. Can you declare the program as successful in increasing activation (what is the probability of wrongfully declaring it successful)?\n",
    "\n"
   ]
  },
  {
   "cell_type": "markdown",
   "metadata": {},
   "source": [
    "5. Are there any other possible explanations for the change in activation that you observed? Discuss the possible drawbacks of our current test. Do you see any possible problems in your methodology? What other factors can explain the change in activation, if such a change exists?\n",
    "\n",
    "    *Answer:* In our test we compared data from different times. The change in the mean activation might be caused by changes in economy, changes in how people percieve loans, etc. "
   ]
  },
  {
   "cell_type": "markdown",
   "metadata": {
    "tags": []
   },
   "source": [
    "# A/b test"
   ]
  },
  {
   "cell_type": "markdown",
   "metadata": {},
   "source": [
    "In order to isolate temporal and environmental effects on activation, we'll run an a/b test, comparing the activation rate in Raleigh to that of Lubbock, TX, another town in which Pagaya operates without a flyer program. "
   ]
  },
  {
   "cell_type": "markdown",
   "metadata": {},
   "source": [
    "The activation forms for Lubbock also appear in the `offers` subdirectory of the `ASSIGNMENT1_DATA` folder. Read all files from this folder whose name contains the substring 'lubbock', and create a dataframe of final offers called `lubbock_df`, drop unnecessary rows from it, and enrich it with TU features."
   ]
  },
  {
   "cell_type": "code",
   "execution_count": 67,
   "metadata": {},
   "outputs": [],
   "source": [
    "lubbock_forms= (\n",
    "    glob.glob(\n",
    "        os.path.join(ASSIGNMENT1_DATA,\"offers/*lubbock*\")\n",
    "    )\n",
    ")"
   ]
  },
  {
   "cell_type": "code",
   "execution_count": 68,
   "metadata": {
    "tags": []
   },
   "outputs": [],
   "source": [
    "lubbock_df= pd.concat(map(pd.read_csv,lubbock_forms))"
   ]
  },
  {
   "cell_type": "code",
   "execution_count": 69,
   "metadata": {},
   "outputs": [],
   "source": [
    "lubbock_df_no_dup=lubbock_df.sort_values(by='offer_date').groupby('id').last()"
   ]
  },
  {
   "cell_type": "code",
   "execution_count": 70,
   "metadata": {},
   "outputs": [
    {
     "data": {
      "text/html": [
       "<div>\n",
       "<style scoped>\n",
       "    .dataframe tbody tr th:only-of-type {\n",
       "        vertical-align: middle;\n",
       "    }\n",
       "\n",
       "    .dataframe tbody tr th {\n",
       "        vertical-align: top;\n",
       "    }\n",
       "\n",
       "    .dataframe thead th {\n",
       "        text-align: right;\n",
       "    }\n",
       "</style>\n",
       "<table border=\"1\" class=\"dataframe\">\n",
       "  <thead>\n",
       "    <tr style=\"text-align: right;\">\n",
       "      <th></th>\n",
       "      <th>sequence_num</th>\n",
       "      <th>requested_amount</th>\n",
       "      <th>offered_interest_rate</th>\n",
       "      <th>offer_accepted</th>\n",
       "      <th>offer_date</th>\n",
       "    </tr>\n",
       "    <tr>\n",
       "      <th>id</th>\n",
       "      <th></th>\n",
       "      <th></th>\n",
       "      <th></th>\n",
       "      <th></th>\n",
       "      <th></th>\n",
       "    </tr>\n",
       "  </thead>\n",
       "  <tbody>\n",
       "    <tr>\n",
       "      <th>00081387dcef0fab60c7f9f94669cc6df140531c9e0a55c0e98b55dc5aef08d6</th>\n",
       "      <td>35357872fbcfec327a4c7665f08a98f0dc55eb19969f36...</td>\n",
       "      <td>4070.0</td>\n",
       "      <td>8.24</td>\n",
       "      <td>False</td>\n",
       "      <td>2020-07-10</td>\n",
       "    </tr>\n",
       "    <tr>\n",
       "      <th>00090fdbe1fc33bf53dda546318c248cb6fe4299ad39dd9db2abd4c32ed2e152</th>\n",
       "      <td>6c98c998cb4bd242edbd55164eeed3927372264f8395b8...</td>\n",
       "      <td>5550.0</td>\n",
       "      <td>16.68</td>\n",
       "      <td>False</td>\n",
       "      <td>2020-06-02</td>\n",
       "    </tr>\n",
       "    <tr>\n",
       "      <th>000aa5e29eadd0bd7e2c9649d0ed986af4848895b6a4fa7883c67dd56b5b75ac</th>\n",
       "      <td>921cda1c86bc82347ea8168a894918f8ae857cdbbdb9a5...</td>\n",
       "      <td>25000.0</td>\n",
       "      <td>7.18</td>\n",
       "      <td>False</td>\n",
       "      <td>2019-06-19</td>\n",
       "    </tr>\n",
       "    <tr>\n",
       "      <th>001046cb99ae36567910bdd6fd907622cdc8aefb1689d66339fcb59353be46e2</th>\n",
       "      <td>0637e25695fcabdcec43d21364397793a169bd8b6977ed...</td>\n",
       "      <td>20000.0</td>\n",
       "      <td>6.68</td>\n",
       "      <td>False</td>\n",
       "      <td>2018-02-20</td>\n",
       "    </tr>\n",
       "    <tr>\n",
       "      <th>00176f09e7f3c4c864098d84a1f07e632fcce67f4d8d1b7ae08aabd5961227f3</th>\n",
       "      <td>1448249d369054a06a82acb4003d3daee61574935da0a8...</td>\n",
       "      <td>10000.0</td>\n",
       "      <td>8.99</td>\n",
       "      <td>False</td>\n",
       "      <td>2019-09-27</td>\n",
       "    </tr>\n",
       "    <tr>\n",
       "      <th>...</th>\n",
       "      <td>...</td>\n",
       "      <td>...</td>\n",
       "      <td>...</td>\n",
       "      <td>...</td>\n",
       "      <td>...</td>\n",
       "    </tr>\n",
       "    <tr>\n",
       "      <th>ffd1f19c3e14b4ba2c064010847e0c323bdc392af84a945ee91b0e9f58c16d4d</th>\n",
       "      <td>365577da66c826c4c6730cae6e46000806891e8a42a69e...</td>\n",
       "      <td>3000.0</td>\n",
       "      <td>18.36</td>\n",
       "      <td>False</td>\n",
       "      <td>2019-04-17</td>\n",
       "    </tr>\n",
       "    <tr>\n",
       "      <th>ffe0a054b953d3e19b166077d839dbc2807317446cbb47f0b49f764ce5cb23b9</th>\n",
       "      <td>fed3407c137d244faf74510485b480a6c6fc852b689bef...</td>\n",
       "      <td>5000.0</td>\n",
       "      <td>29.90</td>\n",
       "      <td>False</td>\n",
       "      <td>2020-05-15</td>\n",
       "    </tr>\n",
       "    <tr>\n",
       "      <th>ffe1669cce5b7b2f1cb43f6f44a0ab1a4e2ab73856f6d552d29f551daf460547</th>\n",
       "      <td>d88f12e6b0ba3b34cc1512216eb1694ac8e5386d681cbc...</td>\n",
       "      <td>12000.0</td>\n",
       "      <td>12.83</td>\n",
       "      <td>False</td>\n",
       "      <td>2019-10-30</td>\n",
       "    </tr>\n",
       "    <tr>\n",
       "      <th>fff9e95bc7a7929e3067f4340e58c1dec092451b9934fdbcc5677c7ebadf0462</th>\n",
       "      <td>8b27bbca5a260c5fc94c09ad51e2a779ab78ca03f57a3e...</td>\n",
       "      <td>7786.0</td>\n",
       "      <td>35.33</td>\n",
       "      <td>False</td>\n",
       "      <td>2018-03-22</td>\n",
       "    </tr>\n",
       "    <tr>\n",
       "      <th>fffad2969fd07cce2e6feda2b91c16364d6884c417e05a4e10e279d14a520641</th>\n",
       "      <td>415507afe09d80d6b9aab8373b0c9bc6fac914a967fdbd...</td>\n",
       "      <td>4000.0</td>\n",
       "      <td>23.55</td>\n",
       "      <td>False</td>\n",
       "      <td>2020-11-26</td>\n",
       "    </tr>\n",
       "  </tbody>\n",
       "</table>\n",
       "<p>11320 rows × 5 columns</p>\n",
       "</div>"
      ],
      "text/plain": [
       "                                                                                         sequence_num  \\\n",
       "id                                                                                                      \n",
       "00081387dcef0fab60c7f9f94669cc6df140531c9e0a55c...  35357872fbcfec327a4c7665f08a98f0dc55eb19969f36...   \n",
       "00090fdbe1fc33bf53dda546318c248cb6fe4299ad39dd9...  6c98c998cb4bd242edbd55164eeed3927372264f8395b8...   \n",
       "000aa5e29eadd0bd7e2c9649d0ed986af4848895b6a4fa7...  921cda1c86bc82347ea8168a894918f8ae857cdbbdb9a5...   \n",
       "001046cb99ae36567910bdd6fd907622cdc8aefb1689d66...  0637e25695fcabdcec43d21364397793a169bd8b6977ed...   \n",
       "00176f09e7f3c4c864098d84a1f07e632fcce67f4d8d1b7...  1448249d369054a06a82acb4003d3daee61574935da0a8...   \n",
       "...                                                                                               ...   \n",
       "ffd1f19c3e14b4ba2c064010847e0c323bdc392af84a945...  365577da66c826c4c6730cae6e46000806891e8a42a69e...   \n",
       "ffe0a054b953d3e19b166077d839dbc2807317446cbb47f...  fed3407c137d244faf74510485b480a6c6fc852b689bef...   \n",
       "ffe1669cce5b7b2f1cb43f6f44a0ab1a4e2ab73856f6d55...  d88f12e6b0ba3b34cc1512216eb1694ac8e5386d681cbc...   \n",
       "fff9e95bc7a7929e3067f4340e58c1dec092451b9934fdb...  8b27bbca5a260c5fc94c09ad51e2a779ab78ca03f57a3e...   \n",
       "fffad2969fd07cce2e6feda2b91c16364d6884c417e05a4...  415507afe09d80d6b9aab8373b0c9bc6fac914a967fdbd...   \n",
       "\n",
       "                                                    requested_amount  \\\n",
       "id                                                                     \n",
       "00081387dcef0fab60c7f9f94669cc6df140531c9e0a55c...            4070.0   \n",
       "00090fdbe1fc33bf53dda546318c248cb6fe4299ad39dd9...            5550.0   \n",
       "000aa5e29eadd0bd7e2c9649d0ed986af4848895b6a4fa7...           25000.0   \n",
       "001046cb99ae36567910bdd6fd907622cdc8aefb1689d66...           20000.0   \n",
       "00176f09e7f3c4c864098d84a1f07e632fcce67f4d8d1b7...           10000.0   \n",
       "...                                                              ...   \n",
       "ffd1f19c3e14b4ba2c064010847e0c323bdc392af84a945...            3000.0   \n",
       "ffe0a054b953d3e19b166077d839dbc2807317446cbb47f...            5000.0   \n",
       "ffe1669cce5b7b2f1cb43f6f44a0ab1a4e2ab73856f6d55...           12000.0   \n",
       "fff9e95bc7a7929e3067f4340e58c1dec092451b9934fdb...            7786.0   \n",
       "fffad2969fd07cce2e6feda2b91c16364d6884c417e05a4...            4000.0   \n",
       "\n",
       "                                                    offered_interest_rate  \\\n",
       "id                                                                          \n",
       "00081387dcef0fab60c7f9f94669cc6df140531c9e0a55c...                   8.24   \n",
       "00090fdbe1fc33bf53dda546318c248cb6fe4299ad39dd9...                  16.68   \n",
       "000aa5e29eadd0bd7e2c9649d0ed986af4848895b6a4fa7...                   7.18   \n",
       "001046cb99ae36567910bdd6fd907622cdc8aefb1689d66...                   6.68   \n",
       "00176f09e7f3c4c864098d84a1f07e632fcce67f4d8d1b7...                   8.99   \n",
       "...                                                                   ...   \n",
       "ffd1f19c3e14b4ba2c064010847e0c323bdc392af84a945...                  18.36   \n",
       "ffe0a054b953d3e19b166077d839dbc2807317446cbb47f...                  29.90   \n",
       "ffe1669cce5b7b2f1cb43f6f44a0ab1a4e2ab73856f6d55...                  12.83   \n",
       "fff9e95bc7a7929e3067f4340e58c1dec092451b9934fdb...                  35.33   \n",
       "fffad2969fd07cce2e6feda2b91c16364d6884c417e05a4...                  23.55   \n",
       "\n",
       "                                                    offer_accepted  offer_date  \n",
       "id                                                                              \n",
       "00081387dcef0fab60c7f9f94669cc6df140531c9e0a55c...           False  2020-07-10  \n",
       "00090fdbe1fc33bf53dda546318c248cb6fe4299ad39dd9...           False  2020-06-02  \n",
       "000aa5e29eadd0bd7e2c9649d0ed986af4848895b6a4fa7...           False  2019-06-19  \n",
       "001046cb99ae36567910bdd6fd907622cdc8aefb1689d66...           False  2018-02-20  \n",
       "00176f09e7f3c4c864098d84a1f07e632fcce67f4d8d1b7...           False  2019-09-27  \n",
       "...                                                            ...         ...  \n",
       "ffd1f19c3e14b4ba2c064010847e0c323bdc392af84a945...           False  2019-04-17  \n",
       "ffe0a054b953d3e19b166077d839dbc2807317446cbb47f...           False  2020-05-15  \n",
       "ffe1669cce5b7b2f1cb43f6f44a0ab1a4e2ab73856f6d55...           False  2019-10-30  \n",
       "fff9e95bc7a7929e3067f4340e58c1dec092451b9934fdb...           False  2018-03-22  \n",
       "fffad2969fd07cce2e6feda2b91c16364d6884c417e05a4...           False  2020-11-26  \n",
       "\n",
       "[11320 rows x 5 columns]"
      ]
     },
     "execution_count": 70,
     "metadata": {},
     "output_type": "execute_result"
    }
   ],
   "source": [
    "lubbock_df_no_dup"
   ]
  },
  {
   "cell_type": "markdown",
   "metadata": {},
   "source": [
    "What is the average interest rate in Lubbock? What is it among accepting borrowers?"
   ]
  },
  {
   "cell_type": "code",
   "execution_count": 72,
   "metadata": {
    "tags": []
   },
   "outputs": [
    {
     "data": {
      "text/plain": [
       "15.505397526501767"
      ]
     },
     "execution_count": 72,
     "metadata": {},
     "output_type": "execute_result"
    }
   ],
   "source": [
    "# average interest rate in Lubbock\n",
    "lubbock_df_no_dup['offered_interest_rate'].mean()"
   ]
  },
  {
   "cell_type": "code",
   "execution_count": 73,
   "metadata": {},
   "outputs": [
    {
     "data": {
      "text/plain": [
       "13.553895131086144"
      ]
     },
     "execution_count": 73,
     "metadata": {},
     "output_type": "execute_result"
    }
   ],
   "source": [
    "# average interest rate in Lubbock among acceting borrowers\n",
    "lubbock_df_no_dup[lubbock_df_no_dup['offer_accepted']==True]['offered_interest_rate'].mean()"
   ]
  },
  {
   "cell_type": "markdown",
   "metadata": {},
   "source": [
    "What is the average credit score in Lubbock? What is it among accepting borrowers?"
   ]
  },
  {
   "cell_type": "code",
   "execution_count": 74,
   "metadata": {},
   "outputs": [],
   "source": [
    "enriched_lubbock = lubbock_df_no_dup.merge(tu_data,on=['id','sequence_num'])"
   ]
  },
  {
   "cell_type": "code",
   "execution_count": 76,
   "metadata": {},
   "outputs": [
    {
     "data": {
      "text/html": [
       "<div>\n",
       "<style scoped>\n",
       "    .dataframe tbody tr th:only-of-type {\n",
       "        vertical-align: middle;\n",
       "    }\n",
       "\n",
       "    .dataframe tbody tr th {\n",
       "        vertical-align: top;\n",
       "    }\n",
       "\n",
       "    .dataframe thead th {\n",
       "        text-align: right;\n",
       "    }\n",
       "</style>\n",
       "<table border=\"1\" class=\"dataframe\">\n",
       "  <thead>\n",
       "    <tr style=\"text-align: right;\">\n",
       "      <th></th>\n",
       "      <th>sequence_num</th>\n",
       "      <th>requested_amount</th>\n",
       "      <th>offered_interest_rate</th>\n",
       "      <th>offer_accepted</th>\n",
       "      <th>offer_date</th>\n",
       "      <th>credit_score</th>\n",
       "      <th>listing_term</th>\n",
       "      <th>int_rate</th>\n",
       "      <th>loan_amnt</th>\n",
       "      <th>monthly_pmt</th>\n",
       "      <th>original_state</th>\n",
       "    </tr>\n",
       "    <tr>\n",
       "      <th>id</th>\n",
       "      <th></th>\n",
       "      <th></th>\n",
       "      <th></th>\n",
       "      <th></th>\n",
       "      <th></th>\n",
       "      <th></th>\n",
       "      <th></th>\n",
       "      <th></th>\n",
       "      <th></th>\n",
       "      <th></th>\n",
       "      <th></th>\n",
       "    </tr>\n",
       "  </thead>\n",
       "  <tbody>\n",
       "    <tr>\n",
       "      <th>00081387dcef0fab60c7f9f94669cc6df140531c9e0a55c0e98b55dc5aef08d6</th>\n",
       "      <td>35357872fbcfec327a4c7665f08a98f0dc55eb19969f36...</td>\n",
       "      <td>4070.0</td>\n",
       "      <td>8.24</td>\n",
       "      <td>False</td>\n",
       "      <td>2020-07-10</td>\n",
       "      <td>735</td>\n",
       "      <td>36.0</td>\n",
       "      <td>8.24</td>\n",
       "      <td>4070.0</td>\n",
       "      <td>128.0</td>\n",
       "      <td>TX</td>\n",
       "    </tr>\n",
       "    <tr>\n",
       "      <th>00090fdbe1fc33bf53dda546318c248cb6fe4299ad39dd9db2abd4c32ed2e152</th>\n",
       "      <td>6c98c998cb4bd242edbd55164eeed3927372264f8395b8...</td>\n",
       "      <td>5550.0</td>\n",
       "      <td>16.68</td>\n",
       "      <td>False</td>\n",
       "      <td>2020-06-02</td>\n",
       "      <td>636</td>\n",
       "      <td>36.0</td>\n",
       "      <td>16.68</td>\n",
       "      <td>5550.0</td>\n",
       "      <td>197.0</td>\n",
       "      <td>TX</td>\n",
       "    </tr>\n",
       "    <tr>\n",
       "      <th>000aa5e29eadd0bd7e2c9649d0ed986af4848895b6a4fa7883c67dd56b5b75ac</th>\n",
       "      <td>921cda1c86bc82347ea8168a894918f8ae857cdbbdb9a5...</td>\n",
       "      <td>25000.0</td>\n",
       "      <td>7.18</td>\n",
       "      <td>False</td>\n",
       "      <td>2019-06-19</td>\n",
       "      <td>664</td>\n",
       "      <td>36.0</td>\n",
       "      <td>7.18</td>\n",
       "      <td>25000.0</td>\n",
       "      <td>774.0</td>\n",
       "      <td>TX</td>\n",
       "    </tr>\n",
       "    <tr>\n",
       "      <th>001046cb99ae36567910bdd6fd907622cdc8aefb1689d66339fcb59353be46e2</th>\n",
       "      <td>0637e25695fcabdcec43d21364397793a169bd8b6977ed...</td>\n",
       "      <td>20000.0</td>\n",
       "      <td>6.68</td>\n",
       "      <td>False</td>\n",
       "      <td>2018-02-20</td>\n",
       "      <td>819</td>\n",
       "      <td>60.0</td>\n",
       "      <td>6.68</td>\n",
       "      <td>20000.0</td>\n",
       "      <td>393.0</td>\n",
       "      <td>TX</td>\n",
       "    </tr>\n",
       "    <tr>\n",
       "      <th>00176f09e7f3c4c864098d84a1f07e632fcce67f4d8d1b7ae08aabd5961227f3</th>\n",
       "      <td>1448249d369054a06a82acb4003d3daee61574935da0a8...</td>\n",
       "      <td>10000.0</td>\n",
       "      <td>8.99</td>\n",
       "      <td>False</td>\n",
       "      <td>2019-09-27</td>\n",
       "      <td>780</td>\n",
       "      <td>36.0</td>\n",
       "      <td>8.99</td>\n",
       "      <td>10000.0</td>\n",
       "      <td>318.0</td>\n",
       "      <td>TX</td>\n",
       "    </tr>\n",
       "  </tbody>\n",
       "</table>\n",
       "</div>"
      ],
      "text/plain": [
       "                                                                                         sequence_num  \\\n",
       "id                                                                                                      \n",
       "00081387dcef0fab60c7f9f94669cc6df140531c9e0a55c...  35357872fbcfec327a4c7665f08a98f0dc55eb19969f36...   \n",
       "00090fdbe1fc33bf53dda546318c248cb6fe4299ad39dd9...  6c98c998cb4bd242edbd55164eeed3927372264f8395b8...   \n",
       "000aa5e29eadd0bd7e2c9649d0ed986af4848895b6a4fa7...  921cda1c86bc82347ea8168a894918f8ae857cdbbdb9a5...   \n",
       "001046cb99ae36567910bdd6fd907622cdc8aefb1689d66...  0637e25695fcabdcec43d21364397793a169bd8b6977ed...   \n",
       "00176f09e7f3c4c864098d84a1f07e632fcce67f4d8d1b7...  1448249d369054a06a82acb4003d3daee61574935da0a8...   \n",
       "\n",
       "                                                    requested_amount  \\\n",
       "id                                                                     \n",
       "00081387dcef0fab60c7f9f94669cc6df140531c9e0a55c...            4070.0   \n",
       "00090fdbe1fc33bf53dda546318c248cb6fe4299ad39dd9...            5550.0   \n",
       "000aa5e29eadd0bd7e2c9649d0ed986af4848895b6a4fa7...           25000.0   \n",
       "001046cb99ae36567910bdd6fd907622cdc8aefb1689d66...           20000.0   \n",
       "00176f09e7f3c4c864098d84a1f07e632fcce67f4d8d1b7...           10000.0   \n",
       "\n",
       "                                                    offered_interest_rate  \\\n",
       "id                                                                          \n",
       "00081387dcef0fab60c7f9f94669cc6df140531c9e0a55c...                   8.24   \n",
       "00090fdbe1fc33bf53dda546318c248cb6fe4299ad39dd9...                  16.68   \n",
       "000aa5e29eadd0bd7e2c9649d0ed986af4848895b6a4fa7...                   7.18   \n",
       "001046cb99ae36567910bdd6fd907622cdc8aefb1689d66...                   6.68   \n",
       "00176f09e7f3c4c864098d84a1f07e632fcce67f4d8d1b7...                   8.99   \n",
       "\n",
       "                                                    offer_accepted  \\\n",
       "id                                                                   \n",
       "00081387dcef0fab60c7f9f94669cc6df140531c9e0a55c...           False   \n",
       "00090fdbe1fc33bf53dda546318c248cb6fe4299ad39dd9...           False   \n",
       "000aa5e29eadd0bd7e2c9649d0ed986af4848895b6a4fa7...           False   \n",
       "001046cb99ae36567910bdd6fd907622cdc8aefb1689d66...           False   \n",
       "00176f09e7f3c4c864098d84a1f07e632fcce67f4d8d1b7...           False   \n",
       "\n",
       "                                                    offer_date  credit_score  \\\n",
       "id                                                                             \n",
       "00081387dcef0fab60c7f9f94669cc6df140531c9e0a55c...  2020-07-10           735   \n",
       "00090fdbe1fc33bf53dda546318c248cb6fe4299ad39dd9...  2020-06-02           636   \n",
       "000aa5e29eadd0bd7e2c9649d0ed986af4848895b6a4fa7...  2019-06-19           664   \n",
       "001046cb99ae36567910bdd6fd907622cdc8aefb1689d66...  2018-02-20           819   \n",
       "00176f09e7f3c4c864098d84a1f07e632fcce67f4d8d1b7...  2019-09-27           780   \n",
       "\n",
       "                                                    listing_term  int_rate  \\\n",
       "id                                                                           \n",
       "00081387dcef0fab60c7f9f94669cc6df140531c9e0a55c...          36.0      8.24   \n",
       "00090fdbe1fc33bf53dda546318c248cb6fe4299ad39dd9...          36.0     16.68   \n",
       "000aa5e29eadd0bd7e2c9649d0ed986af4848895b6a4fa7...          36.0      7.18   \n",
       "001046cb99ae36567910bdd6fd907622cdc8aefb1689d66...          60.0      6.68   \n",
       "00176f09e7f3c4c864098d84a1f07e632fcce67f4d8d1b7...          36.0      8.99   \n",
       "\n",
       "                                                    loan_amnt  monthly_pmt  \\\n",
       "id                                                                           \n",
       "00081387dcef0fab60c7f9f94669cc6df140531c9e0a55c...     4070.0        128.0   \n",
       "00090fdbe1fc33bf53dda546318c248cb6fe4299ad39dd9...     5550.0        197.0   \n",
       "000aa5e29eadd0bd7e2c9649d0ed986af4848895b6a4fa7...    25000.0        774.0   \n",
       "001046cb99ae36567910bdd6fd907622cdc8aefb1689d66...    20000.0        393.0   \n",
       "00176f09e7f3c4c864098d84a1f07e632fcce67f4d8d1b7...    10000.0        318.0   \n",
       "\n",
       "                                                   original_state  \n",
       "id                                                                 \n",
       "00081387dcef0fab60c7f9f94669cc6df140531c9e0a55c...             TX  \n",
       "00090fdbe1fc33bf53dda546318c248cb6fe4299ad39dd9...             TX  \n",
       "000aa5e29eadd0bd7e2c9649d0ed986af4848895b6a4fa7...             TX  \n",
       "001046cb99ae36567910bdd6fd907622cdc8aefb1689d66...             TX  \n",
       "00176f09e7f3c4c864098d84a1f07e632fcce67f4d8d1b7...             TX  "
      ]
     },
     "execution_count": 76,
     "metadata": {},
     "output_type": "execute_result"
    }
   ],
   "source": [
    "enriched_lubbock.head()"
   ]
  },
  {
   "cell_type": "markdown",
   "metadata": {},
   "source": [
    "What is the average credit score of the clients? What is the average among clients who accepted the offer?"
   ]
  },
  {
   "cell_type": "code",
   "execution_count": 77,
   "metadata": {},
   "outputs": [
    {
     "data": {
      "text/plain": [
       "690.0338339222615"
      ]
     },
     "execution_count": 77,
     "metadata": {},
     "output_type": "execute_result"
    }
   ],
   "source": [
    "# average credit score of the client\n",
    "enriched_lubbock['credit_score'].mean()"
   ]
  },
  {
   "cell_type": "code",
   "execution_count": 78,
   "metadata": {},
   "outputs": [
    {
     "data": {
      "text/plain": [
       "730.5337078651686"
      ]
     },
     "execution_count": 78,
     "metadata": {},
     "output_type": "execute_result"
    }
   ],
   "source": [
    "# average credit score of the client who accepted the offer\n",
    "enriched_lubbock[enriched_lubbock['offer_accepted']]['credit_score'].mean()"
   ]
  },
  {
   "cell_type": "markdown",
   "metadata": {},
   "source": [
    "What is the rate of activation in Lubbock?"
   ]
  },
  {
   "cell_type": "code",
   "execution_count": 79,
   "metadata": {},
   "outputs": [
    {
     "data": {
      "text/plain": [
       "0.04717314487632509"
      ]
     },
     "execution_count": 79,
     "metadata": {},
     "output_type": "execute_result"
    }
   ],
   "source": [
    "# rate of activation in Lubbock\n",
    "enriched_lubbock['offer_accepted'].mean()"
   ]
  },
  {
   "cell_type": "markdown",
   "metadata": {},
   "source": [
    "## Caution about a/b test "
   ]
  },
  {
   "cell_type": "markdown",
   "metadata": {},
   "source": [
    "Note that this is not a classical a/b test. Usually, in such a test, one creates two random subgroups from the general population and applies a manipulation to one of them in order to see if the manipulation had an effect. However, in this case, it is very complicated to isolate a random subgroup from any population and deploy the flyer program only on it.\n",
    "Thus, due to production limitation, we have to make do with what we got."
   ]
  },
  {
   "cell_type": "markdown",
   "metadata": {},
   "source": [
    "In order to justify the use of an a/b test for this situation, we should at least verify that the borrower population in Lubbock and Raleigh seem as though they were randomly selected from the general population. We have actually already checked it for Raleigh above. Add TU features to the loan amount, interest rate, credit score and term comparisons and see if there any major differences between the three populations (Lubbock, Raleigh and TU)."
   ]
  },
  {
   "cell_type": "code",
   "execution_count": 80,
   "metadata": {},
   "outputs": [
    {
     "data": {
      "text/plain": [
       "Text(0, 0.5, 'Density')"
      ]
     },
     "execution_count": 80,
     "metadata": {},
     "output_type": "execute_result"
    },
    {
     "data": {
      "image/png": "[encoded data removed]",
      "text/plain": [
       "<Figure size 576x432 with 1 Axes>"
      ]
     },
     "metadata": {
      "needs_background": "light"
     },
     "output_type": "display_data"
    }
   ],
   "source": [
    "bins=round(len(enriched_lubbock['loan_amnt'].unique())**0.5)\n",
    "bins1=round(len(tu_data['loan_amnt'].unique())**0.5)\n",
    "\n",
    "plt.figure(figsize=(8,6))\n",
    "plt.hist(enriched_lubbock['loan_amnt'], bins=bins, alpha=0.5, label=\"lubbock\",density=True,range=(0,100000))\n",
    "plt.hist(tu_data['loan_amnt'], bins=bins1, alpha=0.5, label=\"tu_data\",density=True,range=(0,100000))\n",
    "plt.legend()\n",
    "plt.xlabel(\"loan_amnt\", size=14)\n",
    "plt.ylabel(\"Density\", size=14)"
   ]
  },
  {
   "cell_type": "markdown",
   "metadata": {},
   "source": [
    "Describe the loan amount distribution using `sns.distplot` in the Raleigh dataframe and in TU."
   ]
  },
  {
   "cell_type": "code",
   "execution_count": 83,
   "metadata": {},
   "outputs": [
    {
     "data": {
      "image/png": "[encoded data removed]",
      "text/plain": [
       "<Figure size 432x288 with 1 Axes>"
      ]
     },
     "metadata": {
      "needs_background": "light"
     },
     "output_type": "display_data"
    }
   ],
   "source": [
    "sns.distplot(enriched_lubbock['loan_amnt'],label='Raleigh')\n",
    "sns.distplot(tu_data['loan_amnt'],label='tu data')\n",
    "plt.legend()\n",
    "plt.show()"
   ]
  },
  {
   "cell_type": "markdown",
   "metadata": {},
   "source": [
    "We also want to verify that the offered interest rate in Raleigh seem similar to those in the general population. \n",
    "Create a histogram to describe the distribution of offered interest rates in Raleigh and interest rates in the general population. Do the distributions look similar?"
   ]
  },
  {
   "cell_type": "code",
   "execution_count": 82,
   "metadata": {},
   "outputs": [
    {
     "data": {
      "text/plain": [
       "Text(0, 0.5, 'Density')"
      ]
     },
     "execution_count": 82,
     "metadata": {},
     "output_type": "execute_result"
    },
    {
     "data": {
      "image/png": "[encoded data removed]",
      "text/plain": [
       "<Figure size 576x432 with 1 Axes>"
      ]
     },
     "metadata": {
      "needs_background": "light"
     },
     "output_type": "display_data"
    }
   ],
   "source": [
    "bins=round(len(enriched_lubbock['int_rate'].unique())**0.5)\n",
    "bins1=round(len(tu_data['int_rate'].unique())**0.5)\n",
    "\n",
    "plt.figure(figsize=(8,6))\n",
    "plt.hist(enriched_lubbock['int_rate'], bins=bins, alpha=0.5, label=\"lubbock\",density=True)\n",
    "plt.hist(tu_data['int_rate'], bins=bins1, alpha=0.5, label=\"tu_data\",density=True)\n",
    "plt.legend()\n",
    "plt.xlabel(\"int_rate\", size=14)\n",
    "plt.ylabel(\"Density\", size=14)"
   ]
  },
  {
   "cell_type": "markdown",
   "metadata": {},
   "source": [
    "Describe the interest rate distribution using `sns.distplot` in the Raleigh dataframe and in TU."
   ]
  },
  {
   "cell_type": "code",
   "execution_count": 84,
   "metadata": {},
   "outputs": [
    {
     "data": {
      "image/png": "[encoded data removed]",
      "text/plain": [
       "<Figure size 432x288 with 1 Axes>"
      ]
     },
     "metadata": {
      "needs_background": "light"
     },
     "output_type": "display_data"
    }
   ],
   "source": [
    "sns.distplot(enriched_lubbock['int_rate'],label='Raleigh')\n",
    "sns.distplot(tu_data['int_rate'],label='tu data')\n",
    "plt.legend()\n",
    "plt.show()"
   ]
  },
  {
   "cell_type": "code",
   "execution_count": 85,
   "metadata": {},
   "outputs": [
    {
     "data": {
      "text/plain": [
       "Text(0, 0.5, 'Density')"
      ]
     },
     "execution_count": 85,
     "metadata": {},
     "output_type": "execute_result"
    },
    {
     "data": {
      "image/png": "[encoded data removed]",
      "text/plain": [
       "<Figure size 576x432 with 1 Axes>"
      ]
     },
     "metadata": {
      "needs_background": "light"
     },
     "output_type": "display_data"
    }
   ],
   "source": [
    "bins=round(len(enriched_lubbock['credit_score'].unique())**0.5)\n",
    "bins=round(len(tu_data['credit_score'].unique())**0.5)\n",
    "\n",
    "plt.figure(figsize=(8,6))\n",
    "plt.hist(enriched_lubbock['credit_score'], bins=bins, alpha=0.5, label=\"lubbock\",density=True)\n",
    "plt.hist(tu_data['credit_score'], bins=bins1, alpha=0.5, label=\"tu_data\",density=True)\n",
    "plt.legend()\n",
    "plt.xlabel(\"credit_score\", size=14)\n",
    "plt.ylabel(\"Density\", size=14)"
   ]
  },
  {
   "cell_type": "code",
   "execution_count": 86,
   "metadata": {},
   "outputs": [
    {
     "data": {
      "image/png": "[encoded data removed]",
      "text/plain": [
       "<Figure size 432x288 with 1 Axes>"
      ]
     },
     "metadata": {
      "needs_background": "light"
     },
     "output_type": "display_data"
    }
   ],
   "source": [
    "sns.distplot(enriched_lubbock['credit_score'],label='Raleigh')\n",
    "sns.distplot(tu_data['credit_score'],label='tu data')\n",
    "plt.legend()\n",
    "plt.show()"
   ]
  },
  {
   "cell_type": "markdown",
   "metadata": {
    "execution": {
     "iopub.execute_input": "2021-07-04T09:43:56.046655Z",
     "iopub.status.busy": "2021-07-04T09:43:56.046389Z",
     "iopub.status.idle": "2021-07-04T09:43:56.393501Z",
     "shell.execute_reply": "2021-07-04T09:43:56.392695Z",
     "shell.execute_reply.started": "2021-07-04T09:43:56.046630Z"
    }
   },
   "source": [
    "Finally, check whether the loans in both datasets have similar distributions of term (i.e. the amount of months the borrower takes the loan for). What values of term exist in the data?"
   ]
  },
  {
   "cell_type": "code",
   "execution_count": 87,
   "metadata": {},
   "outputs": [
    {
     "data": {
      "text/plain": [
       "<matplotlib.axes._subplots.AxesSubplot at 0x7fcfea628a30>"
      ]
     },
     "execution_count": 87,
     "metadata": {},
     "output_type": "execute_result"
    },
    {
     "data": {
      "image/png": "[encoded data removed]",
      "text/plain": [
       "<Figure size 432x288 with 1 Axes>"
      ]
     },
     "metadata": {
      "needs_background": "light"
     },
     "output_type": "display_data"
    }
   ],
   "source": [
    "enriched_lubbock['listing_term'].value_counts().plot.bar()"
   ]
  },
  {
   "cell_type": "code",
   "execution_count": 88,
   "metadata": {},
   "outputs": [
    {
     "data": {
      "text/plain": [
       "<matplotlib.axes._subplots.AxesSubplot at 0x7fcfea899d00>"
      ]
     },
     "execution_count": 88,
     "metadata": {},
     "output_type": "execute_result"
    },
    {
     "data": {
      "image/png": "[encoded data removed]",
      "text/plain": [
       "<Figure size 432x288 with 1 Axes>"
      ]
     },
     "metadata": {
      "needs_background": "light"
     },
     "output_type": "display_data"
    }
   ],
   "source": [
    "tu_data['listing_term'].value_counts().plot.bar()"
   ]
  },
  {
   "cell_type": "markdown",
   "metadata": {},
   "source": [
    "## Performing the test"
   ]
  },
  {
   "cell_type": "markdown",
   "metadata": {
    "execution": {
     "iopub.status.busy": "2021-07-01T03:36:51.530342Z",
     "iopub.status.idle": "2021-07-01T03:36:51.530744Z"
    }
   },
   "source": [
    "Use the function you created in the file `clt.py` to plot the series of means of activation in Raleigh and Lubbock for samples of size n= 1, 10, 1000 and 1e6, and compare the means of the two histograms. To they seem to converge to the same value?"
   ]
  },
  {
   "cell_type": "code",
   "execution_count": 91,
   "metadata": {
    "tags": []
   },
   "outputs": [
    {
     "data": {
      "application/vnd.jupyter.widget-view+json": {
       "model_id": "f056e70c7f4c4c65b1b98a89789f429d",
       "version_major": 2,
       "version_minor": 0
      },
      "text/plain": [
       "interactive(children=(Dropdown(description='n', options=(1, 10, 1000, 1000000), value=1), Output()), _dom_clas…"
      ]
     },
     "metadata": {},
     "output_type": "display_data"
    }
   ],
   "source": [
    "n_val = [1,10,1000,1000000]\n",
    "S = lubbock_df_no_dup['offer_accepted']\n",
    "\n",
    "interact(clt_with_plot,S=fixed(S) ,n=n_val);"
   ]
  },
  {
   "cell_type": "markdown",
   "metadata": {},
   "source": [
    "Apply a statistical test to see whether the activation rate in Raleigh, NC is significantly larger than Lubbock, TX. Clearly state and validate your test's assumption. \n",
    "\n",
    "1. What are your hypotheses?\n",
    "2. Setting your confidence level at 95%, what is the probability of an error of type I in your test? What is the probability of a type II error?\n",
    "3. Are the two samples significantly different? \n",
    "4. Interpret your results. Can you declare the program as successful in increasing activation? What is the probability of wrongfully declaring it successful?\n",
    "\n",
    "Use the `proportions_ztestz` function from `statsmodels.stats.proportion` to perform a comparison between the activation probability in Lubbock and in Raleigh. "
   ]
  },
  {
   "cell_type": "markdown",
   "metadata": {},
   "source": [
    "1. What are your hypotheses?\n",
    "\n",
    "    Denote the mean of activation in Raleigh as $\\mu_1$ and the mean of activation in Lubbock as $\\mu_2$\n",
    "    \n",
    "    $H_0: \\mu_1=\\mu_2$, i.e. the activation probability did not change\n",
    "\n",
    "    $H_1: \\mu_1\\not=\\mu_2$, i.e. the activation probability changed\n",
    "    "
   ]
  },
  {
   "cell_type": "markdown",
   "metadata": {},
   "source": [
    "2. Setting your confidence level at 95%: what is the probability of an error of type I in your test?\n",
    "\n",
    "    *Answer:* The probability of type I error in our tet is 5%"
   ]
  },
  {
   "cell_type": "markdown",
   "metadata": {},
   "source": [
    "3. Are the two samples significantly different? "
   ]
  },
  {
   "cell_type": "code",
   "execution_count": 92,
   "metadata": {},
   "outputs": [
    {
     "data": {
      "text/plain": [
       "1.0951717760291721e-29"
      ]
     },
     "execution_count": 92,
     "metadata": {},
     "output_type": "execute_result"
    }
   ],
   "source": [
    "sample_raleigh, sample_size_raleigh = (raleigh_df_no_dup['offer_accepted'].sum(),len(raleigh_df_no_dup['offer_accepted']))\n",
    "sample_lubbock, sample_size_lubbock = (lubbock_df_no_dup['offer_accepted'].sum(),len(lubbock_df_no_dup['offer_accepted']))\n",
    "\n",
    "successes = np.array([sample_raleigh, sample_lubbock])\n",
    "samples = np.array([sample_size_raleigh, sample_size_lubbock])\n",
    "\n",
    "stat, p_value = proportions_ztest(count=successes, nobs=samples,  alternative='two-sided')\n",
    "p_value"
   ]
  },
  {
   "cell_type": "markdown",
   "metadata": {},
   "source": [
    "4. Interpret your results. Can you declare the program as successful in increasing activation? What is the probability of wrongfully declaring it successful? \n",
    "\n",
    "    *Answer:* According to the statistical test we performed, the probability to measure a proportion difference as extreme as we measurded or more is close to zero, specifically smaller than alpha. We therefore reject the null hypothesis, according to which the proportions are the same, with a confidense level of at least 95%, and declare the program as succesfull.\n",
    "\n",
    "    The probability of wrongfully rejecting the null hypothesis is 5%."
   ]
  },
  {
   "cell_type": "markdown",
   "metadata": {},
   "source": [
    "# Testing for activation in sub-populations"
   ]
  },
  {
   "cell_type": "markdown",
   "metadata": {},
   "source": [
    "Now that you applied the a/b test to the Lubbock and Raleigh datasets, it is now required that you make a similar comparison on different subsets of the data within various credit score and loan amount bins. To do so, let us first decide on how to segment our data.\n",
    "\n",
    "You are asked to divide your data into 10 bins according to loan amount, and then divide each of those bins into 10 bins according to loan amount. The most staightforward way of doing this is by using the `pd.qcut` function; first dividing the data into 10 quantiles of credit score and then dividing each of these quantiles into 10 according to loan amount."
   ]
  },
  {
   "cell_type": "markdown",
   "metadata": {},
   "source": [
    "Divide your datasets as above and add two columns to your data which indicate the (credit_score, loan_amnt) of the bin."
   ]
  },
  {
   "cell_type": "code",
   "execution_count": 95,
   "metadata": {},
   "outputs": [],
   "source": [
    "tu_data['credit_score_bins'], bins1 = pd.qcut(tu_data['credit_score'], 10, retbins=True, labels=False)\n",
    "tu_data['loan_amnt_bins'] = tu_data.groupby('credit_score_bins')['loan_amnt'].transform(lambda x: pd.qcut(x,10,labels=False))"
   ]
  },
  {
   "cell_type": "code",
   "execution_count": 96,
   "metadata": {},
   "outputs": [
    {
     "data": {
      "text/html": [
       "<div>\n",
       "<style scoped>\n",
       "    .dataframe tbody tr th:only-of-type {\n",
       "        vertical-align: middle;\n",
       "    }\n",
       "\n",
       "    .dataframe tbody tr th {\n",
       "        vertical-align: top;\n",
       "    }\n",
       "\n",
       "    .dataframe thead th {\n",
       "        text-align: right;\n",
       "    }\n",
       "</style>\n",
       "<table border=\"1\" class=\"dataframe\">\n",
       "  <thead>\n",
       "    <tr style=\"text-align: right;\">\n",
       "      <th></th>\n",
       "      <th>sequence_num</th>\n",
       "      <th>credit_score</th>\n",
       "      <th>listing_term</th>\n",
       "      <th>int_rate</th>\n",
       "      <th>loan_amnt</th>\n",
       "      <th>monthly_pmt</th>\n",
       "      <th>original_state</th>\n",
       "      <th>credit_score_bins</th>\n",
       "      <th>loan_amnt_bins</th>\n",
       "    </tr>\n",
       "    <tr>\n",
       "      <th>id</th>\n",
       "      <th></th>\n",
       "      <th></th>\n",
       "      <th></th>\n",
       "      <th></th>\n",
       "      <th></th>\n",
       "      <th></th>\n",
       "      <th></th>\n",
       "      <th></th>\n",
       "      <th></th>\n",
       "    </tr>\n",
       "  </thead>\n",
       "  <tbody>\n",
       "    <tr>\n",
       "      <th>adf5219e4cb985352184eb7fa597737e4a9777f7354f7a8a58270da147792561</th>\n",
       "      <td>d0820401b209782dae4284b3dd96b41e08c3e8566fbb33...</td>\n",
       "      <td>814</td>\n",
       "      <td>36.0</td>\n",
       "      <td>7.86</td>\n",
       "      <td>5500.0</td>\n",
       "      <td>172.0</td>\n",
       "      <td>MI</td>\n",
       "      <td>9</td>\n",
       "      <td>2</td>\n",
       "    </tr>\n",
       "    <tr>\n",
       "      <th>0a0f130443af4c6597bb074942970eaddeb125d398e2cca42175c56befc8a171</th>\n",
       "      <td>2f05cd66cb998e5e55f6f296344b271b2b89b996c7c037...</td>\n",
       "      <td>800</td>\n",
       "      <td>36.0</td>\n",
       "      <td>7.91</td>\n",
       "      <td>20000.0</td>\n",
       "      <td>626.0</td>\n",
       "      <td>NM</td>\n",
       "      <td>9</td>\n",
       "      <td>7</td>\n",
       "    </tr>\n",
       "    <tr>\n",
       "      <th>4ba9c6a38b650ee06b8b88a48621bd363cdf611e63400c6fc4bbffbd1bf20c47</th>\n",
       "      <td>20bdbfaf0006db032d8a4176add08fd4ef45abfb17c474...</td>\n",
       "      <td>653</td>\n",
       "      <td>36.0</td>\n",
       "      <td>30.51</td>\n",
       "      <td>3674.0</td>\n",
       "      <td>157.0</td>\n",
       "      <td>SD</td>\n",
       "      <td>2</td>\n",
       "      <td>1</td>\n",
       "    </tr>\n",
       "    <tr>\n",
       "      <th>dae3a344292e07d4b8935a453c37aef01303f21b2f37ccbd1c4408f158533acb</th>\n",
       "      <td>53084498c6bf053a4d1cf309e1b8ec234e503bb1a3dd4e...</td>\n",
       "      <td>623</td>\n",
       "      <td>60.0</td>\n",
       "      <td>23.46</td>\n",
       "      <td>14056.0</td>\n",
       "      <td>400.0</td>\n",
       "      <td>NC</td>\n",
       "      <td>1</td>\n",
       "      <td>8</td>\n",
       "    </tr>\n",
       "    <tr>\n",
       "      <th>8af2ae2462d012e4d85aa687a16a4f5fb64525928235da43c795f73dc0cadd04</th>\n",
       "      <td>f750c4ecac12ae1c156998ed3dff3f46d2d19f37250074...</td>\n",
       "      <td>627</td>\n",
       "      <td>60.0</td>\n",
       "      <td>25.55</td>\n",
       "      <td>8659.0</td>\n",
       "      <td>257.0</td>\n",
       "      <td>TN</td>\n",
       "      <td>1</td>\n",
       "      <td>6</td>\n",
       "    </tr>\n",
       "  </tbody>\n",
       "</table>\n",
       "</div>"
      ],
      "text/plain": [
       "                                                                                         sequence_num  \\\n",
       "id                                                                                                      \n",
       "adf5219e4cb985352184eb7fa597737e4a9777f7354f7a8...  d0820401b209782dae4284b3dd96b41e08c3e8566fbb33...   \n",
       "0a0f130443af4c6597bb074942970eaddeb125d398e2cca...  2f05cd66cb998e5e55f6f296344b271b2b89b996c7c037...   \n",
       "4ba9c6a38b650ee06b8b88a48621bd363cdf611e63400c6...  20bdbfaf0006db032d8a4176add08fd4ef45abfb17c474...   \n",
       "dae3a344292e07d4b8935a453c37aef01303f21b2f37ccb...  53084498c6bf053a4d1cf309e1b8ec234e503bb1a3dd4e...   \n",
       "8af2ae2462d012e4d85aa687a16a4f5fb64525928235da4...  f750c4ecac12ae1c156998ed3dff3f46d2d19f37250074...   \n",
       "\n",
       "                                                    credit_score  \\\n",
       "id                                                                 \n",
       "adf5219e4cb985352184eb7fa597737e4a9777f7354f7a8...           814   \n",
       "0a0f130443af4c6597bb074942970eaddeb125d398e2cca...           800   \n",
       "4ba9c6a38b650ee06b8b88a48621bd363cdf611e63400c6...           653   \n",
       "dae3a344292e07d4b8935a453c37aef01303f21b2f37ccb...           623   \n",
       "8af2ae2462d012e4d85aa687a16a4f5fb64525928235da4...           627   \n",
       "\n",
       "                                                    listing_term  int_rate  \\\n",
       "id                                                                           \n",
       "adf5219e4cb985352184eb7fa597737e4a9777f7354f7a8...          36.0      7.86   \n",
       "0a0f130443af4c6597bb074942970eaddeb125d398e2cca...          36.0      7.91   \n",
       "4ba9c6a38b650ee06b8b88a48621bd363cdf611e63400c6...          36.0     30.51   \n",
       "dae3a344292e07d4b8935a453c37aef01303f21b2f37ccb...          60.0     23.46   \n",
       "8af2ae2462d012e4d85aa687a16a4f5fb64525928235da4...          60.0     25.55   \n",
       "\n",
       "                                                    loan_amnt  monthly_pmt  \\\n",
       "id                                                                           \n",
       "adf5219e4cb985352184eb7fa597737e4a9777f7354f7a8...     5500.0        172.0   \n",
       "0a0f130443af4c6597bb074942970eaddeb125d398e2cca...    20000.0        626.0   \n",
       "4ba9c6a38b650ee06b8b88a48621bd363cdf611e63400c6...     3674.0        157.0   \n",
       "dae3a344292e07d4b8935a453c37aef01303f21b2f37ccb...    14056.0        400.0   \n",
       "8af2ae2462d012e4d85aa687a16a4f5fb64525928235da4...     8659.0        257.0   \n",
       "\n",
       "                                                   original_state  \\\n",
       "id                                                                  \n",
       "adf5219e4cb985352184eb7fa597737e4a9777f7354f7a8...             MI   \n",
       "0a0f130443af4c6597bb074942970eaddeb125d398e2cca...             NM   \n",
       "4ba9c6a38b650ee06b8b88a48621bd363cdf611e63400c6...             SD   \n",
       "dae3a344292e07d4b8935a453c37aef01303f21b2f37ccb...             NC   \n",
       "8af2ae2462d012e4d85aa687a16a4f5fb64525928235da4...             TN   \n",
       "\n",
       "                                                    credit_score_bins  \\\n",
       "id                                                                      \n",
       "adf5219e4cb985352184eb7fa597737e4a9777f7354f7a8...                  9   \n",
       "0a0f130443af4c6597bb074942970eaddeb125d398e2cca...                  9   \n",
       "4ba9c6a38b650ee06b8b88a48621bd363cdf611e63400c6...                  2   \n",
       "dae3a344292e07d4b8935a453c37aef01303f21b2f37ccb...                  1   \n",
       "8af2ae2462d012e4d85aa687a16a4f5fb64525928235da4...                  1   \n",
       "\n",
       "                                                    loan_amnt_bins  \n",
       "id                                                                  \n",
       "adf5219e4cb985352184eb7fa597737e4a9777f7354f7a8...               2  \n",
       "0a0f130443af4c6597bb074942970eaddeb125d398e2cca...               7  \n",
       "4ba9c6a38b650ee06b8b88a48621bd363cdf611e63400c6...               1  \n",
       "dae3a344292e07d4b8935a453c37aef01303f21b2f37ccb...               8  \n",
       "8af2ae2462d012e4d85aa687a16a4f5fb64525928235da4...               6  "
      ]
     },
     "execution_count": 96,
     "metadata": {},
     "output_type": "execute_result"
    }
   ],
   "source": [
    "tu_data.head()"
   ]
  },
  {
   "cell_type": "code",
   "execution_count": 98,
   "metadata": {},
   "outputs": [
    {
     "data": {
      "text/html": [
       "<div>\n",
       "<style scoped>\n",
       "    .dataframe tbody tr th:only-of-type {\n",
       "        vertical-align: middle;\n",
       "    }\n",
       "\n",
       "    .dataframe tbody tr th {\n",
       "        vertical-align: top;\n",
       "    }\n",
       "\n",
       "    .dataframe thead th {\n",
       "        text-align: right;\n",
       "    }\n",
       "</style>\n",
       "<table border=\"1\" class=\"dataframe\">\n",
       "  <thead>\n",
       "    <tr style=\"text-align: right;\">\n",
       "      <th></th>\n",
       "      <th></th>\n",
       "      <th>sum</th>\n",
       "      <th>size</th>\n",
       "      <th>mean</th>\n",
       "    </tr>\n",
       "    <tr>\n",
       "      <th>credit_score_bins</th>\n",
       "      <th>loan_amnt_bins</th>\n",
       "      <th></th>\n",
       "      <th></th>\n",
       "      <th></th>\n",
       "    </tr>\n",
       "  </thead>\n",
       "  <tbody>\n",
       "    <tr>\n",
       "      <th rowspan=\"5\" valign=\"top\">0</th>\n",
       "      <th>0</th>\n",
       "      <td>14</td>\n",
       "      <td>112</td>\n",
       "      <td>0.125000</td>\n",
       "    </tr>\n",
       "    <tr>\n",
       "      <th>1</th>\n",
       "      <td>12</td>\n",
       "      <td>86</td>\n",
       "      <td>0.139535</td>\n",
       "    </tr>\n",
       "    <tr>\n",
       "      <th>2</th>\n",
       "      <td>8</td>\n",
       "      <td>79</td>\n",
       "      <td>0.101266</td>\n",
       "    </tr>\n",
       "    <tr>\n",
       "      <th>3</th>\n",
       "      <td>3</td>\n",
       "      <td>78</td>\n",
       "      <td>0.038462</td>\n",
       "    </tr>\n",
       "    <tr>\n",
       "      <th>4</th>\n",
       "      <td>8</td>\n",
       "      <td>95</td>\n",
       "      <td>0.084211</td>\n",
       "    </tr>\n",
       "    <tr>\n",
       "      <th>...</th>\n",
       "      <th>...</th>\n",
       "      <td>...</td>\n",
       "      <td>...</td>\n",
       "      <td>...</td>\n",
       "    </tr>\n",
       "    <tr>\n",
       "      <th rowspan=\"5\" valign=\"top\">9</th>\n",
       "      <th>5</th>\n",
       "      <td>21</td>\n",
       "      <td>115</td>\n",
       "      <td>0.182609</td>\n",
       "    </tr>\n",
       "    <tr>\n",
       "      <th>6</th>\n",
       "      <td>8</td>\n",
       "      <td>35</td>\n",
       "      <td>0.228571</td>\n",
       "    </tr>\n",
       "    <tr>\n",
       "      <th>7</th>\n",
       "      <td>9</td>\n",
       "      <td>83</td>\n",
       "      <td>0.108434</td>\n",
       "    </tr>\n",
       "    <tr>\n",
       "      <th>8</th>\n",
       "      <td>20</td>\n",
       "      <td>109</td>\n",
       "      <td>0.183486</td>\n",
       "    </tr>\n",
       "    <tr>\n",
       "      <th>9</th>\n",
       "      <td>16</td>\n",
       "      <td>69</td>\n",
       "      <td>0.231884</td>\n",
       "    </tr>\n",
       "  </tbody>\n",
       "</table>\n",
       "<p>100 rows × 3 columns</p>\n",
       "</div>"
      ],
      "text/plain": [
       "                                  sum  size      mean\n",
       "credit_score_bins loan_amnt_bins                     \n",
       "0                 0                14   112  0.125000\n",
       "                  1                12    86  0.139535\n",
       "                  2                 8    79  0.101266\n",
       "                  3                 3    78  0.038462\n",
       "                  4                 8    95  0.084211\n",
       "...                               ...   ...       ...\n",
       "9                 5                21   115  0.182609\n",
       "                  6                 8    35  0.228571\n",
       "                  7                 9    83  0.108434\n",
       "                  8                20   109  0.183486\n",
       "                  9                16    69  0.231884\n",
       "\n",
       "[100 rows x 3 columns]"
      ]
     },
     "execution_count": 98,
     "metadata": {},
     "output_type": "execute_result"
    }
   ],
   "source": [
    "df_temp = raleigh_df_no_dup.merge(tu_data,on=['id','sequence_num'])\n",
    "df_raleigh = df_temp.groupby(['credit_score_bins','loan_amnt_bins'])['offer_accepted'].agg(['sum','size','mean'])\n",
    "df_raleigh"
   ]
  },
  {
   "cell_type": "code",
   "execution_count": 99,
   "metadata": {},
   "outputs": [
    {
     "data": {
      "text/html": [
       "<div>\n",
       "<style scoped>\n",
       "    .dataframe tbody tr th:only-of-type {\n",
       "        vertical-align: middle;\n",
       "    }\n",
       "\n",
       "    .dataframe tbody tr th {\n",
       "        vertical-align: top;\n",
       "    }\n",
       "\n",
       "    .dataframe thead th {\n",
       "        text-align: right;\n",
       "    }\n",
       "</style>\n",
       "<table border=\"1\" class=\"dataframe\">\n",
       "  <thead>\n",
       "    <tr style=\"text-align: right;\">\n",
       "      <th></th>\n",
       "      <th></th>\n",
       "      <th>sum</th>\n",
       "      <th>size</th>\n",
       "      <th>mean</th>\n",
       "    </tr>\n",
       "    <tr>\n",
       "      <th>credit_score_bins</th>\n",
       "      <th>loan_amnt_bins</th>\n",
       "      <th></th>\n",
       "      <th></th>\n",
       "      <th></th>\n",
       "    </tr>\n",
       "  </thead>\n",
       "  <tbody>\n",
       "    <tr>\n",
       "      <th rowspan=\"10\" valign=\"top\">0</th>\n",
       "      <th>0</th>\n",
       "      <td>2</td>\n",
       "      <td>141</td>\n",
       "      <td>0.014184</td>\n",
       "    </tr>\n",
       "    <tr>\n",
       "      <th>1</th>\n",
       "      <td>2</td>\n",
       "      <td>104</td>\n",
       "      <td>0.019231</td>\n",
       "    </tr>\n",
       "    <tr>\n",
       "      <th>2</th>\n",
       "      <td>1</td>\n",
       "      <td>114</td>\n",
       "      <td>0.008772</td>\n",
       "    </tr>\n",
       "    <tr>\n",
       "      <th>3</th>\n",
       "      <td>1</td>\n",
       "      <td>108</td>\n",
       "      <td>0.009259</td>\n",
       "    </tr>\n",
       "    <tr>\n",
       "      <th>4</th>\n",
       "      <td>4</td>\n",
       "      <td>106</td>\n",
       "      <td>0.037736</td>\n",
       "    </tr>\n",
       "    <tr>\n",
       "      <th>5</th>\n",
       "      <td>1</td>\n",
       "      <td>110</td>\n",
       "      <td>0.009091</td>\n",
       "    </tr>\n",
       "    <tr>\n",
       "      <th>6</th>\n",
       "      <td>0</td>\n",
       "      <td>128</td>\n",
       "      <td>0.000000</td>\n",
       "    </tr>\n",
       "    <tr>\n",
       "      <th>7</th>\n",
       "      <td>4</td>\n",
       "      <td>125</td>\n",
       "      <td>0.032000</td>\n",
       "    </tr>\n",
       "    <tr>\n",
       "      <th>8</th>\n",
       "      <td>2</td>\n",
       "      <td>83</td>\n",
       "      <td>0.024096</td>\n",
       "    </tr>\n",
       "    <tr>\n",
       "      <th>9</th>\n",
       "      <td>1</td>\n",
       "      <td>105</td>\n",
       "      <td>0.009524</td>\n",
       "    </tr>\n",
       "    <tr>\n",
       "      <th rowspan=\"2\" valign=\"top\">1</th>\n",
       "      <th>0</th>\n",
       "      <td>3</td>\n",
       "      <td>125</td>\n",
       "      <td>0.024000</td>\n",
       "    </tr>\n",
       "    <tr>\n",
       "      <th>1</th>\n",
       "      <td>4</td>\n",
       "      <td>107</td>\n",
       "      <td>0.037383</td>\n",
       "    </tr>\n",
       "  </tbody>\n",
       "</table>\n",
       "</div>"
      ],
      "text/plain": [
       "                                  sum  size      mean\n",
       "credit_score_bins loan_amnt_bins                     \n",
       "0                 0                 2   141  0.014184\n",
       "                  1                 2   104  0.019231\n",
       "                  2                 1   114  0.008772\n",
       "                  3                 1   108  0.009259\n",
       "                  4                 4   106  0.037736\n",
       "                  5                 1   110  0.009091\n",
       "                  6                 0   128  0.000000\n",
       "                  7                 4   125  0.032000\n",
       "                  8                 2    83  0.024096\n",
       "                  9                 1   105  0.009524\n",
       "1                 0                 3   125  0.024000\n",
       "                  1                 4   107  0.037383"
      ]
     },
     "execution_count": 99,
     "metadata": {},
     "output_type": "execute_result"
    }
   ],
   "source": [
    "df_temp = lubbock_df_no_dup.merge(tu_data,on=['id','sequence_num'])\n",
    "df_lubbock = df_temp.groupby(['credit_score_bins','loan_amnt_bins'])['offer_accepted'].agg(['sum','size','mean'])\n",
    "df_lubbock.head(12)"
   ]
  },
  {
   "cell_type": "markdown",
   "metadata": {},
   "source": [
    "Run an a/b test on each of the bins in your data and create a $10\\times 10$ table containing the $p$ value of each test."
   ]
  },
  {
   "cell_type": "code",
   "execution_count": 109,
   "metadata": {},
   "outputs": [
    {
     "data": {
      "text/plain": [
       "array([[3.21855828e-04, 1.58101405e-03, 2.73016445e-03, 1.75489715e-01,\n",
       "        1.65022071e-01, 1.35193554e-03, 1.34648972e-04, 1.24310847e-01,\n",
       "        1.23781831e-05, 7.10407871e-03],\n",
       "       [4.05691976e-03, 7.51837388e-01, 6.28241008e-01, 2.63883688e-01,\n",
       "        3.65331190e-02, 2.52862965e-03, 3.00411025e-02, 4.61219364e-01,\n",
       "        4.17351694e-01, 3.46891744e-01],\n",
       "       [2.11963569e-01, 1.59184605e-01, 8.28161641e-01, 3.16909743e-01,\n",
       "        4.99173094e-01, 1.58750724e-02, 5.16752392e-01, 7.27001087e-02,\n",
       "        8.93729099e-02, 4.48061704e-02],\n",
       "       [3.56773776e-01, 1.78971455e-01, 9.42214396e-02, 2.82789841e-02,\n",
       "        7.62259200e-01, 1.91394734e-01, 8.12668004e-01, 4.82498071e-02,\n",
       "        7.40370275e-01, 6.92417465e-01],\n",
       "       [6.12373469e-01, 6.01717296e-02, 3.78084417e-01, 8.03454698e-02,\n",
       "        4.64645986e-02, 2.52880989e-01, 4.45737865e-01,            nan,\n",
       "        6.71785823e-01, 3.57352937e-01],\n",
       "       [4.44861338e-04, 8.63516431e-02, 4.27846435e-03, 1.05480326e-01,\n",
       "        5.02145803e-01, 3.89288039e-01, 3.73084046e-01, 3.14874753e-01,\n",
       "        1.59248892e-01, 1.88836572e-02],\n",
       "       [2.16960497e-01, 6.61396548e-02, 3.38000436e-01, 4.48529881e-01,\n",
       "        3.62345369e-01, 4.86927056e-01, 7.18756976e-01, 3.35063153e-01,\n",
       "        5.18002357e-01, 5.07211850e-01],\n",
       "       [5.05920016e-01, 7.72003596e-01, 3.11056524e-01, 7.31597839e-02,\n",
       "        9.17857947e-01, 6.33752788e-03, 2.95795311e-02, 5.82007193e-01,\n",
       "        1.78939231e-02, 4.38122389e-01],\n",
       "       [6.09729612e-01, 3.13415736e-01, 2.20816490e-01, 7.43474109e-02,\n",
       "        6.67102330e-01, 2.72242323e-01, 2.15893014e-01, 1.91605257e-01,\n",
       "        2.50165272e-01, 9.90707607e-01],\n",
       "       [9.05423698e-01, 1.38723470e-01, 3.78740105e-01, 2.85468675e-01,\n",
       "        6.72572812e-01, 6.00185227e-01, 8.26114831e-02, 7.44670136e-01,\n",
       "        3.92404193e-02, 1.47688532e-01]])"
      ]
     },
     "execution_count": 109,
     "metadata": {},
     "output_type": "execute_result"
    }
   ],
   "source": [
    "p_values = []\n",
    "for i in range(100):\n",
    "    \n",
    "    sample_raleigh, sample_size_raleigh = (df_raleigh.iloc[i,0],df_raleigh.iloc[i,1])\n",
    "    sample_lubbock, sample_size_lubbock = (df_lubbock.iloc[i,0],df_lubbock.iloc[i,1])\n",
    "\n",
    "    successes = np.array([sample_raleigh, sample_lubbock])\n",
    "    samples = np.array([sample_size_raleigh, sample_size_lubbock])\n",
    "    stat, p_value = proportions_ztest(count=successes, nobs=samples,alternative='two-sided')\n",
    "    p_values.append(p_value)\n",
    "\n",
    "p_values = np.array(p_values).reshape((10,10))\n",
    "p_values"
   ]
  },
  {
   "cell_type": "markdown",
   "metadata": {},
   "source": [
    "Use the [seaborn.heatmap](https://seaborn.pydata.org/generated/seaborn.heatmap.html) function to represent your table as a heatmap. You can also use it on a suitable table of boolean values to get a more robus representation of which experiments turned out significant."
   ]
  },
  {
   "cell_type": "code",
   "execution_count": 110,
   "metadata": {},
   "outputs": [
    {
     "data": {
      "text/plain": [
       "<matplotlib.axes._subplots.AxesSubplot at 0x7fd008e42f70>"
      ]
     },
     "execution_count": 110,
     "metadata": {},
     "output_type": "execute_result"
    },
    {
     "data": {
      "image/png": "[encoded data removed]",
      "text/plain": [
       "<Figure size 432x288 with 2 Axes>"
      ]
     },
     "metadata": {
      "needs_background": "light"
     },
     "output_type": "display_data"
    }
   ],
   "source": [
    "sns.heatmap(p_values<=0.05)"
   ]
  },
  {
   "cell_type": "markdown",
   "metadata": {},
   "source": [
    "What is the probability of falsely rejecting the null hypothesis in each cell? What is the probability of falsely rejecting the null hypothesis in at least one of the cells (i.e. what is the **family wise error rate**)?\n",
    "\n",
    "In other words, given that we made $m$ experiments, with confidence level $\\alpha$, what is the probabilty $\\mathbb{P}\\left(\\bigcup_i X_i \\le q_{\\alpha}\\right)$? \n",
    "\n",
    "_Note_: you may assume that sampling from different bins are independent."
   ]
  },
  {
   "cell_type": "markdown",
   "metadata": {},
   "source": [
    "- The probabilty is:\n",
    "\n",
    "$\\mathbb{P}(\\bigcup_i X_i \\leq q_\\alpha) = 1 - \\mathbb{P}(\\bigcap_i X_i > q_\\alpha) = 1 - \\prod_i\\mathbb{P}(X_i > q_\\alpha) = 1- \\prod_i \\alpha = 1- \\alpha^m$ \n",
    "\n",
    "In our case it is almost 1, which means we almost surely falsely reject the null hypothesis in at least one of the cells."
   ]
  },
  {
   "cell_type": "markdown",
   "metadata": {},
   "source": [
    "## Bonferroni correction "
   ]
  },
  {
   "cell_type": "markdown",
   "metadata": {},
   "source": [
    "One way of assuring that your FWER remains below $\\alpha=0.05$ is to apply a <a href=\"https://en.wikipedia.org/wiki/Bonferroni_correction\">**Bonferroni correction**</a>. This means that we set the signficance level of each individual test to $\\alpha/m$, where $m=100$ is the number of tests (see, e.g., Wikipedia for an explanation). \n",
    "\n",
    "Use a Bonferroni correction on your segmented a/b test and output a $10\\times10$ table of boolean values, indicating which test gave a significant result under this correction."
   ]
  },
  {
   "cell_type": "code",
   "execution_count": 111,
   "metadata": {},
   "outputs": [
    {
     "data": {
      "text/plain": [
       "array([[ True, False, False, False, False, False,  True, False,  True,\n",
       "        False],\n",
       "       [False, False, False, False, False, False, False, False, False,\n",
       "        False],\n",
       "       [False, False, False, False, False, False, False, False, False,\n",
       "        False],\n",
       "       [False, False, False, False, False, False, False, False, False,\n",
       "        False],\n",
       "       [False, False, False, False, False, False, False, False, False,\n",
       "        False],\n",
       "       [ True, False, False, False, False, False, False, False, False,\n",
       "        False],\n",
       "       [False, False, False, False, False, False, False, False, False,\n",
       "        False],\n",
       "       [False, False, False, False, False, False, False, False, False,\n",
       "        False],\n",
       "       [False, False, False, False, False, False, False, False, False,\n",
       "        False],\n",
       "       [False, False, False, False, False, False, False, False, False,\n",
       "        False]])"
      ]
     },
     "execution_count": 111,
     "metadata": {},
     "output_type": "execute_result"
    }
   ],
   "source": [
    "p_values<0.0005"
   ]
  },
  {
   "cell_type": "markdown",
   "metadata": {},
   "source": [
    "How many of your tests came out significant under this correction?"
   ]
  },
  {
   "cell_type": "markdown",
   "metadata": {},
   "source": [
    "- 0"
   ]
  },
  {
   "cell_type": "markdown",
   "metadata": {},
   "source": [
    "Visualize your result using the [seaborn.heatmap]() function and compare to the previous heatmap."
   ]
  },
  {
   "cell_type": "code",
   "execution_count": 112,
   "metadata": {},
   "outputs": [
    {
     "data": {
      "text/plain": [
       "<matplotlib.axes._subplots.AxesSubplot at 0x7fcfea9735e0>"
      ]
     },
     "execution_count": 112,
     "metadata": {},
     "output_type": "execute_result"
    },
    {
     "data": {
      "image/png": "[encoded data removed]",
      "text/plain": [
       "<Figure size 432x288 with 2 Axes>"
      ]
     },
     "metadata": {
      "needs_background": "light"
     },
     "output_type": "display_data"
    }
   ],
   "source": [
    "sns.heatmap(p_values<=0.0005,vmin = 0, vmax=1)"
   ]
  },
  {
   "cell_type": "markdown",
   "metadata": {},
   "source": [
    "## BH correction "
   ]
  },
  {
   "cell_type": "markdown",
   "metadata": {},
   "source": [
    "The Bonferroni correction is often criticized for being too restrictive, as you probably noticed in the last subsection. A more commonly used method for correcting $\\alpha$ values is the Benjamini-Hochberg method. You can <a href=\"https://www.youtube.com/watch?v=K8LQSvtjcEo\">check out the quest</a> for a nice explanation about it."
   ]
  },
  {
   "cell_type": "markdown",
   "metadata": {},
   "source": [
    "Start by arranging the $p$-values of your original test as a series and listing them in ascending order. You can use the `pd.DataFrame.stack` and `pd.Series.sort_values` methods."
   ]
  },
  {
   "cell_type": "code",
   "execution_count": 113,
   "metadata": {},
   "outputs": [],
   "source": [
    "ind = np.argsort(p_values.reshape(-1))\n",
    "p_values_sorted = p_values.reshape(-1)[ind]"
   ]
  },
  {
   "cell_type": "markdown",
   "metadata": {},
   "source": [
    "Plot your sorted $p$-values"
   ]
  },
  {
   "cell_type": "code",
   "execution_count": 114,
   "metadata": {},
   "outputs": [
    {
     "data": {
      "text/plain": [
       "[<matplotlib.lines.Line2D at 0x7fcfead69520>]"
      ]
     },
     "execution_count": 114,
     "metadata": {},
     "output_type": "execute_result"
    },
    {
     "data": {
      "image/png": "[encoded data removed]",
      "text/plain": [
       "<Figure size 432x288 with 1 Axes>"
      ]
     },
     "metadata": {
      "needs_background": "light"
     },
     "output_type": "display_data"
    }
   ],
   "source": [
    "plt.plot(p_values_sorted)"
   ]
  },
  {
   "cell_type": "code",
   "execution_count": 115,
   "metadata": {},
   "outputs": [
    {
     "data": {
      "text/plain": [
       "array([1.23781831e-05, 1.34648972e-04, 3.21855828e-04, 4.44861338e-04,\n",
       "       1.35193554e-03, 1.58101405e-03, 2.52862965e-03, 2.73016445e-03,\n",
       "       4.05691976e-03, 4.27846435e-03, 6.33752788e-03, 7.10407871e-03,\n",
       "       1.58750724e-02, 1.78939231e-02, 1.88836572e-02, 2.82789841e-02,\n",
       "       2.95795311e-02, 3.00411025e-02, 3.65331190e-02, 3.92404193e-02,\n",
       "       4.48061704e-02, 4.64645986e-02, 4.82498071e-02, 6.01717296e-02,\n",
       "       6.61396548e-02, 7.27001087e-02, 7.31597839e-02, 7.43474109e-02,\n",
       "       8.03454698e-02, 8.26114831e-02, 8.63516431e-02, 8.93729099e-02,\n",
       "       9.42214396e-02, 1.05480326e-01, 1.24310847e-01, 1.38723470e-01,\n",
       "       1.47688532e-01, 1.59184605e-01, 1.59248892e-01, 1.65022071e-01,\n",
       "       1.75489715e-01, 1.78971455e-01, 1.91394734e-01, 1.91605257e-01,\n",
       "       2.11963569e-01, 2.15893014e-01, 2.16960497e-01, 2.20816490e-01,\n",
       "       2.50165272e-01, 2.52880989e-01, 2.63883688e-01, 2.72242323e-01,\n",
       "       2.85468675e-01, 3.11056524e-01, 3.13415736e-01, 3.14874753e-01,\n",
       "       3.16909743e-01, 3.35063153e-01, 3.38000436e-01, 3.46891744e-01,\n",
       "       3.56773776e-01, 3.57352937e-01, 3.62345369e-01, 3.73084046e-01,\n",
       "       3.78084417e-01, 3.78740105e-01, 3.89288039e-01, 4.17351694e-01,\n",
       "       4.38122389e-01, 4.45737865e-01, 4.48529881e-01, 4.61219364e-01,\n",
       "       4.86927056e-01, 4.99173094e-01, 5.02145803e-01, 5.05920016e-01,\n",
       "       5.07211850e-01, 5.16752392e-01, 5.18002357e-01, 5.82007193e-01,\n",
       "       6.00185227e-01, 6.09729612e-01, 6.12373469e-01, 6.28241008e-01,\n",
       "       6.67102330e-01, 6.71785823e-01, 6.72572812e-01, 6.92417465e-01,\n",
       "       7.18756976e-01, 7.40370275e-01, 7.44670136e-01, 7.51837388e-01,\n",
       "       7.62259200e-01, 7.72003596e-01, 8.12668004e-01, 8.28161641e-01,\n",
       "       9.05423698e-01, 9.17857947e-01, 9.90707607e-01,            nan])"
      ]
     },
     "execution_count": 115,
     "metadata": {},
     "output_type": "execute_result"
    }
   ],
   "source": [
    "p_values_sorted"
   ]
  },
  {
   "cell_type": "markdown",
   "metadata": {},
   "source": [
    "For each entry of the new series, compute the value compute the value $\\frac{i}{m}\\cdot\\alpha$, where $i$ is the ordinal place of the entry (i.e. 1,2,...len(series)), $m=100$ and $\\alpha=0.05$ as above. Add a plot of these values to your $p$-values plot."
   ]
  },
  {
   "cell_type": "code",
   "execution_count": 116,
   "metadata": {},
   "outputs": [],
   "source": [
    "values = np.arange(100) * 0.05 / 100"
   ]
  },
  {
   "cell_type": "code",
   "execution_count": 117,
   "metadata": {},
   "outputs": [
    {
     "data": {
      "text/plain": [
       "<matplotlib.legend.Legend at 0x7fd0088fb490>"
      ]
     },
     "execution_count": 117,
     "metadata": {},
     "output_type": "execute_result"
    },
    {
     "data": {
      "image/png": "[encoded data removed]",
      "text/plain": [
       "<Figure size 432x288 with 1 Axes>"
      ]
     },
     "metadata": {
      "needs_background": "light"
     },
     "output_type": "display_data"
    }
   ],
   "source": [
    "plt.plot(p_values_sorted, label='p-value')\n",
    "plt.plot(values, label='adjusted-alpha')\n",
    "plt.legend()"
   ]
  },
  {
   "cell_type": "markdown",
   "metadata": {},
   "source": [
    "Find the largest index $i$ for which the $p$-value in the $i$-th place in the series is smaller than $\\frac{i}{m}\\cdot\\alpha$. That is- the last index in the plot you just created where the $p$-values line lies below the _adjusted_-$\\alpha$ line."
   ]
  },
  {
   "cell_type": "code",
   "execution_count": 123,
   "metadata": {},
   "outputs": [
    {
     "name": "stdout",
     "output_type": "stream",
     "text": [
      "[0.00013465 0.00032186 0.00044486 0.00135194 0.00158101 0.00252863\n",
      " 0.00273016 0.00427846]\n"
     ]
    },
    {
     "data": {
      "text/plain": [
       "0.004278464353322961"
      ]
     },
     "execution_count": 123,
     "metadata": {},
     "output_type": "execute_result"
    }
   ],
   "source": [
    "fixed_alpha_arr = p_values_sorted[p_values_sorted < values]\n",
    "print(fixed_alpha_arr)\n",
    "fixed_alpha = 0\n",
    "if len(fixed_alpha_arr)==0:\n",
    "    fixed_alpha = p_values_sorted[0]\n",
    "else:\n",
    "    fixed_alpha=fixed_alpha_arr[-1]\n",
    "fixed_alpha"
   ]
  },
  {
   "cell_type": "markdown",
   "metadata": {},
   "source": [
    "Reject the null hypothesis for all test before and including this index, and accept it for all others. Reformat your table into a $10\\times 10$ dataframe; for which bins did we get a significant result in the corrected test?"
   ]
  },
  {
   "cell_type": "code",
   "execution_count": 121,
   "metadata": {},
   "outputs": [
    {
     "data": {
      "text/plain": [
       "array([[ True,  True,  True, False, False,  True,  True, False,  True,\n",
       "        False],\n",
       "       [ True, False, False, False, False,  True, False, False, False,\n",
       "        False],\n",
       "       [False, False, False, False, False, False, False, False, False,\n",
       "        False],\n",
       "       [False, False, False, False, False, False, False, False, False,\n",
       "        False],\n",
       "       [False, False, False, False, False, False, False, False, False,\n",
       "        False],\n",
       "       [ True, False, False, False, False, False, False, False, False,\n",
       "        False],\n",
       "       [False, False, False, False, False, False, False, False, False,\n",
       "        False],\n",
       "       [False, False, False, False, False, False, False, False, False,\n",
       "        False],\n",
       "       [False, False, False, False, False, False, False, False, False,\n",
       "        False],\n",
       "       [False, False, False, False, False, False, False, False, False,\n",
       "        False]])"
      ]
     },
     "execution_count": 121,
     "metadata": {},
     "output_type": "execute_result"
    }
   ],
   "source": [
    "p_values < fixed_alpha"
   ]
  },
  {
   "cell_type": "markdown",
   "metadata": {},
   "source": [
    "Visualize your result using the [seaborn.heatmap]() function and compare to the previous heatmap."
   ]
  },
  {
   "cell_type": "code",
   "execution_count": 122,
   "metadata": {},
   "outputs": [
    {
     "data": {
      "text/plain": [
       "<matplotlib.axes._subplots.AxesSubplot at 0x7fd0090f35b0>"
      ]
     },
     "execution_count": 122,
     "metadata": {},
     "output_type": "execute_result"
    },
    {
     "data": {
      "image/png": "[encoded data removed]",
      "text/plain": [
       "<Figure size 432x288 with 2 Axes>"
      ]
     },
     "metadata": {
      "needs_background": "light"
     },
     "output_type": "display_data"
    }
   ],
   "source": [
    "sns.heatmap(p_values < fixed_alpha,vmin = 0, vmax=1)"
   ]
  },
  {
   "cell_type": "markdown",
   "metadata": {},
   "source": [
    "### Validating your results"
   ]
  },
  {
   "cell_type": "markdown",
   "metadata": {},
   "source": [
    "You can validate your results (for both corrections) using the <a href= \"https://www.statsmodels.org/dev/generated/statsmodels.stats.multitest.multipletests.html\">`statsmodels.stats.multitest.multipletests`</a> package."
   ]
  },
  {
   "cell_type": "code",
   "execution_count": null,
   "metadata": {},
   "outputs": [],
   "source": []
  },
  {
   "cell_type": "code",
   "execution_count": null,
   "metadata": {},
   "outputs": [],
   "source": []
  },
  {
   "cell_type": "code",
   "execution_count": null,
   "metadata": {},
   "outputs": [],
   "source": []
  },
  {
   "cell_type": "code",
   "execution_count": null,
   "metadata": {},
   "outputs": [],
   "source": []
  },
  {
   "cell_type": "code",
   "execution_count": null,
   "metadata": {},
   "outputs": [],
   "source": []
  }
 ],
 "metadata": {
  "kernelspec": {
   "display_name": "Python 3",
   "language": "python",
   "name": "python3"
  },
  "language_info": {
   "codemirror_mode": {
    "name": "ipython",
    "version": 3
   },
   "file_extension": ".py",
   "mimetype": "text/x-python",
   "name": "python",
   "nbconvert_exporter": "python",
   "pygments_lexer": "ipython3",
   "version": "3.8.10"
  }
 },
 "nbformat": 4,
 "nbformat_minor": 4
}

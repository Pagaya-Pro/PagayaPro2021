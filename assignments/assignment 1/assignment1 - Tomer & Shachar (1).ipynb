{
 "cells": [
  {
   "cell_type": "markdown",
   "metadata": {},
   "source": [
    "# Assignment objective"
   ]
  },
  {
   "cell_type": "markdown",
   "metadata": {},
   "source": [
    "We have data from Raleigh, NC, where we recently deployed a flyer program in order to increase public awareness of the possibility of taking a Pagaya loan. You objective is to assess the potency of the flyer program in terms of activation by analyzing production and TU data obtained from the town.\n"
   ]
  },
  {
   "cell_type": "markdown",
   "metadata": {},
   "source": [
    "# Basic imports "
   ]
  },
  {
   "cell_type": "code",
   "execution_count": 1,
   "metadata": {
    "tags": []
   },
   "outputs": [],
   "source": [
    "import pandas as pd\n",
    "import numpy as np\n",
    "import matplotlib.pyplot as plt\n",
    "import seaborn as sns\n",
    "import os\n",
    "from scipy.stats import norm\n",
    "\n",
    "import warnings\n",
    "warnings.filterwarnings(\"ignore\", category=FutureWarning)"
   ]
  },
  {
   "cell_type": "markdown",
   "metadata": {},
   "source": [
    "# Data preparation"
   ]
  },
  {
   "cell_type": "markdown",
   "metadata": {},
   "source": [
    "## Data from TU "
   ]
  },
  {
   "cell_type": "markdown",
   "metadata": {},
   "source": [
    "To begin with, upload TUs credit information from the relevant quarter (which is 2018Q3). This data is available in our `s3` path under the name `tu_gen_data2018Q3.parquet`. To get to our `s3` path import `DATA_FILES_PATH` from `pagayapro.paths.data_paths`"
   ]
  },
  {
   "cell_type": "code",
   "execution_count": 2,
   "metadata": {
    "tags": []
   },
   "outputs": [],
   "source": [
    "from pagayapro.paths.data_paths import DATA_FILES_PATH"
   ]
  },
  {
   "cell_type": "markdown",
   "metadata": {},
   "source": [
    "read the parquet file from `s3`. Only read the columns [\"sequence_num\", \"credit_score\", \"listing_term\", \"int_rate\", \"loan_amnt\", \"monthly_pmt\", \"original_state\"]"
   ]
  },
  {
   "cell_type": "code",
   "execution_count": 3,
   "metadata": {
    "tags": []
   },
   "outputs": [],
   "source": [
    "tu_data= pd.read_parquet(\n",
    "    os.path.join(DATA_FILES_PATH,\"tu_gen_data_2018Q3.parquet\"),\n",
    "                columns = [\"sequence_num\", \"credit_score\", \n",
    "                           \"listing_term\", \"int_rate\" ,\n",
    "                           \"loan_amnt\", \"monthly_pmt\", \n",
    "                           \"original_state\"])"
   ]
  },
  {
   "cell_type": "markdown",
   "metadata": {},
   "source": [
    "Output the first 5 rows of tu_data"
   ]
  },
  {
   "cell_type": "code",
   "execution_count": 4,
   "metadata": {},
   "outputs": [
    {
     "data": {
      "text/html": [
       "<div>\n",
       "<style scoped>\n",
       "    .dataframe tbody tr th:only-of-type {\n",
       "        vertical-align: middle;\n",
       "    }\n",
       "\n",
       "    .dataframe tbody tr th {\n",
       "        vertical-align: top;\n",
       "    }\n",
       "\n",
       "    .dataframe thead th {\n",
       "        text-align: right;\n",
       "    }\n",
       "</style>\n",
       "<table border=\"1\" class=\"dataframe\">\n",
       "  <thead>\n",
       "    <tr style=\"text-align: right;\">\n",
       "      <th></th>\n",
       "      <th>sequence_num</th>\n",
       "      <th>credit_score</th>\n",
       "      <th>listing_term</th>\n",
       "      <th>int_rate</th>\n",
       "      <th>loan_amnt</th>\n",
       "      <th>monthly_pmt</th>\n",
       "      <th>original_state</th>\n",
       "    </tr>\n",
       "    <tr>\n",
       "      <th>id</th>\n",
       "      <th></th>\n",
       "      <th></th>\n",
       "      <th></th>\n",
       "      <th></th>\n",
       "      <th></th>\n",
       "      <th></th>\n",
       "      <th></th>\n",
       "    </tr>\n",
       "  </thead>\n",
       "  <tbody>\n",
       "    <tr>\n",
       "      <th>adf5219e4cb985352184eb7fa597737e4a9777f7354f7a8a58270da147792561</th>\n",
       "      <td>d0820401b209782dae4284b3dd96b41e08c3e8566fbb33...</td>\n",
       "      <td>814</td>\n",
       "      <td>36.0</td>\n",
       "      <td>7.86</td>\n",
       "      <td>5500.0</td>\n",
       "      <td>172.0</td>\n",
       "      <td>MI</td>\n",
       "    </tr>\n",
       "    <tr>\n",
       "      <th>0a0f130443af4c6597bb074942970eaddeb125d398e2cca42175c56befc8a171</th>\n",
       "      <td>2f05cd66cb998e5e55f6f296344b271b2b89b996c7c037...</td>\n",
       "      <td>800</td>\n",
       "      <td>36.0</td>\n",
       "      <td>7.91</td>\n",
       "      <td>20000.0</td>\n",
       "      <td>626.0</td>\n",
       "      <td>NM</td>\n",
       "    </tr>\n",
       "    <tr>\n",
       "      <th>4ba9c6a38b650ee06b8b88a48621bd363cdf611e63400c6fc4bbffbd1bf20c47</th>\n",
       "      <td>20bdbfaf0006db032d8a4176add08fd4ef45abfb17c474...</td>\n",
       "      <td>653</td>\n",
       "      <td>36.0</td>\n",
       "      <td>30.51</td>\n",
       "      <td>3674.0</td>\n",
       "      <td>157.0</td>\n",
       "      <td>SD</td>\n",
       "    </tr>\n",
       "    <tr>\n",
       "      <th>dae3a344292e07d4b8935a453c37aef01303f21b2f37ccbd1c4408f158533acb</th>\n",
       "      <td>53084498c6bf053a4d1cf309e1b8ec234e503bb1a3dd4e...</td>\n",
       "      <td>623</td>\n",
       "      <td>60.0</td>\n",
       "      <td>23.46</td>\n",
       "      <td>14056.0</td>\n",
       "      <td>400.0</td>\n",
       "      <td>NC</td>\n",
       "    </tr>\n",
       "    <tr>\n",
       "      <th>8af2ae2462d012e4d85aa687a16a4f5fb64525928235da43c795f73dc0cadd04</th>\n",
       "      <td>f750c4ecac12ae1c156998ed3dff3f46d2d19f37250074...</td>\n",
       "      <td>627</td>\n",
       "      <td>60.0</td>\n",
       "      <td>25.55</td>\n",
       "      <td>8659.0</td>\n",
       "      <td>257.0</td>\n",
       "      <td>TN</td>\n",
       "    </tr>\n",
       "  </tbody>\n",
       "</table>\n",
       "</div>"
      ],
      "text/plain": [
       "                                                                                         sequence_num  \\\n",
       "id                                                                                                      \n",
       "adf5219e4cb985352184eb7fa597737e4a9777f7354f7a8...  d0820401b209782dae4284b3dd96b41e08c3e8566fbb33...   \n",
       "0a0f130443af4c6597bb074942970eaddeb125d398e2cca...  2f05cd66cb998e5e55f6f296344b271b2b89b996c7c037...   \n",
       "4ba9c6a38b650ee06b8b88a48621bd363cdf611e63400c6...  20bdbfaf0006db032d8a4176add08fd4ef45abfb17c474...   \n",
       "dae3a344292e07d4b8935a453c37aef01303f21b2f37ccb...  53084498c6bf053a4d1cf309e1b8ec234e503bb1a3dd4e...   \n",
       "8af2ae2462d012e4d85aa687a16a4f5fb64525928235da4...  f750c4ecac12ae1c156998ed3dff3f46d2d19f37250074...   \n",
       "\n",
       "                                                    credit_score  \\\n",
       "id                                                                 \n",
       "adf5219e4cb985352184eb7fa597737e4a9777f7354f7a8...           814   \n",
       "0a0f130443af4c6597bb074942970eaddeb125d398e2cca...           800   \n",
       "4ba9c6a38b650ee06b8b88a48621bd363cdf611e63400c6...           653   \n",
       "dae3a344292e07d4b8935a453c37aef01303f21b2f37ccb...           623   \n",
       "8af2ae2462d012e4d85aa687a16a4f5fb64525928235da4...           627   \n",
       "\n",
       "                                                    listing_term  int_rate  \\\n",
       "id                                                                           \n",
       "adf5219e4cb985352184eb7fa597737e4a9777f7354f7a8...          36.0      7.86   \n",
       "0a0f130443af4c6597bb074942970eaddeb125d398e2cca...          36.0      7.91   \n",
       "4ba9c6a38b650ee06b8b88a48621bd363cdf611e63400c6...          36.0     30.51   \n",
       "dae3a344292e07d4b8935a453c37aef01303f21b2f37ccb...          60.0     23.46   \n",
       "8af2ae2462d012e4d85aa687a16a4f5fb64525928235da4...          60.0     25.55   \n",
       "\n",
       "                                                    loan_amnt  monthly_pmt  \\\n",
       "id                                                                           \n",
       "adf5219e4cb985352184eb7fa597737e4a9777f7354f7a8...     5500.0        172.0   \n",
       "0a0f130443af4c6597bb074942970eaddeb125d398e2cca...    20000.0        626.0   \n",
       "4ba9c6a38b650ee06b8b88a48621bd363cdf611e63400c6...     3674.0        157.0   \n",
       "dae3a344292e07d4b8935a453c37aef01303f21b2f37ccb...    14056.0        400.0   \n",
       "8af2ae2462d012e4d85aa687a16a4f5fb64525928235da4...     8659.0        257.0   \n",
       "\n",
       "                                                   original_state  \n",
       "id                                                                 \n",
       "adf5219e4cb985352184eb7fa597737e4a9777f7354f7a8...             MI  \n",
       "0a0f130443af4c6597bb074942970eaddeb125d398e2cca...             NM  \n",
       "4ba9c6a38b650ee06b8b88a48621bd363cdf611e63400c6...             SD  \n",
       "dae3a344292e07d4b8935a453c37aef01303f21b2f37ccb...             NC  \n",
       "8af2ae2462d012e4d85aa687a16a4f5fb64525928235da4...             TN  "
      ]
     },
     "execution_count": 4,
     "metadata": {},
     "output_type": "execute_result"
    }
   ],
   "source": [
    "tu_data.head()"
   ]
  },
  {
   "cell_type": "markdown",
   "metadata": {},
   "source": [
    "## Activation data "
   ]
  },
  {
   "cell_type": "markdown",
   "metadata": {},
   "source": [
    "Your data regarding activation arrives as forms, detailing the loan amount, interest rate offered to the client and whether he or she accepted the offer. These are available on the assignment's `s3` path, which you can import from `pagayapro.path.data_paths` under the name `ASSIGNMENT1_DATA`, in the subdirectory `offers`. "
   ]
  },
  {
   "cell_type": "code",
   "execution_count": 5,
   "metadata": {
    "tags": []
   },
   "outputs": [],
   "source": [
    "from pagayapro.paths.data_paths import ASSIGNMENT1_DATA\n",
    "import glob"
   ]
  },
  {
   "cell_type": "markdown",
   "metadata": {},
   "source": [
    "Read all files in the subdirectory `offers` of `ASSIGNMENT1_DATA` whose name contains the substring `raleigh`."
   ]
  },
  {
   "cell_type": "code",
   "execution_count": 6,
   "metadata": {
    "tags": []
   },
   "outputs": [],
   "source": [
    "raleigh_forms= (\n",
    "    glob.glob(\n",
    "        os.path.join(ASSIGNMENT1_DATA,\"offers/*raleigh*\")\n",
    "    )\n",
    ")"
   ]
  },
  {
   "cell_type": "markdown",
   "metadata": {},
   "source": [
    "how many forms are there?\n"
   ]
  },
  {
   "cell_type": "code",
   "execution_count": 7,
   "metadata": {},
   "outputs": [
    {
     "data": {
      "text/plain": [
       "769"
      ]
     },
     "execution_count": 7,
     "metadata": {},
     "output_type": "execute_result"
    }
   ],
   "source": [
    "len(raleigh_forms)"
   ]
  },
  {
   "cell_type": "markdown",
   "metadata": {},
   "source": [
    "Read all the form files and create a table which contains only the last offer given to each borrower. Call this dataframe `raleigh_df`."
   ]
  },
  {
   "cell_type": "code",
   "execution_count": 8,
   "metadata": {},
   "outputs": [
    {
     "name": "stdout",
     "output_type": "stream",
     "text": [
      "<class 'pandas.core.frame.DataFrame'>\n",
      "Int64Index: 13341 entries, 0 to 11\n",
      "Data columns (total 6 columns):\n",
      " #   Column                 Non-Null Count  Dtype  \n",
      "---  ------                 --------------  -----  \n",
      " 0   id                     13341 non-null  object \n",
      " 1   sequence_num           13341 non-null  object \n",
      " 2   requested_amount       13341 non-null  float64\n",
      " 3   offered_interest_rate  13341 non-null  float64\n",
      " 4   offer_accepted         13341 non-null  bool   \n",
      " 5   offer_date             13341 non-null  object \n",
      "dtypes: bool(1), float64(2), object(3)\n",
      "memory usage: 638.4+ KB\n"
     ]
    }
   ],
   "source": [
    "raleigh_df= pd.concat(map(pd.read_csv, raleigh_forms))\n",
    "raleigh_df.info()"
   ]
  },
  {
   "cell_type": "code",
   "execution_count": 9,
   "metadata": {},
   "outputs": [],
   "source": [
    "raleigh_df.offer_date = pd.to_datetime(raleigh_df.offer_date)\n",
    "raleigh_df = raleigh_df.sort_values(by = ['offer_date'])\n",
    "raleigh_df.drop_duplicates(subset = ['id'], keep = 'last', inplace = True, ignore_index = True)"
   ]
  },
  {
   "cell_type": "markdown",
   "metadata": {
    "execution": {
     "iopub.execute_input": "2021-07-04T09:43:56.002881Z",
     "iopub.status.busy": "2021-07-04T09:43:56.002602Z",
     "iopub.status.idle": "2021-07-04T09:43:56.037934Z",
     "shell.execute_reply": "2021-07-04T09:43:56.036868Z",
     "shell.execute_reply.started": "2021-07-04T09:43:56.002855Z"
    }
   },
   "source": [
    "## How many rows are there in your table? How many distict ids?"
   ]
  },
  {
   "cell_type": "code",
   "execution_count": 10,
   "metadata": {},
   "outputs": [
    {
     "name": "stdout",
     "output_type": "stream",
     "text": [
      "Number of rows in the table: 8792\n",
      "Number of distinct IDs: 8792\n"
     ]
    }
   ],
   "source": [
    "print(\"Number of rows in the table:\", raleigh_df.shape[0])\n",
    "print(\"Number of distinct IDs:\" , len(raleigh_df.id.value_counts()))"
   ]
  },
  {
   "cell_type": "markdown",
   "metadata": {},
   "source": [
    "How can you explain the duplicate ids? Sample 5 ids with multiple lines and display them.\n",
    "\n",
    "Answer: We don't have duplicates in the data cause we took the last offer given to each borrower. \n",
    "If we wouldn't drop the duplicate ids when laoded the data, we would have duplicated because borrowers negotiate their offeres, and coming back the next day to ask for a new offer. \n"
   ]
  },
  {
   "cell_type": "code",
   "execution_count": 11,
   "metadata": {},
   "outputs": [],
   "source": [
    "# duplicate_ids = raleigh_df.id.value_counts()[raleigh_df.id.value_counts()>1].index\n",
    "# raleigh_df[raleigh_df.id.isin(duplicate_ids)].sample(n=5)"
   ]
  },
  {
   "cell_type": "markdown",
   "metadata": {},
   "source": [
    "Drop all lines in the dataframe which contain irrelevant information."
   ]
  },
  {
   "cell_type": "code",
   "execution_count": 12,
   "metadata": {},
   "outputs": [],
   "source": [
    "#raleigh_df.drop_duplicates(subset = ['id'], keep = 'last', inplace = True, ignore_index = True)"
   ]
  },
  {
   "cell_type": "markdown",
   "metadata": {},
   "source": [
    "What is the average interest rate offered to clients? What is the average among clients who accepted the offer?"
   ]
  },
  {
   "cell_type": "code",
   "execution_count": 13,
   "metadata": {},
   "outputs": [
    {
     "name": "stdout",
     "output_type": "stream",
     "text": [
      "The average interest rate offered to clients is  15.524284576888082\n",
      "The average interest rate among clients who accepted the offer is  15.15235294117647\n"
     ]
    }
   ],
   "source": [
    "print(\"The average interest rate offered to clients is \", raleigh_df.offered_interest_rate.mean())\n",
    "print(\"The average interest rate among clients who accepted the offer is \", raleigh_df.loc[raleigh_df.offer_accepted == True].offered_interest_rate.mean())"
   ]
  },
  {
   "cell_type": "markdown",
   "metadata": {},
   "source": [
    "What is the percentage of activation in this dataframe?"
   ]
  },
  {
   "cell_type": "code",
   "execution_count": 14,
   "metadata": {},
   "outputs": [
    {
     "name": "stdout",
     "output_type": "stream",
     "text": [
      "The percentage of activation is  0.09087807097361238\n"
     ]
    }
   ],
   "source": [
    "print(\"The percentage of activation is \", raleigh_df.offer_accepted.mean())"
   ]
  },
  {
   "cell_type": "markdown",
   "metadata": {},
   "source": [
    "Enrich your dataframe with additioanl TU features by merging it with the `tu_data` df. Note that the two dataframe share the `id` and `sequence_num` features."
   ]
  },
  {
   "cell_type": "code",
   "execution_count": 15,
   "metadata": {},
   "outputs": [
    {
     "data": {
      "text/html": [
       "<div>\n",
       "<style scoped>\n",
       "    .dataframe tbody tr th:only-of-type {\n",
       "        vertical-align: middle;\n",
       "    }\n",
       "\n",
       "    .dataframe tbody tr th {\n",
       "        vertical-align: top;\n",
       "    }\n",
       "\n",
       "    .dataframe thead th {\n",
       "        text-align: right;\n",
       "    }\n",
       "</style>\n",
       "<table border=\"1\" class=\"dataframe\">\n",
       "  <thead>\n",
       "    <tr style=\"text-align: right;\">\n",
       "      <th></th>\n",
       "      <th>id</th>\n",
       "      <th>sequence_num</th>\n",
       "      <th>requested_amount</th>\n",
       "      <th>offered_interest_rate</th>\n",
       "      <th>offer_accepted</th>\n",
       "      <th>offer_date</th>\n",
       "      <th>credit_score</th>\n",
       "      <th>listing_term</th>\n",
       "      <th>int_rate</th>\n",
       "      <th>loan_amnt</th>\n",
       "      <th>monthly_pmt</th>\n",
       "      <th>original_state</th>\n",
       "    </tr>\n",
       "  </thead>\n",
       "  <tbody>\n",
       "    <tr>\n",
       "      <th>0</th>\n",
       "      <td>d70c12d4351739a1459cb6ae041351cb12c2b87287f895...</td>\n",
       "      <td>0b3d2aad0a37fe4f74ba36aa97d85f7766abedb070ed1e...</td>\n",
       "      <td>20000.0</td>\n",
       "      <td>8.89</td>\n",
       "      <td>True</td>\n",
       "      <td>2018-01-01</td>\n",
       "      <td>812</td>\n",
       "      <td>36.0</td>\n",
       "      <td>8.89</td>\n",
       "      <td>20000.0</td>\n",
       "      <td>635.0</td>\n",
       "      <td>NC</td>\n",
       "    </tr>\n",
       "    <tr>\n",
       "      <th>1</th>\n",
       "      <td>f80355e60ea44ec50a1d18b9eadffd33a32bcc516a27ac...</td>\n",
       "      <td>4d02263a2e0173e14c262ce6331f9df5e66805d2650a40...</td>\n",
       "      <td>12000.0</td>\n",
       "      <td>14.92</td>\n",
       "      <td>False</td>\n",
       "      <td>2018-01-01</td>\n",
       "      <td>759</td>\n",
       "      <td>60.0</td>\n",
       "      <td>14.92</td>\n",
       "      <td>12000.0</td>\n",
       "      <td>285.0</td>\n",
       "      <td>NC</td>\n",
       "    </tr>\n",
       "    <tr>\n",
       "      <th>2</th>\n",
       "      <td>078f73c196351edbd24bff54cb325ef9158b2ed8969226...</td>\n",
       "      <td>607f5047e607082915ad5669fa3e42083e1597ca890ee6...</td>\n",
       "      <td>3535.0</td>\n",
       "      <td>16.98</td>\n",
       "      <td>False</td>\n",
       "      <td>2018-01-01</td>\n",
       "      <td>659</td>\n",
       "      <td>36.0</td>\n",
       "      <td>16.98</td>\n",
       "      <td>3535.0</td>\n",
       "      <td>126.0</td>\n",
       "      <td>NC</td>\n",
       "    </tr>\n",
       "    <tr>\n",
       "      <th>3</th>\n",
       "      <td>32ee38c813c606baab335e791fdd8a23b7a33578ccd552...</td>\n",
       "      <td>d9fc86044680663c345daca35a492b2e633de00c511044...</td>\n",
       "      <td>36000.0</td>\n",
       "      <td>3.62</td>\n",
       "      <td>False</td>\n",
       "      <td>2018-01-01</td>\n",
       "      <td>789</td>\n",
       "      <td>60.0</td>\n",
       "      <td>3.62</td>\n",
       "      <td>36000.0</td>\n",
       "      <td>657.0</td>\n",
       "      <td>NC</td>\n",
       "    </tr>\n",
       "    <tr>\n",
       "      <th>4</th>\n",
       "      <td>c41e2c2213656caccb20704a5637bbc19e9966d5aff082...</td>\n",
       "      <td>8938cd02ecfba20d9d166a114aba1c951c9ab994db0594...</td>\n",
       "      <td>5000.0</td>\n",
       "      <td>11.55</td>\n",
       "      <td>False</td>\n",
       "      <td>2018-01-01</td>\n",
       "      <td>674</td>\n",
       "      <td>36.0</td>\n",
       "      <td>11.55</td>\n",
       "      <td>5000.0</td>\n",
       "      <td>165.0</td>\n",
       "      <td>NC</td>\n",
       "    </tr>\n",
       "    <tr>\n",
       "      <th>...</th>\n",
       "      <td>...</td>\n",
       "      <td>...</td>\n",
       "      <td>...</td>\n",
       "      <td>...</td>\n",
       "      <td>...</td>\n",
       "      <td>...</td>\n",
       "      <td>...</td>\n",
       "      <td>...</td>\n",
       "      <td>...</td>\n",
       "      <td>...</td>\n",
       "      <td>...</td>\n",
       "      <td>...</td>\n",
       "    </tr>\n",
       "    <tr>\n",
       "      <th>8787</th>\n",
       "      <td>9e9370763932325f1a4311dcf225d403eea0ee97389b22...</td>\n",
       "      <td>abdb71d7f89baccc0cb81fb6afaaf9ff879202f9c384d6...</td>\n",
       "      <td>8349.0</td>\n",
       "      <td>6.91</td>\n",
       "      <td>False</td>\n",
       "      <td>2020-12-10</td>\n",
       "      <td>796</td>\n",
       "      <td>60.0</td>\n",
       "      <td>6.91</td>\n",
       "      <td>8349.0</td>\n",
       "      <td>165.0</td>\n",
       "      <td>NC</td>\n",
       "    </tr>\n",
       "    <tr>\n",
       "      <th>8788</th>\n",
       "      <td>3fc1e327a430b8895508e697c901f5da85eee7f5db19f3...</td>\n",
       "      <td>509c8db99695731191f5c2fc20b4e664d7aa108530ba65...</td>\n",
       "      <td>3000.0</td>\n",
       "      <td>12.94</td>\n",
       "      <td>False</td>\n",
       "      <td>2020-12-10</td>\n",
       "      <td>711</td>\n",
       "      <td>36.0</td>\n",
       "      <td>12.94</td>\n",
       "      <td>3000.0</td>\n",
       "      <td>101.0</td>\n",
       "      <td>NC</td>\n",
       "    </tr>\n",
       "    <tr>\n",
       "      <th>8789</th>\n",
       "      <td>43d60ce6be7a169581cec0aa0d4b8117fc9b99e12a2232...</td>\n",
       "      <td>d37850a4faa12384b354b1bbd5a53fe81055634d14e6d7...</td>\n",
       "      <td>20000.0</td>\n",
       "      <td>9.08</td>\n",
       "      <td>False</td>\n",
       "      <td>2020-12-10</td>\n",
       "      <td>752</td>\n",
       "      <td>60.0</td>\n",
       "      <td>9.08</td>\n",
       "      <td>20000.0</td>\n",
       "      <td>416.0</td>\n",
       "      <td>NC</td>\n",
       "    </tr>\n",
       "    <tr>\n",
       "      <th>8790</th>\n",
       "      <td>a5ce1f36092be51ec3e028cc5a63faec5fc43ec76c730b...</td>\n",
       "      <td>295caab48fba31d024d07783ba0c5c65566c0ce3c69417...</td>\n",
       "      <td>7150.0</td>\n",
       "      <td>7.98</td>\n",
       "      <td>False</td>\n",
       "      <td>2020-12-10</td>\n",
       "      <td>787</td>\n",
       "      <td>36.0</td>\n",
       "      <td>7.98</td>\n",
       "      <td>7150.0</td>\n",
       "      <td>224.0</td>\n",
       "      <td>NC</td>\n",
       "    </tr>\n",
       "    <tr>\n",
       "      <th>8791</th>\n",
       "      <td>46816321df1930880d3bff3ea60fa1e5c0496265f1441f...</td>\n",
       "      <td>d8d96a355a7d554c6a578740f830f072bd4de50c5bc7d8...</td>\n",
       "      <td>20000.0</td>\n",
       "      <td>16.80</td>\n",
       "      <td>True</td>\n",
       "      <td>2020-12-10</td>\n",
       "      <td>670</td>\n",
       "      <td>60.0</td>\n",
       "      <td>16.80</td>\n",
       "      <td>20000.0</td>\n",
       "      <td>495.0</td>\n",
       "      <td>NC</td>\n",
       "    </tr>\n",
       "  </tbody>\n",
       "</table>\n",
       "<p>8792 rows × 12 columns</p>\n",
       "</div>"
      ],
      "text/plain": [
       "                                                     id  \\\n",
       "0     d70c12d4351739a1459cb6ae041351cb12c2b87287f895...   \n",
       "1     f80355e60ea44ec50a1d18b9eadffd33a32bcc516a27ac...   \n",
       "2     078f73c196351edbd24bff54cb325ef9158b2ed8969226...   \n",
       "3     32ee38c813c606baab335e791fdd8a23b7a33578ccd552...   \n",
       "4     c41e2c2213656caccb20704a5637bbc19e9966d5aff082...   \n",
       "...                                                 ...   \n",
       "8787  9e9370763932325f1a4311dcf225d403eea0ee97389b22...   \n",
       "8788  3fc1e327a430b8895508e697c901f5da85eee7f5db19f3...   \n",
       "8789  43d60ce6be7a169581cec0aa0d4b8117fc9b99e12a2232...   \n",
       "8790  a5ce1f36092be51ec3e028cc5a63faec5fc43ec76c730b...   \n",
       "8791  46816321df1930880d3bff3ea60fa1e5c0496265f1441f...   \n",
       "\n",
       "                                           sequence_num  requested_amount  \\\n",
       "0     0b3d2aad0a37fe4f74ba36aa97d85f7766abedb070ed1e...           20000.0   \n",
       "1     4d02263a2e0173e14c262ce6331f9df5e66805d2650a40...           12000.0   \n",
       "2     607f5047e607082915ad5669fa3e42083e1597ca890ee6...            3535.0   \n",
       "3     d9fc86044680663c345daca35a492b2e633de00c511044...           36000.0   \n",
       "4     8938cd02ecfba20d9d166a114aba1c951c9ab994db0594...            5000.0   \n",
       "...                                                 ...               ...   \n",
       "8787  abdb71d7f89baccc0cb81fb6afaaf9ff879202f9c384d6...            8349.0   \n",
       "8788  509c8db99695731191f5c2fc20b4e664d7aa108530ba65...            3000.0   \n",
       "8789  d37850a4faa12384b354b1bbd5a53fe81055634d14e6d7...           20000.0   \n",
       "8790  295caab48fba31d024d07783ba0c5c65566c0ce3c69417...            7150.0   \n",
       "8791  d8d96a355a7d554c6a578740f830f072bd4de50c5bc7d8...           20000.0   \n",
       "\n",
       "      offered_interest_rate  offer_accepted offer_date  credit_score  \\\n",
       "0                      8.89            True 2018-01-01           812   \n",
       "1                     14.92           False 2018-01-01           759   \n",
       "2                     16.98           False 2018-01-01           659   \n",
       "3                      3.62           False 2018-01-01           789   \n",
       "4                     11.55           False 2018-01-01           674   \n",
       "...                     ...             ...        ...           ...   \n",
       "8787                   6.91           False 2020-12-10           796   \n",
       "8788                  12.94           False 2020-12-10           711   \n",
       "8789                   9.08           False 2020-12-10           752   \n",
       "8790                   7.98           False 2020-12-10           787   \n",
       "8791                  16.80            True 2020-12-10           670   \n",
       "\n",
       "      listing_term  int_rate  loan_amnt  monthly_pmt original_state  \n",
       "0             36.0      8.89    20000.0        635.0             NC  \n",
       "1             60.0     14.92    12000.0        285.0             NC  \n",
       "2             36.0     16.98     3535.0        126.0             NC  \n",
       "3             60.0      3.62    36000.0        657.0             NC  \n",
       "4             36.0     11.55     5000.0        165.0             NC  \n",
       "...            ...       ...        ...          ...            ...  \n",
       "8787          60.0      6.91     8349.0        165.0             NC  \n",
       "8788          36.0     12.94     3000.0        101.0             NC  \n",
       "8789          60.0      9.08    20000.0        416.0             NC  \n",
       "8790          36.0      7.98     7150.0        224.0             NC  \n",
       "8791          60.0     16.80    20000.0        495.0             NC  \n",
       "\n",
       "[8792 rows x 12 columns]"
      ]
     },
     "execution_count": 15,
     "metadata": {},
     "output_type": "execute_result"
    }
   ],
   "source": [
    "raleigh_df = raleigh_df.merge(tu_data, how = 'left', on = ['id', 'sequence_num'])\n",
    "raleigh_df"
   ]
  },
  {
   "cell_type": "markdown",
   "metadata": {},
   "source": [
    "What is the average credit score of the clients? What is the average among clients who accepted the offer?"
   ]
  },
  {
   "cell_type": "code",
   "execution_count": 16,
   "metadata": {},
   "outputs": [
    {
     "name": "stdout",
     "output_type": "stream",
     "text": [
      "The average credit score of the clients is  689.821542311192\n",
      "The average credit score of clients who accepted the offer is  706.7634543178974\n"
     ]
    }
   ],
   "source": [
    "print(\"The average credit score of the clients is \", raleigh_df.credit_score.mean())\n",
    "print(\"The average credit score of clients who accepted the offer is \", raleigh_df.loc[raleigh_df.offer_accepted == True].credit_score.mean())"
   ]
  },
  {
   "cell_type": "markdown",
   "metadata": {},
   "source": [
    "# Validations"
   ]
  },
  {
   "cell_type": "markdown",
   "metadata": {},
   "source": [
    "Before we embark on a statistical test, let's do some validations to make sure that the Raleig sample is not somehow distinct from the general population. Our random sample from the general population is the TU data."
   ]
  },
  {
   "cell_type": "markdown",
   "metadata": {},
   "source": [
    "Create a histogram to describe the distribution of requested loan amounts in Raleigh and in the general population. Do the distributions look similar? (A good rule-of-thumb for the number of bins to use is the square-root of the number of unique value.)"
   ]
  },
  {
   "cell_type": "code",
   "execution_count": 65,
   "metadata": {},
   "outputs": [
    {
     "data": {
      "image/png": "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\n",
      "text/plain": [
       "<Figure size 1440x504 with 2 Axes>"
      ]
     },
     "metadata": {
      "needs_background": "light"
     },
     "output_type": "display_data"
    }
   ],
   "source": [
    "fig = plt.figure(figsize=(20,7))\n",
    "ax1 = plt.subplot(1, 2, 1)\n",
    "sns.histplot(raleigh_df.loan_amnt[raleigh_df.loan_amnt<60000], bins = 70)\n",
    "plt.title(\"Requested loan amounts in Raleigh\")\n",
    "ax2 = plt.subplot(1, 2, 2)\n",
    "sns.histplot(tu_data.loan_amnt[tu_data.loan_amnt<60000], bins = 70)\n",
    "plt.title(\"Requested loan amounts in general pop\")\n",
    "plt.show();"
   ]
  },
  {
   "cell_type": "markdown",
   "metadata": {},
   "source": [
    "Describe the loan amount distribution using `sns.distplot` in the Raleigh dataframe and in TU."
   ]
  },
  {
   "cell_type": "code",
   "execution_count": 66,
   "metadata": {},
   "outputs": [
    {
     "data": {
      "image/png": "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
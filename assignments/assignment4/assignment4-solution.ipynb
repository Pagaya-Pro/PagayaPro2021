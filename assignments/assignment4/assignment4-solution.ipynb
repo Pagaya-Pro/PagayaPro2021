{
 "cells": [
  {
   "cell_type": "markdown",
   "metadata": {},
   "source": [
    "In the US, all financial transaction consumers make are tracked and aggregated into features that describe their financial history. These features can then be used in order to predict how likely a person is to pay back their debts. Many US-based platforms offer unsecured loans, meaning that if a consumer stops paying while there is still outstanding debt (this is called a **charge off** or **defaulting** on the loan) the platform has no legal means for getting their money back, but the consumers' credit score is damaged. Charge-offs are the main risk lenders face, as they greatly decrease the loan's (or more generally, the loan portfolio's) total yield.\n",
    "\n",
    "In this exercise we will use these credit features in order to predict which loans are likely to CO."
   ]
  },
  {
   "cell_type": "markdown",
   "metadata": {
    "heading_collapsed": "true",
    "tags": []
   },
   "source": [
    "# Loading the data"
   ]
  },
  {
   "cell_type": "markdown",
   "metadata": {},
   "source": [
    "First we will start by loading the data we will work with during this exercise.  \n",
    "The data contains information about each loan.  "
   ]
  },
  {
   "cell_type": "code",
   "execution_count": 1,
   "metadata": {
    "execution": {
     "iopub.execute_input": "2021-10-26T04:56:48.822160Z",
     "iopub.status.busy": "2021-10-26T04:56:48.821928Z",
     "iopub.status.idle": "2021-10-26T04:56:48.826137Z",
     "shell.execute_reply": "2021-10-26T04:56:48.825470Z",
     "shell.execute_reply.started": "2021-10-26T04:56:48.822099Z"
    },
    "tags": []
   },
   "outputs": [],
   "source": [
    "import pandas as pd\n",
    "import numpy as np\n",
    "from piper_common.uri_path.uri_path import URIPath2"
   ]
  },
  {
   "cell_type": "markdown",
   "metadata": {},
   "source": [
    "Load the dataset and take a look at it:"
   ]
  },
  {
   "cell_type": "code",
   "execution_count": 2,
   "metadata": {
    "execution": {
     "iopub.execute_input": "2021-10-26T04:56:48.827542Z",
     "iopub.status.busy": "2021-10-26T04:56:48.827338Z",
     "iopub.status.idle": "2021-10-26T04:56:49.223021Z",
     "shell.execute_reply": "2021-10-26T04:56:49.221987Z",
     "shell.execute_reply.started": "2021-10-26T04:56:48.827517Z"
    },
    "tags": []
   },
   "outputs": [],
   "source": [
    "data = pd.read_parquet(URIPath2(\"s3://pagaya-data-research/pagayapro/data/ex2_prosper_data.parquet\")) # to change before publishing to students"
   ]
  },
  {
   "cell_type": "code",
   "execution_count": 3,
   "metadata": {
    "execution": {
     "iopub.execute_input": "2021-10-26T04:56:49.224519Z",
     "iopub.status.busy": "2021-10-26T04:56:49.224288Z",
     "iopub.status.idle": "2021-10-26T04:56:49.299624Z",
     "shell.execute_reply": "2021-10-26T04:56:49.298737Z",
     "shell.execute_reply.started": "2021-10-26T04:56:49.224489Z"
    },
    "tags": []
   },
   "outputs": [
    {
     "data": {
      "text/html": [
       "<div>\n",
       "<style scoped>\n",
       "    .dataframe tbody tr th:only-of-type {\n",
       "        vertical-align: middle;\n",
       "    }\n",
       "\n",
       "    .dataframe tbody tr th {\n",
       "        vertical-align: top;\n",
       "    }\n",
       "\n",
       "    .dataframe thead th {\n",
       "        text-align: right;\n",
       "    }\n",
       "</style>\n",
       "<table border=\"1\" class=\"dataframe\">\n",
       "  <thead>\n",
       "    <tr style=\"text-align: right;\">\n",
       "      <th></th>\n",
       "      <th>all804</th>\n",
       "      <th>rep501</th>\n",
       "      <th>hr24s</th>\n",
       "      <th>rt24s</th>\n",
       "      <th>iln703</th>\n",
       "      <th>hr06s</th>\n",
       "      <th>g099a</th>\n",
       "      <th>iln720</th>\n",
       "      <th>percent_funded</th>\n",
       "      <th>hr09s</th>\n",
       "      <th>loan_amnt</th>\n",
       "      <th>rev401</th>\n",
       "      <th>debt_to_income</th>\n",
       "      <th>g099s</th>\n",
       "      <th>all803</th>\n",
       "      <th>st27s</th>\n",
       "      <th>g960s</th>\n",
       "      <th>g230s</th>\n",
       "      <th>all807</th>\n",
       "      <th>mt47s</th>\n",
       "      <th>g094s</th>\n",
       "      <th>all801</th>\n",
       "      <th>g104s</th>\n",
       "      <th>s004s</th>\n",
       "      <th>funding_threshold</th>\n",
       "      <th>hi57s</th>\n",
       "      <th>rep001</th>\n",
       "      <th>all301</th>\n",
       "      <th>rev302</th>\n",
       "      <th>hr12s</th>\n",
       "      <th>bc102s</th>\n",
       "      <th>iln740</th>\n",
       "      <th>all780</th>\n",
       "      <th>rep901</th>\n",
       "      <th>in36s</th>\n",
       "      <th>mt36s</th>\n",
       "      <th>iln724</th>\n",
       "      <th>aut720</th>\n",
       "      <th>rev703</th>\n",
       "      <th>inquiries_last6_months</th>\n",
       "      <th>ale724</th>\n",
       "      <th>rep071</th>\n",
       "      <th>ale720</th>\n",
       "      <th>total_inquiries</th>\n",
       "      <th>re102s</th>\n",
       "      <th>bac302</th>\n",
       "      <th>credit_score</th>\n",
       "      <th>int_rate</th>\n",
       "      <th>monthly_pmt</th>\n",
       "      <th>occupation</th>\n",
       "      <th>borrower_city</th>\n",
       "      <th>co_mob</th>\n",
       "      <th>co_amount</th>\n",
       "      <th>issue_date</th>\n",
       "    </tr>\n",
       "    <tr>\n",
       "      <th>id</th>\n",
       "      <th></th>\n",
       "      <th></th>\n",
       "      <th></th>\n",
       "      <th></th>\n",
       "      <th></th>\n",
       "      <th></th>\n",
       "      <th></th>\n",
       "      <th></th>\n",
       "      <th></th>\n",
       "      <th></th>\n",
       "      <th></th>\n",
       "      <th></th>\n",
       "      <th></th>\n",
       "      <th></th>\n",
       "      <th></th>\n",
       "      <th></th>\n",
       "      <th></th>\n",
       "      <th></th>\n",
       "      <th></th>\n",
       "      <th></th>\n",
       "      <th></th>\n",
       "      <th></th>\n",
       "      <th></th>\n",
       "      <th></th>\n",
       "      <th></th>\n",
       "      <th></th>\n",
       "      <th></th>\n",
       "      <th></th>\n",
       "      <th></th>\n",
       "      <th></th>\n",
       "      <th></th>\n",
       "      <th></th>\n",
       "      <th></th>\n",
       "      <th></th>\n",
       "      <th></th>\n",
       "      <th></th>\n",
       "      <th></th>\n",
       "      <th></th>\n",
       "      <th></th>\n",
       "      <th></th>\n",
       "      <th></th>\n",
       "      <th></th>\n",
       "      <th></th>\n",
       "      <th></th>\n",
       "      <th></th>\n",
       "      <th></th>\n",
       "      <th></th>\n",
       "      <th></th>\n",
       "      <th></th>\n",
       "      <th></th>\n",
       "      <th></th>\n",
       "      <th></th>\n",
       "      <th></th>\n",
       "      <th></th>\n",
       "    </tr>\n",
       "  </thead>\n",
       "  <tbody>\n",
       "    <tr>\n",
       "      <th>733477</th>\n",
       "      <td>4.0</td>\n",
       "      <td>0.0</td>\n",
       "      <td>-1.0</td>\n",
       "      <td>1.0</td>\n",
       "      <td>52.0</td>\n",
       "      <td>-1.0</td>\n",
       "      <td>-1.0</td>\n",
       "      <td>9999.0</td>\n",
       "      <td>1.0</td>\n",
       "      <td>-1.0</td>\n",
       "      <td>18000.0</td>\n",
       "      <td>26178.0</td>\n",
       "      <td>0.54</td>\n",
       "      <td>-4.0</td>\n",
       "      <td>1.0</td>\n",
       "      <td>-1.0</td>\n",
       "      <td>2.0</td>\n",
       "      <td>-1.0</td>\n",
       "      <td>4.0</td>\n",
       "      <td>-1.0</td>\n",
       "      <td>-4.0</td>\n",
       "      <td>6.0</td>\n",
       "      <td>-1.0</td>\n",
       "      <td>81.0</td>\n",
       "      <td>0.7</td>\n",
       "      <td>-1.0</td>\n",
       "      <td>0.0</td>\n",
       "      <td>102693.0</td>\n",
       "      <td>5183.0</td>\n",
       "      <td>-1.0</td>\n",
       "      <td>5681.0</td>\n",
       "      <td>9999.0</td>\n",
       "      <td>9999.0</td>\n",
       "      <td>0.0</td>\n",
       "      <td>999.0</td>\n",
       "      <td>-1.0</td>\n",
       "      <td>9999.0</td>\n",
       "      <td>9999.0</td>\n",
       "      <td>98.0</td>\n",
       "      <td>1.0</td>\n",
       "      <td>9999.0</td>\n",
       "      <td>0.0</td>\n",
       "      <td>9999.0</td>\n",
       "      <td>6.0</td>\n",
       "      <td>5183.0</td>\n",
       "      <td>5681.0</td>\n",
       "      <td>720.0</td>\n",
       "      <td>13.15</td>\n",
       "      <td>607.79</td>\n",
       "      <td>Other</td>\n",
       "      <td>Hialeah</td>\n",
       "      <td>NaN</td>\n",
       "      <td>0.000000</td>\n",
       "      <td>2017-01-31</td>\n",
       "    </tr>\n",
       "    <tr>\n",
       "      <th>768878</th>\n",
       "      <td>0.0</td>\n",
       "      <td>0.0</td>\n",
       "      <td>-1.0</td>\n",
       "      <td>1.0</td>\n",
       "      <td>101.0</td>\n",
       "      <td>-1.0</td>\n",
       "      <td>-1.0</td>\n",
       "      <td>9999.0</td>\n",
       "      <td>1.0</td>\n",
       "      <td>-1.0</td>\n",
       "      <td>15000.0</td>\n",
       "      <td>15433.0</td>\n",
       "      <td>0.37</td>\n",
       "      <td>-4.0</td>\n",
       "      <td>0.0</td>\n",
       "      <td>8.0</td>\n",
       "      <td>-4.0</td>\n",
       "      <td>-1.0</td>\n",
       "      <td>0.0</td>\n",
       "      <td>-1.0</td>\n",
       "      <td>-4.0</td>\n",
       "      <td>0.0</td>\n",
       "      <td>-4.0</td>\n",
       "      <td>100.0</td>\n",
       "      <td>0.7</td>\n",
       "      <td>-1.0</td>\n",
       "      <td>0.0</td>\n",
       "      <td>398125.0</td>\n",
       "      <td>6450.0</td>\n",
       "      <td>-1.0</td>\n",
       "      <td>8775.0</td>\n",
       "      <td>9999.0</td>\n",
       "      <td>9999.0</td>\n",
       "      <td>0.0</td>\n",
       "      <td>999.0</td>\n",
       "      <td>-1.0</td>\n",
       "      <td>9999.0</td>\n",
       "      <td>9999.0</td>\n",
       "      <td>91.0</td>\n",
       "      <td>0.0</td>\n",
       "      <td>9999.0</td>\n",
       "      <td>0.0</td>\n",
       "      <td>9999.0</td>\n",
       "      <td>0.0</td>\n",
       "      <td>6450.0</td>\n",
       "      <td>6450.0</td>\n",
       "      <td>720.0</td>\n",
       "      <td>13.75</td>\n",
       "      <td>510.84</td>\n",
       "      <td>Professional</td>\n",
       "      <td>MARIETTA</td>\n",
       "      <td>NaN</td>\n",
       "      <td>0.000000</td>\n",
       "      <td>2017-03-31</td>\n",
       "    </tr>\n",
       "    <tr>\n",
       "      <th>742473</th>\n",
       "      <td>0.0</td>\n",
       "      <td>1.0</td>\n",
       "      <td>-3.0</td>\n",
       "      <td>-6.0</td>\n",
       "      <td>72.0</td>\n",
       "      <td>0.0</td>\n",
       "      <td>-1.0</td>\n",
       "      <td>54.0</td>\n",
       "      <td>1.0</td>\n",
       "      <td>0.0</td>\n",
       "      <td>6000.0</td>\n",
       "      <td>2712.0</td>\n",
       "      <td>0.24</td>\n",
       "      <td>-4.0</td>\n",
       "      <td>0.0</td>\n",
       "      <td>-1.0</td>\n",
       "      <td>8.0</td>\n",
       "      <td>-1.0</td>\n",
       "      <td>0.0</td>\n",
       "      <td>0.0</td>\n",
       "      <td>-4.0</td>\n",
       "      <td>1.0</td>\n",
       "      <td>-1.0</td>\n",
       "      <td>108.0</td>\n",
       "      <td>0.7</td>\n",
       "      <td>-1.0</td>\n",
       "      <td>1.0</td>\n",
       "      <td>336665.0</td>\n",
       "      <td>1853.0</td>\n",
       "      <td>-3.0</td>\n",
       "      <td>2029.0</td>\n",
       "      <td>9999.0</td>\n",
       "      <td>9999.0</td>\n",
       "      <td>100.0</td>\n",
       "      <td>65.0</td>\n",
       "      <td>999.0</td>\n",
       "      <td>54.0</td>\n",
       "      <td>54.0</td>\n",
       "      <td>118.0</td>\n",
       "      <td>0.0</td>\n",
       "      <td>54.0</td>\n",
       "      <td>1.0</td>\n",
       "      <td>54.0</td>\n",
       "      <td>1.0</td>\n",
       "      <td>1778.0</td>\n",
       "      <td>2029.0</td>\n",
       "      <td>660.0</td>\n",
       "      <td>14.25</td>\n",
       "      <td>205.80</td>\n",
       "      <td>None</td>\n",
       "      <td>SAGLE</td>\n",
       "      <td>14.0</td>\n",
       "      <td>4115.149902</td>\n",
       "      <td>2017-02-28</td>\n",
       "    </tr>\n",
       "    <tr>\n",
       "      <th>738121</th>\n",
       "      <td>3.0</td>\n",
       "      <td>0.0</td>\n",
       "      <td>-1.0</td>\n",
       "      <td>-1.0</td>\n",
       "      <td>38.0</td>\n",
       "      <td>-1.0</td>\n",
       "      <td>-1.0</td>\n",
       "      <td>9999.0</td>\n",
       "      <td>1.0</td>\n",
       "      <td>-1.0</td>\n",
       "      <td>15000.0</td>\n",
       "      <td>30921.0</td>\n",
       "      <td>0.22</td>\n",
       "      <td>-4.0</td>\n",
       "      <td>2.0</td>\n",
       "      <td>-1.0</td>\n",
       "      <td>1.0</td>\n",
       "      <td>-1.0</td>\n",
       "      <td>3.0</td>\n",
       "      <td>-1.0</td>\n",
       "      <td>-4.0</td>\n",
       "      <td>4.0</td>\n",
       "      <td>-1.0</td>\n",
       "      <td>30.0</td>\n",
       "      <td>0.7</td>\n",
       "      <td>-1.0</td>\n",
       "      <td>0.0</td>\n",
       "      <td>67495.0</td>\n",
       "      <td>6200.0</td>\n",
       "      <td>-1.0</td>\n",
       "      <td>7680.0</td>\n",
       "      <td>9999.0</td>\n",
       "      <td>9999.0</td>\n",
       "      <td>0.0</td>\n",
       "      <td>-1.0</td>\n",
       "      <td>-1.0</td>\n",
       "      <td>9999.0</td>\n",
       "      <td>9999.0</td>\n",
       "      <td>54.0</td>\n",
       "      <td>2.0</td>\n",
       "      <td>9999.0</td>\n",
       "      <td>0.0</td>\n",
       "      <td>9999.0</td>\n",
       "      <td>4.0</td>\n",
       "      <td>7680.0</td>\n",
       "      <td>7066.0</td>\n",
       "      <td>720.0</td>\n",
       "      <td>11.30</td>\n",
       "      <td>493.21</td>\n",
       "      <td>Waiter/Waitress</td>\n",
       "      <td>QUINCY</td>\n",
       "      <td>NaN</td>\n",
       "      <td>0.000000</td>\n",
       "      <td>2017-02-28</td>\n",
       "    </tr>\n",
       "    <tr>\n",
       "      <th>733109</th>\n",
       "      <td>3.0</td>\n",
       "      <td>0.0</td>\n",
       "      <td>-1.0</td>\n",
       "      <td>-1.0</td>\n",
       "      <td>87.0</td>\n",
       "      <td>-1.0</td>\n",
       "      <td>-1.0</td>\n",
       "      <td>9999.0</td>\n",
       "      <td>1.0</td>\n",
       "      <td>-1.0</td>\n",
       "      <td>3300.0</td>\n",
       "      <td>19547.0</td>\n",
       "      <td>0.25</td>\n",
       "      <td>-4.0</td>\n",
       "      <td>1.0</td>\n",
       "      <td>-1.0</td>\n",
       "      <td>1.0</td>\n",
       "      <td>-1.0</td>\n",
       "      <td>2.0</td>\n",
       "      <td>-1.0</td>\n",
       "      <td>-4.0</td>\n",
       "      <td>3.0</td>\n",
       "      <td>-1.0</td>\n",
       "      <td>103.0</td>\n",
       "      <td>0.7</td>\n",
       "      <td>-1.0</td>\n",
       "      <td>0.0</td>\n",
       "      <td>51800.0</td>\n",
       "      <td>6133.0</td>\n",
       "      <td>-1.0</td>\n",
       "      <td>6133.0</td>\n",
       "      <td>9999.0</td>\n",
       "      <td>9999.0</td>\n",
       "      <td>0.0</td>\n",
       "      <td>999.0</td>\n",
       "      <td>-1.0</td>\n",
       "      <td>9999.0</td>\n",
       "      <td>9999.0</td>\n",
       "      <td>116.0</td>\n",
       "      <td>1.0</td>\n",
       "      <td>9999.0</td>\n",
       "      <td>0.0</td>\n",
       "      <td>9999.0</td>\n",
       "      <td>3.0</td>\n",
       "      <td>6133.0</td>\n",
       "      <td>6133.0</td>\n",
       "      <td>700.0</td>\n",
       "      <td>18.15</td>\n",
       "      <td>119.55</td>\n",
       "      <td>Tradesman - Carpenter</td>\n",
       "      <td>JUNEAU</td>\n",
       "      <td>NaN</td>\n",
       "      <td>0.000000</td>\n",
       "      <td>2017-01-31</td>\n",
       "    </tr>\n",
       "  </tbody>\n",
       "</table>\n",
       "</div>"
      ],
      "text/plain": [
       "        all804  rep501  hr24s  rt24s  iln703  hr06s  g099a  iln720  \\\n",
       "id                                                                   \n",
       "733477     4.0     0.0   -1.0    1.0    52.0   -1.0   -1.0  9999.0   \n",
       "768878     0.0     0.0   -1.0    1.0   101.0   -1.0   -1.0  9999.0   \n",
       "742473     0.0     1.0   -3.0   -6.0    72.0    0.0   -1.0    54.0   \n",
       "738121     3.0     0.0   -1.0   -1.0    38.0   -1.0   -1.0  9999.0   \n",
       "733109     3.0     0.0   -1.0   -1.0    87.0   -1.0   -1.0  9999.0   \n",
       "\n",
       "        percent_funded  hr09s  loan_amnt   rev401  debt_to_income  g099s  \\\n",
       "id                                                                         \n",
       "733477             1.0   -1.0    18000.0  26178.0            0.54   -4.0   \n",
       "768878             1.0   -1.0    15000.0  15433.0            0.37   -4.0   \n",
       "742473             1.0    0.0     6000.0   2712.0            0.24   -4.0   \n",
       "738121             1.0   -1.0    15000.0  30921.0            0.22   -4.0   \n",
       "733109             1.0   -1.0     3300.0  19547.0            0.25   -4.0   \n",
       "\n",
       "        all803  st27s  g960s  g230s  all807  mt47s  g094s  all801  g104s  \\\n",
       "id                                                                         \n",
       "733477     1.0   -1.0    2.0   -1.0     4.0   -1.0   -4.0     6.0   -1.0   \n",
       "768878     0.0    8.0   -4.0   -1.0     0.0   -1.0   -4.0     0.0   -4.0   \n",
       "742473     0.0   -1.0    8.0   -1.0     0.0    0.0   -4.0     1.0   -1.0   \n",
       "738121     2.0   -1.0    1.0   -1.0     3.0   -1.0   -4.0     4.0   -1.0   \n",
       "733109     1.0   -1.0    1.0   -1.0     2.0   -1.0   -4.0     3.0   -1.0   \n",
       "\n",
       "        s004s  funding_threshold  hi57s  rep001    all301  rev302  hr12s  \\\n",
       "id                                                                         \n",
       "733477   81.0                0.7   -1.0     0.0  102693.0  5183.0   -1.0   \n",
       "768878  100.0                0.7   -1.0     0.0  398125.0  6450.0   -1.0   \n",
       "742473  108.0                0.7   -1.0     1.0  336665.0  1853.0   -3.0   \n",
       "738121   30.0                0.7   -1.0     0.0   67495.0  6200.0   -1.0   \n",
       "733109  103.0                0.7   -1.0     0.0   51800.0  6133.0   -1.0   \n",
       "\n",
       "        bc102s  iln740  all780  rep901  in36s  mt36s  iln724  aut720  rev703  \\\n",
       "id                                                                             \n",
       "733477  5681.0  9999.0  9999.0     0.0  999.0   -1.0  9999.0  9999.0    98.0   \n",
       "768878  8775.0  9999.0  9999.0     0.0  999.0   -1.0  9999.0  9999.0    91.0   \n",
       "742473  2029.0  9999.0  9999.0   100.0   65.0  999.0    54.0    54.0   118.0   \n",
       "738121  7680.0  9999.0  9999.0     0.0   -1.0   -1.0  9999.0  9999.0    54.0   \n",
       "733109  6133.0  9999.0  9999.0     0.0  999.0   -1.0  9999.0  9999.0   116.0   \n",
       "\n",
       "        inquiries_last6_months  ale724  rep071  ale720  total_inquiries  \\\n",
       "id                                                                        \n",
       "733477                     1.0  9999.0     0.0  9999.0              6.0   \n",
       "768878                     0.0  9999.0     0.0  9999.0              0.0   \n",
       "742473                     0.0    54.0     1.0    54.0              1.0   \n",
       "738121                     2.0  9999.0     0.0  9999.0              4.0   \n",
       "733109                     1.0  9999.0     0.0  9999.0              3.0   \n",
       "\n",
       "        re102s  bac302  credit_score  int_rate  monthly_pmt  \\\n",
       "id                                                            \n",
       "733477  5183.0  5681.0         720.0     13.15       607.79   \n",
       "768878  6450.0  6450.0         720.0     13.75       510.84   \n",
       "742473  1778.0  2029.0         660.0     14.25       205.80   \n",
       "738121  7680.0  7066.0         720.0     11.30       493.21   \n",
       "733109  6133.0  6133.0         700.0     18.15       119.55   \n",
       "\n",
       "                   occupation borrower_city  co_mob    co_amount issue_date  \n",
       "id                                                                           \n",
       "733477                  Other       Hialeah     NaN     0.000000 2017-01-31  \n",
       "768878           Professional      MARIETTA     NaN     0.000000 2017-03-31  \n",
       "742473                   None         SAGLE    14.0  4115.149902 2017-02-28  \n",
       "738121        Waiter/Waitress        QUINCY     NaN     0.000000 2017-02-28  \n",
       "733109  Tradesman - Carpenter        JUNEAU     NaN     0.000000 2017-01-31  "
      ]
     },
     "execution_count": 3,
     "metadata": {},
     "output_type": "execute_result"
    }
   ],
   "source": [
    "data.head()"
   ]
  },
  {
   "cell_type": "code",
   "execution_count": 4,
   "metadata": {
    "execution": {
     "iopub.execute_input": "2021-10-26T04:56:49.300996Z",
     "iopub.status.busy": "2021-10-26T04:56:49.300772Z",
     "iopub.status.idle": "2021-10-26T04:56:49.306292Z",
     "shell.execute_reply": "2021-10-26T04:56:49.305458Z",
     "shell.execute_reply.started": "2021-10-26T04:56:49.300966Z"
    },
    "tags": []
   },
   "outputs": [
    {
     "data": {
      "text/plain": [
       "(40249, 54)"
      ]
     },
     "execution_count": 4,
     "metadata": {},
     "output_type": "execute_result"
    }
   ],
   "source": [
    "data.shape"
   ]
  },
  {
   "cell_type": "markdown",
   "metadata": {
    "tags": []
   },
   "source": [
    "# Exploratory Data Analysis"
   ]
  },
  {
   "cell_type": "markdown",
   "metadata": {},
   "source": [
    "So as you did in the previous exercise, the purpose of the next section is getting to know the data and analyzing it.  \n",
    "You need to understand the data and what is missing in order to find which data preparation steps are required."
   ]
  },
  {
   "cell_type": "markdown",
   "metadata": {},
   "source": [
    "In this exercise, we are training a classification model to predict whether or not a loan will repay in full. For this we have 2 columns, co_mob, and co_amount.\n",
    "**co_mob, stands for: \"Charge Off Month On Book\".**  \n",
    "A loan is considered a \"charge-off\" (AKA \"default\") if the person stopped paying but still has outstanding debt.  \n",
    "The \"month on book\" (mob) is the number of months since the originataion of the loan.  \n",
    "CO_mob (the charge-off month), is the first month after which there are no more payments (e.g., if someone pays in the first month, misses a payment in the second month, then pays months 3-5 and stops paying completely, his co_mob would be 6, not 2).\n",
    "co_amount is the amount of outstanding debt lost due to the charge-off."
   ]
  },
  {
   "cell_type": "markdown",
   "metadata": {},
   "source": [
    "The main purpose of this exercise is to build a charge-off classification model, predicting which loans will not fully repay their debt.\n",
    "So, the first thing to do is get to know our 'co_mob' feature.  \n",
    "Let's plot its distribution in a histogram."
   ]
  },
  {
   "cell_type": "code",
   "execution_count": 5,
   "metadata": {
    "execution": {
     "iopub.execute_input": "2021-10-26T04:56:49.307498Z",
     "iopub.status.busy": "2021-10-26T04:56:49.307284Z",
     "iopub.status.idle": "2021-10-26T04:56:49.311182Z",
     "shell.execute_reply": "2021-10-26T04:56:49.310350Z",
     "shell.execute_reply.started": "2021-10-26T04:56:49.307470Z"
    },
    "tags": []
   },
   "outputs": [],
   "source": [
    "import seaborn as sns\n",
    "import matplotlib.pyplot as plt"
   ]
  },
  {
   "cell_type": "code",
   "execution_count": 6,
   "metadata": {
    "execution": {
     "iopub.execute_input": "2021-10-26T04:56:49.312405Z",
     "iopub.status.busy": "2021-10-26T04:56:49.312160Z",
     "iopub.status.idle": "2021-10-26T04:56:49.875427Z",
     "shell.execute_reply": "2021-10-26T04:56:49.874553Z",
     "shell.execute_reply.started": "2021-10-26T04:56:49.312376Z"
    },
    "tags": []
   },
   "outputs": [
    {
     "data": {
      "image/png": "[encoded data removed]",
      "text/plain": [
       "<Figure size 864x576 with 1 Axes>"
      ]
     },
     "metadata": {},
     "output_type": "display_data"
    }
   ],
   "source": [
    "plt.figure(figsize=(12,8))\n",
    "ax = sns.countplot(x='co_mob', data=data, palette='hls')\n",
    "ax.set_xticklabels(ax.get_xticklabels(), rotation=40, ha=\"right\")\n",
    "plt.tight_layout()\n",
    "plt.show();"
   ]
  },
  {
   "cell_type": "markdown",
   "metadata": {},
   "source": [
    "Note, the histogram of CO_MOB is not the probabilty of CO in that mob. If a loan was not charged-off (it was paid in full or pre-paid), its co_mob would be NaN and it would not appear in this graph. Therefore, this graph describes $ P(\\text{co_mob} | \\text{the loan is a charge-off}) $."
   ]
  },
  {
   "cell_type": "markdown",
   "metadata": {},
   "source": [
    "As pointed out above, a loan that did not CO will have a nan co_mob. Let's use that to make our target and drop it from the data"
   ]
  },
  {
   "cell_type": "code",
   "execution_count": 7,
   "metadata": {
    "execution": {
     "iopub.execute_input": "2021-10-26T04:56:49.878335Z",
     "iopub.status.busy": "2021-10-26T04:56:49.878101Z",
     "iopub.status.idle": "2021-10-26T04:56:49.888854Z",
     "shell.execute_reply": "2021-10-26T04:56:49.887817Z",
     "shell.execute_reply.started": "2021-10-26T04:56:49.878303Z"
    },
    "tags": []
   },
   "outputs": [],
   "source": [
    "target = data['co_mob'].notna()\n",
    "data = data.drop(columns='co_mob')"
   ]
  },
  {
   "cell_type": "markdown",
   "metadata": {
    "heading_collapsed": "true",
    "tags": []
   },
   "source": [
    "## Features types"
   ]
  },
  {
   "cell_type": "markdown",
   "metadata": {
    "execution": {
     "iopub.execute_input": "2021-06-24T11:49:50.435131Z",
     "iopub.status.busy": "2021-06-24T11:49:50.434785Z",
     "iopub.status.idle": "2021-06-24T11:49:50.446282Z",
     "shell.execute_reply": "2021-06-24T11:49:50.445270Z",
     "shell.execute_reply.started": "2021-06-24T11:49:50.435104Z"
    }
   },
   "source": [
    "Present the data types of each feature"
   ]
  },
  {
   "cell_type": "code",
   "execution_count": 8,
   "metadata": {
    "execution": {
     "iopub.execute_input": "2021-10-26T04:56:49.890878Z",
     "iopub.status.busy": "2021-10-26T04:56:49.890655Z",
     "iopub.status.idle": "2021-10-26T04:56:49.907387Z",
     "shell.execute_reply": "2021-10-26T04:56:49.906540Z",
     "shell.execute_reply.started": "2021-10-26T04:56:49.890850Z"
    },
    "tags": []
   },
   "outputs": [
    {
     "data": {
      "text/plain": [
       "all804                           float64\n",
       "rep501                           float64\n",
       "hr24s                            float64\n",
       "rt24s                            float64\n",
       "iln703                           float64\n",
       "hr06s                            float64\n",
       "g099a                            float64\n",
       "iln720                           float64\n",
       "percent_funded                   float64\n",
       "hr09s                            float64\n",
       "loan_amnt                        float64\n",
       "rev401                           float64\n",
       "debt_to_income                   float64\n",
       "g099s                            float64\n",
       "all803                           float64\n",
       "st27s                            float64\n",
       "g960s                            float64\n",
       "g230s                            float64\n",
       "all807                           float64\n",
       "mt47s                            float64\n",
       "g094s                            float64\n",
       "all801                           float64\n",
       "g104s                            float64\n",
       "s004s                            float64\n",
       "funding_threshold                float64\n",
       "hi57s                            float64\n",
       "rep001                           float64\n",
       "all301                           float64\n",
       "rev302                           float64\n",
       "hr12s                            float64\n",
       "bc102s                           float64\n",
       "iln740                           float64\n",
       "all780                           float64\n",
       "rep901                           float64\n",
       "in36s                            float64\n",
       "mt36s                            float64\n",
       "iln724                           float64\n",
       "aut720                           float64\n",
       "rev703                           float64\n",
       "inquiries_last6_months           float64\n",
       "ale724                           float64\n",
       "rep071                           float64\n",
       "ale720                           float64\n",
       "total_inquiries                  float64\n",
       "re102s                           float64\n",
       "bac302                           float64\n",
       "credit_score                     float64\n",
       "int_rate                         float64\n",
       "monthly_pmt                      float64\n",
       "occupation                        object\n",
       "borrower_city                     object\n",
       "co_amount                        float64\n",
       "issue_date                datetime64[ns]\n",
       "dtype: object"
      ]
     },
     "execution_count": 8,
     "metadata": {},
     "output_type": "execute_result"
    }
   ],
   "source": [
    "data.dtypes"
   ]
  },
  {
   "cell_type": "markdown",
   "metadata": {},
   "source": [
    "Let's take a look at the non-numeric features (you can use pd.DataFrame.select_dtypes); what are they?"
   ]
  },
  {
   "cell_type": "code",
   "execution_count": 9,
   "metadata": {
    "execution": {
     "iopub.execute_input": "2021-10-26T04:56:49.908881Z",
     "iopub.status.busy": "2021-10-26T04:56:49.908660Z",
     "iopub.status.idle": "2021-10-26T04:56:49.929038Z",
     "shell.execute_reply": "2021-10-26T04:56:49.928142Z",
     "shell.execute_reply.started": "2021-10-26T04:56:49.908852Z"
    },
    "tags": []
   },
   "outputs": [
    {
     "data": {
      "text/html": [
       "<div>\n",
       "<style scoped>\n",
       "    .dataframe tbody tr th:only-of-type {\n",
       "        vertical-align: middle;\n",
       "    }\n",
       "\n",
       "    .dataframe tbody tr th {\n",
       "        vertical-align: top;\n",
       "    }\n",
       "\n",
       "    .dataframe thead th {\n",
       "        text-align: right;\n",
       "    }\n",
       "</style>\n",
       "<table border=\"1\" class=\"dataframe\">\n",
       "  <thead>\n",
       "    <tr style=\"text-align: right;\">\n",
       "      <th></th>\n",
       "      <th>occupation</th>\n",
       "      <th>borrower_city</th>\n",
       "      <th>issue_date</th>\n",
       "    </tr>\n",
       "    <tr>\n",
       "      <th>id</th>\n",
       "      <th></th>\n",
       "      <th></th>\n",
       "      <th></th>\n",
       "    </tr>\n",
       "  </thead>\n",
       "  <tbody>\n",
       "    <tr>\n",
       "      <th>733477</th>\n",
       "      <td>Other</td>\n",
       "      <td>Hialeah</td>\n",
       "      <td>2017-01-31</td>\n",
       "    </tr>\n",
       "    <tr>\n",
       "      <th>768878</th>\n",
       "      <td>Professional</td>\n",
       "      <td>MARIETTA</td>\n",
       "      <td>2017-03-31</td>\n",
       "    </tr>\n",
       "    <tr>\n",
       "      <th>742473</th>\n",
       "      <td>None</td>\n",
       "      <td>SAGLE</td>\n",
       "      <td>2017-02-28</td>\n",
       "    </tr>\n",
       "    <tr>\n",
       "      <th>738121</th>\n",
       "      <td>Waiter/Waitress</td>\n",
       "      <td>QUINCY</td>\n",
       "      <td>2017-02-28</td>\n",
       "    </tr>\n",
       "    <tr>\n",
       "      <th>733109</th>\n",
       "      <td>Tradesman - Carpenter</td>\n",
       "      <td>JUNEAU</td>\n",
       "      <td>2017-01-31</td>\n",
       "    </tr>\n",
       "    <tr>\n",
       "      <th>...</th>\n",
       "      <td>...</td>\n",
       "      <td>...</td>\n",
       "      <td>...</td>\n",
       "    </tr>\n",
       "    <tr>\n",
       "      <th>738916</th>\n",
       "      <td>Nurse's Aide</td>\n",
       "      <td>Victorville</td>\n",
       "      <td>2017-02-28</td>\n",
       "    </tr>\n",
       "    <tr>\n",
       "      <th>754430</th>\n",
       "      <td>Skilled Labor</td>\n",
       "      <td>Mora</td>\n",
       "      <td>2017-03-31</td>\n",
       "    </tr>\n",
       "    <tr>\n",
       "      <th>755852</th>\n",
       "      <td>Food Service</td>\n",
       "      <td>HARVEY</td>\n",
       "      <td>2017-03-31</td>\n",
       "    </tr>\n",
       "    <tr>\n",
       "      <th>763440</th>\n",
       "      <td>Principal</td>\n",
       "      <td>CYPRESS</td>\n",
       "      <td>2017-03-31</td>\n",
       "    </tr>\n",
       "    <tr>\n",
       "      <th>739533</th>\n",
       "      <td>Other</td>\n",
       "      <td>NORTH VERNON</td>\n",
       "      <td>2017-02-28</td>\n",
       "    </tr>\n",
       "  </tbody>\n",
       "</table>\n",
       "<p>40249 rows × 3 columns</p>\n",
       "</div>"
      ],
      "text/plain": [
       "                   occupation borrower_city issue_date\n",
       "id                                                    \n",
       "733477                  Other       Hialeah 2017-01-31\n",
       "768878           Professional      MARIETTA 2017-03-31\n",
       "742473                   None         SAGLE 2017-02-28\n",
       "738121        Waiter/Waitress        QUINCY 2017-02-28\n",
       "733109  Tradesman - Carpenter        JUNEAU 2017-01-31\n",
       "...                       ...           ...        ...\n",
       "738916           Nurse's Aide   Victorville 2017-02-28\n",
       "754430          Skilled Labor          Mora 2017-03-31\n",
       "755852           Food Service        HARVEY 2017-03-31\n",
       "763440              Principal       CYPRESS 2017-03-31\n",
       "739533                  Other  NORTH VERNON 2017-02-28\n",
       "\n",
       "[40249 rows x 3 columns]"
      ]
     },
     "execution_count": 9,
     "metadata": {},
     "output_type": "execute_result"
    }
   ],
   "source": [
    "data.select_dtypes(exclude='number')"
   ]
  },
  {
   "cell_type": "markdown",
   "metadata": {},
   "source": [
    "So, we have 3 non-numeric features: borrower_city, issue_date and occupation. Let's handle them."
   ]
  },
  {
   "cell_type": "markdown",
   "metadata": {
    "heading_collapsed": "true",
    "tags": []
   },
   "source": [
    "### Borrower city"
   ]
  },
  {
   "cell_type": "markdown",
   "metadata": {},
   "source": [
    "How many loans come from each city? "
   ]
  },
  {
   "cell_type": "code",
   "execution_count": 10,
   "metadata": {
    "execution": {
     "iopub.execute_input": "2021-10-26T04:56:49.930383Z",
     "iopub.status.busy": "2021-10-26T04:56:49.930161Z",
     "iopub.status.idle": "2021-10-26T04:56:49.945791Z",
     "shell.execute_reply": "2021-10-26T04:56:49.944891Z",
     "shell.execute_reply.started": "2021-10-26T04:56:49.930353Z"
    },
    "tags": []
   },
   "outputs": [
    {
     "data": {
      "text/plain": [
       "CHICAGO        284\n",
       "HOUSTON        250\n",
       "Las Vegas      222\n",
       "LAS VEGAS      213\n",
       "MIAMI          210\n",
       "              ... \n",
       "GRIFFIN          1\n",
       "Pontotoc         1\n",
       "Mexia            1\n",
       "BRIMFIELD        1\n",
       "HADDON HGTS      1\n",
       "Name: borrower_city, Length: 9560, dtype: int64"
      ]
     },
     "execution_count": 10,
     "metadata": {},
     "output_type": "execute_result"
    }
   ],
   "source": [
    "data.borrower_city.value_counts()"
   ]
  },
  {
   "cell_type": "markdown",
   "metadata": {},
   "source": [
    "This is a categorical feature with almost all distinct values (~10,000 values in 40,000 rows), so it is unlikely that it can be useful in predictions. Also, it's not nice to discriminate based on ones geography, let's drop it!"
   ]
  },
  {
   "cell_type": "code",
   "execution_count": 11,
   "metadata": {
    "execution": {
     "iopub.execute_input": "2021-10-26T04:56:49.947140Z",
     "iopub.status.busy": "2021-10-26T04:56:49.946916Z",
     "iopub.status.idle": "2021-10-26T04:56:49.956585Z",
     "shell.execute_reply": "2021-10-26T04:56:49.955604Z",
     "shell.execute_reply.started": "2021-10-26T04:56:49.947110Z"
    },
    "tags": []
   },
   "outputs": [],
   "source": [
    "data= data.drop(columns=[\"borrower_city\"])"
   ]
  },
  {
   "cell_type": "markdown",
   "metadata": {
    "heading_collapsed": "true",
    "tags": []
   },
   "source": [
    "### Issue date"
   ]
  },
  {
   "cell_type": "markdown",
   "metadata": {},
   "source": [
    "Issue date is ordinal, so we can label encode it (you can use sklearn.preprocessing.LabelEncoder or OrdinalEncoder)"
   ]
  },
  {
   "cell_type": "code",
   "execution_count": 12,
   "metadata": {
    "execution": {
     "iopub.execute_input": "2021-10-26T04:56:49.957989Z",
     "iopub.status.busy": "2021-10-26T04:56:49.957757Z",
     "iopub.status.idle": "2021-10-26T04:56:50.231101Z",
     "shell.execute_reply": "2021-10-26T04:56:50.230146Z",
     "shell.execute_reply.started": "2021-10-26T04:56:49.957958Z"
    },
    "tags": []
   },
   "outputs": [],
   "source": [
    "from sklearn.preprocessing import OrdinalEncoder\n",
    "data[\"issue_date\"] = np.squeeze(OrdinalEncoder().fit_transform(data[[\"issue_date\"]]))"
   ]
  },
  {
   "cell_type": "code",
   "execution_count": 13,
   "metadata": {
    "execution": {
     "iopub.execute_input": "2021-10-26T04:56:50.232587Z",
     "iopub.status.busy": "2021-10-26T04:56:50.232362Z",
     "iopub.status.idle": "2021-10-26T04:56:50.240477Z",
     "shell.execute_reply": "2021-10-26T04:56:50.239591Z",
     "shell.execute_reply.started": "2021-10-26T04:56:50.232557Z"
    },
    "tags": []
   },
   "outputs": [
    {
     "data": {
      "text/plain": [
       "id\n",
       "733477    1.0\n",
       "768878    3.0\n",
       "742473    2.0\n",
       "738121    2.0\n",
       "733109    1.0\n",
       "         ... \n",
       "738916    2.0\n",
       "754430    3.0\n",
       "755852    3.0\n",
       "763440    3.0\n",
       "739533    2.0\n",
       "Name: issue_date, Length: 40249, dtype: float64"
      ]
     },
     "execution_count": 13,
     "metadata": {},
     "output_type": "execute_result"
    }
   ],
   "source": [
    "data[\"issue_date\"]"
   ]
  },
  {
   "cell_type": "markdown",
   "metadata": {
    "tags": []
   },
   "source": [
    "### Occupation"
   ]
  },
  {
   "cell_type": "markdown",
   "metadata": {},
   "source": [
    "Occupation is not ordinal, but we can target encode it. That is, for each category, replace it with the numeric value of the mean of the target over all elements that belong to that category. However, we first need to split into train and test in order to compute the encoder only on the train set."
   ]
  },
  {
   "cell_type": "markdown",
   "metadata": {
    "execution": {
     "iopub.execute_input": "2021-06-30T11:03:31.229025Z",
     "iopub.status.busy": "2021-06-30T11:03:31.228650Z",
     "iopub.status.idle": "2021-06-30T11:03:31.232924Z",
     "shell.execute_reply": "2021-06-30T11:03:31.231956Z",
     "shell.execute_reply.started": "2021-06-30T11:03:31.228998Z"
    },
    "heading_collapsed": "true",
    "tags": []
   },
   "source": [
    "## Split to train and test"
   ]
  },
  {
   "cell_type": "markdown",
   "metadata": {
    "execution": {
     "iopub.execute_input": "2021-08-16T06:58:29.296998Z",
     "iopub.status.busy": "2021-08-16T06:58:29.296215Z",
     "iopub.status.idle": "2021-08-16T06:58:29.304801Z",
     "shell.execute_reply": "2021-08-16T06:58:29.303280Z",
     "shell.execute_reply.started": "2021-08-16T06:58:29.296872Z"
    },
    "heading_collapsed": "true",
    "tags": []
   },
   "source": [
    "### TODO need to add something about co_amount"
   ]
  },
  {
   "cell_type": "markdown",
   "metadata": {
    "tags": []
   },
   "source": [
    "As you already know, we need to split our data to train and test.\n",
    "So.. let's make a 70/30 split!\n",
    "\n",
    "Set you training and test sets to be X_train, y_train, X_test and y_test."
   ]
  },
  {
   "cell_type": "code",
   "execution_count": 14,
   "metadata": {
    "execution": {
     "iopub.execute_input": "2021-10-26T04:56:50.241775Z",
     "iopub.status.busy": "2021-10-26T04:56:50.241554Z",
     "iopub.status.idle": "2021-10-26T04:56:50.287150Z",
     "shell.execute_reply": "2021-10-26T04:56:50.286164Z",
     "shell.execute_reply.started": "2021-10-26T04:56:50.241745Z"
    },
    "tags": []
   },
   "outputs": [],
   "source": [
    "from sklearn.model_selection import train_test_split\n",
    "X_train, X_test, y_train, y_test = train_test_split(data, target)"
   ]
  },
  {
   "cell_type": "markdown",
   "metadata": {
    "execution": {
     "iopub.execute_input": "2021-08-15T12:44:38.331175Z",
     "iopub.status.busy": "2021-08-15T12:44:38.330710Z",
     "iopub.status.idle": "2021-08-15T12:44:38.340620Z",
     "shell.execute_reply": "2021-08-15T12:44:38.339110Z",
     "shell.execute_reply.started": "2021-08-15T12:44:38.331142Z"
    }
   },
   "source": [
    "Now that we have a train set we can target encode the occupation feature. Compute the encoding on the training set."
   ]
  },
  {
   "cell_type": "code",
   "execution_count": 15,
   "metadata": {
    "execution": {
     "iopub.execute_input": "2021-10-26T04:56:50.288640Z",
     "iopub.status.busy": "2021-10-26T04:56:50.288413Z",
     "iopub.status.idle": "2021-10-26T04:56:50.307753Z",
     "shell.execute_reply": "2021-10-26T04:56:50.306738Z",
     "shell.execute_reply.started": "2021-10-26T04:56:50.288610Z"
    },
    "tags": []
   },
   "outputs": [],
   "source": [
    "encoder = y_train.groupby(X_train['occupation'].fillna('NA')).mean()"
   ]
  },
  {
   "cell_type": "code",
   "execution_count": 16,
   "metadata": {
    "execution": {
     "iopub.execute_input": "2021-10-26T04:56:50.308979Z",
     "iopub.status.busy": "2021-10-26T04:56:50.308773Z",
     "iopub.status.idle": "2021-10-26T04:56:50.315752Z",
     "shell.execute_reply": "2021-10-26T04:56:50.314939Z",
     "shell.execute_reply.started": "2021-10-26T04:56:50.308953Z"
    },
    "tags": []
   },
   "outputs": [
    {
     "data": {
      "text/plain": [
       "occupation\n",
       "Accountant/CPA              0.156156\n",
       "Administrative Assistant    0.189711\n",
       "Analyst                     0.161954\n",
       "Architect                   0.133333\n",
       "Attorney                    0.151659\n",
       "                              ...   \n",
       "Tradesman - Electrician     0.229730\n",
       "Tradesman - Mechanic        0.201954\n",
       "Tradesman - Plumber         0.130435\n",
       "Truck Driver                0.265672\n",
       "Waiter/Waitress             0.231405\n",
       "Name: co_mob, Length: 71, dtype: float64"
      ]
     },
     "execution_count": 16,
     "metadata": {},
     "output_type": "execute_result"
    }
   ],
   "source": [
    "encoder"
   ]
  },
  {
   "cell_type": "markdown",
   "metadata": {},
   "source": [
    "Use the encoder to transform occupation in both the train and test sets."
   ]
  },
  {
   "cell_type": "code",
   "execution_count": 17,
   "metadata": {
    "execution": {
     "iopub.execute_input": "2021-10-26T04:56:50.316979Z",
     "iopub.status.busy": "2021-10-26T04:56:50.316781Z",
     "iopub.status.idle": "2021-10-26T04:56:50.329222Z",
     "shell.execute_reply": "2021-10-26T04:56:50.328248Z",
     "shell.execute_reply.started": "2021-10-26T04:56:50.316954Z"
    },
    "tags": []
   },
   "outputs": [
    {
     "name": "stderr",
     "output_type": "stream",
     "text": [
      "<ipython-input-17-f3ef728ce022>:1: SettingWithCopyWarning: \n",
      "A value is trying to be set on a copy of a slice from a DataFrame.\n",
      "Try using .loc[row_indexer,col_indexer] = value instead\n",
      "\n",
      "See the caveats in the documentation: https://pandas.pydata.org/pandas-docs/stable/user_guide/indexing.html#returning-a-view-versus-a-copy\n",
      "  X_train['occupation'] = X_train['occupation'].fillna('NA').map(encoder)\n",
      "<ipython-input-17-f3ef728ce022>:2: SettingWithCopyWarning: \n",
      "A value is trying to be set on a copy of a slice from a DataFrame.\n",
      "Try using .loc[row_indexer,col_indexer] = value instead\n",
      "\n",
      "See the caveats in the documentation: https://pandas.pydata.org/pandas-docs/stable/user_guide/indexing.html#returning-a-view-versus-a-copy\n",
      "  X_test['occupation'] = X_test['occupation'].fillna('NA').map(encoder)\n"
     ]
    }
   ],
   "source": [
    "X_train['occupation'] = X_train['occupation'].fillna('NA').map(encoder)\n",
    "X_test['occupation'] = X_test['occupation'].fillna('NA').map(encoder)"
   ]
  },
  {
   "cell_type": "markdown",
   "metadata": {
    "heading_collapsed": "true",
    "tags": []
   },
   "source": [
    "## Number of rows and columns"
   ]
  },
  {
   "cell_type": "markdown",
   "metadata": {},
   "source": [
    "Find the number of rows and columns"
   ]
  },
  {
   "cell_type": "code",
   "execution_count": 18,
   "metadata": {
    "execution": {
     "iopub.execute_input": "2021-10-26T04:56:50.330479Z",
     "iopub.status.busy": "2021-10-26T04:56:50.330275Z",
     "iopub.status.idle": "2021-10-26T04:56:50.336051Z",
     "shell.execute_reply": "2021-10-26T04:56:50.335192Z",
     "shell.execute_reply.started": "2021-10-26T04:56:50.330453Z"
    },
    "tags": []
   },
   "outputs": [
    {
     "name": "stdout",
     "output_type": "stream",
     "text": [
      "Train:\n",
      "Number of rows: 30186 \n",
      "Number of columns: 52\n",
      "Test: \n",
      "Number of rows: 10063 \n",
      "Number of columns: 52\n"
     ]
    }
   ],
   "source": [
    "print(\"Train:\")\n",
    "print(f\"Number of rows: {X_train.shape[0]} \\nNumber of columns: {X_train.shape[1]}\")\n",
    "print(\"Test: \")\n",
    "print(f\"Number of rows: {X_test.shape[0]} \\nNumber of columns: {X_test.shape[1]}\")"
   ]
  },
  {
   "cell_type": "markdown",
   "metadata": {
    "heading_collapsed": "true",
    "tags": []
   },
   "source": [
    "# Logistic Regression - Assumptions"
   ]
  },
  {
   "cell_type": "markdown",
   "metadata": {},
   "source": [
    "As with the linear regression model, the logistic regression model also has assumptions that need to be met:\n",
    "1. The target variable is binary.\n",
    "2. There is no multicollinearity among the features.\n",
    "3. A linear relationship between the features and the logit of the target.  \n",
    " $target \\sim Bernouli(p(X))$ where $logit(p_{\\beta}(X)) = X\\beta$ or, equivalently, $p_{\\beta}(X) = logit^{-1}(X\\beta)$\n",
    "\n",
    "Let's check these assumptions step by step."
   ]
  },
  {
   "cell_type": "markdown",
   "metadata": {
    "heading_collapsed": "true",
    "tags": []
   },
   "source": [
    "## Exploring the target variable"
   ]
  },
  {
   "cell_type": "markdown",
   "metadata": {},
   "source": [
    "Let's check how many charge offs we have:"
   ]
  },
  {
   "cell_type": "code",
   "execution_count": 19,
   "metadata": {
    "execution": {
     "iopub.execute_input": "2021-10-26T04:56:50.337232Z",
     "iopub.status.busy": "2021-10-26T04:56:50.337036Z",
     "iopub.status.idle": "2021-10-26T04:56:50.344755Z",
     "shell.execute_reply": "2021-10-26T04:56:50.343888Z",
     "shell.execute_reply.started": "2021-10-26T04:56:50.337207Z"
    },
    "tags": []
   },
   "outputs": [
    {
     "data": {
      "text/plain": [
       "False    24057\n",
       "True      6129\n",
       "Name: co_mob, dtype: int64"
      ]
     },
     "execution_count": 19,
     "metadata": {},
     "output_type": "execute_result"
    }
   ],
   "source": [
    "y_train.value_counts()"
   ]
  },
  {
   "cell_type": "markdown",
   "metadata": {
    "execution": {
     "iopub.execute_input": "2021-07-05T11:43:36.933705Z",
     "iopub.status.busy": "2021-07-05T11:43:36.933123Z",
     "iopub.status.idle": "2021-07-05T11:43:36.947258Z",
     "shell.execute_reply": "2021-07-05T11:43:36.945375Z",
     "shell.execute_reply.started": "2021-07-05T11:43:36.933666Z"
    }
   },
   "source": [
    "Remember: True refers to charge-off, and False refers to no charge-off."
   ]
  },
  {
   "cell_type": "markdown",
   "metadata": {
    "execution": {
     "iopub.execute_input": "2021-07-05T11:44:50.526428Z",
     "iopub.status.busy": "2021-07-05T11:44:50.525886Z",
     "iopub.status.idle": "2021-07-05T11:44:50.534616Z",
     "shell.execute_reply": "2021-07-05T11:44:50.533205Z",
     "shell.execute_reply.started": "2021-07-05T11:44:50.526386Z"
    }
   },
   "source": [
    "What is the percentage of loans with CO?"
   ]
  },
  {
   "cell_type": "code",
   "execution_count": 20,
   "metadata": {
    "execution": {
     "iopub.execute_input": "2021-10-26T04:56:50.345967Z",
     "iopub.status.busy": "2021-10-26T04:56:50.345768Z",
     "iopub.status.idle": "2021-10-26T04:56:50.351615Z",
     "shell.execute_reply": "2021-10-26T04:56:50.350558Z",
     "shell.execute_reply.started": "2021-10-26T04:56:50.345942Z"
    },
    "tags": []
   },
   "outputs": [
    {
     "data": {
      "text/plain": [
       "0.20304114490161002"
      ]
     },
     "execution_count": 20,
     "metadata": {},
     "output_type": "execute_result"
    }
   ],
   "source": [
    "y_train.mean()"
   ]
  },
  {
   "cell_type": "markdown",
   "metadata": {},
   "source": [
    "Compute the (absolute) correlations between each feature and the target"
   ]
  },
  {
   "cell_type": "code",
   "execution_count": 21,
   "metadata": {
    "execution": {
     "iopub.execute_input": "2021-10-26T04:56:50.352821Z",
     "iopub.status.busy": "2021-10-26T04:56:50.352622Z",
     "iopub.status.idle": "2021-10-26T04:56:50.492641Z",
     "shell.execute_reply": "2021-10-26T04:56:50.491729Z",
     "shell.execute_reply.started": "2021-10-26T04:56:50.352796Z"
    },
    "tags": []
   },
   "outputs": [
    {
     "data": {
      "text/plain": [
       "co_amount                 0.755750\n",
       "int_rate                  0.238984\n",
       "credit_score              0.154498\n",
       "all801                    0.120851\n",
       "bc102s                    0.120137\n",
       "debt_to_income            0.118603\n",
       "all804                    0.117936\n",
       "total_inquiries           0.117358\n",
       "rev703                    0.113920\n",
       "all807                    0.112720\n",
       "s004s                     0.112455\n",
       "inquiries_last6_months    0.111996\n",
       "all803                    0.111198\n",
       "occupation                0.107511\n",
       "re102s                    0.106655\n",
       "bac302                    0.106261\n",
       "rev302                    0.104197\n",
       "g960s                     0.100580\n",
       "rep901                    0.090106\n",
       "rep071                    0.088710\n",
       "rev401                    0.088265\n",
       "rep001                    0.088101\n",
       "mt36s                     0.083058\n",
       "mt47s                     0.082553\n",
       "all301                    0.079820\n",
       "iln703                    0.058555\n",
       "iln720                    0.056838\n",
       "g104s                     0.055843\n",
       "monthly_pmt               0.052446\n",
       "iln740                    0.049651\n",
       "in36s                     0.048194\n",
       "hr06s                     0.043183\n",
       "hr09s                     0.041940\n",
       "aut720                    0.039351\n",
       "ale720                    0.038723\n",
       "iln724                    0.037246\n",
       "ale724                    0.033982\n",
       "issue_date                0.033112\n",
       "g094s                     0.033019\n",
       "g099s                     0.032915\n",
       "g230s                     0.028944\n",
       "rt24s                     0.022324\n",
       "all780                    0.021957\n",
       "rep501                    0.018571\n",
       "funding_threshold         0.016019\n",
       "hr24s                     0.012216\n",
       "loan_amnt                 0.009997\n",
       "st27s                     0.009618\n",
       "g099a                     0.009170\n",
       "hr12s                     0.009158\n",
       "percent_funded            0.005584\n",
       "hi57s                     0.000565\n",
       "dtype: float64"
      ]
     },
     "execution_count": 21,
     "metadata": {},
     "output_type": "execute_result"
    }
   ],
   "source": [
    "X_train.corrwith(y_train).abs().sort_values(ascending=False)"
   ]
  },
  {
   "cell_type": "markdown",
   "metadata": {},
   "source": [
    "Okay, so co_amount is, unsurprisingly, very correlated with the label. For the moment, though, let's leave it inside the trainig set and see how it effects our results."
   ]
  },
  {
   "cell_type": "markdown",
   "metadata": {
    "execution": {
     "iopub.execute_input": "2021-06-23T12:56:39.177180Z",
     "iopub.status.busy": "2021-06-23T12:56:39.176764Z",
     "iopub.status.idle": "2021-06-23T12:56:39.182172Z",
     "shell.execute_reply": "2021-06-23T12:56:39.181187Z",
     "shell.execute_reply.started": "2021-06-23T12:56:39.177151Z"
    }
   },
   "source": [
    "Plot the distributions of the next two most correlated features, conditioned on the target varible (i.e. one plot for each class in that target; you can use `hue=target` when using the seaborn suite). "
   ]
  },
  {
   "cell_type": "code",
   "execution_count": 22,
   "metadata": {
    "execution": {
     "iopub.execute_input": "2021-10-26T04:56:50.494016Z",
     "iopub.status.busy": "2021-10-26T04:56:50.493807Z",
     "iopub.status.idle": "2021-10-26T04:56:50.849055Z",
     "shell.execute_reply": "2021-10-26T04:56:50.848128Z",
     "shell.execute_reply.started": "2021-10-26T04:56:50.493990Z"
    },
    "tags": []
   },
   "outputs": [
    {
     "name": "stdout",
     "output_type": "stream",
     "text": [
      "04:56:50\u001b[0m \u001b[33mWARNING legend.py         :1225 \u001b[0m| No handles with labels found to put in legend.\n"
     ]
    },
    {
     "data": {
      "image/png": "[encoded data removed]",
      "text/plain": [
       "<Figure size 432x288 with 1 Axes>"
      ]
     },
     "metadata": {},
     "output_type": "display_data"
    }
   ],
   "source": [
    "sns.kdeplot(x=X_train['int_rate'], hue=y_train, common_norm=False)\n",
    "plt.title('int_rate distribution')\n",
    "plt.legend()\n",
    "plt.xlabel('int_rate value')\n",
    "plt.ylabel('Density')\n",
    "plt.show();"
   ]
  },
  {
   "cell_type": "code",
   "execution_count": 23,
   "metadata": {
    "execution": {
     "iopub.execute_input": "2021-10-26T04:56:50.850451Z",
     "iopub.status.busy": "2021-10-26T04:56:50.850238Z",
     "iopub.status.idle": "2021-10-26T04:56:51.115879Z",
     "shell.execute_reply": "2021-10-26T04:56:51.115033Z",
     "shell.execute_reply.started": "2021-10-26T04:56:50.850425Z"
    },
    "tags": []
   },
   "outputs": [
    {
     "data": {
      "image/png": "[encoded data removed]",
      "text/plain": [
       "<Figure size 432x288 with 1 Axes>"
      ]
     },
     "metadata": {},
     "output_type": "display_data"
    }
   ],
   "source": [
    "sns.countplot(x=X_train['credit_score'], hue=y_train)\n",
    "plt.title('credit_score distribution')\n",
    "plt.legend()\n",
    "plt.xlabel('credit_score value')\n",
    "plt.ylabel('Density')\n",
    "plt.xticks(rotation=45)\n",
    "plt.show();"
   ]
  },
  {
   "cell_type": "markdown",
   "metadata": {
    "heading_collapsed": "true",
    "tags": []
   },
   "source": [
    "## Multicollinearity"
   ]
  },
  {
   "cell_type": "markdown",
   "metadata": {},
   "source": [
    "You are already familiar with the concept of multicollinearty from assignment 3.  \n",
    "\n",
    "Reminder:\n",
    "* Multicollinearity occurs when two or more explanatory variables are highly correlated to each other,\\\n",
    "  such that they do not provide unique or independent information in the regression model.  \n",
    "  If the degree of correlation is high enough between variables, it can cause problems when fitting and interpreting the model. \n",
    "\n",
    "Multicollinearity can significantly impair the performance of logistic regression, so let's test for it and remove it\n",
    "\n",
    "(You can use seaborn.clustermap to vizualize the correlation matrix)"
   ]
  },
  {
   "cell_type": "code",
   "execution_count": 24,
   "metadata": {
    "execution": {
     "iopub.execute_input": "2021-10-26T04:56:51.117256Z",
     "iopub.status.busy": "2021-10-26T04:56:51.117047Z",
     "iopub.status.idle": "2021-10-26T04:56:53.259254Z",
     "shell.execute_reply": "2021-10-26T04:56:53.258158Z",
     "shell.execute_reply.started": "2021-10-26T04:56:51.117229Z"
    },
    "tags": []
   },
   "outputs": [
    {
     "data": {
      "text/plain": [
       "<Figure size 3240x3240 with 0 Axes>"
      ]
     },
     "metadata": {},
     "output_type": "display_data"
    },
    {
     "data": {
      "image/png": "[encoded data removed]",
      "text/plain": [
       "<Figure size 720x720 with 4 Axes>"
      ]
     },
     "metadata": {},
     "output_type": "display_data"
    }
   ],
   "source": [
    "plt.figure(figsize=(45, 45))\n",
    "sns.clustermap(X_train.corr().abs(), xticklabels=True, yticklabels=True)\n",
    "plt.title(\"Heatmap of all the Features\", fontsize = 30)\n",
    "plt.show()"
   ]
  },
  {
   "cell_type": "markdown",
   "metadata": {},
   "source": [
    "Right!  \n",
    "The correlations between the features need to be examined and if there are high correlations between certain features then they are interdependent and we better take care of that."
   ]
  },
  {
   "cell_type": "markdown",
   "metadata": {},
   "source": [
    "In the heatmap we can see several features that are highly correlated to others. There are more involved ways for choosing which features to keep, but in this case we will simply drop those features which are more correlated to other features as well. Select a set of features that are strongly correlated to other features and drop them.\n",
    "\n",
    "_remark_ There are more involved ways for choosing which features to keep, but in this case we will simply drop those features which are more correlated to other features as well"
   ]
  },
  {
   "cell_type": "markdown",
   "metadata": {},
   "source": [
    "We chose to remove the following features:"
   ]
  },
  {
   "cell_type": "code",
   "execution_count": 25,
   "metadata": {
    "execution": {
     "iopub.execute_input": "2021-10-26T04:56:53.263856Z",
     "iopub.status.busy": "2021-10-26T04:56:53.263638Z",
     "iopub.status.idle": "2021-10-26T04:56:53.268793Z",
     "shell.execute_reply": "2021-10-26T04:56:53.267529Z",
     "shell.execute_reply.started": "2021-10-26T04:56:53.263830Z"
    },
    "tags": []
   },
   "outputs": [],
   "source": [
    "features_to_remove = ['all803', 'all804', 'all801', 'aut720', 're102s', 'rev302', 'bac302', 'rep001', 'rep071', 'rep901', 's004s', 'hr06s', 'g099s', 'monthly_pmt', 'hr24s', 'all807', 'ale724', 'ale720', 'in36s', 'mt47s']"
   ]
  },
  {
   "cell_type": "code",
   "execution_count": 26,
   "metadata": {
    "execution": {
     "iopub.execute_input": "2021-10-26T04:56:53.270611Z",
     "iopub.status.busy": "2021-10-26T04:56:53.270413Z",
     "iopub.status.idle": "2021-10-26T04:56:53.276720Z",
     "shell.execute_reply": "2021-10-26T04:56:53.275878Z",
     "shell.execute_reply.started": "2021-10-26T04:56:53.270587Z"
    },
    "tags": []
   },
   "outputs": [
    {
     "data": {
      "text/plain": [
       "((30186, 52), (10063, 52))"
      ]
     },
     "execution_count": 26,
     "metadata": {},
     "output_type": "execute_result"
    }
   ],
   "source": [
    "X_train.shape, X_test.shape"
   ]
  },
  {
   "cell_type": "code",
   "execution_count": 27,
   "metadata": {
    "execution": {
     "iopub.execute_input": "2021-10-26T04:56:53.277982Z",
     "iopub.status.busy": "2021-10-26T04:56:53.277736Z",
     "iopub.status.idle": "2021-10-26T04:56:53.290515Z",
     "shell.execute_reply": "2021-10-26T04:56:53.289559Z",
     "shell.execute_reply.started": "2021-10-26T04:56:53.277955Z"
    },
    "tags": []
   },
   "outputs": [],
   "source": [
    "X_train = X_train.drop(columns=features_to_remove)\n",
    "X_test = X_test.drop(columns=features_to_remove)"
   ]
  },
  {
   "cell_type": "code",
   "execution_count": 28,
   "metadata": {
    "execution": {
     "iopub.execute_input": "2021-10-26T04:56:53.291993Z",
     "iopub.status.busy": "2021-10-26T04:56:53.291783Z",
     "iopub.status.idle": "2021-10-26T04:56:53.298098Z",
     "shell.execute_reply": "2021-10-26T04:56:53.296954Z",
     "shell.execute_reply.started": "2021-10-26T04:56:53.291966Z"
    },
    "tags": []
   },
   "outputs": [
    {
     "data": {
      "text/plain": [
       "((30186, 32), (10063, 32))"
      ]
     },
     "execution_count": 28,
     "metadata": {},
     "output_type": "execute_result"
    }
   ],
   "source": [
    "X_train.shape, X_test.shape"
   ]
  },
  {
   "cell_type": "markdown",
   "metadata": {
    "execution": {
     "iopub.execute_input": "2021-07-05T12:23:51.139848Z",
     "iopub.status.busy": "2021-07-05T12:23:51.139407Z",
     "iopub.status.idle": "2021-07-05T12:23:51.152678Z",
     "shell.execute_reply": "2021-07-05T12:23:51.151066Z",
     "shell.execute_reply.started": "2021-07-05T12:23:51.139819Z"
    }
   },
   "source": [
    "Make sure the correlation map looks closer to diagonal now."
   ]
  },
  {
   "cell_type": "code",
   "execution_count": 29,
   "metadata": {
    "execution": {
     "iopub.execute_input": "2021-10-26T04:56:53.299379Z",
     "iopub.status.busy": "2021-10-26T04:56:53.299182Z",
     "iopub.status.idle": "2021-10-26T04:56:54.319623Z",
     "shell.execute_reply": "2021-10-26T04:56:54.318743Z",
     "shell.execute_reply.started": "2021-10-26T04:56:53.299354Z"
    },
    "tags": []
   },
   "outputs": [
    {
     "data": {
      "text/plain": [
       "<Figure size 2160x2160 with 0 Axes>"
      ]
     },
     "metadata": {},
     "output_type": "display_data"
    },
    {
     "data": {
      "image/png": "[encoded data removed]",
      "text/plain": [
       "<Figure size 720x720 with 4 Axes>"
      ]
     },
     "metadata": {},
     "output_type": "display_data"
    }
   ],
   "source": [
    "plt.figure(figsize=(30, 30))\n",
    "cm = sns.clustermap(X_train.corr().abs(), xticklabels=True, yticklabels=True);\n",
    "plt.title(\"Heatmap of all the Features\", fontsize = 30);\n",
    "plt.show()"
   ]
  },
  {
   "cell_type": "markdown",
   "metadata": {},
   "source": [
    "There are still some correlations but this is much closer to an identity matrix"
   ]
  },
  {
   "cell_type": "markdown",
   "metadata": {
    "heading_collapsed": "true",
    "tags": []
   },
   "source": [
    "# Cleaning the data"
   ]
  },
  {
   "cell_type": "markdown",
   "metadata": {},
   "source": [
    "Until now we got to know our data and checked if they meet the required assumptions.  \n",
    "Now, let's start cleaning the data."
   ]
  },
  {
   "cell_type": "markdown",
   "metadata": {},
   "source": [
    "Find out the percentage of missing values (i.e. np.nans) in your dataset, and print them in ascending order. "
   ]
  },
  {
   "cell_type": "markdown",
   "metadata": {
    "tags": []
   },
   "source": [
    "## Missing values"
   ]
  },
  {
   "cell_type": "markdown",
   "metadata": {},
   "source": [
    "Find out the percentage of missing values (i.e. NaNs) in your dataset, and print them in ascending order. "
   ]
  },
  {
   "cell_type": "code",
   "execution_count": 30,
   "metadata": {
    "execution": {
     "iopub.execute_input": "2021-10-26T04:56:54.321000Z",
     "iopub.status.busy": "2021-10-26T04:56:54.320789Z",
     "iopub.status.idle": "2021-10-26T04:56:54.330256Z",
     "shell.execute_reply": "2021-10-26T04:56:54.329406Z",
     "shell.execute_reply.started": "2021-10-26T04:56:54.320973Z"
    },
    "tags": []
   },
   "outputs": [
    {
     "data": {
      "text/plain": [
       "rep501                    0\n",
       "occupation                0\n",
       "int_rate                  0\n",
       "credit_score              0\n",
       "total_inquiries           0\n",
       "inquiries_last6_months    0\n",
       "rev703                    0\n",
       "iln724                    0\n",
       "mt36s                     0\n",
       "all780                    0\n",
       "iln740                    0\n",
       "bc102s                    0\n",
       "hr12s                     0\n",
       "all301                    0\n",
       "hi57s                     0\n",
       "funding_threshold         0\n",
       "g104s                     0\n",
       "g094s                     0\n",
       "g230s                     0\n",
       "g960s                     0\n",
       "st27s                     0\n",
       "debt_to_income            0\n",
       "rev401                    0\n",
       "loan_amnt                 0\n",
       "hr09s                     0\n",
       "percent_funded            0\n",
       "iln720                    0\n",
       "g099a                     0\n",
       "iln703                    0\n",
       "rt24s                     0\n",
       "co_amount                 0\n",
       "issue_date                0\n",
       "dtype: int64"
      ]
     },
     "execution_count": 30,
     "metadata": {},
     "output_type": "execute_result"
    }
   ],
   "source": [
    "X_train.isna().sum().sort_values()"
   ]
  },
  {
   "cell_type": "markdown",
   "metadata": {},
   "source": [
    "How many missing values are the in the dataset? What's the percentage of rows without any missing features?"
   ]
  },
  {
   "cell_type": "markdown",
   "metadata": {},
   "source": [
    "<span style=\"color:teal\">No missing values</span>"
   ]
  },
  {
   "cell_type": "markdown",
   "metadata": {},
   "source": [
    "If everything went smoothly, there should be no missing values here, so.. nothing left to do :)"
   ]
  },
  {
   "cell_type": "markdown",
   "metadata": {
    "execution": {
     "iopub.execute_input": "2021-10-26T04:45:07.733390Z",
     "iopub.status.busy": "2021-10-26T04:45:07.733086Z",
     "iopub.status.idle": "2021-10-26T04:45:07.736733Z",
     "shell.execute_reply": "2021-10-26T04:45:07.735938Z",
     "shell.execute_reply.started": "2021-10-26T04:45:07.733362Z"
    },
    "tags": []
   },
   "source": [
    "<span style=\"color:teal\"> if the interns forget to fillna in the occupation encoding, they would have nans here- make sure to remind them about it</span>"
   ]
  },
  {
   "cell_type": "markdown",
   "metadata": {
    "heading_collapsed": "true",
    "tags": []
   },
   "source": [
    "## Outliers"
   ]
  },
  {
   "cell_type": "markdown",
   "metadata": {},
   "source": [
    "If there are outliers, you can choose one of the following ways:\n",
    "1. Use methods (such as XGBoost) which handle outliers inherently.\n",
    "2. Remove them.\n",
    "3. Replace them with a value like the mean/median.\n",
    "4. Simply keep them in order to learn from them (but make a note about this when reporting the regression results)."
   ]
  },
  {
   "cell_type": "markdown",
   "metadata": {},
   "source": [
    "Let's focus on two features we understand and find outliers in them:\n",
    "1) loan_amnt - the amount of the loan in USD.\n",
    "2) listing_term - the number months the loan was taken for.\n",
    "\n",
    "In order to find outliers we will plot a box plot for each feature."
   ]
  },
  {
   "cell_type": "code",
   "execution_count": 31,
   "metadata": {
    "execution": {
     "iopub.execute_input": "2021-10-26T04:56:54.331556Z",
     "iopub.status.busy": "2021-10-26T04:56:54.331352Z",
     "iopub.status.idle": "2021-10-26T04:56:54.448751Z",
     "shell.execute_reply": "2021-10-26T04:56:54.447804Z",
     "shell.execute_reply.started": "2021-10-26T04:56:54.331530Z"
    },
    "tags": []
   },
   "outputs": [
    {
     "data": {
      "image/png": "[encoded data removed]",
      "text/plain": [
       "<Figure size 432x288 with 1 Axes>"
      ]
     },
     "metadata": {},
     "output_type": "display_data"
    }
   ],
   "source": [
    "sns.boxplot(x=X_train['loan_amnt'])\n",
    "plt.title('Box plot of loan_amnt')\n",
    "plt.show()"
   ]
  },
  {
   "cell_type": "markdown",
   "metadata": {},
   "source": [
    "There seem to be many outliers with large loan amounts. However, we expect loan amount to have some very large values.  \n",
    "We can assume that the loan amount behaves log-normal (which means its Log behaves normally), therefore it might be more insightful to plot the Log of the feature."
   ]
  },
  {
   "cell_type": "code",
   "execution_count": 32,
   "metadata": {
    "execution": {
     "iopub.execute_input": "2021-10-26T04:56:54.450085Z",
     "iopub.status.busy": "2021-10-26T04:56:54.449878Z",
     "iopub.status.idle": "2021-10-26T04:56:54.562142Z",
     "shell.execute_reply": "2021-10-26T04:56:54.561246Z",
     "shell.execute_reply.started": "2021-10-26T04:56:54.450058Z"
    },
    "tags": []
   },
   "outputs": [
    {
     "data": {
      "image/png": "[encoded data removed]",
      "text/plain": [
       "<Figure size 432x288 with 1 Axes>"
      ]
     },
     "metadata": {},
     "output_type": "display_data"
    }
   ],
   "source": [
    "sns.boxplot(x=np.log(X_train['loan_amnt']))\n",
    "plt.title('Bopx plot of Log(loan_amnt)')\n",
    "plt.show()"
   ]
  },
  {
   "cell_type": "markdown",
   "metadata": {
    "execution": {
     "iopub.execute_input": "2021-07-20T08:11:13.489580Z",
     "iopub.status.busy": "2021-07-20T08:11:13.489159Z",
     "iopub.status.idle": "2021-07-20T08:11:13.497982Z",
     "shell.execute_reply": "2021-07-20T08:11:13.496776Z",
     "shell.execute_reply.started": "2021-07-20T08:11:13.489496Z"
    }
   },
   "source": [
    "This looks much better! "
   ]
  },
  {
   "cell_type": "markdown",
   "metadata": {
    "execution": {
     "iopub.execute_input": "2021-07-20T08:13:25.136558Z",
     "iopub.status.busy": "2021-07-20T08:13:25.136144Z",
     "iopub.status.idle": "2021-07-20T08:13:25.144703Z",
     "shell.execute_reply": "2021-07-20T08:13:25.143343Z",
     "shell.execute_reply.started": "2021-07-20T08:13:25.136529Z"
    }
   },
   "source": [
    "Let's explore how many outliers we have in this feature. \n",
    "In general outlier is not a well-defined notion. One possible defition in our case would be loans whose loan amount is noticably higher or smaller than expected. For example in the case of a normal distribution, values more then $3*std$ from the mean are often considered outliers. A useful rule of thumb for finding outliers in many cases is by computing the interquantile range (IQR, i.e. the difference between the third and first quartile) and finding all loans whose log(loan amount) is more then some constant times the IQR from a given percentile."
   ]
  },
  {
   "cell_type": "markdown",
   "metadata": {},
   "source": [
    "Compute the IQR of the log of loan amount."
   ]
  },
  {
   "cell_type": "code",
   "execution_count": 33,
   "metadata": {
    "execution": {
     "iopub.execute_input": "2021-10-26T04:56:54.563482Z",
     "iopub.status.busy": "2021-10-26T04:56:54.563275Z",
     "iopub.status.idle": "2021-10-26T04:56:54.573047Z",
     "shell.execute_reply": "2021-10-26T04:56:54.572105Z",
     "shell.execute_reply.started": "2021-10-26T04:56:54.563456Z"
    },
    "tags": []
   },
   "outputs": [],
   "source": [
    "Q1 = np.log(X_train['loan_amnt']).quantile(0.25)\n",
    "Q3 = np.log(X_train['loan_amnt']).quantile(0.75)\n",
    "IQR = Q3 - Q1    #IQR is interquartile range. "
   ]
  },
  {
   "cell_type": "markdown",
   "metadata": {},
   "source": [
    "Compute the number of loans in X_train whose log(loan_amount) is more than $1.5*IQR$ below the 25th percentile of the feature."
   ]
  },
  {
   "cell_type": "code",
   "execution_count": null,
   "metadata": {},
   "outputs": [],
   "source": []
  },
  {
   "cell_type": "code",
   "execution_count": 34,
   "metadata": {
    "execution": {
     "iopub.execute_input": "2021-10-26T04:56:54.574333Z",
     "iopub.status.busy": "2021-10-26T04:56:54.574124Z",
     "iopub.status.idle": "2021-10-26T04:56:54.580321Z",
     "shell.execute_reply": "2021-10-26T04:56:54.579222Z",
     "shell.execute_reply.started": "2021-10-26T04:56:54.574307Z"
    },
    "tags": []
   },
   "outputs": [
    {
     "name": "stdout",
     "output_type": "stream",
     "text": [
      "Number of outliers below range: 0\n"
     ]
    }
   ],
   "source": [
    "below_range = (np.log(X_train['loan_amnt']) < Q1 - 1.5 * IQR) \n",
    "print(f\"Number of outliers below range: {below_range.sum()}\")"
   ]
  },
  {
   "cell_type": "markdown",
   "metadata": {},
   "source": [
    "Compute the number of loans in X_train whose log(loan_amount) is more than $1.5*IQR$ above the 75th percentile of the feature."
   ]
  },
  {
   "cell_type": "code",
   "execution_count": 35,
   "metadata": {
    "execution": {
     "iopub.execute_input": "2021-10-26T04:56:54.581583Z",
     "iopub.status.busy": "2021-10-26T04:56:54.581377Z",
     "iopub.status.idle": "2021-10-26T04:56:54.587035Z",
     "shell.execute_reply": "2021-10-26T04:56:54.586135Z",
     "shell.execute_reply.started": "2021-10-26T04:56:54.581557Z"
    },
    "tags": []
   },
   "outputs": [
    {
     "name": "stdout",
     "output_type": "stream",
     "text": [
      "Number of outliers above range: 0\n"
     ]
    }
   ],
   "source": [
    "above_range= (np.log(X_train['loan_amnt']) > Q3 + 1.5 *IQR)\n",
    "print(f\"Number of outliers above range: {above_range.sum()}\")"
   ]
  },
  {
   "cell_type": "markdown",
   "metadata": {},
   "source": [
    "Cool, it seems that there are no outliers according to this specific definition."
   ]
  },
  {
   "cell_type": "markdown",
   "metadata": {},
   "source": [
    "Replace the loan_amnt feature by its log:"
   ]
  },
  {
   "cell_type": "code",
   "execution_count": 36,
   "metadata": {
    "execution": {
     "iopub.execute_input": "2021-10-26T04:56:54.588258Z",
     "iopub.status.busy": "2021-10-26T04:56:54.588026Z",
     "iopub.status.idle": "2021-10-26T04:56:54.594534Z",
     "shell.execute_reply": "2021-10-26T04:56:54.593665Z",
     "shell.execute_reply.started": "2021-10-26T04:56:54.588199Z"
    },
    "tags": []
   },
   "outputs": [],
   "source": [
    "X_train['loan_amnt'] = np.log10(X_train['loan_amnt'])\n",
    "X_test['loan_amnt'] = np.log10(X_test['loan_amnt'])"
   ]
  },
  {
   "cell_type": "markdown",
   "metadata": {
    "execution": {
     "iopub.execute_input": "2021-06-23T09:12:26.830375Z",
     "iopub.status.busy": "2021-06-23T09:12:26.829979Z",
     "iopub.status.idle": "2021-06-23T09:12:26.833860Z",
     "shell.execute_reply": "2021-06-23T09:12:26.833068Z",
     "shell.execute_reply.started": "2021-06-23T09:12:26.830345Z"
    },
    "heading_collapsed": "true",
    "tags": []
   },
   "source": [
    "# Preprocessing"
   ]
  },
  {
   "cell_type": "markdown",
   "metadata": {},
   "source": [
    "We did most of the data preparation while working.  \n",
    "The last thing we need to do is to handle categorical features (usually by creating dummy variables or label encoding).  \n",
    "However, we already know there are no categorical features in our training set so our data is ready! "
   ]
  },
  {
   "cell_type": "markdown",
   "metadata": {
    "tags": []
   },
   "source": [
    "# Model train"
   ]
  },
  {
   "cell_type": "markdown",
   "metadata": {},
   "source": [
    "So, now that our data is ready, we can create and train our model. As we discussed in Section 3, we will use a logistic regression model for this purpose.\n",
    "Use the `sklearn.linear_model.LogisticRegression` package to create your model. As we've seen in Assignment 1, regression models' performance improve if the data is standardized before fitting. In order to add a standartization step to your model you can use `sklearn.preprocessing.StandardScaler` and use `sklearn.pipeline.PipeLine` in order to run the two processes in sequence."
   ]
  },
  {
   "cell_type": "code",
   "execution_count": 37,
   "metadata": {
    "execution": {
     "iopub.execute_input": "2021-10-26T04:56:54.595718Z",
     "iopub.status.busy": "2021-10-26T04:56:54.595518Z",
     "iopub.status.idle": "2021-10-26T04:56:54.619155Z",
     "shell.execute_reply": "2021-10-26T04:56:54.618161Z",
     "shell.execute_reply.started": "2021-10-26T04:56:54.595693Z"
    },
    "tags": []
   },
   "outputs": [],
   "source": [
    "from sklearn.preprocessing import StandardScaler\n",
    "from sklearn.pipeline import Pipeline\n",
    "from sklearn.linear_model import LogisticRegression"
   ]
  },
  {
   "cell_type": "code",
   "execution_count": 38,
   "metadata": {
    "execution": {
     "iopub.execute_input": "2021-10-26T04:56:54.620603Z",
     "iopub.status.busy": "2021-10-26T04:56:54.620386Z",
     "iopub.status.idle": "2021-10-26T04:56:54.624781Z",
     "shell.execute_reply": "2021-10-26T04:56:54.623884Z",
     "shell.execute_reply.started": "2021-10-26T04:56:54.620576Z"
    },
    "tags": []
   },
   "outputs": [],
   "source": [
    "ss = StandardScaler()\n",
    "lr = LogisticRegression(max_iter=500, penalty='none')\n",
    "pp = Pipeline([('scaling', ss), ('lr', lr)])"
   ]
  },
  {
   "cell_type": "markdown",
   "metadata": {},
   "source": [
    "Fit your model to the training data"
   ]
  },
  {
   "cell_type": "code",
   "execution_count": 39,
   "metadata": {
    "execution": {
     "iopub.execute_input": "2021-10-26T04:56:54.625904Z",
     "iopub.status.busy": "2021-10-26T04:56:54.625706Z",
     "iopub.status.idle": "2021-10-26T04:56:54.970774Z",
     "shell.execute_reply": "2021-10-26T04:56:54.969878Z",
     "shell.execute_reply.started": "2021-10-26T04:56:54.625878Z"
    },
    "tags": []
   },
   "outputs": [
    {
     "data": {
      "text/plain": [
       "Pipeline(steps=[('scaling', StandardScaler()),\n",
       "                ('lr', LogisticRegression(max_iter=500, penalty='none'))])"
      ]
     },
     "execution_count": 39,
     "metadata": {},
     "output_type": "execute_result"
    }
   ],
   "source": [
    "pp.fit(X_train, y_train)"
   ]
  },
  {
   "cell_type": "markdown",
   "metadata": {},
   "source": [
    "Let's check our model's performance. Our measure of accuracy would be the percentage of items in the test set for which the prediction is identical to the true value (i.e. the percantage of loans for which model predicted True for a CO loan or False for a non-CO loan).\n",
    "\n",
    "You can either compute this value directly, or use `sklearn.metrics.accuracy_score`."
   ]
  },
  {
   "cell_type": "code",
   "execution_count": 40,
   "metadata": {
    "execution": {
     "iopub.execute_input": "2021-10-26T04:56:54.972088Z",
     "iopub.status.busy": "2021-10-26T04:56:54.971873Z",
     "iopub.status.idle": "2021-10-26T04:56:54.983926Z",
     "shell.execute_reply": "2021-10-26T04:56:54.983155Z",
     "shell.execute_reply.started": "2021-10-26T04:56:54.972061Z"
    },
    "tags": []
   },
   "outputs": [
    {
     "data": {
      "text/plain": [
       "0.9969194077312928"
      ]
     },
     "execution_count": 40,
     "metadata": {},
     "output_type": "execute_result"
    }
   ],
   "source": [
    "from sklearn import metrics\n",
    "metrics.accuracy_score(y_test, pp.predict(X_test))"
   ]
  },
  {
   "cell_type": "markdown",
   "metadata": {},
   "source": [
    "If all went according to plan, this should be way too good to be true, and make us suspicious. \n",
    "Let's have a closer at the trained model. Use `sklearn.linear_model.LogisticRegression`'s coef_ attribute in order to see the regression coefficient corresponding to each feature. By default - the coefficients appear in the same order as the corresponding columns appear in X_train.\n",
    "\n",
    "Find a nice way to represent the coefficients and their respective column names and print it. How do the coefficients look?"
   ]
  },
  {
   "cell_type": "code",
   "execution_count": 41,
   "metadata": {
    "execution": {
     "iopub.execute_input": "2021-10-26T04:56:54.985254Z",
     "iopub.status.busy": "2021-10-26T04:56:54.985037Z",
     "iopub.status.idle": "2021-10-26T04:56:54.993347Z",
     "shell.execute_reply": "2021-10-26T04:56:54.992585Z",
     "shell.execute_reply.started": "2021-10-26T04:56:54.985227Z"
    },
    "tags": []
   },
   "outputs": [
    {
     "data": {
      "text/plain": [
       "co_amount                 199.755384\n",
       "int_rate                    0.488551\n",
       "all301                      0.337470\n",
       "g104s                       0.333047\n",
       "total_inquiries             0.287753\n",
       "mt36s                       0.284586\n",
       "credit_score                0.260573\n",
       "iln703                      0.251995\n",
       "iln724                      0.249332\n",
       "iln720                      0.246858\n",
       "issue_date                  0.243035\n",
       "funding_threshold           0.197459\n",
       "rep501                      0.194841\n",
       "loan_amnt                   0.193693\n",
       "rt24s                       0.192476\n",
       "debt_to_income              0.182719\n",
       "g094s                       0.132357\n",
       "occupation                  0.107180\n",
       "g099a                       0.085266\n",
       "g230s                       0.080642\n",
       "inquiries_last6_months      0.076576\n",
       "st27s                       0.067101\n",
       "iln740                      0.062472\n",
       "rev401                      0.056295\n",
       "hr09s                       0.044105\n",
       "g960s                       0.030163\n",
       "all780                      0.022425\n",
       "percent_funded              0.016278\n",
       "rev703                      0.009145\n",
       "hi57s                       0.007530\n",
       "hr12s                       0.004397\n",
       "bc102s                      0.003990\n",
       "dtype: float64"
      ]
     },
     "execution_count": 41,
     "metadata": {},
     "output_type": "execute_result"
    }
   ],
   "source": [
    "pd.Series(np.squeeze(lr.coef_), index=X_train.columns).abs().sort_values(ascending=False)"
   ]
  },
  {
   "cell_type": "markdown",
   "metadata": {},
   "source": [
    "Oh no! co_amount is not supposed to be a feature, it represents the performance of the loan and leaks information about the target (which we obviously won't have in real life before the loan is financed)! This is not surprising- we already saw that it is highly correlated with the target variable.\n",
    "\n",
    "Let's fix it. Drop the co_amount column from the training and test sets."
   ]
  },
  {
   "cell_type": "code",
   "execution_count": 42,
   "metadata": {
    "execution": {
     "iopub.execute_input": "2021-10-26T04:56:54.994579Z",
     "iopub.status.busy": "2021-10-26T04:56:54.994363Z",
     "iopub.status.idle": "2021-10-26T04:56:55.003714Z",
     "shell.execute_reply": "2021-10-26T04:56:55.002886Z",
     "shell.execute_reply.started": "2021-10-26T04:56:54.994551Z"
    },
    "tags": []
   },
   "outputs": [],
   "source": [
    "X_train = X_train.drop(columns='co_amount')\n",
    "X_test = X_test.drop(columns='co_amount')"
   ]
  },
  {
   "cell_type": "markdown",
   "metadata": {},
   "source": [
    "Good, now let's retrain and see what we get. Fit the model to the new training set (without co_amount) and assess its performance, as above."
   ]
  },
  {
   "cell_type": "code",
   "execution_count": 43,
   "metadata": {
    "execution": {
     "iopub.execute_input": "2021-10-26T04:56:55.005068Z",
     "iopub.status.busy": "2021-10-26T04:56:55.004844Z",
     "iopub.status.idle": "2021-10-26T04:56:55.178896Z",
     "shell.execute_reply": "2021-10-26T04:56:55.178136Z",
     "shell.execute_reply.started": "2021-10-26T04:56:55.005040Z"
    },
    "tags": []
   },
   "outputs": [
    {
     "data": {
      "text/plain": [
       "0.8008546159197059"
      ]
     },
     "execution_count": 43,
     "metadata": {},
     "output_type": "execute_result"
    }
   ],
   "source": [
    "pp.fit(X_train, y_train)\n",
    "preds = pp.predict(X_test)\n",
    "metrics.accuracy_score(y_test, preds)"
   ]
  },
  {
   "cell_type": "markdown",
   "metadata": {},
   "source": [
    "80% accuracy sure seems like a good start. HOWEVER, we saw that there are ~20% charge offs, so a model that predicts all False would essentially perform the same.\n",
    "Let's look at a confusion matrix of our predictions vs. the true labels, to see if this is the case. Create a confusion matrix using `sklearn.metrics.plot_confusion_matrix`."
   ]
  },
  {
   "cell_type": "code",
   "execution_count": 44,
   "metadata": {
    "execution": {
     "iopub.execute_input": "2021-10-26T04:56:55.180175Z",
     "iopub.status.busy": "2021-10-26T04:56:55.179959Z",
     "iopub.status.idle": "2021-10-26T04:56:55.386310Z",
     "shell.execute_reply": "2021-10-26T04:56:55.385539Z",
     "shell.execute_reply.started": "2021-10-26T04:56:55.180147Z"
    },
    "tags": []
   },
   "outputs": [
    {
     "data": {
      "text/plain": [
       "<sklearn.metrics._plot.confusion_matrix.ConfusionMatrixDisplay at 0x7fa3bc121880>"
      ]
     },
     "execution_count": 44,
     "metadata": {},
     "output_type": "execute_result"
    },
    {
     "data": {
      "image/png": "[encoded data removed]",
      "text/plain": [
       "<Figure size 432x288 with 2 Axes>"
      ]
     },
     "metadata": {},
     "output_type": "display_data"
    }
   ],
   "source": [
    "metrics.plot_confusion_matrix(pp, X_test, y_test,\n",
    "                             cmap=plt.cm.Blues)"
   ]
  },
  {
   "cell_type": "markdown",
   "metadata": {},
   "source": [
    "Yes, so it seems that our model predicts pretty much all as non-CO. In fact, let's compare to **really** \n",
    "predicting non-CO for all loans:"
   ]
  },
  {
   "cell_type": "code",
   "execution_count": 45,
   "metadata": {
    "execution": {
     "iopub.execute_input": "2021-10-26T04:56:55.387603Z",
     "iopub.status.busy": "2021-10-26T04:56:55.387384Z",
     "iopub.status.idle": "2021-10-26T04:56:55.395668Z",
     "shell.execute_reply": "2021-10-26T04:56:55.394770Z",
     "shell.execute_reply.started": "2021-10-26T04:56:55.387575Z"
    },
    "tags": []
   },
   "outputs": [
    {
     "data": {
      "text/plain": [
       "0.8022458511378316"
      ]
     },
     "execution_count": 45,
     "metadata": {},
     "output_type": "execute_result"
    }
   ],
   "source": [
    "metrics.accuracy_score(y_test, [False] * len(y_test))"
   ]
  },
  {
   "cell_type": "markdown",
   "metadata": {},
   "source": [
    "Looks like even the accuracy of always predicting False is almost as good as our model. This is not great.."
   ]
  },
  {
   "cell_type": "markdown",
   "metadata": {},
   "source": [
    "Moreover, **and this is very important**, in our case not all errors are equally important. A loan with 5% interest rate will yield ~16% of the original loan amount after 3 years ($(1+0.05)^3 -1 = 15.8$), if it repays in full. However, a loan that COs could cost us up to 100%! Therefore, it is **much more important** for us to correctly identify CO's than non-CO's."
   ]
  },
  {
   "cell_type": "markdown",
   "metadata": {},
   "source": [
    "Let's see how the accuracy looks if we weighted the COs as 5x (and it is plausible to give it even higher weights). Use `skelearn.metrics.accuracy_score`'s sample_weight parameter to add a weight of 5 to each True prediction of the model."
   ]
  },
  {
   "cell_type": "code",
   "execution_count": 46,
   "metadata": {
    "execution": {
     "iopub.execute_input": "2021-10-26T04:56:55.396925Z",
     "iopub.status.busy": "2021-10-26T04:56:55.396713Z",
     "iopub.status.idle": "2021-10-26T04:56:55.404521Z",
     "shell.execute_reply": "2021-10-26T04:56:55.403733Z",
     "shell.execute_reply.started": "2021-10-26T04:56:55.396898Z"
    },
    "tags": []
   },
   "outputs": [
    {
     "data": {
      "text/plain": [
       "0.46912278754924264"
      ]
     },
     "execution_count": 46,
     "metadata": {},
     "output_type": "execute_result"
    }
   ],
   "source": [
    "metrics.accuracy_score(y_test, preds, sample_weight=(1 + y_test * 4))"
   ]
  },
  {
   "cell_type": "markdown",
   "metadata": {},
   "source": [
    "## Using a weighted model"
   ]
  },
  {
   "cell_type": "markdown",
   "metadata": {},
   "source": [
    "Of course, the lower accuracy score in the last section is not the model's fault, because we didn't train it to predict with sample weights. But we can retrain the model and give COs higher weights then non-CO loans - let's see what that looks like"
   ]
  },
  {
   "cell_type": "markdown",
   "metadata": {},
   "source": [
    "Create a linear regerssion model as above with a weight of 5 to each CO loan and 1 for non-CO loans. You can use `sklearn.linear_model.LogisticRegression`'s class_weights parameter for this."
   ]
  },
  {
   "cell_type": "code",
   "execution_count": 47,
   "metadata": {
    "execution": {
     "iopub.execute_input": "2021-10-26T04:56:55.405762Z",
     "iopub.status.busy": "2021-10-26T04:56:55.405547Z",
     "iopub.status.idle": "2021-10-26T04:56:55.559297Z",
     "shell.execute_reply": "2021-10-26T04:56:55.558546Z",
     "shell.execute_reply.started": "2021-10-26T04:56:55.405735Z"
    },
    "tags": []
   },
   "outputs": [
    {
     "data": {
      "text/plain": [
       "Pipeline(steps=[('scaling', StandardScaler()),\n",
       "                ('lr', LogisticRegression(max_iter=500, penalty='none'))])"
      ]
     },
     "execution_count": 47,
     "metadata": {},
     "output_type": "execute_result"
    }
   ],
   "source": [
    "ss5 = StandardScaler()\n",
    "lr5 = LogisticRegression(max_iter=500, penalty='none')\n",
    "pp5 = Pipeline([('scaling', ss5), ('lr', lr5)])\n",
    "pp5.fit(X_train, y_train, lr__sample_weight=(1 + y_train * 4))"
   ]
  },
  {
   "cell_type": "markdown",
   "metadata": {},
   "source": [
    "What is the model's accuracy score?"
   ]
  },
  {
   "cell_type": "code",
   "execution_count": 48,
   "metadata": {
    "execution": {
     "iopub.execute_input": "2021-10-26T04:56:55.560604Z",
     "iopub.status.busy": "2021-10-26T04:56:55.560390Z",
     "iopub.status.idle": "2021-10-26T04:56:55.730141Z",
     "shell.execute_reply": "2021-10-26T04:56:55.729404Z",
     "shell.execute_reply.started": "2021-10-26T04:56:55.560577Z"
    },
    "tags": []
   },
   "outputs": [
    {
     "data": {
      "text/plain": [
       "0.6566054485934639"
      ]
     },
     "execution_count": 48,
     "metadata": {},
     "output_type": "execute_result"
    }
   ],
   "source": [
    "pp5.fit(X_train, y_train, lr__sample_weight=(1 + y_train * 4))\n",
    "preds = pp5.predict(X_test)\n",
    "metrics.accuracy_score(y_test, preds, sample_weight=(1 + y_test * 4))"
   ]
  },
  {
   "cell_type": "markdown",
   "metadata": {},
   "source": [
    "Let's see the precentage of false positive and true negatives using a confusion matrix."
   ]
  },
  {
   "cell_type": "code",
   "execution_count": 49,
   "metadata": {
    "execution": {
     "iopub.execute_input": "2021-10-26T04:56:55.731420Z",
     "iopub.status.busy": "2021-10-26T04:56:55.731205Z",
     "iopub.status.idle": "2021-10-26T04:56:55.950127Z",
     "shell.execute_reply": "2021-10-26T04:56:55.949351Z",
     "shell.execute_reply.started": "2021-10-26T04:56:55.731393Z"
    },
    "tags": []
   },
   "outputs": [
    {
     "data": {
      "text/plain": [
       "<sklearn.metrics._plot.confusion_matrix.ConfusionMatrixDisplay at 0x7fa3bc060190>"
      ]
     },
     "execution_count": 49,
     "metadata": {},
     "output_type": "execute_result"
    },
    {
     "data": {
      "image/png": "[encoded data removed]",
      "text/plain": [
       "<Figure size 432x288 with 2 Axes>"
      ]
     },
     "metadata": {},
     "output_type": "display_data"
    }
   ],
   "source": [
    "metrics.plot_confusion_matrix(pp5, X_test, y_test,\n",
    "                             cmap=plt.cm.Blues)"
   ]
  },
  {
   "cell_type": "markdown",
   "metadata": {},
   "source": [
    "Looks like our model now predicts many more loans as CO than before. Now that we see that changing the weights improve desirable properties of the model, how do we know how to find the *optimal* weights? In fact, in our case we might be able to bypass this problem.\n",
    "\n",
    "Our logistic regression model predicts the probability of each loan charging off and, by default, flags the loan as CO if it has more than 50% probability of charging off (and non-CO otherwise). Instead of trying various weights and seeing which loans have a probability > 0.5 under these weights, we can decide to label a loan as CO even for a predicted 25%. Or 10%. Or any other threshold. We can then plot the Reciever-Operator Curve (ROC) which tells us the TPR (True Positive Rate) vs. FPR (False Positive Rate) induced by each choice of threshold."
   ]
  },
  {
   "cell_type": "markdown",
   "metadata": {},
   "source": [
    "First, in order to see that, indeed, changing the weights is equivalent to changing the threshold instead, let's plot the predicted probabilities for the unwighted model compared with the weighted model and look at the correlation of predictions for both models. \n",
    "To obtain the predicted probabilities (instead of the T/F prediction) use the models' predict_proba attribute."
   ]
  },
  {
   "cell_type": "markdown",
   "metadata": {},
   "source": [
    "Create a scatter plot of the predicted probabilities of the unweighted model vs those of the weighted model."
   ]
  },
  {
   "cell_type": "code",
   "execution_count": 60,
   "metadata": {
    "execution": {
     "iopub.execute_input": "2021-10-26T04:57:37.707271Z",
     "iopub.status.busy": "2021-10-26T04:57:37.706970Z",
     "iopub.status.idle": "2021-10-26T04:57:37.959173Z",
     "shell.execute_reply": "2021-10-26T04:57:37.958218Z",
     "shell.execute_reply.started": "2021-10-26T04:57:37.707241Z"
    },
    "tags": []
   },
   "outputs": [
    {
     "name": "stderr",
     "output_type": "stream",
     "text": [
      "/root/wd/venv/lib/python3.8/site-packages/seaborn/_decorators.py:36: FutureWarning: Pass the following variables as keyword args: x, y. From version 0.12, the only valid positional argument will be `data`, and passing other arguments without an explicit keyword will result in an error or misinterpretation.\n",
      "  warnings.warn(\n"
     ]
    },
    {
     "data": {
      "text/plain": [
       "<AxesSubplot:>"
      ]
     },
     "execution_count": 60,
     "metadata": {},
     "output_type": "execute_result"
    },
    {
     "data": {
      "image/png": "[encoded data removed]",
      "text/plain": [
       "<Figure size 432x288 with 1 Axes>"
      ]
     },
     "metadata": {},
     "output_type": "display_data"
    }
   ],
   "source": [
    "sns.scatterplot(pp.predict_proba(X_test)[:, 1], pp5.predict_proba(X_test)[:, 1])"
   ]
  },
  {
   "cell_type": "markdown",
   "metadata": {},
   "source": [
    "Compute the Spearman rank correlation between the predicted probabilities of the two models. A Spearman correlation is a good choice for this type of comparison, because it evaluates the degree to which the models agree about ranking the loans with respect to their probability of CO."
   ]
  },
  {
   "cell_type": "code",
   "execution_count": 51,
   "metadata": {
    "execution": {
     "iopub.execute_input": "2021-10-26T04:56:56.277508Z",
     "iopub.status.busy": "2021-10-26T04:56:56.277293Z",
     "iopub.status.idle": "2021-10-26T04:56:56.295623Z",
     "shell.execute_reply": "2021-10-26T04:56:56.294772Z",
     "shell.execute_reply.started": "2021-10-26T04:56:56.277480Z"
    },
    "tags": []
   },
   "outputs": [
    {
     "data": {
      "text/plain": [
       "SpearmanrResult(correlation=0.9993877246271126, pvalue=0.0)"
      ]
     },
     "execution_count": 51,
     "metadata": {},
     "output_type": "execute_result"
    }
   ],
   "source": [
    "from scipy.stats import spearmanr\n",
    "spearmanr(pp.predict_proba(X_test)[:, 1], pp5.predict_proba(X_test)[:, 1])"
   ]
  },
  {
   "cell_type": "markdown",
   "metadata": {},
   "source": [
    "Cool, so we indeed get very good correlation"
   ]
  },
  {
   "cell_type": "markdown",
   "metadata": {},
   "source": [
    "Now let's look at the ROC of this model. Use `sklearn.metrics.plot_roc_curve` to create a ROC of the first (unweighted) model."
   ]
  },
  {
   "cell_type": "code",
   "execution_count": 61,
   "metadata": {
    "execution": {
     "iopub.execute_input": "2021-10-26T04:58:10.961702Z",
     "iopub.status.busy": "2021-10-26T04:58:10.961400Z",
     "iopub.status.idle": "2021-10-26T04:58:11.176403Z",
     "shell.execute_reply": "2021-10-26T04:58:11.175576Z",
     "shell.execute_reply.started": "2021-10-26T04:58:10.961672Z"
    },
    "tags": []
   },
   "outputs": [
    {
     "data": {
      "text/plain": [
       "<sklearn.metrics._plot.roc_curve.RocCurveDisplay at 0x7fa3c61eb790>"
      ]
     },
     "execution_count": 61,
     "metadata": {},
     "output_type": "execute_result"
    },
    {
     "data": {
      "image/png": "[encoded data removed]",
      "text/plain": [
       "<Figure size 432x288 with 1 Axes>"
      ]
     },
     "metadata": {},
     "output_type": "display_data"
    }
   ],
   "source": [
    "metrics.plot_roc_curve(pp, X_test, y_test)"
   ]
  },
  {
   "cell_type": "markdown",
   "metadata": {},
   "source": [
    "Now we know what our options are for trading-off FPR and TPR. The question remains - how do we know which tradeoffs are reasonable?\n",
    "In our case there are other metrics we can use in order to test our model's performance. Our main goal for training this model is to maximize returns, so it makes sense to evaluate the performance of the model by measuring the performance of our portfolio. We will use [IRR](https://www.investopedia.com/terms/i/irr.asp) to measure the portfolio's yield."
   ]
  },
  {
   "cell_type": "markdown",
   "metadata": {
    "tags": []
   },
   "source": [
    "# Computing IRR of different portfolios"
   ]
  },
  {
   "cell_type": "markdown",
   "metadata": {},
   "source": [
    "In order to compute the IRR of our portfolio we need to get the cashflow (i.e. the payments made for each loan) for our portfolion. We have provided you with a dataframe of precalculated cashflows indexed according to your data."
   ]
  },
  {
   "cell_type": "code",
   "execution_count": null,
   "metadata": {},
   "outputs": [],
   "source": [
    "cashflows = pd.read_parquet(os.path.join(ASSIGNMENT4_DATA,\"prosper_cashflows.parquet\"))"
   ]
  },
  {
   "cell_type": "markdown",
   "metadata": {},
   "source": [
    "The following function receives a dataframe of cashflows and a list of indices and returns the IRR of the portfolio given by these indices."
   ]
  },
  {
   "cell_type": "code",
   "execution_count": 62,
   "metadata": {
    "execution": {
     "iopub.execute_input": "2021-10-26T05:00:13.655207Z",
     "iopub.status.busy": "2021-10-26T05:00:13.654923Z",
     "iopub.status.idle": "2021-10-26T05:00:13.659871Z",
     "shell.execute_reply": "2021-10-26T05:00:13.659084Z",
     "shell.execute_reply.started": "2021-10-26T05:00:13.655177Z"
    },
    "tags": []
   },
   "outputs": [],
   "source": [
    "import numpy_financial as npf\n",
    "def get_portfolio_irr(cashflows, indices):\n",
    "    \"\"\"\n",
    "    cashflows- a dataframe of cashflows \n",
    "    indices- pd.Series of T/F or a list of indices\n",
    "    \n",
    "    output: the yearly irr of the dataframe cashflows.loc[indices]\n",
    "    \"\"\"\n",
    "    return (((npf.irr(cashflows.loc[indices].sum()) + 1) ** 12) - 1) * 100"
   ]
  },
  {
   "cell_type": "markdown",
   "metadata": {},
   "source": [
    "Compute the IRR of the test set:"
   ]
  },
  {
   "cell_type": "code",
   "execution_count": 54,
   "metadata": {
    "execution": {
     "iopub.execute_input": "2021-10-26T04:56:56.727015Z",
     "iopub.status.busy": "2021-10-26T04:56:56.726805Z",
     "iopub.status.idle": "2021-10-26T04:56:56.752931Z",
     "shell.execute_reply": "2021-10-26T04:56:56.752124Z",
     "shell.execute_reply.started": "2021-10-26T04:56:56.726988Z"
    },
    "tags": []
   },
   "outputs": [
    {
     "data": {
      "text/plain": [
       "3.7532037087969483"
      ]
     },
     "execution_count": 54,
     "metadata": {},
     "output_type": "execute_result"
    }
   ],
   "source": [
    "get_portfolio_irr(y_test)"
   ]
  },
  {
   "cell_type": "markdown",
   "metadata": {},
   "source": [
    "Now compute the IRR of all the loans in the test set which were predicted as non-CO:"
   ]
  },
  {
   "cell_type": "code",
   "execution_count": 55,
   "metadata": {
    "execution": {
     "iopub.execute_input": "2021-10-26T04:56:56.754200Z",
     "iopub.status.busy": "2021-10-26T04:56:56.753987Z",
     "iopub.status.idle": "2021-10-26T04:56:56.778334Z",
     "shell.execute_reply": "2021-10-26T04:56:56.777468Z",
     "shell.execute_reply.started": "2021-10-26T04:56:56.754172Z"
    },
    "tags": []
   },
   "outputs": [
    {
     "data": {
      "text/plain": [
       "4.026528852144984"
      ]
     },
     "execution_count": 55,
     "metadata": {},
     "output_type": "execute_result"
    }
   ],
   "source": [
    "get_portfolio_irr(y_test.loc[~pp.predict(X_test)])"
   ]
  },
  {
   "cell_type": "markdown",
   "metadata": {},
   "source": [
    "This is a small improvement, let's see what the x5 weights model looks like:"
   ]
  },
  {
   "cell_type": "code",
   "execution_count": 56,
   "metadata": {
    "execution": {
     "iopub.execute_input": "2021-10-26T04:56:56.779626Z",
     "iopub.status.busy": "2021-10-26T04:56:56.779417Z",
     "iopub.status.idle": "2021-10-26T04:56:56.798452Z",
     "shell.execute_reply": "2021-10-26T04:56:56.797582Z",
     "shell.execute_reply.started": "2021-10-26T04:56:56.779599Z"
    },
    "tags": []
   },
   "outputs": [
    {
     "data": {
      "text/plain": [
       "5.7902928861723435"
      ]
     },
     "execution_count": 56,
     "metadata": {},
     "output_type": "execute_result"
    }
   ],
   "source": [
    "get_portfolio_irr(y_test.loc[~pp5.predict(X_test)])"
   ]
  },
  {
   "cell_type": "markdown",
   "metadata": {},
   "source": [
    "This is a HUGE improvement! However, we haven't considered how much we had to reduce our volume to reach this return. Let's see what the effect is- compute the percentage of loans for the x5 weights model which managed are flagged as non-CO"
   ]
  },
  {
   "cell_type": "code",
   "execution_count": 57,
   "metadata": {
    "execution": {
     "iopub.execute_input": "2021-10-26T04:56:56.799768Z",
     "iopub.status.busy": "2021-10-26T04:56:56.799554Z",
     "iopub.status.idle": "2021-10-26T04:56:56.805317Z",
     "shell.execute_reply": "2021-10-26T04:56:56.804496Z",
     "shell.execute_reply.started": "2021-10-26T04:56:56.799740Z"
    },
    "tags": []
   },
   "outputs": [
    {
     "data": {
      "text/plain": [
       "0.48057239391831463"
      ]
     },
     "execution_count": 57,
     "metadata": {},
     "output_type": "execute_result"
    }
   ],
   "source": [
    "(~preds).mean()"
   ]
  },
  {
   "cell_type": "markdown",
   "metadata": {},
   "source": [
    "So this cost us giving up more than 50% of the portfolio. \n",
    "\n",
    "If we have a given amount of money we want to invest we might be willing to settle for a slightly lower return in order to increase the amount of money yielding this return. We can make a plot similar to the ROC, but trading off the IRR on the y-axis and the deployed volume on the x-axis. This will allow us to evaluate these metrics, and interpret them from a buisness standpoint."
   ]
  },
  {
   "cell_type": "markdown",
   "metadata": {},
   "source": [
    "Let's have a closer look at this trade-off. Use the model's predict_proba attribute to find the set of loans which pass a threshold of 5%, 10%, 15%, ... 95%. For each such set, compute its volume (i.e. sum over loan_amnt) and its IRR. Create a curve which shows the volume vs IRR of each choice of threshold."
   ]
  },
  {
   "cell_type": "code",
   "execution_count": 58,
   "metadata": {
    "execution": {
     "iopub.execute_input": "2021-10-26T04:56:56.806604Z",
     "iopub.status.busy": "2021-10-26T04:56:56.806390Z",
     "iopub.status.idle": "2021-10-26T04:56:56.871281Z",
     "shell.execute_reply": "2021-10-26T04:56:56.870242Z",
     "shell.execute_reply.started": "2021-10-26T04:56:56.806576Z"
    },
    "tags": []
   },
   "outputs": [],
   "source": [
    "bins = pd.qcut(pp.predict_proba(X_test)[:, 1], 25)\n",
    "irrs = (((cashflows.loc[y_test.index].groupby(bins).sum().cumsum().apply(npf.irr, axis=1) + 1) ** 12) - 1) * 100\n",
    "volumes = (-cashflows.loc[y_test.index, 'loan_amnt'].groupby(bins).sum().cumsum())"
   ]
  },
  {
   "cell_type": "code",
   "execution_count": 59,
   "metadata": {
    "execution": {
     "iopub.execute_input": "2021-10-26T04:56:56.872719Z",
     "iopub.status.busy": "2021-10-26T04:56:56.872510Z",
     "iopub.status.idle": "2021-10-26T04:56:57.056818Z",
     "shell.execute_reply": "2021-10-26T04:56:57.055828Z",
     "shell.execute_reply.started": "2021-10-26T04:56:56.872692Z"
    },
    "tags": []
   },
   "outputs": [
    {
     "data": {
      "image/png": "[encoded data removed]",
      "text/plain": [
       "<Figure size 432x288 with 1 Axes>"
      ]
     },
     "metadata": {},
     "output_type": "display_data"
    }
   ],
   "source": [
    "sns.scatterplot(x=volumes / 1_000_000, y=irrs)\n",
    "plt.xlabel('volume (MM$)');\n",
    "plt.ylabel('IRR');"
   ]
  },
  {
   "cell_type": "markdown",
   "metadata": {},
   "source": [
    "Now this graph shows us the tradeoff between the return and the deployed volume. Given this graph we are left with the buisness question of where along this tradeoff we wish to be, which will determine the threshold we should choose."
   ]
  },
  {
   "cell_type": "markdown",
   "metadata": {
    "heading_collapsed": "true",
    "tags": []
   },
   "source": [
    "# Now share your model "
   ]
  },
  {
   "cell_type": "markdown",
   "metadata": {},
   "source": [
    "Now that your model is ready, it's time to create a package which streamlines it's usage.\n",
    "Do the following:\n",
    "* Inside the `pagayapro` repo, create a branch called `feature/{your_names}/co_classifier/`\n",
    "* Inside `~/pagayapro/assignment3/`, create a folder called `models/{your_names}/` and in it a python package which contains a class for the model (you may choose the class's name). The class should have the attributes `fit`, `predict` and `predict_proba`.\n",
    "* The attribute `fit` should accept two variable, X and y, preprocess them according to the steps you've undertaken in this notebook and fit a logistic regression model to the preprocessed data.\n",
    "* The attribute `predict` should accept a test set X_test, preprocess it accrodingly, and return an array of boolean prediction for each row of X_test- True for CO and False for non-CO. The attribute `predict_proba` return the predicted probability of each row.\n",
    "* Once you package is ready, push it to the repo. Ask your mentor for a review. Once the review is complete, rebase and merge your package to the repo."
   ]
  },
  {
   "cell_type": "markdown",
   "metadata": {
    "tags": []
   },
   "source": [
    "# One last remark"
   ]
  },
  {
   "cell_type": "markdown",
   "metadata": {},
   "source": [
    "An important thing we ignored in this exercise is that increased risk is not necessarily a bad thing, as a higher interest rate could compensate for it, with a premium. A portfolio that has 10% CO might be better than one that has 5% CO, if the average interest rate of the former is 20% and 10% for the latter. In the next assignment, we will attempt to use this observation to further improve our ability to choose a good portfolio."
   ]
  }
 ],
 "metadata": {
  "kernelspec": {
   "display_name": "Python 3",
   "language": "python",
   "name": "python3"
  },
  "language_info": {
   "codemirror_mode": {
    "name": "ipython",
    "version": 3
   },
   "file_extension": ".py",
   "mimetype": "text/x-python",
   "name": "python",
   "nbconvert_exporter": "python",
   "pygments_lexer": "ipython3",
   "version": "3.8.12"
  },
  "toc-autonumbering": true
 },
 "nbformat": 4,
 "nbformat_minor": 4
}
